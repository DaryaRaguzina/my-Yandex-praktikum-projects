{
  "cells": [
    {
      "cell_type": "markdown",
      "metadata": {
        "toc": true,
        "id": "G2hu3oEbJfM8"
      },
      "source": [
        "<h1>Содержание<span class=\"tocSkip\"></span></h1>\n",
        "<div class=\"toc\"><ul class=\"toc-item\"><li><span><a href=\"#Подготовка-данных\" data-toc-modified-id=\"Подготовка-данных-1\"><span class=\"toc-item-num\">1&nbsp;&nbsp;</span>Подготовка данных</a></span></li><li><span><a href=\"#Исследование-задачи\" data-toc-modified-id=\"Исследование-задачи-2\"><span class=\"toc-item-num\">2&nbsp;&nbsp;</span>Исследование задачи</a></span><ul class=\"toc-item\"><li><span><a href=\"#Логистическая-регрессия\" data-toc-modified-id=\"Логистическая-регрессия-2.1\"><span class=\"toc-item-num\">2.1&nbsp;&nbsp;</span>Логистическая регрессия</a></span></li><li><span><a href=\"#Случайный-лес\" data-toc-modified-id=\"Случайный-лес-2.2\"><span class=\"toc-item-num\">2.2&nbsp;&nbsp;</span>Случайный лес</a></span></li><li><span><a href=\"#Дерево-решений\" data-toc-modified-id=\"Дерево-решений-2.3\"><span class=\"toc-item-num\">2.3&nbsp;&nbsp;</span>Дерево решений</a></span></li></ul></li><li><span><a href=\"#Борьба-с-дисбалансом\" data-toc-modified-id=\"Борьба-с-дисбалансом-3\"><span class=\"toc-item-num\">3&nbsp;&nbsp;</span>Борьба с дисбалансом</a></span></li><li><span><a href=\"#Тестирование-модели\" data-toc-modified-id=\"Тестирование-модели-4\"><span class=\"toc-item-num\">4&nbsp;&nbsp;</span>Тестирование модели</a></span></li><li><span><a href=\"#Чек-лист-готовности-проекта\" data-toc-modified-id=\"Чек-лист-готовности-проекта-5\"><span class=\"toc-item-num\">5&nbsp;&nbsp;</span>Чек-лист готовности проекта</a></span></li></ul></div>"
      ]
    },
    {
      "cell_type": "markdown",
      "metadata": {
        "id": "fHenj9imJfM_"
      },
      "source": [
        "# Отток клиентов"
      ]
    },
    {
      "cell_type": "markdown",
      "metadata": {
        "id": "PLmvR9FpJfNA"
      },
      "source": [
        "Из «Бета-Банка» стали уходить клиенты. Каждый месяц. Немного, но заметно. Банковские маркетологи посчитали: сохранять текущих клиентов дешевле, чем привлекать новых.\n",
        "\n",
        "Нужно спрогнозировать, уйдёт клиент из банка в ближайшее время или нет. Вам предоставлены исторические данные о поведении клиентов и расторжении договоров с банком. \n",
        "\n",
        "Постройте модель с предельно большим значением *F1*-меры. Чтобы сдать проект успешно, нужно довести метрику до 0.59. Проверьте *F1*-меру на тестовой выборке самостоятельно.\n",
        "\n",
        "Дополнительно измеряйте *AUC-ROC*, сравнивайте её значение с *F1*-мерой.\n",
        "\n",
        "Источник данных: [https://www.kaggle.com/barelydedicated/bank-customer-churn-modeling](https://www.kaggle.com/barelydedicated/bank-customer-churn-modeling)"
      ]
    },
    {
      "cell_type": "markdown",
      "metadata": {
        "id": "CbOY68RDJfNB"
      },
      "source": [
        "**Описание данных**\n",
        "\n",
        "**Признаки:**\n",
        "\n",
        "RowNumber — индекс строки в данных\n",
        "\n",
        "СustomerId — уникальный идентификатор клиента\n",
        "\n",
        "Surname — фамилия\n",
        "\n",
        "CreditScore — кредитный рейтинг\n",
        "\n",
        "Geography — страна проживания\n",
        "\n",
        "Gender — пол\n",
        "\n",
        "Age — возраст\n",
        "\n",
        "Tenure — сколько лет человек является клиентом банка\n",
        "\n",
        "Balance — баланс на счёте\n",
        "\n",
        "NumOfProducts — количество продуктов банка, используемых клиентом\n",
        "\n",
        "HasCrCard — наличие кредитной карты\n",
        "\n",
        "IsActiveMember — активность клиента\n",
        "\n",
        "EstimatedSalary — предполагаемая зарплата\n",
        "\n",
        "**Целевой признак**\n",
        "\n",
        "Exited — факт ухода клиента"
      ]
    },
    {
      "cell_type": "markdown",
      "metadata": {
        "id": "HiKL46cqJfNB"
      },
      "source": [
        "## Подготовка данных"
      ]
    },
    {
      "cell_type": "code",
      "execution_count": null,
      "metadata": {
        "id": "ChMhb22CJfNC"
      },
      "outputs": [],
      "source": [
        "import pandas as pd\n",
        "import numpy as np\n",
        "import random\n",
        "import matplotlib.pyplot as plt\n",
        "from sklearn.linear_model import LinearRegression\n",
        "from sklearn.metrics import mean_absolute_error\n",
        "from sklearn.ensemble import RandomForestClassifier\n",
        "from sklearn.tree import DecisionTreeClassifier\n",
        "from sklearn.linear_model import LogisticRegression\n",
        "from sklearn.preprocessing import StandardScaler\n",
        "from sklearn.model_selection import cross_val_score\n",
        "from sklearn.model_selection import KFold\n",
        "from sklearn.metrics import f1_score\n",
        "from sklearn.model_selection import train_test_split\n",
        "from sklearn.preprocessing import OrdinalEncoder\n",
        "from sklearn.utils import shuffle\n",
        "from sklearn.model_selection import GridSearchCV\n",
        "from sklearn.dummy import DummyClassifier\n",
        "from sklearn.metrics import roc_auc_score\n",
        "from sklearn.metrics import roc_curve\n",
        "from sklearn.metrics import accuracy_score\n",
        "from sklearn.metrics import recall_score\n",
        "from sklearn.pipeline import make_pipeline\n",
        "import warnings\n",
        "warnings.simplefilter(\"ignore\")"
      ]
    },
    {
      "cell_type": "code",
      "execution_count": null,
      "metadata": {
        "id": "OjH1Ai2pJfNF"
      },
      "outputs": [],
      "source": [
        "data = pd.read_csv('/datasets/Churn.csv')"
      ]
    },
    {
      "cell_type": "code",
      "execution_count": null,
      "metadata": {
        "id": "h_r1jYBrJfNG",
        "outputId": "20c816e1-1ef8-4d41-9226-8ccc787155a7"
      },
      "outputs": [
        {
          "data": {
            "text/html": [
              "<div>\n",
              "<style scoped>\n",
              "    .dataframe tbody tr th:only-of-type {\n",
              "        vertical-align: middle;\n",
              "    }\n",
              "\n",
              "    .dataframe tbody tr th {\n",
              "        vertical-align: top;\n",
              "    }\n",
              "\n",
              "    .dataframe thead th {\n",
              "        text-align: right;\n",
              "    }\n",
              "</style>\n",
              "<table border=\"1\" class=\"dataframe\">\n",
              "  <thead>\n",
              "    <tr style=\"text-align: right;\">\n",
              "      <th></th>\n",
              "      <th>RowNumber</th>\n",
              "      <th>CustomerId</th>\n",
              "      <th>Surname</th>\n",
              "      <th>CreditScore</th>\n",
              "      <th>Geography</th>\n",
              "      <th>Gender</th>\n",
              "      <th>Age</th>\n",
              "      <th>Tenure</th>\n",
              "      <th>Balance</th>\n",
              "      <th>NumOfProducts</th>\n",
              "      <th>HasCrCard</th>\n",
              "      <th>IsActiveMember</th>\n",
              "      <th>EstimatedSalary</th>\n",
              "      <th>Exited</th>\n",
              "    </tr>\n",
              "  </thead>\n",
              "  <tbody>\n",
              "    <tr>\n",
              "      <th>0</th>\n",
              "      <td>1</td>\n",
              "      <td>15634602</td>\n",
              "      <td>Hargrave</td>\n",
              "      <td>619</td>\n",
              "      <td>France</td>\n",
              "      <td>Female</td>\n",
              "      <td>42</td>\n",
              "      <td>2.0</td>\n",
              "      <td>0.00</td>\n",
              "      <td>1</td>\n",
              "      <td>1</td>\n",
              "      <td>1</td>\n",
              "      <td>101348.88</td>\n",
              "      <td>1</td>\n",
              "    </tr>\n",
              "    <tr>\n",
              "      <th>1</th>\n",
              "      <td>2</td>\n",
              "      <td>15647311</td>\n",
              "      <td>Hill</td>\n",
              "      <td>608</td>\n",
              "      <td>Spain</td>\n",
              "      <td>Female</td>\n",
              "      <td>41</td>\n",
              "      <td>1.0</td>\n",
              "      <td>83807.86</td>\n",
              "      <td>1</td>\n",
              "      <td>0</td>\n",
              "      <td>1</td>\n",
              "      <td>112542.58</td>\n",
              "      <td>0</td>\n",
              "    </tr>\n",
              "    <tr>\n",
              "      <th>2</th>\n",
              "      <td>3</td>\n",
              "      <td>15619304</td>\n",
              "      <td>Onio</td>\n",
              "      <td>502</td>\n",
              "      <td>France</td>\n",
              "      <td>Female</td>\n",
              "      <td>42</td>\n",
              "      <td>8.0</td>\n",
              "      <td>159660.80</td>\n",
              "      <td>3</td>\n",
              "      <td>1</td>\n",
              "      <td>0</td>\n",
              "      <td>113931.57</td>\n",
              "      <td>1</td>\n",
              "    </tr>\n",
              "    <tr>\n",
              "      <th>3</th>\n",
              "      <td>4</td>\n",
              "      <td>15701354</td>\n",
              "      <td>Boni</td>\n",
              "      <td>699</td>\n",
              "      <td>France</td>\n",
              "      <td>Female</td>\n",
              "      <td>39</td>\n",
              "      <td>1.0</td>\n",
              "      <td>0.00</td>\n",
              "      <td>2</td>\n",
              "      <td>0</td>\n",
              "      <td>0</td>\n",
              "      <td>93826.63</td>\n",
              "      <td>0</td>\n",
              "    </tr>\n",
              "    <tr>\n",
              "      <th>4</th>\n",
              "      <td>5</td>\n",
              "      <td>15737888</td>\n",
              "      <td>Mitchell</td>\n",
              "      <td>850</td>\n",
              "      <td>Spain</td>\n",
              "      <td>Female</td>\n",
              "      <td>43</td>\n",
              "      <td>2.0</td>\n",
              "      <td>125510.82</td>\n",
              "      <td>1</td>\n",
              "      <td>1</td>\n",
              "      <td>1</td>\n",
              "      <td>79084.10</td>\n",
              "      <td>0</td>\n",
              "    </tr>\n",
              "  </tbody>\n",
              "</table>\n",
              "</div>"
            ],
            "text/plain": [
              "   RowNumber  CustomerId   Surname  CreditScore Geography  Gender  Age  \\\n",
              "0          1    15634602  Hargrave          619    France  Female   42   \n",
              "1          2    15647311      Hill          608     Spain  Female   41   \n",
              "2          3    15619304      Onio          502    France  Female   42   \n",
              "3          4    15701354      Boni          699    France  Female   39   \n",
              "4          5    15737888  Mitchell          850     Spain  Female   43   \n",
              "\n",
              "   Tenure    Balance  NumOfProducts  HasCrCard  IsActiveMember  \\\n",
              "0     2.0       0.00              1          1               1   \n",
              "1     1.0   83807.86              1          0               1   \n",
              "2     8.0  159660.80              3          1               0   \n",
              "3     1.0       0.00              2          0               0   \n",
              "4     2.0  125510.82              1          1               1   \n",
              "\n",
              "   EstimatedSalary  Exited  \n",
              "0        101348.88       1  \n",
              "1        112542.58       0  \n",
              "2        113931.57       1  \n",
              "3         93826.63       0  \n",
              "4         79084.10       0  "
            ]
          },
          "execution_count": 3,
          "metadata": {},
          "output_type": "execute_result"
        }
      ],
      "source": [
        "data.head()"
      ]
    },
    {
      "cell_type": "code",
      "execution_count": null,
      "metadata": {
        "scrolled": false,
        "id": "_3sx54baJfNH",
        "outputId": "50baa9e7-0867-41eb-aa4d-0d2891338f10"
      },
      "outputs": [
        {
          "name": "stdout",
          "output_type": "stream",
          "text": [
            "<class 'pandas.core.frame.DataFrame'>\n",
            "RangeIndex: 10000 entries, 0 to 9999\n",
            "Data columns (total 14 columns):\n",
            " #   Column           Non-Null Count  Dtype  \n",
            "---  ------           --------------  -----  \n",
            " 0   RowNumber        10000 non-null  int64  \n",
            " 1   CustomerId       10000 non-null  int64  \n",
            " 2   Surname          10000 non-null  object \n",
            " 3   CreditScore      10000 non-null  int64  \n",
            " 4   Geography        10000 non-null  object \n",
            " 5   Gender           10000 non-null  object \n",
            " 6   Age              10000 non-null  int64  \n",
            " 7   Tenure           9091 non-null   float64\n",
            " 8   Balance          10000 non-null  float64\n",
            " 9   NumOfProducts    10000 non-null  int64  \n",
            " 10  HasCrCard        10000 non-null  int64  \n",
            " 11  IsActiveMember   10000 non-null  int64  \n",
            " 12  EstimatedSalary  10000 non-null  float64\n",
            " 13  Exited           10000 non-null  int64  \n",
            "dtypes: float64(3), int64(8), object(3)\n",
            "memory usage: 1.1+ MB\n"
          ]
        }
      ],
      "source": [
        "data.info()"
      ]
    },
    {
      "cell_type": "markdown",
      "metadata": {
        "id": "lWBCTcEMJfNJ"
      },
      "source": [
        "Есть пропуски в столбце Tenure, заполним их.\n",
        "\n",
        "Также названия столбцов нужно исправить."
      ]
    },
    {
      "cell_type": "code",
      "execution_count": null,
      "metadata": {
        "id": "0_2nGDEoJfNK"
      },
      "outputs": [],
      "source": [
        "data.columns = data.columns.str.lower()"
      ]
    },
    {
      "cell_type": "code",
      "execution_count": null,
      "metadata": {
        "id": "6v_eHysZJfNK"
      },
      "outputs": [],
      "source": [
        "data = data.rename(columns={'rownumber':'row_number','customerid':'customer_id','creditscore':'credit_score', 'numofproducts':'num_of_products', 'hascrcard':'has_cr_card', 'isactivemember':'is_active_member', 'estimatedsalary':'estimated_salary'})"
      ]
    },
    {
      "cell_type": "code",
      "execution_count": null,
      "metadata": {
        "id": "2_qBotWCJfNL"
      },
      "outputs": [],
      "source": [
        "data['tenure']= data['tenure'].fillna(0)"
      ]
    },
    {
      "cell_type": "code",
      "execution_count": null,
      "metadata": {
        "id": "8G59GRvbJfNM",
        "outputId": "88026229-ad88-40a7-d073-a3ea60543786"
      },
      "outputs": [
        {
          "data": {
            "text/html": [
              "<div>\n",
              "<style scoped>\n",
              "    .dataframe tbody tr th:only-of-type {\n",
              "        vertical-align: middle;\n",
              "    }\n",
              "\n",
              "    .dataframe tbody tr th {\n",
              "        vertical-align: top;\n",
              "    }\n",
              "\n",
              "    .dataframe thead th {\n",
              "        text-align: right;\n",
              "    }\n",
              "</style>\n",
              "<table border=\"1\" class=\"dataframe\">\n",
              "  <thead>\n",
              "    <tr style=\"text-align: right;\">\n",
              "      <th></th>\n",
              "      <th>row_number</th>\n",
              "      <th>customer_id</th>\n",
              "      <th>surname</th>\n",
              "      <th>credit_score</th>\n",
              "      <th>geography</th>\n",
              "      <th>gender</th>\n",
              "      <th>age</th>\n",
              "      <th>tenure</th>\n",
              "      <th>balance</th>\n",
              "      <th>num_of_products</th>\n",
              "      <th>has_cr_card</th>\n",
              "      <th>is_active_member</th>\n",
              "      <th>estimated_salary</th>\n",
              "      <th>exited</th>\n",
              "    </tr>\n",
              "  </thead>\n",
              "  <tbody>\n",
              "    <tr>\n",
              "      <th>0</th>\n",
              "      <td>1</td>\n",
              "      <td>15634602</td>\n",
              "      <td>Hargrave</td>\n",
              "      <td>619</td>\n",
              "      <td>France</td>\n",
              "      <td>Female</td>\n",
              "      <td>42</td>\n",
              "      <td>2.0</td>\n",
              "      <td>0.00</td>\n",
              "      <td>1</td>\n",
              "      <td>1</td>\n",
              "      <td>1</td>\n",
              "      <td>101348.88</td>\n",
              "      <td>1</td>\n",
              "    </tr>\n",
              "    <tr>\n",
              "      <th>1</th>\n",
              "      <td>2</td>\n",
              "      <td>15647311</td>\n",
              "      <td>Hill</td>\n",
              "      <td>608</td>\n",
              "      <td>Spain</td>\n",
              "      <td>Female</td>\n",
              "      <td>41</td>\n",
              "      <td>1.0</td>\n",
              "      <td>83807.86</td>\n",
              "      <td>1</td>\n",
              "      <td>0</td>\n",
              "      <td>1</td>\n",
              "      <td>112542.58</td>\n",
              "      <td>0</td>\n",
              "    </tr>\n",
              "    <tr>\n",
              "      <th>2</th>\n",
              "      <td>3</td>\n",
              "      <td>15619304</td>\n",
              "      <td>Onio</td>\n",
              "      <td>502</td>\n",
              "      <td>France</td>\n",
              "      <td>Female</td>\n",
              "      <td>42</td>\n",
              "      <td>8.0</td>\n",
              "      <td>159660.80</td>\n",
              "      <td>3</td>\n",
              "      <td>1</td>\n",
              "      <td>0</td>\n",
              "      <td>113931.57</td>\n",
              "      <td>1</td>\n",
              "    </tr>\n",
              "    <tr>\n",
              "      <th>3</th>\n",
              "      <td>4</td>\n",
              "      <td>15701354</td>\n",
              "      <td>Boni</td>\n",
              "      <td>699</td>\n",
              "      <td>France</td>\n",
              "      <td>Female</td>\n",
              "      <td>39</td>\n",
              "      <td>1.0</td>\n",
              "      <td>0.00</td>\n",
              "      <td>2</td>\n",
              "      <td>0</td>\n",
              "      <td>0</td>\n",
              "      <td>93826.63</td>\n",
              "      <td>0</td>\n",
              "    </tr>\n",
              "    <tr>\n",
              "      <th>4</th>\n",
              "      <td>5</td>\n",
              "      <td>15737888</td>\n",
              "      <td>Mitchell</td>\n",
              "      <td>850</td>\n",
              "      <td>Spain</td>\n",
              "      <td>Female</td>\n",
              "      <td>43</td>\n",
              "      <td>2.0</td>\n",
              "      <td>125510.82</td>\n",
              "      <td>1</td>\n",
              "      <td>1</td>\n",
              "      <td>1</td>\n",
              "      <td>79084.10</td>\n",
              "      <td>0</td>\n",
              "    </tr>\n",
              "  </tbody>\n",
              "</table>\n",
              "</div>"
            ],
            "text/plain": [
              "   row_number  customer_id   surname  credit_score geography  gender  age  \\\n",
              "0           1     15634602  Hargrave           619    France  Female   42   \n",
              "1           2     15647311      Hill           608     Spain  Female   41   \n",
              "2           3     15619304      Onio           502    France  Female   42   \n",
              "3           4     15701354      Boni           699    France  Female   39   \n",
              "4           5     15737888  Mitchell           850     Spain  Female   43   \n",
              "\n",
              "   tenure    balance  num_of_products  has_cr_card  is_active_member  \\\n",
              "0     2.0       0.00                1            1                 1   \n",
              "1     1.0   83807.86                1            0                 1   \n",
              "2     8.0  159660.80                3            1                 0   \n",
              "3     1.0       0.00                2            0                 0   \n",
              "4     2.0  125510.82                1            1                 1   \n",
              "\n",
              "   estimated_salary  exited  \n",
              "0         101348.88       1  \n",
              "1         112542.58       0  \n",
              "2         113931.57       1  \n",
              "3          93826.63       0  \n",
              "4          79084.10       0  "
            ]
          },
          "execution_count": 8,
          "metadata": {},
          "output_type": "execute_result"
        }
      ],
      "source": [
        "data.head()"
      ]
    },
    {
      "cell_type": "code",
      "execution_count": null,
      "metadata": {
        "id": "iX__IIPBJfNM",
        "outputId": "8744aa51-f57a-4fdc-9bfe-13b887615825"
      },
      "outputs": [
        {
          "name": "stdout",
          "output_type": "stream",
          "text": [
            "<class 'pandas.core.frame.DataFrame'>\n",
            "RangeIndex: 10000 entries, 0 to 9999\n",
            "Data columns (total 14 columns):\n",
            " #   Column            Non-Null Count  Dtype  \n",
            "---  ------            --------------  -----  \n",
            " 0   row_number        10000 non-null  int64  \n",
            " 1   customer_id       10000 non-null  int64  \n",
            " 2   surname           10000 non-null  object \n",
            " 3   credit_score      10000 non-null  int64  \n",
            " 4   geography         10000 non-null  object \n",
            " 5   gender            10000 non-null  object \n",
            " 6   age               10000 non-null  int64  \n",
            " 7   tenure            10000 non-null  float64\n",
            " 8   balance           10000 non-null  float64\n",
            " 9   num_of_products   10000 non-null  int64  \n",
            " 10  has_cr_card       10000 non-null  int64  \n",
            " 11  is_active_member  10000 non-null  int64  \n",
            " 12  estimated_salary  10000 non-null  float64\n",
            " 13  exited            10000 non-null  int64  \n",
            "dtypes: float64(3), int64(8), object(3)\n",
            "memory usage: 1.1+ MB\n"
          ]
        }
      ],
      "source": [
        "data.info()"
      ]
    },
    {
      "cell_type": "code",
      "execution_count": null,
      "metadata": {
        "id": "4oL8dadBJfNP"
      },
      "outputs": [],
      "source": [
        "# Удаляем ненужные столбцы\n",
        "data.drop(['row_number', 'customer_id', 'surname'], axis=1, inplace=True)"
      ]
    },
    {
      "cell_type": "markdown",
      "metadata": {
        "id": "5T4f448-JfNW"
      },
      "source": [
        "## Исследование задачи"
      ]
    },
    {
      "cell_type": "markdown",
      "metadata": {
        "id": "4bkLfutGJfNZ"
      },
      "source": [
        "Разделим датасет на обучающую, валидационную и тестовую выборку в пропорции 3:1:1"
      ]
    },
    {
      "cell_type": "code",
      "execution_count": null,
      "metadata": {
        "id": "e8mwKQ6iJfNb"
      },
      "outputs": [],
      "source": [
        "# Создадим список категориальных входных признаков\n",
        "categorical = ['geography', 'gender']\n",
        "\n",
        "# Кодируем категориальные признаки\n",
        "data_ohe = pd.get_dummies(data, columns=categorical, drop_first=True)"
      ]
    },
    {
      "cell_type": "code",
      "execution_count": null,
      "metadata": {
        "id": "k1jFhWb4JfNl"
      },
      "outputs": [],
      "source": [
        "train, test = train_test_split(data_ohe, test_size=0.2, random_state=4444, stratify=data['exited'])"
      ]
    },
    {
      "cell_type": "code",
      "execution_count": null,
      "metadata": {
        "id": "M_pLcrW7JfNn",
        "outputId": "21bb4083-1544-4458-d91b-2930aefdba9c"
      },
      "outputs": [
        {
          "data": {
            "text/plain": [
              "Index(['credit_score', 'age', 'tenure', 'balance', 'num_of_products',\n",
              "       'has_cr_card', 'is_active_member', 'estimated_salary', 'exited',\n",
              "       'geography_Germany', 'geography_Spain', 'gender_Male'],\n",
              "      dtype='object')"
            ]
          },
          "execution_count": 13,
          "metadata": {},
          "output_type": "execute_result"
        }
      ],
      "source": [
        "train.columns"
      ]
    },
    {
      "cell_type": "code",
      "execution_count": null,
      "metadata": {
        "id": "JksblPn4JfNo"
      },
      "outputs": [],
      "source": [
        "target = train['exited']\n",
        "features = train.drop(['exited'], axis=1)\n",
        "\n",
        "features_train, features_valid, target_train, target_valid = train_test_split(features,\n",
        "                                target, test_size=0.2, random_state=4444, stratify=target)"
      ]
    },
    {
      "cell_type": "code",
      "execution_count": null,
      "metadata": {
        "id": "HFe9hatVJfNp"
      },
      "outputs": [],
      "source": [
        "numeric_column = ['credit_score', 'age', 'tenure', 'balance', 'num_of_products', \n",
        "                 'estimated_salary']\n",
        "\n",
        "scaler = StandardScaler()\n",
        "scaler.fit(features_train[numeric_column])\n",
        "\n",
        "features_train[numeric_column] = scaler.transform(features_train[numeric_column])\n",
        "features_valid[numeric_column] = scaler.transform(features_valid[numeric_column])"
      ]
    },
    {
      "cell_type": "code",
      "execution_count": null,
      "metadata": {
        "id": "cqw6TCMEJfNq"
      },
      "outputs": [],
      "source": [
        "model_score = pd.DataFrame(columns=['model_name', 'f1', 'auc_roc'])\n",
        "\n",
        "\n",
        "def print_and_add(df, name, f1, auc_roc): # вывод показателей и запись их в таблицу\n",
        "    print('best F1: {:.3f}'.format(f1))\n",
        "    print('best AUC-ROC: {:.3f}'.format(auc_roc))\n",
        "    return df.append({'model_name' : name, 'f1': f1, 'auc_roc': auc_roc},\n",
        "                              ignore_index=True)"
      ]
    },
    {
      "cell_type": "markdown",
      "metadata": {
        "id": "YF9nzEnmJfNr"
      },
      "source": [
        "### Логистическая регрессия"
      ]
    },
    {
      "cell_type": "code",
      "execution_count": null,
      "metadata": {
        "id": "jwgS6BpwJfNs",
        "outputId": "6c9b1468-2735-47f2-b779-f906475f26f8"
      },
      "outputs": [
        {
          "name": "stdout",
          "output_type": "stream",
          "text": [
            "best C: 0.03\n",
            "best F1: 0.288\n",
            "best AUC-ROC: 0.777\n"
          ]
        }
      ],
      "source": [
        "best_c = 0\n",
        "best_auc_roc = 0\n",
        "best_f1 = 0\n",
        "\n",
        "for c in np.arange(0.03, 0.045, 0.001):\n",
        "    model = LogisticRegression(random_state=4444, C=c, solver='liblinear')\n",
        "    model.fit(features_train, target_train)\n",
        "    predicted = model.predict(features_valid)\n",
        "    f1 = f1_score(target_valid, predicted)\n",
        "    if f1 > best_f1:\n",
        "        best_f1 = f1\n",
        "        best_c = c\n",
        "        probabilities = model.predict_proba(features_valid)\n",
        "        probabilities_one = probabilities[:,1]\n",
        "        best_auc_roc = roc_auc_score(target_valid, probabilities_one)\n",
        "print('best C: {:.2f}'.format(best_c))        \n",
        "model_score = print_and_add(model_score, 'LogisticRegression', best_f1, best_auc_roc)"
      ]
    },
    {
      "cell_type": "markdown",
      "metadata": {
        "id": "gytGsXsiJfNs"
      },
      "source": [
        "### Случайный лес"
      ]
    },
    {
      "cell_type": "code",
      "execution_count": null,
      "metadata": {
        "id": "9kAzDsFlJfNx",
        "outputId": "663d8869-b265-48cb-ab54-8fe5704bf8d5"
      },
      "outputs": [
        {
          "name": "stdout",
          "output_type": "stream",
          "text": [
            "best depth: 14\n",
            "best n_estimators: 159\n",
            "best F1: 0.604\n",
            "best AUC-ROC: 0.866\n"
          ]
        }
      ],
      "source": [
        "best_f1 = 0\n",
        "best_depth = 0\n",
        "best_auc_roc = 0\n",
        "best_est = 0\n",
        "\n",
        "for est in range(157, 160):    \n",
        "    for depth in range(12,15):    \n",
        "        model = RandomForestClassifier(random_state=4444, max_depth=depth, n_estimators=est)\n",
        "        model.fit(features_train, target_train)\n",
        "        predicted = model.predict(features_valid)\n",
        "        f1 = f1_score(target_valid, predicted) \n",
        "        if f1 > best_f1:\n",
        "            best_f1 = f1\n",
        "            best_depth = depth\n",
        "            best_est = est\n",
        "            probabilities = model.predict_proba(features_valid)\n",
        "            probabilities_one = probabilities[:,1]\n",
        "            best_auc_roc = roc_auc_score(target_valid, probabilities_one) \n",
        "print('best depth:', best_depth)\n",
        "print('best n_estimators:', est)\n",
        "model_score = print_and_add(model_score, 'RandomForestClassifier', best_f1, best_auc_roc)"
      ]
    },
    {
      "cell_type": "markdown",
      "metadata": {
        "id": "DCtnEvj7JfNy"
      },
      "source": [
        "### Дерево решений"
      ]
    },
    {
      "cell_type": "code",
      "execution_count": null,
      "metadata": {
        "id": "JjivVZaCJfNz",
        "outputId": "1a8a7369-654f-43e1-ff09-cef5195104ce"
      },
      "outputs": [
        {
          "name": "stdout",
          "output_type": "stream",
          "text": [
            "best depth: 14\n",
            "best F1: 0.544\n",
            "best AUC-ROC: 0.774\n"
          ]
        }
      ],
      "source": [
        "best_f1 = 0\n",
        "best_depth = 0\n",
        "best_auc_roc = 0\n",
        "for depth in range(11,15):    \n",
        "    model = DecisionTreeClassifier(random_state=4444, max_depth=depth)\n",
        "    model.fit(features_train, target_train)\n",
        "    predicted = model.predict(features_valid)\n",
        "    f1 = f1_score(target_valid, predicted) \n",
        "    if f1 > best_f1:\n",
        "        best_f1 = f1\n",
        "        best_depth = depth\n",
        "        probabilities = model.predict_proba(features_valid)\n",
        "        probabilities_one = probabilities[:,1]\n",
        "        best_auc_roc = roc_auc_score(target_valid, probabilities_one) \n",
        "print('best depth:', depth)\n",
        "\n",
        "model_score = print_and_add(model_score, 'DecisionTreeClassifier', best_f1, best_auc_roc)"
      ]
    },
    {
      "cell_type": "code",
      "execution_count": null,
      "metadata": {
        "id": "NA6iRAsvJfN0",
        "outputId": "77e6c6fc-8e3a-4861-fa00-e813afb19ee1"
      },
      "outputs": [
        {
          "data": {
            "text/plain": [
              "(array([0, 1, 2]),\n",
              " [Text(0, 0, 'LogisticRegression'),\n",
              "  Text(1, 0, 'RandomForestClassifier'),\n",
              "  Text(2, 0, 'DecisionTreeClassifier')])"
            ]
          },
          "execution_count": 20,
          "metadata": {},
          "output_type": "execute_result"
        },
        {
          "data": {
            "image/png": "[encoded data removed]",
            "text/plain": [
              "<Figure size 864x504 with 1 Axes>"
            ]
          },
          "metadata": {
            "needs_background": "light"
          },
          "output_type": "display_data"
        }
      ],
      "source": [
        "model_score.plot(x='model_name', kind='bar', figsize=(12,7), fontsize=14, grid=True,\n",
        "                 title='Сравнение метрик моделей' )\n",
        "plt.xticks(rotation=0)"
      ]
    },
    {
      "cell_type": "markdown",
      "metadata": {
        "id": "0BON4AylJfN3"
      },
      "source": [
        "Выявили дисбаланс классов целевого признака. С помощью модели логической регрессии, случайного леса и дерева решений получили значения F1-меры 0.29, 0.60 и 0,54 соответственно. Для того, чтобы модель пресказывала эти классы точнее - учтём дисбаланс классов."
      ]
    },
    {
      "cell_type": "markdown",
      "metadata": {
        "id": "psPpc65IJfN7"
      },
      "source": [
        "## Борьба с дисбалансом"
      ]
    },
    {
      "cell_type": "code",
      "execution_count": null,
      "metadata": {
        "id": "K9zBO18iJfN7"
      },
      "outputs": [],
      "source": [
        "balanced_model_score = pd.DataFrame(columns=['model_name', 'f1', 'auc_roc'])"
      ]
    },
    {
      "cell_type": "code",
      "execution_count": null,
      "metadata": {
        "id": "7S1neENxJfN7",
        "outputId": "51e35e4c-4564-440a-9d3f-5e9b09116ef7"
      },
      "outputs": [
        {
          "name": "stdout",
          "output_type": "stream",
          "text": [
            "best C: 0.032\n",
            "best F1: 0.513\n",
            "best AUC-ROC: 0.783\n"
          ]
        }
      ],
      "source": [
        "best_c = 0\n",
        "best_auc_roc = 0\n",
        "best_f1 = 0\n",
        "\n",
        "for c in np.arange(0.03, 0.05, 0.001):\n",
        "    model = LogisticRegression(random_state=4444, C=c, solver='liblinear',\n",
        "                               class_weight='balanced')\n",
        "    model.fit(features_train, target_train)\n",
        "    predicted = model.predict(features_valid)\n",
        "    f1 = f1_score(target_valid, predicted)\n",
        "    if f1 > best_f1:\n",
        "        best_f1 = f1\n",
        "        best_c = c\n",
        "        probabilities = model.predict_proba(features_valid)\n",
        "        probabilities_one = probabilities[:,1]\n",
        "        best_auc_roc = roc_auc_score(target_valid, probabilities_one)\n",
        "print('best C:', best_c)        \n",
        "balanced_model_score = print_and_add(balanced_model_score, 'LogisticRegression',\n",
        "                                     best_f1, best_auc_roc)"
      ]
    },
    {
      "cell_type": "code",
      "execution_count": null,
      "metadata": {
        "id": "539hJ7aPJfN8",
        "outputId": "65abc0a8-43ed-477d-c421-84d262173b3e"
      },
      "outputs": [
        {
          "name": "stdout",
          "output_type": "stream",
          "text": [
            "best depth: 14\n",
            "best F1: 0.586\n",
            "best AUC-ROC: 0.770\n"
          ]
        }
      ],
      "source": [
        "best_f1 = 0\n",
        "best_depth = 0\n",
        "best_auc_roc = 0\n",
        "for depth in range(8,15):    \n",
        "    model = DecisionTreeClassifier(random_state=4444, max_depth=depth, class_weight='balanced')\n",
        "    model.fit(features_train, target_train)\n",
        "    predicted = model.predict(features_valid)\n",
        "    f1 = f1_score(target_valid, predicted) \n",
        "    if f1 > best_f1:\n",
        "        best_f1 = f1\n",
        "        best_depth = depth\n",
        "        probabilities = model.predict_proba(features_valid)\n",
        "        probabilities_one = probabilities[:,1]\n",
        "        best_auc_roc = roc_auc_score(target_valid, probabilities_one) \n",
        "print('best depth:', depth)\n",
        "\n",
        "balanced_model_score = print_and_add(balanced_model_score, 'DecisionTreeClassifier',\n",
        "                                     best_f1, best_auc_roc)"
      ]
    },
    {
      "cell_type": "code",
      "execution_count": null,
      "metadata": {
        "id": "9xDiAZR5JfN8",
        "outputId": "fda7f40f-a929-4ffb-88e4-4d5682209533"
      },
      "outputs": [
        {
          "name": "stdout",
          "output_type": "stream",
          "text": [
            "best depth: 10\n",
            "best n_estimators: 159\n",
            "best F1: 0.650\n",
            "best AUC-ROC: 0.871\n"
          ]
        }
      ],
      "source": [
        "best_f1 = 0\n",
        "best_depth = 0\n",
        "best_auc_roc = 0\n",
        "best_est = 0\n",
        "\n",
        "for est in range(155, 160):    \n",
        "    for depth in range(5,13):    \n",
        "        model = RandomForestClassifier(random_state=4444, max_depth=depth, n_estimators=est,\n",
        "                                       class_weight='balanced')\n",
        "        model.fit(features_train, target_train)\n",
        "        predicted = model.predict(features_valid)\n",
        "        f1 = f1_score(target_valid, predicted) \n",
        "        if f1 > best_f1:\n",
        "            best_f1 = f1\n",
        "            best_depth = depth\n",
        "            best_est = est\n",
        "            probabilities = model.predict_proba(features_valid)\n",
        "            probabilities_one = probabilities[:,1]\n",
        "            best_auc_roc = roc_auc_score(target_valid, probabilities_one) \n",
        "print('best depth:', best_depth)\n",
        "print('best n_estimators:', est)\n",
        "balanced_model_score = print_and_add(balanced_model_score, 'RandomForestClassifier',\n",
        "                                     best_f1, best_auc_roc)"
      ]
    },
    {
      "cell_type": "code",
      "execution_count": null,
      "metadata": {
        "id": "xP_3MC0VJfN9",
        "outputId": "b7ada9e2-8836-4cd6-cc73-5c668924a973"
      },
      "outputs": [
        {
          "data": {
            "text/plain": [
              "(array([0, 1, 2]),\n",
              " [Text(0, 0, 'LogisticRegression'),\n",
              "  Text(1, 0, 'DecisionTreeClassifier'),\n",
              "  Text(2, 0, 'RandomForestClassifier')])"
            ]
          },
          "execution_count": 25,
          "metadata": {},
          "output_type": "execute_result"
        },
        {
          "data": {
            "image/png": "[encoded data removed]",
            "text/plain": [
              "<Figure size 864x504 with 1 Axes>"
            ]
          },
          "metadata": {
            "needs_background": "light"
          },
          "output_type": "display_data"
        }
      ],
      "source": [
        "balanced_model_score.plot(x='model_name', kind='bar', figsize=(12,7), fontsize=14, grid=True,\n",
        "                          title='Сравнение метрик моделей после \"class_weight\" ' )\n",
        "plt.xticks(rotation=0)"
      ]
    },
    {
      "cell_type": "markdown",
      "metadata": {
        "id": "52EK1xYFJfN-"
      },
      "source": [
        "увеличим в 4 раза объекты редкого класса"
      ]
    },
    {
      "cell_type": "code",
      "execution_count": null,
      "metadata": {
        "id": "yFS_vklIJfN-"
      },
      "outputs": [],
      "source": [
        "def upsample(features, target, repeat):\n",
        "    features_zeros = features[target == 0]\n",
        "    features_ones = features[target == 1]\n",
        "    target_zeros = target[target == 0]\n",
        "    target_ones = target[target == 1]\n",
        "    features_upsampled = pd.concat([features_zeros] + [features_ones] * repeat)\n",
        "    target_upsampled = pd.concat([target_zeros] + [target_ones] * repeat)\n",
        "    features_upsampled, target_upsampled = shuffle( features_upsampled, target_upsampled,\n",
        "                                                   random_state=4444)\n",
        "    return features_upsampled, target_upsampled"
      ]
    },
    {
      "cell_type": "code",
      "execution_count": null,
      "metadata": {
        "id": "Re73vuctJfOB",
        "outputId": "8f519fb7-04b4-4011-8cc1-04297b07802a"
      },
      "outputs": [
        {
          "data": {
            "text/plain": [
              "1    0.505818\n",
              "0    0.494182\n",
              "Name: exited, dtype: float64"
            ]
          },
          "execution_count": 27,
          "metadata": {},
          "output_type": "execute_result"
        }
      ],
      "source": [
        "features_train, target_train = upsample(features_train, target_train, 4)\n",
        "target_train.value_counts(normalize=True)"
      ]
    },
    {
      "cell_type": "code",
      "execution_count": null,
      "metadata": {
        "id": "Uv7mWB0WJfOB"
      },
      "outputs": [],
      "source": [
        "upsample_model_score = pd.DataFrame(columns=['model_name', 'f1', 'auc_roc'])"
      ]
    },
    {
      "cell_type": "code",
      "execution_count": null,
      "metadata": {
        "id": "arogXNjIJfOB",
        "outputId": "1ac1e9cf-ba77-4047-9740-2dcaf8609488"
      },
      "outputs": [
        {
          "name": "stdout",
          "output_type": "stream",
          "text": [
            "best C: 0.034\n",
            "best F1: 0.505\n",
            "best AUC-ROC: 0.783\n"
          ]
        }
      ],
      "source": [
        "best_c = 0\n",
        "best_auc_roc = 0\n",
        "best_f1 = 0\n",
        "\n",
        "for c in np.arange(0.03, 0.05, 0.001):\n",
        "    model = LogisticRegression(random_state=4444, C=c, solver='liblinear')\n",
        "    model.fit(features_train, target_train)\n",
        "    predicted = model.predict(features_valid)\n",
        "    f1 = f1_score(target_valid, predicted)\n",
        "    if f1 > best_f1:\n",
        "        best_f1 = f1\n",
        "        best_c = c\n",
        "        probabilities = model.predict_proba(features_valid)\n",
        "        probabilities_one = probabilities[:,1]\n",
        "        best_auc_roc = roc_auc_score(target_valid, probabilities_one)\n",
        "print('best C:', best_c)        \n",
        "upsample_model_score = print_and_add(upsample_model_score, 'LogisticRegression',\n",
        "                                     best_f1, best_auc_roc)"
      ]
    },
    {
      "cell_type": "code",
      "execution_count": null,
      "metadata": {
        "id": "3VL6CKJQJfOD",
        "outputId": "cdc24192-ff18-42e6-b1b2-5ab59ae277b8"
      },
      "outputs": [
        {
          "name": "stdout",
          "output_type": "stream",
          "text": [
            "best depth: 14\n",
            "best F1: 0.587\n",
            "best AUC-ROC: 0.766\n"
          ]
        }
      ],
      "source": [
        "best_f1 = 0\n",
        "best_depth = 0\n",
        "best_auc_roc = 0\n",
        "for depth in range(8,15):    \n",
        "    model = DecisionTreeClassifier(random_state=4444, max_depth=depth)\n",
        "    model.fit(features_train, target_train)\n",
        "    predicted = model.predict(features_valid)\n",
        "    f1 = f1_score(target_valid, predicted) \n",
        "    if f1 > best_f1:\n",
        "        best_f1 = f1\n",
        "        best_depth = depth\n",
        "        probabilities = model.predict_proba(features_valid)\n",
        "        probabilities_one = probabilities[:,1]\n",
        "        best_auc_roc = roc_auc_score(target_valid, probabilities_one) \n",
        "print('best depth:', depth)\n",
        "\n",
        "upsample_model_score = print_and_add(upsample_model_score, 'DecisionTreeClassifier',\n",
        "                                     best_f1, best_auc_roc)"
      ]
    },
    {
      "cell_type": "code",
      "execution_count": null,
      "metadata": {
        "id": "r5MYuqiMJfOD",
        "outputId": "311670b7-a6ab-47d8-f4e0-bf8e5881ad67"
      },
      "outputs": [
        {
          "name": "stdout",
          "output_type": "stream",
          "text": [
            "best depth: 11\n",
            "best n_estimators: 159\n",
            "best F1: 0.655\n",
            "best AUC-ROC: 0.871\n"
          ]
        }
      ],
      "source": [
        "best_f1 = 0\n",
        "best_depth = 0\n",
        "best_auc_roc = 0\n",
        "best_est = 0\n",
        "\n",
        "for est in range(155, 160):    \n",
        "    for depth in range(5,13):    \n",
        "        model = RandomForestClassifier(random_state=4444, max_depth=depth, n_estimators=est)\n",
        "        model.fit(features_train, target_train)\n",
        "        predicted = model.predict(features_valid)\n",
        "        f1 = f1_score(target_valid, predicted) \n",
        "        if f1 > best_f1:\n",
        "            best_f1 = f1\n",
        "            best_depth = depth\n",
        "            best_est = est\n",
        "            probabilities = model.predict_proba(features_valid)\n",
        "            probabilities_one = probabilities[:,1]\n",
        "            best_auc_roc = roc_auc_score(target_valid, probabilities_one) \n",
        "print('best depth:', best_depth)\n",
        "print('best n_estimators:', est)\n",
        "upsample_model_score = print_and_add(upsample_model_score, 'RandomForestClassifier',\n",
        "                                     best_f1, best_auc_roc)"
      ]
    },
    {
      "cell_type": "code",
      "execution_count": null,
      "metadata": {
        "id": "YmnoMxwpJfOE",
        "outputId": "9c1d1934-2023-4e72-fca6-1d91ccc26408"
      },
      "outputs": [
        {
          "data": {
            "text/plain": [
              "(array([0, 1, 2]),\n",
              " [Text(0, 0, 'LogisticRegression'),\n",
              "  Text(1, 0, 'DecisionTreeClassifier'),\n",
              "  Text(2, 0, 'RandomForestClassifier')])"
            ]
          },
          "execution_count": 32,
          "metadata": {},
          "output_type": "execute_result"
        },
        {
          "data": {
            "image/png": "[encoded data removed]",
            "text/plain": [
              "<Figure size 864x504 with 1 Axes>"
            ]
          },
          "metadata": {
            "needs_background": "light"
          },
          "output_type": "display_data"
        }
      ],
      "source": [
        "upsample_model_score.plot(x='model_name', kind='bar', figsize=(12,7), fontsize=14, grid=True,\n",
        "                          title='Сравнение метрик моделей после \"upsample\" ' )\n",
        "plt.xticks(rotation=0)"
      ]
    },
    {
      "cell_type": "code",
      "execution_count": null,
      "metadata": {
        "id": "VOohFKG2JfOF",
        "outputId": "865cd1fd-12b2-408e-cfe2-2910b6c4b5ba"
      },
      "outputs": [
        {
          "data": {
            "text/html": [
              "<div>\n",
              "<style scoped>\n",
              "    .dataframe tbody tr th:only-of-type {\n",
              "        vertical-align: middle;\n",
              "    }\n",
              "\n",
              "    .dataframe tbody tr th {\n",
              "        vertical-align: top;\n",
              "    }\n",
              "\n",
              "    .dataframe thead th {\n",
              "        text-align: right;\n",
              "    }\n",
              "</style>\n",
              "<table border=\"1\" class=\"dataframe\">\n",
              "  <thead>\n",
              "    <tr style=\"text-align: right;\">\n",
              "      <th></th>\n",
              "      <th>model_name</th>\n",
              "      <th>f1</th>\n",
              "      <th>auc_roc</th>\n",
              "    </tr>\n",
              "  </thead>\n",
              "  <tbody>\n",
              "    <tr>\n",
              "      <th>0</th>\n",
              "      <td>LogisticRegression</td>\n",
              "      <td>0.288416</td>\n",
              "      <td>0.777460</td>\n",
              "    </tr>\n",
              "    <tr>\n",
              "      <th>1</th>\n",
              "      <td>RandomForestClassifier</td>\n",
              "      <td>0.604052</td>\n",
              "      <td>0.866321</td>\n",
              "    </tr>\n",
              "    <tr>\n",
              "      <th>2</th>\n",
              "      <td>DecisionTreeClassifier</td>\n",
              "      <td>0.544000</td>\n",
              "      <td>0.773547</td>\n",
              "    </tr>\n",
              "  </tbody>\n",
              "</table>\n",
              "</div>"
            ],
            "text/plain": [
              "               model_name        f1   auc_roc\n",
              "0      LogisticRegression  0.288416  0.777460\n",
              "1  RandomForestClassifier  0.604052  0.866321\n",
              "2  DecisionTreeClassifier  0.544000  0.773547"
            ]
          },
          "execution_count": 33,
          "metadata": {},
          "output_type": "execute_result"
        }
      ],
      "source": [
        "model_score # Не сбалансированная выборка"
      ]
    },
    {
      "cell_type": "code",
      "execution_count": null,
      "metadata": {
        "id": "On6K2TmLJfOF",
        "outputId": "f135f0bd-fc45-4791-d874-68a85e5f6669"
      },
      "outputs": [
        {
          "data": {
            "text/html": [
              "<div>\n",
              "<style scoped>\n",
              "    .dataframe tbody tr th:only-of-type {\n",
              "        vertical-align: middle;\n",
              "    }\n",
              "\n",
              "    .dataframe tbody tr th {\n",
              "        vertical-align: top;\n",
              "    }\n",
              "\n",
              "    .dataframe thead th {\n",
              "        text-align: right;\n",
              "    }\n",
              "</style>\n",
              "<table border=\"1\" class=\"dataframe\">\n",
              "  <thead>\n",
              "    <tr style=\"text-align: right;\">\n",
              "      <th></th>\n",
              "      <th>model_name</th>\n",
              "      <th>f1</th>\n",
              "      <th>auc_roc</th>\n",
              "    </tr>\n",
              "  </thead>\n",
              "  <tbody>\n",
              "    <tr>\n",
              "      <th>0</th>\n",
              "      <td>LogisticRegression</td>\n",
              "      <td>0.512707</td>\n",
              "      <td>0.783367</td>\n",
              "    </tr>\n",
              "    <tr>\n",
              "      <th>1</th>\n",
              "      <td>DecisionTreeClassifier</td>\n",
              "      <td>0.586486</td>\n",
              "      <td>0.770028</td>\n",
              "    </tr>\n",
              "    <tr>\n",
              "      <th>2</th>\n",
              "      <td>RandomForestClassifier</td>\n",
              "      <td>0.650073</td>\n",
              "      <td>0.871031</td>\n",
              "    </tr>\n",
              "  </tbody>\n",
              "</table>\n",
              "</div>"
            ],
            "text/plain": [
              "               model_name        f1   auc_roc\n",
              "0      LogisticRegression  0.512707  0.783367\n",
              "1  DecisionTreeClassifier  0.586486  0.770028\n",
              "2  RandomForestClassifier  0.650073  0.871031"
            ]
          },
          "execution_count": 34,
          "metadata": {},
          "output_type": "execute_result"
        }
      ],
      "source": [
        "balanced_model_score # Балансировка \"class_weight\""
      ]
    },
    {
      "cell_type": "code",
      "execution_count": null,
      "metadata": {
        "id": "6CpSvIa3JfOG",
        "outputId": "994f9466-fb4f-4724-949d-c9bba101f911"
      },
      "outputs": [
        {
          "data": {
            "text/html": [
              "<div>\n",
              "<style scoped>\n",
              "    .dataframe tbody tr th:only-of-type {\n",
              "        vertical-align: middle;\n",
              "    }\n",
              "\n",
              "    .dataframe tbody tr th {\n",
              "        vertical-align: top;\n",
              "    }\n",
              "\n",
              "    .dataframe thead th {\n",
              "        text-align: right;\n",
              "    }\n",
              "</style>\n",
              "<table border=\"1\" class=\"dataframe\">\n",
              "  <thead>\n",
              "    <tr style=\"text-align: right;\">\n",
              "      <th></th>\n",
              "      <th>model_name</th>\n",
              "      <th>f1</th>\n",
              "      <th>auc_roc</th>\n",
              "    </tr>\n",
              "  </thead>\n",
              "  <tbody>\n",
              "    <tr>\n",
              "      <th>0</th>\n",
              "      <td>LogisticRegression</td>\n",
              "      <td>0.505423</td>\n",
              "      <td>0.783095</td>\n",
              "    </tr>\n",
              "    <tr>\n",
              "      <th>1</th>\n",
              "      <td>DecisionTreeClassifier</td>\n",
              "      <td>0.587432</td>\n",
              "      <td>0.766456</td>\n",
              "    </tr>\n",
              "    <tr>\n",
              "      <th>2</th>\n",
              "      <td>RandomForestClassifier</td>\n",
              "      <td>0.654596</td>\n",
              "      <td>0.871235</td>\n",
              "    </tr>\n",
              "  </tbody>\n",
              "</table>\n",
              "</div>"
            ],
            "text/plain": [
              "               model_name        f1   auc_roc\n",
              "0      LogisticRegression  0.505423  0.783095\n",
              "1  DecisionTreeClassifier  0.587432  0.766456\n",
              "2  RandomForestClassifier  0.654596  0.871235"
            ]
          },
          "execution_count": 35,
          "metadata": {},
          "output_type": "execute_result"
        }
      ],
      "source": [
        "upsample_model_score # Балансировка \"upsample\""
      ]
    },
    {
      "cell_type": "markdown",
      "metadata": {
        "id": "FCYisOkmJfOH"
      },
      "source": [
        "Мы видим существенное отличие моделей, на не сбалансированной выборке, и моделей на сбалансированной выборке.\n",
        "Между способами балансировки, различия заметны только в алгоритме \"Дерево решений\".\n",
        "Хуже всего с поставленной задачей справился алгоритм \"Логической регрессии\", и отсутствие баланса в выборке на его качестве сказывается сильнее всего.\n",
        "Лидером является алгоритм \"Случайный лес\", он же меньше остальных страдает от дисбаланса."
      ]
    },
    {
      "cell_type": "markdown",
      "metadata": {
        "id": "3-DHPm3ZJfOH"
      },
      "source": [
        "## Тестирование модели"
      ]
    },
    {
      "cell_type": "code",
      "execution_count": null,
      "metadata": {
        "id": "uFtbFb05JfOI"
      },
      "outputs": [],
      "source": [
        "test = pd.get_dummies(test, drop_first=True)"
      ]
    },
    {
      "cell_type": "code",
      "execution_count": null,
      "metadata": {
        "id": "RoNJCGQIJfOI"
      },
      "outputs": [],
      "source": [
        "target_test = test['exited']\n",
        "features_test = test.drop(['exited'], axis=1)"
      ]
    },
    {
      "cell_type": "code",
      "execution_count": null,
      "metadata": {
        "id": "ozDjGFJ5JfOL"
      },
      "outputs": [],
      "source": [
        "numeric_column = ['credit_score', 'age', 'tenure', 'balance', 'num_of_products', \n",
        "                 'estimated_salary']\n",
        "\n",
        "scaler = StandardScaler()\n",
        "scaler.fit(features[numeric_column])\n",
        "\n",
        "features[numeric_column] = scaler.transform(features[numeric_column])\n",
        "features_test[numeric_column] = scaler.transform(features_test[numeric_column])"
      ]
    },
    {
      "cell_type": "code",
      "execution_count": null,
      "metadata": {
        "id": "3hN03iOZJfOL"
      },
      "outputs": [],
      "source": [
        "model = RandomForestClassifier(random_state=4444, max_depth=9, n_estimators=159,\n",
        "                               class_weight='balanced')\n",
        "model.fit(features, target)\n",
        "predicted = model.predict(features_test)"
      ]
    },
    {
      "cell_type": "code",
      "execution_count": null,
      "metadata": {
        "id": "A86M_dNaJfOM",
        "outputId": "43da376b-af26-4c47-e43a-beaa995a6cd8"
      },
      "outputs": [
        {
          "name": "stdout",
          "output_type": "stream",
          "text": [
            "F1: 0.617\n",
            "AUC_ROC: 0.865\n",
            "Accuracu: 0.829\n"
          ]
        }
      ],
      "source": [
        "print('F1: {:,.3f}'.format(f1_score(target_test, predicted)))\n",
        "probabilities = model.predict_proba(features_test)\n",
        "probabilities_one = probabilities[:,1]\n",
        "print('AUC_ROC: {:,.3f}'.format(roc_auc_score(target_test, probabilities_one)))\n",
        "print('Accuracu: {:,.3f}'.format(model.score(features_test, target_test)))\n"
      ]
    },
    {
      "cell_type": "markdown",
      "metadata": {
        "id": "HxuZtWtAJfOM"
      },
      "source": [
        "Accuracu нашей модели 83%. Значение метрики AUC_ROC 0.87, наша модель проходит тест на адекватность и умеет предсказывать уход клиента лучше, чем случайная модель.\n",
        "Так как в условии задачи говориться что маркетологи провели расчеты и сравнили стоимость привлечения нового клиента и удержание текущего, рекомендую взять у них эти данные и учесть в определение порога."
      ]
    },
    {
      "cell_type": "code",
      "execution_count": null,
      "metadata": {
        "id": "11cTMKhUJfOO"
      },
      "outputs": [],
      "source": []
    }
  ],
  "metadata": {
    "ExecuteTimeLog": [
      {
        "duration": 533,
        "start_time": "2022-02-22T10:27:17.226Z"
      },
      {
        "duration": 30,
        "start_time": "2022-02-22T10:27:19.063Z"
      },
      {
        "duration": 27,
        "start_time": "2022-02-22T10:27:32.761Z"
      },
      {
        "duration": 10,
        "start_time": "2022-02-22T10:27:46.351Z"
      },
      {
        "duration": 199,
        "start_time": "2022-02-22T10:38:54.437Z"
      },
      {
        "duration": 1166,
        "start_time": "2022-02-22T10:39:07.220Z"
      },
      {
        "duration": 3823,
        "start_time": "2022-02-22T10:41:32.649Z"
      },
      {
        "duration": 139,
        "start_time": "2022-02-22T10:41:45.672Z"
      },
      {
        "duration": 3,
        "start_time": "2022-02-22T10:45:33.321Z"
      },
      {
        "duration": 15,
        "start_time": "2022-02-22T10:45:42.436Z"
      },
      {
        "duration": 47,
        "start_time": "2022-02-22T11:01:37.256Z"
      },
      {
        "duration": 49,
        "start_time": "2022-02-22T11:01:56.664Z"
      },
      {
        "duration": 47,
        "start_time": "2022-02-22T11:02:43.551Z"
      },
      {
        "duration": 66,
        "start_time": "2022-02-22T11:02:53.742Z"
      },
      {
        "duration": 6,
        "start_time": "2022-02-22T11:03:04.322Z"
      },
      {
        "duration": 15,
        "start_time": "2022-02-22T11:03:13.365Z"
      },
      {
        "duration": 1028,
        "start_time": "2022-02-22T11:03:52.778Z"
      },
      {
        "duration": 23,
        "start_time": "2022-02-22T11:03:53.808Z"
      },
      {
        "duration": 26,
        "start_time": "2022-02-22T11:03:53.833Z"
      },
      {
        "duration": 18,
        "start_time": "2022-02-22T11:03:53.863Z"
      },
      {
        "duration": 3,
        "start_time": "2022-02-22T11:03:53.883Z"
      },
      {
        "duration": 11,
        "start_time": "2022-02-22T11:03:53.888Z"
      },
      {
        "duration": 12,
        "start_time": "2022-02-22T11:03:53.901Z"
      },
      {
        "duration": 6,
        "start_time": "2022-02-22T11:18:56.785Z"
      },
      {
        "duration": 22,
        "start_time": "2022-02-22T11:18:57.362Z"
      },
      {
        "duration": 7,
        "start_time": "2022-02-22T11:22:24.404Z"
      },
      {
        "duration": 18,
        "start_time": "2022-02-22T11:22:25.868Z"
      },
      {
        "duration": 8,
        "start_time": "2022-02-22T11:22:36.333Z"
      },
      {
        "duration": 3,
        "start_time": "2022-02-22T11:23:12.985Z"
      },
      {
        "duration": 5,
        "start_time": "2022-02-22T11:23:14.390Z"
      },
      {
        "duration": 230,
        "start_time": "2022-02-22T11:23:16.926Z"
      },
      {
        "duration": 2139,
        "start_time": "2022-02-22T11:23:39.920Z"
      },
      {
        "duration": 386,
        "start_time": "2022-02-22T11:23:41.676Z"
      },
      {
        "duration": 383,
        "start_time": "2022-02-22T11:23:41.680Z"
      },
      {
        "duration": 1106,
        "start_time": "2022-02-22T11:25:31.420Z"
      },
      {
        "duration": 34,
        "start_time": "2022-02-22T11:25:32.529Z"
      },
      {
        "duration": 27,
        "start_time": "2022-02-22T11:25:32.566Z"
      },
      {
        "duration": 9,
        "start_time": "2022-02-22T11:25:32.595Z"
      },
      {
        "duration": 9,
        "start_time": "2022-02-22T11:25:32.606Z"
      },
      {
        "duration": 25,
        "start_time": "2022-02-22T11:25:32.617Z"
      },
      {
        "duration": 5,
        "start_time": "2022-02-22T11:25:32.644Z"
      },
      {
        "duration": 16,
        "start_time": "2022-02-22T11:25:32.658Z"
      },
      {
        "duration": 17,
        "start_time": "2022-02-22T11:25:32.676Z"
      },
      {
        "duration": 1374,
        "start_time": "2022-02-23T07:35:36.386Z"
      },
      {
        "duration": 40,
        "start_time": "2022-02-23T07:35:37.763Z"
      },
      {
        "duration": 30,
        "start_time": "2022-02-23T07:35:37.807Z"
      },
      {
        "duration": 12,
        "start_time": "2022-02-23T07:35:37.840Z"
      },
      {
        "duration": 7,
        "start_time": "2022-02-23T07:35:37.855Z"
      },
      {
        "duration": 11,
        "start_time": "2022-02-23T07:35:37.894Z"
      },
      {
        "duration": 8,
        "start_time": "2022-02-23T07:35:37.909Z"
      },
      {
        "duration": 22,
        "start_time": "2022-02-23T07:35:37.921Z"
      },
      {
        "duration": 12,
        "start_time": "2022-02-23T07:35:37.945Z"
      },
      {
        "duration": 1388,
        "start_time": "2022-02-23T07:36:19.224Z"
      },
      {
        "duration": 32,
        "start_time": "2022-02-23T07:36:20.615Z"
      },
      {
        "duration": 47,
        "start_time": "2022-02-23T07:36:20.650Z"
      },
      {
        "duration": 16,
        "start_time": "2022-02-23T07:36:20.701Z"
      },
      {
        "duration": 11,
        "start_time": "2022-02-23T07:36:20.720Z"
      },
      {
        "duration": 15,
        "start_time": "2022-02-23T07:36:20.733Z"
      },
      {
        "duration": 6,
        "start_time": "2022-02-23T07:36:20.750Z"
      },
      {
        "duration": 51,
        "start_time": "2022-02-23T07:36:20.759Z"
      },
      {
        "duration": 23,
        "start_time": "2022-02-23T07:36:20.814Z"
      },
      {
        "duration": 4,
        "start_time": "2022-02-23T07:43:21.525Z"
      },
      {
        "duration": 19,
        "start_time": "2022-02-23T07:43:22.274Z"
      },
      {
        "duration": 12,
        "start_time": "2022-02-23T07:43:24.348Z"
      },
      {
        "duration": 345,
        "start_time": "2022-02-23T08:37:48.123Z"
      },
      {
        "duration": 312,
        "start_time": "2022-02-23T08:38:55.136Z"
      },
      {
        "duration": 255,
        "start_time": "2022-02-23T08:47:24.770Z"
      },
      {
        "duration": 273,
        "start_time": "2022-02-23T08:53:59.151Z"
      },
      {
        "duration": 36,
        "start_time": "2022-02-23T08:54:14.218Z"
      },
      {
        "duration": 403,
        "start_time": "2022-02-23T08:54:14.767Z"
      },
      {
        "duration": 238,
        "start_time": "2022-02-23T08:54:54.860Z"
      },
      {
        "duration": 413,
        "start_time": "2022-02-23T08:55:20.814Z"
      },
      {
        "duration": 8,
        "start_time": "2022-02-23T08:56:20.607Z"
      },
      {
        "duration": 234,
        "start_time": "2022-02-23T08:56:45.560Z"
      },
      {
        "duration": 7,
        "start_time": "2022-02-23T08:56:47.192Z"
      },
      {
        "duration": 99,
        "start_time": "2022-02-23T08:57:28.365Z"
      },
      {
        "duration": 8,
        "start_time": "2022-02-23T08:57:28.921Z"
      },
      {
        "duration": 11,
        "start_time": "2022-02-23T08:58:31.712Z"
      },
      {
        "duration": 8,
        "start_time": "2022-02-23T08:58:36.810Z"
      },
      {
        "duration": 1406,
        "start_time": "2022-02-23T09:01:22.455Z"
      },
      {
        "duration": 38,
        "start_time": "2022-02-23T09:01:23.864Z"
      },
      {
        "duration": 36,
        "start_time": "2022-02-23T09:01:23.905Z"
      },
      {
        "duration": 16,
        "start_time": "2022-02-23T09:01:23.944Z"
      },
      {
        "duration": 4,
        "start_time": "2022-02-23T09:01:23.963Z"
      },
      {
        "duration": 27,
        "start_time": "2022-02-23T09:01:23.993Z"
      },
      {
        "duration": 5,
        "start_time": "2022-02-23T09:01:24.023Z"
      },
      {
        "duration": 21,
        "start_time": "2022-02-23T09:01:24.032Z"
      },
      {
        "duration": 44,
        "start_time": "2022-02-23T09:01:24.057Z"
      },
      {
        "duration": 318,
        "start_time": "2022-02-23T09:01:24.104Z"
      },
      {
        "duration": 84,
        "start_time": "2022-02-23T09:01:24.424Z"
      },
      {
        "duration": 246,
        "start_time": "2022-02-23T09:01:24.511Z"
      },
      {
        "duration": 159,
        "start_time": "2022-02-23T09:01:24.759Z"
      },
      {
        "duration": 7,
        "start_time": "2022-02-23T09:01:24.920Z"
      },
      {
        "duration": 5,
        "start_time": "2022-02-23T09:09:32.357Z"
      },
      {
        "duration": 25,
        "start_time": "2022-02-23T09:09:32.975Z"
      },
      {
        "duration": 11,
        "start_time": "2022-02-23T09:09:35.075Z"
      },
      {
        "duration": 1391,
        "start_time": "2022-02-23T09:14:55.138Z"
      },
      {
        "duration": 34,
        "start_time": "2022-02-23T09:14:56.532Z"
      },
      {
        "duration": 39,
        "start_time": "2022-02-23T09:14:56.569Z"
      },
      {
        "duration": 16,
        "start_time": "2022-02-23T09:14:56.611Z"
      },
      {
        "duration": 6,
        "start_time": "2022-02-23T09:14:56.629Z"
      },
      {
        "duration": 19,
        "start_time": "2022-02-23T09:14:56.637Z"
      },
      {
        "duration": 8,
        "start_time": "2022-02-23T09:14:56.658Z"
      },
      {
        "duration": 42,
        "start_time": "2022-02-23T09:14:56.670Z"
      },
      {
        "duration": 20,
        "start_time": "2022-02-23T09:14:56.715Z"
      },
      {
        "duration": 418,
        "start_time": "2022-02-23T09:14:56.738Z"
      },
      {
        "duration": 83,
        "start_time": "2022-02-23T09:14:57.158Z"
      },
      {
        "duration": 268,
        "start_time": "2022-02-23T09:14:57.243Z"
      },
      {
        "duration": 205,
        "start_time": "2022-02-23T09:14:57.515Z"
      },
      {
        "duration": 7,
        "start_time": "2022-02-23T09:14:57.722Z"
      },
      {
        "duration": 6,
        "start_time": "2022-02-23T09:19:29.102Z"
      },
      {
        "duration": 18,
        "start_time": "2022-02-23T09:19:29.574Z"
      },
      {
        "duration": 13,
        "start_time": "2022-02-23T09:19:31.785Z"
      },
      {
        "duration": 1388,
        "start_time": "2022-02-23T09:20:43.958Z"
      },
      {
        "duration": 38,
        "start_time": "2022-02-23T09:20:45.349Z"
      },
      {
        "duration": 27,
        "start_time": "2022-02-23T09:20:45.390Z"
      },
      {
        "duration": 11,
        "start_time": "2022-02-23T09:20:45.421Z"
      },
      {
        "duration": 8,
        "start_time": "2022-02-23T09:20:45.434Z"
      },
      {
        "duration": 11,
        "start_time": "2022-02-23T09:20:45.444Z"
      },
      {
        "duration": 4,
        "start_time": "2022-02-23T09:20:45.457Z"
      },
      {
        "duration": 17,
        "start_time": "2022-02-23T09:20:45.496Z"
      },
      {
        "duration": 14,
        "start_time": "2022-02-23T09:20:45.516Z"
      },
      {
        "duration": 323,
        "start_time": "2022-02-23T09:20:45.533Z"
      },
      {
        "duration": 83,
        "start_time": "2022-02-23T09:20:45.859Z"
      },
      {
        "duration": 226,
        "start_time": "2022-02-23T09:20:45.944Z"
      },
      {
        "duration": 112,
        "start_time": "2022-02-23T09:20:46.172Z"
      },
      {
        "duration": 7,
        "start_time": "2022-02-23T09:20:46.286Z"
      },
      {
        "duration": 5,
        "start_time": "2022-02-23T09:22:17.899Z"
      },
      {
        "duration": 1399,
        "start_time": "2022-02-23T09:22:22.642Z"
      },
      {
        "duration": 33,
        "start_time": "2022-02-23T09:22:24.044Z"
      },
      {
        "duration": 33,
        "start_time": "2022-02-23T09:22:24.080Z"
      },
      {
        "duration": 12,
        "start_time": "2022-02-23T09:22:24.115Z"
      },
      {
        "duration": 4,
        "start_time": "2022-02-23T09:22:24.130Z"
      },
      {
        "duration": 15,
        "start_time": "2022-02-23T09:22:24.137Z"
      },
      {
        "duration": 40,
        "start_time": "2022-02-23T09:22:24.154Z"
      },
      {
        "duration": 26,
        "start_time": "2022-02-23T09:22:24.197Z"
      },
      {
        "duration": 16,
        "start_time": "2022-02-23T09:22:24.226Z"
      },
      {
        "duration": 336,
        "start_time": "2022-02-23T09:22:24.244Z"
      },
      {
        "duration": 76,
        "start_time": "2022-02-23T09:22:24.583Z"
      },
      {
        "duration": 237,
        "start_time": "2022-02-23T09:22:24.662Z"
      },
      {
        "duration": 104,
        "start_time": "2022-02-23T09:22:24.901Z"
      },
      {
        "duration": 7,
        "start_time": "2022-02-23T09:22:25.007Z"
      },
      {
        "duration": 426,
        "start_time": "2022-02-23T09:25:21.865Z"
      },
      {
        "duration": 998,
        "start_time": "2022-02-23T09:26:56.871Z"
      },
      {
        "duration": 6,
        "start_time": "2022-02-23T09:27:48.123Z"
      },
      {
        "duration": 841,
        "start_time": "2022-02-23T09:27:53.554Z"
      },
      {
        "duration": 1327,
        "start_time": "2022-02-23T09:28:59.237Z"
      },
      {
        "duration": 38,
        "start_time": "2022-02-23T09:29:00.567Z"
      },
      {
        "duration": 32,
        "start_time": "2022-02-23T09:29:00.609Z"
      },
      {
        "duration": 13,
        "start_time": "2022-02-23T09:29:00.644Z"
      },
      {
        "duration": 5,
        "start_time": "2022-02-23T09:29:00.694Z"
      },
      {
        "duration": 19,
        "start_time": "2022-02-23T09:29:00.702Z"
      },
      {
        "duration": 11,
        "start_time": "2022-02-23T09:29:00.724Z"
      },
      {
        "duration": 71,
        "start_time": "2022-02-23T09:29:00.739Z"
      },
      {
        "duration": 19,
        "start_time": "2022-02-23T09:29:00.813Z"
      },
      {
        "duration": 605,
        "start_time": "2022-02-23T09:29:00.835Z"
      },
      {
        "duration": 76,
        "start_time": "2022-02-23T09:29:01.493Z"
      },
      {
        "duration": 257,
        "start_time": "2022-02-23T09:29:01.571Z"
      },
      {
        "duration": 107,
        "start_time": "2022-02-23T09:29:01.831Z"
      },
      {
        "duration": 6,
        "start_time": "2022-02-23T09:29:01.941Z"
      },
      {
        "duration": 845,
        "start_time": "2022-02-23T09:29:01.950Z"
      },
      {
        "duration": 353,
        "start_time": "2022-02-23T09:30:10.606Z"
      },
      {
        "duration": 7,
        "start_time": "2022-02-23T09:30:13.717Z"
      },
      {
        "duration": 1330,
        "start_time": "2022-02-23T09:30:27.917Z"
      },
      {
        "duration": 65,
        "start_time": "2022-02-23T09:30:29.250Z"
      },
      {
        "duration": 78,
        "start_time": "2022-02-23T09:30:29.318Z"
      },
      {
        "duration": 14,
        "start_time": "2022-02-23T09:30:29.398Z"
      },
      {
        "duration": 4,
        "start_time": "2022-02-23T09:30:29.415Z"
      },
      {
        "duration": 9,
        "start_time": "2022-02-23T09:30:29.421Z"
      },
      {
        "duration": 5,
        "start_time": "2022-02-23T09:30:29.433Z"
      },
      {
        "duration": 18,
        "start_time": "2022-02-23T09:30:29.496Z"
      },
      {
        "duration": 19,
        "start_time": "2022-02-23T09:30:29.516Z"
      },
      {
        "duration": 711,
        "start_time": "2022-02-23T09:30:29.538Z"
      },
      {
        "duration": 111,
        "start_time": "2022-02-23T09:30:30.251Z"
      },
      {
        "duration": 345,
        "start_time": "2022-02-23T09:30:30.364Z"
      },
      {
        "duration": 594,
        "start_time": "2022-02-23T09:30:30.711Z"
      },
      {
        "duration": 664,
        "start_time": "2022-02-23T09:30:30.643Z"
      },
      {
        "duration": 7,
        "start_time": "2022-02-23T09:31:19.930Z"
      },
      {
        "duration": 449,
        "start_time": "2022-02-23T09:31:32.748Z"
      },
      {
        "duration": 870,
        "start_time": "2022-02-23T09:33:24.721Z"
      },
      {
        "duration": 11,
        "start_time": "2022-02-23T09:35:37.457Z"
      },
      {
        "duration": 1390,
        "start_time": "2022-02-23T09:35:42.750Z"
      },
      {
        "duration": 32,
        "start_time": "2022-02-23T09:35:44.143Z"
      },
      {
        "duration": 38,
        "start_time": "2022-02-23T09:35:44.177Z"
      },
      {
        "duration": 13,
        "start_time": "2022-02-23T09:35:44.218Z"
      },
      {
        "duration": 6,
        "start_time": "2022-02-23T09:35:44.234Z"
      },
      {
        "duration": 21,
        "start_time": "2022-02-23T09:35:44.243Z"
      },
      {
        "duration": 6,
        "start_time": "2022-02-23T09:35:44.295Z"
      },
      {
        "duration": 28,
        "start_time": "2022-02-23T09:35:44.306Z"
      },
      {
        "duration": 14,
        "start_time": "2022-02-23T09:35:44.337Z"
      },
      {
        "duration": 488,
        "start_time": "2022-02-23T09:35:44.354Z"
      },
      {
        "duration": 170,
        "start_time": "2022-02-23T09:35:44.844Z"
      },
      {
        "duration": 495,
        "start_time": "2022-02-23T09:35:45.016Z"
      },
      {
        "duration": 10,
        "start_time": "2022-02-23T09:35:45.514Z"
      },
      {
        "duration": 481,
        "start_time": "2022-02-23T09:35:45.527Z"
      },
      {
        "duration": 801,
        "start_time": "2022-02-23T09:35:46.096Z"
      },
      {
        "duration": 787,
        "start_time": "2022-02-23T09:40:51.206Z"
      },
      {
        "duration": 707,
        "start_time": "2022-02-23T09:41:46.688Z"
      },
      {
        "duration": 630,
        "start_time": "2022-02-23T09:42:19.574Z"
      },
      {
        "duration": 704,
        "start_time": "2022-02-23T10:44:19.997Z"
      },
      {
        "duration": 897,
        "start_time": "2022-02-23T10:46:46.639Z"
      },
      {
        "duration": 1477,
        "start_time": "2022-02-23T10:47:21.482Z"
      },
      {
        "duration": 39,
        "start_time": "2022-02-23T10:47:22.962Z"
      },
      {
        "duration": 31,
        "start_time": "2022-02-23T10:47:23.004Z"
      },
      {
        "duration": 18,
        "start_time": "2022-02-23T10:47:23.037Z"
      },
      {
        "duration": 4,
        "start_time": "2022-02-23T10:47:23.057Z"
      },
      {
        "duration": 38,
        "start_time": "2022-02-23T10:47:23.064Z"
      },
      {
        "duration": 10,
        "start_time": "2022-02-23T10:47:23.105Z"
      },
      {
        "duration": 40,
        "start_time": "2022-02-23T10:47:23.120Z"
      },
      {
        "duration": 33,
        "start_time": "2022-02-23T10:47:23.163Z"
      },
      {
        "duration": 341,
        "start_time": "2022-02-23T10:47:23.198Z"
      },
      {
        "duration": 84,
        "start_time": "2022-02-23T10:47:23.542Z"
      },
      {
        "duration": 337,
        "start_time": "2022-02-23T10:47:23.629Z"
      },
      {
        "duration": 32,
        "start_time": "2022-02-23T10:47:23.968Z"
      },
      {
        "duration": 106008,
        "start_time": "2022-02-23T10:47:24.002Z"
      },
      {
        "duration": 643,
        "start_time": "2022-02-23T10:49:10.014Z"
      },
      {
        "duration": 6362,
        "start_time": "2022-02-23T10:50:03.195Z"
      },
      {
        "duration": 159548,
        "start_time": "2022-02-23T10:50:16.859Z"
      },
      {
        "duration": 12597,
        "start_time": "2022-02-23T10:55:42.865Z"
      },
      {
        "duration": 750,
        "start_time": "2022-02-23T11:01:29.529Z"
      },
      {
        "duration": 17836,
        "start_time": "2022-02-23T11:08:28.240Z"
      },
      {
        "duration": 23993,
        "start_time": "2022-02-23T11:11:25.465Z"
      },
      {
        "duration": 14696,
        "start_time": "2022-02-23T11:16:43.406Z"
      },
      {
        "duration": 15231,
        "start_time": "2022-02-23T11:18:15.870Z"
      },
      {
        "duration": 28823,
        "start_time": "2022-02-23T11:21:14.413Z"
      },
      {
        "duration": 13248,
        "start_time": "2022-02-23T11:21:57.098Z"
      },
      {
        "duration": 16006,
        "start_time": "2022-02-23T11:22:18.153Z"
      },
      {
        "duration": 15,
        "start_time": "2022-02-23T11:45:39.162Z"
      },
      {
        "duration": 308,
        "start_time": "2022-02-23T11:45:51.629Z"
      },
      {
        "duration": 8185,
        "start_time": "2022-02-23T11:46:05.012Z"
      },
      {
        "duration": 589,
        "start_time": "2022-02-23T12:11:52.217Z"
      },
      {
        "duration": 1493,
        "start_time": "2022-02-23T12:12:34.381Z"
      },
      {
        "duration": 103,
        "start_time": "2022-02-23T12:12:35.877Z"
      },
      {
        "duration": 36,
        "start_time": "2022-02-23T12:12:35.984Z"
      },
      {
        "duration": 12,
        "start_time": "2022-02-23T12:12:36.023Z"
      },
      {
        "duration": 4,
        "start_time": "2022-02-23T12:12:36.038Z"
      },
      {
        "duration": 14,
        "start_time": "2022-02-23T12:12:36.044Z"
      },
      {
        "duration": 35,
        "start_time": "2022-02-23T12:12:36.061Z"
      },
      {
        "duration": 23,
        "start_time": "2022-02-23T12:12:36.101Z"
      },
      {
        "duration": 12,
        "start_time": "2022-02-23T12:12:36.128Z"
      },
      {
        "duration": 358,
        "start_time": "2022-02-23T12:12:36.143Z"
      },
      {
        "duration": 94,
        "start_time": "2022-02-23T12:12:36.503Z"
      },
      {
        "duration": 615,
        "start_time": "2022-02-23T12:12:36.601Z"
      },
      {
        "duration": 13,
        "start_time": "2022-02-23T12:12:37.220Z"
      },
      {
        "duration": 867,
        "start_time": "2022-02-23T12:12:37.236Z"
      },
      {
        "duration": 1065,
        "start_time": "2022-02-23T12:13:14.282Z"
      },
      {
        "duration": 1457,
        "start_time": "2022-02-23T12:13:54.220Z"
      },
      {
        "duration": 10635,
        "start_time": "2022-02-23T12:23:44.561Z"
      },
      {
        "duration": 1828,
        "start_time": "2022-02-23T12:24:09.503Z"
      },
      {
        "duration": 6,
        "start_time": "2022-02-23T12:24:27.526Z"
      },
      {
        "duration": 669,
        "start_time": "2022-02-23T12:24:37.239Z"
      },
      {
        "duration": 1571,
        "start_time": "2022-02-23T12:25:07.936Z"
      },
      {
        "duration": 98,
        "start_time": "2022-02-23T12:25:09.510Z"
      },
      {
        "duration": 23,
        "start_time": "2022-02-23T12:25:09.611Z"
      },
      {
        "duration": 12,
        "start_time": "2022-02-23T12:25:09.637Z"
      },
      {
        "duration": 5,
        "start_time": "2022-02-23T12:25:09.651Z"
      },
      {
        "duration": 37,
        "start_time": "2022-02-23T12:25:09.658Z"
      },
      {
        "duration": 9,
        "start_time": "2022-02-23T12:25:09.698Z"
      },
      {
        "duration": 20,
        "start_time": "2022-02-23T12:25:09.711Z"
      },
      {
        "duration": 14,
        "start_time": "2022-02-23T12:25:09.735Z"
      },
      {
        "duration": 563,
        "start_time": "2022-02-23T12:25:09.751Z"
      },
      {
        "duration": 178,
        "start_time": "2022-02-23T12:25:10.317Z"
      },
      {
        "duration": 466,
        "start_time": "2022-02-23T12:25:10.498Z"
      },
      {
        "duration": 7,
        "start_time": "2022-02-23T12:25:10.967Z"
      },
      {
        "duration": 10521,
        "start_time": "2022-02-23T12:25:10.977Z"
      },
      {
        "duration": 1930,
        "start_time": "2022-02-23T12:25:21.501Z"
      },
      {
        "duration": 1364,
        "start_time": "2022-02-23T12:25:23.434Z"
      },
      {
        "duration": 6,
        "start_time": "2022-02-23T12:25:24.801Z"
      },
      {
        "duration": 351,
        "start_time": "2022-02-23T12:25:24.809Z"
      },
      {
        "duration": 6,
        "start_time": "2022-02-23T12:26:23.757Z"
      },
      {
        "duration": 8,
        "start_time": "2022-02-23T12:26:34.505Z"
      },
      {
        "duration": 304,
        "start_time": "2022-02-23T12:26:44.111Z"
      },
      {
        "duration": 9,
        "start_time": "2022-02-23T12:26:52.455Z"
      },
      {
        "duration": 2191,
        "start_time": "2022-02-23T12:27:09.839Z"
      },
      {
        "duration": 12732,
        "start_time": "2022-02-23T12:27:42.362Z"
      },
      {
        "duration": 6,
        "start_time": "2022-02-23T12:28:12.917Z"
      },
      {
        "duration": 207,
        "start_time": "2022-02-23T12:28:22.652Z"
      },
      {
        "duration": 7,
        "start_time": "2022-02-23T12:28:30.759Z"
      },
      {
        "duration": 840,
        "start_time": "2022-02-23T12:28:41.435Z"
      },
      {
        "duration": 327,
        "start_time": "2022-02-23T12:28:51.363Z"
      },
      {
        "duration": 11298,
        "start_time": "2022-02-23T12:29:11.161Z"
      },
      {
        "duration": 300,
        "start_time": "2022-02-23T12:30:34.520Z"
      },
      {
        "duration": 1094,
        "start_time": "2022-03-12T10:55:05.622Z"
      },
      {
        "duration": 28,
        "start_time": "2022-03-12T10:55:06.718Z"
      },
      {
        "duration": 16,
        "start_time": "2022-03-12T10:55:06.748Z"
      },
      {
        "duration": 14,
        "start_time": "2022-03-12T10:55:06.766Z"
      },
      {
        "duration": 3,
        "start_time": "2022-03-12T10:55:06.782Z"
      },
      {
        "duration": 6,
        "start_time": "2022-03-12T10:55:06.787Z"
      },
      {
        "duration": 4,
        "start_time": "2022-03-12T10:55:06.794Z"
      },
      {
        "duration": 11,
        "start_time": "2022-03-12T10:55:06.800Z"
      },
      {
        "duration": 8,
        "start_time": "2022-03-12T10:55:06.813Z"
      },
      {
        "duration": 237,
        "start_time": "2022-03-12T10:55:06.822Z"
      },
      {
        "duration": 67,
        "start_time": "2022-03-12T10:55:07.061Z"
      },
      {
        "duration": 260,
        "start_time": "2022-03-12T10:55:07.130Z"
      },
      {
        "duration": 6,
        "start_time": "2022-03-12T10:55:07.392Z"
      },
      {
        "duration": 344,
        "start_time": "2022-03-12T10:56:15.131Z"
      },
      {
        "duration": 1491,
        "start_time": "2022-03-12T10:59:18.512Z"
      },
      {
        "duration": 6426,
        "start_time": "2022-03-12T11:02:46.344Z"
      },
      {
        "duration": 1531,
        "start_time": "2022-03-12T11:04:00.787Z"
      },
      {
        "duration": 5,
        "start_time": "2022-03-12T11:24:47.901Z"
      },
      {
        "duration": 214,
        "start_time": "2022-03-12T11:25:00.301Z"
      },
      {
        "duration": 318,
        "start_time": "2022-03-12T11:25:22.619Z"
      },
      {
        "duration": 5559,
        "start_time": "2022-03-12T11:25:32.501Z"
      },
      {
        "duration": 7,
        "start_time": "2022-03-12T11:26:21.861Z"
      },
      {
        "duration": 4,
        "start_time": "2022-03-12T11:28:22.781Z"
      },
      {
        "duration": 6,
        "start_time": "2022-03-12T11:28:32.123Z"
      },
      {
        "duration": 243,
        "start_time": "2022-03-12T11:28:44.815Z"
      },
      {
        "duration": 6,
        "start_time": "2022-03-12T11:29:03.211Z"
      },
      {
        "duration": 1803,
        "start_time": "2022-03-12T11:29:22.679Z"
      },
      {
        "duration": 1836,
        "start_time": "2022-03-12T11:30:00.860Z"
      },
      {
        "duration": 89,
        "start_time": "2022-03-12T11:30:24.882Z"
      },
      {
        "duration": 84,
        "start_time": "2022-03-12T11:30:33.652Z"
      },
      {
        "duration": 1156,
        "start_time": "2022-03-12T11:30:44.934Z"
      },
      {
        "duration": 23,
        "start_time": "2022-03-12T11:30:46.092Z"
      },
      {
        "duration": 15,
        "start_time": "2022-03-12T11:30:46.117Z"
      },
      {
        "duration": 30,
        "start_time": "2022-03-12T11:30:46.134Z"
      },
      {
        "duration": 9,
        "start_time": "2022-03-12T11:30:46.166Z"
      },
      {
        "duration": 25,
        "start_time": "2022-03-12T11:30:46.176Z"
      },
      {
        "duration": 11,
        "start_time": "2022-03-12T11:30:46.202Z"
      },
      {
        "duration": 22,
        "start_time": "2022-03-12T11:30:46.216Z"
      },
      {
        "duration": 19,
        "start_time": "2022-03-12T11:30:46.240Z"
      },
      {
        "duration": 219,
        "start_time": "2022-03-12T11:30:46.261Z"
      },
      {
        "duration": 66,
        "start_time": "2022-03-12T11:30:46.481Z"
      },
      {
        "duration": 249,
        "start_time": "2022-03-12T11:30:46.549Z"
      },
      {
        "duration": 5,
        "start_time": "2022-03-12T11:30:46.799Z"
      },
      {
        "duration": 5656,
        "start_time": "2022-03-12T11:30:46.805Z"
      },
      {
        "duration": 96,
        "start_time": "2022-03-12T11:30:52.465Z"
      },
      {
        "duration": 236,
        "start_time": "2022-03-12T11:30:52.328Z"
      },
      {
        "duration": 204,
        "start_time": "2022-03-12T11:30:52.361Z"
      },
      {
        "duration": 187,
        "start_time": "2022-03-12T11:30:52.380Z"
      },
      {
        "duration": 182,
        "start_time": "2022-03-12T11:30:52.386Z"
      },
      {
        "duration": 178,
        "start_time": "2022-03-12T11:30:52.391Z"
      },
      {
        "duration": 176,
        "start_time": "2022-03-12T11:30:52.395Z"
      },
      {
        "duration": 173,
        "start_time": "2022-03-12T11:30:52.399Z"
      },
      {
        "duration": 169,
        "start_time": "2022-03-12T11:30:52.405Z"
      },
      {
        "duration": 5599,
        "start_time": "2022-03-12T11:31:00.762Z"
      },
      {
        "duration": 1142,
        "start_time": "2022-03-12T11:31:18.767Z"
      },
      {
        "duration": 24,
        "start_time": "2022-03-12T11:31:19.911Z"
      },
      {
        "duration": 15,
        "start_time": "2022-03-12T11:31:19.937Z"
      },
      {
        "duration": 8,
        "start_time": "2022-03-12T11:31:19.960Z"
      },
      {
        "duration": 2,
        "start_time": "2022-03-12T11:31:19.970Z"
      },
      {
        "duration": 6,
        "start_time": "2022-03-12T11:31:19.974Z"
      },
      {
        "duration": 3,
        "start_time": "2022-03-12T11:31:19.982Z"
      },
      {
        "duration": 12,
        "start_time": "2022-03-12T11:31:19.987Z"
      },
      {
        "duration": 8,
        "start_time": "2022-03-12T11:31:20.001Z"
      },
      {
        "duration": 250,
        "start_time": "2022-03-12T11:31:20.011Z"
      },
      {
        "duration": 69,
        "start_time": "2022-03-12T11:31:20.263Z"
      },
      {
        "duration": 267,
        "start_time": "2022-03-12T11:31:20.334Z"
      },
      {
        "duration": 6,
        "start_time": "2022-03-12T11:31:20.603Z"
      },
      {
        "duration": 5954,
        "start_time": "2022-03-12T11:31:20.611Z"
      },
      {
        "duration": 94,
        "start_time": "2022-03-12T11:31:26.567Z"
      },
      {
        "duration": 251,
        "start_time": "2022-03-12T11:31:26.412Z"
      },
      {
        "duration": 245,
        "start_time": "2022-03-12T11:31:26.419Z"
      },
      {
        "duration": 242,
        "start_time": "2022-03-12T11:31:26.423Z"
      },
      {
        "duration": 203,
        "start_time": "2022-03-12T11:31:26.463Z"
      },
      {
        "duration": 199,
        "start_time": "2022-03-12T11:31:26.468Z"
      },
      {
        "duration": 196,
        "start_time": "2022-03-12T11:31:26.472Z"
      },
      {
        "duration": 193,
        "start_time": "2022-03-12T11:31:26.476Z"
      },
      {
        "duration": 190,
        "start_time": "2022-03-12T11:31:26.480Z"
      },
      {
        "duration": 76,
        "start_time": "2022-03-12T11:31:56.049Z"
      },
      {
        "duration": 1138,
        "start_time": "2022-03-12T11:32:41.061Z"
      },
      {
        "duration": 24,
        "start_time": "2022-03-12T11:32:42.201Z"
      },
      {
        "duration": 15,
        "start_time": "2022-03-12T11:32:42.227Z"
      },
      {
        "duration": 17,
        "start_time": "2022-03-12T11:32:42.244Z"
      },
      {
        "duration": 3,
        "start_time": "2022-03-12T11:32:42.262Z"
      },
      {
        "duration": 7,
        "start_time": "2022-03-12T11:32:42.266Z"
      },
      {
        "duration": 4,
        "start_time": "2022-03-12T11:32:42.274Z"
      },
      {
        "duration": 12,
        "start_time": "2022-03-12T11:32:42.280Z"
      },
      {
        "duration": 11,
        "start_time": "2022-03-12T11:32:42.294Z"
      },
      {
        "duration": 234,
        "start_time": "2022-03-12T11:32:42.307Z"
      },
      {
        "duration": 70,
        "start_time": "2022-03-12T11:32:42.542Z"
      },
      {
        "duration": 255,
        "start_time": "2022-03-12T11:32:42.614Z"
      },
      {
        "duration": 5,
        "start_time": "2022-03-12T11:32:42.870Z"
      },
      {
        "duration": 5984,
        "start_time": "2022-03-12T11:32:42.877Z"
      },
      {
        "duration": 98,
        "start_time": "2022-03-12T11:32:48.863Z"
      },
      {
        "duration": 255,
        "start_time": "2022-03-12T11:32:48.708Z"
      },
      {
        "duration": 251,
        "start_time": "2022-03-12T11:32:48.713Z"
      },
      {
        "duration": 223,
        "start_time": "2022-03-12T11:32:48.742Z"
      },
      {
        "duration": 201,
        "start_time": "2022-03-12T11:32:48.765Z"
      },
      {
        "duration": 190,
        "start_time": "2022-03-12T11:32:48.777Z"
      },
      {
        "duration": 184,
        "start_time": "2022-03-12T11:32:48.784Z"
      },
      {
        "duration": 179,
        "start_time": "2022-03-12T11:32:48.790Z"
      },
      {
        "duration": 177,
        "start_time": "2022-03-12T11:32:48.793Z"
      },
      {
        "duration": 102,
        "start_time": "2022-03-12T11:33:11.708Z"
      },
      {
        "duration": 1090,
        "start_time": "2022-03-13T08:06:35.509Z"
      },
      {
        "duration": 29,
        "start_time": "2022-03-13T08:06:36.601Z"
      },
      {
        "duration": 16,
        "start_time": "2022-03-13T08:06:36.632Z"
      },
      {
        "duration": 14,
        "start_time": "2022-03-13T08:06:36.649Z"
      },
      {
        "duration": 2,
        "start_time": "2022-03-13T08:06:36.665Z"
      },
      {
        "duration": 7,
        "start_time": "2022-03-13T08:06:36.669Z"
      },
      {
        "duration": 3,
        "start_time": "2022-03-13T08:06:36.678Z"
      },
      {
        "duration": 14,
        "start_time": "2022-03-13T08:06:36.683Z"
      },
      {
        "duration": 7,
        "start_time": "2022-03-13T08:06:36.700Z"
      },
      {
        "duration": 240,
        "start_time": "2022-03-13T08:06:36.709Z"
      },
      {
        "duration": 71,
        "start_time": "2022-03-13T08:06:36.950Z"
      },
      {
        "duration": 245,
        "start_time": "2022-03-13T08:06:37.022Z"
      },
      {
        "duration": 5,
        "start_time": "2022-03-13T08:06:37.268Z"
      },
      {
        "duration": 5992,
        "start_time": "2022-03-13T08:06:37.275Z"
      },
      {
        "duration": 116,
        "start_time": "2022-03-13T08:06:43.269Z"
      },
      {
        "duration": -732,
        "start_time": "2022-03-13T08:06:44.119Z"
      },
      {
        "duration": -741,
        "start_time": "2022-03-13T08:06:44.130Z"
      },
      {
        "duration": -745,
        "start_time": "2022-03-13T08:06:44.135Z"
      },
      {
        "duration": -749,
        "start_time": "2022-03-13T08:06:44.141Z"
      },
      {
        "duration": -755,
        "start_time": "2022-03-13T08:06:44.148Z"
      },
      {
        "duration": -758,
        "start_time": "2022-03-13T08:06:44.153Z"
      },
      {
        "duration": -762,
        "start_time": "2022-03-13T08:06:44.158Z"
      },
      {
        "duration": -767,
        "start_time": "2022-03-13T08:06:44.165Z"
      },
      {
        "duration": 1290,
        "start_time": "2022-03-13T10:41:59.850Z"
      },
      {
        "duration": 36,
        "start_time": "2022-03-13T10:42:01.142Z"
      },
      {
        "duration": 16,
        "start_time": "2022-03-13T10:42:01.180Z"
      },
      {
        "duration": 21,
        "start_time": "2022-03-13T10:42:01.198Z"
      },
      {
        "duration": 5,
        "start_time": "2022-03-13T10:42:01.221Z"
      },
      {
        "duration": 8,
        "start_time": "2022-03-13T10:42:01.227Z"
      },
      {
        "duration": 3,
        "start_time": "2022-03-13T10:42:01.237Z"
      },
      {
        "duration": 26,
        "start_time": "2022-03-13T10:42:01.242Z"
      },
      {
        "duration": 9,
        "start_time": "2022-03-13T10:42:01.273Z"
      },
      {
        "duration": 321,
        "start_time": "2022-03-13T10:42:02.411Z"
      },
      {
        "duration": -8606,
        "start_time": "2022-03-13T10:42:11.340Z"
      },
      {
        "duration": -8612,
        "start_time": "2022-03-13T10:42:11.347Z"
      },
      {
        "duration": -8616,
        "start_time": "2022-03-13T10:42:11.352Z"
      },
      {
        "duration": -8622,
        "start_time": "2022-03-13T10:42:11.358Z"
      },
      {
        "duration": -8630,
        "start_time": "2022-03-13T10:42:11.367Z"
      },
      {
        "duration": 255,
        "start_time": "2022-03-13T10:42:03.124Z"
      },
      {
        "duration": -8096,
        "start_time": "2022-03-13T10:42:11.477Z"
      },
      {
        "duration": 255,
        "start_time": "2022-03-13T10:42:05.876Z"
      },
      {
        "duration": 1115,
        "start_time": "2022-03-13T10:44:35.395Z"
      },
      {
        "duration": 30,
        "start_time": "2022-03-13T10:44:36.511Z"
      },
      {
        "duration": 17,
        "start_time": "2022-03-13T10:44:36.543Z"
      },
      {
        "duration": 17,
        "start_time": "2022-03-13T10:44:36.563Z"
      },
      {
        "duration": 16,
        "start_time": "2022-03-13T10:44:36.582Z"
      },
      {
        "duration": 9,
        "start_time": "2022-03-13T10:44:36.600Z"
      },
      {
        "duration": 16,
        "start_time": "2022-03-13T10:44:36.611Z"
      },
      {
        "duration": 27,
        "start_time": "2022-03-13T10:44:36.630Z"
      },
      {
        "duration": 19,
        "start_time": "2022-03-13T10:44:36.659Z"
      },
      {
        "duration": 22,
        "start_time": "2022-03-13T10:44:36.680Z"
      },
      {
        "duration": 154,
        "start_time": "2022-03-13T10:44:36.704Z"
      },
      {
        "duration": 190,
        "start_time": "2022-03-13T10:44:36.860Z"
      },
      {
        "duration": 33,
        "start_time": "2022-03-13T10:44:37.052Z"
      },
      {
        "duration": 6,
        "start_time": "2022-03-13T10:44:37.087Z"
      },
      {
        "duration": 358,
        "start_time": "2022-03-13T10:44:37.095Z"
      },
      {
        "duration": -1231,
        "start_time": "2022-03-13T10:44:38.686Z"
      },
      {
        "duration": -1239,
        "start_time": "2022-03-13T10:44:38.695Z"
      },
      {
        "duration": -1251,
        "start_time": "2022-03-13T10:44:38.708Z"
      },
      {
        "duration": 7501,
        "start_time": "2022-03-13T10:44:57.165Z"
      },
      {
        "duration": 232,
        "start_time": "2022-03-13T10:45:15.975Z"
      },
      {
        "duration": 21287,
        "start_time": "2022-03-13T10:45:44.619Z"
      },
      {
        "duration": 1640,
        "start_time": "2022-03-13T14:31:53.677Z"
      },
      {
        "duration": 39,
        "start_time": "2022-03-13T14:31:55.320Z"
      },
      {
        "duration": 26,
        "start_time": "2022-03-13T14:31:55.362Z"
      },
      {
        "duration": 13,
        "start_time": "2022-03-13T14:31:55.392Z"
      },
      {
        "duration": 3,
        "start_time": "2022-03-13T14:31:55.408Z"
      },
      {
        "duration": 8,
        "start_time": "2022-03-13T14:31:55.413Z"
      },
      {
        "duration": 4,
        "start_time": "2022-03-13T14:31:55.424Z"
      },
      {
        "duration": 68,
        "start_time": "2022-03-13T14:31:55.432Z"
      },
      {
        "duration": 14,
        "start_time": "2022-03-13T14:31:55.504Z"
      },
      {
        "duration": 17,
        "start_time": "2022-03-13T14:31:55.521Z"
      },
      {
        "duration": 264,
        "start_time": "2022-03-13T14:31:55.540Z"
      },
      {
        "duration": 228,
        "start_time": "2022-03-13T14:31:55.806Z"
      },
      {
        "duration": 30,
        "start_time": "2022-03-13T14:31:56.037Z"
      },
      {
        "duration": 22,
        "start_time": "2022-03-13T14:31:56.069Z"
      },
      {
        "duration": 7398,
        "start_time": "2022-03-13T14:31:56.093Z"
      },
      {
        "duration": 25728,
        "start_time": "2022-03-13T14:32:03.495Z"
      },
      {
        "duration": 677,
        "start_time": "2022-03-13T14:32:29.226Z"
      },
      {
        "duration": -792,
        "start_time": "2022-03-13T14:32:30.697Z"
      },
      {
        "duration": 2299,
        "start_time": "2022-03-13T16:23:12.554Z"
      },
      {
        "duration": 1111,
        "start_time": "2022-03-16T16:24:28.342Z"
      },
      {
        "duration": 26,
        "start_time": "2022-03-16T16:24:29.455Z"
      },
      {
        "duration": 1229,
        "start_time": "2022-03-16T16:24:29.483Z"
      },
      {
        "duration": 349,
        "start_time": "2022-03-16T16:24:30.715Z"
      },
      {
        "duration": 1043,
        "start_time": "2022-03-16T16:24:31.066Z"
      },
      {
        "duration": 1062,
        "start_time": "2022-03-16T16:24:32.112Z"
      },
      {
        "duration": 1340,
        "start_time": "2022-03-16T16:24:33.175Z"
      },
      {
        "duration": 748,
        "start_time": "2022-03-16T16:24:34.518Z"
      },
      {
        "duration": 445,
        "start_time": "2022-03-16T16:24:35.269Z"
      },
      {
        "duration": 642,
        "start_time": "2022-03-16T16:24:35.716Z"
      },
      {
        "duration": 1120,
        "start_time": "2022-03-16T16:24:36.360Z"
      },
      {
        "duration": 777,
        "start_time": "2022-03-16T16:24:37.482Z"
      },
      {
        "duration": 858,
        "start_time": "2022-03-16T16:24:38.261Z"
      },
      {
        "duration": 973,
        "start_time": "2022-03-16T16:24:39.121Z"
      },
      {
        "duration": 742,
        "start_time": "2022-03-16T16:24:40.097Z"
      },
      {
        "duration": 1267,
        "start_time": "2022-03-16T16:24:40.841Z"
      },
      {
        "duration": 3302,
        "start_time": "2022-03-16T16:24:42.110Z"
      },
      {
        "duration": 10757,
        "start_time": "2022-03-16T16:24:45.503Z"
      },
      {
        "duration": 141,
        "start_time": "2022-03-16T16:24:56.262Z"
      },
      {
        "duration": 1508,
        "start_time": "2022-03-16T16:24:56.405Z"
      },
      {
        "duration": 1122,
        "start_time": "2022-03-16T16:29:13.749Z"
      },
      {
        "duration": 614,
        "start_time": "2022-03-16T16:29:14.873Z"
      },
      {
        "duration": 3850,
        "start_time": "2022-03-16T16:29:15.488Z"
      },
      {
        "duration": 1788,
        "start_time": "2022-03-16T16:29:19.340Z"
      },
      {
        "duration": 2720,
        "start_time": "2022-03-16T16:29:21.131Z"
      },
      {
        "duration": 3215,
        "start_time": "2022-03-16T16:29:23.854Z"
      },
      {
        "duration": 3329,
        "start_time": "2022-03-16T16:29:27.072Z"
      },
      {
        "duration": 6446,
        "start_time": "2022-03-16T16:29:30.403Z"
      },
      {
        "duration": 1860,
        "start_time": "2022-03-16T16:29:36.851Z"
      },
      {
        "duration": 2357,
        "start_time": "2022-03-16T16:29:38.713Z"
      },
      {
        "duration": 2326,
        "start_time": "2022-03-16T16:29:41.072Z"
      },
      {
        "duration": 3643,
        "start_time": "2022-03-16T16:29:43.400Z"
      },
      {
        "duration": 2412,
        "start_time": "2022-03-16T16:29:47.045Z"
      },
      {
        "duration": 2378,
        "start_time": "2022-03-16T16:29:49.459Z"
      },
      {
        "duration": 3204,
        "start_time": "2022-03-16T16:29:51.840Z"
      },
      {
        "duration": 871,
        "start_time": "2022-03-16T16:29:55.046Z"
      },
      {
        "duration": 4582,
        "start_time": "2022-03-16T16:29:55.919Z"
      },
      {
        "duration": 15068,
        "start_time": "2022-03-16T16:30:00.505Z"
      },
      {
        "duration": 152,
        "start_time": "2022-03-16T16:30:15.575Z"
      },
      {
        "duration": 9409,
        "start_time": "2022-03-16T16:30:15.729Z"
      },
      {
        "duration": 6,
        "start_time": "2022-03-16T16:35:16.067Z"
      },
      {
        "duration": 366,
        "start_time": "2022-03-16T16:35:16.506Z"
      },
      {
        "duration": 13,
        "start_time": "2022-03-16T16:35:19.522Z"
      },
      {
        "duration": 7,
        "start_time": "2022-03-16T16:35:21.206Z"
      },
      {
        "duration": 118,
        "start_time": "2022-03-16T16:35:22.564Z"
      },
      {
        "duration": 6,
        "start_time": "2022-03-16T16:37:22.205Z"
      },
      {
        "duration": 314,
        "start_time": "2022-03-16T16:37:38.552Z"
      },
      {
        "duration": 3389,
        "start_time": "2022-03-16T16:37:45.024Z"
      },
      {
        "duration": 208,
        "start_time": "2022-03-16T16:38:06.473Z"
      },
      {
        "duration": 223,
        "start_time": "2022-03-16T16:38:10.838Z"
      },
      {
        "duration": 218,
        "start_time": "2022-03-16T16:38:17.990Z"
      },
      {
        "duration": 202,
        "start_time": "2022-03-16T16:38:30.624Z"
      },
      {
        "duration": 36165,
        "start_time": "2022-03-16T16:38:39.453Z"
      },
      {
        "duration": 257,
        "start_time": "2022-03-16T16:39:19.088Z"
      },
      {
        "duration": 5,
        "start_time": "2022-03-16T16:39:24.652Z"
      },
      {
        "duration": 25,
        "start_time": "2022-03-16T16:39:41.494Z"
      },
      {
        "duration": 6,
        "start_time": "2022-03-16T16:39:52.573Z"
      },
      {
        "duration": 216,
        "start_time": "2022-03-16T16:40:35.198Z"
      },
      {
        "duration": 4118,
        "start_time": "2022-03-16T16:40:44.998Z"
      },
      {
        "duration": 227,
        "start_time": "2022-03-16T16:41:05.871Z"
      },
      {
        "duration": 391,
        "start_time": "2022-03-16T16:41:10.496Z"
      },
      {
        "duration": 51206,
        "start_time": "2022-03-16T16:41:27.373Z"
      },
      {
        "duration": 261,
        "start_time": "2022-03-16T16:42:23.816Z"
      },
      {
        "duration": 6423,
        "start_time": "2022-03-16T16:42:25.445Z"
      },
      {
        "duration": 5197,
        "start_time": "2022-03-16T16:42:31.871Z"
      },
      {
        "duration": 4216,
        "start_time": "2022-03-16T16:42:37.070Z"
      },
      {
        "duration": 117,
        "start_time": "2022-03-16T16:43:16.546Z"
      },
      {
        "duration": 11,
        "start_time": "2022-03-16T16:43:44.337Z"
      },
      {
        "duration": 5,
        "start_time": "2022-03-16T16:44:20.892Z"
      },
      {
        "duration": 5267,
        "start_time": "2022-03-16T16:44:21.416Z"
      },
      {
        "duration": 7512,
        "start_time": "2022-03-16T16:44:26.685Z"
      },
      {
        "duration": -381,
        "start_time": "2022-03-16T16:44:34.581Z"
      },
      {
        "duration": 1101,
        "start_time": "2022-03-16T16:44:51.105Z"
      },
      {
        "duration": 290,
        "start_time": "2022-03-16T16:44:55.230Z"
      },
      {
        "duration": 105,
        "start_time": "2022-03-16T16:45:53.890Z"
      },
      {
        "duration": 1668,
        "start_time": "2022-03-16T16:47:18.889Z"
      },
      {
        "duration": 1629,
        "start_time": "2022-03-16T16:47:20.562Z"
      },
      {
        "duration": 4228,
        "start_time": "2022-03-16T16:47:22.193Z"
      },
      {
        "duration": 5027,
        "start_time": "2022-03-16T16:47:26.423Z"
      },
      {
        "duration": 4629,
        "start_time": "2022-03-16T16:47:31.452Z"
      },
      {
        "duration": 2561,
        "start_time": "2022-03-16T16:47:36.084Z"
      },
      {
        "duration": 1175,
        "start_time": "2022-03-16T16:47:38.647Z"
      },
      {
        "duration": 1085,
        "start_time": "2022-03-16T16:47:39.825Z"
      },
      {
        "duration": 2233,
        "start_time": "2022-03-16T16:47:40.912Z"
      },
      {
        "duration": 1593,
        "start_time": "2022-03-16T16:47:43.147Z"
      },
      {
        "duration": 1916,
        "start_time": "2022-03-16T16:47:44.742Z"
      },
      {
        "duration": 1473,
        "start_time": "2022-03-16T16:47:46.661Z"
      },
      {
        "duration": 1867,
        "start_time": "2022-03-16T16:47:48.137Z"
      },
      {
        "duration": 2335,
        "start_time": "2022-03-16T16:47:50.006Z"
      },
      {
        "duration": 3109,
        "start_time": "2022-03-16T16:47:52.343Z"
      },
      {
        "duration": 1963,
        "start_time": "2022-03-16T16:47:55.454Z"
      },
      {
        "duration": 5783,
        "start_time": "2022-03-16T16:47:57.419Z"
      },
      {
        "duration": 11814,
        "start_time": "2022-03-16T16:48:03.205Z"
      },
      {
        "duration": 151,
        "start_time": "2022-03-16T16:48:15.022Z"
      },
      {
        "duration": 4087,
        "start_time": "2022-03-16T16:48:15.175Z"
      },
      {
        "duration": 2361,
        "start_time": "2022-03-16T16:48:19.264Z"
      },
      {
        "duration": 5974,
        "start_time": "2022-03-16T16:48:21.627Z"
      },
      {
        "duration": 223,
        "start_time": "2022-03-16T16:48:27.603Z"
      },
      {
        "duration": 37594,
        "start_time": "2022-03-16T16:48:27.828Z"
      },
      {
        "duration": 264,
        "start_time": "2022-03-16T16:49:05.424Z"
      },
      {
        "duration": 1245,
        "start_time": "2022-03-16T16:49:05.691Z"
      },
      {
        "duration": 1863,
        "start_time": "2022-03-16T16:49:06.938Z"
      },
      {
        "duration": 2168,
        "start_time": "2022-03-16T16:49:08.803Z"
      },
      {
        "duration": 17432,
        "start_time": "2022-03-16T16:49:10.973Z"
      },
      {
        "duration": 1903,
        "start_time": "2022-03-16T16:49:28.407Z"
      },
      {
        "duration": 5359,
        "start_time": "2022-03-17T08:18:42.480Z"
      },
      {
        "duration": 26,
        "start_time": "2022-03-17T08:18:47.841Z"
      },
      {
        "duration": 17,
        "start_time": "2022-03-17T08:18:47.869Z"
      },
      {
        "duration": 19,
        "start_time": "2022-03-17T08:18:47.887Z"
      },
      {
        "duration": 3,
        "start_time": "2022-03-17T08:18:47.908Z"
      },
      {
        "duration": 25,
        "start_time": "2022-03-17T08:18:47.913Z"
      },
      {
        "duration": 4,
        "start_time": "2022-03-17T08:18:47.940Z"
      },
      {
        "duration": 18,
        "start_time": "2022-03-17T08:18:47.946Z"
      },
      {
        "duration": 13,
        "start_time": "2022-03-17T08:18:47.966Z"
      },
      {
        "duration": 5,
        "start_time": "2022-03-17T08:18:47.980Z"
      },
      {
        "duration": 15,
        "start_time": "2022-03-17T08:18:47.986Z"
      },
      {
        "duration": 9,
        "start_time": "2022-03-17T08:18:48.003Z"
      },
      {
        "duration": 25,
        "start_time": "2022-03-17T08:18:48.013Z"
      },
      {
        "duration": 9,
        "start_time": "2022-03-17T08:18:48.041Z"
      },
      {
        "duration": 22,
        "start_time": "2022-03-17T08:18:48.052Z"
      },
      {
        "duration": 5,
        "start_time": "2022-03-17T08:18:48.076Z"
      },
      {
        "duration": 2260,
        "start_time": "2022-03-17T08:18:48.083Z"
      },
      {
        "duration": 9173,
        "start_time": "2022-03-17T08:18:50.346Z"
      },
      {
        "duration": 128,
        "start_time": "2022-03-17T08:18:59.522Z"
      },
      {
        "duration": 187,
        "start_time": "2022-03-17T08:18:59.652Z"
      },
      {
        "duration": 5,
        "start_time": "2022-03-17T08:18:59.841Z"
      },
      {
        "duration": 3292,
        "start_time": "2022-03-17T08:18:59.848Z"
      },
      {
        "duration": 296,
        "start_time": "2022-03-17T08:19:03.142Z"
      },
      {
        "duration": 31501,
        "start_time": "2022-03-17T08:19:03.440Z"
      },
      {
        "duration": 187,
        "start_time": "2022-03-17T08:19:34.943Z"
      },
      {
        "duration": 6,
        "start_time": "2022-03-17T08:19:35.131Z"
      },
      {
        "duration": 18,
        "start_time": "2022-03-17T08:19:35.139Z"
      },
      {
        "duration": 5,
        "start_time": "2022-03-17T08:19:35.159Z"
      },
      {
        "duration": 3991,
        "start_time": "2022-03-17T08:19:35.166Z"
      },
      {
        "duration": 358,
        "start_time": "2022-03-17T08:19:39.240Z"
      },
      {
        "duration": 45189,
        "start_time": "2022-03-17T08:19:39.600Z"
      },
      {
        "duration": 172,
        "start_time": "2022-03-17T08:20:24.791Z"
      },
      {
        "duration": 9,
        "start_time": "2022-03-17T08:20:24.965Z"
      },
      {
        "duration": 11,
        "start_time": "2022-03-17T08:20:24.975Z"
      },
      {
        "duration": 9,
        "start_time": "2022-03-17T08:20:24.988Z"
      },
      {
        "duration": 8,
        "start_time": "2022-03-17T08:20:24.999Z"
      },
      {
        "duration": 31,
        "start_time": "2022-03-17T08:20:25.009Z"
      },
      {
        "duration": 25,
        "start_time": "2022-03-17T08:20:25.041Z"
      },
      {
        "duration": 1010,
        "start_time": "2022-03-17T08:20:25.067Z"
      },
      {
        "duration": 112,
        "start_time": "2022-03-17T08:20:26.079Z"
      }
    ],
    "kernelspec": {
      "display_name": "Python 3 (ipykernel)",
      "language": "python",
      "name": "python3"
    },
    "language_info": {
      "codemirror_mode": {
        "name": "ipython",
        "version": 3
      },
      "file_extension": ".py",
      "mimetype": "text/x-python",
      "name": "python",
      "nbconvert_exporter": "python",
      "pygments_lexer": "ipython3",
      "version": "3.9.5"
    },
    "toc": {
      "base_numbering": 1,
      "nav_menu": {},
      "number_sections": true,
      "sideBar": true,
      "skip_h1_title": true,
      "title_cell": "Содержание",
      "title_sidebar": "Contents",
      "toc_cell": true,
      "toc_position": {
        "height": "calc(100% - 180px)",
        "left": "10px",
        "top": "150px",
        "width": "246px"
      },
      "toc_section_display": true,
      "toc_window_display": true
    },
    "colab": {
      "provenance": []
    }
  },
  "nbformat": 4,
  "nbformat_minor": 0
}