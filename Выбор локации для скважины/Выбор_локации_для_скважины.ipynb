{
  "cells": [
    {
      "cell_type": "markdown",
      "metadata": {
        "id": "_h2_CSubKKH9"
      },
      "source": [
        "# Выбор локации для скважины"
      ]
    },
    {
      "cell_type": "markdown",
      "metadata": {
        "id": "eI8c1G9TKKH-"
      },
      "source": [
        "Допустим, вы работаете в добывающей компании «ГлавРосГосНефть». Нужно решить, где бурить новую скважину.\n",
        "\n",
        "Вам предоставлены пробы нефти в трёх регионах: в каждом 10 000 месторождений, где измерили качество нефти и объём её запасов. Постройте модель машинного обучения, которая поможет определить регион, где добыча принесёт наибольшую прибыль. Проанализируйте возможную прибыль и риски техникой *Bootstrap.*\n",
        "\n",
        "Шаги для выбора локации:\n",
        "\n",
        "- В избранном регионе ищут месторождения, для каждого определяют значения признаков;\n",
        "- Строят модель и оценивают объём запасов;\n",
        "- Выбирают месторождения с самым высокими оценками значений. Количество месторождений зависит от бюджета компании и стоимости разработки одной скважины;\n",
        "- Прибыль равна суммарной прибыли отобранных месторождений."
      ]
    },
    {
      "cell_type": "markdown",
      "metadata": {
        "id": "-i1K-phLKKH-"
      },
      "source": [
        "**Описание данных**\n",
        "Данные геологоразведки трёх регионов находятся в 3 файлах:\n",
        "\n",
        "id — уникальный идентификатор скважины;\n",
        "f0, f1, f2 — три признака точек (неважно, что они означают, но сами признаки значимы);\n",
        "product — объём запасов в скважине (тыс. баррелей)."
      ]
    },
    {
      "cell_type": "markdown",
      "metadata": {
        "id": "D7x8F3cdKKH_"
      },
      "source": [
        "**Условия задачи:**\n",
        "\n",
        "Для обучения модели подходит только линейная регрессия (остальные — недостаточно предсказуемые).\n",
        "При разведке региона исследуют 500 точек, из которых с помощью машинного обучения выбирают 200 лучших для разработки.\n",
        "Бюджет на разработку скважин в регионе — 10 млрд рублей.\n",
        "При нынешних ценах один баррель сырья приносит 450 рублей дохода. Доход с каждой единицы продукта составляет 450 тыс. рублей, поскольку объём указан в тысячах баррелей.\n",
        "После оценки рисков нужно оставить лишь те регионы, в которых вероятность убытков меньше 2.5%. Среди них выбирают регион с наибольшей средней прибылью.\n",
        "Данные синтетические: детали контрактов и характеристики месторождений не разглашаются."
      ]
    },
    {
      "cell_type": "markdown",
      "metadata": {
        "id": "QtRFAFiDKKIA"
      },
      "source": [
        "## Загрузка и подготовка данных"
      ]
    },
    {
      "cell_type": "code",
      "execution_count": null,
      "metadata": {
        "id": "k1EhzlnwKKIA"
      },
      "outputs": [],
      "source": [
        "import pandas as pd\n",
        "from IPython.display import display \n",
        "pd.set_option('display.max_columns', None)\n",
        "pd.set_option('display.float_format', '{:.3f}'.format) \n",
        "from sklearn.model_selection import train_test_split\n",
        "from sklearn.preprocessing import StandardScaler \n",
        "from sklearn.model_selection import GridSearchCV \n",
        "import matplotlib.pyplot as plt\n",
        "import numpy as np\n",
        "import plotly.express as px\n",
        "import seaborn as sns\n",
        "import warnings\n",
        "warnings.filterwarnings('ignore')\n",
        "from sklearn.metrics import mean_squared_error \n",
        "from sklearn.linear_model import LinearRegression \n",
        "from scipy import stats as st "
      ]
    },
    {
      "cell_type": "code",
      "execution_count": null,
      "metadata": {
        "id": "qhPgntBTKKID"
      },
      "outputs": [],
      "source": [
        "geo_data_0 = pd.read_csv('/datasets/geo_data_0.csv', sep=',')\n",
        "geo_data_1 = pd.read_csv('/datasets/geo_data_1.csv', sep=',')\n",
        "geo_data_2 = pd.read_csv('/datasets/geo_data_2.csv', sep=',')"
      ]
    },
    {
      "cell_type": "code",
      "execution_count": null,
      "metadata": {
        "id": "Joinw7A7KKID",
        "outputId": "6eaf9e31-db95-4655-f3f7-f0906b0255ac"
      },
      "outputs": [
        {
          "data": {
            "text/html": [
              "<div>\n",
              "<style scoped>\n",
              "    .dataframe tbody tr th:only-of-type {\n",
              "        vertical-align: middle;\n",
              "    }\n",
              "\n",
              "    .dataframe tbody tr th {\n",
              "        vertical-align: top;\n",
              "    }\n",
              "\n",
              "    .dataframe thead th {\n",
              "        text-align: right;\n",
              "    }\n",
              "</style>\n",
              "<table border=\"1\" class=\"dataframe\">\n",
              "  <thead>\n",
              "    <tr style=\"text-align: right;\">\n",
              "      <th></th>\n",
              "      <th>id</th>\n",
              "      <th>f0</th>\n",
              "      <th>f1</th>\n",
              "      <th>f2</th>\n",
              "      <th>product</th>\n",
              "    </tr>\n",
              "  </thead>\n",
              "  <tbody>\n",
              "    <tr>\n",
              "      <th>0</th>\n",
              "      <td>txEyH</td>\n",
              "      <td>0.706</td>\n",
              "      <td>-0.498</td>\n",
              "      <td>1.221</td>\n",
              "      <td>105.280</td>\n",
              "    </tr>\n",
              "    <tr>\n",
              "      <th>1</th>\n",
              "      <td>2acmU</td>\n",
              "      <td>1.335</td>\n",
              "      <td>-0.340</td>\n",
              "      <td>4.365</td>\n",
              "      <td>73.038</td>\n",
              "    </tr>\n",
              "    <tr>\n",
              "      <th>2</th>\n",
              "      <td>409Wp</td>\n",
              "      <td>1.023</td>\n",
              "      <td>0.152</td>\n",
              "      <td>1.420</td>\n",
              "      <td>85.266</td>\n",
              "    </tr>\n",
              "    <tr>\n",
              "      <th>3</th>\n",
              "      <td>iJLyR</td>\n",
              "      <td>-0.032</td>\n",
              "      <td>0.139</td>\n",
              "      <td>2.979</td>\n",
              "      <td>168.621</td>\n",
              "    </tr>\n",
              "    <tr>\n",
              "      <th>4</th>\n",
              "      <td>Xdl7t</td>\n",
              "      <td>1.988</td>\n",
              "      <td>0.155</td>\n",
              "      <td>4.752</td>\n",
              "      <td>154.037</td>\n",
              "    </tr>\n",
              "  </tbody>\n",
              "</table>\n",
              "</div>"
            ],
            "text/plain": [
              "      id     f0     f1    f2  product\n",
              "0  txEyH  0.706 -0.498 1.221  105.280\n",
              "1  2acmU  1.335 -0.340 4.365   73.038\n",
              "2  409Wp  1.023  0.152 1.420   85.266\n",
              "3  iJLyR -0.032  0.139 2.979  168.621\n",
              "4  Xdl7t  1.988  0.155 4.752  154.037"
            ]
          },
          "execution_count": 3,
          "metadata": {},
          "output_type": "execute_result"
        }
      ],
      "source": [
        "geo_data_0.head()"
      ]
    },
    {
      "cell_type": "code",
      "execution_count": null,
      "metadata": {
        "id": "s9T0kF3xKKIF",
        "outputId": "f4fc10d6-a9dd-4e66-c22a-b08eba13e2ed"
      },
      "outputs": [
        {
          "data": {
            "text/html": [
              "<div>\n",
              "<style scoped>\n",
              "    .dataframe tbody tr th:only-of-type {\n",
              "        vertical-align: middle;\n",
              "    }\n",
              "\n",
              "    .dataframe tbody tr th {\n",
              "        vertical-align: top;\n",
              "    }\n",
              "\n",
              "    .dataframe thead th {\n",
              "        text-align: right;\n",
              "    }\n",
              "</style>\n",
              "<table border=\"1\" class=\"dataframe\">\n",
              "  <thead>\n",
              "    <tr style=\"text-align: right;\">\n",
              "      <th></th>\n",
              "      <th>id</th>\n",
              "      <th>f0</th>\n",
              "      <th>f1</th>\n",
              "      <th>f2</th>\n",
              "      <th>product</th>\n",
              "    </tr>\n",
              "  </thead>\n",
              "  <tbody>\n",
              "    <tr>\n",
              "      <th>0</th>\n",
              "      <td>kBEdx</td>\n",
              "      <td>-15.001</td>\n",
              "      <td>-8.276</td>\n",
              "      <td>-0.006</td>\n",
              "      <td>3.179</td>\n",
              "    </tr>\n",
              "    <tr>\n",
              "      <th>1</th>\n",
              "      <td>62mP7</td>\n",
              "      <td>14.272</td>\n",
              "      <td>-3.475</td>\n",
              "      <td>0.999</td>\n",
              "      <td>26.953</td>\n",
              "    </tr>\n",
              "    <tr>\n",
              "      <th>2</th>\n",
              "      <td>vyE1P</td>\n",
              "      <td>6.263</td>\n",
              "      <td>-5.948</td>\n",
              "      <td>5.001</td>\n",
              "      <td>134.766</td>\n",
              "    </tr>\n",
              "    <tr>\n",
              "      <th>3</th>\n",
              "      <td>KcrkZ</td>\n",
              "      <td>-13.081</td>\n",
              "      <td>-11.506</td>\n",
              "      <td>4.999</td>\n",
              "      <td>137.945</td>\n",
              "    </tr>\n",
              "    <tr>\n",
              "      <th>4</th>\n",
              "      <td>AHL4O</td>\n",
              "      <td>12.702</td>\n",
              "      <td>-8.147</td>\n",
              "      <td>5.004</td>\n",
              "      <td>134.766</td>\n",
              "    </tr>\n",
              "  </tbody>\n",
              "</table>\n",
              "</div>"
            ],
            "text/plain": [
              "      id      f0      f1     f2  product\n",
              "0  kBEdx -15.001  -8.276 -0.006    3.179\n",
              "1  62mP7  14.272  -3.475  0.999   26.953\n",
              "2  vyE1P   6.263  -5.948  5.001  134.766\n",
              "3  KcrkZ -13.081 -11.506  4.999  137.945\n",
              "4  AHL4O  12.702  -8.147  5.004  134.766"
            ]
          },
          "execution_count": 4,
          "metadata": {},
          "output_type": "execute_result"
        }
      ],
      "source": [
        "geo_data_1.head()"
      ]
    },
    {
      "cell_type": "code",
      "execution_count": null,
      "metadata": {
        "id": "I6Z9anQ8KKIG",
        "outputId": "11a1cd5f-90a7-4787-854b-1a6b8bea7f32"
      },
      "outputs": [
        {
          "data": {
            "text/html": [
              "<div>\n",
              "<style scoped>\n",
              "    .dataframe tbody tr th:only-of-type {\n",
              "        vertical-align: middle;\n",
              "    }\n",
              "\n",
              "    .dataframe tbody tr th {\n",
              "        vertical-align: top;\n",
              "    }\n",
              "\n",
              "    .dataframe thead th {\n",
              "        text-align: right;\n",
              "    }\n",
              "</style>\n",
              "<table border=\"1\" class=\"dataframe\">\n",
              "  <thead>\n",
              "    <tr style=\"text-align: right;\">\n",
              "      <th></th>\n",
              "      <th>id</th>\n",
              "      <th>f0</th>\n",
              "      <th>f1</th>\n",
              "      <th>f2</th>\n",
              "      <th>product</th>\n",
              "    </tr>\n",
              "  </thead>\n",
              "  <tbody>\n",
              "    <tr>\n",
              "      <th>0</th>\n",
              "      <td>fwXo0</td>\n",
              "      <td>-1.147</td>\n",
              "      <td>0.963</td>\n",
              "      <td>-0.829</td>\n",
              "      <td>27.759</td>\n",
              "    </tr>\n",
              "    <tr>\n",
              "      <th>1</th>\n",
              "      <td>WJtFt</td>\n",
              "      <td>0.263</td>\n",
              "      <td>0.270</td>\n",
              "      <td>-2.530</td>\n",
              "      <td>56.070</td>\n",
              "    </tr>\n",
              "    <tr>\n",
              "      <th>2</th>\n",
              "      <td>ovLUW</td>\n",
              "      <td>0.195</td>\n",
              "      <td>0.289</td>\n",
              "      <td>-5.586</td>\n",
              "      <td>62.872</td>\n",
              "    </tr>\n",
              "    <tr>\n",
              "      <th>3</th>\n",
              "      <td>q6cA6</td>\n",
              "      <td>2.236</td>\n",
              "      <td>-0.554</td>\n",
              "      <td>0.930</td>\n",
              "      <td>114.573</td>\n",
              "    </tr>\n",
              "    <tr>\n",
              "      <th>4</th>\n",
              "      <td>WPMUX</td>\n",
              "      <td>-0.516</td>\n",
              "      <td>1.716</td>\n",
              "      <td>5.899</td>\n",
              "      <td>149.601</td>\n",
              "    </tr>\n",
              "  </tbody>\n",
              "</table>\n",
              "</div>"
            ],
            "text/plain": [
              "      id     f0     f1     f2  product\n",
              "0  fwXo0 -1.147  0.963 -0.829   27.759\n",
              "1  WJtFt  0.263  0.270 -2.530   56.070\n",
              "2  ovLUW  0.195  0.289 -5.586   62.872\n",
              "3  q6cA6  2.236 -0.554  0.930  114.573\n",
              "4  WPMUX -0.516  1.716  5.899  149.601"
            ]
          },
          "execution_count": 5,
          "metadata": {},
          "output_type": "execute_result"
        }
      ],
      "source": [
        "geo_data_2.head()"
      ]
    },
    {
      "cell_type": "code",
      "execution_count": null,
      "metadata": {
        "id": "oBSdRrA_KKIG",
        "outputId": "00adf583-ad40-4014-c4e6-280aa06c3d91"
      },
      "outputs": [
        {
          "name": "stdout",
          "output_type": "stream",
          "text": [
            "<class 'pandas.core.frame.DataFrame'>\n",
            "RangeIndex: 100000 entries, 0 to 99999\n",
            "Data columns (total 5 columns):\n",
            " #   Column   Non-Null Count   Dtype  \n",
            "---  ------   --------------   -----  \n",
            " 0   id       100000 non-null  object \n",
            " 1   f0       100000 non-null  float64\n",
            " 2   f1       100000 non-null  float64\n",
            " 3   f2       100000 non-null  float64\n",
            " 4   product  100000 non-null  float64\n",
            "dtypes: float64(4), object(1)\n",
            "memory usage: 3.8+ MB\n",
            "None\n",
            "<class 'pandas.core.frame.DataFrame'>\n",
            "RangeIndex: 100000 entries, 0 to 99999\n",
            "Data columns (total 5 columns):\n",
            " #   Column   Non-Null Count   Dtype  \n",
            "---  ------   --------------   -----  \n",
            " 0   id       100000 non-null  object \n",
            " 1   f0       100000 non-null  float64\n",
            " 2   f1       100000 non-null  float64\n",
            " 3   f2       100000 non-null  float64\n",
            " 4   product  100000 non-null  float64\n",
            "dtypes: float64(4), object(1)\n",
            "memory usage: 3.8+ MB\n",
            "None\n",
            "<class 'pandas.core.frame.DataFrame'>\n",
            "RangeIndex: 100000 entries, 0 to 99999\n",
            "Data columns (total 5 columns):\n",
            " #   Column   Non-Null Count   Dtype  \n",
            "---  ------   --------------   -----  \n",
            " 0   id       100000 non-null  object \n",
            " 1   f0       100000 non-null  float64\n",
            " 2   f1       100000 non-null  float64\n",
            " 3   f2       100000 non-null  float64\n",
            " 4   product  100000 non-null  float64\n",
            "dtypes: float64(4), object(1)\n",
            "memory usage: 3.8+ MB\n",
            "None\n"
          ]
        }
      ],
      "source": [
        "print(geo_data_0.info())\n",
        "print(geo_data_1.info())\n",
        "print(geo_data_2.info())"
      ]
    },
    {
      "cell_type": "markdown",
      "metadata": {
        "id": "lz7O6Df4KKIH"
      },
      "source": [
        "Все данные заполнены, пропусков нет"
      ]
    },
    {
      "cell_type": "code",
      "execution_count": null,
      "metadata": {
        "id": "D9UI1x4LKKIH",
        "outputId": "2bc29fe8-d8fa-48e4-9e38-e029d4d6967f"
      },
      "outputs": [
        {
          "data": {
            "text/html": [
              "<div>\n",
              "<style scoped>\n",
              "    .dataframe tbody tr th:only-of-type {\n",
              "        vertical-align: middle;\n",
              "    }\n",
              "\n",
              "    .dataframe tbody tr th {\n",
              "        vertical-align: top;\n",
              "    }\n",
              "\n",
              "    .dataframe thead th {\n",
              "        text-align: right;\n",
              "    }\n",
              "</style>\n",
              "<table border=\"1\" class=\"dataframe\">\n",
              "  <thead>\n",
              "    <tr style=\"text-align: right;\">\n",
              "      <th></th>\n",
              "      <th>f0</th>\n",
              "      <th>f1</th>\n",
              "      <th>f2</th>\n",
              "      <th>product</th>\n",
              "    </tr>\n",
              "  </thead>\n",
              "  <tbody>\n",
              "    <tr>\n",
              "      <th>count</th>\n",
              "      <td>100000.000</td>\n",
              "      <td>100000.000</td>\n",
              "      <td>100000.000</td>\n",
              "      <td>100000.000</td>\n",
              "    </tr>\n",
              "    <tr>\n",
              "      <th>mean</th>\n",
              "      <td>0.002</td>\n",
              "      <td>-0.002</td>\n",
              "      <td>2.495</td>\n",
              "      <td>95.000</td>\n",
              "    </tr>\n",
              "    <tr>\n",
              "      <th>std</th>\n",
              "      <td>1.732</td>\n",
              "      <td>1.730</td>\n",
              "      <td>3.473</td>\n",
              "      <td>44.750</td>\n",
              "    </tr>\n",
              "    <tr>\n",
              "      <th>min</th>\n",
              "      <td>-8.760</td>\n",
              "      <td>-7.084</td>\n",
              "      <td>-11.970</td>\n",
              "      <td>0.000</td>\n",
              "    </tr>\n",
              "    <tr>\n",
              "      <th>25%</th>\n",
              "      <td>-1.162</td>\n",
              "      <td>-1.175</td>\n",
              "      <td>0.130</td>\n",
              "      <td>59.450</td>\n",
              "    </tr>\n",
              "    <tr>\n",
              "      <th>50%</th>\n",
              "      <td>0.009</td>\n",
              "      <td>-0.009</td>\n",
              "      <td>2.484</td>\n",
              "      <td>94.926</td>\n",
              "    </tr>\n",
              "    <tr>\n",
              "      <th>75%</th>\n",
              "      <td>1.159</td>\n",
              "      <td>1.164</td>\n",
              "      <td>4.859</td>\n",
              "      <td>130.595</td>\n",
              "    </tr>\n",
              "    <tr>\n",
              "      <th>max</th>\n",
              "      <td>7.238</td>\n",
              "      <td>7.845</td>\n",
              "      <td>16.739</td>\n",
              "      <td>190.030</td>\n",
              "    </tr>\n",
              "  </tbody>\n",
              "</table>\n",
              "</div>"
            ],
            "text/plain": [
              "              f0         f1         f2    product\n",
              "count 100000.000 100000.000 100000.000 100000.000\n",
              "mean       0.002     -0.002      2.495     95.000\n",
              "std        1.732      1.730      3.473     44.750\n",
              "min       -8.760     -7.084    -11.970      0.000\n",
              "25%       -1.162     -1.175      0.130     59.450\n",
              "50%        0.009     -0.009      2.484     94.926\n",
              "75%        1.159      1.164      4.859    130.595\n",
              "max        7.238      7.845     16.739    190.030"
            ]
          },
          "execution_count": 7,
          "metadata": {},
          "output_type": "execute_result"
        }
      ],
      "source": [
        "geo_data_0.describe()\n",
        "geo_data_1.describe()\n",
        "geo_data_2.describe()"
      ]
    },
    {
      "cell_type": "markdown",
      "metadata": {
        "id": "7BfSmJF8KKII"
      },
      "source": [
        "Столбцы с id нам не понадобятся, удалим их из датасетов"
      ]
    },
    {
      "cell_type": "code",
      "execution_count": null,
      "metadata": {
        "id": "GtDVDCv6KKII"
      },
      "outputs": [],
      "source": [
        "geo_data_0 = geo_data_0.drop('id', axis=1)\n",
        "geo_data_1 = geo_data_1.drop('id', axis=1)\n",
        "geo_data_2 = geo_data_2.drop('id', axis=1)"
      ]
    },
    {
      "cell_type": "markdown",
      "metadata": {
        "id": "ve4trvkWKKII"
      },
      "source": [
        "**Вывод**\n",
        "\n",
        "Предобработка данных не нужна, идем дальше "
      ]
    },
    {
      "cell_type": "markdown",
      "metadata": {
        "id": "oCe-P61WKKIK"
      },
      "source": [
        "## Обучение и проверка модели"
      ]
    },
    {
      "cell_type": "markdown",
      "metadata": {
        "id": "teL5H24KKKIK"
      },
      "source": [
        "Подготовим отдельную функцию для деления данных"
      ]
    },
    {
      "cell_type": "code",
      "execution_count": null,
      "metadata": {
        "id": "Ru5wzJK_KKIK"
      },
      "outputs": [],
      "source": [
        "def prepare (geo_data_region):\n",
        "    features = geo_data_region.drop('product', axis=1)\n",
        "    target = geo_data_region['product']\n",
        "    # разделим выборки в пропорции 25 к 75\n",
        "    features_train, features_valid, target_train, target_valid = train_test_split(features, target, \n",
        "                                                                                  test_size=0.25, random_state=12345)\n",
        "    # проведем масштабирование\n",
        "    numeric = ['f0', 'f1', 'f2']\n",
        "    scaler = StandardScaler()\n",
        "    scaler.fit(features_train[numeric])\n",
        "\n",
        "    features_train[numeric] = scaler.transform(features_train[numeric])\n",
        "    features_valid[numeric] = scaler.transform(features_valid[numeric])\n",
        "    \n",
        "    return features_train, features_valid, target_train, target_valid   "
      ]
    },
    {
      "cell_type": "code",
      "execution_count": null,
      "metadata": {
        "id": "4LVUugMLKKIL",
        "outputId": "d4b875ab-6661-4e1a-fea0-885a54bc8efe"
      },
      "outputs": [
        {
          "name": "stdout",
          "output_type": "stream",
          "text": [
            "(75000, 3)\n",
            "(25000, 3)\n",
            "(75000,)\n",
            "(25000,)\n"
          ]
        }
      ],
      "source": [
        "# получим features и target для 3-х регионов\n",
        "features_train_0, features_valid_0, target_train_0, target_valid_0 = prepare(geo_data_0)\n",
        "features_train_1, features_valid_1, target_train_1, target_valid_1 = prepare(geo_data_1)\n",
        "features_train_2, features_valid_2, target_train_2, target_valid_2 = prepare(geo_data_2)\n",
        "# проверим работу функции на одном из регионов\n",
        "print(features_train_0.shape)\n",
        "print(features_valid_0.shape)\n",
        "print(target_train_0.shape)\n",
        "print(target_valid_0.shape)"
      ]
    },
    {
      "cell_type": "code",
      "execution_count": null,
      "metadata": {
        "id": "0jUbIwCjKKIM",
        "outputId": "44279aa1-63d6-4007-94c3-cbcd41b2bdd9"
      },
      "outputs": [
        {
          "data": {
            "text/html": [
              "<div>\n",
              "<style scoped>\n",
              "    .dataframe tbody tr th:only-of-type {\n",
              "        vertical-align: middle;\n",
              "    }\n",
              "\n",
              "    .dataframe tbody tr th {\n",
              "        vertical-align: top;\n",
              "    }\n",
              "\n",
              "    .dataframe thead th {\n",
              "        text-align: right;\n",
              "    }\n",
              "</style>\n",
              "<table border=\"1\" class=\"dataframe\">\n",
              "  <thead>\n",
              "    <tr style=\"text-align: right;\">\n",
              "      <th></th>\n",
              "      <th>f0</th>\n",
              "      <th>f1</th>\n",
              "      <th>f2</th>\n",
              "    </tr>\n",
              "  </thead>\n",
              "  <tbody>\n",
              "    <tr>\n",
              "      <th>count</th>\n",
              "      <td>75000.000</td>\n",
              "      <td>75000.000</td>\n",
              "      <td>75000.000</td>\n",
              "    </tr>\n",
              "    <tr>\n",
              "      <th>mean</th>\n",
              "      <td>0.000</td>\n",
              "      <td>-0.000</td>\n",
              "      <td>0.000</td>\n",
              "    </tr>\n",
              "    <tr>\n",
              "      <th>std</th>\n",
              "      <td>1.000</td>\n",
              "      <td>1.000</td>\n",
              "      <td>1.000</td>\n",
              "    </tr>\n",
              "    <tr>\n",
              "      <th>min</th>\n",
              "      <td>-2.186</td>\n",
              "      <td>-2.178</td>\n",
              "      <td>-3.891</td>\n",
              "    </tr>\n",
              "    <tr>\n",
              "      <th>25%</th>\n",
              "      <td>-0.658</td>\n",
              "      <td>-0.893</td>\n",
              "      <td>-0.680</td>\n",
              "    </tr>\n",
              "    <tr>\n",
              "      <th>50%</th>\n",
              "      <td>0.002</td>\n",
              "      <td>-0.001</td>\n",
              "      <td>0.004</td>\n",
              "    </tr>\n",
              "    <tr>\n",
              "      <th>75%</th>\n",
              "      <td>0.657</td>\n",
              "      <td>0.893</td>\n",
              "      <td>0.683</td>\n",
              "    </tr>\n",
              "    <tr>\n",
              "      <th>max</th>\n",
              "      <td>2.139</td>\n",
              "      <td>2.169</td>\n",
              "      <td>4.154</td>\n",
              "    </tr>\n",
              "  </tbody>\n",
              "</table>\n",
              "</div>"
            ],
            "text/plain": [
              "             f0        f1        f2\n",
              "count 75000.000 75000.000 75000.000\n",
              "mean      0.000    -0.000     0.000\n",
              "std       1.000     1.000     1.000\n",
              "min      -2.186    -2.178    -3.891\n",
              "25%      -0.658    -0.893    -0.680\n",
              "50%       0.002    -0.001     0.004\n",
              "75%       0.657     0.893     0.683\n",
              "max       2.139     2.169     4.154"
            ]
          },
          "execution_count": 11,
          "metadata": {},
          "output_type": "execute_result"
        }
      ],
      "source": [
        "features_train_0.describe()"
      ]
    },
    {
      "cell_type": "code",
      "execution_count": null,
      "metadata": {
        "id": "p7-LIyxBKKIN"
      },
      "outputs": [],
      "source": [
        "def modeling(features_train, features_valid, target_train, target_valid):\n",
        "    \n",
        "    model = LinearRegression() # инициализируем модель LinearRegression\n",
        "    model.fit(features_train, target_train) # обучаем модель на тренировочной выборке\n",
        "    predictions_valid = pd.Series(model.predict(features_valid)) # получаем предсказания модели на валидационной выборке\n",
        "\n",
        "    rmse = mean_squared_error(target_valid, predictions_valid)**0.5 # считаем значение метрики RMSE на валидационной выборке\n",
        "    mean_pred_pr = predictions_valid.mean()\n",
        "    \n",
        "    return predictions_valid, rmse, mean_pred_pr"
      ]
    },
    {
      "cell_type": "code",
      "execution_count": null,
      "metadata": {
        "id": "L7S0_b02KKIO",
        "outputId": "fbc2535e-713f-40a9-a327-6b9c57370316"
      },
      "outputs": [
        {
          "name": "stdout",
          "output_type": "stream",
          "text": [
            "Для региона 1 средний запас предсказанного сырья составил 92.59, а RMSE модели 37.58\n",
            "Для региона 2 средний запас предсказанного сырья составил 68.73, а RMSE модели 0.89\n",
            "Для региона 3 средний запас предсказанного сырья составил 94.97, а RMSE модели 40.03\n"
          ]
        }
      ],
      "source": [
        "# получим данные для всех регионов\n",
        "predictions_valid_0, rmse_0, mean_pred_pr_0 = modeling(features_train_0, features_valid_0, target_train_0, target_valid_0)\n",
        "predictions_valid_1, rmse_1, mean_pred_pr_1 = modeling(features_train_1, features_valid_1, target_train_1, target_valid_1)\n",
        "predictions_valid_2, rmse_2, mean_pred_pr_2 = modeling(features_train_2, features_valid_2, target_train_2, target_valid_2)\n",
        "print('Для региона 1 средний запас предсказанного сырья составил {:.2f}, а RMSE модели {:.2f}'.format(mean_pred_pr_0, rmse_0))\n",
        "print('Для региона 2 средний запас предсказанного сырья составил {:.2f}, а RMSE модели {:.2f}'.format(mean_pred_pr_1, rmse_1))\n",
        "print('Для региона 3 средний запас предсказанного сырья составил {:.2f}, а RMSE модели {:.2f}'.format(mean_pred_pr_2, rmse_2))"
      ]
    },
    {
      "cell_type": "code",
      "execution_count": null,
      "metadata": {
        "id": "5tZYPrDVKKIO",
        "outputId": "0c5d88a2-d1ad-407b-e402-b08d3aba3587"
      },
      "outputs": [
        {
          "name": "stdout",
          "output_type": "stream",
          "text": [
            "Для региона 1 истинный средний запас сырья равен 92.08\n",
            "Для региона 2 истинный средний запас сырья равен 68.72\n",
            "Для региона 3 истинный средний запас сырья равен 94.88\n"
          ]
        }
      ],
      "source": [
        "print('Для региона 1 истинный средний запас сырья равен {:.2f}'.format(target_valid_0.mean()))\n",
        "print('Для региона 2 истинный средний запас сырья равен {:.2f}'.format(target_valid_1.mean()))\n",
        "print('Для региона 3 истинный средний запас сырья равен {:.2f}'.format(target_valid_2.mean()))"
      ]
    },
    {
      "cell_type": "markdown",
      "metadata": {
        "id": "OLqPY-49KKIP"
      },
      "source": [
        "**Вывод**\n",
        "\n",
        "Все 3 модели предсказывают близкие к истинным значения, т.к. истинные средние запасы отличаются от предсказанных для каждой модели всего на несколько сотых.\n",
        "\n",
        "Наилучшими прогнозными свойствами обладает модель 2, т.к. признак f2 имеет прямую зависимость с целевым признаком и определяет поведение модели. Предсказательные способности моделей для 1 и 3 регионов примерно одинаковые (согласно параметрам RMSE)."
      ]
    },
    {
      "cell_type": "markdown",
      "metadata": {
        "id": "uWGKvW5fKKIQ"
      },
      "source": [
        "## Подготовка к расчёту прибыли"
      ]
    },
    {
      "cell_type": "code",
      "execution_count": null,
      "metadata": {
        "id": "LMuQQghZKKIQ"
      },
      "outputs": [],
      "source": [
        "EXPLORE_COUNT = 500 # количество точек для исследования\n",
        "MINING_COUNT = 200 # количество точек для разработки\n",
        "MINING_BUDGET = 10000 # бюджет на разработку скважин в регионе в млн. руб.\n",
        "REVENUE_PER_BARREL = 0.45 # доход с 1 тыс баррель в млн. руб\n",
        "LOSS_PROBABILITY = 0.025 # максимальная вероятность убытков\n",
        "BOOTSTRAP_SAMPLES = 1000"
      ]
    },
    {
      "cell_type": "markdown",
      "metadata": {
        "id": "TwVm6GjOKKIS"
      },
      "source": [
        "Для расчета достаточного объема сырья для безубыточной разработки новой скважины необходимо:\n",
        "\n",
        "Вычислить допустимые средние затраты на разработку одной скважины - разделить бюджет на количество скважин.\n",
        "Вычислить какое количество в тыс. баррель необходимо для покрытия затрат на одну скважину."
      ]
    },
    {
      "cell_type": "code",
      "execution_count": null,
      "metadata": {
        "id": "GfeCtXeZKKIT",
        "outputId": "28da29aa-6336-452b-8105-593693ac0552"
      },
      "outputs": [
        {
          "name": "stdout",
          "output_type": "stream",
          "text": [
            "Необходимый объем сырья для безубыточной разработки 1 скважины в тыс. баррелей 111.11\n"
          ]
        }
      ],
      "source": [
        "budget_per_borehole = MINING_BUDGET / MINING_COUNT # затраты на разработку одной скважины\n",
        "\n",
        "# необходимый объем сырья для безубыточной разработки 1 скважины в тыс. баррелей\n",
        "sufficient_product_volume = budget_per_borehole / REVENUE_PER_BARREL\n",
        "print('Необходимый объем сырья для безубыточной разработки 1 скважины в тыс. баррелей {:.2f}'.format(sufficient_product_volume))"
      ]
    },
    {
      "cell_type": "markdown",
      "metadata": {
        "id": "O-8NJLwMKKIU"
      },
      "source": [
        "Необходимый объем сырья для того, чтобы разработка скважины была окупаемой составил 111 тыс. баррелей. Средние значения запасов сырья для всех трех регионов ниже необходимого объема, что говорит о том, что при осуществлении разработки скважин, выбранных случайным образом, имеется высокая доля риска не окупить затраченный бюджет. Поэтому важно иметь модель, которая наиболее корректно предсказывала бы объем продукта в зависимости от известных факторов. В следующем этапе проверим работоспособность созданных ранее моделей для определения скважин с максимальными значениями предсказаний."
      ]
    },
    {
      "cell_type": "markdown",
      "metadata": {
        "id": "uwg10F7_KKIV"
      },
      "source": [
        "## Расчёт прибыли и рисков "
      ]
    },
    {
      "cell_type": "markdown",
      "metadata": {
        "id": "5Jugx_EXKKIV"
      },
      "source": [
        "Произведем выбор скважин с максимальными значениями предсказаний. По условиям задачи для разработки берутся 200 лучших скважин. Для выбранных скважин найдем соответствующие им истинные значения и по ним проведем расчет прибыли. Добавим все в функцию, чтобы не дублировать код для каждого региона."
      ]
    },
    {
      "cell_type": "code",
      "execution_count": null,
      "metadata": {
        "id": "JVCrWLO5KKIW"
      },
      "outputs": [],
      "source": [
        "def income_calc(target_valid, predictions_valid):\n",
        "    pred_choice = predictions_valid.sort_values(ascending=False).head(200) # выбираем 200 скважин с максимальным объемом нефти\n",
        "    target_choice = target_valid.reset_index(drop=True)[pred_choice.index] # определяем верные значения для отобранных 200 скважин\n",
        "    income = target_choice.sum() * REVENUE_PER_BARREL # доход в млн. рублей с 200 скважин\n",
        "    return income"
      ]
    },
    {
      "cell_type": "code",
      "execution_count": null,
      "metadata": {
        "id": "lDkAz-27KKIW",
        "outputId": "a44f8545-b1e5-4b1f-c498-b175fefc37bf"
      },
      "outputs": [
        {
          "name": "stdout",
          "output_type": "stream",
          "text": [
            "Прибыль в с 200 выбранных по предсказаниям модели скважин составит:\n",
            "для региона 1 - 3320.826 млн. руб.\n",
            "для региона 2 - 2415.087 млн. руб.\n",
            "для региона 3 - 2710.350 млн. руб.\n"
          ]
        }
      ],
      "source": [
        "print('Прибыль в с 200 выбранных по предсказаниям модели скважин составит:')\n",
        "print('для региона 1 - {:.3f} млн. руб.'.format(income_calc(target_valid_0, predictions_valid_0) - MINING_BUDGET))\n",
        "print('для региона 2 - {:.3f} млн. руб.'.format(income_calc(target_valid_1, predictions_valid_1) - MINING_BUDGET))\n",
        "print('для региона 3 - {:.3f} млн. руб.'.format(income_calc(target_valid_2, predictions_valid_2) - MINING_BUDGET))"
      ]
    },
    {
      "cell_type": "markdown",
      "metadata": {
        "id": "4ICgwvNOKKIX"
      },
      "source": [
        "Таким образом, мы получили очень высокие значения прибыли для каждого региона (от 2.4 млрд руб. до 3.2 млрд руб). НО! Данные значения мы можем получить, если проведем геолоразведку по 25 000 точкам, что повлечет за собой несоизмеримые с вложениями затраты. Согласно требованиям заказчика мы можем провести геолоразведку только по 500 точкам."
      ]
    },
    {
      "cell_type": "code",
      "execution_count": null,
      "metadata": {
        "id": "j0jdrY3nKKIX"
      },
      "outputs": [],
      "source": [
        "def revenue (target_valid, predictions_valid, MINING_COUNT):\n",
        "    pred_choice = predictions_valid.sort_values(ascending=False) # сортируем скважины по значениям их предсказаний\n",
        "    \n",
        "    # определяем верные значения для отобранных случайных скважин и берем только нужное количество\n",
        "    target_choice = target_valid[pred_choice.index][:MINING_COUNT]\n",
        "    income = target_choice.sum() * REVENUE_PER_BARREL # доход в млн. рублей\n",
        "    return income"
      ]
    },
    {
      "cell_type": "code",
      "execution_count": null,
      "metadata": {
        "id": "LvKyYj4PKKIY"
      },
      "outputs": [],
      "source": [
        "# создадим ф-ю для применения для каждого региона\n",
        "def income_distribution (predictions_valid, target_valid, BOOTSTRAP_SAMPLES, EXPLORE_COUNT):\n",
        "    state = np.random.RandomState(12345)\n",
        "    \n",
        "    count = 0 # с помощью этого счетчика будем считать вероятность убытков в регионе\n",
        "\n",
        "    values = [] # здесь будут все значения выручек для 1000 выборок\n",
        "    \n",
        "    for i in range(BOOTSTRAP_SAMPLES): # создаем 1000 выборок\n",
        "    \n",
        "        # у целевого признака валидац. выборки сбрасываем индексы и случайно выбираем нужное количество скважин\n",
        "        target_subsample = target_valid.reset_index(drop=True).sample(EXPLORE_COUNT, replace=True, random_state=state)\n",
        "        \n",
        "        # из предсказаний выбираем строки соответствующие отобранным строкам в целевом признаке\n",
        "        probs_subsample = predictions_valid[target_subsample.index]\n",
        "        \n",
        "        # считаем выручку для отобранных строк, но только для нужного количества скважин\n",
        "        rev = revenue(target_subsample, probs_subsample, MINING_COUNT) - MINING_BUDGET\n",
        "        # добавляем выручку в список выручек всех выборок\n",
        "        values.append(rev)\n",
        "        \n",
        "        #проверяем не является выборка убыточной, если является, то увеличиваем счетчик\n",
        "        if rev < 0:\n",
        "            count +=1\n",
        "\n",
        "    values = pd.Series(values)\n",
        "    \n",
        "    #посчитаем и выведем среднюю выручку\n",
        "    mean = values.mean()\n",
        "    print(\"Средняя выручка:\", mean, 'млн рублей')\n",
        "    \n",
        "    # посчитаем и выведем 95-% доверительный интервал\n",
        "    confidence_interval = st.t.interval(0.95, len(values)-1, values.mean(), np.std(values, ddof=1))\n",
        "    print(\"95%-ый доверительный интервал:\", confidence_interval)\n",
        "    \n",
        "    pvalue = 1. * count / BOOTSTRAP_SAMPLES\n",
        "    if pvalue < LOSS_PROBABILITY:\n",
        "        print(\"Вероятность убытков равна {:.2%} и является меньше допустимой, регион подходит по критериям\".format(pvalue))\n",
        "    else:\n",
        "        print(\"Вероятность убытков равна {:.2%} и является больше допустимой, регион не подходит по критериям\".format(pvalue))    \n",
        "    \n",
        "    # построим распределение выручки по региону\n",
        "    plt.figure()\n",
        "    _ = plt.hist(values,  bins=100)\n",
        "    \n",
        "    # левая граница доверительного интервала\n",
        "    lower = values.quantile(0.025)\n",
        "    # правая граница доверительного интервала\n",
        "    higher = values.quantile(0.975)\n",
        "    plt.title('Гистограмма распределения прибыли')\n",
        "    plt.xlabel('Прибыль в млн. рублей')"
      ]
    },
    {
      "cell_type": "code",
      "execution_count": null,
      "metadata": {
        "id": "mh9OmPgcKKIZ",
        "outputId": "61e2368e-834a-4550-9add-3ed32a766656"
      },
      "outputs": [
        {
          "name": "stdout",
          "output_type": "stream",
          "text": [
            "Для первого региона при случайном выборе 500 скважин получаются следующие показатели\n",
            "Средняя выручка: 425.9385269105927 млн рублей\n",
            "95%-ый доверительный интервал: (-118.17308158673279, 970.0501354079182)\n",
            "Вероятность убытков равна 6.00% и является больше допустимой, регион не подходит по критериям\n"
          ]
        },
        {
          "data": {
            "image/png": "[encoded data removed]",
            "text/plain": [
              "<Figure size 432x288 with 1 Axes>"
            ]
          },
          "metadata": {
            "needs_background": "light"
          },
          "output_type": "display_data"
        }
      ],
      "source": [
        "print('Для первого региона при случайном выборе 500 скважин получаются следующие показатели')\n",
        "income_distribution (predictions_valid_0, target_valid_0, BOOTSTRAP_SAMPLES, EXPLORE_COUNT)"
      ]
    },
    {
      "cell_type": "code",
      "execution_count": null,
      "metadata": {
        "id": "trob-MUaKKIa",
        "outputId": "d0342822-d755-4582-9558-a80d49492981"
      },
      "outputs": [
        {
          "name": "stdout",
          "output_type": "stream",
          "text": [
            "Для второго региона при случайном выборе 500 скважин получаются следующие показатели\n",
            "Средняя выручка: 515.2227734432902 млн рублей\n",
            "95%-ый доверительный интервал: (85.11198847686433, 945.333558409716)\n",
            "Вероятность убытков равна 1.00% и является меньше допустимой, регион подходит по критериям\n"
          ]
        },
        {
          "data": {
            "image/png": "[encoded data removed]",
            "text/plain": [
              "<Figure size 432x288 with 1 Axes>"
            ]
          },
          "metadata": {
            "needs_background": "light"
          },
          "output_type": "display_data"
        }
      ],
      "source": [
        "print('Для второго региона при случайном выборе 500 скважин получаются следующие показатели')\n",
        "income_distribution (predictions_valid_1, target_valid_1, BOOTSTRAP_SAMPLES, EXPLORE_COUNT)"
      ]
    },
    {
      "cell_type": "code",
      "execution_count": null,
      "metadata": {
        "id": "8yB1gEG0KKIa",
        "outputId": "a645dff5-d25e-452d-bde1-e34fc6b3245f"
      },
      "outputs": [
        {
          "name": "stdout",
          "output_type": "stream",
          "text": [
            "Для третьего региона при случайном выборе 500 скважин получаются следующие показатели\n",
            "Средняя выручка: 435.00836278275585 млн рублей\n",
            "95%-ый доверительный интервал: (-120.12349557730545, 990.1402211428172)\n",
            "Вероятность убытков равна 6.40% и является больше допустимой, регион не подходит по критериям\n"
          ]
        },
        {
          "data": {
            "image/png": "[encoded data removed]",
            "text/plain": [
              "<Figure size 432x288 with 1 Axes>"
            ]
          },
          "metadata": {
            "needs_background": "light"
          },
          "output_type": "display_data"
        }
      ],
      "source": [
        "print('Для третьего региона при случайном выборе 500 скважин получаются следующие показатели')\n",
        "income_distribution (predictions_valid_2, target_valid_2, BOOTSTRAP_SAMPLES, EXPLORE_COUNT)"
      ]
    },
    {
      "cell_type": "markdown",
      "metadata": {
        "id": "6hgjZgOTKKIb"
      },
      "source": [
        "**Общий вывод**\n",
        "\n",
        "Из полученных данных видно следующее:\n",
        "\n",
        "При случайном выборе 500 скважин для проведения геолоразведки, потенциальная прибыль падает в среднем в 6 раз (с 3 млрд рублей до 0,5 млрд рублей) по сравнению с ситуацией, если бы мы проводили разведку для всего объема скважин. Рекомендуем заказчику определить объем вложений для проведения геолоразведки 1-й скважины и включения данного параметра в бизнес-модель.\n",
        "\n",
        "Согласно расчитанной средней выручке все три региона являются прибыльными, средние чеки приняли значения: регион 1 - 426 млн. рублей, регион 2 - 515 млн. рублей, регион 3 - 435 млн. рублей.\n",
        "\n",
        "1-ый и 3-й регионы обладают очень высокой вероятностью убытков (6 и 6.4 % соответственно), поэтому не проходят по критериям установленной бизнес-задачи (вероятность убытков должна быть меньше 2,5 %). \n",
        "\n",
        "Также эта ситуация хорошо описывается 95-% доврительным интервалом. Левая граница, которая отделяет 2.5 % данных для 1-го и 3-го регионов принимает отрицательное значение, что говорит о том, что более 2.5 % выборок имеют отрицательную прибыль.\n",
        "\n",
        "**2-й регион** оказался лидирующим по всем показателям. Он обладает наибольшим средним чеком, а также единственный соответствует условию по минимальной вероятности убытков (левая граница 95-% доверительного интервала - положительная). В связи с чем для дальнейшей разработки заказчику предлагается принять только 2-й регион."
      ]
    },
    {
      "cell_type": "code",
      "execution_count": null,
      "metadata": {
        "id": "4VcDHf-5KKIe"
      },
      "outputs": [],
      "source": []
    }
  ],
  "metadata": {
    "ExecuteTimeLog": [
      {
        "duration": 1758,
        "start_time": "2022-03-17T15:25:20.418Z"
      },
      {
        "duration": 177,
        "start_time": "2022-03-17T15:25:54.704Z"
      },
      {
        "duration": 69,
        "start_time": "2022-03-17T15:26:30.772Z"
      },
      {
        "duration": 1108,
        "start_time": "2022-03-17T15:27:32.471Z"
      },
      {
        "duration": 16,
        "start_time": "2022-03-17T15:27:35.283Z"
      },
      {
        "duration": 10,
        "start_time": "2022-03-17T15:27:58.760Z"
      },
      {
        "duration": 10,
        "start_time": "2022-03-17T15:28:04.177Z"
      },
      {
        "duration": 10,
        "start_time": "2022-03-17T15:28:14.199Z"
      },
      {
        "duration": 42,
        "start_time": "2022-03-17T15:28:41.009Z"
      },
      {
        "duration": 76,
        "start_time": "2022-03-17T15:29:43.383Z"
      },
      {
        "duration": 10,
        "start_time": "2022-03-17T15:30:51.171Z"
      },
      {
        "duration": 4,
        "start_time": "2022-03-17T15:34:47.386Z"
      },
      {
        "duration": 100,
        "start_time": "2022-03-17T15:35:21.748Z"
      },
      {
        "duration": 30,
        "start_time": "2022-03-17T15:35:33.442Z"
      },
      {
        "duration": 5,
        "start_time": "2022-03-17T15:35:55.026Z"
      },
      {
        "duration": 193,
        "start_time": "2022-03-17T15:36:09.384Z"
      },
      {
        "duration": 6,
        "start_time": "2022-03-17T15:36:25.754Z"
      },
      {
        "duration": 3,
        "start_time": "2022-03-17T15:37:33.167Z"
      },
      {
        "duration": 3,
        "start_time": "2022-03-17T15:38:06.591Z"
      },
      {
        "duration": 4,
        "start_time": "2022-03-17T15:39:01.943Z"
      },
      {
        "duration": 18,
        "start_time": "2022-03-17T15:39:10.482Z"
      },
      {
        "duration": 4,
        "start_time": "2022-03-17T15:40:04.324Z"
      },
      {
        "duration": 7,
        "start_time": "2022-03-17T15:40:21.437Z"
      },
      {
        "duration": 1589,
        "start_time": "2022-03-17T15:40:30.363Z"
      },
      {
        "duration": 1688,
        "start_time": "2022-03-17T15:41:10.702Z"
      },
      {
        "duration": 1585,
        "start_time": "2022-03-17T15:41:21.985Z"
      },
      {
        "duration": 1761,
        "start_time": "2022-03-17T15:45:24.728Z"
      },
      {
        "duration": 540,
        "start_time": "2022-03-17T15:45:26.491Z"
      },
      {
        "duration": 15,
        "start_time": "2022-03-17T15:45:27.033Z"
      },
      {
        "duration": 21,
        "start_time": "2022-03-17T15:45:27.050Z"
      },
      {
        "duration": 13,
        "start_time": "2022-03-17T15:45:27.073Z"
      },
      {
        "duration": 57,
        "start_time": "2022-03-17T15:45:27.088Z"
      },
      {
        "duration": 91,
        "start_time": "2022-03-17T15:45:27.147Z"
      },
      {
        "duration": 25,
        "start_time": "2022-03-17T15:45:27.240Z"
      },
      {
        "duration": 5,
        "start_time": "2022-03-17T15:45:27.268Z"
      },
      {
        "duration": 121,
        "start_time": "2022-03-17T15:45:27.275Z"
      },
      {
        "duration": 30,
        "start_time": "2022-03-17T15:45:27.398Z"
      },
      {
        "duration": 5,
        "start_time": "2022-03-17T15:45:27.430Z"
      },
      {
        "duration": 132,
        "start_time": "2022-03-17T15:45:27.437Z"
      },
      {
        "duration": 74,
        "start_time": "2022-03-17T15:45:27.590Z"
      },
      {
        "duration": 9,
        "start_time": "2022-03-17T15:45:27.666Z"
      },
      {
        "duration": 8,
        "start_time": "2022-03-17T15:45:27.677Z"
      },
      {
        "duration": 82,
        "start_time": "2022-03-17T15:45:27.687Z"
      },
      {
        "duration": 16,
        "start_time": "2022-03-17T15:45:27.771Z"
      },
      {
        "duration": 5,
        "start_time": "2022-03-17T15:45:27.789Z"
      },
      {
        "duration": 10,
        "start_time": "2022-03-17T15:45:27.796Z"
      },
      {
        "duration": 1642,
        "start_time": "2022-03-17T15:45:27.808Z"
      },
      {
        "duration": 1603,
        "start_time": "2022-03-17T15:45:29.451Z"
      },
      {
        "duration": 1758,
        "start_time": "2022-03-17T15:45:31.055Z"
      },
      {
        "duration": 1803,
        "start_time": "2022-03-17T16:17:21.475Z"
      },
      {
        "duration": 523,
        "start_time": "2022-03-17T16:17:23.281Z"
      },
      {
        "duration": 12,
        "start_time": "2022-03-17T16:17:23.806Z"
      },
      {
        "duration": 7,
        "start_time": "2022-03-17T16:17:23.820Z"
      },
      {
        "duration": 8,
        "start_time": "2022-03-17T16:17:23.829Z"
      },
      {
        "duration": 54,
        "start_time": "2022-03-17T16:17:23.839Z"
      },
      {
        "duration": 90,
        "start_time": "2022-03-17T16:17:23.894Z"
      },
      {
        "duration": 11,
        "start_time": "2022-03-17T16:17:23.985Z"
      },
      {
        "duration": 9,
        "start_time": "2022-03-17T16:17:23.998Z"
      },
      {
        "duration": 85,
        "start_time": "2022-03-17T16:17:24.008Z"
      },
      {
        "duration": 22,
        "start_time": "2022-03-17T16:17:24.095Z"
      },
      {
        "duration": 3,
        "start_time": "2022-03-17T16:17:24.119Z"
      },
      {
        "duration": 243,
        "start_time": "2022-03-17T16:17:24.124Z"
      },
      {
        "duration": 94,
        "start_time": "2022-03-17T16:17:24.371Z"
      },
      {
        "duration": 5,
        "start_time": "2022-03-17T16:17:24.467Z"
      },
      {
        "duration": 6,
        "start_time": "2022-03-17T16:17:24.474Z"
      },
      {
        "duration": 5,
        "start_time": "2022-03-17T16:17:24.482Z"
      },
      {
        "duration": 79,
        "start_time": "2022-03-17T16:17:24.489Z"
      },
      {
        "duration": 4,
        "start_time": "2022-03-17T16:17:24.570Z"
      },
      {
        "duration": 12,
        "start_time": "2022-03-17T16:17:24.576Z"
      },
      {
        "duration": 2709,
        "start_time": "2022-03-17T16:17:24.590Z"
      },
      {
        "duration": 1564,
        "start_time": "2022-03-17T16:17:27.301Z"
      },
      {
        "duration": 1653,
        "start_time": "2022-03-17T16:17:28.867Z"
      },
      {
        "duration": 2553,
        "start_time": "2022-03-18T13:57:10.516Z"
      },
      {
        "duration": 455,
        "start_time": "2022-03-18T13:57:13.072Z"
      },
      {
        "duration": 21,
        "start_time": "2022-03-18T13:57:13.530Z"
      },
      {
        "duration": 12,
        "start_time": "2022-03-18T13:57:13.554Z"
      },
      {
        "duration": 11,
        "start_time": "2022-03-18T13:57:13.568Z"
      },
      {
        "duration": 82,
        "start_time": "2022-03-18T13:57:13.581Z"
      },
      {
        "duration": 117,
        "start_time": "2022-03-18T13:57:13.665Z"
      },
      {
        "duration": 13,
        "start_time": "2022-03-18T13:57:13.784Z"
      },
      {
        "duration": 8,
        "start_time": "2022-03-18T13:57:13.799Z"
      },
      {
        "duration": 126,
        "start_time": "2022-03-18T13:57:13.811Z"
      },
      {
        "duration": 32,
        "start_time": "2022-03-18T13:57:13.943Z"
      },
      {
        "duration": 5,
        "start_time": "2022-03-18T13:57:13.978Z"
      },
      {
        "duration": 367,
        "start_time": "2022-03-18T13:57:13.985Z"
      },
      {
        "duration": 98,
        "start_time": "2022-03-18T13:57:14.445Z"
      },
      {
        "duration": 5,
        "start_time": "2022-03-18T13:57:14.545Z"
      },
      {
        "duration": 7,
        "start_time": "2022-03-18T13:57:14.552Z"
      },
      {
        "duration": 7,
        "start_time": "2022-03-18T13:57:14.562Z"
      },
      {
        "duration": 206,
        "start_time": "2022-03-18T13:57:14.571Z"
      },
      {
        "duration": 0,
        "start_time": "2022-03-18T13:57:14.780Z"
      },
      {
        "duration": 0,
        "start_time": "2022-03-18T13:57:14.782Z"
      },
      {
        "duration": 0,
        "start_time": "2022-03-18T13:57:14.784Z"
      },
      {
        "duration": 0,
        "start_time": "2022-03-18T13:57:14.785Z"
      },
      {
        "duration": 0,
        "start_time": "2022-03-18T13:57:14.787Z"
      },
      {
        "duration": 5,
        "start_time": "2022-03-18T13:58:27.895Z"
      },
      {
        "duration": 20,
        "start_time": "2022-03-18T13:58:28.724Z"
      },
      {
        "duration": 5,
        "start_time": "2022-03-18T13:58:32.521Z"
      },
      {
        "duration": 12,
        "start_time": "2022-03-18T13:58:36.022Z"
      },
      {
        "duration": 12,
        "start_time": "2022-03-18T13:58:46.488Z"
      },
      {
        "duration": 18,
        "start_time": "2022-03-18T13:59:21.790Z"
      },
      {
        "duration": 16,
        "start_time": "2022-03-18T13:59:48.861Z"
      },
      {
        "duration": 3154,
        "start_time": "2022-03-18T13:59:51.419Z"
      },
      {
        "duration": 0,
        "start_time": "2022-03-18T13:59:54.575Z"
      },
      {
        "duration": 16,
        "start_time": "2022-03-18T13:59:55.190Z"
      },
      {
        "duration": 17,
        "start_time": "2022-03-18T14:00:23.449Z"
      },
      {
        "duration": 2400,
        "start_time": "2022-03-18T14:00:26.759Z"
      },
      {
        "duration": 11,
        "start_time": "2022-03-18T14:01:30.753Z"
      },
      {
        "duration": 2500,
        "start_time": "2022-03-18T14:01:34.153Z"
      },
      {
        "duration": 2739,
        "start_time": "2022-03-18T14:01:39.610Z"
      },
      {
        "duration": 2734,
        "start_time": "2022-03-18T14:01:45.327Z"
      },
      {
        "duration": 2761,
        "start_time": "2022-03-18T14:01:55.978Z"
      },
      {
        "duration": 464,
        "start_time": "2022-03-18T14:01:58.744Z"
      },
      {
        "duration": 18,
        "start_time": "2022-03-18T14:01:59.210Z"
      },
      {
        "duration": 21,
        "start_time": "2022-03-18T14:01:59.230Z"
      },
      {
        "duration": 11,
        "start_time": "2022-03-18T14:01:59.254Z"
      },
      {
        "duration": 90,
        "start_time": "2022-03-18T14:01:59.268Z"
      },
      {
        "duration": 119,
        "start_time": "2022-03-18T14:01:59.362Z"
      },
      {
        "duration": 14,
        "start_time": "2022-03-18T14:01:59.483Z"
      },
      {
        "duration": 11,
        "start_time": "2022-03-18T14:01:59.499Z"
      },
      {
        "duration": 125,
        "start_time": "2022-03-18T14:01:59.512Z"
      },
      {
        "duration": 36,
        "start_time": "2022-03-18T14:01:59.639Z"
      },
      {
        "duration": 6,
        "start_time": "2022-03-18T14:01:59.677Z"
      },
      {
        "duration": 366,
        "start_time": "2022-03-18T14:01:59.685Z"
      },
      {
        "duration": 91,
        "start_time": "2022-03-18T14:02:00.057Z"
      },
      {
        "duration": 10,
        "start_time": "2022-03-18T14:02:00.151Z"
      },
      {
        "duration": 9,
        "start_time": "2022-03-18T14:02:00.164Z"
      },
      {
        "duration": 13,
        "start_time": "2022-03-18T14:02:00.176Z"
      },
      {
        "duration": 32,
        "start_time": "2022-03-18T14:02:00.191Z"
      },
      {
        "duration": 19,
        "start_time": "2022-03-18T14:02:00.226Z"
      },
      {
        "duration": 13,
        "start_time": "2022-03-18T14:02:00.248Z"
      },
      {
        "duration": 2628,
        "start_time": "2022-03-18T14:02:00.263Z"
      },
      {
        "duration": 2553,
        "start_time": "2022-03-18T14:02:02.893Z"
      },
      {
        "duration": 2697,
        "start_time": "2022-03-18T14:02:05.448Z"
      },
      {
        "duration": 11,
        "start_time": "2022-03-18T17:30:52.505Z"
      },
      {
        "duration": 3010,
        "start_time": "2022-03-18T17:31:32.870Z"
      },
      {
        "duration": 5094,
        "start_time": "2022-03-18T17:31:35.883Z"
      },
      {
        "duration": 18,
        "start_time": "2022-03-18T17:31:40.979Z"
      },
      {
        "duration": 12,
        "start_time": "2022-03-18T17:31:40.999Z"
      },
      {
        "duration": 37,
        "start_time": "2022-03-18T17:31:41.016Z"
      },
      {
        "duration": 80,
        "start_time": "2022-03-18T17:31:41.056Z"
      },
      {
        "duration": 127,
        "start_time": "2022-03-18T17:31:41.138Z"
      },
      {
        "duration": 14,
        "start_time": "2022-03-18T17:31:41.268Z"
      },
      {
        "duration": 10,
        "start_time": "2022-03-18T17:31:41.284Z"
      },
      {
        "duration": 140,
        "start_time": "2022-03-18T17:31:41.296Z"
      },
      {
        "duration": 42,
        "start_time": "2022-03-18T17:31:41.442Z"
      },
      {
        "duration": 6,
        "start_time": "2022-03-18T17:31:41.486Z"
      },
      {
        "duration": 283,
        "start_time": "2022-03-18T17:31:41.495Z"
      },
      {
        "duration": 72,
        "start_time": "2022-03-18T17:31:41.786Z"
      },
      {
        "duration": 36,
        "start_time": "2022-03-18T17:31:41.861Z"
      },
      {
        "duration": 10,
        "start_time": "2022-03-18T17:31:41.959Z"
      },
      {
        "duration": 23,
        "start_time": "2022-03-18T17:31:41.971Z"
      },
      {
        "duration": 28,
        "start_time": "2022-03-18T17:31:41.996Z"
      },
      {
        "duration": 6,
        "start_time": "2022-03-18T17:31:42.027Z"
      },
      {
        "duration": 48,
        "start_time": "2022-03-18T17:31:42.036Z"
      },
      {
        "duration": 3060,
        "start_time": "2022-03-18T17:31:42.087Z"
      },
      {
        "duration": 0,
        "start_time": "2022-03-18T17:31:45.150Z"
      },
      {
        "duration": 0,
        "start_time": "2022-03-18T17:31:45.152Z"
      },
      {
        "duration": 12,
        "start_time": "2022-03-18T17:32:24.572Z"
      },
      {
        "duration": 3572,
        "start_time": "2022-03-18T17:32:28.261Z"
      },
      {
        "duration": 3072,
        "start_time": "2022-03-18T17:32:45.149Z"
      },
      {
        "duration": 3031,
        "start_time": "2022-03-18T17:32:51.922Z"
      },
      {
        "duration": 2311,
        "start_time": "2022-03-18T17:33:19.270Z"
      },
      {
        "duration": 510,
        "start_time": "2022-03-18T17:33:21.584Z"
      },
      {
        "duration": 16,
        "start_time": "2022-03-18T17:33:22.097Z"
      },
      {
        "duration": 10,
        "start_time": "2022-03-18T17:33:22.115Z"
      },
      {
        "duration": 18,
        "start_time": "2022-03-18T17:33:22.155Z"
      },
      {
        "duration": 56,
        "start_time": "2022-03-18T17:33:22.176Z"
      },
      {
        "duration": 126,
        "start_time": "2022-03-18T17:33:22.246Z"
      },
      {
        "duration": 14,
        "start_time": "2022-03-18T17:33:22.374Z"
      },
      {
        "duration": 9,
        "start_time": "2022-03-18T17:33:22.390Z"
      },
      {
        "duration": 130,
        "start_time": "2022-03-18T17:33:22.401Z"
      },
      {
        "duration": 45,
        "start_time": "2022-03-18T17:33:22.533Z"
      },
      {
        "duration": 10,
        "start_time": "2022-03-18T17:33:22.580Z"
      },
      {
        "duration": 174,
        "start_time": "2022-03-18T17:33:22.592Z"
      },
      {
        "duration": 91,
        "start_time": "2022-03-18T17:33:22.771Z"
      },
      {
        "duration": 88,
        "start_time": "2022-03-18T17:33:22.866Z"
      },
      {
        "duration": 24,
        "start_time": "2022-03-18T17:33:22.956Z"
      },
      {
        "duration": 9,
        "start_time": "2022-03-18T17:33:22.982Z"
      },
      {
        "duration": 23,
        "start_time": "2022-03-18T17:33:22.993Z"
      },
      {
        "duration": 5,
        "start_time": "2022-03-18T17:33:23.018Z"
      },
      {
        "duration": 10,
        "start_time": "2022-03-18T17:33:23.025Z"
      },
      {
        "duration": 2877,
        "start_time": "2022-03-18T17:33:23.048Z"
      },
      {
        "duration": 2803,
        "start_time": "2022-03-18T17:33:25.927Z"
      },
      {
        "duration": 4830,
        "start_time": "2022-03-18T17:33:28.732Z"
      }
    ],
    "kernelspec": {
      "display_name": "Python 3 (ipykernel)",
      "language": "python",
      "name": "python3"
    },
    "language_info": {
      "codemirror_mode": {
        "name": "ipython",
        "version": 3
      },
      "file_extension": ".py",
      "mimetype": "text/x-python",
      "name": "python",
      "nbconvert_exporter": "python",
      "pygments_lexer": "ipython3",
      "version": "3.9.5"
    },
    "toc": {
      "base_numbering": 1,
      "nav_menu": {},
      "number_sections": true,
      "sideBar": true,
      "skip_h1_title": true,
      "title_cell": "Table of Contents",
      "title_sidebar": "Contents",
      "toc_cell": false,
      "toc_position": {},
      "toc_section_display": true,
      "toc_window_display": false
    },
    "colab": {
      "provenance": []
    }
  },
  "nbformat": 4,
  "nbformat_minor": 0
}