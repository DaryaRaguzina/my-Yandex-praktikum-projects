{
  "cells": [
    {
      "cell_type": "markdown",
      "metadata": {
        "toc": true,
        "id": "xmo7_-LPD-YD"
      },
      "source": [
        "<h1>Содержание<span class=\"tocSkip\"></span></h1>\n",
        "<div class=\"toc\"><ul class=\"toc-item\"><li><span><a href=\"#Изучение-данных-из-файла\" data-toc-modified-id=\"Изучение-данных-из-файла-1\"><span class=\"toc-item-num\">1&nbsp;&nbsp;</span>Изучение данных из файла</a></span><ul class=\"toc-item\"><li><span><a href=\"#Вывод\" data-toc-modified-id=\"Вывод-1.1\"><span class=\"toc-item-num\">1.1&nbsp;&nbsp;</span>Вывод</a></span></li></ul></li><li><span><a href=\"#Предобработка-данных\" data-toc-modified-id=\"Предобработка-данных-2\"><span class=\"toc-item-num\">2&nbsp;&nbsp;</span>Предобработка данных</a></span><ul class=\"toc-item\"><li><span><a href=\"#Обработка-пропусков\" data-toc-modified-id=\"Обработка-пропусков-2.1\"><span class=\"toc-item-num\">2.1&nbsp;&nbsp;</span>Обработка пропусков</a></span></li><li><span><a href=\"#Замена-типа-данных\" data-toc-modified-id=\"Замена-типа-данных-2.2\"><span class=\"toc-item-num\">2.2&nbsp;&nbsp;</span>Замена типа данных</a></span></li><li><span><a href=\"#Лемматизация\" data-toc-modified-id=\"Лемматизация-2.3\"><span class=\"toc-item-num\">2.3&nbsp;&nbsp;</span>Лемматизация</a></span></li></ul></li><li><span><a href=\"#Расчёты-и-добавление-результатов-в-таблицу\" data-toc-modified-id=\"Расчёты-и-добавление-результатов-в-таблицу-3\"><span class=\"toc-item-num\">3&nbsp;&nbsp;</span>Расчёты и добавление результатов в таблицу</a></span></li><li><span><a href=\"#Исследовательский-анализ-данных\" data-toc-modified-id=\"Исследовательский-анализ-данных-4\"><span class=\"toc-item-num\">4&nbsp;&nbsp;</span>Исследовательский анализ данных</a></span><ul class=\"toc-item\"><li><span><a href=\"#Изучение-параметров:-площадь,-цена,-число-комнат,-высота-потолков\" data-toc-modified-id=\"Изучение-параметров:-площадь,-цена,-число-комнат,-высота-потолков-4.1\"><span class=\"toc-item-num\">4.1&nbsp;&nbsp;</span>Изучение параметров: площадь, цена, число комнат, высота потолков</a></span></li><li><span><a href=\"#Изучение-цен-в-населенных-пунктах\" data-toc-modified-id=\"Изучение-цен-в-населенных-пунктах-4.2\"><span class=\"toc-item-num\">4.2&nbsp;&nbsp;</span>Изучение цен в населенных пунктах</a></span></li><li><span><a href=\"#Изучение-времени-продажи-квартиры\" data-toc-modified-id=\"Изучение-времени-продажи-квартиры-4.3\"><span class=\"toc-item-num\">4.3&nbsp;&nbsp;</span>Изучение времени продажи квартиры</a></span></li><li><span><a href=\"#Исследование-редких-и-выбивающихся-значений\" data-toc-modified-id=\"Исследование-редких-и-выбивающихся-значений-4.4\"><span class=\"toc-item-num\">4.4&nbsp;&nbsp;</span>Исследование редких и выбивающихся значений</a></span></li><li><span><a href=\"#Зависимость-цены-от-площади,-числа-комнат,-удалённости-от-центра,-этажа,-даты-размещения\" data-toc-modified-id=\"Зависимость-цены-от-площади,-числа-комнат,-удалённости-от-центра,-этажа,-даты-размещения-4.5\"><span class=\"toc-item-num\">4.5&nbsp;&nbsp;</span>Зависимость цены от площади, числа комнат, удалённости от центра, этажа, даты размещения</a></span></li><li><span><a href=\"#Зависимость-от-даты-размещения\" data-toc-modified-id=\"Зависимость-от-даты-размещения-4.6\"><span class=\"toc-item-num\">4.6&nbsp;&nbsp;</span>Зависимость от даты размещения</a></span></li><li><span><a href=\"#Квартиры-в-центре-Санкт-Петербурга\" data-toc-modified-id=\"Квартиры-в-центре-Санкт-Петербурга-4.7\"><span class=\"toc-item-num\">4.7&nbsp;&nbsp;</span>Квартиры в центре Санкт-Петербурга</a></span></li></ul></li><li><span><a href=\"#Общий-вывод\" data-toc-modified-id=\"Общий-вывод-5\"><span class=\"toc-item-num\">5&nbsp;&nbsp;</span>Общий вывод</a></span></li><li><span><a href=\"#Чек-лист-готовности-проекта\" data-toc-modified-id=\"Чек-лист-готовности-проекта-6\"><span class=\"toc-item-num\">6&nbsp;&nbsp;</span>Чек-лист готовности проекта</a></span></li></ul></div>"
      ]
    },
    {
      "cell_type": "markdown",
      "metadata": {
        "id": "IVp5twfiD-YE"
      },
      "source": [
        "# Исследование объявлений о продаже квартир\n",
        "\n",
        "В вашем распоряжении данные сервиса Яндекс.Недвижимость — архив объявлений о продаже квартир в Санкт-Петербурге и соседних населённых пунктах за несколько лет. Нужно научиться определять рыночную стоимость объектов недвижимости. Ваша задача — установить параметры. Это позволит построить автоматизированную систему: она отследит аномалии и мошенническую деятельность. \n",
        "\n",
        "По каждой квартире на продажу доступны два вида данных. Первые вписаны пользователем, вторые получены автоматически на основе картографических данных. Например, расстояние до центра, аэропорта, ближайшего парка и водоёма.\n",
        "\n",
        "**Цель исследования**\n",
        "\n",
        "Научиться определять рыночную стоимость объектов недвижимости.\n",
        "\n",
        "Установить параметры, с помощью которых можно будет построить автоматизированную систему, которая отследит аномалии и мошенническую деятельность.\n",
        "\n",
        "**Описание данных**\n",
        "\n",
        "airports_nearest — расстояние до ближайшего аэропорта в метрах (м)\n",
        "\n",
        "balcony — число балконов\n",
        "\n",
        "ceiling_height — высота потолков (м)\n",
        "\n",
        "cityCenters_nearest — расстояние до центра города (м)\n",
        "\n",
        "days_exposition — сколько дней было размещено объявление (от публикации до снятия)\n",
        "\n",
        "first_day_exposition — дата публикации\n",
        "\n",
        "floor — этаж\n",
        "\n",
        "floors_total — всего этажей в доме\n",
        "\n",
        "is_apartment — апартаменты (булев тип)\n",
        "\n",
        "kitchen_area — площадь кухни в квадратных метрах (м²)\n",
        "\n",
        "last_price — цена на момент снятия с публикации\n",
        "\n",
        "living_area — жилая площадь в квадратных метрах (м²)\n",
        "\n",
        "locality_name — название населённого пункта\n",
        "\n",
        "open_plan — свободная планировка (булев тип)\n",
        "\n",
        "parks_around3000 — число парков в радиусе 3 км\n",
        "\n",
        "parks_nearest — расстояние до ближайшего парка (м)\n",
        "\n",
        "ponds_around3000 — число водоёмов в радиусе 3 км\n",
        "\n",
        "ponds_nearest — расстояние до ближайшего водоёма (м)\n",
        "\n",
        "rooms — число комнат\n",
        "\n",
        "studio — квартира-студия (булев тип)\n",
        "\n",
        "total_area — площадь квартиры в квадратных метрах (м²)\n",
        "\n",
        "total_images — число фотографий квартиры в объявлении\n"
      ]
    },
    {
      "cell_type": "markdown",
      "metadata": {
        "id": "-IbmtzZVD-YF"
      },
      "source": [
        "## Изучение данных из файла"
      ]
    },
    {
      "cell_type": "code",
      "execution_count": null,
      "metadata": {
        "id": "KD8iZvIZD-YG",
        "outputId": "6a0a26b8-d598-4eef-a9d7-b3963fdc2705"
      },
      "outputs": [
        {
          "data": {
            "text/html": [
              "<div>\n",
              "<style scoped>\n",
              "    .dataframe tbody tr th:only-of-type {\n",
              "        vertical-align: middle;\n",
              "    }\n",
              "\n",
              "    .dataframe tbody tr th {\n",
              "        vertical-align: top;\n",
              "    }\n",
              "\n",
              "    .dataframe thead th {\n",
              "        text-align: right;\n",
              "    }\n",
              "</style>\n",
              "<table border=\"1\" class=\"dataframe\">\n",
              "  <thead>\n",
              "    <tr style=\"text-align: right;\">\n",
              "      <th></th>\n",
              "      <th>total_images</th>\n",
              "      <th>last_price</th>\n",
              "      <th>total_area</th>\n",
              "      <th>first_day_exposition</th>\n",
              "      <th>rooms</th>\n",
              "      <th>ceiling_height</th>\n",
              "      <th>floors_total</th>\n",
              "      <th>living_area</th>\n",
              "      <th>floor</th>\n",
              "      <th>is_apartment</th>\n",
              "      <th>...</th>\n",
              "      <th>kitchen_area</th>\n",
              "      <th>balcony</th>\n",
              "      <th>locality_name</th>\n",
              "      <th>airports_nearest</th>\n",
              "      <th>cityCenters_nearest</th>\n",
              "      <th>parks_around3000</th>\n",
              "      <th>parks_nearest</th>\n",
              "      <th>ponds_around3000</th>\n",
              "      <th>ponds_nearest</th>\n",
              "      <th>days_exposition</th>\n",
              "    </tr>\n",
              "  </thead>\n",
              "  <tbody>\n",
              "    <tr>\n",
              "      <td>0</td>\n",
              "      <td>20</td>\n",
              "      <td>13000000.0</td>\n",
              "      <td>108.00</td>\n",
              "      <td>2019-03-07T00:00:00</td>\n",
              "      <td>3</td>\n",
              "      <td>2.70</td>\n",
              "      <td>16.0</td>\n",
              "      <td>51.00</td>\n",
              "      <td>8</td>\n",
              "      <td>NaN</td>\n",
              "      <td>...</td>\n",
              "      <td>25.00</td>\n",
              "      <td>NaN</td>\n",
              "      <td>Санкт-Петербург</td>\n",
              "      <td>18863.0</td>\n",
              "      <td>16028.0</td>\n",
              "      <td>1.0</td>\n",
              "      <td>482.0</td>\n",
              "      <td>2.0</td>\n",
              "      <td>755.0</td>\n",
              "      <td>NaN</td>\n",
              "    </tr>\n",
              "    <tr>\n",
              "      <td>1</td>\n",
              "      <td>7</td>\n",
              "      <td>3350000.0</td>\n",
              "      <td>40.40</td>\n",
              "      <td>2018-12-04T00:00:00</td>\n",
              "      <td>1</td>\n",
              "      <td>NaN</td>\n",
              "      <td>11.0</td>\n",
              "      <td>18.60</td>\n",
              "      <td>1</td>\n",
              "      <td>NaN</td>\n",
              "      <td>...</td>\n",
              "      <td>11.00</td>\n",
              "      <td>2.0</td>\n",
              "      <td>посёлок Шушары</td>\n",
              "      <td>12817.0</td>\n",
              "      <td>18603.0</td>\n",
              "      <td>0.0</td>\n",
              "      <td>NaN</td>\n",
              "      <td>0.0</td>\n",
              "      <td>NaN</td>\n",
              "      <td>81.0</td>\n",
              "    </tr>\n",
              "    <tr>\n",
              "      <td>2</td>\n",
              "      <td>10</td>\n",
              "      <td>5196000.0</td>\n",
              "      <td>56.00</td>\n",
              "      <td>2015-08-20T00:00:00</td>\n",
              "      <td>2</td>\n",
              "      <td>NaN</td>\n",
              "      <td>5.0</td>\n",
              "      <td>34.30</td>\n",
              "      <td>4</td>\n",
              "      <td>NaN</td>\n",
              "      <td>...</td>\n",
              "      <td>8.30</td>\n",
              "      <td>0.0</td>\n",
              "      <td>Санкт-Петербург</td>\n",
              "      <td>21741.0</td>\n",
              "      <td>13933.0</td>\n",
              "      <td>1.0</td>\n",
              "      <td>90.0</td>\n",
              "      <td>2.0</td>\n",
              "      <td>574.0</td>\n",
              "      <td>558.0</td>\n",
              "    </tr>\n",
              "    <tr>\n",
              "      <td>3</td>\n",
              "      <td>0</td>\n",
              "      <td>64900000.0</td>\n",
              "      <td>159.00</td>\n",
              "      <td>2015-07-24T00:00:00</td>\n",
              "      <td>3</td>\n",
              "      <td>NaN</td>\n",
              "      <td>14.0</td>\n",
              "      <td>NaN</td>\n",
              "      <td>9</td>\n",
              "      <td>NaN</td>\n",
              "      <td>...</td>\n",
              "      <td>NaN</td>\n",
              "      <td>0.0</td>\n",
              "      <td>Санкт-Петербург</td>\n",
              "      <td>28098.0</td>\n",
              "      <td>6800.0</td>\n",
              "      <td>2.0</td>\n",
              "      <td>84.0</td>\n",
              "      <td>3.0</td>\n",
              "      <td>234.0</td>\n",
              "      <td>424.0</td>\n",
              "    </tr>\n",
              "    <tr>\n",
              "      <td>4</td>\n",
              "      <td>2</td>\n",
              "      <td>10000000.0</td>\n",
              "      <td>100.00</td>\n",
              "      <td>2018-06-19T00:00:00</td>\n",
              "      <td>2</td>\n",
              "      <td>3.03</td>\n",
              "      <td>14.0</td>\n",
              "      <td>32.00</td>\n",
              "      <td>13</td>\n",
              "      <td>NaN</td>\n",
              "      <td>...</td>\n",
              "      <td>41.00</td>\n",
              "      <td>NaN</td>\n",
              "      <td>Санкт-Петербург</td>\n",
              "      <td>31856.0</td>\n",
              "      <td>8098.0</td>\n",
              "      <td>2.0</td>\n",
              "      <td>112.0</td>\n",
              "      <td>1.0</td>\n",
              "      <td>48.0</td>\n",
              "      <td>121.0</td>\n",
              "    </tr>\n",
              "    <tr>\n",
              "      <td>5</td>\n",
              "      <td>10</td>\n",
              "      <td>2890000.0</td>\n",
              "      <td>30.40</td>\n",
              "      <td>2018-09-10T00:00:00</td>\n",
              "      <td>1</td>\n",
              "      <td>NaN</td>\n",
              "      <td>12.0</td>\n",
              "      <td>14.40</td>\n",
              "      <td>5</td>\n",
              "      <td>NaN</td>\n",
              "      <td>...</td>\n",
              "      <td>9.10</td>\n",
              "      <td>NaN</td>\n",
              "      <td>городской посёлок Янино-1</td>\n",
              "      <td>NaN</td>\n",
              "      <td>NaN</td>\n",
              "      <td>NaN</td>\n",
              "      <td>NaN</td>\n",
              "      <td>NaN</td>\n",
              "      <td>NaN</td>\n",
              "      <td>55.0</td>\n",
              "    </tr>\n",
              "    <tr>\n",
              "      <td>6</td>\n",
              "      <td>6</td>\n",
              "      <td>3700000.0</td>\n",
              "      <td>37.30</td>\n",
              "      <td>2017-11-02T00:00:00</td>\n",
              "      <td>1</td>\n",
              "      <td>NaN</td>\n",
              "      <td>26.0</td>\n",
              "      <td>10.60</td>\n",
              "      <td>6</td>\n",
              "      <td>NaN</td>\n",
              "      <td>...</td>\n",
              "      <td>14.40</td>\n",
              "      <td>1.0</td>\n",
              "      <td>посёлок Парголово</td>\n",
              "      <td>52996.0</td>\n",
              "      <td>19143.0</td>\n",
              "      <td>0.0</td>\n",
              "      <td>NaN</td>\n",
              "      <td>0.0</td>\n",
              "      <td>NaN</td>\n",
              "      <td>155.0</td>\n",
              "    </tr>\n",
              "    <tr>\n",
              "      <td>7</td>\n",
              "      <td>5</td>\n",
              "      <td>7915000.0</td>\n",
              "      <td>71.60</td>\n",
              "      <td>2019-04-18T00:00:00</td>\n",
              "      <td>2</td>\n",
              "      <td>NaN</td>\n",
              "      <td>24.0</td>\n",
              "      <td>NaN</td>\n",
              "      <td>22</td>\n",
              "      <td>NaN</td>\n",
              "      <td>...</td>\n",
              "      <td>18.90</td>\n",
              "      <td>2.0</td>\n",
              "      <td>Санкт-Петербург</td>\n",
              "      <td>23982.0</td>\n",
              "      <td>11634.0</td>\n",
              "      <td>0.0</td>\n",
              "      <td>NaN</td>\n",
              "      <td>0.0</td>\n",
              "      <td>NaN</td>\n",
              "      <td>NaN</td>\n",
              "    </tr>\n",
              "    <tr>\n",
              "      <td>8</td>\n",
              "      <td>20</td>\n",
              "      <td>2900000.0</td>\n",
              "      <td>33.16</td>\n",
              "      <td>2018-05-23T00:00:00</td>\n",
              "      <td>1</td>\n",
              "      <td>NaN</td>\n",
              "      <td>27.0</td>\n",
              "      <td>15.43</td>\n",
              "      <td>26</td>\n",
              "      <td>NaN</td>\n",
              "      <td>...</td>\n",
              "      <td>8.81</td>\n",
              "      <td>NaN</td>\n",
              "      <td>посёлок Мурино</td>\n",
              "      <td>NaN</td>\n",
              "      <td>NaN</td>\n",
              "      <td>NaN</td>\n",
              "      <td>NaN</td>\n",
              "      <td>NaN</td>\n",
              "      <td>NaN</td>\n",
              "      <td>189.0</td>\n",
              "    </tr>\n",
              "    <tr>\n",
              "      <td>9</td>\n",
              "      <td>18</td>\n",
              "      <td>5400000.0</td>\n",
              "      <td>61.00</td>\n",
              "      <td>2017-02-26T00:00:00</td>\n",
              "      <td>3</td>\n",
              "      <td>2.50</td>\n",
              "      <td>9.0</td>\n",
              "      <td>43.60</td>\n",
              "      <td>7</td>\n",
              "      <td>NaN</td>\n",
              "      <td>...</td>\n",
              "      <td>6.50</td>\n",
              "      <td>2.0</td>\n",
              "      <td>Санкт-Петербург</td>\n",
              "      <td>50898.0</td>\n",
              "      <td>15008.0</td>\n",
              "      <td>0.0</td>\n",
              "      <td>NaN</td>\n",
              "      <td>0.0</td>\n",
              "      <td>NaN</td>\n",
              "      <td>289.0</td>\n",
              "    </tr>\n",
              "  </tbody>\n",
              "</table>\n",
              "<p>10 rows × 22 columns</p>\n",
              "</div>"
            ],
            "text/plain": [
              "   total_images  last_price  total_area first_day_exposition  rooms  \\\n",
              "0            20  13000000.0      108.00  2019-03-07T00:00:00      3   \n",
              "1             7   3350000.0       40.40  2018-12-04T00:00:00      1   \n",
              "2            10   5196000.0       56.00  2015-08-20T00:00:00      2   \n",
              "3             0  64900000.0      159.00  2015-07-24T00:00:00      3   \n",
              "4             2  10000000.0      100.00  2018-06-19T00:00:00      2   \n",
              "5            10   2890000.0       30.40  2018-09-10T00:00:00      1   \n",
              "6             6   3700000.0       37.30  2017-11-02T00:00:00      1   \n",
              "7             5   7915000.0       71.60  2019-04-18T00:00:00      2   \n",
              "8            20   2900000.0       33.16  2018-05-23T00:00:00      1   \n",
              "9            18   5400000.0       61.00  2017-02-26T00:00:00      3   \n",
              "\n",
              "   ceiling_height  floors_total  living_area  floor is_apartment  ...  \\\n",
              "0            2.70          16.0        51.00      8          NaN  ...   \n",
              "1             NaN          11.0        18.60      1          NaN  ...   \n",
              "2             NaN           5.0        34.30      4          NaN  ...   \n",
              "3             NaN          14.0          NaN      9          NaN  ...   \n",
              "4            3.03          14.0        32.00     13          NaN  ...   \n",
              "5             NaN          12.0        14.40      5          NaN  ...   \n",
              "6             NaN          26.0        10.60      6          NaN  ...   \n",
              "7             NaN          24.0          NaN     22          NaN  ...   \n",
              "8             NaN          27.0        15.43     26          NaN  ...   \n",
              "9            2.50           9.0        43.60      7          NaN  ...   \n",
              "\n",
              "   kitchen_area  balcony              locality_name  airports_nearest  \\\n",
              "0         25.00      NaN            Санкт-Петербург           18863.0   \n",
              "1         11.00      2.0             посёлок Шушары           12817.0   \n",
              "2          8.30      0.0            Санкт-Петербург           21741.0   \n",
              "3           NaN      0.0            Санкт-Петербург           28098.0   \n",
              "4         41.00      NaN            Санкт-Петербург           31856.0   \n",
              "5          9.10      NaN  городской посёлок Янино-1               NaN   \n",
              "6         14.40      1.0          посёлок Парголово           52996.0   \n",
              "7         18.90      2.0            Санкт-Петербург           23982.0   \n",
              "8          8.81      NaN             посёлок Мурино               NaN   \n",
              "9          6.50      2.0            Санкт-Петербург           50898.0   \n",
              "\n",
              "  cityCenters_nearest  parks_around3000  parks_nearest  ponds_around3000  \\\n",
              "0             16028.0               1.0          482.0               2.0   \n",
              "1             18603.0               0.0            NaN               0.0   \n",
              "2             13933.0               1.0           90.0               2.0   \n",
              "3              6800.0               2.0           84.0               3.0   \n",
              "4              8098.0               2.0          112.0               1.0   \n",
              "5                 NaN               NaN            NaN               NaN   \n",
              "6             19143.0               0.0            NaN               0.0   \n",
              "7             11634.0               0.0            NaN               0.0   \n",
              "8                 NaN               NaN            NaN               NaN   \n",
              "9             15008.0               0.0            NaN               0.0   \n",
              "\n",
              "   ponds_nearest  days_exposition  \n",
              "0          755.0              NaN  \n",
              "1            NaN             81.0  \n",
              "2          574.0            558.0  \n",
              "3          234.0            424.0  \n",
              "4           48.0            121.0  \n",
              "5            NaN             55.0  \n",
              "6            NaN            155.0  \n",
              "7            NaN              NaN  \n",
              "8            NaN            189.0  \n",
              "9            NaN            289.0  \n",
              "\n",
              "[10 rows x 22 columns]"
            ]
          },
          "metadata": {},
          "output_type": "display_data"
        }
      ],
      "source": [
        "import pandas as pd\n",
        "data = pd.read_csv('/datasets/real_estate_data.csv', sep='\\t')\n",
        "display(data.head(10))"
      ]
    },
    {
      "cell_type": "code",
      "execution_count": null,
      "metadata": {
        "id": "S80lpPGpD-YJ",
        "outputId": "5e160571-5e30-477a-ea86-de6d854bde3b"
      },
      "outputs": [
        {
          "data": {
            "text/html": [
              "<div>\n",
              "<style scoped>\n",
              "    .dataframe tbody tr th:only-of-type {\n",
              "        vertical-align: middle;\n",
              "    }\n",
              "\n",
              "    .dataframe tbody tr th {\n",
              "        vertical-align: top;\n",
              "    }\n",
              "\n",
              "    .dataframe thead th {\n",
              "        text-align: right;\n",
              "    }\n",
              "</style>\n",
              "<table border=\"1\" class=\"dataframe\">\n",
              "  <thead>\n",
              "    <tr style=\"text-align: right;\">\n",
              "      <th></th>\n",
              "      <th>total_images</th>\n",
              "      <th>last_price</th>\n",
              "      <th>total_area</th>\n",
              "      <th>first_day_exposition</th>\n",
              "      <th>rooms</th>\n",
              "      <th>ceiling_height</th>\n",
              "      <th>floors_total</th>\n",
              "      <th>living_area</th>\n",
              "      <th>floor</th>\n",
              "      <th>is_apartment</th>\n",
              "      <th>...</th>\n",
              "      <th>kitchen_area</th>\n",
              "      <th>balcony</th>\n",
              "      <th>locality_name</th>\n",
              "      <th>airports_nearest</th>\n",
              "      <th>cityCenters_nearest</th>\n",
              "      <th>parks_around3000</th>\n",
              "      <th>parks_nearest</th>\n",
              "      <th>ponds_around3000</th>\n",
              "      <th>ponds_nearest</th>\n",
              "      <th>days_exposition</th>\n",
              "    </tr>\n",
              "  </thead>\n",
              "  <tbody>\n",
              "    <tr>\n",
              "      <td>23689</td>\n",
              "      <td>13</td>\n",
              "      <td>3550000.0</td>\n",
              "      <td>35.30</td>\n",
              "      <td>2018-02-28T00:00:00</td>\n",
              "      <td>1</td>\n",
              "      <td>2.86</td>\n",
              "      <td>15.0</td>\n",
              "      <td>16.3</td>\n",
              "      <td>4</td>\n",
              "      <td>NaN</td>\n",
              "      <td>...</td>\n",
              "      <td>9.10</td>\n",
              "      <td>2.0</td>\n",
              "      <td>Санкт-Петербург</td>\n",
              "      <td>17284.0</td>\n",
              "      <td>16081.0</td>\n",
              "      <td>1.0</td>\n",
              "      <td>353.0</td>\n",
              "      <td>2.0</td>\n",
              "      <td>652.0</td>\n",
              "      <td>29.0</td>\n",
              "    </tr>\n",
              "    <tr>\n",
              "      <td>23690</td>\n",
              "      <td>3</td>\n",
              "      <td>5500000.0</td>\n",
              "      <td>52.00</td>\n",
              "      <td>2018-07-19T00:00:00</td>\n",
              "      <td>2</td>\n",
              "      <td>NaN</td>\n",
              "      <td>5.0</td>\n",
              "      <td>31.0</td>\n",
              "      <td>2</td>\n",
              "      <td>NaN</td>\n",
              "      <td>...</td>\n",
              "      <td>6.00</td>\n",
              "      <td>NaN</td>\n",
              "      <td>Санкт-Петербург</td>\n",
              "      <td>20151.0</td>\n",
              "      <td>6263.0</td>\n",
              "      <td>1.0</td>\n",
              "      <td>300.0</td>\n",
              "      <td>0.0</td>\n",
              "      <td>NaN</td>\n",
              "      <td>15.0</td>\n",
              "    </tr>\n",
              "    <tr>\n",
              "      <td>23691</td>\n",
              "      <td>11</td>\n",
              "      <td>9470000.0</td>\n",
              "      <td>72.90</td>\n",
              "      <td>2016-10-13T00:00:00</td>\n",
              "      <td>2</td>\n",
              "      <td>2.75</td>\n",
              "      <td>25.0</td>\n",
              "      <td>40.3</td>\n",
              "      <td>7</td>\n",
              "      <td>NaN</td>\n",
              "      <td>...</td>\n",
              "      <td>10.60</td>\n",
              "      <td>1.0</td>\n",
              "      <td>Санкт-Петербург</td>\n",
              "      <td>19424.0</td>\n",
              "      <td>4489.0</td>\n",
              "      <td>0.0</td>\n",
              "      <td>NaN</td>\n",
              "      <td>1.0</td>\n",
              "      <td>806.0</td>\n",
              "      <td>519.0</td>\n",
              "    </tr>\n",
              "    <tr>\n",
              "      <td>23692</td>\n",
              "      <td>2</td>\n",
              "      <td>1350000.0</td>\n",
              "      <td>30.00</td>\n",
              "      <td>2017-07-07T00:00:00</td>\n",
              "      <td>1</td>\n",
              "      <td>NaN</td>\n",
              "      <td>5.0</td>\n",
              "      <td>17.5</td>\n",
              "      <td>4</td>\n",
              "      <td>NaN</td>\n",
              "      <td>...</td>\n",
              "      <td>6.00</td>\n",
              "      <td>NaN</td>\n",
              "      <td>Тихвин</td>\n",
              "      <td>NaN</td>\n",
              "      <td>NaN</td>\n",
              "      <td>NaN</td>\n",
              "      <td>NaN</td>\n",
              "      <td>NaN</td>\n",
              "      <td>NaN</td>\n",
              "      <td>413.0</td>\n",
              "    </tr>\n",
              "    <tr>\n",
              "      <td>23693</td>\n",
              "      <td>9</td>\n",
              "      <td>4600000.0</td>\n",
              "      <td>62.40</td>\n",
              "      <td>2016-08-05T00:00:00</td>\n",
              "      <td>3</td>\n",
              "      <td>2.60</td>\n",
              "      <td>9.0</td>\n",
              "      <td>40.0</td>\n",
              "      <td>8</td>\n",
              "      <td>NaN</td>\n",
              "      <td>...</td>\n",
              "      <td>8.00</td>\n",
              "      <td>0.0</td>\n",
              "      <td>Петергоф</td>\n",
              "      <td>45602.0</td>\n",
              "      <td>34104.0</td>\n",
              "      <td>1.0</td>\n",
              "      <td>352.0</td>\n",
              "      <td>1.0</td>\n",
              "      <td>675.0</td>\n",
              "      <td>239.0</td>\n",
              "    </tr>\n",
              "    <tr>\n",
              "      <td>23694</td>\n",
              "      <td>9</td>\n",
              "      <td>9700000.0</td>\n",
              "      <td>133.81</td>\n",
              "      <td>2017-03-21T00:00:00</td>\n",
              "      <td>3</td>\n",
              "      <td>3.70</td>\n",
              "      <td>5.0</td>\n",
              "      <td>73.3</td>\n",
              "      <td>3</td>\n",
              "      <td>NaN</td>\n",
              "      <td>...</td>\n",
              "      <td>13.83</td>\n",
              "      <td>NaN</td>\n",
              "      <td>Санкт-Петербург</td>\n",
              "      <td>24665.0</td>\n",
              "      <td>4232.0</td>\n",
              "      <td>1.0</td>\n",
              "      <td>796.0</td>\n",
              "      <td>3.0</td>\n",
              "      <td>381.0</td>\n",
              "      <td>NaN</td>\n",
              "    </tr>\n",
              "    <tr>\n",
              "      <td>23695</td>\n",
              "      <td>14</td>\n",
              "      <td>3100000.0</td>\n",
              "      <td>59.00</td>\n",
              "      <td>2018-01-15T00:00:00</td>\n",
              "      <td>3</td>\n",
              "      <td>NaN</td>\n",
              "      <td>5.0</td>\n",
              "      <td>38.0</td>\n",
              "      <td>4</td>\n",
              "      <td>NaN</td>\n",
              "      <td>...</td>\n",
              "      <td>8.50</td>\n",
              "      <td>NaN</td>\n",
              "      <td>Тосно</td>\n",
              "      <td>NaN</td>\n",
              "      <td>NaN</td>\n",
              "      <td>NaN</td>\n",
              "      <td>NaN</td>\n",
              "      <td>NaN</td>\n",
              "      <td>NaN</td>\n",
              "      <td>45.0</td>\n",
              "    </tr>\n",
              "    <tr>\n",
              "      <td>23696</td>\n",
              "      <td>18</td>\n",
              "      <td>2500000.0</td>\n",
              "      <td>56.70</td>\n",
              "      <td>2018-02-11T00:00:00</td>\n",
              "      <td>2</td>\n",
              "      <td>NaN</td>\n",
              "      <td>3.0</td>\n",
              "      <td>29.7</td>\n",
              "      <td>1</td>\n",
              "      <td>NaN</td>\n",
              "      <td>...</td>\n",
              "      <td>NaN</td>\n",
              "      <td>NaN</td>\n",
              "      <td>село Рождествено</td>\n",
              "      <td>NaN</td>\n",
              "      <td>NaN</td>\n",
              "      <td>NaN</td>\n",
              "      <td>NaN</td>\n",
              "      <td>NaN</td>\n",
              "      <td>NaN</td>\n",
              "      <td>NaN</td>\n",
              "    </tr>\n",
              "    <tr>\n",
              "      <td>23697</td>\n",
              "      <td>13</td>\n",
              "      <td>11475000.0</td>\n",
              "      <td>76.75</td>\n",
              "      <td>2017-03-28T00:00:00</td>\n",
              "      <td>2</td>\n",
              "      <td>3.00</td>\n",
              "      <td>17.0</td>\n",
              "      <td>NaN</td>\n",
              "      <td>12</td>\n",
              "      <td>NaN</td>\n",
              "      <td>...</td>\n",
              "      <td>23.30</td>\n",
              "      <td>2.0</td>\n",
              "      <td>Санкт-Петербург</td>\n",
              "      <td>39140.0</td>\n",
              "      <td>10364.0</td>\n",
              "      <td>2.0</td>\n",
              "      <td>173.0</td>\n",
              "      <td>3.0</td>\n",
              "      <td>196.0</td>\n",
              "      <td>602.0</td>\n",
              "    </tr>\n",
              "    <tr>\n",
              "      <td>23698</td>\n",
              "      <td>4</td>\n",
              "      <td>1350000.0</td>\n",
              "      <td>32.30</td>\n",
              "      <td>2017-07-21T00:00:00</td>\n",
              "      <td>1</td>\n",
              "      <td>2.50</td>\n",
              "      <td>5.0</td>\n",
              "      <td>12.3</td>\n",
              "      <td>1</td>\n",
              "      <td>NaN</td>\n",
              "      <td>...</td>\n",
              "      <td>9.00</td>\n",
              "      <td>NaN</td>\n",
              "      <td>поселок Новый Учхоз</td>\n",
              "      <td>NaN</td>\n",
              "      <td>NaN</td>\n",
              "      <td>NaN</td>\n",
              "      <td>NaN</td>\n",
              "      <td>NaN</td>\n",
              "      <td>NaN</td>\n",
              "      <td>NaN</td>\n",
              "    </tr>\n",
              "  </tbody>\n",
              "</table>\n",
              "<p>10 rows × 22 columns</p>\n",
              "</div>"
            ],
            "text/plain": [
              "       total_images  last_price  total_area first_day_exposition  rooms  \\\n",
              "23689            13   3550000.0       35.30  2018-02-28T00:00:00      1   \n",
              "23690             3   5500000.0       52.00  2018-07-19T00:00:00      2   \n",
              "23691            11   9470000.0       72.90  2016-10-13T00:00:00      2   \n",
              "23692             2   1350000.0       30.00  2017-07-07T00:00:00      1   \n",
              "23693             9   4600000.0       62.40  2016-08-05T00:00:00      3   \n",
              "23694             9   9700000.0      133.81  2017-03-21T00:00:00      3   \n",
              "23695            14   3100000.0       59.00  2018-01-15T00:00:00      3   \n",
              "23696            18   2500000.0       56.70  2018-02-11T00:00:00      2   \n",
              "23697            13  11475000.0       76.75  2017-03-28T00:00:00      2   \n",
              "23698             4   1350000.0       32.30  2017-07-21T00:00:00      1   \n",
              "\n",
              "       ceiling_height  floors_total  living_area  floor is_apartment  ...  \\\n",
              "23689            2.86          15.0         16.3      4          NaN  ...   \n",
              "23690             NaN           5.0         31.0      2          NaN  ...   \n",
              "23691            2.75          25.0         40.3      7          NaN  ...   \n",
              "23692             NaN           5.0         17.5      4          NaN  ...   \n",
              "23693            2.60           9.0         40.0      8          NaN  ...   \n",
              "23694            3.70           5.0         73.3      3          NaN  ...   \n",
              "23695             NaN           5.0         38.0      4          NaN  ...   \n",
              "23696             NaN           3.0         29.7      1          NaN  ...   \n",
              "23697            3.00          17.0          NaN     12          NaN  ...   \n",
              "23698            2.50           5.0         12.3      1          NaN  ...   \n",
              "\n",
              "       kitchen_area  balcony        locality_name  airports_nearest  \\\n",
              "23689          9.10      2.0      Санкт-Петербург           17284.0   \n",
              "23690          6.00      NaN      Санкт-Петербург           20151.0   \n",
              "23691         10.60      1.0      Санкт-Петербург           19424.0   \n",
              "23692          6.00      NaN               Тихвин               NaN   \n",
              "23693          8.00      0.0             Петергоф           45602.0   \n",
              "23694         13.83      NaN      Санкт-Петербург           24665.0   \n",
              "23695          8.50      NaN                Тосно               NaN   \n",
              "23696           NaN      NaN     село Рождествено               NaN   \n",
              "23697         23.30      2.0      Санкт-Петербург           39140.0   \n",
              "23698          9.00      NaN  поселок Новый Учхоз               NaN   \n",
              "\n",
              "      cityCenters_nearest  parks_around3000  parks_nearest  ponds_around3000  \\\n",
              "23689             16081.0               1.0          353.0               2.0   \n",
              "23690              6263.0               1.0          300.0               0.0   \n",
              "23691              4489.0               0.0            NaN               1.0   \n",
              "23692                 NaN               NaN            NaN               NaN   \n",
              "23693             34104.0               1.0          352.0               1.0   \n",
              "23694              4232.0               1.0          796.0               3.0   \n",
              "23695                 NaN               NaN            NaN               NaN   \n",
              "23696                 NaN               NaN            NaN               NaN   \n",
              "23697             10364.0               2.0          173.0               3.0   \n",
              "23698                 NaN               NaN            NaN               NaN   \n",
              "\n",
              "       ponds_nearest  days_exposition  \n",
              "23689          652.0             29.0  \n",
              "23690            NaN             15.0  \n",
              "23691          806.0            519.0  \n",
              "23692            NaN            413.0  \n",
              "23693          675.0            239.0  \n",
              "23694          381.0              NaN  \n",
              "23695            NaN             45.0  \n",
              "23696            NaN              NaN  \n",
              "23697          196.0            602.0  \n",
              "23698            NaN              NaN  \n",
              "\n",
              "[10 rows x 22 columns]"
            ]
          },
          "metadata": {},
          "output_type": "display_data"
        }
      ],
      "source": [
        "display(data.tail(10))"
      ]
    },
    {
      "cell_type": "code",
      "execution_count": null,
      "metadata": {
        "id": "2l1nRpO-D-YM",
        "outputId": "e14f26bf-d319-4b31-dbf7-ed99622379a7"
      },
      "outputs": [
        {
          "name": "stdout",
          "output_type": "stream",
          "text": [
            "<class 'pandas.core.frame.DataFrame'>\n",
            "RangeIndex: 23699 entries, 0 to 23698\n",
            "Data columns (total 22 columns):\n",
            "total_images            23699 non-null int64\n",
            "last_price              23699 non-null float64\n",
            "total_area              23699 non-null float64\n",
            "first_day_exposition    23699 non-null object\n",
            "rooms                   23699 non-null int64\n",
            "ceiling_height          14504 non-null float64\n",
            "floors_total            23613 non-null float64\n",
            "living_area             21796 non-null float64\n",
            "floor                   23699 non-null int64\n",
            "is_apartment            2775 non-null object\n",
            "studio                  23699 non-null bool\n",
            "open_plan               23699 non-null bool\n",
            "kitchen_area            21421 non-null float64\n",
            "balcony                 12180 non-null float64\n",
            "locality_name           23650 non-null object\n",
            "airports_nearest        18157 non-null float64\n",
            "cityCenters_nearest     18180 non-null float64\n",
            "parks_around3000        18181 non-null float64\n",
            "parks_nearest           8079 non-null float64\n",
            "ponds_around3000        18181 non-null float64\n",
            "ponds_nearest           9110 non-null float64\n",
            "days_exposition         20518 non-null float64\n",
            "dtypes: bool(2), float64(14), int64(3), object(3)\n",
            "memory usage: 3.7+ MB\n"
          ]
        },
        {
          "data": {
            "text/plain": [
              "None"
            ]
          },
          "metadata": {},
          "output_type": "display_data"
        }
      ],
      "source": [
        "display(data.info())"
      ]
    },
    {
      "cell_type": "code",
      "execution_count": null,
      "metadata": {
        "id": "hZos61NHD-YO"
      },
      "outputs": [],
      "source": [
        "pd.set_option('display.max_columns', None) #отображает все столбцы, не заменяя их точками"
      ]
    },
    {
      "cell_type": "code",
      "execution_count": null,
      "metadata": {
        "id": "ep01jQalD-YP",
        "outputId": "40a638b8-f7c1-4f84-bcbb-692188558984"
      },
      "outputs": [
        {
          "data": {
            "text/html": [
              "<div>\n",
              "<style scoped>\n",
              "    .dataframe tbody tr th:only-of-type {\n",
              "        vertical-align: middle;\n",
              "    }\n",
              "\n",
              "    .dataframe tbody tr th {\n",
              "        vertical-align: top;\n",
              "    }\n",
              "\n",
              "    .dataframe thead th {\n",
              "        text-align: right;\n",
              "    }\n",
              "</style>\n",
              "<table border=\"1\" class=\"dataframe\">\n",
              "  <thead>\n",
              "    <tr style=\"text-align: right;\">\n",
              "      <th></th>\n",
              "      <th>total_images</th>\n",
              "      <th>last_price</th>\n",
              "      <th>total_area</th>\n",
              "      <th>first_day_exposition</th>\n",
              "      <th>rooms</th>\n",
              "      <th>ceiling_height</th>\n",
              "      <th>floors_total</th>\n",
              "      <th>living_area</th>\n",
              "      <th>floor</th>\n",
              "      <th>is_apartment</th>\n",
              "      <th>studio</th>\n",
              "      <th>open_plan</th>\n",
              "      <th>kitchen_area</th>\n",
              "      <th>balcony</th>\n",
              "      <th>locality_name</th>\n",
              "      <th>airports_nearest</th>\n",
              "      <th>cityCenters_nearest</th>\n",
              "      <th>parks_around3000</th>\n",
              "      <th>parks_nearest</th>\n",
              "      <th>ponds_around3000</th>\n",
              "      <th>ponds_nearest</th>\n",
              "      <th>days_exposition</th>\n",
              "    </tr>\n",
              "  </thead>\n",
              "  <tbody>\n",
              "    <tr>\n",
              "      <td>0</td>\n",
              "      <td>20</td>\n",
              "      <td>13000000.0</td>\n",
              "      <td>108.00</td>\n",
              "      <td>2019-03-07T00:00:00</td>\n",
              "      <td>3</td>\n",
              "      <td>2.70</td>\n",
              "      <td>16.0</td>\n",
              "      <td>51.00</td>\n",
              "      <td>8</td>\n",
              "      <td>NaN</td>\n",
              "      <td>False</td>\n",
              "      <td>False</td>\n",
              "      <td>25.00</td>\n",
              "      <td>NaN</td>\n",
              "      <td>Санкт-Петербург</td>\n",
              "      <td>18863.0</td>\n",
              "      <td>16028.0</td>\n",
              "      <td>1.0</td>\n",
              "      <td>482.0</td>\n",
              "      <td>2.0</td>\n",
              "      <td>755.0</td>\n",
              "      <td>NaN</td>\n",
              "    </tr>\n",
              "    <tr>\n",
              "      <td>1</td>\n",
              "      <td>7</td>\n",
              "      <td>3350000.0</td>\n",
              "      <td>40.40</td>\n",
              "      <td>2018-12-04T00:00:00</td>\n",
              "      <td>1</td>\n",
              "      <td>NaN</td>\n",
              "      <td>11.0</td>\n",
              "      <td>18.60</td>\n",
              "      <td>1</td>\n",
              "      <td>NaN</td>\n",
              "      <td>False</td>\n",
              "      <td>False</td>\n",
              "      <td>11.00</td>\n",
              "      <td>2.0</td>\n",
              "      <td>посёлок Шушары</td>\n",
              "      <td>12817.0</td>\n",
              "      <td>18603.0</td>\n",
              "      <td>0.0</td>\n",
              "      <td>NaN</td>\n",
              "      <td>0.0</td>\n",
              "      <td>NaN</td>\n",
              "      <td>81.0</td>\n",
              "    </tr>\n",
              "    <tr>\n",
              "      <td>2</td>\n",
              "      <td>10</td>\n",
              "      <td>5196000.0</td>\n",
              "      <td>56.00</td>\n",
              "      <td>2015-08-20T00:00:00</td>\n",
              "      <td>2</td>\n",
              "      <td>NaN</td>\n",
              "      <td>5.0</td>\n",
              "      <td>34.30</td>\n",
              "      <td>4</td>\n",
              "      <td>NaN</td>\n",
              "      <td>False</td>\n",
              "      <td>False</td>\n",
              "      <td>8.30</td>\n",
              "      <td>0.0</td>\n",
              "      <td>Санкт-Петербург</td>\n",
              "      <td>21741.0</td>\n",
              "      <td>13933.0</td>\n",
              "      <td>1.0</td>\n",
              "      <td>90.0</td>\n",
              "      <td>2.0</td>\n",
              "      <td>574.0</td>\n",
              "      <td>558.0</td>\n",
              "    </tr>\n",
              "    <tr>\n",
              "      <td>3</td>\n",
              "      <td>0</td>\n",
              "      <td>64900000.0</td>\n",
              "      <td>159.00</td>\n",
              "      <td>2015-07-24T00:00:00</td>\n",
              "      <td>3</td>\n",
              "      <td>NaN</td>\n",
              "      <td>14.0</td>\n",
              "      <td>NaN</td>\n",
              "      <td>9</td>\n",
              "      <td>NaN</td>\n",
              "      <td>False</td>\n",
              "      <td>False</td>\n",
              "      <td>NaN</td>\n",
              "      <td>0.0</td>\n",
              "      <td>Санкт-Петербург</td>\n",
              "      <td>28098.0</td>\n",
              "      <td>6800.0</td>\n",
              "      <td>2.0</td>\n",
              "      <td>84.0</td>\n",
              "      <td>3.0</td>\n",
              "      <td>234.0</td>\n",
              "      <td>424.0</td>\n",
              "    </tr>\n",
              "    <tr>\n",
              "      <td>4</td>\n",
              "      <td>2</td>\n",
              "      <td>10000000.0</td>\n",
              "      <td>100.00</td>\n",
              "      <td>2018-06-19T00:00:00</td>\n",
              "      <td>2</td>\n",
              "      <td>3.03</td>\n",
              "      <td>14.0</td>\n",
              "      <td>32.00</td>\n",
              "      <td>13</td>\n",
              "      <td>NaN</td>\n",
              "      <td>False</td>\n",
              "      <td>False</td>\n",
              "      <td>41.00</td>\n",
              "      <td>NaN</td>\n",
              "      <td>Санкт-Петербург</td>\n",
              "      <td>31856.0</td>\n",
              "      <td>8098.0</td>\n",
              "      <td>2.0</td>\n",
              "      <td>112.0</td>\n",
              "      <td>1.0</td>\n",
              "      <td>48.0</td>\n",
              "      <td>121.0</td>\n",
              "    </tr>\n",
              "    <tr>\n",
              "      <td>5</td>\n",
              "      <td>10</td>\n",
              "      <td>2890000.0</td>\n",
              "      <td>30.40</td>\n",
              "      <td>2018-09-10T00:00:00</td>\n",
              "      <td>1</td>\n",
              "      <td>NaN</td>\n",
              "      <td>12.0</td>\n",
              "      <td>14.40</td>\n",
              "      <td>5</td>\n",
              "      <td>NaN</td>\n",
              "      <td>False</td>\n",
              "      <td>False</td>\n",
              "      <td>9.10</td>\n",
              "      <td>NaN</td>\n",
              "      <td>городской посёлок Янино-1</td>\n",
              "      <td>NaN</td>\n",
              "      <td>NaN</td>\n",
              "      <td>NaN</td>\n",
              "      <td>NaN</td>\n",
              "      <td>NaN</td>\n",
              "      <td>NaN</td>\n",
              "      <td>55.0</td>\n",
              "    </tr>\n",
              "    <tr>\n",
              "      <td>6</td>\n",
              "      <td>6</td>\n",
              "      <td>3700000.0</td>\n",
              "      <td>37.30</td>\n",
              "      <td>2017-11-02T00:00:00</td>\n",
              "      <td>1</td>\n",
              "      <td>NaN</td>\n",
              "      <td>26.0</td>\n",
              "      <td>10.60</td>\n",
              "      <td>6</td>\n",
              "      <td>NaN</td>\n",
              "      <td>False</td>\n",
              "      <td>False</td>\n",
              "      <td>14.40</td>\n",
              "      <td>1.0</td>\n",
              "      <td>посёлок Парголово</td>\n",
              "      <td>52996.0</td>\n",
              "      <td>19143.0</td>\n",
              "      <td>0.0</td>\n",
              "      <td>NaN</td>\n",
              "      <td>0.0</td>\n",
              "      <td>NaN</td>\n",
              "      <td>155.0</td>\n",
              "    </tr>\n",
              "    <tr>\n",
              "      <td>7</td>\n",
              "      <td>5</td>\n",
              "      <td>7915000.0</td>\n",
              "      <td>71.60</td>\n",
              "      <td>2019-04-18T00:00:00</td>\n",
              "      <td>2</td>\n",
              "      <td>NaN</td>\n",
              "      <td>24.0</td>\n",
              "      <td>NaN</td>\n",
              "      <td>22</td>\n",
              "      <td>NaN</td>\n",
              "      <td>False</td>\n",
              "      <td>False</td>\n",
              "      <td>18.90</td>\n",
              "      <td>2.0</td>\n",
              "      <td>Санкт-Петербург</td>\n",
              "      <td>23982.0</td>\n",
              "      <td>11634.0</td>\n",
              "      <td>0.0</td>\n",
              "      <td>NaN</td>\n",
              "      <td>0.0</td>\n",
              "      <td>NaN</td>\n",
              "      <td>NaN</td>\n",
              "    </tr>\n",
              "    <tr>\n",
              "      <td>8</td>\n",
              "      <td>20</td>\n",
              "      <td>2900000.0</td>\n",
              "      <td>33.16</td>\n",
              "      <td>2018-05-23T00:00:00</td>\n",
              "      <td>1</td>\n",
              "      <td>NaN</td>\n",
              "      <td>27.0</td>\n",
              "      <td>15.43</td>\n",
              "      <td>26</td>\n",
              "      <td>NaN</td>\n",
              "      <td>False</td>\n",
              "      <td>False</td>\n",
              "      <td>8.81</td>\n",
              "      <td>NaN</td>\n",
              "      <td>посёлок Мурино</td>\n",
              "      <td>NaN</td>\n",
              "      <td>NaN</td>\n",
              "      <td>NaN</td>\n",
              "      <td>NaN</td>\n",
              "      <td>NaN</td>\n",
              "      <td>NaN</td>\n",
              "      <td>189.0</td>\n",
              "    </tr>\n",
              "    <tr>\n",
              "      <td>9</td>\n",
              "      <td>18</td>\n",
              "      <td>5400000.0</td>\n",
              "      <td>61.00</td>\n",
              "      <td>2017-02-26T00:00:00</td>\n",
              "      <td>3</td>\n",
              "      <td>2.50</td>\n",
              "      <td>9.0</td>\n",
              "      <td>43.60</td>\n",
              "      <td>7</td>\n",
              "      <td>NaN</td>\n",
              "      <td>False</td>\n",
              "      <td>False</td>\n",
              "      <td>6.50</td>\n",
              "      <td>2.0</td>\n",
              "      <td>Санкт-Петербург</td>\n",
              "      <td>50898.0</td>\n",
              "      <td>15008.0</td>\n",
              "      <td>0.0</td>\n",
              "      <td>NaN</td>\n",
              "      <td>0.0</td>\n",
              "      <td>NaN</td>\n",
              "      <td>289.0</td>\n",
              "    </tr>\n",
              "  </tbody>\n",
              "</table>\n",
              "</div>"
            ],
            "text/plain": [
              "   total_images  last_price  total_area first_day_exposition  rooms  \\\n",
              "0            20  13000000.0      108.00  2019-03-07T00:00:00      3   \n",
              "1             7   3350000.0       40.40  2018-12-04T00:00:00      1   \n",
              "2            10   5196000.0       56.00  2015-08-20T00:00:00      2   \n",
              "3             0  64900000.0      159.00  2015-07-24T00:00:00      3   \n",
              "4             2  10000000.0      100.00  2018-06-19T00:00:00      2   \n",
              "5            10   2890000.0       30.40  2018-09-10T00:00:00      1   \n",
              "6             6   3700000.0       37.30  2017-11-02T00:00:00      1   \n",
              "7             5   7915000.0       71.60  2019-04-18T00:00:00      2   \n",
              "8            20   2900000.0       33.16  2018-05-23T00:00:00      1   \n",
              "9            18   5400000.0       61.00  2017-02-26T00:00:00      3   \n",
              "\n",
              "   ceiling_height  floors_total  living_area  floor is_apartment  studio  \\\n",
              "0            2.70          16.0        51.00      8          NaN   False   \n",
              "1             NaN          11.0        18.60      1          NaN   False   \n",
              "2             NaN           5.0        34.30      4          NaN   False   \n",
              "3             NaN          14.0          NaN      9          NaN   False   \n",
              "4            3.03          14.0        32.00     13          NaN   False   \n",
              "5             NaN          12.0        14.40      5          NaN   False   \n",
              "6             NaN          26.0        10.60      6          NaN   False   \n",
              "7             NaN          24.0          NaN     22          NaN   False   \n",
              "8             NaN          27.0        15.43     26          NaN   False   \n",
              "9            2.50           9.0        43.60      7          NaN   False   \n",
              "\n",
              "   open_plan  kitchen_area  balcony              locality_name  \\\n",
              "0      False         25.00      NaN            Санкт-Петербург   \n",
              "1      False         11.00      2.0             посёлок Шушары   \n",
              "2      False          8.30      0.0            Санкт-Петербург   \n",
              "3      False           NaN      0.0            Санкт-Петербург   \n",
              "4      False         41.00      NaN            Санкт-Петербург   \n",
              "5      False          9.10      NaN  городской посёлок Янино-1   \n",
              "6      False         14.40      1.0          посёлок Парголово   \n",
              "7      False         18.90      2.0            Санкт-Петербург   \n",
              "8      False          8.81      NaN             посёлок Мурино   \n",
              "9      False          6.50      2.0            Санкт-Петербург   \n",
              "\n",
              "   airports_nearest  cityCenters_nearest  parks_around3000  parks_nearest  \\\n",
              "0           18863.0              16028.0               1.0          482.0   \n",
              "1           12817.0              18603.0               0.0            NaN   \n",
              "2           21741.0              13933.0               1.0           90.0   \n",
              "3           28098.0               6800.0               2.0           84.0   \n",
              "4           31856.0               8098.0               2.0          112.0   \n",
              "5               NaN                  NaN               NaN            NaN   \n",
              "6           52996.0              19143.0               0.0            NaN   \n",
              "7           23982.0              11634.0               0.0            NaN   \n",
              "8               NaN                  NaN               NaN            NaN   \n",
              "9           50898.0              15008.0               0.0            NaN   \n",
              "\n",
              "   ponds_around3000  ponds_nearest  days_exposition  \n",
              "0               2.0          755.0              NaN  \n",
              "1               0.0            NaN             81.0  \n",
              "2               2.0          574.0            558.0  \n",
              "3               3.0          234.0            424.0  \n",
              "4               1.0           48.0            121.0  \n",
              "5               NaN            NaN             55.0  \n",
              "6               0.0            NaN            155.0  \n",
              "7               0.0            NaN              NaN  \n",
              "8               NaN            NaN            189.0  \n",
              "9               0.0            NaN            289.0  "
            ]
          },
          "metadata": {},
          "output_type": "display_data"
        }
      ],
      "source": [
        "display(data.head(10))"
      ]
    },
    {
      "cell_type": "markdown",
      "metadata": {
        "id": "Se9FLJ3RD-YQ"
      },
      "source": [
        "### Вывод"
      ]
    },
    {
      "cell_type": "markdown",
      "metadata": {
        "id": "I2gKMo32D-YQ"
      },
      "source": [
        "Очень много пропусков в разных столбцах. \n",
        "Пропуски могли возникнуть в разных столбцах по разным причинам. Например в столбце balcony из-за отсутсвия балконов. \n",
        "\n",
        "**B некоторых столбцах это могло быть сокрытие информации, потому что есть достаточно много мошеннеческих операций с квартирами. Либо при выгрузке данных могло что-то пойти не так**\n"
      ]
    },
    {
      "cell_type": "markdown",
      "metadata": {
        "id": "d4ru-4eLD-YR"
      },
      "source": [
        "## Предобработка данных"
      ]
    },
    {
      "cell_type": "markdown",
      "metadata": {
        "id": "iQnsggagD-YS"
      },
      "source": [
        "### Обработка пропусков"
      ]
    },
    {
      "cell_type": "code",
      "execution_count": null,
      "metadata": {
        "id": "G794kJMND-YT",
        "outputId": "5529d5cd-23af-46e5-e5e0-635b44f92e4a"
      },
      "outputs": [
        {
          "data": {
            "text/plain": [
              "total_images                0\n",
              "last_price                  0\n",
              "total_area                  0\n",
              "first_day_exposition        0\n",
              "rooms                       0\n",
              "ceiling_height           9195\n",
              "floors_total               86\n",
              "living_area              1903\n",
              "floor                       0\n",
              "is_apartment            20924\n",
              "studio                      0\n",
              "open_plan                   0\n",
              "kitchen_area             2278\n",
              "balcony                 11519\n",
              "locality_name              49\n",
              "airports_nearest         5542\n",
              "cityCenters_nearest      5519\n",
              "parks_around3000         5518\n",
              "parks_nearest           15620\n",
              "ponds_around3000         5518\n",
              "ponds_nearest           14589\n",
              "days_exposition          3181\n",
              "dtype: int64"
            ]
          },
          "execution_count": 6,
          "metadata": {},
          "output_type": "execute_result"
        }
      ],
      "source": [
        "data.isna().sum()"
      ]
    },
    {
      "cell_type": "markdown",
      "metadata": {
        "id": "MONgI46cD-YU"
      },
      "source": [
        "Посчитали количество пропусков в столбцах"
      ]
    },
    {
      "cell_type": "code",
      "execution_count": null,
      "metadata": {
        "id": "uxod_NW5D-YV",
        "outputId": "cb3ec896-c9eb-4430-aae6-f07480acdb7a"
      },
      "outputs": [
        {
          "data": {
            "text/plain": [
              "total_images            0.000000\n",
              "last_price              0.000000\n",
              "total_area              0.000000\n",
              "first_day_exposition    0.000000\n",
              "rooms                   0.000000\n",
              "ceiling_height          0.387991\n",
              "floors_total            0.003629\n",
              "living_area             0.080299\n",
              "floor                   0.000000\n",
              "is_apartment            0.882906\n",
              "studio                  0.000000\n",
              "open_plan               0.000000\n",
              "kitchen_area            0.096122\n",
              "balcony                 0.486054\n",
              "locality_name           0.002068\n",
              "airports_nearest        0.233850\n",
              "cityCenters_nearest     0.232879\n",
              "parks_around3000        0.232837\n",
              "parks_nearest           0.659100\n",
              "ponds_around3000        0.232837\n",
              "ponds_nearest           0.615596\n",
              "days_exposition         0.134225\n",
              "dtype: float64"
            ]
          },
          "execution_count": 7,
          "metadata": {},
          "output_type": "execute_result"
        }
      ],
      "source": [
        "data.isna().mean()"
      ]
    },
    {
      "cell_type": "markdown",
      "metadata": {
        "id": "uo1BAkvxD-YW"
      },
      "source": [
        "<div class=\"alert alert-success\">\n",
        "<b>✅ Комментарий ревьюера :</b> \n",
        "\n",
        "Молодец, что делаешь оценку доли пропусков - она более информативна. Чтобы было немного наглядней - можешь применить стилистику, добавь `.isna().mean().apply('{:.0%}'.format)`.\n",
        "</div>"
      ]
    },
    {
      "cell_type": "markdown",
      "metadata": {
        "id": "WoKJrVklD-YX"
      },
      "source": [
        "Посчитали доли пропусков в столбцах"
      ]
    },
    {
      "cell_type": "code",
      "execution_count": null,
      "metadata": {
        "id": "iXG7oW-eD-YX"
      },
      "outputs": [],
      "source": [
        "data['balcony'] = data['balcony'].fillna(0)"
      ]
    },
    {
      "cell_type": "markdown",
      "metadata": {
        "id": "k1lBK-ziD-YY"
      },
      "source": [
        "<div class=\"alert alert-success\">\n",
        "<b>✅ Комментарий ревьюера :</b> \n",
        "\n",
        "- `balcony`. Заполнение логично.\n",
        "</div>"
      ]
    },
    {
      "cell_type": "markdown",
      "metadata": {
        "id": "jiPyeMIhD-YZ"
      },
      "source": [
        "Заменили пропуски в столбце балконы на 0, так как скорее всего вместо пропусков и должен быть 0"
      ]
    },
    {
      "cell_type": "code",
      "execution_count": null,
      "metadata": {
        "id": "MjABeAZHD-YZ",
        "outputId": "f4e68fff-8c8f-47e6-afb3-b6125d1aeb94"
      },
      "outputs": [
        {
          "data": {
            "text/plain": [
              "0"
            ]
          },
          "execution_count": 9,
          "metadata": {},
          "output_type": "execute_result"
        }
      ],
      "source": [
        "data['balcony'].isna().sum()"
      ]
    },
    {
      "cell_type": "code",
      "execution_count": null,
      "metadata": {
        "id": "FGPhB4HfD-Ya"
      },
      "outputs": [],
      "source": [
        "data = data.dropna(subset=['floors_total', 'locality_name']).reset_index(drop=True)"
      ]
    },
    {
      "cell_type": "markdown",
      "metadata": {
        "id": "sLlIoGogD-Ya"
      },
      "source": [
        "<div class=\"alert alert-success\">\n",
        "<b>✅ Комментарий ревьюера :</b> \n",
        "\n",
        "Супер, пропусков действительно мало. Если их менее 1%, то можно ими пренебречь.\n",
        "</div>"
      ]
    },
    {
      "cell_type": "code",
      "execution_count": null,
      "metadata": {
        "id": "n4MNlZMED-Yb",
        "outputId": "e139a2c9-12fc-4e73-eb76-c25ad9edc12d"
      },
      "outputs": [
        {
          "data": {
            "text/plain": [
              "total_images                0\n",
              "last_price                  0\n",
              "total_area                  0\n",
              "first_day_exposition        0\n",
              "rooms                       0\n",
              "ceiling_height           9084\n",
              "floors_total                0\n",
              "living_area              1865\n",
              "floor                       0\n",
              "is_apartment            20805\n",
              "studio                      0\n",
              "open_plan                   0\n",
              "kitchen_area             2222\n",
              "balcony                     0\n",
              "locality_name               0\n",
              "airports_nearest         5524\n",
              "cityCenters_nearest      5501\n",
              "parks_around3000         5500\n",
              "parks_nearest           15535\n",
              "ponds_around3000         5500\n",
              "ponds_nearest           14529\n",
              "days_exposition          3171\n",
              "dtype: int64"
            ]
          },
          "execution_count": 11,
          "metadata": {},
          "output_type": "execute_result"
        }
      ],
      "source": [
        "data.isna().sum()"
      ]
    },
    {
      "cell_type": "markdown",
      "metadata": {
        "id": "908ltPlXD-Yb"
      },
      "source": [
        "Удалили пропуски в столбцах floors_total и locality_name, так как их мало, можно пренебречь."
      ]
    },
    {
      "cell_type": "code",
      "execution_count": null,
      "metadata": {
        "id": "SVLmfICiD-Yc"
      },
      "outputs": [],
      "source": [
        "data['is_apartment'] = data['is_apartment'].fillna(0)"
      ]
    },
    {
      "cell_type": "markdown",
      "metadata": {
        "id": "TJBed-jGD-Yc"
      },
      "source": [
        "Заполним столбец ceiling_height(высота потолков): \n"
      ]
    },
    {
      "cell_type": "markdown",
      "metadata": {
        "id": "AJcXm98hD-Yc"
      },
      "source": [
        "#data['ceiling_height'] = data['ceiling_height'].fillna(2.60)"
      ]
    },
    {
      "cell_type": "code",
      "execution_count": null,
      "metadata": {
        "id": "-rcWrLJAD-Ye"
      },
      "outputs": [],
      "source": [
        "data.loc[data['ceiling_height'].isna(), 'ceiling_height'] = data[data['ceiling_height'] <= 3]['ceiling_height'].median()"
      ]
    },
    {
      "cell_type": "code",
      "execution_count": null,
      "metadata": {
        "id": "fLKPxtC-D-Yf"
      },
      "outputs": [],
      "source": []
    },
    {
      "cell_type": "code",
      "execution_count": null,
      "metadata": {
        "id": "52EA_ANfD-Yf",
        "outputId": "a5166871-ac53-4ced-9def-2c85685ae7c4"
      },
      "outputs": [
        {
          "data": {
            "text/plain": [
              "0"
            ]
          },
          "execution_count": 14,
          "metadata": {},
          "output_type": "execute_result"
        }
      ],
      "source": [
        "data['ceiling_height'].isna().sum()"
      ]
    },
    {
      "cell_type": "code",
      "execution_count": null,
      "metadata": {
        "id": "-gYWP6SiD-Yg"
      },
      "outputs": [],
      "source": [
        "data['kitchen_area'] = data['kitchen_area'].fillna(data['total_area']-data['living_area'])"
      ]
    },
    {
      "cell_type": "code",
      "execution_count": null,
      "metadata": {
        "id": "UkUk4bZkD-Yg"
      },
      "outputs": [],
      "source": [
        "data_grouped = data.groupby('kitchen_area')['total_area'].mean()\n",
        " \n",
        "data_transformed = data.groupby('kitchen_area')['total_area'].transform('mean')\n",
        " \n",
        "data['kitchen_area'] = data['kitchen_area'].fillna(data_transformed)"
      ]
    },
    {
      "cell_type": "code",
      "execution_count": null,
      "metadata": {
        "id": "0_cLdlNRD-Yh",
        "outputId": "7096edac-c739-46e5-efee-2f84bbeacd31"
      },
      "outputs": [
        {
          "data": {
            "text/html": [
              "<div>\n",
              "<style scoped>\n",
              "    .dataframe tbody tr th:only-of-type {\n",
              "        vertical-align: middle;\n",
              "    }\n",
              "\n",
              "    .dataframe tbody tr th {\n",
              "        vertical-align: top;\n",
              "    }\n",
              "\n",
              "    .dataframe thead th {\n",
              "        text-align: right;\n",
              "    }\n",
              "</style>\n",
              "<table border=\"1\" class=\"dataframe\">\n",
              "  <thead>\n",
              "    <tr style=\"text-align: right;\">\n",
              "      <th></th>\n",
              "      <th>total_images</th>\n",
              "      <th>last_price</th>\n",
              "      <th>total_area</th>\n",
              "      <th>first_day_exposition</th>\n",
              "      <th>rooms</th>\n",
              "      <th>ceiling_height</th>\n",
              "      <th>floors_total</th>\n",
              "      <th>living_area</th>\n",
              "      <th>floor</th>\n",
              "      <th>is_apartment</th>\n",
              "      <th>studio</th>\n",
              "      <th>open_plan</th>\n",
              "      <th>kitchen_area</th>\n",
              "      <th>balcony</th>\n",
              "      <th>locality_name</th>\n",
              "      <th>airports_nearest</th>\n",
              "      <th>cityCenters_nearest</th>\n",
              "      <th>parks_around3000</th>\n",
              "      <th>parks_nearest</th>\n",
              "      <th>ponds_around3000</th>\n",
              "      <th>ponds_nearest</th>\n",
              "      <th>days_exposition</th>\n",
              "    </tr>\n",
              "  </thead>\n",
              "  <tbody>\n",
              "    <tr>\n",
              "      <td>0</td>\n",
              "      <td>20</td>\n",
              "      <td>13000000.0</td>\n",
              "      <td>108.0</td>\n",
              "      <td>2019-03-07T00:00:00</td>\n",
              "      <td>3</td>\n",
              "      <td>2.70</td>\n",
              "      <td>16.0</td>\n",
              "      <td>51.0</td>\n",
              "      <td>8</td>\n",
              "      <td>0</td>\n",
              "      <td>False</td>\n",
              "      <td>False</td>\n",
              "      <td>25.0</td>\n",
              "      <td>0.0</td>\n",
              "      <td>Санкт-Петербург</td>\n",
              "      <td>18863.0</td>\n",
              "      <td>16028.0</td>\n",
              "      <td>1.0</td>\n",
              "      <td>482.0</td>\n",
              "      <td>2.0</td>\n",
              "      <td>755.0</td>\n",
              "      <td>NaN</td>\n",
              "    </tr>\n",
              "    <tr>\n",
              "      <td>1</td>\n",
              "      <td>7</td>\n",
              "      <td>3350000.0</td>\n",
              "      <td>40.4</td>\n",
              "      <td>2018-12-04T00:00:00</td>\n",
              "      <td>1</td>\n",
              "      <td>2.60</td>\n",
              "      <td>11.0</td>\n",
              "      <td>18.6</td>\n",
              "      <td>1</td>\n",
              "      <td>0</td>\n",
              "      <td>False</td>\n",
              "      <td>False</td>\n",
              "      <td>11.0</td>\n",
              "      <td>2.0</td>\n",
              "      <td>посёлок Шушары</td>\n",
              "      <td>12817.0</td>\n",
              "      <td>18603.0</td>\n",
              "      <td>0.0</td>\n",
              "      <td>NaN</td>\n",
              "      <td>0.0</td>\n",
              "      <td>NaN</td>\n",
              "      <td>81.0</td>\n",
              "    </tr>\n",
              "    <tr>\n",
              "      <td>2</td>\n",
              "      <td>10</td>\n",
              "      <td>5196000.0</td>\n",
              "      <td>56.0</td>\n",
              "      <td>2015-08-20T00:00:00</td>\n",
              "      <td>2</td>\n",
              "      <td>2.60</td>\n",
              "      <td>5.0</td>\n",
              "      <td>34.3</td>\n",
              "      <td>4</td>\n",
              "      <td>0</td>\n",
              "      <td>False</td>\n",
              "      <td>False</td>\n",
              "      <td>8.3</td>\n",
              "      <td>0.0</td>\n",
              "      <td>Санкт-Петербург</td>\n",
              "      <td>21741.0</td>\n",
              "      <td>13933.0</td>\n",
              "      <td>1.0</td>\n",
              "      <td>90.0</td>\n",
              "      <td>2.0</td>\n",
              "      <td>574.0</td>\n",
              "      <td>558.0</td>\n",
              "    </tr>\n",
              "    <tr>\n",
              "      <td>3</td>\n",
              "      <td>0</td>\n",
              "      <td>64900000.0</td>\n",
              "      <td>159.0</td>\n",
              "      <td>2015-07-24T00:00:00</td>\n",
              "      <td>3</td>\n",
              "      <td>2.60</td>\n",
              "      <td>14.0</td>\n",
              "      <td>NaN</td>\n",
              "      <td>9</td>\n",
              "      <td>0</td>\n",
              "      <td>False</td>\n",
              "      <td>False</td>\n",
              "      <td>NaN</td>\n",
              "      <td>0.0</td>\n",
              "      <td>Санкт-Петербург</td>\n",
              "      <td>28098.0</td>\n",
              "      <td>6800.0</td>\n",
              "      <td>2.0</td>\n",
              "      <td>84.0</td>\n",
              "      <td>3.0</td>\n",
              "      <td>234.0</td>\n",
              "      <td>424.0</td>\n",
              "    </tr>\n",
              "    <tr>\n",
              "      <td>4</td>\n",
              "      <td>2</td>\n",
              "      <td>10000000.0</td>\n",
              "      <td>100.0</td>\n",
              "      <td>2018-06-19T00:00:00</td>\n",
              "      <td>2</td>\n",
              "      <td>3.03</td>\n",
              "      <td>14.0</td>\n",
              "      <td>32.0</td>\n",
              "      <td>13</td>\n",
              "      <td>0</td>\n",
              "      <td>False</td>\n",
              "      <td>False</td>\n",
              "      <td>41.0</td>\n",
              "      <td>0.0</td>\n",
              "      <td>Санкт-Петербург</td>\n",
              "      <td>31856.0</td>\n",
              "      <td>8098.0</td>\n",
              "      <td>2.0</td>\n",
              "      <td>112.0</td>\n",
              "      <td>1.0</td>\n",
              "      <td>48.0</td>\n",
              "      <td>121.0</td>\n",
              "    </tr>\n",
              "  </tbody>\n",
              "</table>\n",
              "</div>"
            ],
            "text/plain": [
              "   total_images  last_price  total_area first_day_exposition  rooms  \\\n",
              "0            20  13000000.0       108.0  2019-03-07T00:00:00      3   \n",
              "1             7   3350000.0        40.4  2018-12-04T00:00:00      1   \n",
              "2            10   5196000.0        56.0  2015-08-20T00:00:00      2   \n",
              "3             0  64900000.0       159.0  2015-07-24T00:00:00      3   \n",
              "4             2  10000000.0       100.0  2018-06-19T00:00:00      2   \n",
              "\n",
              "   ceiling_height  floors_total  living_area  floor is_apartment  studio  \\\n",
              "0            2.70          16.0         51.0      8            0   False   \n",
              "1            2.60          11.0         18.6      1            0   False   \n",
              "2            2.60           5.0         34.3      4            0   False   \n",
              "3            2.60          14.0          NaN      9            0   False   \n",
              "4            3.03          14.0         32.0     13            0   False   \n",
              "\n",
              "   open_plan  kitchen_area  balcony    locality_name  airports_nearest  \\\n",
              "0      False          25.0      0.0  Санкт-Петербург           18863.0   \n",
              "1      False          11.0      2.0   посёлок Шушары           12817.0   \n",
              "2      False           8.3      0.0  Санкт-Петербург           21741.0   \n",
              "3      False           NaN      0.0  Санкт-Петербург           28098.0   \n",
              "4      False          41.0      0.0  Санкт-Петербург           31856.0   \n",
              "\n",
              "   cityCenters_nearest  parks_around3000  parks_nearest  ponds_around3000  \\\n",
              "0              16028.0               1.0          482.0               2.0   \n",
              "1              18603.0               0.0            NaN               0.0   \n",
              "2              13933.0               1.0           90.0               2.0   \n",
              "3               6800.0               2.0           84.0               3.0   \n",
              "4               8098.0               2.0          112.0               1.0   \n",
              "\n",
              "   ponds_nearest  days_exposition  \n",
              "0          755.0              NaN  \n",
              "1            NaN             81.0  \n",
              "2          574.0            558.0  \n",
              "3          234.0            424.0  \n",
              "4           48.0            121.0  "
            ]
          },
          "execution_count": 17,
          "metadata": {},
          "output_type": "execute_result"
        }
      ],
      "source": [
        "data.head()"
      ]
    },
    {
      "cell_type": "markdown",
      "metadata": {
        "id": "_jviCu-CD-Yi"
      },
      "source": [
        "### Замена типа данных"
      ]
    },
    {
      "cell_type": "code",
      "execution_count": null,
      "metadata": {
        "id": "IuNwTiYyD-Yj"
      },
      "outputs": [],
      "source": [
        "data['is_apartment'] = data['is_apartment'].astype('bool')"
      ]
    },
    {
      "cell_type": "code",
      "execution_count": null,
      "metadata": {
        "id": "QmDlqnkSD-Yk"
      },
      "outputs": [],
      "source": [
        "data[['last_price', 'total_area']] = data[['last_price', 'total_area']].astype('int')"
      ]
    },
    {
      "cell_type": "code",
      "execution_count": null,
      "metadata": {
        "id": "D0DyDLcMD-Yl",
        "outputId": "fbe039ca-2ff0-4ea3-facd-303b42baf117"
      },
      "outputs": [
        {
          "data": {
            "text/plain": [
              "0"
            ]
          },
          "execution_count": 20,
          "metadata": {},
          "output_type": "execute_result"
        }
      ],
      "source": [
        "data['is_apartment'].isna().sum()"
      ]
    },
    {
      "cell_type": "code",
      "execution_count": null,
      "metadata": {
        "id": "w96vggvHD-Ym",
        "outputId": "3ef2245b-2998-40da-fd3d-a40982a0ddd4"
      },
      "outputs": [
        {
          "data": {
            "text/plain": [
              "array([False,  True])"
            ]
          },
          "execution_count": 21,
          "metadata": {},
          "output_type": "execute_result"
        }
      ],
      "source": [
        "data['is_apartment'].unique()"
      ]
    },
    {
      "cell_type": "markdown",
      "metadata": {
        "id": "EY0fYZLfD-Yo"
      },
      "source": [
        "Приведем столбец first_day_exposition в формат datetime."
      ]
    },
    {
      "cell_type": "code",
      "execution_count": null,
      "metadata": {
        "id": "kpldat_dD-Yo"
      },
      "outputs": [],
      "source": [
        "data['first_day_exposition'] = pd.to_datetime(data['first_day_exposition'], format='%Y-%m-%dT%H:%M:%S')"
      ]
    },
    {
      "cell_type": "code",
      "execution_count": null,
      "metadata": {
        "id": "q9tXXj-KD-Yp",
        "outputId": "b4e6b142-2a95-4b7f-95bc-1e697c2f7d52"
      },
      "outputs": [
        {
          "data": {
            "text/html": [
              "<div>\n",
              "<style scoped>\n",
              "    .dataframe tbody tr th:only-of-type {\n",
              "        vertical-align: middle;\n",
              "    }\n",
              "\n",
              "    .dataframe tbody tr th {\n",
              "        vertical-align: top;\n",
              "    }\n",
              "\n",
              "    .dataframe thead th {\n",
              "        text-align: right;\n",
              "    }\n",
              "</style>\n",
              "<table border=\"1\" class=\"dataframe\">\n",
              "  <thead>\n",
              "    <tr style=\"text-align: right;\">\n",
              "      <th></th>\n",
              "      <th>total_images</th>\n",
              "      <th>last_price</th>\n",
              "      <th>total_area</th>\n",
              "      <th>first_day_exposition</th>\n",
              "      <th>rooms</th>\n",
              "      <th>ceiling_height</th>\n",
              "      <th>floors_total</th>\n",
              "      <th>living_area</th>\n",
              "      <th>floor</th>\n",
              "      <th>is_apartment</th>\n",
              "      <th>studio</th>\n",
              "      <th>open_plan</th>\n",
              "      <th>kitchen_area</th>\n",
              "      <th>balcony</th>\n",
              "      <th>locality_name</th>\n",
              "      <th>airports_nearest</th>\n",
              "      <th>cityCenters_nearest</th>\n",
              "      <th>parks_around3000</th>\n",
              "      <th>parks_nearest</th>\n",
              "      <th>ponds_around3000</th>\n",
              "      <th>ponds_nearest</th>\n",
              "      <th>days_exposition</th>\n",
              "    </tr>\n",
              "  </thead>\n",
              "  <tbody>\n",
              "    <tr>\n",
              "      <td>0</td>\n",
              "      <td>20</td>\n",
              "      <td>13000000</td>\n",
              "      <td>108</td>\n",
              "      <td>2019-03-07</td>\n",
              "      <td>3</td>\n",
              "      <td>2.70</td>\n",
              "      <td>16.0</td>\n",
              "      <td>51.0</td>\n",
              "      <td>8</td>\n",
              "      <td>False</td>\n",
              "      <td>False</td>\n",
              "      <td>False</td>\n",
              "      <td>25.0</td>\n",
              "      <td>0.0</td>\n",
              "      <td>Санкт-Петербург</td>\n",
              "      <td>18863.0</td>\n",
              "      <td>16028.0</td>\n",
              "      <td>1.0</td>\n",
              "      <td>482.0</td>\n",
              "      <td>2.0</td>\n",
              "      <td>755.0</td>\n",
              "      <td>NaN</td>\n",
              "    </tr>\n",
              "    <tr>\n",
              "      <td>1</td>\n",
              "      <td>7</td>\n",
              "      <td>3350000</td>\n",
              "      <td>40</td>\n",
              "      <td>2018-12-04</td>\n",
              "      <td>1</td>\n",
              "      <td>2.60</td>\n",
              "      <td>11.0</td>\n",
              "      <td>18.6</td>\n",
              "      <td>1</td>\n",
              "      <td>False</td>\n",
              "      <td>False</td>\n",
              "      <td>False</td>\n",
              "      <td>11.0</td>\n",
              "      <td>2.0</td>\n",
              "      <td>посёлок Шушары</td>\n",
              "      <td>12817.0</td>\n",
              "      <td>18603.0</td>\n",
              "      <td>0.0</td>\n",
              "      <td>NaN</td>\n",
              "      <td>0.0</td>\n",
              "      <td>NaN</td>\n",
              "      <td>81.0</td>\n",
              "    </tr>\n",
              "    <tr>\n",
              "      <td>2</td>\n",
              "      <td>10</td>\n",
              "      <td>5196000</td>\n",
              "      <td>56</td>\n",
              "      <td>2015-08-20</td>\n",
              "      <td>2</td>\n",
              "      <td>2.60</td>\n",
              "      <td>5.0</td>\n",
              "      <td>34.3</td>\n",
              "      <td>4</td>\n",
              "      <td>False</td>\n",
              "      <td>False</td>\n",
              "      <td>False</td>\n",
              "      <td>8.3</td>\n",
              "      <td>0.0</td>\n",
              "      <td>Санкт-Петербург</td>\n",
              "      <td>21741.0</td>\n",
              "      <td>13933.0</td>\n",
              "      <td>1.0</td>\n",
              "      <td>90.0</td>\n",
              "      <td>2.0</td>\n",
              "      <td>574.0</td>\n",
              "      <td>558.0</td>\n",
              "    </tr>\n",
              "    <tr>\n",
              "      <td>3</td>\n",
              "      <td>0</td>\n",
              "      <td>64900000</td>\n",
              "      <td>159</td>\n",
              "      <td>2015-07-24</td>\n",
              "      <td>3</td>\n",
              "      <td>2.60</td>\n",
              "      <td>14.0</td>\n",
              "      <td>NaN</td>\n",
              "      <td>9</td>\n",
              "      <td>False</td>\n",
              "      <td>False</td>\n",
              "      <td>False</td>\n",
              "      <td>NaN</td>\n",
              "      <td>0.0</td>\n",
              "      <td>Санкт-Петербург</td>\n",
              "      <td>28098.0</td>\n",
              "      <td>6800.0</td>\n",
              "      <td>2.0</td>\n",
              "      <td>84.0</td>\n",
              "      <td>3.0</td>\n",
              "      <td>234.0</td>\n",
              "      <td>424.0</td>\n",
              "    </tr>\n",
              "    <tr>\n",
              "      <td>4</td>\n",
              "      <td>2</td>\n",
              "      <td>10000000</td>\n",
              "      <td>100</td>\n",
              "      <td>2018-06-19</td>\n",
              "      <td>2</td>\n",
              "      <td>3.03</td>\n",
              "      <td>14.0</td>\n",
              "      <td>32.0</td>\n",
              "      <td>13</td>\n",
              "      <td>False</td>\n",
              "      <td>False</td>\n",
              "      <td>False</td>\n",
              "      <td>41.0</td>\n",
              "      <td>0.0</td>\n",
              "      <td>Санкт-Петербург</td>\n",
              "      <td>31856.0</td>\n",
              "      <td>8098.0</td>\n",
              "      <td>2.0</td>\n",
              "      <td>112.0</td>\n",
              "      <td>1.0</td>\n",
              "      <td>48.0</td>\n",
              "      <td>121.0</td>\n",
              "    </tr>\n",
              "  </tbody>\n",
              "</table>\n",
              "</div>"
            ],
            "text/plain": [
              "   total_images  last_price  total_area first_day_exposition  rooms  \\\n",
              "0            20    13000000         108           2019-03-07      3   \n",
              "1             7     3350000          40           2018-12-04      1   \n",
              "2            10     5196000          56           2015-08-20      2   \n",
              "3             0    64900000         159           2015-07-24      3   \n",
              "4             2    10000000         100           2018-06-19      2   \n",
              "\n",
              "   ceiling_height  floors_total  living_area  floor  is_apartment  studio  \\\n",
              "0            2.70          16.0         51.0      8         False   False   \n",
              "1            2.60          11.0         18.6      1         False   False   \n",
              "2            2.60           5.0         34.3      4         False   False   \n",
              "3            2.60          14.0          NaN      9         False   False   \n",
              "4            3.03          14.0         32.0     13         False   False   \n",
              "\n",
              "   open_plan  kitchen_area  balcony    locality_name  airports_nearest  \\\n",
              "0      False          25.0      0.0  Санкт-Петербург           18863.0   \n",
              "1      False          11.0      2.0   посёлок Шушары           12817.0   \n",
              "2      False           8.3      0.0  Санкт-Петербург           21741.0   \n",
              "3      False           NaN      0.0  Санкт-Петербург           28098.0   \n",
              "4      False          41.0      0.0  Санкт-Петербург           31856.0   \n",
              "\n",
              "   cityCenters_nearest  parks_around3000  parks_nearest  ponds_around3000  \\\n",
              "0              16028.0               1.0          482.0               2.0   \n",
              "1              18603.0               0.0            NaN               0.0   \n",
              "2              13933.0               1.0           90.0               2.0   \n",
              "3               6800.0               2.0           84.0               3.0   \n",
              "4               8098.0               2.0          112.0               1.0   \n",
              "\n",
              "   ponds_nearest  days_exposition  \n",
              "0          755.0              NaN  \n",
              "1            NaN             81.0  \n",
              "2          574.0            558.0  \n",
              "3          234.0            424.0  \n",
              "4           48.0            121.0  "
            ]
          },
          "execution_count": 23,
          "metadata": {},
          "output_type": "execute_result"
        }
      ],
      "source": [
        "data.head()"
      ]
    },
    {
      "cell_type": "code",
      "execution_count": null,
      "metadata": {
        "id": "esLanMcnD-Yp",
        "outputId": "e35a1159-2d85-40b4-9aeb-d342590b31de"
      },
      "outputs": [
        {
          "name": "stdout",
          "output_type": "stream",
          "text": [
            "<class 'pandas.core.frame.DataFrame'>\n",
            "RangeIndex: 23565 entries, 0 to 23564\n",
            "Data columns (total 22 columns):\n",
            "total_images            23565 non-null int64\n",
            "last_price              23565 non-null int64\n",
            "total_area              23565 non-null int64\n",
            "first_day_exposition    23565 non-null datetime64[ns]\n",
            "rooms                   23565 non-null int64\n",
            "ceiling_height          23565 non-null float64\n",
            "floors_total            23565 non-null float64\n",
            "living_area             21700 non-null float64\n",
            "floor                   23565 non-null int64\n",
            "is_apartment            23565 non-null bool\n",
            "studio                  23565 non-null bool\n",
            "open_plan               23565 non-null bool\n",
            "kitchen_area            22138 non-null float64\n",
            "balcony                 23565 non-null float64\n",
            "locality_name           23565 non-null object\n",
            "airports_nearest        18041 non-null float64\n",
            "cityCenters_nearest     18064 non-null float64\n",
            "parks_around3000        18065 non-null float64\n",
            "parks_nearest           8030 non-null float64\n",
            "ponds_around3000        18065 non-null float64\n",
            "ponds_nearest           9036 non-null float64\n",
            "days_exposition         20394 non-null float64\n",
            "dtypes: bool(3), datetime64[ns](1), float64(12), int64(5), object(1)\n",
            "memory usage: 3.5+ MB\n"
          ]
        }
      ],
      "source": [
        "data.info()"
      ]
    },
    {
      "cell_type": "markdown",
      "metadata": {
        "id": "UokBsl1HD-Yr"
      },
      "source": [
        "**Вывод**"
      ]
    },
    {
      "cell_type": "markdown",
      "metadata": {
        "id": "N_QFOI5rD-Ys"
      },
      "source": [
        "Заполнили пропуски в столбцах, которые понаобятся в дальнейшем для анализа данных. Изменили тип данных."
      ]
    },
    {
      "cell_type": "code",
      "execution_count": null,
      "metadata": {
        "id": "8dO5d1BRD-Ys",
        "outputId": "6880719e-ac2c-47c4-d075-fa6065de2071"
      },
      "outputs": [
        {
          "data": {
            "text/plain": [
              "364"
            ]
          },
          "execution_count": 25,
          "metadata": {},
          "output_type": "execute_result"
        }
      ],
      "source": [
        "data['locality_name'].value_counts().count()"
      ]
    },
    {
      "cell_type": "code",
      "execution_count": null,
      "metadata": {
        "id": "7pehfuVTD-Yt"
      },
      "outputs": [],
      "source": [
        "data['locality_name'] = data['locality_name'].str.lower()"
      ]
    },
    {
      "cell_type": "markdown",
      "metadata": {
        "id": "NGRkbtgRD-Yt"
      },
      "source": [
        "Проведем лемматизацию населенных пунктов. "
      ]
    },
    {
      "cell_type": "markdown",
      "metadata": {
        "id": "wNXnmvAcD-Yw"
      },
      "source": [
        "### Лемматизация"
      ]
    },
    {
      "cell_type": "code",
      "execution_count": null,
      "metadata": {
        "id": "-sCl-2mHD-Yx"
      },
      "outputs": [],
      "source": [
        "from pymystem3 import Mystem\n",
        "m = Mystem()\n",
        "\n",
        "def lemmas(locality_name):\n",
        "    lemmas_list = ' '.join(m.lemmatize(locality_name))\n",
        "    return lemmas_list\n",
        "\n",
        "data['lemma_locality_name'] = data['locality_name'].apply(lemmas).values.tolist()"
      ]
    },
    {
      "cell_type": "code",
      "execution_count": null,
      "metadata": {
        "id": "45JeFM2HD-Yz",
        "outputId": "7498580c-ac13-441d-d121-95e9a8bfbec1"
      },
      "outputs": [
        {
          "data": {
            "text/plain": [
              "[('санкт-петербург', 15651),\n",
              " ('посёлок мурино', 520),\n",
              " ('посёлок шушары', 439),\n",
              " ('всеволожск', 398),\n",
              " ('пушкин', 369),\n",
              " ('колпино', 338),\n",
              " ('посёлок парголово', 327),\n",
              " ('гатчина', 307),\n",
              " ('деревня кудрово', 299),\n",
              " ('выборг', 237),\n",
              " ('петергоф', 201),\n",
              " ('сестрорецк', 183)]"
            ]
          },
          "execution_count": 28,
          "metadata": {},
          "output_type": "execute_result"
        }
      ],
      "source": [
        "from collections import Counter\n",
        "lemma_locality_name = data['locality_name'].values.tolist()\n",
        "Counter(lemma_locality_name).most_common(12)"
      ]
    },
    {
      "cell_type": "markdown",
      "metadata": {
        "id": "h1g3E_s5D-Y0"
      },
      "source": [
        "**Вывод**"
      ]
    },
    {
      "cell_type": "markdown",
      "metadata": {
        "id": "2t85NohjD-Y5"
      },
      "source": [
        "Узнали сколько объявлений о продаже в разных населенных пунктах."
      ]
    },
    {
      "cell_type": "markdown",
      "metadata": {
        "id": "q3oDuezDD-Y8"
      },
      "source": [
        "## Расчёты и добавление результатов в таблицу"
      ]
    },
    {
      "cell_type": "code",
      "execution_count": null,
      "metadata": {
        "id": "PG-vocs8D-Y9"
      },
      "outputs": [],
      "source": [
        "data['day'] = data['first_day_exposition'].dt.weekday\n",
        "data['month'] = data['first_day_exposition'].dt.month                        \n",
        "data['year'] = data['first_day_exposition'].dt.year"
      ]
    },
    {
      "cell_type": "markdown",
      "metadata": {
        "id": "lNBBJ6rID-Y9"
      },
      "source": [
        "Добавили в таблицу столбцы отдельно по дням/месяцам и году публикации объявлений"
      ]
    },
    {
      "cell_type": "markdown",
      "metadata": {
        "id": "MljxikM5D-Y-"
      },
      "source": [
        "Рассчитаем доли жилой части и кухни в общей площади квартиры"
      ]
    },
    {
      "cell_type": "code",
      "execution_count": null,
      "metadata": {
        "id": "guxQAAN-D-ZA"
      },
      "outputs": [],
      "source": [
        "data['living_area_part'] = (data['living_area'] / data['total_area']).map('{:.2f}'.format).astype('float')\n",
        "data['kitchen_area_part'] = (data['kitchen_area'] / data['total_area']).map('{:.2f}'.format).astype('float')"
      ]
    },
    {
      "cell_type": "markdown",
      "metadata": {
        "id": "O8JzlN7XD-ZA"
      },
      "source": [
        "Рассчитаем цену за квадратный метр:"
      ]
    },
    {
      "cell_type": "code",
      "execution_count": null,
      "metadata": {
        "id": "wbBorNB2D-ZB",
        "outputId": "3cd883a2-b7f5-4aa0-b7dc-d31c3e1d0c23"
      },
      "outputs": [
        {
          "data": {
            "text/html": [
              "<div>\n",
              "<style scoped>\n",
              "    .dataframe tbody tr th:only-of-type {\n",
              "        vertical-align: middle;\n",
              "    }\n",
              "\n",
              "    .dataframe tbody tr th {\n",
              "        vertical-align: top;\n",
              "    }\n",
              "\n",
              "    .dataframe thead th {\n",
              "        text-align: right;\n",
              "    }\n",
              "</style>\n",
              "<table border=\"1\" class=\"dataframe\">\n",
              "  <thead>\n",
              "    <tr style=\"text-align: right;\">\n",
              "      <th></th>\n",
              "      <th>total_images</th>\n",
              "      <th>last_price</th>\n",
              "      <th>total_area</th>\n",
              "      <th>first_day_exposition</th>\n",
              "      <th>rooms</th>\n",
              "      <th>ceiling_height</th>\n",
              "      <th>floors_total</th>\n",
              "      <th>living_area</th>\n",
              "      <th>floor</th>\n",
              "      <th>is_apartment</th>\n",
              "      <th>studio</th>\n",
              "      <th>open_plan</th>\n",
              "      <th>kitchen_area</th>\n",
              "      <th>balcony</th>\n",
              "      <th>locality_name</th>\n",
              "      <th>airports_nearest</th>\n",
              "      <th>cityCenters_nearest</th>\n",
              "      <th>parks_around3000</th>\n",
              "      <th>parks_nearest</th>\n",
              "      <th>ponds_around3000</th>\n",
              "      <th>ponds_nearest</th>\n",
              "      <th>days_exposition</th>\n",
              "      <th>lemma_locality_name</th>\n",
              "      <th>day</th>\n",
              "      <th>month</th>\n",
              "      <th>year</th>\n",
              "      <th>living_area_part</th>\n",
              "      <th>kitchen_area_part</th>\n",
              "      <th>price_sq_metre</th>\n",
              "    </tr>\n",
              "  </thead>\n",
              "  <tbody>\n",
              "    <tr>\n",
              "      <td>0</td>\n",
              "      <td>20</td>\n",
              "      <td>13000000</td>\n",
              "      <td>108</td>\n",
              "      <td>2019-03-07</td>\n",
              "      <td>3</td>\n",
              "      <td>2.70</td>\n",
              "      <td>16.0</td>\n",
              "      <td>51.0</td>\n",
              "      <td>8</td>\n",
              "      <td>False</td>\n",
              "      <td>False</td>\n",
              "      <td>False</td>\n",
              "      <td>25.0</td>\n",
              "      <td>0.0</td>\n",
              "      <td>санкт-петербург</td>\n",
              "      <td>18863.0</td>\n",
              "      <td>16028.0</td>\n",
              "      <td>1.0</td>\n",
              "      <td>482.0</td>\n",
              "      <td>2.0</td>\n",
              "      <td>755.0</td>\n",
              "      <td>NaN</td>\n",
              "      <td>санкт-петербург \\n</td>\n",
              "      <td>3</td>\n",
              "      <td>3</td>\n",
              "      <td>2019</td>\n",
              "      <td>0.47</td>\n",
              "      <td>0.23</td>\n",
              "      <td>120370</td>\n",
              "    </tr>\n",
              "    <tr>\n",
              "      <td>1</td>\n",
              "      <td>7</td>\n",
              "      <td>3350000</td>\n",
              "      <td>40</td>\n",
              "      <td>2018-12-04</td>\n",
              "      <td>1</td>\n",
              "      <td>2.60</td>\n",
              "      <td>11.0</td>\n",
              "      <td>18.6</td>\n",
              "      <td>1</td>\n",
              "      <td>False</td>\n",
              "      <td>False</td>\n",
              "      <td>False</td>\n",
              "      <td>11.0</td>\n",
              "      <td>2.0</td>\n",
              "      <td>посёлок шушары</td>\n",
              "      <td>12817.0</td>\n",
              "      <td>18603.0</td>\n",
              "      <td>0.0</td>\n",
              "      <td>NaN</td>\n",
              "      <td>0.0</td>\n",
              "      <td>NaN</td>\n",
              "      <td>81.0</td>\n",
              "      <td>поселок   шушары \\n</td>\n",
              "      <td>1</td>\n",
              "      <td>12</td>\n",
              "      <td>2018</td>\n",
              "      <td>0.47</td>\n",
              "      <td>0.28</td>\n",
              "      <td>83750</td>\n",
              "    </tr>\n",
              "    <tr>\n",
              "      <td>2</td>\n",
              "      <td>10</td>\n",
              "      <td>5196000</td>\n",
              "      <td>56</td>\n",
              "      <td>2015-08-20</td>\n",
              "      <td>2</td>\n",
              "      <td>2.60</td>\n",
              "      <td>5.0</td>\n",
              "      <td>34.3</td>\n",
              "      <td>4</td>\n",
              "      <td>False</td>\n",
              "      <td>False</td>\n",
              "      <td>False</td>\n",
              "      <td>8.3</td>\n",
              "      <td>0.0</td>\n",
              "      <td>санкт-петербург</td>\n",
              "      <td>21741.0</td>\n",
              "      <td>13933.0</td>\n",
              "      <td>1.0</td>\n",
              "      <td>90.0</td>\n",
              "      <td>2.0</td>\n",
              "      <td>574.0</td>\n",
              "      <td>558.0</td>\n",
              "      <td>санкт-петербург \\n</td>\n",
              "      <td>3</td>\n",
              "      <td>8</td>\n",
              "      <td>2015</td>\n",
              "      <td>0.61</td>\n",
              "      <td>0.15</td>\n",
              "      <td>92785</td>\n",
              "    </tr>\n",
              "    <tr>\n",
              "      <td>3</td>\n",
              "      <td>0</td>\n",
              "      <td>64900000</td>\n",
              "      <td>159</td>\n",
              "      <td>2015-07-24</td>\n",
              "      <td>3</td>\n",
              "      <td>2.60</td>\n",
              "      <td>14.0</td>\n",
              "      <td>NaN</td>\n",
              "      <td>9</td>\n",
              "      <td>False</td>\n",
              "      <td>False</td>\n",
              "      <td>False</td>\n",
              "      <td>NaN</td>\n",
              "      <td>0.0</td>\n",
              "      <td>санкт-петербург</td>\n",
              "      <td>28098.0</td>\n",
              "      <td>6800.0</td>\n",
              "      <td>2.0</td>\n",
              "      <td>84.0</td>\n",
              "      <td>3.0</td>\n",
              "      <td>234.0</td>\n",
              "      <td>424.0</td>\n",
              "      <td>санкт-петербург \\n</td>\n",
              "      <td>4</td>\n",
              "      <td>7</td>\n",
              "      <td>2015</td>\n",
              "      <td>NaN</td>\n",
              "      <td>NaN</td>\n",
              "      <td>408176</td>\n",
              "    </tr>\n",
              "    <tr>\n",
              "      <td>4</td>\n",
              "      <td>2</td>\n",
              "      <td>10000000</td>\n",
              "      <td>100</td>\n",
              "      <td>2018-06-19</td>\n",
              "      <td>2</td>\n",
              "      <td>3.03</td>\n",
              "      <td>14.0</td>\n",
              "      <td>32.0</td>\n",
              "      <td>13</td>\n",
              "      <td>False</td>\n",
              "      <td>False</td>\n",
              "      <td>False</td>\n",
              "      <td>41.0</td>\n",
              "      <td>0.0</td>\n",
              "      <td>санкт-петербург</td>\n",
              "      <td>31856.0</td>\n",
              "      <td>8098.0</td>\n",
              "      <td>2.0</td>\n",
              "      <td>112.0</td>\n",
              "      <td>1.0</td>\n",
              "      <td>48.0</td>\n",
              "      <td>121.0</td>\n",
              "      <td>санкт-петербург \\n</td>\n",
              "      <td>1</td>\n",
              "      <td>6</td>\n",
              "      <td>2018</td>\n",
              "      <td>0.32</td>\n",
              "      <td>0.41</td>\n",
              "      <td>100000</td>\n",
              "    </tr>\n",
              "  </tbody>\n",
              "</table>\n",
              "</div>"
            ],
            "text/plain": [
              "   total_images  last_price  total_area first_day_exposition  rooms  \\\n",
              "0            20    13000000         108           2019-03-07      3   \n",
              "1             7     3350000          40           2018-12-04      1   \n",
              "2            10     5196000          56           2015-08-20      2   \n",
              "3             0    64900000         159           2015-07-24      3   \n",
              "4             2    10000000         100           2018-06-19      2   \n",
              "\n",
              "   ceiling_height  floors_total  living_area  floor  is_apartment  studio  \\\n",
              "0            2.70          16.0         51.0      8         False   False   \n",
              "1            2.60          11.0         18.6      1         False   False   \n",
              "2            2.60           5.0         34.3      4         False   False   \n",
              "3            2.60          14.0          NaN      9         False   False   \n",
              "4            3.03          14.0         32.0     13         False   False   \n",
              "\n",
              "   open_plan  kitchen_area  balcony    locality_name  airports_nearest  \\\n",
              "0      False          25.0      0.0  санкт-петербург           18863.0   \n",
              "1      False          11.0      2.0   посёлок шушары           12817.0   \n",
              "2      False           8.3      0.0  санкт-петербург           21741.0   \n",
              "3      False           NaN      0.0  санкт-петербург           28098.0   \n",
              "4      False          41.0      0.0  санкт-петербург           31856.0   \n",
              "\n",
              "   cityCenters_nearest  parks_around3000  parks_nearest  ponds_around3000  \\\n",
              "0              16028.0               1.0          482.0               2.0   \n",
              "1              18603.0               0.0            NaN               0.0   \n",
              "2              13933.0               1.0           90.0               2.0   \n",
              "3               6800.0               2.0           84.0               3.0   \n",
              "4               8098.0               2.0          112.0               1.0   \n",
              "\n",
              "   ponds_nearest  days_exposition  lemma_locality_name  day  month  year  \\\n",
              "0          755.0              NaN   санкт-петербург \\n    3      3  2019   \n",
              "1            NaN             81.0  поселок   шушары \\n    1     12  2018   \n",
              "2          574.0            558.0   санкт-петербург \\n    3      8  2015   \n",
              "3          234.0            424.0   санкт-петербург \\n    4      7  2015   \n",
              "4           48.0            121.0   санкт-петербург \\n    1      6  2018   \n",
              "\n",
              "   living_area_part  kitchen_area_part  price_sq_metre  \n",
              "0              0.47               0.23          120370  \n",
              "1              0.47               0.28           83750  \n",
              "2              0.61               0.15           92785  \n",
              "3               NaN                NaN          408176  \n",
              "4              0.32               0.41          100000  "
            ]
          },
          "execution_count": 31,
          "metadata": {},
          "output_type": "execute_result"
        }
      ],
      "source": [
        "data['price_sq_metre'] = (data['last_price']/data['total_area'])\n",
        "data['price_sq_metre'] = data['price_sq_metre'].astype('int')\n",
        "data.head()"
      ]
    },
    {
      "cell_type": "code",
      "execution_count": null,
      "metadata": {
        "id": "aK9NMchuD-ZE"
      },
      "outputs": [],
      "source": [
        "def floor_number_category(row):\n",
        "    floor=row['floor']\n",
        "    floors_total=row['floors_total']\n",
        "    if pd.isnull(floors_total):\n",
        "        return 'неизвестно'\n",
        "    if floor == floors_total:\n",
        "        return 'последний'\n",
        "    if floor == 1:\n",
        "        return 'первый'\n",
        "    return 'другой'"
      ]
    },
    {
      "cell_type": "code",
      "execution_count": null,
      "metadata": {
        "id": "gr9igWXbD-ZE"
      },
      "outputs": [],
      "source": [
        "data['floor_category'] = data.apply(floor_number_category, axis=1)"
      ]
    },
    {
      "cell_type": "code",
      "execution_count": null,
      "metadata": {
        "id": "kEgPS4VYD-ZF",
        "outputId": "555bfdfe-6e40-41ac-8a35-dac71a8ee19f"
      },
      "outputs": [
        {
          "data": {
            "text/html": [
              "<div>\n",
              "<style scoped>\n",
              "    .dataframe tbody tr th:only-of-type {\n",
              "        vertical-align: middle;\n",
              "    }\n",
              "\n",
              "    .dataframe tbody tr th {\n",
              "        vertical-align: top;\n",
              "    }\n",
              "\n",
              "    .dataframe thead th {\n",
              "        text-align: right;\n",
              "    }\n",
              "</style>\n",
              "<table border=\"1\" class=\"dataframe\">\n",
              "  <thead>\n",
              "    <tr style=\"text-align: right;\">\n",
              "      <th></th>\n",
              "      <th>total_images</th>\n",
              "      <th>last_price</th>\n",
              "      <th>total_area</th>\n",
              "      <th>first_day_exposition</th>\n",
              "      <th>rooms</th>\n",
              "      <th>ceiling_height</th>\n",
              "      <th>floors_total</th>\n",
              "      <th>living_area</th>\n",
              "      <th>floor</th>\n",
              "      <th>is_apartment</th>\n",
              "      <th>studio</th>\n",
              "      <th>open_plan</th>\n",
              "      <th>kitchen_area</th>\n",
              "      <th>balcony</th>\n",
              "      <th>locality_name</th>\n",
              "      <th>airports_nearest</th>\n",
              "      <th>cityCenters_nearest</th>\n",
              "      <th>parks_around3000</th>\n",
              "      <th>parks_nearest</th>\n",
              "      <th>ponds_around3000</th>\n",
              "      <th>ponds_nearest</th>\n",
              "      <th>days_exposition</th>\n",
              "      <th>lemma_locality_name</th>\n",
              "      <th>day</th>\n",
              "      <th>month</th>\n",
              "      <th>year</th>\n",
              "      <th>living_area_part</th>\n",
              "      <th>kitchen_area_part</th>\n",
              "      <th>price_sq_metre</th>\n",
              "      <th>floor_category</th>\n",
              "    </tr>\n",
              "  </thead>\n",
              "  <tbody>\n",
              "    <tr>\n",
              "      <td>0</td>\n",
              "      <td>20</td>\n",
              "      <td>13000000</td>\n",
              "      <td>108</td>\n",
              "      <td>2019-03-07</td>\n",
              "      <td>3</td>\n",
              "      <td>2.70</td>\n",
              "      <td>16.0</td>\n",
              "      <td>51.0</td>\n",
              "      <td>8</td>\n",
              "      <td>False</td>\n",
              "      <td>False</td>\n",
              "      <td>False</td>\n",
              "      <td>25.0</td>\n",
              "      <td>0.0</td>\n",
              "      <td>санкт-петербург</td>\n",
              "      <td>18863.0</td>\n",
              "      <td>16028.0</td>\n",
              "      <td>1.0</td>\n",
              "      <td>482.0</td>\n",
              "      <td>2.0</td>\n",
              "      <td>755.0</td>\n",
              "      <td>NaN</td>\n",
              "      <td>санкт-петербург \\n</td>\n",
              "      <td>3</td>\n",
              "      <td>3</td>\n",
              "      <td>2019</td>\n",
              "      <td>0.47</td>\n",
              "      <td>0.23</td>\n",
              "      <td>120370</td>\n",
              "      <td>другой</td>\n",
              "    </tr>\n",
              "    <tr>\n",
              "      <td>1</td>\n",
              "      <td>7</td>\n",
              "      <td>3350000</td>\n",
              "      <td>40</td>\n",
              "      <td>2018-12-04</td>\n",
              "      <td>1</td>\n",
              "      <td>2.60</td>\n",
              "      <td>11.0</td>\n",
              "      <td>18.6</td>\n",
              "      <td>1</td>\n",
              "      <td>False</td>\n",
              "      <td>False</td>\n",
              "      <td>False</td>\n",
              "      <td>11.0</td>\n",
              "      <td>2.0</td>\n",
              "      <td>посёлок шушары</td>\n",
              "      <td>12817.0</td>\n",
              "      <td>18603.0</td>\n",
              "      <td>0.0</td>\n",
              "      <td>NaN</td>\n",
              "      <td>0.0</td>\n",
              "      <td>NaN</td>\n",
              "      <td>81.0</td>\n",
              "      <td>поселок   шушары \\n</td>\n",
              "      <td>1</td>\n",
              "      <td>12</td>\n",
              "      <td>2018</td>\n",
              "      <td>0.47</td>\n",
              "      <td>0.28</td>\n",
              "      <td>83750</td>\n",
              "      <td>первый</td>\n",
              "    </tr>\n",
              "    <tr>\n",
              "      <td>2</td>\n",
              "      <td>10</td>\n",
              "      <td>5196000</td>\n",
              "      <td>56</td>\n",
              "      <td>2015-08-20</td>\n",
              "      <td>2</td>\n",
              "      <td>2.60</td>\n",
              "      <td>5.0</td>\n",
              "      <td>34.3</td>\n",
              "      <td>4</td>\n",
              "      <td>False</td>\n",
              "      <td>False</td>\n",
              "      <td>False</td>\n",
              "      <td>8.3</td>\n",
              "      <td>0.0</td>\n",
              "      <td>санкт-петербург</td>\n",
              "      <td>21741.0</td>\n",
              "      <td>13933.0</td>\n",
              "      <td>1.0</td>\n",
              "      <td>90.0</td>\n",
              "      <td>2.0</td>\n",
              "      <td>574.0</td>\n",
              "      <td>558.0</td>\n",
              "      <td>санкт-петербург \\n</td>\n",
              "      <td>3</td>\n",
              "      <td>8</td>\n",
              "      <td>2015</td>\n",
              "      <td>0.61</td>\n",
              "      <td>0.15</td>\n",
              "      <td>92785</td>\n",
              "      <td>другой</td>\n",
              "    </tr>\n",
              "    <tr>\n",
              "      <td>3</td>\n",
              "      <td>0</td>\n",
              "      <td>64900000</td>\n",
              "      <td>159</td>\n",
              "      <td>2015-07-24</td>\n",
              "      <td>3</td>\n",
              "      <td>2.60</td>\n",
              "      <td>14.0</td>\n",
              "      <td>NaN</td>\n",
              "      <td>9</td>\n",
              "      <td>False</td>\n",
              "      <td>False</td>\n",
              "      <td>False</td>\n",
              "      <td>NaN</td>\n",
              "      <td>0.0</td>\n",
              "      <td>санкт-петербург</td>\n",
              "      <td>28098.0</td>\n",
              "      <td>6800.0</td>\n",
              "      <td>2.0</td>\n",
              "      <td>84.0</td>\n",
              "      <td>3.0</td>\n",
              "      <td>234.0</td>\n",
              "      <td>424.0</td>\n",
              "      <td>санкт-петербург \\n</td>\n",
              "      <td>4</td>\n",
              "      <td>7</td>\n",
              "      <td>2015</td>\n",
              "      <td>NaN</td>\n",
              "      <td>NaN</td>\n",
              "      <td>408176</td>\n",
              "      <td>другой</td>\n",
              "    </tr>\n",
              "    <tr>\n",
              "      <td>4</td>\n",
              "      <td>2</td>\n",
              "      <td>10000000</td>\n",
              "      <td>100</td>\n",
              "      <td>2018-06-19</td>\n",
              "      <td>2</td>\n",
              "      <td>3.03</td>\n",
              "      <td>14.0</td>\n",
              "      <td>32.0</td>\n",
              "      <td>13</td>\n",
              "      <td>False</td>\n",
              "      <td>False</td>\n",
              "      <td>False</td>\n",
              "      <td>41.0</td>\n",
              "      <td>0.0</td>\n",
              "      <td>санкт-петербург</td>\n",
              "      <td>31856.0</td>\n",
              "      <td>8098.0</td>\n",
              "      <td>2.0</td>\n",
              "      <td>112.0</td>\n",
              "      <td>1.0</td>\n",
              "      <td>48.0</td>\n",
              "      <td>121.0</td>\n",
              "      <td>санкт-петербург \\n</td>\n",
              "      <td>1</td>\n",
              "      <td>6</td>\n",
              "      <td>2018</td>\n",
              "      <td>0.32</td>\n",
              "      <td>0.41</td>\n",
              "      <td>100000</td>\n",
              "      <td>другой</td>\n",
              "    </tr>\n",
              "  </tbody>\n",
              "</table>\n",
              "</div>"
            ],
            "text/plain": [
              "   total_images  last_price  total_area first_day_exposition  rooms  \\\n",
              "0            20    13000000         108           2019-03-07      3   \n",
              "1             7     3350000          40           2018-12-04      1   \n",
              "2            10     5196000          56           2015-08-20      2   \n",
              "3             0    64900000         159           2015-07-24      3   \n",
              "4             2    10000000         100           2018-06-19      2   \n",
              "\n",
              "   ceiling_height  floors_total  living_area  floor  is_apartment  studio  \\\n",
              "0            2.70          16.0         51.0      8         False   False   \n",
              "1            2.60          11.0         18.6      1         False   False   \n",
              "2            2.60           5.0         34.3      4         False   False   \n",
              "3            2.60          14.0          NaN      9         False   False   \n",
              "4            3.03          14.0         32.0     13         False   False   \n",
              "\n",
              "   open_plan  kitchen_area  balcony    locality_name  airports_nearest  \\\n",
              "0      False          25.0      0.0  санкт-петербург           18863.0   \n",
              "1      False          11.0      2.0   посёлок шушары           12817.0   \n",
              "2      False           8.3      0.0  санкт-петербург           21741.0   \n",
              "3      False           NaN      0.0  санкт-петербург           28098.0   \n",
              "4      False          41.0      0.0  санкт-петербург           31856.0   \n",
              "\n",
              "   cityCenters_nearest  parks_around3000  parks_nearest  ponds_around3000  \\\n",
              "0              16028.0               1.0          482.0               2.0   \n",
              "1              18603.0               0.0            NaN               0.0   \n",
              "2              13933.0               1.0           90.0               2.0   \n",
              "3               6800.0               2.0           84.0               3.0   \n",
              "4               8098.0               2.0          112.0               1.0   \n",
              "\n",
              "   ponds_nearest  days_exposition  lemma_locality_name  day  month  year  \\\n",
              "0          755.0              NaN   санкт-петербург \\n    3      3  2019   \n",
              "1            NaN             81.0  поселок   шушары \\n    1     12  2018   \n",
              "2          574.0            558.0   санкт-петербург \\n    3      8  2015   \n",
              "3          234.0            424.0   санкт-петербург \\n    4      7  2015   \n",
              "4           48.0            121.0   санкт-петербург \\n    1      6  2018   \n",
              "\n",
              "   living_area_part  kitchen_area_part  price_sq_metre floor_category  \n",
              "0              0.47               0.23          120370         другой  \n",
              "1              0.47               0.28           83750         первый  \n",
              "2              0.61               0.15           92785         другой  \n",
              "3               NaN                NaN          408176         другой  \n",
              "4              0.32               0.41          100000         другой  "
            ]
          },
          "execution_count": 34,
          "metadata": {},
          "output_type": "execute_result"
        }
      ],
      "source": [
        "data.head()"
      ]
    },
    {
      "cell_type": "markdown",
      "metadata": {
        "id": "qTLIg987D-ZG"
      },
      "source": [
        "Разбили этажи по категориям."
      ]
    },
    {
      "cell_type": "markdown",
      "metadata": {
        "id": "_2pe47X6D-ZI"
      },
      "source": [
        "**Вывод**"
      ]
    },
    {
      "cell_type": "markdown",
      "metadata": {
        "id": "12ACceYtD-ZI"
      },
      "source": [
        "Добавили в таблицу новые столбцы, расчитали цену за квадратный метр"
      ]
    },
    {
      "cell_type": "markdown",
      "metadata": {
        "id": "ws5qvhUnD-Zz"
      },
      "source": [
        "## Исследовательский анализ данных"
      ]
    },
    {
      "cell_type": "markdown",
      "metadata": {
        "id": "RUQy_mkOD-Z2"
      },
      "source": [
        "### Изучение параметров: площадь, цена, число комнат, высота потолков"
      ]
    },
    {
      "cell_type": "code",
      "execution_count": null,
      "metadata": {
        "id": "pU7S9oEXD-Z4",
        "outputId": "013c899a-1aaa-4d39-c1e6-6825a8a91a6b"
      },
      "outputs": [
        {
          "data": {
            "text/html": [
              "<div>\n",
              "<style scoped>\n",
              "    .dataframe tbody tr th:only-of-type {\n",
              "        vertical-align: middle;\n",
              "    }\n",
              "\n",
              "    .dataframe tbody tr th {\n",
              "        vertical-align: top;\n",
              "    }\n",
              "\n",
              "    .dataframe thead th {\n",
              "        text-align: right;\n",
              "    }\n",
              "</style>\n",
              "<table border=\"1\" class=\"dataframe\">\n",
              "  <thead>\n",
              "    <tr style=\"text-align: right;\">\n",
              "      <th></th>\n",
              "      <th>total_area</th>\n",
              "      <th>last_price</th>\n",
              "      <th>rooms</th>\n",
              "      <th>ceiling_height</th>\n",
              "    </tr>\n",
              "  </thead>\n",
              "  <tbody>\n",
              "    <tr>\n",
              "      <td>count</td>\n",
              "      <td>23565.0</td>\n",
              "      <td>23565.0</td>\n",
              "      <td>23565.0</td>\n",
              "      <td>23565.0</td>\n",
              "    </tr>\n",
              "    <tr>\n",
              "      <td>mean</td>\n",
              "      <td>60.0</td>\n",
              "      <td>6540058.0</td>\n",
              "      <td>2.0</td>\n",
              "      <td>3.0</td>\n",
              "    </tr>\n",
              "    <tr>\n",
              "      <td>std</td>\n",
              "      <td>36.0</td>\n",
              "      <td>10910935.0</td>\n",
              "      <td>1.0</td>\n",
              "      <td>1.0</td>\n",
              "    </tr>\n",
              "    <tr>\n",
              "      <td>min</td>\n",
              "      <td>12.0</td>\n",
              "      <td>12190.0</td>\n",
              "      <td>0.0</td>\n",
              "      <td>1.0</td>\n",
              "    </tr>\n",
              "    <tr>\n",
              "      <td>25%</td>\n",
              "      <td>40.0</td>\n",
              "      <td>3400000.0</td>\n",
              "      <td>1.0</td>\n",
              "      <td>3.0</td>\n",
              "    </tr>\n",
              "    <tr>\n",
              "      <td>50%</td>\n",
              "      <td>52.0</td>\n",
              "      <td>4646000.0</td>\n",
              "      <td>2.0</td>\n",
              "      <td>3.0</td>\n",
              "    </tr>\n",
              "    <tr>\n",
              "      <td>75%</td>\n",
              "      <td>69.0</td>\n",
              "      <td>6790000.0</td>\n",
              "      <td>3.0</td>\n",
              "      <td>3.0</td>\n",
              "    </tr>\n",
              "    <tr>\n",
              "      <td>max</td>\n",
              "      <td>900.0</td>\n",
              "      <td>763000000.0</td>\n",
              "      <td>19.0</td>\n",
              "      <td>100.0</td>\n",
              "    </tr>\n",
              "  </tbody>\n",
              "</table>\n",
              "</div>"
            ],
            "text/plain": [
              "       total_area   last_price    rooms  ceiling_height\n",
              "count     23565.0      23565.0  23565.0         23565.0\n",
              "mean         60.0    6540058.0      2.0             3.0\n",
              "std          36.0   10910935.0      1.0             1.0\n",
              "min          12.0      12190.0      0.0             1.0\n",
              "25%          40.0    3400000.0      1.0             3.0\n",
              "50%          52.0    4646000.0      2.0             3.0\n",
              "75%          69.0    6790000.0      3.0             3.0\n",
              "max         900.0  763000000.0     19.0           100.0"
            ]
          },
          "execution_count": 35,
          "metadata": {},
          "output_type": "execute_result"
        }
      ],
      "source": [
        "data[['total_area','last_price', 'rooms', 'ceiling_height']].describe().round()"
      ]
    },
    {
      "cell_type": "markdown",
      "metadata": {
        "id": "3t3mr0sRD-Z-"
      },
      "source": [
        "Мы видим какие-то нереалистичные значения что максимум, что минимум. Нужно построить диаграммы."
      ]
    },
    {
      "cell_type": "code",
      "execution_count": null,
      "metadata": {
        "id": "3q79WUMoD-aA",
        "outputId": "caf730af-038e-4d1e-87ce-1d83fbcfc477"
      },
      "outputs": [
        {
          "data": {
            "text/plain": [
              "array([[<matplotlib.axes._subplots.AxesSubplot object at 0x7f5210704650>]],\n",
              "      dtype=object)"
            ]
          },
          "execution_count": 36,
          "metadata": {},
          "output_type": "execute_result"
        },
        {
          "data": {
            "image/png": "[encoded data removed]",
            "text/plain": [
              "<Figure size 432x288 with 1 Axes>"
            ]
          },
          "metadata": {
            "needs_background": "light"
          },
          "output_type": "display_data"
        }
      ],
      "source": [
        "data.hist('last_price', bins=100, range=(12190,1500000))\n",
        " "
      ]
    },
    {
      "cell_type": "markdown",
      "metadata": {
        "id": "Pm2LTuSKD-aD"
      },
      "source": [
        "Видим выбивающиеся значения, менее 400000 рублей"
      ]
    },
    {
      "cell_type": "code",
      "execution_count": null,
      "metadata": {
        "id": "VINE51bdD-aE",
        "outputId": "4f0d0299-0b97-4324-f88f-caabdf81a9f9"
      },
      "outputs": [
        {
          "data": {
            "text/html": [
              "<div>\n",
              "<style scoped>\n",
              "    .dataframe tbody tr th:only-of-type {\n",
              "        vertical-align: middle;\n",
              "    }\n",
              "\n",
              "    .dataframe tbody tr th {\n",
              "        vertical-align: top;\n",
              "    }\n",
              "\n",
              "    .dataframe thead th {\n",
              "        text-align: right;\n",
              "    }\n",
              "</style>\n",
              "<table border=\"1\" class=\"dataframe\">\n",
              "  <thead>\n",
              "    <tr style=\"text-align: right;\">\n",
              "      <th></th>\n",
              "      <th>total_images</th>\n",
              "      <th>last_price</th>\n",
              "      <th>total_area</th>\n",
              "      <th>first_day_exposition</th>\n",
              "      <th>rooms</th>\n",
              "      <th>ceiling_height</th>\n",
              "      <th>floors_total</th>\n",
              "      <th>living_area</th>\n",
              "      <th>floor</th>\n",
              "      <th>is_apartment</th>\n",
              "      <th>studio</th>\n",
              "      <th>open_plan</th>\n",
              "      <th>kitchen_area</th>\n",
              "      <th>balcony</th>\n",
              "      <th>locality_name</th>\n",
              "      <th>airports_nearest</th>\n",
              "      <th>cityCenters_nearest</th>\n",
              "      <th>parks_around3000</th>\n",
              "      <th>parks_nearest</th>\n",
              "      <th>ponds_around3000</th>\n",
              "      <th>ponds_nearest</th>\n",
              "      <th>days_exposition</th>\n",
              "      <th>lemma_locality_name</th>\n",
              "      <th>day</th>\n",
              "      <th>month</th>\n",
              "      <th>year</th>\n",
              "      <th>living_area_part</th>\n",
              "      <th>kitchen_area_part</th>\n",
              "      <th>price_sq_metre</th>\n",
              "      <th>floor_category</th>\n",
              "    </tr>\n",
              "  </thead>\n",
              "  <tbody>\n",
              "    <tr>\n",
              "      <td>8750</td>\n",
              "      <td>7</td>\n",
              "      <td>12190</td>\n",
              "      <td>109</td>\n",
              "      <td>2019-03-20</td>\n",
              "      <td>2</td>\n",
              "      <td>2.75</td>\n",
              "      <td>25.0</td>\n",
              "      <td>32.0</td>\n",
              "      <td>25</td>\n",
              "      <td>False</td>\n",
              "      <td>False</td>\n",
              "      <td>False</td>\n",
              "      <td>40.5</td>\n",
              "      <td>0.0</td>\n",
              "      <td>санкт-петербург</td>\n",
              "      <td>36421.0</td>\n",
              "      <td>9176.0</td>\n",
              "      <td>1.0</td>\n",
              "      <td>805.0</td>\n",
              "      <td>0.0</td>\n",
              "      <td>NaN</td>\n",
              "      <td>8.0</td>\n",
              "      <td>санкт-петербург \\n</td>\n",
              "      <td>2</td>\n",
              "      <td>3</td>\n",
              "      <td>2019</td>\n",
              "      <td>0.29</td>\n",
              "      <td>0.37</td>\n",
              "      <td>111</td>\n",
              "      <td>последний</td>\n",
              "    </tr>\n",
              "  </tbody>\n",
              "</table>\n",
              "</div>"
            ],
            "text/plain": [
              "      total_images  last_price  total_area first_day_exposition  rooms  \\\n",
              "8750             7       12190         109           2019-03-20      2   \n",
              "\n",
              "      ceiling_height  floors_total  living_area  floor  is_apartment  studio  \\\n",
              "8750            2.75          25.0         32.0     25         False   False   \n",
              "\n",
              "      open_plan  kitchen_area  balcony    locality_name  airports_nearest  \\\n",
              "8750      False          40.5      0.0  санкт-петербург           36421.0   \n",
              "\n",
              "      cityCenters_nearest  parks_around3000  parks_nearest  ponds_around3000  \\\n",
              "8750               9176.0               1.0          805.0               0.0   \n",
              "\n",
              "      ponds_nearest  days_exposition lemma_locality_name  day  month  year  \\\n",
              "8750            NaN              8.0  санкт-петербург \\n    2      3  2019   \n",
              "\n",
              "      living_area_part  kitchen_area_part  price_sq_metre floor_category  \n",
              "8750              0.29               0.37             111      последний  "
            ]
          },
          "execution_count": 37,
          "metadata": {},
          "output_type": "execute_result"
        }
      ],
      "source": [
        "data.query('last_price <= 400000')"
      ]
    },
    {
      "cell_type": "markdown",
      "metadata": {
        "id": "tlQFw2WND-aE"
      },
      "source": [
        "12 тысяч рублей за квартиру в которой 109 кв метров? Тем более в Спб. Точно здесь какая-то ошибка. Я бы удалила такой вброс."
      ]
    },
    {
      "cell_type": "code",
      "execution_count": null,
      "metadata": {
        "id": "UAho2A34D-aF",
        "outputId": "378c9e39-2585-4be1-9eea-d73565431dd7"
      },
      "outputs": [
        {
          "data": {
            "text/plain": [
              "array([[<matplotlib.axes._subplots.AxesSubplot object at 0x7f51b50f7810>]],\n",
              "      dtype=object)"
            ]
          },
          "execution_count": 38,
          "metadata": {},
          "output_type": "execute_result"
        },
        {
          "data": {
            "image/png": "[encoded data removed]",
            "text/plain": [
              "<Figure size 432x288 with 1 Axes>"
            ]
          },
          "metadata": {
            "needs_background": "light"
          },
          "output_type": "display_data"
        }
      ],
      "source": [
        "data.hist('total_area', bins=100)"
      ]
    },
    {
      "cell_type": "code",
      "execution_count": null,
      "metadata": {
        "id": "rmqA4AOdD-aG",
        "outputId": "1632c8b7-0a8c-45ad-9c2a-93ca254b4514"
      },
      "outputs": [
        {
          "data": {
            "text/plain": [
              "array([[<matplotlib.axes._subplots.AxesSubplot object at 0x7f52107060d0>]],\n",
              "      dtype=object)"
            ]
          },
          "execution_count": 39,
          "metadata": {},
          "output_type": "execute_result"
        },
        {
          "data": {
            "image/png": "[encoded data removed]",
            "text/plain": [
              "<Figure size 432x288 with 1 Axes>"
            ]
          },
          "metadata": {
            "needs_background": "light"
          },
          "output_type": "display_data"
        }
      ],
      "source": [
        "data.hist('rooms', bins=50)"
      ]
    },
    {
      "cell_type": "code",
      "execution_count": null,
      "metadata": {
        "id": "IyIhbr43D-aG",
        "outputId": "a1658213-6ca0-40ce-b094-d849bbd73500"
      },
      "outputs": [
        {
          "data": {
            "text/plain": [
              "array([[<matplotlib.axes._subplots.AxesSubplot object at 0x7f51fd31b810>]],\n",
              "      dtype=object)"
            ]
          },
          "execution_count": 40,
          "metadata": {},
          "output_type": "execute_result"
        },
        {
          "data": {
            "image/png": "[encoded data removed]",
            "text/plain": [
              "<Figure size 432x288 with 1 Axes>"
            ]
          },
          "metadata": {
            "needs_background": "light"
          },
          "output_type": "display_data"
        }
      ],
      "source": [
        "data.hist('ceiling_height', bins=50)"
      ]
    },
    {
      "cell_type": "markdown",
      "metadata": {
        "id": "ayE9zByHD-aH"
      },
      "source": [
        "Посмотрим, что с ценами в других населенных пунктах."
      ]
    },
    {
      "cell_type": "markdown",
      "metadata": {
        "id": "d84hti5tD-aI"
      },
      "source": [
        "### Изучение цен в населенных пунктах"
      ]
    },
    {
      "cell_type": "code",
      "execution_count": null,
      "metadata": {
        "id": "AWif0vzGD-aI"
      },
      "outputs": [],
      "source": [
        "suburb = ['посёлок мурино', 'посёлок шушары', 'всеволожск',\n",
        "              'пушкин', 'колпино', 'посёлок парголово','гатчина',\n",
        "              'деревня кудрово','выборг', 'петергоф']\n",
        "# Cоздали список, теперь создадим столбец с категориями пригорода\n",
        "def suburban(row):\n",
        "    locality_name=row['locality_name']\n",
        "    \n",
        "    if locality_name in suburb:\n",
        "        return locality_name\n",
        "    if locality_name == 'санкт-петербург':\n",
        "        return 'санкт-петербург'\n",
        "    return 'остальные'\n",
        "data['suburbans'] = data.apply(suburban, axis=1) "
      ]
    },
    {
      "cell_type": "code",
      "execution_count": null,
      "metadata": {
        "id": "TjzEMu4MD-aJ",
        "outputId": "669efeed-9f50-4092-8fa3-dc9a1cf8b129"
      },
      "outputs": [
        {
          "name": "stdout",
          "output_type": "stream",
          "text": [
            "<class 'pandas.core.frame.DataFrame'>\n",
            "RangeIndex: 23565 entries, 0 to 23564\n",
            "Data columns (total 31 columns):\n",
            "total_images            23565 non-null int64\n",
            "last_price              23565 non-null int64\n",
            "total_area              23565 non-null int64\n",
            "first_day_exposition    23565 non-null datetime64[ns]\n",
            "rooms                   23565 non-null int64\n",
            "ceiling_height          23565 non-null float64\n",
            "floors_total            23565 non-null float64\n",
            "living_area             21700 non-null float64\n",
            "floor                   23565 non-null int64\n",
            "is_apartment            23565 non-null bool\n",
            "studio                  23565 non-null bool\n",
            "open_plan               23565 non-null bool\n",
            "kitchen_area            22138 non-null float64\n",
            "balcony                 23565 non-null float64\n",
            "locality_name           23565 non-null object\n",
            "airports_nearest        18041 non-null float64\n",
            "cityCenters_nearest     18064 non-null float64\n",
            "parks_around3000        18065 non-null float64\n",
            "parks_nearest           8030 non-null float64\n",
            "ponds_around3000        18065 non-null float64\n",
            "ponds_nearest           9036 non-null float64\n",
            "days_exposition         20394 non-null float64\n",
            "lemma_locality_name     23565 non-null object\n",
            "day                     23565 non-null int64\n",
            "month                   23565 non-null int64\n",
            "year                    23565 non-null int64\n",
            "living_area_part        21700 non-null float64\n",
            "kitchen_area_part       22138 non-null float64\n",
            "price_sq_metre          23565 non-null int64\n",
            "floor_category          23565 non-null object\n",
            "suburbans               23565 non-null object\n",
            "dtypes: bool(3), datetime64[ns](1), float64(14), int64(9), object(4)\n",
            "memory usage: 5.1+ MB\n"
          ]
        }
      ],
      "source": [
        "data.info()"
      ]
    },
    {
      "cell_type": "code",
      "execution_count": null,
      "metadata": {
        "id": "gAz1AgsID-aK",
        "outputId": "d78c9867-a0c7-4c35-ee93-1a2df7b2d8c2"
      },
      "outputs": [
        {
          "data": {
            "text/html": [
              "<div>\n",
              "<style scoped>\n",
              "    .dataframe tbody tr th:only-of-type {\n",
              "        vertical-align: middle;\n",
              "    }\n",
              "\n",
              "    .dataframe tbody tr th {\n",
              "        vertical-align: top;\n",
              "    }\n",
              "\n",
              "    .dataframe thead tr th {\n",
              "        text-align: left;\n",
              "    }\n",
              "\n",
              "    .dataframe thead tr:last-of-type th {\n",
              "        text-align: right;\n",
              "    }\n",
              "</style>\n",
              "<table border=\"1\" class=\"dataframe\">\n",
              "  <thead>\n",
              "    <tr>\n",
              "      <th></th>\n",
              "      <th>min</th>\n",
              "      <th>mean</th>\n",
              "      <th>max</th>\n",
              "    </tr>\n",
              "    <tr>\n",
              "      <th></th>\n",
              "      <th>last_price</th>\n",
              "      <th>last_price</th>\n",
              "      <th>last_price</th>\n",
              "    </tr>\n",
              "    <tr>\n",
              "      <th>suburbans</th>\n",
              "      <th></th>\n",
              "      <th></th>\n",
              "      <th></th>\n",
              "    </tr>\n",
              "  </thead>\n",
              "  <tbody>\n",
              "    <tr>\n",
              "      <td>всеволожск</td>\n",
              "      <td>965780</td>\n",
              "      <td>3789068.0</td>\n",
              "      <td>24412900</td>\n",
              "    </tr>\n",
              "    <tr>\n",
              "      <td>выборг</td>\n",
              "      <td>600000</td>\n",
              "      <td>3250983.0</td>\n",
              "      <td>19990000</td>\n",
              "    </tr>\n",
              "    <tr>\n",
              "      <td>гатчина</td>\n",
              "      <td>850000</td>\n",
              "      <td>3488337.0</td>\n",
              "      <td>13900000</td>\n",
              "    </tr>\n",
              "    <tr>\n",
              "      <td>деревня кудрово</td>\n",
              "      <td>1800000</td>\n",
              "      <td>4234158.0</td>\n",
              "      <td>13000000</td>\n",
              "    </tr>\n",
              "    <tr>\n",
              "      <td>колпино</td>\n",
              "      <td>2100000</td>\n",
              "      <td>3964021.0</td>\n",
              "      <td>36900000</td>\n",
              "    </tr>\n",
              "    <tr>\n",
              "      <td>остальные</td>\n",
              "      <td>430000</td>\n",
              "      <td>3009688.0</td>\n",
              "      <td>28000000</td>\n",
              "    </tr>\n",
              "    <tr>\n",
              "      <td>петергоф</td>\n",
              "      <td>2100000</td>\n",
              "      <td>4423841.0</td>\n",
              "      <td>22000000</td>\n",
              "    </tr>\n",
              "    <tr>\n",
              "      <td>посёлок мурино</td>\n",
              "      <td>1730000</td>\n",
              "      <td>3671211.0</td>\n",
              "      <td>8500000</td>\n",
              "    </tr>\n",
              "    <tr>\n",
              "      <td>посёлок парголово</td>\n",
              "      <td>1400000</td>\n",
              "      <td>4488075.0</td>\n",
              "      <td>9140000</td>\n",
              "    </tr>\n",
              "    <tr>\n",
              "      <td>посёлок шушары</td>\n",
              "      <td>1500000</td>\n",
              "      <td>4109809.0</td>\n",
              "      <td>10990000</td>\n",
              "    </tr>\n",
              "    <tr>\n",
              "      <td>пушкин</td>\n",
              "      <td>1990000</td>\n",
              "      <td>6469036.0</td>\n",
              "      <td>42000000</td>\n",
              "    </tr>\n",
              "    <tr>\n",
              "      <td>санкт-петербург</td>\n",
              "      <td>12190</td>\n",
              "      <td>8064895.0</td>\n",
              "      <td>763000000</td>\n",
              "    </tr>\n",
              "  </tbody>\n",
              "</table>\n",
              "</div>"
            ],
            "text/plain": [
              "                         min       mean        max\n",
              "                  last_price last_price last_price\n",
              "suburbans                                         \n",
              "всеволожск            965780  3789068.0   24412900\n",
              "выборг                600000  3250983.0   19990000\n",
              "гатчина               850000  3488337.0   13900000\n",
              "деревня кудрово      1800000  4234158.0   13000000\n",
              "колпино              2100000  3964021.0   36900000\n",
              "остальные             430000  3009688.0   28000000\n",
              "петергоф             2100000  4423841.0   22000000\n",
              "посёлок мурино       1730000  3671211.0    8500000\n",
              "посёлок парголово    1400000  4488075.0    9140000\n",
              "посёлок шушары       1500000  4109809.0   10990000\n",
              "пушкин               1990000  6469036.0   42000000\n",
              "санкт-петербург        12190  8064895.0  763000000"
            ]
          },
          "execution_count": 43,
          "metadata": {},
          "output_type": "execute_result"
        }
      ],
      "source": [
        "data.pivot_table(index='suburbans', values='last_price', aggfunc=['min','mean', 'max']).round()"
      ]
    },
    {
      "cell_type": "code",
      "execution_count": null,
      "metadata": {
        "id": "ZNURAlrXD-aQ"
      },
      "outputs": [],
      "source": [
        "import matplotlib.pyplot as plt"
      ]
    },
    {
      "cell_type": "code",
      "execution_count": null,
      "metadata": {
        "id": "RhPxM7WpD-aT",
        "outputId": "016d8765-4e17-4b08-e5fe-ba1432b84cfe"
      },
      "outputs": [
        {
          "name": "stderr",
          "output_type": "stream",
          "text": [
            "/opt/conda/lib/python3.7/site-packages/numpy/core/_asarray.py:83: VisibleDeprecationWarning: Creating an ndarray from ragged nested sequences (which is a list-or-tuple of lists-or-tuples-or ndarrays with different lengths or shapes) is deprecated. If you meant to do this, you must specify 'dtype=object' when creating the ndarray\n",
            "  return array(a, dtype, copy=False, order=order)\n"
          ]
        },
        {
          "data": {
            "text/plain": [
              "(0, 15000000)"
            ]
          },
          "execution_count": 45,
          "metadata": {},
          "output_type": "execute_result"
        },
        {
          "data": {
            "image/png": "[encoded data removed]",
            "text/plain": [
              "<Figure size 1080x576 with 1 Axes>"
            ]
          },
          "metadata": {
            "needs_background": "light"
          },
          "output_type": "display_data"
        }
      ],
      "source": [
        "data.boxplot(by='suburbans', column='last_price', figsize=(15,8), rot=45)\n",
        "plt.ylim(0, 15000000)"
      ]
    },
    {
      "cell_type": "markdown",
      "metadata": {
        "id": "wkm8y_DND-aU"
      },
      "source": [
        "**Вывод**"
      ]
    },
    {
      "cell_type": "markdown",
      "metadata": {
        "id": "Ko_ZrntzD-aV"
      },
      "source": [
        "Видим, что в городе Пушкин самая высокая средняя цена, без учета Спб. А самая низкая средняя цена в Выборге, также, если не учитывать категорию \"остальные\""
      ]
    },
    {
      "cell_type": "markdown",
      "metadata": {
        "id": "_KSGYATcD-aX"
      },
      "source": [
        "### Изучение времени продажи квартиры"
      ]
    },
    {
      "cell_type": "code",
      "execution_count": null,
      "metadata": {
        "id": "HXbYew3kD-aX",
        "outputId": "64db8379-665b-4de4-a56b-2ff75c8c9853"
      },
      "outputs": [
        {
          "data": {
            "text/plain": [
              "<matplotlib.axes._subplots.AxesSubplot at 0x7f51b4d50990>"
            ]
          },
          "execution_count": 46,
          "metadata": {},
          "output_type": "execute_result"
        },
        {
          "data": {
            "image/png": "[encoded data removed]",
            "text/plain": [
              "<Figure size 432x288 with 1 Axes>"
            ]
          },
          "metadata": {
            "needs_background": "light"
          },
          "output_type": "display_data"
        }
      ],
      "source": [
        "data.boxplot('days_exposition')"
      ]
    },
    {
      "cell_type": "code",
      "execution_count": null,
      "metadata": {
        "id": "MXAjeA-BD-aY",
        "outputId": "cdec094b-510c-4c8b-a07e-7f3c02192236"
      },
      "outputs": [
        {
          "data": {
            "text/plain": [
              "95.0"
            ]
          },
          "execution_count": 47,
          "metadata": {},
          "output_type": "execute_result"
        }
      ],
      "source": [
        "data['days_exposition'].median()"
      ]
    },
    {
      "cell_type": "code",
      "execution_count": null,
      "metadata": {
        "id": "Vs5VZt_nD-aZ",
        "outputId": "6b8e0205-84cc-4dfe-bf35-6618030bd4de"
      },
      "outputs": [
        {
          "data": {
            "text/plain": [
              "181.0"
            ]
          },
          "execution_count": 48,
          "metadata": {},
          "output_type": "execute_result"
        }
      ],
      "source": [
        "data['days_exposition'].mean().round()"
      ]
    },
    {
      "cell_type": "code",
      "execution_count": null,
      "metadata": {
        "id": "pCsldGi4D-ab",
        "outputId": "d74feb53-87e1-4c7a-d49e-030b2c5e4bf4"
      },
      "outputs": [
        {
          "data": {
            "text/plain": [
              "count    20394.000000\n",
              "mean       180.741395\n",
              "std        219.732782\n",
              "min          1.000000\n",
              "25%         45.000000\n",
              "50%         95.000000\n",
              "75%        231.000000\n",
              "max       1580.000000\n",
              "Name: days_exposition, dtype: float64"
            ]
          },
          "execution_count": 49,
          "metadata": {},
          "output_type": "execute_result"
        }
      ],
      "source": [
        "data['days_exposition'].describe()"
      ]
    },
    {
      "cell_type": "markdown",
      "metadata": {
        "id": "LOiv_RkSD-ac"
      },
      "source": [
        "**Вывод**"
      ]
    },
    {
      "cell_type": "markdown",
      "metadata": {
        "id": "ETIatXaoD-ad"
      },
      "source": [
        "Мы видим, что среднее время продажи 181 день, медианное 95 дней. А максимальное количество 1580 дней. Это очень много. Из диаграммы видно выбросы, которые начинаются при количестве дней более, чем 400. Можно считать, что эти продажи прошли необычно долго. А проданные квартиры менее чем за 45 дней можно считать необычно быстрыми."
      ]
    },
    {
      "cell_type": "markdown",
      "metadata": {
        "id": "KHuHXaITD-ad"
      },
      "source": [
        "Уберем редкие и выбивающиеся значения. Опишем, какие особенности обнаружили. "
      ]
    },
    {
      "cell_type": "markdown",
      "metadata": {
        "id": "VDYTVlQuD-ag"
      },
      "source": [
        "### Исследование редких и выбивающихся значений"
      ]
    },
    {
      "cell_type": "code",
      "execution_count": null,
      "metadata": {
        "id": "drwa0dxgD-ah",
        "outputId": "9e175ffe-2f84-4830-c916-24d74aa856af"
      },
      "outputs": [
        {
          "data": {
            "text/plain": [
              "array([[<matplotlib.axes._subplots.AxesSubplot object at 0x7f51b3c13610>,\n",
              "        <matplotlib.axes._subplots.AxesSubplot object at 0x7f51fd2c7e90>,\n",
              "        <matplotlib.axes._subplots.AxesSubplot object at 0x7f51b4db5990>],\n",
              "       [<matplotlib.axes._subplots.AxesSubplot object at 0x7f51fd1afcd0>,\n",
              "        <matplotlib.axes._subplots.AxesSubplot object at 0x7f51fd12a990>,\n",
              "        <matplotlib.axes._subplots.AxesSubplot object at 0x7f51fd167d10>],\n",
              "       [<matplotlib.axes._subplots.AxesSubplot object at 0x7f51b4d059d0>,\n",
              "        <matplotlib.axes._subplots.AxesSubplot object at 0x7f51b4cc2210>,\n",
              "        <matplotlib.axes._subplots.AxesSubplot object at 0x7f51b4cc2d50>],\n",
              "       [<matplotlib.axes._subplots.AxesSubplot object at 0x7f51b4c86710>,\n",
              "        <matplotlib.axes._subplots.AxesSubplot object at 0x7f51b4c71a50>,\n",
              "        <matplotlib.axes._subplots.AxesSubplot object at 0x7f51b4c2fdd0>]],\n",
              "      dtype=object)"
            ]
          },
          "execution_count": 50,
          "metadata": {},
          "output_type": "execute_result"
        },
        {
          "data": {
            "image/png": "[encoded data removed]",
            "text/plain": [
              "<Figure size 864x864 with 12 Axes>"
            ]
          },
          "metadata": {
            "needs_background": "light"
          },
          "output_type": "display_data"
        }
      ],
      "source": [
        "values=['total_area', 'rooms',\n",
        "                    'living_area_part', 'kitchen_area_part',\n",
        "                    'cityCenters_nearest', 'floors_total', \n",
        "                    'airports_nearest','ceiling_height',\n",
        "                    'parks_around3000', 'ponds_around3000',]\n",
        "\n",
        "data[values].hist(bins=25, figsize=(12, 12))"
      ]
    },
    {
      "cell_type": "markdown",
      "metadata": {
        "id": "yhgKLAU3D-cS"
      },
      "source": [
        "Создали список с основными параметрами, которые могут влиять на цену, построили диаграммы и видим на них выбросы, которые мы удалим. "
      ]
    },
    {
      "cell_type": "code",
      "execution_count": null,
      "metadata": {
        "id": "-rQbDKIZD-cT"
      },
      "outputs": [],
      "source": [
        "data.drop(data.query('ceiling_height > 4.0').index, inplace=True)\n",
        "data.drop(data.query('floors_total > 30').index, inplace=True)\n",
        "data.drop(data.query('kitchen_area_part > 0.5').index, inplace=True)\n",
        "data.drop(data.query('living_area_part > 0.85').index, inplace=True)\n",
        "data.drop(data.query('living_area_part < 0.2').index, inplace=True) \n",
        "data.drop(data.query('total_area > 140').index, inplace=True)"
      ]
    },
    {
      "cell_type": "code",
      "execution_count": null,
      "metadata": {
        "id": "ZXmtiqOJD-cT",
        "outputId": "c5bc4494-1996-40ae-af4b-116b3d2847e6"
      },
      "outputs": [
        {
          "data": {
            "text/plain": [
              "array([[<matplotlib.axes._subplots.AxesSubplot object at 0x7f51fde20910>,\n",
              "        <matplotlib.axes._subplots.AxesSubplot object at 0x7f51b4b17b10>,\n",
              "        <matplotlib.axes._subplots.AxesSubplot object at 0x7f51b4737b90>],\n",
              "       [<matplotlib.axes._subplots.AxesSubplot object at 0x7f51b46d8650>,\n",
              "        <matplotlib.axes._subplots.AxesSubplot object at 0x7f51b468ce50>,\n",
              "        <matplotlib.axes._subplots.AxesSubplot object at 0x7f51b464e690>],\n",
              "       [<matplotlib.axes._subplots.AxesSubplot object at 0x7f51b4601e90>,\n",
              "        <matplotlib.axes._subplots.AxesSubplot object at 0x7f51b45c26d0>,\n",
              "        <matplotlib.axes._subplots.AxesSubplot object at 0x7f51b45cc250>],\n",
              "       [<matplotlib.axes._subplots.AxesSubplot object at 0x7f51b457fbd0>,\n",
              "        <matplotlib.axes._subplots.AxesSubplot object at 0x7f51b456af10>,\n",
              "        <matplotlib.axes._subplots.AxesSubplot object at 0x7f51b452b750>]],\n",
              "      dtype=object)"
            ]
          },
          "execution_count": 52,
          "metadata": {},
          "output_type": "execute_result"
        },
        {
          "data": {
            "image/png": "[encoded data removed]",
            "text/plain": [
              "<Figure size 864x864 with 12 Axes>"
            ]
          },
          "metadata": {
            "needs_background": "light"
          },
          "output_type": "display_data"
        }
      ],
      "source": [
        "values=['total_area', 'rooms',\n",
        "                    'living_area_part', 'kitchen_area_part',\n",
        "                    'cityCenters_nearest', 'floors_total', \n",
        "                    'airports_nearest','ceiling_height',\n",
        "                    'parks_around3000', 'ponds_around3000',]\n",
        "\n",
        "data[values].hist(bins=25, figsize=(12, 12))"
      ]
    },
    {
      "cell_type": "markdown",
      "metadata": {
        "id": "acWEd6OQD-cV"
      },
      "source": [
        "**Вывод**"
      ]
    },
    {
      "cell_type": "markdown",
      "metadata": {
        "id": "mVJXur55D-cV"
      },
      "source": [
        "Удалили выбивающиеся значения."
      ]
    },
    {
      "cell_type": "markdown",
      "metadata": {
        "id": "A-iq5HU0D-cY"
      },
      "source": [
        "### Зависимость цены от площади, числа комнат, удалённости от центра, этажа, даты размещения"
      ]
    },
    {
      "cell_type": "code",
      "execution_count": null,
      "metadata": {
        "id": "lm7VMEhGD-cZ"
      },
      "outputs": [],
      "source": [
        "import numpy as np"
      ]
    },
    {
      "cell_type": "code",
      "execution_count": null,
      "metadata": {
        "id": "Uij7UwKlD-cZ",
        "outputId": "b01c5b49-a5d5-4f72-81fd-441c8d8e30ba"
      },
      "outputs": [
        {
          "data": {
            "text/plain": [
              "floor_category\n",
              "другой       5872122.0\n",
              "первый       4479848.0\n",
              "последний    5132814.0\n",
              "Name: last_price, dtype: float64"
            ]
          },
          "execution_count": 54,
          "metadata": {},
          "output_type": "execute_result"
        }
      ],
      "source": [
        "data.groupby('floor_category')['last_price'].mean().round()"
      ]
    },
    {
      "cell_type": "code",
      "execution_count": null,
      "metadata": {
        "id": "mudGME82D-cb",
        "outputId": "f621b4e3-a790-42c9-abe5-70552be2e18f"
      },
      "outputs": [
        {
          "data": {
            "text/html": [
              "<div>\n",
              "<style scoped>\n",
              "    .dataframe tbody tr th:only-of-type {\n",
              "        vertical-align: middle;\n",
              "    }\n",
              "\n",
              "    .dataframe tbody tr th {\n",
              "        vertical-align: top;\n",
              "    }\n",
              "\n",
              "    .dataframe thead th {\n",
              "        text-align: right;\n",
              "    }\n",
              "</style>\n",
              "<table border=\"1\" class=\"dataframe\">\n",
              "  <thead>\n",
              "    <tr style=\"text-align: right;\">\n",
              "      <th></th>\n",
              "      <th>last_price</th>\n",
              "    </tr>\n",
              "  </thead>\n",
              "  <tbody>\n",
              "    <tr>\n",
              "      <td>last_price</td>\n",
              "      <td>1.0</td>\n",
              "    </tr>\n",
              "  </tbody>\n",
              "</table>\n",
              "</div>"
            ],
            "text/plain": [
              "            last_price\n",
              "last_price         1.0"
            ]
          },
          "execution_count": 55,
          "metadata": {},
          "output_type": "execute_result"
        }
      ],
      "source": [
        "part_data = data[['last_price', 'floor_category']]\n",
        "part_data.corr()"
      ]
    },
    {
      "cell_type": "markdown",
      "metadata": {
        "id": "ZOA9wf1cD-cc"
      },
      "source": [
        "**Вывод**"
      ]
    },
    {
      "cell_type": "markdown",
      "metadata": {
        "id": "-bCPxjpHD-cc"
      },
      "source": [
        "На первом этаже недвижимость самая дешевая. На последнем дороже, чем на первом, но дешевле, чем на всех остальных."
      ]
    },
    {
      "cell_type": "markdown",
      "metadata": {
        "id": "U07lAcjKD-ce"
      },
      "source": [
        "### Зависимость от даты размещения"
      ]
    },
    {
      "cell_type": "code",
      "execution_count": null,
      "metadata": {
        "id": "FGrW0SzdD-cf",
        "outputId": "f53f2093-c984-4442-f804-27600d0ac135"
      },
      "outputs": [
        {
          "data": {
            "text/html": [
              "<div>\n",
              "<style scoped>\n",
              "    .dataframe tbody tr th:only-of-type {\n",
              "        vertical-align: middle;\n",
              "    }\n",
              "\n",
              "    .dataframe tbody tr th {\n",
              "        vertical-align: top;\n",
              "    }\n",
              "\n",
              "    .dataframe thead th {\n",
              "        text-align: right;\n",
              "    }\n",
              "</style>\n",
              "<table border=\"1\" class=\"dataframe\">\n",
              "  <thead>\n",
              "    <tr style=\"text-align: right;\">\n",
              "      <th></th>\n",
              "      <th>total_images</th>\n",
              "      <th>last_price</th>\n",
              "      <th>total_area</th>\n",
              "      <th>first_day_exposition</th>\n",
              "      <th>rooms</th>\n",
              "      <th>ceiling_height</th>\n",
              "      <th>floors_total</th>\n",
              "      <th>living_area</th>\n",
              "      <th>floor</th>\n",
              "      <th>is_apartment</th>\n",
              "      <th>studio</th>\n",
              "      <th>open_plan</th>\n",
              "      <th>kitchen_area</th>\n",
              "      <th>balcony</th>\n",
              "      <th>locality_name</th>\n",
              "      <th>airports_nearest</th>\n",
              "      <th>cityCenters_nearest</th>\n",
              "      <th>parks_around3000</th>\n",
              "      <th>parks_nearest</th>\n",
              "      <th>ponds_around3000</th>\n",
              "      <th>ponds_nearest</th>\n",
              "      <th>days_exposition</th>\n",
              "      <th>lemma_locality_name</th>\n",
              "      <th>day</th>\n",
              "      <th>month</th>\n",
              "      <th>year</th>\n",
              "      <th>living_area_part</th>\n",
              "      <th>kitchen_area_part</th>\n",
              "      <th>price_sq_metre</th>\n",
              "      <th>floor_category</th>\n",
              "      <th>suburbans</th>\n",
              "    </tr>\n",
              "  </thead>\n",
              "  <tbody>\n",
              "    <tr>\n",
              "      <td>0</td>\n",
              "      <td>20</td>\n",
              "      <td>13000000</td>\n",
              "      <td>108</td>\n",
              "      <td>2019-03-07</td>\n",
              "      <td>3</td>\n",
              "      <td>2.70</td>\n",
              "      <td>16.0</td>\n",
              "      <td>51.0</td>\n",
              "      <td>8</td>\n",
              "      <td>False</td>\n",
              "      <td>False</td>\n",
              "      <td>False</td>\n",
              "      <td>25.0</td>\n",
              "      <td>0.0</td>\n",
              "      <td>санкт-петербург</td>\n",
              "      <td>18863.0</td>\n",
              "      <td>16028.0</td>\n",
              "      <td>1.0</td>\n",
              "      <td>482.0</td>\n",
              "      <td>2.0</td>\n",
              "      <td>755.0</td>\n",
              "      <td>NaN</td>\n",
              "      <td>санкт-петербург \\n</td>\n",
              "      <td>3</td>\n",
              "      <td>3</td>\n",
              "      <td>2019</td>\n",
              "      <td>0.47</td>\n",
              "      <td>0.23</td>\n",
              "      <td>120370</td>\n",
              "      <td>другой</td>\n",
              "      <td>санкт-петербург</td>\n",
              "    </tr>\n",
              "    <tr>\n",
              "      <td>1</td>\n",
              "      <td>7</td>\n",
              "      <td>3350000</td>\n",
              "      <td>40</td>\n",
              "      <td>2018-12-04</td>\n",
              "      <td>1</td>\n",
              "      <td>2.60</td>\n",
              "      <td>11.0</td>\n",
              "      <td>18.6</td>\n",
              "      <td>1</td>\n",
              "      <td>False</td>\n",
              "      <td>False</td>\n",
              "      <td>False</td>\n",
              "      <td>11.0</td>\n",
              "      <td>2.0</td>\n",
              "      <td>посёлок шушары</td>\n",
              "      <td>12817.0</td>\n",
              "      <td>18603.0</td>\n",
              "      <td>0.0</td>\n",
              "      <td>NaN</td>\n",
              "      <td>0.0</td>\n",
              "      <td>NaN</td>\n",
              "      <td>81.0</td>\n",
              "      <td>поселок   шушары \\n</td>\n",
              "      <td>1</td>\n",
              "      <td>12</td>\n",
              "      <td>2018</td>\n",
              "      <td>0.47</td>\n",
              "      <td>0.28</td>\n",
              "      <td>83750</td>\n",
              "      <td>первый</td>\n",
              "      <td>посёлок шушары</td>\n",
              "    </tr>\n",
              "    <tr>\n",
              "      <td>2</td>\n",
              "      <td>10</td>\n",
              "      <td>5196000</td>\n",
              "      <td>56</td>\n",
              "      <td>2015-08-20</td>\n",
              "      <td>2</td>\n",
              "      <td>2.60</td>\n",
              "      <td>5.0</td>\n",
              "      <td>34.3</td>\n",
              "      <td>4</td>\n",
              "      <td>False</td>\n",
              "      <td>False</td>\n",
              "      <td>False</td>\n",
              "      <td>8.3</td>\n",
              "      <td>0.0</td>\n",
              "      <td>санкт-петербург</td>\n",
              "      <td>21741.0</td>\n",
              "      <td>13933.0</td>\n",
              "      <td>1.0</td>\n",
              "      <td>90.0</td>\n",
              "      <td>2.0</td>\n",
              "      <td>574.0</td>\n",
              "      <td>558.0</td>\n",
              "      <td>санкт-петербург \\n</td>\n",
              "      <td>3</td>\n",
              "      <td>8</td>\n",
              "      <td>2015</td>\n",
              "      <td>0.61</td>\n",
              "      <td>0.15</td>\n",
              "      <td>92785</td>\n",
              "      <td>другой</td>\n",
              "      <td>санкт-петербург</td>\n",
              "    </tr>\n",
              "    <tr>\n",
              "      <td>4</td>\n",
              "      <td>2</td>\n",
              "      <td>10000000</td>\n",
              "      <td>100</td>\n",
              "      <td>2018-06-19</td>\n",
              "      <td>2</td>\n",
              "      <td>3.03</td>\n",
              "      <td>14.0</td>\n",
              "      <td>32.0</td>\n",
              "      <td>13</td>\n",
              "      <td>False</td>\n",
              "      <td>False</td>\n",
              "      <td>False</td>\n",
              "      <td>41.0</td>\n",
              "      <td>0.0</td>\n",
              "      <td>санкт-петербург</td>\n",
              "      <td>31856.0</td>\n",
              "      <td>8098.0</td>\n",
              "      <td>2.0</td>\n",
              "      <td>112.0</td>\n",
              "      <td>1.0</td>\n",
              "      <td>48.0</td>\n",
              "      <td>121.0</td>\n",
              "      <td>санкт-петербург \\n</td>\n",
              "      <td>1</td>\n",
              "      <td>6</td>\n",
              "      <td>2018</td>\n",
              "      <td>0.32</td>\n",
              "      <td>0.41</td>\n",
              "      <td>100000</td>\n",
              "      <td>другой</td>\n",
              "      <td>санкт-петербург</td>\n",
              "    </tr>\n",
              "    <tr>\n",
              "      <td>5</td>\n",
              "      <td>10</td>\n",
              "      <td>2890000</td>\n",
              "      <td>30</td>\n",
              "      <td>2018-09-10</td>\n",
              "      <td>1</td>\n",
              "      <td>2.60</td>\n",
              "      <td>12.0</td>\n",
              "      <td>14.4</td>\n",
              "      <td>5</td>\n",
              "      <td>False</td>\n",
              "      <td>False</td>\n",
              "      <td>False</td>\n",
              "      <td>9.1</td>\n",
              "      <td>0.0</td>\n",
              "      <td>городской посёлок янино-1</td>\n",
              "      <td>NaN</td>\n",
              "      <td>NaN</td>\n",
              "      <td>NaN</td>\n",
              "      <td>NaN</td>\n",
              "      <td>NaN</td>\n",
              "      <td>NaN</td>\n",
              "      <td>55.0</td>\n",
              "      <td>городской   поселок   янино - 1 \\n</td>\n",
              "      <td>0</td>\n",
              "      <td>9</td>\n",
              "      <td>2018</td>\n",
              "      <td>0.48</td>\n",
              "      <td>0.30</td>\n",
              "      <td>96333</td>\n",
              "      <td>другой</td>\n",
              "      <td>остальные</td>\n",
              "    </tr>\n",
              "  </tbody>\n",
              "</table>\n",
              "</div>"
            ],
            "text/plain": [
              "   total_images  last_price  total_area first_day_exposition  rooms  \\\n",
              "0            20    13000000         108           2019-03-07      3   \n",
              "1             7     3350000          40           2018-12-04      1   \n",
              "2            10     5196000          56           2015-08-20      2   \n",
              "4             2    10000000         100           2018-06-19      2   \n",
              "5            10     2890000          30           2018-09-10      1   \n",
              "\n",
              "   ceiling_height  floors_total  living_area  floor  is_apartment  studio  \\\n",
              "0            2.70          16.0         51.0      8         False   False   \n",
              "1            2.60          11.0         18.6      1         False   False   \n",
              "2            2.60           5.0         34.3      4         False   False   \n",
              "4            3.03          14.0         32.0     13         False   False   \n",
              "5            2.60          12.0         14.4      5         False   False   \n",
              "\n",
              "   open_plan  kitchen_area  balcony              locality_name  \\\n",
              "0      False          25.0      0.0            санкт-петербург   \n",
              "1      False          11.0      2.0             посёлок шушары   \n",
              "2      False           8.3      0.0            санкт-петербург   \n",
              "4      False          41.0      0.0            санкт-петербург   \n",
              "5      False           9.1      0.0  городской посёлок янино-1   \n",
              "\n",
              "   airports_nearest  cityCenters_nearest  parks_around3000  parks_nearest  \\\n",
              "0           18863.0              16028.0               1.0          482.0   \n",
              "1           12817.0              18603.0               0.0            NaN   \n",
              "2           21741.0              13933.0               1.0           90.0   \n",
              "4           31856.0               8098.0               2.0          112.0   \n",
              "5               NaN                  NaN               NaN            NaN   \n",
              "\n",
              "   ponds_around3000  ponds_nearest  days_exposition  \\\n",
              "0               2.0          755.0              NaN   \n",
              "1               0.0            NaN             81.0   \n",
              "2               2.0          574.0            558.0   \n",
              "4               1.0           48.0            121.0   \n",
              "5               NaN            NaN             55.0   \n",
              "\n",
              "                  lemma_locality_name  day  month  year  living_area_part  \\\n",
              "0                  санкт-петербург \\n    3      3  2019              0.47   \n",
              "1                 поселок   шушары \\n    1     12  2018              0.47   \n",
              "2                  санкт-петербург \\n    3      8  2015              0.61   \n",
              "4                  санкт-петербург \\n    1      6  2018              0.32   \n",
              "5  городской   поселок   янино - 1 \\n    0      9  2018              0.48   \n",
              "\n",
              "   kitchen_area_part  price_sq_metre floor_category        suburbans  \n",
              "0               0.23          120370         другой  санкт-петербург  \n",
              "1               0.28           83750         первый   посёлок шушары  \n",
              "2               0.15           92785         другой  санкт-петербург  \n",
              "4               0.41          100000         другой  санкт-петербург  \n",
              "5               0.30           96333         другой        остальные  "
            ]
          },
          "execution_count": 56,
          "metadata": {},
          "output_type": "execute_result"
        }
      ],
      "source": [
        "data.head()"
      ]
    },
    {
      "cell_type": "code",
      "execution_count": null,
      "metadata": {
        "id": "yw7DgcjzD-cg",
        "outputId": "d45862a1-2165-4f46-b43e-a8a1e0eb17d7"
      },
      "outputs": [
        {
          "name": "stderr",
          "output_type": "stream",
          "text": [
            "/opt/conda/lib/python3.7/site-packages/numpy/core/_asarray.py:83: VisibleDeprecationWarning: Creating an ndarray from ragged nested sequences (which is a list-or-tuple of lists-or-tuples-or ndarrays with different lengths or shapes) is deprecated. If you meant to do this, you must specify 'dtype=object' when creating the ndarray\n",
            "  return array(a, dtype, copy=False, order=order)\n",
            "/opt/conda/lib/python3.7/site-packages/numpy/core/_asarray.py:83: VisibleDeprecationWarning: Creating an ndarray from ragged nested sequences (which is a list-or-tuple of lists-or-tuples-or ndarrays with different lengths or shapes) is deprecated. If you meant to do this, you must specify 'dtype=object' when creating the ndarray\n",
            "  return array(a, dtype, copy=False, order=order)\n",
            "/opt/conda/lib/python3.7/site-packages/numpy/core/_asarray.py:83: VisibleDeprecationWarning: Creating an ndarray from ragged nested sequences (which is a list-or-tuple of lists-or-tuples-or ndarrays with different lengths or shapes) is deprecated. If you meant to do this, you must specify 'dtype=object' when creating the ndarray\n",
            "  return array(a, dtype, copy=False, order=order)\n"
          ]
        },
        {
          "data": {
            "image/png": "[encoded data removed]",
            "text/plain": [
              "<Figure size 576x360 with 1 Axes>"
            ]
          },
          "metadata": {
            "needs_background": "light"
          },
          "output_type": "display_data"
        },
        {
          "data": {
            "image/png": "[encoded data removed]",
            "text/plain": [
              "<Figure size 576x360 with 1 Axes>"
            ]
          },
          "metadata": {
            "needs_background": "light"
          },
          "output_type": "display_data"
        },
        {
          "data": {
            "image/png": "[encoded data removed]",
            "text/plain": [
              "<Figure size 576x360 with 1 Axes>"
            ]
          },
          "metadata": {
            "needs_background": "light"
          },
          "output_type": "display_data"
        }
      ],
      "source": [
        "date_columns = ['year', 'month', 'day']\n",
        "\n",
        "\n",
        "for element in date_columns:\n",
        "    \n",
        "    data.boxplot(by=element, column=['price_sq_metre'],\n",
        "              grid=False, figsize=(8, 5), rot=45)\n",
        "    plt.ylim(0, 150000)"
      ]
    },
    {
      "cell_type": "markdown",
      "metadata": {
        "id": "Y3HySk7BD-ci"
      },
      "source": [
        "**Вывод**"
      ]
    },
    {
      "cell_type": "markdown",
      "metadata": {
        "id": "z6wZPwsqD-cj"
      },
      "source": [
        "Зависимость стоимости квадратного метра от дня недели и месяца практически не прослеживается. Но с каждым годом, начиная с 2017, мы видим увеличение цены за квадратный метр. Зависимость от дня, месяца, года можно считать не существенной"
      ]
    },
    {
      "cell_type": "markdown",
      "metadata": {
        "id": "hc1TycbwD-cl"
      },
      "source": [
        "### Квартиры в центре Санкт-Петербурга"
      ]
    },
    {
      "cell_type": "code",
      "execution_count": null,
      "metadata": {
        "id": "5rOz08BcD-cm"
      },
      "outputs": [],
      "source": [
        "data['km_to_city_centre'] = (data['cityCenters_nearest'] / 1000).round()"
      ]
    },
    {
      "cell_type": "code",
      "execution_count": null,
      "metadata": {
        "id": "oU8zKbEbD-cn",
        "outputId": "d73f1d29-cdc0-403e-e71e-4191bd695936"
      },
      "outputs": [
        {
          "data": {
            "image/png": "[encoded data removed]",
            "text/plain": [
              "<Figure size 864x648 with 1 Axes>"
            ]
          },
          "metadata": {
            "needs_background": "light"
          },
          "output_type": "display_data"
        }
      ],
      "source": [
        "plt.figure(figsize=(12,9))\n",
        "data.groupby('km_to_city_centre')['last_price'].mean().plot()\n",
        "\n",
        "plt.title('Стоимость квартиры в зависимости от расстояния до центра')\n",
        "plt.ylabel('Стоимость')\n",
        "plt.xlabel('Расстояние')\n",
        "plt.show()"
      ]
    },
    {
      "cell_type": "markdown",
      "metadata": {
        "id": "qRgMIbPaD-cp"
      },
      "source": [
        "Судя по графику, можно предположить, что центр находится в пределах 6-7 км."
      ]
    },
    {
      "cell_type": "code",
      "execution_count": null,
      "metadata": {
        "id": "z2CYT5r8D-cs",
        "outputId": "37473005-06ec-406f-8ed0-9cc37b75d727"
      },
      "outputs": [
        {
          "name": "stdout",
          "output_type": "stream",
          "text": [
            "<class 'pandas.core.frame.DataFrame'>\n",
            "Int64Index: 22520 entries, 0 to 23564\n",
            "Data columns (total 32 columns):\n",
            "total_images            22520 non-null int64\n",
            "last_price              22520 non-null int64\n",
            "total_area              22520 non-null int64\n",
            "first_day_exposition    22520 non-null datetime64[ns]\n",
            "rooms                   22520 non-null int64\n",
            "ceiling_height          22520 non-null float64\n",
            "floors_total            22520 non-null float64\n",
            "living_area             20740 non-null float64\n",
            "floor                   22520 non-null int64\n",
            "is_apartment            22520 non-null bool\n",
            "studio                  22520 non-null bool\n",
            "open_plan               22520 non-null bool\n",
            "kitchen_area            21152 non-null float64\n",
            "balcony                 22520 non-null float64\n",
            "locality_name           22520 non-null object\n",
            "airports_nearest        17109 non-null float64\n",
            "cityCenters_nearest     17128 non-null float64\n",
            "parks_around3000        17129 non-null float64\n",
            "parks_nearest           7456 non-null float64\n",
            "ponds_around3000        17129 non-null float64\n",
            "ponds_nearest           8401 non-null float64\n",
            "days_exposition         19587 non-null float64\n",
            "lemma_locality_name     22520 non-null object\n",
            "day                     22520 non-null int64\n",
            "month                   22520 non-null int64\n",
            "year                    22520 non-null int64\n",
            "living_area_part        20740 non-null float64\n",
            "kitchen_area_part       21152 non-null float64\n",
            "price_sq_metre          22520 non-null int64\n",
            "floor_category          22520 non-null object\n",
            "suburbans               22520 non-null object\n",
            "km_to_city_centre       17128 non-null float64\n",
            "dtypes: bool(3), datetime64[ns](1), float64(15), int64(9), object(4)\n",
            "memory usage: 5.2+ MB\n"
          ]
        }
      ],
      "source": [
        "data.info()"
      ]
    },
    {
      "cell_type": "code",
      "execution_count": null,
      "metadata": {
        "id": "C8ckgow0D-ct"
      },
      "outputs": [],
      "source": [
        "city_center_data = data.dropna(subset=['km_to_city_centre'])"
      ]
    },
    {
      "cell_type": "code",
      "execution_count": null,
      "metadata": {
        "id": "CI4QQ4yxD-cv",
        "outputId": "5f105847-6bcf-43ad-d6c6-6dc21c073791"
      },
      "outputs": [
        {
          "name": "stdout",
          "output_type": "stream",
          "text": [
            "<class 'pandas.core.frame.DataFrame'>\n",
            "Int64Index: 17128 entries, 0 to 23563\n",
            "Data columns (total 32 columns):\n",
            "total_images            17128 non-null int64\n",
            "last_price              17128 non-null int64\n",
            "total_area              17128 non-null int64\n",
            "first_day_exposition    17128 non-null datetime64[ns]\n",
            "rooms                   17128 non-null int64\n",
            "ceiling_height          17128 non-null float64\n",
            "floors_total            17128 non-null float64\n",
            "living_area             15955 non-null float64\n",
            "floor                   17128 non-null int64\n",
            "is_apartment            17128 non-null bool\n",
            "studio                  17128 non-null bool\n",
            "open_plan               17128 non-null bool\n",
            "kitchen_area            16218 non-null float64\n",
            "balcony                 17128 non-null float64\n",
            "locality_name           17128 non-null object\n",
            "airports_nearest        17108 non-null float64\n",
            "cityCenters_nearest     17128 non-null float64\n",
            "parks_around3000        17128 non-null float64\n",
            "parks_nearest           7455 non-null float64\n",
            "ponds_around3000        17128 non-null float64\n",
            "ponds_nearest           8401 non-null float64\n",
            "days_exposition         15039 non-null float64\n",
            "lemma_locality_name     17128 non-null object\n",
            "day                     17128 non-null int64\n",
            "month                   17128 non-null int64\n",
            "year                    17128 non-null int64\n",
            "living_area_part        15955 non-null float64\n",
            "kitchen_area_part       16218 non-null float64\n",
            "price_sq_metre          17128 non-null int64\n",
            "floor_category          17128 non-null object\n",
            "suburbans               17128 non-null object\n",
            "km_to_city_centre       17128 non-null float64\n",
            "dtypes: bool(3), datetime64[ns](1), float64(15), int64(9), object(4)\n",
            "memory usage: 4.0+ MB\n"
          ]
        }
      ],
      "source": [
        "city_center_data.info()"
      ]
    },
    {
      "cell_type": "code",
      "execution_count": null,
      "metadata": {
        "id": "OHkpJC97D-cw",
        "outputId": "c8b3e0a8-ca1f-4a4d-e0d4-706f413e0faa"
      },
      "outputs": [
        {
          "name": "stdout",
          "output_type": "stream",
          "text": [
            "Количество объектов в выборке: 360\n",
            "\n",
            "                ceiling_height  price_sq_metre  rooms  total_area\n",
            "price_sq_metre            0.25            1.00  -0.25       -0.07\n",
            "ceiling_height            1.00            0.25  -0.10        0.20\n",
            "total_area                0.20           -0.07   0.77        1.00\n",
            "rooms                    -0.10           -0.25   1.00        0.77\n"
          ]
        }
      ],
      "source": [
        "data = data.pivot_table(index='locality_name', \n",
        "            values=['price_sq_metre', 'total_area', 'rooms','ceiling_height'], aggfunc='mean')\n",
        "\n",
        "print('Количество объектов в выборке:', data.shape[0])\n",
        "print()\n",
        "print(data.corr().round(decimals=2).sort_values(by='price_sq_metre', ascending=False))"
      ]
    },
    {
      "cell_type": "code",
      "execution_count": null,
      "metadata": {
        "id": "oEegguSVD-cw"
      },
      "outputs": [],
      "source": [
        "city_center_in_7_km = city_center_data.query('km_to_city_centre < 7')"
      ]
    },
    {
      "cell_type": "code",
      "execution_count": null,
      "metadata": {
        "id": "xXqYQBVSD-c6",
        "outputId": "8a1ce80a-5d76-4713-c5c0-d122b3ccea6e"
      },
      "outputs": [
        {
          "data": {
            "text/html": [
              "<style  type=\"text/css\" >\n",
              "    #T_450ac918_73c2_11ec_8f66_02420a390175row0_col1 {\n",
              "            background-color:  #b40426;\n",
              "            color:  #f1f1f1;\n",
              "        }    #T_450ac918_73c2_11ec_8f66_02420a390175row1_col1 {\n",
              "            background-color:  #ef886b;\n",
              "            color:  #000000;\n",
              "        }    #T_450ac918_73c2_11ec_8f66_02420a390175row2_col1 {\n",
              "            background-color:  #f1ccb8;\n",
              "            color:  #000000;\n",
              "        }    #T_450ac918_73c2_11ec_8f66_02420a390175row3_col1 {\n",
              "            background-color:  #d7dce3;\n",
              "            color:  #000000;\n",
              "        }    #T_450ac918_73c2_11ec_8f66_02420a390175row4_col1 {\n",
              "            background-color:  #d3dbe7;\n",
              "            color:  #000000;\n",
              "        }    #T_450ac918_73c2_11ec_8f66_02420a390175row5_col1 {\n",
              "            background-color:  #a1c0ff;\n",
              "            color:  #000000;\n",
              "        }    #T_450ac918_73c2_11ec_8f66_02420a390175row6_col1 {\n",
              "            background-color:  #84a7fc;\n",
              "            color:  #000000;\n",
              "        }    #T_450ac918_73c2_11ec_8f66_02420a390175row7_col1 {\n",
              "            background-color:  #7a9df8;\n",
              "            color:  #000000;\n",
              "        }    #T_450ac918_73c2_11ec_8f66_02420a390175row8_col1 {\n",
              "            background-color:  #7295f4;\n",
              "            color:  #000000;\n",
              "        }    #T_450ac918_73c2_11ec_8f66_02420a390175row9_col1 {\n",
              "            background-color:  #7295f4;\n",
              "            color:  #000000;\n",
              "        }    #T_450ac918_73c2_11ec_8f66_02420a390175row10_col1 {\n",
              "            background-color:  #6f92f3;\n",
              "            color:  #000000;\n",
              "        }    #T_450ac918_73c2_11ec_8f66_02420a390175row11_col1 {\n",
              "            background-color:  #6f92f3;\n",
              "            color:  #000000;\n",
              "        }    #T_450ac918_73c2_11ec_8f66_02420a390175row12_col1 {\n",
              "            background-color:  #6e90f2;\n",
              "            color:  #000000;\n",
              "        }    #T_450ac918_73c2_11ec_8f66_02420a390175row13_col1 {\n",
              "            background-color:  #6a8bef;\n",
              "            color:  #000000;\n",
              "        }    #T_450ac918_73c2_11ec_8f66_02420a390175row14_col1 {\n",
              "            background-color:  #688aef;\n",
              "            color:  #000000;\n",
              "        }    #T_450ac918_73c2_11ec_8f66_02420a390175row15_col1 {\n",
              "            background-color:  #6384eb;\n",
              "            color:  #000000;\n",
              "        }    #T_450ac918_73c2_11ec_8f66_02420a390175row16_col1 {\n",
              "            background-color:  #506bda;\n",
              "            color:  #000000;\n",
              "        }    #T_450ac918_73c2_11ec_8f66_02420a390175row17_col1 {\n",
              "            background-color:  #4f69d9;\n",
              "            color:  #000000;\n",
              "        }    #T_450ac918_73c2_11ec_8f66_02420a390175row18_col1 {\n",
              "            background-color:  #4c66d6;\n",
              "            color:  #000000;\n",
              "        }    #T_450ac918_73c2_11ec_8f66_02420a390175row19_col1 {\n",
              "            background-color:  #4a63d3;\n",
              "            color:  #f1f1f1;\n",
              "        }    #T_450ac918_73c2_11ec_8f66_02420a390175row20_col1 {\n",
              "            background-color:  #4a63d3;\n",
              "            color:  #f1f1f1;\n",
              "        }    #T_450ac918_73c2_11ec_8f66_02420a390175row21_col1 {\n",
              "            background-color:  #465ecf;\n",
              "            color:  #f1f1f1;\n",
              "        }    #T_450ac918_73c2_11ec_8f66_02420a390175row22_col1 {\n",
              "            background-color:  #455cce;\n",
              "            color:  #f1f1f1;\n",
              "        }    #T_450ac918_73c2_11ec_8f66_02420a390175row23_col1 {\n",
              "            background-color:  #4358cb;\n",
              "            color:  #f1f1f1;\n",
              "        }    #T_450ac918_73c2_11ec_8f66_02420a390175row24_col1 {\n",
              "            background-color:  #4358cb;\n",
              "            color:  #f1f1f1;\n",
              "        }    #T_450ac918_73c2_11ec_8f66_02420a390175row25_col1 {\n",
              "            background-color:  #3b4cc0;\n",
              "            color:  #f1f1f1;\n",
              "        }    #T_450ac918_73c2_11ec_8f66_02420a390175row26_col1 {\n",
              "            background-color:  #3b4cc0;\n",
              "            color:  #f1f1f1;\n",
              "        }</style><table id=\"T_450ac918_73c2_11ec_8f66_02420a390175\" ><thead>    <tr>        <th class=\"blank level0\" ></th>        <th class=\"col_heading level0 col0\" >index</th>        <th class=\"col_heading level0 col1\" >last_price</th>    </tr></thead><tbody>\n",
              "                <tr>\n",
              "                        <th id=\"T_450ac918_73c2_11ec_8f66_02420a390175level0_row0\" class=\"row_heading level0 row0\" >0</th>\n",
              "                        <td id=\"T_450ac918_73c2_11ec_8f66_02420a390175row0_col0\" class=\"data row0 col0\" >last_price</td>\n",
              "                        <td id=\"T_450ac918_73c2_11ec_8f66_02420a390175row0_col1\" class=\"data row0 col1\" >1</td>\n",
              "            </tr>\n",
              "            <tr>\n",
              "                        <th id=\"T_450ac918_73c2_11ec_8f66_02420a390175level0_row1\" class=\"row_heading level0 row1\" >1</th>\n",
              "                        <td id=\"T_450ac918_73c2_11ec_8f66_02420a390175row1_col0\" class=\"data row1 col0\" >price_sq_metre</td>\n",
              "                        <td id=\"T_450ac918_73c2_11ec_8f66_02420a390175row1_col1\" class=\"data row1 col1\" >0.776528</td>\n",
              "            </tr>\n",
              "            <tr>\n",
              "                        <th id=\"T_450ac918_73c2_11ec_8f66_02420a390175level0_row2\" class=\"row_heading level0 row2\" >2</th>\n",
              "                        <td id=\"T_450ac918_73c2_11ec_8f66_02420a390175row2_col0\" class=\"data row2 col0\" >total_area</td>\n",
              "                        <td id=\"T_450ac918_73c2_11ec_8f66_02420a390175row2_col1\" class=\"data row2 col1\" >0.566893</td>\n",
              "            </tr>\n",
              "            <tr>\n",
              "                        <th id=\"T_450ac918_73c2_11ec_8f66_02420a390175level0_row3\" class=\"row_heading level0 row3\" >3</th>\n",
              "                        <td id=\"T_450ac918_73c2_11ec_8f66_02420a390175row3_col0\" class=\"data row3 col0\" >living_area</td>\n",
              "                        <td id=\"T_450ac918_73c2_11ec_8f66_02420a390175row3_col1\" class=\"data row3 col1\" >0.437631</td>\n",
              "            </tr>\n",
              "            <tr>\n",
              "                        <th id=\"T_450ac918_73c2_11ec_8f66_02420a390175level0_row4\" class=\"row_heading level0 row4\" >4</th>\n",
              "                        <td id=\"T_450ac918_73c2_11ec_8f66_02420a390175row4_col0\" class=\"data row4 col0\" >kitchen_area</td>\n",
              "                        <td id=\"T_450ac918_73c2_11ec_8f66_02420a390175row4_col1\" class=\"data row4 col1\" >0.424246</td>\n",
              "            </tr>\n",
              "            <tr>\n",
              "                        <th id=\"T_450ac918_73c2_11ec_8f66_02420a390175level0_row5\" class=\"row_heading level0 row5\" >5</th>\n",
              "                        <td id=\"T_450ac918_73c2_11ec_8f66_02420a390175row5_col0\" class=\"data row5 col0\" >rooms</td>\n",
              "                        <td id=\"T_450ac918_73c2_11ec_8f66_02420a390175row5_col1\" class=\"data row5 col1\" >0.2559</td>\n",
              "            </tr>\n",
              "            <tr>\n",
              "                        <th id=\"T_450ac918_73c2_11ec_8f66_02420a390175level0_row6\" class=\"row_heading level0 row6\" >6</th>\n",
              "                        <td id=\"T_450ac918_73c2_11ec_8f66_02420a390175row6_col0\" class=\"data row6 col0\" >total_images</td>\n",
              "                        <td id=\"T_450ac918_73c2_11ec_8f66_02420a390175row6_col1\" class=\"data row6 col1\" >0.166516</td>\n",
              "            </tr>\n",
              "            <tr>\n",
              "                        <th id=\"T_450ac918_73c2_11ec_8f66_02420a390175level0_row7\" class=\"row_heading level0 row7\" >7</th>\n",
              "                        <td id=\"T_450ac918_73c2_11ec_8f66_02420a390175row7_col0\" class=\"data row7 col0\" >parks_around3000</td>\n",
              "                        <td id=\"T_450ac918_73c2_11ec_8f66_02420a390175row7_col1\" class=\"data row7 col1\" >0.136468</td>\n",
              "            </tr>\n",
              "            <tr>\n",
              "                        <th id=\"T_450ac918_73c2_11ec_8f66_02420a390175level0_row8\" class=\"row_heading level0 row8\" >8</th>\n",
              "                        <td id=\"T_450ac918_73c2_11ec_8f66_02420a390175row8_col0\" class=\"data row8 col0\" >balcony</td>\n",
              "                        <td id=\"T_450ac918_73c2_11ec_8f66_02420a390175row8_col1\" class=\"data row8 col1\" >0.111385</td>\n",
              "            </tr>\n",
              "            <tr>\n",
              "                        <th id=\"T_450ac918_73c2_11ec_8f66_02420a390175level0_row9\" class=\"row_heading level0 row9\" >9</th>\n",
              "                        <td id=\"T_450ac918_73c2_11ec_8f66_02420a390175row9_col0\" class=\"data row9 col0\" >floor</td>\n",
              "                        <td id=\"T_450ac918_73c2_11ec_8f66_02420a390175row9_col1\" class=\"data row9 col1\" >0.110293</td>\n",
              "            </tr>\n",
              "            <tr>\n",
              "                        <th id=\"T_450ac918_73c2_11ec_8f66_02420a390175level0_row10\" class=\"row_heading level0 row10\" >10</th>\n",
              "                        <td id=\"T_450ac918_73c2_11ec_8f66_02420a390175row10_col0\" class=\"data row10 col0\" >airports_nearest</td>\n",
              "                        <td id=\"T_450ac918_73c2_11ec_8f66_02420a390175row10_col1\" class=\"data row10 col1\" >0.105477</td>\n",
              "            </tr>\n",
              "            <tr>\n",
              "                        <th id=\"T_450ac918_73c2_11ec_8f66_02420a390175level0_row11\" class=\"row_heading level0 row11\" >11</th>\n",
              "                        <td id=\"T_450ac918_73c2_11ec_8f66_02420a390175row11_col0\" class=\"data row11 col0\" >ceiling_height</td>\n",
              "                        <td id=\"T_450ac918_73c2_11ec_8f66_02420a390175row11_col1\" class=\"data row11 col1\" >0.102596</td>\n",
              "            </tr>\n",
              "            <tr>\n",
              "                        <th id=\"T_450ac918_73c2_11ec_8f66_02420a390175level0_row12\" class=\"row_heading level0 row12\" >12</th>\n",
              "                        <td id=\"T_450ac918_73c2_11ec_8f66_02420a390175row12_col0\" class=\"data row12 col0\" >is_apartment</td>\n",
              "                        <td id=\"T_450ac918_73c2_11ec_8f66_02420a390175row12_col1\" class=\"data row12 col1\" >0.100743</td>\n",
              "            </tr>\n",
              "            <tr>\n",
              "                        <th id=\"T_450ac918_73c2_11ec_8f66_02420a390175level0_row13\" class=\"row_heading level0 row13\" >13</th>\n",
              "                        <td id=\"T_450ac918_73c2_11ec_8f66_02420a390175row13_col0\" class=\"data row13 col0\" >floors_total</td>\n",
              "                        <td id=\"T_450ac918_73c2_11ec_8f66_02420a390175row13_col1\" class=\"data row13 col1\" >0.088545</td>\n",
              "            </tr>\n",
              "            <tr>\n",
              "                        <th id=\"T_450ac918_73c2_11ec_8f66_02420a390175level0_row14\" class=\"row_heading level0 row14\" >14</th>\n",
              "                        <td id=\"T_450ac918_73c2_11ec_8f66_02420a390175row14_col0\" class=\"data row14 col0\" >days_exposition</td>\n",
              "                        <td id=\"T_450ac918_73c2_11ec_8f66_02420a390175row14_col1\" class=\"data row14 col1\" >0.0828927</td>\n",
              "            </tr>\n",
              "            <tr>\n",
              "                        <th id=\"T_450ac918_73c2_11ec_8f66_02420a390175level0_row15\" class=\"row_heading level0 row15\" >15</th>\n",
              "                        <td id=\"T_450ac918_73c2_11ec_8f66_02420a390175row15_col0\" class=\"data row15 col0\" >ponds_around3000</td>\n",
              "                        <td id=\"T_450ac918_73c2_11ec_8f66_02420a390175row15_col1\" class=\"data row15 col1\" >0.0676539</td>\n",
              "            </tr>\n",
              "            <tr>\n",
              "                        <th id=\"T_450ac918_73c2_11ec_8f66_02420a390175level0_row16\" class=\"row_heading level0 row16\" >16</th>\n",
              "                        <td id=\"T_450ac918_73c2_11ec_8f66_02420a390175row16_col0\" class=\"data row16 col0\" >year</td>\n",
              "                        <td id=\"T_450ac918_73c2_11ec_8f66_02420a390175row16_col1\" class=\"data row16 col1\" >0.00300057</td>\n",
              "            </tr>\n",
              "            <tr>\n",
              "                        <th id=\"T_450ac918_73c2_11ec_8f66_02420a390175level0_row17\" class=\"row_heading level0 row17\" >17</th>\n",
              "                        <td id=\"T_450ac918_73c2_11ec_8f66_02420a390175row17_col0\" class=\"data row17 col0\" >month</td>\n",
              "                        <td id=\"T_450ac918_73c2_11ec_8f66_02420a390175row17_col1\" class=\"data row17 col1\" >-0.00346122</td>\n",
              "            </tr>\n",
              "            <tr>\n",
              "                        <th id=\"T_450ac918_73c2_11ec_8f66_02420a390175level0_row18\" class=\"row_heading level0 row18\" >18</th>\n",
              "                        <td id=\"T_450ac918_73c2_11ec_8f66_02420a390175row18_col0\" class=\"data row18 col0\" >parks_nearest</td>\n",
              "                        <td id=\"T_450ac918_73c2_11ec_8f66_02420a390175row18_col1\" class=\"data row18 col1\" >-0.00793943</td>\n",
              "            </tr>\n",
              "            <tr>\n",
              "                        <th id=\"T_450ac918_73c2_11ec_8f66_02420a390175level0_row19\" class=\"row_heading level0 row19\" >19</th>\n",
              "                        <td id=\"T_450ac918_73c2_11ec_8f66_02420a390175row19_col0\" class=\"data row19 col0\" >day</td>\n",
              "                        <td id=\"T_450ac918_73c2_11ec_8f66_02420a390175row19_col1\" class=\"data row19 col1\" >-0.017574</td>\n",
              "            </tr>\n",
              "            <tr>\n",
              "                        <th id=\"T_450ac918_73c2_11ec_8f66_02420a390175level0_row20\" class=\"row_heading level0 row20\" >20</th>\n",
              "                        <td id=\"T_450ac918_73c2_11ec_8f66_02420a390175row20_col0\" class=\"data row20 col0\" >kitchen_area_part</td>\n",
              "                        <td id=\"T_450ac918_73c2_11ec_8f66_02420a390175row20_col1\" class=\"data row20 col1\" >-0.0185615</td>\n",
              "            </tr>\n",
              "            <tr>\n",
              "                        <th id=\"T_450ac918_73c2_11ec_8f66_02420a390175level0_row21\" class=\"row_heading level0 row21\" >21</th>\n",
              "                        <td id=\"T_450ac918_73c2_11ec_8f66_02420a390175row21_col0\" class=\"data row21 col0\" >open_plan</td>\n",
              "                        <td id=\"T_450ac918_73c2_11ec_8f66_02420a390175row21_col1\" class=\"data row21 col1\" >-0.0301049</td>\n",
              "            </tr>\n",
              "            <tr>\n",
              "                        <th id=\"T_450ac918_73c2_11ec_8f66_02420a390175level0_row22\" class=\"row_heading level0 row22\" >22</th>\n",
              "                        <td id=\"T_450ac918_73c2_11ec_8f66_02420a390175row22_col0\" class=\"data row22 col0\" >living_area_part</td>\n",
              "                        <td id=\"T_450ac918_73c2_11ec_8f66_02420a390175row22_col1\" class=\"data row22 col1\" >-0.0363855</td>\n",
              "            </tr>\n",
              "            <tr>\n",
              "                        <th id=\"T_450ac918_73c2_11ec_8f66_02420a390175level0_row23\" class=\"row_heading level0 row23\" >23</th>\n",
              "                        <td id=\"T_450ac918_73c2_11ec_8f66_02420a390175row23_col0\" class=\"data row23 col0\" >studio</td>\n",
              "                        <td id=\"T_450ac918_73c2_11ec_8f66_02420a390175row23_col1\" class=\"data row23 col1\" >-0.0433793</td>\n",
              "            </tr>\n",
              "            <tr>\n",
              "                        <th id=\"T_450ac918_73c2_11ec_8f66_02420a390175level0_row24\" class=\"row_heading level0 row24\" >24</th>\n",
              "                        <td id=\"T_450ac918_73c2_11ec_8f66_02420a390175row24_col0\" class=\"data row24 col0\" >ponds_nearest</td>\n",
              "                        <td id=\"T_450ac918_73c2_11ec_8f66_02420a390175row24_col1\" class=\"data row24 col1\" >-0.0434771</td>\n",
              "            </tr>\n",
              "            <tr>\n",
              "                        <th id=\"T_450ac918_73c2_11ec_8f66_02420a390175level0_row25\" class=\"row_heading level0 row25\" >25</th>\n",
              "                        <td id=\"T_450ac918_73c2_11ec_8f66_02420a390175row25_col0\" class=\"data row25 col0\" >cityCenters_nearest</td>\n",
              "                        <td id=\"T_450ac918_73c2_11ec_8f66_02420a390175row25_col1\" class=\"data row25 col1\" >-0.0720318</td>\n",
              "            </tr>\n",
              "            <tr>\n",
              "                        <th id=\"T_450ac918_73c2_11ec_8f66_02420a390175level0_row26\" class=\"row_heading level0 row26\" >26</th>\n",
              "                        <td id=\"T_450ac918_73c2_11ec_8f66_02420a390175row26_col0\" class=\"data row26 col0\" >km_to_city_centre</td>\n",
              "                        <td id=\"T_450ac918_73c2_11ec_8f66_02420a390175row26_col1\" class=\"data row26 col1\" >-0.0750306</td>\n",
              "            </tr>\n",
              "    </tbody></table>"
            ],
            "text/plain": [
              "<pandas.io.formats.style.Styler at 0x7f51b3c8c850>"
            ]
          },
          "execution_count": 65,
          "metadata": {},
          "output_type": "execute_result"
        }
      ],
      "source": [
        "cor_in_center = city_center_in_7_km.corr().sort_values('last_price', ascending=False).filter(items = ['last_price']).reset_index()\n",
        "cor_in_center.style.background_gradient('coolwarm')"
      ]
    },
    {
      "cell_type": "code",
      "execution_count": null,
      "metadata": {
        "id": "wEv17TFdD-c6"
      },
      "outputs": [],
      "source": [
        "city_center_out_7_km = city_center_data.query('km_to_city_centre > 7')"
      ]
    },
    {
      "cell_type": "code",
      "execution_count": null,
      "metadata": {
        "id": "Vg-rA_djD-c7",
        "outputId": "cb701549-c119-44bd-9daf-7a99d183bffc"
      },
      "outputs": [
        {
          "data": {
            "text/html": [
              "<style  type=\"text/css\" >\n",
              "    #T_4511ca60_73c2_11ec_8f66_02420a390175row0_col1 {\n",
              "            background-color:  #b40426;\n",
              "            color:  #f1f1f1;\n",
              "        }    #T_4511ca60_73c2_11ec_8f66_02420a390175row1_col1 {\n",
              "            background-color:  #ef886b;\n",
              "            color:  #000000;\n",
              "        }    #T_4511ca60_73c2_11ec_8f66_02420a390175row2_col1 {\n",
              "            background-color:  #f1ccb8;\n",
              "            color:  #000000;\n",
              "        }    #T_4511ca60_73c2_11ec_8f66_02420a390175row3_col1 {\n",
              "            background-color:  #d7dce3;\n",
              "            color:  #000000;\n",
              "        }    #T_4511ca60_73c2_11ec_8f66_02420a390175row4_col1 {\n",
              "            background-color:  #d3dbe7;\n",
              "            color:  #000000;\n",
              "        }    #T_4511ca60_73c2_11ec_8f66_02420a390175row5_col1 {\n",
              "            background-color:  #a1c0ff;\n",
              "            color:  #000000;\n",
              "        }    #T_4511ca60_73c2_11ec_8f66_02420a390175row6_col1 {\n",
              "            background-color:  #84a7fc;\n",
              "            color:  #000000;\n",
              "        }    #T_4511ca60_73c2_11ec_8f66_02420a390175row7_col1 {\n",
              "            background-color:  #7a9df8;\n",
              "            color:  #000000;\n",
              "        }    #T_4511ca60_73c2_11ec_8f66_02420a390175row8_col1 {\n",
              "            background-color:  #7295f4;\n",
              "            color:  #000000;\n",
              "        }    #T_4511ca60_73c2_11ec_8f66_02420a390175row9_col1 {\n",
              "            background-color:  #7295f4;\n",
              "            color:  #000000;\n",
              "        }    #T_4511ca60_73c2_11ec_8f66_02420a390175row10_col1 {\n",
              "            background-color:  #6f92f3;\n",
              "            color:  #000000;\n",
              "        }    #T_4511ca60_73c2_11ec_8f66_02420a390175row11_col1 {\n",
              "            background-color:  #6f92f3;\n",
              "            color:  #000000;\n",
              "        }    #T_4511ca60_73c2_11ec_8f66_02420a390175row12_col1 {\n",
              "            background-color:  #6e90f2;\n",
              "            color:  #000000;\n",
              "        }    #T_4511ca60_73c2_11ec_8f66_02420a390175row13_col1 {\n",
              "            background-color:  #6a8bef;\n",
              "            color:  #000000;\n",
              "        }    #T_4511ca60_73c2_11ec_8f66_02420a390175row14_col1 {\n",
              "            background-color:  #688aef;\n",
              "            color:  #000000;\n",
              "        }    #T_4511ca60_73c2_11ec_8f66_02420a390175row15_col1 {\n",
              "            background-color:  #6384eb;\n",
              "            color:  #000000;\n",
              "        }    #T_4511ca60_73c2_11ec_8f66_02420a390175row16_col1 {\n",
              "            background-color:  #506bda;\n",
              "            color:  #000000;\n",
              "        }    #T_4511ca60_73c2_11ec_8f66_02420a390175row17_col1 {\n",
              "            background-color:  #4f69d9;\n",
              "            color:  #000000;\n",
              "        }    #T_4511ca60_73c2_11ec_8f66_02420a390175row18_col1 {\n",
              "            background-color:  #4c66d6;\n",
              "            color:  #000000;\n",
              "        }    #T_4511ca60_73c2_11ec_8f66_02420a390175row19_col1 {\n",
              "            background-color:  #4a63d3;\n",
              "            color:  #f1f1f1;\n",
              "        }    #T_4511ca60_73c2_11ec_8f66_02420a390175row20_col1 {\n",
              "            background-color:  #4a63d3;\n",
              "            color:  #f1f1f1;\n",
              "        }    #T_4511ca60_73c2_11ec_8f66_02420a390175row21_col1 {\n",
              "            background-color:  #465ecf;\n",
              "            color:  #f1f1f1;\n",
              "        }    #T_4511ca60_73c2_11ec_8f66_02420a390175row22_col1 {\n",
              "            background-color:  #455cce;\n",
              "            color:  #f1f1f1;\n",
              "        }    #T_4511ca60_73c2_11ec_8f66_02420a390175row23_col1 {\n",
              "            background-color:  #4358cb;\n",
              "            color:  #f1f1f1;\n",
              "        }    #T_4511ca60_73c2_11ec_8f66_02420a390175row24_col1 {\n",
              "            background-color:  #4358cb;\n",
              "            color:  #f1f1f1;\n",
              "        }    #T_4511ca60_73c2_11ec_8f66_02420a390175row25_col1 {\n",
              "            background-color:  #3b4cc0;\n",
              "            color:  #f1f1f1;\n",
              "        }    #T_4511ca60_73c2_11ec_8f66_02420a390175row26_col1 {\n",
              "            background-color:  #3b4cc0;\n",
              "            color:  #f1f1f1;\n",
              "        }</style><table id=\"T_4511ca60_73c2_11ec_8f66_02420a390175\" ><thead>    <tr>        <th class=\"blank level0\" ></th>        <th class=\"col_heading level0 col0\" >index</th>        <th class=\"col_heading level0 col1\" >last_price</th>    </tr></thead><tbody>\n",
              "                <tr>\n",
              "                        <th id=\"T_4511ca60_73c2_11ec_8f66_02420a390175level0_row0\" class=\"row_heading level0 row0\" >0</th>\n",
              "                        <td id=\"T_4511ca60_73c2_11ec_8f66_02420a390175row0_col0\" class=\"data row0 col0\" >last_price</td>\n",
              "                        <td id=\"T_4511ca60_73c2_11ec_8f66_02420a390175row0_col1\" class=\"data row0 col1\" >1</td>\n",
              "            </tr>\n",
              "            <tr>\n",
              "                        <th id=\"T_4511ca60_73c2_11ec_8f66_02420a390175level0_row1\" class=\"row_heading level0 row1\" >1</th>\n",
              "                        <td id=\"T_4511ca60_73c2_11ec_8f66_02420a390175row1_col0\" class=\"data row1 col0\" >price_sq_metre</td>\n",
              "                        <td id=\"T_4511ca60_73c2_11ec_8f66_02420a390175row1_col1\" class=\"data row1 col1\" >0.776528</td>\n",
              "            </tr>\n",
              "            <tr>\n",
              "                        <th id=\"T_4511ca60_73c2_11ec_8f66_02420a390175level0_row2\" class=\"row_heading level0 row2\" >2</th>\n",
              "                        <td id=\"T_4511ca60_73c2_11ec_8f66_02420a390175row2_col0\" class=\"data row2 col0\" >total_area</td>\n",
              "                        <td id=\"T_4511ca60_73c2_11ec_8f66_02420a390175row2_col1\" class=\"data row2 col1\" >0.566893</td>\n",
              "            </tr>\n",
              "            <tr>\n",
              "                        <th id=\"T_4511ca60_73c2_11ec_8f66_02420a390175level0_row3\" class=\"row_heading level0 row3\" >3</th>\n",
              "                        <td id=\"T_4511ca60_73c2_11ec_8f66_02420a390175row3_col0\" class=\"data row3 col0\" >living_area</td>\n",
              "                        <td id=\"T_4511ca60_73c2_11ec_8f66_02420a390175row3_col1\" class=\"data row3 col1\" >0.437631</td>\n",
              "            </tr>\n",
              "            <tr>\n",
              "                        <th id=\"T_4511ca60_73c2_11ec_8f66_02420a390175level0_row4\" class=\"row_heading level0 row4\" >4</th>\n",
              "                        <td id=\"T_4511ca60_73c2_11ec_8f66_02420a390175row4_col0\" class=\"data row4 col0\" >kitchen_area</td>\n",
              "                        <td id=\"T_4511ca60_73c2_11ec_8f66_02420a390175row4_col1\" class=\"data row4 col1\" >0.424246</td>\n",
              "            </tr>\n",
              "            <tr>\n",
              "                        <th id=\"T_4511ca60_73c2_11ec_8f66_02420a390175level0_row5\" class=\"row_heading level0 row5\" >5</th>\n",
              "                        <td id=\"T_4511ca60_73c2_11ec_8f66_02420a390175row5_col0\" class=\"data row5 col0\" >rooms</td>\n",
              "                        <td id=\"T_4511ca60_73c2_11ec_8f66_02420a390175row5_col1\" class=\"data row5 col1\" >0.2559</td>\n",
              "            </tr>\n",
              "            <tr>\n",
              "                        <th id=\"T_4511ca60_73c2_11ec_8f66_02420a390175level0_row6\" class=\"row_heading level0 row6\" >6</th>\n",
              "                        <td id=\"T_4511ca60_73c2_11ec_8f66_02420a390175row6_col0\" class=\"data row6 col0\" >total_images</td>\n",
              "                        <td id=\"T_4511ca60_73c2_11ec_8f66_02420a390175row6_col1\" class=\"data row6 col1\" >0.166516</td>\n",
              "            </tr>\n",
              "            <tr>\n",
              "                        <th id=\"T_4511ca60_73c2_11ec_8f66_02420a390175level0_row7\" class=\"row_heading level0 row7\" >7</th>\n",
              "                        <td id=\"T_4511ca60_73c2_11ec_8f66_02420a390175row7_col0\" class=\"data row7 col0\" >parks_around3000</td>\n",
              "                        <td id=\"T_4511ca60_73c2_11ec_8f66_02420a390175row7_col1\" class=\"data row7 col1\" >0.136468</td>\n",
              "            </tr>\n",
              "            <tr>\n",
              "                        <th id=\"T_4511ca60_73c2_11ec_8f66_02420a390175level0_row8\" class=\"row_heading level0 row8\" >8</th>\n",
              "                        <td id=\"T_4511ca60_73c2_11ec_8f66_02420a390175row8_col0\" class=\"data row8 col0\" >balcony</td>\n",
              "                        <td id=\"T_4511ca60_73c2_11ec_8f66_02420a390175row8_col1\" class=\"data row8 col1\" >0.111385</td>\n",
              "            </tr>\n",
              "            <tr>\n",
              "                        <th id=\"T_4511ca60_73c2_11ec_8f66_02420a390175level0_row9\" class=\"row_heading level0 row9\" >9</th>\n",
              "                        <td id=\"T_4511ca60_73c2_11ec_8f66_02420a390175row9_col0\" class=\"data row9 col0\" >floor</td>\n",
              "                        <td id=\"T_4511ca60_73c2_11ec_8f66_02420a390175row9_col1\" class=\"data row9 col1\" >0.110293</td>\n",
              "            </tr>\n",
              "            <tr>\n",
              "                        <th id=\"T_4511ca60_73c2_11ec_8f66_02420a390175level0_row10\" class=\"row_heading level0 row10\" >10</th>\n",
              "                        <td id=\"T_4511ca60_73c2_11ec_8f66_02420a390175row10_col0\" class=\"data row10 col0\" >airports_nearest</td>\n",
              "                        <td id=\"T_4511ca60_73c2_11ec_8f66_02420a390175row10_col1\" class=\"data row10 col1\" >0.105477</td>\n",
              "            </tr>\n",
              "            <tr>\n",
              "                        <th id=\"T_4511ca60_73c2_11ec_8f66_02420a390175level0_row11\" class=\"row_heading level0 row11\" >11</th>\n",
              "                        <td id=\"T_4511ca60_73c2_11ec_8f66_02420a390175row11_col0\" class=\"data row11 col0\" >ceiling_height</td>\n",
              "                        <td id=\"T_4511ca60_73c2_11ec_8f66_02420a390175row11_col1\" class=\"data row11 col1\" >0.102596</td>\n",
              "            </tr>\n",
              "            <tr>\n",
              "                        <th id=\"T_4511ca60_73c2_11ec_8f66_02420a390175level0_row12\" class=\"row_heading level0 row12\" >12</th>\n",
              "                        <td id=\"T_4511ca60_73c2_11ec_8f66_02420a390175row12_col0\" class=\"data row12 col0\" >is_apartment</td>\n",
              "                        <td id=\"T_4511ca60_73c2_11ec_8f66_02420a390175row12_col1\" class=\"data row12 col1\" >0.100743</td>\n",
              "            </tr>\n",
              "            <tr>\n",
              "                        <th id=\"T_4511ca60_73c2_11ec_8f66_02420a390175level0_row13\" class=\"row_heading level0 row13\" >13</th>\n",
              "                        <td id=\"T_4511ca60_73c2_11ec_8f66_02420a390175row13_col0\" class=\"data row13 col0\" >floors_total</td>\n",
              "                        <td id=\"T_4511ca60_73c2_11ec_8f66_02420a390175row13_col1\" class=\"data row13 col1\" >0.088545</td>\n",
              "            </tr>\n",
              "            <tr>\n",
              "                        <th id=\"T_4511ca60_73c2_11ec_8f66_02420a390175level0_row14\" class=\"row_heading level0 row14\" >14</th>\n",
              "                        <td id=\"T_4511ca60_73c2_11ec_8f66_02420a390175row14_col0\" class=\"data row14 col0\" >days_exposition</td>\n",
              "                        <td id=\"T_4511ca60_73c2_11ec_8f66_02420a390175row14_col1\" class=\"data row14 col1\" >0.0828927</td>\n",
              "            </tr>\n",
              "            <tr>\n",
              "                        <th id=\"T_4511ca60_73c2_11ec_8f66_02420a390175level0_row15\" class=\"row_heading level0 row15\" >15</th>\n",
              "                        <td id=\"T_4511ca60_73c2_11ec_8f66_02420a390175row15_col0\" class=\"data row15 col0\" >ponds_around3000</td>\n",
              "                        <td id=\"T_4511ca60_73c2_11ec_8f66_02420a390175row15_col1\" class=\"data row15 col1\" >0.0676539</td>\n",
              "            </tr>\n",
              "            <tr>\n",
              "                        <th id=\"T_4511ca60_73c2_11ec_8f66_02420a390175level0_row16\" class=\"row_heading level0 row16\" >16</th>\n",
              "                        <td id=\"T_4511ca60_73c2_11ec_8f66_02420a390175row16_col0\" class=\"data row16 col0\" >year</td>\n",
              "                        <td id=\"T_4511ca60_73c2_11ec_8f66_02420a390175row16_col1\" class=\"data row16 col1\" >0.00300057</td>\n",
              "            </tr>\n",
              "            <tr>\n",
              "                        <th id=\"T_4511ca60_73c2_11ec_8f66_02420a390175level0_row17\" class=\"row_heading level0 row17\" >17</th>\n",
              "                        <td id=\"T_4511ca60_73c2_11ec_8f66_02420a390175row17_col0\" class=\"data row17 col0\" >month</td>\n",
              "                        <td id=\"T_4511ca60_73c2_11ec_8f66_02420a390175row17_col1\" class=\"data row17 col1\" >-0.00346122</td>\n",
              "            </tr>\n",
              "            <tr>\n",
              "                        <th id=\"T_4511ca60_73c2_11ec_8f66_02420a390175level0_row18\" class=\"row_heading level0 row18\" >18</th>\n",
              "                        <td id=\"T_4511ca60_73c2_11ec_8f66_02420a390175row18_col0\" class=\"data row18 col0\" >parks_nearest</td>\n",
              "                        <td id=\"T_4511ca60_73c2_11ec_8f66_02420a390175row18_col1\" class=\"data row18 col1\" >-0.00793943</td>\n",
              "            </tr>\n",
              "            <tr>\n",
              "                        <th id=\"T_4511ca60_73c2_11ec_8f66_02420a390175level0_row19\" class=\"row_heading level0 row19\" >19</th>\n",
              "                        <td id=\"T_4511ca60_73c2_11ec_8f66_02420a390175row19_col0\" class=\"data row19 col0\" >day</td>\n",
              "                        <td id=\"T_4511ca60_73c2_11ec_8f66_02420a390175row19_col1\" class=\"data row19 col1\" >-0.017574</td>\n",
              "            </tr>\n",
              "            <tr>\n",
              "                        <th id=\"T_4511ca60_73c2_11ec_8f66_02420a390175level0_row20\" class=\"row_heading level0 row20\" >20</th>\n",
              "                        <td id=\"T_4511ca60_73c2_11ec_8f66_02420a390175row20_col0\" class=\"data row20 col0\" >kitchen_area_part</td>\n",
              "                        <td id=\"T_4511ca60_73c2_11ec_8f66_02420a390175row20_col1\" class=\"data row20 col1\" >-0.0185615</td>\n",
              "            </tr>\n",
              "            <tr>\n",
              "                        <th id=\"T_4511ca60_73c2_11ec_8f66_02420a390175level0_row21\" class=\"row_heading level0 row21\" >21</th>\n",
              "                        <td id=\"T_4511ca60_73c2_11ec_8f66_02420a390175row21_col0\" class=\"data row21 col0\" >open_plan</td>\n",
              "                        <td id=\"T_4511ca60_73c2_11ec_8f66_02420a390175row21_col1\" class=\"data row21 col1\" >-0.0301049</td>\n",
              "            </tr>\n",
              "            <tr>\n",
              "                        <th id=\"T_4511ca60_73c2_11ec_8f66_02420a390175level0_row22\" class=\"row_heading level0 row22\" >22</th>\n",
              "                        <td id=\"T_4511ca60_73c2_11ec_8f66_02420a390175row22_col0\" class=\"data row22 col0\" >living_area_part</td>\n",
              "                        <td id=\"T_4511ca60_73c2_11ec_8f66_02420a390175row22_col1\" class=\"data row22 col1\" >-0.0363855</td>\n",
              "            </tr>\n",
              "            <tr>\n",
              "                        <th id=\"T_4511ca60_73c2_11ec_8f66_02420a390175level0_row23\" class=\"row_heading level0 row23\" >23</th>\n",
              "                        <td id=\"T_4511ca60_73c2_11ec_8f66_02420a390175row23_col0\" class=\"data row23 col0\" >studio</td>\n",
              "                        <td id=\"T_4511ca60_73c2_11ec_8f66_02420a390175row23_col1\" class=\"data row23 col1\" >-0.0433793</td>\n",
              "            </tr>\n",
              "            <tr>\n",
              "                        <th id=\"T_4511ca60_73c2_11ec_8f66_02420a390175level0_row24\" class=\"row_heading level0 row24\" >24</th>\n",
              "                        <td id=\"T_4511ca60_73c2_11ec_8f66_02420a390175row24_col0\" class=\"data row24 col0\" >ponds_nearest</td>\n",
              "                        <td id=\"T_4511ca60_73c2_11ec_8f66_02420a390175row24_col1\" class=\"data row24 col1\" >-0.0434771</td>\n",
              "            </tr>\n",
              "            <tr>\n",
              "                        <th id=\"T_4511ca60_73c2_11ec_8f66_02420a390175level0_row25\" class=\"row_heading level0 row25\" >25</th>\n",
              "                        <td id=\"T_4511ca60_73c2_11ec_8f66_02420a390175row25_col0\" class=\"data row25 col0\" >cityCenters_nearest</td>\n",
              "                        <td id=\"T_4511ca60_73c2_11ec_8f66_02420a390175row25_col1\" class=\"data row25 col1\" >-0.0720318</td>\n",
              "            </tr>\n",
              "            <tr>\n",
              "                        <th id=\"T_4511ca60_73c2_11ec_8f66_02420a390175level0_row26\" class=\"row_heading level0 row26\" >26</th>\n",
              "                        <td id=\"T_4511ca60_73c2_11ec_8f66_02420a390175row26_col0\" class=\"data row26 col0\" >km_to_city_centre</td>\n",
              "                        <td id=\"T_4511ca60_73c2_11ec_8f66_02420a390175row26_col1\" class=\"data row26 col1\" >-0.0750306</td>\n",
              "            </tr>\n",
              "    </tbody></table>"
            ],
            "text/plain": [
              "<pandas.io.formats.style.Styler at 0x7f51b3d91710>"
            ]
          },
          "execution_count": 67,
          "metadata": {},
          "output_type": "execute_result"
        }
      ],
      "source": [
        "cor_out_center = city_center_in_7_km.corr().sort_values('last_price', ascending=False).filter(items = ['last_price']).reset_index()\n",
        "cor_out_center.style.background_gradient('coolwarm')"
      ]
    },
    {
      "cell_type": "code",
      "execution_count": null,
      "metadata": {
        "id": "S9FHZ_rzD-c8",
        "outputId": "2e33dc8d-cbfc-424e-e5ee-c91287a88ac4"
      },
      "outputs": [
        {
          "data": {
            "text/html": [
              "<style  type=\"text/css\" >\n",
              "    #T_45187612_73c2_11ec_8f66_02420a390175row0_col1 {\n",
              "            background-color:  #b40426;\n",
              "            color:  #f1f1f1;\n",
              "        }    #T_45187612_73c2_11ec_8f66_02420a390175row0_col2 {\n",
              "            background-color:  #b40426;\n",
              "            color:  #f1f1f1;\n",
              "        }    #T_45187612_73c2_11ec_8f66_02420a390175row1_col1 {\n",
              "            background-color:  #ef886b;\n",
              "            color:  #000000;\n",
              "        }    #T_45187612_73c2_11ec_8f66_02420a390175row1_col2 {\n",
              "            background-color:  #ef886b;\n",
              "            color:  #000000;\n",
              "        }    #T_45187612_73c2_11ec_8f66_02420a390175row2_col1 {\n",
              "            background-color:  #f1ccb8;\n",
              "            color:  #000000;\n",
              "        }    #T_45187612_73c2_11ec_8f66_02420a390175row2_col2 {\n",
              "            background-color:  #f1ccb8;\n",
              "            color:  #000000;\n",
              "        }    #T_45187612_73c2_11ec_8f66_02420a390175row3_col1 {\n",
              "            background-color:  #d7dce3;\n",
              "            color:  #000000;\n",
              "        }    #T_45187612_73c2_11ec_8f66_02420a390175row3_col2 {\n",
              "            background-color:  #d7dce3;\n",
              "            color:  #000000;\n",
              "        }    #T_45187612_73c2_11ec_8f66_02420a390175row4_col1 {\n",
              "            background-color:  #d3dbe7;\n",
              "            color:  #000000;\n",
              "        }    #T_45187612_73c2_11ec_8f66_02420a390175row4_col2 {\n",
              "            background-color:  #d3dbe7;\n",
              "            color:  #000000;\n",
              "        }    #T_45187612_73c2_11ec_8f66_02420a390175row5_col1 {\n",
              "            background-color:  #a1c0ff;\n",
              "            color:  #000000;\n",
              "        }    #T_45187612_73c2_11ec_8f66_02420a390175row5_col2 {\n",
              "            background-color:  #a1c0ff;\n",
              "            color:  #000000;\n",
              "        }    #T_45187612_73c2_11ec_8f66_02420a390175row6_col1 {\n",
              "            background-color:  #84a7fc;\n",
              "            color:  #000000;\n",
              "        }    #T_45187612_73c2_11ec_8f66_02420a390175row6_col2 {\n",
              "            background-color:  #84a7fc;\n",
              "            color:  #000000;\n",
              "        }    #T_45187612_73c2_11ec_8f66_02420a390175row7_col1 {\n",
              "            background-color:  #7a9df8;\n",
              "            color:  #000000;\n",
              "        }    #T_45187612_73c2_11ec_8f66_02420a390175row7_col2 {\n",
              "            background-color:  #7a9df8;\n",
              "            color:  #000000;\n",
              "        }    #T_45187612_73c2_11ec_8f66_02420a390175row8_col1 {\n",
              "            background-color:  #7295f4;\n",
              "            color:  #000000;\n",
              "        }    #T_45187612_73c2_11ec_8f66_02420a390175row8_col2 {\n",
              "            background-color:  #7295f4;\n",
              "            color:  #000000;\n",
              "        }    #T_45187612_73c2_11ec_8f66_02420a390175row9_col1 {\n",
              "            background-color:  #7295f4;\n",
              "            color:  #000000;\n",
              "        }    #T_45187612_73c2_11ec_8f66_02420a390175row9_col2 {\n",
              "            background-color:  #7295f4;\n",
              "            color:  #000000;\n",
              "        }    #T_45187612_73c2_11ec_8f66_02420a390175row10_col1 {\n",
              "            background-color:  #6f92f3;\n",
              "            color:  #000000;\n",
              "        }    #T_45187612_73c2_11ec_8f66_02420a390175row10_col2 {\n",
              "            background-color:  #6f92f3;\n",
              "            color:  #000000;\n",
              "        }    #T_45187612_73c2_11ec_8f66_02420a390175row11_col1 {\n",
              "            background-color:  #6f92f3;\n",
              "            color:  #000000;\n",
              "        }    #T_45187612_73c2_11ec_8f66_02420a390175row11_col2 {\n",
              "            background-color:  #6f92f3;\n",
              "            color:  #000000;\n",
              "        }    #T_45187612_73c2_11ec_8f66_02420a390175row12_col1 {\n",
              "            background-color:  #6e90f2;\n",
              "            color:  #000000;\n",
              "        }    #T_45187612_73c2_11ec_8f66_02420a390175row12_col2 {\n",
              "            background-color:  #6e90f2;\n",
              "            color:  #000000;\n",
              "        }    #T_45187612_73c2_11ec_8f66_02420a390175row13_col1 {\n",
              "            background-color:  #6a8bef;\n",
              "            color:  #000000;\n",
              "        }    #T_45187612_73c2_11ec_8f66_02420a390175row13_col2 {\n",
              "            background-color:  #6a8bef;\n",
              "            color:  #000000;\n",
              "        }    #T_45187612_73c2_11ec_8f66_02420a390175row14_col1 {\n",
              "            background-color:  #688aef;\n",
              "            color:  #000000;\n",
              "        }    #T_45187612_73c2_11ec_8f66_02420a390175row14_col2 {\n",
              "            background-color:  #688aef;\n",
              "            color:  #000000;\n",
              "        }    #T_45187612_73c2_11ec_8f66_02420a390175row15_col1 {\n",
              "            background-color:  #6384eb;\n",
              "            color:  #000000;\n",
              "        }    #T_45187612_73c2_11ec_8f66_02420a390175row15_col2 {\n",
              "            background-color:  #6384eb;\n",
              "            color:  #000000;\n",
              "        }    #T_45187612_73c2_11ec_8f66_02420a390175row16_col1 {\n",
              "            background-color:  #506bda;\n",
              "            color:  #000000;\n",
              "        }    #T_45187612_73c2_11ec_8f66_02420a390175row16_col2 {\n",
              "            background-color:  #506bda;\n",
              "            color:  #000000;\n",
              "        }    #T_45187612_73c2_11ec_8f66_02420a390175row17_col1 {\n",
              "            background-color:  #4f69d9;\n",
              "            color:  #000000;\n",
              "        }    #T_45187612_73c2_11ec_8f66_02420a390175row17_col2 {\n",
              "            background-color:  #4f69d9;\n",
              "            color:  #000000;\n",
              "        }    #T_45187612_73c2_11ec_8f66_02420a390175row18_col1 {\n",
              "            background-color:  #4c66d6;\n",
              "            color:  #000000;\n",
              "        }    #T_45187612_73c2_11ec_8f66_02420a390175row18_col2 {\n",
              "            background-color:  #4c66d6;\n",
              "            color:  #000000;\n",
              "        }    #T_45187612_73c2_11ec_8f66_02420a390175row19_col1 {\n",
              "            background-color:  #4a63d3;\n",
              "            color:  #f1f1f1;\n",
              "        }    #T_45187612_73c2_11ec_8f66_02420a390175row19_col2 {\n",
              "            background-color:  #4a63d3;\n",
              "            color:  #f1f1f1;\n",
              "        }    #T_45187612_73c2_11ec_8f66_02420a390175row20_col1 {\n",
              "            background-color:  #4a63d3;\n",
              "            color:  #f1f1f1;\n",
              "        }    #T_45187612_73c2_11ec_8f66_02420a390175row20_col2 {\n",
              "            background-color:  #4a63d3;\n",
              "            color:  #f1f1f1;\n",
              "        }    #T_45187612_73c2_11ec_8f66_02420a390175row21_col1 {\n",
              "            background-color:  #465ecf;\n",
              "            color:  #f1f1f1;\n",
              "        }    #T_45187612_73c2_11ec_8f66_02420a390175row21_col2 {\n",
              "            background-color:  #465ecf;\n",
              "            color:  #f1f1f1;\n",
              "        }    #T_45187612_73c2_11ec_8f66_02420a390175row22_col1 {\n",
              "            background-color:  #455cce;\n",
              "            color:  #f1f1f1;\n",
              "        }    #T_45187612_73c2_11ec_8f66_02420a390175row22_col2 {\n",
              "            background-color:  #455cce;\n",
              "            color:  #f1f1f1;\n",
              "        }    #T_45187612_73c2_11ec_8f66_02420a390175row23_col1 {\n",
              "            background-color:  #4358cb;\n",
              "            color:  #f1f1f1;\n",
              "        }    #T_45187612_73c2_11ec_8f66_02420a390175row23_col2 {\n",
              "            background-color:  #4358cb;\n",
              "            color:  #f1f1f1;\n",
              "        }    #T_45187612_73c2_11ec_8f66_02420a390175row24_col1 {\n",
              "            background-color:  #4358cb;\n",
              "            color:  #f1f1f1;\n",
              "        }    #T_45187612_73c2_11ec_8f66_02420a390175row24_col2 {\n",
              "            background-color:  #4358cb;\n",
              "            color:  #f1f1f1;\n",
              "        }    #T_45187612_73c2_11ec_8f66_02420a390175row25_col1 {\n",
              "            background-color:  #3b4cc0;\n",
              "            color:  #f1f1f1;\n",
              "        }    #T_45187612_73c2_11ec_8f66_02420a390175row25_col2 {\n",
              "            background-color:  #3b4cc0;\n",
              "            color:  #f1f1f1;\n",
              "        }    #T_45187612_73c2_11ec_8f66_02420a390175row26_col1 {\n",
              "            background-color:  #3b4cc0;\n",
              "            color:  #f1f1f1;\n",
              "        }    #T_45187612_73c2_11ec_8f66_02420a390175row26_col2 {\n",
              "            background-color:  #3b4cc0;\n",
              "            color:  #f1f1f1;\n",
              "        }</style><table id=\"T_45187612_73c2_11ec_8f66_02420a390175\" ><thead>    <tr>        <th class=\"blank level0\" ></th>        <th class=\"col_heading level0 col0\" >index</th>        <th class=\"col_heading level0 col1\" >cor_in_center</th>        <th class=\"col_heading level0 col2\" >cor_out_center</th>    </tr></thead><tbody>\n",
              "                <tr>\n",
              "                        <th id=\"T_45187612_73c2_11ec_8f66_02420a390175level0_row0\" class=\"row_heading level0 row0\" >0</th>\n",
              "                        <td id=\"T_45187612_73c2_11ec_8f66_02420a390175row0_col0\" class=\"data row0 col0\" >last_price</td>\n",
              "                        <td id=\"T_45187612_73c2_11ec_8f66_02420a390175row0_col1\" class=\"data row0 col1\" >1</td>\n",
              "                        <td id=\"T_45187612_73c2_11ec_8f66_02420a390175row0_col2\" class=\"data row0 col2\" >1</td>\n",
              "            </tr>\n",
              "            <tr>\n",
              "                        <th id=\"T_45187612_73c2_11ec_8f66_02420a390175level0_row1\" class=\"row_heading level0 row1\" >1</th>\n",
              "                        <td id=\"T_45187612_73c2_11ec_8f66_02420a390175row1_col0\" class=\"data row1 col0\" >price_sq_metre</td>\n",
              "                        <td id=\"T_45187612_73c2_11ec_8f66_02420a390175row1_col1\" class=\"data row1 col1\" >0.776528</td>\n",
              "                        <td id=\"T_45187612_73c2_11ec_8f66_02420a390175row1_col2\" class=\"data row1 col2\" >0.776528</td>\n",
              "            </tr>\n",
              "            <tr>\n",
              "                        <th id=\"T_45187612_73c2_11ec_8f66_02420a390175level0_row2\" class=\"row_heading level0 row2\" >2</th>\n",
              "                        <td id=\"T_45187612_73c2_11ec_8f66_02420a390175row2_col0\" class=\"data row2 col0\" >total_area</td>\n",
              "                        <td id=\"T_45187612_73c2_11ec_8f66_02420a390175row2_col1\" class=\"data row2 col1\" >0.566893</td>\n",
              "                        <td id=\"T_45187612_73c2_11ec_8f66_02420a390175row2_col2\" class=\"data row2 col2\" >0.566893</td>\n",
              "            </tr>\n",
              "            <tr>\n",
              "                        <th id=\"T_45187612_73c2_11ec_8f66_02420a390175level0_row3\" class=\"row_heading level0 row3\" >3</th>\n",
              "                        <td id=\"T_45187612_73c2_11ec_8f66_02420a390175row3_col0\" class=\"data row3 col0\" >living_area</td>\n",
              "                        <td id=\"T_45187612_73c2_11ec_8f66_02420a390175row3_col1\" class=\"data row3 col1\" >0.437631</td>\n",
              "                        <td id=\"T_45187612_73c2_11ec_8f66_02420a390175row3_col2\" class=\"data row3 col2\" >0.437631</td>\n",
              "            </tr>\n",
              "            <tr>\n",
              "                        <th id=\"T_45187612_73c2_11ec_8f66_02420a390175level0_row4\" class=\"row_heading level0 row4\" >4</th>\n",
              "                        <td id=\"T_45187612_73c2_11ec_8f66_02420a390175row4_col0\" class=\"data row4 col0\" >kitchen_area</td>\n",
              "                        <td id=\"T_45187612_73c2_11ec_8f66_02420a390175row4_col1\" class=\"data row4 col1\" >0.424246</td>\n",
              "                        <td id=\"T_45187612_73c2_11ec_8f66_02420a390175row4_col2\" class=\"data row4 col2\" >0.424246</td>\n",
              "            </tr>\n",
              "            <tr>\n",
              "                        <th id=\"T_45187612_73c2_11ec_8f66_02420a390175level0_row5\" class=\"row_heading level0 row5\" >5</th>\n",
              "                        <td id=\"T_45187612_73c2_11ec_8f66_02420a390175row5_col0\" class=\"data row5 col0\" >rooms</td>\n",
              "                        <td id=\"T_45187612_73c2_11ec_8f66_02420a390175row5_col1\" class=\"data row5 col1\" >0.2559</td>\n",
              "                        <td id=\"T_45187612_73c2_11ec_8f66_02420a390175row5_col2\" class=\"data row5 col2\" >0.2559</td>\n",
              "            </tr>\n",
              "            <tr>\n",
              "                        <th id=\"T_45187612_73c2_11ec_8f66_02420a390175level0_row6\" class=\"row_heading level0 row6\" >6</th>\n",
              "                        <td id=\"T_45187612_73c2_11ec_8f66_02420a390175row6_col0\" class=\"data row6 col0\" >total_images</td>\n",
              "                        <td id=\"T_45187612_73c2_11ec_8f66_02420a390175row6_col1\" class=\"data row6 col1\" >0.166516</td>\n",
              "                        <td id=\"T_45187612_73c2_11ec_8f66_02420a390175row6_col2\" class=\"data row6 col2\" >0.166516</td>\n",
              "            </tr>\n",
              "            <tr>\n",
              "                        <th id=\"T_45187612_73c2_11ec_8f66_02420a390175level0_row7\" class=\"row_heading level0 row7\" >7</th>\n",
              "                        <td id=\"T_45187612_73c2_11ec_8f66_02420a390175row7_col0\" class=\"data row7 col0\" >parks_around3000</td>\n",
              "                        <td id=\"T_45187612_73c2_11ec_8f66_02420a390175row7_col1\" class=\"data row7 col1\" >0.136468</td>\n",
              "                        <td id=\"T_45187612_73c2_11ec_8f66_02420a390175row7_col2\" class=\"data row7 col2\" >0.136468</td>\n",
              "            </tr>\n",
              "            <tr>\n",
              "                        <th id=\"T_45187612_73c2_11ec_8f66_02420a390175level0_row8\" class=\"row_heading level0 row8\" >8</th>\n",
              "                        <td id=\"T_45187612_73c2_11ec_8f66_02420a390175row8_col0\" class=\"data row8 col0\" >balcony</td>\n",
              "                        <td id=\"T_45187612_73c2_11ec_8f66_02420a390175row8_col1\" class=\"data row8 col1\" >0.111385</td>\n",
              "                        <td id=\"T_45187612_73c2_11ec_8f66_02420a390175row8_col2\" class=\"data row8 col2\" >0.111385</td>\n",
              "            </tr>\n",
              "            <tr>\n",
              "                        <th id=\"T_45187612_73c2_11ec_8f66_02420a390175level0_row9\" class=\"row_heading level0 row9\" >9</th>\n",
              "                        <td id=\"T_45187612_73c2_11ec_8f66_02420a390175row9_col0\" class=\"data row9 col0\" >floor</td>\n",
              "                        <td id=\"T_45187612_73c2_11ec_8f66_02420a390175row9_col1\" class=\"data row9 col1\" >0.110293</td>\n",
              "                        <td id=\"T_45187612_73c2_11ec_8f66_02420a390175row9_col2\" class=\"data row9 col2\" >0.110293</td>\n",
              "            </tr>\n",
              "            <tr>\n",
              "                        <th id=\"T_45187612_73c2_11ec_8f66_02420a390175level0_row10\" class=\"row_heading level0 row10\" >10</th>\n",
              "                        <td id=\"T_45187612_73c2_11ec_8f66_02420a390175row10_col0\" class=\"data row10 col0\" >airports_nearest</td>\n",
              "                        <td id=\"T_45187612_73c2_11ec_8f66_02420a390175row10_col1\" class=\"data row10 col1\" >0.105477</td>\n",
              "                        <td id=\"T_45187612_73c2_11ec_8f66_02420a390175row10_col2\" class=\"data row10 col2\" >0.105477</td>\n",
              "            </tr>\n",
              "            <tr>\n",
              "                        <th id=\"T_45187612_73c2_11ec_8f66_02420a390175level0_row11\" class=\"row_heading level0 row11\" >11</th>\n",
              "                        <td id=\"T_45187612_73c2_11ec_8f66_02420a390175row11_col0\" class=\"data row11 col0\" >ceiling_height</td>\n",
              "                        <td id=\"T_45187612_73c2_11ec_8f66_02420a390175row11_col1\" class=\"data row11 col1\" >0.102596</td>\n",
              "                        <td id=\"T_45187612_73c2_11ec_8f66_02420a390175row11_col2\" class=\"data row11 col2\" >0.102596</td>\n",
              "            </tr>\n",
              "            <tr>\n",
              "                        <th id=\"T_45187612_73c2_11ec_8f66_02420a390175level0_row12\" class=\"row_heading level0 row12\" >12</th>\n",
              "                        <td id=\"T_45187612_73c2_11ec_8f66_02420a390175row12_col0\" class=\"data row12 col0\" >is_apartment</td>\n",
              "                        <td id=\"T_45187612_73c2_11ec_8f66_02420a390175row12_col1\" class=\"data row12 col1\" >0.100743</td>\n",
              "                        <td id=\"T_45187612_73c2_11ec_8f66_02420a390175row12_col2\" class=\"data row12 col2\" >0.100743</td>\n",
              "            </tr>\n",
              "            <tr>\n",
              "                        <th id=\"T_45187612_73c2_11ec_8f66_02420a390175level0_row13\" class=\"row_heading level0 row13\" >13</th>\n",
              "                        <td id=\"T_45187612_73c2_11ec_8f66_02420a390175row13_col0\" class=\"data row13 col0\" >floors_total</td>\n",
              "                        <td id=\"T_45187612_73c2_11ec_8f66_02420a390175row13_col1\" class=\"data row13 col1\" >0.088545</td>\n",
              "                        <td id=\"T_45187612_73c2_11ec_8f66_02420a390175row13_col2\" class=\"data row13 col2\" >0.088545</td>\n",
              "            </tr>\n",
              "            <tr>\n",
              "                        <th id=\"T_45187612_73c2_11ec_8f66_02420a390175level0_row14\" class=\"row_heading level0 row14\" >14</th>\n",
              "                        <td id=\"T_45187612_73c2_11ec_8f66_02420a390175row14_col0\" class=\"data row14 col0\" >days_exposition</td>\n",
              "                        <td id=\"T_45187612_73c2_11ec_8f66_02420a390175row14_col1\" class=\"data row14 col1\" >0.0828927</td>\n",
              "                        <td id=\"T_45187612_73c2_11ec_8f66_02420a390175row14_col2\" class=\"data row14 col2\" >0.0828927</td>\n",
              "            </tr>\n",
              "            <tr>\n",
              "                        <th id=\"T_45187612_73c2_11ec_8f66_02420a390175level0_row15\" class=\"row_heading level0 row15\" >15</th>\n",
              "                        <td id=\"T_45187612_73c2_11ec_8f66_02420a390175row15_col0\" class=\"data row15 col0\" >ponds_around3000</td>\n",
              "                        <td id=\"T_45187612_73c2_11ec_8f66_02420a390175row15_col1\" class=\"data row15 col1\" >0.0676539</td>\n",
              "                        <td id=\"T_45187612_73c2_11ec_8f66_02420a390175row15_col2\" class=\"data row15 col2\" >0.0676539</td>\n",
              "            </tr>\n",
              "            <tr>\n",
              "                        <th id=\"T_45187612_73c2_11ec_8f66_02420a390175level0_row16\" class=\"row_heading level0 row16\" >16</th>\n",
              "                        <td id=\"T_45187612_73c2_11ec_8f66_02420a390175row16_col0\" class=\"data row16 col0\" >year</td>\n",
              "                        <td id=\"T_45187612_73c2_11ec_8f66_02420a390175row16_col1\" class=\"data row16 col1\" >0.00300057</td>\n",
              "                        <td id=\"T_45187612_73c2_11ec_8f66_02420a390175row16_col2\" class=\"data row16 col2\" >0.00300057</td>\n",
              "            </tr>\n",
              "            <tr>\n",
              "                        <th id=\"T_45187612_73c2_11ec_8f66_02420a390175level0_row17\" class=\"row_heading level0 row17\" >17</th>\n",
              "                        <td id=\"T_45187612_73c2_11ec_8f66_02420a390175row17_col0\" class=\"data row17 col0\" >month</td>\n",
              "                        <td id=\"T_45187612_73c2_11ec_8f66_02420a390175row17_col1\" class=\"data row17 col1\" >-0.00346122</td>\n",
              "                        <td id=\"T_45187612_73c2_11ec_8f66_02420a390175row17_col2\" class=\"data row17 col2\" >-0.00346122</td>\n",
              "            </tr>\n",
              "            <tr>\n",
              "                        <th id=\"T_45187612_73c2_11ec_8f66_02420a390175level0_row18\" class=\"row_heading level0 row18\" >18</th>\n",
              "                        <td id=\"T_45187612_73c2_11ec_8f66_02420a390175row18_col0\" class=\"data row18 col0\" >parks_nearest</td>\n",
              "                        <td id=\"T_45187612_73c2_11ec_8f66_02420a390175row18_col1\" class=\"data row18 col1\" >-0.00793943</td>\n",
              "                        <td id=\"T_45187612_73c2_11ec_8f66_02420a390175row18_col2\" class=\"data row18 col2\" >-0.00793943</td>\n",
              "            </tr>\n",
              "            <tr>\n",
              "                        <th id=\"T_45187612_73c2_11ec_8f66_02420a390175level0_row19\" class=\"row_heading level0 row19\" >19</th>\n",
              "                        <td id=\"T_45187612_73c2_11ec_8f66_02420a390175row19_col0\" class=\"data row19 col0\" >day</td>\n",
              "                        <td id=\"T_45187612_73c2_11ec_8f66_02420a390175row19_col1\" class=\"data row19 col1\" >-0.017574</td>\n",
              "                        <td id=\"T_45187612_73c2_11ec_8f66_02420a390175row19_col2\" class=\"data row19 col2\" >-0.017574</td>\n",
              "            </tr>\n",
              "            <tr>\n",
              "                        <th id=\"T_45187612_73c2_11ec_8f66_02420a390175level0_row20\" class=\"row_heading level0 row20\" >20</th>\n",
              "                        <td id=\"T_45187612_73c2_11ec_8f66_02420a390175row20_col0\" class=\"data row20 col0\" >kitchen_area_part</td>\n",
              "                        <td id=\"T_45187612_73c2_11ec_8f66_02420a390175row20_col1\" class=\"data row20 col1\" >-0.0185615</td>\n",
              "                        <td id=\"T_45187612_73c2_11ec_8f66_02420a390175row20_col2\" class=\"data row20 col2\" >-0.0185615</td>\n",
              "            </tr>\n",
              "            <tr>\n",
              "                        <th id=\"T_45187612_73c2_11ec_8f66_02420a390175level0_row21\" class=\"row_heading level0 row21\" >21</th>\n",
              "                        <td id=\"T_45187612_73c2_11ec_8f66_02420a390175row21_col0\" class=\"data row21 col0\" >open_plan</td>\n",
              "                        <td id=\"T_45187612_73c2_11ec_8f66_02420a390175row21_col1\" class=\"data row21 col1\" >-0.0301049</td>\n",
              "                        <td id=\"T_45187612_73c2_11ec_8f66_02420a390175row21_col2\" class=\"data row21 col2\" >-0.0301049</td>\n",
              "            </tr>\n",
              "            <tr>\n",
              "                        <th id=\"T_45187612_73c2_11ec_8f66_02420a390175level0_row22\" class=\"row_heading level0 row22\" >22</th>\n",
              "                        <td id=\"T_45187612_73c2_11ec_8f66_02420a390175row22_col0\" class=\"data row22 col0\" >living_area_part</td>\n",
              "                        <td id=\"T_45187612_73c2_11ec_8f66_02420a390175row22_col1\" class=\"data row22 col1\" >-0.0363855</td>\n",
              "                        <td id=\"T_45187612_73c2_11ec_8f66_02420a390175row22_col2\" class=\"data row22 col2\" >-0.0363855</td>\n",
              "            </tr>\n",
              "            <tr>\n",
              "                        <th id=\"T_45187612_73c2_11ec_8f66_02420a390175level0_row23\" class=\"row_heading level0 row23\" >23</th>\n",
              "                        <td id=\"T_45187612_73c2_11ec_8f66_02420a390175row23_col0\" class=\"data row23 col0\" >studio</td>\n",
              "                        <td id=\"T_45187612_73c2_11ec_8f66_02420a390175row23_col1\" class=\"data row23 col1\" >-0.0433793</td>\n",
              "                        <td id=\"T_45187612_73c2_11ec_8f66_02420a390175row23_col2\" class=\"data row23 col2\" >-0.0433793</td>\n",
              "            </tr>\n",
              "            <tr>\n",
              "                        <th id=\"T_45187612_73c2_11ec_8f66_02420a390175level0_row24\" class=\"row_heading level0 row24\" >24</th>\n",
              "                        <td id=\"T_45187612_73c2_11ec_8f66_02420a390175row24_col0\" class=\"data row24 col0\" >ponds_nearest</td>\n",
              "                        <td id=\"T_45187612_73c2_11ec_8f66_02420a390175row24_col1\" class=\"data row24 col1\" >-0.0434771</td>\n",
              "                        <td id=\"T_45187612_73c2_11ec_8f66_02420a390175row24_col2\" class=\"data row24 col2\" >-0.0434771</td>\n",
              "            </tr>\n",
              "            <tr>\n",
              "                        <th id=\"T_45187612_73c2_11ec_8f66_02420a390175level0_row25\" class=\"row_heading level0 row25\" >25</th>\n",
              "                        <td id=\"T_45187612_73c2_11ec_8f66_02420a390175row25_col0\" class=\"data row25 col0\" >cityCenters_nearest</td>\n",
              "                        <td id=\"T_45187612_73c2_11ec_8f66_02420a390175row25_col1\" class=\"data row25 col1\" >-0.0720318</td>\n",
              "                        <td id=\"T_45187612_73c2_11ec_8f66_02420a390175row25_col2\" class=\"data row25 col2\" >-0.0720318</td>\n",
              "            </tr>\n",
              "            <tr>\n",
              "                        <th id=\"T_45187612_73c2_11ec_8f66_02420a390175level0_row26\" class=\"row_heading level0 row26\" >26</th>\n",
              "                        <td id=\"T_45187612_73c2_11ec_8f66_02420a390175row26_col0\" class=\"data row26 col0\" >km_to_city_centre</td>\n",
              "                        <td id=\"T_45187612_73c2_11ec_8f66_02420a390175row26_col1\" class=\"data row26 col1\" >-0.0750306</td>\n",
              "                        <td id=\"T_45187612_73c2_11ec_8f66_02420a390175row26_col2\" class=\"data row26 col2\" >-0.0750306</td>\n",
              "            </tr>\n",
              "    </tbody></table>"
            ],
            "text/plain": [
              "<pandas.io.formats.style.Styler at 0x7f51b3d6d990>"
            ]
          },
          "execution_count": 68,
          "metadata": {},
          "output_type": "execute_result"
        }
      ],
      "source": [
        "cor_in_out_center = cor_in_center.merge(cor_out_center, on='index')\n",
        "cor_in_out_center = cor_in_out_center.rename(columns={'last_price_x':'cor_in_center', 'last_price_y':'cor_out_center'})\n",
        "cor_in_out_center.style.background_gradient('coolwarm')"
      ]
    },
    {
      "cell_type": "markdown",
      "metadata": {
        "id": "QKPoa3amD-c-"
      },
      "source": [
        "**Вывод**"
      ]
    },
    {
      "cell_type": "markdown",
      "metadata": {
        "id": "bqWRYnJVD-c_"
      },
      "source": [
        "Нет отличий за цену квадратного метра в центре и не в центре Питера."
      ]
    },
    {
      "cell_type": "markdown",
      "metadata": {
        "id": "2m0_rrGnD-dB"
      },
      "source": [
        "## Общий вывод"
      ]
    },
    {
      "cell_type": "markdown",
      "metadata": {
        "id": "-JdPGldXD-dB"
      },
      "source": [
        "1.Видим, что в городе Пушкин самая высокая средняя цена. А самая низкая средняя цена в Выборге.\n",
        "\n",
        "2.Выяснили, что среднее время продажи 181 день.\n",
        "\n",
        "3.На первом этаже недвижимость самая дешевая. На последнем дороже, чем на первом, но дешевле, чем на всех остальных.\n",
        "\n",
        "4.Нет зависимости стоимости квадратного метра от дня недели и месяца.\n",
        "\n",
        "5.Нет отличий за цену квадратного метра в центре Питера и на окраине."
      ]
    },
    {
      "cell_type": "code",
      "execution_count": null,
      "metadata": {
        "id": "OXP48jfOD-dD"
      },
      "outputs": [],
      "source": []
    }
  ],
  "metadata": {
    "ExecuteTimeLog": [
      {
        "duration": 719,
        "start_time": "2021-12-15T13:15:07.730Z"
      },
      {
        "duration": 233,
        "start_time": "2021-12-15T13:15:27.794Z"
      },
      {
        "duration": 111,
        "start_time": "2021-12-15T13:17:08.968Z"
      },
      {
        "duration": 90,
        "start_time": "2021-12-15T13:17:13.576Z"
      },
      {
        "duration": 12,
        "start_time": "2021-12-15T13:17:24.810Z"
      },
      {
        "duration": 578,
        "start_time": "2021-12-15T13:19:10.970Z"
      },
      {
        "duration": 63,
        "start_time": "2021-12-15T13:19:19.650Z"
      },
      {
        "duration": 125,
        "start_time": "2021-12-15T13:19:26.983Z"
      },
      {
        "duration": 107,
        "start_time": "2021-12-15T13:19:32.794Z"
      },
      {
        "duration": 65,
        "start_time": "2021-12-15T13:24:19.235Z"
      },
      {
        "duration": 62,
        "start_time": "2021-12-15T13:24:58.038Z"
      },
      {
        "duration": 1304,
        "start_time": "2021-12-15T13:25:16.456Z"
      },
      {
        "duration": 10,
        "start_time": "2021-12-15T13:25:17.762Z"
      },
      {
        "duration": 118,
        "start_time": "2021-12-15T13:32:25.489Z"
      },
      {
        "duration": 67,
        "start_time": "2021-12-15T13:34:03.782Z"
      },
      {
        "duration": 87,
        "start_time": "2021-12-15T13:34:13.202Z"
      },
      {
        "duration": 13,
        "start_time": "2021-12-15T13:34:19.310Z"
      },
      {
        "duration": 12,
        "start_time": "2021-12-15T14:01:36.069Z"
      },
      {
        "duration": 89,
        "start_time": "2021-12-15T14:02:21.212Z"
      },
      {
        "duration": 13,
        "start_time": "2021-12-15T14:02:24.152Z"
      },
      {
        "duration": 9,
        "start_time": "2021-12-15T14:02:28.102Z"
      },
      {
        "duration": 924,
        "start_time": "2021-12-15T14:11:37.519Z"
      },
      {
        "duration": 17,
        "start_time": "2021-12-15T14:11:38.446Z"
      },
      {
        "duration": 12,
        "start_time": "2021-12-15T14:11:38.466Z"
      },
      {
        "duration": 2,
        "start_time": "2021-12-15T14:48:12.876Z"
      },
      {
        "duration": 20,
        "start_time": "2021-12-15T14:48:28.342Z"
      },
      {
        "duration": 3,
        "start_time": "2021-12-15T14:49:51.462Z"
      },
      {
        "duration": 21,
        "start_time": "2021-12-15T14:49:52.348Z"
      },
      {
        "duration": 1020,
        "start_time": "2021-12-16T13:47:22.639Z"
      },
      {
        "duration": 938,
        "start_time": "2021-12-16T13:47:37.844Z"
      },
      {
        "duration": 21,
        "start_time": "2021-12-16T13:47:38.785Z"
      },
      {
        "duration": 4,
        "start_time": "2021-12-16T13:47:38.810Z"
      },
      {
        "duration": 74,
        "start_time": "2021-12-16T13:47:38.817Z"
      },
      {
        "duration": 13,
        "start_time": "2021-12-16T13:47:38.893Z"
      },
      {
        "duration": 6,
        "start_time": "2021-12-16T13:47:38.908Z"
      },
      {
        "duration": 406,
        "start_time": "2021-12-16T13:49:03.851Z"
      },
      {
        "duration": 7,
        "start_time": "2021-12-16T13:49:18.415Z"
      },
      {
        "duration": 5,
        "start_time": "2021-12-16T13:50:05.416Z"
      },
      {
        "duration": 632,
        "start_time": "2021-12-17T13:59:13.747Z"
      },
      {
        "duration": 17,
        "start_time": "2021-12-17T13:59:14.381Z"
      },
      {
        "duration": 3,
        "start_time": "2021-12-17T13:59:14.401Z"
      },
      {
        "duration": 24,
        "start_time": "2021-12-17T13:59:14.406Z"
      },
      {
        "duration": 12,
        "start_time": "2021-12-17T13:59:14.431Z"
      },
      {
        "duration": 5,
        "start_time": "2021-12-17T13:59:14.445Z"
      },
      {
        "duration": 6,
        "start_time": "2021-12-17T14:00:30.624Z"
      },
      {
        "duration": 4,
        "start_time": "2021-12-17T14:00:49.617Z"
      },
      {
        "duration": 13,
        "start_time": "2021-12-17T14:01:05.667Z"
      },
      {
        "duration": 5,
        "start_time": "2021-12-17T14:39:39.499Z"
      },
      {
        "duration": 182,
        "start_time": "2021-12-17T14:48:43.961Z"
      },
      {
        "duration": 7,
        "start_time": "2021-12-17T14:49:01.043Z"
      },
      {
        "duration": 4,
        "start_time": "2021-12-17T14:49:15.322Z"
      },
      {
        "duration": 4,
        "start_time": "2021-12-17T14:54:11.630Z"
      },
      {
        "duration": 7,
        "start_time": "2021-12-17T14:54:24.999Z"
      },
      {
        "duration": 5,
        "start_time": "2021-12-17T14:59:21.806Z"
      },
      {
        "duration": 6,
        "start_time": "2021-12-17T14:59:22.163Z"
      },
      {
        "duration": 7,
        "start_time": "2021-12-17T14:59:59.551Z"
      },
      {
        "duration": 6,
        "start_time": "2021-12-17T15:00:02.585Z"
      },
      {
        "duration": 7,
        "start_time": "2021-12-17T15:06:13.064Z"
      },
      {
        "duration": 6,
        "start_time": "2021-12-17T15:06:22.167Z"
      },
      {
        "duration": 9,
        "start_time": "2021-12-17T15:13:51.689Z"
      },
      {
        "duration": 6,
        "start_time": "2021-12-17T15:14:02.282Z"
      },
      {
        "duration": 5,
        "start_time": "2021-12-17T15:16:11.656Z"
      },
      {
        "duration": 6,
        "start_time": "2021-12-17T15:16:12.319Z"
      },
      {
        "duration": 5,
        "start_time": "2021-12-17T15:16:23.126Z"
      },
      {
        "duration": 6,
        "start_time": "2021-12-17T15:16:23.646Z"
      },
      {
        "duration": 630,
        "start_time": "2021-12-17T15:16:31.630Z"
      },
      {
        "duration": 12,
        "start_time": "2021-12-17T15:16:32.262Z"
      },
      {
        "duration": 15,
        "start_time": "2021-12-17T15:16:32.276Z"
      },
      {
        "duration": 21,
        "start_time": "2021-12-17T15:16:32.293Z"
      },
      {
        "duration": 10,
        "start_time": "2021-12-17T15:16:32.316Z"
      },
      {
        "duration": 4,
        "start_time": "2021-12-17T15:16:32.327Z"
      },
      {
        "duration": 6,
        "start_time": "2021-12-17T15:16:32.332Z"
      },
      {
        "duration": 7,
        "start_time": "2021-12-17T15:16:32.340Z"
      },
      {
        "duration": 5,
        "start_time": "2021-12-17T15:16:32.348Z"
      },
      {
        "duration": 39,
        "start_time": "2021-12-17T15:16:32.354Z"
      },
      {
        "duration": 5,
        "start_time": "2021-12-17T15:16:32.395Z"
      },
      {
        "duration": 35,
        "start_time": "2021-12-17T15:18:20.271Z"
      },
      {
        "duration": 10,
        "start_time": "2021-12-17T15:18:29.525Z"
      },
      {
        "duration": 191,
        "start_time": "2021-12-17T15:24:31.950Z"
      },
      {
        "duration": 36,
        "start_time": "2021-12-17T16:24:10.779Z"
      },
      {
        "duration": 54,
        "start_time": "2021-12-17T16:24:47.352Z"
      },
      {
        "duration": 11,
        "start_time": "2021-12-17T16:24:59.102Z"
      },
      {
        "duration": 14,
        "start_time": "2021-12-17T16:37:14.474Z"
      },
      {
        "duration": 9,
        "start_time": "2021-12-17T16:37:19.495Z"
      },
      {
        "duration": 124,
        "start_time": "2021-12-17T16:40:22.467Z"
      },
      {
        "duration": 130,
        "start_time": "2021-12-17T16:42:03.953Z"
      },
      {
        "duration": 142,
        "start_time": "2021-12-17T16:42:58.120Z"
      },
      {
        "duration": 3,
        "start_time": "2021-12-17T16:43:02.857Z"
      },
      {
        "duration": 4,
        "start_time": "2021-12-17T16:43:54.838Z"
      },
      {
        "duration": 554,
        "start_time": "2021-12-17T16:44:35.221Z"
      },
      {
        "duration": 4,
        "start_time": "2021-12-17T16:46:55.944Z"
      },
      {
        "duration": 3,
        "start_time": "2021-12-17T16:46:56.975Z"
      },
      {
        "duration": 4,
        "start_time": "2021-12-17T16:47:15.034Z"
      },
      {
        "duration": 4,
        "start_time": "2021-12-17T16:47:30.638Z"
      },
      {
        "duration": 2,
        "start_time": "2021-12-17T16:48:10.563Z"
      },
      {
        "duration": 673,
        "start_time": "2021-12-17T16:48:19.775Z"
      },
      {
        "duration": 12,
        "start_time": "2021-12-17T16:48:20.450Z"
      },
      {
        "duration": 14,
        "start_time": "2021-12-17T16:48:20.464Z"
      },
      {
        "duration": 29,
        "start_time": "2021-12-17T16:48:20.480Z"
      },
      {
        "duration": 22,
        "start_time": "2021-12-17T16:48:20.511Z"
      },
      {
        "duration": 19,
        "start_time": "2021-12-17T16:48:20.535Z"
      },
      {
        "duration": 26,
        "start_time": "2021-12-17T16:48:20.555Z"
      },
      {
        "duration": 16,
        "start_time": "2021-12-17T16:48:20.584Z"
      },
      {
        "duration": 16,
        "start_time": "2021-12-17T16:48:20.602Z"
      },
      {
        "duration": 17,
        "start_time": "2021-12-17T16:48:20.619Z"
      },
      {
        "duration": 29,
        "start_time": "2021-12-17T16:48:20.637Z"
      },
      {
        "duration": 24,
        "start_time": "2021-12-17T16:48:20.668Z"
      },
      {
        "duration": 6,
        "start_time": "2021-12-17T16:49:44.018Z"
      },
      {
        "duration": 9,
        "start_time": "2021-12-17T16:49:46.714Z"
      },
      {
        "duration": 6,
        "start_time": "2021-12-17T16:49:47.206Z"
      },
      {
        "duration": 668,
        "start_time": "2021-12-17T16:50:08.689Z"
      },
      {
        "duration": 11,
        "start_time": "2021-12-17T16:50:09.358Z"
      },
      {
        "duration": 2,
        "start_time": "2021-12-17T16:50:09.371Z"
      },
      {
        "duration": 21,
        "start_time": "2021-12-17T16:50:09.391Z"
      },
      {
        "duration": 9,
        "start_time": "2021-12-17T16:50:09.414Z"
      },
      {
        "duration": 4,
        "start_time": "2021-12-17T16:50:09.424Z"
      },
      {
        "duration": 5,
        "start_time": "2021-12-17T16:50:09.430Z"
      },
      {
        "duration": 13,
        "start_time": "2021-12-17T16:50:09.437Z"
      },
      {
        "duration": 41,
        "start_time": "2021-12-17T16:50:09.453Z"
      },
      {
        "duration": 4,
        "start_time": "2021-12-17T16:50:09.497Z"
      },
      {
        "duration": 5,
        "start_time": "2021-12-17T16:50:09.503Z"
      },
      {
        "duration": 3,
        "start_time": "2021-12-17T16:50:09.510Z"
      },
      {
        "duration": 10,
        "start_time": "2021-12-17T16:50:09.515Z"
      },
      {
        "duration": 5,
        "start_time": "2021-12-17T16:50:09.527Z"
      },
      {
        "duration": 114,
        "start_time": "2021-12-19T05:48:58.945Z"
      },
      {
        "duration": 855,
        "start_time": "2021-12-19T05:49:05.196Z"
      },
      {
        "duration": 18,
        "start_time": "2021-12-19T05:49:06.053Z"
      },
      {
        "duration": 3,
        "start_time": "2021-12-19T05:49:06.074Z"
      },
      {
        "duration": 37,
        "start_time": "2021-12-19T05:49:06.080Z"
      },
      {
        "duration": 45,
        "start_time": "2021-12-19T05:49:06.120Z"
      },
      {
        "duration": 5,
        "start_time": "2021-12-19T05:49:06.167Z"
      },
      {
        "duration": 6,
        "start_time": "2021-12-19T05:49:06.175Z"
      },
      {
        "duration": 18,
        "start_time": "2021-12-19T05:49:06.184Z"
      },
      {
        "duration": 12,
        "start_time": "2021-12-19T05:49:06.205Z"
      },
      {
        "duration": 43,
        "start_time": "2021-12-19T05:49:06.219Z"
      },
      {
        "duration": 6,
        "start_time": "2021-12-19T05:49:06.265Z"
      },
      {
        "duration": 149,
        "start_time": "2021-12-19T05:49:06.274Z"
      },
      {
        "duration": 753,
        "start_time": "2021-12-19T05:49:05.673Z"
      },
      {
        "duration": 749,
        "start_time": "2021-12-19T05:49:05.678Z"
      },
      {
        "duration": 4,
        "start_time": "2021-12-19T05:49:50.257Z"
      },
      {
        "duration": 14,
        "start_time": "2021-12-19T05:49:51.056Z"
      },
      {
        "duration": 7,
        "start_time": "2021-12-19T05:49:51.673Z"
      },
      {
        "duration": 4,
        "start_time": "2021-12-19T05:50:53.331Z"
      },
      {
        "duration": 13,
        "start_time": "2021-12-19T05:50:53.945Z"
      },
      {
        "duration": 6,
        "start_time": "2021-12-19T05:50:54.571Z"
      },
      {
        "duration": 4,
        "start_time": "2021-12-19T05:51:38.387Z"
      },
      {
        "duration": 13,
        "start_time": "2021-12-19T05:51:39.104Z"
      },
      {
        "duration": 6,
        "start_time": "2021-12-19T05:51:39.616Z"
      },
      {
        "duration": 5,
        "start_time": "2021-12-19T05:51:54.668Z"
      },
      {
        "duration": 13,
        "start_time": "2021-12-19T05:51:55.283Z"
      },
      {
        "duration": 7,
        "start_time": "2021-12-19T05:51:55.692Z"
      },
      {
        "duration": 416,
        "start_time": "2021-12-19T05:54:45.883Z"
      },
      {
        "duration": 8,
        "start_time": "2021-12-19T05:54:52.846Z"
      },
      {
        "duration": 328,
        "start_time": "2021-12-19T05:56:06.998Z"
      },
      {
        "duration": 11,
        "start_time": "2021-12-19T05:56:22.651Z"
      },
      {
        "duration": 6,
        "start_time": "2021-12-19T05:56:43.549Z"
      },
      {
        "duration": 929,
        "start_time": "2021-12-19T06:14:17.521Z"
      },
      {
        "duration": 22,
        "start_time": "2021-12-19T06:14:18.453Z"
      },
      {
        "duration": 3,
        "start_time": "2021-12-19T06:14:18.478Z"
      },
      {
        "duration": 40,
        "start_time": "2021-12-19T06:14:18.484Z"
      },
      {
        "duration": 38,
        "start_time": "2021-12-19T06:14:18.526Z"
      },
      {
        "duration": 6,
        "start_time": "2021-12-19T06:14:18.567Z"
      },
      {
        "duration": 8,
        "start_time": "2021-12-19T06:14:18.575Z"
      },
      {
        "duration": 17,
        "start_time": "2021-12-19T06:14:18.586Z"
      },
      {
        "duration": 11,
        "start_time": "2021-12-19T06:14:18.606Z"
      },
      {
        "duration": 41,
        "start_time": "2021-12-19T06:14:18.619Z"
      },
      {
        "duration": 13,
        "start_time": "2021-12-19T06:14:18.662Z"
      },
      {
        "duration": 7,
        "start_time": "2021-12-19T06:14:18.677Z"
      },
      {
        "duration": 913,
        "start_time": "2021-12-19T06:18:21.773Z"
      },
      {
        "duration": 18,
        "start_time": "2021-12-19T06:18:22.689Z"
      },
      {
        "duration": 3,
        "start_time": "2021-12-19T06:18:22.710Z"
      },
      {
        "duration": 59,
        "start_time": "2021-12-19T06:18:22.716Z"
      },
      {
        "duration": 13,
        "start_time": "2021-12-19T06:18:22.777Z"
      },
      {
        "duration": 5,
        "start_time": "2021-12-19T06:18:22.792Z"
      },
      {
        "duration": 6,
        "start_time": "2021-12-19T06:18:22.799Z"
      },
      {
        "duration": 55,
        "start_time": "2021-12-19T06:18:22.808Z"
      },
      {
        "duration": 13,
        "start_time": "2021-12-19T06:18:22.866Z"
      },
      {
        "duration": 13,
        "start_time": "2021-12-19T06:22:35.822Z"
      },
      {
        "duration": 13,
        "start_time": "2021-12-19T06:23:37.780Z"
      },
      {
        "duration": 106,
        "start_time": "2021-12-19T06:24:25.499Z"
      },
      {
        "duration": 119,
        "start_time": "2021-12-19T06:24:35.433Z"
      },
      {
        "duration": 19,
        "start_time": "2021-12-19T06:24:35.555Z"
      },
      {
        "duration": 4,
        "start_time": "2021-12-19T06:24:35.576Z"
      },
      {
        "duration": 34,
        "start_time": "2021-12-19T06:24:35.582Z"
      },
      {
        "duration": 41,
        "start_time": "2021-12-19T06:24:35.619Z"
      },
      {
        "duration": 11,
        "start_time": "2021-12-19T06:24:35.663Z"
      },
      {
        "duration": 4,
        "start_time": "2021-12-19T06:24:35.676Z"
      },
      {
        "duration": 7,
        "start_time": "2021-12-19T06:24:35.739Z"
      },
      {
        "duration": 17,
        "start_time": "2021-12-19T06:24:35.748Z"
      },
      {
        "duration": 12,
        "start_time": "2021-12-19T06:24:35.769Z"
      },
      {
        "duration": 892,
        "start_time": "2021-12-19T06:24:49.463Z"
      },
      {
        "duration": 17,
        "start_time": "2021-12-19T06:24:50.358Z"
      },
      {
        "duration": 3,
        "start_time": "2021-12-19T06:24:50.378Z"
      },
      {
        "duration": 35,
        "start_time": "2021-12-19T06:24:50.384Z"
      },
      {
        "duration": 43,
        "start_time": "2021-12-19T06:24:50.421Z"
      },
      {
        "duration": 13,
        "start_time": "2021-12-19T06:24:50.466Z"
      },
      {
        "duration": 6,
        "start_time": "2021-12-19T06:24:50.481Z"
      },
      {
        "duration": 8,
        "start_time": "2021-12-19T06:24:50.489Z"
      },
      {
        "duration": 72,
        "start_time": "2021-12-19T06:24:50.500Z"
      },
      {
        "duration": 12,
        "start_time": "2021-12-19T06:24:50.575Z"
      },
      {
        "duration": 5,
        "start_time": "2021-12-19T06:59:02.650Z"
      },
      {
        "duration": 6,
        "start_time": "2021-12-19T06:59:24.337Z"
      },
      {
        "duration": 7,
        "start_time": "2021-12-19T06:59:40.713Z"
      },
      {
        "duration": 12,
        "start_time": "2021-12-19T07:08:54.180Z"
      },
      {
        "duration": 6,
        "start_time": "2021-12-19T07:09:06.620Z"
      },
      {
        "duration": 5,
        "start_time": "2021-12-19T07:13:10.515Z"
      },
      {
        "duration": 8,
        "start_time": "2021-12-19T07:13:10.523Z"
      },
      {
        "duration": 5,
        "start_time": "2021-12-19T07:13:20.356Z"
      },
      {
        "duration": 6,
        "start_time": "2021-12-19T07:13:20.779Z"
      },
      {
        "duration": 108,
        "start_time": "2021-12-19T10:05:54.760Z"
      },
      {
        "duration": 17,
        "start_time": "2021-12-19T10:05:54.871Z"
      },
      {
        "duration": 4,
        "start_time": "2021-12-19T10:05:54.890Z"
      },
      {
        "duration": 33,
        "start_time": "2021-12-19T10:05:54.897Z"
      },
      {
        "duration": 36,
        "start_time": "2021-12-19T10:05:54.933Z"
      },
      {
        "duration": 12,
        "start_time": "2021-12-19T10:05:54.972Z"
      },
      {
        "duration": 4,
        "start_time": "2021-12-19T10:05:54.987Z"
      },
      {
        "duration": 8,
        "start_time": "2021-12-19T10:05:54.994Z"
      },
      {
        "duration": 17,
        "start_time": "2021-12-19T10:05:55.004Z"
      },
      {
        "duration": 37,
        "start_time": "2021-12-19T10:05:55.023Z"
      },
      {
        "duration": 6,
        "start_time": "2021-12-19T10:05:55.063Z"
      },
      {
        "duration": 10,
        "start_time": "2021-12-19T10:05:55.071Z"
      },
      {
        "duration": 7,
        "start_time": "2021-12-19T10:05:55.084Z"
      },
      {
        "duration": 6,
        "start_time": "2021-12-19T10:05:55.093Z"
      },
      {
        "duration": 878,
        "start_time": "2021-12-19T10:48:14.557Z"
      },
      {
        "duration": 31,
        "start_time": "2021-12-19T10:48:15.439Z"
      },
      {
        "duration": 4,
        "start_time": "2021-12-19T10:48:15.474Z"
      },
      {
        "duration": 32,
        "start_time": "2021-12-19T10:48:15.481Z"
      },
      {
        "duration": 48,
        "start_time": "2021-12-19T10:48:15.516Z"
      },
      {
        "duration": 11,
        "start_time": "2021-12-19T10:48:15.567Z"
      },
      {
        "duration": 4,
        "start_time": "2021-12-19T10:48:15.580Z"
      },
      {
        "duration": 5,
        "start_time": "2021-12-19T10:48:15.588Z"
      },
      {
        "duration": 16,
        "start_time": "2021-12-19T10:48:15.595Z"
      },
      {
        "duration": 52,
        "start_time": "2021-12-19T10:48:15.613Z"
      },
      {
        "duration": 6,
        "start_time": "2021-12-19T10:48:15.668Z"
      },
      {
        "duration": 9,
        "start_time": "2021-12-19T10:48:15.677Z"
      },
      {
        "duration": 8,
        "start_time": "2021-12-19T10:48:15.689Z"
      },
      {
        "duration": 7,
        "start_time": "2021-12-19T10:48:15.700Z"
      },
      {
        "duration": 6,
        "start_time": "2021-12-19T11:06:11.071Z"
      },
      {
        "duration": 6,
        "start_time": "2021-12-19T11:06:30.274Z"
      },
      {
        "duration": 652,
        "start_time": "2021-12-20T11:38:21.777Z"
      },
      {
        "duration": 13,
        "start_time": "2021-12-20T11:38:22.431Z"
      },
      {
        "duration": 3,
        "start_time": "2021-12-20T11:38:22.446Z"
      },
      {
        "duration": 42,
        "start_time": "2021-12-20T11:38:22.451Z"
      },
      {
        "duration": 11,
        "start_time": "2021-12-20T11:38:22.495Z"
      },
      {
        "duration": 10,
        "start_time": "2021-12-20T11:38:22.507Z"
      },
      {
        "duration": 4,
        "start_time": "2021-12-20T11:38:22.519Z"
      },
      {
        "duration": 5,
        "start_time": "2021-12-20T11:38:22.525Z"
      },
      {
        "duration": 12,
        "start_time": "2021-12-20T11:38:22.532Z"
      },
      {
        "duration": 49,
        "start_time": "2021-12-20T11:38:22.546Z"
      },
      {
        "duration": 6,
        "start_time": "2021-12-20T11:38:22.596Z"
      },
      {
        "duration": 8,
        "start_time": "2021-12-20T11:38:22.604Z"
      },
      {
        "duration": 7,
        "start_time": "2021-12-20T11:38:22.613Z"
      },
      {
        "duration": 4,
        "start_time": "2021-12-20T11:38:22.622Z"
      },
      {
        "duration": 4,
        "start_time": "2021-12-20T11:38:22.628Z"
      },
      {
        "duration": 5,
        "start_time": "2021-12-20T11:38:22.634Z"
      },
      {
        "duration": 96,
        "start_time": "2021-12-20T11:55:05.139Z"
      },
      {
        "duration": 717,
        "start_time": "2021-12-20T11:55:24.450Z"
      },
      {
        "duration": 22,
        "start_time": "2021-12-20T11:55:25.169Z"
      },
      {
        "duration": 10,
        "start_time": "2021-12-20T11:55:25.193Z"
      },
      {
        "duration": 2,
        "start_time": "2021-12-20T11:55:25.205Z"
      },
      {
        "duration": 20,
        "start_time": "2021-12-20T11:55:25.209Z"
      },
      {
        "duration": 10,
        "start_time": "2021-12-20T11:55:25.230Z"
      },
      {
        "duration": 8,
        "start_time": "2021-12-20T11:55:25.241Z"
      },
      {
        "duration": 38,
        "start_time": "2021-12-20T11:55:25.251Z"
      },
      {
        "duration": 6,
        "start_time": "2021-12-20T11:55:25.291Z"
      },
      {
        "duration": 12,
        "start_time": "2021-12-20T11:55:25.298Z"
      },
      {
        "duration": 7,
        "start_time": "2021-12-20T11:55:25.311Z"
      },
      {
        "duration": 4,
        "start_time": "2021-12-20T11:55:25.319Z"
      },
      {
        "duration": 7,
        "start_time": "2021-12-20T11:55:25.325Z"
      },
      {
        "duration": 7,
        "start_time": "2021-12-20T11:55:25.333Z"
      },
      {
        "duration": 7,
        "start_time": "2021-12-20T11:55:25.341Z"
      },
      {
        "duration": 5,
        "start_time": "2021-12-20T11:55:25.350Z"
      },
      {
        "duration": 32,
        "start_time": "2021-12-20T11:55:25.357Z"
      },
      {
        "duration": 329,
        "start_time": "2021-12-20T12:05:51.693Z"
      },
      {
        "duration": 5,
        "start_time": "2021-12-20T12:05:58.133Z"
      },
      {
        "duration": 4,
        "start_time": "2021-12-20T12:06:07.026Z"
      },
      {
        "duration": 5,
        "start_time": "2021-12-20T12:06:07.459Z"
      },
      {
        "duration": 5,
        "start_time": "2021-12-20T12:06:07.872Z"
      },
      {
        "duration": 635,
        "start_time": "2021-12-20T12:06:15.286Z"
      },
      {
        "duration": 25,
        "start_time": "2021-12-20T12:06:15.923Z"
      },
      {
        "duration": 14,
        "start_time": "2021-12-20T12:06:15.950Z"
      },
      {
        "duration": 3,
        "start_time": "2021-12-20T12:06:15.965Z"
      },
      {
        "duration": 34,
        "start_time": "2021-12-20T12:06:15.969Z"
      },
      {
        "duration": 16,
        "start_time": "2021-12-20T12:06:16.004Z"
      },
      {
        "duration": 8,
        "start_time": "2021-12-20T12:06:16.022Z"
      },
      {
        "duration": 4,
        "start_time": "2021-12-20T12:06:16.032Z"
      },
      {
        "duration": 9,
        "start_time": "2021-12-20T12:06:16.038Z"
      },
      {
        "duration": 13,
        "start_time": "2021-12-20T12:06:16.049Z"
      },
      {
        "duration": 29,
        "start_time": "2021-12-20T12:06:16.063Z"
      },
      {
        "duration": 6,
        "start_time": "2021-12-20T12:06:16.093Z"
      },
      {
        "duration": 7,
        "start_time": "2021-12-20T12:06:16.100Z"
      },
      {
        "duration": 3,
        "start_time": "2021-12-20T12:06:16.109Z"
      },
      {
        "duration": 5,
        "start_time": "2021-12-20T12:06:16.114Z"
      },
      {
        "duration": 5,
        "start_time": "2021-12-20T12:06:16.120Z"
      },
      {
        "duration": 4,
        "start_time": "2021-12-20T12:06:16.126Z"
      },
      {
        "duration": 5,
        "start_time": "2021-12-20T12:06:16.132Z"
      },
      {
        "duration": 254,
        "start_time": "2021-12-20T12:11:55.617Z"
      },
      {
        "duration": 203,
        "start_time": "2021-12-20T12:14:03.937Z"
      },
      {
        "duration": 191,
        "start_time": "2021-12-20T12:14:30.317Z"
      },
      {
        "duration": 202,
        "start_time": "2021-12-20T12:14:47.195Z"
      },
      {
        "duration": 7,
        "start_time": "2021-12-20T12:16:53.748Z"
      },
      {
        "duration": 18,
        "start_time": "2021-12-20T12:17:06.395Z"
      },
      {
        "duration": 8,
        "start_time": "2021-12-20T12:25:41.646Z"
      },
      {
        "duration": 80,
        "start_time": "2021-12-20T12:28:10.351Z"
      },
      {
        "duration": 20,
        "start_time": "2021-12-20T12:28:10.433Z"
      },
      {
        "duration": 33,
        "start_time": "2021-12-20T12:28:10.455Z"
      },
      {
        "duration": 3,
        "start_time": "2021-12-20T12:28:10.490Z"
      },
      {
        "duration": 20,
        "start_time": "2021-12-20T12:28:10.495Z"
      },
      {
        "duration": 9,
        "start_time": "2021-12-20T12:28:10.517Z"
      },
      {
        "duration": 9,
        "start_time": "2021-12-20T12:28:10.527Z"
      },
      {
        "duration": 3,
        "start_time": "2021-12-20T12:28:10.539Z"
      },
      {
        "duration": 13,
        "start_time": "2021-12-20T12:28:10.544Z"
      },
      {
        "duration": 39,
        "start_time": "2021-12-20T12:28:10.558Z"
      },
      {
        "duration": 8,
        "start_time": "2021-12-20T12:28:10.598Z"
      },
      {
        "duration": 9,
        "start_time": "2021-12-20T12:28:10.607Z"
      },
      {
        "duration": 10,
        "start_time": "2021-12-20T12:28:10.617Z"
      },
      {
        "duration": 10,
        "start_time": "2021-12-20T12:28:10.628Z"
      },
      {
        "duration": 10,
        "start_time": "2021-12-20T12:28:10.640Z"
      },
      {
        "duration": 9,
        "start_time": "2021-12-20T12:28:10.652Z"
      },
      {
        "duration": 11,
        "start_time": "2021-12-20T12:28:10.663Z"
      },
      {
        "duration": 26,
        "start_time": "2021-12-20T12:28:10.676Z"
      },
      {
        "duration": 653,
        "start_time": "2021-12-20T14:32:56.995Z"
      },
      {
        "duration": 42,
        "start_time": "2021-12-20T14:32:57.650Z"
      },
      {
        "duration": 17,
        "start_time": "2021-12-20T14:32:57.694Z"
      },
      {
        "duration": 3,
        "start_time": "2021-12-20T14:32:57.713Z"
      },
      {
        "duration": 56,
        "start_time": "2021-12-20T14:32:57.718Z"
      },
      {
        "duration": 12,
        "start_time": "2021-12-20T14:32:57.776Z"
      },
      {
        "duration": 12,
        "start_time": "2021-12-20T14:32:57.790Z"
      },
      {
        "duration": 4,
        "start_time": "2021-12-20T14:32:57.805Z"
      },
      {
        "duration": 6,
        "start_time": "2021-12-20T14:32:57.811Z"
      },
      {
        "duration": 57,
        "start_time": "2021-12-20T14:32:57.819Z"
      },
      {
        "duration": 12,
        "start_time": "2021-12-20T14:32:57.878Z"
      },
      {
        "duration": 8,
        "start_time": "2021-12-20T14:32:57.892Z"
      },
      {
        "duration": 13,
        "start_time": "2021-12-20T14:32:57.901Z"
      },
      {
        "duration": 6,
        "start_time": "2021-12-20T14:32:57.915Z"
      },
      {
        "duration": 4,
        "start_time": "2021-12-20T14:32:57.923Z"
      },
      {
        "duration": 33,
        "start_time": "2021-12-20T14:32:57.929Z"
      },
      {
        "duration": 15,
        "start_time": "2021-12-20T14:32:57.963Z"
      },
      {
        "duration": 19,
        "start_time": "2021-12-20T14:32:57.979Z"
      },
      {
        "duration": 718,
        "start_time": "2021-12-22T12:11:49.922Z"
      },
      {
        "duration": 28,
        "start_time": "2021-12-22T12:11:50.642Z"
      },
      {
        "duration": 12,
        "start_time": "2021-12-22T12:11:50.672Z"
      },
      {
        "duration": 3,
        "start_time": "2021-12-22T12:11:50.686Z"
      },
      {
        "duration": 23,
        "start_time": "2021-12-22T12:11:50.691Z"
      },
      {
        "duration": 12,
        "start_time": "2021-12-22T12:11:50.716Z"
      },
      {
        "duration": 36,
        "start_time": "2021-12-22T12:11:50.729Z"
      },
      {
        "duration": 4,
        "start_time": "2021-12-22T12:11:50.767Z"
      },
      {
        "duration": 14,
        "start_time": "2021-12-22T12:11:50.773Z"
      },
      {
        "duration": 15,
        "start_time": "2021-12-22T12:11:50.788Z"
      },
      {
        "duration": 10,
        "start_time": "2021-12-22T12:11:50.805Z"
      },
      {
        "duration": 260,
        "start_time": "2021-12-22T12:11:50.817Z"
      },
      {
        "duration": 1563,
        "start_time": "2021-12-22T12:11:49.516Z"
      },
      {
        "duration": 1559,
        "start_time": "2021-12-22T12:11:49.521Z"
      },
      {
        "duration": 1550,
        "start_time": "2021-12-22T12:11:49.531Z"
      },
      {
        "duration": 1536,
        "start_time": "2021-12-22T12:11:49.546Z"
      },
      {
        "duration": 1504,
        "start_time": "2021-12-22T12:11:49.579Z"
      },
      {
        "duration": 1498,
        "start_time": "2021-12-22T12:11:49.586Z"
      },
      {
        "duration": 699,
        "start_time": "2021-12-22T12:11:55.078Z"
      },
      {
        "duration": 25,
        "start_time": "2021-12-22T12:11:55.778Z"
      },
      {
        "duration": 19,
        "start_time": "2021-12-22T12:11:55.805Z"
      },
      {
        "duration": 2,
        "start_time": "2021-12-22T12:11:55.826Z"
      },
      {
        "duration": 47,
        "start_time": "2021-12-22T12:11:55.830Z"
      },
      {
        "duration": 12,
        "start_time": "2021-12-22T12:11:55.879Z"
      },
      {
        "duration": 9,
        "start_time": "2021-12-22T12:11:55.893Z"
      },
      {
        "duration": 5,
        "start_time": "2021-12-22T12:11:55.905Z"
      },
      {
        "duration": 6,
        "start_time": "2021-12-22T12:11:55.913Z"
      },
      {
        "duration": 44,
        "start_time": "2021-12-22T12:11:55.921Z"
      },
      {
        "duration": 13,
        "start_time": "2021-12-22T12:11:55.968Z"
      },
      {
        "duration": 323,
        "start_time": "2021-12-22T12:11:55.984Z"
      },
      {
        "duration": 1654,
        "start_time": "2021-12-22T12:11:54.656Z"
      },
      {
        "duration": 1644,
        "start_time": "2021-12-22T12:11:54.667Z"
      },
      {
        "duration": 1632,
        "start_time": "2021-12-22T12:11:54.681Z"
      },
      {
        "duration": 1620,
        "start_time": "2021-12-22T12:11:54.694Z"
      },
      {
        "duration": 1614,
        "start_time": "2021-12-22T12:11:54.701Z"
      },
      {
        "duration": 1610,
        "start_time": "2021-12-22T12:11:54.707Z"
      },
      {
        "duration": 4,
        "start_time": "2021-12-22T12:12:18.196Z"
      },
      {
        "duration": 6,
        "start_time": "2021-12-22T12:12:18.995Z"
      },
      {
        "duration": 7,
        "start_time": "2021-12-22T12:12:20.161Z"
      },
      {
        "duration": 4,
        "start_time": "2021-12-22T12:12:25.867Z"
      },
      {
        "duration": 6,
        "start_time": "2021-12-22T12:12:26.393Z"
      },
      {
        "duration": 8,
        "start_time": "2021-12-22T12:12:29.944Z"
      },
      {
        "duration": 22,
        "start_time": "2021-12-22T12:12:30.408Z"
      },
      {
        "duration": 11,
        "start_time": "2021-12-22T12:13:49.998Z"
      },
      {
        "duration": 6,
        "start_time": "2021-12-22T12:13:51.285Z"
      },
      {
        "duration": 5,
        "start_time": "2021-12-22T12:13:56.267Z"
      },
      {
        "duration": 711,
        "start_time": "2021-12-22T12:14:06.206Z"
      },
      {
        "duration": 26,
        "start_time": "2021-12-22T12:14:06.919Z"
      },
      {
        "duration": 18,
        "start_time": "2021-12-22T12:14:06.948Z"
      },
      {
        "duration": 4,
        "start_time": "2021-12-22T12:14:06.968Z"
      },
      {
        "duration": 27,
        "start_time": "2021-12-22T12:14:06.973Z"
      },
      {
        "duration": 13,
        "start_time": "2021-12-22T12:14:07.001Z"
      },
      {
        "duration": 12,
        "start_time": "2021-12-22T12:14:07.016Z"
      },
      {
        "duration": 33,
        "start_time": "2021-12-22T12:14:07.031Z"
      },
      {
        "duration": 6,
        "start_time": "2021-12-22T12:14:07.067Z"
      },
      {
        "duration": 15,
        "start_time": "2021-12-22T12:14:07.075Z"
      },
      {
        "duration": 9,
        "start_time": "2021-12-22T12:14:07.092Z"
      },
      {
        "duration": 4,
        "start_time": "2021-12-22T12:14:07.103Z"
      },
      {
        "duration": 10,
        "start_time": "2021-12-22T12:14:07.109Z"
      },
      {
        "duration": 42,
        "start_time": "2021-12-22T12:14:07.121Z"
      },
      {
        "duration": 8,
        "start_time": "2021-12-22T12:14:07.165Z"
      },
      {
        "duration": 7,
        "start_time": "2021-12-22T12:14:07.175Z"
      },
      {
        "duration": 5,
        "start_time": "2021-12-22T12:14:07.184Z"
      },
      {
        "duration": 10,
        "start_time": "2021-12-22T12:14:07.190Z"
      },
      {
        "duration": 20,
        "start_time": "2021-12-22T12:14:07.201Z"
      },
      {
        "duration": 14,
        "start_time": "2021-12-22T12:26:55.963Z"
      },
      {
        "duration": 4,
        "start_time": "2021-12-22T12:30:12.404Z"
      },
      {
        "duration": 33,
        "start_time": "2021-12-22T12:31:02.388Z"
      },
      {
        "duration": 291,
        "start_time": "2021-12-22T12:34:15.304Z"
      },
      {
        "duration": 256,
        "start_time": "2021-12-22T12:34:40.773Z"
      },
      {
        "duration": 24,
        "start_time": "2021-12-22T12:34:44.844Z"
      },
      {
        "duration": 7,
        "start_time": "2021-12-22T12:35:59.644Z"
      },
      {
        "duration": 208,
        "start_time": "2021-12-22T12:43:43.671Z"
      },
      {
        "duration": 206,
        "start_time": "2021-12-22T12:43:48.020Z"
      },
      {
        "duration": 193,
        "start_time": "2021-12-22T12:44:09.762Z"
      },
      {
        "duration": 205,
        "start_time": "2021-12-22T12:44:20.924Z"
      },
      {
        "duration": 67,
        "start_time": "2021-12-22T12:44:24.152Z"
      },
      {
        "duration": 233,
        "start_time": "2021-12-22T12:44:42.951Z"
      },
      {
        "duration": 221,
        "start_time": "2021-12-22T12:45:23.556Z"
      },
      {
        "duration": 10,
        "start_time": "2021-12-22T12:45:35.448Z"
      },
      {
        "duration": 664,
        "start_time": "2021-12-22T12:45:46.100Z"
      },
      {
        "duration": 25,
        "start_time": "2021-12-22T12:45:46.765Z"
      },
      {
        "duration": 14,
        "start_time": "2021-12-22T12:45:46.794Z"
      },
      {
        "duration": 3,
        "start_time": "2021-12-22T12:45:46.810Z"
      },
      {
        "duration": 53,
        "start_time": "2021-12-22T12:45:46.814Z"
      },
      {
        "duration": 28,
        "start_time": "2021-12-22T12:45:46.869Z"
      },
      {
        "duration": 10,
        "start_time": "2021-12-22T12:45:46.899Z"
      },
      {
        "duration": 5,
        "start_time": "2021-12-22T12:45:46.911Z"
      },
      {
        "duration": 9,
        "start_time": "2021-12-22T12:45:46.918Z"
      },
      {
        "duration": 15,
        "start_time": "2021-12-22T12:45:46.928Z"
      },
      {
        "duration": 11,
        "start_time": "2021-12-22T12:45:46.945Z"
      },
      {
        "duration": 22,
        "start_time": "2021-12-22T12:45:46.961Z"
      },
      {
        "duration": 336,
        "start_time": "2021-12-22T12:45:46.985Z"
      },
      {
        "duration": 1510,
        "start_time": "2021-12-22T12:45:45.813Z"
      },
      {
        "duration": 1503,
        "start_time": "2021-12-22T12:45:45.822Z"
      },
      {
        "duration": 1495,
        "start_time": "2021-12-22T12:45:45.831Z"
      },
      {
        "duration": 1491,
        "start_time": "2021-12-22T12:45:45.836Z"
      },
      {
        "duration": 1485,
        "start_time": "2021-12-22T12:45:45.843Z"
      },
      {
        "duration": 1478,
        "start_time": "2021-12-22T12:45:45.851Z"
      },
      {
        "duration": 1473,
        "start_time": "2021-12-22T12:45:45.858Z"
      },
      {
        "duration": 1497,
        "start_time": "2021-12-22T12:45:45.863Z"
      },
      {
        "duration": 1487,
        "start_time": "2021-12-22T12:45:45.874Z"
      },
      {
        "duration": 1403,
        "start_time": "2021-12-22T12:45:45.959Z"
      },
      {
        "duration": 1399,
        "start_time": "2021-12-22T12:45:45.964Z"
      },
      {
        "duration": 7,
        "start_time": "2021-12-22T12:46:14.405Z"
      },
      {
        "duration": 5,
        "start_time": "2021-12-22T12:46:16.534Z"
      },
      {
        "duration": 5,
        "start_time": "2021-12-22T12:46:16.948Z"
      },
      {
        "duration": 712,
        "start_time": "2021-12-22T12:46:21.427Z"
      },
      {
        "duration": 30,
        "start_time": "2021-12-22T12:46:22.140Z"
      },
      {
        "duration": 16,
        "start_time": "2021-12-22T12:46:22.172Z"
      },
      {
        "duration": 2,
        "start_time": "2021-12-22T12:46:22.190Z"
      },
      {
        "duration": 27,
        "start_time": "2021-12-22T12:46:22.194Z"
      },
      {
        "duration": 12,
        "start_time": "2021-12-22T12:46:22.222Z"
      },
      {
        "duration": 32,
        "start_time": "2021-12-22T12:46:22.236Z"
      },
      {
        "duration": 5,
        "start_time": "2021-12-22T12:46:22.270Z"
      },
      {
        "duration": 9,
        "start_time": "2021-12-22T12:46:22.277Z"
      },
      {
        "duration": 20,
        "start_time": "2021-12-22T12:46:22.287Z"
      },
      {
        "duration": 8,
        "start_time": "2021-12-22T12:46:22.309Z"
      },
      {
        "duration": 44,
        "start_time": "2021-12-22T12:46:22.319Z"
      },
      {
        "duration": 8,
        "start_time": "2021-12-22T12:46:22.365Z"
      },
      {
        "duration": 5,
        "start_time": "2021-12-22T12:46:22.375Z"
      },
      {
        "duration": 12,
        "start_time": "2021-12-22T12:46:22.382Z"
      },
      {
        "duration": 11,
        "start_time": "2021-12-22T12:46:22.396Z"
      },
      {
        "duration": 8,
        "start_time": "2021-12-22T12:46:22.408Z"
      },
      {
        "duration": 8,
        "start_time": "2021-12-22T12:46:22.418Z"
      },
      {
        "duration": 308,
        "start_time": "2021-12-22T12:46:22.427Z"
      },
      {
        "duration": 1557,
        "start_time": "2021-12-22T12:46:21.180Z"
      },
      {
        "duration": 1551,
        "start_time": "2021-12-22T12:46:21.187Z"
      },
      {
        "duration": 1545,
        "start_time": "2021-12-22T12:46:21.194Z"
      },
      {
        "duration": 1541,
        "start_time": "2021-12-22T12:46:21.199Z"
      },
      {
        "duration": 1535,
        "start_time": "2021-12-22T12:46:21.206Z"
      },
      {
        "duration": 249,
        "start_time": "2021-12-22T12:46:47.022Z"
      },
      {
        "duration": 9,
        "start_time": "2021-12-22T12:46:55.755Z"
      },
      {
        "duration": 221,
        "start_time": "2021-12-22T12:47:14.305Z"
      },
      {
        "duration": 13,
        "start_time": "2021-12-22T12:48:11.135Z"
      },
      {
        "duration": 7,
        "start_time": "2021-12-22T12:49:04.102Z"
      },
      {
        "duration": 3,
        "start_time": "2021-12-22T12:51:24.245Z"
      },
      {
        "duration": 6,
        "start_time": "2021-12-22T12:51:31.651Z"
      },
      {
        "duration": 3,
        "start_time": "2021-12-22T12:53:46.226Z"
      },
      {
        "duration": 8,
        "start_time": "2021-12-22T12:54:13.618Z"
      },
      {
        "duration": 18,
        "start_time": "2021-12-22T12:54:58.648Z"
      },
      {
        "duration": 17,
        "start_time": "2021-12-22T12:56:43.411Z"
      },
      {
        "duration": 7,
        "start_time": "2021-12-22T12:56:44.706Z"
      },
      {
        "duration": 9,
        "start_time": "2021-12-22T12:57:34.344Z"
      },
      {
        "duration": 26,
        "start_time": "2021-12-22T12:57:34.781Z"
      },
      {
        "duration": 710,
        "start_time": "2021-12-22T12:57:40.339Z"
      },
      {
        "duration": 25,
        "start_time": "2021-12-22T12:57:41.051Z"
      },
      {
        "duration": 16,
        "start_time": "2021-12-22T12:57:41.078Z"
      },
      {
        "duration": 3,
        "start_time": "2021-12-22T12:57:41.097Z"
      },
      {
        "duration": 24,
        "start_time": "2021-12-22T12:57:41.102Z"
      },
      {
        "duration": 40,
        "start_time": "2021-12-22T12:57:41.128Z"
      },
      {
        "duration": 11,
        "start_time": "2021-12-22T12:57:41.170Z"
      },
      {
        "duration": 3,
        "start_time": "2021-12-22T12:57:41.184Z"
      },
      {
        "duration": 8,
        "start_time": "2021-12-22T12:57:41.189Z"
      },
      {
        "duration": 22,
        "start_time": "2021-12-22T12:57:41.199Z"
      },
      {
        "duration": 41,
        "start_time": "2021-12-22T12:57:41.223Z"
      },
      {
        "duration": 13,
        "start_time": "2021-12-22T12:57:41.265Z"
      },
      {
        "duration": 14,
        "start_time": "2021-12-22T12:57:41.280Z"
      },
      {
        "duration": 11,
        "start_time": "2021-12-22T12:57:41.296Z"
      },
      {
        "duration": 9,
        "start_time": "2021-12-22T12:57:41.310Z"
      },
      {
        "duration": 9,
        "start_time": "2021-12-22T12:57:41.321Z"
      },
      {
        "duration": 36,
        "start_time": "2021-12-22T12:57:41.331Z"
      },
      {
        "duration": 11,
        "start_time": "2021-12-22T12:57:41.369Z"
      },
      {
        "duration": 21,
        "start_time": "2021-12-22T12:57:41.382Z"
      },
      {
        "duration": 22,
        "start_time": "2021-12-22T12:57:41.405Z"
      },
      {
        "duration": 45,
        "start_time": "2021-12-22T12:57:41.429Z"
      },
      {
        "duration": 25,
        "start_time": "2021-12-22T12:57:41.476Z"
      },
      {
        "duration": 3,
        "start_time": "2021-12-22T14:54:24.904Z"
      },
      {
        "duration": 305,
        "start_time": "2021-12-22T14:54:57.824Z"
      },
      {
        "duration": 212,
        "start_time": "2021-12-22T14:55:29.408Z"
      },
      {
        "duration": 3,
        "start_time": "2021-12-22T14:55:57.546Z"
      },
      {
        "duration": 695,
        "start_time": "2021-12-22T14:55:58.070Z"
      },
      {
        "duration": 3,
        "start_time": "2021-12-22T14:56:38.720Z"
      },
      {
        "duration": 842,
        "start_time": "2021-12-22T14:56:39.434Z"
      },
      {
        "duration": 635,
        "start_time": "2021-12-22T15:06:18.808Z"
      },
      {
        "duration": 29,
        "start_time": "2021-12-22T15:06:19.445Z"
      },
      {
        "duration": 12,
        "start_time": "2021-12-22T15:06:19.476Z"
      },
      {
        "duration": 2,
        "start_time": "2021-12-22T15:06:19.490Z"
      },
      {
        "duration": 26,
        "start_time": "2021-12-22T15:06:19.494Z"
      },
      {
        "duration": 39,
        "start_time": "2021-12-22T15:06:19.522Z"
      },
      {
        "duration": 9,
        "start_time": "2021-12-22T15:06:19.563Z"
      },
      {
        "duration": 4,
        "start_time": "2021-12-22T15:06:19.574Z"
      },
      {
        "duration": 7,
        "start_time": "2021-12-22T15:06:19.580Z"
      },
      {
        "duration": 14,
        "start_time": "2021-12-22T15:06:19.588Z"
      },
      {
        "duration": 9,
        "start_time": "2021-12-22T15:06:19.604Z"
      },
      {
        "duration": 53,
        "start_time": "2021-12-22T15:06:19.615Z"
      },
      {
        "duration": 10,
        "start_time": "2021-12-22T15:06:19.670Z"
      },
      {
        "duration": 4,
        "start_time": "2021-12-22T15:06:19.682Z"
      },
      {
        "duration": 14,
        "start_time": "2021-12-22T15:06:19.688Z"
      },
      {
        "duration": 4,
        "start_time": "2021-12-22T15:06:19.704Z"
      },
      {
        "duration": 7,
        "start_time": "2021-12-22T15:06:19.710Z"
      },
      {
        "duration": 9,
        "start_time": "2021-12-22T15:06:19.718Z"
      },
      {
        "duration": 19,
        "start_time": "2021-12-22T15:06:19.761Z"
      },
      {
        "duration": 14,
        "start_time": "2021-12-22T15:06:19.782Z"
      },
      {
        "duration": 30,
        "start_time": "2021-12-22T15:06:19.798Z"
      },
      {
        "duration": 64,
        "start_time": "2021-12-22T15:06:19.830Z"
      },
      {
        "duration": 3,
        "start_time": "2021-12-22T15:06:19.899Z"
      },
      {
        "duration": 643,
        "start_time": "2021-12-22T15:06:19.904Z"
      },
      {
        "duration": 4,
        "start_time": "2021-12-22T15:07:11.412Z"
      },
      {
        "duration": 502,
        "start_time": "2021-12-22T15:07:12.022Z"
      },
      {
        "duration": 205,
        "start_time": "2021-12-22T15:07:36.860Z"
      },
      {
        "duration": 11,
        "start_time": "2021-12-22T15:07:43.279Z"
      },
      {
        "duration": 21,
        "start_time": "2021-12-22T15:07:58.966Z"
      },
      {
        "duration": 478,
        "start_time": "2021-12-22T15:08:49.193Z"
      },
      {
        "duration": 8,
        "start_time": "2021-12-22T15:08:54.064Z"
      },
      {
        "duration": 8,
        "start_time": "2021-12-22T15:14:07.365Z"
      },
      {
        "duration": 2,
        "start_time": "2021-12-22T15:14:34.100Z"
      },
      {
        "duration": 476,
        "start_time": "2021-12-22T15:16:52.824Z"
      },
      {
        "duration": 3,
        "start_time": "2021-12-22T15:18:51.737Z"
      },
      {
        "duration": 204,
        "start_time": "2021-12-22T15:20:07.958Z"
      },
      {
        "duration": 216,
        "start_time": "2021-12-22T15:20:17.352Z"
      },
      {
        "duration": 4,
        "start_time": "2021-12-22T15:21:08.449Z"
      },
      {
        "duration": 2955,
        "start_time": "2021-12-22T15:21:08.881Z"
      },
      {
        "duration": 22,
        "start_time": "2021-12-22T15:21:19.581Z"
      },
      {
        "duration": 625,
        "start_time": "2021-12-22T15:23:07.874Z"
      },
      {
        "duration": -30,
        "start_time": "2021-12-22T15:23:08.531Z"
      },
      {
        "duration": 500,
        "start_time": "2021-12-22T15:23:13.759Z"
      },
      {
        "duration": 716,
        "start_time": "2021-12-22T15:23:17.490Z"
      },
      {
        "duration": -42,
        "start_time": "2021-12-22T15:23:18.250Z"
      },
      {
        "duration": 300,
        "start_time": "2021-12-22T15:23:40.885Z"
      },
      {
        "duration": 26,
        "start_time": "2021-12-22T15:23:42.476Z"
      },
      {
        "duration": 680,
        "start_time": "2021-12-22T15:24:14.265Z"
      },
      {
        "duration": 26,
        "start_time": "2021-12-22T15:24:14.947Z"
      },
      {
        "duration": 18,
        "start_time": "2021-12-22T15:24:14.975Z"
      },
      {
        "duration": 3,
        "start_time": "2021-12-22T15:24:14.995Z"
      },
      {
        "duration": 39,
        "start_time": "2021-12-22T15:24:14.999Z"
      },
      {
        "duration": 40,
        "start_time": "2021-12-22T15:24:15.040Z"
      },
      {
        "duration": 16,
        "start_time": "2021-12-22T15:24:15.081Z"
      },
      {
        "duration": 6,
        "start_time": "2021-12-22T15:24:15.101Z"
      },
      {
        "duration": 7,
        "start_time": "2021-12-22T15:24:15.110Z"
      },
      {
        "duration": 21,
        "start_time": "2021-12-22T15:24:15.119Z"
      },
      {
        "duration": 9,
        "start_time": "2021-12-22T15:24:15.142Z"
      },
      {
        "duration": 17,
        "start_time": "2021-12-22T15:24:15.152Z"
      },
      {
        "duration": 14,
        "start_time": "2021-12-22T15:24:15.171Z"
      },
      {
        "duration": 4,
        "start_time": "2021-12-22T15:24:15.187Z"
      },
      {
        "duration": 6,
        "start_time": "2021-12-22T15:24:15.193Z"
      },
      {
        "duration": 5,
        "start_time": "2021-12-22T15:24:15.201Z"
      },
      {
        "duration": 6,
        "start_time": "2021-12-22T15:24:15.208Z"
      },
      {
        "duration": 13,
        "start_time": "2021-12-22T15:24:15.215Z"
      },
      {
        "duration": 35,
        "start_time": "2021-12-22T15:24:15.230Z"
      },
      {
        "duration": 13,
        "start_time": "2021-12-22T15:24:15.266Z"
      },
      {
        "duration": 30,
        "start_time": "2021-12-22T15:24:15.280Z"
      },
      {
        "duration": 24,
        "start_time": "2021-12-22T15:24:15.311Z"
      },
      {
        "duration": 24,
        "start_time": "2021-12-22T15:24:15.338Z"
      },
      {
        "duration": 497,
        "start_time": "2021-12-22T15:24:15.364Z"
      },
      {
        "duration": 20,
        "start_time": "2021-12-22T15:24:15.863Z"
      },
      {
        "duration": 10,
        "start_time": "2021-12-22T15:24:15.885Z"
      },
      {
        "duration": 5,
        "start_time": "2021-12-22T15:24:15.896Z"
      },
      {
        "duration": 4,
        "start_time": "2021-12-22T15:24:15.902Z"
      },
      {
        "duration": 3266,
        "start_time": "2021-12-22T15:24:15.907Z"
      },
      {
        "duration": 25,
        "start_time": "2021-12-22T15:24:19.175Z"
      },
      {
        "duration": 291,
        "start_time": "2021-12-22T15:24:19.201Z"
      },
      {
        "duration": 16,
        "start_time": "2021-12-22T15:24:19.494Z"
      },
      {
        "duration": 16,
        "start_time": "2021-12-22T15:29:59.165Z"
      },
      {
        "duration": 4,
        "start_time": "2021-12-22T15:31:11.871Z"
      },
      {
        "duration": 3,
        "start_time": "2021-12-22T15:32:05.288Z"
      },
      {
        "duration": 13,
        "start_time": "2021-12-22T15:32:15.902Z"
      },
      {
        "duration": 722,
        "start_time": "2021-12-22T15:32:40.353Z"
      },
      {
        "duration": 24,
        "start_time": "2021-12-22T15:32:41.077Z"
      },
      {
        "duration": 27,
        "start_time": "2021-12-22T15:32:41.103Z"
      },
      {
        "duration": 12,
        "start_time": "2021-12-22T15:32:41.132Z"
      },
      {
        "duration": 43,
        "start_time": "2021-12-22T15:32:41.146Z"
      },
      {
        "duration": 20,
        "start_time": "2021-12-22T15:32:41.191Z"
      },
      {
        "duration": 27,
        "start_time": "2021-12-22T15:32:41.213Z"
      },
      {
        "duration": 3,
        "start_time": "2021-12-22T15:32:41.242Z"
      },
      {
        "duration": 12,
        "start_time": "2021-12-22T15:32:41.247Z"
      },
      {
        "duration": 30,
        "start_time": "2021-12-22T15:32:41.261Z"
      },
      {
        "duration": 9,
        "start_time": "2021-12-22T15:32:41.293Z"
      },
      {
        "duration": 26,
        "start_time": "2021-12-22T15:32:41.304Z"
      },
      {
        "duration": 35,
        "start_time": "2021-12-22T15:32:41.332Z"
      },
      {
        "duration": 9,
        "start_time": "2021-12-22T15:32:41.369Z"
      },
      {
        "duration": 20,
        "start_time": "2021-12-22T15:32:41.379Z"
      },
      {
        "duration": 14,
        "start_time": "2021-12-22T15:32:41.401Z"
      },
      {
        "duration": 18,
        "start_time": "2021-12-22T15:32:41.417Z"
      },
      {
        "duration": 13,
        "start_time": "2021-12-22T15:32:41.436Z"
      },
      {
        "duration": 18,
        "start_time": "2021-12-22T15:32:41.451Z"
      },
      {
        "duration": 12,
        "start_time": "2021-12-22T15:32:41.471Z"
      },
      {
        "duration": 3,
        "start_time": "2021-12-22T15:32:41.484Z"
      },
      {
        "duration": 7,
        "start_time": "2021-12-22T15:32:41.489Z"
      },
      {
        "duration": 10,
        "start_time": "2021-12-22T15:32:41.499Z"
      },
      {
        "duration": 15,
        "start_time": "2021-12-22T15:32:41.511Z"
      },
      {
        "duration": 47,
        "start_time": "2021-12-22T15:32:41.528Z"
      },
      {
        "duration": 24,
        "start_time": "2021-12-22T15:32:41.577Z"
      },
      {
        "duration": 4,
        "start_time": "2021-12-22T15:32:41.603Z"
      },
      {
        "duration": 495,
        "start_time": "2021-12-22T15:32:41.608Z"
      },
      {
        "duration": 19,
        "start_time": "2021-12-22T15:32:42.105Z"
      },
      {
        "duration": 16,
        "start_time": "2021-12-22T15:32:42.125Z"
      },
      {
        "duration": 7,
        "start_time": "2021-12-22T15:32:42.142Z"
      },
      {
        "duration": 11,
        "start_time": "2021-12-22T15:32:42.150Z"
      },
      {
        "duration": 3108,
        "start_time": "2021-12-22T15:32:42.163Z"
      },
      {
        "duration": 26,
        "start_time": "2021-12-22T15:32:45.273Z"
      },
      {
        "duration": 297,
        "start_time": "2021-12-22T15:32:45.301Z"
      },
      {
        "duration": 15,
        "start_time": "2021-12-22T15:32:45.600Z"
      },
      {
        "duration": 4,
        "start_time": "2021-12-22T15:33:42.070Z"
      },
      {
        "duration": 3,
        "start_time": "2021-12-22T15:33:42.840Z"
      },
      {
        "duration": 4,
        "start_time": "2021-12-22T15:33:47.233Z"
      },
      {
        "duration": 16,
        "start_time": "2021-12-22T15:33:48.486Z"
      },
      {
        "duration": 3,
        "start_time": "2021-12-22T15:34:56.053Z"
      },
      {
        "duration": 5,
        "start_time": "2021-12-22T15:35:12.141Z"
      },
      {
        "duration": 310,
        "start_time": "2021-12-22T15:35:37.394Z"
      },
      {
        "duration": 4,
        "start_time": "2021-12-22T15:36:09.106Z"
      },
      {
        "duration": 4,
        "start_time": "2021-12-22T15:36:39.622Z"
      },
      {
        "duration": 15,
        "start_time": "2021-12-22T15:37:36.404Z"
      },
      {
        "duration": 709,
        "start_time": "2021-12-22T15:41:37.862Z"
      },
      {
        "duration": 24,
        "start_time": "2021-12-22T15:41:38.573Z"
      },
      {
        "duration": 12,
        "start_time": "2021-12-22T15:41:38.598Z"
      },
      {
        "duration": 6,
        "start_time": "2021-12-22T15:41:38.612Z"
      },
      {
        "duration": 43,
        "start_time": "2021-12-22T15:41:38.619Z"
      },
      {
        "duration": 14,
        "start_time": "2021-12-22T15:41:38.664Z"
      },
      {
        "duration": 12,
        "start_time": "2021-12-22T15:41:38.680Z"
      },
      {
        "duration": 4,
        "start_time": "2021-12-22T15:41:38.695Z"
      },
      {
        "duration": 8,
        "start_time": "2021-12-22T15:41:38.701Z"
      },
      {
        "duration": 15,
        "start_time": "2021-12-22T15:41:38.711Z"
      },
      {
        "duration": 36,
        "start_time": "2021-12-22T15:41:38.728Z"
      },
      {
        "duration": 13,
        "start_time": "2021-12-22T15:41:38.765Z"
      },
      {
        "duration": 11,
        "start_time": "2021-12-22T15:41:38.780Z"
      },
      {
        "duration": 5,
        "start_time": "2021-12-22T15:41:38.793Z"
      },
      {
        "duration": 8,
        "start_time": "2021-12-22T15:41:38.799Z"
      },
      {
        "duration": 8,
        "start_time": "2021-12-22T15:41:38.809Z"
      },
      {
        "duration": 15,
        "start_time": "2021-12-22T15:41:38.818Z"
      },
      {
        "duration": 29,
        "start_time": "2021-12-22T15:41:38.834Z"
      },
      {
        "duration": 23,
        "start_time": "2021-12-22T15:41:38.865Z"
      },
      {
        "duration": 13,
        "start_time": "2021-12-22T15:41:38.890Z"
      },
      {
        "duration": 3,
        "start_time": "2021-12-22T15:41:38.905Z"
      },
      {
        "duration": 7,
        "start_time": "2021-12-22T15:41:38.909Z"
      },
      {
        "duration": 12,
        "start_time": "2021-12-22T15:41:38.919Z"
      },
      {
        "duration": 11,
        "start_time": "2021-12-22T15:41:38.933Z"
      },
      {
        "duration": 22,
        "start_time": "2021-12-22T15:41:38.945Z"
      },
      {
        "duration": 15,
        "start_time": "2021-12-22T15:41:38.969Z"
      },
      {
        "duration": 31,
        "start_time": "2021-12-22T15:41:38.986Z"
      },
      {
        "duration": 21,
        "start_time": "2021-12-22T15:41:39.019Z"
      },
      {
        "duration": 18,
        "start_time": "2021-12-22T15:41:39.042Z"
      },
      {
        "duration": 525,
        "start_time": "2021-12-22T15:41:39.062Z"
      },
      {
        "duration": 23,
        "start_time": "2021-12-22T15:41:39.589Z"
      },
      {
        "duration": 9,
        "start_time": "2021-12-22T15:41:39.614Z"
      },
      {
        "duration": 7,
        "start_time": "2021-12-22T15:41:39.625Z"
      },
      {
        "duration": 4,
        "start_time": "2021-12-22T15:41:39.634Z"
      },
      {
        "duration": 3365,
        "start_time": "2021-12-22T15:41:39.660Z"
      },
      {
        "duration": 40,
        "start_time": "2021-12-22T15:41:43.026Z"
      },
      {
        "duration": 292,
        "start_time": "2021-12-22T15:41:43.068Z"
      },
      {
        "duration": 16,
        "start_time": "2021-12-22T15:41:43.362Z"
      },
      {
        "duration": 93,
        "start_time": "2021-12-22T15:43:00.086Z"
      },
      {
        "duration": 20,
        "start_time": "2021-12-22T15:43:00.181Z"
      },
      {
        "duration": 18,
        "start_time": "2021-12-22T15:43:00.203Z"
      },
      {
        "duration": 2,
        "start_time": "2021-12-22T15:43:00.223Z"
      },
      {
        "duration": 47,
        "start_time": "2021-12-22T15:43:00.227Z"
      },
      {
        "duration": 13,
        "start_time": "2021-12-22T15:43:00.275Z"
      },
      {
        "duration": 10,
        "start_time": "2021-12-22T15:43:00.289Z"
      },
      {
        "duration": 5,
        "start_time": "2021-12-22T15:43:00.301Z"
      },
      {
        "duration": 8,
        "start_time": "2021-12-22T15:43:00.308Z"
      },
      {
        "duration": 47,
        "start_time": "2021-12-22T15:43:00.317Z"
      },
      {
        "duration": 8,
        "start_time": "2021-12-22T15:43:00.366Z"
      },
      {
        "duration": 20,
        "start_time": "2021-12-22T15:43:00.376Z"
      },
      {
        "duration": 7,
        "start_time": "2021-12-22T15:43:00.398Z"
      },
      {
        "duration": 7,
        "start_time": "2021-12-22T15:43:00.406Z"
      },
      {
        "duration": 21,
        "start_time": "2021-12-22T15:43:00.414Z"
      },
      {
        "duration": 13,
        "start_time": "2021-12-22T15:43:00.437Z"
      },
      {
        "duration": 9,
        "start_time": "2021-12-22T15:43:00.451Z"
      },
      {
        "duration": 13,
        "start_time": "2021-12-22T15:43:00.462Z"
      },
      {
        "duration": 20,
        "start_time": "2021-12-22T15:43:00.476Z"
      },
      {
        "duration": 15,
        "start_time": "2021-12-22T15:43:00.498Z"
      },
      {
        "duration": 13,
        "start_time": "2021-12-22T15:43:00.515Z"
      },
      {
        "duration": 9,
        "start_time": "2021-12-22T15:43:00.530Z"
      },
      {
        "duration": 18,
        "start_time": "2021-12-22T15:43:00.542Z"
      },
      {
        "duration": 3,
        "start_time": "2021-12-22T15:43:00.563Z"
      },
      {
        "duration": 14,
        "start_time": "2021-12-22T15:43:00.568Z"
      },
      {
        "duration": 13,
        "start_time": "2021-12-22T15:43:00.583Z"
      },
      {
        "duration": 23,
        "start_time": "2021-12-22T15:43:00.598Z"
      },
      {
        "duration": 44,
        "start_time": "2021-12-22T15:43:00.622Z"
      },
      {
        "duration": 3,
        "start_time": "2021-12-22T15:43:00.668Z"
      },
      {
        "duration": 549,
        "start_time": "2021-12-22T15:43:00.673Z"
      },
      {
        "duration": 21,
        "start_time": "2021-12-22T15:43:01.224Z"
      },
      {
        "duration": 17,
        "start_time": "2021-12-22T15:43:01.246Z"
      },
      {
        "duration": 26,
        "start_time": "2021-12-22T15:43:01.265Z"
      },
      {
        "duration": 4,
        "start_time": "2021-12-22T15:43:01.292Z"
      },
      {
        "duration": 3027,
        "start_time": "2021-12-22T15:43:01.297Z"
      },
      {
        "duration": 40,
        "start_time": "2021-12-22T15:43:04.327Z"
      },
      {
        "duration": 277,
        "start_time": "2021-12-22T15:43:04.369Z"
      },
      {
        "duration": 16,
        "start_time": "2021-12-22T15:43:04.648Z"
      },
      {
        "duration": 696,
        "start_time": "2021-12-22T15:43:06.815Z"
      },
      {
        "duration": 22,
        "start_time": "2021-12-22T15:43:07.512Z"
      },
      {
        "duration": 14,
        "start_time": "2021-12-22T15:43:07.536Z"
      },
      {
        "duration": 9,
        "start_time": "2021-12-22T15:43:07.551Z"
      },
      {
        "duration": 19,
        "start_time": "2021-12-22T15:43:07.562Z"
      },
      {
        "duration": 10,
        "start_time": "2021-12-22T15:43:07.582Z"
      },
      {
        "duration": 8,
        "start_time": "2021-12-22T15:43:07.594Z"
      },
      {
        "duration": 4,
        "start_time": "2021-12-22T15:43:07.604Z"
      },
      {
        "duration": 6,
        "start_time": "2021-12-22T15:43:07.609Z"
      },
      {
        "duration": 44,
        "start_time": "2021-12-22T15:43:07.617Z"
      },
      {
        "duration": 10,
        "start_time": "2021-12-22T15:43:07.662Z"
      },
      {
        "duration": 13,
        "start_time": "2021-12-22T15:43:07.674Z"
      },
      {
        "duration": 3,
        "start_time": "2021-12-22T15:43:07.689Z"
      },
      {
        "duration": 7,
        "start_time": "2021-12-22T15:43:07.694Z"
      },
      {
        "duration": 7,
        "start_time": "2021-12-22T15:43:07.703Z"
      },
      {
        "duration": 5,
        "start_time": "2021-12-22T15:43:07.712Z"
      },
      {
        "duration": 6,
        "start_time": "2021-12-22T15:43:07.718Z"
      },
      {
        "duration": 42,
        "start_time": "2021-12-22T15:43:07.726Z"
      },
      {
        "duration": 23,
        "start_time": "2021-12-22T15:43:07.770Z"
      },
      {
        "duration": 12,
        "start_time": "2021-12-22T15:43:07.794Z"
      },
      {
        "duration": 3,
        "start_time": "2021-12-22T15:43:07.807Z"
      },
      {
        "duration": 5,
        "start_time": "2021-12-22T15:43:07.812Z"
      },
      {
        "duration": 6,
        "start_time": "2021-12-22T15:43:07.820Z"
      },
      {
        "duration": 4,
        "start_time": "2021-12-22T15:43:07.827Z"
      },
      {
        "duration": 38,
        "start_time": "2021-12-22T15:43:07.833Z"
      },
      {
        "duration": 11,
        "start_time": "2021-12-22T15:43:07.872Z"
      },
      {
        "duration": 28,
        "start_time": "2021-12-22T15:43:07.885Z"
      },
      {
        "duration": 22,
        "start_time": "2021-12-22T15:43:07.914Z"
      },
      {
        "duration": 2,
        "start_time": "2021-12-22T15:43:07.938Z"
      },
      {
        "duration": 485,
        "start_time": "2021-12-22T15:43:07.960Z"
      },
      {
        "duration": 26,
        "start_time": "2021-12-22T15:43:08.447Z"
      },
      {
        "duration": 9,
        "start_time": "2021-12-22T15:43:08.475Z"
      },
      {
        "duration": 6,
        "start_time": "2021-12-22T15:43:08.486Z"
      },
      {
        "duration": 5,
        "start_time": "2021-12-22T15:43:08.494Z"
      },
      {
        "duration": 3176,
        "start_time": "2021-12-22T15:43:08.501Z"
      },
      {
        "duration": 36,
        "start_time": "2021-12-22T15:43:11.680Z"
      },
      {
        "duration": 351,
        "start_time": "2021-12-22T15:43:11.718Z"
      },
      {
        "duration": 16,
        "start_time": "2021-12-22T15:43:12.070Z"
      },
      {
        "duration": 4,
        "start_time": "2021-12-22T15:43:59.061Z"
      },
      {
        "duration": 17,
        "start_time": "2021-12-22T15:44:01.884Z"
      },
      {
        "duration": 11,
        "start_time": "2021-12-22T15:44:20.886Z"
      },
      {
        "duration": 5,
        "start_time": "2021-12-22T15:44:24.469Z"
      },
      {
        "duration": 16,
        "start_time": "2021-12-22T15:44:31.529Z"
      },
      {
        "duration": 94,
        "start_time": "2021-12-22T15:48:15.549Z"
      },
      {
        "duration": 363,
        "start_time": "2021-12-22T15:48:22.942Z"
      },
      {
        "duration": 17,
        "start_time": "2021-12-22T15:48:26.338Z"
      },
      {
        "duration": 683,
        "start_time": "2021-12-22T15:48:49.673Z"
      },
      {
        "duration": 25,
        "start_time": "2021-12-22T15:48:50.358Z"
      },
      {
        "duration": 14,
        "start_time": "2021-12-22T15:48:50.385Z"
      },
      {
        "duration": 6,
        "start_time": "2021-12-22T15:48:50.401Z"
      },
      {
        "duration": 26,
        "start_time": "2021-12-22T15:48:50.408Z"
      },
      {
        "duration": 26,
        "start_time": "2021-12-22T15:48:50.436Z"
      },
      {
        "duration": 9,
        "start_time": "2021-12-22T15:48:50.464Z"
      },
      {
        "duration": 4,
        "start_time": "2021-12-22T15:48:50.475Z"
      },
      {
        "duration": 9,
        "start_time": "2021-12-22T15:48:50.480Z"
      },
      {
        "duration": 20,
        "start_time": "2021-12-22T15:48:50.491Z"
      },
      {
        "duration": 15,
        "start_time": "2021-12-22T15:48:50.513Z"
      },
      {
        "duration": 13,
        "start_time": "2021-12-22T15:48:50.530Z"
      },
      {
        "duration": 23,
        "start_time": "2021-12-22T15:48:50.545Z"
      },
      {
        "duration": 4,
        "start_time": "2021-12-22T15:48:50.571Z"
      },
      {
        "duration": 5,
        "start_time": "2021-12-22T15:48:50.577Z"
      },
      {
        "duration": 6,
        "start_time": "2021-12-22T15:48:50.584Z"
      },
      {
        "duration": 9,
        "start_time": "2021-12-22T15:48:50.592Z"
      },
      {
        "duration": 17,
        "start_time": "2021-12-22T15:48:50.602Z"
      },
      {
        "duration": 22,
        "start_time": "2021-12-22T15:48:50.620Z"
      },
      {
        "duration": 24,
        "start_time": "2021-12-22T15:48:50.643Z"
      },
      {
        "duration": 13,
        "start_time": "2021-12-22T15:48:50.669Z"
      },
      {
        "duration": 29,
        "start_time": "2021-12-22T15:48:50.684Z"
      },
      {
        "duration": 21,
        "start_time": "2021-12-22T15:48:50.716Z"
      },
      {
        "duration": 21,
        "start_time": "2021-12-22T15:48:50.740Z"
      },
      {
        "duration": 524,
        "start_time": "2021-12-22T15:48:50.763Z"
      },
      {
        "duration": 23,
        "start_time": "2021-12-22T15:48:51.288Z"
      },
      {
        "duration": 8,
        "start_time": "2021-12-22T15:48:51.313Z"
      },
      {
        "duration": 17,
        "start_time": "2021-12-22T15:48:51.322Z"
      },
      {
        "duration": 21,
        "start_time": "2021-12-22T15:48:51.341Z"
      },
      {
        "duration": 3,
        "start_time": "2021-12-22T15:48:51.364Z"
      },
      {
        "duration": 3452,
        "start_time": "2021-12-22T15:48:51.368Z"
      },
      {
        "duration": 24,
        "start_time": "2021-12-22T15:48:54.822Z"
      },
      {
        "duration": 293,
        "start_time": "2021-12-22T15:48:54.860Z"
      },
      {
        "duration": 19,
        "start_time": "2021-12-22T15:48:55.155Z"
      },
      {
        "duration": 8793,
        "start_time": "2021-12-22T15:50:47.840Z"
      },
      {
        "duration": -115,
        "start_time": "2021-12-22T15:50:56.750Z"
      },
      {
        "duration": 2168,
        "start_time": "2021-12-22T15:51:08.901Z"
      },
      {
        "duration": 23,
        "start_time": "2021-12-22T15:51:11.071Z"
      },
      {
        "duration": 842,
        "start_time": "2021-12-23T11:57:03.304Z"
      },
      {
        "duration": 38,
        "start_time": "2021-12-23T11:57:04.148Z"
      },
      {
        "duration": 18,
        "start_time": "2021-12-23T11:57:04.189Z"
      },
      {
        "duration": 4,
        "start_time": "2021-12-23T11:57:04.209Z"
      },
      {
        "duration": 68,
        "start_time": "2021-12-23T11:57:04.215Z"
      },
      {
        "duration": 15,
        "start_time": "2021-12-23T11:57:04.285Z"
      },
      {
        "duration": 11,
        "start_time": "2021-12-23T11:57:04.302Z"
      },
      {
        "duration": 5,
        "start_time": "2021-12-23T11:57:04.316Z"
      },
      {
        "duration": 39,
        "start_time": "2021-12-23T11:57:04.324Z"
      },
      {
        "duration": 19,
        "start_time": "2021-12-23T11:57:04.367Z"
      },
      {
        "duration": 14,
        "start_time": "2021-12-23T11:57:04.389Z"
      },
      {
        "duration": 54,
        "start_time": "2021-12-23T11:57:04.406Z"
      },
      {
        "duration": 12,
        "start_time": "2021-12-23T11:57:04.463Z"
      },
      {
        "duration": 7,
        "start_time": "2021-12-23T11:57:04.478Z"
      },
      {
        "duration": 9,
        "start_time": "2021-12-23T11:57:04.488Z"
      },
      {
        "duration": 6,
        "start_time": "2021-12-23T11:57:04.499Z"
      },
      {
        "duration": 6,
        "start_time": "2021-12-23T11:57:04.508Z"
      },
      {
        "duration": 51,
        "start_time": "2021-12-23T11:57:04.516Z"
      },
      {
        "duration": 27,
        "start_time": "2021-12-23T11:57:04.570Z"
      },
      {
        "duration": 14,
        "start_time": "2021-12-23T11:57:04.599Z"
      },
      {
        "duration": 49,
        "start_time": "2021-12-23T11:57:04.616Z"
      },
      {
        "duration": 42,
        "start_time": "2021-12-23T11:57:04.668Z"
      },
      {
        "duration": 59,
        "start_time": "2021-12-23T11:57:04.713Z"
      },
      {
        "duration": 5,
        "start_time": "2021-12-23T11:57:04.774Z"
      },
      {
        "duration": 1055,
        "start_time": "2021-12-23T11:57:04.782Z"
      },
      {
        "duration": 37,
        "start_time": "2021-12-23T11:57:05.840Z"
      },
      {
        "duration": 10,
        "start_time": "2021-12-23T11:57:05.882Z"
      },
      {
        "duration": 21,
        "start_time": "2021-12-23T11:57:05.895Z"
      },
      {
        "duration": 16,
        "start_time": "2021-12-23T11:57:05.919Z"
      },
      {
        "duration": 24,
        "start_time": "2021-12-23T11:57:05.937Z"
      },
      {
        "duration": 4424,
        "start_time": "2021-12-23T11:57:05.964Z"
      },
      {
        "duration": 45,
        "start_time": "2021-12-23T11:57:10.391Z"
      },
      {
        "duration": 515,
        "start_time": "2021-12-23T11:57:10.438Z"
      },
      {
        "duration": 23,
        "start_time": "2021-12-23T11:57:10.956Z"
      },
      {
        "duration": 3,
        "start_time": "2021-12-23T11:58:57.633Z"
      },
      {
        "duration": 3244,
        "start_time": "2021-12-23T11:58:58.220Z"
      },
      {
        "duration": 38,
        "start_time": "2021-12-23T11:59:01.467Z"
      },
      {
        "duration": 3013,
        "start_time": "2021-12-23T11:59:17.476Z"
      },
      {
        "duration": 37,
        "start_time": "2021-12-23T11:59:20.492Z"
      },
      {
        "duration": 422,
        "start_time": "2021-12-23T11:59:24.093Z"
      },
      {
        "duration": 52,
        "start_time": "2021-12-23T11:59:24.870Z"
      },
      {
        "duration": 4,
        "start_time": "2021-12-23T12:01:13.241Z"
      },
      {
        "duration": 3258,
        "start_time": "2021-12-23T12:01:14.159Z"
      },
      {
        "duration": 52,
        "start_time": "2021-12-23T12:01:17.420Z"
      },
      {
        "duration": 415,
        "start_time": "2021-12-23T12:01:21.861Z"
      },
      {
        "duration": 54,
        "start_time": "2021-12-23T12:01:24.853Z"
      },
      {
        "duration": 3120,
        "start_time": "2021-12-23T12:01:41.953Z"
      },
      {
        "duration": 39,
        "start_time": "2021-12-23T12:01:45.076Z"
      },
      {
        "duration": 615,
        "start_time": "2021-12-23T12:01:45.117Z"
      },
      {
        "duration": 28,
        "start_time": "2021-12-23T12:01:45.734Z"
      },
      {
        "duration": 1002,
        "start_time": "2021-12-23T12:03:29.976Z"
      },
      {
        "duration": 39,
        "start_time": "2021-12-23T12:03:30.981Z"
      },
      {
        "duration": 47,
        "start_time": "2021-12-23T12:03:31.024Z"
      },
      {
        "duration": 4,
        "start_time": "2021-12-23T12:03:31.075Z"
      },
      {
        "duration": 44,
        "start_time": "2021-12-23T12:03:31.082Z"
      },
      {
        "duration": 39,
        "start_time": "2021-12-23T12:03:31.129Z"
      },
      {
        "duration": 16,
        "start_time": "2021-12-23T12:03:31.171Z"
      },
      {
        "duration": 6,
        "start_time": "2021-12-23T12:03:31.192Z"
      },
      {
        "duration": 11,
        "start_time": "2021-12-23T12:03:31.201Z"
      },
      {
        "duration": 58,
        "start_time": "2021-12-23T12:03:31.215Z"
      },
      {
        "duration": 12,
        "start_time": "2021-12-23T12:03:31.276Z"
      },
      {
        "duration": 17,
        "start_time": "2021-12-23T12:03:31.290Z"
      },
      {
        "duration": 12,
        "start_time": "2021-12-23T12:03:31.309Z"
      },
      {
        "duration": 38,
        "start_time": "2021-12-23T12:03:31.324Z"
      },
      {
        "duration": 10,
        "start_time": "2021-12-23T12:03:31.364Z"
      },
      {
        "duration": 9,
        "start_time": "2021-12-23T12:03:31.376Z"
      },
      {
        "duration": 8,
        "start_time": "2021-12-23T12:03:31.388Z"
      },
      {
        "duration": 12,
        "start_time": "2021-12-23T12:03:31.399Z"
      },
      {
        "duration": 61,
        "start_time": "2021-12-23T12:03:31.413Z"
      },
      {
        "duration": 19,
        "start_time": "2021-12-23T12:03:31.476Z"
      },
      {
        "duration": 16,
        "start_time": "2021-12-23T12:03:31.498Z"
      },
      {
        "duration": 65,
        "start_time": "2021-12-23T12:03:31.517Z"
      },
      {
        "duration": 38,
        "start_time": "2021-12-23T12:03:31.586Z"
      },
      {
        "duration": 4,
        "start_time": "2021-12-23T12:03:31.627Z"
      },
      {
        "duration": 833,
        "start_time": "2021-12-23T12:03:31.635Z"
      },
      {
        "duration": 38,
        "start_time": "2021-12-23T12:03:32.470Z"
      },
      {
        "duration": 10,
        "start_time": "2021-12-23T12:03:32.510Z"
      },
      {
        "duration": 43,
        "start_time": "2021-12-23T12:03:32.522Z"
      },
      {
        "duration": 10,
        "start_time": "2021-12-23T12:03:32.567Z"
      },
      {
        "duration": 4,
        "start_time": "2021-12-23T12:03:32.579Z"
      },
      {
        "duration": 5247,
        "start_time": "2021-12-23T12:03:32.585Z"
      },
      {
        "duration": 53,
        "start_time": "2021-12-23T12:03:37.835Z"
      },
      {
        "duration": 521,
        "start_time": "2021-12-23T12:03:37.890Z"
      },
      {
        "duration": 23,
        "start_time": "2021-12-23T12:03:38.413Z"
      },
      {
        "duration": 859,
        "start_time": "2021-12-23T12:17:55.608Z"
      },
      {
        "duration": 45,
        "start_time": "2021-12-23T12:17:56.470Z"
      },
      {
        "duration": 41,
        "start_time": "2021-12-23T12:17:56.518Z"
      },
      {
        "duration": 4,
        "start_time": "2021-12-23T12:17:56.563Z"
      },
      {
        "duration": 33,
        "start_time": "2021-12-23T12:17:56.571Z"
      },
      {
        "duration": 11,
        "start_time": "2021-12-23T12:17:56.606Z"
      },
      {
        "duration": 45,
        "start_time": "2021-12-23T12:17:56.620Z"
      },
      {
        "duration": 4,
        "start_time": "2021-12-23T12:17:56.669Z"
      },
      {
        "duration": 6,
        "start_time": "2021-12-23T12:17:56.676Z"
      },
      {
        "duration": 18,
        "start_time": "2021-12-23T12:17:56.684Z"
      },
      {
        "duration": 54,
        "start_time": "2021-12-23T12:17:56.705Z"
      },
      {
        "duration": 17,
        "start_time": "2021-12-23T12:17:56.762Z"
      },
      {
        "duration": 11,
        "start_time": "2021-12-23T12:17:56.781Z"
      },
      {
        "duration": 6,
        "start_time": "2021-12-23T12:17:56.795Z"
      },
      {
        "duration": 6,
        "start_time": "2021-12-23T12:17:56.803Z"
      },
      {
        "duration": 5,
        "start_time": "2021-12-23T12:17:56.811Z"
      },
      {
        "duration": 6,
        "start_time": "2021-12-23T12:17:56.859Z"
      },
      {
        "duration": 12,
        "start_time": "2021-12-23T12:17:56.867Z"
      },
      {
        "duration": 28,
        "start_time": "2021-12-23T12:17:56.881Z"
      },
      {
        "duration": 56,
        "start_time": "2021-12-23T12:17:56.912Z"
      },
      {
        "duration": 7,
        "start_time": "2021-12-23T12:17:56.971Z"
      },
      {
        "duration": 4,
        "start_time": "2021-12-23T12:17:56.981Z"
      },
      {
        "duration": 4802,
        "start_time": "2021-12-23T12:17:56.989Z"
      },
      {
        "duration": 629,
        "start_time": "2021-12-23T12:18:01.795Z"
      },
      {
        "duration": -27,
        "start_time": "2021-12-23T12:18:02.454Z"
      },
      {
        "duration": -33,
        "start_time": "2021-12-23T12:18:02.463Z"
      },
      {
        "duration": -37,
        "start_time": "2021-12-23T12:18:02.469Z"
      },
      {
        "duration": -48,
        "start_time": "2021-12-23T12:18:02.482Z"
      },
      {
        "duration": -72,
        "start_time": "2021-12-23T12:18:02.509Z"
      },
      {
        "duration": -76,
        "start_time": "2021-12-23T12:18:02.515Z"
      },
      {
        "duration": -81,
        "start_time": "2021-12-23T12:18:02.522Z"
      },
      {
        "duration": -85,
        "start_time": "2021-12-23T12:18:02.528Z"
      },
      {
        "duration": 872,
        "start_time": "2021-12-23T12:18:52.334Z"
      },
      {
        "duration": 4,
        "start_time": "2021-12-23T12:20:24.153Z"
      },
      {
        "duration": 3354,
        "start_time": "2021-12-23T12:20:39.585Z"
      },
      {
        "duration": 344,
        "start_time": "2021-12-23T12:20:48.335Z"
      },
      {
        "duration": 893,
        "start_time": "2021-12-23T12:25:06.181Z"
      },
      {
        "duration": 40,
        "start_time": "2021-12-23T12:25:07.083Z"
      },
      {
        "duration": 47,
        "start_time": "2021-12-23T12:25:07.127Z"
      },
      {
        "duration": 4,
        "start_time": "2021-12-23T12:25:07.176Z"
      },
      {
        "duration": 33,
        "start_time": "2021-12-23T12:25:07.183Z"
      },
      {
        "duration": 44,
        "start_time": "2021-12-23T12:25:07.219Z"
      },
      {
        "duration": 12,
        "start_time": "2021-12-23T12:25:07.266Z"
      },
      {
        "duration": 5,
        "start_time": "2021-12-23T12:25:07.282Z"
      },
      {
        "duration": 6,
        "start_time": "2021-12-23T12:25:07.291Z"
      },
      {
        "duration": 60,
        "start_time": "2021-12-23T12:25:07.300Z"
      },
      {
        "duration": 16,
        "start_time": "2021-12-23T12:25:07.362Z"
      },
      {
        "duration": 19,
        "start_time": "2021-12-23T12:25:07.380Z"
      },
      {
        "duration": 10,
        "start_time": "2021-12-23T12:25:07.401Z"
      },
      {
        "duration": 5,
        "start_time": "2021-12-23T12:25:07.414Z"
      },
      {
        "duration": 43,
        "start_time": "2021-12-23T12:25:07.421Z"
      },
      {
        "duration": 7,
        "start_time": "2021-12-23T12:25:07.467Z"
      },
      {
        "duration": 8,
        "start_time": "2021-12-23T12:25:07.477Z"
      },
      {
        "duration": 13,
        "start_time": "2021-12-23T12:25:07.488Z"
      },
      {
        "duration": 83,
        "start_time": "2021-12-23T12:25:07.504Z"
      },
      {
        "duration": 17,
        "start_time": "2021-12-23T12:25:07.590Z"
      },
      {
        "duration": 9,
        "start_time": "2021-12-23T12:25:07.610Z"
      },
      {
        "duration": 4,
        "start_time": "2021-12-23T12:25:07.621Z"
      },
      {
        "duration": 4579,
        "start_time": "2021-12-23T12:25:07.659Z"
      },
      {
        "duration": 957,
        "start_time": "2021-12-23T12:26:16.441Z"
      },
      {
        "duration": 39,
        "start_time": "2021-12-23T12:26:17.400Z"
      },
      {
        "duration": 26,
        "start_time": "2021-12-23T12:26:17.442Z"
      },
      {
        "duration": 3,
        "start_time": "2021-12-23T12:26:17.471Z"
      },
      {
        "duration": 33,
        "start_time": "2021-12-23T12:26:17.477Z"
      },
      {
        "duration": 49,
        "start_time": "2021-12-23T12:26:17.512Z"
      },
      {
        "duration": 15,
        "start_time": "2021-12-23T12:26:17.563Z"
      },
      {
        "duration": 6,
        "start_time": "2021-12-23T12:26:17.581Z"
      },
      {
        "duration": 8,
        "start_time": "2021-12-23T12:26:17.593Z"
      },
      {
        "duration": 64,
        "start_time": "2021-12-23T12:26:17.604Z"
      },
      {
        "duration": 14,
        "start_time": "2021-12-23T12:26:17.670Z"
      },
      {
        "duration": 22,
        "start_time": "2021-12-23T12:26:17.687Z"
      },
      {
        "duration": 15,
        "start_time": "2021-12-23T12:26:17.711Z"
      },
      {
        "duration": 36,
        "start_time": "2021-12-23T12:26:17.728Z"
      },
      {
        "duration": 8,
        "start_time": "2021-12-23T12:26:17.767Z"
      },
      {
        "duration": 5,
        "start_time": "2021-12-23T12:26:17.777Z"
      },
      {
        "duration": 9,
        "start_time": "2021-12-23T12:26:17.785Z"
      },
      {
        "duration": 16,
        "start_time": "2021-12-23T12:26:17.796Z"
      },
      {
        "duration": 63,
        "start_time": "2021-12-23T12:26:17.815Z"
      },
      {
        "duration": 13,
        "start_time": "2021-12-23T12:26:17.881Z"
      },
      {
        "duration": 9,
        "start_time": "2021-12-23T12:26:17.897Z"
      },
      {
        "duration": 4,
        "start_time": "2021-12-23T12:26:17.909Z"
      },
      {
        "duration": 4294,
        "start_time": "2021-12-23T12:26:17.916Z"
      },
      {
        "duration": 923,
        "start_time": "2021-12-23T12:27:39.625Z"
      },
      {
        "duration": 44,
        "start_time": "2021-12-23T12:27:40.551Z"
      },
      {
        "duration": 17,
        "start_time": "2021-12-23T12:27:40.598Z"
      },
      {
        "duration": 3,
        "start_time": "2021-12-23T12:27:40.618Z"
      },
      {
        "duration": 62,
        "start_time": "2021-12-23T12:27:40.624Z"
      },
      {
        "duration": 11,
        "start_time": "2021-12-23T12:27:40.689Z"
      },
      {
        "duration": 12,
        "start_time": "2021-12-23T12:27:40.702Z"
      },
      {
        "duration": 4,
        "start_time": "2021-12-23T12:27:40.718Z"
      },
      {
        "duration": 7,
        "start_time": "2021-12-23T12:27:40.760Z"
      },
      {
        "duration": 18,
        "start_time": "2021-12-23T12:27:40.769Z"
      },
      {
        "duration": 11,
        "start_time": "2021-12-23T12:27:40.789Z"
      },
      {
        "duration": 16,
        "start_time": "2021-12-23T12:27:40.803Z"
      },
      {
        "duration": 45,
        "start_time": "2021-12-23T12:27:40.821Z"
      },
      {
        "duration": 6,
        "start_time": "2021-12-23T12:27:40.869Z"
      },
      {
        "duration": 6,
        "start_time": "2021-12-23T12:27:40.877Z"
      },
      {
        "duration": 5,
        "start_time": "2021-12-23T12:27:40.885Z"
      },
      {
        "duration": 6,
        "start_time": "2021-12-23T12:27:40.892Z"
      },
      {
        "duration": 60,
        "start_time": "2021-12-23T12:27:40.901Z"
      },
      {
        "duration": 34,
        "start_time": "2021-12-23T12:27:40.963Z"
      },
      {
        "duration": 14,
        "start_time": "2021-12-23T12:27:41.000Z"
      },
      {
        "duration": 13,
        "start_time": "2021-12-23T12:27:41.016Z"
      },
      {
        "duration": 28,
        "start_time": "2021-12-23T12:27:41.031Z"
      },
      {
        "duration": 4448,
        "start_time": "2021-12-23T12:27:41.064Z"
      },
      {
        "duration": 873,
        "start_time": "2021-12-23T12:28:51.130Z"
      },
      {
        "duration": 27,
        "start_time": "2021-12-23T12:28:51.979Z"
      },
      {
        "duration": 926,
        "start_time": "2021-12-23T12:29:11.033Z"
      },
      {
        "duration": 39,
        "start_time": "2021-12-23T12:29:11.962Z"
      },
      {
        "duration": 16,
        "start_time": "2021-12-23T12:29:12.004Z"
      },
      {
        "duration": 36,
        "start_time": "2021-12-23T12:29:12.024Z"
      },
      {
        "duration": 34,
        "start_time": "2021-12-23T12:29:12.063Z"
      },
      {
        "duration": 14,
        "start_time": "2021-12-23T12:29:12.101Z"
      },
      {
        "duration": 49,
        "start_time": "2021-12-23T12:29:12.118Z"
      },
      {
        "duration": 5,
        "start_time": "2021-12-23T12:29:12.173Z"
      },
      {
        "duration": 8,
        "start_time": "2021-12-23T12:29:12.182Z"
      },
      {
        "duration": 19,
        "start_time": "2021-12-23T12:29:12.193Z"
      },
      {
        "duration": 52,
        "start_time": "2021-12-23T12:29:12.214Z"
      },
      {
        "duration": 17,
        "start_time": "2021-12-23T12:29:12.268Z"
      },
      {
        "duration": 10,
        "start_time": "2021-12-23T12:29:12.287Z"
      },
      {
        "duration": 6,
        "start_time": "2021-12-23T12:29:12.299Z"
      },
      {
        "duration": 6,
        "start_time": "2021-12-23T12:29:12.307Z"
      },
      {
        "duration": 46,
        "start_time": "2021-12-23T12:29:12.315Z"
      },
      {
        "duration": 6,
        "start_time": "2021-12-23T12:29:12.363Z"
      },
      {
        "duration": 23,
        "start_time": "2021-12-23T12:29:12.371Z"
      },
      {
        "duration": 33,
        "start_time": "2021-12-23T12:29:12.396Z"
      },
      {
        "duration": 34,
        "start_time": "2021-12-23T12:29:12.431Z"
      },
      {
        "duration": 4907,
        "start_time": "2021-12-23T12:29:12.468Z"
      },
      {
        "duration": 11,
        "start_time": "2021-12-23T12:29:17.379Z"
      },
      {
        "duration": 21,
        "start_time": "2021-12-23T12:29:17.396Z"
      },
      {
        "duration": 71,
        "start_time": "2021-12-23T12:29:17.419Z"
      },
      {
        "duration": 40,
        "start_time": "2021-12-23T12:29:17.493Z"
      },
      {
        "duration": 4,
        "start_time": "2021-12-23T12:29:17.536Z"
      },
      {
        "duration": 901,
        "start_time": "2021-12-23T12:29:17.542Z"
      },
      {
        "duration": 46,
        "start_time": "2021-12-23T12:29:18.446Z"
      },
      {
        "duration": 10,
        "start_time": "2021-12-23T12:29:18.495Z"
      },
      {
        "duration": 20,
        "start_time": "2021-12-23T12:29:18.507Z"
      },
      {
        "duration": 520,
        "start_time": "2021-12-23T12:32:31.488Z"
      },
      {
        "duration": 13,
        "start_time": "2021-12-23T12:32:38.550Z"
      },
      {
        "duration": 12,
        "start_time": "2021-12-23T12:32:46.417Z"
      },
      {
        "duration": 900,
        "start_time": "2021-12-26T13:00:10.980Z"
      },
      {
        "duration": 39,
        "start_time": "2021-12-26T13:00:11.883Z"
      },
      {
        "duration": 36,
        "start_time": "2021-12-26T13:00:11.925Z"
      },
      {
        "duration": 3,
        "start_time": "2021-12-26T13:00:11.964Z"
      },
      {
        "duration": 33,
        "start_time": "2021-12-26T13:00:11.969Z"
      },
      {
        "duration": 12,
        "start_time": "2021-12-26T13:00:12.004Z"
      },
      {
        "duration": 48,
        "start_time": "2021-12-26T13:00:12.019Z"
      },
      {
        "duration": 5,
        "start_time": "2021-12-26T13:00:12.072Z"
      },
      {
        "duration": 8,
        "start_time": "2021-12-26T13:00:12.081Z"
      },
      {
        "duration": 19,
        "start_time": "2021-12-26T13:00:12.091Z"
      },
      {
        "duration": 56,
        "start_time": "2021-12-26T13:00:12.112Z"
      },
      {
        "duration": 17,
        "start_time": "2021-12-26T13:00:12.170Z"
      },
      {
        "duration": 13,
        "start_time": "2021-12-26T13:00:12.190Z"
      },
      {
        "duration": 6,
        "start_time": "2021-12-26T13:00:12.205Z"
      },
      {
        "duration": 7,
        "start_time": "2021-12-26T13:00:12.213Z"
      },
      {
        "duration": 39,
        "start_time": "2021-12-26T13:00:12.222Z"
      },
      {
        "duration": 7,
        "start_time": "2021-12-26T13:00:12.263Z"
      },
      {
        "duration": 11,
        "start_time": "2021-12-26T13:00:12.272Z"
      },
      {
        "duration": 28,
        "start_time": "2021-12-26T13:00:12.285Z"
      },
      {
        "duration": 51,
        "start_time": "2021-12-26T13:00:12.316Z"
      },
      {
        "duration": 4777,
        "start_time": "2021-12-26T13:00:12.370Z"
      },
      {
        "duration": 8,
        "start_time": "2021-12-26T13:00:17.160Z"
      },
      {
        "duration": 18,
        "start_time": "2021-12-26T13:00:17.173Z"
      },
      {
        "duration": 41,
        "start_time": "2021-12-26T13:00:17.193Z"
      },
      {
        "duration": 58,
        "start_time": "2021-12-26T13:00:17.236Z"
      },
      {
        "duration": 4,
        "start_time": "2021-12-26T13:00:17.296Z"
      },
      {
        "duration": 974,
        "start_time": "2021-12-26T13:00:17.302Z"
      },
      {
        "duration": 35,
        "start_time": "2021-12-26T13:00:18.278Z"
      },
      {
        "duration": 13,
        "start_time": "2021-12-26T13:00:18.316Z"
      },
      {
        "duration": 39,
        "start_time": "2021-12-26T13:00:18.331Z"
      },
      {
        "duration": 12,
        "start_time": "2021-12-26T13:00:18.372Z"
      },
      {
        "duration": 3,
        "start_time": "2021-12-26T13:06:46.595Z"
      },
      {
        "duration": 12,
        "start_time": "2021-12-26T13:11:29.150Z"
      },
      {
        "duration": 21,
        "start_time": "2021-12-26T13:11:29.585Z"
      },
      {
        "duration": 8652,
        "start_time": "2021-12-26T14:08:17.197Z"
      },
      {
        "duration": 50,
        "start_time": "2021-12-26T14:08:37.873Z"
      },
      {
        "duration": 35,
        "start_time": "2021-12-26T14:09:01.264Z"
      },
      {
        "duration": 37,
        "start_time": "2021-12-26T14:09:10.783Z"
      },
      {
        "duration": 322,
        "start_time": "2021-12-26T14:13:34.925Z"
      },
      {
        "duration": 598,
        "start_time": "2022-01-05T04:04:43.854Z"
      },
      {
        "duration": 24,
        "start_time": "2022-01-05T04:04:44.454Z"
      },
      {
        "duration": 26,
        "start_time": "2022-01-05T04:04:44.480Z"
      },
      {
        "duration": 9,
        "start_time": "2022-01-05T04:04:44.508Z"
      },
      {
        "duration": 40,
        "start_time": "2022-01-05T04:04:44.518Z"
      },
      {
        "duration": 28,
        "start_time": "2022-01-05T04:04:44.560Z"
      },
      {
        "duration": 8,
        "start_time": "2022-01-05T04:04:44.590Z"
      },
      {
        "duration": 3,
        "start_time": "2022-01-05T04:04:44.601Z"
      },
      {
        "duration": 5,
        "start_time": "2022-01-05T04:04:44.606Z"
      },
      {
        "duration": 14,
        "start_time": "2022-01-05T04:04:44.613Z"
      },
      {
        "duration": 8,
        "start_time": "2022-01-05T04:04:44.628Z"
      },
      {
        "duration": 13,
        "start_time": "2022-01-05T04:04:44.637Z"
      },
      {
        "duration": 7,
        "start_time": "2022-01-05T04:04:44.652Z"
      },
      {
        "duration": 5,
        "start_time": "2022-01-05T04:04:44.691Z"
      },
      {
        "duration": 6,
        "start_time": "2022-01-05T04:04:44.697Z"
      },
      {
        "duration": 6,
        "start_time": "2022-01-05T04:04:44.704Z"
      },
      {
        "duration": 6,
        "start_time": "2022-01-05T04:04:44.711Z"
      },
      {
        "duration": 9,
        "start_time": "2022-01-05T04:04:44.718Z"
      },
      {
        "duration": 18,
        "start_time": "2022-01-05T04:04:44.729Z"
      },
      {
        "duration": 9,
        "start_time": "2022-01-05T04:04:44.748Z"
      },
      {
        "duration": 39,
        "start_time": "2022-01-05T04:04:44.758Z"
      },
      {
        "duration": 18,
        "start_time": "2022-01-05T04:04:44.799Z"
      },
      {
        "duration": 2806,
        "start_time": "2022-01-05T04:04:44.820Z"
      },
      {
        "duration": 64,
        "start_time": "2022-01-05T04:04:47.628Z"
      },
      {
        "duration": 12,
        "start_time": "2022-01-05T04:04:47.694Z"
      },
      {
        "duration": 27,
        "start_time": "2022-01-05T04:04:47.708Z"
      },
      {
        "duration": 69,
        "start_time": "2022-01-05T04:04:47.737Z"
      },
      {
        "duration": 3,
        "start_time": "2022-01-05T04:04:47.807Z"
      },
      {
        "duration": 498,
        "start_time": "2022-01-05T04:04:47.812Z"
      },
      {
        "duration": 22,
        "start_time": "2022-01-05T04:04:48.312Z"
      },
      {
        "duration": 27,
        "start_time": "2022-01-05T04:04:48.336Z"
      },
      {
        "duration": 184,
        "start_time": "2022-01-05T04:04:48.364Z"
      },
      {
        "duration": 627,
        "start_time": "2022-01-05T06:58:32.340Z"
      },
      {
        "duration": 21,
        "start_time": "2022-01-05T06:58:32.969Z"
      },
      {
        "duration": 29,
        "start_time": "2022-01-05T06:58:32.996Z"
      },
      {
        "duration": 3,
        "start_time": "2022-01-05T06:58:33.026Z"
      },
      {
        "duration": 29,
        "start_time": "2022-01-05T06:58:33.030Z"
      },
      {
        "duration": 8,
        "start_time": "2022-01-05T06:58:33.060Z"
      },
      {
        "duration": 8,
        "start_time": "2022-01-05T06:58:33.069Z"
      },
      {
        "duration": 3,
        "start_time": "2022-01-05T06:58:33.079Z"
      },
      {
        "duration": 9,
        "start_time": "2022-01-05T06:58:33.083Z"
      },
      {
        "duration": 21,
        "start_time": "2022-01-05T06:58:33.093Z"
      },
      {
        "duration": 6,
        "start_time": "2022-01-05T06:58:33.115Z"
      },
      {
        "duration": 21,
        "start_time": "2022-01-05T06:58:33.122Z"
      },
      {
        "duration": 11,
        "start_time": "2022-01-05T06:58:33.144Z"
      },
      {
        "duration": 3,
        "start_time": "2022-01-05T06:58:33.156Z"
      },
      {
        "duration": 15,
        "start_time": "2022-01-05T06:58:33.161Z"
      },
      {
        "duration": 13,
        "start_time": "2022-01-05T06:58:33.177Z"
      },
      {
        "duration": 20,
        "start_time": "2022-01-05T06:58:33.191Z"
      },
      {
        "duration": 10,
        "start_time": "2022-01-05T06:58:33.212Z"
      },
      {
        "duration": 19,
        "start_time": "2022-01-05T06:58:33.223Z"
      },
      {
        "duration": 18,
        "start_time": "2022-01-05T06:58:33.243Z"
      },
      {
        "duration": 10,
        "start_time": "2022-01-05T06:58:33.262Z"
      },
      {
        "duration": 15,
        "start_time": "2022-01-05T06:58:33.274Z"
      },
      {
        "duration": 2655,
        "start_time": "2022-01-05T06:58:33.291Z"
      },
      {
        "duration": 7,
        "start_time": "2022-01-05T06:58:35.948Z"
      },
      {
        "duration": 13,
        "start_time": "2022-01-05T06:58:35.956Z"
      },
      {
        "duration": 26,
        "start_time": "2022-01-05T06:58:35.970Z"
      },
      {
        "duration": 37,
        "start_time": "2022-01-05T06:58:35.997Z"
      },
      {
        "duration": 3,
        "start_time": "2022-01-05T06:58:36.035Z"
      },
      {
        "duration": 434,
        "start_time": "2022-01-05T06:58:36.039Z"
      },
      {
        "duration": 19,
        "start_time": "2022-01-05T06:58:36.475Z"
      },
      {
        "duration": 37,
        "start_time": "2022-01-05T06:58:36.496Z"
      },
      {
        "duration": 320,
        "start_time": "2022-01-05T06:58:36.534Z"
      },
      {
        "duration": 379,
        "start_time": "2022-01-05T07:02:09.680Z"
      },
      {
        "duration": 202,
        "start_time": "2022-01-05T07:03:05.967Z"
      },
      {
        "duration": 155,
        "start_time": "2022-01-05T07:03:13.409Z"
      },
      {
        "duration": 293,
        "start_time": "2022-01-05T07:06:11.453Z"
      },
      {
        "duration": 283,
        "start_time": "2022-01-05T07:06:12.068Z"
      },
      {
        "duration": 305,
        "start_time": "2022-01-05T07:06:20.129Z"
      },
      {
        "duration": 289,
        "start_time": "2022-01-05T07:06:29.102Z"
      },
      {
        "duration": 278,
        "start_time": "2022-01-05T07:06:41.312Z"
      },
      {
        "duration": 136,
        "start_time": "2022-01-05T07:07:28.446Z"
      },
      {
        "duration": 274,
        "start_time": "2022-01-05T07:07:34.150Z"
      },
      {
        "duration": 243,
        "start_time": "2022-01-05T07:07:39.421Z"
      },
      {
        "duration": 258,
        "start_time": "2022-01-05T07:07:48.547Z"
      },
      {
        "duration": 336,
        "start_time": "2022-01-05T07:07:52.443Z"
      },
      {
        "duration": 274,
        "start_time": "2022-01-05T07:07:58.621Z"
      },
      {
        "duration": 245,
        "start_time": "2022-01-05T07:08:07.630Z"
      },
      {
        "duration": 221,
        "start_time": "2022-01-05T07:08:14.272Z"
      },
      {
        "duration": 222,
        "start_time": "2022-01-05T07:08:20.840Z"
      },
      {
        "duration": 241,
        "start_time": "2022-01-05T07:08:27.537Z"
      },
      {
        "duration": 610,
        "start_time": "2022-01-05T07:08:34.869Z"
      },
      {
        "duration": 20,
        "start_time": "2022-01-05T07:08:35.481Z"
      },
      {
        "duration": 11,
        "start_time": "2022-01-05T07:08:35.503Z"
      },
      {
        "duration": 12,
        "start_time": "2022-01-05T07:08:35.516Z"
      },
      {
        "duration": 19,
        "start_time": "2022-01-05T07:08:35.530Z"
      },
      {
        "duration": 12,
        "start_time": "2022-01-05T07:08:35.550Z"
      },
      {
        "duration": 8,
        "start_time": "2022-01-05T07:08:35.564Z"
      },
      {
        "duration": 3,
        "start_time": "2022-01-05T07:08:35.575Z"
      },
      {
        "duration": 5,
        "start_time": "2022-01-05T07:08:35.580Z"
      },
      {
        "duration": 41,
        "start_time": "2022-01-05T07:08:35.586Z"
      },
      {
        "duration": 8,
        "start_time": "2022-01-05T07:08:35.629Z"
      },
      {
        "duration": 11,
        "start_time": "2022-01-05T07:08:35.639Z"
      },
      {
        "duration": 10,
        "start_time": "2022-01-05T07:08:35.651Z"
      },
      {
        "duration": 4,
        "start_time": "2022-01-05T07:08:35.663Z"
      },
      {
        "duration": 5,
        "start_time": "2022-01-05T07:08:35.668Z"
      },
      {
        "duration": 4,
        "start_time": "2022-01-05T07:08:35.674Z"
      },
      {
        "duration": 6,
        "start_time": "2022-01-05T07:08:35.679Z"
      },
      {
        "duration": 45,
        "start_time": "2022-01-05T07:08:35.687Z"
      },
      {
        "duration": 16,
        "start_time": "2022-01-05T07:08:35.733Z"
      },
      {
        "duration": 9,
        "start_time": "2022-01-05T07:08:35.751Z"
      },
      {
        "duration": 6,
        "start_time": "2022-01-05T07:08:35.762Z"
      },
      {
        "duration": 16,
        "start_time": "2022-01-05T07:08:35.770Z"
      },
      {
        "duration": 2490,
        "start_time": "2022-01-05T07:08:35.789Z"
      },
      {
        "duration": 7,
        "start_time": "2022-01-05T07:08:38.281Z"
      },
      {
        "duration": 13,
        "start_time": "2022-01-05T07:08:38.289Z"
      },
      {
        "duration": 39,
        "start_time": "2022-01-05T07:08:38.303Z"
      },
      {
        "duration": 21,
        "start_time": "2022-01-05T07:08:38.343Z"
      },
      {
        "duration": 3,
        "start_time": "2022-01-05T07:08:38.365Z"
      },
      {
        "duration": 558,
        "start_time": "2022-01-05T07:08:38.369Z"
      },
      {
        "duration": 18,
        "start_time": "2022-01-05T07:08:38.928Z"
      },
      {
        "duration": 23,
        "start_time": "2022-01-05T07:08:38.947Z"
      },
      {
        "duration": 447,
        "start_time": "2022-01-05T07:08:38.971Z"
      },
      {
        "duration": 227,
        "start_time": "2022-01-05T07:08:39.419Z"
      },
      {
        "duration": 243,
        "start_time": "2022-01-05T07:08:39.648Z"
      },
      {
        "duration": 224,
        "start_time": "2022-01-05T07:08:39.892Z"
      },
      {
        "duration": 1527,
        "start_time": "2022-01-05T07:29:53.995Z"
      },
      {
        "duration": 277,
        "start_time": "2022-01-05T07:29:59.067Z"
      },
      {
        "duration": 289,
        "start_time": "2022-01-05T07:30:07.129Z"
      },
      {
        "duration": 337,
        "start_time": "2022-01-05T07:30:11.626Z"
      },
      {
        "duration": 282,
        "start_time": "2022-01-05T07:30:16.247Z"
      },
      {
        "duration": 651,
        "start_time": "2022-01-05T07:30:27.433Z"
      },
      {
        "duration": 20,
        "start_time": "2022-01-05T07:30:28.085Z"
      },
      {
        "duration": 22,
        "start_time": "2022-01-05T07:30:28.107Z"
      },
      {
        "duration": 2,
        "start_time": "2022-01-05T07:30:28.130Z"
      },
      {
        "duration": 20,
        "start_time": "2022-01-05T07:30:28.134Z"
      },
      {
        "duration": 10,
        "start_time": "2022-01-05T07:30:28.155Z"
      },
      {
        "duration": 7,
        "start_time": "2022-01-05T07:30:28.166Z"
      },
      {
        "duration": 4,
        "start_time": "2022-01-05T07:30:28.175Z"
      },
      {
        "duration": 5,
        "start_time": "2022-01-05T07:30:28.181Z"
      },
      {
        "duration": 13,
        "start_time": "2022-01-05T07:30:28.187Z"
      },
      {
        "duration": 27,
        "start_time": "2022-01-05T07:30:28.202Z"
      },
      {
        "duration": 13,
        "start_time": "2022-01-05T07:30:28.230Z"
      },
      {
        "duration": 8,
        "start_time": "2022-01-05T07:30:28.244Z"
      },
      {
        "duration": 3,
        "start_time": "2022-01-05T07:30:28.254Z"
      },
      {
        "duration": 6,
        "start_time": "2022-01-05T07:30:28.258Z"
      },
      {
        "duration": 7,
        "start_time": "2022-01-05T07:30:28.265Z"
      },
      {
        "duration": 5,
        "start_time": "2022-01-05T07:30:28.273Z"
      },
      {
        "duration": 9,
        "start_time": "2022-01-05T07:30:28.279Z"
      },
      {
        "duration": 38,
        "start_time": "2022-01-05T07:30:28.290Z"
      },
      {
        "duration": 8,
        "start_time": "2022-01-05T07:30:28.329Z"
      },
      {
        "duration": 6,
        "start_time": "2022-01-05T07:30:28.338Z"
      },
      {
        "duration": 13,
        "start_time": "2022-01-05T07:30:28.345Z"
      },
      {
        "duration": 2774,
        "start_time": "2022-01-05T07:30:28.361Z"
      },
      {
        "duration": 7,
        "start_time": "2022-01-05T07:30:31.137Z"
      },
      {
        "duration": 20,
        "start_time": "2022-01-05T07:30:31.146Z"
      },
      {
        "duration": 26,
        "start_time": "2022-01-05T07:30:31.168Z"
      },
      {
        "duration": 20,
        "start_time": "2022-01-05T07:30:31.196Z"
      },
      {
        "duration": 3,
        "start_time": "2022-01-05T07:30:31.226Z"
      },
      {
        "duration": 451,
        "start_time": "2022-01-05T07:30:31.230Z"
      },
      {
        "duration": 19,
        "start_time": "2022-01-05T07:30:31.682Z"
      },
      {
        "duration": 29,
        "start_time": "2022-01-05T07:30:31.703Z"
      },
      {
        "duration": 394,
        "start_time": "2022-01-05T07:30:31.733Z"
      },
      {
        "duration": 264,
        "start_time": "2022-01-05T07:30:32.128Z"
      },
      {
        "duration": 288,
        "start_time": "2022-01-05T07:30:32.394Z"
      },
      {
        "duration": 277,
        "start_time": "2022-01-05T07:30:32.683Z"
      },
      {
        "duration": 142,
        "start_time": "2022-01-05T07:41:36.706Z"
      },
      {
        "duration": 220,
        "start_time": "2022-01-05T07:41:48.741Z"
      },
      {
        "duration": 1029,
        "start_time": "2022-01-07T15:22:49.603Z"
      },
      {
        "duration": 62,
        "start_time": "2022-01-07T15:22:50.635Z"
      },
      {
        "duration": 24,
        "start_time": "2022-01-07T15:22:50.702Z"
      },
      {
        "duration": 32,
        "start_time": "2022-01-07T15:22:50.729Z"
      },
      {
        "duration": 42,
        "start_time": "2022-01-07T15:22:50.764Z"
      },
      {
        "duration": 14,
        "start_time": "2022-01-07T15:22:50.809Z"
      },
      {
        "duration": 43,
        "start_time": "2022-01-07T15:22:50.826Z"
      },
      {
        "duration": 5,
        "start_time": "2022-01-07T15:22:50.875Z"
      },
      {
        "duration": 13,
        "start_time": "2022-01-07T15:22:50.884Z"
      },
      {
        "duration": 18,
        "start_time": "2022-01-07T15:22:50.899Z"
      },
      {
        "duration": 51,
        "start_time": "2022-01-07T15:22:50.920Z"
      },
      {
        "duration": 21,
        "start_time": "2022-01-07T15:22:50.973Z"
      },
      {
        "duration": 12,
        "start_time": "2022-01-07T15:22:50.997Z"
      },
      {
        "duration": 6,
        "start_time": "2022-01-07T15:22:51.011Z"
      },
      {
        "duration": 44,
        "start_time": "2022-01-07T15:22:51.020Z"
      },
      {
        "duration": 8,
        "start_time": "2022-01-07T15:22:51.066Z"
      },
      {
        "duration": 8,
        "start_time": "2022-01-07T15:22:51.082Z"
      },
      {
        "duration": 13,
        "start_time": "2022-01-07T15:22:51.094Z"
      },
      {
        "duration": 69,
        "start_time": "2022-01-07T15:22:51.110Z"
      },
      {
        "duration": 20,
        "start_time": "2022-01-07T15:22:51.182Z"
      },
      {
        "duration": 13,
        "start_time": "2022-01-07T15:22:51.205Z"
      },
      {
        "duration": 23,
        "start_time": "2022-01-07T15:22:51.261Z"
      },
      {
        "duration": 4908,
        "start_time": "2022-01-07T15:22:51.290Z"
      },
      {
        "duration": 12,
        "start_time": "2022-01-07T15:22:56.201Z"
      },
      {
        "duration": 46,
        "start_time": "2022-01-07T15:22:56.215Z"
      },
      {
        "duration": 88,
        "start_time": "2022-01-07T15:22:56.264Z"
      },
      {
        "duration": 58,
        "start_time": "2022-01-07T15:22:56.355Z"
      },
      {
        "duration": 5,
        "start_time": "2022-01-07T15:22:56.415Z"
      },
      {
        "duration": 1760,
        "start_time": "2022-01-07T15:22:56.422Z"
      },
      {
        "duration": 51,
        "start_time": "2022-01-07T15:22:58.185Z"
      },
      {
        "duration": 57,
        "start_time": "2022-01-07T15:22:58.239Z"
      },
      {
        "duration": 944,
        "start_time": "2022-01-07T15:22:58.298Z"
      },
      {
        "duration": 603,
        "start_time": "2022-01-07T15:22:59.245Z"
      },
      {
        "duration": 756,
        "start_time": "2022-01-07T15:22:59.850Z"
      },
      {
        "duration": 529,
        "start_time": "2022-01-07T15:23:00.609Z"
      },
      {
        "duration": 241,
        "start_time": "2022-01-07T15:33:53.847Z"
      },
      {
        "duration": 246,
        "start_time": "2022-01-07T15:36:50.329Z"
      },
      {
        "duration": 210,
        "start_time": "2022-01-07T15:37:36.829Z"
      },
      {
        "duration": 232,
        "start_time": "2022-01-07T15:38:02.950Z"
      },
      {
        "duration": 284,
        "start_time": "2022-01-07T15:38:29.132Z"
      },
      {
        "duration": 990,
        "start_time": "2022-01-07T15:53:09.727Z"
      },
      {
        "duration": 48,
        "start_time": "2022-01-07T15:53:10.721Z"
      },
      {
        "duration": 18,
        "start_time": "2022-01-07T15:53:10.774Z"
      },
      {
        "duration": 4,
        "start_time": "2022-01-07T15:53:10.796Z"
      },
      {
        "duration": 74,
        "start_time": "2022-01-07T15:53:10.803Z"
      },
      {
        "duration": 13,
        "start_time": "2022-01-07T15:53:10.879Z"
      },
      {
        "duration": 12,
        "start_time": "2022-01-07T15:53:10.894Z"
      },
      {
        "duration": 5,
        "start_time": "2022-01-07T15:53:10.911Z"
      },
      {
        "duration": 45,
        "start_time": "2022-01-07T15:53:10.919Z"
      },
      {
        "duration": 18,
        "start_time": "2022-01-07T15:53:10.966Z"
      },
      {
        "duration": 11,
        "start_time": "2022-01-07T15:53:10.987Z"
      },
      {
        "duration": 18,
        "start_time": "2022-01-07T15:53:11.000Z"
      },
      {
        "duration": 13,
        "start_time": "2022-01-07T15:53:11.061Z"
      },
      {
        "duration": 7,
        "start_time": "2022-01-07T15:53:11.077Z"
      },
      {
        "duration": 10,
        "start_time": "2022-01-07T15:53:11.087Z"
      },
      {
        "duration": 5,
        "start_time": "2022-01-07T15:53:11.100Z"
      },
      {
        "duration": 51,
        "start_time": "2022-01-07T15:53:11.108Z"
      },
      {
        "duration": 11,
        "start_time": "2022-01-07T15:53:11.162Z"
      },
      {
        "duration": 32,
        "start_time": "2022-01-07T15:53:11.176Z"
      },
      {
        "duration": 14,
        "start_time": "2022-01-07T15:53:11.211Z"
      },
      {
        "duration": 40,
        "start_time": "2022-01-07T15:53:11.227Z"
      },
      {
        "duration": 23,
        "start_time": "2022-01-07T15:53:11.269Z"
      },
      {
        "duration": 4764,
        "start_time": "2022-01-07T15:53:11.297Z"
      },
      {
        "duration": 13,
        "start_time": "2022-01-07T15:53:16.064Z"
      },
      {
        "duration": 23,
        "start_time": "2022-01-07T15:53:16.080Z"
      },
      {
        "duration": 94,
        "start_time": "2022-01-07T15:53:16.106Z"
      },
      {
        "duration": 64,
        "start_time": "2022-01-07T15:53:16.204Z"
      },
      {
        "duration": 5,
        "start_time": "2022-01-07T15:53:16.271Z"
      },
      {
        "duration": 916,
        "start_time": "2022-01-07T15:53:16.278Z"
      },
      {
        "duration": 39,
        "start_time": "2022-01-07T15:53:17.197Z"
      },
      {
        "duration": 57,
        "start_time": "2022-01-07T15:53:17.238Z"
      },
      {
        "duration": 741,
        "start_time": "2022-01-07T15:53:17.297Z"
      },
      {
        "duration": 256,
        "start_time": "2022-01-07T15:53:18.041Z"
      },
      {
        "duration": 572,
        "start_time": "2022-01-07T15:53:18.300Z"
      },
      {
        "duration": 232,
        "start_time": "2022-01-07T15:53:18.875Z"
      },
      {
        "duration": 585,
        "start_time": "2022-01-07T15:53:19.110Z"
      },
      {
        "duration": 247,
        "start_time": "2022-01-07T15:53:19.698Z"
      },
      {
        "duration": 427,
        "start_time": "2022-01-07T15:53:19.947Z"
      },
      {
        "duration": 236,
        "start_time": "2022-01-07T15:53:20.376Z"
      },
      {
        "duration": 319,
        "start_time": "2022-01-07T15:53:20.614Z"
      },
      {
        "duration": 552,
        "start_time": "2022-01-07T16:03:17.967Z"
      },
      {
        "duration": 563,
        "start_time": "2022-01-07T16:03:34.577Z"
      },
      {
        "duration": 753,
        "start_time": "2022-01-07T16:04:02.533Z"
      },
      {
        "duration": 313,
        "start_time": "2022-01-07T16:04:37.192Z"
      },
      {
        "duration": 37,
        "start_time": "2022-01-07T16:08:04.914Z"
      },
      {
        "duration": 28,
        "start_time": "2022-01-07T16:20:54.482Z"
      },
      {
        "duration": 421,
        "start_time": "2022-01-07T16:26:51.237Z"
      },
      {
        "duration": 751,
        "start_time": "2022-01-07T16:27:00.708Z"
      },
      {
        "duration": 21,
        "start_time": "2022-01-07T16:27:15.712Z"
      },
      {
        "duration": 647,
        "start_time": "2022-01-07T16:27:53.763Z"
      },
      {
        "duration": 23,
        "start_time": "2022-01-07T16:56:33.104Z"
      },
      {
        "duration": 959,
        "start_time": "2022-01-07T16:57:57.914Z"
      },
      {
        "duration": 41,
        "start_time": "2022-01-07T16:57:58.876Z"
      },
      {
        "duration": 42,
        "start_time": "2022-01-07T16:57:58.920Z"
      },
      {
        "duration": 4,
        "start_time": "2022-01-07T16:57:58.966Z"
      },
      {
        "duration": 37,
        "start_time": "2022-01-07T16:57:58.973Z"
      },
      {
        "duration": 14,
        "start_time": "2022-01-07T16:57:59.012Z"
      },
      {
        "duration": 12,
        "start_time": "2022-01-07T16:57:59.060Z"
      },
      {
        "duration": 5,
        "start_time": "2022-01-07T16:57:59.076Z"
      },
      {
        "duration": 8,
        "start_time": "2022-01-07T16:57:59.085Z"
      },
      {
        "duration": 19,
        "start_time": "2022-01-07T16:57:59.095Z"
      },
      {
        "duration": 51,
        "start_time": "2022-01-07T16:57:59.117Z"
      },
      {
        "duration": 22,
        "start_time": "2022-01-07T16:57:59.171Z"
      },
      {
        "duration": 13,
        "start_time": "2022-01-07T16:57:59.195Z"
      },
      {
        "duration": 7,
        "start_time": "2022-01-07T16:57:59.211Z"
      },
      {
        "duration": 41,
        "start_time": "2022-01-07T16:57:59.221Z"
      },
      {
        "duration": 7,
        "start_time": "2022-01-07T16:57:59.264Z"
      },
      {
        "duration": 9,
        "start_time": "2022-01-07T16:57:59.273Z"
      },
      {
        "duration": 12,
        "start_time": "2022-01-07T16:57:59.284Z"
      },
      {
        "duration": 76,
        "start_time": "2022-01-07T16:57:59.298Z"
      },
      {
        "duration": 13,
        "start_time": "2022-01-07T16:57:59.376Z"
      },
      {
        "duration": 11,
        "start_time": "2022-01-07T16:57:59.392Z"
      },
      {
        "duration": 56,
        "start_time": "2022-01-07T16:57:59.405Z"
      },
      {
        "duration": 4201,
        "start_time": "2022-01-07T16:57:59.467Z"
      },
      {
        "duration": 12,
        "start_time": "2022-01-07T16:58:03.671Z"
      },
      {
        "duration": 605,
        "start_time": "2022-01-07T16:58:03.685Z"
      },
      {
        "duration": 21,
        "start_time": "2022-01-07T16:58:04.293Z"
      },
      {
        "duration": 42,
        "start_time": "2022-01-07T16:58:04.317Z"
      },
      {
        "duration": 73,
        "start_time": "2022-01-07T16:58:04.362Z"
      },
      {
        "duration": 44,
        "start_time": "2022-01-07T16:58:04.438Z"
      },
      {
        "duration": 6,
        "start_time": "2022-01-07T16:58:04.485Z"
      },
      {
        "duration": 966,
        "start_time": "2022-01-07T16:58:04.494Z"
      },
      {
        "duration": 39,
        "start_time": "2022-01-07T16:58:05.463Z"
      },
      {
        "duration": 85,
        "start_time": "2022-01-07T16:58:05.505Z"
      },
      {
        "duration": 482,
        "start_time": "2022-01-07T16:58:05.593Z"
      },
      {
        "duration": 36,
        "start_time": "2022-01-07T16:58:06.077Z"
      },
      {
        "duration": 54,
        "start_time": "2022-01-07T16:58:06.116Z"
      },
      {
        "duration": 756,
        "start_time": "2022-01-07T16:58:06.172Z"
      },
      {
        "duration": 233,
        "start_time": "2022-01-07T16:58:06.931Z"
      },
      {
        "duration": 682,
        "start_time": "2022-01-07T16:58:07.166Z"
      },
      {
        "duration": 255,
        "start_time": "2022-01-07T16:58:07.850Z"
      },
      {
        "duration": 416,
        "start_time": "2022-01-07T16:58:08.108Z"
      },
      {
        "duration": 222,
        "start_time": "2022-01-07T16:58:08.527Z"
      },
      {
        "duration": 305,
        "start_time": "2022-01-07T16:58:08.751Z"
      },
      {
        "duration": 925,
        "start_time": "2022-01-07T17:32:55.973Z"
      },
      {
        "duration": 41,
        "start_time": "2022-01-07T17:32:56.901Z"
      },
      {
        "duration": 22,
        "start_time": "2022-01-07T17:32:56.962Z"
      },
      {
        "duration": 3,
        "start_time": "2022-01-07T17:32:56.987Z"
      },
      {
        "duration": 33,
        "start_time": "2022-01-07T17:32:56.993Z"
      },
      {
        "duration": 16,
        "start_time": "2022-01-07T17:32:57.060Z"
      },
      {
        "duration": 12,
        "start_time": "2022-01-07T17:32:57.079Z"
      },
      {
        "duration": 3,
        "start_time": "2022-01-07T17:32:57.095Z"
      },
      {
        "duration": 8,
        "start_time": "2022-01-07T17:32:57.101Z"
      },
      {
        "duration": 62,
        "start_time": "2022-01-07T17:32:57.111Z"
      },
      {
        "duration": 12,
        "start_time": "2022-01-07T17:32:57.175Z"
      },
      {
        "duration": 17,
        "start_time": "2022-01-07T17:32:57.189Z"
      },
      {
        "duration": 13,
        "start_time": "2022-01-07T17:32:57.209Z"
      },
      {
        "duration": 6,
        "start_time": "2022-01-07T17:32:57.225Z"
      },
      {
        "duration": 6,
        "start_time": "2022-01-07T17:32:57.260Z"
      },
      {
        "duration": 7,
        "start_time": "2022-01-07T17:32:57.268Z"
      },
      {
        "duration": 17,
        "start_time": "2022-01-07T17:32:57.278Z"
      },
      {
        "duration": 12,
        "start_time": "2022-01-07T17:32:57.297Z"
      },
      {
        "duration": 71,
        "start_time": "2022-01-07T17:32:57.311Z"
      },
      {
        "duration": 15,
        "start_time": "2022-01-07T17:32:57.384Z"
      },
      {
        "duration": 9,
        "start_time": "2022-01-07T17:32:57.402Z"
      },
      {
        "duration": 49,
        "start_time": "2022-01-07T17:32:57.413Z"
      },
      {
        "duration": 4526,
        "start_time": "2022-01-07T17:32:57.467Z"
      },
      {
        "duration": 11,
        "start_time": "2022-01-07T17:33:01.997Z"
      },
      {
        "duration": 626,
        "start_time": "2022-01-07T17:33:02.011Z"
      },
      {
        "duration": 32,
        "start_time": "2022-01-07T17:33:02.640Z"
      },
      {
        "duration": 18,
        "start_time": "2022-01-07T17:33:02.675Z"
      },
      {
        "duration": 41,
        "start_time": "2022-01-07T17:33:02.695Z"
      },
      {
        "duration": 65,
        "start_time": "2022-01-07T17:33:02.738Z"
      },
      {
        "duration": 5,
        "start_time": "2022-01-07T17:33:02.805Z"
      },
      {
        "duration": 877,
        "start_time": "2022-01-07T17:33:02.813Z"
      },
      {
        "duration": 37,
        "start_time": "2022-01-07T17:33:03.692Z"
      },
      {
        "duration": 58,
        "start_time": "2022-01-07T17:33:03.732Z"
      },
      {
        "duration": 514,
        "start_time": "2022-01-07T17:33:03.793Z"
      },
      {
        "duration": 36,
        "start_time": "2022-01-07T17:33:04.309Z"
      },
      {
        "duration": 26,
        "start_time": "2022-01-07T17:33:04.360Z"
      },
      {
        "duration": 583,
        "start_time": "2022-01-07T17:33:04.389Z"
      },
      {
        "duration": 250,
        "start_time": "2022-01-07T17:33:04.974Z"
      },
      {
        "duration": 652,
        "start_time": "2022-01-07T17:33:05.227Z"
      },
      {
        "duration": 261,
        "start_time": "2022-01-07T17:33:05.883Z"
      },
      {
        "duration": 477,
        "start_time": "2022-01-07T17:33:06.146Z"
      },
      {
        "duration": 271,
        "start_time": "2022-01-07T17:33:06.626Z"
      },
      {
        "duration": 337,
        "start_time": "2022-01-07T17:33:06.899Z"
      },
      {
        "duration": 643,
        "start_time": "2022-01-08T05:47:44.897Z"
      },
      {
        "duration": 21,
        "start_time": "2022-01-08T05:47:45.542Z"
      },
      {
        "duration": 12,
        "start_time": "2022-01-08T05:47:45.565Z"
      },
      {
        "duration": 3,
        "start_time": "2022-01-08T05:47:45.578Z"
      },
      {
        "duration": 22,
        "start_time": "2022-01-08T05:47:45.582Z"
      },
      {
        "duration": 10,
        "start_time": "2022-01-08T05:47:45.606Z"
      },
      {
        "duration": 29,
        "start_time": "2022-01-08T05:47:45.617Z"
      },
      {
        "duration": 3,
        "start_time": "2022-01-08T05:47:45.648Z"
      },
      {
        "duration": 7,
        "start_time": "2022-01-08T05:47:45.653Z"
      },
      {
        "duration": 14,
        "start_time": "2022-01-08T05:47:45.661Z"
      },
      {
        "duration": 8,
        "start_time": "2022-01-08T05:47:45.676Z"
      },
      {
        "duration": 12,
        "start_time": "2022-01-08T05:47:45.685Z"
      },
      {
        "duration": 7,
        "start_time": "2022-01-08T05:47:45.699Z"
      },
      {
        "duration": 37,
        "start_time": "2022-01-08T05:47:45.707Z"
      },
      {
        "duration": 5,
        "start_time": "2022-01-08T05:47:45.746Z"
      },
      {
        "duration": 3,
        "start_time": "2022-01-08T05:47:45.753Z"
      },
      {
        "duration": 7,
        "start_time": "2022-01-08T05:47:45.758Z"
      },
      {
        "duration": 10,
        "start_time": "2022-01-08T05:47:45.767Z"
      },
      {
        "duration": 21,
        "start_time": "2022-01-08T05:47:45.778Z"
      },
      {
        "duration": 8,
        "start_time": "2022-01-08T05:47:45.800Z"
      },
      {
        "duration": 5,
        "start_time": "2022-01-08T05:47:45.810Z"
      },
      {
        "duration": 11,
        "start_time": "2022-01-08T05:47:45.841Z"
      },
      {
        "duration": 2712,
        "start_time": "2022-01-08T05:47:45.855Z"
      },
      {
        "duration": 8,
        "start_time": "2022-01-08T05:47:48.570Z"
      },
      {
        "duration": 356,
        "start_time": "2022-01-08T05:47:48.580Z"
      },
      {
        "duration": 15,
        "start_time": "2022-01-08T05:47:48.940Z"
      },
      {
        "duration": 11,
        "start_time": "2022-01-08T05:47:48.957Z"
      },
      {
        "duration": 27,
        "start_time": "2022-01-08T05:47:48.970Z"
      },
      {
        "duration": 23,
        "start_time": "2022-01-08T05:47:48.998Z"
      },
      {
        "duration": 3,
        "start_time": "2022-01-08T05:47:49.041Z"
      },
      {
        "duration": 461,
        "start_time": "2022-01-08T05:47:49.045Z"
      },
      {
        "duration": 21,
        "start_time": "2022-01-08T05:47:49.507Z"
      },
      {
        "duration": 28,
        "start_time": "2022-01-08T05:47:49.541Z"
      },
      {
        "duration": 292,
        "start_time": "2022-01-08T05:47:49.570Z"
      },
      {
        "duration": 20,
        "start_time": "2022-01-08T05:47:49.864Z"
      },
      {
        "duration": 19,
        "start_time": "2022-01-08T05:47:49.885Z"
      },
      {
        "duration": 309,
        "start_time": "2022-01-08T05:47:49.905Z"
      },
      {
        "duration": 127,
        "start_time": "2022-01-08T05:47:50.216Z"
      },
      {
        "duration": 306,
        "start_time": "2022-01-08T05:47:50.345Z"
      },
      {
        "duration": 131,
        "start_time": "2022-01-08T05:47:50.652Z"
      },
      {
        "duration": 224,
        "start_time": "2022-01-08T05:47:50.785Z"
      },
      {
        "duration": 121,
        "start_time": "2022-01-08T05:47:51.011Z"
      },
      {
        "duration": 191,
        "start_time": "2022-01-08T05:47:51.134Z"
      },
      {
        "duration": 645,
        "start_time": "2022-01-08T05:52:20.947Z"
      },
      {
        "duration": 24,
        "start_time": "2022-01-08T05:52:21.594Z"
      },
      {
        "duration": 22,
        "start_time": "2022-01-08T05:52:21.620Z"
      },
      {
        "duration": 3,
        "start_time": "2022-01-08T05:52:21.643Z"
      },
      {
        "duration": 23,
        "start_time": "2022-01-08T05:52:21.647Z"
      },
      {
        "duration": 13,
        "start_time": "2022-01-08T05:52:21.671Z"
      },
      {
        "duration": 8,
        "start_time": "2022-01-08T05:52:21.686Z"
      },
      {
        "duration": 3,
        "start_time": "2022-01-08T05:52:21.696Z"
      },
      {
        "duration": 6,
        "start_time": "2022-01-08T05:52:21.701Z"
      },
      {
        "duration": 40,
        "start_time": "2022-01-08T05:52:21.708Z"
      },
      {
        "duration": 7,
        "start_time": "2022-01-08T05:52:21.750Z"
      },
      {
        "duration": 11,
        "start_time": "2022-01-08T05:52:21.759Z"
      },
      {
        "duration": 10,
        "start_time": "2022-01-08T05:52:21.771Z"
      },
      {
        "duration": 9,
        "start_time": "2022-01-08T05:52:21.783Z"
      },
      {
        "duration": 15,
        "start_time": "2022-01-08T05:52:21.793Z"
      },
      {
        "duration": 7,
        "start_time": "2022-01-08T05:52:21.810Z"
      },
      {
        "duration": 12,
        "start_time": "2022-01-08T05:52:21.818Z"
      },
      {
        "duration": 17,
        "start_time": "2022-01-08T05:52:21.831Z"
      },
      {
        "duration": 24,
        "start_time": "2022-01-08T05:52:21.850Z"
      },
      {
        "duration": 9,
        "start_time": "2022-01-08T05:52:21.875Z"
      },
      {
        "duration": 11,
        "start_time": "2022-01-08T05:52:21.885Z"
      },
      {
        "duration": 17,
        "start_time": "2022-01-08T05:52:21.898Z"
      },
      {
        "duration": 2727,
        "start_time": "2022-01-08T05:52:21.917Z"
      },
      {
        "duration": 8,
        "start_time": "2022-01-08T05:52:24.647Z"
      },
      {
        "duration": 371,
        "start_time": "2022-01-08T05:52:24.656Z"
      },
      {
        "duration": 18,
        "start_time": "2022-01-08T05:52:25.029Z"
      },
      {
        "duration": 12,
        "start_time": "2022-01-08T05:52:25.049Z"
      },
      {
        "duration": 30,
        "start_time": "2022-01-08T05:52:25.063Z"
      },
      {
        "duration": 52,
        "start_time": "2022-01-08T05:52:25.095Z"
      },
      {
        "duration": 4,
        "start_time": "2022-01-08T05:52:25.149Z"
      },
      {
        "duration": 592,
        "start_time": "2022-01-08T05:52:25.155Z"
      },
      {
        "duration": 21,
        "start_time": "2022-01-08T05:52:25.749Z"
      },
      {
        "duration": 37,
        "start_time": "2022-01-08T05:52:25.771Z"
      },
      {
        "duration": 280,
        "start_time": "2022-01-08T05:52:25.810Z"
      },
      {
        "duration": 19,
        "start_time": "2022-01-08T05:52:26.092Z"
      },
      {
        "duration": 14,
        "start_time": "2022-01-08T05:52:26.113Z"
      },
      {
        "duration": 285,
        "start_time": "2022-01-08T05:52:26.141Z"
      },
      {
        "duration": 131,
        "start_time": "2022-01-08T05:52:26.428Z"
      },
      {
        "duration": 302,
        "start_time": "2022-01-08T05:52:26.561Z"
      },
      {
        "duration": 135,
        "start_time": "2022-01-08T05:52:26.865Z"
      },
      {
        "duration": 236,
        "start_time": "2022-01-08T05:52:27.001Z"
      },
      {
        "duration": 132,
        "start_time": "2022-01-08T05:52:27.240Z"
      },
      {
        "duration": 193,
        "start_time": "2022-01-08T05:52:27.374Z"
      },
      {
        "duration": 5,
        "start_time": "2022-01-08T06:44:42.701Z"
      },
      {
        "duration": 5,
        "start_time": "2022-01-08T06:45:36.527Z"
      },
      {
        "duration": 5,
        "start_time": "2022-01-08T06:47:55.819Z"
      },
      {
        "duration": 9,
        "start_time": "2022-01-08T06:48:36.820Z"
      },
      {
        "duration": 333,
        "start_time": "2022-01-08T06:56:45.504Z"
      },
      {
        "duration": 705,
        "start_time": "2022-01-08T06:56:51.704Z"
      },
      {
        "duration": 31,
        "start_time": "2022-01-08T06:56:52.411Z"
      },
      {
        "duration": 11,
        "start_time": "2022-01-08T06:56:52.444Z"
      },
      {
        "duration": 3,
        "start_time": "2022-01-08T06:56:52.456Z"
      },
      {
        "duration": 22,
        "start_time": "2022-01-08T06:56:52.460Z"
      },
      {
        "duration": 10,
        "start_time": "2022-01-08T06:56:52.483Z"
      },
      {
        "duration": 8,
        "start_time": "2022-01-08T06:56:52.494Z"
      },
      {
        "duration": 3,
        "start_time": "2022-01-08T06:56:52.504Z"
      },
      {
        "duration": 34,
        "start_time": "2022-01-08T06:56:52.509Z"
      },
      {
        "duration": 14,
        "start_time": "2022-01-08T06:56:52.544Z"
      },
      {
        "duration": 8,
        "start_time": "2022-01-08T06:56:52.559Z"
      },
      {
        "duration": 14,
        "start_time": "2022-01-08T06:56:52.568Z"
      },
      {
        "duration": 11,
        "start_time": "2022-01-08T06:56:52.583Z"
      },
      {
        "duration": 6,
        "start_time": "2022-01-08T06:56:52.595Z"
      },
      {
        "duration": 6,
        "start_time": "2022-01-08T06:56:52.603Z"
      },
      {
        "duration": 8,
        "start_time": "2022-01-08T06:56:52.611Z"
      },
      {
        "duration": 22,
        "start_time": "2022-01-08T06:56:52.620Z"
      },
      {
        "duration": 8,
        "start_time": "2022-01-08T06:56:52.644Z"
      },
      {
        "duration": 21,
        "start_time": "2022-01-08T06:56:52.653Z"
      },
      {
        "duration": 8,
        "start_time": "2022-01-08T06:56:52.676Z"
      },
      {
        "duration": 6,
        "start_time": "2022-01-08T06:56:52.686Z"
      },
      {
        "duration": 17,
        "start_time": "2022-01-08T06:56:52.693Z"
      },
      {
        "duration": 3292,
        "start_time": "2022-01-08T06:56:52.714Z"
      },
      {
        "duration": 7,
        "start_time": "2022-01-08T06:56:56.009Z"
      },
      {
        "duration": 337,
        "start_time": "2022-01-08T06:56:56.017Z"
      },
      {
        "duration": 13,
        "start_time": "2022-01-08T06:56:56.355Z"
      },
      {
        "duration": 12,
        "start_time": "2022-01-08T06:56:56.370Z"
      },
      {
        "duration": 27,
        "start_time": "2022-01-08T06:56:56.383Z"
      },
      {
        "duration": 43,
        "start_time": "2022-01-08T06:56:56.411Z"
      },
      {
        "duration": 3,
        "start_time": "2022-01-08T06:56:56.455Z"
      },
      {
        "duration": 468,
        "start_time": "2022-01-08T06:56:56.460Z"
      },
      {
        "duration": 23,
        "start_time": "2022-01-08T06:56:56.930Z"
      },
      {
        "duration": 25,
        "start_time": "2022-01-08T06:56:56.954Z"
      },
      {
        "duration": 295,
        "start_time": "2022-01-08T06:56:56.981Z"
      },
      {
        "duration": 22,
        "start_time": "2022-01-08T06:56:57.278Z"
      },
      {
        "duration": 16,
        "start_time": "2022-01-08T06:56:57.302Z"
      },
      {
        "duration": 283,
        "start_time": "2022-01-08T06:56:57.340Z"
      },
      {
        "duration": 132,
        "start_time": "2022-01-08T06:56:57.625Z"
      },
      {
        "duration": 305,
        "start_time": "2022-01-08T06:56:57.759Z"
      },
      {
        "duration": 134,
        "start_time": "2022-01-08T06:56:58.066Z"
      },
      {
        "duration": 231,
        "start_time": "2022-01-08T06:56:58.202Z"
      },
      {
        "duration": 138,
        "start_time": "2022-01-08T06:56:58.435Z"
      },
      {
        "duration": 193,
        "start_time": "2022-01-08T06:56:58.574Z"
      },
      {
        "duration": 6,
        "start_time": "2022-01-08T06:56:58.769Z"
      },
      {
        "duration": 5,
        "start_time": "2022-01-08T06:56:58.777Z"
      },
      {
        "duration": 9,
        "start_time": "2022-01-08T06:56:58.783Z"
      },
      {
        "duration": 323,
        "start_time": "2022-01-08T06:57:16.163Z"
      },
      {
        "duration": 617,
        "start_time": "2022-01-08T06:57:21.279Z"
      },
      {
        "duration": 21,
        "start_time": "2022-01-08T06:57:21.898Z"
      },
      {
        "duration": 22,
        "start_time": "2022-01-08T06:57:21.921Z"
      },
      {
        "duration": 2,
        "start_time": "2022-01-08T06:57:21.945Z"
      },
      {
        "duration": 23,
        "start_time": "2022-01-08T06:57:21.949Z"
      },
      {
        "duration": 12,
        "start_time": "2022-01-08T06:57:21.973Z"
      },
      {
        "duration": 14,
        "start_time": "2022-01-08T06:57:21.986Z"
      },
      {
        "duration": 3,
        "start_time": "2022-01-08T06:57:22.003Z"
      },
      {
        "duration": 7,
        "start_time": "2022-01-08T06:57:22.009Z"
      },
      {
        "duration": 34,
        "start_time": "2022-01-08T06:57:22.018Z"
      },
      {
        "duration": 18,
        "start_time": "2022-01-08T06:57:22.054Z"
      },
      {
        "duration": 18,
        "start_time": "2022-01-08T06:57:22.074Z"
      },
      {
        "duration": 26,
        "start_time": "2022-01-08T06:57:22.093Z"
      },
      {
        "duration": 21,
        "start_time": "2022-01-08T06:57:22.121Z"
      },
      {
        "duration": 17,
        "start_time": "2022-01-08T06:57:22.143Z"
      },
      {
        "duration": 23,
        "start_time": "2022-01-08T06:57:22.162Z"
      },
      {
        "duration": 17,
        "start_time": "2022-01-08T06:57:22.186Z"
      },
      {
        "duration": 19,
        "start_time": "2022-01-08T06:57:22.204Z"
      },
      {
        "duration": 40,
        "start_time": "2022-01-08T06:57:22.224Z"
      },
      {
        "duration": 27,
        "start_time": "2022-01-08T06:57:22.265Z"
      },
      {
        "duration": 27,
        "start_time": "2022-01-08T06:57:22.293Z"
      },
      {
        "duration": 19,
        "start_time": "2022-01-08T06:57:22.321Z"
      },
      {
        "duration": 2681,
        "start_time": "2022-01-08T06:57:22.343Z"
      },
      {
        "duration": 16,
        "start_time": "2022-01-08T06:57:25.027Z"
      },
      {
        "duration": 367,
        "start_time": "2022-01-08T06:57:25.045Z"
      },
      {
        "duration": 14,
        "start_time": "2022-01-08T06:57:25.413Z"
      },
      {
        "duration": 23,
        "start_time": "2022-01-08T06:57:25.428Z"
      },
      {
        "duration": 40,
        "start_time": "2022-01-08T06:57:25.452Z"
      },
      {
        "duration": 21,
        "start_time": "2022-01-08T06:57:25.493Z"
      },
      {
        "duration": 19,
        "start_time": "2022-01-08T06:57:25.516Z"
      },
      {
        "duration": 460,
        "start_time": "2022-01-08T06:57:25.537Z"
      },
      {
        "duration": 20,
        "start_time": "2022-01-08T06:57:25.999Z"
      },
      {
        "duration": 32,
        "start_time": "2022-01-08T06:57:26.020Z"
      },
      {
        "duration": 282,
        "start_time": "2022-01-08T06:57:26.053Z"
      },
      {
        "duration": 23,
        "start_time": "2022-01-08T06:57:26.337Z"
      },
      {
        "duration": 14,
        "start_time": "2022-01-08T06:57:26.361Z"
      },
      {
        "duration": 293,
        "start_time": "2022-01-08T06:57:26.377Z"
      },
      {
        "duration": 141,
        "start_time": "2022-01-08T06:57:26.672Z"
      },
      {
        "duration": 310,
        "start_time": "2022-01-08T06:57:26.814Z"
      },
      {
        "duration": 137,
        "start_time": "2022-01-08T06:57:27.125Z"
      },
      {
        "duration": 234,
        "start_time": "2022-01-08T06:57:27.264Z"
      },
      {
        "duration": 133,
        "start_time": "2022-01-08T06:57:27.500Z"
      },
      {
        "duration": 199,
        "start_time": "2022-01-08T06:57:27.635Z"
      },
      {
        "duration": 9,
        "start_time": "2022-01-08T06:57:27.836Z"
      },
      {
        "duration": 6,
        "start_time": "2022-01-08T06:57:27.847Z"
      },
      {
        "duration": 9,
        "start_time": "2022-01-08T06:57:27.854Z"
      },
      {
        "duration": 789,
        "start_time": "2022-01-08T07:00:44.812Z"
      },
      {
        "duration": 442,
        "start_time": "2022-01-08T07:01:27.841Z"
      },
      {
        "duration": 120,
        "start_time": "2022-01-08T07:03:05.606Z"
      },
      {
        "duration": 587,
        "start_time": "2022-01-08T07:03:20.995Z"
      },
      {
        "duration": 20,
        "start_time": "2022-01-08T07:03:21.584Z"
      },
      {
        "duration": 17,
        "start_time": "2022-01-08T07:03:21.606Z"
      },
      {
        "duration": 2,
        "start_time": "2022-01-08T07:03:21.640Z"
      },
      {
        "duration": 29,
        "start_time": "2022-01-08T07:03:21.644Z"
      },
      {
        "duration": 12,
        "start_time": "2022-01-08T07:03:21.674Z"
      },
      {
        "duration": 7,
        "start_time": "2022-01-08T07:03:21.687Z"
      },
      {
        "duration": 3,
        "start_time": "2022-01-08T07:03:21.696Z"
      },
      {
        "duration": 5,
        "start_time": "2022-01-08T07:03:21.701Z"
      },
      {
        "duration": 13,
        "start_time": "2022-01-08T07:03:21.707Z"
      },
      {
        "duration": 25,
        "start_time": "2022-01-08T07:03:21.721Z"
      },
      {
        "duration": 11,
        "start_time": "2022-01-08T07:03:21.747Z"
      },
      {
        "duration": 10,
        "start_time": "2022-01-08T07:03:21.760Z"
      },
      {
        "duration": 4,
        "start_time": "2022-01-08T07:03:21.771Z"
      },
      {
        "duration": 10,
        "start_time": "2022-01-08T07:03:21.777Z"
      },
      {
        "duration": 12,
        "start_time": "2022-01-08T07:03:21.788Z"
      },
      {
        "duration": 9,
        "start_time": "2022-01-08T07:03:21.802Z"
      },
      {
        "duration": 11,
        "start_time": "2022-01-08T07:03:21.813Z"
      },
      {
        "duration": 25,
        "start_time": "2022-01-08T07:03:21.826Z"
      },
      {
        "duration": 11,
        "start_time": "2022-01-08T07:03:21.852Z"
      },
      {
        "duration": 7,
        "start_time": "2022-01-08T07:03:21.864Z"
      },
      {
        "duration": 18,
        "start_time": "2022-01-08T07:03:21.872Z"
      },
      {
        "duration": 3007,
        "start_time": "2022-01-08T07:03:21.893Z"
      },
      {
        "duration": 8,
        "start_time": "2022-01-08T07:03:24.902Z"
      },
      {
        "duration": 359,
        "start_time": "2022-01-08T07:03:24.911Z"
      },
      {
        "duration": 13,
        "start_time": "2022-01-08T07:03:25.272Z"
      },
      {
        "duration": 13,
        "start_time": "2022-01-08T07:03:25.287Z"
      },
      {
        "duration": 44,
        "start_time": "2022-01-08T07:03:25.301Z"
      },
      {
        "duration": 24,
        "start_time": "2022-01-08T07:03:25.346Z"
      },
      {
        "duration": 3,
        "start_time": "2022-01-08T07:03:25.372Z"
      },
      {
        "duration": 502,
        "start_time": "2022-01-08T07:03:25.377Z"
      },
      {
        "duration": 19,
        "start_time": "2022-01-08T07:03:25.881Z"
      },
      {
        "duration": 38,
        "start_time": "2022-01-08T07:03:25.902Z"
      },
      {
        "duration": 277,
        "start_time": "2022-01-08T07:03:25.941Z"
      },
      {
        "duration": 28,
        "start_time": "2022-01-08T07:03:26.220Z"
      },
      {
        "duration": 15,
        "start_time": "2022-01-08T07:03:26.250Z"
      },
      {
        "duration": 290,
        "start_time": "2022-01-08T07:03:26.267Z"
      },
      {
        "duration": 124,
        "start_time": "2022-01-08T07:03:26.559Z"
      },
      {
        "duration": 306,
        "start_time": "2022-01-08T07:03:26.684Z"
      },
      {
        "duration": 137,
        "start_time": "2022-01-08T07:03:26.992Z"
      },
      {
        "duration": 233,
        "start_time": "2022-01-08T07:03:27.131Z"
      },
      {
        "duration": 138,
        "start_time": "2022-01-08T07:03:27.366Z"
      },
      {
        "duration": 197,
        "start_time": "2022-01-08T07:03:27.506Z"
      },
      {
        "duration": 5,
        "start_time": "2022-01-08T07:03:27.705Z"
      },
      {
        "duration": 5,
        "start_time": "2022-01-08T07:03:27.711Z"
      },
      {
        "duration": 24,
        "start_time": "2022-01-08T07:03:27.718Z"
      },
      {
        "duration": 446,
        "start_time": "2022-01-08T07:03:27.743Z"
      },
      {
        "duration": 739,
        "start_time": "2022-01-08T07:04:03.802Z"
      },
      {
        "duration": 616,
        "start_time": "2022-01-08T07:04:17.383Z"
      },
      {
        "duration": 689,
        "start_time": "2022-01-08T07:04:24.165Z"
      },
      {
        "duration": 463,
        "start_time": "2022-01-08T07:04:42.088Z"
      },
      {
        "duration": 2,
        "start_time": "2022-01-08T07:36:49.134Z"
      },
      {
        "duration": 825,
        "start_time": "2022-01-08T07:37:21.841Z"
      },
      {
        "duration": 2,
        "start_time": "2022-01-08T07:38:16.398Z"
      },
      {
        "duration": 753,
        "start_time": "2022-01-08T07:38:17.197Z"
      },
      {
        "duration": 3,
        "start_time": "2022-01-08T07:42:39.572Z"
      },
      {
        "duration": 2313,
        "start_time": "2022-01-08T07:42:40.213Z"
      },
      {
        "duration": 3,
        "start_time": "2022-01-08T07:44:35.155Z"
      },
      {
        "duration": 724,
        "start_time": "2022-01-08T07:44:35.827Z"
      },
      {
        "duration": 237,
        "start_time": "2022-01-08T07:46:02.932Z"
      },
      {
        "duration": 1635,
        "start_time": "2022-01-08T07:46:19.488Z"
      },
      {
        "duration": 1686,
        "start_time": "2022-01-08T07:47:34.963Z"
      },
      {
        "duration": 209,
        "start_time": "2022-01-08T07:53:38.020Z"
      },
      {
        "duration": 196,
        "start_time": "2022-01-08T07:53:59.739Z"
      },
      {
        "duration": 44,
        "start_time": "2022-01-08T07:54:20.420Z"
      },
      {
        "duration": 1669,
        "start_time": "2022-01-08T07:54:33.912Z"
      },
      {
        "duration": 50134,
        "start_time": "2022-01-08T08:04:23.384Z"
      },
      {
        "duration": 65,
        "start_time": "2022-01-08T08:07:02.194Z"
      },
      {
        "duration": 751,
        "start_time": "2022-01-08T08:07:07.452Z"
      },
      {
        "duration": 478,
        "start_time": "2022-01-08T08:07:37.637Z"
      },
      {
        "duration": 295,
        "start_time": "2022-01-08T08:08:23.015Z"
      },
      {
        "duration": 276,
        "start_time": "2022-01-08T08:08:34.189Z"
      },
      {
        "duration": 388,
        "start_time": "2022-01-08T08:08:54.571Z"
      },
      {
        "duration": 274,
        "start_time": "2022-01-08T08:08:59.835Z"
      },
      {
        "duration": 290,
        "start_time": "2022-01-08T08:09:44.236Z"
      },
      {
        "duration": 281,
        "start_time": "2022-01-08T08:10:02.851Z"
      },
      {
        "duration": 262,
        "start_time": "2022-01-08T08:10:42.729Z"
      },
      {
        "duration": 202,
        "start_time": "2022-01-08T08:13:42.671Z"
      },
      {
        "duration": 10,
        "start_time": "2022-01-08T08:13:48.922Z"
      },
      {
        "duration": 7,
        "start_time": "2022-01-08T08:13:59.469Z"
      },
      {
        "duration": 648,
        "start_time": "2022-01-08T08:17:49.658Z"
      },
      {
        "duration": 22,
        "start_time": "2022-01-08T08:17:50.308Z"
      },
      {
        "duration": 17,
        "start_time": "2022-01-08T08:17:50.332Z"
      },
      {
        "duration": 3,
        "start_time": "2022-01-08T08:17:50.351Z"
      },
      {
        "duration": 21,
        "start_time": "2022-01-08T08:17:50.356Z"
      },
      {
        "duration": 12,
        "start_time": "2022-01-08T08:17:50.378Z"
      },
      {
        "duration": 8,
        "start_time": "2022-01-08T08:17:50.391Z"
      },
      {
        "duration": 4,
        "start_time": "2022-01-08T08:17:50.401Z"
      },
      {
        "duration": 35,
        "start_time": "2022-01-08T08:17:50.407Z"
      },
      {
        "duration": 13,
        "start_time": "2022-01-08T08:17:50.444Z"
      },
      {
        "duration": 8,
        "start_time": "2022-01-08T08:17:50.458Z"
      },
      {
        "duration": 14,
        "start_time": "2022-01-08T08:17:50.467Z"
      },
      {
        "duration": 9,
        "start_time": "2022-01-08T08:17:50.483Z"
      },
      {
        "duration": 5,
        "start_time": "2022-01-08T08:17:50.494Z"
      },
      {
        "duration": 9,
        "start_time": "2022-01-08T08:17:50.500Z"
      },
      {
        "duration": 31,
        "start_time": "2022-01-08T08:17:50.510Z"
      },
      {
        "duration": 4,
        "start_time": "2022-01-08T08:17:50.543Z"
      },
      {
        "duration": 23,
        "start_time": "2022-01-08T08:17:50.549Z"
      },
      {
        "duration": 19,
        "start_time": "2022-01-08T08:17:50.574Z"
      },
      {
        "duration": 9,
        "start_time": "2022-01-08T08:17:50.595Z"
      },
      {
        "duration": 16,
        "start_time": "2022-01-08T08:17:50.606Z"
      },
      {
        "duration": 27,
        "start_time": "2022-01-08T08:17:50.624Z"
      },
      {
        "duration": 2706,
        "start_time": "2022-01-08T08:17:50.653Z"
      },
      {
        "duration": 7,
        "start_time": "2022-01-08T08:17:53.361Z"
      },
      {
        "duration": 349,
        "start_time": "2022-01-08T08:17:53.370Z"
      },
      {
        "duration": 14,
        "start_time": "2022-01-08T08:17:53.721Z"
      },
      {
        "duration": 12,
        "start_time": "2022-01-08T08:17:53.743Z"
      },
      {
        "duration": 27,
        "start_time": "2022-01-08T08:17:53.757Z"
      },
      {
        "duration": 22,
        "start_time": "2022-01-08T08:17:53.786Z"
      },
      {
        "duration": 3,
        "start_time": "2022-01-08T08:17:53.810Z"
      },
      {
        "duration": 479,
        "start_time": "2022-01-08T08:17:53.814Z"
      },
      {
        "duration": 21,
        "start_time": "2022-01-08T08:17:54.294Z"
      },
      {
        "duration": 37,
        "start_time": "2022-01-08T08:17:54.316Z"
      },
      {
        "duration": 293,
        "start_time": "2022-01-08T08:17:54.355Z"
      },
      {
        "duration": 20,
        "start_time": "2022-01-08T08:17:54.650Z"
      },
      {
        "duration": 14,
        "start_time": "2022-01-08T08:17:54.671Z"
      },
      {
        "duration": 304,
        "start_time": "2022-01-08T08:17:54.686Z"
      },
      {
        "duration": 126,
        "start_time": "2022-01-08T08:17:54.992Z"
      },
      {
        "duration": 305,
        "start_time": "2022-01-08T08:17:55.119Z"
      },
      {
        "duration": 133,
        "start_time": "2022-01-08T08:17:55.426Z"
      },
      {
        "duration": 239,
        "start_time": "2022-01-08T08:17:55.561Z"
      },
      {
        "duration": 125,
        "start_time": "2022-01-08T08:17:55.802Z"
      },
      {
        "duration": 202,
        "start_time": "2022-01-08T08:17:55.928Z"
      },
      {
        "duration": 4,
        "start_time": "2022-01-08T08:17:56.132Z"
      },
      {
        "duration": 4,
        "start_time": "2022-01-08T08:17:56.141Z"
      },
      {
        "duration": 9,
        "start_time": "2022-01-08T08:17:56.147Z"
      },
      {
        "duration": 1533,
        "start_time": "2022-01-08T08:17:56.158Z"
      },
      {
        "duration": 52,
        "start_time": "2022-01-08T08:17:57.693Z"
      },
      {
        "duration": 1784,
        "start_time": "2022-01-08T08:17:57.746Z"
      },
      {
        "duration": 12,
        "start_time": "2022-01-08T08:17:59.531Z"
      },
      {
        "duration": 4,
        "start_time": "2022-01-08T08:17:59.545Z"
      },
      {
        "duration": 660,
        "start_time": "2022-01-08T08:23:19.352Z"
      },
      {
        "duration": 27,
        "start_time": "2022-01-08T08:23:20.013Z"
      },
      {
        "duration": 11,
        "start_time": "2022-01-08T08:23:20.042Z"
      },
      {
        "duration": 3,
        "start_time": "2022-01-08T08:23:20.055Z"
      },
      {
        "duration": 25,
        "start_time": "2022-01-08T08:23:20.059Z"
      },
      {
        "duration": 11,
        "start_time": "2022-01-08T08:23:20.085Z"
      },
      {
        "duration": 9,
        "start_time": "2022-01-08T08:23:20.098Z"
      },
      {
        "duration": 8,
        "start_time": "2022-01-08T08:23:20.109Z"
      },
      {
        "duration": 25,
        "start_time": "2022-01-08T08:23:20.119Z"
      },
      {
        "duration": 15,
        "start_time": "2022-01-08T08:23:20.146Z"
      },
      {
        "duration": 7,
        "start_time": "2022-01-08T08:23:20.163Z"
      },
      {
        "duration": 14,
        "start_time": "2022-01-08T08:23:20.171Z"
      },
      {
        "duration": 10,
        "start_time": "2022-01-08T08:23:20.187Z"
      },
      {
        "duration": 6,
        "start_time": "2022-01-08T08:23:20.199Z"
      },
      {
        "duration": 12,
        "start_time": "2022-01-08T08:23:20.206Z"
      },
      {
        "duration": 21,
        "start_time": "2022-01-08T08:23:20.220Z"
      },
      {
        "duration": 4,
        "start_time": "2022-01-08T08:23:20.243Z"
      },
      {
        "duration": 17,
        "start_time": "2022-01-08T08:23:20.248Z"
      },
      {
        "duration": 21,
        "start_time": "2022-01-08T08:23:20.266Z"
      },
      {
        "duration": 8,
        "start_time": "2022-01-08T08:23:20.288Z"
      },
      {
        "duration": 8,
        "start_time": "2022-01-08T08:23:20.297Z"
      },
      {
        "duration": 18,
        "start_time": "2022-01-08T08:23:20.306Z"
      },
      {
        "duration": 3105,
        "start_time": "2022-01-08T08:23:20.342Z"
      },
      {
        "duration": 7,
        "start_time": "2022-01-08T08:23:23.450Z"
      },
      {
        "duration": 350,
        "start_time": "2022-01-08T08:23:23.459Z"
      },
      {
        "duration": 14,
        "start_time": "2022-01-08T08:23:23.811Z"
      },
      {
        "duration": 20,
        "start_time": "2022-01-08T08:23:23.826Z"
      },
      {
        "duration": 27,
        "start_time": "2022-01-08T08:23:23.848Z"
      },
      {
        "duration": 21,
        "start_time": "2022-01-08T08:23:23.877Z"
      },
      {
        "duration": 3,
        "start_time": "2022-01-08T08:23:23.900Z"
      },
      {
        "duration": 578,
        "start_time": "2022-01-08T08:23:23.904Z"
      },
      {
        "duration": 76,
        "start_time": "2022-01-08T08:23:24.484Z"
      },
      {
        "duration": 80,
        "start_time": "2022-01-08T08:23:24.562Z"
      },
      {
        "duration": 379,
        "start_time": "2022-01-08T08:23:24.644Z"
      },
      {
        "duration": 25,
        "start_time": "2022-01-08T08:23:25.025Z"
      },
      {
        "duration": 15,
        "start_time": "2022-01-08T08:23:25.052Z"
      },
      {
        "duration": 337,
        "start_time": "2022-01-08T08:23:25.069Z"
      },
      {
        "duration": 141,
        "start_time": "2022-01-08T08:23:25.407Z"
      },
      {
        "duration": 322,
        "start_time": "2022-01-08T08:23:25.550Z"
      },
      {
        "duration": 141,
        "start_time": "2022-01-08T08:23:25.874Z"
      },
      {
        "duration": 234,
        "start_time": "2022-01-08T08:23:26.017Z"
      },
      {
        "duration": 136,
        "start_time": "2022-01-08T08:23:26.253Z"
      },
      {
        "duration": 211,
        "start_time": "2022-01-08T08:23:26.390Z"
      },
      {
        "duration": 6,
        "start_time": "2022-01-08T08:23:26.602Z"
      },
      {
        "duration": 8,
        "start_time": "2022-01-08T08:23:26.609Z"
      },
      {
        "duration": 26,
        "start_time": "2022-01-08T08:23:26.618Z"
      },
      {
        "duration": 1536,
        "start_time": "2022-01-08T08:23:26.645Z"
      },
      {
        "duration": 46,
        "start_time": "2022-01-08T08:23:28.183Z"
      },
      {
        "duration": 1660,
        "start_time": "2022-01-08T08:23:28.241Z"
      },
      {
        "duration": 7,
        "start_time": "2022-01-08T08:23:29.903Z"
      },
      {
        "duration": 979,
        "start_time": "2022-01-08T15:04:10.934Z"
      },
      {
        "duration": 51,
        "start_time": "2022-01-08T15:04:11.916Z"
      },
      {
        "duration": 19,
        "start_time": "2022-01-08T15:04:11.970Z"
      },
      {
        "duration": 5,
        "start_time": "2022-01-08T15:04:11.993Z"
      },
      {
        "duration": 78,
        "start_time": "2022-01-08T15:04:12.002Z"
      },
      {
        "duration": 13,
        "start_time": "2022-01-08T15:04:12.082Z"
      },
      {
        "duration": 13,
        "start_time": "2022-01-08T15:04:12.098Z"
      },
      {
        "duration": 5,
        "start_time": "2022-01-08T15:04:12.117Z"
      },
      {
        "duration": 57,
        "start_time": "2022-01-08T15:04:12.126Z"
      },
      {
        "duration": 18,
        "start_time": "2022-01-08T15:04:12.187Z"
      },
      {
        "duration": 11,
        "start_time": "2022-01-08T15:04:12.208Z"
      },
      {
        "duration": 46,
        "start_time": "2022-01-08T15:04:12.221Z"
      },
      {
        "duration": 13,
        "start_time": "2022-01-08T15:04:12.271Z"
      },
      {
        "duration": 6,
        "start_time": "2022-01-08T15:04:12.287Z"
      },
      {
        "duration": 6,
        "start_time": "2022-01-08T15:04:12.296Z"
      },
      {
        "duration": 5,
        "start_time": "2022-01-08T15:04:12.304Z"
      },
      {
        "duration": 7,
        "start_time": "2022-01-08T15:04:12.311Z"
      },
      {
        "duration": 62,
        "start_time": "2022-01-08T15:04:12.320Z"
      },
      {
        "duration": 32,
        "start_time": "2022-01-08T15:04:12.385Z"
      },
      {
        "duration": 14,
        "start_time": "2022-01-08T15:04:12.419Z"
      },
      {
        "duration": 15,
        "start_time": "2022-01-08T15:04:12.472Z"
      },
      {
        "duration": 22,
        "start_time": "2022-01-08T15:04:12.489Z"
      },
      {
        "duration": 4089,
        "start_time": "2022-01-08T15:04:12.519Z"
      },
      {
        "duration": 11,
        "start_time": "2022-01-08T15:04:16.612Z"
      },
      {
        "duration": 648,
        "start_time": "2022-01-08T15:04:16.625Z"
      },
      {
        "duration": 24,
        "start_time": "2022-01-08T15:04:17.276Z"
      },
      {
        "duration": 19,
        "start_time": "2022-01-08T15:04:17.304Z"
      },
      {
        "duration": 76,
        "start_time": "2022-01-08T15:04:17.325Z"
      },
      {
        "duration": 38,
        "start_time": "2022-01-08T15:04:17.403Z"
      },
      {
        "duration": 4,
        "start_time": "2022-01-08T15:04:17.443Z"
      },
      {
        "duration": 953,
        "start_time": "2022-01-08T15:04:17.468Z"
      },
      {
        "duration": 54,
        "start_time": "2022-01-08T15:04:18.424Z"
      },
      {
        "duration": 40,
        "start_time": "2022-01-08T15:04:18.482Z"
      },
      {
        "duration": 543,
        "start_time": "2022-01-08T15:04:18.524Z"
      },
      {
        "duration": 39,
        "start_time": "2022-01-08T15:04:19.072Z"
      },
      {
        "duration": 22,
        "start_time": "2022-01-08T15:04:19.113Z"
      },
      {
        "duration": 602,
        "start_time": "2022-01-08T15:04:19.137Z"
      },
      {
        "duration": 250,
        "start_time": "2022-01-08T15:04:19.741Z"
      },
      {
        "duration": 629,
        "start_time": "2022-01-08T15:04:19.994Z"
      },
      {
        "duration": 258,
        "start_time": "2022-01-08T15:04:20.626Z"
      },
      {
        "duration": 459,
        "start_time": "2022-01-08T15:04:20.886Z"
      },
      {
        "duration": 272,
        "start_time": "2022-01-08T15:04:21.347Z"
      },
      {
        "duration": 367,
        "start_time": "2022-01-08T15:04:21.622Z"
      },
      {
        "duration": 7,
        "start_time": "2022-01-08T15:04:21.991Z"
      },
      {
        "duration": 8,
        "start_time": "2022-01-08T15:04:22.001Z"
      },
      {
        "duration": 13,
        "start_time": "2022-01-08T15:04:22.011Z"
      },
      {
        "duration": 3631,
        "start_time": "2022-01-08T15:04:22.027Z"
      },
      {
        "duration": 84,
        "start_time": "2022-01-08T15:04:25.661Z"
      },
      {
        "duration": 3146,
        "start_time": "2022-01-08T15:04:25.748Z"
      },
      {
        "duration": 10,
        "start_time": "2022-01-08T15:04:28.896Z"
      },
      {
        "duration": 4,
        "start_time": "2022-01-08T15:05:54.236Z"
      },
      {
        "duration": 23,
        "start_time": "2022-01-08T15:06:04.421Z"
      },
      {
        "duration": 24,
        "start_time": "2022-01-08T15:07:07.705Z"
      },
      {
        "duration": 570,
        "start_time": "2022-01-08T15:09:30.110Z"
      },
      {
        "duration": 925,
        "start_time": "2022-01-08T15:09:37.282Z"
      },
      {
        "duration": 58,
        "start_time": "2022-01-08T15:09:38.209Z"
      },
      {
        "duration": 20,
        "start_time": "2022-01-08T15:09:38.271Z"
      },
      {
        "duration": 5,
        "start_time": "2022-01-08T15:09:38.295Z"
      },
      {
        "duration": 87,
        "start_time": "2022-01-08T15:09:38.303Z"
      },
      {
        "duration": 17,
        "start_time": "2022-01-08T15:09:38.393Z"
      },
      {
        "duration": 15,
        "start_time": "2022-01-08T15:09:38.413Z"
      },
      {
        "duration": 5,
        "start_time": "2022-01-08T15:09:38.472Z"
      },
      {
        "duration": 8,
        "start_time": "2022-01-08T15:09:38.482Z"
      },
      {
        "duration": 20,
        "start_time": "2022-01-08T15:09:38.492Z"
      },
      {
        "duration": 59,
        "start_time": "2022-01-08T15:09:38.514Z"
      },
      {
        "duration": 18,
        "start_time": "2022-01-08T15:09:38.575Z"
      },
      {
        "duration": 16,
        "start_time": "2022-01-08T15:09:38.596Z"
      },
      {
        "duration": 8,
        "start_time": "2022-01-08T15:09:38.615Z"
      },
      {
        "duration": 47,
        "start_time": "2022-01-08T15:09:38.625Z"
      },
      {
        "duration": 7,
        "start_time": "2022-01-08T15:09:38.675Z"
      },
      {
        "duration": 7,
        "start_time": "2022-01-08T15:09:38.685Z"
      },
      {
        "duration": 17,
        "start_time": "2022-01-08T15:09:38.694Z"
      },
      {
        "duration": 78,
        "start_time": "2022-01-08T15:09:38.713Z"
      },
      {
        "duration": 18,
        "start_time": "2022-01-08T15:09:38.793Z"
      },
      {
        "duration": 9,
        "start_time": "2022-01-08T15:09:38.813Z"
      },
      {
        "duration": 55,
        "start_time": "2022-01-08T15:09:38.825Z"
      },
      {
        "duration": 4312,
        "start_time": "2022-01-08T15:09:38.886Z"
      },
      {
        "duration": 12,
        "start_time": "2022-01-08T15:09:43.201Z"
      },
      {
        "duration": 629,
        "start_time": "2022-01-08T15:09:43.215Z"
      },
      {
        "duration": 34,
        "start_time": "2022-01-08T15:09:43.847Z"
      },
      {
        "duration": 21,
        "start_time": "2022-01-08T15:09:43.884Z"
      },
      {
        "duration": 75,
        "start_time": "2022-01-08T15:09:43.907Z"
      },
      {
        "duration": 42,
        "start_time": "2022-01-08T15:09:43.984Z"
      },
      {
        "duration": 6,
        "start_time": "2022-01-08T15:09:44.029Z"
      },
      {
        "duration": 907,
        "start_time": "2022-01-08T15:09:44.068Z"
      },
      {
        "duration": 36,
        "start_time": "2022-01-08T15:09:44.978Z"
      },
      {
        "duration": 69,
        "start_time": "2022-01-08T15:09:45.017Z"
      },
      {
        "duration": 505,
        "start_time": "2022-01-08T15:09:45.089Z"
      },
      {
        "duration": 37,
        "start_time": "2022-01-08T15:09:45.596Z"
      },
      {
        "duration": 51,
        "start_time": "2022-01-08T15:09:45.635Z"
      },
      {
        "duration": 578,
        "start_time": "2022-01-08T15:09:45.689Z"
      },
      {
        "duration": 254,
        "start_time": "2022-01-08T15:09:46.271Z"
      },
      {
        "duration": 595,
        "start_time": "2022-01-08T15:09:46.528Z"
      },
      {
        "duration": 251,
        "start_time": "2022-01-08T15:09:47.125Z"
      },
      {
        "duration": 450,
        "start_time": "2022-01-08T15:09:47.379Z"
      },
      {
        "duration": 254,
        "start_time": "2022-01-08T15:09:47.832Z"
      },
      {
        "duration": 339,
        "start_time": "2022-01-08T15:09:48.088Z"
      },
      {
        "duration": 6,
        "start_time": "2022-01-08T15:09:48.430Z"
      },
      {
        "duration": 6,
        "start_time": "2022-01-08T15:09:48.438Z"
      },
      {
        "duration": 31,
        "start_time": "2022-01-08T15:09:48.446Z"
      },
      {
        "duration": 2973,
        "start_time": "2022-01-08T15:09:48.479Z"
      },
      {
        "duration": 85,
        "start_time": "2022-01-08T15:09:51.455Z"
      },
      {
        "duration": 3012,
        "start_time": "2022-01-08T15:09:51.542Z"
      },
      {
        "duration": 17,
        "start_time": "2022-01-08T15:09:54.557Z"
      },
      {
        "duration": 590,
        "start_time": "2022-01-08T15:11:32.510Z"
      },
      {
        "duration": 20,
        "start_time": "2022-01-08T15:11:33.160Z"
      },
      {
        "duration": 25,
        "start_time": "2022-01-08T15:11:45.274Z"
      },
      {
        "duration": 920,
        "start_time": "2022-01-08T15:11:54.411Z"
      },
      {
        "duration": 47,
        "start_time": "2022-01-08T15:11:55.333Z"
      },
      {
        "duration": 19,
        "start_time": "2022-01-08T15:11:55.384Z"
      },
      {
        "duration": 4,
        "start_time": "2022-01-08T15:11:55.405Z"
      },
      {
        "duration": 83,
        "start_time": "2022-01-08T15:11:55.411Z"
      },
      {
        "duration": 14,
        "start_time": "2022-01-08T15:11:55.497Z"
      },
      {
        "duration": 12,
        "start_time": "2022-01-08T15:11:55.514Z"
      },
      {
        "duration": 39,
        "start_time": "2022-01-08T15:11:55.530Z"
      },
      {
        "duration": 7,
        "start_time": "2022-01-08T15:11:55.572Z"
      },
      {
        "duration": 21,
        "start_time": "2022-01-08T15:11:55.582Z"
      },
      {
        "duration": 12,
        "start_time": "2022-01-08T15:11:55.605Z"
      },
      {
        "duration": 63,
        "start_time": "2022-01-08T15:11:55.620Z"
      },
      {
        "duration": 14,
        "start_time": "2022-01-08T15:11:55.685Z"
      },
      {
        "duration": 6,
        "start_time": "2022-01-08T15:11:55.702Z"
      },
      {
        "duration": 6,
        "start_time": "2022-01-08T15:11:55.711Z"
      },
      {
        "duration": 6,
        "start_time": "2022-01-08T15:11:55.719Z"
      },
      {
        "duration": 8,
        "start_time": "2022-01-08T15:11:55.768Z"
      },
      {
        "duration": 13,
        "start_time": "2022-01-08T15:11:55.779Z"
      },
      {
        "duration": 79,
        "start_time": "2022-01-08T15:11:55.795Z"
      },
      {
        "duration": 14,
        "start_time": "2022-01-08T15:11:55.877Z"
      },
      {
        "duration": 9,
        "start_time": "2022-01-08T15:11:55.893Z"
      },
      {
        "duration": 22,
        "start_time": "2022-01-08T15:11:55.904Z"
      },
      {
        "duration": 4301,
        "start_time": "2022-01-08T15:11:55.970Z"
      },
      {
        "duration": 14,
        "start_time": "2022-01-08T15:12:00.276Z"
      },
      {
        "duration": 56,
        "start_time": "2022-01-08T15:12:00.293Z"
      },
      {
        "duration": 60,
        "start_time": "2022-01-08T15:12:00.351Z"
      },
      {
        "duration": 40,
        "start_time": "2022-01-08T15:12:00.414Z"
      },
      {
        "duration": 11,
        "start_time": "2022-01-08T15:12:00.456Z"
      },
      {
        "duration": 884,
        "start_time": "2022-01-08T15:12:00.469Z"
      },
      {
        "duration": 43,
        "start_time": "2022-01-08T15:12:01.355Z"
      },
      {
        "duration": 67,
        "start_time": "2022-01-08T15:12:01.400Z"
      },
      {
        "duration": 509,
        "start_time": "2022-01-08T15:12:01.471Z"
      },
      {
        "duration": 34,
        "start_time": "2022-01-08T15:12:01.983Z"
      },
      {
        "duration": 1006,
        "start_time": "2022-01-08T15:12:02.019Z"
      },
      {
        "duration": 21,
        "start_time": "2022-01-08T15:12:03.027Z"
      },
      {
        "duration": 38,
        "start_time": "2022-01-08T15:12:03.051Z"
      },
      {
        "duration": 597,
        "start_time": "2022-01-08T15:12:03.091Z"
      },
      {
        "duration": 246,
        "start_time": "2022-01-08T15:12:03.691Z"
      },
      {
        "duration": 593,
        "start_time": "2022-01-08T15:12:03.940Z"
      },
      {
        "duration": 252,
        "start_time": "2022-01-08T15:12:04.535Z"
      },
      {
        "duration": 432,
        "start_time": "2022-01-08T15:12:04.789Z"
      },
      {
        "duration": 313,
        "start_time": "2022-01-08T15:12:05.223Z"
      },
      {
        "duration": 264,
        "start_time": "2022-01-08T15:12:05.538Z"
      },
      {
        "duration": 7,
        "start_time": "2022-01-08T15:12:05.805Z"
      },
      {
        "duration": 25,
        "start_time": "2022-01-08T15:12:05.815Z"
      },
      {
        "duration": 33,
        "start_time": "2022-01-08T15:12:05.842Z"
      },
      {
        "duration": 2894,
        "start_time": "2022-01-08T15:12:05.877Z"
      },
      {
        "duration": 72,
        "start_time": "2022-01-08T15:12:08.773Z"
      },
      {
        "duration": 3003,
        "start_time": "2022-01-08T15:12:08.848Z"
      },
      {
        "duration": 15,
        "start_time": "2022-01-08T15:12:11.854Z"
      },
      {
        "duration": 26,
        "start_time": "2022-01-08T15:12:56.348Z"
      },
      {
        "duration": 963,
        "start_time": "2022-01-08T15:16:21.311Z"
      },
      {
        "duration": 41,
        "start_time": "2022-01-08T15:16:22.278Z"
      },
      {
        "duration": 55,
        "start_time": "2022-01-08T15:16:22.324Z"
      },
      {
        "duration": 3,
        "start_time": "2022-01-08T15:16:22.383Z"
      },
      {
        "duration": 37,
        "start_time": "2022-01-08T15:16:22.389Z"
      },
      {
        "duration": 55,
        "start_time": "2022-01-08T15:16:22.429Z"
      },
      {
        "duration": 14,
        "start_time": "2022-01-08T15:16:22.488Z"
      },
      {
        "duration": 5,
        "start_time": "2022-01-08T15:16:22.506Z"
      },
      {
        "duration": 58,
        "start_time": "2022-01-08T15:16:22.515Z"
      },
      {
        "duration": 21,
        "start_time": "2022-01-08T15:16:22.575Z"
      },
      {
        "duration": 11,
        "start_time": "2022-01-08T15:16:22.599Z"
      },
      {
        "duration": 55,
        "start_time": "2022-01-08T15:16:22.613Z"
      },
      {
        "duration": 11,
        "start_time": "2022-01-08T15:16:22.675Z"
      },
      {
        "duration": 6,
        "start_time": "2022-01-08T15:16:22.689Z"
      },
      {
        "duration": 8,
        "start_time": "2022-01-08T15:16:22.697Z"
      },
      {
        "duration": 6,
        "start_time": "2022-01-08T15:16:22.707Z"
      },
      {
        "duration": 55,
        "start_time": "2022-01-08T15:16:22.715Z"
      },
      {
        "duration": 20,
        "start_time": "2022-01-08T15:16:22.772Z"
      },
      {
        "duration": 32,
        "start_time": "2022-01-08T15:16:22.795Z"
      },
      {
        "duration": 50,
        "start_time": "2022-01-08T15:16:22.829Z"
      },
      {
        "duration": 11,
        "start_time": "2022-01-08T15:16:22.881Z"
      },
      {
        "duration": 21,
        "start_time": "2022-01-08T15:16:22.895Z"
      },
      {
        "duration": 4857,
        "start_time": "2022-01-08T15:16:22.921Z"
      },
      {
        "duration": 12,
        "start_time": "2022-01-08T15:16:27.783Z"
      },
      {
        "duration": 22,
        "start_time": "2022-01-08T15:16:27.797Z"
      },
      {
        "duration": 78,
        "start_time": "2022-01-08T15:16:27.821Z"
      },
      {
        "duration": 40,
        "start_time": "2022-01-08T15:16:27.902Z"
      },
      {
        "duration": 24,
        "start_time": "2022-01-08T15:16:27.944Z"
      },
      {
        "duration": 920,
        "start_time": "2022-01-08T15:16:27.971Z"
      },
      {
        "duration": 37,
        "start_time": "2022-01-08T15:16:28.894Z"
      },
      {
        "duration": 65,
        "start_time": "2022-01-08T15:16:28.934Z"
      },
      {
        "duration": 525,
        "start_time": "2022-01-08T15:16:29.002Z"
      },
      {
        "duration": 64,
        "start_time": "2022-01-08T15:16:29.530Z"
      },
      {
        "duration": 637,
        "start_time": "2022-01-08T15:16:29.598Z"
      },
      {
        "duration": 42,
        "start_time": "2022-01-08T15:16:30.237Z"
      },
      {
        "duration": 37,
        "start_time": "2022-01-08T15:16:30.282Z"
      },
      {
        "duration": 691,
        "start_time": "2022-01-08T15:16:30.322Z"
      },
      {
        "duration": 269,
        "start_time": "2022-01-08T15:16:30.747Z"
      },
      {
        "duration": 264,
        "start_time": "2022-01-08T15:16:30.753Z"
      },
      {
        "duration": 218,
        "start_time": "2022-01-08T15:16:30.800Z"
      },
      {
        "duration": 205,
        "start_time": "2022-01-08T15:16:30.815Z"
      },
      {
        "duration": 198,
        "start_time": "2022-01-08T15:16:30.824Z"
      },
      {
        "duration": 167,
        "start_time": "2022-01-08T15:16:30.856Z"
      },
      {
        "duration": 159,
        "start_time": "2022-01-08T15:16:30.866Z"
      },
      {
        "duration": 153,
        "start_time": "2022-01-08T15:16:30.873Z"
      },
      {
        "duration": 146,
        "start_time": "2022-01-08T15:16:30.882Z"
      },
      {
        "duration": 140,
        "start_time": "2022-01-08T15:16:30.889Z"
      },
      {
        "duration": 133,
        "start_time": "2022-01-08T15:16:30.898Z"
      },
      {
        "duration": 127,
        "start_time": "2022-01-08T15:16:30.905Z"
      },
      {
        "duration": 121,
        "start_time": "2022-01-08T15:16:30.913Z"
      },
      {
        "duration": 147,
        "start_time": "2022-01-08T15:16:30.920Z"
      },
      {
        "duration": 311,
        "start_time": "2022-01-08T15:17:24.785Z"
      },
      {
        "duration": 315,
        "start_time": "2022-01-08T15:18:09.389Z"
      },
      {
        "duration": 816,
        "start_time": "2022-01-08T15:19:37.651Z"
      },
      {
        "duration": 1080,
        "start_time": "2022-01-08T15:20:09.728Z"
      },
      {
        "duration": 4,
        "start_time": "2022-01-08T15:21:07.104Z"
      },
      {
        "duration": 856,
        "start_time": "2022-01-08T15:21:08.024Z"
      },
      {
        "duration": 946,
        "start_time": "2022-01-08T15:21:51.448Z"
      },
      {
        "duration": 39,
        "start_time": "2022-01-08T15:21:52.396Z"
      },
      {
        "duration": 38,
        "start_time": "2022-01-08T15:21:52.439Z"
      },
      {
        "duration": 3,
        "start_time": "2022-01-08T15:21:52.480Z"
      },
      {
        "duration": 36,
        "start_time": "2022-01-08T15:21:52.486Z"
      },
      {
        "duration": 50,
        "start_time": "2022-01-08T15:21:52.524Z"
      },
      {
        "duration": 13,
        "start_time": "2022-01-08T15:21:52.577Z"
      },
      {
        "duration": 4,
        "start_time": "2022-01-08T15:21:52.595Z"
      },
      {
        "duration": 9,
        "start_time": "2022-01-08T15:21:52.603Z"
      },
      {
        "duration": 21,
        "start_time": "2022-01-08T15:21:52.667Z"
      },
      {
        "duration": 16,
        "start_time": "2022-01-08T15:21:52.691Z"
      },
      {
        "duration": 57,
        "start_time": "2022-01-08T15:21:52.710Z"
      },
      {
        "duration": 14,
        "start_time": "2022-01-08T15:21:52.771Z"
      },
      {
        "duration": 7,
        "start_time": "2022-01-08T15:21:52.788Z"
      },
      {
        "duration": 7,
        "start_time": "2022-01-08T15:21:52.797Z"
      },
      {
        "duration": 8,
        "start_time": "2022-01-08T15:21:52.806Z"
      },
      {
        "duration": 55,
        "start_time": "2022-01-08T15:21:52.817Z"
      },
      {
        "duration": 17,
        "start_time": "2022-01-08T15:21:52.875Z"
      },
      {
        "duration": 35,
        "start_time": "2022-01-08T15:21:52.895Z"
      },
      {
        "duration": 47,
        "start_time": "2022-01-08T15:21:52.932Z"
      },
      {
        "duration": 10,
        "start_time": "2022-01-08T15:21:52.982Z"
      },
      {
        "duration": 20,
        "start_time": "2022-01-08T15:21:52.994Z"
      },
      {
        "duration": 4049,
        "start_time": "2022-01-08T15:21:53.020Z"
      },
      {
        "duration": 12,
        "start_time": "2022-01-08T15:21:57.074Z"
      },
      {
        "duration": 22,
        "start_time": "2022-01-08T15:21:57.088Z"
      },
      {
        "duration": 55,
        "start_time": "2022-01-08T15:21:57.112Z"
      },
      {
        "duration": 40,
        "start_time": "2022-01-08T15:21:57.169Z"
      },
      {
        "duration": 5,
        "start_time": "2022-01-08T15:21:57.211Z"
      },
      {
        "duration": 1092,
        "start_time": "2022-01-08T15:21:57.218Z"
      },
      {
        "duration": 90,
        "start_time": "2022-01-08T15:21:58.313Z"
      },
      {
        "duration": 79,
        "start_time": "2022-01-08T15:21:58.406Z"
      },
      {
        "duration": 510,
        "start_time": "2022-01-08T15:21:58.489Z"
      },
      {
        "duration": 65,
        "start_time": "2022-01-08T15:21:59.002Z"
      },
      {
        "duration": 643,
        "start_time": "2022-01-08T15:21:59.071Z"
      },
      {
        "duration": 22,
        "start_time": "2022-01-08T15:21:59.718Z"
      },
      {
        "duration": 46,
        "start_time": "2022-01-08T15:21:59.743Z"
      },
      {
        "duration": 4,
        "start_time": "2022-01-08T15:21:59.791Z"
      },
      {
        "duration": 855,
        "start_time": "2022-01-08T15:21:59.798Z"
      },
      {
        "duration": 615,
        "start_time": "2022-01-08T15:22:00.655Z"
      },
      {
        "duration": 248,
        "start_time": "2022-01-08T15:22:01.273Z"
      },
      {
        "duration": 624,
        "start_time": "2022-01-08T15:22:01.523Z"
      },
      {
        "duration": 328,
        "start_time": "2022-01-08T15:22:02.150Z"
      },
      {
        "duration": 449,
        "start_time": "2022-01-08T15:22:02.481Z"
      },
      {
        "duration": 242,
        "start_time": "2022-01-08T15:22:02.933Z"
      },
      {
        "duration": 279,
        "start_time": "2022-01-08T15:22:03.177Z"
      },
      {
        "duration": 13,
        "start_time": "2022-01-08T15:22:03.458Z"
      },
      {
        "duration": 10,
        "start_time": "2022-01-08T15:22:03.473Z"
      },
      {
        "duration": 26,
        "start_time": "2022-01-08T15:22:03.485Z"
      },
      {
        "duration": 2999,
        "start_time": "2022-01-08T15:22:03.514Z"
      },
      {
        "duration": 86,
        "start_time": "2022-01-08T15:22:06.515Z"
      },
      {
        "duration": 3039,
        "start_time": "2022-01-08T15:22:06.604Z"
      },
      {
        "duration": 22,
        "start_time": "2022-01-08T15:22:09.646Z"
      },
      {
        "duration": 817,
        "start_time": "2022-01-08T15:28:04.654Z"
      },
      {
        "duration": 26,
        "start_time": "2022-01-08T15:28:12.091Z"
      },
      {
        "duration": 456,
        "start_time": "2022-01-08T15:30:05.178Z"
      },
      {
        "duration": 40,
        "start_time": "2022-01-08T15:30:53.544Z"
      },
      {
        "duration": 49,
        "start_time": "2022-01-08T15:31:14.301Z"
      },
      {
        "duration": 509,
        "start_time": "2022-01-08T15:31:37.125Z"
      },
      {
        "duration": 51,
        "start_time": "2022-01-08T15:31:43.792Z"
      },
      {
        "duration": 47,
        "start_time": "2022-01-08T15:32:08.278Z"
      },
      {
        "duration": 50,
        "start_time": "2022-01-08T15:32:12.450Z"
      },
      {
        "duration": 54,
        "start_time": "2022-01-08T15:40:51.247Z"
      },
      {
        "duration": 386,
        "start_time": "2022-01-08T15:41:56.295Z"
      },
      {
        "duration": 346,
        "start_time": "2022-01-08T15:42:02.014Z"
      },
      {
        "duration": 413,
        "start_time": "2022-01-08T15:42:19.715Z"
      },
      {
        "duration": 381,
        "start_time": "2022-01-08T15:42:42.249Z"
      },
      {
        "duration": 52,
        "start_time": "2022-01-08T15:42:48.382Z"
      },
      {
        "duration": 370,
        "start_time": "2022-01-08T15:43:25.374Z"
      },
      {
        "duration": 52,
        "start_time": "2022-01-08T15:43:36.041Z"
      },
      {
        "duration": 585,
        "start_time": "2022-01-08T15:48:41.746Z"
      },
      {
        "duration": 610,
        "start_time": "2022-01-08T15:48:42.334Z"
      },
      {
        "duration": 558,
        "start_time": "2022-01-08T15:48:42.948Z"
      },
      {
        "duration": 928,
        "start_time": "2022-01-08T15:49:04.027Z"
      },
      {
        "duration": 49,
        "start_time": "2022-01-08T15:49:04.957Z"
      },
      {
        "duration": 21,
        "start_time": "2022-01-08T15:49:05.009Z"
      },
      {
        "duration": 3,
        "start_time": "2022-01-08T15:49:05.033Z"
      },
      {
        "duration": 59,
        "start_time": "2022-01-08T15:49:05.039Z"
      },
      {
        "duration": 18,
        "start_time": "2022-01-08T15:49:05.100Z"
      },
      {
        "duration": 13,
        "start_time": "2022-01-08T15:49:05.120Z"
      },
      {
        "duration": 33,
        "start_time": "2022-01-08T15:49:05.137Z"
      },
      {
        "duration": 6,
        "start_time": "2022-01-08T15:49:05.173Z"
      },
      {
        "duration": 18,
        "start_time": "2022-01-08T15:49:05.181Z"
      },
      {
        "duration": 13,
        "start_time": "2022-01-08T15:49:05.201Z"
      },
      {
        "duration": 60,
        "start_time": "2022-01-08T15:49:05.217Z"
      },
      {
        "duration": 15,
        "start_time": "2022-01-08T15:49:05.279Z"
      },
      {
        "duration": 6,
        "start_time": "2022-01-08T15:49:05.297Z"
      },
      {
        "duration": 7,
        "start_time": "2022-01-08T15:49:05.305Z"
      },
      {
        "duration": 11,
        "start_time": "2022-01-08T15:49:05.314Z"
      },
      {
        "duration": 42,
        "start_time": "2022-01-08T15:49:05.327Z"
      },
      {
        "duration": 15,
        "start_time": "2022-01-08T15:49:05.372Z"
      },
      {
        "duration": 31,
        "start_time": "2022-01-08T15:49:05.390Z"
      },
      {
        "duration": 49,
        "start_time": "2022-01-08T15:49:05.423Z"
      },
      {
        "duration": 10,
        "start_time": "2022-01-08T15:49:05.475Z"
      },
      {
        "duration": 26,
        "start_time": "2022-01-08T15:49:05.487Z"
      },
      {
        "duration": 3788,
        "start_time": "2022-01-08T15:49:05.519Z"
      },
      {
        "duration": 12,
        "start_time": "2022-01-08T15:49:09.310Z"
      },
      {
        "duration": 19,
        "start_time": "2022-01-08T15:49:09.324Z"
      },
      {
        "duration": 42,
        "start_time": "2022-01-08T15:49:09.366Z"
      },
      {
        "duration": 38,
        "start_time": "2022-01-08T15:49:09.410Z"
      },
      {
        "duration": 17,
        "start_time": "2022-01-08T15:49:09.450Z"
      },
      {
        "duration": 859,
        "start_time": "2022-01-08T15:49:09.470Z"
      },
      {
        "duration": 48,
        "start_time": "2022-01-08T15:49:10.331Z"
      },
      {
        "duration": 39,
        "start_time": "2022-01-08T15:49:10.381Z"
      },
      {
        "duration": 506,
        "start_time": "2022-01-08T15:49:10.423Z"
      },
      {
        "duration": 69,
        "start_time": "2022-01-08T15:49:10.932Z"
      },
      {
        "duration": 888,
        "start_time": "2022-01-08T15:49:11.003Z"
      },
      {
        "duration": 590,
        "start_time": "2022-01-08T15:49:11.893Z"
      },
      {
        "duration": 444,
        "start_time": "2022-01-08T15:49:12.485Z"
      },
      {
        "duration": 588,
        "start_time": "2022-01-08T15:49:12.932Z"
      },
      {
        "duration": 21,
        "start_time": "2022-01-08T15:49:13.523Z"
      },
      {
        "duration": 69,
        "start_time": "2022-01-08T15:49:13.547Z"
      },
      {
        "duration": 3,
        "start_time": "2022-01-08T15:49:13.619Z"
      },
      {
        "duration": 807,
        "start_time": "2022-01-08T15:49:13.625Z"
      },
      {
        "duration": 316,
        "start_time": "2022-01-08T15:49:14.434Z"
      },
      {
        "duration": 16,
        "start_time": "2022-01-08T15:49:14.752Z"
      },
      {
        "duration": 6,
        "start_time": "2022-01-08T15:49:14.770Z"
      },
      {
        "duration": 14,
        "start_time": "2022-01-08T15:49:14.778Z"
      },
      {
        "duration": 2901,
        "start_time": "2022-01-08T15:49:14.794Z"
      },
      {
        "duration": 83,
        "start_time": "2022-01-08T15:49:17.698Z"
      },
      {
        "duration": 3047,
        "start_time": "2022-01-08T15:49:17.783Z"
      },
      {
        "duration": 11,
        "start_time": "2022-01-08T15:49:20.832Z"
      },
      {
        "duration": 56,
        "start_time": "2022-01-08T16:06:02.820Z"
      },
      {
        "duration": 53,
        "start_time": "2022-01-08T16:06:30.312Z"
      },
      {
        "duration": 117,
        "start_time": "2022-01-08T16:20:31.651Z"
      },
      {
        "duration": 54,
        "start_time": "2022-01-08T16:40:50.480Z"
      },
      {
        "duration": 46,
        "start_time": "2022-01-08T16:42:32.132Z"
      },
      {
        "duration": 53,
        "start_time": "2022-01-08T16:42:48.790Z"
      },
      {
        "duration": 516,
        "start_time": "2022-01-08T16:45:37.577Z"
      },
      {
        "duration": 611,
        "start_time": "2022-01-08T16:45:43.596Z"
      },
      {
        "duration": 1409,
        "start_time": "2022-01-08T16:46:05.978Z"
      },
      {
        "duration": 13,
        "start_time": "2022-01-08T16:46:38.824Z"
      },
      {
        "duration": 1231,
        "start_time": "2022-01-08T16:46:55.468Z"
      },
      {
        "duration": 41,
        "start_time": "2022-01-08T16:46:56.702Z"
      },
      {
        "duration": 40,
        "start_time": "2022-01-08T16:46:56.746Z"
      },
      {
        "duration": 4,
        "start_time": "2022-01-08T16:46:56.788Z"
      },
      {
        "duration": 39,
        "start_time": "2022-01-08T16:46:56.794Z"
      },
      {
        "duration": 42,
        "start_time": "2022-01-08T16:46:56.836Z"
      },
      {
        "duration": 12,
        "start_time": "2022-01-08T16:46:56.883Z"
      },
      {
        "duration": 5,
        "start_time": "2022-01-08T16:46:56.898Z"
      },
      {
        "duration": 8,
        "start_time": "2022-01-08T16:46:56.905Z"
      },
      {
        "duration": 64,
        "start_time": "2022-01-08T16:46:56.916Z"
      },
      {
        "duration": 17,
        "start_time": "2022-01-08T16:46:56.983Z"
      },
      {
        "duration": 30,
        "start_time": "2022-01-08T16:46:57.003Z"
      },
      {
        "duration": 42,
        "start_time": "2022-01-08T16:46:57.036Z"
      },
      {
        "duration": 8,
        "start_time": "2022-01-08T16:46:57.081Z"
      },
      {
        "duration": 6,
        "start_time": "2022-01-08T16:46:57.092Z"
      },
      {
        "duration": 8,
        "start_time": "2022-01-08T16:46:57.101Z"
      },
      {
        "duration": 7,
        "start_time": "2022-01-08T16:46:57.112Z"
      },
      {
        "duration": 17,
        "start_time": "2022-01-08T16:46:57.167Z"
      },
      {
        "duration": 46,
        "start_time": "2022-01-08T16:46:57.187Z"
      },
      {
        "duration": 37,
        "start_time": "2022-01-08T16:46:57.236Z"
      },
      {
        "duration": 11,
        "start_time": "2022-01-08T16:46:57.275Z"
      },
      {
        "duration": 24,
        "start_time": "2022-01-08T16:46:57.289Z"
      },
      {
        "duration": 4677,
        "start_time": "2022-01-08T16:46:57.316Z"
      },
      {
        "duration": 12,
        "start_time": "2022-01-08T16:47:01.996Z"
      },
      {
        "duration": 20,
        "start_time": "2022-01-08T16:47:02.015Z"
      },
      {
        "duration": 78,
        "start_time": "2022-01-08T16:47:02.038Z"
      },
      {
        "duration": 41,
        "start_time": "2022-01-08T16:47:02.119Z"
      },
      {
        "duration": 4,
        "start_time": "2022-01-08T16:47:02.167Z"
      },
      {
        "duration": 944,
        "start_time": "2022-01-08T16:47:02.174Z"
      },
      {
        "duration": 52,
        "start_time": "2022-01-08T16:47:03.121Z"
      },
      {
        "duration": 42,
        "start_time": "2022-01-08T16:47:03.176Z"
      },
      {
        "duration": 596,
        "start_time": "2022-01-08T16:47:03.221Z"
      },
      {
        "duration": 51,
        "start_time": "2022-01-08T16:47:03.820Z"
      },
      {
        "duration": 562,
        "start_time": "2022-01-08T16:47:03.874Z"
      },
      {
        "duration": 608,
        "start_time": "2022-01-08T16:47:04.439Z"
      },
      {
        "duration": 432,
        "start_time": "2022-01-08T16:47:05.050Z"
      },
      {
        "duration": 604,
        "start_time": "2022-01-08T16:47:05.485Z"
      },
      {
        "duration": 22,
        "start_time": "2022-01-08T16:47:06.092Z"
      },
      {
        "duration": 74,
        "start_time": "2022-01-08T16:47:06.116Z"
      },
      {
        "duration": 3,
        "start_time": "2022-01-08T16:47:06.192Z"
      },
      {
        "duration": 820,
        "start_time": "2022-01-08T16:47:06.197Z"
      },
      {
        "duration": 314,
        "start_time": "2022-01-08T16:47:07.020Z"
      },
      {
        "duration": 7,
        "start_time": "2022-01-08T16:47:07.337Z"
      },
      {
        "duration": 23,
        "start_time": "2022-01-08T16:47:07.346Z"
      },
      {
        "duration": 12,
        "start_time": "2022-01-08T16:47:07.371Z"
      },
      {
        "duration": 2894,
        "start_time": "2022-01-08T16:47:07.385Z"
      },
      {
        "duration": 86,
        "start_time": "2022-01-08T16:47:10.281Z"
      },
      {
        "duration": 2946,
        "start_time": "2022-01-08T16:47:10.370Z"
      },
      {
        "duration": 11,
        "start_time": "2022-01-08T16:47:13.319Z"
      },
      {
        "duration": 58,
        "start_time": "2022-01-08T16:47:13.332Z"
      },
      {
        "duration": 1530,
        "start_time": "2022-01-08T16:47:13.392Z"
      },
      {
        "duration": 7,
        "start_time": "2022-01-08T17:50:25.871Z"
      },
      {
        "duration": 313,
        "start_time": "2022-01-08T17:59:23.795Z"
      },
      {
        "duration": 369,
        "start_time": "2022-01-08T18:00:01.277Z"
      },
      {
        "duration": 361,
        "start_time": "2022-01-08T18:01:33.400Z"
      },
      {
        "duration": 361,
        "start_time": "2022-01-08T18:01:59.150Z"
      },
      {
        "duration": 5,
        "start_time": "2022-01-08T18:02:30.647Z"
      },
      {
        "duration": 452,
        "start_time": "2022-01-08T18:02:31.877Z"
      },
      {
        "duration": 378,
        "start_time": "2022-01-08T18:04:16.266Z"
      },
      {
        "duration": 505,
        "start_time": "2022-01-08T18:04:47.833Z"
      },
      {
        "duration": 348,
        "start_time": "2022-01-08T18:05:09.757Z"
      },
      {
        "duration": 329,
        "start_time": "2022-01-08T18:05:23.963Z"
      },
      {
        "duration": 339,
        "start_time": "2022-01-08T18:05:37.132Z"
      },
      {
        "duration": 422,
        "start_time": "2022-01-08T18:11:04.347Z"
      },
      {
        "duration": 919,
        "start_time": "2022-01-08T18:37:46.796Z"
      },
      {
        "duration": 49,
        "start_time": "2022-01-08T18:37:47.718Z"
      },
      {
        "duration": 16,
        "start_time": "2022-01-08T18:37:47.770Z"
      },
      {
        "duration": 3,
        "start_time": "2022-01-08T18:37:47.789Z"
      },
      {
        "duration": 72,
        "start_time": "2022-01-08T18:37:47.795Z"
      },
      {
        "duration": 13,
        "start_time": "2022-01-08T18:37:47.869Z"
      },
      {
        "duration": 12,
        "start_time": "2022-01-08T18:37:47.886Z"
      },
      {
        "duration": 4,
        "start_time": "2022-01-08T18:37:47.901Z"
      },
      {
        "duration": 7,
        "start_time": "2022-01-08T18:37:47.908Z"
      },
      {
        "duration": 62,
        "start_time": "2022-01-08T18:37:47.918Z"
      },
      {
        "duration": 13,
        "start_time": "2022-01-08T18:37:47.983Z"
      },
      {
        "duration": 18,
        "start_time": "2022-01-08T18:37:47.998Z"
      },
      {
        "duration": 10,
        "start_time": "2022-01-08T18:37:48.018Z"
      },
      {
        "duration": 40,
        "start_time": "2022-01-08T18:37:48.030Z"
      },
      {
        "duration": 6,
        "start_time": "2022-01-08T18:37:48.072Z"
      },
      {
        "duration": 10,
        "start_time": "2022-01-08T18:37:48.081Z"
      },
      {
        "duration": 7,
        "start_time": "2022-01-08T18:37:48.093Z"
      },
      {
        "duration": 11,
        "start_time": "2022-01-08T18:37:48.102Z"
      },
      {
        "duration": 71,
        "start_time": "2022-01-08T18:37:48.116Z"
      },
      {
        "duration": 13,
        "start_time": "2022-01-08T18:37:48.190Z"
      },
      {
        "duration": 10,
        "start_time": "2022-01-08T18:37:48.205Z"
      },
      {
        "duration": 20,
        "start_time": "2022-01-08T18:37:48.217Z"
      },
      {
        "duration": 4209,
        "start_time": "2022-01-08T18:37:48.268Z"
      },
      {
        "duration": 15,
        "start_time": "2022-01-08T18:37:52.481Z"
      },
      {
        "duration": 21,
        "start_time": "2022-01-08T18:37:52.504Z"
      },
      {
        "duration": 69,
        "start_time": "2022-01-08T18:37:52.528Z"
      },
      {
        "duration": 40,
        "start_time": "2022-01-08T18:37:52.600Z"
      },
      {
        "duration": 26,
        "start_time": "2022-01-08T18:37:52.642Z"
      },
      {
        "duration": 914,
        "start_time": "2022-01-08T18:37:52.671Z"
      },
      {
        "duration": 38,
        "start_time": "2022-01-08T18:37:53.588Z"
      },
      {
        "duration": 65,
        "start_time": "2022-01-08T18:37:53.630Z"
      },
      {
        "duration": 631,
        "start_time": "2022-01-08T18:37:53.697Z"
      },
      {
        "duration": 53,
        "start_time": "2022-01-08T18:37:54.331Z"
      },
      {
        "duration": 644,
        "start_time": "2022-01-08T18:37:54.387Z"
      },
      {
        "duration": 986,
        "start_time": "2022-01-08T18:37:55.034Z"
      },
      {
        "duration": 704,
        "start_time": "2022-01-08T18:37:56.023Z"
      },
      {
        "duration": 759,
        "start_time": "2022-01-08T18:37:56.730Z"
      },
      {
        "duration": 24,
        "start_time": "2022-01-08T18:37:57.493Z"
      },
      {
        "duration": 109,
        "start_time": "2022-01-08T18:37:57.521Z"
      },
      {
        "duration": 5,
        "start_time": "2022-01-08T18:37:57.634Z"
      },
      {
        "duration": 1218,
        "start_time": "2022-01-08T18:37:57.643Z"
      },
      {
        "duration": 332,
        "start_time": "2022-01-08T18:37:58.863Z"
      },
      {
        "duration": 8,
        "start_time": "2022-01-08T18:37:59.198Z"
      },
      {
        "duration": 8,
        "start_time": "2022-01-08T18:37:59.209Z"
      },
      {
        "duration": 17,
        "start_time": "2022-01-08T18:37:59.220Z"
      },
      {
        "duration": 3809,
        "start_time": "2022-01-08T18:37:59.239Z"
      },
      {
        "duration": 97,
        "start_time": "2022-01-08T18:38:03.051Z"
      },
      {
        "duration": 2892,
        "start_time": "2022-01-08T18:38:03.150Z"
      },
      {
        "duration": 27,
        "start_time": "2022-01-08T18:38:06.045Z"
      },
      {
        "duration": 36,
        "start_time": "2022-01-08T18:38:06.075Z"
      },
      {
        "duration": 1417,
        "start_time": "2022-01-08T18:38:06.114Z"
      },
      {
        "duration": 6,
        "start_time": "2022-01-08T18:38:07.533Z"
      },
      {
        "duration": 438,
        "start_time": "2022-01-08T18:38:07.541Z"
      },
      {
        "duration": 408,
        "start_time": "2022-01-08T18:40:16.680Z"
      },
      {
        "duration": 361,
        "start_time": "2022-01-08T18:40:26.521Z"
      },
      {
        "duration": 367,
        "start_time": "2022-01-08T18:44:09.771Z"
      },
      {
        "duration": 322,
        "start_time": "2022-01-08T18:44:20.730Z"
      },
      {
        "duration": 12,
        "start_time": "2022-01-08T18:45:13.824Z"
      },
      {
        "duration": 19,
        "start_time": "2022-01-08T18:45:36.094Z"
      },
      {
        "duration": 31,
        "start_time": "2022-01-08T18:45:36.561Z"
      },
      {
        "duration": 1133,
        "start_time": "2022-01-08T18:46:13.169Z"
      },
      {
        "duration": 42,
        "start_time": "2022-01-08T18:46:14.305Z"
      },
      {
        "duration": 18,
        "start_time": "2022-01-08T18:46:14.369Z"
      },
      {
        "duration": 4,
        "start_time": "2022-01-08T18:46:14.390Z"
      },
      {
        "duration": 41,
        "start_time": "2022-01-08T18:46:14.396Z"
      },
      {
        "duration": 18,
        "start_time": "2022-01-08T18:46:14.468Z"
      },
      {
        "duration": 12,
        "start_time": "2022-01-08T18:46:14.489Z"
      },
      {
        "duration": 5,
        "start_time": "2022-01-08T18:46:14.507Z"
      },
      {
        "duration": 11,
        "start_time": "2022-01-08T18:46:14.517Z"
      },
      {
        "duration": 19,
        "start_time": "2022-01-08T18:46:14.567Z"
      },
      {
        "duration": 15,
        "start_time": "2022-01-08T18:46:14.590Z"
      },
      {
        "duration": 17,
        "start_time": "2022-01-08T18:46:14.610Z"
      },
      {
        "duration": 14,
        "start_time": "2022-01-08T18:46:14.666Z"
      },
      {
        "duration": 8,
        "start_time": "2022-01-08T18:46:14.684Z"
      },
      {
        "duration": 8,
        "start_time": "2022-01-08T18:46:14.695Z"
      },
      {
        "duration": 7,
        "start_time": "2022-01-08T18:46:14.706Z"
      },
      {
        "duration": 53,
        "start_time": "2022-01-08T18:46:14.716Z"
      },
      {
        "duration": 19,
        "start_time": "2022-01-08T18:46:14.772Z"
      },
      {
        "duration": 75,
        "start_time": "2022-01-08T18:46:14.794Z"
      },
      {
        "duration": 22,
        "start_time": "2022-01-08T18:46:14.872Z"
      },
      {
        "duration": 14,
        "start_time": "2022-01-08T18:46:14.897Z"
      },
      {
        "duration": 56,
        "start_time": "2022-01-08T18:46:14.913Z"
      },
      {
        "duration": 4714,
        "start_time": "2022-01-08T18:46:14.975Z"
      },
      {
        "duration": 18,
        "start_time": "2022-01-08T18:46:19.695Z"
      },
      {
        "duration": 21,
        "start_time": "2022-01-08T18:46:19.715Z"
      },
      {
        "duration": 60,
        "start_time": "2022-01-08T18:46:19.739Z"
      },
      {
        "duration": 40,
        "start_time": "2022-01-08T18:46:19.802Z"
      },
      {
        "duration": 26,
        "start_time": "2022-01-08T18:46:19.844Z"
      },
      {
        "duration": 883,
        "start_time": "2022-01-08T18:46:19.873Z"
      },
      {
        "duration": 45,
        "start_time": "2022-01-08T18:46:20.759Z"
      },
      {
        "duration": 72,
        "start_time": "2022-01-08T18:46:20.807Z"
      },
      {
        "duration": 517,
        "start_time": "2022-01-08T18:46:20.881Z"
      },
      {
        "duration": 36,
        "start_time": "2022-01-08T18:46:21.401Z"
      },
      {
        "duration": 578,
        "start_time": "2022-01-08T18:46:21.440Z"
      },
      {
        "duration": 605,
        "start_time": "2022-01-08T18:46:22.021Z"
      },
      {
        "duration": 446,
        "start_time": "2022-01-08T18:46:22.628Z"
      },
      {
        "duration": 614,
        "start_time": "2022-01-08T18:46:23.077Z"
      },
      {
        "duration": 22,
        "start_time": "2022-01-08T18:46:23.693Z"
      },
      {
        "duration": 83,
        "start_time": "2022-01-08T18:46:23.718Z"
      },
      {
        "duration": 4,
        "start_time": "2022-01-08T18:46:23.803Z"
      },
      {
        "duration": 816,
        "start_time": "2022-01-08T18:46:23.809Z"
      },
      {
        "duration": 332,
        "start_time": "2022-01-08T18:46:24.628Z"
      },
      {
        "duration": 8,
        "start_time": "2022-01-08T18:46:24.963Z"
      },
      {
        "duration": 6,
        "start_time": "2022-01-08T18:46:24.974Z"
      },
      {
        "duration": 13,
        "start_time": "2022-01-08T18:46:24.982Z"
      },
      {
        "duration": 3114,
        "start_time": "2022-01-08T18:46:24.998Z"
      },
      {
        "duration": 98,
        "start_time": "2022-01-08T18:46:28.114Z"
      },
      {
        "duration": 3092,
        "start_time": "2022-01-08T18:46:28.214Z"
      },
      {
        "duration": 13,
        "start_time": "2022-01-08T18:46:31.310Z"
      },
      {
        "duration": 67,
        "start_time": "2022-01-08T18:46:31.326Z"
      },
      {
        "duration": 1513,
        "start_time": "2022-01-08T18:46:31.396Z"
      },
      {
        "duration": 6,
        "start_time": "2022-01-08T18:46:32.911Z"
      },
      {
        "duration": 450,
        "start_time": "2022-01-08T18:46:32.919Z"
      },
      {
        "duration": 20,
        "start_time": "2022-01-08T18:46:33.371Z"
      },
      {
        "duration": 12,
        "start_time": "2022-01-08T18:46:33.394Z"
      },
      {
        "duration": 19,
        "start_time": "2022-01-08T18:46:33.409Z"
      },
      {
        "duration": 595,
        "start_time": "2022-01-08T18:51:19.567Z"
      },
      {
        "duration": 454,
        "start_time": "2022-01-08T18:51:24.028Z"
      },
      {
        "duration": 404,
        "start_time": "2022-01-08T18:52:50.302Z"
      },
      {
        "duration": 335,
        "start_time": "2022-01-08T18:53:15.943Z"
      },
      {
        "duration": 388,
        "start_time": "2022-01-08T18:53:55.648Z"
      },
      {
        "duration": 28,
        "start_time": "2022-01-08T18:54:20.483Z"
      },
      {
        "duration": 359,
        "start_time": "2022-01-08T18:55:13.953Z"
      },
      {
        "duration": 31,
        "start_time": "2022-01-08T18:56:23.540Z"
      },
      {
        "duration": 329,
        "start_time": "2022-01-08T18:56:49.383Z"
      },
      {
        "duration": 30,
        "start_time": "2022-01-08T18:57:01.028Z"
      },
      {
        "duration": 324,
        "start_time": "2022-01-08T19:08:45.000Z"
      },
      {
        "duration": 29,
        "start_time": "2022-01-08T19:10:14.523Z"
      },
      {
        "duration": 20,
        "start_time": "2022-01-08T19:10:36.563Z"
      },
      {
        "duration": 362,
        "start_time": "2022-01-08T19:11:27.137Z"
      },
      {
        "duration": 10,
        "start_time": "2022-01-08T19:11:47.432Z"
      },
      {
        "duration": 304,
        "start_time": "2022-01-08T19:12:15.940Z"
      },
      {
        "duration": 307,
        "start_time": "2022-01-08T19:13:49.416Z"
      },
      {
        "duration": 397,
        "start_time": "2022-01-08T19:14:13.631Z"
      },
      {
        "duration": 934,
        "start_time": "2022-01-08T19:14:33.915Z"
      },
      {
        "duration": 46,
        "start_time": "2022-01-08T19:14:34.853Z"
      },
      {
        "duration": 17,
        "start_time": "2022-01-08T19:14:34.902Z"
      },
      {
        "duration": 3,
        "start_time": "2022-01-08T19:14:34.922Z"
      },
      {
        "duration": 66,
        "start_time": "2022-01-08T19:14:34.928Z"
      },
      {
        "duration": 13,
        "start_time": "2022-01-08T19:14:34.997Z"
      },
      {
        "duration": 12,
        "start_time": "2022-01-08T19:14:35.013Z"
      },
      {
        "duration": 38,
        "start_time": "2022-01-08T19:14:35.029Z"
      },
      {
        "duration": 14,
        "start_time": "2022-01-08T19:14:35.071Z"
      },
      {
        "duration": 27,
        "start_time": "2022-01-08T19:14:35.087Z"
      },
      {
        "duration": 12,
        "start_time": "2022-01-08T19:14:35.116Z"
      },
      {
        "duration": 40,
        "start_time": "2022-01-08T19:14:35.131Z"
      },
      {
        "duration": 21,
        "start_time": "2022-01-08T19:14:35.173Z"
      },
      {
        "duration": 8,
        "start_time": "2022-01-08T19:14:35.196Z"
      },
      {
        "duration": 8,
        "start_time": "2022-01-08T19:14:35.207Z"
      },
      {
        "duration": 10,
        "start_time": "2022-01-08T19:14:35.217Z"
      },
      {
        "duration": 41,
        "start_time": "2022-01-08T19:14:35.229Z"
      },
      {
        "duration": 31,
        "start_time": "2022-01-08T19:14:35.272Z"
      },
      {
        "duration": 37,
        "start_time": "2022-01-08T19:14:35.306Z"
      },
      {
        "duration": 15,
        "start_time": "2022-01-08T19:14:35.346Z"
      },
      {
        "duration": 12,
        "start_time": "2022-01-08T19:14:35.367Z"
      },
      {
        "duration": 48,
        "start_time": "2022-01-08T19:14:35.381Z"
      },
      {
        "duration": 4367,
        "start_time": "2022-01-08T19:14:35.434Z"
      },
      {
        "duration": 13,
        "start_time": "2022-01-08T19:14:39.806Z"
      },
      {
        "duration": 45,
        "start_time": "2022-01-08T19:14:39.822Z"
      },
      {
        "duration": 42,
        "start_time": "2022-01-08T19:14:39.869Z"
      },
      {
        "duration": 57,
        "start_time": "2022-01-08T19:14:39.914Z"
      },
      {
        "duration": 6,
        "start_time": "2022-01-08T19:14:39.974Z"
      },
      {
        "duration": 884,
        "start_time": "2022-01-08T19:14:39.983Z"
      },
      {
        "duration": 46,
        "start_time": "2022-01-08T19:14:40.869Z"
      },
      {
        "duration": 69,
        "start_time": "2022-01-08T19:14:40.917Z"
      },
      {
        "duration": 495,
        "start_time": "2022-01-08T19:14:40.988Z"
      },
      {
        "duration": 37,
        "start_time": "2022-01-08T19:14:41.485Z"
      },
      {
        "duration": 591,
        "start_time": "2022-01-08T19:14:41.525Z"
      },
      {
        "duration": 631,
        "start_time": "2022-01-08T19:14:42.119Z"
      },
      {
        "duration": 467,
        "start_time": "2022-01-08T19:14:42.753Z"
      },
      {
        "duration": 626,
        "start_time": "2022-01-08T19:14:43.223Z"
      },
      {
        "duration": 40,
        "start_time": "2022-01-08T19:14:43.852Z"
      },
      {
        "duration": 71,
        "start_time": "2022-01-08T19:14:43.895Z"
      },
      {
        "duration": 4,
        "start_time": "2022-01-08T19:14:43.969Z"
      },
      {
        "duration": 963,
        "start_time": "2022-01-08T19:14:43.976Z"
      },
      {
        "duration": 329,
        "start_time": "2022-01-08T19:14:44.941Z"
      },
      {
        "duration": 7,
        "start_time": "2022-01-08T19:14:45.272Z"
      },
      {
        "duration": 6,
        "start_time": "2022-01-08T19:14:45.281Z"
      },
      {
        "duration": 14,
        "start_time": "2022-01-08T19:14:45.290Z"
      },
      {
        "duration": 3175,
        "start_time": "2022-01-08T19:14:45.307Z"
      },
      {
        "duration": 94,
        "start_time": "2022-01-08T19:14:48.485Z"
      },
      {
        "duration": 3011,
        "start_time": "2022-01-08T19:14:48.581Z"
      },
      {
        "duration": 11,
        "start_time": "2022-01-08T19:14:51.595Z"
      },
      {
        "duration": 62,
        "start_time": "2022-01-08T19:14:51.609Z"
      },
      {
        "duration": 1509,
        "start_time": "2022-01-08T19:14:51.674Z"
      },
      {
        "duration": 6,
        "start_time": "2022-01-08T19:14:53.186Z"
      },
      {
        "duration": 448,
        "start_time": "2022-01-08T19:14:53.194Z"
      },
      {
        "duration": 28,
        "start_time": "2022-01-08T19:14:53.644Z"
      },
      {
        "duration": 13,
        "start_time": "2022-01-08T19:14:53.675Z"
      },
      {
        "duration": 19,
        "start_time": "2022-01-08T19:14:53.691Z"
      },
      {
        "duration": 70,
        "start_time": "2022-01-08T19:14:53.713Z"
      },
      {
        "duration": 9,
        "start_time": "2022-01-08T19:14:53.785Z"
      },
      {
        "duration": 670,
        "start_time": "2022-01-08T19:14:53.796Z"
      },
      {
        "duration": 96,
        "start_time": "2022-01-08T19:16:40.146Z"
      },
      {
        "duration": 57,
        "start_time": "2022-01-08T19:16:50.591Z"
      },
      {
        "duration": 55,
        "start_time": "2022-01-08T19:17:13.202Z"
      },
      {
        "duration": 464,
        "start_time": "2022-01-08T19:20:05.114Z"
      },
      {
        "duration": 58,
        "start_time": "2022-01-08T19:20:05.907Z"
      },
      {
        "duration": 54,
        "start_time": "2022-01-08T19:20:08.819Z"
      },
      {
        "duration": 12,
        "start_time": "2022-01-08T19:20:38.034Z"
      },
      {
        "duration": 53,
        "start_time": "2022-01-08T19:20:38.973Z"
      },
      {
        "duration": 53,
        "start_time": "2022-01-08T19:20:39.597Z"
      },
      {
        "duration": 14,
        "start_time": "2022-01-08T19:21:04.578Z"
      },
      {
        "duration": 52,
        "start_time": "2022-01-08T19:21:07.237Z"
      },
      {
        "duration": 186,
        "start_time": "2022-01-08T19:21:08.503Z"
      },
      {
        "duration": 10,
        "start_time": "2022-01-08T19:21:26.339Z"
      },
      {
        "duration": 49,
        "start_time": "2022-01-08T19:21:27.056Z"
      },
      {
        "duration": 13,
        "start_time": "2022-01-08T19:21:28.069Z"
      },
      {
        "duration": 50,
        "start_time": "2022-01-08T19:21:28.958Z"
      },
      {
        "duration": 77,
        "start_time": "2022-01-08T19:21:29.671Z"
      },
      {
        "duration": 939,
        "start_time": "2022-01-08T19:21:40.009Z"
      },
      {
        "duration": 46,
        "start_time": "2022-01-08T19:21:40.950Z"
      },
      {
        "duration": 18,
        "start_time": "2022-01-08T19:21:40.999Z"
      },
      {
        "duration": 3,
        "start_time": "2022-01-08T19:21:41.020Z"
      },
      {
        "duration": 81,
        "start_time": "2022-01-08T19:21:41.026Z"
      },
      {
        "duration": 13,
        "start_time": "2022-01-08T19:21:41.110Z"
      },
      {
        "duration": 50,
        "start_time": "2022-01-08T19:21:41.126Z"
      },
      {
        "duration": 5,
        "start_time": "2022-01-08T19:21:41.180Z"
      },
      {
        "duration": 9,
        "start_time": "2022-01-08T19:21:41.188Z"
      },
      {
        "duration": 21,
        "start_time": "2022-01-08T19:21:41.200Z"
      },
      {
        "duration": 50,
        "start_time": "2022-01-08T19:21:41.224Z"
      },
      {
        "duration": 19,
        "start_time": "2022-01-08T19:21:41.276Z"
      },
      {
        "duration": 16,
        "start_time": "2022-01-08T19:21:41.298Z"
      },
      {
        "duration": 8,
        "start_time": "2022-01-08T19:21:41.317Z"
      },
      {
        "duration": 7,
        "start_time": "2022-01-08T19:21:41.368Z"
      },
      {
        "duration": 12,
        "start_time": "2022-01-08T19:21:41.377Z"
      },
      {
        "duration": 9,
        "start_time": "2022-01-08T19:21:41.391Z"
      },
      {
        "duration": 12,
        "start_time": "2022-01-08T19:21:41.402Z"
      },
      {
        "duration": 79,
        "start_time": "2022-01-08T19:21:41.416Z"
      },
      {
        "duration": 17,
        "start_time": "2022-01-08T19:21:41.497Z"
      },
      {
        "duration": 10,
        "start_time": "2022-01-08T19:21:41.517Z"
      },
      {
        "duration": 22,
        "start_time": "2022-01-08T19:21:41.566Z"
      },
      {
        "duration": 4222,
        "start_time": "2022-01-08T19:21:41.594Z"
      },
      {
        "duration": 13,
        "start_time": "2022-01-08T19:21:45.820Z"
      },
      {
        "duration": 49,
        "start_time": "2022-01-08T19:21:45.836Z"
      },
      {
        "duration": 43,
        "start_time": "2022-01-08T19:21:45.887Z"
      },
      {
        "duration": 65,
        "start_time": "2022-01-08T19:21:45.932Z"
      },
      {
        "duration": 5,
        "start_time": "2022-01-08T19:21:45.999Z"
      },
      {
        "duration": 860,
        "start_time": "2022-01-08T19:21:46.007Z"
      },
      {
        "duration": 48,
        "start_time": "2022-01-08T19:21:46.869Z"
      },
      {
        "duration": 65,
        "start_time": "2022-01-08T19:21:46.920Z"
      },
      {
        "duration": 509,
        "start_time": "2022-01-08T19:21:46.988Z"
      },
      {
        "duration": 39,
        "start_time": "2022-01-08T19:21:47.500Z"
      },
      {
        "duration": 575,
        "start_time": "2022-01-08T19:21:47.569Z"
      },
      {
        "duration": 624,
        "start_time": "2022-01-08T19:21:48.146Z"
      },
      {
        "duration": 469,
        "start_time": "2022-01-08T19:21:48.773Z"
      },
      {
        "duration": 607,
        "start_time": "2022-01-08T19:21:49.244Z"
      },
      {
        "duration": 32,
        "start_time": "2022-01-08T19:21:49.853Z"
      },
      {
        "duration": 55,
        "start_time": "2022-01-08T19:21:49.887Z"
      },
      {
        "duration": 24,
        "start_time": "2022-01-08T19:21:49.946Z"
      },
      {
        "duration": 848,
        "start_time": "2022-01-08T19:21:49.974Z"
      },
      {
        "duration": 346,
        "start_time": "2022-01-08T19:21:50.824Z"
      },
      {
        "duration": 9,
        "start_time": "2022-01-08T19:21:51.173Z"
      },
      {
        "duration": 7,
        "start_time": "2022-01-08T19:21:51.184Z"
      },
      {
        "duration": 11,
        "start_time": "2022-01-08T19:21:51.194Z"
      },
      {
        "duration": 2984,
        "start_time": "2022-01-08T19:21:51.207Z"
      },
      {
        "duration": 89,
        "start_time": "2022-01-08T19:21:54.193Z"
      },
      {
        "duration": 3053,
        "start_time": "2022-01-08T19:21:54.285Z"
      },
      {
        "duration": 26,
        "start_time": "2022-01-08T19:21:57.341Z"
      },
      {
        "duration": 37,
        "start_time": "2022-01-08T19:21:57.370Z"
      },
      {
        "duration": 1613,
        "start_time": "2022-01-08T19:21:57.410Z"
      },
      {
        "duration": 6,
        "start_time": "2022-01-08T19:21:59.025Z"
      },
      {
        "duration": 473,
        "start_time": "2022-01-08T19:21:59.034Z"
      },
      {
        "duration": 21,
        "start_time": "2022-01-08T19:21:59.510Z"
      },
      {
        "duration": 15,
        "start_time": "2022-01-08T19:21:59.535Z"
      },
      {
        "duration": 40,
        "start_time": "2022-01-08T19:21:59.553Z"
      },
      {
        "duration": 41,
        "start_time": "2022-01-08T19:21:59.596Z"
      },
      {
        "duration": 9,
        "start_time": "2022-01-08T19:21:59.640Z"
      },
      {
        "duration": 607,
        "start_time": "2022-01-08T19:21:59.652Z"
      },
      {
        "duration": -500,
        "start_time": "2022-01-08T19:22:00.763Z"
      },
      {
        "duration": -508,
        "start_time": "2022-01-08T19:22:00.773Z"
      },
      {
        "duration": -515,
        "start_time": "2022-01-08T19:22:00.782Z"
      },
      {
        "duration": 644,
        "start_time": "2022-01-08T19:22:33.083Z"
      },
      {
        "duration": 16,
        "start_time": "2022-01-08T19:22:46.915Z"
      },
      {
        "duration": 55,
        "start_time": "2022-01-08T19:22:47.603Z"
      },
      {
        "duration": 61,
        "start_time": "2022-01-08T19:22:56.398Z"
      },
      {
        "duration": 319,
        "start_time": "2022-01-08T19:40:35.191Z"
      },
      {
        "duration": 883,
        "start_time": "2022-01-08T19:41:09.996Z"
      },
      {
        "duration": 39,
        "start_time": "2022-01-08T19:41:10.882Z"
      },
      {
        "duration": 49,
        "start_time": "2022-01-08T19:41:10.924Z"
      },
      {
        "duration": 4,
        "start_time": "2022-01-08T19:41:10.976Z"
      },
      {
        "duration": 34,
        "start_time": "2022-01-08T19:41:10.983Z"
      },
      {
        "duration": 49,
        "start_time": "2022-01-08T19:41:11.019Z"
      },
      {
        "duration": 15,
        "start_time": "2022-01-08T19:41:11.071Z"
      },
      {
        "duration": 6,
        "start_time": "2022-01-08T19:41:11.090Z"
      },
      {
        "duration": 10,
        "start_time": "2022-01-08T19:41:11.099Z"
      },
      {
        "duration": 63,
        "start_time": "2022-01-08T19:41:11.111Z"
      },
      {
        "duration": 15,
        "start_time": "2022-01-08T19:41:11.177Z"
      },
      {
        "duration": 23,
        "start_time": "2022-01-08T19:41:11.195Z"
      },
      {
        "duration": 48,
        "start_time": "2022-01-08T19:41:11.220Z"
      },
      {
        "duration": 6,
        "start_time": "2022-01-08T19:41:11.270Z"
      },
      {
        "duration": 9,
        "start_time": "2022-01-08T19:41:11.279Z"
      },
      {
        "duration": 11,
        "start_time": "2022-01-08T19:41:11.291Z"
      },
      {
        "duration": 8,
        "start_time": "2022-01-08T19:41:11.305Z"
      },
      {
        "duration": 57,
        "start_time": "2022-01-08T19:41:11.316Z"
      },
      {
        "duration": 30,
        "start_time": "2022-01-08T19:41:11.376Z"
      },
      {
        "duration": 20,
        "start_time": "2022-01-08T19:41:11.408Z"
      },
      {
        "duration": 43,
        "start_time": "2022-01-08T19:41:11.430Z"
      },
      {
        "duration": 21,
        "start_time": "2022-01-08T19:41:11.476Z"
      },
      {
        "duration": 3942,
        "start_time": "2022-01-08T19:41:11.503Z"
      },
      {
        "duration": 22,
        "start_time": "2022-01-08T19:41:15.449Z"
      },
      {
        "duration": 21,
        "start_time": "2022-01-08T19:41:15.474Z"
      },
      {
        "duration": 70,
        "start_time": "2022-01-08T19:41:15.498Z"
      },
      {
        "duration": 40,
        "start_time": "2022-01-08T19:41:15.571Z"
      },
      {
        "duration": 5,
        "start_time": "2022-01-08T19:41:15.614Z"
      },
      {
        "duration": 886,
        "start_time": "2022-01-08T19:41:15.621Z"
      },
      {
        "duration": 40,
        "start_time": "2022-01-08T19:41:16.509Z"
      },
      {
        "duration": 44,
        "start_time": "2022-01-08T19:41:16.568Z"
      },
      {
        "duration": 537,
        "start_time": "2022-01-08T19:41:16.615Z"
      },
      {
        "duration": 45,
        "start_time": "2022-01-08T19:41:17.155Z"
      },
      {
        "duration": 646,
        "start_time": "2022-01-08T19:41:17.203Z"
      },
      {
        "duration": 641,
        "start_time": "2022-01-08T19:41:17.853Z"
      },
      {
        "duration": 447,
        "start_time": "2022-01-08T19:41:18.497Z"
      },
      {
        "duration": 608,
        "start_time": "2022-01-08T19:41:18.947Z"
      },
      {
        "duration": 27,
        "start_time": "2022-01-08T19:41:19.558Z"
      },
      {
        "duration": 80,
        "start_time": "2022-01-08T19:41:19.587Z"
      },
      {
        "duration": 4,
        "start_time": "2022-01-08T19:41:19.670Z"
      },
      {
        "duration": 834,
        "start_time": "2022-01-08T19:41:19.676Z"
      },
      {
        "duration": 342,
        "start_time": "2022-01-08T19:41:20.513Z"
      },
      {
        "duration": 16,
        "start_time": "2022-01-08T19:41:20.859Z"
      },
      {
        "duration": 8,
        "start_time": "2022-01-08T19:41:20.878Z"
      },
      {
        "duration": 17,
        "start_time": "2022-01-08T19:41:20.890Z"
      },
      {
        "duration": 3028,
        "start_time": "2022-01-08T19:41:20.910Z"
      },
      {
        "duration": 87,
        "start_time": "2022-01-08T19:41:23.941Z"
      },
      {
        "duration": 3496,
        "start_time": "2022-01-08T19:41:24.031Z"
      },
      {
        "duration": 11,
        "start_time": "2022-01-08T19:41:27.530Z"
      },
      {
        "duration": 32,
        "start_time": "2022-01-08T19:41:27.544Z"
      },
      {
        "duration": 37,
        "start_time": "2022-01-08T19:41:27.578Z"
      },
      {
        "duration": 1829,
        "start_time": "2022-01-08T19:41:27.618Z"
      },
      {
        "duration": 17,
        "start_time": "2022-01-08T19:41:29.450Z"
      },
      {
        "duration": 457,
        "start_time": "2022-01-08T19:41:29.470Z"
      },
      {
        "duration": 19,
        "start_time": "2022-01-08T19:41:29.930Z"
      },
      {
        "duration": 13,
        "start_time": "2022-01-08T19:41:29.969Z"
      },
      {
        "duration": 18,
        "start_time": "2022-01-08T19:41:29.985Z"
      },
      {
        "duration": 73,
        "start_time": "2022-01-08T19:41:30.006Z"
      },
      {
        "duration": 8,
        "start_time": "2022-01-08T19:41:30.082Z"
      },
      {
        "duration": 683,
        "start_time": "2022-01-08T19:41:30.093Z"
      },
      {
        "duration": 16,
        "start_time": "2022-01-08T19:41:30.779Z"
      },
      {
        "duration": 78,
        "start_time": "2022-01-08T19:41:30.797Z"
      },
      {
        "duration": 56,
        "start_time": "2022-01-08T19:41:30.877Z"
      },
      {
        "duration": 907,
        "start_time": "2022-01-10T07:49:03.892Z"
      },
      {
        "duration": 45,
        "start_time": "2022-01-10T07:49:04.802Z"
      },
      {
        "duration": 17,
        "start_time": "2022-01-10T07:49:04.851Z"
      },
      {
        "duration": 4,
        "start_time": "2022-01-10T07:49:04.870Z"
      },
      {
        "duration": 66,
        "start_time": "2022-01-10T07:49:04.876Z"
      },
      {
        "duration": 13,
        "start_time": "2022-01-10T07:49:04.945Z"
      },
      {
        "duration": 11,
        "start_time": "2022-01-10T07:49:04.961Z"
      },
      {
        "duration": 5,
        "start_time": "2022-01-10T07:49:04.975Z"
      },
      {
        "duration": 43,
        "start_time": "2022-01-10T07:49:04.984Z"
      },
      {
        "duration": 17,
        "start_time": "2022-01-10T07:49:05.031Z"
      },
      {
        "duration": 12,
        "start_time": "2022-01-10T07:49:05.051Z"
      },
      {
        "duration": 17,
        "start_time": "2022-01-10T07:49:05.066Z"
      },
      {
        "duration": 39,
        "start_time": "2022-01-10T07:49:05.085Z"
      },
      {
        "duration": 6,
        "start_time": "2022-01-10T07:49:05.127Z"
      },
      {
        "duration": 6,
        "start_time": "2022-01-10T07:49:05.135Z"
      },
      {
        "duration": 6,
        "start_time": "2022-01-10T07:49:05.143Z"
      },
      {
        "duration": 7,
        "start_time": "2022-01-10T07:49:05.152Z"
      },
      {
        "duration": 12,
        "start_time": "2022-01-10T07:49:05.161Z"
      },
      {
        "duration": 72,
        "start_time": "2022-01-10T07:49:05.176Z"
      },
      {
        "duration": 14,
        "start_time": "2022-01-10T07:49:05.251Z"
      },
      {
        "duration": 10,
        "start_time": "2022-01-10T07:49:05.267Z"
      },
      {
        "duration": 57,
        "start_time": "2022-01-10T07:49:05.279Z"
      },
      {
        "duration": 3870,
        "start_time": "2022-01-10T07:49:05.339Z"
      },
      {
        "duration": 11,
        "start_time": "2022-01-10T07:49:09.223Z"
      },
      {
        "duration": 20,
        "start_time": "2022-01-10T07:49:09.237Z"
      },
      {
        "duration": 37,
        "start_time": "2022-01-10T07:49:09.259Z"
      },
      {
        "duration": 37,
        "start_time": "2022-01-10T07:49:09.322Z"
      },
      {
        "duration": 6,
        "start_time": "2022-01-10T07:49:09.364Z"
      },
      {
        "duration": 813,
        "start_time": "2022-01-10T07:49:09.372Z"
      },
      {
        "duration": 40,
        "start_time": "2022-01-10T07:49:10.187Z"
      },
      {
        "duration": 36,
        "start_time": "2022-01-10T07:49:10.229Z"
      },
      {
        "duration": 457,
        "start_time": "2022-01-10T07:49:10.268Z"
      },
      {
        "duration": 33,
        "start_time": "2022-01-10T07:49:10.727Z"
      },
      {
        "duration": 516,
        "start_time": "2022-01-10T07:49:10.762Z"
      },
      {
        "duration": 555,
        "start_time": "2022-01-10T07:49:11.280Z"
      },
      {
        "duration": 400,
        "start_time": "2022-01-10T07:49:11.837Z"
      },
      {
        "duration": 548,
        "start_time": "2022-01-10T07:49:12.240Z"
      },
      {
        "duration": 33,
        "start_time": "2022-01-10T07:49:12.790Z"
      },
      {
        "duration": 49,
        "start_time": "2022-01-10T07:49:12.825Z"
      },
      {
        "duration": 3,
        "start_time": "2022-01-10T07:49:12.877Z"
      },
      {
        "duration": 806,
        "start_time": "2022-01-10T07:49:12.882Z"
      },
      {
        "duration": 294,
        "start_time": "2022-01-10T07:49:13.690Z"
      },
      {
        "duration": 7,
        "start_time": "2022-01-10T07:49:13.986Z"
      },
      {
        "duration": 29,
        "start_time": "2022-01-10T07:49:13.995Z"
      },
      {
        "duration": 12,
        "start_time": "2022-01-10T07:49:14.026Z"
      },
      {
        "duration": 2598,
        "start_time": "2022-01-10T07:49:14.040Z"
      },
      {
        "duration": 60,
        "start_time": "2022-01-10T07:49:16.640Z"
      },
      {
        "duration": 2715,
        "start_time": "2022-01-10T07:49:16.702Z"
      },
      {
        "duration": 11,
        "start_time": "2022-01-10T07:49:19.419Z"
      },
      {
        "duration": 9,
        "start_time": "2022-01-10T07:49:19.433Z"
      },
      {
        "duration": 35,
        "start_time": "2022-01-10T07:49:19.444Z"
      },
      {
        "duration": 1360,
        "start_time": "2022-01-10T07:49:19.481Z"
      },
      {
        "duration": 5,
        "start_time": "2022-01-10T07:49:20.844Z"
      },
      {
        "duration": 435,
        "start_time": "2022-01-10T07:49:20.852Z"
      },
      {
        "duration": 33,
        "start_time": "2022-01-10T07:49:21.290Z"
      },
      {
        "duration": 13,
        "start_time": "2022-01-10T07:49:21.326Z"
      },
      {
        "duration": 41,
        "start_time": "2022-01-10T07:49:21.342Z"
      },
      {
        "duration": 40,
        "start_time": "2022-01-10T07:49:21.385Z"
      },
      {
        "duration": 10,
        "start_time": "2022-01-10T07:49:21.427Z"
      },
      {
        "duration": 1285,
        "start_time": "2022-01-10T07:49:21.439Z"
      },
      {
        "duration": 17,
        "start_time": "2022-01-10T07:49:22.728Z"
      },
      {
        "duration": 54,
        "start_time": "2022-01-10T07:49:22.747Z"
      },
      {
        "duration": 54,
        "start_time": "2022-01-10T07:49:22.825Z"
      },
      {
        "duration": 684,
        "start_time": "2022-01-11T04:21:37.326Z"
      },
      {
        "duration": 33,
        "start_time": "2022-01-11T04:21:38.013Z"
      },
      {
        "duration": 15,
        "start_time": "2022-01-11T04:21:38.048Z"
      },
      {
        "duration": 3,
        "start_time": "2022-01-11T04:21:38.065Z"
      },
      {
        "duration": 21,
        "start_time": "2022-01-11T04:21:38.070Z"
      },
      {
        "duration": 17,
        "start_time": "2022-01-11T04:21:38.093Z"
      },
      {
        "duration": 35,
        "start_time": "2022-01-11T04:21:38.112Z"
      },
      {
        "duration": 4,
        "start_time": "2022-01-11T04:21:38.149Z"
      },
      {
        "duration": 10,
        "start_time": "2022-01-11T04:21:38.155Z"
      },
      {
        "duration": 16,
        "start_time": "2022-01-11T04:21:38.166Z"
      },
      {
        "duration": 10,
        "start_time": "2022-01-11T04:21:38.184Z"
      },
      {
        "duration": 11,
        "start_time": "2022-01-11T04:21:38.196Z"
      },
      {
        "duration": 9,
        "start_time": "2022-01-11T04:21:38.208Z"
      },
      {
        "duration": 23,
        "start_time": "2022-01-11T04:21:38.218Z"
      },
      {
        "duration": 7,
        "start_time": "2022-01-11T04:21:38.243Z"
      },
      {
        "duration": 6,
        "start_time": "2022-01-11T04:21:38.252Z"
      },
      {
        "duration": 9,
        "start_time": "2022-01-11T04:21:38.260Z"
      },
      {
        "duration": 18,
        "start_time": "2022-01-11T04:21:38.270Z"
      },
      {
        "duration": 11,
        "start_time": "2022-01-11T04:21:38.290Z"
      },
      {
        "duration": 32,
        "start_time": "2022-01-11T04:21:38.303Z"
      },
      {
        "duration": 42,
        "start_time": "2022-01-11T04:21:38.337Z"
      },
      {
        "duration": 33,
        "start_time": "2022-01-11T04:21:38.380Z"
      },
      {
        "duration": 11,
        "start_time": "2022-01-11T04:21:38.416Z"
      },
      {
        "duration": 34,
        "start_time": "2022-01-11T04:21:38.429Z"
      },
      {
        "duration": 2709,
        "start_time": "2022-01-11T04:21:38.465Z"
      },
      {
        "duration": 7,
        "start_time": "2022-01-11T04:21:41.176Z"
      },
      {
        "duration": 18,
        "start_time": "2022-01-11T04:21:41.185Z"
      },
      {
        "duration": 38,
        "start_time": "2022-01-11T04:21:41.205Z"
      },
      {
        "duration": 24,
        "start_time": "2022-01-11T04:21:41.244Z"
      },
      {
        "duration": 3,
        "start_time": "2022-01-11T04:21:41.269Z"
      },
      {
        "duration": 476,
        "start_time": "2022-01-11T04:21:41.274Z"
      },
      {
        "duration": 20,
        "start_time": "2022-01-11T04:21:41.751Z"
      },
      {
        "duration": 27,
        "start_time": "2022-01-11T04:21:41.773Z"
      },
      {
        "duration": 315,
        "start_time": "2022-01-11T04:21:41.801Z"
      },
      {
        "duration": 29,
        "start_time": "2022-01-11T04:21:42.117Z"
      },
      {
        "duration": 295,
        "start_time": "2022-01-11T04:21:42.148Z"
      },
      {
        "duration": 414,
        "start_time": "2022-01-11T04:21:42.444Z"
      },
      {
        "duration": 243,
        "start_time": "2022-01-11T04:21:42.860Z"
      },
      {
        "duration": 479,
        "start_time": "2022-01-11T04:21:43.105Z"
      },
      {
        "duration": 71,
        "start_time": "2022-01-11T04:21:43.585Z"
      },
      {
        "duration": 34,
        "start_time": "2022-01-11T04:21:43.657Z"
      },
      {
        "duration": 2,
        "start_time": "2022-01-11T04:21:43.693Z"
      },
      {
        "duration": 460,
        "start_time": "2022-01-11T04:21:43.741Z"
      },
      {
        "duration": 209,
        "start_time": "2022-01-11T04:21:44.203Z"
      },
      {
        "duration": 6,
        "start_time": "2022-01-11T04:21:44.413Z"
      },
      {
        "duration": 11,
        "start_time": "2022-01-11T04:21:44.420Z"
      },
      {
        "duration": 18,
        "start_time": "2022-01-11T04:21:44.433Z"
      },
      {
        "duration": 1707,
        "start_time": "2022-01-11T04:21:44.452Z"
      },
      {
        "duration": 101,
        "start_time": "2022-01-11T04:21:46.161Z"
      },
      {
        "duration": 1710,
        "start_time": "2022-01-11T04:21:46.264Z"
      },
      {
        "duration": 7,
        "start_time": "2022-01-11T04:21:47.976Z"
      },
      {
        "duration": 7,
        "start_time": "2022-01-11T04:21:47.985Z"
      },
      {
        "duration": 20,
        "start_time": "2022-01-11T04:21:47.994Z"
      },
      {
        "duration": 814,
        "start_time": "2022-01-11T04:21:48.015Z"
      },
      {
        "duration": 10,
        "start_time": "2022-01-11T04:21:48.831Z"
      },
      {
        "duration": 241,
        "start_time": "2022-01-11T04:21:48.842Z"
      },
      {
        "duration": 12,
        "start_time": "2022-01-11T04:21:49.085Z"
      },
      {
        "duration": 9,
        "start_time": "2022-01-11T04:21:49.099Z"
      },
      {
        "duration": 33,
        "start_time": "2022-01-11T04:21:49.109Z"
      },
      {
        "duration": 22,
        "start_time": "2022-01-11T04:21:49.144Z"
      },
      {
        "duration": 6,
        "start_time": "2022-01-11T04:21:49.168Z"
      },
      {
        "duration": 472,
        "start_time": "2022-01-11T04:21:49.175Z"
      },
      {
        "duration": 11,
        "start_time": "2022-01-11T04:21:49.649Z"
      },
      {
        "duration": 54,
        "start_time": "2022-01-11T04:21:49.662Z"
      },
      {
        "duration": 36,
        "start_time": "2022-01-11T04:21:49.718Z"
      },
      {
        "duration": 4,
        "start_time": "2022-01-11T04:22:42.187Z"
      },
      {
        "duration": 5779,
        "start_time": "2022-01-11T04:34:14.643Z"
      },
      {
        "duration": 4748,
        "start_time": "2022-01-11T04:34:30.102Z"
      },
      {
        "duration": 4698,
        "start_time": "2022-01-11T04:34:36.441Z"
      },
      {
        "duration": 665,
        "start_time": "2022-01-11T04:34:47.632Z"
      },
      {
        "duration": 23,
        "start_time": "2022-01-11T04:34:48.299Z"
      },
      {
        "duration": 18,
        "start_time": "2022-01-11T04:34:48.324Z"
      },
      {
        "duration": 2,
        "start_time": "2022-01-11T04:34:48.344Z"
      },
      {
        "duration": 21,
        "start_time": "2022-01-11T04:34:48.347Z"
      },
      {
        "duration": 10,
        "start_time": "2022-01-11T04:34:48.370Z"
      },
      {
        "duration": 7,
        "start_time": "2022-01-11T04:34:48.381Z"
      },
      {
        "duration": 2,
        "start_time": "2022-01-11T04:34:48.391Z"
      },
      {
        "duration": 5,
        "start_time": "2022-01-11T04:34:48.395Z"
      },
      {
        "duration": 39,
        "start_time": "2022-01-11T04:34:48.402Z"
      },
      {
        "duration": 8,
        "start_time": "2022-01-11T04:34:48.443Z"
      },
      {
        "duration": 10,
        "start_time": "2022-01-11T04:34:48.452Z"
      },
      {
        "duration": 6,
        "start_time": "2022-01-11T04:34:48.463Z"
      },
      {
        "duration": 9,
        "start_time": "2022-01-11T04:34:48.470Z"
      },
      {
        "duration": 9,
        "start_time": "2022-01-11T04:34:48.481Z"
      },
      {
        "duration": 14,
        "start_time": "2022-01-11T04:34:48.492Z"
      },
      {
        "duration": 6,
        "start_time": "2022-01-11T04:34:48.507Z"
      },
      {
        "duration": 9,
        "start_time": "2022-01-11T04:34:48.514Z"
      },
      {
        "duration": 25,
        "start_time": "2022-01-11T04:34:48.524Z"
      },
      {
        "duration": 20,
        "start_time": "2022-01-11T04:34:48.550Z"
      },
      {
        "duration": 14,
        "start_time": "2022-01-11T04:34:48.572Z"
      },
      {
        "duration": 7,
        "start_time": "2022-01-11T04:34:48.588Z"
      },
      {
        "duration": 14,
        "start_time": "2022-01-11T04:34:48.599Z"
      },
      {
        "duration": 2652,
        "start_time": "2022-01-11T04:34:48.615Z"
      },
      {
        "duration": 7,
        "start_time": "2022-01-11T04:34:51.269Z"
      },
      {
        "duration": 19,
        "start_time": "2022-01-11T04:34:51.278Z"
      },
      {
        "duration": 29,
        "start_time": "2022-01-11T04:34:51.299Z"
      },
      {
        "duration": 31,
        "start_time": "2022-01-11T04:34:51.330Z"
      },
      {
        "duration": 3,
        "start_time": "2022-01-11T04:34:51.363Z"
      },
      {
        "duration": 615,
        "start_time": "2022-01-11T04:34:51.367Z"
      },
      {
        "duration": 74,
        "start_time": "2022-01-11T04:34:51.983Z"
      },
      {
        "duration": 28,
        "start_time": "2022-01-11T04:34:52.058Z"
      },
      {
        "duration": 302,
        "start_time": "2022-01-11T04:34:52.088Z"
      },
      {
        "duration": 20,
        "start_time": "2022-01-11T04:34:52.392Z"
      },
      {
        "duration": 287,
        "start_time": "2022-01-11T04:34:52.413Z"
      },
      {
        "duration": 303,
        "start_time": "2022-01-11T04:34:52.702Z"
      },
      {
        "duration": 223,
        "start_time": "2022-01-11T04:34:53.006Z"
      },
      {
        "duration": 324,
        "start_time": "2022-01-11T04:34:53.230Z"
      },
      {
        "duration": 14,
        "start_time": "2022-01-11T04:34:53.555Z"
      },
      {
        "duration": 31,
        "start_time": "2022-01-11T04:34:53.571Z"
      },
      {
        "duration": 2,
        "start_time": "2022-01-11T04:34:53.603Z"
      },
      {
        "duration": 555,
        "start_time": "2022-01-11T04:34:53.607Z"
      },
      {
        "duration": 191,
        "start_time": "2022-01-11T04:34:54.164Z"
      },
      {
        "duration": 4,
        "start_time": "2022-01-11T04:34:54.357Z"
      },
      {
        "duration": 12,
        "start_time": "2022-01-11T04:34:54.363Z"
      },
      {
        "duration": 10,
        "start_time": "2022-01-11T04:34:54.377Z"
      },
      {
        "duration": 1524,
        "start_time": "2022-01-11T04:34:54.388Z"
      },
      {
        "duration": 53,
        "start_time": "2022-01-11T04:34:55.913Z"
      },
      {
        "duration": 1556,
        "start_time": "2022-01-11T04:34:55.967Z"
      },
      {
        "duration": 17,
        "start_time": "2022-01-11T04:34:57.524Z"
      },
      {
        "duration": 7,
        "start_time": "2022-01-11T04:34:57.542Z"
      },
      {
        "duration": 22,
        "start_time": "2022-01-11T04:34:57.550Z"
      },
      {
        "duration": 758,
        "start_time": "2022-01-11T04:34:57.573Z"
      },
      {
        "duration": 4,
        "start_time": "2022-01-11T04:34:58.341Z"
      },
      {
        "duration": 235,
        "start_time": "2022-01-11T04:34:58.346Z"
      },
      {
        "duration": 13,
        "start_time": "2022-01-11T04:34:58.583Z"
      },
      {
        "duration": 9,
        "start_time": "2022-01-11T04:34:58.597Z"
      },
      {
        "duration": 11,
        "start_time": "2022-01-11T04:34:58.607Z"
      },
      {
        "duration": 40,
        "start_time": "2022-01-11T04:34:58.620Z"
      },
      {
        "duration": 5,
        "start_time": "2022-01-11T04:34:58.662Z"
      },
      {
        "duration": 720,
        "start_time": "2022-01-11T04:34:58.669Z"
      },
      {
        "duration": 10,
        "start_time": "2022-01-11T04:34:59.391Z"
      },
      {
        "duration": 48,
        "start_time": "2022-01-11T04:34:59.402Z"
      },
      {
        "duration": 27,
        "start_time": "2022-01-11T04:34:59.451Z"
      },
      {
        "duration": 4,
        "start_time": "2022-01-11T04:38:54.483Z"
      },
      {
        "duration": 5,
        "start_time": "2022-01-11T04:38:58.098Z"
      },
      {
        "duration": 5236,
        "start_time": "2022-01-11T04:59:09.063Z"
      },
      {
        "duration": 5212,
        "start_time": "2022-01-11T04:59:30.673Z"
      },
      {
        "duration": 194,
        "start_time": "2022-01-11T05:04:37.941Z"
      },
      {
        "duration": 7,
        "start_time": "2022-01-11T05:04:54.772Z"
      },
      {
        "duration": 5,
        "start_time": "2022-01-11T05:04:57.554Z"
      },
      {
        "duration": 5810,
        "start_time": "2022-01-11T05:05:02.329Z"
      },
      {
        "duration": 733,
        "start_time": "2022-01-11T05:06:20.238Z"
      },
      {
        "duration": 22,
        "start_time": "2022-01-11T05:06:20.973Z"
      },
      {
        "duration": 13,
        "start_time": "2022-01-11T05:06:20.997Z"
      },
      {
        "duration": 3,
        "start_time": "2022-01-11T05:06:21.012Z"
      },
      {
        "duration": 43,
        "start_time": "2022-01-11T05:06:21.017Z"
      },
      {
        "duration": 12,
        "start_time": "2022-01-11T05:06:21.062Z"
      },
      {
        "duration": 9,
        "start_time": "2022-01-11T05:06:21.075Z"
      },
      {
        "duration": 3,
        "start_time": "2022-01-11T05:06:21.086Z"
      },
      {
        "duration": 10,
        "start_time": "2022-01-11T05:06:21.091Z"
      },
      {
        "duration": 22,
        "start_time": "2022-01-11T05:06:21.102Z"
      },
      {
        "duration": 21,
        "start_time": "2022-01-11T05:06:21.125Z"
      },
      {
        "duration": 15,
        "start_time": "2022-01-11T05:06:21.148Z"
      },
      {
        "duration": 8,
        "start_time": "2022-01-11T05:06:21.165Z"
      },
      {
        "duration": 17,
        "start_time": "2022-01-11T05:06:21.174Z"
      },
      {
        "duration": 5,
        "start_time": "2022-01-11T05:06:21.192Z"
      },
      {
        "duration": 15,
        "start_time": "2022-01-11T05:06:21.199Z"
      },
      {
        "duration": 4,
        "start_time": "2022-01-11T05:06:21.216Z"
      },
      {
        "duration": 19,
        "start_time": "2022-01-11T05:06:21.222Z"
      },
      {
        "duration": 4,
        "start_time": "2022-01-11T05:06:21.242Z"
      },
      {
        "duration": 10,
        "start_time": "2022-01-11T05:06:21.248Z"
      },
      {
        "duration": 16,
        "start_time": "2022-01-11T05:06:21.259Z"
      },
      {
        "duration": 20,
        "start_time": "2022-01-11T05:06:21.277Z"
      },
      {
        "duration": 11,
        "start_time": "2022-01-11T05:06:21.301Z"
      },
      {
        "duration": 11,
        "start_time": "2022-01-11T05:06:21.315Z"
      },
      {
        "duration": 22,
        "start_time": "2022-01-11T05:06:21.328Z"
      },
      {
        "duration": 2989,
        "start_time": "2022-01-11T05:06:21.352Z"
      },
      {
        "duration": 9,
        "start_time": "2022-01-11T05:06:24.343Z"
      },
      {
        "duration": 16,
        "start_time": "2022-01-11T05:06:24.354Z"
      },
      {
        "duration": 27,
        "start_time": "2022-01-11T05:06:24.371Z"
      },
      {
        "duration": 49,
        "start_time": "2022-01-11T05:06:24.400Z"
      },
      {
        "duration": 3,
        "start_time": "2022-01-11T05:06:24.451Z"
      },
      {
        "duration": 759,
        "start_time": "2022-01-11T05:06:24.456Z"
      },
      {
        "duration": 28,
        "start_time": "2022-01-11T05:06:25.217Z"
      },
      {
        "duration": 36,
        "start_time": "2022-01-11T05:06:25.247Z"
      },
      {
        "duration": 324,
        "start_time": "2022-01-11T05:06:25.285Z"
      },
      {
        "duration": 32,
        "start_time": "2022-01-11T05:06:25.611Z"
      },
      {
        "duration": 325,
        "start_time": "2022-01-11T05:06:25.645Z"
      },
      {
        "duration": 326,
        "start_time": "2022-01-11T05:06:25.973Z"
      },
      {
        "duration": 257,
        "start_time": "2022-01-11T05:06:26.301Z"
      },
      {
        "duration": 355,
        "start_time": "2022-01-11T05:06:26.560Z"
      },
      {
        "duration": 25,
        "start_time": "2022-01-11T05:06:26.916Z"
      },
      {
        "duration": 35,
        "start_time": "2022-01-11T05:06:26.943Z"
      },
      {
        "duration": 3,
        "start_time": "2022-01-11T05:06:26.980Z"
      },
      {
        "duration": 470,
        "start_time": "2022-01-11T05:06:26.985Z"
      },
      {
        "duration": 212,
        "start_time": "2022-01-11T05:06:27.457Z"
      },
      {
        "duration": 5,
        "start_time": "2022-01-11T05:06:27.671Z"
      },
      {
        "duration": 7,
        "start_time": "2022-01-11T05:06:27.678Z"
      },
      {
        "duration": 14,
        "start_time": "2022-01-11T05:06:27.687Z"
      },
      {
        "duration": 1597,
        "start_time": "2022-01-11T05:06:27.703Z"
      },
      {
        "duration": 65,
        "start_time": "2022-01-11T05:06:29.302Z"
      },
      {
        "duration": 1752,
        "start_time": "2022-01-11T05:06:29.369Z"
      },
      {
        "duration": 8,
        "start_time": "2022-01-11T05:06:31.122Z"
      },
      {
        "duration": 8,
        "start_time": "2022-01-11T05:06:31.141Z"
      },
      {
        "duration": 34,
        "start_time": "2022-01-11T05:06:31.151Z"
      },
      {
        "duration": 988,
        "start_time": "2022-01-11T05:06:31.187Z"
      },
      {
        "duration": 5,
        "start_time": "2022-01-11T05:06:32.177Z"
      },
      {
        "duration": 294,
        "start_time": "2022-01-11T05:06:32.184Z"
      },
      {
        "duration": 17,
        "start_time": "2022-01-11T05:06:32.480Z"
      },
      {
        "duration": 20,
        "start_time": "2022-01-11T05:06:32.499Z"
      },
      {
        "duration": 30,
        "start_time": "2022-01-11T05:06:32.520Z"
      },
      {
        "duration": 25,
        "start_time": "2022-01-11T05:06:32.552Z"
      },
      {
        "duration": 21,
        "start_time": "2022-01-11T05:06:32.580Z"
      },
      {
        "duration": 503,
        "start_time": "2022-01-11T05:06:32.603Z"
      },
      {
        "duration": 12,
        "start_time": "2022-01-11T05:06:33.108Z"
      },
      {
        "duration": 46,
        "start_time": "2022-01-11T05:06:33.122Z"
      },
      {
        "duration": 34,
        "start_time": "2022-01-11T05:06:33.170Z"
      },
      {
        "duration": 4744,
        "start_time": "2022-01-11T05:18:44.616Z"
      },
      {
        "duration": 629,
        "start_time": "2022-01-11T05:19:02.596Z"
      },
      {
        "duration": 22,
        "start_time": "2022-01-11T05:19:03.227Z"
      },
      {
        "duration": 19,
        "start_time": "2022-01-11T05:19:03.250Z"
      },
      {
        "duration": 22,
        "start_time": "2022-01-11T05:19:03.271Z"
      },
      {
        "duration": 31,
        "start_time": "2022-01-11T05:19:03.294Z"
      },
      {
        "duration": 28,
        "start_time": "2022-01-11T05:19:03.326Z"
      },
      {
        "duration": 23,
        "start_time": "2022-01-11T05:19:03.355Z"
      },
      {
        "duration": 7,
        "start_time": "2022-01-11T05:19:03.381Z"
      },
      {
        "duration": 29,
        "start_time": "2022-01-11T05:19:03.389Z"
      },
      {
        "duration": 25,
        "start_time": "2022-01-11T05:19:03.420Z"
      },
      {
        "duration": 26,
        "start_time": "2022-01-11T05:19:03.447Z"
      },
      {
        "duration": 32,
        "start_time": "2022-01-11T05:19:03.475Z"
      },
      {
        "duration": 12,
        "start_time": "2022-01-11T05:19:03.508Z"
      },
      {
        "duration": 28,
        "start_time": "2022-01-11T05:19:03.522Z"
      },
      {
        "duration": 25,
        "start_time": "2022-01-11T05:19:03.551Z"
      },
      {
        "duration": 14,
        "start_time": "2022-01-11T05:19:03.578Z"
      },
      {
        "duration": 26,
        "start_time": "2022-01-11T05:19:03.594Z"
      },
      {
        "duration": 23,
        "start_time": "2022-01-11T05:19:03.622Z"
      },
      {
        "duration": 25,
        "start_time": "2022-01-11T05:19:03.647Z"
      },
      {
        "duration": 24,
        "start_time": "2022-01-11T05:19:03.674Z"
      },
      {
        "duration": 23,
        "start_time": "2022-01-11T05:19:03.699Z"
      },
      {
        "duration": 34,
        "start_time": "2022-01-11T05:19:03.724Z"
      },
      {
        "duration": 27,
        "start_time": "2022-01-11T05:19:03.762Z"
      },
      {
        "duration": 18,
        "start_time": "2022-01-11T05:19:03.791Z"
      },
      {
        "duration": 32,
        "start_time": "2022-01-11T05:19:03.811Z"
      },
      {
        "duration": 2610,
        "start_time": "2022-01-11T05:19:03.845Z"
      },
      {
        "duration": 8,
        "start_time": "2022-01-11T05:19:06.457Z"
      },
      {
        "duration": 15,
        "start_time": "2022-01-11T05:19:06.467Z"
      },
      {
        "duration": 24,
        "start_time": "2022-01-11T05:19:06.484Z"
      },
      {
        "duration": 46,
        "start_time": "2022-01-11T05:19:06.510Z"
      },
      {
        "duration": 4,
        "start_time": "2022-01-11T05:19:06.558Z"
      },
      {
        "duration": 646,
        "start_time": "2022-01-11T05:19:06.563Z"
      },
      {
        "duration": 40,
        "start_time": "2022-01-11T05:19:07.211Z"
      },
      {
        "duration": 26,
        "start_time": "2022-01-11T05:19:07.252Z"
      },
      {
        "duration": 411,
        "start_time": "2022-01-11T05:19:07.279Z"
      },
      {
        "duration": 21,
        "start_time": "2022-01-11T05:19:07.691Z"
      },
      {
        "duration": 285,
        "start_time": "2022-01-11T05:19:07.714Z"
      },
      {
        "duration": 300,
        "start_time": "2022-01-11T05:19:08.001Z"
      },
      {
        "duration": 229,
        "start_time": "2022-01-11T05:19:08.303Z"
      },
      {
        "duration": 329,
        "start_time": "2022-01-11T05:19:08.534Z"
      },
      {
        "duration": 15,
        "start_time": "2022-01-11T05:19:08.865Z"
      },
      {
        "duration": 31,
        "start_time": "2022-01-11T05:19:08.882Z"
      },
      {
        "duration": 3,
        "start_time": "2022-01-11T05:19:08.915Z"
      },
      {
        "duration": 506,
        "start_time": "2022-01-11T05:19:08.919Z"
      },
      {
        "duration": 142,
        "start_time": "2022-01-11T05:19:09.427Z"
      },
      {
        "duration": 4,
        "start_time": "2022-01-11T05:19:09.570Z"
      },
      {
        "duration": 17,
        "start_time": "2022-01-11T05:19:09.576Z"
      },
      {
        "duration": 20,
        "start_time": "2022-01-11T05:19:09.594Z"
      },
      {
        "duration": 1520,
        "start_time": "2022-01-11T05:19:09.616Z"
      },
      {
        "duration": 46,
        "start_time": "2022-01-11T05:19:11.137Z"
      },
      {
        "duration": 1589,
        "start_time": "2022-01-11T05:19:11.184Z"
      },
      {
        "duration": 6,
        "start_time": "2022-01-11T05:19:12.775Z"
      },
      {
        "duration": 19,
        "start_time": "2022-01-11T05:19:12.783Z"
      },
      {
        "duration": 47,
        "start_time": "2022-01-11T05:19:12.804Z"
      },
      {
        "duration": 747,
        "start_time": "2022-01-11T05:19:12.852Z"
      },
      {
        "duration": 4,
        "start_time": "2022-01-11T05:19:13.601Z"
      },
      {
        "duration": 247,
        "start_time": "2022-01-11T05:19:13.606Z"
      },
      {
        "duration": 13,
        "start_time": "2022-01-11T05:19:13.854Z"
      },
      {
        "duration": 8,
        "start_time": "2022-01-11T05:19:13.869Z"
      },
      {
        "duration": 11,
        "start_time": "2022-01-11T05:19:13.878Z"
      },
      {
        "duration": 20,
        "start_time": "2022-01-11T05:19:13.891Z"
      },
      {
        "duration": 33,
        "start_time": "2022-01-11T05:19:13.913Z"
      },
      {
        "duration": 542,
        "start_time": "2022-01-11T05:19:13.948Z"
      },
      {
        "duration": 12,
        "start_time": "2022-01-11T05:19:14.492Z"
      },
      {
        "duration": 44,
        "start_time": "2022-01-11T05:19:14.506Z"
      },
      {
        "duration": 30,
        "start_time": "2022-01-11T05:19:14.552Z"
      },
      {
        "duration": 282,
        "start_time": "2022-01-11T05:20:48.823Z"
      },
      {
        "duration": 632,
        "start_time": "2022-01-11T05:21:08.189Z"
      },
      {
        "duration": 22,
        "start_time": "2022-01-11T05:21:08.823Z"
      },
      {
        "duration": 20,
        "start_time": "2022-01-11T05:21:08.847Z"
      },
      {
        "duration": 2,
        "start_time": "2022-01-11T05:21:08.869Z"
      },
      {
        "duration": 23,
        "start_time": "2022-01-11T05:21:08.872Z"
      },
      {
        "duration": 9,
        "start_time": "2022-01-11T05:21:08.896Z"
      },
      {
        "duration": 7,
        "start_time": "2022-01-11T05:21:08.907Z"
      },
      {
        "duration": 4,
        "start_time": "2022-01-11T05:21:08.916Z"
      },
      {
        "duration": 4,
        "start_time": "2022-01-11T05:21:08.940Z"
      },
      {
        "duration": 15,
        "start_time": "2022-01-11T05:21:08.945Z"
      },
      {
        "duration": 10,
        "start_time": "2022-01-11T05:21:08.961Z"
      },
      {
        "duration": 10,
        "start_time": "2022-01-11T05:21:08.972Z"
      },
      {
        "duration": 7,
        "start_time": "2022-01-11T05:21:08.983Z"
      },
      {
        "duration": 13,
        "start_time": "2022-01-11T05:21:08.991Z"
      },
      {
        "duration": 5,
        "start_time": "2022-01-11T05:21:09.006Z"
      },
      {
        "duration": 10,
        "start_time": "2022-01-11T05:21:09.012Z"
      },
      {
        "duration": 18,
        "start_time": "2022-01-11T05:21:09.023Z"
      },
      {
        "duration": 7,
        "start_time": "2022-01-11T05:21:09.042Z"
      },
      {
        "duration": 5,
        "start_time": "2022-01-11T05:21:09.051Z"
      },
      {
        "duration": 8,
        "start_time": "2022-01-11T05:21:09.057Z"
      },
      {
        "duration": 10,
        "start_time": "2022-01-11T05:21:09.067Z"
      },
      {
        "duration": 20,
        "start_time": "2022-01-11T05:21:09.079Z"
      },
      {
        "duration": 8,
        "start_time": "2022-01-11T05:21:09.102Z"
      },
      {
        "duration": 8,
        "start_time": "2022-01-11T05:21:09.112Z"
      },
      {
        "duration": 25,
        "start_time": "2022-01-11T05:21:09.121Z"
      },
      {
        "duration": 2646,
        "start_time": "2022-01-11T05:21:09.147Z"
      },
      {
        "duration": 7,
        "start_time": "2022-01-11T05:21:11.795Z"
      },
      {
        "duration": 16,
        "start_time": "2022-01-11T05:21:11.804Z"
      },
      {
        "duration": 38,
        "start_time": "2022-01-11T05:21:11.821Z"
      },
      {
        "duration": 20,
        "start_time": "2022-01-11T05:21:11.861Z"
      },
      {
        "duration": 5,
        "start_time": "2022-01-11T05:21:11.882Z"
      },
      {
        "duration": 469,
        "start_time": "2022-01-11T05:21:11.889Z"
      },
      {
        "duration": 19,
        "start_time": "2022-01-11T05:21:12.360Z"
      },
      {
        "duration": 27,
        "start_time": "2022-01-11T05:21:12.380Z"
      },
      {
        "duration": 411,
        "start_time": "2022-01-11T05:21:12.409Z"
      },
      {
        "duration": 27,
        "start_time": "2022-01-11T05:21:12.822Z"
      },
      {
        "duration": 287,
        "start_time": "2022-01-11T05:21:12.851Z"
      },
      {
        "duration": 294,
        "start_time": "2022-01-11T05:21:13.139Z"
      },
      {
        "duration": 226,
        "start_time": "2022-01-11T05:21:13.435Z"
      },
      {
        "duration": 334,
        "start_time": "2022-01-11T05:21:13.663Z"
      },
      {
        "duration": 14,
        "start_time": "2022-01-11T05:21:13.999Z"
      },
      {
        "duration": 45,
        "start_time": "2022-01-11T05:21:14.014Z"
      },
      {
        "duration": 2,
        "start_time": "2022-01-11T05:21:14.061Z"
      },
      {
        "duration": 497,
        "start_time": "2022-01-11T05:21:14.065Z"
      },
      {
        "duration": 147,
        "start_time": "2022-01-11T05:21:14.564Z"
      },
      {
        "duration": 5,
        "start_time": "2022-01-11T05:21:14.712Z"
      },
      {
        "duration": 7,
        "start_time": "2022-01-11T05:21:14.719Z"
      },
      {
        "duration": 9,
        "start_time": "2022-01-11T05:21:14.740Z"
      },
      {
        "duration": 1525,
        "start_time": "2022-01-11T05:21:14.750Z"
      },
      {
        "duration": 47,
        "start_time": "2022-01-11T05:21:16.277Z"
      },
      {
        "duration": 1635,
        "start_time": "2022-01-11T05:21:16.325Z"
      },
      {
        "duration": 7,
        "start_time": "2022-01-11T05:21:17.961Z"
      },
      {
        "duration": 22,
        "start_time": "2022-01-11T05:21:17.969Z"
      },
      {
        "duration": 24,
        "start_time": "2022-01-11T05:21:17.992Z"
      },
      {
        "duration": 747,
        "start_time": "2022-01-11T05:21:18.018Z"
      },
      {
        "duration": 4,
        "start_time": "2022-01-11T05:21:18.766Z"
      },
      {
        "duration": 241,
        "start_time": "2022-01-11T05:21:18.772Z"
      },
      {
        "duration": 13,
        "start_time": "2022-01-11T05:21:19.014Z"
      },
      {
        "duration": 19,
        "start_time": "2022-01-11T05:21:19.028Z"
      },
      {
        "duration": 20,
        "start_time": "2022-01-11T05:21:19.049Z"
      },
      {
        "duration": 20,
        "start_time": "2022-01-11T05:21:19.071Z"
      },
      {
        "duration": 6,
        "start_time": "2022-01-11T05:21:19.092Z"
      },
      {
        "duration": 554,
        "start_time": "2022-01-11T05:21:19.099Z"
      },
      {
        "duration": 11,
        "start_time": "2022-01-11T05:21:19.654Z"
      },
      {
        "duration": 31,
        "start_time": "2022-01-11T05:21:19.667Z"
      },
      {
        "duration": 47,
        "start_time": "2022-01-11T05:21:19.699Z"
      },
      {
        "duration": 323,
        "start_time": "2022-01-11T05:25:25.149Z"
      },
      {
        "duration": 294,
        "start_time": "2022-01-11T05:25:45.017Z"
      },
      {
        "duration": 244,
        "start_time": "2022-01-11T05:25:54.468Z"
      },
      {
        "duration": 327,
        "start_time": "2022-01-11T05:26:17.898Z"
      },
      {
        "duration": 303,
        "start_time": "2022-01-11T05:40:05.734Z"
      },
      {
        "duration": 203,
        "start_time": "2022-01-11T05:40:26.867Z"
      },
      {
        "duration": 230,
        "start_time": "2022-01-11T05:40:41.876Z"
      },
      {
        "duration": -50,
        "start_time": "2022-01-11T05:40:42.159Z"
      },
      {
        "duration": -61,
        "start_time": "2022-01-11T05:40:42.171Z"
      },
      {
        "duration": -71,
        "start_time": "2022-01-11T05:40:42.182Z"
      },
      {
        "duration": -112,
        "start_time": "2022-01-11T05:40:42.225Z"
      },
      {
        "duration": -122,
        "start_time": "2022-01-11T05:40:42.236Z"
      },
      {
        "duration": -130,
        "start_time": "2022-01-11T05:40:42.245Z"
      },
      {
        "duration": -140,
        "start_time": "2022-01-11T05:40:42.256Z"
      },
      {
        "duration": -146,
        "start_time": "2022-01-11T05:40:42.264Z"
      },
      {
        "duration": -154,
        "start_time": "2022-01-11T05:40:42.273Z"
      },
      {
        "duration": -163,
        "start_time": "2022-01-11T05:40:42.283Z"
      },
      {
        "duration": -173,
        "start_time": "2022-01-11T05:40:42.295Z"
      },
      {
        "duration": -182,
        "start_time": "2022-01-11T05:40:42.305Z"
      },
      {
        "duration": -191,
        "start_time": "2022-01-11T05:40:42.315Z"
      },
      {
        "duration": 700,
        "start_time": "2022-01-11T05:41:22.033Z"
      },
      {
        "duration": 22,
        "start_time": "2022-01-11T05:41:22.735Z"
      },
      {
        "duration": 39,
        "start_time": "2022-01-11T05:41:22.759Z"
      },
      {
        "duration": 19,
        "start_time": "2022-01-11T05:41:22.800Z"
      },
      {
        "duration": 51,
        "start_time": "2022-01-11T05:41:22.821Z"
      },
      {
        "duration": 32,
        "start_time": "2022-01-11T05:41:22.874Z"
      },
      {
        "duration": 20,
        "start_time": "2022-01-11T05:41:22.907Z"
      },
      {
        "duration": 31,
        "start_time": "2022-01-11T05:41:22.929Z"
      },
      {
        "duration": 13,
        "start_time": "2022-01-11T05:41:22.963Z"
      },
      {
        "duration": 40,
        "start_time": "2022-01-11T05:41:22.978Z"
      },
      {
        "duration": 37,
        "start_time": "2022-01-11T05:41:23.020Z"
      },
      {
        "duration": 30,
        "start_time": "2022-01-11T05:41:23.059Z"
      },
      {
        "duration": 5,
        "start_time": "2022-01-11T05:41:23.091Z"
      },
      {
        "duration": 13,
        "start_time": "2022-01-11T05:41:23.097Z"
      },
      {
        "duration": 6,
        "start_time": "2022-01-11T05:41:23.112Z"
      },
      {
        "duration": 11,
        "start_time": "2022-01-11T05:41:23.120Z"
      },
      {
        "duration": 4,
        "start_time": "2022-01-11T05:41:23.133Z"
      },
      {
        "duration": 12,
        "start_time": "2022-01-11T05:41:23.139Z"
      },
      {
        "duration": 5,
        "start_time": "2022-01-11T05:41:23.153Z"
      },
      {
        "duration": 8,
        "start_time": "2022-01-11T05:41:23.160Z"
      },
      {
        "duration": 11,
        "start_time": "2022-01-11T05:41:23.170Z"
      },
      {
        "duration": 22,
        "start_time": "2022-01-11T05:41:23.183Z"
      },
      {
        "duration": 10,
        "start_time": "2022-01-11T05:41:23.207Z"
      },
      {
        "duration": 25,
        "start_time": "2022-01-11T05:41:23.219Z"
      },
      {
        "duration": 16,
        "start_time": "2022-01-11T05:41:23.246Z"
      },
      {
        "duration": 2734,
        "start_time": "2022-01-11T05:41:23.264Z"
      },
      {
        "duration": 9,
        "start_time": "2022-01-11T05:41:26.002Z"
      },
      {
        "duration": 32,
        "start_time": "2022-01-11T05:41:26.013Z"
      },
      {
        "duration": 26,
        "start_time": "2022-01-11T05:41:26.046Z"
      },
      {
        "duration": 22,
        "start_time": "2022-01-11T05:41:26.074Z"
      },
      {
        "duration": 3,
        "start_time": "2022-01-11T05:41:26.098Z"
      },
      {
        "duration": 500,
        "start_time": "2022-01-11T05:41:26.102Z"
      },
      {
        "duration": 21,
        "start_time": "2022-01-11T05:41:26.604Z"
      },
      {
        "duration": 36,
        "start_time": "2022-01-11T05:41:26.626Z"
      },
      {
        "duration": 701,
        "start_time": "2022-01-11T05:41:26.663Z"
      },
      {
        "duration": 21,
        "start_time": "2022-01-11T05:41:27.365Z"
      },
      {
        "duration": 338,
        "start_time": "2022-01-11T05:41:27.388Z"
      },
      {
        "duration": 319,
        "start_time": "2022-01-11T05:41:27.728Z"
      },
      {
        "duration": 423,
        "start_time": "2022-01-11T05:41:28.049Z"
      },
      {
        "duration": 358,
        "start_time": "2022-01-11T05:41:28.474Z"
      },
      {
        "duration": 17,
        "start_time": "2022-01-11T05:41:28.834Z"
      },
      {
        "duration": 36,
        "start_time": "2022-01-11T05:41:28.853Z"
      },
      {
        "duration": 3,
        "start_time": "2022-01-11T05:41:28.891Z"
      },
      {
        "duration": 498,
        "start_time": "2022-01-11T05:41:28.895Z"
      },
      {
        "duration": 225,
        "start_time": "2022-01-11T05:41:29.395Z"
      },
      {
        "duration": 5,
        "start_time": "2022-01-11T05:41:29.622Z"
      },
      {
        "duration": 14,
        "start_time": "2022-01-11T05:41:29.628Z"
      },
      {
        "duration": 9,
        "start_time": "2022-01-11T05:41:29.643Z"
      },
      {
        "duration": 1717,
        "start_time": "2022-01-11T05:41:29.653Z"
      },
      {
        "duration": 107,
        "start_time": "2022-01-11T05:41:31.372Z"
      },
      {
        "duration": 2294,
        "start_time": "2022-01-11T05:41:31.481Z"
      },
      {
        "duration": 12,
        "start_time": "2022-01-11T05:41:33.777Z"
      },
      {
        "duration": 256,
        "start_time": "2022-01-11T05:41:33.790Z"
      },
      {
        "duration": -108,
        "start_time": "2022-01-11T05:41:34.156Z"
      },
      {
        "duration": -115,
        "start_time": "2022-01-11T05:41:34.165Z"
      },
      {
        "duration": -125,
        "start_time": "2022-01-11T05:41:34.176Z"
      },
      {
        "duration": -132,
        "start_time": "2022-01-11T05:41:34.184Z"
      },
      {
        "duration": -140,
        "start_time": "2022-01-11T05:41:34.193Z"
      },
      {
        "duration": -148,
        "start_time": "2022-01-11T05:41:34.202Z"
      },
      {
        "duration": -156,
        "start_time": "2022-01-11T05:41:34.211Z"
      },
      {
        "duration": -164,
        "start_time": "2022-01-11T05:41:34.220Z"
      },
      {
        "duration": -181,
        "start_time": "2022-01-11T05:41:34.238Z"
      },
      {
        "duration": -208,
        "start_time": "2022-01-11T05:41:34.266Z"
      },
      {
        "duration": -217,
        "start_time": "2022-01-11T05:41:34.276Z"
      },
      {
        "duration": -225,
        "start_time": "2022-01-11T05:41:34.285Z"
      },
      {
        "duration": -233,
        "start_time": "2022-01-11T05:41:34.294Z"
      },
      {
        "duration": 9,
        "start_time": "2022-01-11T05:41:57.479Z"
      },
      {
        "duration": 3,
        "start_time": "2022-01-11T05:46:38.865Z"
      },
      {
        "duration": 8,
        "start_time": "2022-01-11T05:47:47.002Z"
      },
      {
        "duration": 208,
        "start_time": "2022-01-11T05:47:47.726Z"
      },
      {
        "duration": 715,
        "start_time": "2022-01-11T05:47:58.525Z"
      },
      {
        "duration": 3,
        "start_time": "2022-01-11T05:48:20.210Z"
      },
      {
        "duration": 722,
        "start_time": "2022-01-11T05:51:02.253Z"
      },
      {
        "duration": 25,
        "start_time": "2022-01-11T05:51:02.978Z"
      },
      {
        "duration": 17,
        "start_time": "2022-01-11T05:51:03.006Z"
      },
      {
        "duration": 3,
        "start_time": "2022-01-11T05:51:03.025Z"
      },
      {
        "duration": 26,
        "start_time": "2022-01-11T05:51:03.041Z"
      },
      {
        "duration": 15,
        "start_time": "2022-01-11T05:51:03.069Z"
      },
      {
        "duration": 9,
        "start_time": "2022-01-11T05:51:03.086Z"
      },
      {
        "duration": 4,
        "start_time": "2022-01-11T05:51:03.098Z"
      },
      {
        "duration": 39,
        "start_time": "2022-01-11T05:51:03.105Z"
      },
      {
        "duration": 18,
        "start_time": "2022-01-11T05:51:03.146Z"
      },
      {
        "duration": 8,
        "start_time": "2022-01-11T05:51:03.166Z"
      },
      {
        "duration": 21,
        "start_time": "2022-01-11T05:51:03.175Z"
      },
      {
        "duration": 9,
        "start_time": "2022-01-11T05:51:03.197Z"
      },
      {
        "duration": 13,
        "start_time": "2022-01-11T05:51:03.207Z"
      },
      {
        "duration": 7,
        "start_time": "2022-01-11T05:51:03.222Z"
      },
      {
        "duration": 6,
        "start_time": "2022-01-11T05:51:03.241Z"
      },
      {
        "duration": 7,
        "start_time": "2022-01-11T05:51:03.248Z"
      },
      {
        "duration": 14,
        "start_time": "2022-01-11T05:51:03.257Z"
      },
      {
        "duration": 6,
        "start_time": "2022-01-11T05:51:03.273Z"
      },
      {
        "duration": 15,
        "start_time": "2022-01-11T05:51:03.281Z"
      },
      {
        "duration": 14,
        "start_time": "2022-01-11T05:51:03.297Z"
      },
      {
        "duration": 29,
        "start_time": "2022-01-11T05:51:03.313Z"
      },
      {
        "duration": 12,
        "start_time": "2022-01-11T05:51:03.346Z"
      },
      {
        "duration": 20,
        "start_time": "2022-01-11T05:51:03.361Z"
      },
      {
        "duration": 22,
        "start_time": "2022-01-11T05:51:03.383Z"
      },
      {
        "duration": 2948,
        "start_time": "2022-01-11T05:51:03.406Z"
      },
      {
        "duration": 9,
        "start_time": "2022-01-11T05:51:06.356Z"
      },
      {
        "duration": 22,
        "start_time": "2022-01-11T05:51:06.366Z"
      },
      {
        "duration": 28,
        "start_time": "2022-01-11T05:51:06.390Z"
      },
      {
        "duration": 39,
        "start_time": "2022-01-11T05:51:06.420Z"
      },
      {
        "duration": 3,
        "start_time": "2022-01-11T05:51:06.461Z"
      },
      {
        "duration": 506,
        "start_time": "2022-01-11T05:51:06.465Z"
      },
      {
        "duration": 23,
        "start_time": "2022-01-11T05:51:06.973Z"
      },
      {
        "duration": 44,
        "start_time": "2022-01-11T05:51:06.998Z"
      },
      {
        "duration": 455,
        "start_time": "2022-01-11T05:51:07.044Z"
      },
      {
        "duration": 21,
        "start_time": "2022-01-11T05:51:07.501Z"
      },
      {
        "duration": 307,
        "start_time": "2022-01-11T05:51:07.523Z"
      },
      {
        "duration": 240,
        "start_time": "2022-01-11T05:51:07.832Z"
      },
      {
        "duration": 240,
        "start_time": "2022-01-11T05:51:08.074Z"
      },
      {
        "duration": 350,
        "start_time": "2022-01-11T05:51:08.315Z"
      },
      {
        "duration": 14,
        "start_time": "2022-01-11T05:51:08.667Z"
      },
      {
        "duration": 38,
        "start_time": "2022-01-11T05:51:08.683Z"
      },
      {
        "duration": 18,
        "start_time": "2022-01-11T05:51:08.723Z"
      },
      {
        "duration": 453,
        "start_time": "2022-01-11T05:51:08.743Z"
      },
      {
        "duration": 208,
        "start_time": "2022-01-11T05:51:09.198Z"
      },
      {
        "duration": 5,
        "start_time": "2022-01-11T05:51:09.407Z"
      },
      {
        "duration": 8,
        "start_time": "2022-01-11T05:51:09.413Z"
      },
      {
        "duration": 21,
        "start_time": "2022-01-11T05:51:09.423Z"
      },
      {
        "duration": 1599,
        "start_time": "2022-01-11T05:51:09.446Z"
      },
      {
        "duration": 50,
        "start_time": "2022-01-11T05:51:11.046Z"
      },
      {
        "duration": 1667,
        "start_time": "2022-01-11T05:51:11.098Z"
      },
      {
        "duration": 2,
        "start_time": "2022-01-11T05:51:12.767Z"
      },
      {
        "duration": 10,
        "start_time": "2022-01-11T05:51:12.771Z"
      },
      {
        "duration": 2,
        "start_time": "2022-01-11T05:51:12.782Z"
      },
      {
        "duration": 23,
        "start_time": "2022-01-11T05:51:12.786Z"
      },
      {
        "duration": 833,
        "start_time": "2022-01-11T05:51:12.811Z"
      },
      {
        "duration": 4,
        "start_time": "2022-01-11T05:51:13.646Z"
      },
      {
        "duration": 257,
        "start_time": "2022-01-11T05:51:13.652Z"
      },
      {
        "duration": 14,
        "start_time": "2022-01-11T05:51:13.911Z"
      },
      {
        "duration": 20,
        "start_time": "2022-01-11T05:51:13.927Z"
      },
      {
        "duration": 16,
        "start_time": "2022-01-11T05:51:13.949Z"
      },
      {
        "duration": 24,
        "start_time": "2022-01-11T05:51:13.967Z"
      },
      {
        "duration": 7,
        "start_time": "2022-01-11T05:51:13.993Z"
      },
      {
        "duration": 978,
        "start_time": "2022-01-11T05:51:14.002Z"
      },
      {
        "duration": 11,
        "start_time": "2022-01-11T05:51:14.982Z"
      },
      {
        "duration": 50,
        "start_time": "2022-01-11T05:51:14.994Z"
      },
      {
        "duration": 36,
        "start_time": "2022-01-11T05:51:15.046Z"
      },
      {
        "duration": 7,
        "start_time": "2022-01-11T05:55:10.720Z"
      },
      {
        "duration": 29,
        "start_time": "2022-01-11T05:55:12.071Z"
      },
      {
        "duration": 10,
        "start_time": "2022-01-11T05:55:15.877Z"
      },
      {
        "duration": 27,
        "start_time": "2022-01-11T05:55:16.439Z"
      },
      {
        "duration": 28,
        "start_time": "2022-01-11T05:55:17.984Z"
      },
      {
        "duration": 470,
        "start_time": "2022-01-11T06:00:51.493Z"
      },
      {
        "duration": 796,
        "start_time": "2022-01-11T06:00:57.221Z"
      },
      {
        "duration": 32,
        "start_time": "2022-01-11T06:00:58.020Z"
      },
      {
        "duration": 12,
        "start_time": "2022-01-11T06:00:58.054Z"
      },
      {
        "duration": 2,
        "start_time": "2022-01-11T06:00:58.068Z"
      },
      {
        "duration": 22,
        "start_time": "2022-01-11T06:00:58.072Z"
      },
      {
        "duration": 11,
        "start_time": "2022-01-11T06:00:58.096Z"
      },
      {
        "duration": 33,
        "start_time": "2022-01-11T06:00:58.109Z"
      },
      {
        "duration": 3,
        "start_time": "2022-01-11T06:00:58.144Z"
      },
      {
        "duration": 10,
        "start_time": "2022-01-11T06:00:58.150Z"
      },
      {
        "duration": 17,
        "start_time": "2022-01-11T06:00:58.162Z"
      },
      {
        "duration": 7,
        "start_time": "2022-01-11T06:00:58.181Z"
      },
      {
        "duration": 10,
        "start_time": "2022-01-11T06:00:58.190Z"
      },
      {
        "duration": 39,
        "start_time": "2022-01-11T06:00:58.202Z"
      },
      {
        "duration": 12,
        "start_time": "2022-01-11T06:00:58.243Z"
      },
      {
        "duration": 7,
        "start_time": "2022-01-11T06:00:58.257Z"
      },
      {
        "duration": 15,
        "start_time": "2022-01-11T06:00:58.266Z"
      },
      {
        "duration": 9,
        "start_time": "2022-01-11T06:00:58.283Z"
      },
      {
        "duration": 14,
        "start_time": "2022-01-11T06:00:58.294Z"
      },
      {
        "duration": 7,
        "start_time": "2022-01-11T06:00:58.309Z"
      },
      {
        "duration": 11,
        "start_time": "2022-01-11T06:00:58.317Z"
      },
      {
        "duration": 21,
        "start_time": "2022-01-11T06:00:58.330Z"
      },
      {
        "duration": 27,
        "start_time": "2022-01-11T06:00:58.352Z"
      },
      {
        "duration": 10,
        "start_time": "2022-01-11T06:00:58.383Z"
      },
      {
        "duration": 10,
        "start_time": "2022-01-11T06:00:58.395Z"
      },
      {
        "duration": 18,
        "start_time": "2022-01-11T06:00:58.407Z"
      },
      {
        "duration": 3296,
        "start_time": "2022-01-11T06:00:58.426Z"
      },
      {
        "duration": 21,
        "start_time": "2022-01-11T06:01:01.724Z"
      },
      {
        "duration": 13,
        "start_time": "2022-01-11T06:01:01.747Z"
      },
      {
        "duration": 26,
        "start_time": "2022-01-11T06:01:01.762Z"
      },
      {
        "duration": 24,
        "start_time": "2022-01-11T06:01:01.790Z"
      },
      {
        "duration": 28,
        "start_time": "2022-01-11T06:01:01.815Z"
      },
      {
        "duration": 514,
        "start_time": "2022-01-11T06:01:01.845Z"
      },
      {
        "duration": 22,
        "start_time": "2022-01-11T06:01:02.361Z"
      },
      {
        "duration": 49,
        "start_time": "2022-01-11T06:01:02.384Z"
      },
      {
        "duration": 533,
        "start_time": "2022-01-11T06:01:02.435Z"
      },
      {
        "duration": 21,
        "start_time": "2022-01-11T06:01:02.970Z"
      },
      {
        "duration": 309,
        "start_time": "2022-01-11T06:01:02.993Z"
      },
      {
        "duration": 280,
        "start_time": "2022-01-11T06:01:03.304Z"
      },
      {
        "duration": 259,
        "start_time": "2022-01-11T06:01:03.586Z"
      },
      {
        "duration": 388,
        "start_time": "2022-01-11T06:01:03.846Z"
      },
      {
        "duration": 17,
        "start_time": "2022-01-11T06:01:04.235Z"
      },
      {
        "duration": 44,
        "start_time": "2022-01-11T06:01:04.254Z"
      },
      {
        "duration": 4,
        "start_time": "2022-01-11T06:01:04.299Z"
      },
      {
        "duration": 471,
        "start_time": "2022-01-11T06:01:04.304Z"
      },
      {
        "duration": 234,
        "start_time": "2022-01-11T06:01:04.777Z"
      },
      {
        "duration": 5,
        "start_time": "2022-01-11T06:01:05.013Z"
      },
      {
        "duration": 17,
        "start_time": "2022-01-11T06:01:05.019Z"
      },
      {
        "duration": 29,
        "start_time": "2022-01-11T06:01:05.041Z"
      },
      {
        "duration": 1615,
        "start_time": "2022-01-11T06:01:05.072Z"
      },
      {
        "duration": 55,
        "start_time": "2022-01-11T06:01:06.689Z"
      },
      {
        "duration": 1649,
        "start_time": "2022-01-11T06:01:06.746Z"
      },
      {
        "duration": 3,
        "start_time": "2022-01-11T06:01:08.397Z"
      },
      {
        "duration": 38,
        "start_time": "2022-01-11T06:01:08.402Z"
      },
      {
        "duration": 25,
        "start_time": "2022-01-11T06:01:08.442Z"
      },
      {
        "duration": 37,
        "start_time": "2022-01-11T06:01:08.469Z"
      },
      {
        "duration": 743,
        "start_time": "2022-01-11T06:01:08.508Z"
      },
      {
        "duration": 3,
        "start_time": "2022-01-11T06:01:09.253Z"
      },
      {
        "duration": 245,
        "start_time": "2022-01-11T06:01:09.258Z"
      },
      {
        "duration": 14,
        "start_time": "2022-01-11T06:01:09.504Z"
      },
      {
        "duration": 23,
        "start_time": "2022-01-11T06:01:09.519Z"
      },
      {
        "duration": 38,
        "start_time": "2022-01-11T06:01:09.544Z"
      },
      {
        "duration": 30,
        "start_time": "2022-01-11T06:01:09.584Z"
      },
      {
        "duration": 21,
        "start_time": "2022-01-11T06:01:09.616Z"
      },
      {
        "duration": 460,
        "start_time": "2022-01-11T06:01:09.639Z"
      },
      {
        "duration": 10,
        "start_time": "2022-01-11T06:01:10.101Z"
      },
      {
        "duration": 43,
        "start_time": "2022-01-11T06:01:10.113Z"
      },
      {
        "duration": 28,
        "start_time": "2022-01-11T06:01:10.158Z"
      },
      {
        "duration": 903,
        "start_time": "2022-01-12T04:24:09.029Z"
      },
      {
        "duration": 38,
        "start_time": "2022-01-12T04:24:09.935Z"
      },
      {
        "duration": 42,
        "start_time": "2022-01-12T04:24:09.977Z"
      },
      {
        "duration": 4,
        "start_time": "2022-01-12T04:24:10.021Z"
      },
      {
        "duration": 35,
        "start_time": "2022-01-12T04:24:10.027Z"
      },
      {
        "duration": 17,
        "start_time": "2022-01-12T04:24:10.064Z"
      },
      {
        "duration": 38,
        "start_time": "2022-01-12T04:24:10.083Z"
      },
      {
        "duration": 4,
        "start_time": "2022-01-12T04:24:10.124Z"
      },
      {
        "duration": 7,
        "start_time": "2022-01-12T04:24:10.131Z"
      },
      {
        "duration": 17,
        "start_time": "2022-01-12T04:24:10.140Z"
      },
      {
        "duration": 12,
        "start_time": "2022-01-12T04:24:10.159Z"
      },
      {
        "duration": 55,
        "start_time": "2022-01-12T04:24:10.173Z"
      },
      {
        "duration": 5,
        "start_time": "2022-01-12T04:24:10.230Z"
      },
      {
        "duration": 13,
        "start_time": "2022-01-12T04:24:10.237Z"
      },
      {
        "duration": 7,
        "start_time": "2022-01-12T04:24:10.252Z"
      },
      {
        "duration": 9,
        "start_time": "2022-01-12T04:24:10.261Z"
      },
      {
        "duration": 5,
        "start_time": "2022-01-12T04:24:10.273Z"
      },
      {
        "duration": 45,
        "start_time": "2022-01-12T04:24:10.280Z"
      },
      {
        "duration": 5,
        "start_time": "2022-01-12T04:24:10.327Z"
      },
      {
        "duration": 7,
        "start_time": "2022-01-12T04:24:10.334Z"
      },
      {
        "duration": 10,
        "start_time": "2022-01-12T04:24:10.343Z"
      },
      {
        "duration": 71,
        "start_time": "2022-01-12T04:24:10.356Z"
      },
      {
        "duration": 13,
        "start_time": "2022-01-12T04:24:10.434Z"
      },
      {
        "duration": 9,
        "start_time": "2022-01-12T04:24:10.451Z"
      },
      {
        "duration": 19,
        "start_time": "2022-01-12T04:24:10.463Z"
      },
      {
        "duration": 3740,
        "start_time": "2022-01-12T04:24:10.485Z"
      },
      {
        "duration": 12,
        "start_time": "2022-01-12T04:24:14.228Z"
      },
      {
        "duration": 19,
        "start_time": "2022-01-12T04:24:14.242Z"
      },
      {
        "duration": 71,
        "start_time": "2022-01-12T04:24:14.264Z"
      },
      {
        "duration": 38,
        "start_time": "2022-01-12T04:24:14.338Z"
      },
      {
        "duration": 5,
        "start_time": "2022-01-12T04:24:14.378Z"
      },
      {
        "duration": 807,
        "start_time": "2022-01-12T04:24:14.385Z"
      },
      {
        "duration": 39,
        "start_time": "2022-01-12T04:24:15.195Z"
      },
      {
        "duration": 37,
        "start_time": "2022-01-12T04:24:15.237Z"
      },
      {
        "duration": 705,
        "start_time": "2022-01-12T04:24:15.277Z"
      },
      {
        "duration": 47,
        "start_time": "2022-01-12T04:24:15.984Z"
      },
      {
        "duration": 523,
        "start_time": "2022-01-12T04:24:16.033Z"
      },
      {
        "duration": 432,
        "start_time": "2022-01-12T04:24:16.558Z"
      },
      {
        "duration": 430,
        "start_time": "2022-01-12T04:24:16.992Z"
      },
      {
        "duration": 565,
        "start_time": "2022-01-12T04:24:17.425Z"
      },
      {
        "duration": 28,
        "start_time": "2022-01-12T04:24:17.993Z"
      },
      {
        "duration": 50,
        "start_time": "2022-01-12T04:24:18.023Z"
      },
      {
        "duration": 3,
        "start_time": "2022-01-12T04:24:18.075Z"
      },
      {
        "duration": 777,
        "start_time": "2022-01-12T04:24:18.081Z"
      },
      {
        "duration": 304,
        "start_time": "2022-01-12T04:24:18.861Z"
      },
      {
        "duration": 7,
        "start_time": "2022-01-12T04:24:19.167Z"
      },
      {
        "duration": 6,
        "start_time": "2022-01-12T04:24:19.177Z"
      },
      {
        "duration": 39,
        "start_time": "2022-01-12T04:24:19.186Z"
      },
      {
        "duration": 3202,
        "start_time": "2022-01-12T04:24:19.227Z"
      },
      {
        "duration": 86,
        "start_time": "2022-01-12T04:24:22.431Z"
      },
      {
        "duration": 2789,
        "start_time": "2022-01-12T04:24:22.519Z"
      },
      {
        "duration": 3,
        "start_time": "2022-01-12T04:24:25.310Z"
      },
      {
        "duration": 14,
        "start_time": "2022-01-12T04:24:25.318Z"
      },
      {
        "duration": 4,
        "start_time": "2022-01-12T04:24:25.335Z"
      },
      {
        "duration": 75,
        "start_time": "2022-01-12T04:24:25.342Z"
      },
      {
        "duration": 1359,
        "start_time": "2022-01-12T04:24:25.420Z"
      },
      {
        "duration": 7,
        "start_time": "2022-01-12T04:24:26.782Z"
      },
      {
        "duration": 436,
        "start_time": "2022-01-12T04:24:26.791Z"
      },
      {
        "duration": 18,
        "start_time": "2022-01-12T04:24:27.229Z"
      },
      {
        "duration": 11,
        "start_time": "2022-01-12T04:24:27.250Z"
      },
      {
        "duration": 20,
        "start_time": "2022-01-12T04:24:27.263Z"
      },
      {
        "duration": 32,
        "start_time": "2022-01-12T04:24:27.318Z"
      },
      {
        "duration": 8,
        "start_time": "2022-01-12T04:24:27.352Z"
      },
      {
        "duration": 558,
        "start_time": "2022-01-12T04:24:27.363Z"
      },
      {
        "duration": 15,
        "start_time": "2022-01-12T04:24:27.924Z"
      },
      {
        "duration": 44,
        "start_time": "2022-01-12T04:24:27.941Z"
      },
      {
        "duration": 75,
        "start_time": "2022-01-12T04:24:27.987Z"
      },
      {
        "duration": 401,
        "start_time": "2022-01-12T04:37:18.650Z"
      },
      {
        "duration": 341,
        "start_time": "2022-01-12T04:38:39.368Z"
      },
      {
        "duration": 909,
        "start_time": "2022-01-12T04:38:49.019Z"
      },
      {
        "duration": 37,
        "start_time": "2022-01-12T04:38:49.930Z"
      },
      {
        "duration": 16,
        "start_time": "2022-01-12T04:38:49.970Z"
      },
      {
        "duration": 4,
        "start_time": "2022-01-12T04:38:50.017Z"
      },
      {
        "duration": 38,
        "start_time": "2022-01-12T04:38:50.023Z"
      },
      {
        "duration": 15,
        "start_time": "2022-01-12T04:38:50.063Z"
      },
      {
        "duration": 40,
        "start_time": "2022-01-12T04:38:50.080Z"
      },
      {
        "duration": 4,
        "start_time": "2022-01-12T04:38:50.124Z"
      },
      {
        "duration": 7,
        "start_time": "2022-01-12T04:38:50.131Z"
      },
      {
        "duration": 19,
        "start_time": "2022-01-12T04:38:50.140Z"
      },
      {
        "duration": 11,
        "start_time": "2022-01-12T04:38:50.161Z"
      },
      {
        "duration": 48,
        "start_time": "2022-01-12T04:38:50.174Z"
      },
      {
        "duration": 6,
        "start_time": "2022-01-12T04:38:50.224Z"
      },
      {
        "duration": 12,
        "start_time": "2022-01-12T04:38:50.232Z"
      },
      {
        "duration": 6,
        "start_time": "2022-01-12T04:38:50.246Z"
      },
      {
        "duration": 8,
        "start_time": "2022-01-12T04:38:50.254Z"
      },
      {
        "duration": 10,
        "start_time": "2022-01-12T04:38:50.265Z"
      },
      {
        "duration": 42,
        "start_time": "2022-01-12T04:38:50.278Z"
      },
      {
        "duration": 11,
        "start_time": "2022-01-12T04:38:50.322Z"
      },
      {
        "duration": 5,
        "start_time": "2022-01-12T04:38:50.336Z"
      },
      {
        "duration": 7,
        "start_time": "2022-01-12T04:38:50.343Z"
      },
      {
        "duration": 12,
        "start_time": "2022-01-12T04:38:50.352Z"
      },
      {
        "duration": 64,
        "start_time": "2022-01-12T04:38:50.370Z"
      },
      {
        "duration": 14,
        "start_time": "2022-01-12T04:38:50.437Z"
      },
      {
        "duration": 8,
        "start_time": "2022-01-12T04:38:50.453Z"
      },
      {
        "duration": 18,
        "start_time": "2022-01-12T04:38:50.464Z"
      },
      {
        "duration": 3705,
        "start_time": "2022-01-12T04:38:50.484Z"
      },
      {
        "duration": 26,
        "start_time": "2022-01-12T04:38:54.192Z"
      },
      {
        "duration": 17,
        "start_time": "2022-01-12T04:38:54.221Z"
      },
      {
        "duration": 35,
        "start_time": "2022-01-12T04:38:54.241Z"
      },
      {
        "duration": 64,
        "start_time": "2022-01-12T04:38:54.279Z"
      },
      {
        "duration": 5,
        "start_time": "2022-01-12T04:38:54.345Z"
      },
      {
        "duration": 1176,
        "start_time": "2022-01-12T04:38:54.352Z"
      },
      {
        "duration": 33,
        "start_time": "2022-01-12T04:38:55.530Z"
      },
      {
        "duration": 58,
        "start_time": "2022-01-12T04:38:55.566Z"
      },
      {
        "duration": 701,
        "start_time": "2022-01-12T04:38:55.626Z"
      },
      {
        "duration": 33,
        "start_time": "2022-01-12T04:38:56.329Z"
      },
      {
        "duration": 528,
        "start_time": "2022-01-12T04:38:56.364Z"
      },
      {
        "duration": 439,
        "start_time": "2022-01-12T04:38:56.895Z"
      },
      {
        "duration": 421,
        "start_time": "2022-01-12T04:38:57.336Z"
      },
      {
        "duration": 787,
        "start_time": "2022-01-12T04:38:57.759Z"
      },
      {
        "duration": 73,
        "start_time": "2022-01-12T04:38:58.549Z"
      },
      {
        "duration": 107,
        "start_time": "2022-01-12T04:38:58.625Z"
      },
      {
        "duration": 3,
        "start_time": "2022-01-12T04:38:58.734Z"
      },
      {
        "duration": 827,
        "start_time": "2022-01-12T04:38:58.739Z"
      },
      {
        "duration": 309,
        "start_time": "2022-01-12T04:38:59.568Z"
      },
      {
        "duration": 6,
        "start_time": "2022-01-12T04:38:59.880Z"
      },
      {
        "duration": 30,
        "start_time": "2022-01-12T04:38:59.888Z"
      },
      {
        "duration": 11,
        "start_time": "2022-01-12T04:38:59.921Z"
      },
      {
        "duration": 2746,
        "start_time": "2022-01-12T04:38:59.934Z"
      },
      {
        "duration": 83,
        "start_time": "2022-01-12T04:39:02.682Z"
      },
      {
        "duration": 2807,
        "start_time": "2022-01-12T04:39:02.767Z"
      },
      {
        "duration": 3,
        "start_time": "2022-01-12T04:39:05.576Z"
      },
      {
        "duration": 17,
        "start_time": "2022-01-12T04:39:05.582Z"
      },
      {
        "duration": 3,
        "start_time": "2022-01-12T04:39:05.617Z"
      },
      {
        "duration": 40,
        "start_time": "2022-01-12T04:39:05.623Z"
      },
      {
        "duration": 1411,
        "start_time": "2022-01-12T04:39:05.666Z"
      },
      {
        "duration": 8,
        "start_time": "2022-01-12T04:39:07.080Z"
      },
      {
        "duration": 431,
        "start_time": "2022-01-12T04:39:07.091Z"
      },
      {
        "duration": 18,
        "start_time": "2022-01-12T04:39:07.525Z"
      },
      {
        "duration": 11,
        "start_time": "2022-01-12T04:39:07.545Z"
      },
      {
        "duration": 17,
        "start_time": "2022-01-12T04:39:07.558Z"
      },
      {
        "duration": 64,
        "start_time": "2022-01-12T04:39:07.578Z"
      },
      {
        "duration": 7,
        "start_time": "2022-01-12T04:39:07.644Z"
      },
      {
        "duration": 703,
        "start_time": "2022-01-12T04:39:07.653Z"
      },
      {
        "duration": 14,
        "start_time": "2022-01-12T04:39:08.359Z"
      },
      {
        "duration": 62,
        "start_time": "2022-01-12T04:39:08.376Z"
      },
      {
        "duration": 50,
        "start_time": "2022-01-12T04:39:08.445Z"
      },
      {
        "duration": 12,
        "start_time": "2022-01-12T04:41:08.300Z"
      },
      {
        "duration": 443,
        "start_time": "2022-01-12T04:41:31.274Z"
      },
      {
        "duration": 259,
        "start_time": "2022-01-12T04:41:31.463Z"
      },
      {
        "duration": 243,
        "start_time": "2022-01-12T04:41:31.480Z"
      },
      {
        "duration": 227,
        "start_time": "2022-01-12T04:41:31.497Z"
      },
      {
        "duration": 213,
        "start_time": "2022-01-12T04:41:31.512Z"
      },
      {
        "duration": 137,
        "start_time": "2022-01-12T04:41:31.589Z"
      },
      {
        "duration": 126,
        "start_time": "2022-01-12T04:41:31.602Z"
      },
      {
        "duration": 112,
        "start_time": "2022-01-12T04:41:31.617Z"
      },
      {
        "duration": 101,
        "start_time": "2022-01-12T04:41:31.629Z"
      },
      {
        "duration": 88,
        "start_time": "2022-01-12T04:41:31.643Z"
      },
      {
        "duration": 77,
        "start_time": "2022-01-12T04:41:31.655Z"
      },
      {
        "duration": 64,
        "start_time": "2022-01-12T04:41:31.669Z"
      },
      {
        "duration": 56,
        "start_time": "2022-01-12T04:41:31.679Z"
      },
      {
        "duration": 11,
        "start_time": "2022-01-12T04:41:31.725Z"
      },
      {
        "duration": -1,
        "start_time": "2022-01-12T04:41:31.738Z"
      },
      {
        "duration": -16,
        "start_time": "2022-01-12T04:41:31.754Z"
      },
      {
        "duration": -30,
        "start_time": "2022-01-12T04:41:31.770Z"
      },
      {
        "duration": -42,
        "start_time": "2022-01-12T04:41:31.783Z"
      },
      {
        "duration": -52,
        "start_time": "2022-01-12T04:41:31.794Z"
      },
      {
        "duration": -67,
        "start_time": "2022-01-12T04:41:31.810Z"
      },
      {
        "duration": -103,
        "start_time": "2022-01-12T04:41:31.847Z"
      },
      {
        "duration": -118,
        "start_time": "2022-01-12T04:41:31.863Z"
      },
      {
        "duration": -131,
        "start_time": "2022-01-12T04:41:31.878Z"
      },
      {
        "duration": -144,
        "start_time": "2022-01-12T04:41:31.892Z"
      },
      {
        "duration": -155,
        "start_time": "2022-01-12T04:41:31.904Z"
      },
      {
        "duration": -167,
        "start_time": "2022-01-12T04:41:31.917Z"
      },
      {
        "duration": -176,
        "start_time": "2022-01-12T04:41:31.928Z"
      },
      {
        "duration": -188,
        "start_time": "2022-01-12T04:41:31.941Z"
      },
      {
        "duration": -220,
        "start_time": "2022-01-12T04:41:31.974Z"
      },
      {
        "duration": -232,
        "start_time": "2022-01-12T04:41:31.987Z"
      },
      {
        "duration": -242,
        "start_time": "2022-01-12T04:41:31.999Z"
      },
      {
        "duration": -254,
        "start_time": "2022-01-12T04:41:32.012Z"
      },
      {
        "duration": -199,
        "start_time": "2022-01-12T04:41:32.022Z"
      },
      {
        "duration": -209,
        "start_time": "2022-01-12T04:41:32.033Z"
      },
      {
        "duration": -219,
        "start_time": "2022-01-12T04:41:32.045Z"
      },
      {
        "duration": -239,
        "start_time": "2022-01-12T04:41:32.066Z"
      },
      {
        "duration": -264,
        "start_time": "2022-01-12T04:41:32.092Z"
      },
      {
        "duration": -275,
        "start_time": "2022-01-12T04:41:32.104Z"
      },
      {
        "duration": -285,
        "start_time": "2022-01-12T04:41:32.115Z"
      },
      {
        "duration": -296,
        "start_time": "2022-01-12T04:41:32.128Z"
      },
      {
        "duration": -305,
        "start_time": "2022-01-12T04:41:32.138Z"
      },
      {
        "duration": -316,
        "start_time": "2022-01-12T04:41:32.150Z"
      },
      {
        "duration": -324,
        "start_time": "2022-01-12T04:41:32.160Z"
      },
      {
        "duration": -336,
        "start_time": "2022-01-12T04:41:32.173Z"
      },
      {
        "duration": -346,
        "start_time": "2022-01-12T04:41:32.184Z"
      },
      {
        "duration": -377,
        "start_time": "2022-01-12T04:41:32.216Z"
      },
      {
        "duration": -387,
        "start_time": "2022-01-12T04:41:32.227Z"
      },
      {
        "duration": -399,
        "start_time": "2022-01-12T04:41:32.240Z"
      },
      {
        "duration": -436,
        "start_time": "2022-01-12T04:41:32.279Z"
      },
      {
        "duration": -463,
        "start_time": "2022-01-12T04:41:32.307Z"
      },
      {
        "duration": -517,
        "start_time": "2022-01-12T04:41:32.362Z"
      },
      {
        "duration": 266,
        "start_time": "2022-01-12T04:41:31.848Z"
      },
      {
        "duration": 932,
        "start_time": "2022-01-12T04:41:44.990Z"
      },
      {
        "duration": 38,
        "start_time": "2022-01-12T04:41:45.924Z"
      },
      {
        "duration": 17,
        "start_time": "2022-01-12T04:41:45.965Z"
      },
      {
        "duration": 4,
        "start_time": "2022-01-12T04:41:45.984Z"
      },
      {
        "duration": 32,
        "start_time": "2022-01-12T04:41:46.018Z"
      },
      {
        "duration": 12,
        "start_time": "2022-01-12T04:41:46.052Z"
      },
      {
        "duration": 12,
        "start_time": "2022-01-12T04:41:46.066Z"
      },
      {
        "duration": 39,
        "start_time": "2022-01-12T04:41:46.082Z"
      },
      {
        "duration": 6,
        "start_time": "2022-01-12T04:41:46.124Z"
      },
      {
        "duration": 18,
        "start_time": "2022-01-12T04:41:46.133Z"
      },
      {
        "duration": 12,
        "start_time": "2022-01-12T04:41:46.153Z"
      },
      {
        "duration": 51,
        "start_time": "2022-01-12T04:41:46.167Z"
      },
      {
        "duration": 2,
        "start_time": "2022-01-12T04:41:46.221Z"
      },
      {
        "duration": 15,
        "start_time": "2022-01-12T04:41:46.226Z"
      },
      {
        "duration": 6,
        "start_time": "2022-01-12T04:41:46.243Z"
      },
      {
        "duration": 9,
        "start_time": "2022-01-12T04:41:46.252Z"
      },
      {
        "duration": 12,
        "start_time": "2022-01-12T04:41:46.263Z"
      },
      {
        "duration": 66,
        "start_time": "2022-01-12T04:41:46.277Z"
      },
      {
        "duration": 6,
        "start_time": "2022-01-12T04:41:46.345Z"
      },
      {
        "duration": 13,
        "start_time": "2022-01-12T04:41:46.353Z"
      },
      {
        "duration": 6,
        "start_time": "2022-01-12T04:41:46.369Z"
      },
      {
        "duration": 41,
        "start_time": "2022-01-12T04:41:46.377Z"
      },
      {
        "duration": 10,
        "start_time": "2022-01-12T04:41:46.424Z"
      },
      {
        "duration": 28,
        "start_time": "2022-01-12T04:41:46.438Z"
      },
      {
        "duration": 14,
        "start_time": "2022-01-12T04:41:46.468Z"
      },
      {
        "duration": 38,
        "start_time": "2022-01-12T04:41:46.484Z"
      },
      {
        "duration": 19,
        "start_time": "2022-01-12T04:41:46.524Z"
      },
      {
        "duration": 3684,
        "start_time": "2022-01-12T04:41:46.546Z"
      },
      {
        "duration": 11,
        "start_time": "2022-01-12T04:41:50.233Z"
      },
      {
        "duration": 23,
        "start_time": "2022-01-12T04:41:50.246Z"
      },
      {
        "duration": 53,
        "start_time": "2022-01-12T04:41:50.272Z"
      },
      {
        "duration": 38,
        "start_time": "2022-01-12T04:41:50.327Z"
      },
      {
        "duration": 4,
        "start_time": "2022-01-12T04:41:50.368Z"
      },
      {
        "duration": 883,
        "start_time": "2022-01-12T04:41:50.375Z"
      },
      {
        "duration": 90,
        "start_time": "2022-01-12T04:41:51.260Z"
      },
      {
        "duration": 96,
        "start_time": "2022-01-12T04:41:51.352Z"
      },
      {
        "duration": 1019,
        "start_time": "2022-01-12T04:41:51.451Z"
      },
      {
        "duration": 47,
        "start_time": "2022-01-12T04:41:52.472Z"
      },
      {
        "duration": 588,
        "start_time": "2022-01-12T04:41:52.521Z"
      },
      {
        "duration": 443,
        "start_time": "2022-01-12T04:41:53.116Z"
      },
      {
        "duration": 444,
        "start_time": "2022-01-12T04:41:53.561Z"
      },
      {
        "duration": 562,
        "start_time": "2022-01-12T04:41:54.007Z"
      },
      {
        "duration": 21,
        "start_time": "2022-01-12T04:41:54.571Z"
      },
      {
        "duration": 67,
        "start_time": "2022-01-12T04:41:54.595Z"
      },
      {
        "duration": 3,
        "start_time": "2022-01-12T04:41:54.664Z"
      },
      {
        "duration": 875,
        "start_time": "2022-01-12T04:41:54.670Z"
      },
      {
        "duration": 315,
        "start_time": "2022-01-12T04:41:55.548Z"
      },
      {
        "duration": 6,
        "start_time": "2022-01-12T04:41:55.866Z"
      },
      {
        "duration": 15,
        "start_time": "2022-01-12T04:41:55.874Z"
      },
      {
        "duration": 34,
        "start_time": "2022-01-12T04:41:55.891Z"
      },
      {
        "duration": 2868,
        "start_time": "2022-01-12T04:41:55.927Z"
      },
      {
        "duration": 76,
        "start_time": "2022-01-12T04:41:58.798Z"
      },
      {
        "duration": 3174,
        "start_time": "2022-01-12T04:41:58.876Z"
      },
      {
        "duration": 4,
        "start_time": "2022-01-12T04:42:02.052Z"
      },
      {
        "duration": 25,
        "start_time": "2022-01-12T04:42:02.058Z"
      },
      {
        "duration": 41,
        "start_time": "2022-01-12T04:42:02.085Z"
      },
      {
        "duration": 48,
        "start_time": "2022-01-12T04:42:02.128Z"
      },
      {
        "duration": 1392,
        "start_time": "2022-01-12T04:42:02.178Z"
      },
      {
        "duration": 6,
        "start_time": "2022-01-12T04:42:03.573Z"
      },
      {
        "duration": 439,
        "start_time": "2022-01-12T04:42:03.582Z"
      },
      {
        "duration": 21,
        "start_time": "2022-01-12T04:42:04.024Z"
      },
      {
        "duration": 13,
        "start_time": "2022-01-12T04:42:04.048Z"
      },
      {
        "duration": 61,
        "start_time": "2022-01-12T04:42:04.064Z"
      },
      {
        "duration": 34,
        "start_time": "2022-01-12T04:42:04.129Z"
      },
      {
        "duration": 9,
        "start_time": "2022-01-12T04:42:04.166Z"
      },
      {
        "duration": 697,
        "start_time": "2022-01-12T04:42:04.177Z"
      },
      {
        "duration": 15,
        "start_time": "2022-01-12T04:42:04.876Z"
      },
      {
        "duration": 58,
        "start_time": "2022-01-12T04:42:04.899Z"
      },
      {
        "duration": 67,
        "start_time": "2022-01-12T04:42:04.960Z"
      },
      {
        "duration": 611,
        "start_time": "2022-01-12T04:43:20.654Z"
      },
      {
        "duration": 918,
        "start_time": "2022-01-12T04:43:28.008Z"
      },
      {
        "duration": 36,
        "start_time": "2022-01-12T04:43:28.929Z"
      },
      {
        "duration": 17,
        "start_time": "2022-01-12T04:43:28.968Z"
      },
      {
        "duration": 30,
        "start_time": "2022-01-12T04:43:28.988Z"
      },
      {
        "duration": 33,
        "start_time": "2022-01-12T04:43:29.020Z"
      },
      {
        "duration": 13,
        "start_time": "2022-01-12T04:43:29.055Z"
      },
      {
        "duration": 12,
        "start_time": "2022-01-12T04:43:29.070Z"
      },
      {
        "duration": 5,
        "start_time": "2022-01-12T04:43:29.118Z"
      },
      {
        "duration": 6,
        "start_time": "2022-01-12T04:43:29.126Z"
      },
      {
        "duration": 17,
        "start_time": "2022-01-12T04:43:29.134Z"
      },
      {
        "duration": 12,
        "start_time": "2022-01-12T04:43:29.153Z"
      },
      {
        "duration": 57,
        "start_time": "2022-01-12T04:43:29.167Z"
      },
      {
        "duration": 14,
        "start_time": "2022-01-12T04:43:29.226Z"
      },
      {
        "duration": 6,
        "start_time": "2022-01-12T04:43:29.242Z"
      },
      {
        "duration": 10,
        "start_time": "2022-01-12T04:43:29.250Z"
      },
      {
        "duration": 12,
        "start_time": "2022-01-12T04:43:29.263Z"
      },
      {
        "duration": 63,
        "start_time": "2022-01-12T04:43:29.277Z"
      },
      {
        "duration": 7,
        "start_time": "2022-01-12T04:43:29.342Z"
      },
      {
        "duration": 11,
        "start_time": "2022-01-12T04:43:29.352Z"
      },
      {
        "duration": 18,
        "start_time": "2022-01-12T04:43:29.365Z"
      },
      {
        "duration": 36,
        "start_time": "2022-01-12T04:43:29.385Z"
      },
      {
        "duration": 12,
        "start_time": "2022-01-12T04:43:29.423Z"
      },
      {
        "duration": 32,
        "start_time": "2022-01-12T04:43:29.441Z"
      },
      {
        "duration": 47,
        "start_time": "2022-01-12T04:43:29.478Z"
      },
      {
        "duration": 10,
        "start_time": "2022-01-12T04:43:29.527Z"
      },
      {
        "duration": 20,
        "start_time": "2022-01-12T04:43:29.539Z"
      },
      {
        "duration": 3671,
        "start_time": "2022-01-12T04:43:29.562Z"
      },
      {
        "duration": 12,
        "start_time": "2022-01-12T04:43:33.236Z"
      },
      {
        "duration": 71,
        "start_time": "2022-01-12T04:43:33.250Z"
      },
      {
        "duration": 36,
        "start_time": "2022-01-12T04:43:33.323Z"
      },
      {
        "duration": 36,
        "start_time": "2022-01-12T04:43:33.417Z"
      },
      {
        "duration": 5,
        "start_time": "2022-01-12T04:43:33.455Z"
      },
      {
        "duration": 1095,
        "start_time": "2022-01-12T04:43:33.462Z"
      },
      {
        "duration": 36,
        "start_time": "2022-01-12T04:43:34.559Z"
      },
      {
        "duration": 37,
        "start_time": "2022-01-12T04:43:34.617Z"
      },
      {
        "duration": 708,
        "start_time": "2022-01-12T04:43:34.657Z"
      },
      {
        "duration": 50,
        "start_time": "2022-01-12T04:43:35.367Z"
      },
      {
        "duration": 534,
        "start_time": "2022-01-12T04:43:35.419Z"
      },
      {
        "duration": 596,
        "start_time": "2022-01-12T04:43:35.956Z"
      },
      {
        "duration": 647,
        "start_time": "2022-01-12T04:43:36.554Z"
      },
      {
        "duration": 586,
        "start_time": "2022-01-12T04:43:37.203Z"
      },
      {
        "duration": 40,
        "start_time": "2022-01-12T04:43:37.791Z"
      },
      {
        "duration": 55,
        "start_time": "2022-01-12T04:43:37.834Z"
      },
      {
        "duration": 4,
        "start_time": "2022-01-12T04:43:37.891Z"
      },
      {
        "duration": 881,
        "start_time": "2022-01-12T04:43:37.917Z"
      },
      {
        "duration": 309,
        "start_time": "2022-01-12T04:43:38.801Z"
      },
      {
        "duration": 6,
        "start_time": "2022-01-12T04:43:39.117Z"
      },
      {
        "duration": 5,
        "start_time": "2022-01-12T04:43:39.126Z"
      },
      {
        "duration": 11,
        "start_time": "2022-01-12T04:43:39.134Z"
      },
      {
        "duration": 2770,
        "start_time": "2022-01-12T04:43:39.147Z"
      },
      {
        "duration": 72,
        "start_time": "2022-01-12T04:43:41.920Z"
      },
      {
        "duration": 2860,
        "start_time": "2022-01-12T04:43:41.995Z"
      },
      {
        "duration": 3,
        "start_time": "2022-01-12T04:43:44.857Z"
      },
      {
        "duration": 13,
        "start_time": "2022-01-12T04:43:44.863Z"
      },
      {
        "duration": 3,
        "start_time": "2022-01-12T04:43:44.878Z"
      },
      {
        "duration": 64,
        "start_time": "2022-01-12T04:43:44.883Z"
      },
      {
        "duration": 1409,
        "start_time": "2022-01-12T04:43:44.949Z"
      },
      {
        "duration": 6,
        "start_time": "2022-01-12T04:43:46.360Z"
      },
      {
        "duration": 430,
        "start_time": "2022-01-12T04:43:46.369Z"
      },
      {
        "duration": 24,
        "start_time": "2022-01-12T04:43:46.802Z"
      },
      {
        "duration": 12,
        "start_time": "2022-01-12T04:43:46.829Z"
      },
      {
        "duration": 17,
        "start_time": "2022-01-12T04:43:46.844Z"
      },
      {
        "duration": 65,
        "start_time": "2022-01-12T04:43:46.864Z"
      },
      {
        "duration": 8,
        "start_time": "2022-01-12T04:43:46.931Z"
      },
      {
        "duration": 692,
        "start_time": "2022-01-12T04:43:46.941Z"
      },
      {
        "duration": 14,
        "start_time": "2022-01-12T04:43:47.636Z"
      },
      {
        "duration": 65,
        "start_time": "2022-01-12T04:43:47.653Z"
      },
      {
        "duration": 50,
        "start_time": "2022-01-12T04:43:47.726Z"
      },
      {
        "duration": 388,
        "start_time": "2022-01-12T05:48:00.075Z"
      },
      {
        "duration": 351,
        "start_time": "2022-01-12T05:48:40.809Z"
      },
      {
        "duration": 862,
        "start_time": "2022-01-12T05:48:52.258Z"
      },
      {
        "duration": 37,
        "start_time": "2022-01-12T05:48:53.122Z"
      },
      {
        "duration": 17,
        "start_time": "2022-01-12T05:48:53.162Z"
      },
      {
        "duration": 3,
        "start_time": "2022-01-12T05:48:53.182Z"
      },
      {
        "duration": 61,
        "start_time": "2022-01-12T05:48:53.187Z"
      },
      {
        "duration": 14,
        "start_time": "2022-01-12T05:48:53.250Z"
      },
      {
        "duration": 11,
        "start_time": "2022-01-12T05:48:53.266Z"
      },
      {
        "duration": 38,
        "start_time": "2022-01-12T05:48:53.280Z"
      },
      {
        "duration": 8,
        "start_time": "2022-01-12T05:48:53.321Z"
      },
      {
        "duration": 19,
        "start_time": "2022-01-12T05:48:53.331Z"
      },
      {
        "duration": 11,
        "start_time": "2022-01-12T05:48:53.353Z"
      },
      {
        "duration": 16,
        "start_time": "2022-01-12T05:48:53.366Z"
      },
      {
        "duration": 12,
        "start_time": "2022-01-12T05:48:53.417Z"
      },
      {
        "duration": 6,
        "start_time": "2022-01-12T05:48:53.431Z"
      },
      {
        "duration": 8,
        "start_time": "2022-01-12T05:48:53.439Z"
      },
      {
        "duration": 14,
        "start_time": "2022-01-12T05:48:53.450Z"
      },
      {
        "duration": 61,
        "start_time": "2022-01-12T05:48:53.466Z"
      },
      {
        "duration": 6,
        "start_time": "2022-01-12T05:48:53.529Z"
      },
      {
        "duration": 12,
        "start_time": "2022-01-12T05:48:53.537Z"
      },
      {
        "duration": 6,
        "start_time": "2022-01-12T05:48:53.551Z"
      },
      {
        "duration": 6,
        "start_time": "2022-01-12T05:48:53.560Z"
      },
      {
        "duration": 55,
        "start_time": "2022-01-12T05:48:53.569Z"
      },
      {
        "duration": 30,
        "start_time": "2022-01-12T05:48:53.630Z"
      },
      {
        "duration": 14,
        "start_time": "2022-01-12T05:48:53.665Z"
      },
      {
        "duration": 39,
        "start_time": "2022-01-12T05:48:53.681Z"
      },
      {
        "duration": 19,
        "start_time": "2022-01-12T05:48:53.722Z"
      },
      {
        "duration": 3807,
        "start_time": "2022-01-12T05:48:53.744Z"
      },
      {
        "duration": 11,
        "start_time": "2022-01-12T05:48:57.554Z"
      },
      {
        "duration": 21,
        "start_time": "2022-01-12T05:48:57.568Z"
      },
      {
        "duration": 60,
        "start_time": "2022-01-12T05:48:57.591Z"
      },
      {
        "duration": 39,
        "start_time": "2022-01-12T05:48:57.654Z"
      },
      {
        "duration": 22,
        "start_time": "2022-01-12T05:48:57.696Z"
      },
      {
        "duration": 934,
        "start_time": "2022-01-12T05:48:57.720Z"
      },
      {
        "duration": 82,
        "start_time": "2022-01-12T05:48:58.657Z"
      },
      {
        "duration": 104,
        "start_time": "2022-01-12T05:48:58.742Z"
      },
      {
        "duration": 1411,
        "start_time": "2022-01-12T05:48:58.849Z"
      },
      {
        "duration": 36,
        "start_time": "2022-01-12T05:49:00.263Z"
      },
      {
        "duration": 646,
        "start_time": "2022-01-12T05:49:00.318Z"
      },
      {
        "duration": 467,
        "start_time": "2022-01-12T05:49:00.967Z"
      },
      {
        "duration": 764,
        "start_time": "2022-01-12T05:49:01.436Z"
      },
      {
        "duration": 582,
        "start_time": "2022-01-12T05:49:02.202Z"
      },
      {
        "duration": 36,
        "start_time": "2022-01-12T05:49:02.787Z"
      },
      {
        "duration": 55,
        "start_time": "2022-01-12T05:49:02.826Z"
      },
      {
        "duration": 4,
        "start_time": "2022-01-12T05:49:02.884Z"
      },
      {
        "duration": 801,
        "start_time": "2022-01-12T05:49:02.918Z"
      },
      {
        "duration": 329,
        "start_time": "2022-01-12T05:49:03.721Z"
      },
      {
        "duration": 7,
        "start_time": "2022-01-12T05:49:04.052Z"
      },
      {
        "duration": 10,
        "start_time": "2022-01-12T05:49:04.061Z"
      },
      {
        "duration": 15,
        "start_time": "2022-01-12T05:49:04.073Z"
      },
      {
        "duration": 2748,
        "start_time": "2022-01-12T05:49:04.118Z"
      },
      {
        "duration": 87,
        "start_time": "2022-01-12T05:49:06.869Z"
      },
      {
        "duration": 3253,
        "start_time": "2022-01-12T05:49:06.959Z"
      },
      {
        "duration": 4,
        "start_time": "2022-01-12T05:49:10.214Z"
      },
      {
        "duration": 12,
        "start_time": "2022-01-12T05:49:10.220Z"
      },
      {
        "duration": 433,
        "start_time": "2022-01-12T05:49:10.234Z"
      },
      {
        "duration": -44,
        "start_time": "2022-01-12T05:49:10.714Z"
      },
      {
        "duration": -124,
        "start_time": "2022-01-12T05:49:10.795Z"
      },
      {
        "duration": -172,
        "start_time": "2022-01-12T05:49:10.844Z"
      },
      {
        "duration": -184,
        "start_time": "2022-01-12T05:49:10.858Z"
      },
      {
        "duration": -192,
        "start_time": "2022-01-12T05:49:10.868Z"
      },
      {
        "duration": -204,
        "start_time": "2022-01-12T05:49:10.881Z"
      },
      {
        "duration": -215,
        "start_time": "2022-01-12T05:49:10.893Z"
      },
      {
        "duration": -280,
        "start_time": "2022-01-12T05:49:10.960Z"
      },
      {
        "duration": -290,
        "start_time": "2022-01-12T05:49:10.971Z"
      },
      {
        "duration": -304,
        "start_time": "2022-01-12T05:49:10.987Z"
      },
      {
        "duration": -316,
        "start_time": "2022-01-12T05:49:11.000Z"
      },
      {
        "duration": -396,
        "start_time": "2022-01-12T05:49:11.082Z"
      },
      {
        "duration": -475,
        "start_time": "2022-01-12T05:49:11.162Z"
      },
      {
        "duration": 300,
        "start_time": "2022-01-12T05:49:28.191Z"
      },
      {
        "duration": 268,
        "start_time": "2022-01-12T05:50:34.905Z"
      },
      {
        "duration": 325,
        "start_time": "2022-01-12T05:50:43.428Z"
      },
      {
        "duration": 276,
        "start_time": "2022-01-12T05:50:49.210Z"
      },
      {
        "duration": 378,
        "start_time": "2022-01-12T05:52:59.231Z"
      },
      {
        "duration": 292,
        "start_time": "2022-01-12T05:54:38.090Z"
      },
      {
        "duration": 899,
        "start_time": "2022-01-12T05:54:56.554Z"
      },
      {
        "duration": 39,
        "start_time": "2022-01-12T05:54:57.455Z"
      },
      {
        "duration": 36,
        "start_time": "2022-01-12T05:54:57.498Z"
      },
      {
        "duration": 4,
        "start_time": "2022-01-12T05:54:57.538Z"
      },
      {
        "duration": 33,
        "start_time": "2022-01-12T05:54:57.545Z"
      },
      {
        "duration": 15,
        "start_time": "2022-01-12T05:54:57.618Z"
      },
      {
        "duration": 12,
        "start_time": "2022-01-12T05:54:57.635Z"
      },
      {
        "duration": 6,
        "start_time": "2022-01-12T05:54:57.651Z"
      },
      {
        "duration": 9,
        "start_time": "2022-01-12T05:54:57.660Z"
      },
      {
        "duration": 18,
        "start_time": "2022-01-12T05:54:57.716Z"
      },
      {
        "duration": 17,
        "start_time": "2022-01-12T05:54:57.737Z"
      },
      {
        "duration": 16,
        "start_time": "2022-01-12T05:54:57.757Z"
      },
      {
        "duration": 56,
        "start_time": "2022-01-12T05:54:57.775Z"
      },
      {
        "duration": 28,
        "start_time": "2022-01-12T05:54:57.834Z"
      },
      {
        "duration": 18,
        "start_time": "2022-01-12T05:54:57.865Z"
      },
      {
        "duration": 43,
        "start_time": "2022-01-12T05:54:57.885Z"
      },
      {
        "duration": 29,
        "start_time": "2022-01-12T05:54:57.931Z"
      },
      {
        "duration": 6,
        "start_time": "2022-01-12T05:54:57.963Z"
      },
      {
        "duration": 18,
        "start_time": "2022-01-12T05:54:57.971Z"
      },
      {
        "duration": 27,
        "start_time": "2022-01-12T05:54:57.992Z"
      },
      {
        "duration": 7,
        "start_time": "2022-01-12T05:54:58.022Z"
      },
      {
        "duration": 22,
        "start_time": "2022-01-12T05:54:58.031Z"
      },
      {
        "duration": 75,
        "start_time": "2022-01-12T05:54:58.062Z"
      },
      {
        "duration": 21,
        "start_time": "2022-01-12T05:54:58.143Z"
      },
      {
        "duration": 13,
        "start_time": "2022-01-12T05:54:58.167Z"
      },
      {
        "duration": 61,
        "start_time": "2022-01-12T05:54:58.183Z"
      },
      {
        "duration": 4030,
        "start_time": "2022-01-12T05:54:58.247Z"
      },
      {
        "duration": 11,
        "start_time": "2022-01-12T05:55:02.279Z"
      },
      {
        "duration": 37,
        "start_time": "2022-01-12T05:55:02.292Z"
      },
      {
        "duration": 62,
        "start_time": "2022-01-12T05:55:02.331Z"
      },
      {
        "duration": 72,
        "start_time": "2022-01-12T05:55:02.396Z"
      },
      {
        "duration": 6,
        "start_time": "2022-01-12T05:55:02.471Z"
      },
      {
        "duration": 2057,
        "start_time": "2022-01-12T05:55:02.479Z"
      },
      {
        "duration": 105,
        "start_time": "2022-01-12T05:55:04.539Z"
      },
      {
        "duration": 104,
        "start_time": "2022-01-12T05:55:04.647Z"
      },
      {
        "duration": 1483,
        "start_time": "2022-01-12T05:55:04.754Z"
      },
      {
        "duration": 48,
        "start_time": "2022-01-12T05:55:06.241Z"
      },
      {
        "duration": 845,
        "start_time": "2022-01-12T05:55:06.292Z"
      },
      {
        "duration": 662,
        "start_time": "2022-01-12T05:55:07.140Z"
      },
      {
        "duration": 575,
        "start_time": "2022-01-12T05:55:07.805Z"
      },
      {
        "duration": 1342,
        "start_time": "2022-01-12T05:55:08.383Z"
      },
      {
        "duration": 22,
        "start_time": "2022-01-12T05:55:09.727Z"
      },
      {
        "duration": 87,
        "start_time": "2022-01-12T05:55:09.751Z"
      },
      {
        "duration": 3,
        "start_time": "2022-01-12T05:55:09.841Z"
      },
      {
        "duration": 785,
        "start_time": "2022-01-12T05:55:09.847Z"
      },
      {
        "duration": 313,
        "start_time": "2022-01-12T05:55:10.634Z"
      },
      {
        "duration": 7,
        "start_time": "2022-01-12T05:55:10.950Z"
      },
      {
        "duration": 13,
        "start_time": "2022-01-12T05:55:10.959Z"
      },
      {
        "duration": 12,
        "start_time": "2022-01-12T05:55:10.974Z"
      },
      {
        "duration": 2729,
        "start_time": "2022-01-12T05:55:10.989Z"
      },
      {
        "duration": 67,
        "start_time": "2022-01-12T05:55:13.721Z"
      },
      {
        "duration": 2786,
        "start_time": "2022-01-12T05:55:13.790Z"
      },
      {
        "duration": 4,
        "start_time": "2022-01-12T05:55:16.578Z"
      },
      {
        "duration": 33,
        "start_time": "2022-01-12T05:55:16.585Z"
      },
      {
        "duration": 407,
        "start_time": "2022-01-12T05:55:16.620Z"
      },
      {
        "duration": 292,
        "start_time": "2022-01-12T05:55:16.738Z"
      },
      {
        "duration": 278,
        "start_time": "2022-01-12T05:55:16.753Z"
      },
      {
        "duration": 265,
        "start_time": "2022-01-12T05:55:16.768Z"
      },
      {
        "duration": 249,
        "start_time": "2022-01-12T05:55:16.785Z"
      },
      {
        "duration": 236,
        "start_time": "2022-01-12T05:55:16.799Z"
      },
      {
        "duration": 224,
        "start_time": "2022-01-12T05:55:16.813Z"
      },
      {
        "duration": 166,
        "start_time": "2022-01-12T05:55:16.873Z"
      },
      {
        "duration": 151,
        "start_time": "2022-01-12T05:55:16.889Z"
      },
      {
        "duration": 139,
        "start_time": "2022-01-12T05:55:16.902Z"
      },
      {
        "duration": 126,
        "start_time": "2022-01-12T05:55:16.917Z"
      },
      {
        "duration": 114,
        "start_time": "2022-01-12T05:55:16.930Z"
      },
      {
        "duration": 102,
        "start_time": "2022-01-12T05:55:16.944Z"
      },
      {
        "duration": 89,
        "start_time": "2022-01-12T05:55:16.958Z"
      },
      {
        "duration": 290,
        "start_time": "2022-01-12T05:55:43.343Z"
      },
      {
        "duration": 393,
        "start_time": "2022-01-12T06:57:25.071Z"
      },
      {
        "duration": 331,
        "start_time": "2022-01-12T06:57:30.173Z"
      },
      {
        "duration": 275,
        "start_time": "2022-01-12T07:01:10.081Z"
      },
      {
        "duration": 17,
        "start_time": "2022-01-12T07:01:18.673Z"
      },
      {
        "duration": 11,
        "start_time": "2022-01-12T07:01:43.537Z"
      },
      {
        "duration": 912,
        "start_time": "2022-01-12T07:01:48.919Z"
      },
      {
        "duration": 39,
        "start_time": "2022-01-12T07:01:49.834Z"
      },
      {
        "duration": 16,
        "start_time": "2022-01-12T07:01:49.876Z"
      },
      {
        "duration": 4,
        "start_time": "2022-01-12T07:01:49.918Z"
      },
      {
        "duration": 33,
        "start_time": "2022-01-12T07:01:49.924Z"
      },
      {
        "duration": 13,
        "start_time": "2022-01-12T07:01:49.960Z"
      },
      {
        "duration": 46,
        "start_time": "2022-01-12T07:01:49.975Z"
      },
      {
        "duration": 5,
        "start_time": "2022-01-12T07:01:50.025Z"
      },
      {
        "duration": 6,
        "start_time": "2022-01-12T07:01:50.033Z"
      },
      {
        "duration": 31,
        "start_time": "2022-01-12T07:01:50.042Z"
      },
      {
        "duration": 13,
        "start_time": "2022-01-12T07:01:50.075Z"
      },
      {
        "duration": 15,
        "start_time": "2022-01-12T07:01:50.118Z"
      },
      {
        "duration": 15,
        "start_time": "2022-01-12T07:01:50.136Z"
      },
      {
        "duration": 5,
        "start_time": "2022-01-12T07:01:50.153Z"
      },
      {
        "duration": 11,
        "start_time": "2022-01-12T07:01:50.160Z"
      },
      {
        "duration": 44,
        "start_time": "2022-01-12T07:01:50.173Z"
      },
      {
        "duration": 27,
        "start_time": "2022-01-12T07:01:50.220Z"
      },
      {
        "duration": 8,
        "start_time": "2022-01-12T07:01:50.249Z"
      },
      {
        "duration": 19,
        "start_time": "2022-01-12T07:01:50.260Z"
      },
      {
        "duration": 7,
        "start_time": "2022-01-12T07:01:50.282Z"
      },
      {
        "duration": 29,
        "start_time": "2022-01-12T07:01:50.291Z"
      },
      {
        "duration": 10,
        "start_time": "2022-01-12T07:01:50.322Z"
      },
      {
        "duration": 29,
        "start_time": "2022-01-12T07:01:50.339Z"
      },
      {
        "duration": 47,
        "start_time": "2022-01-12T07:01:50.372Z"
      },
      {
        "duration": 9,
        "start_time": "2022-01-12T07:01:50.421Z"
      },
      {
        "duration": 18,
        "start_time": "2022-01-12T07:01:50.433Z"
      },
      {
        "duration": 4041,
        "start_time": "2022-01-12T07:01:50.454Z"
      },
      {
        "duration": 24,
        "start_time": "2022-01-12T07:01:54.498Z"
      },
      {
        "duration": 20,
        "start_time": "2022-01-12T07:01:54.525Z"
      },
      {
        "duration": 36,
        "start_time": "2022-01-12T07:01:54.548Z"
      },
      {
        "duration": 62,
        "start_time": "2022-01-12T07:01:54.586Z"
      },
      {
        "duration": 4,
        "start_time": "2022-01-12T07:01:54.651Z"
      },
      {
        "duration": 841,
        "start_time": "2022-01-12T07:01:54.657Z"
      },
      {
        "duration": 40,
        "start_time": "2022-01-12T07:01:55.501Z"
      },
      {
        "duration": 38,
        "start_time": "2022-01-12T07:01:55.544Z"
      },
      {
        "duration": 735,
        "start_time": "2022-01-12T07:01:55.585Z"
      },
      {
        "duration": 34,
        "start_time": "2022-01-12T07:01:56.322Z"
      },
      {
        "duration": 612,
        "start_time": "2022-01-12T07:01:56.359Z"
      },
      {
        "duration": 499,
        "start_time": "2022-01-12T07:01:56.973Z"
      },
      {
        "duration": 887,
        "start_time": "2022-01-12T07:01:57.474Z"
      },
      {
        "duration": 668,
        "start_time": "2022-01-12T07:01:58.363Z"
      },
      {
        "duration": 22,
        "start_time": "2022-01-12T07:01:59.033Z"
      },
      {
        "duration": 73,
        "start_time": "2022-01-12T07:01:59.057Z"
      },
      {
        "duration": 3,
        "start_time": "2022-01-12T07:01:59.132Z"
      },
      {
        "duration": 891,
        "start_time": "2022-01-12T07:01:59.137Z"
      },
      {
        "duration": 327,
        "start_time": "2022-01-12T07:02:00.030Z"
      },
      {
        "duration": 7,
        "start_time": "2022-01-12T07:02:00.361Z"
      },
      {
        "duration": 11,
        "start_time": "2022-01-12T07:02:00.370Z"
      },
      {
        "duration": 34,
        "start_time": "2022-01-12T07:02:00.384Z"
      },
      {
        "duration": 2840,
        "start_time": "2022-01-12T07:02:00.421Z"
      },
      {
        "duration": 90,
        "start_time": "2022-01-12T07:02:03.264Z"
      },
      {
        "duration": 2995,
        "start_time": "2022-01-12T07:02:03.357Z"
      },
      {
        "duration": 3,
        "start_time": "2022-01-12T07:02:06.354Z"
      },
      {
        "duration": 16,
        "start_time": "2022-01-12T07:02:06.360Z"
      },
      {
        "duration": 10,
        "start_time": "2022-01-12T07:02:06.379Z"
      },
      {
        "duration": 36,
        "start_time": "2022-01-12T07:02:06.418Z"
      },
      {
        "duration": 1428,
        "start_time": "2022-01-12T07:02:06.457Z"
      },
      {
        "duration": 7,
        "start_time": "2022-01-12T07:02:07.888Z"
      },
      {
        "duration": 430,
        "start_time": "2022-01-12T07:02:07.897Z"
      },
      {
        "duration": 17,
        "start_time": "2022-01-12T07:02:08.329Z"
      },
      {
        "duration": 11,
        "start_time": "2022-01-12T07:02:08.349Z"
      },
      {
        "duration": 18,
        "start_time": "2022-01-12T07:02:08.362Z"
      },
      {
        "duration": 31,
        "start_time": "2022-01-12T07:02:08.417Z"
      },
      {
        "duration": 8,
        "start_time": "2022-01-12T07:02:08.451Z"
      },
      {
        "duration": 704,
        "start_time": "2022-01-12T07:02:08.461Z"
      },
      {
        "duration": 17,
        "start_time": "2022-01-12T07:02:09.168Z"
      },
      {
        "duration": 57,
        "start_time": "2022-01-12T07:02:09.187Z"
      },
      {
        "duration": 68,
        "start_time": "2022-01-12T07:02:09.252Z"
      },
      {
        "duration": 736,
        "start_time": "2022-01-12T16:11:02.802Z"
      },
      {
        "duration": 28,
        "start_time": "2022-01-12T16:11:03.541Z"
      },
      {
        "duration": 18,
        "start_time": "2022-01-12T16:11:03.571Z"
      },
      {
        "duration": 3,
        "start_time": "2022-01-12T16:11:03.591Z"
      },
      {
        "duration": 29,
        "start_time": "2022-01-12T16:11:03.595Z"
      },
      {
        "duration": 18,
        "start_time": "2022-01-12T16:11:03.626Z"
      },
      {
        "duration": 21,
        "start_time": "2022-01-12T16:11:03.645Z"
      },
      {
        "duration": 4,
        "start_time": "2022-01-12T16:11:03.668Z"
      },
      {
        "duration": 6,
        "start_time": "2022-01-12T16:11:03.674Z"
      },
      {
        "duration": 15,
        "start_time": "2022-01-12T16:11:03.682Z"
      },
      {
        "duration": 9,
        "start_time": "2022-01-12T16:11:03.699Z"
      },
      {
        "duration": 13,
        "start_time": "2022-01-12T16:11:03.710Z"
      },
      {
        "duration": 41,
        "start_time": "2022-01-12T16:11:03.725Z"
      },
      {
        "duration": 12,
        "start_time": "2022-01-12T16:11:03.768Z"
      },
      {
        "duration": 27,
        "start_time": "2022-01-12T16:11:03.782Z"
      },
      {
        "duration": 13,
        "start_time": "2022-01-12T16:11:03.810Z"
      },
      {
        "duration": 18,
        "start_time": "2022-01-12T16:11:03.825Z"
      },
      {
        "duration": 10,
        "start_time": "2022-01-12T16:11:03.845Z"
      },
      {
        "duration": 13,
        "start_time": "2022-01-12T16:11:03.857Z"
      },
      {
        "duration": 5,
        "start_time": "2022-01-12T16:11:03.872Z"
      },
      {
        "duration": 8,
        "start_time": "2022-01-12T16:11:03.878Z"
      },
      {
        "duration": 12,
        "start_time": "2022-01-12T16:11:03.888Z"
      },
      {
        "duration": 23,
        "start_time": "2022-01-12T16:11:03.901Z"
      },
      {
        "duration": 17,
        "start_time": "2022-01-12T16:11:03.925Z"
      },
      {
        "duration": 20,
        "start_time": "2022-01-12T16:11:03.944Z"
      },
      {
        "duration": 15,
        "start_time": "2022-01-12T16:11:03.967Z"
      },
      {
        "duration": 2914,
        "start_time": "2022-01-12T16:11:03.986Z"
      },
      {
        "duration": 9,
        "start_time": "2022-01-12T16:11:06.903Z"
      },
      {
        "duration": 24,
        "start_time": "2022-01-12T16:11:06.914Z"
      },
      {
        "duration": 43,
        "start_time": "2022-01-12T16:11:06.940Z"
      },
      {
        "duration": 26,
        "start_time": "2022-01-12T16:11:06.985Z"
      },
      {
        "duration": 3,
        "start_time": "2022-01-12T16:11:07.013Z"
      },
      {
        "duration": 546,
        "start_time": "2022-01-12T16:11:07.017Z"
      },
      {
        "duration": 23,
        "start_time": "2022-01-12T16:11:07.565Z"
      },
      {
        "duration": 33,
        "start_time": "2022-01-12T16:11:07.589Z"
      },
      {
        "duration": 467,
        "start_time": "2022-01-12T16:11:07.623Z"
      },
      {
        "duration": 22,
        "start_time": "2022-01-12T16:11:08.092Z"
      },
      {
        "duration": 346,
        "start_time": "2022-01-12T16:11:08.116Z"
      },
      {
        "duration": 290,
        "start_time": "2022-01-12T16:11:08.464Z"
      },
      {
        "duration": 275,
        "start_time": "2022-01-12T16:11:08.756Z"
      },
      {
        "duration": 370,
        "start_time": "2022-01-12T16:11:09.034Z"
      },
      {
        "duration": 18,
        "start_time": "2022-01-12T16:11:09.406Z"
      },
      {
        "duration": 51,
        "start_time": "2022-01-12T16:11:09.426Z"
      },
      {
        "duration": 8,
        "start_time": "2022-01-12T16:11:09.479Z"
      },
      {
        "duration": 515,
        "start_time": "2022-01-12T16:11:09.488Z"
      },
      {
        "duration": 208,
        "start_time": "2022-01-12T16:11:10.005Z"
      },
      {
        "duration": 4,
        "start_time": "2022-01-12T16:11:10.215Z"
      },
      {
        "duration": 9,
        "start_time": "2022-01-12T16:11:10.221Z"
      },
      {
        "duration": 12,
        "start_time": "2022-01-12T16:11:10.231Z"
      },
      {
        "duration": 1700,
        "start_time": "2022-01-12T16:11:10.244Z"
      },
      {
        "duration": 58,
        "start_time": "2022-01-12T16:11:11.945Z"
      },
      {
        "duration": 1735,
        "start_time": "2022-01-12T16:11:12.005Z"
      },
      {
        "duration": 2,
        "start_time": "2022-01-12T16:11:13.741Z"
      },
      {
        "duration": 17,
        "start_time": "2022-01-12T16:11:13.745Z"
      },
      {
        "duration": 13,
        "start_time": "2022-01-12T16:11:13.764Z"
      },
      {
        "duration": 23,
        "start_time": "2022-01-12T16:11:13.779Z"
      },
      {
        "duration": 851,
        "start_time": "2022-01-12T16:11:13.803Z"
      },
      {
        "duration": 5,
        "start_time": "2022-01-12T16:11:14.660Z"
      },
      {
        "duration": 303,
        "start_time": "2022-01-12T16:11:14.666Z"
      },
      {
        "duration": 14,
        "start_time": "2022-01-12T16:11:14.972Z"
      },
      {
        "duration": 9,
        "start_time": "2022-01-12T16:11:14.987Z"
      },
      {
        "duration": 14,
        "start_time": "2022-01-12T16:11:14.998Z"
      },
      {
        "duration": 51,
        "start_time": "2022-01-12T16:11:15.014Z"
      },
      {
        "duration": 7,
        "start_time": "2022-01-12T16:11:15.066Z"
      },
      {
        "duration": 1016,
        "start_time": "2022-01-12T16:11:15.074Z"
      },
      {
        "duration": 11,
        "start_time": "2022-01-12T16:11:16.092Z"
      },
      {
        "duration": 29,
        "start_time": "2022-01-12T16:11:16.105Z"
      },
      {
        "duration": 44,
        "start_time": "2022-01-12T16:11:16.135Z"
      }
    ],
    "kernelspec": {
      "display_name": "Python 3 (ipykernel)",
      "language": "python",
      "name": "python3"
    },
    "language_info": {
      "codemirror_mode": {
        "name": "ipython",
        "version": 3
      },
      "file_extension": ".py",
      "mimetype": "text/x-python",
      "name": "python",
      "nbconvert_exporter": "python",
      "pygments_lexer": "ipython3",
      "version": "3.9.5"
    },
    "toc": {
      "base_numbering": 1,
      "nav_menu": {
        "height": "184px",
        "width": "414px"
      },
      "number_sections": true,
      "sideBar": true,
      "skip_h1_title": true,
      "title_cell": "Содержание",
      "title_sidebar": "Contents",
      "toc_cell": true,
      "toc_position": {},
      "toc_section_display": true,
      "toc_window_display": true
    },
    "colab": {
      "provenance": []
    }
  },
  "nbformat": 4,
  "nbformat_minor": 0
}