{
  "cells": [
    {
      "cell_type": "markdown",
      "metadata": {
        "toc": true,
        "id": "Ov-WRcrwCsIe"
      },
      "source": [
        "<h1>Содержание<span class=\"tocSkip\"></span></h1>\n",
        "<div class=\"toc\"><ul class=\"toc-item\"><li><span><a href=\"#Шаг-1.-Откройте-файл-с-данными-и-изучите-общую-информацию\" data-toc-modified-id=\"Шаг-1.-Откройте-файл-с-данными-и-изучите-общую-информацию-1\"><span class=\"toc-item-num\">1&nbsp;&nbsp;</span>Шаг 1. Откройте файл с данными и изучите общую информацию</a></span></li><li><span><a href=\"#Шаг-2.-Предобработка-данных\" data-toc-modified-id=\"Шаг-2.-Предобработка-данных-2\"><span class=\"toc-item-num\">2&nbsp;&nbsp;</span>Шаг 2. Предобработка данных</a></span><ul class=\"toc-item\"><li><span><a href=\"#Обработка-пропусков\" data-toc-modified-id=\"Обработка-пропусков-2.1\"><span class=\"toc-item-num\">2.1&nbsp;&nbsp;</span>Обработка пропусков</a></span></li><li><span><a href=\"#Замена-типа-данных\" data-toc-modified-id=\"Замена-типа-данных-2.2\"><span class=\"toc-item-num\">2.2&nbsp;&nbsp;</span>Замена типа данных</a></span></li><li><span><a href=\"#Обработка-дубликатов\" data-toc-modified-id=\"Обработка-дубликатов-2.3\"><span class=\"toc-item-num\">2.3&nbsp;&nbsp;</span>Обработка дубликатов</a></span></li><li><span><a href=\"#Лемматизация\" data-toc-modified-id=\"Лемматизация-2.4\"><span class=\"toc-item-num\">2.4&nbsp;&nbsp;</span>Лемматизация</a></span></li><li><span><a href=\"#Категоризация-данных\" data-toc-modified-id=\"Категоризация-данных-2.5\"><span class=\"toc-item-num\">2.5&nbsp;&nbsp;</span>Категоризация данных</a></span></li></ul></li><li><span><a href=\"#Шаг-3.-Ответьте-на-вопросы\" data-toc-modified-id=\"Шаг-3.-Ответьте-на-вопросы-3\"><span class=\"toc-item-num\">3&nbsp;&nbsp;</span>Шаг 3. Ответьте на вопросы</a></span></li><li><span><a href=\"#Шаг-4.-Общий-вывод\" data-toc-modified-id=\"Шаг-4.-Общий-вывод-4\"><span class=\"toc-item-num\">4&nbsp;&nbsp;</span>Шаг 4. Общий вывод</a></span></li><li><span><a href=\"#Чек-лист-готовности-проекта\" data-toc-modified-id=\"Чек-лист-готовности-проекта-5\"><span class=\"toc-item-num\">5&nbsp;&nbsp;</span>Чек-лист готовности проекта</a></span></li></ul></div>"
      ]
    },
    {
      "cell_type": "markdown",
      "metadata": {
        "id": "rt5hLgCUCsIh"
      },
      "source": [
        "# Исследование надёжности заёмщиков\n",
        "\n",
        "Заказчик — кредитный отдел банка. Нужно разобраться, влияет ли семейное положение и количество детей клиента на факт погашения кредита в срок. Входные данные от банка — статистика о платёжеспособности клиентов.\n",
        "\n",
        "Результаты исследования будут учтены при построении модели **кредитного скоринга** — специальной системы, которая оценивает способность потенциального заёмщика вернуть кредит банку.\n",
        "\n",
        "**Цель исследования** - ответить на следующие вопросы:\n",
        "\n",
        "    1.\"Есть ли зависимость между наличием детей и возвратом кредита в срок?\";\n",
        "    2.\"Есть ли зависимость между семейным положением и возвратом кредита в срок?\";\n",
        "    3.\"Есть ли зависимость между уровнем дохода и возвратом кредита в срок?\";\n",
        "    4.\"Как разные цели кредита влияют на его возврат в срок?\";\n",
        "    \n",
        "**Описание данных**, полученных от кредитного отдела банка:\n",
        "\n",
        "-children — количество детей в семье\n",
        "\n",
        "-days_employed — общий трудовой стаж в днях\n",
        "\n",
        "-dob_years — возраст клиента в годах\n",
        "\n",
        "-education — уровень образования клиента\n",
        "\n",
        "-education_id — идентификатор уровня образования\n",
        "\n",
        "-family_status — семейное положение\n",
        "\n",
        "-family_status_id — идентификатор семейного положения\n",
        "\n",
        "-gender — пол клиента\n",
        "\n",
        "-income_type — тип занятости\n",
        "\n",
        "-debt — имел ли задолженность по возврату кредитов\n",
        "\n",
        "-total_income — ежемесячный доход\n",
        "\n",
        "-purpose — цель получения кредита\n"
      ]
    },
    {
      "cell_type": "markdown",
      "metadata": {
        "id": "zMfYZm43CsIl"
      },
      "source": [
        "## Шаг 1. Откройте файл с данными и изучите общую информацию"
      ]
    },
    {
      "cell_type": "code",
      "execution_count": null,
      "metadata": {
        "scrolled": true,
        "id": "4ZNXGPIFCsIr"
      },
      "outputs": [],
      "source": [
        "import pandas as pd"
      ]
    },
    {
      "cell_type": "code",
      "execution_count": null,
      "metadata": {
        "scrolled": true,
        "id": "w8nIcaIwCsJB"
      },
      "outputs": [],
      "source": [
        "df = pd.read_csv('/datasets/data.csv')"
      ]
    },
    {
      "cell_type": "code",
      "execution_count": null,
      "metadata": {
        "id": "FgZXPDeqCsJD",
        "outputId": "0aa8f901-698b-4e66-ba3d-6799653f52d9"
      },
      "outputs": [
        {
          "data": {
            "text/html": [
              "<div>\n",
              "<style scoped>\n",
              "    .dataframe tbody tr th:only-of-type {\n",
              "        vertical-align: middle;\n",
              "    }\n",
              "\n",
              "    .dataframe tbody tr th {\n",
              "        vertical-align: top;\n",
              "    }\n",
              "\n",
              "    .dataframe thead th {\n",
              "        text-align: right;\n",
              "    }\n",
              "</style>\n",
              "<table border=\"1\" class=\"dataframe\">\n",
              "  <thead>\n",
              "    <tr style=\"text-align: right;\">\n",
              "      <th></th>\n",
              "      <th>children</th>\n",
              "      <th>days_employed</th>\n",
              "      <th>dob_years</th>\n",
              "      <th>education</th>\n",
              "      <th>education_id</th>\n",
              "      <th>family_status</th>\n",
              "      <th>family_status_id</th>\n",
              "      <th>gender</th>\n",
              "      <th>income_type</th>\n",
              "      <th>debt</th>\n",
              "      <th>total_income</th>\n",
              "      <th>purpose</th>\n",
              "    </tr>\n",
              "  </thead>\n",
              "  <tbody>\n",
              "    <tr>\n",
              "      <td>0</td>\n",
              "      <td>1</td>\n",
              "      <td>-8437.673028</td>\n",
              "      <td>42</td>\n",
              "      <td>высшее</td>\n",
              "      <td>0</td>\n",
              "      <td>женат / замужем</td>\n",
              "      <td>0</td>\n",
              "      <td>F</td>\n",
              "      <td>сотрудник</td>\n",
              "      <td>0</td>\n",
              "      <td>253875.639453</td>\n",
              "      <td>покупка жилья</td>\n",
              "    </tr>\n",
              "    <tr>\n",
              "      <td>1</td>\n",
              "      <td>1</td>\n",
              "      <td>-4024.803754</td>\n",
              "      <td>36</td>\n",
              "      <td>среднее</td>\n",
              "      <td>1</td>\n",
              "      <td>женат / замужем</td>\n",
              "      <td>0</td>\n",
              "      <td>F</td>\n",
              "      <td>сотрудник</td>\n",
              "      <td>0</td>\n",
              "      <td>112080.014102</td>\n",
              "      <td>приобретение автомобиля</td>\n",
              "    </tr>\n",
              "    <tr>\n",
              "      <td>2</td>\n",
              "      <td>0</td>\n",
              "      <td>-5623.422610</td>\n",
              "      <td>33</td>\n",
              "      <td>Среднее</td>\n",
              "      <td>1</td>\n",
              "      <td>женат / замужем</td>\n",
              "      <td>0</td>\n",
              "      <td>M</td>\n",
              "      <td>сотрудник</td>\n",
              "      <td>0</td>\n",
              "      <td>145885.952297</td>\n",
              "      <td>покупка жилья</td>\n",
              "    </tr>\n",
              "    <tr>\n",
              "      <td>3</td>\n",
              "      <td>3</td>\n",
              "      <td>-4124.747207</td>\n",
              "      <td>32</td>\n",
              "      <td>среднее</td>\n",
              "      <td>1</td>\n",
              "      <td>женат / замужем</td>\n",
              "      <td>0</td>\n",
              "      <td>M</td>\n",
              "      <td>сотрудник</td>\n",
              "      <td>0</td>\n",
              "      <td>267628.550329</td>\n",
              "      <td>дополнительное образование</td>\n",
              "    </tr>\n",
              "    <tr>\n",
              "      <td>4</td>\n",
              "      <td>0</td>\n",
              "      <td>340266.072047</td>\n",
              "      <td>53</td>\n",
              "      <td>среднее</td>\n",
              "      <td>1</td>\n",
              "      <td>гражданский брак</td>\n",
              "      <td>1</td>\n",
              "      <td>F</td>\n",
              "      <td>пенсионер</td>\n",
              "      <td>0</td>\n",
              "      <td>158616.077870</td>\n",
              "      <td>сыграть свадьбу</td>\n",
              "    </tr>\n",
              "    <tr>\n",
              "      <td>5</td>\n",
              "      <td>0</td>\n",
              "      <td>-926.185831</td>\n",
              "      <td>27</td>\n",
              "      <td>высшее</td>\n",
              "      <td>0</td>\n",
              "      <td>гражданский брак</td>\n",
              "      <td>1</td>\n",
              "      <td>M</td>\n",
              "      <td>компаньон</td>\n",
              "      <td>0</td>\n",
              "      <td>255763.565419</td>\n",
              "      <td>покупка жилья</td>\n",
              "    </tr>\n",
              "    <tr>\n",
              "      <td>6</td>\n",
              "      <td>0</td>\n",
              "      <td>-2879.202052</td>\n",
              "      <td>43</td>\n",
              "      <td>высшее</td>\n",
              "      <td>0</td>\n",
              "      <td>женат / замужем</td>\n",
              "      <td>0</td>\n",
              "      <td>F</td>\n",
              "      <td>компаньон</td>\n",
              "      <td>0</td>\n",
              "      <td>240525.971920</td>\n",
              "      <td>операции с жильем</td>\n",
              "    </tr>\n",
              "    <tr>\n",
              "      <td>7</td>\n",
              "      <td>0</td>\n",
              "      <td>-152.779569</td>\n",
              "      <td>50</td>\n",
              "      <td>СРЕДНЕЕ</td>\n",
              "      <td>1</td>\n",
              "      <td>женат / замужем</td>\n",
              "      <td>0</td>\n",
              "      <td>M</td>\n",
              "      <td>сотрудник</td>\n",
              "      <td>0</td>\n",
              "      <td>135823.934197</td>\n",
              "      <td>образование</td>\n",
              "    </tr>\n",
              "    <tr>\n",
              "      <td>8</td>\n",
              "      <td>2</td>\n",
              "      <td>-6929.865299</td>\n",
              "      <td>35</td>\n",
              "      <td>ВЫСШЕЕ</td>\n",
              "      <td>0</td>\n",
              "      <td>гражданский брак</td>\n",
              "      <td>1</td>\n",
              "      <td>F</td>\n",
              "      <td>сотрудник</td>\n",
              "      <td>0</td>\n",
              "      <td>95856.832424</td>\n",
              "      <td>на проведение свадьбы</td>\n",
              "    </tr>\n",
              "    <tr>\n",
              "      <td>9</td>\n",
              "      <td>0</td>\n",
              "      <td>-2188.756445</td>\n",
              "      <td>41</td>\n",
              "      <td>среднее</td>\n",
              "      <td>1</td>\n",
              "      <td>женат / замужем</td>\n",
              "      <td>0</td>\n",
              "      <td>M</td>\n",
              "      <td>сотрудник</td>\n",
              "      <td>0</td>\n",
              "      <td>144425.938277</td>\n",
              "      <td>покупка жилья для семьи</td>\n",
              "    </tr>\n",
              "  </tbody>\n",
              "</table>\n",
              "</div>"
            ],
            "text/plain": [
              "   children  days_employed  dob_years education  education_id  \\\n",
              "0         1   -8437.673028         42    высшее             0   \n",
              "1         1   -4024.803754         36   среднее             1   \n",
              "2         0   -5623.422610         33   Среднее             1   \n",
              "3         3   -4124.747207         32   среднее             1   \n",
              "4         0  340266.072047         53   среднее             1   \n",
              "5         0    -926.185831         27    высшее             0   \n",
              "6         0   -2879.202052         43    высшее             0   \n",
              "7         0    -152.779569         50   СРЕДНЕЕ             1   \n",
              "8         2   -6929.865299         35    ВЫСШЕЕ             0   \n",
              "9         0   -2188.756445         41   среднее             1   \n",
              "\n",
              "      family_status  family_status_id gender income_type  debt   total_income  \\\n",
              "0   женат / замужем                 0      F   сотрудник     0  253875.639453   \n",
              "1   женат / замужем                 0      F   сотрудник     0  112080.014102   \n",
              "2   женат / замужем                 0      M   сотрудник     0  145885.952297   \n",
              "3   женат / замужем                 0      M   сотрудник     0  267628.550329   \n",
              "4  гражданский брак                 1      F   пенсионер     0  158616.077870   \n",
              "5  гражданский брак                 1      M   компаньон     0  255763.565419   \n",
              "6   женат / замужем                 0      F   компаньон     0  240525.971920   \n",
              "7   женат / замужем                 0      M   сотрудник     0  135823.934197   \n",
              "8  гражданский брак                 1      F   сотрудник     0   95856.832424   \n",
              "9   женат / замужем                 0      M   сотрудник     0  144425.938277   \n",
              "\n",
              "                      purpose  \n",
              "0               покупка жилья  \n",
              "1     приобретение автомобиля  \n",
              "2               покупка жилья  \n",
              "3  дополнительное образование  \n",
              "4             сыграть свадьбу  \n",
              "5               покупка жилья  \n",
              "6           операции с жильем  \n",
              "7                 образование  \n",
              "8       на проведение свадьбы  \n",
              "9     покупка жилья для семьи  "
            ]
          },
          "metadata": {},
          "output_type": "display_data"
        }
      ],
      "source": [
        "display(df.head(10))"
      ]
    },
    {
      "cell_type": "code",
      "execution_count": null,
      "metadata": {
        "id": "TKwI8qdnCsJF",
        "outputId": "8f0686be-35a6-47a4-dd25-0dc4b6a3bd52"
      },
      "outputs": [
        {
          "name": "stdout",
          "output_type": "stream",
          "text": [
            "<class 'pandas.core.frame.DataFrame'>\n",
            "RangeIndex: 21525 entries, 0 to 21524\n",
            "Data columns (total 12 columns):\n",
            "children            21525 non-null int64\n",
            "days_employed       19351 non-null float64\n",
            "dob_years           21525 non-null int64\n",
            "education           21525 non-null object\n",
            "education_id        21525 non-null int64\n",
            "family_status       21525 non-null object\n",
            "family_status_id    21525 non-null int64\n",
            "gender              21525 non-null object\n",
            "income_type         21525 non-null object\n",
            "debt                21525 non-null int64\n",
            "total_income        19351 non-null float64\n",
            "purpose             21525 non-null object\n",
            "dtypes: float64(2), int64(5), object(5)\n",
            "memory usage: 2.0+ MB\n"
          ]
        },
        {
          "data": {
            "text/plain": [
              "None"
            ]
          },
          "metadata": {},
          "output_type": "display_data"
        }
      ],
      "source": [
        "display(df.info())"
      ]
    },
    {
      "cell_type": "markdown",
      "metadata": {
        "id": "XFRQinghCsJG"
      },
      "source": [
        "**Вывод**\n"
      ]
    },
    {
      "cell_type": "markdown",
      "metadata": {
        "id": "JcjIn26HCsJH"
      },
      "source": [
        "Отрицательные данные количества дней трудового стажа. Данные об образовании записаны РАЗНЫМ шрифтом. Пропуски в следующих данных: общий трудовой стаж в днях и ежемесячный доход, причем количество пропусков одинаковое."
      ]
    },
    {
      "cell_type": "markdown",
      "metadata": {
        "id": "LPFMXgk4CsJI"
      },
      "source": [
        "## Шаг 2. Предобработка данных\n"
      ]
    },
    {
      "cell_type": "markdown",
      "metadata": {
        "id": "l752OcQQCsJI"
      },
      "source": [
        "### Обработка пропусков"
      ]
    },
    {
      "cell_type": "code",
      "execution_count": null,
      "metadata": {
        "scrolled": false,
        "id": "rSM4LhPDCsJJ",
        "outputId": "78d4298c-ce6a-40e6-d2fb-4615bc164ba5"
      },
      "outputs": [
        {
          "data": {
            "text/plain": [
              "children               0\n",
              "days_employed       2174\n",
              "dob_years              0\n",
              "education              0\n",
              "education_id           0\n",
              "family_status          0\n",
              "family_status_id       0\n",
              "gender                 0\n",
              "income_type            0\n",
              "debt                   0\n",
              "total_income        2174\n",
              "purpose                0\n",
              "dtype: int64"
            ]
          },
          "metadata": {},
          "output_type": "display_data"
        }
      ],
      "source": [
        "display(df.isna().sum()) "
      ]
    },
    {
      "cell_type": "code",
      "execution_count": null,
      "metadata": {
        "id": "HSmeRGKfCsJK",
        "outputId": "2ba81e0d-d7b5-424f-8708-327cc48b2746"
      },
      "outputs": [
        {
          "data": {
            "text/html": [
              "<div>\n",
              "<style scoped>\n",
              "    .dataframe tbody tr th:only-of-type {\n",
              "        vertical-align: middle;\n",
              "    }\n",
              "\n",
              "    .dataframe tbody tr th {\n",
              "        vertical-align: top;\n",
              "    }\n",
              "\n",
              "    .dataframe thead th {\n",
              "        text-align: right;\n",
              "    }\n",
              "</style>\n",
              "<table border=\"1\" class=\"dataframe\">\n",
              "  <thead>\n",
              "    <tr style=\"text-align: right;\">\n",
              "      <th></th>\n",
              "      <th>children</th>\n",
              "      <th>days_employed</th>\n",
              "      <th>dob_years</th>\n",
              "      <th>education</th>\n",
              "      <th>education_id</th>\n",
              "      <th>family_status</th>\n",
              "      <th>family_status_id</th>\n",
              "      <th>gender</th>\n",
              "      <th>income_type</th>\n",
              "      <th>debt</th>\n",
              "      <th>total_income</th>\n",
              "      <th>purpose</th>\n",
              "    </tr>\n",
              "  </thead>\n",
              "  <tbody>\n",
              "    <tr>\n",
              "      <td>12</td>\n",
              "      <td>0</td>\n",
              "      <td>NaN</td>\n",
              "      <td>65</td>\n",
              "      <td>среднее</td>\n",
              "      <td>1</td>\n",
              "      <td>гражданский брак</td>\n",
              "      <td>1</td>\n",
              "      <td>M</td>\n",
              "      <td>пенсионер</td>\n",
              "      <td>0</td>\n",
              "      <td>NaN</td>\n",
              "      <td>сыграть свадьбу</td>\n",
              "    </tr>\n",
              "    <tr>\n",
              "      <td>26</td>\n",
              "      <td>0</td>\n",
              "      <td>NaN</td>\n",
              "      <td>41</td>\n",
              "      <td>среднее</td>\n",
              "      <td>1</td>\n",
              "      <td>женат / замужем</td>\n",
              "      <td>0</td>\n",
              "      <td>M</td>\n",
              "      <td>госслужащий</td>\n",
              "      <td>0</td>\n",
              "      <td>NaN</td>\n",
              "      <td>образование</td>\n",
              "    </tr>\n",
              "    <tr>\n",
              "      <td>29</td>\n",
              "      <td>0</td>\n",
              "      <td>NaN</td>\n",
              "      <td>63</td>\n",
              "      <td>среднее</td>\n",
              "      <td>1</td>\n",
              "      <td>Не женат / не замужем</td>\n",
              "      <td>4</td>\n",
              "      <td>F</td>\n",
              "      <td>пенсионер</td>\n",
              "      <td>0</td>\n",
              "      <td>NaN</td>\n",
              "      <td>строительство жилой недвижимости</td>\n",
              "    </tr>\n",
              "    <tr>\n",
              "      <td>41</td>\n",
              "      <td>0</td>\n",
              "      <td>NaN</td>\n",
              "      <td>50</td>\n",
              "      <td>среднее</td>\n",
              "      <td>1</td>\n",
              "      <td>женат / замужем</td>\n",
              "      <td>0</td>\n",
              "      <td>F</td>\n",
              "      <td>госслужащий</td>\n",
              "      <td>0</td>\n",
              "      <td>NaN</td>\n",
              "      <td>сделка с подержанным автомобилем</td>\n",
              "    </tr>\n",
              "    <tr>\n",
              "      <td>55</td>\n",
              "      <td>0</td>\n",
              "      <td>NaN</td>\n",
              "      <td>54</td>\n",
              "      <td>среднее</td>\n",
              "      <td>1</td>\n",
              "      <td>гражданский брак</td>\n",
              "      <td>1</td>\n",
              "      <td>F</td>\n",
              "      <td>пенсионер</td>\n",
              "      <td>1</td>\n",
              "      <td>NaN</td>\n",
              "      <td>сыграть свадьбу</td>\n",
              "    </tr>\n",
              "  </tbody>\n",
              "</table>\n",
              "</div>"
            ],
            "text/plain": [
              "    children  days_employed  dob_years education  education_id  \\\n",
              "12         0            NaN         65   среднее             1   \n",
              "26         0            NaN         41   среднее             1   \n",
              "29         0            NaN         63   среднее             1   \n",
              "41         0            NaN         50   среднее             1   \n",
              "55         0            NaN         54   среднее             1   \n",
              "\n",
              "            family_status  family_status_id gender  income_type  debt  \\\n",
              "12       гражданский брак                 1      M    пенсионер     0   \n",
              "26        женат / замужем                 0      M  госслужащий     0   \n",
              "29  Не женат / не замужем                 4      F    пенсионер     0   \n",
              "41        женат / замужем                 0      F  госслужащий     0   \n",
              "55       гражданский брак                 1      F    пенсионер     1   \n",
              "\n",
              "    total_income                           purpose  \n",
              "12           NaN                   сыграть свадьбу  \n",
              "26           NaN                       образование  \n",
              "29           NaN  строительство жилой недвижимости  \n",
              "41           NaN  сделка с подержанным автомобилем  \n",
              "55           NaN                   сыграть свадьбу  "
            ]
          },
          "execution_count": 6,
          "metadata": {},
          "output_type": "execute_result"
        }
      ],
      "source": [
        "df[df['days_employed'].isna()].head()"
      ]
    },
    {
      "cell_type": "markdown",
      "metadata": {
        "id": "9G4OhPVtCsJL"
      },
      "source": [
        "**Вывод**"
      ]
    },
    {
      "cell_type": "markdown",
      "metadata": {
        "id": "bNBR5gGWCsJM"
      },
      "source": [
        "Данные столбцов days_employed и total_income содержат одинаковое количество значений типа NaN. Нужно их заменить или удалить."
      ]
    },
    {
      "cell_type": "markdown",
      "metadata": {
        "id": "-BD_OZCjCsJM"
      },
      "source": [
        "### Замена типа данных"
      ]
    },
    {
      "cell_type": "code",
      "execution_count": null,
      "metadata": {
        "id": "AtAROYNkCsJN"
      },
      "outputs": [],
      "source": [
        "df['days_employed'] = df['days_employed'].abs()"
      ]
    },
    {
      "cell_type": "code",
      "execution_count": null,
      "metadata": {
        "id": "uc7Jr6_iCsJN"
      },
      "outputs": [],
      "source": [
        "df['days_employed'] = df['days_employed'].mean()"
      ]
    },
    {
      "cell_type": "code",
      "execution_count": null,
      "metadata": {
        "scrolled": true,
        "id": "O09dwnrBCsJO",
        "outputId": "c8896918-c076-4d0f-c791-61d0bcf078db"
      },
      "outputs": [
        {
          "data": {
            "text/html": [
              "<div>\n",
              "<style scoped>\n",
              "    .dataframe tbody tr th:only-of-type {\n",
              "        vertical-align: middle;\n",
              "    }\n",
              "\n",
              "    .dataframe tbody tr th {\n",
              "        vertical-align: top;\n",
              "    }\n",
              "\n",
              "    .dataframe thead th {\n",
              "        text-align: right;\n",
              "    }\n",
              "</style>\n",
              "<table border=\"1\" class=\"dataframe\">\n",
              "  <thead>\n",
              "    <tr style=\"text-align: right;\">\n",
              "      <th></th>\n",
              "      <th>children</th>\n",
              "      <th>days_employed</th>\n",
              "      <th>dob_years</th>\n",
              "      <th>education</th>\n",
              "      <th>education_id</th>\n",
              "      <th>family_status</th>\n",
              "      <th>family_status_id</th>\n",
              "      <th>gender</th>\n",
              "      <th>income_type</th>\n",
              "      <th>debt</th>\n",
              "      <th>total_income</th>\n",
              "      <th>purpose</th>\n",
              "    </tr>\n",
              "  </thead>\n",
              "  <tbody>\n",
              "    <tr>\n",
              "      <td>0</td>\n",
              "      <td>1</td>\n",
              "      <td>66914.728907</td>\n",
              "      <td>42</td>\n",
              "      <td>высшее</td>\n",
              "      <td>0</td>\n",
              "      <td>женат / замужем</td>\n",
              "      <td>0</td>\n",
              "      <td>F</td>\n",
              "      <td>сотрудник</td>\n",
              "      <td>0</td>\n",
              "      <td>253875.639453</td>\n",
              "      <td>покупка жилья</td>\n",
              "    </tr>\n",
              "    <tr>\n",
              "      <td>1</td>\n",
              "      <td>1</td>\n",
              "      <td>66914.728907</td>\n",
              "      <td>36</td>\n",
              "      <td>среднее</td>\n",
              "      <td>1</td>\n",
              "      <td>женат / замужем</td>\n",
              "      <td>0</td>\n",
              "      <td>F</td>\n",
              "      <td>сотрудник</td>\n",
              "      <td>0</td>\n",
              "      <td>112080.014102</td>\n",
              "      <td>приобретение автомобиля</td>\n",
              "    </tr>\n",
              "    <tr>\n",
              "      <td>2</td>\n",
              "      <td>0</td>\n",
              "      <td>66914.728907</td>\n",
              "      <td>33</td>\n",
              "      <td>Среднее</td>\n",
              "      <td>1</td>\n",
              "      <td>женат / замужем</td>\n",
              "      <td>0</td>\n",
              "      <td>M</td>\n",
              "      <td>сотрудник</td>\n",
              "      <td>0</td>\n",
              "      <td>145885.952297</td>\n",
              "      <td>покупка жилья</td>\n",
              "    </tr>\n",
              "    <tr>\n",
              "      <td>3</td>\n",
              "      <td>3</td>\n",
              "      <td>66914.728907</td>\n",
              "      <td>32</td>\n",
              "      <td>среднее</td>\n",
              "      <td>1</td>\n",
              "      <td>женат / замужем</td>\n",
              "      <td>0</td>\n",
              "      <td>M</td>\n",
              "      <td>сотрудник</td>\n",
              "      <td>0</td>\n",
              "      <td>267628.550329</td>\n",
              "      <td>дополнительное образование</td>\n",
              "    </tr>\n",
              "    <tr>\n",
              "      <td>4</td>\n",
              "      <td>0</td>\n",
              "      <td>66914.728907</td>\n",
              "      <td>53</td>\n",
              "      <td>среднее</td>\n",
              "      <td>1</td>\n",
              "      <td>гражданский брак</td>\n",
              "      <td>1</td>\n",
              "      <td>F</td>\n",
              "      <td>пенсионер</td>\n",
              "      <td>0</td>\n",
              "      <td>158616.077870</td>\n",
              "      <td>сыграть свадьбу</td>\n",
              "    </tr>\n",
              "    <tr>\n",
              "      <td>5</td>\n",
              "      <td>0</td>\n",
              "      <td>66914.728907</td>\n",
              "      <td>27</td>\n",
              "      <td>высшее</td>\n",
              "      <td>0</td>\n",
              "      <td>гражданский брак</td>\n",
              "      <td>1</td>\n",
              "      <td>M</td>\n",
              "      <td>компаньон</td>\n",
              "      <td>0</td>\n",
              "      <td>255763.565419</td>\n",
              "      <td>покупка жилья</td>\n",
              "    </tr>\n",
              "    <tr>\n",
              "      <td>6</td>\n",
              "      <td>0</td>\n",
              "      <td>66914.728907</td>\n",
              "      <td>43</td>\n",
              "      <td>высшее</td>\n",
              "      <td>0</td>\n",
              "      <td>женат / замужем</td>\n",
              "      <td>0</td>\n",
              "      <td>F</td>\n",
              "      <td>компаньон</td>\n",
              "      <td>0</td>\n",
              "      <td>240525.971920</td>\n",
              "      <td>операции с жильем</td>\n",
              "    </tr>\n",
              "    <tr>\n",
              "      <td>7</td>\n",
              "      <td>0</td>\n",
              "      <td>66914.728907</td>\n",
              "      <td>50</td>\n",
              "      <td>СРЕДНЕЕ</td>\n",
              "      <td>1</td>\n",
              "      <td>женат / замужем</td>\n",
              "      <td>0</td>\n",
              "      <td>M</td>\n",
              "      <td>сотрудник</td>\n",
              "      <td>0</td>\n",
              "      <td>135823.934197</td>\n",
              "      <td>образование</td>\n",
              "    </tr>\n",
              "    <tr>\n",
              "      <td>8</td>\n",
              "      <td>2</td>\n",
              "      <td>66914.728907</td>\n",
              "      <td>35</td>\n",
              "      <td>ВЫСШЕЕ</td>\n",
              "      <td>0</td>\n",
              "      <td>гражданский брак</td>\n",
              "      <td>1</td>\n",
              "      <td>F</td>\n",
              "      <td>сотрудник</td>\n",
              "      <td>0</td>\n",
              "      <td>95856.832424</td>\n",
              "      <td>на проведение свадьбы</td>\n",
              "    </tr>\n",
              "    <tr>\n",
              "      <td>9</td>\n",
              "      <td>0</td>\n",
              "      <td>66914.728907</td>\n",
              "      <td>41</td>\n",
              "      <td>среднее</td>\n",
              "      <td>1</td>\n",
              "      <td>женат / замужем</td>\n",
              "      <td>0</td>\n",
              "      <td>M</td>\n",
              "      <td>сотрудник</td>\n",
              "      <td>0</td>\n",
              "      <td>144425.938277</td>\n",
              "      <td>покупка жилья для семьи</td>\n",
              "    </tr>\n",
              "    <tr>\n",
              "      <td>10</td>\n",
              "      <td>2</td>\n",
              "      <td>66914.728907</td>\n",
              "      <td>36</td>\n",
              "      <td>высшее</td>\n",
              "      <td>0</td>\n",
              "      <td>женат / замужем</td>\n",
              "      <td>0</td>\n",
              "      <td>M</td>\n",
              "      <td>компаньон</td>\n",
              "      <td>0</td>\n",
              "      <td>113943.491460</td>\n",
              "      <td>покупка недвижимости</td>\n",
              "    </tr>\n",
              "    <tr>\n",
              "      <td>11</td>\n",
              "      <td>0</td>\n",
              "      <td>66914.728907</td>\n",
              "      <td>40</td>\n",
              "      <td>среднее</td>\n",
              "      <td>1</td>\n",
              "      <td>женат / замужем</td>\n",
              "      <td>0</td>\n",
              "      <td>F</td>\n",
              "      <td>сотрудник</td>\n",
              "      <td>0</td>\n",
              "      <td>77069.234271</td>\n",
              "      <td>покупка коммерческой недвижимости</td>\n",
              "    </tr>\n",
              "    <tr>\n",
              "      <td>12</td>\n",
              "      <td>0</td>\n",
              "      <td>66914.728907</td>\n",
              "      <td>65</td>\n",
              "      <td>среднее</td>\n",
              "      <td>1</td>\n",
              "      <td>гражданский брак</td>\n",
              "      <td>1</td>\n",
              "      <td>M</td>\n",
              "      <td>пенсионер</td>\n",
              "      <td>0</td>\n",
              "      <td>NaN</td>\n",
              "      <td>сыграть свадьбу</td>\n",
              "    </tr>\n",
              "    <tr>\n",
              "      <td>13</td>\n",
              "      <td>0</td>\n",
              "      <td>66914.728907</td>\n",
              "      <td>54</td>\n",
              "      <td>неоконченное высшее</td>\n",
              "      <td>2</td>\n",
              "      <td>женат / замужем</td>\n",
              "      <td>0</td>\n",
              "      <td>F</td>\n",
              "      <td>сотрудник</td>\n",
              "      <td>0</td>\n",
              "      <td>130458.228857</td>\n",
              "      <td>приобретение автомобиля</td>\n",
              "    </tr>\n",
              "    <tr>\n",
              "      <td>14</td>\n",
              "      <td>0</td>\n",
              "      <td>66914.728907</td>\n",
              "      <td>56</td>\n",
              "      <td>высшее</td>\n",
              "      <td>0</td>\n",
              "      <td>гражданский брак</td>\n",
              "      <td>1</td>\n",
              "      <td>F</td>\n",
              "      <td>компаньон</td>\n",
              "      <td>1</td>\n",
              "      <td>165127.911772</td>\n",
              "      <td>покупка жилой недвижимости</td>\n",
              "    </tr>\n",
              "    <tr>\n",
              "      <td>15</td>\n",
              "      <td>1</td>\n",
              "      <td>66914.728907</td>\n",
              "      <td>26</td>\n",
              "      <td>среднее</td>\n",
              "      <td>1</td>\n",
              "      <td>женат / замужем</td>\n",
              "      <td>0</td>\n",
              "      <td>F</td>\n",
              "      <td>сотрудник</td>\n",
              "      <td>0</td>\n",
              "      <td>116820.904450</td>\n",
              "      <td>строительство собственной недвижимости</td>\n",
              "    </tr>\n",
              "    <tr>\n",
              "      <td>16</td>\n",
              "      <td>0</td>\n",
              "      <td>66914.728907</td>\n",
              "      <td>35</td>\n",
              "      <td>среднее</td>\n",
              "      <td>1</td>\n",
              "      <td>женат / замужем</td>\n",
              "      <td>0</td>\n",
              "      <td>F</td>\n",
              "      <td>сотрудник</td>\n",
              "      <td>0</td>\n",
              "      <td>289202.704229</td>\n",
              "      <td>недвижимость</td>\n",
              "    </tr>\n",
              "    <tr>\n",
              "      <td>17</td>\n",
              "      <td>0</td>\n",
              "      <td>66914.728907</td>\n",
              "      <td>33</td>\n",
              "      <td>высшее</td>\n",
              "      <td>0</td>\n",
              "      <td>гражданский брак</td>\n",
              "      <td>1</td>\n",
              "      <td>M</td>\n",
              "      <td>сотрудник</td>\n",
              "      <td>0</td>\n",
              "      <td>90410.586745</td>\n",
              "      <td>строительство недвижимости</td>\n",
              "    </tr>\n",
              "    <tr>\n",
              "      <td>18</td>\n",
              "      <td>0</td>\n",
              "      <td>66914.728907</td>\n",
              "      <td>53</td>\n",
              "      <td>среднее</td>\n",
              "      <td>1</td>\n",
              "      <td>вдовец / вдова</td>\n",
              "      <td>2</td>\n",
              "      <td>F</td>\n",
              "      <td>пенсионер</td>\n",
              "      <td>0</td>\n",
              "      <td>56823.777243</td>\n",
              "      <td>на покупку подержанного автомобиля</td>\n",
              "    </tr>\n",
              "    <tr>\n",
              "      <td>19</td>\n",
              "      <td>0</td>\n",
              "      <td>66914.728907</td>\n",
              "      <td>48</td>\n",
              "      <td>СРЕДНЕЕ</td>\n",
              "      <td>1</td>\n",
              "      <td>в разводе</td>\n",
              "      <td>3</td>\n",
              "      <td>F</td>\n",
              "      <td>сотрудник</td>\n",
              "      <td>0</td>\n",
              "      <td>242831.107982</td>\n",
              "      <td>на покупку своего автомобиля</td>\n",
              "    </tr>\n",
              "    <tr>\n",
              "      <td>20</td>\n",
              "      <td>1</td>\n",
              "      <td>66914.728907</td>\n",
              "      <td>36</td>\n",
              "      <td>среднее</td>\n",
              "      <td>1</td>\n",
              "      <td>женат / замужем</td>\n",
              "      <td>0</td>\n",
              "      <td>M</td>\n",
              "      <td>сотрудник</td>\n",
              "      <td>0</td>\n",
              "      <td>209552.644578</td>\n",
              "      <td>недвижимость</td>\n",
              "    </tr>\n",
              "    <tr>\n",
              "      <td>21</td>\n",
              "      <td>1</td>\n",
              "      <td>66914.728907</td>\n",
              "      <td>33</td>\n",
              "      <td>среднее</td>\n",
              "      <td>1</td>\n",
              "      <td>гражданский брак</td>\n",
              "      <td>1</td>\n",
              "      <td>F</td>\n",
              "      <td>сотрудник</td>\n",
              "      <td>0</td>\n",
              "      <td>131812.203909</td>\n",
              "      <td>приобретение автомобиля</td>\n",
              "    </tr>\n",
              "    <tr>\n",
              "      <td>22</td>\n",
              "      <td>1</td>\n",
              "      <td>66914.728907</td>\n",
              "      <td>24</td>\n",
              "      <td>среднее</td>\n",
              "      <td>1</td>\n",
              "      <td>гражданский брак</td>\n",
              "      <td>1</td>\n",
              "      <td>F</td>\n",
              "      <td>сотрудник</td>\n",
              "      <td>0</td>\n",
              "      <td>149681.140731</td>\n",
              "      <td>на покупку подержанного автомобиля</td>\n",
              "    </tr>\n",
              "    <tr>\n",
              "      <td>23</td>\n",
              "      <td>0</td>\n",
              "      <td>66914.728907</td>\n",
              "      <td>21</td>\n",
              "      <td>высшее</td>\n",
              "      <td>0</td>\n",
              "      <td>гражданский брак</td>\n",
              "      <td>1</td>\n",
              "      <td>M</td>\n",
              "      <td>сотрудник</td>\n",
              "      <td>0</td>\n",
              "      <td>128265.720871</td>\n",
              "      <td>сыграть свадьбу</td>\n",
              "    </tr>\n",
              "    <tr>\n",
              "      <td>24</td>\n",
              "      <td>1</td>\n",
              "      <td>66914.728907</td>\n",
              "      <td>57</td>\n",
              "      <td>среднее</td>\n",
              "      <td>1</td>\n",
              "      <td>Не женат / не замужем</td>\n",
              "      <td>4</td>\n",
              "      <td>F</td>\n",
              "      <td>пенсионер</td>\n",
              "      <td>0</td>\n",
              "      <td>290547.235997</td>\n",
              "      <td>операции с коммерческой недвижимостью</td>\n",
              "    </tr>\n",
              "    <tr>\n",
              "      <td>25</td>\n",
              "      <td>0</td>\n",
              "      <td>66914.728907</td>\n",
              "      <td>67</td>\n",
              "      <td>среднее</td>\n",
              "      <td>1</td>\n",
              "      <td>женат / замужем</td>\n",
              "      <td>0</td>\n",
              "      <td>M</td>\n",
              "      <td>пенсионер</td>\n",
              "      <td>0</td>\n",
              "      <td>55112.757732</td>\n",
              "      <td>покупка недвижимости</td>\n",
              "    </tr>\n",
              "    <tr>\n",
              "      <td>26</td>\n",
              "      <td>0</td>\n",
              "      <td>66914.728907</td>\n",
              "      <td>41</td>\n",
              "      <td>среднее</td>\n",
              "      <td>1</td>\n",
              "      <td>женат / замужем</td>\n",
              "      <td>0</td>\n",
              "      <td>M</td>\n",
              "      <td>госслужащий</td>\n",
              "      <td>0</td>\n",
              "      <td>NaN</td>\n",
              "      <td>образование</td>\n",
              "    </tr>\n",
              "    <tr>\n",
              "      <td>27</td>\n",
              "      <td>0</td>\n",
              "      <td>66914.728907</td>\n",
              "      <td>28</td>\n",
              "      <td>высшее</td>\n",
              "      <td>0</td>\n",
              "      <td>женат / замужем</td>\n",
              "      <td>0</td>\n",
              "      <td>M</td>\n",
              "      <td>сотрудник</td>\n",
              "      <td>0</td>\n",
              "      <td>308848.983691</td>\n",
              "      <td>строительство собственной недвижимости</td>\n",
              "    </tr>\n",
              "    <tr>\n",
              "      <td>28</td>\n",
              "      <td>1</td>\n",
              "      <td>66914.728907</td>\n",
              "      <td>26</td>\n",
              "      <td>высшее</td>\n",
              "      <td>0</td>\n",
              "      <td>женат / замужем</td>\n",
              "      <td>0</td>\n",
              "      <td>F</td>\n",
              "      <td>сотрудник</td>\n",
              "      <td>0</td>\n",
              "      <td>187863.237306</td>\n",
              "      <td>строительство собственной недвижимости</td>\n",
              "    </tr>\n",
              "    <tr>\n",
              "      <td>29</td>\n",
              "      <td>0</td>\n",
              "      <td>66914.728907</td>\n",
              "      <td>63</td>\n",
              "      <td>среднее</td>\n",
              "      <td>1</td>\n",
              "      <td>Не женат / не замужем</td>\n",
              "      <td>4</td>\n",
              "      <td>F</td>\n",
              "      <td>пенсионер</td>\n",
              "      <td>0</td>\n",
              "      <td>NaN</td>\n",
              "      <td>строительство жилой недвижимости</td>\n",
              "    </tr>\n",
              "  </tbody>\n",
              "</table>\n",
              "</div>"
            ],
            "text/plain": [
              "    children  days_employed  dob_years            education  education_id  \\\n",
              "0          1   66914.728907         42               высшее             0   \n",
              "1          1   66914.728907         36              среднее             1   \n",
              "2          0   66914.728907         33              Среднее             1   \n",
              "3          3   66914.728907         32              среднее             1   \n",
              "4          0   66914.728907         53              среднее             1   \n",
              "5          0   66914.728907         27               высшее             0   \n",
              "6          0   66914.728907         43               высшее             0   \n",
              "7          0   66914.728907         50              СРЕДНЕЕ             1   \n",
              "8          2   66914.728907         35               ВЫСШЕЕ             0   \n",
              "9          0   66914.728907         41              среднее             1   \n",
              "10         2   66914.728907         36               высшее             0   \n",
              "11         0   66914.728907         40              среднее             1   \n",
              "12         0   66914.728907         65              среднее             1   \n",
              "13         0   66914.728907         54  неоконченное высшее             2   \n",
              "14         0   66914.728907         56               высшее             0   \n",
              "15         1   66914.728907         26              среднее             1   \n",
              "16         0   66914.728907         35              среднее             1   \n",
              "17         0   66914.728907         33               высшее             0   \n",
              "18         0   66914.728907         53              среднее             1   \n",
              "19         0   66914.728907         48              СРЕДНЕЕ             1   \n",
              "20         1   66914.728907         36              среднее             1   \n",
              "21         1   66914.728907         33              среднее             1   \n",
              "22         1   66914.728907         24              среднее             1   \n",
              "23         0   66914.728907         21               высшее             0   \n",
              "24         1   66914.728907         57              среднее             1   \n",
              "25         0   66914.728907         67              среднее             1   \n",
              "26         0   66914.728907         41              среднее             1   \n",
              "27         0   66914.728907         28               высшее             0   \n",
              "28         1   66914.728907         26               высшее             0   \n",
              "29         0   66914.728907         63              среднее             1   \n",
              "\n",
              "            family_status  family_status_id gender  income_type  debt  \\\n",
              "0         женат / замужем                 0      F    сотрудник     0   \n",
              "1         женат / замужем                 0      F    сотрудник     0   \n",
              "2         женат / замужем                 0      M    сотрудник     0   \n",
              "3         женат / замужем                 0      M    сотрудник     0   \n",
              "4        гражданский брак                 1      F    пенсионер     0   \n",
              "5        гражданский брак                 1      M    компаньон     0   \n",
              "6         женат / замужем                 0      F    компаньон     0   \n",
              "7         женат / замужем                 0      M    сотрудник     0   \n",
              "8        гражданский брак                 1      F    сотрудник     0   \n",
              "9         женат / замужем                 0      M    сотрудник     0   \n",
              "10        женат / замужем                 0      M    компаньон     0   \n",
              "11        женат / замужем                 0      F    сотрудник     0   \n",
              "12       гражданский брак                 1      M    пенсионер     0   \n",
              "13        женат / замужем                 0      F    сотрудник     0   \n",
              "14       гражданский брак                 1      F    компаньон     1   \n",
              "15        женат / замужем                 0      F    сотрудник     0   \n",
              "16        женат / замужем                 0      F    сотрудник     0   \n",
              "17       гражданский брак                 1      M    сотрудник     0   \n",
              "18         вдовец / вдова                 2      F    пенсионер     0   \n",
              "19              в разводе                 3      F    сотрудник     0   \n",
              "20        женат / замужем                 0      M    сотрудник     0   \n",
              "21       гражданский брак                 1      F    сотрудник     0   \n",
              "22       гражданский брак                 1      F    сотрудник     0   \n",
              "23       гражданский брак                 1      M    сотрудник     0   \n",
              "24  Не женат / не замужем                 4      F    пенсионер     0   \n",
              "25        женат / замужем                 0      M    пенсионер     0   \n",
              "26        женат / замужем                 0      M  госслужащий     0   \n",
              "27        женат / замужем                 0      M    сотрудник     0   \n",
              "28        женат / замужем                 0      F    сотрудник     0   \n",
              "29  Не женат / не замужем                 4      F    пенсионер     0   \n",
              "\n",
              "     total_income                                 purpose  \n",
              "0   253875.639453                           покупка жилья  \n",
              "1   112080.014102                 приобретение автомобиля  \n",
              "2   145885.952297                           покупка жилья  \n",
              "3   267628.550329              дополнительное образование  \n",
              "4   158616.077870                         сыграть свадьбу  \n",
              "5   255763.565419                           покупка жилья  \n",
              "6   240525.971920                       операции с жильем  \n",
              "7   135823.934197                             образование  \n",
              "8    95856.832424                   на проведение свадьбы  \n",
              "9   144425.938277                 покупка жилья для семьи  \n",
              "10  113943.491460                    покупка недвижимости  \n",
              "11   77069.234271       покупка коммерческой недвижимости  \n",
              "12            NaN                         сыграть свадьбу  \n",
              "13  130458.228857                 приобретение автомобиля  \n",
              "14  165127.911772              покупка жилой недвижимости  \n",
              "15  116820.904450  строительство собственной недвижимости  \n",
              "16  289202.704229                            недвижимость  \n",
              "17   90410.586745              строительство недвижимости  \n",
              "18   56823.777243      на покупку подержанного автомобиля  \n",
              "19  242831.107982            на покупку своего автомобиля  \n",
              "20  209552.644578                            недвижимость  \n",
              "21  131812.203909                 приобретение автомобиля  \n",
              "22  149681.140731      на покупку подержанного автомобиля  \n",
              "23  128265.720871                         сыграть свадьбу  \n",
              "24  290547.235997   операции с коммерческой недвижимостью  \n",
              "25   55112.757732                    покупка недвижимости  \n",
              "26            NaN                             образование  \n",
              "27  308848.983691  строительство собственной недвижимости  \n",
              "28  187863.237306  строительство собственной недвижимости  \n",
              "29            NaN        строительство жилой недвижимости  "
            ]
          },
          "metadata": {},
          "output_type": "display_data"
        }
      ],
      "source": [
        "display(df.head(30))"
      ]
    },
    {
      "cell_type": "markdown",
      "metadata": {
        "id": "rCaPdPrmCsJP"
      },
      "source": [
        "Отрицательные значения в столбце days_employed заменила. Теперь заполним пропуски в столбце total_income."
      ]
    },
    {
      "cell_type": "code",
      "execution_count": null,
      "metadata": {
        "id": "uPb1mYr7CsJQ"
      },
      "outputs": [],
      "source": [
        "df_grouped = df.groupby('income_type')['total_income'].mean()"
      ]
    },
    {
      "cell_type": "code",
      "execution_count": null,
      "metadata": {
        "id": "WmIaCsJXCsJR"
      },
      "outputs": [],
      "source": [
        "def func(row):\n",
        "    if pd.isna(row['total_income']):\n",
        "        return df_grouped.loc[row['income_type']]\n",
        "    return row['total_income']\n",
        "df['total_income'] = df.apply(func, axis=1)"
      ]
    },
    {
      "cell_type": "code",
      "execution_count": null,
      "metadata": {
        "scrolled": true,
        "id": "gNX-zSXfCsJS",
        "outputId": "d00a1213-ae15-4115-f183-445a8f042618"
      },
      "outputs": [
        {
          "data": {
            "text/html": [
              "<div>\n",
              "<style scoped>\n",
              "    .dataframe tbody tr th:only-of-type {\n",
              "        vertical-align: middle;\n",
              "    }\n",
              "\n",
              "    .dataframe tbody tr th {\n",
              "        vertical-align: top;\n",
              "    }\n",
              "\n",
              "    .dataframe thead th {\n",
              "        text-align: right;\n",
              "    }\n",
              "</style>\n",
              "<table border=\"1\" class=\"dataframe\">\n",
              "  <thead>\n",
              "    <tr style=\"text-align: right;\">\n",
              "      <th></th>\n",
              "      <th>children</th>\n",
              "      <th>days_employed</th>\n",
              "      <th>dob_years</th>\n",
              "      <th>education</th>\n",
              "      <th>education_id</th>\n",
              "      <th>family_status</th>\n",
              "      <th>family_status_id</th>\n",
              "      <th>gender</th>\n",
              "      <th>income_type</th>\n",
              "      <th>debt</th>\n",
              "      <th>total_income</th>\n",
              "      <th>purpose</th>\n",
              "    </tr>\n",
              "  </thead>\n",
              "  <tbody>\n",
              "    <tr>\n",
              "      <td>0</td>\n",
              "      <td>1</td>\n",
              "      <td>66914.728907</td>\n",
              "      <td>42</td>\n",
              "      <td>высшее</td>\n",
              "      <td>0</td>\n",
              "      <td>женат / замужем</td>\n",
              "      <td>0</td>\n",
              "      <td>F</td>\n",
              "      <td>сотрудник</td>\n",
              "      <td>0</td>\n",
              "      <td>253875.639453</td>\n",
              "      <td>покупка жилья</td>\n",
              "    </tr>\n",
              "    <tr>\n",
              "      <td>1</td>\n",
              "      <td>1</td>\n",
              "      <td>66914.728907</td>\n",
              "      <td>36</td>\n",
              "      <td>среднее</td>\n",
              "      <td>1</td>\n",
              "      <td>женат / замужем</td>\n",
              "      <td>0</td>\n",
              "      <td>F</td>\n",
              "      <td>сотрудник</td>\n",
              "      <td>0</td>\n",
              "      <td>112080.014102</td>\n",
              "      <td>приобретение автомобиля</td>\n",
              "    </tr>\n",
              "    <tr>\n",
              "      <td>2</td>\n",
              "      <td>0</td>\n",
              "      <td>66914.728907</td>\n",
              "      <td>33</td>\n",
              "      <td>Среднее</td>\n",
              "      <td>1</td>\n",
              "      <td>женат / замужем</td>\n",
              "      <td>0</td>\n",
              "      <td>M</td>\n",
              "      <td>сотрудник</td>\n",
              "      <td>0</td>\n",
              "      <td>145885.952297</td>\n",
              "      <td>покупка жилья</td>\n",
              "    </tr>\n",
              "    <tr>\n",
              "      <td>3</td>\n",
              "      <td>3</td>\n",
              "      <td>66914.728907</td>\n",
              "      <td>32</td>\n",
              "      <td>среднее</td>\n",
              "      <td>1</td>\n",
              "      <td>женат / замужем</td>\n",
              "      <td>0</td>\n",
              "      <td>M</td>\n",
              "      <td>сотрудник</td>\n",
              "      <td>0</td>\n",
              "      <td>267628.550329</td>\n",
              "      <td>дополнительное образование</td>\n",
              "    </tr>\n",
              "    <tr>\n",
              "      <td>4</td>\n",
              "      <td>0</td>\n",
              "      <td>66914.728907</td>\n",
              "      <td>53</td>\n",
              "      <td>среднее</td>\n",
              "      <td>1</td>\n",
              "      <td>гражданский брак</td>\n",
              "      <td>1</td>\n",
              "      <td>F</td>\n",
              "      <td>пенсионер</td>\n",
              "      <td>0</td>\n",
              "      <td>158616.077870</td>\n",
              "      <td>сыграть свадьбу</td>\n",
              "    </tr>\n",
              "    <tr>\n",
              "      <td>5</td>\n",
              "      <td>0</td>\n",
              "      <td>66914.728907</td>\n",
              "      <td>27</td>\n",
              "      <td>высшее</td>\n",
              "      <td>0</td>\n",
              "      <td>гражданский брак</td>\n",
              "      <td>1</td>\n",
              "      <td>M</td>\n",
              "      <td>компаньон</td>\n",
              "      <td>0</td>\n",
              "      <td>255763.565419</td>\n",
              "      <td>покупка жилья</td>\n",
              "    </tr>\n",
              "    <tr>\n",
              "      <td>6</td>\n",
              "      <td>0</td>\n",
              "      <td>66914.728907</td>\n",
              "      <td>43</td>\n",
              "      <td>высшее</td>\n",
              "      <td>0</td>\n",
              "      <td>женат / замужем</td>\n",
              "      <td>0</td>\n",
              "      <td>F</td>\n",
              "      <td>компаньон</td>\n",
              "      <td>0</td>\n",
              "      <td>240525.971920</td>\n",
              "      <td>операции с жильем</td>\n",
              "    </tr>\n",
              "    <tr>\n",
              "      <td>7</td>\n",
              "      <td>0</td>\n",
              "      <td>66914.728907</td>\n",
              "      <td>50</td>\n",
              "      <td>СРЕДНЕЕ</td>\n",
              "      <td>1</td>\n",
              "      <td>женат / замужем</td>\n",
              "      <td>0</td>\n",
              "      <td>M</td>\n",
              "      <td>сотрудник</td>\n",
              "      <td>0</td>\n",
              "      <td>135823.934197</td>\n",
              "      <td>образование</td>\n",
              "    </tr>\n",
              "    <tr>\n",
              "      <td>8</td>\n",
              "      <td>2</td>\n",
              "      <td>66914.728907</td>\n",
              "      <td>35</td>\n",
              "      <td>ВЫСШЕЕ</td>\n",
              "      <td>0</td>\n",
              "      <td>гражданский брак</td>\n",
              "      <td>1</td>\n",
              "      <td>F</td>\n",
              "      <td>сотрудник</td>\n",
              "      <td>0</td>\n",
              "      <td>95856.832424</td>\n",
              "      <td>на проведение свадьбы</td>\n",
              "    </tr>\n",
              "    <tr>\n",
              "      <td>9</td>\n",
              "      <td>0</td>\n",
              "      <td>66914.728907</td>\n",
              "      <td>41</td>\n",
              "      <td>среднее</td>\n",
              "      <td>1</td>\n",
              "      <td>женат / замужем</td>\n",
              "      <td>0</td>\n",
              "      <td>M</td>\n",
              "      <td>сотрудник</td>\n",
              "      <td>0</td>\n",
              "      <td>144425.938277</td>\n",
              "      <td>покупка жилья для семьи</td>\n",
              "    </tr>\n",
              "    <tr>\n",
              "      <td>10</td>\n",
              "      <td>2</td>\n",
              "      <td>66914.728907</td>\n",
              "      <td>36</td>\n",
              "      <td>высшее</td>\n",
              "      <td>0</td>\n",
              "      <td>женат / замужем</td>\n",
              "      <td>0</td>\n",
              "      <td>M</td>\n",
              "      <td>компаньон</td>\n",
              "      <td>0</td>\n",
              "      <td>113943.491460</td>\n",
              "      <td>покупка недвижимости</td>\n",
              "    </tr>\n",
              "    <tr>\n",
              "      <td>11</td>\n",
              "      <td>0</td>\n",
              "      <td>66914.728907</td>\n",
              "      <td>40</td>\n",
              "      <td>среднее</td>\n",
              "      <td>1</td>\n",
              "      <td>женат / замужем</td>\n",
              "      <td>0</td>\n",
              "      <td>F</td>\n",
              "      <td>сотрудник</td>\n",
              "      <td>0</td>\n",
              "      <td>77069.234271</td>\n",
              "      <td>покупка коммерческой недвижимости</td>\n",
              "    </tr>\n",
              "    <tr>\n",
              "      <td>12</td>\n",
              "      <td>0</td>\n",
              "      <td>66914.728907</td>\n",
              "      <td>65</td>\n",
              "      <td>среднее</td>\n",
              "      <td>1</td>\n",
              "      <td>гражданский брак</td>\n",
              "      <td>1</td>\n",
              "      <td>M</td>\n",
              "      <td>пенсионер</td>\n",
              "      <td>0</td>\n",
              "      <td>137127.465690</td>\n",
              "      <td>сыграть свадьбу</td>\n",
              "    </tr>\n",
              "    <tr>\n",
              "      <td>13</td>\n",
              "      <td>0</td>\n",
              "      <td>66914.728907</td>\n",
              "      <td>54</td>\n",
              "      <td>неоконченное высшее</td>\n",
              "      <td>2</td>\n",
              "      <td>женат / замужем</td>\n",
              "      <td>0</td>\n",
              "      <td>F</td>\n",
              "      <td>сотрудник</td>\n",
              "      <td>0</td>\n",
              "      <td>130458.228857</td>\n",
              "      <td>приобретение автомобиля</td>\n",
              "    </tr>\n",
              "    <tr>\n",
              "      <td>14</td>\n",
              "      <td>0</td>\n",
              "      <td>66914.728907</td>\n",
              "      <td>56</td>\n",
              "      <td>высшее</td>\n",
              "      <td>0</td>\n",
              "      <td>гражданский брак</td>\n",
              "      <td>1</td>\n",
              "      <td>F</td>\n",
              "      <td>компаньон</td>\n",
              "      <td>1</td>\n",
              "      <td>165127.911772</td>\n",
              "      <td>покупка жилой недвижимости</td>\n",
              "    </tr>\n",
              "    <tr>\n",
              "      <td>15</td>\n",
              "      <td>1</td>\n",
              "      <td>66914.728907</td>\n",
              "      <td>26</td>\n",
              "      <td>среднее</td>\n",
              "      <td>1</td>\n",
              "      <td>женат / замужем</td>\n",
              "      <td>0</td>\n",
              "      <td>F</td>\n",
              "      <td>сотрудник</td>\n",
              "      <td>0</td>\n",
              "      <td>116820.904450</td>\n",
              "      <td>строительство собственной недвижимости</td>\n",
              "    </tr>\n",
              "    <tr>\n",
              "      <td>16</td>\n",
              "      <td>0</td>\n",
              "      <td>66914.728907</td>\n",
              "      <td>35</td>\n",
              "      <td>среднее</td>\n",
              "      <td>1</td>\n",
              "      <td>женат / замужем</td>\n",
              "      <td>0</td>\n",
              "      <td>F</td>\n",
              "      <td>сотрудник</td>\n",
              "      <td>0</td>\n",
              "      <td>289202.704229</td>\n",
              "      <td>недвижимость</td>\n",
              "    </tr>\n",
              "    <tr>\n",
              "      <td>17</td>\n",
              "      <td>0</td>\n",
              "      <td>66914.728907</td>\n",
              "      <td>33</td>\n",
              "      <td>высшее</td>\n",
              "      <td>0</td>\n",
              "      <td>гражданский брак</td>\n",
              "      <td>1</td>\n",
              "      <td>M</td>\n",
              "      <td>сотрудник</td>\n",
              "      <td>0</td>\n",
              "      <td>90410.586745</td>\n",
              "      <td>строительство недвижимости</td>\n",
              "    </tr>\n",
              "    <tr>\n",
              "      <td>18</td>\n",
              "      <td>0</td>\n",
              "      <td>66914.728907</td>\n",
              "      <td>53</td>\n",
              "      <td>среднее</td>\n",
              "      <td>1</td>\n",
              "      <td>вдовец / вдова</td>\n",
              "      <td>2</td>\n",
              "      <td>F</td>\n",
              "      <td>пенсионер</td>\n",
              "      <td>0</td>\n",
              "      <td>56823.777243</td>\n",
              "      <td>на покупку подержанного автомобиля</td>\n",
              "    </tr>\n",
              "    <tr>\n",
              "      <td>19</td>\n",
              "      <td>0</td>\n",
              "      <td>66914.728907</td>\n",
              "      <td>48</td>\n",
              "      <td>СРЕДНЕЕ</td>\n",
              "      <td>1</td>\n",
              "      <td>в разводе</td>\n",
              "      <td>3</td>\n",
              "      <td>F</td>\n",
              "      <td>сотрудник</td>\n",
              "      <td>0</td>\n",
              "      <td>242831.107982</td>\n",
              "      <td>на покупку своего автомобиля</td>\n",
              "    </tr>\n",
              "    <tr>\n",
              "      <td>20</td>\n",
              "      <td>1</td>\n",
              "      <td>66914.728907</td>\n",
              "      <td>36</td>\n",
              "      <td>среднее</td>\n",
              "      <td>1</td>\n",
              "      <td>женат / замужем</td>\n",
              "      <td>0</td>\n",
              "      <td>M</td>\n",
              "      <td>сотрудник</td>\n",
              "      <td>0</td>\n",
              "      <td>209552.644578</td>\n",
              "      <td>недвижимость</td>\n",
              "    </tr>\n",
              "    <tr>\n",
              "      <td>21</td>\n",
              "      <td>1</td>\n",
              "      <td>66914.728907</td>\n",
              "      <td>33</td>\n",
              "      <td>среднее</td>\n",
              "      <td>1</td>\n",
              "      <td>гражданский брак</td>\n",
              "      <td>1</td>\n",
              "      <td>F</td>\n",
              "      <td>сотрудник</td>\n",
              "      <td>0</td>\n",
              "      <td>131812.203909</td>\n",
              "      <td>приобретение автомобиля</td>\n",
              "    </tr>\n",
              "    <tr>\n",
              "      <td>22</td>\n",
              "      <td>1</td>\n",
              "      <td>66914.728907</td>\n",
              "      <td>24</td>\n",
              "      <td>среднее</td>\n",
              "      <td>1</td>\n",
              "      <td>гражданский брак</td>\n",
              "      <td>1</td>\n",
              "      <td>F</td>\n",
              "      <td>сотрудник</td>\n",
              "      <td>0</td>\n",
              "      <td>149681.140731</td>\n",
              "      <td>на покупку подержанного автомобиля</td>\n",
              "    </tr>\n",
              "    <tr>\n",
              "      <td>23</td>\n",
              "      <td>0</td>\n",
              "      <td>66914.728907</td>\n",
              "      <td>21</td>\n",
              "      <td>высшее</td>\n",
              "      <td>0</td>\n",
              "      <td>гражданский брак</td>\n",
              "      <td>1</td>\n",
              "      <td>M</td>\n",
              "      <td>сотрудник</td>\n",
              "      <td>0</td>\n",
              "      <td>128265.720871</td>\n",
              "      <td>сыграть свадьбу</td>\n",
              "    </tr>\n",
              "    <tr>\n",
              "      <td>24</td>\n",
              "      <td>1</td>\n",
              "      <td>66914.728907</td>\n",
              "      <td>57</td>\n",
              "      <td>среднее</td>\n",
              "      <td>1</td>\n",
              "      <td>Не женат / не замужем</td>\n",
              "      <td>4</td>\n",
              "      <td>F</td>\n",
              "      <td>пенсионер</td>\n",
              "      <td>0</td>\n",
              "      <td>290547.235997</td>\n",
              "      <td>операции с коммерческой недвижимостью</td>\n",
              "    </tr>\n",
              "    <tr>\n",
              "      <td>25</td>\n",
              "      <td>0</td>\n",
              "      <td>66914.728907</td>\n",
              "      <td>67</td>\n",
              "      <td>среднее</td>\n",
              "      <td>1</td>\n",
              "      <td>женат / замужем</td>\n",
              "      <td>0</td>\n",
              "      <td>M</td>\n",
              "      <td>пенсионер</td>\n",
              "      <td>0</td>\n",
              "      <td>55112.757732</td>\n",
              "      <td>покупка недвижимости</td>\n",
              "    </tr>\n",
              "    <tr>\n",
              "      <td>26</td>\n",
              "      <td>0</td>\n",
              "      <td>66914.728907</td>\n",
              "      <td>41</td>\n",
              "      <td>среднее</td>\n",
              "      <td>1</td>\n",
              "      <td>женат / замужем</td>\n",
              "      <td>0</td>\n",
              "      <td>M</td>\n",
              "      <td>госслужащий</td>\n",
              "      <td>0</td>\n",
              "      <td>170898.309923</td>\n",
              "      <td>образование</td>\n",
              "    </tr>\n",
              "    <tr>\n",
              "      <td>27</td>\n",
              "      <td>0</td>\n",
              "      <td>66914.728907</td>\n",
              "      <td>28</td>\n",
              "      <td>высшее</td>\n",
              "      <td>0</td>\n",
              "      <td>женат / замужем</td>\n",
              "      <td>0</td>\n",
              "      <td>M</td>\n",
              "      <td>сотрудник</td>\n",
              "      <td>0</td>\n",
              "      <td>308848.983691</td>\n",
              "      <td>строительство собственной недвижимости</td>\n",
              "    </tr>\n",
              "    <tr>\n",
              "      <td>28</td>\n",
              "      <td>1</td>\n",
              "      <td>66914.728907</td>\n",
              "      <td>26</td>\n",
              "      <td>высшее</td>\n",
              "      <td>0</td>\n",
              "      <td>женат / замужем</td>\n",
              "      <td>0</td>\n",
              "      <td>F</td>\n",
              "      <td>сотрудник</td>\n",
              "      <td>0</td>\n",
              "      <td>187863.237306</td>\n",
              "      <td>строительство собственной недвижимости</td>\n",
              "    </tr>\n",
              "    <tr>\n",
              "      <td>29</td>\n",
              "      <td>0</td>\n",
              "      <td>66914.728907</td>\n",
              "      <td>63</td>\n",
              "      <td>среднее</td>\n",
              "      <td>1</td>\n",
              "      <td>Не женат / не замужем</td>\n",
              "      <td>4</td>\n",
              "      <td>F</td>\n",
              "      <td>пенсионер</td>\n",
              "      <td>0</td>\n",
              "      <td>137127.465690</td>\n",
              "      <td>строительство жилой недвижимости</td>\n",
              "    </tr>\n",
              "  </tbody>\n",
              "</table>\n",
              "</div>"
            ],
            "text/plain": [
              "    children  days_employed  dob_years            education  education_id  \\\n",
              "0          1   66914.728907         42               высшее             0   \n",
              "1          1   66914.728907         36              среднее             1   \n",
              "2          0   66914.728907         33              Среднее             1   \n",
              "3          3   66914.728907         32              среднее             1   \n",
              "4          0   66914.728907         53              среднее             1   \n",
              "5          0   66914.728907         27               высшее             0   \n",
              "6          0   66914.728907         43               высшее             0   \n",
              "7          0   66914.728907         50              СРЕДНЕЕ             1   \n",
              "8          2   66914.728907         35               ВЫСШЕЕ             0   \n",
              "9          0   66914.728907         41              среднее             1   \n",
              "10         2   66914.728907         36               высшее             0   \n",
              "11         0   66914.728907         40              среднее             1   \n",
              "12         0   66914.728907         65              среднее             1   \n",
              "13         0   66914.728907         54  неоконченное высшее             2   \n",
              "14         0   66914.728907         56               высшее             0   \n",
              "15         1   66914.728907         26              среднее             1   \n",
              "16         0   66914.728907         35              среднее             1   \n",
              "17         0   66914.728907         33               высшее             0   \n",
              "18         0   66914.728907         53              среднее             1   \n",
              "19         0   66914.728907         48              СРЕДНЕЕ             1   \n",
              "20         1   66914.728907         36              среднее             1   \n",
              "21         1   66914.728907         33              среднее             1   \n",
              "22         1   66914.728907         24              среднее             1   \n",
              "23         0   66914.728907         21               высшее             0   \n",
              "24         1   66914.728907         57              среднее             1   \n",
              "25         0   66914.728907         67              среднее             1   \n",
              "26         0   66914.728907         41              среднее             1   \n",
              "27         0   66914.728907         28               высшее             0   \n",
              "28         1   66914.728907         26               высшее             0   \n",
              "29         0   66914.728907         63              среднее             1   \n",
              "\n",
              "            family_status  family_status_id gender  income_type  debt  \\\n",
              "0         женат / замужем                 0      F    сотрудник     0   \n",
              "1         женат / замужем                 0      F    сотрудник     0   \n",
              "2         женат / замужем                 0      M    сотрудник     0   \n",
              "3         женат / замужем                 0      M    сотрудник     0   \n",
              "4        гражданский брак                 1      F    пенсионер     0   \n",
              "5        гражданский брак                 1      M    компаньон     0   \n",
              "6         женат / замужем                 0      F    компаньон     0   \n",
              "7         женат / замужем                 0      M    сотрудник     0   \n",
              "8        гражданский брак                 1      F    сотрудник     0   \n",
              "9         женат / замужем                 0      M    сотрудник     0   \n",
              "10        женат / замужем                 0      M    компаньон     0   \n",
              "11        женат / замужем                 0      F    сотрудник     0   \n",
              "12       гражданский брак                 1      M    пенсионер     0   \n",
              "13        женат / замужем                 0      F    сотрудник     0   \n",
              "14       гражданский брак                 1      F    компаньон     1   \n",
              "15        женат / замужем                 0      F    сотрудник     0   \n",
              "16        женат / замужем                 0      F    сотрудник     0   \n",
              "17       гражданский брак                 1      M    сотрудник     0   \n",
              "18         вдовец / вдова                 2      F    пенсионер     0   \n",
              "19              в разводе                 3      F    сотрудник     0   \n",
              "20        женат / замужем                 0      M    сотрудник     0   \n",
              "21       гражданский брак                 1      F    сотрудник     0   \n",
              "22       гражданский брак                 1      F    сотрудник     0   \n",
              "23       гражданский брак                 1      M    сотрудник     0   \n",
              "24  Не женат / не замужем                 4      F    пенсионер     0   \n",
              "25        женат / замужем                 0      M    пенсионер     0   \n",
              "26        женат / замужем                 0      M  госслужащий     0   \n",
              "27        женат / замужем                 0      M    сотрудник     0   \n",
              "28        женат / замужем                 0      F    сотрудник     0   \n",
              "29  Не женат / не замужем                 4      F    пенсионер     0   \n",
              "\n",
              "     total_income                                 purpose  \n",
              "0   253875.639453                           покупка жилья  \n",
              "1   112080.014102                 приобретение автомобиля  \n",
              "2   145885.952297                           покупка жилья  \n",
              "3   267628.550329              дополнительное образование  \n",
              "4   158616.077870                         сыграть свадьбу  \n",
              "5   255763.565419                           покупка жилья  \n",
              "6   240525.971920                       операции с жильем  \n",
              "7   135823.934197                             образование  \n",
              "8    95856.832424                   на проведение свадьбы  \n",
              "9   144425.938277                 покупка жилья для семьи  \n",
              "10  113943.491460                    покупка недвижимости  \n",
              "11   77069.234271       покупка коммерческой недвижимости  \n",
              "12  137127.465690                         сыграть свадьбу  \n",
              "13  130458.228857                 приобретение автомобиля  \n",
              "14  165127.911772              покупка жилой недвижимости  \n",
              "15  116820.904450  строительство собственной недвижимости  \n",
              "16  289202.704229                            недвижимость  \n",
              "17   90410.586745              строительство недвижимости  \n",
              "18   56823.777243      на покупку подержанного автомобиля  \n",
              "19  242831.107982            на покупку своего автомобиля  \n",
              "20  209552.644578                            недвижимость  \n",
              "21  131812.203909                 приобретение автомобиля  \n",
              "22  149681.140731      на покупку подержанного автомобиля  \n",
              "23  128265.720871                         сыграть свадьбу  \n",
              "24  290547.235997   операции с коммерческой недвижимостью  \n",
              "25   55112.757732                    покупка недвижимости  \n",
              "26  170898.309923                             образование  \n",
              "27  308848.983691  строительство собственной недвижимости  \n",
              "28  187863.237306  строительство собственной недвижимости  \n",
              "29  137127.465690        строительство жилой недвижимости  "
            ]
          },
          "execution_count": 12,
          "metadata": {},
          "output_type": "execute_result"
        }
      ],
      "source": [
        "df.head(30)"
      ]
    },
    {
      "cell_type": "code",
      "execution_count": null,
      "metadata": {
        "scrolled": false,
        "id": "J3Rl3e9aCsJS"
      },
      "outputs": [],
      "source": [
        "df['days_employed'] = df['days_employed'].astype('int')"
      ]
    },
    {
      "cell_type": "code",
      "execution_count": null,
      "metadata": {
        "id": "UoEhrsPqCsJT"
      },
      "outputs": [],
      "source": [
        "df['total_income'] = df['total_income'].astype('int')"
      ]
    },
    {
      "cell_type": "code",
      "execution_count": null,
      "metadata": {
        "scrolled": false,
        "id": "HirmdPwMCsJT",
        "outputId": "d0701582-48b3-4e11-8c24-38351879a2f9"
      },
      "outputs": [
        {
          "name": "stdout",
          "output_type": "stream",
          "text": [
            "<class 'pandas.core.frame.DataFrame'>\n",
            "RangeIndex: 21525 entries, 0 to 21524\n",
            "Data columns (total 12 columns):\n",
            "children            21525 non-null int64\n",
            "days_employed       21525 non-null int64\n",
            "dob_years           21525 non-null int64\n",
            "education           21525 non-null object\n",
            "education_id        21525 non-null int64\n",
            "family_status       21525 non-null object\n",
            "family_status_id    21525 non-null int64\n",
            "gender              21525 non-null object\n",
            "income_type         21525 non-null object\n",
            "debt                21525 non-null int64\n",
            "total_income        21525 non-null int64\n",
            "purpose             21525 non-null object\n",
            "dtypes: int64(7), object(5)\n",
            "memory usage: 2.0+ MB\n"
          ]
        },
        {
          "data": {
            "text/plain": [
              "None"
            ]
          },
          "metadata": {},
          "output_type": "display_data"
        }
      ],
      "source": [
        "display(df.info())"
      ]
    },
    {
      "cell_type": "markdown",
      "metadata": {
        "id": "HP_rTRctCsJU"
      },
      "source": [
        "**Вывод**"
      ]
    },
    {
      "cell_type": "markdown",
      "metadata": {
        "id": "WEnZD-ruCsJW"
      },
      "source": [
        "Заменили значения в столбце total_income при помощи собственной функции."
      ]
    },
    {
      "cell_type": "markdown",
      "metadata": {
        "id": "y64RMtO0CsJt"
      },
      "source": [
        "### Обработка дубликатов"
      ]
    },
    {
      "cell_type": "code",
      "execution_count": null,
      "metadata": {
        "id": "ZfpNO-S3CsJy",
        "outputId": "be68dfbf-32bf-41e3-9f57-9054c2f1c090"
      },
      "outputs": [
        {
          "data": {
            "text/plain": [
              "54"
            ]
          },
          "metadata": {},
          "output_type": "display_data"
        }
      ],
      "source": [
        "display(df.duplicated().sum())"
      ]
    },
    {
      "cell_type": "code",
      "execution_count": null,
      "metadata": {
        "id": "jXJe-cR_CsJz"
      },
      "outputs": [],
      "source": [
        "df_duplicated = df[df.duplicated()].head()"
      ]
    },
    {
      "cell_type": "code",
      "execution_count": null,
      "metadata": {
        "id": "nkXA7ZYcCsJz",
        "outputId": "55951408-a796-49b0-d620-c24708ba49a3"
      },
      "outputs": [
        {
          "data": {
            "text/html": [
              "<div>\n",
              "<style scoped>\n",
              "    .dataframe tbody tr th:only-of-type {\n",
              "        vertical-align: middle;\n",
              "    }\n",
              "\n",
              "    .dataframe tbody tr th {\n",
              "        vertical-align: top;\n",
              "    }\n",
              "\n",
              "    .dataframe thead th {\n",
              "        text-align: right;\n",
              "    }\n",
              "</style>\n",
              "<table border=\"1\" class=\"dataframe\">\n",
              "  <thead>\n",
              "    <tr style=\"text-align: right;\">\n",
              "      <th></th>\n",
              "      <th>children</th>\n",
              "      <th>days_employed</th>\n",
              "      <th>dob_years</th>\n",
              "      <th>education</th>\n",
              "      <th>education_id</th>\n",
              "      <th>family_status</th>\n",
              "      <th>family_status_id</th>\n",
              "      <th>gender</th>\n",
              "      <th>income_type</th>\n",
              "      <th>debt</th>\n",
              "      <th>total_income</th>\n",
              "      <th>purpose</th>\n",
              "    </tr>\n",
              "  </thead>\n",
              "  <tbody>\n",
              "    <tr>\n",
              "      <td>2849</td>\n",
              "      <td>0</td>\n",
              "      <td>66914</td>\n",
              "      <td>41</td>\n",
              "      <td>среднее</td>\n",
              "      <td>1</td>\n",
              "      <td>женат / замужем</td>\n",
              "      <td>0</td>\n",
              "      <td>F</td>\n",
              "      <td>сотрудник</td>\n",
              "      <td>0</td>\n",
              "      <td>161380</td>\n",
              "      <td>покупка жилья для семьи</td>\n",
              "    </tr>\n",
              "    <tr>\n",
              "      <td>4182</td>\n",
              "      <td>1</td>\n",
              "      <td>66914</td>\n",
              "      <td>34</td>\n",
              "      <td>ВЫСШЕЕ</td>\n",
              "      <td>0</td>\n",
              "      <td>гражданский брак</td>\n",
              "      <td>1</td>\n",
              "      <td>F</td>\n",
              "      <td>сотрудник</td>\n",
              "      <td>0</td>\n",
              "      <td>161380</td>\n",
              "      <td>свадьба</td>\n",
              "    </tr>\n",
              "    <tr>\n",
              "      <td>4851</td>\n",
              "      <td>0</td>\n",
              "      <td>66914</td>\n",
              "      <td>60</td>\n",
              "      <td>среднее</td>\n",
              "      <td>1</td>\n",
              "      <td>гражданский брак</td>\n",
              "      <td>1</td>\n",
              "      <td>F</td>\n",
              "      <td>пенсионер</td>\n",
              "      <td>0</td>\n",
              "      <td>137127</td>\n",
              "      <td>свадьба</td>\n",
              "    </tr>\n",
              "    <tr>\n",
              "      <td>5557</td>\n",
              "      <td>0</td>\n",
              "      <td>66914</td>\n",
              "      <td>58</td>\n",
              "      <td>среднее</td>\n",
              "      <td>1</td>\n",
              "      <td>гражданский брак</td>\n",
              "      <td>1</td>\n",
              "      <td>F</td>\n",
              "      <td>пенсионер</td>\n",
              "      <td>0</td>\n",
              "      <td>137127</td>\n",
              "      <td>сыграть свадьбу</td>\n",
              "    </tr>\n",
              "    <tr>\n",
              "      <td>7808</td>\n",
              "      <td>0</td>\n",
              "      <td>66914</td>\n",
              "      <td>57</td>\n",
              "      <td>среднее</td>\n",
              "      <td>1</td>\n",
              "      <td>гражданский брак</td>\n",
              "      <td>1</td>\n",
              "      <td>F</td>\n",
              "      <td>пенсионер</td>\n",
              "      <td>0</td>\n",
              "      <td>137127</td>\n",
              "      <td>на проведение свадьбы</td>\n",
              "    </tr>\n",
              "  </tbody>\n",
              "</table>\n",
              "</div>"
            ],
            "text/plain": [
              "      children  days_employed  dob_years education  education_id  \\\n",
              "2849         0          66914         41   среднее             1   \n",
              "4182         1          66914         34    ВЫСШЕЕ             0   \n",
              "4851         0          66914         60   среднее             1   \n",
              "5557         0          66914         58   среднее             1   \n",
              "7808         0          66914         57   среднее             1   \n",
              "\n",
              "         family_status  family_status_id gender income_type  debt  \\\n",
              "2849   женат / замужем                 0      F   сотрудник     0   \n",
              "4182  гражданский брак                 1      F   сотрудник     0   \n",
              "4851  гражданский брак                 1      F   пенсионер     0   \n",
              "5557  гражданский брак                 1      F   пенсионер     0   \n",
              "7808  гражданский брак                 1      F   пенсионер     0   \n",
              "\n",
              "      total_income                  purpose  \n",
              "2849        161380  покупка жилья для семьи  \n",
              "4182        161380                  свадьба  \n",
              "4851        137127                  свадьба  \n",
              "5557        137127          сыграть свадьбу  \n",
              "7808        137127    на проведение свадьбы  "
            ]
          },
          "metadata": {},
          "output_type": "display_data"
        }
      ],
      "source": [
        "display(df_duplicated)"
      ]
    },
    {
      "cell_type": "code",
      "execution_count": null,
      "metadata": {
        "id": "MvWuaq3iCsJ0"
      },
      "outputs": [],
      "source": [
        "df = df.drop_duplicates().reset_index(drop=True)"
      ]
    },
    {
      "cell_type": "code",
      "execution_count": null,
      "metadata": {
        "id": "3Qd1ZhvSCsJ1",
        "outputId": "22b30a20-b22c-427c-f637-be1addc158ff"
      },
      "outputs": [
        {
          "data": {
            "text/html": [
              "<div>\n",
              "<style scoped>\n",
              "    .dataframe tbody tr th:only-of-type {\n",
              "        vertical-align: middle;\n",
              "    }\n",
              "\n",
              "    .dataframe tbody tr th {\n",
              "        vertical-align: top;\n",
              "    }\n",
              "\n",
              "    .dataframe thead th {\n",
              "        text-align: right;\n",
              "    }\n",
              "</style>\n",
              "<table border=\"1\" class=\"dataframe\">\n",
              "  <thead>\n",
              "    <tr style=\"text-align: right;\">\n",
              "      <th></th>\n",
              "      <th>children</th>\n",
              "      <th>days_employed</th>\n",
              "      <th>dob_years</th>\n",
              "      <th>education</th>\n",
              "      <th>education_id</th>\n",
              "      <th>family_status</th>\n",
              "      <th>family_status_id</th>\n",
              "      <th>gender</th>\n",
              "      <th>income_type</th>\n",
              "      <th>debt</th>\n",
              "      <th>total_income</th>\n",
              "      <th>purpose</th>\n",
              "    </tr>\n",
              "  </thead>\n",
              "  <tbody>\n",
              "    <tr>\n",
              "      <td>0</td>\n",
              "      <td>1</td>\n",
              "      <td>66914</td>\n",
              "      <td>42</td>\n",
              "      <td>высшее</td>\n",
              "      <td>0</td>\n",
              "      <td>женат / замужем</td>\n",
              "      <td>0</td>\n",
              "      <td>F</td>\n",
              "      <td>сотрудник</td>\n",
              "      <td>0</td>\n",
              "      <td>253875</td>\n",
              "      <td>покупка жилья</td>\n",
              "    </tr>\n",
              "    <tr>\n",
              "      <td>1</td>\n",
              "      <td>1</td>\n",
              "      <td>66914</td>\n",
              "      <td>36</td>\n",
              "      <td>среднее</td>\n",
              "      <td>1</td>\n",
              "      <td>женат / замужем</td>\n",
              "      <td>0</td>\n",
              "      <td>F</td>\n",
              "      <td>сотрудник</td>\n",
              "      <td>0</td>\n",
              "      <td>112080</td>\n",
              "      <td>приобретение автомобиля</td>\n",
              "    </tr>\n",
              "    <tr>\n",
              "      <td>2</td>\n",
              "      <td>0</td>\n",
              "      <td>66914</td>\n",
              "      <td>33</td>\n",
              "      <td>Среднее</td>\n",
              "      <td>1</td>\n",
              "      <td>женат / замужем</td>\n",
              "      <td>0</td>\n",
              "      <td>M</td>\n",
              "      <td>сотрудник</td>\n",
              "      <td>0</td>\n",
              "      <td>145885</td>\n",
              "      <td>покупка жилья</td>\n",
              "    </tr>\n",
              "    <tr>\n",
              "      <td>3</td>\n",
              "      <td>3</td>\n",
              "      <td>66914</td>\n",
              "      <td>32</td>\n",
              "      <td>среднее</td>\n",
              "      <td>1</td>\n",
              "      <td>женат / замужем</td>\n",
              "      <td>0</td>\n",
              "      <td>M</td>\n",
              "      <td>сотрудник</td>\n",
              "      <td>0</td>\n",
              "      <td>267628</td>\n",
              "      <td>дополнительное образование</td>\n",
              "    </tr>\n",
              "    <tr>\n",
              "      <td>4</td>\n",
              "      <td>0</td>\n",
              "      <td>66914</td>\n",
              "      <td>53</td>\n",
              "      <td>среднее</td>\n",
              "      <td>1</td>\n",
              "      <td>гражданский брак</td>\n",
              "      <td>1</td>\n",
              "      <td>F</td>\n",
              "      <td>пенсионер</td>\n",
              "      <td>0</td>\n",
              "      <td>158616</td>\n",
              "      <td>сыграть свадьбу</td>\n",
              "    </tr>\n",
              "    <tr>\n",
              "      <td>5</td>\n",
              "      <td>0</td>\n",
              "      <td>66914</td>\n",
              "      <td>27</td>\n",
              "      <td>высшее</td>\n",
              "      <td>0</td>\n",
              "      <td>гражданский брак</td>\n",
              "      <td>1</td>\n",
              "      <td>M</td>\n",
              "      <td>компаньон</td>\n",
              "      <td>0</td>\n",
              "      <td>255763</td>\n",
              "      <td>покупка жилья</td>\n",
              "    </tr>\n",
              "    <tr>\n",
              "      <td>6</td>\n",
              "      <td>0</td>\n",
              "      <td>66914</td>\n",
              "      <td>43</td>\n",
              "      <td>высшее</td>\n",
              "      <td>0</td>\n",
              "      <td>женат / замужем</td>\n",
              "      <td>0</td>\n",
              "      <td>F</td>\n",
              "      <td>компаньон</td>\n",
              "      <td>0</td>\n",
              "      <td>240525</td>\n",
              "      <td>операции с жильем</td>\n",
              "    </tr>\n",
              "    <tr>\n",
              "      <td>7</td>\n",
              "      <td>0</td>\n",
              "      <td>66914</td>\n",
              "      <td>50</td>\n",
              "      <td>СРЕДНЕЕ</td>\n",
              "      <td>1</td>\n",
              "      <td>женат / замужем</td>\n",
              "      <td>0</td>\n",
              "      <td>M</td>\n",
              "      <td>сотрудник</td>\n",
              "      <td>0</td>\n",
              "      <td>135823</td>\n",
              "      <td>образование</td>\n",
              "    </tr>\n",
              "    <tr>\n",
              "      <td>8</td>\n",
              "      <td>2</td>\n",
              "      <td>66914</td>\n",
              "      <td>35</td>\n",
              "      <td>ВЫСШЕЕ</td>\n",
              "      <td>0</td>\n",
              "      <td>гражданский брак</td>\n",
              "      <td>1</td>\n",
              "      <td>F</td>\n",
              "      <td>сотрудник</td>\n",
              "      <td>0</td>\n",
              "      <td>95856</td>\n",
              "      <td>на проведение свадьбы</td>\n",
              "    </tr>\n",
              "    <tr>\n",
              "      <td>9</td>\n",
              "      <td>0</td>\n",
              "      <td>66914</td>\n",
              "      <td>41</td>\n",
              "      <td>среднее</td>\n",
              "      <td>1</td>\n",
              "      <td>женат / замужем</td>\n",
              "      <td>0</td>\n",
              "      <td>M</td>\n",
              "      <td>сотрудник</td>\n",
              "      <td>0</td>\n",
              "      <td>144425</td>\n",
              "      <td>покупка жилья для семьи</td>\n",
              "    </tr>\n",
              "  </tbody>\n",
              "</table>\n",
              "</div>"
            ],
            "text/plain": [
              "   children  days_employed  dob_years education  education_id  \\\n",
              "0         1          66914         42    высшее             0   \n",
              "1         1          66914         36   среднее             1   \n",
              "2         0          66914         33   Среднее             1   \n",
              "3         3          66914         32   среднее             1   \n",
              "4         0          66914         53   среднее             1   \n",
              "5         0          66914         27    высшее             0   \n",
              "6         0          66914         43    высшее             0   \n",
              "7         0          66914         50   СРЕДНЕЕ             1   \n",
              "8         2          66914         35    ВЫСШЕЕ             0   \n",
              "9         0          66914         41   среднее             1   \n",
              "\n",
              "      family_status  family_status_id gender income_type  debt  total_income  \\\n",
              "0   женат / замужем                 0      F   сотрудник     0        253875   \n",
              "1   женат / замужем                 0      F   сотрудник     0        112080   \n",
              "2   женат / замужем                 0      M   сотрудник     0        145885   \n",
              "3   женат / замужем                 0      M   сотрудник     0        267628   \n",
              "4  гражданский брак                 1      F   пенсионер     0        158616   \n",
              "5  гражданский брак                 1      M   компаньон     0        255763   \n",
              "6   женат / замужем                 0      F   компаньон     0        240525   \n",
              "7   женат / замужем                 0      M   сотрудник     0        135823   \n",
              "8  гражданский брак                 1      F   сотрудник     0         95856   \n",
              "9   женат / замужем                 0      M   сотрудник     0        144425   \n",
              "\n",
              "                      purpose  \n",
              "0               покупка жилья  \n",
              "1     приобретение автомобиля  \n",
              "2               покупка жилья  \n",
              "3  дополнительное образование  \n",
              "4             сыграть свадьбу  \n",
              "5               покупка жилья  \n",
              "6           операции с жильем  \n",
              "7                 образование  \n",
              "8       на проведение свадьбы  \n",
              "9     покупка жилья для семьи  "
            ]
          },
          "metadata": {},
          "output_type": "display_data"
        }
      ],
      "source": [
        "display(df.head(10))"
      ]
    },
    {
      "cell_type": "markdown",
      "metadata": {
        "id": "zCcIfrPaCsJ2"
      },
      "source": [
        "Нашли дубликаты при помощи метода .duplicated() и посчитали количество дубликатов при помощи функции .sum(), удалили дубликаты с помощью метода drop_duplicates() А методом .reset_index(drop=True) воспользовались, чтобы не создавать столбец с перезаписанными индексами.\n",
        "А также нашли все уникальные значения в столбце \"образование\" при помощи метода .value_counts(). Перезапишем все дубликаты столбца 'образование' в нижнем регистре. Дубликаты могли возникнуть из-за человеческого фактора, например, когда заносили данные в таблицу, отвлеклись, и дважды записали одного и того же человека:)"
      ]
    },
    {
      "cell_type": "code",
      "execution_count": null,
      "metadata": {
        "id": "VMmTEjshCsJ2"
      },
      "outputs": [],
      "source": [
        "df['education'] = df['education'].str.lower()"
      ]
    },
    {
      "cell_type": "code",
      "execution_count": null,
      "metadata": {
        "id": "hODQAHkaCsJ3",
        "outputId": "c28b23d9-36b5-47ef-96b6-0662dfa4a51e"
      },
      "outputs": [
        {
          "data": {
            "text/plain": [
              "среднее                15188\n",
              "высшее                  5251\n",
              "неоконченное высшее      744\n",
              "начальное                282\n",
              "ученая степень             6\n",
              "Name: education, dtype: int64"
            ]
          },
          "execution_count": 22,
          "metadata": {},
          "output_type": "execute_result"
        }
      ],
      "source": [
        "df['education'].value_counts()"
      ]
    },
    {
      "cell_type": "code",
      "execution_count": null,
      "metadata": {
        "id": "Mgo7_GzUCsJ3"
      },
      "outputs": [],
      "source": [
        "df['family_status'] = df['family_status'].str.lower()"
      ]
    },
    {
      "cell_type": "markdown",
      "metadata": {
        "id": "P0Yu23g3CsJ4"
      },
      "source": [
        "Перезаписали дубликаты в нижнем регистре с помощью метода str.lower() и убедились в этом, при помощи value_counts()."
      ]
    },
    {
      "cell_type": "code",
      "execution_count": null,
      "metadata": {
        "id": "oQM4ikIkCsJ4",
        "outputId": "d7d88828-844e-4451-f535-d5acf3ffdcb3"
      },
      "outputs": [
        {
          "data": {
            "text/html": [
              "<div>\n",
              "<style scoped>\n",
              "    .dataframe tbody tr th:only-of-type {\n",
              "        vertical-align: middle;\n",
              "    }\n",
              "\n",
              "    .dataframe tbody tr th {\n",
              "        vertical-align: top;\n",
              "    }\n",
              "\n",
              "    .dataframe thead th {\n",
              "        text-align: right;\n",
              "    }\n",
              "</style>\n",
              "<table border=\"1\" class=\"dataframe\">\n",
              "  <thead>\n",
              "    <tr style=\"text-align: right;\">\n",
              "      <th></th>\n",
              "      <th>children</th>\n",
              "      <th>days_employed</th>\n",
              "      <th>dob_years</th>\n",
              "      <th>education</th>\n",
              "      <th>education_id</th>\n",
              "      <th>family_status</th>\n",
              "      <th>family_status_id</th>\n",
              "      <th>gender</th>\n",
              "      <th>income_type</th>\n",
              "      <th>debt</th>\n",
              "      <th>total_income</th>\n",
              "      <th>purpose</th>\n",
              "    </tr>\n",
              "  </thead>\n",
              "  <tbody>\n",
              "    <tr>\n",
              "      <td>0</td>\n",
              "      <td>1</td>\n",
              "      <td>66914</td>\n",
              "      <td>42</td>\n",
              "      <td>высшее</td>\n",
              "      <td>0</td>\n",
              "      <td>женат / замужем</td>\n",
              "      <td>0</td>\n",
              "      <td>F</td>\n",
              "      <td>сотрудник</td>\n",
              "      <td>0</td>\n",
              "      <td>253875</td>\n",
              "      <td>покупка жилья</td>\n",
              "    </tr>\n",
              "    <tr>\n",
              "      <td>1</td>\n",
              "      <td>1</td>\n",
              "      <td>66914</td>\n",
              "      <td>36</td>\n",
              "      <td>среднее</td>\n",
              "      <td>1</td>\n",
              "      <td>женат / замужем</td>\n",
              "      <td>0</td>\n",
              "      <td>F</td>\n",
              "      <td>сотрудник</td>\n",
              "      <td>0</td>\n",
              "      <td>112080</td>\n",
              "      <td>приобретение автомобиля</td>\n",
              "    </tr>\n",
              "    <tr>\n",
              "      <td>2</td>\n",
              "      <td>0</td>\n",
              "      <td>66914</td>\n",
              "      <td>33</td>\n",
              "      <td>среднее</td>\n",
              "      <td>1</td>\n",
              "      <td>женат / замужем</td>\n",
              "      <td>0</td>\n",
              "      <td>M</td>\n",
              "      <td>сотрудник</td>\n",
              "      <td>0</td>\n",
              "      <td>145885</td>\n",
              "      <td>покупка жилья</td>\n",
              "    </tr>\n",
              "    <tr>\n",
              "      <td>3</td>\n",
              "      <td>3</td>\n",
              "      <td>66914</td>\n",
              "      <td>32</td>\n",
              "      <td>среднее</td>\n",
              "      <td>1</td>\n",
              "      <td>женат / замужем</td>\n",
              "      <td>0</td>\n",
              "      <td>M</td>\n",
              "      <td>сотрудник</td>\n",
              "      <td>0</td>\n",
              "      <td>267628</td>\n",
              "      <td>дополнительное образование</td>\n",
              "    </tr>\n",
              "    <tr>\n",
              "      <td>4</td>\n",
              "      <td>0</td>\n",
              "      <td>66914</td>\n",
              "      <td>53</td>\n",
              "      <td>среднее</td>\n",
              "      <td>1</td>\n",
              "      <td>гражданский брак</td>\n",
              "      <td>1</td>\n",
              "      <td>F</td>\n",
              "      <td>пенсионер</td>\n",
              "      <td>0</td>\n",
              "      <td>158616</td>\n",
              "      <td>сыграть свадьбу</td>\n",
              "    </tr>\n",
              "  </tbody>\n",
              "</table>\n",
              "</div>"
            ],
            "text/plain": [
              "   children  days_employed  dob_years education  education_id  \\\n",
              "0         1          66914         42    высшее             0   \n",
              "1         1          66914         36   среднее             1   \n",
              "2         0          66914         33   среднее             1   \n",
              "3         3          66914         32   среднее             1   \n",
              "4         0          66914         53   среднее             1   \n",
              "\n",
              "      family_status  family_status_id gender income_type  debt  total_income  \\\n",
              "0   женат / замужем                 0      F   сотрудник     0        253875   \n",
              "1   женат / замужем                 0      F   сотрудник     0        112080   \n",
              "2   женат / замужем                 0      M   сотрудник     0        145885   \n",
              "3   женат / замужем                 0      M   сотрудник     0        267628   \n",
              "4  гражданский брак                 1      F   пенсионер     0        158616   \n",
              "\n",
              "                      purpose  \n",
              "0               покупка жилья  \n",
              "1     приобретение автомобиля  \n",
              "2               покупка жилья  \n",
              "3  дополнительное образование  \n",
              "4             сыграть свадьбу  "
            ]
          },
          "execution_count": 24,
          "metadata": {},
          "output_type": "execute_result"
        }
      ],
      "source": [
        "df.head()"
      ]
    },
    {
      "cell_type": "markdown",
      "metadata": {
        "id": "0tRFLn0FCsJ5"
      },
      "source": [
        "**Вывод**"
      ]
    },
    {
      "cell_type": "markdown",
      "metadata": {
        "id": "tknYM0VnCsJ5"
      },
      "source": [
        "Пропущенные значения в столбцах скорее носят случайный характер."
      ]
    },
    {
      "cell_type": "code",
      "execution_count": null,
      "metadata": {
        "scrolled": false,
        "id": "hIzhpu4iCsJ5"
      },
      "outputs": [],
      "source": [
        "df['days_employed'] = df['days_employed'].astype('int')"
      ]
    },
    {
      "cell_type": "code",
      "execution_count": null,
      "metadata": {
        "id": "01l0nIfWCsJ6"
      },
      "outputs": [],
      "source": [
        "df['total_income'] = df['total_income'].astype('int')"
      ]
    },
    {
      "cell_type": "code",
      "execution_count": null,
      "metadata": {
        "id": "wHApDKZDCsJ6",
        "outputId": "c3ccac95-14e7-4282-a03f-da7873383dfd"
      },
      "outputs": [
        {
          "name": "stdout",
          "output_type": "stream",
          "text": [
            "<class 'pandas.core.frame.DataFrame'>\n",
            "RangeIndex: 21471 entries, 0 to 21470\n",
            "Data columns (total 12 columns):\n",
            "children            21471 non-null int64\n",
            "days_employed       21471 non-null int64\n",
            "dob_years           21471 non-null int64\n",
            "education           21471 non-null object\n",
            "education_id        21471 non-null int64\n",
            "family_status       21471 non-null object\n",
            "family_status_id    21471 non-null int64\n",
            "gender              21471 non-null object\n",
            "income_type         21471 non-null object\n",
            "debt                21471 non-null int64\n",
            "total_income        21471 non-null int64\n",
            "purpose             21471 non-null object\n",
            "dtypes: int64(7), object(5)\n",
            "memory usage: 2.0+ MB\n"
          ]
        },
        {
          "data": {
            "text/plain": [
              "None"
            ]
          },
          "metadata": {},
          "output_type": "display_data"
        }
      ],
      "source": [
        "display(df.info())"
      ]
    },
    {
      "cell_type": "markdown",
      "metadata": {
        "id": "m8cseaKVCsJ7"
      },
      "source": [
        "Заменили вещественный тип данных на целочисленный методом .astype('int') с аргументом int."
      ]
    },
    {
      "cell_type": "markdown",
      "metadata": {
        "id": "6oZ3BqTnCsJ8"
      },
      "source": [
        "### Лемматизация"
      ]
    },
    {
      "cell_type": "code",
      "execution_count": null,
      "metadata": {
        "id": "mLZDOlDiCsJ9"
      },
      "outputs": [],
      "source": [
        "from pymystem3 import Mystem"
      ]
    },
    {
      "cell_type": "code",
      "execution_count": null,
      "metadata": {
        "id": "Fz9v-2urCsJ9"
      },
      "outputs": [],
      "source": [
        "m = Mystem()"
      ]
    },
    {
      "cell_type": "code",
      "execution_count": null,
      "metadata": {
        "scrolled": true,
        "id": "eQqT_zGyCsJ-"
      },
      "outputs": [],
      "source": [
        "def lemm_purpose(column):\n",
        "    lemmas = m.lemmatize(column)\n",
        "    return lemmas"
      ]
    },
    {
      "cell_type": "code",
      "execution_count": null,
      "metadata": {
        "id": "vwjnzXZXCsKB"
      },
      "outputs": [],
      "source": [
        "df['purpose_lemm'] = df['purpose'].apply(lemm_purpose)"
      ]
    },
    {
      "cell_type": "code",
      "execution_count": null,
      "metadata": {
        "id": "ThhKnBHTCsKC",
        "outputId": "7d067b00-2c0e-41f4-af55-5e45d10c92ac"
      },
      "outputs": [
        {
          "data": {
            "text/html": [
              "<div>\n",
              "<style scoped>\n",
              "    .dataframe tbody tr th:only-of-type {\n",
              "        vertical-align: middle;\n",
              "    }\n",
              "\n",
              "    .dataframe tbody tr th {\n",
              "        vertical-align: top;\n",
              "    }\n",
              "\n",
              "    .dataframe thead th {\n",
              "        text-align: right;\n",
              "    }\n",
              "</style>\n",
              "<table border=\"1\" class=\"dataframe\">\n",
              "  <thead>\n",
              "    <tr style=\"text-align: right;\">\n",
              "      <th></th>\n",
              "      <th>children</th>\n",
              "      <th>days_employed</th>\n",
              "      <th>dob_years</th>\n",
              "      <th>education</th>\n",
              "      <th>education_id</th>\n",
              "      <th>family_status</th>\n",
              "      <th>family_status_id</th>\n",
              "      <th>gender</th>\n",
              "      <th>income_type</th>\n",
              "      <th>debt</th>\n",
              "      <th>total_income</th>\n",
              "      <th>purpose</th>\n",
              "      <th>purpose_lemm</th>\n",
              "    </tr>\n",
              "  </thead>\n",
              "  <tbody>\n",
              "    <tr>\n",
              "      <td>0</td>\n",
              "      <td>1</td>\n",
              "      <td>66914</td>\n",
              "      <td>42</td>\n",
              "      <td>высшее</td>\n",
              "      <td>0</td>\n",
              "      <td>женат / замужем</td>\n",
              "      <td>0</td>\n",
              "      <td>F</td>\n",
              "      <td>сотрудник</td>\n",
              "      <td>0</td>\n",
              "      <td>253875</td>\n",
              "      <td>покупка жилья</td>\n",
              "      <td>[покупка,  , жилье, \\n]</td>\n",
              "    </tr>\n",
              "    <tr>\n",
              "      <td>1</td>\n",
              "      <td>1</td>\n",
              "      <td>66914</td>\n",
              "      <td>36</td>\n",
              "      <td>среднее</td>\n",
              "      <td>1</td>\n",
              "      <td>женат / замужем</td>\n",
              "      <td>0</td>\n",
              "      <td>F</td>\n",
              "      <td>сотрудник</td>\n",
              "      <td>0</td>\n",
              "      <td>112080</td>\n",
              "      <td>приобретение автомобиля</td>\n",
              "      <td>[приобретение,  , автомобиль, \\n]</td>\n",
              "    </tr>\n",
              "    <tr>\n",
              "      <td>2</td>\n",
              "      <td>0</td>\n",
              "      <td>66914</td>\n",
              "      <td>33</td>\n",
              "      <td>среднее</td>\n",
              "      <td>1</td>\n",
              "      <td>женат / замужем</td>\n",
              "      <td>0</td>\n",
              "      <td>M</td>\n",
              "      <td>сотрудник</td>\n",
              "      <td>0</td>\n",
              "      <td>145885</td>\n",
              "      <td>покупка жилья</td>\n",
              "      <td>[покупка,  , жилье, \\n]</td>\n",
              "    </tr>\n",
              "    <tr>\n",
              "      <td>3</td>\n",
              "      <td>3</td>\n",
              "      <td>66914</td>\n",
              "      <td>32</td>\n",
              "      <td>среднее</td>\n",
              "      <td>1</td>\n",
              "      <td>женат / замужем</td>\n",
              "      <td>0</td>\n",
              "      <td>M</td>\n",
              "      <td>сотрудник</td>\n",
              "      <td>0</td>\n",
              "      <td>267628</td>\n",
              "      <td>дополнительное образование</td>\n",
              "      <td>[дополнительный,  , образование, \\n]</td>\n",
              "    </tr>\n",
              "    <tr>\n",
              "      <td>4</td>\n",
              "      <td>0</td>\n",
              "      <td>66914</td>\n",
              "      <td>53</td>\n",
              "      <td>среднее</td>\n",
              "      <td>1</td>\n",
              "      <td>гражданский брак</td>\n",
              "      <td>1</td>\n",
              "      <td>F</td>\n",
              "      <td>пенсионер</td>\n",
              "      <td>0</td>\n",
              "      <td>158616</td>\n",
              "      <td>сыграть свадьбу</td>\n",
              "      <td>[сыграть,  , свадьба, \\n]</td>\n",
              "    </tr>\n",
              "  </tbody>\n",
              "</table>\n",
              "</div>"
            ],
            "text/plain": [
              "   children  days_employed  dob_years education  education_id  \\\n",
              "0         1          66914         42    высшее             0   \n",
              "1         1          66914         36   среднее             1   \n",
              "2         0          66914         33   среднее             1   \n",
              "3         3          66914         32   среднее             1   \n",
              "4         0          66914         53   среднее             1   \n",
              "\n",
              "      family_status  family_status_id gender income_type  debt  total_income  \\\n",
              "0   женат / замужем                 0      F   сотрудник     0        253875   \n",
              "1   женат / замужем                 0      F   сотрудник     0        112080   \n",
              "2   женат / замужем                 0      M   сотрудник     0        145885   \n",
              "3   женат / замужем                 0      M   сотрудник     0        267628   \n",
              "4  гражданский брак                 1      F   пенсионер     0        158616   \n",
              "\n",
              "                      purpose                          purpose_lemm  \n",
              "0               покупка жилья               [покупка,  , жилье, \\n]  \n",
              "1     приобретение автомобиля     [приобретение,  , автомобиль, \\n]  \n",
              "2               покупка жилья               [покупка,  , жилье, \\n]  \n",
              "3  дополнительное образование  [дополнительный,  , образование, \\n]  \n",
              "4             сыграть свадьбу             [сыграть,  , свадьба, \\n]  "
            ]
          },
          "metadata": {},
          "output_type": "display_data"
        }
      ],
      "source": [
        "df.head()"
      ]
    },
    {
      "cell_type": "code",
      "execution_count": null,
      "metadata": {
        "id": "Y3WbOXXvCsKC"
      },
      "outputs": [],
      "source": [
        "counter_lemmas = []"
      ]
    },
    {
      "cell_type": "code",
      "execution_count": null,
      "metadata": {
        "id": "oKrG79q3CsKD"
      },
      "outputs": [],
      "source": [
        "from collections import Counter\n",
        "for i in range(len(df['purpose_lemm'])):\n",
        "    counter_lemmas.extend(df['purpose_lemm'][i])"
      ]
    },
    {
      "cell_type": "code",
      "execution_count": null,
      "metadata": {
        "id": "HoxtNy-aCsKD",
        "outputId": "212238f3-f0e0-4bac-b0d3-e96cc4eaa75e"
      },
      "outputs": [
        {
          "data": {
            "text/plain": [
              "Counter({'покупка': 5900,\n",
              "         ' ': 33596,\n",
              "         'жилье': 4461,\n",
              "         '\\n': 21471,\n",
              "         'приобретение': 461,\n",
              "         'автомобиль': 4308,\n",
              "         'дополнительный': 907,\n",
              "         'образование': 4014,\n",
              "         'сыграть': 769,\n",
              "         'свадьба': 2335,\n",
              "         'операция': 2604,\n",
              "         'с': 2918,\n",
              "         'на': 2228,\n",
              "         'проведение': 773,\n",
              "         'для': 1290,\n",
              "         'семья': 638,\n",
              "         'недвижимость': 6353,\n",
              "         'коммерческий': 1312,\n",
              "         'жилой': 1231,\n",
              "         'строительство': 1879,\n",
              "         'собственный': 635,\n",
              "         'подержать': 478,\n",
              "         'свой': 2231,\n",
              "         'со': 627,\n",
              "         'заниматься': 904,\n",
              "         'сделка': 941,\n",
              "         'подержанный': 486,\n",
              "         'получение': 1315,\n",
              "         'высокий': 1374,\n",
              "         'профильный': 436,\n",
              "         'сдача': 652,\n",
              "         'ремонт': 607})"
            ]
          },
          "metadata": {},
          "output_type": "display_data"
        }
      ],
      "source": [
        "display(Counter(counter_lemmas))"
      ]
    },
    {
      "cell_type": "markdown",
      "metadata": {
        "id": "LIEqA6UXCsKE"
      },
      "source": [
        "**Вывод**"
      ]
    },
    {
      "cell_type": "markdown",
      "metadata": {
        "id": "9LvcZmdWCsKE"
      },
      "source": [
        "Первым делом импортируем библиотеку pymystem3, затем создаем собственную функцию, чтобы пройтись по всем строкам столбца purpose. И выводим на экран наши леммы. Затем вызываем контейнер Counter для подсчета лемматизированных слов."
      ]
    },
    {
      "cell_type": "markdown",
      "metadata": {
        "id": "InnSRsidCsKE"
      },
      "source": [
        "### Категоризация данных"
      ]
    },
    {
      "cell_type": "markdown",
      "metadata": {
        "id": "Ta36Ee8NCsKF"
      },
      "source": [
        "Категоризация по целям кредита:"
      ]
    },
    {
      "cell_type": "code",
      "execution_count": null,
      "metadata": {
        "id": "wBTAA22UCsKF"
      },
      "outputs": [],
      "source": [
        "def purpose_category(purpose_lemm):\n",
        "    if (('жилье' in purpose_lemm) or ('недвижимость' in purpose_lemm)) and ('строительство' not in purpose_lemm):\n",
        "        return 'покупка недвижимости'\n",
        "    if (('жилье' in purpose_lemm) or ('недвижимость' in purpose_lemm)) and ('строительство' in purpose_lemm):\n",
        "        return 'строительство недвижимости'\n",
        "    if 'автомобиль' in purpose_lemm:\n",
        "        return 'покупка автомобиля'\n",
        "    if 'образование' in purpose_lemm:\n",
        "        return 'образование'\n",
        "    if 'свадьба' in purpose_lemm:\n",
        "        return 'свадьба'\n",
        "    return purpose_lemm"
      ]
    },
    {
      "cell_type": "code",
      "execution_count": null,
      "metadata": {
        "id": "sd6BMQJ-CsKG"
      },
      "outputs": [],
      "source": [
        "df['purpose_category'] = df['purpose_lemm'].apply(purpose_category)"
      ]
    },
    {
      "cell_type": "code",
      "execution_count": null,
      "metadata": {
        "id": "htfk634PCsKG",
        "outputId": "578e4496-eb2d-4d80-f1a6-2f6ca8f548fc"
      },
      "outputs": [
        {
          "data": {
            "text/plain": [
              "покупка недвижимости          8935\n",
              "покупка автомобиля            4308\n",
              "образование                   4014\n",
              "свадьба                       2335\n",
              "строительство недвижимости    1879\n",
              "Name: purpose_category, dtype: int64"
            ]
          },
          "execution_count": 38,
          "metadata": {},
          "output_type": "execute_result"
        }
      ],
      "source": [
        "df['purpose_category'].value_counts()"
      ]
    },
    {
      "cell_type": "markdown",
      "metadata": {
        "id": "moMdmYSwCsKH"
      },
      "source": [
        "Определила цели для кредита и нашла их количество. Видно, что больше всего кредитов берут на покупку недвижимости.\n",
        "Сделаем категоризация по семейному положению."
      ]
    },
    {
      "cell_type": "code",
      "execution_count": null,
      "metadata": {
        "id": "NIJKiOveCsKH"
      },
      "outputs": [],
      "source": [
        "def family_status_group(row):\n",
        "    family_status = row\n",
        "    if 'женат / замужем' in family_status:\n",
        "        return ('женат / замужем')\n",
        "    if ('не женат / не замужем' in family_status):\n",
        "        return ('не женат / не замужем')\n",
        "    if ('гражданский брак' in family_status):\n",
        "        return 'гражданский брак'\n",
        "    if ('вдовец / вдова' in family_status):\n",
        "        return 'вдовец / вдова'\n",
        "    if ('в разводе' in family_status):\n",
        "        return 'в разводе'"
      ]
    },
    {
      "cell_type": "code",
      "execution_count": null,
      "metadata": {
        "id": "Ij1JBQwSCsKI"
      },
      "outputs": [],
      "source": [
        "df['family_status_group'] = df['family_status'].apply(family_status_group)"
      ]
    },
    {
      "cell_type": "code",
      "execution_count": null,
      "metadata": {
        "scrolled": false,
        "id": "rkLPIuQ6CsKI",
        "outputId": "b0089297-80d9-475b-b46a-41915b7c0c1c"
      },
      "outputs": [
        {
          "data": {
            "text/plain": [
              "женат / замужем          12344\n",
              "гражданский брак          4163\n",
              "не женат / не замужем     2810\n",
              "в разводе                 1195\n",
              "вдовец / вдова             959\n",
              "Name: family_status_group, dtype: int64"
            ]
          },
          "execution_count": 41,
          "metadata": {},
          "output_type": "execute_result"
        }
      ],
      "source": [
        "df['family_status_group'].value_counts()"
      ]
    },
    {
      "cell_type": "markdown",
      "metadata": {
        "id": "AIK-8qV9CsKJ"
      },
      "source": [
        "<div class=\"alert alert-info\">\n",
        "Видим, что людей, у которых есть семья больше, чем всех остальных категорий."
      ]
    },
    {
      "cell_type": "code",
      "execution_count": null,
      "metadata": {
        "id": "zzB7mZB2CsKK"
      },
      "outputs": [],
      "source": [
        "def children_category(row):\n",
        "    children = row\n",
        "    if children == 0:\n",
        "        return 'нет детей'\n",
        "    if children == 1:\n",
        "        return 'один ребенок'\n",
        "    if children == 2:\n",
        "        return 'два ребенка'\n",
        "    if children >= 3:\n",
        "        return 'многодетная семья'"
      ]
    },
    {
      "cell_type": "code",
      "execution_count": null,
      "metadata": {
        "id": "PrBMSBH0CsKL"
      },
      "outputs": [],
      "source": [
        "df['children_category'] = df['children'].apply(children_category)"
      ]
    },
    {
      "cell_type": "code",
      "execution_count": null,
      "metadata": {
        "id": "xGexD-asCsKL",
        "outputId": "1b652270-f2f7-4eaf-c168-99eeda7c6d21"
      },
      "outputs": [
        {
          "data": {
            "text/plain": [
              "нет детей            14107\n",
              "один ребенок          4809\n",
              "два ребенка           2052\n",
              "многодетная семья      456\n",
              "Name: children_category, dtype: int64"
            ]
          },
          "execution_count": 44,
          "metadata": {},
          "output_type": "execute_result"
        }
      ],
      "source": [
        "df['children_category'].value_counts()"
      ]
    },
    {
      "cell_type": "markdown",
      "metadata": {
        "id": "bBg7-oBoCsKM"
      },
      "source": [
        "<div class=\"alert alert-info\">\n",
        "У большинства людей, обратившихся в банк за кредитом, нет детей"
      ]
    },
    {
      "cell_type": "code",
      "execution_count": null,
      "metadata": {
        "scrolled": false,
        "id": "hRMwZ829CsKN",
        "outputId": "920a519d-3977-4ff8-bd83-682d27db5baf"
      },
      "outputs": [
        {
          "data": {
            "text/plain": [
              "0          (176786.0, 2265604.0]\n",
              "1        (20666.999, 122875.667]\n",
              "2         (122875.667, 176786.0]\n",
              "3          (176786.0, 2265604.0]\n",
              "4         (122875.667, 176786.0]\n",
              "                  ...           \n",
              "21466      (176786.0, 2265604.0]\n",
              "21467     (122875.667, 176786.0]\n",
              "21468    (20666.999, 122875.667]\n",
              "21469      (176786.0, 2265604.0]\n",
              "21470    (20666.999, 122875.667]\n",
              "Name: total_income, Length: 21471, dtype: category\n",
              "Categories (3, interval[float64]): [(20666.999, 122875.667] < (122875.667, 176786.0] < (176786.0, 2265604.0]]"
            ]
          },
          "execution_count": 45,
          "metadata": {},
          "output_type": "execute_result"
        }
      ],
      "source": [
        "pd.qcut(df['total_income'], q = 3)"
      ]
    },
    {
      "cell_type": "code",
      "execution_count": null,
      "metadata": {
        "id": "3DIuGfFACsKP"
      },
      "outputs": [],
      "source": [
        "df['quantile'] = pd.qcut(df['total_income'], q = 3)"
      ]
    },
    {
      "cell_type": "code",
      "execution_count": null,
      "metadata": {
        "scrolled": true,
        "id": "zEZ6-z_eCsKQ",
        "outputId": "9140eb1c-cb3e-459d-d637-99a4fa0d360f"
      },
      "outputs": [
        {
          "data": {
            "text/html": [
              "<div>\n",
              "<style scoped>\n",
              "    .dataframe tbody tr th:only-of-type {\n",
              "        vertical-align: middle;\n",
              "    }\n",
              "\n",
              "    .dataframe tbody tr th {\n",
              "        vertical-align: top;\n",
              "    }\n",
              "\n",
              "    .dataframe thead th {\n",
              "        text-align: right;\n",
              "    }\n",
              "</style>\n",
              "<table border=\"1\" class=\"dataframe\">\n",
              "  <thead>\n",
              "    <tr style=\"text-align: right;\">\n",
              "      <th></th>\n",
              "      <th>children</th>\n",
              "      <th>days_employed</th>\n",
              "      <th>dob_years</th>\n",
              "      <th>education</th>\n",
              "      <th>education_id</th>\n",
              "      <th>family_status</th>\n",
              "      <th>family_status_id</th>\n",
              "      <th>gender</th>\n",
              "      <th>income_type</th>\n",
              "      <th>debt</th>\n",
              "      <th>total_income</th>\n",
              "      <th>purpose</th>\n",
              "      <th>purpose_lemm</th>\n",
              "      <th>purpose_category</th>\n",
              "      <th>family_status_group</th>\n",
              "      <th>children_category</th>\n",
              "      <th>quantile</th>\n",
              "    </tr>\n",
              "  </thead>\n",
              "  <tbody>\n",
              "    <tr>\n",
              "      <td>0</td>\n",
              "      <td>1</td>\n",
              "      <td>66914</td>\n",
              "      <td>42</td>\n",
              "      <td>высшее</td>\n",
              "      <td>0</td>\n",
              "      <td>женат / замужем</td>\n",
              "      <td>0</td>\n",
              "      <td>F</td>\n",
              "      <td>сотрудник</td>\n",
              "      <td>0</td>\n",
              "      <td>253875</td>\n",
              "      <td>покупка жилья</td>\n",
              "      <td>[покупка,  , жилье, \\n]</td>\n",
              "      <td>покупка недвижимости</td>\n",
              "      <td>женат / замужем</td>\n",
              "      <td>один ребенок</td>\n",
              "      <td>(176786.0, 2265604.0]</td>\n",
              "    </tr>\n",
              "    <tr>\n",
              "      <td>1</td>\n",
              "      <td>1</td>\n",
              "      <td>66914</td>\n",
              "      <td>36</td>\n",
              "      <td>среднее</td>\n",
              "      <td>1</td>\n",
              "      <td>женат / замужем</td>\n",
              "      <td>0</td>\n",
              "      <td>F</td>\n",
              "      <td>сотрудник</td>\n",
              "      <td>0</td>\n",
              "      <td>112080</td>\n",
              "      <td>приобретение автомобиля</td>\n",
              "      <td>[приобретение,  , автомобиль, \\n]</td>\n",
              "      <td>покупка автомобиля</td>\n",
              "      <td>женат / замужем</td>\n",
              "      <td>один ребенок</td>\n",
              "      <td>(20666.999, 122875.667]</td>\n",
              "    </tr>\n",
              "    <tr>\n",
              "      <td>2</td>\n",
              "      <td>0</td>\n",
              "      <td>66914</td>\n",
              "      <td>33</td>\n",
              "      <td>среднее</td>\n",
              "      <td>1</td>\n",
              "      <td>женат / замужем</td>\n",
              "      <td>0</td>\n",
              "      <td>M</td>\n",
              "      <td>сотрудник</td>\n",
              "      <td>0</td>\n",
              "      <td>145885</td>\n",
              "      <td>покупка жилья</td>\n",
              "      <td>[покупка,  , жилье, \\n]</td>\n",
              "      <td>покупка недвижимости</td>\n",
              "      <td>женат / замужем</td>\n",
              "      <td>нет детей</td>\n",
              "      <td>(122875.667, 176786.0]</td>\n",
              "    </tr>\n",
              "    <tr>\n",
              "      <td>3</td>\n",
              "      <td>3</td>\n",
              "      <td>66914</td>\n",
              "      <td>32</td>\n",
              "      <td>среднее</td>\n",
              "      <td>1</td>\n",
              "      <td>женат / замужем</td>\n",
              "      <td>0</td>\n",
              "      <td>M</td>\n",
              "      <td>сотрудник</td>\n",
              "      <td>0</td>\n",
              "      <td>267628</td>\n",
              "      <td>дополнительное образование</td>\n",
              "      <td>[дополнительный,  , образование, \\n]</td>\n",
              "      <td>образование</td>\n",
              "      <td>женат / замужем</td>\n",
              "      <td>многодетная семья</td>\n",
              "      <td>(176786.0, 2265604.0]</td>\n",
              "    </tr>\n",
              "    <tr>\n",
              "      <td>4</td>\n",
              "      <td>0</td>\n",
              "      <td>66914</td>\n",
              "      <td>53</td>\n",
              "      <td>среднее</td>\n",
              "      <td>1</td>\n",
              "      <td>гражданский брак</td>\n",
              "      <td>1</td>\n",
              "      <td>F</td>\n",
              "      <td>пенсионер</td>\n",
              "      <td>0</td>\n",
              "      <td>158616</td>\n",
              "      <td>сыграть свадьбу</td>\n",
              "      <td>[сыграть,  , свадьба, \\n]</td>\n",
              "      <td>свадьба</td>\n",
              "      <td>гражданский брак</td>\n",
              "      <td>нет детей</td>\n",
              "      <td>(122875.667, 176786.0]</td>\n",
              "    </tr>\n",
              "    <tr>\n",
              "      <td>5</td>\n",
              "      <td>0</td>\n",
              "      <td>66914</td>\n",
              "      <td>27</td>\n",
              "      <td>высшее</td>\n",
              "      <td>0</td>\n",
              "      <td>гражданский брак</td>\n",
              "      <td>1</td>\n",
              "      <td>M</td>\n",
              "      <td>компаньон</td>\n",
              "      <td>0</td>\n",
              "      <td>255763</td>\n",
              "      <td>покупка жилья</td>\n",
              "      <td>[покупка,  , жилье, \\n]</td>\n",
              "      <td>покупка недвижимости</td>\n",
              "      <td>гражданский брак</td>\n",
              "      <td>нет детей</td>\n",
              "      <td>(176786.0, 2265604.0]</td>\n",
              "    </tr>\n",
              "    <tr>\n",
              "      <td>6</td>\n",
              "      <td>0</td>\n",
              "      <td>66914</td>\n",
              "      <td>43</td>\n",
              "      <td>высшее</td>\n",
              "      <td>0</td>\n",
              "      <td>женат / замужем</td>\n",
              "      <td>0</td>\n",
              "      <td>F</td>\n",
              "      <td>компаньон</td>\n",
              "      <td>0</td>\n",
              "      <td>240525</td>\n",
              "      <td>операции с жильем</td>\n",
              "      <td>[операция,  , с,  , жилье, \\n]</td>\n",
              "      <td>покупка недвижимости</td>\n",
              "      <td>женат / замужем</td>\n",
              "      <td>нет детей</td>\n",
              "      <td>(176786.0, 2265604.0]</td>\n",
              "    </tr>\n",
              "    <tr>\n",
              "      <td>7</td>\n",
              "      <td>0</td>\n",
              "      <td>66914</td>\n",
              "      <td>50</td>\n",
              "      <td>среднее</td>\n",
              "      <td>1</td>\n",
              "      <td>женат / замужем</td>\n",
              "      <td>0</td>\n",
              "      <td>M</td>\n",
              "      <td>сотрудник</td>\n",
              "      <td>0</td>\n",
              "      <td>135823</td>\n",
              "      <td>образование</td>\n",
              "      <td>[образование, \\n]</td>\n",
              "      <td>образование</td>\n",
              "      <td>женат / замужем</td>\n",
              "      <td>нет детей</td>\n",
              "      <td>(122875.667, 176786.0]</td>\n",
              "    </tr>\n",
              "    <tr>\n",
              "      <td>8</td>\n",
              "      <td>2</td>\n",
              "      <td>66914</td>\n",
              "      <td>35</td>\n",
              "      <td>высшее</td>\n",
              "      <td>0</td>\n",
              "      <td>гражданский брак</td>\n",
              "      <td>1</td>\n",
              "      <td>F</td>\n",
              "      <td>сотрудник</td>\n",
              "      <td>0</td>\n",
              "      <td>95856</td>\n",
              "      <td>на проведение свадьбы</td>\n",
              "      <td>[на,  , проведение,  , свадьба, \\n]</td>\n",
              "      <td>свадьба</td>\n",
              "      <td>гражданский брак</td>\n",
              "      <td>два ребенка</td>\n",
              "      <td>(20666.999, 122875.667]</td>\n",
              "    </tr>\n",
              "    <tr>\n",
              "      <td>9</td>\n",
              "      <td>0</td>\n",
              "      <td>66914</td>\n",
              "      <td>41</td>\n",
              "      <td>среднее</td>\n",
              "      <td>1</td>\n",
              "      <td>женат / замужем</td>\n",
              "      <td>0</td>\n",
              "      <td>M</td>\n",
              "      <td>сотрудник</td>\n",
              "      <td>0</td>\n",
              "      <td>144425</td>\n",
              "      <td>покупка жилья для семьи</td>\n",
              "      <td>[покупка,  , жилье,  , для,  , семья, \\n]</td>\n",
              "      <td>покупка недвижимости</td>\n",
              "      <td>женат / замужем</td>\n",
              "      <td>нет детей</td>\n",
              "      <td>(122875.667, 176786.0]</td>\n",
              "    </tr>\n",
              "    <tr>\n",
              "      <td>10</td>\n",
              "      <td>2</td>\n",
              "      <td>66914</td>\n",
              "      <td>36</td>\n",
              "      <td>высшее</td>\n",
              "      <td>0</td>\n",
              "      <td>женат / замужем</td>\n",
              "      <td>0</td>\n",
              "      <td>M</td>\n",
              "      <td>компаньон</td>\n",
              "      <td>0</td>\n",
              "      <td>113943</td>\n",
              "      <td>покупка недвижимости</td>\n",
              "      <td>[покупка,  , недвижимость, \\n]</td>\n",
              "      <td>покупка недвижимости</td>\n",
              "      <td>женат / замужем</td>\n",
              "      <td>два ребенка</td>\n",
              "      <td>(20666.999, 122875.667]</td>\n",
              "    </tr>\n",
              "    <tr>\n",
              "      <td>11</td>\n",
              "      <td>0</td>\n",
              "      <td>66914</td>\n",
              "      <td>40</td>\n",
              "      <td>среднее</td>\n",
              "      <td>1</td>\n",
              "      <td>женат / замужем</td>\n",
              "      <td>0</td>\n",
              "      <td>F</td>\n",
              "      <td>сотрудник</td>\n",
              "      <td>0</td>\n",
              "      <td>77069</td>\n",
              "      <td>покупка коммерческой недвижимости</td>\n",
              "      <td>[покупка,  , коммерческий,  , недвижимость, \\n]</td>\n",
              "      <td>покупка недвижимости</td>\n",
              "      <td>женат / замужем</td>\n",
              "      <td>нет детей</td>\n",
              "      <td>(20666.999, 122875.667]</td>\n",
              "    </tr>\n",
              "    <tr>\n",
              "      <td>12</td>\n",
              "      <td>0</td>\n",
              "      <td>66914</td>\n",
              "      <td>65</td>\n",
              "      <td>среднее</td>\n",
              "      <td>1</td>\n",
              "      <td>гражданский брак</td>\n",
              "      <td>1</td>\n",
              "      <td>M</td>\n",
              "      <td>пенсионер</td>\n",
              "      <td>0</td>\n",
              "      <td>137127</td>\n",
              "      <td>сыграть свадьбу</td>\n",
              "      <td>[сыграть,  , свадьба, \\n]</td>\n",
              "      <td>свадьба</td>\n",
              "      <td>гражданский брак</td>\n",
              "      <td>нет детей</td>\n",
              "      <td>(122875.667, 176786.0]</td>\n",
              "    </tr>\n",
              "    <tr>\n",
              "      <td>13</td>\n",
              "      <td>0</td>\n",
              "      <td>66914</td>\n",
              "      <td>54</td>\n",
              "      <td>неоконченное высшее</td>\n",
              "      <td>2</td>\n",
              "      <td>женат / замужем</td>\n",
              "      <td>0</td>\n",
              "      <td>F</td>\n",
              "      <td>сотрудник</td>\n",
              "      <td>0</td>\n",
              "      <td>130458</td>\n",
              "      <td>приобретение автомобиля</td>\n",
              "      <td>[приобретение,  , автомобиль, \\n]</td>\n",
              "      <td>покупка автомобиля</td>\n",
              "      <td>женат / замужем</td>\n",
              "      <td>нет детей</td>\n",
              "      <td>(122875.667, 176786.0]</td>\n",
              "    </tr>\n",
              "    <tr>\n",
              "      <td>14</td>\n",
              "      <td>0</td>\n",
              "      <td>66914</td>\n",
              "      <td>56</td>\n",
              "      <td>высшее</td>\n",
              "      <td>0</td>\n",
              "      <td>гражданский брак</td>\n",
              "      <td>1</td>\n",
              "      <td>F</td>\n",
              "      <td>компаньон</td>\n",
              "      <td>1</td>\n",
              "      <td>165127</td>\n",
              "      <td>покупка жилой недвижимости</td>\n",
              "      <td>[покупка,  , жилой,  , недвижимость, \\n]</td>\n",
              "      <td>покупка недвижимости</td>\n",
              "      <td>гражданский брак</td>\n",
              "      <td>нет детей</td>\n",
              "      <td>(122875.667, 176786.0]</td>\n",
              "    </tr>\n",
              "    <tr>\n",
              "      <td>15</td>\n",
              "      <td>1</td>\n",
              "      <td>66914</td>\n",
              "      <td>26</td>\n",
              "      <td>среднее</td>\n",
              "      <td>1</td>\n",
              "      <td>женат / замужем</td>\n",
              "      <td>0</td>\n",
              "      <td>F</td>\n",
              "      <td>сотрудник</td>\n",
              "      <td>0</td>\n",
              "      <td>116820</td>\n",
              "      <td>строительство собственной недвижимости</td>\n",
              "      <td>[строительство,  , собственный,  , недвижимост...</td>\n",
              "      <td>строительство недвижимости</td>\n",
              "      <td>женат / замужем</td>\n",
              "      <td>один ребенок</td>\n",
              "      <td>(20666.999, 122875.667]</td>\n",
              "    </tr>\n",
              "    <tr>\n",
              "      <td>16</td>\n",
              "      <td>0</td>\n",
              "      <td>66914</td>\n",
              "      <td>35</td>\n",
              "      <td>среднее</td>\n",
              "      <td>1</td>\n",
              "      <td>женат / замужем</td>\n",
              "      <td>0</td>\n",
              "      <td>F</td>\n",
              "      <td>сотрудник</td>\n",
              "      <td>0</td>\n",
              "      <td>289202</td>\n",
              "      <td>недвижимость</td>\n",
              "      <td>[недвижимость, \\n]</td>\n",
              "      <td>покупка недвижимости</td>\n",
              "      <td>женат / замужем</td>\n",
              "      <td>нет детей</td>\n",
              "      <td>(176786.0, 2265604.0]</td>\n",
              "    </tr>\n",
              "    <tr>\n",
              "      <td>17</td>\n",
              "      <td>0</td>\n",
              "      <td>66914</td>\n",
              "      <td>33</td>\n",
              "      <td>высшее</td>\n",
              "      <td>0</td>\n",
              "      <td>гражданский брак</td>\n",
              "      <td>1</td>\n",
              "      <td>M</td>\n",
              "      <td>сотрудник</td>\n",
              "      <td>0</td>\n",
              "      <td>90410</td>\n",
              "      <td>строительство недвижимости</td>\n",
              "      <td>[строительство,  , недвижимость, \\n]</td>\n",
              "      <td>строительство недвижимости</td>\n",
              "      <td>гражданский брак</td>\n",
              "      <td>нет детей</td>\n",
              "      <td>(20666.999, 122875.667]</td>\n",
              "    </tr>\n",
              "    <tr>\n",
              "      <td>18</td>\n",
              "      <td>0</td>\n",
              "      <td>66914</td>\n",
              "      <td>53</td>\n",
              "      <td>среднее</td>\n",
              "      <td>1</td>\n",
              "      <td>вдовец / вдова</td>\n",
              "      <td>2</td>\n",
              "      <td>F</td>\n",
              "      <td>пенсионер</td>\n",
              "      <td>0</td>\n",
              "      <td>56823</td>\n",
              "      <td>на покупку подержанного автомобиля</td>\n",
              "      <td>[на,  , покупка,  , подержать,  , автомобиль, \\n]</td>\n",
              "      <td>покупка автомобиля</td>\n",
              "      <td>вдовец / вдова</td>\n",
              "      <td>нет детей</td>\n",
              "      <td>(20666.999, 122875.667]</td>\n",
              "    </tr>\n",
              "    <tr>\n",
              "      <td>19</td>\n",
              "      <td>0</td>\n",
              "      <td>66914</td>\n",
              "      <td>48</td>\n",
              "      <td>среднее</td>\n",
              "      <td>1</td>\n",
              "      <td>в разводе</td>\n",
              "      <td>3</td>\n",
              "      <td>F</td>\n",
              "      <td>сотрудник</td>\n",
              "      <td>0</td>\n",
              "      <td>242831</td>\n",
              "      <td>на покупку своего автомобиля</td>\n",
              "      <td>[на,  , покупка,  , свой,  , автомобиль, \\n]</td>\n",
              "      <td>покупка автомобиля</td>\n",
              "      <td>в разводе</td>\n",
              "      <td>нет детей</td>\n",
              "      <td>(176786.0, 2265604.0]</td>\n",
              "    </tr>\n",
              "    <tr>\n",
              "      <td>20</td>\n",
              "      <td>1</td>\n",
              "      <td>66914</td>\n",
              "      <td>36</td>\n",
              "      <td>среднее</td>\n",
              "      <td>1</td>\n",
              "      <td>женат / замужем</td>\n",
              "      <td>0</td>\n",
              "      <td>M</td>\n",
              "      <td>сотрудник</td>\n",
              "      <td>0</td>\n",
              "      <td>209552</td>\n",
              "      <td>недвижимость</td>\n",
              "      <td>[недвижимость, \\n]</td>\n",
              "      <td>покупка недвижимости</td>\n",
              "      <td>женат / замужем</td>\n",
              "      <td>один ребенок</td>\n",
              "      <td>(176786.0, 2265604.0]</td>\n",
              "    </tr>\n",
              "    <tr>\n",
              "      <td>21</td>\n",
              "      <td>1</td>\n",
              "      <td>66914</td>\n",
              "      <td>33</td>\n",
              "      <td>среднее</td>\n",
              "      <td>1</td>\n",
              "      <td>гражданский брак</td>\n",
              "      <td>1</td>\n",
              "      <td>F</td>\n",
              "      <td>сотрудник</td>\n",
              "      <td>0</td>\n",
              "      <td>131812</td>\n",
              "      <td>приобретение автомобиля</td>\n",
              "      <td>[приобретение,  , автомобиль, \\n]</td>\n",
              "      <td>покупка автомобиля</td>\n",
              "      <td>гражданский брак</td>\n",
              "      <td>один ребенок</td>\n",
              "      <td>(122875.667, 176786.0]</td>\n",
              "    </tr>\n",
              "    <tr>\n",
              "      <td>22</td>\n",
              "      <td>1</td>\n",
              "      <td>66914</td>\n",
              "      <td>24</td>\n",
              "      <td>среднее</td>\n",
              "      <td>1</td>\n",
              "      <td>гражданский брак</td>\n",
              "      <td>1</td>\n",
              "      <td>F</td>\n",
              "      <td>сотрудник</td>\n",
              "      <td>0</td>\n",
              "      <td>149681</td>\n",
              "      <td>на покупку подержанного автомобиля</td>\n",
              "      <td>[на,  , покупка,  , подержать,  , автомобиль, \\n]</td>\n",
              "      <td>покупка автомобиля</td>\n",
              "      <td>гражданский брак</td>\n",
              "      <td>один ребенок</td>\n",
              "      <td>(122875.667, 176786.0]</td>\n",
              "    </tr>\n",
              "    <tr>\n",
              "      <td>23</td>\n",
              "      <td>0</td>\n",
              "      <td>66914</td>\n",
              "      <td>21</td>\n",
              "      <td>высшее</td>\n",
              "      <td>0</td>\n",
              "      <td>гражданский брак</td>\n",
              "      <td>1</td>\n",
              "      <td>M</td>\n",
              "      <td>сотрудник</td>\n",
              "      <td>0</td>\n",
              "      <td>128265</td>\n",
              "      <td>сыграть свадьбу</td>\n",
              "      <td>[сыграть,  , свадьба, \\n]</td>\n",
              "      <td>свадьба</td>\n",
              "      <td>гражданский брак</td>\n",
              "      <td>нет детей</td>\n",
              "      <td>(122875.667, 176786.0]</td>\n",
              "    </tr>\n",
              "    <tr>\n",
              "      <td>24</td>\n",
              "      <td>1</td>\n",
              "      <td>66914</td>\n",
              "      <td>57</td>\n",
              "      <td>среднее</td>\n",
              "      <td>1</td>\n",
              "      <td>не женат / не замужем</td>\n",
              "      <td>4</td>\n",
              "      <td>F</td>\n",
              "      <td>пенсионер</td>\n",
              "      <td>0</td>\n",
              "      <td>290547</td>\n",
              "      <td>операции с коммерческой недвижимостью</td>\n",
              "      <td>[операция,  , с,  , коммерческий,  , недвижимо...</td>\n",
              "      <td>покупка недвижимости</td>\n",
              "      <td>не женат / не замужем</td>\n",
              "      <td>один ребенок</td>\n",
              "      <td>(176786.0, 2265604.0]</td>\n",
              "    </tr>\n",
              "    <tr>\n",
              "      <td>25</td>\n",
              "      <td>0</td>\n",
              "      <td>66914</td>\n",
              "      <td>67</td>\n",
              "      <td>среднее</td>\n",
              "      <td>1</td>\n",
              "      <td>женат / замужем</td>\n",
              "      <td>0</td>\n",
              "      <td>M</td>\n",
              "      <td>пенсионер</td>\n",
              "      <td>0</td>\n",
              "      <td>55112</td>\n",
              "      <td>покупка недвижимости</td>\n",
              "      <td>[покупка,  , недвижимость, \\n]</td>\n",
              "      <td>покупка недвижимости</td>\n",
              "      <td>женат / замужем</td>\n",
              "      <td>нет детей</td>\n",
              "      <td>(20666.999, 122875.667]</td>\n",
              "    </tr>\n",
              "    <tr>\n",
              "      <td>26</td>\n",
              "      <td>0</td>\n",
              "      <td>66914</td>\n",
              "      <td>41</td>\n",
              "      <td>среднее</td>\n",
              "      <td>1</td>\n",
              "      <td>женат / замужем</td>\n",
              "      <td>0</td>\n",
              "      <td>M</td>\n",
              "      <td>госслужащий</td>\n",
              "      <td>0</td>\n",
              "      <td>170898</td>\n",
              "      <td>образование</td>\n",
              "      <td>[образование, \\n]</td>\n",
              "      <td>образование</td>\n",
              "      <td>женат / замужем</td>\n",
              "      <td>нет детей</td>\n",
              "      <td>(122875.667, 176786.0]</td>\n",
              "    </tr>\n",
              "    <tr>\n",
              "      <td>27</td>\n",
              "      <td>0</td>\n",
              "      <td>66914</td>\n",
              "      <td>28</td>\n",
              "      <td>высшее</td>\n",
              "      <td>0</td>\n",
              "      <td>женат / замужем</td>\n",
              "      <td>0</td>\n",
              "      <td>M</td>\n",
              "      <td>сотрудник</td>\n",
              "      <td>0</td>\n",
              "      <td>308848</td>\n",
              "      <td>строительство собственной недвижимости</td>\n",
              "      <td>[строительство,  , собственный,  , недвижимост...</td>\n",
              "      <td>строительство недвижимости</td>\n",
              "      <td>женат / замужем</td>\n",
              "      <td>нет детей</td>\n",
              "      <td>(176786.0, 2265604.0]</td>\n",
              "    </tr>\n",
              "    <tr>\n",
              "      <td>28</td>\n",
              "      <td>1</td>\n",
              "      <td>66914</td>\n",
              "      <td>26</td>\n",
              "      <td>высшее</td>\n",
              "      <td>0</td>\n",
              "      <td>женат / замужем</td>\n",
              "      <td>0</td>\n",
              "      <td>F</td>\n",
              "      <td>сотрудник</td>\n",
              "      <td>0</td>\n",
              "      <td>187863</td>\n",
              "      <td>строительство собственной недвижимости</td>\n",
              "      <td>[строительство,  , собственный,  , недвижимост...</td>\n",
              "      <td>строительство недвижимости</td>\n",
              "      <td>женат / замужем</td>\n",
              "      <td>один ребенок</td>\n",
              "      <td>(176786.0, 2265604.0]</td>\n",
              "    </tr>\n",
              "    <tr>\n",
              "      <td>29</td>\n",
              "      <td>0</td>\n",
              "      <td>66914</td>\n",
              "      <td>63</td>\n",
              "      <td>среднее</td>\n",
              "      <td>1</td>\n",
              "      <td>не женат / не замужем</td>\n",
              "      <td>4</td>\n",
              "      <td>F</td>\n",
              "      <td>пенсионер</td>\n",
              "      <td>0</td>\n",
              "      <td>137127</td>\n",
              "      <td>строительство жилой недвижимости</td>\n",
              "      <td>[строительство,  , жилой,  , недвижимость, \\n]</td>\n",
              "      <td>строительство недвижимости</td>\n",
              "      <td>не женат / не замужем</td>\n",
              "      <td>нет детей</td>\n",
              "      <td>(122875.667, 176786.0]</td>\n",
              "    </tr>\n",
              "  </tbody>\n",
              "</table>\n",
              "</div>"
            ],
            "text/plain": [
              "    children  days_employed  dob_years            education  education_id  \\\n",
              "0          1          66914         42               высшее             0   \n",
              "1          1          66914         36              среднее             1   \n",
              "2          0          66914         33              среднее             1   \n",
              "3          3          66914         32              среднее             1   \n",
              "4          0          66914         53              среднее             1   \n",
              "5          0          66914         27               высшее             0   \n",
              "6          0          66914         43               высшее             0   \n",
              "7          0          66914         50              среднее             1   \n",
              "8          2          66914         35               высшее             0   \n",
              "9          0          66914         41              среднее             1   \n",
              "10         2          66914         36               высшее             0   \n",
              "11         0          66914         40              среднее             1   \n",
              "12         0          66914         65              среднее             1   \n",
              "13         0          66914         54  неоконченное высшее             2   \n",
              "14         0          66914         56               высшее             0   \n",
              "15         1          66914         26              среднее             1   \n",
              "16         0          66914         35              среднее             1   \n",
              "17         0          66914         33               высшее             0   \n",
              "18         0          66914         53              среднее             1   \n",
              "19         0          66914         48              среднее             1   \n",
              "20         1          66914         36              среднее             1   \n",
              "21         1          66914         33              среднее             1   \n",
              "22         1          66914         24              среднее             1   \n",
              "23         0          66914         21               высшее             0   \n",
              "24         1          66914         57              среднее             1   \n",
              "25         0          66914         67              среднее             1   \n",
              "26         0          66914         41              среднее             1   \n",
              "27         0          66914         28               высшее             0   \n",
              "28         1          66914         26               высшее             0   \n",
              "29         0          66914         63              среднее             1   \n",
              "\n",
              "            family_status  family_status_id gender  income_type  debt  \\\n",
              "0         женат / замужем                 0      F    сотрудник     0   \n",
              "1         женат / замужем                 0      F    сотрудник     0   \n",
              "2         женат / замужем                 0      M    сотрудник     0   \n",
              "3         женат / замужем                 0      M    сотрудник     0   \n",
              "4        гражданский брак                 1      F    пенсионер     0   \n",
              "5        гражданский брак                 1      M    компаньон     0   \n",
              "6         женат / замужем                 0      F    компаньон     0   \n",
              "7         женат / замужем                 0      M    сотрудник     0   \n",
              "8        гражданский брак                 1      F    сотрудник     0   \n",
              "9         женат / замужем                 0      M    сотрудник     0   \n",
              "10        женат / замужем                 0      M    компаньон     0   \n",
              "11        женат / замужем                 0      F    сотрудник     0   \n",
              "12       гражданский брак                 1      M    пенсионер     0   \n",
              "13        женат / замужем                 0      F    сотрудник     0   \n",
              "14       гражданский брак                 1      F    компаньон     1   \n",
              "15        женат / замужем                 0      F    сотрудник     0   \n",
              "16        женат / замужем                 0      F    сотрудник     0   \n",
              "17       гражданский брак                 1      M    сотрудник     0   \n",
              "18         вдовец / вдова                 2      F    пенсионер     0   \n",
              "19              в разводе                 3      F    сотрудник     0   \n",
              "20        женат / замужем                 0      M    сотрудник     0   \n",
              "21       гражданский брак                 1      F    сотрудник     0   \n",
              "22       гражданский брак                 1      F    сотрудник     0   \n",
              "23       гражданский брак                 1      M    сотрудник     0   \n",
              "24  не женат / не замужем                 4      F    пенсионер     0   \n",
              "25        женат / замужем                 0      M    пенсионер     0   \n",
              "26        женат / замужем                 0      M  госслужащий     0   \n",
              "27        женат / замужем                 0      M    сотрудник     0   \n",
              "28        женат / замужем                 0      F    сотрудник     0   \n",
              "29  не женат / не замужем                 4      F    пенсионер     0   \n",
              "\n",
              "    total_income                                 purpose  \\\n",
              "0         253875                           покупка жилья   \n",
              "1         112080                 приобретение автомобиля   \n",
              "2         145885                           покупка жилья   \n",
              "3         267628              дополнительное образование   \n",
              "4         158616                         сыграть свадьбу   \n",
              "5         255763                           покупка жилья   \n",
              "6         240525                       операции с жильем   \n",
              "7         135823                             образование   \n",
              "8          95856                   на проведение свадьбы   \n",
              "9         144425                 покупка жилья для семьи   \n",
              "10        113943                    покупка недвижимости   \n",
              "11         77069       покупка коммерческой недвижимости   \n",
              "12        137127                         сыграть свадьбу   \n",
              "13        130458                 приобретение автомобиля   \n",
              "14        165127              покупка жилой недвижимости   \n",
              "15        116820  строительство собственной недвижимости   \n",
              "16        289202                            недвижимость   \n",
              "17         90410              строительство недвижимости   \n",
              "18         56823      на покупку подержанного автомобиля   \n",
              "19        242831            на покупку своего автомобиля   \n",
              "20        209552                            недвижимость   \n",
              "21        131812                 приобретение автомобиля   \n",
              "22        149681      на покупку подержанного автомобиля   \n",
              "23        128265                         сыграть свадьбу   \n",
              "24        290547   операции с коммерческой недвижимостью   \n",
              "25         55112                    покупка недвижимости   \n",
              "26        170898                             образование   \n",
              "27        308848  строительство собственной недвижимости   \n",
              "28        187863  строительство собственной недвижимости   \n",
              "29        137127        строительство жилой недвижимости   \n",
              "\n",
              "                                         purpose_lemm  \\\n",
              "0                             [покупка,  , жилье, \\n]   \n",
              "1                   [приобретение,  , автомобиль, \\n]   \n",
              "2                             [покупка,  , жилье, \\n]   \n",
              "3                [дополнительный,  , образование, \\n]   \n",
              "4                           [сыграть,  , свадьба, \\n]   \n",
              "5                             [покупка,  , жилье, \\n]   \n",
              "6                      [операция,  , с,  , жилье, \\n]   \n",
              "7                                   [образование, \\n]   \n",
              "8                 [на,  , проведение,  , свадьба, \\n]   \n",
              "9           [покупка,  , жилье,  , для,  , семья, \\n]   \n",
              "10                     [покупка,  , недвижимость, \\n]   \n",
              "11    [покупка,  , коммерческий,  , недвижимость, \\n]   \n",
              "12                          [сыграть,  , свадьба, \\n]   \n",
              "13                  [приобретение,  , автомобиль, \\n]   \n",
              "14           [покупка,  , жилой,  , недвижимость, \\n]   \n",
              "15  [строительство,  , собственный,  , недвижимост...   \n",
              "16                                 [недвижимость, \\n]   \n",
              "17               [строительство,  , недвижимость, \\n]   \n",
              "18  [на,  , покупка,  , подержать,  , автомобиль, \\n]   \n",
              "19       [на,  , покупка,  , свой,  , автомобиль, \\n]   \n",
              "20                                 [недвижимость, \\n]   \n",
              "21                  [приобретение,  , автомобиль, \\n]   \n",
              "22  [на,  , покупка,  , подержать,  , автомобиль, \\n]   \n",
              "23                          [сыграть,  , свадьба, \\n]   \n",
              "24  [операция,  , с,  , коммерческий,  , недвижимо...   \n",
              "25                     [покупка,  , недвижимость, \\n]   \n",
              "26                                  [образование, \\n]   \n",
              "27  [строительство,  , собственный,  , недвижимост...   \n",
              "28  [строительство,  , собственный,  , недвижимост...   \n",
              "29     [строительство,  , жилой,  , недвижимость, \\n]   \n",
              "\n",
              "              purpose_category    family_status_group  children_category  \\\n",
              "0         покупка недвижимости        женат / замужем       один ребенок   \n",
              "1           покупка автомобиля        женат / замужем       один ребенок   \n",
              "2         покупка недвижимости        женат / замужем          нет детей   \n",
              "3                  образование        женат / замужем  многодетная семья   \n",
              "4                      свадьба       гражданский брак          нет детей   \n",
              "5         покупка недвижимости       гражданский брак          нет детей   \n",
              "6         покупка недвижимости        женат / замужем          нет детей   \n",
              "7                  образование        женат / замужем          нет детей   \n",
              "8                      свадьба       гражданский брак        два ребенка   \n",
              "9         покупка недвижимости        женат / замужем          нет детей   \n",
              "10        покупка недвижимости        женат / замужем        два ребенка   \n",
              "11        покупка недвижимости        женат / замужем          нет детей   \n",
              "12                     свадьба       гражданский брак          нет детей   \n",
              "13          покупка автомобиля        женат / замужем          нет детей   \n",
              "14        покупка недвижимости       гражданский брак          нет детей   \n",
              "15  строительство недвижимости        женат / замужем       один ребенок   \n",
              "16        покупка недвижимости        женат / замужем          нет детей   \n",
              "17  строительство недвижимости       гражданский брак          нет детей   \n",
              "18          покупка автомобиля         вдовец / вдова          нет детей   \n",
              "19          покупка автомобиля              в разводе          нет детей   \n",
              "20        покупка недвижимости        женат / замужем       один ребенок   \n",
              "21          покупка автомобиля       гражданский брак       один ребенок   \n",
              "22          покупка автомобиля       гражданский брак       один ребенок   \n",
              "23                     свадьба       гражданский брак          нет детей   \n",
              "24        покупка недвижимости  не женат / не замужем       один ребенок   \n",
              "25        покупка недвижимости        женат / замужем          нет детей   \n",
              "26                 образование        женат / замужем          нет детей   \n",
              "27  строительство недвижимости        женат / замужем          нет детей   \n",
              "28  строительство недвижимости        женат / замужем       один ребенок   \n",
              "29  строительство недвижимости  не женат / не замужем          нет детей   \n",
              "\n",
              "                   quantile  \n",
              "0     (176786.0, 2265604.0]  \n",
              "1   (20666.999, 122875.667]  \n",
              "2    (122875.667, 176786.0]  \n",
              "3     (176786.0, 2265604.0]  \n",
              "4    (122875.667, 176786.0]  \n",
              "5     (176786.0, 2265604.0]  \n",
              "6     (176786.0, 2265604.0]  \n",
              "7    (122875.667, 176786.0]  \n",
              "8   (20666.999, 122875.667]  \n",
              "9    (122875.667, 176786.0]  \n",
              "10  (20666.999, 122875.667]  \n",
              "11  (20666.999, 122875.667]  \n",
              "12   (122875.667, 176786.0]  \n",
              "13   (122875.667, 176786.0]  \n",
              "14   (122875.667, 176786.0]  \n",
              "15  (20666.999, 122875.667]  \n",
              "16    (176786.0, 2265604.0]  \n",
              "17  (20666.999, 122875.667]  \n",
              "18  (20666.999, 122875.667]  \n",
              "19    (176786.0, 2265604.0]  \n",
              "20    (176786.0, 2265604.0]  \n",
              "21   (122875.667, 176786.0]  \n",
              "22   (122875.667, 176786.0]  \n",
              "23   (122875.667, 176786.0]  \n",
              "24    (176786.0, 2265604.0]  \n",
              "25  (20666.999, 122875.667]  \n",
              "26   (122875.667, 176786.0]  \n",
              "27    (176786.0, 2265604.0]  \n",
              "28    (176786.0, 2265604.0]  \n",
              "29   (122875.667, 176786.0]  "
            ]
          },
          "execution_count": 47,
          "metadata": {},
          "output_type": "execute_result"
        }
      ],
      "source": [
        "df.head(30)"
      ]
    },
    {
      "cell_type": "markdown",
      "metadata": {
        "id": "QGQO_OQDCsKQ"
      },
      "source": [
        "При помощи функции qcut() разделила данные на 3 равных части(q=3). Бедные, средний класс и богатые."
      ]
    },
    {
      "cell_type": "markdown",
      "metadata": {
        "id": "jGFpTV7TCsKS"
      },
      "source": [
        "Выделим словари:"
      ]
    },
    {
      "cell_type": "code",
      "execution_count": null,
      "metadata": {
        "id": "K6XbSDT6CsKT"
      },
      "outputs": [],
      "source": [
        "education = {\n",
        "    'высшее': 0,\n",
        "    'среднее' : 1,\n",
        "    'неоконченное высшее' : 2,\n",
        "    'начальное' : 3,\n",
        "    'ученая степень' : 4 \n",
        "}"
      ]
    },
    {
      "cell_type": "code",
      "execution_count": null,
      "metadata": {
        "id": "39RfI3H_CsKV",
        "outputId": "0577c92b-431f-4bee-e37c-f6941b81e636"
      },
      "outputs": [
        {
          "name": "stdout",
          "output_type": "stream",
          "text": [
            "{'высшее': 0, 'среднее': 1, 'неоконченное высшее': 2, 'начальное': 3, 'ученая степень': 4}\n"
          ]
        }
      ],
      "source": [
        "print(education)"
      ]
    },
    {
      "cell_type": "code",
      "execution_count": null,
      "metadata": {
        "id": "XzWAmhEVCsKZ"
      },
      "outputs": [],
      "source": [
        "family_status = {\n",
        "    'женат / замужем' : 0,\n",
        "    'гражданский брак' : 1,\n",
        "    'вдовец / вдова' : 2,\n",
        "    'в разводе' : 3,\n",
        "    'не женат / не замужем' : 4\n",
        "}"
      ]
    },
    {
      "cell_type": "code",
      "execution_count": null,
      "metadata": {
        "id": "oqciICE8CsKc",
        "outputId": "22fb7bef-40bb-403f-f0aa-2b4a28e96363"
      },
      "outputs": [
        {
          "name": "stdout",
          "output_type": "stream",
          "text": [
            "{'женат / замужем': 0, 'гражданский брак': 1, 'вдовец / вдова': 2, 'в разводе': 3, 'не женат / не замужем': 4}\n"
          ]
        }
      ],
      "source": [
        "print(family_status)"
      ]
    },
    {
      "cell_type": "markdown",
      "metadata": {
        "id": "De0xNutyCsKd"
      },
      "source": [
        "**Вывод**"
      ]
    },
    {
      "cell_type": "markdown",
      "metadata": {
        "id": "Qk7TXr9sCsKe"
      },
      "source": [
        "<div class=\"alert alert-info\">\n",
        "Категоризировали те данные, которые в дальнейшем понадобятся для ответов на вопросы исследования. Обнаружили и выделили словари."
      ]
    },
    {
      "cell_type": "markdown",
      "metadata": {
        "id": "R0efv1VECsKg"
      },
      "source": [
        "## Шаг 3. Ответьте на вопросы"
      ]
    },
    {
      "cell_type": "markdown",
      "metadata": {
        "id": "-0vLW2mdCsKh"
      },
      "source": [
        "- Есть ли зависимость между наличием детей и возвратом кредита в срок?"
      ]
    },
    {
      "cell_type": "code",
      "execution_count": null,
      "metadata": {
        "id": "spZ6hFSZCsKh"
      },
      "outputs": [],
      "source": [
        "children_pivot = df.pivot_table(index='children_category', values='debt', aggfunc='mean').reset_index()"
      ]
    },
    {
      "cell_type": "code",
      "execution_count": null,
      "metadata": {
        "id": "5oNOSSexCsKi",
        "outputId": "34be0f11-1224-4e91-9659-c0cecfe74ae8"
      },
      "outputs": [
        {
          "data": {
            "text/html": [
              "<div>\n",
              "<style scoped>\n",
              "    .dataframe tbody tr th:only-of-type {\n",
              "        vertical-align: middle;\n",
              "    }\n",
              "\n",
              "    .dataframe tbody tr th {\n",
              "        vertical-align: top;\n",
              "    }\n",
              "\n",
              "    .dataframe thead th {\n",
              "        text-align: right;\n",
              "    }\n",
              "</style>\n",
              "<table border=\"1\" class=\"dataframe\">\n",
              "  <thead>\n",
              "    <tr style=\"text-align: right;\">\n",
              "      <th></th>\n",
              "      <th>children_category</th>\n",
              "      <th>debt</th>\n",
              "    </tr>\n",
              "  </thead>\n",
              "  <tbody>\n",
              "    <tr>\n",
              "      <td>2</td>\n",
              "      <td>нет детей</td>\n",
              "      <td>0.075353</td>\n",
              "    </tr>\n",
              "    <tr>\n",
              "      <td>1</td>\n",
              "      <td>многодетная семья</td>\n",
              "      <td>0.085526</td>\n",
              "    </tr>\n",
              "    <tr>\n",
              "      <td>3</td>\n",
              "      <td>один ребенок</td>\n",
              "      <td>0.092327</td>\n",
              "    </tr>\n",
              "    <tr>\n",
              "      <td>0</td>\n",
              "      <td>два ребенка</td>\n",
              "      <td>0.094542</td>\n",
              "    </tr>\n",
              "  </tbody>\n",
              "</table>\n",
              "</div>"
            ],
            "text/plain": [
              "   children_category      debt\n",
              "2          нет детей  0.075353\n",
              "1  многодетная семья  0.085526\n",
              "3       один ребенок  0.092327\n",
              "0        два ребенка  0.094542"
            ]
          },
          "metadata": {},
          "output_type": "display_data"
        }
      ],
      "source": [
        "display(children_pivot.sort_values(by='debt', ascending=True))"
      ]
    },
    {
      "cell_type": "markdown",
      "metadata": {
        "id": "SytNahMjCsKj"
      },
      "source": [
        "**Вывод**"
      ]
    },
    {
      "cell_type": "markdown",
      "metadata": {
        "id": "IcEPSMz7CsKj"
      },
      "source": [
        "У людей с двумя детьми, доля долгов больше, чем у тех, у кого нет детей. А если рассматривать людей с одним и двумя детьми, то доля долгов практически на одном уровне. Но вот у многодетных семей долгов меньше, чем у тех, у кого 1 или 2 ребенка. "
      ]
    },
    {
      "cell_type": "markdown",
      "metadata": {
        "id": "Vccj6zQ9CsKk"
      },
      "source": [
        "- Есть ли зависимость между семейным положением и возвратом кредита в срок?"
      ]
    },
    {
      "cell_type": "code",
      "execution_count": null,
      "metadata": {
        "id": "I-_6s5YrCsKk"
      },
      "outputs": [],
      "source": [
        "family_status_pivot = df.pivot_table(index='family_status_group', values='income_type',columns='debt', aggfunc='count').reset_index()"
      ]
    },
    {
      "cell_type": "code",
      "execution_count": null,
      "metadata": {
        "id": "H6TRSqVsCsKl",
        "outputId": "63a1cd04-0cfe-4141-b79c-6b8098c425ac"
      },
      "outputs": [
        {
          "data": {
            "text/html": [
              "<div>\n",
              "<style scoped>\n",
              "    .dataframe tbody tr th:only-of-type {\n",
              "        vertical-align: middle;\n",
              "    }\n",
              "\n",
              "    .dataframe tbody tr th {\n",
              "        vertical-align: top;\n",
              "    }\n",
              "\n",
              "    .dataframe thead th {\n",
              "        text-align: right;\n",
              "    }\n",
              "</style>\n",
              "<table border=\"1\" class=\"dataframe\">\n",
              "  <thead>\n",
              "    <tr style=\"text-align: right;\">\n",
              "      <th>debt</th>\n",
              "      <th>family_status_group</th>\n",
              "      <th>0</th>\n",
              "      <th>1</th>\n",
              "    </tr>\n",
              "  </thead>\n",
              "  <tbody>\n",
              "    <tr>\n",
              "      <td>0</td>\n",
              "      <td>в разводе</td>\n",
              "      <td>1110</td>\n",
              "      <td>85</td>\n",
              "    </tr>\n",
              "    <tr>\n",
              "      <td>1</td>\n",
              "      <td>вдовец / вдова</td>\n",
              "      <td>896</td>\n",
              "      <td>63</td>\n",
              "    </tr>\n",
              "    <tr>\n",
              "      <td>2</td>\n",
              "      <td>гражданский брак</td>\n",
              "      <td>3775</td>\n",
              "      <td>388</td>\n",
              "    </tr>\n",
              "    <tr>\n",
              "      <td>3</td>\n",
              "      <td>женат / замужем</td>\n",
              "      <td>11413</td>\n",
              "      <td>931</td>\n",
              "    </tr>\n",
              "    <tr>\n",
              "      <td>4</td>\n",
              "      <td>не женат / не замужем</td>\n",
              "      <td>2536</td>\n",
              "      <td>274</td>\n",
              "    </tr>\n",
              "  </tbody>\n",
              "</table>\n",
              "</div>"
            ],
            "text/plain": [
              "debt    family_status_group      0    1\n",
              "0                 в разводе   1110   85\n",
              "1            вдовец / вдова    896   63\n",
              "2          гражданский брак   3775  388\n",
              "3           женат / замужем  11413  931\n",
              "4     не женат / не замужем   2536  274"
            ]
          },
          "metadata": {},
          "output_type": "display_data"
        }
      ],
      "source": [
        "display(family_status_pivot)"
      ]
    },
    {
      "cell_type": "code",
      "execution_count": null,
      "metadata": {
        "id": "ODnc6jr4CsKm"
      },
      "outputs": [],
      "source": [
        "family_status_pivot['debt_ratio'] = family_status_pivot[0] / (family_status_pivot[0] + family_status_pivot[1])"
      ]
    },
    {
      "cell_type": "code",
      "execution_count": null,
      "metadata": {
        "id": "Re-DL--aCsKm",
        "outputId": "f4a5b23b-4cbf-4833-b409-6a0e12ce3dc3"
      },
      "outputs": [
        {
          "data": {
            "text/html": [
              "<div>\n",
              "<style scoped>\n",
              "    .dataframe tbody tr th:only-of-type {\n",
              "        vertical-align: middle;\n",
              "    }\n",
              "\n",
              "    .dataframe tbody tr th {\n",
              "        vertical-align: top;\n",
              "    }\n",
              "\n",
              "    .dataframe thead th {\n",
              "        text-align: right;\n",
              "    }\n",
              "</style>\n",
              "<table border=\"1\" class=\"dataframe\">\n",
              "  <thead>\n",
              "    <tr style=\"text-align: right;\">\n",
              "      <th>debt</th>\n",
              "      <th>family_status_group</th>\n",
              "      <th>0</th>\n",
              "      <th>1</th>\n",
              "      <th>debt_ratio</th>\n",
              "    </tr>\n",
              "  </thead>\n",
              "  <tbody>\n",
              "    <tr>\n",
              "      <td>0</td>\n",
              "      <td>в разводе</td>\n",
              "      <td>1110</td>\n",
              "      <td>85</td>\n",
              "      <td>0.928870</td>\n",
              "    </tr>\n",
              "    <tr>\n",
              "      <td>1</td>\n",
              "      <td>вдовец / вдова</td>\n",
              "      <td>896</td>\n",
              "      <td>63</td>\n",
              "      <td>0.934307</td>\n",
              "    </tr>\n",
              "    <tr>\n",
              "      <td>2</td>\n",
              "      <td>гражданский брак</td>\n",
              "      <td>3775</td>\n",
              "      <td>388</td>\n",
              "      <td>0.906798</td>\n",
              "    </tr>\n",
              "    <tr>\n",
              "      <td>3</td>\n",
              "      <td>женат / замужем</td>\n",
              "      <td>11413</td>\n",
              "      <td>931</td>\n",
              "      <td>0.924579</td>\n",
              "    </tr>\n",
              "    <tr>\n",
              "      <td>4</td>\n",
              "      <td>не женат / не замужем</td>\n",
              "      <td>2536</td>\n",
              "      <td>274</td>\n",
              "      <td>0.902491</td>\n",
              "    </tr>\n",
              "  </tbody>\n",
              "</table>\n",
              "</div>"
            ],
            "text/plain": [
              "debt    family_status_group      0    1  debt_ratio\n",
              "0                 в разводе   1110   85    0.928870\n",
              "1            вдовец / вдова    896   63    0.934307\n",
              "2          гражданский брак   3775  388    0.906798\n",
              "3           женат / замужем  11413  931    0.924579\n",
              "4     не женат / не замужем   2536  274    0.902491"
            ]
          },
          "metadata": {},
          "output_type": "display_data"
        }
      ],
      "source": [
        "display(family_status_pivot)"
      ]
    },
    {
      "cell_type": "markdown",
      "metadata": {
        "id": "Y7s8FwePCsKn"
      },
      "source": [
        "**Вывод**"
      ]
    },
    {
      "cell_type": "markdown",
      "metadata": {
        "id": "AjJ0UK_yCsKn"
      },
      "source": [
        "Долгов меньше у вдовцов. У женатых/замужних и людей в разводе примерно одинаковая доля долгов, но не сильно отличающаяся от предыдущей группы.  У тех кто не женат/не замужем и тех, кто живет в гражданском браке, тоже примерно одинаковая доля долгов, бОльшая, чем у остальных категорий."
      ]
    },
    {
      "cell_type": "markdown",
      "metadata": {
        "id": "PU-puzokCsKo"
      },
      "source": [
        "- Есть ли зависимость между уровнем дохода и возвратом кредита в срок?"
      ]
    },
    {
      "cell_type": "code",
      "execution_count": null,
      "metadata": {
        "id": "QMUYWE2DCsKp"
      },
      "outputs": [],
      "source": [
        "total_income_pivot = df.pivot_table(index='quantile', columns='debt', values='income_type', aggfunc='count').reset_index()"
      ]
    },
    {
      "cell_type": "code",
      "execution_count": null,
      "metadata": {
        "id": "d_wNAmGZCsKp",
        "outputId": "d05f4c6d-dba6-487e-a97a-79f260774a62"
      },
      "outputs": [
        {
          "data": {
            "text/html": [
              "<div>\n",
              "<style scoped>\n",
              "    .dataframe tbody tr th:only-of-type {\n",
              "        vertical-align: middle;\n",
              "    }\n",
              "\n",
              "    .dataframe tbody tr th {\n",
              "        vertical-align: top;\n",
              "    }\n",
              "\n",
              "    .dataframe thead th {\n",
              "        text-align: right;\n",
              "    }\n",
              "</style>\n",
              "<table border=\"1\" class=\"dataframe\">\n",
              "  <thead>\n",
              "    <tr style=\"text-align: right;\">\n",
              "      <th>debt</th>\n",
              "      <th>quantile</th>\n",
              "      <th>0</th>\n",
              "      <th>1</th>\n",
              "    </tr>\n",
              "  </thead>\n",
              "  <tbody>\n",
              "    <tr>\n",
              "      <td>0</td>\n",
              "      <td>(20666.999, 122875.667]</td>\n",
              "      <td>6576</td>\n",
              "      <td>581</td>\n",
              "    </tr>\n",
              "    <tr>\n",
              "      <td>1</td>\n",
              "      <td>(122875.667, 176786.0]</td>\n",
              "      <td>6523</td>\n",
              "      <td>634</td>\n",
              "    </tr>\n",
              "    <tr>\n",
              "      <td>2</td>\n",
              "      <td>(176786.0, 2265604.0]</td>\n",
              "      <td>6631</td>\n",
              "      <td>526</td>\n",
              "    </tr>\n",
              "  </tbody>\n",
              "</table>\n",
              "</div>"
            ],
            "text/plain": [
              "debt                 quantile     0    1\n",
              "0     (20666.999, 122875.667]  6576  581\n",
              "1      (122875.667, 176786.0]  6523  634\n",
              "2       (176786.0, 2265604.0]  6631  526"
            ]
          },
          "metadata": {},
          "output_type": "display_data"
        }
      ],
      "source": [
        "display(total_income_pivot)"
      ]
    },
    {
      "cell_type": "code",
      "execution_count": null,
      "metadata": {
        "id": "quSPCuxMCsKv"
      },
      "outputs": [],
      "source": [
        "total_income_pivot['debt_ratio'] = total_income_pivot[0] / (total_income_pivot[0] + total_income_pivot[1])"
      ]
    },
    {
      "cell_type": "code",
      "execution_count": null,
      "metadata": {
        "id": "mPhbyV7GCsKw",
        "outputId": "1a7e2830-b533-48b8-96d1-78323f00a2aa"
      },
      "outputs": [
        {
          "data": {
            "text/html": [
              "<div>\n",
              "<style scoped>\n",
              "    .dataframe tbody tr th:only-of-type {\n",
              "        vertical-align: middle;\n",
              "    }\n",
              "\n",
              "    .dataframe tbody tr th {\n",
              "        vertical-align: top;\n",
              "    }\n",
              "\n",
              "    .dataframe thead th {\n",
              "        text-align: right;\n",
              "    }\n",
              "</style>\n",
              "<table border=\"1\" class=\"dataframe\">\n",
              "  <thead>\n",
              "    <tr style=\"text-align: right;\">\n",
              "      <th>debt</th>\n",
              "      <th>quantile</th>\n",
              "      <th>0</th>\n",
              "      <th>1</th>\n",
              "      <th>debt_ratio</th>\n",
              "    </tr>\n",
              "  </thead>\n",
              "  <tbody>\n",
              "    <tr>\n",
              "      <td>0</td>\n",
              "      <td>(20666.999, 122875.667]</td>\n",
              "      <td>6576</td>\n",
              "      <td>581</td>\n",
              "      <td>0.918821</td>\n",
              "    </tr>\n",
              "    <tr>\n",
              "      <td>1</td>\n",
              "      <td>(122875.667, 176786.0]</td>\n",
              "      <td>6523</td>\n",
              "      <td>634</td>\n",
              "      <td>0.911415</td>\n",
              "    </tr>\n",
              "    <tr>\n",
              "      <td>2</td>\n",
              "      <td>(176786.0, 2265604.0]</td>\n",
              "      <td>6631</td>\n",
              "      <td>526</td>\n",
              "      <td>0.926506</td>\n",
              "    </tr>\n",
              "  </tbody>\n",
              "</table>\n",
              "</div>"
            ],
            "text/plain": [
              "debt                 quantile     0    1  debt_ratio\n",
              "0     (20666.999, 122875.667]  6576  581    0.918821\n",
              "1      (122875.667, 176786.0]  6523  634    0.911415\n",
              "2       (176786.0, 2265604.0]  6631  526    0.926506"
            ]
          },
          "metadata": {},
          "output_type": "display_data"
        }
      ],
      "source": [
        "display(total_income_pivot)"
      ]
    },
    {
      "cell_type": "markdown",
      "metadata": {
        "id": "129K35UeCsKw"
      },
      "source": [
        "**Вывод**"
      ]
    },
    {
      "cell_type": "markdown",
      "metadata": {
        "id": "W9bIVNqXCsKx"
      },
      "source": [
        "Люди из категории богатые чаще возвращают долги в срок. Бедные и средний класс примерно на одном уровне."
      ]
    },
    {
      "cell_type": "markdown",
      "metadata": {
        "id": "lUXuNrSgCsKx"
      },
      "source": [
        "- Как разные цели кредита влияют на его возврат в срок?"
      ]
    },
    {
      "cell_type": "code",
      "execution_count": null,
      "metadata": {
        "id": "UmWFAyUcCsKz"
      },
      "outputs": [],
      "source": [
        "purpose_category_pivot = df.pivot_table(index='purpose_category', columns='debt', values='income_type', aggfunc='count').reset_index()"
      ]
    },
    {
      "cell_type": "code",
      "execution_count": null,
      "metadata": {
        "id": "yssBVhzzCsKz",
        "outputId": "a22a9fca-56ce-4fff-f5db-b04684445911"
      },
      "outputs": [
        {
          "data": {
            "text/html": [
              "<div>\n",
              "<style scoped>\n",
              "    .dataframe tbody tr th:only-of-type {\n",
              "        vertical-align: middle;\n",
              "    }\n",
              "\n",
              "    .dataframe tbody tr th {\n",
              "        vertical-align: top;\n",
              "    }\n",
              "\n",
              "    .dataframe thead th {\n",
              "        text-align: right;\n",
              "    }\n",
              "</style>\n",
              "<table border=\"1\" class=\"dataframe\">\n",
              "  <thead>\n",
              "    <tr style=\"text-align: right;\">\n",
              "      <th>debt</th>\n",
              "      <th>purpose_category</th>\n",
              "      <th>0</th>\n",
              "      <th>1</th>\n",
              "    </tr>\n",
              "  </thead>\n",
              "  <tbody>\n",
              "    <tr>\n",
              "      <td>0</td>\n",
              "      <td>образование</td>\n",
              "      <td>3644</td>\n",
              "      <td>370</td>\n",
              "    </tr>\n",
              "    <tr>\n",
              "      <td>1</td>\n",
              "      <td>покупка автомобиля</td>\n",
              "      <td>3905</td>\n",
              "      <td>403</td>\n",
              "    </tr>\n",
              "    <tr>\n",
              "      <td>2</td>\n",
              "      <td>покупка недвижимости</td>\n",
              "      <td>8297</td>\n",
              "      <td>638</td>\n",
              "    </tr>\n",
              "    <tr>\n",
              "      <td>3</td>\n",
              "      <td>свадьба</td>\n",
              "      <td>2149</td>\n",
              "      <td>186</td>\n",
              "    </tr>\n",
              "    <tr>\n",
              "      <td>4</td>\n",
              "      <td>строительство недвижимости</td>\n",
              "      <td>1735</td>\n",
              "      <td>144</td>\n",
              "    </tr>\n",
              "  </tbody>\n",
              "</table>\n",
              "</div>"
            ],
            "text/plain": [
              "debt            purpose_category     0    1\n",
              "0                    образование  3644  370\n",
              "1             покупка автомобиля  3905  403\n",
              "2           покупка недвижимости  8297  638\n",
              "3                        свадьба  2149  186\n",
              "4     строительство недвижимости  1735  144"
            ]
          },
          "metadata": {},
          "output_type": "display_data"
        }
      ],
      "source": [
        "display(purpose_category_pivot)"
      ]
    },
    {
      "cell_type": "code",
      "execution_count": null,
      "metadata": {
        "id": "lPXfT2IFCsK0"
      },
      "outputs": [],
      "source": [
        "purpose_category_pivot['debt_ratio'] = purpose_category_pivot[0] / (purpose_category_pivot[0] + purpose_category_pivot[1])"
      ]
    },
    {
      "cell_type": "code",
      "execution_count": null,
      "metadata": {
        "id": "dh97qXhECsK1",
        "outputId": "48fffcd2-ffe9-409a-aa44-6d14439302f1"
      },
      "outputs": [
        {
          "data": {
            "text/html": [
              "<div>\n",
              "<style scoped>\n",
              "    .dataframe tbody tr th:only-of-type {\n",
              "        vertical-align: middle;\n",
              "    }\n",
              "\n",
              "    .dataframe tbody tr th {\n",
              "        vertical-align: top;\n",
              "    }\n",
              "\n",
              "    .dataframe thead th {\n",
              "        text-align: right;\n",
              "    }\n",
              "</style>\n",
              "<table border=\"1\" class=\"dataframe\">\n",
              "  <thead>\n",
              "    <tr style=\"text-align: right;\">\n",
              "      <th>debt</th>\n",
              "      <th>purpose_category</th>\n",
              "      <th>0</th>\n",
              "      <th>1</th>\n",
              "      <th>debt_ratio</th>\n",
              "    </tr>\n",
              "  </thead>\n",
              "  <tbody>\n",
              "    <tr>\n",
              "      <td>0</td>\n",
              "      <td>образование</td>\n",
              "      <td>3644</td>\n",
              "      <td>370</td>\n",
              "      <td>0.907823</td>\n",
              "    </tr>\n",
              "    <tr>\n",
              "      <td>1</td>\n",
              "      <td>покупка автомобиля</td>\n",
              "      <td>3905</td>\n",
              "      <td>403</td>\n",
              "      <td>0.906453</td>\n",
              "    </tr>\n",
              "    <tr>\n",
              "      <td>2</td>\n",
              "      <td>покупка недвижимости</td>\n",
              "      <td>8297</td>\n",
              "      <td>638</td>\n",
              "      <td>0.928595</td>\n",
              "    </tr>\n",
              "    <tr>\n",
              "      <td>3</td>\n",
              "      <td>свадьба</td>\n",
              "      <td>2149</td>\n",
              "      <td>186</td>\n",
              "      <td>0.920343</td>\n",
              "    </tr>\n",
              "    <tr>\n",
              "      <td>4</td>\n",
              "      <td>строительство недвижимости</td>\n",
              "      <td>1735</td>\n",
              "      <td>144</td>\n",
              "      <td>0.923363</td>\n",
              "    </tr>\n",
              "  </tbody>\n",
              "</table>\n",
              "</div>"
            ],
            "text/plain": [
              "debt            purpose_category     0    1  debt_ratio\n",
              "0                    образование  3644  370    0.907823\n",
              "1             покупка автомобиля  3905  403    0.906453\n",
              "2           покупка недвижимости  8297  638    0.928595\n",
              "3                        свадьба  2149  186    0.920343\n",
              "4     строительство недвижимости  1735  144    0.923363"
            ]
          },
          "metadata": {},
          "output_type": "display_data"
        }
      ],
      "source": [
        "display(purpose_category_pivot)"
      ]
    },
    {
      "cell_type": "markdown",
      "metadata": {
        "id": "kpQq81IQCsK2"
      },
      "source": [
        "**Вывод**"
      ]
    },
    {
      "cell_type": "markdown",
      "metadata": {
        "id": "PtASrCLfCsK2"
      },
      "source": [
        "Люди, которые взяли кредиты на образование и покупку авто, с меньшей вероятностью вернут деньги в срок, чем люди, которые брали кредит на покупку недвижимости, свадьбу или строительство недвижимости. "
      ]
    },
    {
      "cell_type": "markdown",
      "metadata": {
        "id": "bcUTpQEeCsK4"
      },
      "source": [
        "## Шаг 4. Общий вывод"
      ]
    },
    {
      "cell_type": "markdown",
      "metadata": {
        "id": "Am-QM2O4CsLD"
      },
      "source": [
        "Люди, у которых нет детей, имеют меньше долгов, а значит вероятнее выплатят кредит в срок. \n",
        "\n",
        "У тех кто не женат/не замужем и тех, кто живет в гражданском браке, тоже примерно одинаковая доля долгов, бОльшая, чем у остальных категорий. \n",
        "\n",
        "Богатые чаще возвращают долги в срок.\n",
        "\n",
        "Люди, которые взяли кредиты на образование и покупку авто, с меньшей вероятностью вернут деньги в срок, чем люди, которые брали кредит на покупку недвижимости, свадьбу или строительство недвижимости. "
      ]
    },
    {
      "cell_type": "code",
      "execution_count": null,
      "metadata": {
        "id": "KyZDRrxMCsLH"
      },
      "outputs": [],
      "source": []
    }
  ],
  "metadata": {
    "ExecuteTimeLog": [
      {
        "duration": 853,
        "start_time": "2021-11-29T11:54:49.192Z"
      },
      {
        "duration": 93,
        "start_time": "2021-11-29T13:02:19.302Z"
      },
      {
        "duration": 853,
        "start_time": "2021-11-29T13:11:44.471Z"
      },
      {
        "duration": 30,
        "start_time": "2021-11-29T13:13:11.237Z"
      },
      {
        "duration": 14,
        "start_time": "2021-11-29T13:13:40.870Z"
      },
      {
        "duration": 12,
        "start_time": "2021-11-29T13:19:34.640Z"
      },
      {
        "duration": 134,
        "start_time": "2021-11-29T15:16:37.033Z"
      },
      {
        "duration": 498,
        "start_time": "2021-11-29T15:16:55.541Z"
      },
      {
        "duration": 122,
        "start_time": "2021-11-29T15:17:11.470Z"
      },
      {
        "duration": 136,
        "start_time": "2021-11-29T15:17:23.808Z"
      },
      {
        "duration": 257,
        "start_time": "2021-11-29T15:17:39.036Z"
      },
      {
        "duration": 928,
        "start_time": "2021-11-29T15:18:38.795Z"
      },
      {
        "duration": 15,
        "start_time": "2021-11-29T15:18:39.725Z"
      },
      {
        "duration": 484,
        "start_time": "2021-11-30T14:50:50.127Z"
      },
      {
        "duration": 951,
        "start_time": "2021-11-30T14:51:04.432Z"
      },
      {
        "duration": 471,
        "start_time": "2021-11-30T14:51:05.386Z"
      },
      {
        "duration": 397,
        "start_time": "2021-11-30T14:51:26.164Z"
      },
      {
        "duration": 467,
        "start_time": "2021-11-30T14:51:41.042Z"
      },
      {
        "duration": 29,
        "start_time": "2021-11-30T14:52:10.078Z"
      },
      {
        "duration": 31,
        "start_time": "2021-11-30T14:52:19.418Z"
      },
      {
        "duration": 30,
        "start_time": "2021-11-30T14:53:25.422Z"
      },
      {
        "duration": 1177,
        "start_time": "2021-12-01T14:30:40.397Z"
      },
      {
        "duration": 43,
        "start_time": "2021-12-01T14:30:41.582Z"
      },
      {
        "duration": 21,
        "start_time": "2021-12-01T14:32:11.851Z"
      },
      {
        "duration": 19,
        "start_time": "2021-12-01T14:32:39.430Z"
      },
      {
        "duration": 22,
        "start_time": "2021-12-01T14:33:03.576Z"
      },
      {
        "duration": 32,
        "start_time": "2021-12-01T15:18:50.577Z"
      },
      {
        "duration": 437,
        "start_time": "2021-12-01T15:25:21.744Z"
      },
      {
        "duration": 6,
        "start_time": "2021-12-01T15:25:31.463Z"
      },
      {
        "duration": 6,
        "start_time": "2021-12-01T15:26:19.137Z"
      },
      {
        "duration": 1147,
        "start_time": "2021-12-01T15:26:27.259Z"
      },
      {
        "duration": 7,
        "start_time": "2021-12-01T15:26:28.410Z"
      },
      {
        "duration": 10,
        "start_time": "2021-12-01T15:26:44.566Z"
      },
      {
        "duration": 39,
        "start_time": "2021-12-01T15:52:45.303Z"
      },
      {
        "duration": 8241,
        "start_time": "2021-12-01T15:53:53.586Z"
      },
      {
        "duration": 1207,
        "start_time": "2021-12-01T15:54:30.372Z"
      },
      {
        "duration": 59,
        "start_time": "2021-12-01T15:54:31.582Z"
      },
      {
        "duration": 5,
        "start_time": "2021-12-01T15:54:52.610Z"
      },
      {
        "duration": 4,
        "start_time": "2021-12-01T15:55:14.070Z"
      },
      {
        "duration": 63,
        "start_time": "2021-12-01T15:56:19.373Z"
      },
      {
        "duration": 17,
        "start_time": "2021-12-01T15:57:45.769Z"
      },
      {
        "duration": 801,
        "start_time": "2021-12-01T15:57:54.703Z"
      },
      {
        "duration": 77,
        "start_time": "2021-12-01T15:57:55.507Z"
      },
      {
        "duration": 29,
        "start_time": "2021-12-01T15:57:55.587Z"
      },
      {
        "duration": 22,
        "start_time": "2021-12-01T15:57:55.618Z"
      },
      {
        "duration": 84,
        "start_time": "2021-12-01T15:57:55.643Z"
      },
      {
        "duration": 988,
        "start_time": "2021-12-01T15:59:29.068Z"
      },
      {
        "duration": 100,
        "start_time": "2021-12-01T15:59:30.060Z"
      },
      {
        "duration": 49,
        "start_time": "2021-12-01T15:59:30.165Z"
      },
      {
        "duration": 45,
        "start_time": "2021-12-01T15:59:30.218Z"
      },
      {
        "duration": 35,
        "start_time": "2021-12-01T15:59:30.266Z"
      },
      {
        "duration": 47,
        "start_time": "2021-12-01T15:59:30.304Z"
      },
      {
        "duration": 34,
        "start_time": "2021-12-01T15:59:30.354Z"
      },
      {
        "duration": 10,
        "start_time": "2021-12-01T15:59:30.393Z"
      },
      {
        "duration": 17,
        "start_time": "2021-12-01T16:15:36.012Z"
      },
      {
        "duration": 11,
        "start_time": "2021-12-01T16:17:51.980Z"
      },
      {
        "duration": 891,
        "start_time": "2021-12-01T16:18:48.380Z"
      },
      {
        "duration": 99,
        "start_time": "2021-12-01T16:18:49.275Z"
      },
      {
        "duration": 41,
        "start_time": "2021-12-01T16:18:49.378Z"
      },
      {
        "duration": 23,
        "start_time": "2021-12-01T16:18:49.422Z"
      },
      {
        "duration": 4,
        "start_time": "2021-12-01T16:18:54.799Z"
      },
      {
        "duration": 61,
        "start_time": "2021-12-01T16:18:54.941Z"
      },
      {
        "duration": 18,
        "start_time": "2021-12-01T16:18:55.005Z"
      },
      {
        "duration": 22,
        "start_time": "2021-12-01T16:18:55.026Z"
      },
      {
        "duration": 14,
        "start_time": "2021-12-01T16:18:55.082Z"
      },
      {
        "duration": 757,
        "start_time": "2021-12-01T16:19:05.588Z"
      },
      {
        "duration": 65,
        "start_time": "2021-12-01T16:19:06.347Z"
      },
      {
        "duration": 31,
        "start_time": "2021-12-01T16:19:06.415Z"
      },
      {
        "duration": 38,
        "start_time": "2021-12-01T16:19:06.449Z"
      },
      {
        "duration": 13,
        "start_time": "2021-12-01T16:19:06.490Z"
      },
      {
        "duration": 19,
        "start_time": "2021-12-01T16:22:29.150Z"
      },
      {
        "duration": 8,
        "start_time": "2021-12-01T16:32:40.575Z"
      },
      {
        "duration": 21,
        "start_time": "2021-12-01T16:53:01.342Z"
      },
      {
        "duration": 769,
        "start_time": "2021-12-01T16:54:18.716Z"
      },
      {
        "duration": 312,
        "start_time": "2021-12-01T16:55:15.598Z"
      },
      {
        "duration": 350,
        "start_time": "2021-12-01T16:55:30.642Z"
      },
      {
        "duration": 8,
        "start_time": "2021-12-01T16:58:25.306Z"
      },
      {
        "duration": 384,
        "start_time": "2021-12-01T17:07:03.596Z"
      },
      {
        "duration": 984,
        "start_time": "2021-12-01T17:07:08.312Z"
      },
      {
        "duration": 90,
        "start_time": "2021-12-01T17:07:09.299Z"
      },
      {
        "duration": 44,
        "start_time": "2021-12-01T17:07:09.393Z"
      },
      {
        "duration": 42,
        "start_time": "2021-12-01T17:07:09.440Z"
      },
      {
        "duration": 13,
        "start_time": "2021-12-01T17:07:09.485Z"
      },
      {
        "duration": 21,
        "start_time": "2021-12-01T17:07:09.501Z"
      },
      {
        "duration": 798,
        "start_time": "2021-12-01T17:07:17.483Z"
      },
      {
        "duration": 70,
        "start_time": "2021-12-01T17:07:18.284Z"
      },
      {
        "duration": 38,
        "start_time": "2021-12-01T17:07:18.357Z"
      },
      {
        "duration": 17,
        "start_time": "2021-12-01T17:07:18.397Z"
      },
      {
        "duration": 13,
        "start_time": "2021-12-01T17:07:18.417Z"
      },
      {
        "duration": 20,
        "start_time": "2021-12-01T17:07:18.483Z"
      },
      {
        "duration": 7,
        "start_time": "2021-12-01T17:16:20.972Z"
      },
      {
        "duration": 7,
        "start_time": "2021-12-01T17:16:36.003Z"
      },
      {
        "duration": 858,
        "start_time": "2021-12-02T14:29:41.271Z"
      },
      {
        "duration": 68,
        "start_time": "2021-12-02T14:29:42.132Z"
      },
      {
        "duration": 40,
        "start_time": "2021-12-02T14:29:42.203Z"
      },
      {
        "duration": 32,
        "start_time": "2021-12-02T14:29:42.248Z"
      },
      {
        "duration": 47,
        "start_time": "2021-12-02T14:29:42.284Z"
      },
      {
        "duration": 37,
        "start_time": "2021-12-02T14:29:42.334Z"
      },
      {
        "duration": 10,
        "start_time": "2021-12-02T14:29:42.375Z"
      },
      {
        "duration": 45,
        "start_time": "2021-12-02T14:29:42.390Z"
      },
      {
        "duration": 7,
        "start_time": "2021-12-02T14:31:45.435Z"
      },
      {
        "duration": 8,
        "start_time": "2021-12-02T14:32:20.449Z"
      },
      {
        "duration": 7,
        "start_time": "2021-12-02T14:33:34.382Z"
      },
      {
        "duration": 935,
        "start_time": "2021-12-02T14:33:59.223Z"
      },
      {
        "duration": 76,
        "start_time": "2021-12-02T14:34:00.161Z"
      },
      {
        "duration": 30,
        "start_time": "2021-12-02T14:34:00.240Z"
      },
      {
        "duration": 19,
        "start_time": "2021-12-02T14:34:00.273Z"
      },
      {
        "duration": 45,
        "start_time": "2021-12-02T14:34:00.294Z"
      },
      {
        "duration": 23,
        "start_time": "2021-12-02T14:34:00.342Z"
      },
      {
        "duration": 7,
        "start_time": "2021-12-02T14:34:00.368Z"
      },
      {
        "duration": 20,
        "start_time": "2021-12-02T14:34:00.378Z"
      },
      {
        "duration": 6,
        "start_time": "2021-12-02T14:54:38.929Z"
      },
      {
        "duration": 780,
        "start_time": "2021-12-02T15:16:18.156Z"
      },
      {
        "duration": 6,
        "start_time": "2021-12-02T15:16:34.266Z"
      },
      {
        "duration": 4340,
        "start_time": "2021-12-02T15:17:03.553Z"
      },
      {
        "duration": 3440,
        "start_time": "2021-12-02T15:17:13.282Z"
      },
      {
        "duration": 296,
        "start_time": "2021-12-02T15:17:58.951Z"
      },
      {
        "duration": 2972,
        "start_time": "2021-12-02T15:18:07.451Z"
      },
      {
        "duration": 3582,
        "start_time": "2021-12-02T15:19:28.962Z"
      },
      {
        "duration": 8,
        "start_time": "2021-12-02T15:21:20.863Z"
      },
      {
        "duration": 3912,
        "start_time": "2021-12-02T15:21:55.907Z"
      },
      {
        "duration": 3953,
        "start_time": "2021-12-02T15:23:10.865Z"
      },
      {
        "duration": 748,
        "start_time": "2021-12-02T15:23:32.273Z"
      },
      {
        "duration": 76,
        "start_time": "2021-12-02T15:23:33.024Z"
      },
      {
        "duration": 48,
        "start_time": "2021-12-02T15:23:33.103Z"
      },
      {
        "duration": 29,
        "start_time": "2021-12-02T15:23:33.155Z"
      },
      {
        "duration": 50,
        "start_time": "2021-12-02T15:23:33.187Z"
      },
      {
        "duration": 25,
        "start_time": "2021-12-02T15:23:33.240Z"
      },
      {
        "duration": 14,
        "start_time": "2021-12-02T15:23:33.268Z"
      },
      {
        "duration": 10,
        "start_time": "2021-12-02T15:23:33.285Z"
      },
      {
        "duration": 3647,
        "start_time": "2021-12-02T15:23:33.331Z"
      },
      {
        "duration": 4172,
        "start_time": "2021-12-02T15:23:36.981Z"
      },
      {
        "duration": 295,
        "start_time": "2021-12-02T15:25:20.509Z"
      },
      {
        "duration": 758,
        "start_time": "2021-12-02T15:25:32.081Z"
      },
      {
        "duration": 349,
        "start_time": "2021-12-02T15:25:43.753Z"
      },
      {
        "duration": 12,
        "start_time": "2021-12-02T15:27:21.955Z"
      },
      {
        "duration": 814,
        "start_time": "2021-12-02T15:38:38.190Z"
      },
      {
        "duration": 66,
        "start_time": "2021-12-02T15:38:39.007Z"
      },
      {
        "duration": 32,
        "start_time": "2021-12-02T15:38:39.076Z"
      },
      {
        "duration": 18,
        "start_time": "2021-12-02T15:38:39.130Z"
      },
      {
        "duration": 13,
        "start_time": "2021-12-02T15:38:39.150Z"
      },
      {
        "duration": 62,
        "start_time": "2021-12-02T15:38:39.166Z"
      },
      {
        "duration": 6,
        "start_time": "2021-12-02T15:38:39.230Z"
      },
      {
        "duration": 24,
        "start_time": "2021-12-02T15:38:39.239Z"
      },
      {
        "duration": 3439,
        "start_time": "2021-12-02T15:38:39.265Z"
      },
      {
        "duration": 386,
        "start_time": "2021-12-02T15:38:42.707Z"
      },
      {
        "duration": 12,
        "start_time": "2021-12-02T15:39:00.958Z"
      },
      {
        "duration": 25,
        "start_time": "2021-12-02T15:45:38.078Z"
      },
      {
        "duration": 7,
        "start_time": "2021-12-02T15:45:48.707Z"
      },
      {
        "duration": 17,
        "start_time": "2021-12-02T15:45:55.258Z"
      },
      {
        "duration": 17,
        "start_time": "2021-12-02T15:48:19.635Z"
      },
      {
        "duration": 17,
        "start_time": "2021-12-02T15:48:38.570Z"
      },
      {
        "duration": 310,
        "start_time": "2021-12-03T12:39:52.447Z"
      },
      {
        "duration": 587,
        "start_time": "2021-12-03T12:39:58.428Z"
      },
      {
        "duration": 49,
        "start_time": "2021-12-03T12:39:59.016Z"
      },
      {
        "duration": 18,
        "start_time": "2021-12-03T12:39:59.066Z"
      },
      {
        "duration": 13,
        "start_time": "2021-12-03T12:39:59.085Z"
      },
      {
        "duration": 11,
        "start_time": "2021-12-03T12:39:59.099Z"
      },
      {
        "duration": 34,
        "start_time": "2021-12-03T12:39:59.112Z"
      },
      {
        "duration": 8,
        "start_time": "2021-12-03T12:39:59.148Z"
      },
      {
        "duration": 5,
        "start_time": "2021-12-03T12:41:09.133Z"
      },
      {
        "duration": 3,
        "start_time": "2021-12-03T12:41:27.567Z"
      },
      {
        "duration": 6,
        "start_time": "2021-12-03T12:42:04.269Z"
      },
      {
        "duration": 8,
        "start_time": "2021-12-03T12:42:29.980Z"
      },
      {
        "duration": 352,
        "start_time": "2021-12-03T12:42:46.552Z"
      },
      {
        "duration": 5,
        "start_time": "2021-12-03T12:43:07.601Z"
      },
      {
        "duration": 8,
        "start_time": "2021-12-03T12:43:24.422Z"
      },
      {
        "duration": 6,
        "start_time": "2021-12-03T12:43:38.205Z"
      },
      {
        "duration": 263,
        "start_time": "2021-12-03T12:43:54.454Z"
      },
      {
        "duration": 3,
        "start_time": "2021-12-03T12:44:08.946Z"
      },
      {
        "duration": 4,
        "start_time": "2021-12-03T12:44:25.124Z"
      },
      {
        "duration": 6,
        "start_time": "2021-12-03T12:44:38.674Z"
      },
      {
        "duration": 366,
        "start_time": "2021-12-03T12:45:16.636Z"
      },
      {
        "duration": 5,
        "start_time": "2021-12-03T12:45:28.837Z"
      },
      {
        "duration": 6,
        "start_time": "2021-12-03T12:45:38.722Z"
      },
      {
        "duration": 6,
        "start_time": "2021-12-03T12:46:16.378Z"
      },
      {
        "duration": 6,
        "start_time": "2021-12-03T12:46:45.886Z"
      },
      {
        "duration": 4,
        "start_time": "2021-12-03T12:47:17.721Z"
      },
      {
        "duration": 4,
        "start_time": "2021-12-03T12:47:43.045Z"
      },
      {
        "duration": 6,
        "start_time": "2021-12-03T12:49:00.068Z"
      },
      {
        "duration": 13,
        "start_time": "2021-12-03T12:50:18.581Z"
      },
      {
        "duration": 26,
        "start_time": "2021-12-03T12:53:15.504Z"
      },
      {
        "duration": 26,
        "start_time": "2021-12-03T12:53:26.736Z"
      },
      {
        "duration": 11,
        "start_time": "2021-12-03T12:53:32.595Z"
      },
      {
        "duration": 3,
        "start_time": "2021-12-03T12:54:30.711Z"
      },
      {
        "duration": 8,
        "start_time": "2021-12-03T12:54:35.529Z"
      },
      {
        "duration": 11,
        "start_time": "2021-12-03T12:54:47.610Z"
      },
      {
        "duration": 4,
        "start_time": "2021-12-03T12:55:27.591Z"
      },
      {
        "duration": 11,
        "start_time": "2021-12-03T12:55:32.843Z"
      },
      {
        "duration": 4,
        "start_time": "2021-12-03T12:56:38.691Z"
      },
      {
        "duration": 4,
        "start_time": "2021-12-03T12:56:55.426Z"
      },
      {
        "duration": 4,
        "start_time": "2021-12-03T12:57:41.994Z"
      },
      {
        "duration": 6,
        "start_time": "2021-12-03T12:57:43.220Z"
      },
      {
        "duration": 5,
        "start_time": "2021-12-03T13:13:38.451Z"
      },
      {
        "duration": 6,
        "start_time": "2021-12-03T13:14:19.156Z"
      },
      {
        "duration": 11,
        "start_time": "2021-12-03T13:14:28.197Z"
      },
      {
        "duration": 628,
        "start_time": "2021-12-03T13:14:59.072Z"
      },
      {
        "duration": 54,
        "start_time": "2021-12-03T13:14:59.701Z"
      },
      {
        "duration": 19,
        "start_time": "2021-12-03T13:14:59.758Z"
      },
      {
        "duration": 18,
        "start_time": "2021-12-03T13:14:59.778Z"
      },
      {
        "duration": 9,
        "start_time": "2021-12-03T13:14:59.797Z"
      },
      {
        "duration": 14,
        "start_time": "2021-12-03T13:14:59.808Z"
      },
      {
        "duration": 27,
        "start_time": "2021-12-03T13:14:59.824Z"
      },
      {
        "duration": 5,
        "start_time": "2021-12-03T13:14:59.854Z"
      },
      {
        "duration": 15,
        "start_time": "2021-12-03T13:14:59.861Z"
      },
      {
        "duration": 11,
        "start_time": "2021-12-03T13:14:59.878Z"
      },
      {
        "duration": 5,
        "start_time": "2021-12-03T13:31:44.824Z"
      },
      {
        "duration": 127,
        "start_time": "2021-12-03T13:35:11.297Z"
      },
      {
        "duration": 631,
        "start_time": "2021-12-03T13:35:33.630Z"
      },
      {
        "duration": 52,
        "start_time": "2021-12-03T13:35:34.264Z"
      },
      {
        "duration": 20,
        "start_time": "2021-12-03T13:35:34.318Z"
      },
      {
        "duration": 23,
        "start_time": "2021-12-03T13:35:34.340Z"
      },
      {
        "duration": 11,
        "start_time": "2021-12-03T13:35:34.365Z"
      },
      {
        "duration": 13,
        "start_time": "2021-12-03T13:35:34.378Z"
      },
      {
        "duration": 6,
        "start_time": "2021-12-03T13:35:34.393Z"
      },
      {
        "duration": 88,
        "start_time": "2021-12-03T13:35:34.401Z"
      },
      {
        "duration": -257,
        "start_time": "2021-12-03T13:35:34.748Z"
      },
      {
        "duration": -268,
        "start_time": "2021-12-03T13:35:34.761Z"
      },
      {
        "duration": 120,
        "start_time": "2021-12-03T13:36:06.891Z"
      },
      {
        "duration": 5,
        "start_time": "2021-12-03T13:36:52.412Z"
      },
      {
        "duration": 103,
        "start_time": "2021-12-03T13:36:56.008Z"
      },
      {
        "duration": 752,
        "start_time": "2021-12-03T13:38:04.847Z"
      },
      {
        "duration": 60,
        "start_time": "2021-12-03T13:38:05.601Z"
      },
      {
        "duration": 21,
        "start_time": "2021-12-03T13:38:05.664Z"
      },
      {
        "duration": 15,
        "start_time": "2021-12-03T13:38:05.687Z"
      },
      {
        "duration": 10,
        "start_time": "2021-12-03T13:38:05.703Z"
      },
      {
        "duration": 40,
        "start_time": "2021-12-03T13:38:05.715Z"
      },
      {
        "duration": 8,
        "start_time": "2021-12-03T13:38:05.757Z"
      },
      {
        "duration": 103,
        "start_time": "2021-12-03T13:38:05.768Z"
      },
      {
        "duration": -51,
        "start_time": "2021-12-03T13:38:05.925Z"
      },
      {
        "duration": -55,
        "start_time": "2021-12-03T13:38:05.930Z"
      },
      {
        "duration": 86,
        "start_time": "2021-12-03T13:38:17.803Z"
      },
      {
        "duration": 98,
        "start_time": "2021-12-03T13:38:25.948Z"
      },
      {
        "duration": 5,
        "start_time": "2021-12-03T13:39:42.862Z"
      },
      {
        "duration": 84,
        "start_time": "2021-12-03T13:48:03.588Z"
      },
      {
        "duration": 98,
        "start_time": "2021-12-03T13:48:09.374Z"
      },
      {
        "duration": 585,
        "start_time": "2021-12-03T13:48:21.595Z"
      },
      {
        "duration": 613,
        "start_time": "2021-12-03T13:48:30.432Z"
      },
      {
        "duration": 614,
        "start_time": "2021-12-03T13:48:55.258Z"
      },
      {
        "duration": 48,
        "start_time": "2021-12-03T13:48:55.874Z"
      },
      {
        "duration": 23,
        "start_time": "2021-12-03T13:48:55.924Z"
      },
      {
        "duration": 22,
        "start_time": "2021-12-03T13:48:55.951Z"
      },
      {
        "duration": 16,
        "start_time": "2021-12-03T13:48:55.975Z"
      },
      {
        "duration": 11,
        "start_time": "2021-12-03T13:48:55.993Z"
      },
      {
        "duration": 591,
        "start_time": "2021-12-03T13:48:56.006Z"
      },
      {
        "duration": -47,
        "start_time": "2021-12-03T13:48:56.646Z"
      },
      {
        "duration": -51,
        "start_time": "2021-12-03T13:48:56.652Z"
      },
      {
        "duration": 322,
        "start_time": "2021-12-03T13:50:38.763Z"
      },
      {
        "duration": 7,
        "start_time": "2021-12-03T13:50:52.803Z"
      },
      {
        "duration": 11,
        "start_time": "2021-12-03T13:51:03.394Z"
      },
      {
        "duration": 277,
        "start_time": "2021-12-03T15:19:44.123Z"
      },
      {
        "duration": 5,
        "start_time": "2021-12-03T15:19:50.535Z"
      },
      {
        "duration": 12,
        "start_time": "2021-12-03T15:19:53.707Z"
      },
      {
        "duration": 12,
        "start_time": "2021-12-03T15:41:24.603Z"
      },
      {
        "duration": 621,
        "start_time": "2021-12-03T15:45:24.029Z"
      },
      {
        "duration": 52,
        "start_time": "2021-12-03T15:45:24.651Z"
      },
      {
        "duration": 18,
        "start_time": "2021-12-03T15:45:24.705Z"
      },
      {
        "duration": 39,
        "start_time": "2021-12-03T15:45:24.725Z"
      },
      {
        "duration": 20,
        "start_time": "2021-12-03T15:45:24.765Z"
      },
      {
        "duration": 38,
        "start_time": "2021-12-03T15:45:24.786Z"
      },
      {
        "duration": 8,
        "start_time": "2021-12-03T15:45:24.826Z"
      },
      {
        "duration": 37,
        "start_time": "2021-12-03T15:45:24.835Z"
      },
      {
        "duration": 142,
        "start_time": "2021-12-03T15:57:30.533Z"
      },
      {
        "duration": 388,
        "start_time": "2021-12-03T15:57:41.954Z"
      },
      {
        "duration": 315,
        "start_time": "2021-12-03T15:58:11.787Z"
      },
      {
        "duration": 631,
        "start_time": "2021-12-03T16:04:40.223Z"
      },
      {
        "duration": 61,
        "start_time": "2021-12-03T16:04:40.856Z"
      },
      {
        "duration": 19,
        "start_time": "2021-12-03T16:04:40.918Z"
      },
      {
        "duration": 13,
        "start_time": "2021-12-03T16:04:40.938Z"
      },
      {
        "duration": 13,
        "start_time": "2021-12-03T16:04:40.954Z"
      },
      {
        "duration": 13,
        "start_time": "2021-12-03T16:04:40.969Z"
      },
      {
        "duration": 322,
        "start_time": "2021-12-03T16:04:40.983Z"
      },
      {
        "duration": 7,
        "start_time": "2021-12-03T16:05:22.945Z"
      },
      {
        "duration": 4,
        "start_time": "2021-12-03T16:08:43.805Z"
      },
      {
        "duration": 6,
        "start_time": "2021-12-03T16:08:52.324Z"
      },
      {
        "duration": 259,
        "start_time": "2021-12-03T16:09:31.804Z"
      },
      {
        "duration": 5,
        "start_time": "2021-12-03T16:10:18.345Z"
      },
      {
        "duration": 3,
        "start_time": "2021-12-03T16:10:58.251Z"
      },
      {
        "duration": 4,
        "start_time": "2021-12-03T16:11:06.338Z"
      },
      {
        "duration": 589,
        "start_time": "2021-12-03T16:11:14.360Z"
      },
      {
        "duration": 50,
        "start_time": "2021-12-03T16:11:14.951Z"
      },
      {
        "duration": 18,
        "start_time": "2021-12-03T16:11:15.003Z"
      },
      {
        "duration": 13,
        "start_time": "2021-12-03T16:11:15.022Z"
      },
      {
        "duration": 9,
        "start_time": "2021-12-03T16:11:15.044Z"
      },
      {
        "duration": 12,
        "start_time": "2021-12-03T16:11:15.055Z"
      },
      {
        "duration": 3,
        "start_time": "2021-12-03T16:11:15.069Z"
      },
      {
        "duration": 6,
        "start_time": "2021-12-03T16:11:15.074Z"
      },
      {
        "duration": 11,
        "start_time": "2021-12-03T16:11:15.081Z"
      },
      {
        "duration": 331,
        "start_time": "2021-12-03T16:11:15.094Z"
      },
      {
        "duration": 6,
        "start_time": "2021-12-03T16:11:35.572Z"
      },
      {
        "duration": 703,
        "start_time": "2021-12-03T16:11:38.491Z"
      },
      {
        "duration": 580,
        "start_time": "2021-12-03T16:11:59.464Z"
      },
      {
        "duration": 52,
        "start_time": "2021-12-03T16:12:00.046Z"
      },
      {
        "duration": 19,
        "start_time": "2021-12-03T16:12:00.100Z"
      },
      {
        "duration": 28,
        "start_time": "2021-12-03T16:12:00.121Z"
      },
      {
        "duration": 20,
        "start_time": "2021-12-03T16:12:00.150Z"
      },
      {
        "duration": 22,
        "start_time": "2021-12-03T16:12:00.171Z"
      },
      {
        "duration": 20,
        "start_time": "2021-12-03T16:12:00.194Z"
      },
      {
        "duration": 14,
        "start_time": "2021-12-03T16:12:00.216Z"
      },
      {
        "duration": 29,
        "start_time": "2021-12-03T16:12:00.232Z"
      },
      {
        "duration": 570,
        "start_time": "2021-12-03T16:12:00.262Z"
      },
      {
        "duration": 4,
        "start_time": "2021-12-03T16:18:20.036Z"
      },
      {
        "duration": 247,
        "start_time": "2021-12-03T16:18:23.796Z"
      },
      {
        "duration": 5,
        "start_time": "2021-12-03T16:18:45.044Z"
      },
      {
        "duration": 4,
        "start_time": "2021-12-03T16:18:59.235Z"
      },
      {
        "duration": 5,
        "start_time": "2021-12-03T16:19:00.452Z"
      },
      {
        "duration": 247,
        "start_time": "2021-12-03T16:19:59.743Z"
      },
      {
        "duration": 4,
        "start_time": "2021-12-03T16:20:04.028Z"
      },
      {
        "duration": 5,
        "start_time": "2021-12-03T16:20:07.098Z"
      },
      {
        "duration": 3,
        "start_time": "2021-12-03T16:20:35.830Z"
      },
      {
        "duration": 5,
        "start_time": "2021-12-03T16:20:37.314Z"
      },
      {
        "duration": 18,
        "start_time": "2021-12-03T16:23:25.243Z"
      },
      {
        "duration": 576,
        "start_time": "2021-12-03T16:23:33.282Z"
      },
      {
        "duration": 49,
        "start_time": "2021-12-03T16:23:33.860Z"
      },
      {
        "duration": 18,
        "start_time": "2021-12-03T16:23:33.911Z"
      },
      {
        "duration": 33,
        "start_time": "2021-12-03T16:23:33.931Z"
      },
      {
        "duration": 26,
        "start_time": "2021-12-03T16:23:33.966Z"
      },
      {
        "duration": 32,
        "start_time": "2021-12-03T16:23:33.993Z"
      },
      {
        "duration": 18,
        "start_time": "2021-12-03T16:23:34.026Z"
      },
      {
        "duration": 29,
        "start_time": "2021-12-03T16:23:34.048Z"
      },
      {
        "duration": 14,
        "start_time": "2021-12-03T16:23:34.079Z"
      },
      {
        "duration": 48,
        "start_time": "2021-12-03T16:23:34.094Z"
      },
      {
        "duration": 310,
        "start_time": "2021-12-03T16:23:56.065Z"
      },
      {
        "duration": 296,
        "start_time": "2021-12-03T16:25:16.817Z"
      },
      {
        "duration": 3,
        "start_time": "2021-12-03T16:27:21.934Z"
      },
      {
        "duration": 5,
        "start_time": "2021-12-03T16:27:24.460Z"
      },
      {
        "duration": 4,
        "start_time": "2021-12-03T16:27:50.306Z"
      },
      {
        "duration": 4,
        "start_time": "2021-12-03T16:27:51.503Z"
      },
      {
        "duration": 4,
        "start_time": "2021-12-03T16:27:54.534Z"
      },
      {
        "duration": 13,
        "start_time": "2021-12-03T16:27:56.206Z"
      },
      {
        "duration": 614,
        "start_time": "2021-12-03T16:28:23.898Z"
      },
      {
        "duration": 59,
        "start_time": "2021-12-03T16:28:24.514Z"
      },
      {
        "duration": 19,
        "start_time": "2021-12-03T16:28:24.575Z"
      },
      {
        "duration": 22,
        "start_time": "2021-12-03T16:28:24.596Z"
      },
      {
        "duration": 10,
        "start_time": "2021-12-03T16:28:24.620Z"
      },
      {
        "duration": 30,
        "start_time": "2021-12-03T16:28:24.632Z"
      },
      {
        "duration": 3,
        "start_time": "2021-12-03T16:28:24.664Z"
      },
      {
        "duration": 7,
        "start_time": "2021-12-03T16:28:24.669Z"
      },
      {
        "duration": 5,
        "start_time": "2021-12-03T16:28:24.678Z"
      },
      {
        "duration": 16,
        "start_time": "2021-12-03T16:28:24.685Z"
      },
      {
        "duration": 3,
        "start_time": "2021-12-03T16:28:35.233Z"
      },
      {
        "duration": 6,
        "start_time": "2021-12-03T16:28:36.400Z"
      },
      {
        "duration": 3,
        "start_time": "2021-12-03T16:28:39.097Z"
      },
      {
        "duration": 12,
        "start_time": "2021-12-03T16:28:39.899Z"
      },
      {
        "duration": 5,
        "start_time": "2021-12-03T16:29:05.777Z"
      },
      {
        "duration": 5,
        "start_time": "2021-12-03T16:29:07.152Z"
      },
      {
        "duration": 3,
        "start_time": "2021-12-03T16:29:35.724Z"
      },
      {
        "duration": 4,
        "start_time": "2021-12-03T16:29:37.265Z"
      },
      {
        "duration": 322,
        "start_time": "2021-12-03T16:29:38.255Z"
      },
      {
        "duration": 4,
        "start_time": "2021-12-03T16:29:56.000Z"
      },
      {
        "duration": 12,
        "start_time": "2021-12-03T16:29:59.176Z"
      },
      {
        "duration": 611,
        "start_time": "2021-12-03T16:30:06.446Z"
      },
      {
        "duration": 51,
        "start_time": "2021-12-03T16:30:07.059Z"
      },
      {
        "duration": 18,
        "start_time": "2021-12-03T16:30:07.112Z"
      },
      {
        "duration": 18,
        "start_time": "2021-12-03T16:30:07.132Z"
      },
      {
        "duration": 13,
        "start_time": "2021-12-03T16:30:07.153Z"
      },
      {
        "duration": 12,
        "start_time": "2021-12-03T16:30:07.168Z"
      },
      {
        "duration": 4,
        "start_time": "2021-12-03T16:30:07.181Z"
      },
      {
        "duration": 5,
        "start_time": "2021-12-03T16:30:07.187Z"
      },
      {
        "duration": 5,
        "start_time": "2021-12-03T16:30:07.194Z"
      },
      {
        "duration": 45,
        "start_time": "2021-12-03T16:30:07.200Z"
      },
      {
        "duration": 6,
        "start_time": "2021-12-03T16:30:29.045Z"
      },
      {
        "duration": 13,
        "start_time": "2021-12-03T16:30:31.016Z"
      },
      {
        "duration": 610,
        "start_time": "2021-12-03T16:30:46.838Z"
      },
      {
        "duration": 52,
        "start_time": "2021-12-03T16:30:47.449Z"
      },
      {
        "duration": 19,
        "start_time": "2021-12-03T16:30:47.503Z"
      },
      {
        "duration": 14,
        "start_time": "2021-12-03T16:30:47.523Z"
      },
      {
        "duration": 14,
        "start_time": "2021-12-03T16:30:47.538Z"
      },
      {
        "duration": 13,
        "start_time": "2021-12-03T16:30:47.553Z"
      },
      {
        "duration": 2,
        "start_time": "2021-12-03T16:30:47.568Z"
      },
      {
        "duration": 4,
        "start_time": "2021-12-03T16:30:47.572Z"
      },
      {
        "duration": 7,
        "start_time": "2021-12-03T16:30:47.578Z"
      },
      {
        "duration": 12,
        "start_time": "2021-12-03T16:30:47.587Z"
      },
      {
        "duration": 6,
        "start_time": "2021-12-03T16:30:59.562Z"
      },
      {
        "duration": 13,
        "start_time": "2021-12-03T16:31:01.795Z"
      },
      {
        "duration": 4,
        "start_time": "2021-12-03T16:32:25.171Z"
      },
      {
        "duration": 3,
        "start_time": "2021-12-03T16:32:53.992Z"
      },
      {
        "duration": 12,
        "start_time": "2021-12-03T16:33:18.272Z"
      },
      {
        "duration": 568,
        "start_time": "2021-12-03T16:34:10.502Z"
      },
      {
        "duration": 52,
        "start_time": "2021-12-03T16:34:11.072Z"
      },
      {
        "duration": 21,
        "start_time": "2021-12-03T16:34:11.126Z"
      },
      {
        "duration": 16,
        "start_time": "2021-12-03T16:34:11.150Z"
      },
      {
        "duration": 11,
        "start_time": "2021-12-03T16:34:11.167Z"
      },
      {
        "duration": 14,
        "start_time": "2021-12-03T16:34:11.180Z"
      },
      {
        "duration": 3,
        "start_time": "2021-12-03T16:34:11.196Z"
      },
      {
        "duration": 4,
        "start_time": "2021-12-03T16:34:11.202Z"
      },
      {
        "duration": 18,
        "start_time": "2021-12-03T16:34:11.245Z"
      },
      {
        "duration": 6,
        "start_time": "2021-12-03T16:36:02.511Z"
      },
      {
        "duration": 8,
        "start_time": "2021-12-03T16:36:37.093Z"
      },
      {
        "duration": 21,
        "start_time": "2021-12-03T16:40:15.843Z"
      },
      {
        "duration": 13,
        "start_time": "2021-12-03T16:40:56.947Z"
      },
      {
        "duration": 14,
        "start_time": "2021-12-03T16:41:08.238Z"
      },
      {
        "duration": 10,
        "start_time": "2021-12-03T16:41:09.895Z"
      },
      {
        "duration": 16,
        "start_time": "2021-12-03T16:43:31.671Z"
      },
      {
        "duration": 12,
        "start_time": "2021-12-03T16:44:46.786Z"
      },
      {
        "duration": 10,
        "start_time": "2021-12-03T16:49:36.141Z"
      },
      {
        "duration": 3,
        "start_time": "2021-12-03T16:49:37.220Z"
      },
      {
        "duration": 318,
        "start_time": "2021-12-03T16:49:37.873Z"
      },
      {
        "duration": 367,
        "start_time": "2021-12-03T16:49:45.580Z"
      },
      {
        "duration": 722,
        "start_time": "2021-12-04T03:55:07.715Z"
      },
      {
        "duration": 66,
        "start_time": "2021-12-04T03:55:08.440Z"
      },
      {
        "duration": 29,
        "start_time": "2021-12-04T03:55:08.509Z"
      },
      {
        "duration": 17,
        "start_time": "2021-12-04T03:55:08.541Z"
      },
      {
        "duration": 14,
        "start_time": "2021-12-04T03:55:08.582Z"
      },
      {
        "duration": 20,
        "start_time": "2021-12-04T03:55:08.598Z"
      },
      {
        "duration": 4,
        "start_time": "2021-12-04T03:55:08.621Z"
      },
      {
        "duration": 6,
        "start_time": "2021-12-04T03:55:08.629Z"
      },
      {
        "duration": 60,
        "start_time": "2021-12-04T03:55:08.638Z"
      },
      {
        "duration": 6,
        "start_time": "2021-12-04T03:55:08.700Z"
      },
      {
        "duration": 9,
        "start_time": "2021-12-04T03:55:08.709Z"
      },
      {
        "duration": 20,
        "start_time": "2021-12-04T03:55:08.720Z"
      },
      {
        "duration": 41,
        "start_time": "2021-12-04T03:55:08.743Z"
      },
      {
        "duration": 28,
        "start_time": "2021-12-04T03:55:08.787Z"
      },
      {
        "duration": 12,
        "start_time": "2021-12-04T03:55:08.818Z"
      },
      {
        "duration": 3,
        "start_time": "2021-12-04T03:55:08.833Z"
      },
      {
        "duration": 370,
        "start_time": "2021-12-04T03:55:08.839Z"
      },
      {
        "duration": 27,
        "start_time": "2021-12-04T04:05:41.648Z"
      },
      {
        "duration": 431,
        "start_time": "2021-12-04T10:30:37.275Z"
      },
      {
        "duration": 361,
        "start_time": "2021-12-04T10:31:02.242Z"
      },
      {
        "duration": 755,
        "start_time": "2021-12-04T10:32:49.169Z"
      },
      {
        "duration": 65,
        "start_time": "2021-12-04T10:32:49.927Z"
      },
      {
        "duration": 30,
        "start_time": "2021-12-04T10:32:49.995Z"
      },
      {
        "duration": 35,
        "start_time": "2021-12-04T10:32:50.027Z"
      },
      {
        "duration": 13,
        "start_time": "2021-12-04T10:32:50.064Z"
      },
      {
        "duration": 19,
        "start_time": "2021-12-04T10:32:50.079Z"
      },
      {
        "duration": 4,
        "start_time": "2021-12-04T10:32:50.100Z"
      },
      {
        "duration": 6,
        "start_time": "2021-12-04T10:32:50.106Z"
      },
      {
        "duration": 66,
        "start_time": "2021-12-04T10:32:50.116Z"
      },
      {
        "duration": 7,
        "start_time": "2021-12-04T10:32:50.185Z"
      },
      {
        "duration": 709,
        "start_time": "2021-12-04T10:32:50.194Z"
      },
      {
        "duration": 6,
        "start_time": "2021-12-04T10:32:50.905Z"
      },
      {
        "duration": 13,
        "start_time": "2021-12-04T10:32:50.914Z"
      },
      {
        "duration": 36,
        "start_time": "2021-12-04T10:32:50.930Z"
      },
      {
        "duration": 15,
        "start_time": "2021-12-04T10:32:50.969Z"
      },
      {
        "duration": 22,
        "start_time": "2021-12-04T10:32:50.986Z"
      },
      {
        "duration": 24,
        "start_time": "2021-12-04T10:32:51.011Z"
      },
      {
        "duration": 5,
        "start_time": "2021-12-04T10:32:51.037Z"
      },
      {
        "duration": 467,
        "start_time": "2021-12-04T10:32:51.061Z"
      },
      {
        "duration": 29,
        "start_time": "2021-12-04T10:48:43.758Z"
      },
      {
        "duration": 749,
        "start_time": "2021-12-04T10:51:22.664Z"
      },
      {
        "duration": 65,
        "start_time": "2021-12-04T10:51:23.416Z"
      },
      {
        "duration": 27,
        "start_time": "2021-12-04T10:51:23.484Z"
      },
      {
        "duration": 16,
        "start_time": "2021-12-04T10:51:23.514Z"
      },
      {
        "duration": 32,
        "start_time": "2021-12-04T10:51:23.532Z"
      },
      {
        "duration": 19,
        "start_time": "2021-12-04T10:51:23.566Z"
      },
      {
        "duration": 4,
        "start_time": "2021-12-04T10:51:23.587Z"
      },
      {
        "duration": 5,
        "start_time": "2021-12-04T10:51:23.595Z"
      },
      {
        "duration": 67,
        "start_time": "2021-12-04T10:51:23.604Z"
      },
      {
        "duration": 8,
        "start_time": "2021-12-04T10:51:23.674Z"
      },
      {
        "duration": 711,
        "start_time": "2021-12-04T10:51:23.685Z"
      },
      {
        "duration": 27,
        "start_time": "2021-12-04T10:51:24.399Z"
      },
      {
        "duration": 7,
        "start_time": "2021-12-04T10:51:24.429Z"
      },
      {
        "duration": 27,
        "start_time": "2021-12-04T10:51:24.438Z"
      },
      {
        "duration": 18,
        "start_time": "2021-12-04T10:51:24.467Z"
      },
      {
        "duration": 13,
        "start_time": "2021-12-04T10:51:24.487Z"
      },
      {
        "duration": 20,
        "start_time": "2021-12-04T10:51:24.502Z"
      },
      {
        "duration": 42,
        "start_time": "2021-12-04T10:51:24.524Z"
      },
      {
        "duration": 4,
        "start_time": "2021-12-04T10:51:24.568Z"
      },
      {
        "duration": 505,
        "start_time": "2021-12-04T10:51:24.574Z"
      },
      {
        "duration": 120,
        "start_time": "2021-12-04T10:57:45.717Z"
      },
      {
        "duration": 649,
        "start_time": "2021-12-04T11:08:04.187Z"
      },
      {
        "duration": 394,
        "start_time": "2021-12-04T11:11:55.889Z"
      },
      {
        "duration": 384,
        "start_time": "2021-12-04T11:12:00.073Z"
      },
      {
        "duration": 3,
        "start_time": "2021-12-04T11:12:02.731Z"
      },
      {
        "duration": 480,
        "start_time": "2021-12-04T11:12:04.236Z"
      },
      {
        "duration": 948,
        "start_time": "2021-12-04T11:13:10.816Z"
      },
      {
        "duration": 5,
        "start_time": "2021-12-04T11:13:15.044Z"
      },
      {
        "duration": 4,
        "start_time": "2021-12-04T11:13:21.185Z"
      },
      {
        "duration": 4,
        "start_time": "2021-12-04T11:13:22.142Z"
      },
      {
        "duration": 4,
        "start_time": "2021-12-04T11:52:22.432Z"
      },
      {
        "duration": 4,
        "start_time": "2021-12-04T11:52:37.784Z"
      },
      {
        "duration": 5,
        "start_time": "2021-12-04T11:52:40.619Z"
      },
      {
        "duration": 4,
        "start_time": "2021-12-04T11:52:41.664Z"
      },
      {
        "duration": 853,
        "start_time": "2021-12-04T11:53:55.898Z"
      },
      {
        "duration": 68,
        "start_time": "2021-12-04T11:53:56.753Z"
      },
      {
        "duration": 38,
        "start_time": "2021-12-04T11:53:56.825Z"
      },
      {
        "duration": 16,
        "start_time": "2021-12-04T11:53:56.867Z"
      },
      {
        "duration": 12,
        "start_time": "2021-12-04T11:53:56.885Z"
      },
      {
        "duration": 63,
        "start_time": "2021-12-04T11:53:56.899Z"
      },
      {
        "duration": 5,
        "start_time": "2021-12-04T11:53:56.965Z"
      },
      {
        "duration": 10,
        "start_time": "2021-12-04T11:53:56.973Z"
      },
      {
        "duration": 30,
        "start_time": "2021-12-04T11:53:56.986Z"
      },
      {
        "duration": 40,
        "start_time": "2021-12-04T11:53:57.019Z"
      },
      {
        "duration": 721,
        "start_time": "2021-12-04T11:53:57.062Z"
      },
      {
        "duration": 27,
        "start_time": "2021-12-04T11:53:57.785Z"
      },
      {
        "duration": 9,
        "start_time": "2021-12-04T11:53:57.815Z"
      },
      {
        "duration": 36,
        "start_time": "2021-12-04T11:53:57.827Z"
      },
      {
        "duration": 17,
        "start_time": "2021-12-04T11:53:57.866Z"
      },
      {
        "duration": 14,
        "start_time": "2021-12-04T11:53:57.885Z"
      },
      {
        "duration": 73,
        "start_time": "2021-12-04T11:53:57.902Z"
      },
      {
        "duration": 11,
        "start_time": "2021-12-04T11:53:57.978Z"
      },
      {
        "duration": 4,
        "start_time": "2021-12-04T11:53:57.991Z"
      },
      {
        "duration": 7,
        "start_time": "2021-12-04T11:53:57.998Z"
      },
      {
        "duration": 12,
        "start_time": "2021-12-04T11:53:58.008Z"
      },
      {
        "duration": 38,
        "start_time": "2021-12-04T11:53:58.023Z"
      },
      {
        "duration": 632,
        "start_time": "2021-12-04T11:53:58.069Z"
      },
      {
        "duration": 385,
        "start_time": "2021-12-04T11:54:21.558Z"
      },
      {
        "duration": 924,
        "start_time": "2021-12-04T11:55:22.005Z"
      },
      {
        "duration": 457,
        "start_time": "2021-12-04T11:55:28.789Z"
      },
      {
        "duration": 5,
        "start_time": "2021-12-04T11:55:33.593Z"
      },
      {
        "duration": 4,
        "start_time": "2021-12-04T11:55:52.775Z"
      },
      {
        "duration": 4,
        "start_time": "2021-12-04T11:55:58.100Z"
      },
      {
        "duration": 5,
        "start_time": "2021-12-04T11:55:58.805Z"
      },
      {
        "duration": 144,
        "start_time": "2021-12-04T12:04:14.306Z"
      },
      {
        "duration": 2006,
        "start_time": "2021-12-04T12:04:15.030Z"
      },
      {
        "duration": 6,
        "start_time": "2021-12-04T12:04:24.795Z"
      },
      {
        "duration": 1854,
        "start_time": "2021-12-04T12:04:26.050Z"
      },
      {
        "duration": 19,
        "start_time": "2021-12-04T12:04:27.889Z"
      },
      {
        "duration": 3,
        "start_time": "2021-12-04T12:04:28.139Z"
      },
      {
        "duration": 4,
        "start_time": "2021-12-04T12:04:39.568Z"
      },
      {
        "duration": 4541,
        "start_time": "2021-12-04T12:04:41.081Z"
      },
      {
        "duration": 4,
        "start_time": "2021-12-04T12:04:45.625Z"
      },
      {
        "duration": 7,
        "start_time": "2021-12-04T12:04:45.632Z"
      },
      {
        "duration": 5,
        "start_time": "2021-12-04T12:04:46.167Z"
      },
      {
        "duration": 130,
        "start_time": "2021-12-04T12:05:42.285Z"
      },
      {
        "duration": 4,
        "start_time": "2021-12-04T12:05:46.689Z"
      },
      {
        "duration": 1849,
        "start_time": "2021-12-04T12:05:49.554Z"
      },
      {
        "duration": 6,
        "start_time": "2021-12-04T12:09:03.923Z"
      },
      {
        "duration": 4605,
        "start_time": "2021-12-04T12:09:06.773Z"
      },
      {
        "duration": 5,
        "start_time": "2021-12-04T12:09:11.381Z"
      },
      {
        "duration": 4986,
        "start_time": "2021-12-04T12:14:41.673Z"
      },
      {
        "duration": 850,
        "start_time": "2021-12-04T12:15:02.110Z"
      },
      {
        "duration": 66,
        "start_time": "2021-12-04T12:15:02.963Z"
      },
      {
        "duration": 61,
        "start_time": "2021-12-04T12:15:03.032Z"
      },
      {
        "duration": 20,
        "start_time": "2021-12-04T12:15:03.097Z"
      },
      {
        "duration": 41,
        "start_time": "2021-12-04T12:15:03.119Z"
      },
      {
        "duration": 32,
        "start_time": "2021-12-04T12:15:03.162Z"
      },
      {
        "duration": 6,
        "start_time": "2021-12-04T12:15:03.201Z"
      },
      {
        "duration": 6,
        "start_time": "2021-12-04T12:15:03.210Z"
      },
      {
        "duration": 63,
        "start_time": "2021-12-04T12:15:03.219Z"
      },
      {
        "duration": 7,
        "start_time": "2021-12-04T12:15:03.285Z"
      },
      {
        "duration": 756,
        "start_time": "2021-12-04T12:15:03.295Z"
      },
      {
        "duration": 30,
        "start_time": "2021-12-04T12:15:04.054Z"
      },
      {
        "duration": 11,
        "start_time": "2021-12-04T12:15:04.087Z"
      },
      {
        "duration": 12,
        "start_time": "2021-12-04T12:15:04.101Z"
      },
      {
        "duration": 48,
        "start_time": "2021-12-04T12:15:04.115Z"
      },
      {
        "duration": 15,
        "start_time": "2021-12-04T12:15:04.166Z"
      },
      {
        "duration": 21,
        "start_time": "2021-12-04T12:15:04.183Z"
      },
      {
        "duration": 11,
        "start_time": "2021-12-04T12:15:04.207Z"
      },
      {
        "duration": 4,
        "start_time": "2021-12-04T12:15:04.220Z"
      },
      {
        "duration": 36,
        "start_time": "2021-12-04T12:15:04.226Z"
      },
      {
        "duration": 6301,
        "start_time": "2021-12-04T12:15:04.264Z"
      },
      {
        "duration": 472,
        "start_time": "2021-12-04T12:15:10.568Z"
      },
      {
        "duration": 12,
        "start_time": "2021-12-04T12:15:11.031Z"
      },
      {
        "duration": 0,
        "start_time": "2021-12-04T12:15:11.044Z"
      },
      {
        "duration": 6,
        "start_time": "2021-12-04T12:16:34.127Z"
      },
      {
        "duration": 4594,
        "start_time": "2021-12-04T12:16:34.847Z"
      },
      {
        "duration": 380,
        "start_time": "2021-12-04T12:16:44.368Z"
      },
      {
        "duration": 3,
        "start_time": "2021-12-04T12:16:50.750Z"
      },
      {
        "duration": 395,
        "start_time": "2021-12-04T12:16:53.017Z"
      },
      {
        "duration": 445,
        "start_time": "2021-12-04T12:17:04.176Z"
      },
      {
        "duration": 558,
        "start_time": "2021-12-04T17:03:04.997Z"
      },
      {
        "duration": 50,
        "start_time": "2021-12-04T17:03:05.557Z"
      },
      {
        "duration": 19,
        "start_time": "2021-12-04T17:03:05.609Z"
      },
      {
        "duration": 24,
        "start_time": "2021-12-04T17:03:05.630Z"
      },
      {
        "duration": 18,
        "start_time": "2021-12-04T17:03:05.656Z"
      },
      {
        "duration": 31,
        "start_time": "2021-12-04T17:03:05.676Z"
      },
      {
        "duration": 14,
        "start_time": "2021-12-04T17:03:05.709Z"
      },
      {
        "duration": 29,
        "start_time": "2021-12-04T17:03:05.725Z"
      },
      {
        "duration": 37,
        "start_time": "2021-12-04T17:03:05.756Z"
      },
      {
        "duration": 16,
        "start_time": "2021-12-04T17:03:05.795Z"
      },
      {
        "duration": 399,
        "start_time": "2021-12-04T17:03:05.813Z"
      },
      {
        "duration": 15,
        "start_time": "2021-12-04T17:03:06.214Z"
      },
      {
        "duration": 14,
        "start_time": "2021-12-04T17:03:06.231Z"
      },
      {
        "duration": 10,
        "start_time": "2021-12-04T17:03:06.247Z"
      },
      {
        "duration": 13,
        "start_time": "2021-12-04T17:03:06.258Z"
      },
      {
        "duration": 9,
        "start_time": "2021-12-04T17:03:06.273Z"
      },
      {
        "duration": 13,
        "start_time": "2021-12-04T17:03:06.284Z"
      },
      {
        "duration": 21,
        "start_time": "2021-12-04T17:03:06.298Z"
      },
      {
        "duration": 2,
        "start_time": "2021-12-04T17:03:06.321Z"
      },
      {
        "duration": 20,
        "start_time": "2021-12-04T17:03:06.324Z"
      },
      {
        "duration": 3940,
        "start_time": "2021-12-04T17:03:06.346Z"
      },
      {
        "duration": 725,
        "start_time": "2021-12-06T11:44:52.696Z"
      },
      {
        "duration": 62,
        "start_time": "2021-12-06T11:44:53.424Z"
      },
      {
        "duration": 28,
        "start_time": "2021-12-06T11:44:53.489Z"
      },
      {
        "duration": 17,
        "start_time": "2021-12-06T11:44:53.520Z"
      },
      {
        "duration": 12,
        "start_time": "2021-12-06T11:44:53.560Z"
      },
      {
        "duration": 20,
        "start_time": "2021-12-06T11:44:53.575Z"
      },
      {
        "duration": 5,
        "start_time": "2021-12-06T11:44:53.597Z"
      },
      {
        "duration": 5,
        "start_time": "2021-12-06T11:44:53.606Z"
      },
      {
        "duration": 67,
        "start_time": "2021-12-06T11:44:53.613Z"
      },
      {
        "duration": 8,
        "start_time": "2021-12-06T11:44:53.682Z"
      },
      {
        "duration": 691,
        "start_time": "2021-12-06T11:44:53.692Z"
      },
      {
        "duration": 26,
        "start_time": "2021-12-06T11:44:54.385Z"
      },
      {
        "duration": 12,
        "start_time": "2021-12-06T11:44:54.414Z"
      },
      {
        "duration": 36,
        "start_time": "2021-12-06T11:44:54.428Z"
      },
      {
        "duration": 21,
        "start_time": "2021-12-06T11:44:54.466Z"
      },
      {
        "duration": 14,
        "start_time": "2021-12-06T11:44:54.490Z"
      },
      {
        "duration": 21,
        "start_time": "2021-12-06T11:44:54.506Z"
      },
      {
        "duration": 29,
        "start_time": "2021-12-06T11:44:54.530Z"
      },
      {
        "duration": 4,
        "start_time": "2021-12-06T11:44:54.561Z"
      },
      {
        "duration": 6,
        "start_time": "2021-12-06T11:44:54.567Z"
      },
      {
        "duration": 4912,
        "start_time": "2021-12-06T11:44:54.576Z"
      },
      {
        "duration": 552,
        "start_time": "2021-12-06T16:38:36.412Z"
      },
      {
        "duration": 48,
        "start_time": "2021-12-06T16:38:36.966Z"
      },
      {
        "duration": 16,
        "start_time": "2021-12-06T16:38:37.016Z"
      },
      {
        "duration": 13,
        "start_time": "2021-12-06T16:38:37.034Z"
      },
      {
        "duration": 8,
        "start_time": "2021-12-06T16:38:37.048Z"
      },
      {
        "duration": 34,
        "start_time": "2021-12-06T16:38:37.057Z"
      },
      {
        "duration": 3,
        "start_time": "2021-12-06T16:38:37.092Z"
      },
      {
        "duration": 7,
        "start_time": "2021-12-06T16:38:37.097Z"
      },
      {
        "duration": 17,
        "start_time": "2021-12-06T16:38:37.105Z"
      },
      {
        "duration": 7,
        "start_time": "2021-12-06T16:38:37.124Z"
      },
      {
        "duration": 388,
        "start_time": "2021-12-06T16:38:37.132Z"
      },
      {
        "duration": 16,
        "start_time": "2021-12-06T16:38:37.522Z"
      },
      {
        "duration": 6,
        "start_time": "2021-12-06T16:38:37.540Z"
      },
      {
        "duration": 11,
        "start_time": "2021-12-06T16:38:37.548Z"
      },
      {
        "duration": 34,
        "start_time": "2021-12-06T16:38:37.561Z"
      },
      {
        "duration": 8,
        "start_time": "2021-12-06T16:38:37.597Z"
      },
      {
        "duration": 15,
        "start_time": "2021-12-06T16:38:37.607Z"
      },
      {
        "duration": 14,
        "start_time": "2021-12-06T16:38:37.624Z"
      },
      {
        "duration": 3,
        "start_time": "2021-12-06T16:38:37.639Z"
      },
      {
        "duration": 6,
        "start_time": "2021-12-06T16:38:37.644Z"
      },
      {
        "duration": 3347,
        "start_time": "2021-12-06T16:38:37.652Z"
      },
      {
        "duration": 4,
        "start_time": "2021-12-06T16:47:03.592Z"
      },
      {
        "duration": 6,
        "start_time": "2021-12-06T16:47:27.463Z"
      },
      {
        "duration": 2738,
        "start_time": "2021-12-06T16:48:00.566Z"
      },
      {
        "duration": 159,
        "start_time": "2021-12-06T16:48:03.147Z"
      },
      {
        "duration": 3,
        "start_time": "2021-12-06T17:06:08.358Z"
      },
      {
        "duration": 4,
        "start_time": "2021-12-06T17:06:36.398Z"
      },
      {
        "duration": 14,
        "start_time": "2021-12-06T17:06:47.470Z"
      },
      {
        "duration": 3,
        "start_time": "2021-12-06T17:07:46.710Z"
      },
      {
        "duration": 3,
        "start_time": "2021-12-06T17:07:47.442Z"
      },
      {
        "duration": 11,
        "start_time": "2021-12-06T17:07:48.102Z"
      },
      {
        "duration": 5574,
        "start_time": "2021-12-06T17:18:20.440Z"
      },
      {
        "duration": 494,
        "start_time": "2021-12-06T17:18:50.197Z"
      },
      {
        "duration": 304,
        "start_time": "2021-12-06T17:19:44.721Z"
      },
      {
        "duration": 5911,
        "start_time": "2021-12-06T17:20:04.152Z"
      },
      {
        "duration": 10,
        "start_time": "2021-12-06T17:20:53.111Z"
      },
      {
        "duration": 2644,
        "start_time": "2021-12-06T17:23:40.603Z"
      },
      {
        "duration": 11,
        "start_time": "2021-12-06T17:23:43.248Z"
      },
      {
        "duration": 305,
        "start_time": "2021-12-06T17:24:19.427Z"
      },
      {
        "duration": 519,
        "start_time": "2021-12-06T17:25:53.247Z"
      },
      {
        "duration": 47,
        "start_time": "2021-12-06T17:25:53.768Z"
      },
      {
        "duration": 16,
        "start_time": "2021-12-06T17:25:53.817Z"
      },
      {
        "duration": 12,
        "start_time": "2021-12-06T17:25:53.834Z"
      },
      {
        "duration": 282,
        "start_time": "2021-12-06T17:25:53.847Z"
      },
      {
        "duration": 70,
        "start_time": "2021-12-06T17:25:54.061Z"
      },
      {
        "duration": 62,
        "start_time": "2021-12-06T17:25:54.070Z"
      },
      {
        "duration": 56,
        "start_time": "2021-12-06T17:25:54.077Z"
      },
      {
        "duration": 50,
        "start_time": "2021-12-06T17:25:54.084Z"
      },
      {
        "duration": 44,
        "start_time": "2021-12-06T17:25:54.091Z"
      },
      {
        "duration": 39,
        "start_time": "2021-12-06T17:25:54.097Z"
      },
      {
        "duration": 33,
        "start_time": "2021-12-06T17:25:54.103Z"
      },
      {
        "duration": 26,
        "start_time": "2021-12-06T17:25:54.111Z"
      },
      {
        "duration": 0,
        "start_time": "2021-12-06T17:25:54.139Z"
      },
      {
        "duration": -9,
        "start_time": "2021-12-06T17:25:54.148Z"
      },
      {
        "duration": -13,
        "start_time": "2021-12-06T17:25:54.153Z"
      },
      {
        "duration": -32,
        "start_time": "2021-12-06T17:25:54.173Z"
      },
      {
        "duration": -36,
        "start_time": "2021-12-06T17:25:54.178Z"
      },
      {
        "duration": -40,
        "start_time": "2021-12-06T17:25:54.183Z"
      },
      {
        "duration": -43,
        "start_time": "2021-12-06T17:25:54.187Z"
      },
      {
        "duration": -49,
        "start_time": "2021-12-06T17:25:54.194Z"
      },
      {
        "duration": -61,
        "start_time": "2021-12-06T17:25:54.207Z"
      },
      {
        "duration": -65,
        "start_time": "2021-12-06T17:25:54.212Z"
      },
      {
        "duration": -68,
        "start_time": "2021-12-06T17:25:54.216Z"
      },
      {
        "duration": -75,
        "start_time": "2021-12-06T17:25:54.224Z"
      },
      {
        "duration": -81,
        "start_time": "2021-12-06T17:25:54.230Z"
      },
      {
        "duration": 527,
        "start_time": "2021-12-06T17:27:48.043Z"
      },
      {
        "duration": 49,
        "start_time": "2021-12-06T17:27:48.571Z"
      },
      {
        "duration": 18,
        "start_time": "2021-12-06T17:27:48.622Z"
      },
      {
        "duration": 18,
        "start_time": "2021-12-06T17:27:48.642Z"
      },
      {
        "duration": 335,
        "start_time": "2021-12-06T17:27:48.662Z"
      },
      {
        "duration": 170,
        "start_time": "2021-12-06T17:27:48.830Z"
      },
      {
        "duration": 164,
        "start_time": "2021-12-06T17:27:48.837Z"
      },
      {
        "duration": 162,
        "start_time": "2021-12-06T17:27:48.841Z"
      },
      {
        "duration": 157,
        "start_time": "2021-12-06T17:27:48.847Z"
      },
      {
        "duration": 152,
        "start_time": "2021-12-06T17:27:48.853Z"
      },
      {
        "duration": 135,
        "start_time": "2021-12-06T17:27:48.872Z"
      },
      {
        "duration": 130,
        "start_time": "2021-12-06T17:27:48.878Z"
      },
      {
        "duration": 123,
        "start_time": "2021-12-06T17:27:48.886Z"
      },
      {
        "duration": 118,
        "start_time": "2021-12-06T17:27:48.892Z"
      },
      {
        "duration": 112,
        "start_time": "2021-12-06T17:27:48.900Z"
      },
      {
        "duration": 109,
        "start_time": "2021-12-06T17:27:48.904Z"
      },
      {
        "duration": 102,
        "start_time": "2021-12-06T17:27:48.912Z"
      },
      {
        "duration": 98,
        "start_time": "2021-12-06T17:27:48.917Z"
      },
      {
        "duration": 93,
        "start_time": "2021-12-06T17:27:48.923Z"
      },
      {
        "duration": 91,
        "start_time": "2021-12-06T17:27:48.927Z"
      },
      {
        "duration": 87,
        "start_time": "2021-12-06T17:27:48.932Z"
      },
      {
        "duration": 82,
        "start_time": "2021-12-06T17:27:48.938Z"
      },
      {
        "duration": 78,
        "start_time": "2021-12-06T17:27:48.943Z"
      },
      {
        "duration": 64,
        "start_time": "2021-12-06T17:27:48.959Z"
      },
      {
        "duration": 59,
        "start_time": "2021-12-06T17:27:48.965Z"
      },
      {
        "duration": 53,
        "start_time": "2021-12-06T17:27:48.972Z"
      },
      {
        "duration": 49,
        "start_time": "2021-12-06T17:27:48.977Z"
      },
      {
        "duration": 46,
        "start_time": "2021-12-06T17:27:48.981Z"
      },
      {
        "duration": 41,
        "start_time": "2021-12-06T17:27:48.987Z"
      },
      {
        "duration": 680,
        "start_time": "2021-12-06T17:28:48.866Z"
      },
      {
        "duration": 64,
        "start_time": "2021-12-06T17:28:49.548Z"
      },
      {
        "duration": 26,
        "start_time": "2021-12-06T17:28:49.615Z"
      },
      {
        "duration": 13,
        "start_time": "2021-12-06T17:28:49.643Z"
      },
      {
        "duration": 32,
        "start_time": "2021-12-06T17:28:49.657Z"
      },
      {
        "duration": 12,
        "start_time": "2021-12-06T17:28:49.691Z"
      },
      {
        "duration": 4,
        "start_time": "2021-12-06T17:28:49.705Z"
      },
      {
        "duration": 9,
        "start_time": "2021-12-06T17:28:49.712Z"
      },
      {
        "duration": 22,
        "start_time": "2021-12-06T17:28:49.723Z"
      },
      {
        "duration": 6,
        "start_time": "2021-12-06T17:28:49.747Z"
      },
      {
        "duration": 380,
        "start_time": "2021-12-06T17:28:49.754Z"
      },
      {
        "duration": 15,
        "start_time": "2021-12-06T17:28:50.136Z"
      },
      {
        "duration": 6,
        "start_time": "2021-12-06T17:28:50.152Z"
      },
      {
        "duration": 6,
        "start_time": "2021-12-06T17:28:50.159Z"
      },
      {
        "duration": 26,
        "start_time": "2021-12-06T17:28:50.166Z"
      },
      {
        "duration": 4,
        "start_time": "2021-12-06T17:28:50.194Z"
      },
      {
        "duration": 9,
        "start_time": "2021-12-06T17:28:50.200Z"
      },
      {
        "duration": 12,
        "start_time": "2021-12-06T17:28:50.211Z"
      },
      {
        "duration": 10,
        "start_time": "2021-12-06T17:28:50.225Z"
      },
      {
        "duration": 12,
        "start_time": "2021-12-06T17:28:50.236Z"
      },
      {
        "duration": 39,
        "start_time": "2021-12-06T17:28:50.249Z"
      },
      {
        "duration": 4,
        "start_time": "2021-12-06T17:28:50.289Z"
      },
      {
        "duration": 13,
        "start_time": "2021-12-06T17:28:50.295Z"
      },
      {
        "duration": 6,
        "start_time": "2021-12-06T17:28:50.310Z"
      },
      {
        "duration": 2,
        "start_time": "2021-12-06T17:28:50.318Z"
      },
      {
        "duration": 4,
        "start_time": "2021-12-06T17:28:50.322Z"
      },
      {
        "duration": 3566,
        "start_time": "2021-12-06T17:28:50.328Z"
      },
      {
        "duration": 13,
        "start_time": "2021-12-06T17:28:53.896Z"
      },
      {
        "duration": 332,
        "start_time": "2021-12-06T17:28:53.911Z"
      },
      {
        "duration": 768,
        "start_time": "2021-12-07T14:34:10.285Z"
      },
      {
        "duration": 63,
        "start_time": "2021-12-07T14:34:11.056Z"
      },
      {
        "duration": 44,
        "start_time": "2021-12-07T14:34:11.122Z"
      },
      {
        "duration": 18,
        "start_time": "2021-12-07T14:34:11.169Z"
      },
      {
        "duration": 14,
        "start_time": "2021-12-07T14:34:11.189Z"
      },
      {
        "duration": 22,
        "start_time": "2021-12-07T14:34:11.206Z"
      },
      {
        "duration": 38,
        "start_time": "2021-12-07T14:34:11.230Z"
      },
      {
        "duration": 8,
        "start_time": "2021-12-07T14:34:11.272Z"
      },
      {
        "duration": 32,
        "start_time": "2021-12-07T14:34:11.283Z"
      },
      {
        "duration": 11,
        "start_time": "2021-12-07T14:34:11.317Z"
      },
      {
        "duration": 770,
        "start_time": "2021-12-07T14:34:11.331Z"
      },
      {
        "duration": 26,
        "start_time": "2021-12-07T14:34:12.104Z"
      },
      {
        "duration": 9,
        "start_time": "2021-12-07T14:34:12.132Z"
      },
      {
        "duration": 28,
        "start_time": "2021-12-07T14:34:12.143Z"
      },
      {
        "duration": 20,
        "start_time": "2021-12-07T14:34:12.173Z"
      },
      {
        "duration": 6,
        "start_time": "2021-12-07T14:34:12.196Z"
      },
      {
        "duration": 13,
        "start_time": "2021-12-07T14:34:12.204Z"
      },
      {
        "duration": 50,
        "start_time": "2021-12-07T14:34:12.219Z"
      },
      {
        "duration": 13,
        "start_time": "2021-12-07T14:34:12.271Z"
      },
      {
        "duration": 20,
        "start_time": "2021-12-07T14:34:12.286Z"
      },
      {
        "duration": 8,
        "start_time": "2021-12-07T14:34:12.308Z"
      },
      {
        "duration": 6,
        "start_time": "2021-12-07T14:34:12.318Z"
      },
      {
        "duration": 49,
        "start_time": "2021-12-07T14:34:12.328Z"
      },
      {
        "duration": 9,
        "start_time": "2021-12-07T14:34:12.379Z"
      },
      {
        "duration": 3,
        "start_time": "2021-12-07T14:34:12.391Z"
      },
      {
        "duration": 6,
        "start_time": "2021-12-07T14:34:12.396Z"
      },
      {
        "duration": 4828,
        "start_time": "2021-12-07T14:34:12.405Z"
      },
      {
        "duration": 34,
        "start_time": "2021-12-07T14:34:17.236Z"
      },
      {
        "duration": 640,
        "start_time": "2021-12-07T14:34:17.273Z"
      },
      {
        "duration": 7837,
        "start_time": "2021-12-07T14:35:12.625Z"
      },
      {
        "duration": 779,
        "start_time": "2021-12-07T14:38:11.615Z"
      },
      {
        "duration": 4,
        "start_time": "2021-12-07T14:39:29.280Z"
      },
      {
        "duration": 630,
        "start_time": "2021-12-07T14:39:30.320Z"
      },
      {
        "duration": 4,
        "start_time": "2021-12-07T14:40:06.706Z"
      },
      {
        "duration": 15,
        "start_time": "2021-12-07T14:41:34.244Z"
      },
      {
        "duration": 6934,
        "start_time": "2021-12-07T16:38:58.397Z"
      },
      {
        "duration": 34,
        "start_time": "2021-12-07T16:39:28.557Z"
      },
      {
        "duration": 5,
        "start_time": "2021-12-07T16:41:35.265Z"
      },
      {
        "duration": 28,
        "start_time": "2021-12-07T16:42:06.119Z"
      },
      {
        "duration": 22,
        "start_time": "2021-12-07T16:42:46.268Z"
      },
      {
        "duration": 10,
        "start_time": "2021-12-07T16:42:47.300Z"
      },
      {
        "duration": 5,
        "start_time": "2021-12-07T16:43:43.901Z"
      },
      {
        "duration": 28,
        "start_time": "2021-12-07T16:43:44.675Z"
      },
      {
        "duration": 19,
        "start_time": "2021-12-07T16:43:45.277Z"
      },
      {
        "duration": 5,
        "start_time": "2021-12-07T16:43:57.259Z"
      },
      {
        "duration": 23,
        "start_time": "2021-12-07T16:43:58.157Z"
      },
      {
        "duration": 11,
        "start_time": "2021-12-07T16:43:58.731Z"
      },
      {
        "duration": 838,
        "start_time": "2021-12-08T14:11:05.139Z"
      },
      {
        "duration": 69,
        "start_time": "2021-12-08T14:11:05.980Z"
      },
      {
        "duration": 31,
        "start_time": "2021-12-08T14:11:06.053Z"
      },
      {
        "duration": 50,
        "start_time": "2021-12-08T14:11:06.087Z"
      },
      {
        "duration": 14,
        "start_time": "2021-12-08T14:11:06.140Z"
      },
      {
        "duration": 35,
        "start_time": "2021-12-08T14:11:06.157Z"
      },
      {
        "duration": 5,
        "start_time": "2021-12-08T14:11:06.195Z"
      },
      {
        "duration": 21,
        "start_time": "2021-12-08T14:11:06.205Z"
      },
      {
        "duration": 41,
        "start_time": "2021-12-08T14:11:06.229Z"
      },
      {
        "duration": 25,
        "start_time": "2021-12-08T14:11:06.273Z"
      },
      {
        "duration": 711,
        "start_time": "2021-12-08T14:11:06.301Z"
      },
      {
        "duration": 33,
        "start_time": "2021-12-08T14:11:07.014Z"
      },
      {
        "duration": 7,
        "start_time": "2021-12-08T14:11:07.051Z"
      },
      {
        "duration": 9,
        "start_time": "2021-12-08T14:11:07.061Z"
      },
      {
        "duration": 21,
        "start_time": "2021-12-08T14:11:07.072Z"
      },
      {
        "duration": 9,
        "start_time": "2021-12-08T14:11:07.124Z"
      },
      {
        "duration": 12,
        "start_time": "2021-12-08T14:11:07.136Z"
      },
      {
        "duration": 16,
        "start_time": "2021-12-08T14:11:07.151Z"
      },
      {
        "duration": 55,
        "start_time": "2021-12-08T14:11:07.170Z"
      },
      {
        "duration": 18,
        "start_time": "2021-12-08T14:11:07.228Z"
      },
      {
        "duration": 5,
        "start_time": "2021-12-08T14:11:07.248Z"
      },
      {
        "duration": 5,
        "start_time": "2021-12-08T14:11:07.256Z"
      },
      {
        "duration": 57,
        "start_time": "2021-12-08T14:11:07.266Z"
      },
      {
        "duration": 9,
        "start_time": "2021-12-08T14:11:07.327Z"
      },
      {
        "duration": 4,
        "start_time": "2021-12-08T14:11:07.339Z"
      },
      {
        "duration": 4,
        "start_time": "2021-12-08T14:11:07.346Z"
      },
      {
        "duration": 5800,
        "start_time": "2021-12-08T14:11:07.353Z"
      },
      {
        "duration": 21,
        "start_time": "2021-12-08T14:11:13.156Z"
      },
      {
        "duration": 12,
        "start_time": "2021-12-08T14:11:13.179Z"
      },
      {
        "duration": 389,
        "start_time": "2021-12-08T14:11:13.194Z"
      },
      {
        "duration": 746,
        "start_time": "2021-12-08T14:11:12.840Z"
      },
      {
        "duration": 739,
        "start_time": "2021-12-08T14:11:12.848Z"
      },
      {
        "duration": 736,
        "start_time": "2021-12-08T14:11:12.853Z"
      },
      {
        "duration": 720,
        "start_time": "2021-12-08T14:11:12.871Z"
      },
      {
        "duration": 715,
        "start_time": "2021-12-08T14:11:12.878Z"
      },
      {
        "duration": 4,
        "start_time": "2021-12-08T14:37:29.123Z"
      },
      {
        "duration": 72,
        "start_time": "2021-12-08T14:37:29.129Z"
      },
      {
        "duration": 35,
        "start_time": "2021-12-08T14:37:29.204Z"
      },
      {
        "duration": 18,
        "start_time": "2021-12-08T14:37:29.243Z"
      },
      {
        "duration": 16,
        "start_time": "2021-12-08T14:37:29.264Z"
      },
      {
        "duration": 23,
        "start_time": "2021-12-08T14:37:29.324Z"
      },
      {
        "duration": 5,
        "start_time": "2021-12-08T14:37:29.352Z"
      },
      {
        "duration": 6,
        "start_time": "2021-12-08T14:37:29.360Z"
      },
      {
        "duration": 76,
        "start_time": "2021-12-08T14:37:29.369Z"
      },
      {
        "duration": 14,
        "start_time": "2021-12-08T14:37:29.448Z"
      },
      {
        "duration": 704,
        "start_time": "2021-12-08T14:37:29.465Z"
      },
      {
        "duration": 29,
        "start_time": "2021-12-08T14:37:30.171Z"
      },
      {
        "duration": 22,
        "start_time": "2021-12-08T14:37:30.203Z"
      },
      {
        "duration": 14,
        "start_time": "2021-12-08T14:37:30.228Z"
      },
      {
        "duration": 33,
        "start_time": "2021-12-08T14:37:30.244Z"
      },
      {
        "duration": 6,
        "start_time": "2021-12-08T14:37:30.280Z"
      },
      {
        "duration": 31,
        "start_time": "2021-12-08T14:37:30.288Z"
      },
      {
        "duration": 24,
        "start_time": "2021-12-08T14:37:30.321Z"
      },
      {
        "duration": 20,
        "start_time": "2021-12-08T14:37:30.351Z"
      },
      {
        "duration": 27,
        "start_time": "2021-12-08T14:37:30.374Z"
      },
      {
        "duration": 17,
        "start_time": "2021-12-08T14:37:30.404Z"
      },
      {
        "duration": 22,
        "start_time": "2021-12-08T14:37:30.424Z"
      },
      {
        "duration": 26,
        "start_time": "2021-12-08T14:37:30.449Z"
      },
      {
        "duration": 10,
        "start_time": "2021-12-08T14:37:30.478Z"
      },
      {
        "duration": 31,
        "start_time": "2021-12-08T14:37:30.490Z"
      },
      {
        "duration": 5,
        "start_time": "2021-12-08T14:37:30.524Z"
      },
      {
        "duration": 4663,
        "start_time": "2021-12-08T14:37:30.532Z"
      },
      {
        "duration": 28,
        "start_time": "2021-12-08T14:37:35.197Z"
      },
      {
        "duration": 25,
        "start_time": "2021-12-08T14:37:35.228Z"
      },
      {
        "duration": 330,
        "start_time": "2021-12-08T14:37:35.255Z"
      },
      {
        "duration": 738,
        "start_time": "2021-12-08T14:37:34.849Z"
      },
      {
        "duration": 734,
        "start_time": "2021-12-08T14:37:34.855Z"
      },
      {
        "duration": 729,
        "start_time": "2021-12-08T14:37:34.861Z"
      },
      {
        "duration": 726,
        "start_time": "2021-12-08T14:37:34.866Z"
      },
      {
        "duration": 705,
        "start_time": "2021-12-08T14:37:34.888Z"
      },
      {
        "duration": 948,
        "start_time": "2021-12-08T14:37:47.484Z"
      },
      {
        "duration": 65,
        "start_time": "2021-12-08T14:37:48.435Z"
      },
      {
        "duration": 40,
        "start_time": "2021-12-08T14:37:48.503Z"
      },
      {
        "duration": 22,
        "start_time": "2021-12-08T14:37:48.546Z"
      },
      {
        "duration": 18,
        "start_time": "2021-12-08T14:37:48.570Z"
      },
      {
        "duration": 46,
        "start_time": "2021-12-08T14:37:48.591Z"
      },
      {
        "duration": 4,
        "start_time": "2021-12-08T14:37:48.639Z"
      },
      {
        "duration": 5,
        "start_time": "2021-12-08T14:37:48.647Z"
      },
      {
        "duration": 26,
        "start_time": "2021-12-08T14:37:48.655Z"
      },
      {
        "duration": 40,
        "start_time": "2021-12-08T14:37:48.684Z"
      },
      {
        "duration": 662,
        "start_time": "2021-12-08T14:37:48.727Z"
      },
      {
        "duration": 35,
        "start_time": "2021-12-08T14:37:49.392Z"
      },
      {
        "duration": 11,
        "start_time": "2021-12-08T14:37:49.430Z"
      },
      {
        "duration": 6,
        "start_time": "2021-12-08T14:37:49.444Z"
      },
      {
        "duration": 19,
        "start_time": "2021-12-08T14:37:49.452Z"
      },
      {
        "duration": 7,
        "start_time": "2021-12-08T14:37:49.474Z"
      },
      {
        "duration": 11,
        "start_time": "2021-12-08T14:37:49.523Z"
      },
      {
        "duration": 25,
        "start_time": "2021-12-08T14:37:49.536Z"
      },
      {
        "duration": 33,
        "start_time": "2021-12-08T14:37:49.564Z"
      },
      {
        "duration": 40,
        "start_time": "2021-12-08T14:37:49.600Z"
      },
      {
        "duration": 10,
        "start_time": "2021-12-08T14:37:49.643Z"
      },
      {
        "duration": 28,
        "start_time": "2021-12-08T14:37:49.656Z"
      },
      {
        "duration": 27,
        "start_time": "2021-12-08T14:37:49.689Z"
      },
      {
        "duration": 10,
        "start_time": "2021-12-08T14:37:49.719Z"
      },
      {
        "duration": 17,
        "start_time": "2021-12-08T14:37:49.731Z"
      },
      {
        "duration": 17,
        "start_time": "2021-12-08T14:37:49.751Z"
      },
      {
        "duration": 4831,
        "start_time": "2021-12-08T14:37:49.770Z"
      },
      {
        "duration": 35,
        "start_time": "2021-12-08T14:37:54.604Z"
      },
      {
        "duration": 20,
        "start_time": "2021-12-08T14:37:54.641Z"
      },
      {
        "duration": 424,
        "start_time": "2021-12-08T14:37:54.664Z"
      },
      {
        "duration": 790,
        "start_time": "2021-12-08T14:37:54.301Z"
      },
      {
        "duration": 756,
        "start_time": "2021-12-08T14:37:54.336Z"
      },
      {
        "duration": 752,
        "start_time": "2021-12-08T14:37:54.342Z"
      },
      {
        "duration": 734,
        "start_time": "2021-12-08T14:37:54.361Z"
      },
      {
        "duration": 731,
        "start_time": "2021-12-08T14:37:54.366Z"
      },
      {
        "duration": 8222,
        "start_time": "2021-12-08T14:37:57.683Z"
      },
      {
        "duration": 714,
        "start_time": "2021-12-08T14:38:37.230Z"
      },
      {
        "duration": 64,
        "start_time": "2021-12-08T14:38:37.946Z"
      },
      {
        "duration": 31,
        "start_time": "2021-12-08T14:38:38.013Z"
      },
      {
        "duration": 17,
        "start_time": "2021-12-08T14:38:38.047Z"
      },
      {
        "duration": 17,
        "start_time": "2021-12-08T14:38:38.067Z"
      },
      {
        "duration": 47,
        "start_time": "2021-12-08T14:38:38.087Z"
      },
      {
        "duration": 9,
        "start_time": "2021-12-08T14:38:38.137Z"
      },
      {
        "duration": 6,
        "start_time": "2021-12-08T14:38:38.152Z"
      },
      {
        "duration": 63,
        "start_time": "2021-12-08T14:38:38.162Z"
      },
      {
        "duration": 10,
        "start_time": "2021-12-08T14:38:38.228Z"
      },
      {
        "duration": 662,
        "start_time": "2021-12-08T14:38:38.241Z"
      },
      {
        "duration": 30,
        "start_time": "2021-12-08T14:38:38.905Z"
      },
      {
        "duration": 22,
        "start_time": "2021-12-08T14:38:38.938Z"
      },
      {
        "duration": 24,
        "start_time": "2021-12-08T14:38:38.963Z"
      },
      {
        "duration": 43,
        "start_time": "2021-12-08T14:38:38.992Z"
      },
      {
        "duration": 7,
        "start_time": "2021-12-08T14:38:39.038Z"
      },
      {
        "duration": 26,
        "start_time": "2021-12-08T14:38:39.048Z"
      },
      {
        "duration": 27,
        "start_time": "2021-12-08T14:38:39.077Z"
      },
      {
        "duration": 12,
        "start_time": "2021-12-08T14:38:39.107Z"
      },
      {
        "duration": 17,
        "start_time": "2021-12-08T14:38:39.124Z"
      },
      {
        "duration": 6,
        "start_time": "2021-12-08T14:38:39.143Z"
      },
      {
        "duration": 29,
        "start_time": "2021-12-08T14:38:39.151Z"
      },
      {
        "duration": 22,
        "start_time": "2021-12-08T14:38:39.186Z"
      },
      {
        "duration": 18,
        "start_time": "2021-12-08T14:38:39.212Z"
      },
      {
        "duration": 21,
        "start_time": "2021-12-08T14:38:39.232Z"
      },
      {
        "duration": 15,
        "start_time": "2021-12-08T14:38:39.256Z"
      },
      {
        "duration": 4815,
        "start_time": "2021-12-08T14:38:39.273Z"
      },
      {
        "duration": 33,
        "start_time": "2021-12-08T14:38:44.093Z"
      },
      {
        "duration": 14,
        "start_time": "2021-12-08T14:38:44.129Z"
      },
      {
        "duration": 640,
        "start_time": "2021-12-08T14:38:44.146Z"
      },
      {
        "duration": 681,
        "start_time": "2021-12-08T14:38:44.108Z"
      },
      {
        "duration": 648,
        "start_time": "2021-12-08T14:38:44.142Z"
      },
      {
        "duration": 586,
        "start_time": "2021-12-08T14:38:44.206Z"
      },
      {
        "duration": 578,
        "start_time": "2021-12-08T14:38:44.215Z"
      },
      {
        "duration": 572,
        "start_time": "2021-12-08T14:38:44.223Z"
      },
      {
        "duration": 3,
        "start_time": "2021-12-08T14:39:04.336Z"
      },
      {
        "duration": 309,
        "start_time": "2021-12-08T14:39:04.923Z"
      },
      {
        "duration": 301,
        "start_time": "2021-12-08T14:39:10.915Z"
      },
      {
        "duration": 5,
        "start_time": "2021-12-08T14:39:16.989Z"
      },
      {
        "duration": 278,
        "start_time": "2021-12-08T14:40:49.032Z"
      },
      {
        "duration": 6,
        "start_time": "2021-12-08T14:40:50.606Z"
      },
      {
        "duration": 695,
        "start_time": "2021-12-08T14:41:00.170Z"
      },
      {
        "duration": 62,
        "start_time": "2021-12-08T14:41:00.868Z"
      },
      {
        "duration": 29,
        "start_time": "2021-12-08T14:41:00.933Z"
      },
      {
        "duration": 16,
        "start_time": "2021-12-08T14:41:00.965Z"
      },
      {
        "duration": 41,
        "start_time": "2021-12-08T14:41:00.984Z"
      },
      {
        "duration": 20,
        "start_time": "2021-12-08T14:41:01.027Z"
      },
      {
        "duration": 19,
        "start_time": "2021-12-08T14:41:01.049Z"
      },
      {
        "duration": 13,
        "start_time": "2021-12-08T14:41:01.072Z"
      },
      {
        "duration": 39,
        "start_time": "2021-12-08T14:41:01.088Z"
      },
      {
        "duration": 33,
        "start_time": "2021-12-08T14:41:01.130Z"
      },
      {
        "duration": 718,
        "start_time": "2021-12-08T14:41:01.165Z"
      },
      {
        "duration": 39,
        "start_time": "2021-12-08T14:41:01.886Z"
      },
      {
        "duration": 19,
        "start_time": "2021-12-08T14:41:01.928Z"
      },
      {
        "duration": 20,
        "start_time": "2021-12-08T14:41:01.950Z"
      },
      {
        "duration": 17,
        "start_time": "2021-12-08T14:41:01.972Z"
      },
      {
        "duration": 7,
        "start_time": "2021-12-08T14:41:01.992Z"
      },
      {
        "duration": 26,
        "start_time": "2021-12-08T14:41:02.001Z"
      },
      {
        "duration": 23,
        "start_time": "2021-12-08T14:41:02.029Z"
      },
      {
        "duration": 17,
        "start_time": "2021-12-08T14:41:02.055Z"
      },
      {
        "duration": 19,
        "start_time": "2021-12-08T14:41:02.074Z"
      },
      {
        "duration": 4,
        "start_time": "2021-12-08T14:41:02.124Z"
      },
      {
        "duration": 7,
        "start_time": "2021-12-08T14:41:02.130Z"
      },
      {
        "duration": 16,
        "start_time": "2021-12-08T14:41:02.141Z"
      },
      {
        "duration": 8,
        "start_time": "2021-12-08T14:41:02.160Z"
      },
      {
        "duration": 3,
        "start_time": "2021-12-08T14:41:02.170Z"
      },
      {
        "duration": 5,
        "start_time": "2021-12-08T14:41:02.176Z"
      },
      {
        "duration": 5046,
        "start_time": "2021-12-08T14:41:02.183Z"
      },
      {
        "duration": 21,
        "start_time": "2021-12-08T14:41:07.232Z"
      },
      {
        "duration": 33,
        "start_time": "2021-12-08T14:41:07.255Z"
      },
      {
        "duration": 446,
        "start_time": "2021-12-08T14:41:07.290Z"
      },
      {
        "duration": 759,
        "start_time": "2021-12-08T14:41:06.979Z"
      },
      {
        "duration": 752,
        "start_time": "2021-12-08T14:41:06.987Z"
      },
      {
        "duration": 749,
        "start_time": "2021-12-08T14:41:06.992Z"
      },
      {
        "duration": 742,
        "start_time": "2021-12-08T14:41:07.000Z"
      },
      {
        "duration": 736,
        "start_time": "2021-12-08T14:41:07.007Z"
      },
      {
        "duration": 102,
        "start_time": "2021-12-08T14:45:12.713Z"
      },
      {
        "duration": 6,
        "start_time": "2021-12-08T14:45:15.677Z"
      },
      {
        "duration": 84,
        "start_time": "2021-12-08T14:46:13.322Z"
      },
      {
        "duration": 438,
        "start_time": "2021-12-08T14:46:26.515Z"
      },
      {
        "duration": 17,
        "start_time": "2021-12-08T14:46:27.556Z"
      },
      {
        "duration": 5,
        "start_time": "2021-12-08T14:46:55.067Z"
      },
      {
        "duration": 20,
        "start_time": "2021-12-08T14:46:55.511Z"
      },
      {
        "duration": 11,
        "start_time": "2021-12-08T14:46:56.021Z"
      },
      {
        "duration": 91,
        "start_time": "2021-12-08T15:00:41.241Z"
      },
      {
        "duration": 94,
        "start_time": "2021-12-08T15:00:51.555Z"
      },
      {
        "duration": 5,
        "start_time": "2021-12-08T15:01:08.133Z"
      },
      {
        "duration": 9,
        "start_time": "2021-12-08T15:02:36.536Z"
      },
      {
        "duration": 5,
        "start_time": "2021-12-08T15:03:02.712Z"
      },
      {
        "duration": 4,
        "start_time": "2021-12-08T15:03:23.399Z"
      },
      {
        "duration": 255,
        "start_time": "2021-12-08T15:03:37.695Z"
      },
      {
        "duration": 4,
        "start_time": "2021-12-08T15:04:25.039Z"
      },
      {
        "duration": 294,
        "start_time": "2021-12-08T15:06:37.706Z"
      },
      {
        "duration": 5,
        "start_time": "2021-12-08T15:07:57.308Z"
      },
      {
        "duration": 309,
        "start_time": "2021-12-08T15:08:00.628Z"
      },
      {
        "duration": 272,
        "start_time": "2021-12-08T15:08:30.359Z"
      },
      {
        "duration": 281,
        "start_time": "2021-12-08T15:08:36.872Z"
      },
      {
        "duration": 302,
        "start_time": "2021-12-08T15:11:39.384Z"
      },
      {
        "duration": 310,
        "start_time": "2021-12-08T15:11:58.466Z"
      },
      {
        "duration": 6,
        "start_time": "2021-12-08T15:12:19.301Z"
      },
      {
        "duration": 5,
        "start_time": "2021-12-08T15:12:36.174Z"
      },
      {
        "duration": 759,
        "start_time": "2021-12-08T15:12:45.703Z"
      },
      {
        "duration": 60,
        "start_time": "2021-12-08T15:12:46.465Z"
      },
      {
        "duration": 27,
        "start_time": "2021-12-08T15:12:46.528Z"
      },
      {
        "duration": 17,
        "start_time": "2021-12-08T15:12:46.557Z"
      },
      {
        "duration": 12,
        "start_time": "2021-12-08T15:12:46.576Z"
      },
      {
        "duration": 47,
        "start_time": "2021-12-08T15:12:46.590Z"
      },
      {
        "duration": 4,
        "start_time": "2021-12-08T15:12:46.639Z"
      },
      {
        "duration": 6,
        "start_time": "2021-12-08T15:12:46.646Z"
      },
      {
        "duration": 28,
        "start_time": "2021-12-08T15:12:46.655Z"
      },
      {
        "duration": 44,
        "start_time": "2021-12-08T15:12:46.685Z"
      },
      {
        "duration": 791,
        "start_time": "2021-12-08T15:12:46.732Z"
      },
      {
        "duration": 26,
        "start_time": "2021-12-08T15:12:47.525Z"
      },
      {
        "duration": 5,
        "start_time": "2021-12-08T15:12:47.553Z"
      },
      {
        "duration": 9,
        "start_time": "2021-12-08T15:12:47.560Z"
      },
      {
        "duration": 18,
        "start_time": "2021-12-08T15:12:47.571Z"
      },
      {
        "duration": 35,
        "start_time": "2021-12-08T15:12:47.591Z"
      },
      {
        "duration": 10,
        "start_time": "2021-12-08T15:12:47.628Z"
      },
      {
        "duration": 18,
        "start_time": "2021-12-08T15:12:47.640Z"
      },
      {
        "duration": 13,
        "start_time": "2021-12-08T15:12:47.660Z"
      },
      {
        "duration": 56,
        "start_time": "2021-12-08T15:12:47.675Z"
      },
      {
        "duration": 8,
        "start_time": "2021-12-08T15:12:47.734Z"
      },
      {
        "duration": 5,
        "start_time": "2021-12-08T15:12:47.744Z"
      },
      {
        "duration": 15,
        "start_time": "2021-12-08T15:12:47.753Z"
      },
      {
        "duration": 8,
        "start_time": "2021-12-08T15:12:47.771Z"
      },
      {
        "duration": 9,
        "start_time": "2021-12-08T15:12:47.781Z"
      },
      {
        "duration": 32,
        "start_time": "2021-12-08T15:12:47.792Z"
      },
      {
        "duration": 4844,
        "start_time": "2021-12-08T15:12:47.827Z"
      },
      {
        "duration": 20,
        "start_time": "2021-12-08T15:12:52.674Z"
      },
      {
        "duration": 5,
        "start_time": "2021-12-08T15:12:52.696Z"
      },
      {
        "duration": 435,
        "start_time": "2021-12-08T15:12:52.723Z"
      },
      {
        "duration": 18,
        "start_time": "2021-12-08T15:12:53.161Z"
      },
      {
        "duration": 6,
        "start_time": "2021-12-08T15:12:53.181Z"
      },
      {
        "duration": 42,
        "start_time": "2021-12-08T15:12:53.189Z"
      },
      {
        "duration": 10,
        "start_time": "2021-12-08T15:12:53.234Z"
      },
      {
        "duration": 7,
        "start_time": "2021-12-08T15:12:53.247Z"
      },
      {
        "duration": 30,
        "start_time": "2021-12-08T15:12:53.257Z"
      },
      {
        "duration": 4,
        "start_time": "2021-12-08T15:16:22.957Z"
      },
      {
        "duration": 2002,
        "start_time": "2021-12-08T15:16:23.708Z"
      },
      {
        "duration": 5,
        "start_time": "2021-12-08T15:17:07.788Z"
      },
      {
        "duration": 14,
        "start_time": "2021-12-08T15:17:09.193Z"
      },
      {
        "duration": 21,
        "start_time": "2021-12-08T15:17:29.733Z"
      },
      {
        "duration": 33,
        "start_time": "2021-12-08T15:18:03.472Z"
      },
      {
        "duration": 4,
        "start_time": "2021-12-08T15:18:32.445Z"
      },
      {
        "duration": 12,
        "start_time": "2021-12-08T15:18:35.894Z"
      },
      {
        "duration": 34,
        "start_time": "2021-12-08T15:18:35.909Z"
      },
      {
        "duration": 20,
        "start_time": "2021-12-08T15:18:51.283Z"
      },
      {
        "duration": 9,
        "start_time": "2021-12-08T15:19:23.864Z"
      },
      {
        "duration": 106,
        "start_time": "2021-12-08T15:28:44.960Z"
      },
      {
        "duration": 101,
        "start_time": "2021-12-08T15:32:10.902Z"
      },
      {
        "duration": 21,
        "start_time": "2021-12-08T15:38:44.863Z"
      },
      {
        "duration": 15,
        "start_time": "2021-12-08T15:39:03.819Z"
      },
      {
        "duration": 6,
        "start_time": "2021-12-08T15:39:25.136Z"
      },
      {
        "duration": 13,
        "start_time": "2021-12-08T15:39:39.096Z"
      },
      {
        "duration": 6,
        "start_time": "2021-12-08T15:39:39.981Z"
      },
      {
        "duration": 36,
        "start_time": "2021-12-08T15:39:58.870Z"
      },
      {
        "duration": 52,
        "start_time": "2021-12-08T15:40:06.178Z"
      },
      {
        "duration": 7,
        "start_time": "2021-12-08T15:41:55.686Z"
      },
      {
        "duration": 16,
        "start_time": "2021-12-08T15:42:30.401Z"
      },
      {
        "duration": 7,
        "start_time": "2021-12-08T15:42:31.065Z"
      },
      {
        "duration": 1054,
        "start_time": "2021-12-08T15:44:36.356Z"
      },
      {
        "duration": 281,
        "start_time": "2021-12-08T15:44:44.413Z"
      },
      {
        "duration": 422,
        "start_time": "2021-12-08T15:47:09.212Z"
      },
      {
        "duration": 261,
        "start_time": "2021-12-08T15:47:35.867Z"
      },
      {
        "duration": 412,
        "start_time": "2021-12-08T15:47:48.089Z"
      },
      {
        "duration": 253,
        "start_time": "2021-12-08T15:47:55.383Z"
      },
      {
        "duration": 402,
        "start_time": "2021-12-08T15:49:08.073Z"
      },
      {
        "duration": 262,
        "start_time": "2021-12-08T15:49:17.208Z"
      },
      {
        "duration": 96,
        "start_time": "2021-12-08T15:57:43.411Z"
      },
      {
        "duration": 4,
        "start_time": "2021-12-08T15:58:00.267Z"
      },
      {
        "duration": 427,
        "start_time": "2021-12-08T15:58:37.560Z"
      },
      {
        "duration": 780,
        "start_time": "2021-12-08T15:59:13.998Z"
      },
      {
        "duration": 68,
        "start_time": "2021-12-08T15:59:14.780Z"
      },
      {
        "duration": 27,
        "start_time": "2021-12-08T15:59:14.851Z"
      },
      {
        "duration": 18,
        "start_time": "2021-12-08T15:59:14.880Z"
      },
      {
        "duration": 30,
        "start_time": "2021-12-08T15:59:14.900Z"
      },
      {
        "duration": 26,
        "start_time": "2021-12-08T15:59:14.933Z"
      },
      {
        "duration": 4,
        "start_time": "2021-12-08T15:59:14.961Z"
      },
      {
        "duration": 5,
        "start_time": "2021-12-08T15:59:14.969Z"
      },
      {
        "duration": 69,
        "start_time": "2021-12-08T15:59:14.977Z"
      },
      {
        "duration": 11,
        "start_time": "2021-12-08T15:59:15.050Z"
      },
      {
        "duration": 730,
        "start_time": "2021-12-08T15:59:15.063Z"
      },
      {
        "duration": 42,
        "start_time": "2021-12-08T15:59:15.796Z"
      },
      {
        "duration": 23,
        "start_time": "2021-12-08T15:59:15.841Z"
      },
      {
        "duration": 31,
        "start_time": "2021-12-08T15:59:15.866Z"
      },
      {
        "duration": 52,
        "start_time": "2021-12-08T15:59:15.900Z"
      },
      {
        "duration": 11,
        "start_time": "2021-12-08T15:59:15.954Z"
      },
      {
        "duration": 46,
        "start_time": "2021-12-08T15:59:15.968Z"
      },
      {
        "duration": 41,
        "start_time": "2021-12-08T15:59:16.016Z"
      },
      {
        "duration": 21,
        "start_time": "2021-12-08T15:59:16.060Z"
      },
      {
        "duration": 46,
        "start_time": "2021-12-08T15:59:16.084Z"
      },
      {
        "duration": 32,
        "start_time": "2021-12-08T15:59:16.133Z"
      },
      {
        "duration": 27,
        "start_time": "2021-12-08T15:59:16.167Z"
      },
      {
        "duration": 39,
        "start_time": "2021-12-08T15:59:16.198Z"
      },
      {
        "duration": 29,
        "start_time": "2021-12-08T15:59:16.241Z"
      },
      {
        "duration": 20,
        "start_time": "2021-12-08T15:59:16.272Z"
      },
      {
        "duration": 41,
        "start_time": "2021-12-08T15:59:16.295Z"
      },
      {
        "duration": 5196,
        "start_time": "2021-12-08T15:59:16.339Z"
      },
      {
        "duration": 21,
        "start_time": "2021-12-08T15:59:21.539Z"
      },
      {
        "duration": 4,
        "start_time": "2021-12-08T15:59:21.562Z"
      },
      {
        "duration": 477,
        "start_time": "2021-12-08T15:59:21.568Z"
      },
      {
        "duration": 21,
        "start_time": "2021-12-08T15:59:22.047Z"
      },
      {
        "duration": 11,
        "start_time": "2021-12-08T15:59:22.071Z"
      },
      {
        "duration": 57,
        "start_time": "2021-12-08T15:59:22.085Z"
      },
      {
        "duration": 9,
        "start_time": "2021-12-08T15:59:22.145Z"
      },
      {
        "duration": 7,
        "start_time": "2021-12-08T15:59:22.156Z"
      },
      {
        "duration": 16,
        "start_time": "2021-12-08T15:59:22.165Z"
      },
      {
        "duration": 12,
        "start_time": "2021-12-08T15:59:22.184Z"
      },
      {
        "duration": 32,
        "start_time": "2021-12-08T15:59:22.198Z"
      },
      {
        "duration": 14,
        "start_time": "2021-12-08T15:59:22.235Z"
      },
      {
        "duration": 9,
        "start_time": "2021-12-08T15:59:22.252Z"
      },
      {
        "duration": 22,
        "start_time": "2021-12-08T15:59:22.263Z"
      },
      {
        "duration": 7,
        "start_time": "2021-12-08T15:59:22.287Z"
      },
      {
        "duration": 1070,
        "start_time": "2021-12-08T15:59:22.329Z"
      },
      {
        "duration": 395,
        "start_time": "2021-12-08T16:10:46.745Z"
      },
      {
        "duration": 302,
        "start_time": "2021-12-08T16:12:58.817Z"
      },
      {
        "duration": 20,
        "start_time": "2021-12-08T16:13:16.006Z"
      },
      {
        "duration": 22,
        "start_time": "2021-12-08T16:14:21.812Z"
      },
      {
        "duration": 19,
        "start_time": "2021-12-08T16:43:01.370Z"
      },
      {
        "duration": 18,
        "start_time": "2021-12-08T16:47:34.783Z"
      },
      {
        "duration": 20,
        "start_time": "2021-12-08T16:47:47.507Z"
      },
      {
        "duration": 447,
        "start_time": "2021-12-08T17:20:11.468Z"
      },
      {
        "duration": 12,
        "start_time": "2021-12-08T17:25:18.130Z"
      },
      {
        "duration": 17,
        "start_time": "2021-12-08T17:27:14.853Z"
      },
      {
        "duration": 26,
        "start_time": "2021-12-08T17:28:02.269Z"
      },
      {
        "duration": 752,
        "start_time": "2021-12-08T17:29:06.238Z"
      },
      {
        "duration": 63,
        "start_time": "2021-12-08T17:29:06.993Z"
      },
      {
        "duration": 29,
        "start_time": "2021-12-08T17:29:07.060Z"
      },
      {
        "duration": 48,
        "start_time": "2021-12-08T17:29:07.093Z"
      },
      {
        "duration": 27,
        "start_time": "2021-12-08T17:29:07.144Z"
      },
      {
        "duration": 41,
        "start_time": "2021-12-08T17:29:07.173Z"
      },
      {
        "duration": 16,
        "start_time": "2021-12-08T17:29:07.217Z"
      },
      {
        "duration": 34,
        "start_time": "2021-12-08T17:29:07.238Z"
      },
      {
        "duration": 47,
        "start_time": "2021-12-08T17:29:07.276Z"
      },
      {
        "duration": 35,
        "start_time": "2021-12-08T17:29:07.326Z"
      },
      {
        "duration": 700,
        "start_time": "2021-12-08T17:29:07.364Z"
      },
      {
        "duration": 30,
        "start_time": "2021-12-08T17:29:08.067Z"
      },
      {
        "duration": 23,
        "start_time": "2021-12-08T17:29:08.100Z"
      },
      {
        "duration": 24,
        "start_time": "2021-12-08T17:29:08.126Z"
      },
      {
        "duration": 48,
        "start_time": "2021-12-08T17:29:08.153Z"
      },
      {
        "duration": 16,
        "start_time": "2021-12-08T17:29:08.203Z"
      },
      {
        "duration": 33,
        "start_time": "2021-12-08T17:29:08.221Z"
      },
      {
        "duration": 48,
        "start_time": "2021-12-08T17:29:08.256Z"
      },
      {
        "duration": 41,
        "start_time": "2021-12-08T17:29:08.307Z"
      },
      {
        "duration": 66,
        "start_time": "2021-12-08T17:29:08.351Z"
      },
      {
        "duration": 46,
        "start_time": "2021-12-08T17:29:08.420Z"
      },
      {
        "duration": 30,
        "start_time": "2021-12-08T17:29:08.468Z"
      },
      {
        "duration": 23,
        "start_time": "2021-12-08T17:29:08.505Z"
      },
      {
        "duration": 16,
        "start_time": "2021-12-08T17:29:08.532Z"
      },
      {
        "duration": 17,
        "start_time": "2021-12-08T17:29:08.551Z"
      },
      {
        "duration": 18,
        "start_time": "2021-12-08T17:29:08.571Z"
      },
      {
        "duration": 5451,
        "start_time": "2021-12-08T17:29:08.592Z"
      },
      {
        "duration": 21,
        "start_time": "2021-12-08T17:29:14.046Z"
      },
      {
        "duration": 7,
        "start_time": "2021-12-08T17:29:14.070Z"
      },
      {
        "duration": 505,
        "start_time": "2021-12-08T17:29:14.080Z"
      },
      {
        "duration": 19,
        "start_time": "2021-12-08T17:29:14.588Z"
      },
      {
        "duration": 22,
        "start_time": "2021-12-08T17:29:14.624Z"
      },
      {
        "duration": 43,
        "start_time": "2021-12-08T17:29:14.648Z"
      },
      {
        "duration": 29,
        "start_time": "2021-12-08T17:29:14.694Z"
      },
      {
        "duration": 12,
        "start_time": "2021-12-08T17:29:14.725Z"
      },
      {
        "duration": 36,
        "start_time": "2021-12-08T17:29:14.740Z"
      },
      {
        "duration": 34,
        "start_time": "2021-12-08T17:29:14.778Z"
      },
      {
        "duration": 23,
        "start_time": "2021-12-08T17:29:14.815Z"
      },
      {
        "duration": 40,
        "start_time": "2021-12-08T17:29:14.841Z"
      },
      {
        "duration": 23,
        "start_time": "2021-12-08T17:29:14.884Z"
      },
      {
        "duration": 31,
        "start_time": "2021-12-08T17:29:14.909Z"
      },
      {
        "duration": 11,
        "start_time": "2021-12-08T17:29:14.942Z"
      },
      {
        "duration": 19,
        "start_time": "2021-12-08T17:29:14.955Z"
      },
      {
        "duration": 27,
        "start_time": "2021-12-08T17:29:14.977Z"
      },
      {
        "duration": 44,
        "start_time": "2021-12-08T17:29:15.007Z"
      },
      {
        "duration": 7,
        "start_time": "2021-12-08T17:29:15.054Z"
      },
      {
        "duration": 1031,
        "start_time": "2021-12-08T17:29:15.063Z"
      },
      {
        "duration": 17,
        "start_time": "2021-12-08T17:33:19.962Z"
      },
      {
        "duration": 9,
        "start_time": "2021-12-08T17:33:20.672Z"
      },
      {
        "duration": 691,
        "start_time": "2021-12-08T17:33:28.373Z"
      },
      {
        "duration": 62,
        "start_time": "2021-12-08T17:33:29.067Z"
      },
      {
        "duration": 29,
        "start_time": "2021-12-08T17:33:29.132Z"
      },
      {
        "duration": 16,
        "start_time": "2021-12-08T17:33:29.164Z"
      },
      {
        "duration": 41,
        "start_time": "2021-12-08T17:33:29.183Z"
      },
      {
        "duration": 19,
        "start_time": "2021-12-08T17:33:29.227Z"
      },
      {
        "duration": 4,
        "start_time": "2021-12-08T17:33:29.248Z"
      },
      {
        "duration": 5,
        "start_time": "2021-12-08T17:33:29.256Z"
      },
      {
        "duration": 64,
        "start_time": "2021-12-08T17:33:29.264Z"
      },
      {
        "duration": 9,
        "start_time": "2021-12-08T17:33:29.331Z"
      },
      {
        "duration": 713,
        "start_time": "2021-12-08T17:33:29.343Z"
      },
      {
        "duration": 29,
        "start_time": "2021-12-08T17:33:30.059Z"
      },
      {
        "duration": 31,
        "start_time": "2021-12-08T17:33:30.091Z"
      },
      {
        "duration": 10,
        "start_time": "2021-12-08T17:33:30.124Z"
      },
      {
        "duration": 30,
        "start_time": "2021-12-08T17:33:30.137Z"
      },
      {
        "duration": 14,
        "start_time": "2021-12-08T17:33:30.170Z"
      },
      {
        "duration": 13,
        "start_time": "2021-12-08T17:33:30.187Z"
      },
      {
        "duration": 35,
        "start_time": "2021-12-08T17:33:30.202Z"
      },
      {
        "duration": 26,
        "start_time": "2021-12-08T17:33:30.240Z"
      },
      {
        "duration": 44,
        "start_time": "2021-12-08T17:33:30.268Z"
      },
      {
        "duration": 17,
        "start_time": "2021-12-08T17:33:30.314Z"
      },
      {
        "duration": 19,
        "start_time": "2021-12-08T17:33:30.333Z"
      },
      {
        "duration": 26,
        "start_time": "2021-12-08T17:33:30.357Z"
      },
      {
        "duration": 25,
        "start_time": "2021-12-08T17:33:30.385Z"
      },
      {
        "duration": 17,
        "start_time": "2021-12-08T17:33:30.412Z"
      },
      {
        "duration": 26,
        "start_time": "2021-12-08T17:33:30.432Z"
      },
      {
        "duration": 4905,
        "start_time": "2021-12-08T17:33:30.460Z"
      },
      {
        "duration": 22,
        "start_time": "2021-12-08T17:33:35.368Z"
      },
      {
        "duration": 6,
        "start_time": "2021-12-08T17:33:35.392Z"
      },
      {
        "duration": 472,
        "start_time": "2021-12-08T17:33:35.401Z"
      },
      {
        "duration": 18,
        "start_time": "2021-12-08T17:33:35.876Z"
      },
      {
        "duration": 33,
        "start_time": "2021-12-08T17:33:35.897Z"
      },
      {
        "duration": 35,
        "start_time": "2021-12-08T17:33:35.932Z"
      },
      {
        "duration": 20,
        "start_time": "2021-12-08T17:33:35.969Z"
      },
      {
        "duration": 29,
        "start_time": "2021-12-08T17:33:35.991Z"
      },
      {
        "duration": 26,
        "start_time": "2021-12-08T17:33:36.022Z"
      },
      {
        "duration": 26,
        "start_time": "2021-12-08T17:33:36.050Z"
      },
      {
        "duration": 8,
        "start_time": "2021-12-08T17:33:36.078Z"
      },
      {
        "duration": 35,
        "start_time": "2021-12-08T17:33:36.088Z"
      },
      {
        "duration": 28,
        "start_time": "2021-12-08T17:33:36.125Z"
      },
      {
        "duration": 45,
        "start_time": "2021-12-08T17:33:36.156Z"
      },
      {
        "duration": 19,
        "start_time": "2021-12-08T17:33:36.203Z"
      },
      {
        "duration": 37,
        "start_time": "2021-12-08T17:33:36.225Z"
      },
      {
        "duration": 34,
        "start_time": "2021-12-08T17:33:36.264Z"
      },
      {
        "duration": 21,
        "start_time": "2021-12-08T17:33:36.300Z"
      },
      {
        "duration": 353,
        "start_time": "2021-12-08T17:33:36.323Z"
      },
      {
        "duration": 840,
        "start_time": "2021-12-08T17:33:35.839Z"
      },
      {
        "duration": 7,
        "start_time": "2021-12-08T17:33:50.493Z"
      },
      {
        "duration": 15,
        "start_time": "2021-12-08T17:34:55.582Z"
      },
      {
        "duration": 7,
        "start_time": "2021-12-08T17:34:56.290Z"
      },
      {
        "duration": 9,
        "start_time": "2021-12-08T17:36:28.827Z"
      },
      {
        "duration": 16,
        "start_time": "2021-12-08T17:40:00.947Z"
      },
      {
        "duration": 275,
        "start_time": "2021-12-08T17:40:01.782Z"
      },
      {
        "duration": 274,
        "start_time": "2021-12-08T17:40:16.025Z"
      },
      {
        "duration": 11,
        "start_time": "2021-12-08T17:40:38.825Z"
      },
      {
        "duration": 9,
        "start_time": "2021-12-08T17:41:00.408Z"
      },
      {
        "duration": 23,
        "start_time": "2021-12-08T17:43:52.878Z"
      },
      {
        "duration": 17,
        "start_time": "2021-12-08T17:44:08.104Z"
      },
      {
        "duration": 23,
        "start_time": "2021-12-08T17:45:02.655Z"
      },
      {
        "duration": 13,
        "start_time": "2021-12-08T17:45:03.824Z"
      },
      {
        "duration": 15,
        "start_time": "2021-12-08T17:47:21.801Z"
      },
      {
        "duration": 10,
        "start_time": "2021-12-08T17:47:22.321Z"
      },
      {
        "duration": 130,
        "start_time": "2021-12-08T17:50:12.293Z"
      },
      {
        "duration": 13,
        "start_time": "2021-12-08T17:50:13.185Z"
      },
      {
        "duration": 85,
        "start_time": "2021-12-08T17:50:17.300Z"
      },
      {
        "duration": 990,
        "start_time": "2021-12-08T17:50:57.663Z"
      },
      {
        "duration": 91,
        "start_time": "2021-12-08T17:50:58.656Z"
      },
      {
        "duration": 43,
        "start_time": "2021-12-08T17:50:58.751Z"
      },
      {
        "duration": 40,
        "start_time": "2021-12-08T17:50:58.797Z"
      },
      {
        "duration": 18,
        "start_time": "2021-12-08T17:50:58.840Z"
      },
      {
        "duration": 42,
        "start_time": "2021-12-08T17:50:58.860Z"
      },
      {
        "duration": 20,
        "start_time": "2021-12-08T17:50:58.905Z"
      },
      {
        "duration": 17,
        "start_time": "2021-12-08T17:50:58.930Z"
      },
      {
        "duration": 67,
        "start_time": "2021-12-08T17:50:58.951Z"
      },
      {
        "duration": 27,
        "start_time": "2021-12-08T17:50:59.021Z"
      },
      {
        "duration": 726,
        "start_time": "2021-12-08T17:50:59.050Z"
      },
      {
        "duration": 27,
        "start_time": "2021-12-08T17:50:59.778Z"
      },
      {
        "duration": 27,
        "start_time": "2021-12-08T17:50:59.808Z"
      },
      {
        "duration": 20,
        "start_time": "2021-12-08T17:50:59.837Z"
      },
      {
        "duration": 46,
        "start_time": "2021-12-08T17:50:59.859Z"
      },
      {
        "duration": 18,
        "start_time": "2021-12-08T17:50:59.907Z"
      },
      {
        "duration": 39,
        "start_time": "2021-12-08T17:50:59.927Z"
      },
      {
        "duration": 32,
        "start_time": "2021-12-08T17:50:59.968Z"
      },
      {
        "duration": 21,
        "start_time": "2021-12-08T17:51:00.002Z"
      },
      {
        "duration": 64,
        "start_time": "2021-12-08T17:51:00.026Z"
      },
      {
        "duration": 36,
        "start_time": "2021-12-08T17:51:00.093Z"
      },
      {
        "duration": 40,
        "start_time": "2021-12-08T17:51:00.131Z"
      },
      {
        "duration": 59,
        "start_time": "2021-12-08T17:51:00.176Z"
      },
      {
        "duration": 26,
        "start_time": "2021-12-08T17:51:00.239Z"
      },
      {
        "duration": 21,
        "start_time": "2021-12-08T17:51:00.267Z"
      },
      {
        "duration": 44,
        "start_time": "2021-12-08T17:51:00.290Z"
      },
      {
        "duration": 5344,
        "start_time": "2021-12-08T17:51:00.337Z"
      },
      {
        "duration": 22,
        "start_time": "2021-12-08T17:51:05.684Z"
      },
      {
        "duration": 4,
        "start_time": "2021-12-08T17:51:05.724Z"
      },
      {
        "duration": 486,
        "start_time": "2021-12-08T17:51:05.731Z"
      },
      {
        "duration": 19,
        "start_time": "2021-12-08T17:51:06.220Z"
      },
      {
        "duration": 9,
        "start_time": "2021-12-08T17:51:06.243Z"
      },
      {
        "duration": 27,
        "start_time": "2021-12-08T17:51:06.254Z"
      },
      {
        "duration": 39,
        "start_time": "2021-12-08T17:51:06.284Z"
      },
      {
        "duration": 6,
        "start_time": "2021-12-08T17:51:06.326Z"
      },
      {
        "duration": 22,
        "start_time": "2021-12-08T17:51:06.335Z"
      },
      {
        "duration": 12,
        "start_time": "2021-12-08T17:51:06.360Z"
      },
      {
        "duration": 4,
        "start_time": "2021-12-08T17:51:06.375Z"
      },
      {
        "duration": 50,
        "start_time": "2021-12-08T17:51:06.382Z"
      },
      {
        "duration": 13,
        "start_time": "2021-12-08T17:51:06.435Z"
      },
      {
        "duration": 21,
        "start_time": "2021-12-08T17:51:06.450Z"
      },
      {
        "duration": 3,
        "start_time": "2021-12-08T17:51:06.474Z"
      },
      {
        "duration": 50,
        "start_time": "2021-12-08T17:51:06.479Z"
      },
      {
        "duration": 24,
        "start_time": "2021-12-08T17:51:06.532Z"
      },
      {
        "duration": 28,
        "start_time": "2021-12-08T17:51:06.558Z"
      },
      {
        "duration": 9,
        "start_time": "2021-12-08T17:51:06.588Z"
      },
      {
        "duration": 37,
        "start_time": "2021-12-08T17:51:06.600Z"
      },
      {
        "duration": 10,
        "start_time": "2021-12-08T17:51:06.640Z"
      },
      {
        "duration": 20,
        "start_time": "2021-12-08T17:51:06.653Z"
      },
      {
        "duration": 57,
        "start_time": "2021-12-08T17:51:06.676Z"
      },
      {
        "duration": 92,
        "start_time": "2021-12-08T17:51:06.736Z"
      },
      {
        "duration": 773,
        "start_time": "2021-12-08T17:51:06.058Z"
      },
      {
        "duration": 23,
        "start_time": "2021-12-08T17:51:41.186Z"
      },
      {
        "duration": 381,
        "start_time": "2021-12-08T17:51:42.812Z"
      },
      {
        "duration": 275,
        "start_time": "2021-12-08T17:51:59.447Z"
      },
      {
        "duration": 9,
        "start_time": "2021-12-08T17:52:29.283Z"
      },
      {
        "duration": 21,
        "start_time": "2021-12-08T17:53:49.308Z"
      },
      {
        "duration": 285,
        "start_time": "2021-12-08T17:53:49.934Z"
      },
      {
        "duration": 9,
        "start_time": "2021-12-08T17:53:59.983Z"
      },
      {
        "duration": 26,
        "start_time": "2021-12-08T17:54:16.071Z"
      },
      {
        "duration": 13,
        "start_time": "2021-12-08T17:54:16.600Z"
      },
      {
        "duration": 22,
        "start_time": "2021-12-08T17:54:32.264Z"
      },
      {
        "duration": 9,
        "start_time": "2021-12-08T17:54:32.749Z"
      },
      {
        "duration": 66,
        "start_time": "2021-12-09T07:32:20.889Z"
      },
      {
        "duration": 63,
        "start_time": "2021-12-09T07:32:20.893Z"
      },
      {
        "duration": 61,
        "start_time": "2021-12-09T07:32:20.896Z"
      },
      {
        "duration": 61,
        "start_time": "2021-12-09T07:32:20.898Z"
      },
      {
        "duration": 59,
        "start_time": "2021-12-09T07:32:20.901Z"
      },
      {
        "duration": 54,
        "start_time": "2021-12-09T07:32:20.907Z"
      },
      {
        "duration": 53,
        "start_time": "2021-12-09T07:32:20.910Z"
      },
      {
        "duration": 51,
        "start_time": "2021-12-09T07:32:20.913Z"
      },
      {
        "duration": 50,
        "start_time": "2021-12-09T07:32:20.916Z"
      },
      {
        "duration": 50,
        "start_time": "2021-12-09T07:32:20.918Z"
      },
      {
        "duration": 48,
        "start_time": "2021-12-09T07:32:20.921Z"
      },
      {
        "duration": 48,
        "start_time": "2021-12-09T07:32:20.923Z"
      },
      {
        "duration": 18,
        "start_time": "2021-12-09T07:32:20.954Z"
      },
      {
        "duration": 11,
        "start_time": "2021-12-09T07:32:20.963Z"
      },
      {
        "duration": 10,
        "start_time": "2021-12-09T07:32:20.965Z"
      },
      {
        "duration": 4,
        "start_time": "2021-12-09T07:32:20.973Z"
      },
      {
        "duration": 3,
        "start_time": "2021-12-09T07:32:20.976Z"
      },
      {
        "duration": 1,
        "start_time": "2021-12-09T07:32:20.979Z"
      },
      {
        "duration": 0,
        "start_time": "2021-12-09T07:32:20.982Z"
      },
      {
        "duration": -1,
        "start_time": "2021-12-09T07:32:20.984Z"
      },
      {
        "duration": -2,
        "start_time": "2021-12-09T07:32:20.987Z"
      },
      {
        "duration": -10,
        "start_time": "2021-12-09T07:32:20.996Z"
      },
      {
        "duration": -11,
        "start_time": "2021-12-09T07:32:20.999Z"
      },
      {
        "duration": -12,
        "start_time": "2021-12-09T07:32:21.001Z"
      },
      {
        "duration": 9,
        "start_time": "2021-12-09T07:32:21.015Z"
      },
      {
        "duration": 10,
        "start_time": "2021-12-09T07:32:21.017Z"
      },
      {
        "duration": -79,
        "start_time": "2021-12-09T07:32:21.108Z"
      },
      {
        "duration": -80,
        "start_time": "2021-12-09T07:32:21.111Z"
      },
      {
        "duration": -78,
        "start_time": "2021-12-09T07:32:21.113Z"
      },
      {
        "duration": -77,
        "start_time": "2021-12-09T07:32:21.115Z"
      },
      {
        "duration": -77,
        "start_time": "2021-12-09T07:32:21.117Z"
      },
      {
        "duration": -77,
        "start_time": "2021-12-09T07:32:21.119Z"
      },
      {
        "duration": -76,
        "start_time": "2021-12-09T07:32:21.120Z"
      },
      {
        "duration": -75,
        "start_time": "2021-12-09T07:32:21.122Z"
      },
      {
        "duration": -121,
        "start_time": "2021-12-09T07:32:21.170Z"
      },
      {
        "duration": -120,
        "start_time": "2021-12-09T07:32:21.171Z"
      },
      {
        "duration": -120,
        "start_time": "2021-12-09T07:32:21.173Z"
      },
      {
        "duration": -120,
        "start_time": "2021-12-09T07:32:21.175Z"
      },
      {
        "duration": -119,
        "start_time": "2021-12-09T07:32:21.177Z"
      },
      {
        "duration": -119,
        "start_time": "2021-12-09T07:32:21.179Z"
      },
      {
        "duration": -58,
        "start_time": "2021-12-09T07:32:21.181Z"
      },
      {
        "duration": -56,
        "start_time": "2021-12-09T07:32:21.182Z"
      },
      {
        "duration": -56,
        "start_time": "2021-12-09T07:32:21.184Z"
      },
      {
        "duration": -55,
        "start_time": "2021-12-09T07:32:21.186Z"
      },
      {
        "duration": -55,
        "start_time": "2021-12-09T07:32:21.188Z"
      },
      {
        "duration": -66,
        "start_time": "2021-12-09T07:32:21.201Z"
      },
      {
        "duration": -66,
        "start_time": "2021-12-09T07:32:21.203Z"
      },
      {
        "duration": -65,
        "start_time": "2021-12-09T07:32:21.205Z"
      },
      {
        "duration": -65,
        "start_time": "2021-12-09T07:32:21.207Z"
      },
      {
        "duration": -64,
        "start_time": "2021-12-09T07:32:21.208Z"
      },
      {
        "duration": -63,
        "start_time": "2021-12-09T07:32:21.210Z"
      },
      {
        "duration": -63,
        "start_time": "2021-12-09T07:32:21.212Z"
      },
      {
        "duration": 739,
        "start_time": "2021-12-09T07:33:13.155Z"
      },
      {
        "duration": 65,
        "start_time": "2021-12-09T07:33:13.897Z"
      },
      {
        "duration": 31,
        "start_time": "2021-12-09T07:33:13.965Z"
      },
      {
        "duration": 39,
        "start_time": "2021-12-09T07:33:13.999Z"
      },
      {
        "duration": 15,
        "start_time": "2021-12-09T07:33:14.041Z"
      },
      {
        "duration": 22,
        "start_time": "2021-12-09T07:33:14.059Z"
      },
      {
        "duration": 41,
        "start_time": "2021-12-09T07:33:14.084Z"
      },
      {
        "duration": 6,
        "start_time": "2021-12-09T07:33:14.128Z"
      },
      {
        "duration": 27,
        "start_time": "2021-12-09T07:33:14.140Z"
      },
      {
        "duration": 53,
        "start_time": "2021-12-09T07:33:14.171Z"
      },
      {
        "duration": 737,
        "start_time": "2021-12-09T07:33:14.227Z"
      },
      {
        "duration": 29,
        "start_time": "2021-12-09T07:33:14.966Z"
      },
      {
        "duration": 25,
        "start_time": "2021-12-09T07:33:14.998Z"
      },
      {
        "duration": 5,
        "start_time": "2021-12-09T07:33:15.026Z"
      },
      {
        "duration": 32,
        "start_time": "2021-12-09T07:33:15.034Z"
      },
      {
        "duration": 9,
        "start_time": "2021-12-09T07:33:15.069Z"
      },
      {
        "duration": 21,
        "start_time": "2021-12-09T07:33:15.080Z"
      },
      {
        "duration": 34,
        "start_time": "2021-12-09T07:33:15.103Z"
      },
      {
        "duration": 21,
        "start_time": "2021-12-09T07:33:15.140Z"
      },
      {
        "duration": 68,
        "start_time": "2021-12-09T07:33:15.164Z"
      },
      {
        "duration": 4,
        "start_time": "2021-12-09T07:33:15.235Z"
      },
      {
        "duration": 11,
        "start_time": "2021-12-09T07:33:15.241Z"
      },
      {
        "duration": 18,
        "start_time": "2021-12-09T07:33:15.254Z"
      },
      {
        "duration": 9,
        "start_time": "2021-12-09T07:33:15.275Z"
      },
      {
        "duration": 4,
        "start_time": "2021-12-09T07:33:15.286Z"
      },
      {
        "duration": 3,
        "start_time": "2021-12-09T07:33:15.324Z"
      },
      {
        "duration": 5653,
        "start_time": "2021-12-09T07:33:15.333Z"
      },
      {
        "duration": 33,
        "start_time": "2021-12-09T07:33:20.990Z"
      },
      {
        "duration": 4,
        "start_time": "2021-12-09T07:33:21.027Z"
      },
      {
        "duration": 574,
        "start_time": "2021-12-09T07:33:21.035Z"
      },
      {
        "duration": 20,
        "start_time": "2021-12-09T07:33:21.611Z"
      },
      {
        "duration": 5,
        "start_time": "2021-12-09T07:33:21.634Z"
      },
      {
        "duration": 22,
        "start_time": "2021-12-09T07:33:21.642Z"
      },
      {
        "duration": 10,
        "start_time": "2021-12-09T07:33:21.666Z"
      },
      {
        "duration": 44,
        "start_time": "2021-12-09T07:33:21.679Z"
      },
      {
        "duration": 17,
        "start_time": "2021-12-09T07:33:21.726Z"
      },
      {
        "duration": 10,
        "start_time": "2021-12-09T07:33:21.746Z"
      },
      {
        "duration": 9,
        "start_time": "2021-12-09T07:33:21.758Z"
      },
      {
        "duration": 13,
        "start_time": "2021-12-09T07:33:21.769Z"
      },
      {
        "duration": 44,
        "start_time": "2021-12-09T07:33:21.784Z"
      },
      {
        "duration": 27,
        "start_time": "2021-12-09T07:33:21.830Z"
      },
      {
        "duration": 3,
        "start_time": "2021-12-09T07:33:21.860Z"
      },
      {
        "duration": 18,
        "start_time": "2021-12-09T07:33:21.865Z"
      },
      {
        "duration": 52,
        "start_time": "2021-12-09T07:33:21.885Z"
      },
      {
        "duration": 25,
        "start_time": "2021-12-09T07:33:21.940Z"
      },
      {
        "duration": 9,
        "start_time": "2021-12-09T07:33:21.967Z"
      },
      {
        "duration": 56,
        "start_time": "2021-12-09T07:33:21.979Z"
      },
      {
        "duration": 8,
        "start_time": "2021-12-09T07:33:22.037Z"
      },
      {
        "duration": 30,
        "start_time": "2021-12-09T07:33:22.048Z"
      },
      {
        "duration": 10,
        "start_time": "2021-12-09T07:33:22.080Z"
      },
      {
        "duration": 28,
        "start_time": "2021-12-09T07:33:22.124Z"
      },
      {
        "duration": 10,
        "start_time": "2021-12-09T07:33:22.155Z"
      },
      {
        "duration": 798,
        "start_time": "2021-12-09T12:19:55.629Z"
      },
      {
        "duration": 63,
        "start_time": "2021-12-09T12:19:56.429Z"
      },
      {
        "duration": 39,
        "start_time": "2021-12-09T12:19:56.495Z"
      },
      {
        "duration": 16,
        "start_time": "2021-12-09T12:19:56.537Z"
      },
      {
        "duration": 11,
        "start_time": "2021-12-09T12:19:56.555Z"
      },
      {
        "duration": 57,
        "start_time": "2021-12-09T12:19:56.568Z"
      },
      {
        "duration": 5,
        "start_time": "2021-12-09T12:19:56.627Z"
      },
      {
        "duration": 6,
        "start_time": "2021-12-09T12:19:56.635Z"
      },
      {
        "duration": 28,
        "start_time": "2021-12-09T12:19:56.644Z"
      },
      {
        "duration": 11,
        "start_time": "2021-12-09T12:19:56.674Z"
      },
      {
        "duration": 720,
        "start_time": "2021-12-09T12:19:56.687Z"
      },
      {
        "duration": 31,
        "start_time": "2021-12-09T12:19:57.409Z"
      },
      {
        "duration": 5,
        "start_time": "2021-12-09T12:19:57.442Z"
      },
      {
        "duration": 7,
        "start_time": "2021-12-09T12:19:57.449Z"
      },
      {
        "duration": 18,
        "start_time": "2021-12-09T12:19:57.458Z"
      },
      {
        "duration": 5,
        "start_time": "2021-12-09T12:19:57.478Z"
      },
      {
        "duration": 45,
        "start_time": "2021-12-09T12:19:57.486Z"
      },
      {
        "duration": 15,
        "start_time": "2021-12-09T12:19:57.533Z"
      },
      {
        "duration": 13,
        "start_time": "2021-12-09T12:19:57.550Z"
      },
      {
        "duration": 67,
        "start_time": "2021-12-09T12:19:57.565Z"
      },
      {
        "duration": 6,
        "start_time": "2021-12-09T12:19:57.635Z"
      },
      {
        "duration": 9,
        "start_time": "2021-12-09T12:19:57.644Z"
      },
      {
        "duration": 16,
        "start_time": "2021-12-09T12:19:57.660Z"
      },
      {
        "duration": 45,
        "start_time": "2021-12-09T12:19:57.680Z"
      },
      {
        "duration": 3,
        "start_time": "2021-12-09T12:19:57.727Z"
      },
      {
        "duration": 7,
        "start_time": "2021-12-09T12:19:57.732Z"
      },
      {
        "duration": 4733,
        "start_time": "2021-12-09T12:19:57.741Z"
      },
      {
        "duration": 21,
        "start_time": "2021-12-09T12:20:02.477Z"
      },
      {
        "duration": 6,
        "start_time": "2021-12-09T12:20:02.500Z"
      },
      {
        "duration": 432,
        "start_time": "2021-12-09T12:20:02.524Z"
      },
      {
        "duration": 18,
        "start_time": "2021-12-09T12:20:02.959Z"
      },
      {
        "duration": 7,
        "start_time": "2021-12-09T12:20:02.979Z"
      },
      {
        "duration": 42,
        "start_time": "2021-12-09T12:20:02.989Z"
      },
      {
        "duration": 9,
        "start_time": "2021-12-09T12:20:03.034Z"
      },
      {
        "duration": 7,
        "start_time": "2021-12-09T12:20:03.045Z"
      },
      {
        "duration": 13,
        "start_time": "2021-12-09T12:20:03.054Z"
      },
      {
        "duration": 8,
        "start_time": "2021-12-09T12:20:03.070Z"
      },
      {
        "duration": 4,
        "start_time": "2021-12-09T12:20:03.080Z"
      },
      {
        "duration": 44,
        "start_time": "2021-12-09T12:20:03.087Z"
      },
      {
        "duration": 11,
        "start_time": "2021-12-09T12:20:03.133Z"
      },
      {
        "duration": 25,
        "start_time": "2021-12-09T12:20:03.147Z"
      },
      {
        "duration": 3,
        "start_time": "2021-12-09T12:20:03.175Z"
      },
      {
        "duration": 51,
        "start_time": "2021-12-09T12:20:03.181Z"
      },
      {
        "duration": 24,
        "start_time": "2021-12-09T12:20:03.234Z"
      },
      {
        "duration": 23,
        "start_time": "2021-12-09T12:20:03.260Z"
      },
      {
        "duration": 8,
        "start_time": "2021-12-09T12:20:03.285Z"
      },
      {
        "duration": 22,
        "start_time": "2021-12-09T12:20:03.324Z"
      },
      {
        "duration": 8,
        "start_time": "2021-12-09T12:20:03.348Z"
      },
      {
        "duration": 31,
        "start_time": "2021-12-09T12:20:03.359Z"
      },
      {
        "duration": 39,
        "start_time": "2021-12-09T12:20:03.393Z"
      },
      {
        "duration": 22,
        "start_time": "2021-12-09T12:20:03.434Z"
      },
      {
        "duration": 9,
        "start_time": "2021-12-09T12:20:03.458Z"
      },
      {
        "duration": 31,
        "start_time": "2021-12-09T12:29:43.323Z"
      },
      {
        "duration": 24,
        "start_time": "2021-12-09T12:29:54.332Z"
      },
      {
        "duration": 9,
        "start_time": "2021-12-09T12:30:57.894Z"
      },
      {
        "duration": 9,
        "start_time": "2021-12-09T12:30:58.872Z"
      },
      {
        "duration": 24,
        "start_time": "2021-12-09T12:31:06.984Z"
      },
      {
        "duration": 63,
        "start_time": "2021-12-09T12:31:11.642Z"
      },
      {
        "duration": 17,
        "start_time": "2021-12-09T12:31:37.394Z"
      },
      {
        "duration": 15,
        "start_time": "2021-12-09T12:31:38.005Z"
      },
      {
        "duration": 29,
        "start_time": "2021-12-09T12:31:44.930Z"
      },
      {
        "duration": 536,
        "start_time": "2021-12-09T12:32:50.881Z"
      },
      {
        "duration": 9,
        "start_time": "2021-12-09T12:32:51.448Z"
      },
      {
        "duration": 761,
        "start_time": "2021-12-09T12:32:58.311Z"
      },
      {
        "duration": 59,
        "start_time": "2021-12-09T12:32:59.075Z"
      },
      {
        "duration": 29,
        "start_time": "2021-12-09T12:32:59.137Z"
      },
      {
        "duration": 17,
        "start_time": "2021-12-09T12:32:59.168Z"
      },
      {
        "duration": 38,
        "start_time": "2021-12-09T12:32:59.187Z"
      },
      {
        "duration": 20,
        "start_time": "2021-12-09T12:32:59.227Z"
      },
      {
        "duration": 9,
        "start_time": "2021-12-09T12:32:59.250Z"
      },
      {
        "duration": 4,
        "start_time": "2021-12-09T12:32:59.263Z"
      },
      {
        "duration": 63,
        "start_time": "2021-12-09T12:32:59.270Z"
      },
      {
        "duration": 11,
        "start_time": "2021-12-09T12:32:59.335Z"
      },
      {
        "duration": 696,
        "start_time": "2021-12-09T12:32:59.349Z"
      },
      {
        "duration": 26,
        "start_time": "2021-12-09T12:33:00.048Z"
      },
      {
        "duration": 10,
        "start_time": "2021-12-09T12:33:00.076Z"
      },
      {
        "duration": 20,
        "start_time": "2021-12-09T12:33:00.089Z"
      },
      {
        "duration": 26,
        "start_time": "2021-12-09T12:33:00.112Z"
      },
      {
        "duration": 6,
        "start_time": "2021-12-09T12:33:00.141Z"
      },
      {
        "duration": 24,
        "start_time": "2021-12-09T12:33:00.150Z"
      },
      {
        "duration": 23,
        "start_time": "2021-12-09T12:33:00.177Z"
      },
      {
        "duration": 27,
        "start_time": "2021-12-09T12:33:00.203Z"
      },
      {
        "duration": 19,
        "start_time": "2021-12-09T12:33:00.233Z"
      },
      {
        "duration": 14,
        "start_time": "2021-12-09T12:33:00.254Z"
      },
      {
        "duration": 11,
        "start_time": "2021-12-09T12:33:00.270Z"
      },
      {
        "duration": 36,
        "start_time": "2021-12-09T12:33:00.287Z"
      },
      {
        "duration": 10,
        "start_time": "2021-12-09T12:33:00.326Z"
      },
      {
        "duration": 2,
        "start_time": "2021-12-09T12:33:00.339Z"
      },
      {
        "duration": 8,
        "start_time": "2021-12-09T12:33:00.344Z"
      },
      {
        "duration": 5032,
        "start_time": "2021-12-09T12:33:00.354Z"
      },
      {
        "duration": 35,
        "start_time": "2021-12-09T12:33:05.390Z"
      },
      {
        "duration": 6,
        "start_time": "2021-12-09T12:33:05.427Z"
      },
      {
        "duration": 442,
        "start_time": "2021-12-09T12:33:05.436Z"
      },
      {
        "duration": 18,
        "start_time": "2021-12-09T12:33:05.880Z"
      },
      {
        "duration": 23,
        "start_time": "2021-12-09T12:33:05.900Z"
      },
      {
        "duration": 20,
        "start_time": "2021-12-09T12:33:05.925Z"
      },
      {
        "duration": 12,
        "start_time": "2021-12-09T12:33:05.947Z"
      },
      {
        "duration": 20,
        "start_time": "2021-12-09T12:33:05.961Z"
      },
      {
        "duration": 26,
        "start_time": "2021-12-09T12:33:05.984Z"
      },
      {
        "duration": 11,
        "start_time": "2021-12-09T12:33:06.013Z"
      },
      {
        "duration": 10,
        "start_time": "2021-12-09T12:33:06.026Z"
      },
      {
        "duration": 22,
        "start_time": "2021-12-09T12:33:06.039Z"
      },
      {
        "duration": 18,
        "start_time": "2021-12-09T12:33:06.064Z"
      },
      {
        "duration": 39,
        "start_time": "2021-12-09T12:33:06.084Z"
      },
      {
        "duration": 3,
        "start_time": "2021-12-09T12:33:06.125Z"
      },
      {
        "duration": 32,
        "start_time": "2021-12-09T12:33:06.131Z"
      },
      {
        "duration": 26,
        "start_time": "2021-12-09T12:33:06.165Z"
      },
      {
        "duration": 34,
        "start_time": "2021-12-09T12:33:06.194Z"
      },
      {
        "duration": 9,
        "start_time": "2021-12-09T12:33:06.230Z"
      },
      {
        "duration": 26,
        "start_time": "2021-12-09T12:33:06.241Z"
      },
      {
        "duration": 8,
        "start_time": "2021-12-09T12:33:06.270Z"
      },
      {
        "duration": 57,
        "start_time": "2021-12-09T12:33:06.280Z"
      },
      {
        "duration": 12,
        "start_time": "2021-12-09T12:33:06.340Z"
      },
      {
        "duration": 24,
        "start_time": "2021-12-09T12:33:06.355Z"
      },
      {
        "duration": 11,
        "start_time": "2021-12-09T12:33:06.381Z"
      },
      {
        "duration": 3540,
        "start_time": "2021-12-09T12:38:37.913Z"
      },
      {
        "duration": 1878,
        "start_time": "2021-12-09T12:39:52.864Z"
      },
      {
        "duration": 717,
        "start_time": "2021-12-09T12:40:00.661Z"
      },
      {
        "duration": 63,
        "start_time": "2021-12-09T12:40:01.381Z"
      },
      {
        "duration": 29,
        "start_time": "2021-12-09T12:40:01.447Z"
      },
      {
        "duration": 18,
        "start_time": "2021-12-09T12:40:01.479Z"
      },
      {
        "duration": 35,
        "start_time": "2021-12-09T12:40:01.499Z"
      },
      {
        "duration": 43,
        "start_time": "2021-12-09T12:40:01.536Z"
      },
      {
        "duration": 4,
        "start_time": "2021-12-09T12:40:01.581Z"
      },
      {
        "duration": 7,
        "start_time": "2021-12-09T12:40:01.591Z"
      },
      {
        "duration": 43,
        "start_time": "2021-12-09T12:40:01.602Z"
      },
      {
        "duration": 14,
        "start_time": "2021-12-09T12:40:01.648Z"
      },
      {
        "duration": 761,
        "start_time": "2021-12-09T12:40:01.664Z"
      },
      {
        "duration": 27,
        "start_time": "2021-12-09T12:40:02.428Z"
      },
      {
        "duration": 13,
        "start_time": "2021-12-09T12:40:02.459Z"
      },
      {
        "duration": 16,
        "start_time": "2021-12-09T12:40:02.475Z"
      },
      {
        "duration": 40,
        "start_time": "2021-12-09T12:40:02.493Z"
      },
      {
        "duration": 22,
        "start_time": "2021-12-09T12:40:02.536Z"
      },
      {
        "duration": 9,
        "start_time": "2021-12-09T12:40:02.561Z"
      },
      {
        "duration": 20,
        "start_time": "2021-12-09T12:40:02.573Z"
      },
      {
        "duration": 11,
        "start_time": "2021-12-09T12:40:02.624Z"
      },
      {
        "duration": 20,
        "start_time": "2021-12-09T12:40:02.637Z"
      },
      {
        "duration": 15,
        "start_time": "2021-12-09T12:40:02.660Z"
      },
      {
        "duration": 6,
        "start_time": "2021-12-09T12:40:02.677Z"
      },
      {
        "duration": 40,
        "start_time": "2021-12-09T12:40:02.688Z"
      },
      {
        "duration": 28,
        "start_time": "2021-12-09T12:40:02.731Z"
      },
      {
        "duration": 4,
        "start_time": "2021-12-09T12:40:02.762Z"
      },
      {
        "duration": 7,
        "start_time": "2021-12-09T12:40:02.769Z"
      },
      {
        "duration": 4984,
        "start_time": "2021-12-09T12:40:02.779Z"
      },
      {
        "duration": 21,
        "start_time": "2021-12-09T12:40:07.766Z"
      },
      {
        "duration": 6,
        "start_time": "2021-12-09T12:40:07.790Z"
      },
      {
        "duration": 500,
        "start_time": "2021-12-09T12:40:07.799Z"
      },
      {
        "duration": 23,
        "start_time": "2021-12-09T12:40:08.301Z"
      },
      {
        "duration": 4,
        "start_time": "2021-12-09T12:40:08.327Z"
      },
      {
        "duration": 22,
        "start_time": "2021-12-09T12:40:08.334Z"
      },
      {
        "duration": 9,
        "start_time": "2021-12-09T12:40:08.358Z"
      },
      {
        "duration": 8,
        "start_time": "2021-12-09T12:40:08.369Z"
      },
      {
        "duration": 51,
        "start_time": "2021-12-09T12:40:08.379Z"
      },
      {
        "duration": 16,
        "start_time": "2021-12-09T12:40:08.433Z"
      },
      {
        "duration": 15,
        "start_time": "2021-12-09T12:40:08.451Z"
      },
      {
        "duration": 25,
        "start_time": "2021-12-09T12:40:08.468Z"
      },
      {
        "duration": 34,
        "start_time": "2021-12-09T12:40:08.495Z"
      },
      {
        "duration": 30,
        "start_time": "2021-12-09T12:40:08.531Z"
      },
      {
        "duration": 7,
        "start_time": "2021-12-09T12:40:08.563Z"
      },
      {
        "duration": 38,
        "start_time": "2021-12-09T12:40:08.573Z"
      },
      {
        "duration": 29,
        "start_time": "2021-12-09T12:40:08.614Z"
      },
      {
        "duration": 40,
        "start_time": "2021-12-09T12:40:08.645Z"
      },
      {
        "duration": 8,
        "start_time": "2021-12-09T12:40:08.688Z"
      },
      {
        "duration": 40,
        "start_time": "2021-12-09T12:40:08.698Z"
      },
      {
        "duration": 8,
        "start_time": "2021-12-09T12:40:08.741Z"
      },
      {
        "duration": 25,
        "start_time": "2021-12-09T12:40:08.752Z"
      },
      {
        "duration": 10,
        "start_time": "2021-12-09T12:40:08.780Z"
      },
      {
        "duration": 24,
        "start_time": "2021-12-09T12:40:08.824Z"
      },
      {
        "duration": 9,
        "start_time": "2021-12-09T12:40:08.851Z"
      },
      {
        "duration": 1974,
        "start_time": "2021-12-09T12:41:21.220Z"
      },
      {
        "duration": 340,
        "start_time": "2021-12-09T12:41:34.022Z"
      },
      {
        "duration": 437,
        "start_time": "2021-12-09T12:42:01.910Z"
      },
      {
        "duration": 1348,
        "start_time": "2021-12-09T12:42:01.003Z"
      },
      {
        "duration": 1342,
        "start_time": "2021-12-09T12:42:01.011Z"
      },
      {
        "duration": 1330,
        "start_time": "2021-12-09T12:42:01.024Z"
      },
      {
        "duration": 1300,
        "start_time": "2021-12-09T12:42:01.055Z"
      },
      {
        "duration": 1295,
        "start_time": "2021-12-09T12:42:01.061Z"
      },
      {
        "duration": 1282,
        "start_time": "2021-12-09T12:42:01.075Z"
      },
      {
        "duration": 1278,
        "start_time": "2021-12-09T12:42:01.081Z"
      },
      {
        "duration": 1268,
        "start_time": "2021-12-09T12:42:01.092Z"
      },
      {
        "duration": 1264,
        "start_time": "2021-12-09T12:42:01.098Z"
      },
      {
        "duration": 1257,
        "start_time": "2021-12-09T12:42:01.106Z"
      },
      {
        "duration": 1252,
        "start_time": "2021-12-09T12:42:01.112Z"
      },
      {
        "duration": 1245,
        "start_time": "2021-12-09T12:42:01.121Z"
      },
      {
        "duration": 1240,
        "start_time": "2021-12-09T12:42:01.127Z"
      },
      {
        "duration": 1234,
        "start_time": "2021-12-09T12:42:01.135Z"
      },
      {
        "duration": 1229,
        "start_time": "2021-12-09T12:42:01.141Z"
      },
      {
        "duration": 1199,
        "start_time": "2021-12-09T12:42:01.172Z"
      },
      {
        "duration": 1194,
        "start_time": "2021-12-09T12:42:01.179Z"
      },
      {
        "duration": 1185,
        "start_time": "2021-12-09T12:42:01.189Z"
      },
      {
        "duration": 1181,
        "start_time": "2021-12-09T12:42:01.194Z"
      },
      {
        "duration": 1176,
        "start_time": "2021-12-09T12:42:01.201Z"
      },
      {
        "duration": 1172,
        "start_time": "2021-12-09T12:42:01.206Z"
      },
      {
        "duration": 1165,
        "start_time": "2021-12-09T12:42:01.214Z"
      },
      {
        "duration": 1159,
        "start_time": "2021-12-09T12:42:01.221Z"
      },
      {
        "duration": 1153,
        "start_time": "2021-12-09T12:42:01.229Z"
      },
      {
        "duration": 1149,
        "start_time": "2021-12-09T12:42:01.234Z"
      },
      {
        "duration": 1142,
        "start_time": "2021-12-09T12:42:01.242Z"
      },
      {
        "duration": 1138,
        "start_time": "2021-12-09T12:42:01.248Z"
      },
      {
        "duration": 1168,
        "start_time": "2021-12-09T12:42:01.255Z"
      },
      {
        "duration": 1152,
        "start_time": "2021-12-09T12:42:01.272Z"
      },
      {
        "duration": 1147,
        "start_time": "2021-12-09T12:42:01.279Z"
      },
      {
        "duration": 1141,
        "start_time": "2021-12-09T12:42:01.286Z"
      },
      {
        "duration": 1137,
        "start_time": "2021-12-09T12:42:01.292Z"
      },
      {
        "duration": 1133,
        "start_time": "2021-12-09T12:42:01.297Z"
      },
      {
        "duration": 1127,
        "start_time": "2021-12-09T12:42:01.304Z"
      },
      {
        "duration": 1121,
        "start_time": "2021-12-09T12:42:01.312Z"
      },
      {
        "duration": 906,
        "start_time": "2021-12-09T12:42:49.322Z"
      },
      {
        "duration": 92,
        "start_time": "2021-12-09T12:42:50.232Z"
      },
      {
        "duration": 42,
        "start_time": "2021-12-09T12:42:50.328Z"
      },
      {
        "duration": 19,
        "start_time": "2021-12-09T12:42:50.373Z"
      },
      {
        "duration": 40,
        "start_time": "2021-12-09T12:42:50.394Z"
      },
      {
        "duration": 25,
        "start_time": "2021-12-09T12:42:50.437Z"
      },
      {
        "duration": 5,
        "start_time": "2021-12-09T12:42:50.464Z"
      },
      {
        "duration": 6,
        "start_time": "2021-12-09T12:42:50.473Z"
      },
      {
        "duration": 61,
        "start_time": "2021-12-09T12:42:50.482Z"
      },
      {
        "duration": 15,
        "start_time": "2021-12-09T12:42:50.546Z"
      },
      {
        "duration": 713,
        "start_time": "2021-12-09T12:42:50.564Z"
      },
      {
        "duration": 27,
        "start_time": "2021-12-09T12:42:51.280Z"
      },
      {
        "duration": 4,
        "start_time": "2021-12-09T12:42:51.323Z"
      },
      {
        "duration": 6,
        "start_time": "2021-12-09T12:42:51.330Z"
      },
      {
        "duration": 17,
        "start_time": "2021-12-09T12:42:51.338Z"
      },
      {
        "duration": 19,
        "start_time": "2021-12-09T12:42:51.357Z"
      },
      {
        "duration": 58,
        "start_time": "2021-12-09T12:42:51.379Z"
      },
      {
        "duration": 16,
        "start_time": "2021-12-09T12:42:51.439Z"
      },
      {
        "duration": 16,
        "start_time": "2021-12-09T12:42:51.457Z"
      },
      {
        "duration": 17,
        "start_time": "2021-12-09T12:42:51.475Z"
      },
      {
        "duration": 31,
        "start_time": "2021-12-09T12:42:51.494Z"
      },
      {
        "duration": 5,
        "start_time": "2021-12-09T12:42:51.527Z"
      },
      {
        "duration": 15,
        "start_time": "2021-12-09T12:42:51.538Z"
      },
      {
        "duration": 9,
        "start_time": "2021-12-09T12:42:51.556Z"
      },
      {
        "duration": 3,
        "start_time": "2021-12-09T12:42:51.567Z"
      },
      {
        "duration": 5,
        "start_time": "2021-12-09T12:42:51.573Z"
      },
      {
        "duration": 4723,
        "start_time": "2021-12-09T12:42:51.580Z"
      },
      {
        "duration": 29,
        "start_time": "2021-12-09T12:42:56.305Z"
      },
      {
        "duration": 4,
        "start_time": "2021-12-09T12:42:56.337Z"
      },
      {
        "duration": 456,
        "start_time": "2021-12-09T12:42:56.343Z"
      },
      {
        "duration": 24,
        "start_time": "2021-12-09T12:42:56.801Z"
      },
      {
        "duration": 8,
        "start_time": "2021-12-09T12:42:56.828Z"
      },
      {
        "duration": 24,
        "start_time": "2021-12-09T12:42:56.838Z"
      },
      {
        "duration": 10,
        "start_time": "2021-12-09T12:42:56.864Z"
      },
      {
        "duration": 6,
        "start_time": "2021-12-09T12:42:56.876Z"
      },
      {
        "duration": 44,
        "start_time": "2021-12-09T12:42:56.885Z"
      },
      {
        "duration": 14,
        "start_time": "2021-12-09T12:42:56.932Z"
      },
      {
        "duration": 7,
        "start_time": "2021-12-09T12:42:56.950Z"
      },
      {
        "duration": 14,
        "start_time": "2021-12-09T12:42:56.960Z"
      },
      {
        "duration": 13,
        "start_time": "2021-12-09T12:42:56.976Z"
      },
      {
        "duration": 51,
        "start_time": "2021-12-09T12:42:56.991Z"
      },
      {
        "duration": 3,
        "start_time": "2021-12-09T12:42:57.044Z"
      },
      {
        "duration": 14,
        "start_time": "2021-12-09T12:42:57.049Z"
      },
      {
        "duration": 25,
        "start_time": "2021-12-09T12:42:57.065Z"
      },
      {
        "duration": 22,
        "start_time": "2021-12-09T12:42:57.124Z"
      },
      {
        "duration": 8,
        "start_time": "2021-12-09T12:42:57.149Z"
      },
      {
        "duration": 27,
        "start_time": "2021-12-09T12:42:57.159Z"
      },
      {
        "duration": 39,
        "start_time": "2021-12-09T12:42:57.188Z"
      },
      {
        "duration": 27,
        "start_time": "2021-12-09T12:42:57.230Z"
      },
      {
        "duration": 10,
        "start_time": "2021-12-09T12:42:57.260Z"
      },
      {
        "duration": 56,
        "start_time": "2021-12-09T12:42:57.273Z"
      },
      {
        "duration": 9,
        "start_time": "2021-12-09T12:42:57.332Z"
      },
      {
        "duration": 16,
        "start_time": "2021-12-09T12:43:24.616Z"
      },
      {
        "duration": 1941,
        "start_time": "2021-12-09T12:44:09.294Z"
      },
      {
        "duration": 729,
        "start_time": "2021-12-09T12:44:19.828Z"
      },
      {
        "duration": 65,
        "start_time": "2021-12-09T12:44:20.559Z"
      },
      {
        "duration": 28,
        "start_time": "2021-12-09T12:44:20.627Z"
      },
      {
        "duration": 17,
        "start_time": "2021-12-09T12:44:20.658Z"
      },
      {
        "duration": 48,
        "start_time": "2021-12-09T12:44:20.677Z"
      },
      {
        "duration": 20,
        "start_time": "2021-12-09T12:44:20.728Z"
      },
      {
        "duration": 4,
        "start_time": "2021-12-09T12:44:20.751Z"
      },
      {
        "duration": 7,
        "start_time": "2021-12-09T12:44:20.758Z"
      },
      {
        "duration": 57,
        "start_time": "2021-12-09T12:44:20.768Z"
      },
      {
        "duration": 6,
        "start_time": "2021-12-09T12:44:20.827Z"
      },
      {
        "duration": 700,
        "start_time": "2021-12-09T12:44:20.836Z"
      },
      {
        "duration": 26,
        "start_time": "2021-12-09T12:44:21.539Z"
      },
      {
        "duration": 6,
        "start_time": "2021-12-09T12:44:21.567Z"
      },
      {
        "duration": 6,
        "start_time": "2021-12-09T12:44:21.575Z"
      },
      {
        "duration": 47,
        "start_time": "2021-12-09T12:44:21.583Z"
      },
      {
        "duration": 21,
        "start_time": "2021-12-09T12:44:21.632Z"
      },
      {
        "duration": 19,
        "start_time": "2021-12-09T12:44:21.655Z"
      },
      {
        "duration": 47,
        "start_time": "2021-12-09T12:44:21.676Z"
      },
      {
        "duration": 24,
        "start_time": "2021-12-09T12:44:21.725Z"
      },
      {
        "duration": 14,
        "start_time": "2021-12-09T12:44:21.751Z"
      },
      {
        "duration": 12,
        "start_time": "2021-12-09T12:44:21.768Z"
      },
      {
        "duration": 47,
        "start_time": "2021-12-09T12:44:21.782Z"
      },
      {
        "duration": 5,
        "start_time": "2021-12-09T12:44:21.835Z"
      },
      {
        "duration": 5,
        "start_time": "2021-12-09T12:44:21.843Z"
      },
      {
        "duration": 18,
        "start_time": "2021-12-09T12:44:21.850Z"
      },
      {
        "duration": 8,
        "start_time": "2021-12-09T12:44:21.870Z"
      },
      {
        "duration": 42,
        "start_time": "2021-12-09T12:44:21.881Z"
      },
      {
        "duration": 6,
        "start_time": "2021-12-09T12:44:21.925Z"
      },
      {
        "duration": 4747,
        "start_time": "2021-12-09T12:44:21.933Z"
      },
      {
        "duration": 22,
        "start_time": "2021-12-09T12:44:26.682Z"
      },
      {
        "duration": 18,
        "start_time": "2021-12-09T12:44:26.706Z"
      },
      {
        "duration": 468,
        "start_time": "2021-12-09T12:44:26.727Z"
      },
      {
        "duration": 25,
        "start_time": "2021-12-09T12:44:27.198Z"
      },
      {
        "duration": 6,
        "start_time": "2021-12-09T12:44:27.225Z"
      },
      {
        "duration": 32,
        "start_time": "2021-12-09T12:44:27.234Z"
      },
      {
        "duration": 11,
        "start_time": "2021-12-09T12:44:27.269Z"
      },
      {
        "duration": 14,
        "start_time": "2021-12-09T12:44:27.282Z"
      },
      {
        "duration": 30,
        "start_time": "2021-12-09T12:44:27.298Z"
      },
      {
        "duration": 18,
        "start_time": "2021-12-09T12:44:27.331Z"
      },
      {
        "duration": 13,
        "start_time": "2021-12-09T12:44:27.352Z"
      },
      {
        "duration": 23,
        "start_time": "2021-12-09T12:44:27.368Z"
      },
      {
        "duration": 9,
        "start_time": "2021-12-09T12:44:27.393Z"
      },
      {
        "duration": 36,
        "start_time": "2021-12-09T12:44:27.404Z"
      },
      {
        "duration": 2,
        "start_time": "2021-12-09T12:44:27.443Z"
      },
      {
        "duration": 18,
        "start_time": "2021-12-09T12:44:27.448Z"
      },
      {
        "duration": 33,
        "start_time": "2021-12-09T12:44:27.469Z"
      },
      {
        "duration": 36,
        "start_time": "2021-12-09T12:44:27.504Z"
      },
      {
        "duration": 19,
        "start_time": "2021-12-09T12:44:27.543Z"
      },
      {
        "duration": 37,
        "start_time": "2021-12-09T12:44:27.564Z"
      },
      {
        "duration": 9,
        "start_time": "2021-12-09T12:44:27.604Z"
      },
      {
        "duration": 32,
        "start_time": "2021-12-09T12:44:27.623Z"
      },
      {
        "duration": 11,
        "start_time": "2021-12-09T12:44:27.657Z"
      },
      {
        "duration": 27,
        "start_time": "2021-12-09T12:44:27.670Z"
      },
      {
        "duration": 25,
        "start_time": "2021-12-09T12:44:27.700Z"
      },
      {
        "duration": 48,
        "start_time": "2021-12-09T12:44:51.715Z"
      },
      {
        "duration": 2011,
        "start_time": "2021-12-09T12:45:10.345Z"
      },
      {
        "duration": 1324,
        "start_time": "2021-12-09T12:45:11.035Z"
      },
      {
        "duration": 740,
        "start_time": "2021-12-09T12:45:19.474Z"
      },
      {
        "duration": 75,
        "start_time": "2021-12-09T12:45:20.217Z"
      },
      {
        "duration": 36,
        "start_time": "2021-12-09T12:45:20.295Z"
      },
      {
        "duration": 15,
        "start_time": "2021-12-09T12:45:20.334Z"
      },
      {
        "duration": 12,
        "start_time": "2021-12-09T12:45:20.352Z"
      },
      {
        "duration": 57,
        "start_time": "2021-12-09T12:45:20.366Z"
      },
      {
        "duration": 4,
        "start_time": "2021-12-09T12:45:20.426Z"
      },
      {
        "duration": 10,
        "start_time": "2021-12-09T12:45:20.434Z"
      },
      {
        "duration": 29,
        "start_time": "2021-12-09T12:45:20.446Z"
      },
      {
        "duration": 14,
        "start_time": "2021-12-09T12:45:20.478Z"
      },
      {
        "duration": 706,
        "start_time": "2021-12-09T12:45:20.495Z"
      },
      {
        "duration": 31,
        "start_time": "2021-12-09T12:45:21.203Z"
      },
      {
        "duration": 11,
        "start_time": "2021-12-09T12:45:21.237Z"
      },
      {
        "duration": 8,
        "start_time": "2021-12-09T12:45:21.250Z"
      },
      {
        "duration": 21,
        "start_time": "2021-12-09T12:45:21.260Z"
      },
      {
        "duration": 53,
        "start_time": "2021-12-09T12:45:21.283Z"
      },
      {
        "duration": 20,
        "start_time": "2021-12-09T12:45:21.339Z"
      },
      {
        "duration": 15,
        "start_time": "2021-12-09T12:45:21.361Z"
      },
      {
        "duration": 48,
        "start_time": "2021-12-09T12:45:21.378Z"
      },
      {
        "duration": 25,
        "start_time": "2021-12-09T12:45:21.429Z"
      },
      {
        "duration": 20,
        "start_time": "2021-12-09T12:45:21.456Z"
      },
      {
        "duration": 10,
        "start_time": "2021-12-09T12:45:21.478Z"
      },
      {
        "duration": 16,
        "start_time": "2021-12-09T12:45:21.525Z"
      },
      {
        "duration": 5,
        "start_time": "2021-12-09T12:45:21.544Z"
      },
      {
        "duration": 9,
        "start_time": "2021-12-09T12:45:21.552Z"
      },
      {
        "duration": 18,
        "start_time": "2021-12-09T12:45:21.563Z"
      },
      {
        "duration": 41,
        "start_time": "2021-12-09T12:45:21.584Z"
      },
      {
        "duration": 3,
        "start_time": "2021-12-09T12:45:21.627Z"
      },
      {
        "duration": 11,
        "start_time": "2021-12-09T12:45:21.632Z"
      },
      {
        "duration": 4931,
        "start_time": "2021-12-09T12:45:21.645Z"
      },
      {
        "duration": 20,
        "start_time": "2021-12-09T12:45:26.579Z"
      },
      {
        "duration": 23,
        "start_time": "2021-12-09T12:45:26.601Z"
      },
      {
        "duration": 461,
        "start_time": "2021-12-09T12:45:26.627Z"
      },
      {
        "duration": 19,
        "start_time": "2021-12-09T12:45:27.090Z"
      },
      {
        "duration": 8,
        "start_time": "2021-12-09T12:45:27.124Z"
      },
      {
        "duration": 40,
        "start_time": "2021-12-09T12:45:27.135Z"
      },
      {
        "duration": 12,
        "start_time": "2021-12-09T12:45:27.178Z"
      },
      {
        "duration": 18,
        "start_time": "2021-12-09T12:45:27.192Z"
      },
      {
        "duration": 26,
        "start_time": "2021-12-09T12:45:27.212Z"
      },
      {
        "duration": 10,
        "start_time": "2021-12-09T12:45:27.240Z"
      },
      {
        "duration": 17,
        "start_time": "2021-12-09T12:45:27.252Z"
      },
      {
        "duration": 35,
        "start_time": "2021-12-09T12:45:27.272Z"
      },
      {
        "duration": 19,
        "start_time": "2021-12-09T12:45:27.309Z"
      },
      {
        "duration": 28,
        "start_time": "2021-12-09T12:45:27.330Z"
      },
      {
        "duration": 9,
        "start_time": "2021-12-09T12:45:27.360Z"
      },
      {
        "duration": 31,
        "start_time": "2021-12-09T12:45:27.371Z"
      },
      {
        "duration": 30,
        "start_time": "2021-12-09T12:45:27.404Z"
      },
      {
        "duration": 40,
        "start_time": "2021-12-09T12:45:27.437Z"
      },
      {
        "duration": 10,
        "start_time": "2021-12-09T12:45:27.480Z"
      },
      {
        "duration": 28,
        "start_time": "2021-12-09T12:45:27.493Z"
      },
      {
        "duration": 14,
        "start_time": "2021-12-09T12:45:27.524Z"
      },
      {
        "duration": 31,
        "start_time": "2021-12-09T12:45:27.540Z"
      },
      {
        "duration": 22,
        "start_time": "2021-12-09T12:45:27.574Z"
      },
      {
        "duration": 49,
        "start_time": "2021-12-09T12:45:27.599Z"
      },
      {
        "duration": 8,
        "start_time": "2021-12-09T12:45:27.651Z"
      },
      {
        "duration": 29,
        "start_time": "2021-12-09T12:52:12.829Z"
      },
      {
        "duration": 708,
        "start_time": "2021-12-09T12:52:19.270Z"
      },
      {
        "duration": 75,
        "start_time": "2021-12-09T12:52:19.980Z"
      },
      {
        "duration": 40,
        "start_time": "2021-12-09T12:52:20.060Z"
      },
      {
        "duration": 40,
        "start_time": "2021-12-09T12:52:20.103Z"
      },
      {
        "duration": 18,
        "start_time": "2021-12-09T12:52:20.146Z"
      },
      {
        "duration": 20,
        "start_time": "2021-12-09T12:52:20.166Z"
      },
      {
        "duration": 37,
        "start_time": "2021-12-09T12:52:20.189Z"
      },
      {
        "duration": 12,
        "start_time": "2021-12-09T12:52:20.229Z"
      },
      {
        "duration": 29,
        "start_time": "2021-12-09T12:52:20.244Z"
      },
      {
        "duration": 10,
        "start_time": "2021-12-09T12:52:20.275Z"
      },
      {
        "duration": 753,
        "start_time": "2021-12-09T12:52:20.288Z"
      },
      {
        "duration": 26,
        "start_time": "2021-12-09T12:52:21.043Z"
      },
      {
        "duration": 7,
        "start_time": "2021-12-09T12:52:21.071Z"
      },
      {
        "duration": 6,
        "start_time": "2021-12-09T12:52:21.081Z"
      },
      {
        "duration": 45,
        "start_time": "2021-12-09T12:52:21.089Z"
      },
      {
        "duration": 21,
        "start_time": "2021-12-09T12:52:21.136Z"
      },
      {
        "duration": 19,
        "start_time": "2021-12-09T12:52:21.159Z"
      },
      {
        "duration": 45,
        "start_time": "2021-12-09T12:52:21.180Z"
      },
      {
        "duration": 28,
        "start_time": "2021-12-09T12:52:21.228Z"
      },
      {
        "duration": 17,
        "start_time": "2021-12-09T12:52:21.258Z"
      },
      {
        "duration": 16,
        "start_time": "2021-12-09T12:52:21.278Z"
      },
      {
        "duration": 36,
        "start_time": "2021-12-09T12:52:21.296Z"
      },
      {
        "duration": 15,
        "start_time": "2021-12-09T12:52:21.339Z"
      },
      {
        "duration": 7,
        "start_time": "2021-12-09T12:52:21.358Z"
      },
      {
        "duration": 7,
        "start_time": "2021-12-09T12:52:21.367Z"
      },
      {
        "duration": 51,
        "start_time": "2021-12-09T12:52:21.376Z"
      },
      {
        "duration": 10,
        "start_time": "2021-12-09T12:52:21.429Z"
      },
      {
        "duration": 14,
        "start_time": "2021-12-09T12:52:21.441Z"
      },
      {
        "duration": 14,
        "start_time": "2021-12-09T12:52:21.457Z"
      },
      {
        "duration": 4995,
        "start_time": "2021-12-09T12:52:21.474Z"
      },
      {
        "duration": 21,
        "start_time": "2021-12-09T12:52:26.472Z"
      },
      {
        "duration": 27,
        "start_time": "2021-12-09T12:52:26.496Z"
      },
      {
        "duration": 449,
        "start_time": "2021-12-09T12:52:26.525Z"
      },
      {
        "duration": 19,
        "start_time": "2021-12-09T12:52:26.978Z"
      },
      {
        "duration": 24,
        "start_time": "2021-12-09T12:52:26.999Z"
      },
      {
        "duration": 31,
        "start_time": "2021-12-09T12:52:27.026Z"
      },
      {
        "duration": 24,
        "start_time": "2021-12-09T12:52:27.059Z"
      },
      {
        "duration": 13,
        "start_time": "2021-12-09T12:52:27.086Z"
      },
      {
        "duration": 39,
        "start_time": "2021-12-09T12:52:27.101Z"
      },
      {
        "duration": 27,
        "start_time": "2021-12-09T12:52:27.143Z"
      },
      {
        "duration": 38,
        "start_time": "2021-12-09T12:52:27.173Z"
      },
      {
        "duration": 30,
        "start_time": "2021-12-09T12:52:27.213Z"
      },
      {
        "duration": 27,
        "start_time": "2021-12-09T12:52:27.245Z"
      },
      {
        "duration": 42,
        "start_time": "2021-12-09T12:52:27.275Z"
      },
      {
        "duration": 11,
        "start_time": "2021-12-09T12:52:27.320Z"
      },
      {
        "duration": 41,
        "start_time": "2021-12-09T12:52:27.333Z"
      },
      {
        "duration": 42,
        "start_time": "2021-12-09T12:52:27.377Z"
      },
      {
        "duration": 52,
        "start_time": "2021-12-09T12:52:27.422Z"
      },
      {
        "duration": 12,
        "start_time": "2021-12-09T12:52:27.476Z"
      },
      {
        "duration": 41,
        "start_time": "2021-12-09T12:52:27.490Z"
      },
      {
        "duration": 9,
        "start_time": "2021-12-09T12:52:27.533Z"
      },
      {
        "duration": 36,
        "start_time": "2021-12-09T12:52:27.544Z"
      },
      {
        "duration": 11,
        "start_time": "2021-12-09T12:52:27.582Z"
      },
      {
        "duration": 47,
        "start_time": "2021-12-09T12:52:27.596Z"
      },
      {
        "duration": 10,
        "start_time": "2021-12-09T12:52:27.645Z"
      },
      {
        "duration": 5,
        "start_time": "2021-12-09T12:56:32.019Z"
      },
      {
        "duration": 786,
        "start_time": "2021-12-09T12:56:46.193Z"
      },
      {
        "duration": 61,
        "start_time": "2021-12-09T12:56:46.981Z"
      },
      {
        "duration": 33,
        "start_time": "2021-12-09T12:56:47.045Z"
      },
      {
        "duration": 42,
        "start_time": "2021-12-09T12:56:47.081Z"
      },
      {
        "duration": 15,
        "start_time": "2021-12-09T12:56:47.126Z"
      },
      {
        "duration": 20,
        "start_time": "2021-12-09T12:56:47.143Z"
      },
      {
        "duration": 5,
        "start_time": "2021-12-09T12:56:47.166Z"
      },
      {
        "duration": 50,
        "start_time": "2021-12-09T12:56:47.176Z"
      },
      {
        "duration": 28,
        "start_time": "2021-12-09T12:56:47.230Z"
      },
      {
        "duration": 12,
        "start_time": "2021-12-09T12:56:47.260Z"
      },
      {
        "duration": 732,
        "start_time": "2021-12-09T12:56:47.274Z"
      },
      {
        "duration": 30,
        "start_time": "2021-12-09T12:56:48.009Z"
      },
      {
        "duration": 10,
        "start_time": "2021-12-09T12:56:48.041Z"
      },
      {
        "duration": 6,
        "start_time": "2021-12-09T12:56:48.053Z"
      },
      {
        "duration": 24,
        "start_time": "2021-12-09T12:56:48.061Z"
      },
      {
        "duration": 52,
        "start_time": "2021-12-09T12:56:48.087Z"
      },
      {
        "duration": 21,
        "start_time": "2021-12-09T12:56:48.141Z"
      },
      {
        "duration": 15,
        "start_time": "2021-12-09T12:56:48.164Z"
      },
      {
        "duration": 52,
        "start_time": "2021-12-09T12:56:48.182Z"
      },
      {
        "duration": 16,
        "start_time": "2021-12-09T12:56:48.237Z"
      },
      {
        "duration": 19,
        "start_time": "2021-12-09T12:56:48.256Z"
      },
      {
        "duration": 17,
        "start_time": "2021-12-09T12:56:48.278Z"
      },
      {
        "duration": 31,
        "start_time": "2021-12-09T12:56:48.301Z"
      },
      {
        "duration": 16,
        "start_time": "2021-12-09T12:56:48.335Z"
      },
      {
        "duration": 20,
        "start_time": "2021-12-09T12:56:48.353Z"
      },
      {
        "duration": 24,
        "start_time": "2021-12-09T12:56:48.375Z"
      },
      {
        "duration": 38,
        "start_time": "2021-12-09T12:56:48.401Z"
      },
      {
        "duration": 17,
        "start_time": "2021-12-09T12:56:48.441Z"
      },
      {
        "duration": 26,
        "start_time": "2021-12-09T12:56:48.460Z"
      },
      {
        "duration": 4750,
        "start_time": "2021-12-09T12:56:48.488Z"
      },
      {
        "duration": 22,
        "start_time": "2021-12-09T12:56:53.241Z"
      },
      {
        "duration": 10,
        "start_time": "2021-12-09T12:56:53.266Z"
      },
      {
        "duration": 471,
        "start_time": "2021-12-09T12:56:53.278Z"
      },
      {
        "duration": 20,
        "start_time": "2021-12-09T12:56:53.752Z"
      },
      {
        "duration": 8,
        "start_time": "2021-12-09T12:56:53.775Z"
      },
      {
        "duration": 53,
        "start_time": "2021-12-09T12:56:53.785Z"
      },
      {
        "duration": 12,
        "start_time": "2021-12-09T12:56:53.841Z"
      },
      {
        "duration": 9,
        "start_time": "2021-12-09T12:56:53.856Z"
      },
      {
        "duration": 17,
        "start_time": "2021-12-09T12:56:53.868Z"
      },
      {
        "duration": 37,
        "start_time": "2021-12-09T12:56:53.888Z"
      },
      {
        "duration": 6,
        "start_time": "2021-12-09T12:56:53.927Z"
      },
      {
        "duration": 16,
        "start_time": "2021-12-09T12:56:53.936Z"
      },
      {
        "duration": 9,
        "start_time": "2021-12-09T12:56:53.955Z"
      },
      {
        "duration": 25,
        "start_time": "2021-12-09T12:56:53.967Z"
      },
      {
        "duration": 3,
        "start_time": "2021-12-09T12:56:54.023Z"
      },
      {
        "duration": 21,
        "start_time": "2021-12-09T12:56:54.029Z"
      },
      {
        "duration": 26,
        "start_time": "2021-12-09T12:56:54.053Z"
      },
      {
        "duration": 49,
        "start_time": "2021-12-09T12:56:54.081Z"
      },
      {
        "duration": 9,
        "start_time": "2021-12-09T12:56:54.133Z"
      },
      {
        "duration": 30,
        "start_time": "2021-12-09T12:56:54.144Z"
      },
      {
        "duration": 8,
        "start_time": "2021-12-09T12:56:54.177Z"
      },
      {
        "duration": 59,
        "start_time": "2021-12-09T12:56:54.187Z"
      },
      {
        "duration": 11,
        "start_time": "2021-12-09T12:56:54.249Z"
      },
      {
        "duration": 31,
        "start_time": "2021-12-09T12:56:54.262Z"
      },
      {
        "duration": 30,
        "start_time": "2021-12-09T12:56:54.296Z"
      },
      {
        "duration": 89,
        "start_time": "2021-12-09T12:59:43.721Z"
      },
      {
        "duration": 4,
        "start_time": "2021-12-09T12:59:49.124Z"
      },
      {
        "duration": 11,
        "start_time": "2021-12-09T12:59:50.961Z"
      },
      {
        "duration": 10,
        "start_time": "2021-12-09T12:59:51.539Z"
      },
      {
        "duration": 47,
        "start_time": "2021-12-09T13:15:59.720Z"
      },
      {
        "duration": 65,
        "start_time": "2021-12-09T13:20:27.598Z"
      },
      {
        "duration": 3,
        "start_time": "2021-12-09T13:21:10.540Z"
      },
      {
        "duration": 7,
        "start_time": "2021-12-09T13:21:10.546Z"
      },
      {
        "duration": 843,
        "start_time": "2021-12-09T13:23:29.004Z"
      },
      {
        "duration": 59,
        "start_time": "2021-12-09T13:23:29.850Z"
      },
      {
        "duration": 33,
        "start_time": "2021-12-09T13:23:29.912Z"
      },
      {
        "duration": 16,
        "start_time": "2021-12-09T13:23:29.947Z"
      },
      {
        "duration": 11,
        "start_time": "2021-12-09T13:23:29.966Z"
      },
      {
        "duration": 55,
        "start_time": "2021-12-09T13:23:29.979Z"
      },
      {
        "duration": 4,
        "start_time": "2021-12-09T13:23:30.036Z"
      },
      {
        "duration": 11,
        "start_time": "2021-12-09T13:23:30.044Z"
      },
      {
        "duration": 28,
        "start_time": "2021-12-09T13:23:30.058Z"
      },
      {
        "duration": 37,
        "start_time": "2021-12-09T13:23:30.089Z"
      },
      {
        "duration": 677,
        "start_time": "2021-12-09T13:23:30.129Z"
      },
      {
        "duration": 31,
        "start_time": "2021-12-09T13:23:30.808Z"
      },
      {
        "duration": 14,
        "start_time": "2021-12-09T13:23:30.841Z"
      },
      {
        "duration": 13,
        "start_time": "2021-12-09T13:23:30.857Z"
      },
      {
        "duration": 29,
        "start_time": "2021-12-09T13:23:30.872Z"
      },
      {
        "duration": 32,
        "start_time": "2021-12-09T13:23:30.903Z"
      },
      {
        "duration": 18,
        "start_time": "2021-12-09T13:23:30.937Z"
      },
      {
        "duration": 17,
        "start_time": "2021-12-09T13:23:30.958Z"
      },
      {
        "duration": 48,
        "start_time": "2021-12-09T13:23:30.977Z"
      },
      {
        "duration": 18,
        "start_time": "2021-12-09T13:23:31.028Z"
      },
      {
        "duration": 27,
        "start_time": "2021-12-09T13:23:31.049Z"
      },
      {
        "duration": 29,
        "start_time": "2021-12-09T13:23:31.079Z"
      },
      {
        "duration": 21,
        "start_time": "2021-12-09T13:23:31.114Z"
      },
      {
        "duration": 39,
        "start_time": "2021-12-09T13:23:31.138Z"
      },
      {
        "duration": 13,
        "start_time": "2021-12-09T13:23:31.180Z"
      },
      {
        "duration": 12,
        "start_time": "2021-12-09T13:23:31.195Z"
      },
      {
        "duration": 27,
        "start_time": "2021-12-09T13:23:31.209Z"
      },
      {
        "duration": 9,
        "start_time": "2021-12-09T13:23:31.239Z"
      },
      {
        "duration": 3,
        "start_time": "2021-12-09T13:23:31.251Z"
      },
      {
        "duration": 10,
        "start_time": "2021-12-09T13:23:31.257Z"
      },
      {
        "duration": 5327,
        "start_time": "2021-12-09T13:23:31.269Z"
      },
      {
        "duration": 29,
        "start_time": "2021-12-09T13:23:36.599Z"
      },
      {
        "duration": 4,
        "start_time": "2021-12-09T13:23:36.631Z"
      },
      {
        "duration": 474,
        "start_time": "2021-12-09T13:23:36.638Z"
      },
      {
        "duration": 21,
        "start_time": "2021-12-09T13:23:37.114Z"
      },
      {
        "duration": 6,
        "start_time": "2021-12-09T13:23:37.137Z"
      },
      {
        "duration": 22,
        "start_time": "2021-12-09T13:23:37.145Z"
      },
      {
        "duration": 9,
        "start_time": "2021-12-09T13:23:37.169Z"
      },
      {
        "duration": 43,
        "start_time": "2021-12-09T13:23:37.180Z"
      },
      {
        "duration": 21,
        "start_time": "2021-12-09T13:23:37.225Z"
      },
      {
        "duration": 9,
        "start_time": "2021-12-09T13:23:37.248Z"
      },
      {
        "duration": 6,
        "start_time": "2021-12-09T13:23:37.260Z"
      },
      {
        "duration": 13,
        "start_time": "2021-12-09T13:23:37.268Z"
      },
      {
        "duration": 10,
        "start_time": "2021-12-09T13:23:37.283Z"
      },
      {
        "duration": 20,
        "start_time": "2021-12-09T13:23:37.323Z"
      },
      {
        "duration": 12,
        "start_time": "2021-12-09T13:23:37.345Z"
      },
      {
        "duration": 88,
        "start_time": "2021-12-09T13:23:37.359Z"
      },
      {
        "duration": 4,
        "start_time": "2021-12-09T13:23:37.450Z"
      },
      {
        "duration": 9,
        "start_time": "2021-12-09T13:23:37.456Z"
      },
      {
        "duration": 27,
        "start_time": "2021-12-09T13:23:37.467Z"
      },
      {
        "duration": 33,
        "start_time": "2021-12-09T13:23:37.496Z"
      },
      {
        "duration": 23,
        "start_time": "2021-12-09T13:23:37.531Z"
      },
      {
        "duration": 8,
        "start_time": "2021-12-09T13:23:37.556Z"
      },
      {
        "duration": 58,
        "start_time": "2021-12-09T13:23:37.566Z"
      },
      {
        "duration": 11,
        "start_time": "2021-12-09T13:23:37.626Z"
      },
      {
        "duration": 23,
        "start_time": "2021-12-09T13:23:37.640Z"
      },
      {
        "duration": 8,
        "start_time": "2021-12-09T13:23:37.666Z"
      },
      {
        "duration": 4,
        "start_time": "2021-12-09T13:26:47.093Z"
      },
      {
        "duration": 4,
        "start_time": "2021-12-09T13:26:47.509Z"
      },
      {
        "duration": 864,
        "start_time": "2021-12-09T13:27:01.550Z"
      },
      {
        "duration": 75,
        "start_time": "2021-12-09T13:27:02.417Z"
      },
      {
        "duration": 37,
        "start_time": "2021-12-09T13:27:02.495Z"
      },
      {
        "duration": 22,
        "start_time": "2021-12-09T13:27:02.536Z"
      },
      {
        "duration": 16,
        "start_time": "2021-12-09T13:27:02.561Z"
      },
      {
        "duration": 51,
        "start_time": "2021-12-09T13:27:02.579Z"
      },
      {
        "duration": 5,
        "start_time": "2021-12-09T13:27:02.632Z"
      },
      {
        "duration": 6,
        "start_time": "2021-12-09T13:27:02.641Z"
      },
      {
        "duration": 34,
        "start_time": "2021-12-09T13:27:02.650Z"
      },
      {
        "duration": 40,
        "start_time": "2021-12-09T13:27:02.687Z"
      },
      {
        "duration": 746,
        "start_time": "2021-12-09T13:27:02.730Z"
      },
      {
        "duration": 29,
        "start_time": "2021-12-09T13:27:03.479Z"
      },
      {
        "duration": 19,
        "start_time": "2021-12-09T13:27:03.511Z"
      },
      {
        "duration": 7,
        "start_time": "2021-12-09T13:27:03.532Z"
      },
      {
        "duration": 27,
        "start_time": "2021-12-09T13:27:03.542Z"
      },
      {
        "duration": 61,
        "start_time": "2021-12-09T13:27:03.572Z"
      },
      {
        "duration": 21,
        "start_time": "2021-12-09T13:27:03.636Z"
      },
      {
        "duration": 307,
        "start_time": "2021-12-09T13:27:03.659Z"
      },
      {
        "duration": 26,
        "start_time": "2021-12-09T13:27:03.968Z"
      },
      {
        "duration": 19,
        "start_time": "2021-12-09T13:27:03.996Z"
      },
      {
        "duration": 31,
        "start_time": "2021-12-09T13:27:04.017Z"
      },
      {
        "duration": 15,
        "start_time": "2021-12-09T13:27:04.050Z"
      },
      {
        "duration": 35,
        "start_time": "2021-12-09T13:27:04.072Z"
      },
      {
        "duration": 21,
        "start_time": "2021-12-09T13:27:04.110Z"
      },
      {
        "duration": 4,
        "start_time": "2021-12-09T13:27:04.134Z"
      },
      {
        "duration": 5,
        "start_time": "2021-12-09T13:27:04.141Z"
      },
      {
        "duration": 20,
        "start_time": "2021-12-09T13:27:04.149Z"
      },
      {
        "duration": 10,
        "start_time": "2021-12-09T13:27:04.172Z"
      },
      {
        "duration": 38,
        "start_time": "2021-12-09T13:27:04.185Z"
      },
      {
        "duration": 4,
        "start_time": "2021-12-09T13:27:04.227Z"
      },
      {
        "duration": 5511,
        "start_time": "2021-12-09T13:27:04.234Z"
      },
      {
        "duration": 19,
        "start_time": "2021-12-09T13:27:09.748Z"
      },
      {
        "duration": 4,
        "start_time": "2021-12-09T13:27:09.770Z"
      },
      {
        "duration": 636,
        "start_time": "2021-12-09T13:27:09.776Z"
      },
      {
        "duration": 22,
        "start_time": "2021-12-09T13:27:10.414Z"
      },
      {
        "duration": 6,
        "start_time": "2021-12-09T13:27:10.438Z"
      },
      {
        "duration": 27,
        "start_time": "2021-12-09T13:27:10.447Z"
      },
      {
        "duration": 11,
        "start_time": "2021-12-09T13:27:10.476Z"
      },
      {
        "duration": 7,
        "start_time": "2021-12-09T13:27:10.489Z"
      },
      {
        "duration": 17,
        "start_time": "2021-12-09T13:27:10.498Z"
      },
      {
        "duration": 15,
        "start_time": "2021-12-09T13:27:10.517Z"
      },
      {
        "duration": 7,
        "start_time": "2021-12-09T13:27:10.534Z"
      },
      {
        "duration": 14,
        "start_time": "2021-12-09T13:27:10.543Z"
      },
      {
        "duration": 9,
        "start_time": "2021-12-09T13:27:10.559Z"
      },
      {
        "duration": 27,
        "start_time": "2021-12-09T13:27:10.570Z"
      },
      {
        "duration": 15,
        "start_time": "2021-12-09T13:27:10.600Z"
      },
      {
        "duration": 110,
        "start_time": "2021-12-09T13:27:10.618Z"
      },
      {
        "duration": 3,
        "start_time": "2021-12-09T13:27:10.731Z"
      },
      {
        "duration": 8,
        "start_time": "2021-12-09T13:27:10.736Z"
      },
      {
        "duration": 6,
        "start_time": "2021-12-09T13:27:10.746Z"
      },
      {
        "duration": 7,
        "start_time": "2021-12-09T13:27:10.754Z"
      },
      {
        "duration": 78,
        "start_time": "2021-12-09T13:27:10.764Z"
      },
      {
        "duration": 12,
        "start_time": "2021-12-09T13:27:10.845Z"
      },
      {
        "duration": 88,
        "start_time": "2021-12-09T13:27:10.860Z"
      },
      {
        "duration": 12,
        "start_time": "2021-12-09T13:27:10.951Z"
      },
      {
        "duration": 99,
        "start_time": "2021-12-09T13:27:10.966Z"
      },
      {
        "duration": 69,
        "start_time": "2021-12-09T13:27:11.068Z"
      },
      {
        "duration": 38,
        "start_time": "2021-12-09T13:27:11.140Z"
      },
      {
        "duration": 49,
        "start_time": "2021-12-09T13:27:11.181Z"
      },
      {
        "duration": 30,
        "start_time": "2021-12-09T13:32:26.667Z"
      },
      {
        "duration": 776,
        "start_time": "2021-12-09T13:32:34.302Z"
      },
      {
        "duration": 74,
        "start_time": "2021-12-09T13:32:35.082Z"
      },
      {
        "duration": 33,
        "start_time": "2021-12-09T13:32:35.160Z"
      },
      {
        "duration": 37,
        "start_time": "2021-12-09T13:32:35.196Z"
      },
      {
        "duration": 12,
        "start_time": "2021-12-09T13:32:35.235Z"
      },
      {
        "duration": 26,
        "start_time": "2021-12-09T13:32:35.250Z"
      },
      {
        "duration": 19,
        "start_time": "2021-12-09T13:32:35.279Z"
      },
      {
        "duration": 5,
        "start_time": "2021-12-09T13:32:35.323Z"
      },
      {
        "duration": 44,
        "start_time": "2021-12-09T13:32:35.332Z"
      },
      {
        "duration": 9,
        "start_time": "2021-12-09T13:32:35.378Z"
      },
      {
        "duration": 696,
        "start_time": "2021-12-09T13:32:35.389Z"
      },
      {
        "duration": 35,
        "start_time": "2021-12-09T13:32:36.088Z"
      },
      {
        "duration": 12,
        "start_time": "2021-12-09T13:32:36.125Z"
      },
      {
        "duration": 29,
        "start_time": "2021-12-09T13:32:36.139Z"
      },
      {
        "duration": 40,
        "start_time": "2021-12-09T13:32:36.170Z"
      },
      {
        "duration": 19,
        "start_time": "2021-12-09T13:32:36.213Z"
      },
      {
        "duration": 28,
        "start_time": "2021-12-09T13:32:36.235Z"
      },
      {
        "duration": 15,
        "start_time": "2021-12-09T13:32:36.266Z"
      },
      {
        "duration": 33,
        "start_time": "2021-12-09T13:32:36.283Z"
      },
      {
        "duration": 21,
        "start_time": "2021-12-09T13:32:36.323Z"
      },
      {
        "duration": 38,
        "start_time": "2021-12-09T13:32:36.346Z"
      },
      {
        "duration": 30,
        "start_time": "2021-12-09T13:32:36.386Z"
      },
      {
        "duration": 39,
        "start_time": "2021-12-09T13:32:36.422Z"
      },
      {
        "duration": 35,
        "start_time": "2021-12-09T13:32:36.465Z"
      },
      {
        "duration": 26,
        "start_time": "2021-12-09T13:32:36.502Z"
      },
      {
        "duration": 24,
        "start_time": "2021-12-09T13:32:36.530Z"
      },
      {
        "duration": 32,
        "start_time": "2021-12-09T13:32:36.557Z"
      },
      {
        "duration": 21,
        "start_time": "2021-12-09T13:32:36.592Z"
      },
      {
        "duration": 10,
        "start_time": "2021-12-09T13:32:36.617Z"
      },
      {
        "duration": 15,
        "start_time": "2021-12-09T13:32:36.629Z"
      },
      {
        "duration": 4849,
        "start_time": "2021-12-09T13:32:36.646Z"
      },
      {
        "duration": 36,
        "start_time": "2021-12-09T13:32:41.498Z"
      },
      {
        "duration": 3,
        "start_time": "2021-12-09T13:32:41.537Z"
      },
      {
        "duration": 469,
        "start_time": "2021-12-09T13:32:41.543Z"
      },
      {
        "duration": 22,
        "start_time": "2021-12-09T13:32:42.014Z"
      },
      {
        "duration": 10,
        "start_time": "2021-12-09T13:32:42.038Z"
      },
      {
        "duration": 31,
        "start_time": "2021-12-09T13:32:42.051Z"
      },
      {
        "duration": 10,
        "start_time": "2021-12-09T13:32:42.084Z"
      },
      {
        "duration": 7,
        "start_time": "2021-12-09T13:32:42.124Z"
      },
      {
        "duration": 20,
        "start_time": "2021-12-09T13:32:42.133Z"
      },
      {
        "duration": 9,
        "start_time": "2021-12-09T13:32:42.155Z"
      },
      {
        "duration": 10,
        "start_time": "2021-12-09T13:32:42.166Z"
      },
      {
        "duration": 22,
        "start_time": "2021-12-09T13:32:42.178Z"
      },
      {
        "duration": 22,
        "start_time": "2021-12-09T13:32:42.203Z"
      },
      {
        "duration": 22,
        "start_time": "2021-12-09T13:32:42.227Z"
      },
      {
        "duration": 14,
        "start_time": "2021-12-09T13:32:42.252Z"
      },
      {
        "duration": 64,
        "start_time": "2021-12-09T13:32:42.268Z"
      },
      {
        "duration": 5,
        "start_time": "2021-12-09T13:32:42.335Z"
      },
      {
        "duration": 6,
        "start_time": "2021-12-09T13:32:42.343Z"
      },
      {
        "duration": 5,
        "start_time": "2021-12-09T13:32:42.351Z"
      },
      {
        "duration": 10,
        "start_time": "2021-12-09T13:32:42.359Z"
      },
      {
        "duration": 71,
        "start_time": "2021-12-09T13:32:42.371Z"
      },
      {
        "duration": 9,
        "start_time": "2021-12-09T13:32:42.444Z"
      },
      {
        "duration": 23,
        "start_time": "2021-12-09T13:32:42.456Z"
      },
      {
        "duration": 8,
        "start_time": "2021-12-09T13:32:42.481Z"
      },
      {
        "duration": 59,
        "start_time": "2021-12-09T13:32:42.492Z"
      },
      {
        "duration": 10,
        "start_time": "2021-12-09T13:32:42.554Z"
      },
      {
        "duration": 24,
        "start_time": "2021-12-09T13:32:42.566Z"
      },
      {
        "duration": 37,
        "start_time": "2021-12-09T13:32:42.592Z"
      },
      {
        "duration": 15,
        "start_time": "2021-12-09T13:46:26.897Z"
      },
      {
        "duration": 11,
        "start_time": "2021-12-09T13:46:27.557Z"
      },
      {
        "duration": 15,
        "start_time": "2021-12-09T13:46:46.001Z"
      },
      {
        "duration": 10,
        "start_time": "2021-12-09T13:46:46.492Z"
      },
      {
        "duration": 16,
        "start_time": "2021-12-09T13:46:52.248Z"
      },
      {
        "duration": 11,
        "start_time": "2021-12-09T13:46:52.679Z"
      },
      {
        "duration": 23,
        "start_time": "2021-12-09T13:47:56.512Z"
      },
      {
        "duration": 9,
        "start_time": "2021-12-09T13:47:57.065Z"
      },
      {
        "duration": 26,
        "start_time": "2021-12-09T13:48:11.461Z"
      },
      {
        "duration": 10,
        "start_time": "2021-12-09T13:48:11.893Z"
      },
      {
        "duration": 25,
        "start_time": "2021-12-09T13:48:21.580Z"
      },
      {
        "duration": 10,
        "start_time": "2021-12-09T13:48:22.014Z"
      },
      {
        "duration": 528,
        "start_time": "2021-12-09T13:49:45.349Z"
      },
      {
        "duration": 9,
        "start_time": "2021-12-09T13:49:45.944Z"
      },
      {
        "duration": 16,
        "start_time": "2021-12-09T13:49:57.751Z"
      },
      {
        "duration": 10,
        "start_time": "2021-12-09T13:49:58.508Z"
      },
      {
        "duration": 781,
        "start_time": "2021-12-09T13:50:04.590Z"
      },
      {
        "duration": 61,
        "start_time": "2021-12-09T13:50:05.373Z"
      },
      {
        "duration": 29,
        "start_time": "2021-12-09T13:50:05.437Z"
      },
      {
        "duration": 17,
        "start_time": "2021-12-09T13:50:05.468Z"
      },
      {
        "duration": 38,
        "start_time": "2021-12-09T13:50:05.487Z"
      },
      {
        "duration": 19,
        "start_time": "2021-12-09T13:50:05.527Z"
      },
      {
        "duration": 3,
        "start_time": "2021-12-09T13:50:05.549Z"
      },
      {
        "duration": 12,
        "start_time": "2021-12-09T13:50:05.556Z"
      },
      {
        "duration": 59,
        "start_time": "2021-12-09T13:50:05.571Z"
      },
      {
        "duration": 17,
        "start_time": "2021-12-09T13:50:05.633Z"
      },
      {
        "duration": 693,
        "start_time": "2021-12-09T13:50:05.652Z"
      },
      {
        "duration": 26,
        "start_time": "2021-12-09T13:50:06.348Z"
      },
      {
        "duration": 6,
        "start_time": "2021-12-09T13:50:06.376Z"
      },
      {
        "duration": 7,
        "start_time": "2021-12-09T13:50:06.384Z"
      },
      {
        "duration": 45,
        "start_time": "2021-12-09T13:50:06.393Z"
      },
      {
        "duration": 22,
        "start_time": "2021-12-09T13:50:06.441Z"
      },
      {
        "duration": 21,
        "start_time": "2021-12-09T13:50:06.465Z"
      },
      {
        "duration": 48,
        "start_time": "2021-12-09T13:50:06.488Z"
      },
      {
        "duration": 26,
        "start_time": "2021-12-09T13:50:06.538Z"
      },
      {
        "duration": 17,
        "start_time": "2021-12-09T13:50:06.566Z"
      },
      {
        "duration": 51,
        "start_time": "2021-12-09T13:50:06.585Z"
      },
      {
        "duration": 15,
        "start_time": "2021-12-09T13:50:06.638Z"
      },
      {
        "duration": 19,
        "start_time": "2021-12-09T13:50:06.659Z"
      },
      {
        "duration": 20,
        "start_time": "2021-12-09T13:50:06.681Z"
      },
      {
        "duration": 5,
        "start_time": "2021-12-09T13:50:06.724Z"
      },
      {
        "duration": 15,
        "start_time": "2021-12-09T13:50:06.732Z"
      },
      {
        "duration": 27,
        "start_time": "2021-12-09T13:50:06.749Z"
      },
      {
        "duration": 9,
        "start_time": "2021-12-09T13:50:06.779Z"
      },
      {
        "duration": 3,
        "start_time": "2021-12-09T13:50:06.790Z"
      },
      {
        "duration": 11,
        "start_time": "2021-12-09T13:50:06.795Z"
      },
      {
        "duration": 4875,
        "start_time": "2021-12-09T13:50:06.824Z"
      },
      {
        "duration": 31,
        "start_time": "2021-12-09T13:50:11.702Z"
      },
      {
        "duration": 19,
        "start_time": "2021-12-09T13:50:11.735Z"
      },
      {
        "duration": 440,
        "start_time": "2021-12-09T13:50:11.756Z"
      },
      {
        "duration": 17,
        "start_time": "2021-12-09T13:50:12.198Z"
      },
      {
        "duration": 5,
        "start_time": "2021-12-09T13:50:12.224Z"
      },
      {
        "duration": 32,
        "start_time": "2021-12-09T13:50:12.231Z"
      },
      {
        "duration": 10,
        "start_time": "2021-12-09T13:50:12.265Z"
      },
      {
        "duration": 7,
        "start_time": "2021-12-09T13:50:12.277Z"
      },
      {
        "duration": 43,
        "start_time": "2021-12-09T13:50:12.286Z"
      },
      {
        "duration": 12,
        "start_time": "2021-12-09T13:50:12.331Z"
      },
      {
        "duration": 5,
        "start_time": "2021-12-09T13:50:12.345Z"
      },
      {
        "duration": 12,
        "start_time": "2021-12-09T13:50:12.352Z"
      },
      {
        "duration": 9,
        "start_time": "2021-12-09T13:50:12.366Z"
      },
      {
        "duration": 55,
        "start_time": "2021-12-09T13:50:12.377Z"
      },
      {
        "duration": 12,
        "start_time": "2021-12-09T13:50:12.434Z"
      },
      {
        "duration": 29,
        "start_time": "2021-12-09T13:50:12.448Z"
      },
      {
        "duration": 13,
        "start_time": "2021-12-09T13:50:12.479Z"
      },
      {
        "duration": 28,
        "start_time": "2021-12-09T13:50:12.495Z"
      },
      {
        "duration": 7,
        "start_time": "2021-12-09T13:50:12.526Z"
      },
      {
        "duration": 7,
        "start_time": "2021-12-09T13:50:12.535Z"
      },
      {
        "duration": 24,
        "start_time": "2021-12-09T13:50:12.544Z"
      },
      {
        "duration": 10,
        "start_time": "2021-12-09T13:50:12.570Z"
      },
      {
        "duration": 60,
        "start_time": "2021-12-09T13:50:12.583Z"
      },
      {
        "duration": 9,
        "start_time": "2021-12-09T13:50:12.646Z"
      },
      {
        "duration": 30,
        "start_time": "2021-12-09T13:50:12.657Z"
      },
      {
        "duration": 35,
        "start_time": "2021-12-09T13:50:12.689Z"
      },
      {
        "duration": 24,
        "start_time": "2021-12-09T13:50:12.726Z"
      },
      {
        "duration": 9,
        "start_time": "2021-12-09T13:50:12.753Z"
      },
      {
        "duration": 873,
        "start_time": "2021-12-09T14:14:29.875Z"
      },
      {
        "duration": 87,
        "start_time": "2021-12-09T14:14:30.752Z"
      },
      {
        "duration": 40,
        "start_time": "2021-12-09T14:14:30.844Z"
      },
      {
        "duration": 47,
        "start_time": "2021-12-09T14:14:30.887Z"
      },
      {
        "duration": 18,
        "start_time": "2021-12-09T14:14:30.936Z"
      },
      {
        "duration": 30,
        "start_time": "2021-12-09T14:14:30.957Z"
      },
      {
        "duration": 5,
        "start_time": "2021-12-09T14:14:30.990Z"
      },
      {
        "duration": 5,
        "start_time": "2021-12-09T14:14:31.026Z"
      },
      {
        "duration": 28,
        "start_time": "2021-12-09T14:14:31.034Z"
      },
      {
        "duration": 27,
        "start_time": "2021-12-09T14:14:31.065Z"
      },
      {
        "duration": 722,
        "start_time": "2021-12-09T14:14:31.095Z"
      },
      {
        "duration": 29,
        "start_time": "2021-12-09T14:14:31.820Z"
      },
      {
        "duration": 6,
        "start_time": "2021-12-09T14:14:31.852Z"
      },
      {
        "duration": 6,
        "start_time": "2021-12-09T14:14:31.861Z"
      },
      {
        "duration": 56,
        "start_time": "2021-12-09T14:14:31.870Z"
      },
      {
        "duration": 24,
        "start_time": "2021-12-09T14:14:31.929Z"
      },
      {
        "duration": 20,
        "start_time": "2021-12-09T14:14:31.956Z"
      },
      {
        "duration": 54,
        "start_time": "2021-12-09T14:14:31.979Z"
      },
      {
        "duration": 32,
        "start_time": "2021-12-09T14:14:32.035Z"
      },
      {
        "duration": 17,
        "start_time": "2021-12-09T14:14:32.069Z"
      },
      {
        "duration": 41,
        "start_time": "2021-12-09T14:14:32.088Z"
      },
      {
        "duration": 21,
        "start_time": "2021-12-09T14:14:32.131Z"
      },
      {
        "duration": 29,
        "start_time": "2021-12-09T14:14:32.161Z"
      },
      {
        "duration": 38,
        "start_time": "2021-12-09T14:14:32.194Z"
      },
      {
        "duration": 7,
        "start_time": "2021-12-09T14:14:32.235Z"
      },
      {
        "duration": 10,
        "start_time": "2021-12-09T14:14:32.245Z"
      },
      {
        "duration": 24,
        "start_time": "2021-12-09T14:14:32.257Z"
      },
      {
        "duration": 39,
        "start_time": "2021-12-09T14:14:32.284Z"
      },
      {
        "duration": 4,
        "start_time": "2021-12-09T14:14:32.327Z"
      },
      {
        "duration": 10,
        "start_time": "2021-12-09T14:14:32.335Z"
      },
      {
        "duration": 5090,
        "start_time": "2021-12-09T14:14:32.348Z"
      },
      {
        "duration": 20,
        "start_time": "2021-12-09T14:14:37.441Z"
      },
      {
        "duration": 9,
        "start_time": "2021-12-09T14:14:37.464Z"
      },
      {
        "duration": 460,
        "start_time": "2021-12-09T14:14:37.476Z"
      },
      {
        "duration": 18,
        "start_time": "2021-12-09T14:14:37.939Z"
      },
      {
        "duration": 9,
        "start_time": "2021-12-09T14:14:37.960Z"
      },
      {
        "duration": 25,
        "start_time": "2021-12-09T14:14:37.972Z"
      },
      {
        "duration": 33,
        "start_time": "2021-12-09T14:14:37.999Z"
      },
      {
        "duration": 8,
        "start_time": "2021-12-09T14:14:38.035Z"
      },
      {
        "duration": 20,
        "start_time": "2021-12-09T14:14:38.046Z"
      },
      {
        "duration": 10,
        "start_time": "2021-12-09T14:14:38.068Z"
      },
      {
        "duration": 45,
        "start_time": "2021-12-09T14:14:38.080Z"
      },
      {
        "duration": 15,
        "start_time": "2021-12-09T14:14:38.128Z"
      },
      {
        "duration": 10,
        "start_time": "2021-12-09T14:14:38.145Z"
      },
      {
        "duration": 26,
        "start_time": "2021-12-09T14:14:38.158Z"
      },
      {
        "duration": 45,
        "start_time": "2021-12-09T14:14:38.187Z"
      },
      {
        "duration": 35,
        "start_time": "2021-12-09T14:14:38.234Z"
      },
      {
        "duration": 10,
        "start_time": "2021-12-09T14:14:38.271Z"
      },
      {
        "duration": 13,
        "start_time": "2021-12-09T14:14:38.284Z"
      },
      {
        "duration": 25,
        "start_time": "2021-12-09T14:14:38.299Z"
      },
      {
        "duration": 22,
        "start_time": "2021-12-09T14:14:38.326Z"
      },
      {
        "duration": 38,
        "start_time": "2021-12-09T14:14:38.351Z"
      },
      {
        "duration": 10,
        "start_time": "2021-12-09T14:14:38.392Z"
      },
      {
        "duration": 28,
        "start_time": "2021-12-09T14:14:38.404Z"
      },
      {
        "duration": 9,
        "start_time": "2021-12-09T14:14:38.435Z"
      },
      {
        "duration": 29,
        "start_time": "2021-12-09T14:14:38.446Z"
      },
      {
        "duration": 10,
        "start_time": "2021-12-09T14:14:38.477Z"
      },
      {
        "duration": 49,
        "start_time": "2021-12-09T14:14:38.489Z"
      },
      {
        "duration": 9,
        "start_time": "2021-12-09T14:14:38.541Z"
      },
      {
        "duration": 720,
        "start_time": "2021-12-12T16:41:23.051Z"
      },
      {
        "duration": 63,
        "start_time": "2021-12-12T16:41:23.773Z"
      },
      {
        "duration": 29,
        "start_time": "2021-12-12T16:41:23.839Z"
      },
      {
        "duration": 28,
        "start_time": "2021-12-12T16:41:23.870Z"
      },
      {
        "duration": 31,
        "start_time": "2021-12-12T16:41:23.900Z"
      },
      {
        "duration": 27,
        "start_time": "2021-12-12T16:41:23.933Z"
      },
      {
        "duration": 10,
        "start_time": "2021-12-12T16:41:23.963Z"
      },
      {
        "duration": 16,
        "start_time": "2021-12-12T16:41:23.977Z"
      },
      {
        "duration": 46,
        "start_time": "2021-12-12T16:41:23.996Z"
      },
      {
        "duration": 25,
        "start_time": "2021-12-12T16:41:24.045Z"
      },
      {
        "duration": 699,
        "start_time": "2021-12-12T16:41:24.072Z"
      },
      {
        "duration": 25,
        "start_time": "2021-12-12T16:41:24.773Z"
      },
      {
        "duration": 8,
        "start_time": "2021-12-12T16:41:24.800Z"
      },
      {
        "duration": 4,
        "start_time": "2021-12-12T16:41:24.823Z"
      },
      {
        "duration": 20,
        "start_time": "2021-12-12T16:41:24.830Z"
      },
      {
        "duration": 18,
        "start_time": "2021-12-12T16:41:24.852Z"
      },
      {
        "duration": 59,
        "start_time": "2021-12-12T16:41:24.872Z"
      },
      {
        "duration": 15,
        "start_time": "2021-12-12T16:41:24.933Z"
      },
      {
        "duration": 25,
        "start_time": "2021-12-12T16:41:24.950Z"
      },
      {
        "duration": 18,
        "start_time": "2021-12-12T16:41:24.977Z"
      },
      {
        "duration": 16,
        "start_time": "2021-12-12T16:41:25.024Z"
      },
      {
        "duration": 15,
        "start_time": "2021-12-12T16:41:25.043Z"
      },
      {
        "duration": 16,
        "start_time": "2021-12-12T16:41:25.064Z"
      },
      {
        "duration": 47,
        "start_time": "2021-12-12T16:41:25.082Z"
      },
      {
        "duration": 5,
        "start_time": "2021-12-12T16:41:25.131Z"
      },
      {
        "duration": 6,
        "start_time": "2021-12-12T16:41:25.138Z"
      },
      {
        "duration": 19,
        "start_time": "2021-12-12T16:41:25.146Z"
      },
      {
        "duration": 9,
        "start_time": "2021-12-12T16:41:25.168Z"
      },
      {
        "duration": 4,
        "start_time": "2021-12-12T16:41:25.179Z"
      },
      {
        "duration": 40,
        "start_time": "2021-12-12T16:41:25.185Z"
      },
      {
        "duration": 4711,
        "start_time": "2021-12-12T16:41:25.228Z"
      },
      {
        "duration": 22,
        "start_time": "2021-12-12T16:41:29.942Z"
      },
      {
        "duration": 13,
        "start_time": "2021-12-12T16:41:29.966Z"
      },
      {
        "duration": 450,
        "start_time": "2021-12-12T16:41:29.981Z"
      },
      {
        "duration": 16,
        "start_time": "2021-12-12T16:41:30.434Z"
      },
      {
        "duration": 19,
        "start_time": "2021-12-12T16:41:30.453Z"
      },
      {
        "duration": 34,
        "start_time": "2021-12-12T16:41:30.474Z"
      },
      {
        "duration": 16,
        "start_time": "2021-12-12T16:41:30.511Z"
      },
      {
        "duration": 24,
        "start_time": "2021-12-12T16:41:30.529Z"
      },
      {
        "duration": 32,
        "start_time": "2021-12-12T16:41:30.555Z"
      },
      {
        "duration": 18,
        "start_time": "2021-12-12T16:41:30.589Z"
      },
      {
        "duration": 19,
        "start_time": "2021-12-12T16:41:30.610Z"
      },
      {
        "duration": 20,
        "start_time": "2021-12-12T16:41:30.631Z"
      },
      {
        "duration": 11,
        "start_time": "2021-12-12T16:41:30.653Z"
      },
      {
        "duration": 23,
        "start_time": "2021-12-12T16:41:30.667Z"
      },
      {
        "duration": 30,
        "start_time": "2021-12-12T16:41:30.693Z"
      },
      {
        "duration": 31,
        "start_time": "2021-12-12T16:41:30.726Z"
      },
      {
        "duration": 11,
        "start_time": "2021-12-12T16:41:30.759Z"
      },
      {
        "duration": 28,
        "start_time": "2021-12-12T16:41:30.773Z"
      },
      {
        "duration": 19,
        "start_time": "2021-12-12T16:41:30.804Z"
      },
      {
        "duration": 20,
        "start_time": "2021-12-12T16:41:30.825Z"
      },
      {
        "duration": 42,
        "start_time": "2021-12-12T16:41:30.848Z"
      },
      {
        "duration": 9,
        "start_time": "2021-12-12T16:41:30.893Z"
      },
      {
        "duration": 31,
        "start_time": "2021-12-12T16:41:30.904Z"
      },
      {
        "duration": 16,
        "start_time": "2021-12-12T16:41:30.937Z"
      },
      {
        "duration": 31,
        "start_time": "2021-12-12T16:41:30.955Z"
      },
      {
        "duration": 10,
        "start_time": "2021-12-12T16:41:30.989Z"
      },
      {
        "duration": 43,
        "start_time": "2021-12-12T16:41:31.002Z"
      },
      {
        "duration": 12,
        "start_time": "2021-12-12T16:41:31.048Z"
      },
      {
        "duration": 49,
        "start_time": "2021-12-12T16:45:18.477Z"
      },
      {
        "duration": 3,
        "start_time": "2021-12-12T16:45:37.461Z"
      },
      {
        "duration": 4,
        "start_time": "2021-12-12T16:45:38.360Z"
      },
      {
        "duration": 834,
        "start_time": "2021-12-12T16:45:46.591Z"
      },
      {
        "duration": 64,
        "start_time": "2021-12-12T16:45:47.428Z"
      },
      {
        "duration": 38,
        "start_time": "2021-12-12T16:45:47.494Z"
      },
      {
        "duration": 17,
        "start_time": "2021-12-12T16:45:47.535Z"
      },
      {
        "duration": 11,
        "start_time": "2021-12-12T16:45:47.555Z"
      },
      {
        "duration": 56,
        "start_time": "2021-12-12T16:45:47.568Z"
      },
      {
        "duration": 5,
        "start_time": "2021-12-12T16:45:47.626Z"
      },
      {
        "duration": 6,
        "start_time": "2021-12-12T16:45:47.634Z"
      },
      {
        "duration": 28,
        "start_time": "2021-12-12T16:45:47.643Z"
      },
      {
        "duration": 8,
        "start_time": "2021-12-12T16:45:47.673Z"
      },
      {
        "duration": 718,
        "start_time": "2021-12-12T16:45:47.683Z"
      },
      {
        "duration": 36,
        "start_time": "2021-12-12T16:45:48.403Z"
      },
      {
        "duration": 5,
        "start_time": "2021-12-12T16:45:48.441Z"
      },
      {
        "duration": 19,
        "start_time": "2021-12-12T16:45:48.449Z"
      },
      {
        "duration": 37,
        "start_time": "2021-12-12T16:45:48.470Z"
      },
      {
        "duration": 29,
        "start_time": "2021-12-12T16:45:48.509Z"
      },
      {
        "duration": 19,
        "start_time": "2021-12-12T16:45:48.540Z"
      },
      {
        "duration": 15,
        "start_time": "2021-12-12T16:45:48.561Z"
      },
      {
        "duration": 50,
        "start_time": "2021-12-12T16:45:48.578Z"
      },
      {
        "duration": 17,
        "start_time": "2021-12-12T16:45:48.631Z"
      },
      {
        "duration": 22,
        "start_time": "2021-12-12T16:45:48.651Z"
      },
      {
        "duration": 14,
        "start_time": "2021-12-12T16:45:48.675Z"
      },
      {
        "duration": 44,
        "start_time": "2021-12-12T16:45:48.695Z"
      },
      {
        "duration": 21,
        "start_time": "2021-12-12T16:45:48.743Z"
      },
      {
        "duration": 7,
        "start_time": "2021-12-12T16:45:48.767Z"
      },
      {
        "duration": 15,
        "start_time": "2021-12-12T16:45:48.776Z"
      },
      {
        "duration": 38,
        "start_time": "2021-12-12T16:45:48.793Z"
      },
      {
        "duration": 11,
        "start_time": "2021-12-12T16:45:48.833Z"
      },
      {
        "duration": 21,
        "start_time": "2021-12-12T16:45:48.847Z"
      },
      {
        "duration": 26,
        "start_time": "2021-12-12T16:45:48.871Z"
      },
      {
        "duration": 4656,
        "start_time": "2021-12-12T16:45:48.900Z"
      },
      {
        "duration": 20,
        "start_time": "2021-12-12T16:45:53.559Z"
      },
      {
        "duration": 20,
        "start_time": "2021-12-12T16:45:53.581Z"
      },
      {
        "duration": 446,
        "start_time": "2021-12-12T16:45:53.603Z"
      },
      {
        "duration": 17,
        "start_time": "2021-12-12T16:45:54.052Z"
      },
      {
        "duration": 5,
        "start_time": "2021-12-12T16:45:54.071Z"
      },
      {
        "duration": 44,
        "start_time": "2021-12-12T16:45:54.079Z"
      },
      {
        "duration": 10,
        "start_time": "2021-12-12T16:45:54.125Z"
      },
      {
        "duration": 7,
        "start_time": "2021-12-12T16:45:54.138Z"
      },
      {
        "duration": 18,
        "start_time": "2021-12-12T16:45:54.147Z"
      },
      {
        "duration": 11,
        "start_time": "2021-12-12T16:45:54.168Z"
      },
      {
        "duration": 15,
        "start_time": "2021-12-12T16:45:54.181Z"
      },
      {
        "duration": 11,
        "start_time": "2021-12-12T16:45:54.223Z"
      },
      {
        "duration": 9,
        "start_time": "2021-12-12T16:45:54.237Z"
      },
      {
        "duration": 22,
        "start_time": "2021-12-12T16:45:54.248Z"
      },
      {
        "duration": 12,
        "start_time": "2021-12-12T16:45:54.272Z"
      },
      {
        "duration": 78,
        "start_time": "2021-12-12T16:45:54.287Z"
      },
      {
        "duration": 4,
        "start_time": "2021-12-12T16:45:54.368Z"
      },
      {
        "duration": 7,
        "start_time": "2021-12-12T16:45:54.374Z"
      },
      {
        "duration": 9,
        "start_time": "2021-12-12T16:45:54.384Z"
      },
      {
        "duration": 4,
        "start_time": "2021-12-12T16:45:54.424Z"
      },
      {
        "duration": 24,
        "start_time": "2021-12-12T16:45:54.431Z"
      },
      {
        "duration": 10,
        "start_time": "2021-12-12T16:45:54.457Z"
      },
      {
        "duration": 56,
        "start_time": "2021-12-12T16:45:54.469Z"
      },
      {
        "duration": 9,
        "start_time": "2021-12-12T16:45:54.527Z"
      },
      {
        "duration": 28,
        "start_time": "2021-12-12T16:45:54.539Z"
      },
      {
        "duration": 12,
        "start_time": "2021-12-12T16:45:54.569Z"
      },
      {
        "duration": 49,
        "start_time": "2021-12-12T16:45:54.584Z"
      },
      {
        "duration": 9,
        "start_time": "2021-12-12T16:45:54.635Z"
      },
      {
        "duration": 5,
        "start_time": "2021-12-12T16:48:00.818Z"
      },
      {
        "duration": 12,
        "start_time": "2021-12-12T16:48:01.822Z"
      },
      {
        "duration": 10,
        "start_time": "2021-12-12T16:48:02.328Z"
      },
      {
        "duration": 752,
        "start_time": "2021-12-12T16:48:12.968Z"
      },
      {
        "duration": 61,
        "start_time": "2021-12-12T16:48:13.723Z"
      },
      {
        "duration": 27,
        "start_time": "2021-12-12T16:48:13.787Z"
      },
      {
        "duration": 15,
        "start_time": "2021-12-12T16:48:13.824Z"
      },
      {
        "duration": 13,
        "start_time": "2021-12-12T16:48:13.842Z"
      },
      {
        "duration": 19,
        "start_time": "2021-12-12T16:48:13.858Z"
      },
      {
        "duration": 45,
        "start_time": "2021-12-12T16:48:13.880Z"
      },
      {
        "duration": 10,
        "start_time": "2021-12-12T16:48:13.929Z"
      },
      {
        "duration": 26,
        "start_time": "2021-12-12T16:48:13.942Z"
      },
      {
        "duration": 10,
        "start_time": "2021-12-12T16:48:13.971Z"
      },
      {
        "duration": 678,
        "start_time": "2021-12-12T16:48:13.984Z"
      },
      {
        "duration": 26,
        "start_time": "2021-12-12T16:48:14.665Z"
      },
      {
        "duration": 10,
        "start_time": "2021-12-12T16:48:14.693Z"
      },
      {
        "duration": 19,
        "start_time": "2021-12-12T16:48:14.705Z"
      },
      {
        "duration": 16,
        "start_time": "2021-12-12T16:48:14.726Z"
      },
      {
        "duration": 19,
        "start_time": "2021-12-12T16:48:14.744Z"
      },
      {
        "duration": 18,
        "start_time": "2021-12-12T16:48:14.765Z"
      },
      {
        "duration": 47,
        "start_time": "2021-12-12T16:48:14.785Z"
      },
      {
        "duration": 24,
        "start_time": "2021-12-12T16:48:14.834Z"
      },
      {
        "duration": 17,
        "start_time": "2021-12-12T16:48:14.860Z"
      },
      {
        "duration": 45,
        "start_time": "2021-12-12T16:48:14.879Z"
      },
      {
        "duration": 15,
        "start_time": "2021-12-12T16:48:14.927Z"
      },
      {
        "duration": 16,
        "start_time": "2021-12-12T16:48:14.948Z"
      },
      {
        "duration": 19,
        "start_time": "2021-12-12T16:48:14.967Z"
      },
      {
        "duration": 36,
        "start_time": "2021-12-12T16:48:14.988Z"
      },
      {
        "duration": 25,
        "start_time": "2021-12-12T16:48:15.026Z"
      },
      {
        "duration": 29,
        "start_time": "2021-12-12T16:48:15.053Z"
      },
      {
        "duration": 19,
        "start_time": "2021-12-12T16:48:15.084Z"
      },
      {
        "duration": 16,
        "start_time": "2021-12-12T16:48:15.105Z"
      },
      {
        "duration": 15,
        "start_time": "2021-12-12T16:48:15.123Z"
      },
      {
        "duration": 4389,
        "start_time": "2021-12-12T16:48:15.140Z"
      },
      {
        "duration": 21,
        "start_time": "2021-12-12T16:48:19.532Z"
      },
      {
        "duration": 14,
        "start_time": "2021-12-12T16:48:19.557Z"
      },
      {
        "duration": 419,
        "start_time": "2021-12-12T16:48:19.573Z"
      },
      {
        "duration": 32,
        "start_time": "2021-12-12T16:48:19.995Z"
      },
      {
        "duration": 6,
        "start_time": "2021-12-12T16:48:20.029Z"
      },
      {
        "duration": 50,
        "start_time": "2021-12-12T16:48:20.038Z"
      },
      {
        "duration": 14,
        "start_time": "2021-12-12T16:48:20.091Z"
      },
      {
        "duration": 30,
        "start_time": "2021-12-12T16:48:20.108Z"
      },
      {
        "duration": 39,
        "start_time": "2021-12-12T16:48:20.141Z"
      },
      {
        "duration": 15,
        "start_time": "2021-12-12T16:48:20.183Z"
      },
      {
        "duration": 19,
        "start_time": "2021-12-12T16:48:20.200Z"
      },
      {
        "duration": 30,
        "start_time": "2021-12-12T16:48:20.221Z"
      },
      {
        "duration": 18,
        "start_time": "2021-12-12T16:48:20.253Z"
      },
      {
        "duration": 35,
        "start_time": "2021-12-12T16:48:20.273Z"
      },
      {
        "duration": 13,
        "start_time": "2021-12-12T16:48:20.311Z"
      },
      {
        "duration": 46,
        "start_time": "2021-12-12T16:48:20.327Z"
      },
      {
        "duration": 22,
        "start_time": "2021-12-12T16:48:20.376Z"
      },
      {
        "duration": 16,
        "start_time": "2021-12-12T16:48:20.400Z"
      },
      {
        "duration": 15,
        "start_time": "2021-12-12T16:48:20.419Z"
      },
      {
        "duration": 10,
        "start_time": "2021-12-12T16:48:20.437Z"
      },
      {
        "duration": 39,
        "start_time": "2021-12-12T16:48:20.450Z"
      },
      {
        "duration": 14,
        "start_time": "2021-12-12T16:48:20.491Z"
      },
      {
        "duration": 32,
        "start_time": "2021-12-12T16:48:20.508Z"
      },
      {
        "duration": 11,
        "start_time": "2021-12-12T16:48:20.542Z"
      },
      {
        "duration": 35,
        "start_time": "2021-12-12T16:48:20.556Z"
      },
      {
        "duration": 10,
        "start_time": "2021-12-12T16:48:20.594Z"
      },
      {
        "duration": 22,
        "start_time": "2021-12-12T16:48:20.623Z"
      },
      {
        "duration": 10,
        "start_time": "2021-12-12T16:48:20.647Z"
      },
      {
        "duration": 710,
        "start_time": "2021-12-14T05:36:52.470Z"
      },
      {
        "duration": 65,
        "start_time": "2021-12-14T05:36:53.183Z"
      },
      {
        "duration": 27,
        "start_time": "2021-12-14T05:36:53.251Z"
      },
      {
        "duration": 15,
        "start_time": "2021-12-14T05:36:53.281Z"
      },
      {
        "duration": 34,
        "start_time": "2021-12-14T05:36:53.298Z"
      },
      {
        "duration": 19,
        "start_time": "2021-12-14T05:36:53.334Z"
      },
      {
        "duration": 4,
        "start_time": "2021-12-14T05:36:53.355Z"
      },
      {
        "duration": 6,
        "start_time": "2021-12-14T05:36:53.362Z"
      },
      {
        "duration": 62,
        "start_time": "2021-12-14T05:36:53.370Z"
      },
      {
        "duration": 9,
        "start_time": "2021-12-14T05:36:53.436Z"
      },
      {
        "duration": 678,
        "start_time": "2021-12-14T05:36:53.448Z"
      },
      {
        "duration": 27,
        "start_time": "2021-12-14T05:36:54.129Z"
      },
      {
        "duration": 6,
        "start_time": "2021-12-14T05:36:54.158Z"
      },
      {
        "duration": 6,
        "start_time": "2021-12-14T05:36:54.166Z"
      },
      {
        "duration": 18,
        "start_time": "2021-12-14T05:36:54.175Z"
      },
      {
        "duration": 18,
        "start_time": "2021-12-14T05:36:54.224Z"
      },
      {
        "duration": 17,
        "start_time": "2021-12-14T05:36:54.244Z"
      },
      {
        "duration": 15,
        "start_time": "2021-12-14T05:36:54.262Z"
      },
      {
        "duration": 58,
        "start_time": "2021-12-14T05:36:54.280Z"
      },
      {
        "duration": 16,
        "start_time": "2021-12-14T05:36:54.340Z"
      },
      {
        "duration": 16,
        "start_time": "2021-12-14T05:36:54.359Z"
      },
      {
        "duration": 11,
        "start_time": "2021-12-14T05:36:54.377Z"
      },
      {
        "duration": 42,
        "start_time": "2021-12-14T05:36:54.394Z"
      },
      {
        "duration": 17,
        "start_time": "2021-12-14T05:36:54.439Z"
      },
      {
        "duration": 7,
        "start_time": "2021-12-14T05:36:54.458Z"
      },
      {
        "duration": 5,
        "start_time": "2021-12-14T05:36:54.467Z"
      },
      {
        "duration": 15,
        "start_time": "2021-12-14T05:36:54.475Z"
      },
      {
        "duration": 9,
        "start_time": "2021-12-14T05:36:54.523Z"
      },
      {
        "duration": 4,
        "start_time": "2021-12-14T05:36:54.534Z"
      },
      {
        "duration": 10,
        "start_time": "2021-12-14T05:36:54.540Z"
      },
      {
        "duration": 4617,
        "start_time": "2021-12-14T05:36:54.552Z"
      },
      {
        "duration": 20,
        "start_time": "2021-12-14T05:36:59.172Z"
      },
      {
        "duration": 14,
        "start_time": "2021-12-14T05:36:59.195Z"
      },
      {
        "duration": 444,
        "start_time": "2021-12-14T05:36:59.211Z"
      },
      {
        "duration": 17,
        "start_time": "2021-12-14T05:36:59.658Z"
      },
      {
        "duration": 6,
        "start_time": "2021-12-14T05:36:59.677Z"
      },
      {
        "duration": 40,
        "start_time": "2021-12-14T05:36:59.685Z"
      },
      {
        "duration": 10,
        "start_time": "2021-12-14T05:36:59.727Z"
      },
      {
        "duration": 7,
        "start_time": "2021-12-14T05:36:59.739Z"
      },
      {
        "duration": 16,
        "start_time": "2021-12-14T05:36:59.748Z"
      },
      {
        "duration": 9,
        "start_time": "2021-12-14T05:36:59.767Z"
      },
      {
        "duration": 44,
        "start_time": "2021-12-14T05:36:59.779Z"
      },
      {
        "duration": 20,
        "start_time": "2021-12-14T05:36:59.826Z"
      },
      {
        "duration": 15,
        "start_time": "2021-12-14T05:36:59.848Z"
      },
      {
        "duration": 21,
        "start_time": "2021-12-14T05:36:59.865Z"
      },
      {
        "duration": 11,
        "start_time": "2021-12-14T05:36:59.888Z"
      },
      {
        "duration": 55,
        "start_time": "2021-12-14T05:36:59.901Z"
      },
      {
        "duration": 7,
        "start_time": "2021-12-14T05:36:59.959Z"
      },
      {
        "duration": 9,
        "start_time": "2021-12-14T05:36:59.968Z"
      },
      {
        "duration": 6,
        "start_time": "2021-12-14T05:36:59.980Z"
      },
      {
        "duration": 36,
        "start_time": "2021-12-14T05:36:59.988Z"
      },
      {
        "duration": 34,
        "start_time": "2021-12-14T05:37:00.026Z"
      },
      {
        "duration": 11,
        "start_time": "2021-12-14T05:37:00.062Z"
      },
      {
        "duration": 30,
        "start_time": "2021-12-14T05:37:00.075Z"
      },
      {
        "duration": 21,
        "start_time": "2021-12-14T05:37:00.108Z"
      },
      {
        "duration": 30,
        "start_time": "2021-12-14T05:37:00.131Z"
      },
      {
        "duration": 12,
        "start_time": "2021-12-14T05:37:00.163Z"
      },
      {
        "duration": 56,
        "start_time": "2021-12-14T05:37:00.178Z"
      },
      {
        "duration": 10,
        "start_time": "2021-12-14T05:37:00.236Z"
      },
      {
        "duration": 1670,
        "start_time": "2021-12-14T05:37:06.569Z"
      },
      {
        "duration": 62,
        "start_time": "2021-12-14T05:37:08.241Z"
      },
      {
        "duration": 33,
        "start_time": "2021-12-14T05:37:08.306Z"
      },
      {
        "duration": 17,
        "start_time": "2021-12-14T05:37:08.342Z"
      },
      {
        "duration": 11,
        "start_time": "2021-12-14T05:37:08.362Z"
      },
      {
        "duration": 57,
        "start_time": "2021-12-14T05:37:08.376Z"
      },
      {
        "duration": 4,
        "start_time": "2021-12-14T05:37:08.435Z"
      },
      {
        "duration": 5,
        "start_time": "2021-12-14T05:37:08.443Z"
      },
      {
        "duration": 30,
        "start_time": "2021-12-14T05:37:08.451Z"
      },
      {
        "duration": 43,
        "start_time": "2021-12-14T05:37:08.483Z"
      },
      {
        "duration": 668,
        "start_time": "2021-12-14T05:37:08.528Z"
      },
      {
        "duration": 29,
        "start_time": "2021-12-14T05:37:09.198Z"
      },
      {
        "duration": 5,
        "start_time": "2021-12-14T05:37:09.229Z"
      },
      {
        "duration": 7,
        "start_time": "2021-12-14T05:37:09.236Z"
      },
      {
        "duration": 19,
        "start_time": "2021-12-14T05:37:09.245Z"
      },
      {
        "duration": 20,
        "start_time": "2021-12-14T05:37:09.266Z"
      },
      {
        "duration": 18,
        "start_time": "2021-12-14T05:37:09.324Z"
      },
      {
        "duration": 15,
        "start_time": "2021-12-14T05:37:09.344Z"
      },
      {
        "duration": 26,
        "start_time": "2021-12-14T05:37:09.361Z"
      },
      {
        "duration": 41,
        "start_time": "2021-12-14T05:37:09.389Z"
      },
      {
        "duration": 15,
        "start_time": "2021-12-14T05:37:09.433Z"
      },
      {
        "duration": 10,
        "start_time": "2021-12-14T05:37:09.451Z"
      },
      {
        "duration": 18,
        "start_time": "2021-12-14T05:37:09.466Z"
      },
      {
        "duration": 44,
        "start_time": "2021-12-14T05:37:09.487Z"
      },
      {
        "duration": 10,
        "start_time": "2021-12-14T05:37:09.533Z"
      },
      {
        "duration": 6,
        "start_time": "2021-12-14T05:37:09.545Z"
      },
      {
        "duration": 17,
        "start_time": "2021-12-14T05:37:09.553Z"
      },
      {
        "duration": 10,
        "start_time": "2021-12-14T05:37:09.572Z"
      },
      {
        "duration": 4,
        "start_time": "2021-12-14T05:37:09.584Z"
      },
      {
        "duration": 35,
        "start_time": "2021-12-14T05:37:09.590Z"
      },
      {
        "duration": 4666,
        "start_time": "2021-12-14T05:37:09.628Z"
      },
      {
        "duration": 30,
        "start_time": "2021-12-14T05:37:14.297Z"
      },
      {
        "duration": 5,
        "start_time": "2021-12-14T05:37:14.329Z"
      },
      {
        "duration": 442,
        "start_time": "2021-12-14T05:37:14.336Z"
      },
      {
        "duration": 17,
        "start_time": "2021-12-14T05:37:14.780Z"
      },
      {
        "duration": 23,
        "start_time": "2021-12-14T05:37:14.800Z"
      },
      {
        "duration": 19,
        "start_time": "2021-12-14T05:37:14.825Z"
      },
      {
        "duration": 9,
        "start_time": "2021-12-14T05:37:14.847Z"
      },
      {
        "duration": 13,
        "start_time": "2021-12-14T05:37:14.858Z"
      },
      {
        "duration": 18,
        "start_time": "2021-12-14T05:37:14.873Z"
      },
      {
        "duration": 33,
        "start_time": "2021-12-14T05:37:14.893Z"
      },
      {
        "duration": 8,
        "start_time": "2021-12-14T05:37:14.928Z"
      },
      {
        "duration": 13,
        "start_time": "2021-12-14T05:37:14.938Z"
      },
      {
        "duration": 10,
        "start_time": "2021-12-14T05:37:14.953Z"
      },
      {
        "duration": 21,
        "start_time": "2021-12-14T05:37:14.965Z"
      },
      {
        "duration": 44,
        "start_time": "2021-12-14T05:37:14.988Z"
      },
      {
        "duration": 48,
        "start_time": "2021-12-14T05:37:15.034Z"
      },
      {
        "duration": 5,
        "start_time": "2021-12-14T05:37:15.084Z"
      },
      {
        "duration": 33,
        "start_time": "2021-12-14T05:37:15.091Z"
      },
      {
        "duration": 7,
        "start_time": "2021-12-14T05:37:15.127Z"
      },
      {
        "duration": 7,
        "start_time": "2021-12-14T05:37:15.137Z"
      },
      {
        "duration": 25,
        "start_time": "2021-12-14T05:37:15.147Z"
      },
      {
        "duration": 9,
        "start_time": "2021-12-14T05:37:15.175Z"
      },
      {
        "duration": 60,
        "start_time": "2021-12-14T05:37:15.186Z"
      },
      {
        "duration": 9,
        "start_time": "2021-12-14T05:37:15.248Z"
      },
      {
        "duration": 31,
        "start_time": "2021-12-14T05:37:15.259Z"
      },
      {
        "duration": 31,
        "start_time": "2021-12-14T05:37:15.292Z"
      },
      {
        "duration": 24,
        "start_time": "2021-12-14T05:37:15.325Z"
      },
      {
        "duration": 8,
        "start_time": "2021-12-14T05:37:15.351Z"
      },
      {
        "duration": 26,
        "start_time": "2021-12-14T06:22:20.021Z"
      },
      {
        "duration": 386,
        "start_time": "2021-12-14T06:22:23.918Z"
      },
      {
        "duration": 718,
        "start_time": "2021-12-14T06:22:45.871Z"
      },
      {
        "duration": 69,
        "start_time": "2021-12-14T06:22:46.592Z"
      },
      {
        "duration": 37,
        "start_time": "2021-12-14T06:22:46.665Z"
      },
      {
        "duration": 32,
        "start_time": "2021-12-14T06:22:46.705Z"
      },
      {
        "duration": 12,
        "start_time": "2021-12-14T06:22:46.739Z"
      },
      {
        "duration": 34,
        "start_time": "2021-12-14T06:22:46.754Z"
      },
      {
        "duration": 34,
        "start_time": "2021-12-14T06:22:46.791Z"
      },
      {
        "duration": 5,
        "start_time": "2021-12-14T06:22:46.830Z"
      },
      {
        "duration": 29,
        "start_time": "2021-12-14T06:22:46.838Z"
      },
      {
        "duration": 9,
        "start_time": "2021-12-14T06:22:46.869Z"
      },
      {
        "duration": 754,
        "start_time": "2021-12-14T06:22:46.880Z"
      },
      {
        "duration": 25,
        "start_time": "2021-12-14T06:22:47.636Z"
      },
      {
        "duration": 8,
        "start_time": "2021-12-14T06:22:47.663Z"
      },
      {
        "duration": 8,
        "start_time": "2021-12-14T06:22:47.673Z"
      },
      {
        "duration": 46,
        "start_time": "2021-12-14T06:22:47.683Z"
      },
      {
        "duration": 19,
        "start_time": "2021-12-14T06:22:47.732Z"
      },
      {
        "duration": 19,
        "start_time": "2021-12-14T06:22:47.753Z"
      },
      {
        "duration": 16,
        "start_time": "2021-12-14T06:22:47.774Z"
      },
      {
        "duration": 53,
        "start_time": "2021-12-14T06:22:47.792Z"
      },
      {
        "duration": 17,
        "start_time": "2021-12-14T06:22:47.848Z"
      },
      {
        "duration": 16,
        "start_time": "2021-12-14T06:22:47.867Z"
      },
      {
        "duration": 44,
        "start_time": "2021-12-14T06:22:47.885Z"
      },
      {
        "duration": 18,
        "start_time": "2021-12-14T06:22:47.934Z"
      },
      {
        "duration": 17,
        "start_time": "2021-12-14T06:22:47.956Z"
      },
      {
        "duration": 16,
        "start_time": "2021-12-14T06:22:47.975Z"
      },
      {
        "duration": 10,
        "start_time": "2021-12-14T06:22:47.993Z"
      },
      {
        "duration": 17,
        "start_time": "2021-12-14T06:22:48.023Z"
      },
      {
        "duration": 8,
        "start_time": "2021-12-14T06:22:48.042Z"
      },
      {
        "duration": 4,
        "start_time": "2021-12-14T06:22:48.052Z"
      },
      {
        "duration": 7,
        "start_time": "2021-12-14T06:22:48.058Z"
      },
      {
        "duration": 5072,
        "start_time": "2021-12-14T06:22:48.068Z"
      },
      {
        "duration": 28,
        "start_time": "2021-12-14T06:22:53.143Z"
      },
      {
        "duration": 7,
        "start_time": "2021-12-14T06:22:53.174Z"
      },
      {
        "duration": 442,
        "start_time": "2021-12-14T06:22:53.184Z"
      },
      {
        "duration": 18,
        "start_time": "2021-12-14T06:22:53.628Z"
      },
      {
        "duration": 10,
        "start_time": "2021-12-14T06:22:53.648Z"
      },
      {
        "duration": 24,
        "start_time": "2021-12-14T06:22:53.660Z"
      },
      {
        "duration": 9,
        "start_time": "2021-12-14T06:22:53.686Z"
      },
      {
        "duration": 6,
        "start_time": "2021-12-14T06:22:53.723Z"
      },
      {
        "duration": 15,
        "start_time": "2021-12-14T06:22:53.732Z"
      },
      {
        "duration": 8,
        "start_time": "2021-12-14T06:22:53.750Z"
      },
      {
        "duration": 4,
        "start_time": "2021-12-14T06:22:53.761Z"
      },
      {
        "duration": 13,
        "start_time": "2021-12-14T06:22:53.767Z"
      },
      {
        "duration": 42,
        "start_time": "2021-12-14T06:22:53.782Z"
      },
      {
        "duration": 21,
        "start_time": "2021-12-14T06:22:53.826Z"
      },
      {
        "duration": 11,
        "start_time": "2021-12-14T06:22:53.850Z"
      },
      {
        "duration": 69,
        "start_time": "2021-12-14T06:22:53.863Z"
      },
      {
        "duration": 3,
        "start_time": "2021-12-14T06:22:53.934Z"
      },
      {
        "duration": 8,
        "start_time": "2021-12-14T06:22:53.940Z"
      },
      {
        "duration": 4,
        "start_time": "2021-12-14T06:22:53.950Z"
      },
      {
        "duration": 7,
        "start_time": "2021-12-14T06:22:53.956Z"
      },
      {
        "duration": 72,
        "start_time": "2021-12-14T06:22:53.965Z"
      },
      {
        "duration": 13,
        "start_time": "2021-12-14T06:22:54.040Z"
      },
      {
        "duration": 12,
        "start_time": "2021-12-14T06:22:54.055Z"
      },
      {
        "duration": 25,
        "start_time": "2021-12-14T06:22:54.069Z"
      },
      {
        "duration": 31,
        "start_time": "2021-12-14T06:22:54.097Z"
      },
      {
        "duration": 29,
        "start_time": "2021-12-14T06:22:54.131Z"
      },
      {
        "duration": 13,
        "start_time": "2021-12-14T06:22:54.162Z"
      },
      {
        "duration": 62,
        "start_time": "2021-12-14T06:22:54.178Z"
      },
      {
        "duration": 10,
        "start_time": "2021-12-14T06:22:54.243Z"
      },
      {
        "duration": 682,
        "start_time": "2021-12-14T06:45:57.064Z"
      },
      {
        "duration": 57,
        "start_time": "2021-12-14T06:45:57.749Z"
      },
      {
        "duration": 33,
        "start_time": "2021-12-14T06:45:57.809Z"
      },
      {
        "duration": 15,
        "start_time": "2021-12-14T06:45:57.844Z"
      },
      {
        "duration": 12,
        "start_time": "2021-12-14T06:45:57.861Z"
      },
      {
        "duration": 52,
        "start_time": "2021-12-14T06:45:57.875Z"
      },
      {
        "duration": 8,
        "start_time": "2021-12-14T06:45:57.929Z"
      },
      {
        "duration": 6,
        "start_time": "2021-12-14T06:45:57.940Z"
      },
      {
        "duration": 27,
        "start_time": "2021-12-14T06:45:57.949Z"
      },
      {
        "duration": 9,
        "start_time": "2021-12-14T06:45:57.978Z"
      },
      {
        "duration": 670,
        "start_time": "2021-12-14T06:45:57.989Z"
      },
      {
        "duration": 25,
        "start_time": "2021-12-14T06:45:58.661Z"
      },
      {
        "duration": 5,
        "start_time": "2021-12-14T06:45:58.689Z"
      },
      {
        "duration": 26,
        "start_time": "2021-12-14T06:45:58.697Z"
      },
      {
        "duration": 19,
        "start_time": "2021-12-14T06:45:58.725Z"
      },
      {
        "duration": 19,
        "start_time": "2021-12-14T06:45:58.746Z"
      },
      {
        "duration": 17,
        "start_time": "2021-12-14T06:45:58.767Z"
      },
      {
        "duration": 47,
        "start_time": "2021-12-14T06:45:58.787Z"
      },
      {
        "duration": 23,
        "start_time": "2021-12-14T06:45:58.836Z"
      },
      {
        "duration": 17,
        "start_time": "2021-12-14T06:45:58.861Z"
      },
      {
        "duration": 48,
        "start_time": "2021-12-14T06:45:58.881Z"
      },
      {
        "duration": 14,
        "start_time": "2021-12-14T06:45:58.931Z"
      },
      {
        "duration": 20,
        "start_time": "2021-12-14T06:45:58.950Z"
      },
      {
        "duration": 20,
        "start_time": "2021-12-14T06:45:58.973Z"
      },
      {
        "duration": 28,
        "start_time": "2021-12-14T06:45:58.995Z"
      },
      {
        "duration": 13,
        "start_time": "2021-12-14T06:45:59.025Z"
      },
      {
        "duration": 19,
        "start_time": "2021-12-14T06:45:59.041Z"
      },
      {
        "duration": 9,
        "start_time": "2021-12-14T06:45:59.062Z"
      },
      {
        "duration": 3,
        "start_time": "2021-12-14T06:45:59.073Z"
      },
      {
        "duration": 14,
        "start_time": "2021-12-14T06:45:59.078Z"
      },
      {
        "duration": 4555,
        "start_time": "2021-12-14T06:45:59.094Z"
      },
      {
        "duration": 20,
        "start_time": "2021-12-14T06:46:03.652Z"
      },
      {
        "duration": 7,
        "start_time": "2021-12-14T06:46:03.674Z"
      },
      {
        "duration": 453,
        "start_time": "2021-12-14T06:46:03.683Z"
      },
      {
        "duration": 18,
        "start_time": "2021-12-14T06:46:04.139Z"
      },
      {
        "duration": 13,
        "start_time": "2021-12-14T06:46:04.159Z"
      },
      {
        "duration": 33,
        "start_time": "2021-12-14T06:46:04.174Z"
      },
      {
        "duration": 16,
        "start_time": "2021-12-14T06:46:04.209Z"
      },
      {
        "duration": 6,
        "start_time": "2021-12-14T06:46:04.228Z"
      },
      {
        "duration": 14,
        "start_time": "2021-12-14T06:46:04.237Z"
      },
      {
        "duration": 12,
        "start_time": "2021-12-14T06:46:04.254Z"
      },
      {
        "duration": 4,
        "start_time": "2021-12-14T06:46:04.269Z"
      },
      {
        "duration": 48,
        "start_time": "2021-12-14T06:46:04.275Z"
      },
      {
        "duration": 12,
        "start_time": "2021-12-14T06:46:04.326Z"
      },
      {
        "duration": 20,
        "start_time": "2021-12-14T06:46:04.340Z"
      },
      {
        "duration": 12,
        "start_time": "2021-12-14T06:46:04.362Z"
      },
      {
        "duration": 74,
        "start_time": "2021-12-14T06:46:04.376Z"
      },
      {
        "duration": 4,
        "start_time": "2021-12-14T06:46:04.452Z"
      },
      {
        "duration": 7,
        "start_time": "2021-12-14T06:46:04.458Z"
      },
      {
        "duration": 9,
        "start_time": "2021-12-14T06:46:04.467Z"
      },
      {
        "duration": 9,
        "start_time": "2021-12-14T06:46:04.478Z"
      },
      {
        "duration": 63,
        "start_time": "2021-12-14T06:46:04.490Z"
      },
      {
        "duration": 14,
        "start_time": "2021-12-14T06:46:04.556Z"
      },
      {
        "duration": 15,
        "start_time": "2021-12-14T06:46:04.573Z"
      },
      {
        "duration": 54,
        "start_time": "2021-12-14T06:46:04.590Z"
      },
      {
        "duration": 10,
        "start_time": "2021-12-14T06:46:04.646Z"
      },
      {
        "duration": 30,
        "start_time": "2021-12-14T06:46:04.659Z"
      },
      {
        "duration": 40,
        "start_time": "2021-12-14T06:46:04.692Z"
      },
      {
        "duration": 27,
        "start_time": "2021-12-14T06:46:04.735Z"
      },
      {
        "duration": 9,
        "start_time": "2021-12-14T06:46:04.765Z"
      },
      {
        "duration": 20,
        "start_time": "2021-12-14T09:04:43.223Z"
      },
      {
        "duration": 11,
        "start_time": "2021-12-14T09:04:44.459Z"
      },
      {
        "duration": 531,
        "start_time": "2021-12-14T09:05:11.165Z"
      },
      {
        "duration": 10,
        "start_time": "2021-12-14T09:05:11.782Z"
      },
      {
        "duration": 830,
        "start_time": "2021-12-14T09:05:25.414Z"
      },
      {
        "duration": 63,
        "start_time": "2021-12-14T09:05:26.247Z"
      },
      {
        "duration": 43,
        "start_time": "2021-12-14T09:05:26.313Z"
      },
      {
        "duration": 18,
        "start_time": "2021-12-14T09:05:26.359Z"
      },
      {
        "duration": 46,
        "start_time": "2021-12-14T09:05:26.379Z"
      },
      {
        "duration": 24,
        "start_time": "2021-12-14T09:05:26.428Z"
      },
      {
        "duration": 4,
        "start_time": "2021-12-14T09:05:26.455Z"
      },
      {
        "duration": 10,
        "start_time": "2021-12-14T09:05:26.463Z"
      },
      {
        "duration": 65,
        "start_time": "2021-12-14T09:05:26.476Z"
      },
      {
        "duration": 15,
        "start_time": "2021-12-14T09:05:26.543Z"
      },
      {
        "duration": 740,
        "start_time": "2021-12-14T09:05:26.561Z"
      },
      {
        "duration": 40,
        "start_time": "2021-12-14T09:05:27.303Z"
      },
      {
        "duration": 8,
        "start_time": "2021-12-14T09:05:27.346Z"
      },
      {
        "duration": 23,
        "start_time": "2021-12-14T09:05:27.356Z"
      },
      {
        "duration": 30,
        "start_time": "2021-12-14T09:05:27.381Z"
      },
      {
        "duration": 32,
        "start_time": "2021-12-14T09:05:27.414Z"
      },
      {
        "duration": 22,
        "start_time": "2021-12-14T09:05:27.449Z"
      },
      {
        "duration": 19,
        "start_time": "2021-12-14T09:05:27.473Z"
      },
      {
        "duration": 50,
        "start_time": "2021-12-14T09:05:27.494Z"
      },
      {
        "duration": 17,
        "start_time": "2021-12-14T09:05:27.546Z"
      },
      {
        "duration": 19,
        "start_time": "2021-12-14T09:05:27.565Z"
      },
      {
        "duration": 10,
        "start_time": "2021-12-14T09:05:27.586Z"
      },
      {
        "duration": 20,
        "start_time": "2021-12-14T09:05:27.630Z"
      },
      {
        "duration": 22,
        "start_time": "2021-12-14T09:05:27.653Z"
      },
      {
        "duration": 6,
        "start_time": "2021-12-14T09:05:27.677Z"
      },
      {
        "duration": 11,
        "start_time": "2021-12-14T09:05:27.685Z"
      },
      {
        "duration": 38,
        "start_time": "2021-12-14T09:05:27.698Z"
      },
      {
        "duration": 12,
        "start_time": "2021-12-14T09:05:27.739Z"
      },
      {
        "duration": 3,
        "start_time": "2021-12-14T09:05:27.754Z"
      },
      {
        "duration": 6,
        "start_time": "2021-12-14T09:05:27.759Z"
      },
      {
        "duration": 5046,
        "start_time": "2021-12-14T09:05:27.767Z"
      },
      {
        "duration": 32,
        "start_time": "2021-12-14T09:05:32.816Z"
      },
      {
        "duration": 9,
        "start_time": "2021-12-14T09:05:32.850Z"
      },
      {
        "duration": 499,
        "start_time": "2021-12-14T09:05:32.861Z"
      },
      {
        "duration": 17,
        "start_time": "2021-12-14T09:05:33.362Z"
      },
      {
        "duration": 17,
        "start_time": "2021-12-14T09:05:33.381Z"
      },
      {
        "duration": 54,
        "start_time": "2021-12-14T09:05:33.400Z"
      },
      {
        "duration": 16,
        "start_time": "2021-12-14T09:05:33.456Z"
      },
      {
        "duration": 20,
        "start_time": "2021-12-14T09:05:33.475Z"
      },
      {
        "duration": 53,
        "start_time": "2021-12-14T09:05:33.497Z"
      },
      {
        "duration": 34,
        "start_time": "2021-12-14T09:05:33.553Z"
      },
      {
        "duration": 31,
        "start_time": "2021-12-14T09:05:33.590Z"
      },
      {
        "duration": 29,
        "start_time": "2021-12-14T09:05:33.624Z"
      },
      {
        "duration": 29,
        "start_time": "2021-12-14T09:05:33.656Z"
      },
      {
        "duration": 33,
        "start_time": "2021-12-14T09:05:33.688Z"
      },
      {
        "duration": 18,
        "start_time": "2021-12-14T09:05:33.726Z"
      },
      {
        "duration": 49,
        "start_time": "2021-12-14T09:05:33.746Z"
      },
      {
        "duration": 27,
        "start_time": "2021-12-14T09:05:33.797Z"
      },
      {
        "duration": 50,
        "start_time": "2021-12-14T09:05:33.827Z"
      },
      {
        "duration": 12,
        "start_time": "2021-12-14T09:05:33.879Z"
      },
      {
        "duration": 24,
        "start_time": "2021-12-14T09:05:33.894Z"
      },
      {
        "duration": 40,
        "start_time": "2021-12-14T09:05:33.921Z"
      },
      {
        "duration": 10,
        "start_time": "2021-12-14T09:05:33.964Z"
      },
      {
        "duration": 652,
        "start_time": "2021-12-14T09:05:33.976Z"
      },
      {
        "duration": -359,
        "start_time": "2021-12-14T09:05:34.992Z"
      },
      {
        "duration": -366,
        "start_time": "2021-12-14T09:05:35.002Z"
      },
      {
        "duration": -372,
        "start_time": "2021-12-14T09:05:35.010Z"
      },
      {
        "duration": -380,
        "start_time": "2021-12-14T09:05:35.020Z"
      },
      {
        "duration": -387,
        "start_time": "2021-12-14T09:05:35.029Z"
      },
      {
        "duration": 25,
        "start_time": "2021-12-14T09:08:18.461Z"
      },
      {
        "duration": 9,
        "start_time": "2021-12-14T09:08:19.291Z"
      },
      {
        "duration": 23,
        "start_time": "2021-12-14T09:10:11.864Z"
      },
      {
        "duration": 11,
        "start_time": "2021-12-14T09:10:12.518Z"
      },
      {
        "duration": 301,
        "start_time": "2021-12-14T09:10:21.641Z"
      },
      {
        "duration": 9,
        "start_time": "2021-12-14T09:10:22.193Z"
      },
      {
        "duration": 40,
        "start_time": "2021-12-14T09:10:35.487Z"
      },
      {
        "duration": 8,
        "start_time": "2021-12-14T09:10:36.170Z"
      },
      {
        "duration": 24,
        "start_time": "2021-12-14T09:10:47.051Z"
      },
      {
        "duration": 9,
        "start_time": "2021-12-14T09:10:47.986Z"
      },
      {
        "duration": 761,
        "start_time": "2021-12-14T11:41:33.956Z"
      },
      {
        "duration": 66,
        "start_time": "2021-12-14T11:41:34.720Z"
      },
      {
        "duration": 40,
        "start_time": "2021-12-14T11:41:34.788Z"
      },
      {
        "duration": 22,
        "start_time": "2021-12-14T11:41:34.832Z"
      },
      {
        "duration": 16,
        "start_time": "2021-12-14T11:41:34.856Z"
      },
      {
        "duration": 29,
        "start_time": "2021-12-14T11:41:34.874Z"
      },
      {
        "duration": 33,
        "start_time": "2021-12-14T11:41:34.906Z"
      },
      {
        "duration": 5,
        "start_time": "2021-12-14T11:41:34.945Z"
      },
      {
        "duration": 44,
        "start_time": "2021-12-14T11:41:34.953Z"
      },
      {
        "duration": 36,
        "start_time": "2021-12-14T11:41:34.999Z"
      },
      {
        "duration": 713,
        "start_time": "2021-12-14T11:41:35.037Z"
      },
      {
        "duration": 25,
        "start_time": "2021-12-14T11:41:35.753Z"
      },
      {
        "duration": 12,
        "start_time": "2021-12-14T11:41:35.780Z"
      },
      {
        "duration": 10,
        "start_time": "2021-12-14T11:41:35.794Z"
      },
      {
        "duration": 39,
        "start_time": "2021-12-14T11:41:35.806Z"
      },
      {
        "duration": 20,
        "start_time": "2021-12-14T11:41:35.847Z"
      },
      {
        "duration": 19,
        "start_time": "2021-12-14T11:41:35.869Z"
      },
      {
        "duration": 52,
        "start_time": "2021-12-14T11:41:35.890Z"
      },
      {
        "duration": 35,
        "start_time": "2021-12-14T11:41:35.945Z"
      },
      {
        "duration": 16,
        "start_time": "2021-12-14T11:41:35.982Z"
      },
      {
        "duration": 42,
        "start_time": "2021-12-14T11:41:36.000Z"
      },
      {
        "duration": 28,
        "start_time": "2021-12-14T11:41:36.045Z"
      },
      {
        "duration": 22,
        "start_time": "2021-12-14T11:41:36.079Z"
      },
      {
        "duration": 45,
        "start_time": "2021-12-14T11:41:36.104Z"
      },
      {
        "duration": 16,
        "start_time": "2021-12-14T11:41:36.152Z"
      },
      {
        "duration": 18,
        "start_time": "2021-12-14T11:41:36.171Z"
      },
      {
        "duration": 46,
        "start_time": "2021-12-14T11:41:36.191Z"
      },
      {
        "duration": 20,
        "start_time": "2021-12-14T11:41:36.241Z"
      },
      {
        "duration": 3,
        "start_time": "2021-12-14T11:41:36.264Z"
      },
      {
        "duration": 10,
        "start_time": "2021-12-14T11:41:36.270Z"
      },
      {
        "duration": 5020,
        "start_time": "2021-12-14T11:41:36.282Z"
      },
      {
        "duration": 34,
        "start_time": "2021-12-14T11:41:41.306Z"
      },
      {
        "duration": 17,
        "start_time": "2021-12-14T11:41:41.343Z"
      },
      {
        "duration": 479,
        "start_time": "2021-12-14T11:41:41.362Z"
      },
      {
        "duration": 17,
        "start_time": "2021-12-14T11:41:41.844Z"
      },
      {
        "duration": 12,
        "start_time": "2021-12-14T11:41:41.863Z"
      },
      {
        "duration": 48,
        "start_time": "2021-12-14T11:41:41.877Z"
      },
      {
        "duration": 13,
        "start_time": "2021-12-14T11:41:41.928Z"
      },
      {
        "duration": 8,
        "start_time": "2021-12-14T11:41:41.945Z"
      },
      {
        "duration": 15,
        "start_time": "2021-12-14T11:41:41.956Z"
      },
      {
        "duration": 9,
        "start_time": "2021-12-14T11:41:41.973Z"
      },
      {
        "duration": 39,
        "start_time": "2021-12-14T11:41:41.985Z"
      },
      {
        "duration": 15,
        "start_time": "2021-12-14T11:41:42.026Z"
      },
      {
        "duration": 9,
        "start_time": "2021-12-14T11:41:42.044Z"
      },
      {
        "duration": 25,
        "start_time": "2021-12-14T11:41:42.056Z"
      },
      {
        "duration": 47,
        "start_time": "2021-12-14T11:41:42.083Z"
      },
      {
        "duration": 49,
        "start_time": "2021-12-14T11:41:42.133Z"
      },
      {
        "duration": 4,
        "start_time": "2021-12-14T11:41:42.184Z"
      },
      {
        "duration": 35,
        "start_time": "2021-12-14T11:41:42.190Z"
      },
      {
        "duration": 13,
        "start_time": "2021-12-14T11:41:42.229Z"
      },
      {
        "duration": 9,
        "start_time": "2021-12-14T11:41:42.244Z"
      },
      {
        "duration": 27,
        "start_time": "2021-12-14T11:41:42.255Z"
      },
      {
        "duration": 10,
        "start_time": "2021-12-14T11:41:42.285Z"
      },
      {
        "duration": 202,
        "start_time": "2021-12-14T11:41:42.297Z"
      },
      {
        "duration": 14,
        "start_time": "2021-12-14T11:41:42.501Z"
      },
      {
        "duration": 39,
        "start_time": "2021-12-14T11:41:42.523Z"
      },
      {
        "duration": 10,
        "start_time": "2021-12-14T11:41:42.564Z"
      },
      {
        "duration": 31,
        "start_time": "2021-12-14T11:41:42.576Z"
      },
      {
        "duration": 27,
        "start_time": "2021-12-14T11:41:42.609Z"
      },
      {
        "duration": 123,
        "start_time": "2021-12-14T11:43:11.543Z"
      },
      {
        "duration": 18,
        "start_time": "2021-12-14T11:43:12.722Z"
      },
      {
        "duration": 114,
        "start_time": "2021-12-14T11:43:22.058Z"
      },
      {
        "duration": 156,
        "start_time": "2021-12-14T11:43:40.678Z"
      },
      {
        "duration": 15,
        "start_time": "2021-12-14T11:43:41.456Z"
      },
      {
        "duration": 35,
        "start_time": "2021-12-14T11:43:47.621Z"
      },
      {
        "duration": 13,
        "start_time": "2021-12-14T11:43:48.605Z"
      },
      {
        "duration": 7500,
        "start_time": "2021-12-14T11:46:18.553Z"
      },
      {
        "duration": 94,
        "start_time": "2021-12-14T11:46:56.869Z"
      },
      {
        "duration": 58,
        "start_time": "2021-12-14T11:46:56.906Z"
      },
      {
        "duration": 9859,
        "start_time": "2021-12-14T11:47:23.894Z"
      },
      {
        "duration": 1042,
        "start_time": "2021-12-14T11:47:58.762Z"
      },
      {
        "duration": 82,
        "start_time": "2021-12-14T11:47:59.807Z"
      },
      {
        "duration": 48,
        "start_time": "2021-12-14T11:47:59.892Z"
      },
      {
        "duration": 24,
        "start_time": "2021-12-14T11:47:59.944Z"
      },
      {
        "duration": 19,
        "start_time": "2021-12-14T11:47:59.972Z"
      },
      {
        "duration": 65,
        "start_time": "2021-12-14T11:47:59.993Z"
      },
      {
        "duration": 6,
        "start_time": "2021-12-14T11:48:00.060Z"
      },
      {
        "duration": 11,
        "start_time": "2021-12-14T11:48:00.071Z"
      },
      {
        "duration": 65,
        "start_time": "2021-12-14T11:48:00.089Z"
      },
      {
        "duration": 13,
        "start_time": "2021-12-14T11:48:00.157Z"
      },
      {
        "duration": 963,
        "start_time": "2021-12-14T11:48:00.172Z"
      },
      {
        "duration": 35,
        "start_time": "2021-12-14T11:48:01.138Z"
      },
      {
        "duration": 4,
        "start_time": "2021-12-14T11:48:01.176Z"
      },
      {
        "duration": 17,
        "start_time": "2021-12-14T11:48:01.183Z"
      },
      {
        "duration": 61,
        "start_time": "2021-12-14T11:48:01.203Z"
      },
      {
        "duration": 40,
        "start_time": "2021-12-14T11:48:01.266Z"
      },
      {
        "duration": 27,
        "start_time": "2021-12-14T11:48:01.309Z"
      },
      {
        "duration": 28,
        "start_time": "2021-12-14T11:48:01.339Z"
      },
      {
        "duration": 77,
        "start_time": "2021-12-14T11:48:01.370Z"
      },
      {
        "duration": 21,
        "start_time": "2021-12-14T11:48:01.450Z"
      },
      {
        "duration": 30,
        "start_time": "2021-12-14T11:48:01.474Z"
      },
      {
        "duration": 47,
        "start_time": "2021-12-14T11:48:01.507Z"
      },
      {
        "duration": 33,
        "start_time": "2021-12-14T11:48:01.563Z"
      },
      {
        "duration": 67,
        "start_time": "2021-12-14T11:48:01.600Z"
      },
      {
        "duration": 34,
        "start_time": "2021-12-14T11:48:01.671Z"
      },
      {
        "duration": 71,
        "start_time": "2021-12-14T11:48:01.708Z"
      },
      {
        "duration": 49,
        "start_time": "2021-12-14T11:48:01.783Z"
      },
      {
        "duration": 38,
        "start_time": "2021-12-14T11:48:01.836Z"
      },
      {
        "duration": 12,
        "start_time": "2021-12-14T11:48:01.877Z"
      },
      {
        "duration": 26,
        "start_time": "2021-12-14T11:48:01.892Z"
      },
      {
        "duration": 5679,
        "start_time": "2021-12-14T11:48:01.921Z"
      },
      {
        "duration": 33,
        "start_time": "2021-12-14T11:48:07.603Z"
      },
      {
        "duration": 30,
        "start_time": "2021-12-14T11:48:07.639Z"
      },
      {
        "duration": 508,
        "start_time": "2021-12-14T11:48:07.672Z"
      },
      {
        "duration": 19,
        "start_time": "2021-12-14T11:48:08.182Z"
      },
      {
        "duration": 33,
        "start_time": "2021-12-14T11:48:08.204Z"
      },
      {
        "duration": 37,
        "start_time": "2021-12-14T11:48:08.240Z"
      },
      {
        "duration": 34,
        "start_time": "2021-12-14T11:48:08.279Z"
      },
      {
        "duration": 20,
        "start_time": "2021-12-14T11:48:08.316Z"
      },
      {
        "duration": 32,
        "start_time": "2021-12-14T11:48:08.339Z"
      },
      {
        "duration": 39,
        "start_time": "2021-12-14T11:48:08.373Z"
      },
      {
        "duration": 27,
        "start_time": "2021-12-14T11:48:08.415Z"
      },
      {
        "duration": 36,
        "start_time": "2021-12-14T11:48:08.445Z"
      },
      {
        "duration": 12,
        "start_time": "2021-12-14T11:48:08.483Z"
      },
      {
        "duration": 48,
        "start_time": "2021-12-14T11:48:08.498Z"
      },
      {
        "duration": 26,
        "start_time": "2021-12-14T11:48:08.549Z"
      },
      {
        "duration": 82,
        "start_time": "2021-12-14T11:48:08.577Z"
      },
      {
        "duration": 4,
        "start_time": "2021-12-14T11:48:08.662Z"
      },
      {
        "duration": 20,
        "start_time": "2021-12-14T11:48:08.668Z"
      },
      {
        "duration": 40,
        "start_time": "2021-12-14T11:48:08.690Z"
      },
      {
        "duration": 30,
        "start_time": "2021-12-14T11:48:08.733Z"
      },
      {
        "duration": 53,
        "start_time": "2021-12-14T11:48:08.765Z"
      },
      {
        "duration": 24,
        "start_time": "2021-12-14T11:48:08.821Z"
      },
      {
        "duration": 41,
        "start_time": "2021-12-14T11:48:08.848Z"
      },
      {
        "duration": 12,
        "start_time": "2021-12-14T11:48:08.891Z"
      },
      {
        "duration": 8286,
        "start_time": "2021-12-14T11:48:08.906Z"
      },
      {
        "duration": 38,
        "start_time": "2021-12-14T11:48:17.157Z"
      },
      {
        "duration": 32,
        "start_time": "2021-12-14T11:48:17.164Z"
      },
      {
        "duration": 26,
        "start_time": "2021-12-14T11:48:17.172Z"
      },
      {
        "duration": 21,
        "start_time": "2021-12-14T11:48:17.179Z"
      },
      {
        "duration": 15,
        "start_time": "2021-12-14T11:48:17.186Z"
      },
      {
        "duration": 12095,
        "start_time": "2021-12-14T11:49:48.540Z"
      },
      {
        "duration": 21,
        "start_time": "2021-12-14T11:55:12.162Z"
      },
      {
        "duration": 12,
        "start_time": "2021-12-14T11:55:14.938Z"
      },
      {
        "duration": 5,
        "start_time": "2021-12-14T11:55:31.457Z"
      },
      {
        "duration": 5,
        "start_time": "2021-12-14T11:55:42.838Z"
      },
      {
        "duration": 11,
        "start_time": "2021-12-14T11:55:43.508Z"
      },
      {
        "duration": 6,
        "start_time": "2021-12-14T11:56:40.438Z"
      },
      {
        "duration": 12,
        "start_time": "2021-12-14T11:56:40.881Z"
      },
      {
        "duration": 842,
        "start_time": "2021-12-14T11:56:50.013Z"
      },
      {
        "duration": 59,
        "start_time": "2021-12-14T11:56:50.858Z"
      },
      {
        "duration": 35,
        "start_time": "2021-12-14T11:56:50.921Z"
      },
      {
        "duration": 17,
        "start_time": "2021-12-14T11:56:50.959Z"
      },
      {
        "duration": 11,
        "start_time": "2021-12-14T11:56:50.979Z"
      },
      {
        "duration": 25,
        "start_time": "2021-12-14T11:56:51.025Z"
      },
      {
        "duration": 4,
        "start_time": "2021-12-14T11:56:51.053Z"
      },
      {
        "duration": 14,
        "start_time": "2021-12-14T11:56:51.061Z"
      },
      {
        "duration": 54,
        "start_time": "2021-12-14T11:56:51.077Z"
      },
      {
        "duration": 16,
        "start_time": "2021-12-14T11:56:51.134Z"
      },
      {
        "duration": 718,
        "start_time": "2021-12-14T11:56:51.153Z"
      },
      {
        "duration": 27,
        "start_time": "2021-12-14T11:56:51.874Z"
      },
      {
        "duration": 9,
        "start_time": "2021-12-14T11:56:51.926Z"
      },
      {
        "duration": 6,
        "start_time": "2021-12-14T11:56:51.939Z"
      },
      {
        "duration": 21,
        "start_time": "2021-12-14T11:56:51.948Z"
      },
      {
        "duration": 20,
        "start_time": "2021-12-14T11:56:51.972Z"
      },
      {
        "duration": 54,
        "start_time": "2021-12-14T11:56:51.994Z"
      },
      {
        "duration": 15,
        "start_time": "2021-12-14T11:56:52.051Z"
      },
      {
        "duration": 25,
        "start_time": "2021-12-14T11:56:52.068Z"
      },
      {
        "duration": 47,
        "start_time": "2021-12-14T11:56:52.096Z"
      },
      {
        "duration": 20,
        "start_time": "2021-12-14T11:56:52.146Z"
      },
      {
        "duration": 11,
        "start_time": "2021-12-14T11:56:52.168Z"
      },
      {
        "duration": 50,
        "start_time": "2021-12-14T11:56:52.185Z"
      },
      {
        "duration": 17,
        "start_time": "2021-12-14T11:56:52.240Z"
      },
      {
        "duration": 4,
        "start_time": "2021-12-14T11:56:52.259Z"
      },
      {
        "duration": 8,
        "start_time": "2021-12-14T11:56:52.265Z"
      },
      {
        "duration": 48,
        "start_time": "2021-12-14T11:56:52.275Z"
      },
      {
        "duration": 11,
        "start_time": "2021-12-14T11:56:52.327Z"
      },
      {
        "duration": 6,
        "start_time": "2021-12-14T11:56:52.341Z"
      },
      {
        "duration": 5,
        "start_time": "2021-12-14T11:56:52.350Z"
      },
      {
        "duration": 5021,
        "start_time": "2021-12-14T11:56:52.357Z"
      },
      {
        "duration": 20,
        "start_time": "2021-12-14T11:56:57.380Z"
      },
      {
        "duration": 23,
        "start_time": "2021-12-14T11:56:57.402Z"
      },
      {
        "duration": 466,
        "start_time": "2021-12-14T11:56:57.428Z"
      },
      {
        "duration": 18,
        "start_time": "2021-12-14T11:56:57.896Z"
      },
      {
        "duration": 5,
        "start_time": "2021-12-14T11:56:57.924Z"
      },
      {
        "duration": 40,
        "start_time": "2021-12-14T11:56:57.932Z"
      },
      {
        "duration": 9,
        "start_time": "2021-12-14T11:56:57.975Z"
      },
      {
        "duration": 6,
        "start_time": "2021-12-14T11:56:57.987Z"
      },
      {
        "duration": 42,
        "start_time": "2021-12-14T11:56:57.996Z"
      },
      {
        "duration": 11,
        "start_time": "2021-12-14T11:56:58.041Z"
      },
      {
        "duration": 4,
        "start_time": "2021-12-14T11:56:58.054Z"
      },
      {
        "duration": 14,
        "start_time": "2021-12-14T11:56:58.060Z"
      },
      {
        "duration": 9,
        "start_time": "2021-12-14T11:56:58.076Z"
      },
      {
        "duration": 56,
        "start_time": "2021-12-14T11:56:58.087Z"
      },
      {
        "duration": 15,
        "start_time": "2021-12-14T11:56:58.146Z"
      },
      {
        "duration": 91,
        "start_time": "2021-12-14T11:56:58.163Z"
      },
      {
        "duration": 5,
        "start_time": "2021-12-14T11:56:58.257Z"
      },
      {
        "duration": 8,
        "start_time": "2021-12-14T11:56:58.264Z"
      },
      {
        "duration": 10,
        "start_time": "2021-12-14T11:56:58.274Z"
      },
      {
        "duration": 10,
        "start_time": "2021-12-14T11:56:58.286Z"
      },
      {
        "duration": 32,
        "start_time": "2021-12-14T11:56:58.323Z"
      },
      {
        "duration": 11,
        "start_time": "2021-12-14T11:56:58.357Z"
      },
      {
        "duration": 53,
        "start_time": "2021-12-14T11:56:58.370Z"
      },
      {
        "duration": 13,
        "start_time": "2021-12-14T11:56:58.426Z"
      },
      {
        "duration": 13,
        "start_time": "2021-12-14T11:56:58.442Z"
      },
      {
        "duration": 12,
        "start_time": "2021-12-14T11:56:58.457Z"
      },
      {
        "duration": 70,
        "start_time": "2021-12-14T11:56:58.472Z"
      },
      {
        "duration": 12,
        "start_time": "2021-12-14T11:56:58.545Z"
      },
      {
        "duration": 24,
        "start_time": "2021-12-14T11:56:58.560Z"
      },
      {
        "duration": 42,
        "start_time": "2021-12-14T11:56:58.586Z"
      },
      {
        "duration": 6,
        "start_time": "2021-12-14T12:07:31.102Z"
      },
      {
        "duration": 12,
        "start_time": "2021-12-14T12:07:38.431Z"
      },
      {
        "duration": 8,
        "start_time": "2021-12-14T12:12:05.002Z"
      },
      {
        "duration": 12,
        "start_time": "2021-12-14T12:12:05.495Z"
      },
      {
        "duration": 861,
        "start_time": "2021-12-14T12:16:43.915Z"
      },
      {
        "duration": 68,
        "start_time": "2021-12-14T12:16:44.779Z"
      },
      {
        "duration": 32,
        "start_time": "2021-12-14T12:16:44.850Z"
      },
      {
        "duration": 36,
        "start_time": "2021-12-14T12:16:44.886Z"
      },
      {
        "duration": 13,
        "start_time": "2021-12-14T12:16:44.925Z"
      },
      {
        "duration": 32,
        "start_time": "2021-12-14T12:16:44.941Z"
      },
      {
        "duration": 5,
        "start_time": "2021-12-14T12:16:44.976Z"
      },
      {
        "duration": 37,
        "start_time": "2021-12-14T12:16:44.987Z"
      },
      {
        "duration": 39,
        "start_time": "2021-12-14T12:16:45.028Z"
      },
      {
        "duration": 10,
        "start_time": "2021-12-14T12:16:45.070Z"
      },
      {
        "duration": 1135,
        "start_time": "2021-12-14T12:16:45.083Z"
      },
      {
        "duration": 40,
        "start_time": "2021-12-14T12:16:46.223Z"
      },
      {
        "duration": 14,
        "start_time": "2021-12-14T12:16:46.265Z"
      },
      {
        "duration": 10,
        "start_time": "2021-12-14T12:16:46.282Z"
      },
      {
        "duration": 38,
        "start_time": "2021-12-14T12:16:46.295Z"
      },
      {
        "duration": 23,
        "start_time": "2021-12-14T12:16:46.336Z"
      },
      {
        "duration": 19,
        "start_time": "2021-12-14T12:16:46.362Z"
      },
      {
        "duration": 48,
        "start_time": "2021-12-14T12:16:46.383Z"
      },
      {
        "duration": 25,
        "start_time": "2021-12-14T12:16:46.434Z"
      },
      {
        "duration": 18,
        "start_time": "2021-12-14T12:16:46.461Z"
      },
      {
        "duration": 46,
        "start_time": "2021-12-14T12:16:46.481Z"
      },
      {
        "duration": 11,
        "start_time": "2021-12-14T12:16:46.529Z"
      },
      {
        "duration": 18,
        "start_time": "2021-12-14T12:16:46.546Z"
      },
      {
        "duration": 18,
        "start_time": "2021-12-14T12:16:46.567Z"
      },
      {
        "duration": 35,
        "start_time": "2021-12-14T12:16:46.588Z"
      },
      {
        "duration": 12,
        "start_time": "2021-12-14T12:16:46.627Z"
      },
      {
        "duration": 24,
        "start_time": "2021-12-14T12:16:46.642Z"
      },
      {
        "duration": 15,
        "start_time": "2021-12-14T12:16:46.669Z"
      },
      {
        "duration": 4,
        "start_time": "2021-12-14T12:16:46.687Z"
      },
      {
        "duration": 31,
        "start_time": "2021-12-14T12:16:46.694Z"
      },
      {
        "duration": 5219,
        "start_time": "2021-12-14T12:16:46.727Z"
      },
      {
        "duration": 20,
        "start_time": "2021-12-14T12:16:51.949Z"
      },
      {
        "duration": 7,
        "start_time": "2021-12-14T12:16:51.971Z"
      },
      {
        "duration": 450,
        "start_time": "2021-12-14T12:16:51.980Z"
      },
      {
        "duration": 17,
        "start_time": "2021-12-14T12:16:52.433Z"
      },
      {
        "duration": 7,
        "start_time": "2021-12-14T12:16:52.452Z"
      },
      {
        "duration": 30,
        "start_time": "2021-12-14T12:16:52.461Z"
      },
      {
        "duration": 9,
        "start_time": "2021-12-14T12:16:52.493Z"
      },
      {
        "duration": 35,
        "start_time": "2021-12-14T12:16:52.504Z"
      },
      {
        "duration": 18,
        "start_time": "2021-12-14T12:16:52.541Z"
      },
      {
        "duration": 9,
        "start_time": "2021-12-14T12:16:52.561Z"
      },
      {
        "duration": 7,
        "start_time": "2021-12-14T12:16:52.573Z"
      },
      {
        "duration": 41,
        "start_time": "2021-12-14T12:16:52.582Z"
      },
      {
        "duration": 14,
        "start_time": "2021-12-14T12:16:52.627Z"
      },
      {
        "duration": 35,
        "start_time": "2021-12-14T12:16:52.644Z"
      },
      {
        "duration": 13,
        "start_time": "2021-12-14T12:16:52.682Z"
      },
      {
        "duration": 72,
        "start_time": "2021-12-14T12:16:52.697Z"
      },
      {
        "duration": 3,
        "start_time": "2021-12-14T12:16:52.772Z"
      },
      {
        "duration": 27,
        "start_time": "2021-12-14T12:16:52.778Z"
      },
      {
        "duration": 9,
        "start_time": "2021-12-14T12:16:52.807Z"
      },
      {
        "duration": 37,
        "start_time": "2021-12-14T12:16:52.818Z"
      },
      {
        "duration": 41,
        "start_time": "2021-12-14T12:16:52.858Z"
      },
      {
        "duration": 11,
        "start_time": "2021-12-14T12:16:52.901Z"
      },
      {
        "duration": 48,
        "start_time": "2021-12-14T12:16:52.914Z"
      },
      {
        "duration": 10,
        "start_time": "2021-12-14T12:16:52.964Z"
      },
      {
        "duration": 11,
        "start_time": "2021-12-14T12:16:52.976Z"
      },
      {
        "duration": 15,
        "start_time": "2021-12-14T12:16:52.989Z"
      },
      {
        "duration": 35,
        "start_time": "2021-12-14T12:16:53.007Z"
      },
      {
        "duration": 10,
        "start_time": "2021-12-14T12:16:53.044Z"
      },
      {
        "duration": 7,
        "start_time": "2021-12-14T12:16:53.057Z"
      },
      {
        "duration": 14,
        "start_time": "2021-12-14T12:16:53.066Z"
      },
      {
        "duration": 59,
        "start_time": "2021-12-14T12:16:53.082Z"
      },
      {
        "duration": 9,
        "start_time": "2021-12-14T12:16:53.144Z"
      },
      {
        "duration": 9,
        "start_time": "2021-12-14T12:16:53.156Z"
      },
      {
        "duration": 14,
        "start_time": "2021-12-14T12:16:53.168Z"
      },
      {
        "duration": 843,
        "start_time": "2021-12-14T14:27:06.722Z"
      },
      {
        "duration": 72,
        "start_time": "2021-12-14T14:27:07.567Z"
      },
      {
        "duration": 30,
        "start_time": "2021-12-14T14:27:07.643Z"
      },
      {
        "duration": 28,
        "start_time": "2021-12-14T14:27:07.677Z"
      },
      {
        "duration": 20,
        "start_time": "2021-12-14T14:27:07.725Z"
      },
      {
        "duration": 33,
        "start_time": "2021-12-14T14:27:07.748Z"
      },
      {
        "duration": 4,
        "start_time": "2021-12-14T14:27:07.783Z"
      },
      {
        "duration": 21,
        "start_time": "2021-12-14T14:27:07.791Z"
      },
      {
        "duration": 40,
        "start_time": "2021-12-14T14:27:07.815Z"
      },
      {
        "duration": 14,
        "start_time": "2021-12-14T14:27:07.858Z"
      },
      {
        "duration": 749,
        "start_time": "2021-12-14T14:27:07.874Z"
      },
      {
        "duration": 33,
        "start_time": "2021-12-14T14:27:08.626Z"
      },
      {
        "duration": 6,
        "start_time": "2021-12-14T14:27:08.662Z"
      },
      {
        "duration": 7,
        "start_time": "2021-12-14T14:27:08.670Z"
      },
      {
        "duration": 63,
        "start_time": "2021-12-14T14:27:08.680Z"
      },
      {
        "duration": 28,
        "start_time": "2021-12-14T14:27:08.746Z"
      },
      {
        "duration": 50,
        "start_time": "2021-12-14T14:27:08.777Z"
      },
      {
        "duration": 24,
        "start_time": "2021-12-14T14:27:08.831Z"
      },
      {
        "duration": 27,
        "start_time": "2021-12-14T14:27:08.857Z"
      },
      {
        "duration": 39,
        "start_time": "2021-12-14T14:27:08.886Z"
      },
      {
        "duration": 23,
        "start_time": "2021-12-14T14:27:08.928Z"
      },
      {
        "duration": 13,
        "start_time": "2021-12-14T14:27:08.954Z"
      },
      {
        "duration": 56,
        "start_time": "2021-12-14T14:27:08.974Z"
      },
      {
        "duration": 27,
        "start_time": "2021-12-14T14:27:09.036Z"
      },
      {
        "duration": 10,
        "start_time": "2021-12-14T14:27:09.065Z"
      },
      {
        "duration": 9,
        "start_time": "2021-12-14T14:27:09.077Z"
      },
      {
        "duration": 20,
        "start_time": "2021-12-14T14:27:09.088Z"
      },
      {
        "duration": 11,
        "start_time": "2021-12-14T14:27:09.123Z"
      },
      {
        "duration": 12,
        "start_time": "2021-12-14T14:27:09.138Z"
      },
      {
        "duration": 7,
        "start_time": "2021-12-14T14:27:09.153Z"
      },
      {
        "duration": 5508,
        "start_time": "2021-12-14T14:27:09.162Z"
      },
      {
        "duration": 20,
        "start_time": "2021-12-14T14:27:14.673Z"
      },
      {
        "duration": 12,
        "start_time": "2021-12-14T14:27:14.696Z"
      },
      {
        "duration": 484,
        "start_time": "2021-12-14T14:27:14.726Z"
      },
      {
        "duration": 34,
        "start_time": "2021-12-14T14:27:15.212Z"
      },
      {
        "duration": 5,
        "start_time": "2021-12-14T14:27:15.249Z"
      },
      {
        "duration": 40,
        "start_time": "2021-12-14T14:27:15.256Z"
      },
      {
        "duration": 9,
        "start_time": "2021-12-14T14:27:15.298Z"
      },
      {
        "duration": 15,
        "start_time": "2021-12-14T14:27:15.310Z"
      },
      {
        "duration": 23,
        "start_time": "2021-12-14T14:27:15.329Z"
      },
      {
        "duration": 10,
        "start_time": "2021-12-14T14:27:15.354Z"
      },
      {
        "duration": 8,
        "start_time": "2021-12-14T14:27:15.366Z"
      },
      {
        "duration": 21,
        "start_time": "2021-12-14T14:27:15.376Z"
      },
      {
        "duration": 34,
        "start_time": "2021-12-14T14:27:15.400Z"
      },
      {
        "duration": 31,
        "start_time": "2021-12-14T14:27:15.436Z"
      },
      {
        "duration": 12,
        "start_time": "2021-12-14T14:27:15.470Z"
      },
      {
        "duration": 95,
        "start_time": "2021-12-14T14:27:15.485Z"
      },
      {
        "duration": 4,
        "start_time": "2021-12-14T14:27:15.583Z"
      },
      {
        "duration": 21,
        "start_time": "2021-12-14T14:27:15.589Z"
      },
      {
        "duration": 14,
        "start_time": "2021-12-14T14:27:15.612Z"
      },
      {
        "duration": 22,
        "start_time": "2021-12-14T14:27:15.629Z"
      },
      {
        "duration": 44,
        "start_time": "2021-12-14T14:27:15.654Z"
      },
      {
        "duration": 24,
        "start_time": "2021-12-14T14:27:15.701Z"
      },
      {
        "duration": 40,
        "start_time": "2021-12-14T14:27:15.728Z"
      },
      {
        "duration": 12,
        "start_time": "2021-12-14T14:27:15.771Z"
      },
      {
        "duration": 40,
        "start_time": "2021-12-14T14:27:15.786Z"
      },
      {
        "duration": 16,
        "start_time": "2021-12-14T14:27:15.829Z"
      },
      {
        "duration": 45,
        "start_time": "2021-12-14T14:27:15.848Z"
      },
      {
        "duration": 35,
        "start_time": "2021-12-14T14:27:15.896Z"
      },
      {
        "duration": 23,
        "start_time": "2021-12-14T14:27:15.934Z"
      },
      {
        "duration": 28,
        "start_time": "2021-12-14T14:27:15.961Z"
      },
      {
        "duration": 36,
        "start_time": "2021-12-14T14:27:15.992Z"
      },
      {
        "duration": 13,
        "start_time": "2021-12-14T14:27:16.031Z"
      },
      {
        "duration": 5,
        "start_time": "2021-12-14T14:27:16.046Z"
      },
      {
        "duration": 21,
        "start_time": "2021-12-14T14:27:16.053Z"
      },
      {
        "duration": 781,
        "start_time": "2021-12-14T14:31:02.866Z"
      },
      {
        "duration": 62,
        "start_time": "2021-12-14T14:31:03.650Z"
      },
      {
        "duration": 39,
        "start_time": "2021-12-14T14:31:03.715Z"
      },
      {
        "duration": 16,
        "start_time": "2021-12-14T14:31:03.757Z"
      },
      {
        "duration": 12,
        "start_time": "2021-12-14T14:31:03.775Z"
      },
      {
        "duration": 25,
        "start_time": "2021-12-14T14:31:03.825Z"
      },
      {
        "duration": 4,
        "start_time": "2021-12-14T14:31:03.853Z"
      },
      {
        "duration": 5,
        "start_time": "2021-12-14T14:31:03.861Z"
      },
      {
        "duration": 81,
        "start_time": "2021-12-14T14:31:03.869Z"
      },
      {
        "duration": 10,
        "start_time": "2021-12-14T14:31:03.953Z"
      },
      {
        "duration": 769,
        "start_time": "2021-12-14T14:31:03.966Z"
      },
      {
        "duration": 27,
        "start_time": "2021-12-14T14:31:04.738Z"
      },
      {
        "duration": 7,
        "start_time": "2021-12-14T14:31:04.768Z"
      },
      {
        "duration": 7,
        "start_time": "2021-12-14T14:31:04.777Z"
      },
      {
        "duration": 50,
        "start_time": "2021-12-14T14:31:04.786Z"
      },
      {
        "duration": 21,
        "start_time": "2021-12-14T14:31:04.839Z"
      },
      {
        "duration": 18,
        "start_time": "2021-12-14T14:31:04.863Z"
      },
      {
        "duration": 47,
        "start_time": "2021-12-14T14:31:04.883Z"
      },
      {
        "duration": 31,
        "start_time": "2021-12-14T14:31:04.934Z"
      },
      {
        "duration": 19,
        "start_time": "2021-12-14T14:31:04.967Z"
      },
      {
        "duration": 51,
        "start_time": "2021-12-14T14:31:04.989Z"
      },
      {
        "duration": 17,
        "start_time": "2021-12-14T14:31:05.043Z"
      },
      {
        "duration": 17,
        "start_time": "2021-12-14T14:31:05.068Z"
      },
      {
        "duration": 50,
        "start_time": "2021-12-14T14:31:05.089Z"
      },
      {
        "duration": 8,
        "start_time": "2021-12-14T14:31:05.142Z"
      },
      {
        "duration": 10,
        "start_time": "2021-12-14T14:31:05.152Z"
      },
      {
        "duration": 22,
        "start_time": "2021-12-14T14:31:05.164Z"
      },
      {
        "duration": 9,
        "start_time": "2021-12-14T14:31:05.188Z"
      },
      {
        "duration": 35,
        "start_time": "2021-12-14T14:31:05.199Z"
      },
      {
        "duration": 8,
        "start_time": "2021-12-14T14:31:05.237Z"
      },
      {
        "duration": 5338,
        "start_time": "2021-12-14T14:31:05.248Z"
      },
      {
        "duration": 19,
        "start_time": "2021-12-14T14:31:10.589Z"
      },
      {
        "duration": 18,
        "start_time": "2021-12-14T14:31:10.623Z"
      },
      {
        "duration": 472,
        "start_time": "2021-12-14T14:31:10.644Z"
      },
      {
        "duration": 26,
        "start_time": "2021-12-14T14:31:11.119Z"
      },
      {
        "duration": 21,
        "start_time": "2021-12-14T14:31:11.148Z"
      },
      {
        "duration": 55,
        "start_time": "2021-12-14T14:31:11.172Z"
      },
      {
        "duration": 15,
        "start_time": "2021-12-14T14:31:11.235Z"
      },
      {
        "duration": 13,
        "start_time": "2021-12-14T14:31:11.252Z"
      },
      {
        "duration": 30,
        "start_time": "2021-12-14T14:31:11.266Z"
      },
      {
        "duration": 19,
        "start_time": "2021-12-14T14:31:11.299Z"
      },
      {
        "duration": 20,
        "start_time": "2021-12-14T14:31:11.324Z"
      },
      {
        "duration": 25,
        "start_time": "2021-12-14T14:31:11.348Z"
      },
      {
        "duration": 13,
        "start_time": "2021-12-14T14:31:11.376Z"
      },
      {
        "duration": 40,
        "start_time": "2021-12-14T14:31:11.392Z"
      },
      {
        "duration": 17,
        "start_time": "2021-12-14T14:31:11.436Z"
      },
      {
        "duration": 91,
        "start_time": "2021-12-14T14:31:11.456Z"
      },
      {
        "duration": 5,
        "start_time": "2021-12-14T14:31:11.550Z"
      },
      {
        "duration": 16,
        "start_time": "2021-12-14T14:31:11.558Z"
      },
      {
        "duration": 9,
        "start_time": "2021-12-14T14:31:11.577Z"
      },
      {
        "duration": 22,
        "start_time": "2021-12-14T14:31:11.589Z"
      },
      {
        "duration": 51,
        "start_time": "2021-12-14T14:31:11.613Z"
      },
      {
        "duration": 11,
        "start_time": "2021-12-14T14:31:11.666Z"
      },
      {
        "duration": 31,
        "start_time": "2021-12-14T14:31:11.680Z"
      },
      {
        "duration": 22,
        "start_time": "2021-12-14T14:31:11.713Z"
      },
      {
        "duration": 32,
        "start_time": "2021-12-14T14:31:11.737Z"
      },
      {
        "duration": 21,
        "start_time": "2021-12-14T14:31:11.771Z"
      },
      {
        "duration": 53,
        "start_time": "2021-12-14T14:31:11.795Z"
      },
      {
        "duration": 12,
        "start_time": "2021-12-14T14:31:11.850Z"
      },
      {
        "duration": 26,
        "start_time": "2021-12-14T14:31:11.865Z"
      },
      {
        "duration": 36,
        "start_time": "2021-12-14T14:31:11.894Z"
      },
      {
        "duration": 50,
        "start_time": "2021-12-14T14:31:11.934Z"
      },
      {
        "duration": 23,
        "start_time": "2021-12-14T14:31:11.986Z"
      },
      {
        "duration": 30,
        "start_time": "2021-12-14T14:31:12.011Z"
      },
      {
        "duration": 32,
        "start_time": "2021-12-14T14:31:12.044Z"
      },
      {
        "duration": 788,
        "start_time": "2021-12-15T11:42:19.960Z"
      },
      {
        "duration": 65,
        "start_time": "2021-12-15T11:42:20.751Z"
      },
      {
        "duration": 42,
        "start_time": "2021-12-15T11:42:20.823Z"
      },
      {
        "duration": 22,
        "start_time": "2021-12-15T11:42:20.867Z"
      },
      {
        "duration": 40,
        "start_time": "2021-12-15T11:42:20.892Z"
      },
      {
        "duration": 28,
        "start_time": "2021-12-15T11:42:20.935Z"
      },
      {
        "duration": 5,
        "start_time": "2021-12-15T11:42:20.965Z"
      },
      {
        "duration": 21,
        "start_time": "2021-12-15T11:42:20.973Z"
      },
      {
        "duration": 43,
        "start_time": "2021-12-15T11:42:20.998Z"
      },
      {
        "duration": 14,
        "start_time": "2021-12-15T11:42:21.044Z"
      },
      {
        "duration": 709,
        "start_time": "2021-12-15T11:42:21.061Z"
      },
      {
        "duration": 27,
        "start_time": "2021-12-15T11:42:21.772Z"
      },
      {
        "duration": 22,
        "start_time": "2021-12-15T11:42:21.802Z"
      },
      {
        "duration": 20,
        "start_time": "2021-12-15T11:42:21.827Z"
      },
      {
        "duration": 29,
        "start_time": "2021-12-15T11:42:21.850Z"
      },
      {
        "duration": 24,
        "start_time": "2021-12-15T11:42:21.882Z"
      },
      {
        "duration": 23,
        "start_time": "2021-12-15T11:42:21.909Z"
      },
      {
        "duration": 26,
        "start_time": "2021-12-15T11:42:21.935Z"
      },
      {
        "duration": 33,
        "start_time": "2021-12-15T11:42:21.964Z"
      },
      {
        "duration": 31,
        "start_time": "2021-12-15T11:42:21.999Z"
      },
      {
        "duration": 42,
        "start_time": "2021-12-15T11:42:22.032Z"
      },
      {
        "duration": 20,
        "start_time": "2021-12-15T11:42:22.077Z"
      },
      {
        "duration": 43,
        "start_time": "2021-12-15T11:42:22.099Z"
      },
      {
        "duration": 31,
        "start_time": "2021-12-15T11:42:22.144Z"
      },
      {
        "duration": 29,
        "start_time": "2021-12-15T11:42:22.177Z"
      },
      {
        "duration": 19,
        "start_time": "2021-12-15T11:42:22.208Z"
      },
      {
        "duration": 36,
        "start_time": "2021-12-15T11:42:22.233Z"
      },
      {
        "duration": 18,
        "start_time": "2021-12-15T11:42:22.272Z"
      },
      {
        "duration": 13,
        "start_time": "2021-12-15T11:42:22.293Z"
      },
      {
        "duration": 26,
        "start_time": "2021-12-15T11:42:22.308Z"
      },
      {
        "duration": 5259,
        "start_time": "2021-12-15T11:42:22.337Z"
      },
      {
        "duration": 33,
        "start_time": "2021-12-15T11:42:27.599Z"
      },
      {
        "duration": 15,
        "start_time": "2021-12-15T11:42:27.634Z"
      },
      {
        "duration": 844,
        "start_time": "2021-12-15T11:42:27.651Z"
      },
      {
        "duration": 33,
        "start_time": "2021-12-15T11:42:28.498Z"
      },
      {
        "duration": 7,
        "start_time": "2021-12-15T11:42:28.535Z"
      },
      {
        "duration": 33,
        "start_time": "2021-12-15T11:42:28.545Z"
      },
      {
        "duration": 12,
        "start_time": "2021-12-15T11:42:28.581Z"
      },
      {
        "duration": 35,
        "start_time": "2021-12-15T11:42:28.595Z"
      },
      {
        "duration": 17,
        "start_time": "2021-12-15T11:42:28.633Z"
      },
      {
        "duration": 13,
        "start_time": "2021-12-15T11:42:28.652Z"
      },
      {
        "duration": 7,
        "start_time": "2021-12-15T11:42:28.668Z"
      },
      {
        "duration": 46,
        "start_time": "2021-12-15T11:42:28.677Z"
      },
      {
        "duration": 10,
        "start_time": "2021-12-15T11:42:28.726Z"
      },
      {
        "duration": 27,
        "start_time": "2021-12-15T11:42:28.739Z"
      },
      {
        "duration": 12,
        "start_time": "2021-12-15T11:42:28.769Z"
      },
      {
        "duration": 83,
        "start_time": "2021-12-15T11:42:28.783Z"
      },
      {
        "duration": 5,
        "start_time": "2021-12-15T11:42:28.868Z"
      },
      {
        "duration": 13,
        "start_time": "2021-12-15T11:42:28.876Z"
      },
      {
        "duration": 32,
        "start_time": "2021-12-15T11:42:28.891Z"
      },
      {
        "duration": 11,
        "start_time": "2021-12-15T11:42:28.925Z"
      },
      {
        "duration": 29,
        "start_time": "2021-12-15T11:42:28.938Z"
      },
      {
        "duration": 11,
        "start_time": "2021-12-15T11:42:28.970Z"
      },
      {
        "duration": 54,
        "start_time": "2021-12-15T11:42:28.984Z"
      },
      {
        "duration": 10,
        "start_time": "2021-12-15T11:42:29.041Z"
      },
      {
        "duration": 14,
        "start_time": "2021-12-15T11:42:29.053Z"
      },
      {
        "duration": 21,
        "start_time": "2021-12-15T11:42:29.069Z"
      },
      {
        "duration": 61,
        "start_time": "2021-12-15T11:42:29.093Z"
      },
      {
        "duration": 13,
        "start_time": "2021-12-15T11:42:29.157Z"
      },
      {
        "duration": 7,
        "start_time": "2021-12-15T11:42:29.173Z"
      },
      {
        "duration": 42,
        "start_time": "2021-12-15T11:42:29.184Z"
      },
      {
        "duration": 36,
        "start_time": "2021-12-15T11:42:29.229Z"
      },
      {
        "duration": 12,
        "start_time": "2021-12-15T11:42:29.268Z"
      },
      {
        "duration": 17,
        "start_time": "2021-12-15T11:42:29.283Z"
      },
      {
        "duration": 14,
        "start_time": "2021-12-15T11:42:29.324Z"
      }
    ],
    "kernelspec": {
      "display_name": "Python 3 (ipykernel)",
      "language": "python",
      "name": "python3"
    },
    "language_info": {
      "codemirror_mode": {
        "name": "ipython",
        "version": 3
      },
      "file_extension": ".py",
      "mimetype": "text/x-python",
      "name": "python",
      "nbconvert_exporter": "python",
      "pygments_lexer": "ipython3",
      "version": "3.9.5"
    },
    "toc": {
      "base_numbering": 1,
      "nav_menu": {
        "height": "149px",
        "width": "406px"
      },
      "number_sections": true,
      "sideBar": true,
      "skip_h1_title": true,
      "title_cell": "Содержание",
      "title_sidebar": "Contents",
      "toc_cell": true,
      "toc_position": {},
      "toc_section_display": true,
      "toc_window_display": true
    },
    "colab": {
      "provenance": []
    }
  },
  "nbformat": 4,
  "nbformat_minor": 0
}