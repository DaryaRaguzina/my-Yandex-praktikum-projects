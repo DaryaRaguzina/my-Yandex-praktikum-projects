{
  "cells": [
    {
      "cell_type": "markdown",
      "metadata": {
        "id": "qTc5k2lgFFl0"
      },
      "source": [
        "<h1>Содержание<span class=\"tocSkip\"></span></h1>\n"
      ]
    },
    {
      "cell_type": "markdown",
      "metadata": {
        "id": "acfdHcx-FFl1"
      },
      "source": [
        "# Определение перспективного тарифа для телеком-компании\n",
        "\n",
        "Вы аналитик компании «Мегалайн» — федерального оператора сотовой связи. Клиентам предлагают два тарифных плана: «Смарт» и «Ультра». Чтобы скорректировать рекламный бюджет, коммерческий департамент хочет понять, какой тариф приносит больше денег.\n",
        "Вам предстоит сделать предварительный анализ тарифов на небольшой выборке клиентов. В вашем распоряжении данные 500 пользователей «Мегалайна»: кто они, откуда, каким тарифом пользуются, сколько звонков и сообщений каждый отправил за 2018 год. Нужно проанализировать поведение клиентов и сделать вывод — какой тариф лучше.\n",
        "\n",
        "Примечание:\n",
        "«Мегалайн» всегда округляет секунды до минут, а мегабайты — до гигабайт. Каждый звонок округляется отдельно: даже если он длился всего 1 секунду, будет засчитан как 1 минута.\n",
        "Для веб-трафика отдельные сессии не считаются. Вместо этого общая сумма за месяц округляется в бо́льшую сторону. Если абонент использует 1025 мегабайт в этом месяце, с него возьмут плату за 2 гигабайта.\n",
        "\n",
        "**Цель исследования**\n",
        "\n",
        "Проанализировать поведение клиентов и сделать вывод — какой тариф лучше.\n",
        "\n",
        "Проверить гипотезы:\n",
        "\n",
        "средняя выручка пользователей тарифов «Ультра» и «Смарт» различаются;\n",
        "\n",
        "средняя выручка пользователей из Москвы отличается от выручки пользователей из других регионов.\n",
        "\n",
        "**Описание данных**\n",
        "\n",
        "**Таблица users (информация о пользователях):**\n",
        "\n",
        "user_id — уникальный идентификатор пользователя\n",
        "\n",
        "first_name — имя пользователя\n",
        "\n",
        "last_name — фамилия пользователя\n",
        "\n",
        "age — возраст пользователя (годы)\n",
        "\n",
        "reg_date — дата подключения тарифа (день, месяц, год)\n",
        "\n",
        "churn_date — дата прекращения пользования тарифом (если значение пропущено, то тариф ещё действовал \n",
        "на момент выгрузки данных)\n",
        "\n",
        "city — город проживания пользователя\n",
        "\n",
        "tarif — название тарифного плана\n",
        "\n",
        "**Таблица calls (информация о звонках):**\n",
        "\n",
        "id — уникальный номер звонка\n",
        "\n",
        "call_date — дата звонка\n",
        "\n",
        "duration — длительность звонка в минутах\n",
        "\n",
        "user_id — идентификатор пользователя, сделавшего звонок\n",
        "\n",
        "\n",
        "**Таблица messages (информация о сообщениях):**\n",
        "\n",
        "id — уникальный номер сообщения\n",
        "\n",
        "message_date — дата сообщения\n",
        "\n",
        "user_id — идентификатор пользователя, отправившего сообщение\n",
        "\n",
        "**Таблица internet (информация об интернет-сессиях):**\n",
        "\n",
        "id — уникальный номер сессии\n",
        "\n",
        "mb_used — объём потраченного за сессию интернет-трафика (в мегабайтах)\n",
        "\n",
        "session_date — дата интернет-сессии\n",
        "\n",
        "user_id — идентификатор пользователя\n",
        "\n",
        "**Таблица tariffs (информация о тарифах):**\n",
        "\n",
        "tariff_name — название тарифа\n",
        "\n",
        "rub_monthly_fee — ежемесячная абонентская плата в рублях\n",
        "\n",
        "minutes_included — количество минут разговора в месяц, включённых в абонентскую плату\n",
        "\n",
        "messages_included — количество сообщений в месяц, включённых в абонентскую плату\n",
        "\n",
        "mb_per_month_included — объём интернет-трафика, включённого в абонентскую плату (в мегабайтах)\n",
        "\n",
        "rub_per_minute — стоимость минуты разговора сверх тарифного пакета (например, если в тарифе 100 \n",
        "минут разговора в месяц, то со 101 минуты будет взиматься плата)\n",
        "\n",
        "rub_per_message — стоимость отправки сообщения сверх тарифного пакета\n",
        "\n",
        "rub_per_gb — стоимость дополнительного гигабайта интернет-трафика сверх тарифного пакета (1 гигабайт = 1024 мегабайта)"
      ]
    },
    {
      "cell_type": "markdown",
      "metadata": {
        "id": "jM6vIIFvFFl2"
      },
      "source": [
        "## Изучение данных из файла"
      ]
    },
    {
      "cell_type": "code",
      "execution_count": null,
      "metadata": {
        "id": "vqAMjYriFFl3"
      },
      "outputs": [],
      "source": [
        "import pandas as pd\n",
        "from pymystem3 import Mystem\n",
        "m = Mystem()\n",
        "from collections import Counter\n",
        "import matplotlib.pyplot as plt\n",
        "from math import factorial\n",
        "from scipy import stats as st\n",
        "import numpy as np\n",
        "import seaborn"
      ]
    },
    {
      "cell_type": "code",
      "execution_count": null,
      "metadata": {
        "id": "R4LDDjegFFl5",
        "outputId": "8de90647-bb81-4c4b-a922-d46613108cbf"
      },
      "outputs": [
        {
          "data": {
            "text/html": [
              "<div>\n",
              "<style scoped>\n",
              "    .dataframe tbody tr th:only-of-type {\n",
              "        vertical-align: middle;\n",
              "    }\n",
              "\n",
              "    .dataframe tbody tr th {\n",
              "        vertical-align: top;\n",
              "    }\n",
              "\n",
              "    .dataframe thead th {\n",
              "        text-align: right;\n",
              "    }\n",
              "</style>\n",
              "<table border=\"1\" class=\"dataframe\">\n",
              "  <thead>\n",
              "    <tr style=\"text-align: right;\">\n",
              "      <th></th>\n",
              "      <th>id</th>\n",
              "      <th>call_date</th>\n",
              "      <th>duration</th>\n",
              "      <th>user_id</th>\n",
              "    </tr>\n",
              "  </thead>\n",
              "  <tbody>\n",
              "    <tr>\n",
              "      <td>0</td>\n",
              "      <td>1000_0</td>\n",
              "      <td>2018-07-25</td>\n",
              "      <td>0.00</td>\n",
              "      <td>1000</td>\n",
              "    </tr>\n",
              "    <tr>\n",
              "      <td>1</td>\n",
              "      <td>1000_1</td>\n",
              "      <td>2018-08-17</td>\n",
              "      <td>0.00</td>\n",
              "      <td>1000</td>\n",
              "    </tr>\n",
              "    <tr>\n",
              "      <td>2</td>\n",
              "      <td>1000_2</td>\n",
              "      <td>2018-06-11</td>\n",
              "      <td>2.85</td>\n",
              "      <td>1000</td>\n",
              "    </tr>\n",
              "    <tr>\n",
              "      <td>3</td>\n",
              "      <td>1000_3</td>\n",
              "      <td>2018-09-21</td>\n",
              "      <td>13.80</td>\n",
              "      <td>1000</td>\n",
              "    </tr>\n",
              "    <tr>\n",
              "      <td>4</td>\n",
              "      <td>1000_4</td>\n",
              "      <td>2018-12-15</td>\n",
              "      <td>5.18</td>\n",
              "      <td>1000</td>\n",
              "    </tr>\n",
              "  </tbody>\n",
              "</table>\n",
              "</div>"
            ],
            "text/plain": [
              "       id   call_date  duration  user_id\n",
              "0  1000_0  2018-07-25      0.00     1000\n",
              "1  1000_1  2018-08-17      0.00     1000\n",
              "2  1000_2  2018-06-11      2.85     1000\n",
              "3  1000_3  2018-09-21     13.80     1000\n",
              "4  1000_4  2018-12-15      5.18     1000"
            ]
          },
          "execution_count": 2,
          "metadata": {},
          "output_type": "execute_result"
        }
      ],
      "source": [
        "calls = pd.read_csv('/datasets/calls.csv')\n",
        "calls.head()"
      ]
    },
    {
      "cell_type": "code",
      "execution_count": null,
      "metadata": {
        "id": "PV-l_gNOFFl7",
        "outputId": "7edb46e4-134b-4ebf-b3d3-db7a5ec443b5"
      },
      "outputs": [
        {
          "name": "stdout",
          "output_type": "stream",
          "text": [
            "<class 'pandas.core.frame.DataFrame'>\n",
            "RangeIndex: 202607 entries, 0 to 202606\n",
            "Data columns (total 4 columns):\n",
            "id           202607 non-null object\n",
            "call_date    202607 non-null object\n",
            "duration     202607 non-null float64\n",
            "user_id      202607 non-null int64\n",
            "dtypes: float64(1), int64(1), object(2)\n",
            "memory usage: 6.2+ MB\n"
          ]
        }
      ],
      "source": [
        "calls.info()"
      ]
    },
    {
      "cell_type": "markdown",
      "metadata": {
        "id": "wk4990ckFFl7"
      },
      "source": [
        "Нужно в столбце call_date заменить тип данных на date_time"
      ]
    },
    {
      "cell_type": "code",
      "execution_count": null,
      "metadata": {
        "id": "dsl2gDeTFFl8",
        "outputId": "766d0252-93e2-4fcb-ba04-eb2906ae3be3"
      },
      "outputs": [
        {
          "data": {
            "text/html": [
              "<div>\n",
              "<style scoped>\n",
              "    .dataframe tbody tr th:only-of-type {\n",
              "        vertical-align: middle;\n",
              "    }\n",
              "\n",
              "    .dataframe tbody tr th {\n",
              "        vertical-align: top;\n",
              "    }\n",
              "\n",
              "    .dataframe thead th {\n",
              "        text-align: right;\n",
              "    }\n",
              "</style>\n",
              "<table border=\"1\" class=\"dataframe\">\n",
              "  <thead>\n",
              "    <tr style=\"text-align: right;\">\n",
              "      <th></th>\n",
              "      <th>id</th>\n",
              "      <th>mb_used</th>\n",
              "      <th>session_date</th>\n",
              "      <th>user_id</th>\n",
              "    </tr>\n",
              "  </thead>\n",
              "  <tbody>\n",
              "    <tr>\n",
              "      <td>0</td>\n",
              "      <td>1000_0</td>\n",
              "      <td>112.95</td>\n",
              "      <td>2018-11-25</td>\n",
              "      <td>1000</td>\n",
              "    </tr>\n",
              "    <tr>\n",
              "      <td>1</td>\n",
              "      <td>1000_1</td>\n",
              "      <td>1052.81</td>\n",
              "      <td>2018-09-07</td>\n",
              "      <td>1000</td>\n",
              "    </tr>\n",
              "    <tr>\n",
              "      <td>2</td>\n",
              "      <td>1000_2</td>\n",
              "      <td>1197.26</td>\n",
              "      <td>2018-06-25</td>\n",
              "      <td>1000</td>\n",
              "    </tr>\n",
              "    <tr>\n",
              "      <td>3</td>\n",
              "      <td>1000_3</td>\n",
              "      <td>550.27</td>\n",
              "      <td>2018-08-22</td>\n",
              "      <td>1000</td>\n",
              "    </tr>\n",
              "    <tr>\n",
              "      <td>4</td>\n",
              "      <td>1000_4</td>\n",
              "      <td>302.56</td>\n",
              "      <td>2018-09-24</td>\n",
              "      <td>1000</td>\n",
              "    </tr>\n",
              "  </tbody>\n",
              "</table>\n",
              "</div>"
            ],
            "text/plain": [
              "       id  mb_used session_date  user_id\n",
              "0  1000_0   112.95   2018-11-25     1000\n",
              "1  1000_1  1052.81   2018-09-07     1000\n",
              "2  1000_2  1197.26   2018-06-25     1000\n",
              "3  1000_3   550.27   2018-08-22     1000\n",
              "4  1000_4   302.56   2018-09-24     1000"
            ]
          },
          "execution_count": 4,
          "metadata": {},
          "output_type": "execute_result"
        }
      ],
      "source": [
        "internet = pd.read_csv('/datasets/internet.csv', index_col=0 )\n",
        "internet.head()"
      ]
    },
    {
      "cell_type": "markdown",
      "metadata": {
        "id": "Qog8zUzoFFl9"
      },
      "source": [
        "в таблице internet находится столбец Unnamed: 0, отражающий индексацию. чтобы использовать индекс, укажем аргумент index_col=0"
      ]
    },
    {
      "cell_type": "code",
      "execution_count": null,
      "metadata": {
        "id": "0oRNvQ0AFFl-",
        "outputId": "92465b27-0636-45d1-f07b-c0819f595af7"
      },
      "outputs": [
        {
          "name": "stdout",
          "output_type": "stream",
          "text": [
            "<class 'pandas.core.frame.DataFrame'>\n",
            "Int64Index: 149396 entries, 0 to 149395\n",
            "Data columns (total 4 columns):\n",
            "id              149396 non-null object\n",
            "mb_used         149396 non-null float64\n",
            "session_date    149396 non-null object\n",
            "user_id         149396 non-null int64\n",
            "dtypes: float64(1), int64(1), object(2)\n",
            "memory usage: 5.7+ MB\n"
          ]
        }
      ],
      "source": [
        "internet.info()"
      ]
    },
    {
      "cell_type": "markdown",
      "metadata": {
        "id": "N2tvADi8FFl_"
      },
      "source": [
        "Заменить тип данных в столбце session_date"
      ]
    },
    {
      "cell_type": "code",
      "execution_count": null,
      "metadata": {
        "id": "WdaS7CHhFFl_",
        "outputId": "5edad357-6f19-4d4f-bb0c-efe00381e569"
      },
      "outputs": [
        {
          "data": {
            "text/html": [
              "<div>\n",
              "<style scoped>\n",
              "    .dataframe tbody tr th:only-of-type {\n",
              "        vertical-align: middle;\n",
              "    }\n",
              "\n",
              "    .dataframe tbody tr th {\n",
              "        vertical-align: top;\n",
              "    }\n",
              "\n",
              "    .dataframe thead th {\n",
              "        text-align: right;\n",
              "    }\n",
              "</style>\n",
              "<table border=\"1\" class=\"dataframe\">\n",
              "  <thead>\n",
              "    <tr style=\"text-align: right;\">\n",
              "      <th></th>\n",
              "      <th>id</th>\n",
              "      <th>message_date</th>\n",
              "      <th>user_id</th>\n",
              "    </tr>\n",
              "  </thead>\n",
              "  <tbody>\n",
              "    <tr>\n",
              "      <td>0</td>\n",
              "      <td>1000_0</td>\n",
              "      <td>2018-06-27</td>\n",
              "      <td>1000</td>\n",
              "    </tr>\n",
              "    <tr>\n",
              "      <td>1</td>\n",
              "      <td>1000_1</td>\n",
              "      <td>2018-10-08</td>\n",
              "      <td>1000</td>\n",
              "    </tr>\n",
              "    <tr>\n",
              "      <td>2</td>\n",
              "      <td>1000_2</td>\n",
              "      <td>2018-08-04</td>\n",
              "      <td>1000</td>\n",
              "    </tr>\n",
              "    <tr>\n",
              "      <td>3</td>\n",
              "      <td>1000_3</td>\n",
              "      <td>2018-06-16</td>\n",
              "      <td>1000</td>\n",
              "    </tr>\n",
              "    <tr>\n",
              "      <td>4</td>\n",
              "      <td>1000_4</td>\n",
              "      <td>2018-12-05</td>\n",
              "      <td>1000</td>\n",
              "    </tr>\n",
              "  </tbody>\n",
              "</table>\n",
              "</div>"
            ],
            "text/plain": [
              "       id message_date  user_id\n",
              "0  1000_0   2018-06-27     1000\n",
              "1  1000_1   2018-10-08     1000\n",
              "2  1000_2   2018-08-04     1000\n",
              "3  1000_3   2018-06-16     1000\n",
              "4  1000_4   2018-12-05     1000"
            ]
          },
          "execution_count": 6,
          "metadata": {},
          "output_type": "execute_result"
        }
      ],
      "source": [
        "messages = pd.read_csv('/datasets/messages.csv')\n",
        "messages.head()"
      ]
    },
    {
      "cell_type": "code",
      "execution_count": null,
      "metadata": {
        "id": "OeLGL2x5FFmA",
        "outputId": "38cd7c0e-f942-456f-b2b8-1e5fbf9201b8"
      },
      "outputs": [
        {
          "name": "stdout",
          "output_type": "stream",
          "text": [
            "<class 'pandas.core.frame.DataFrame'>\n",
            "RangeIndex: 123036 entries, 0 to 123035\n",
            "Data columns (total 3 columns):\n",
            "id              123036 non-null object\n",
            "message_date    123036 non-null object\n",
            "user_id         123036 non-null int64\n",
            "dtypes: int64(1), object(2)\n",
            "memory usage: 2.8+ MB\n"
          ]
        }
      ],
      "source": [
        "messages.info()"
      ]
    },
    {
      "cell_type": "code",
      "execution_count": null,
      "metadata": {
        "id": "xLkfSykdFFmA",
        "outputId": "6dffef2c-25a3-4b35-aeda-f5a9fcb12fee"
      },
      "outputs": [
        {
          "data": {
            "text/html": [
              "<div>\n",
              "<style scoped>\n",
              "    .dataframe tbody tr th:only-of-type {\n",
              "        vertical-align: middle;\n",
              "    }\n",
              "\n",
              "    .dataframe tbody tr th {\n",
              "        vertical-align: top;\n",
              "    }\n",
              "\n",
              "    .dataframe thead th {\n",
              "        text-align: right;\n",
              "    }\n",
              "</style>\n",
              "<table border=\"1\" class=\"dataframe\">\n",
              "  <thead>\n",
              "    <tr style=\"text-align: right;\">\n",
              "      <th></th>\n",
              "      <th>messages_included</th>\n",
              "      <th>mb_per_month_included</th>\n",
              "      <th>minutes_included</th>\n",
              "      <th>rub_monthly_fee</th>\n",
              "      <th>rub_per_gb</th>\n",
              "      <th>rub_per_message</th>\n",
              "      <th>rub_per_minute</th>\n",
              "      <th>tariff_name</th>\n",
              "    </tr>\n",
              "  </thead>\n",
              "  <tbody>\n",
              "    <tr>\n",
              "      <td>0</td>\n",
              "      <td>50</td>\n",
              "      <td>15360</td>\n",
              "      <td>500</td>\n",
              "      <td>550</td>\n",
              "      <td>200</td>\n",
              "      <td>3</td>\n",
              "      <td>3</td>\n",
              "      <td>smart</td>\n",
              "    </tr>\n",
              "    <tr>\n",
              "      <td>1</td>\n",
              "      <td>1000</td>\n",
              "      <td>30720</td>\n",
              "      <td>3000</td>\n",
              "      <td>1950</td>\n",
              "      <td>150</td>\n",
              "      <td>1</td>\n",
              "      <td>1</td>\n",
              "      <td>ultra</td>\n",
              "    </tr>\n",
              "  </tbody>\n",
              "</table>\n",
              "</div>"
            ],
            "text/plain": [
              "   messages_included  mb_per_month_included  minutes_included  \\\n",
              "0                 50                  15360               500   \n",
              "1               1000                  30720              3000   \n",
              "\n",
              "   rub_monthly_fee  rub_per_gb  rub_per_message  rub_per_minute tariff_name  \n",
              "0              550         200                3               3       smart  \n",
              "1             1950         150                1               1       ultra  "
            ]
          },
          "execution_count": 8,
          "metadata": {},
          "output_type": "execute_result"
        }
      ],
      "source": [
        "tariffs = pd.read_csv('/datasets/tariffs.csv')\n",
        "tariffs.head()"
      ]
    },
    {
      "cell_type": "code",
      "execution_count": null,
      "metadata": {
        "id": "Erdx9RrmFFmC",
        "outputId": "8fa34f91-9ab5-4c62-a265-f99a4a854f31"
      },
      "outputs": [
        {
          "name": "stdout",
          "output_type": "stream",
          "text": [
            "<class 'pandas.core.frame.DataFrame'>\n",
            "RangeIndex: 2 entries, 0 to 1\n",
            "Data columns (total 8 columns):\n",
            "messages_included        2 non-null int64\n",
            "mb_per_month_included    2 non-null int64\n",
            "minutes_included         2 non-null int64\n",
            "rub_monthly_fee          2 non-null int64\n",
            "rub_per_gb               2 non-null int64\n",
            "rub_per_message          2 non-null int64\n",
            "rub_per_minute           2 non-null int64\n",
            "tariff_name              2 non-null object\n",
            "dtypes: int64(7), object(1)\n",
            "memory usage: 256.0+ bytes\n"
          ]
        }
      ],
      "source": [
        "tariffs.info()"
      ]
    },
    {
      "cell_type": "code",
      "execution_count": null,
      "metadata": {
        "id": "1EuFLiP_FFmD",
        "outputId": "cfd3c458-7321-4210-ee5d-e469ff578d0d"
      },
      "outputs": [
        {
          "data": {
            "text/html": [
              "<div>\n",
              "<style scoped>\n",
              "    .dataframe tbody tr th:only-of-type {\n",
              "        vertical-align: middle;\n",
              "    }\n",
              "\n",
              "    .dataframe tbody tr th {\n",
              "        vertical-align: top;\n",
              "    }\n",
              "\n",
              "    .dataframe thead th {\n",
              "        text-align: right;\n",
              "    }\n",
              "</style>\n",
              "<table border=\"1\" class=\"dataframe\">\n",
              "  <thead>\n",
              "    <tr style=\"text-align: right;\">\n",
              "      <th></th>\n",
              "      <th>user_id</th>\n",
              "      <th>age</th>\n",
              "      <th>churn_date</th>\n",
              "      <th>city</th>\n",
              "      <th>first_name</th>\n",
              "      <th>last_name</th>\n",
              "      <th>reg_date</th>\n",
              "      <th>tariff</th>\n",
              "    </tr>\n",
              "  </thead>\n",
              "  <tbody>\n",
              "    <tr>\n",
              "      <td>495</td>\n",
              "      <td>1495</td>\n",
              "      <td>65</td>\n",
              "      <td>NaN</td>\n",
              "      <td>Иркутск</td>\n",
              "      <td>Авксентий</td>\n",
              "      <td>Фокин</td>\n",
              "      <td>2018-08-28</td>\n",
              "      <td>ultra</td>\n",
              "    </tr>\n",
              "    <tr>\n",
              "      <td>496</td>\n",
              "      <td>1496</td>\n",
              "      <td>36</td>\n",
              "      <td>NaN</td>\n",
              "      <td>Вологда</td>\n",
              "      <td>Трифон</td>\n",
              "      <td>Блохин</td>\n",
              "      <td>2018-01-27</td>\n",
              "      <td>smart</td>\n",
              "    </tr>\n",
              "    <tr>\n",
              "      <td>497</td>\n",
              "      <td>1497</td>\n",
              "      <td>32</td>\n",
              "      <td>NaN</td>\n",
              "      <td>Челябинск</td>\n",
              "      <td>Каролина</td>\n",
              "      <td>Агеева</td>\n",
              "      <td>2018-10-09</td>\n",
              "      <td>smart</td>\n",
              "    </tr>\n",
              "    <tr>\n",
              "      <td>498</td>\n",
              "      <td>1498</td>\n",
              "      <td>68</td>\n",
              "      <td>2018-10-25</td>\n",
              "      <td>Владикавказ</td>\n",
              "      <td>Всеволод</td>\n",
              "      <td>Акимчин</td>\n",
              "      <td>2018-07-19</td>\n",
              "      <td>smart</td>\n",
              "    </tr>\n",
              "    <tr>\n",
              "      <td>499</td>\n",
              "      <td>1499</td>\n",
              "      <td>35</td>\n",
              "      <td>NaN</td>\n",
              "      <td>Пермь</td>\n",
              "      <td>Гектор</td>\n",
              "      <td>Корнилов</td>\n",
              "      <td>2018-09-27</td>\n",
              "      <td>smart</td>\n",
              "    </tr>\n",
              "  </tbody>\n",
              "</table>\n",
              "</div>"
            ],
            "text/plain": [
              "     user_id  age  churn_date         city first_name last_name    reg_date  \\\n",
              "495     1495   65         NaN      Иркутск  Авксентий     Фокин  2018-08-28   \n",
              "496     1496   36         NaN      Вологда     Трифон    Блохин  2018-01-27   \n",
              "497     1497   32         NaN    Челябинск   Каролина    Агеева  2018-10-09   \n",
              "498     1498   68  2018-10-25  Владикавказ   Всеволод   Акимчин  2018-07-19   \n",
              "499     1499   35         NaN        Пермь     Гектор  Корнилов  2018-09-27   \n",
              "\n",
              "    tariff  \n",
              "495  ultra  \n",
              "496  smart  \n",
              "497  smart  \n",
              "498  smart  \n",
              "499  smart  "
            ]
          },
          "execution_count": 10,
          "metadata": {},
          "output_type": "execute_result"
        }
      ],
      "source": [
        "users = pd.read_csv('/datasets/users.csv')\n",
        "users.tail()"
      ]
    },
    {
      "cell_type": "code",
      "execution_count": null,
      "metadata": {
        "id": "AEj2BWXGFFmE",
        "outputId": "ce1934a3-346c-4ea8-f187-f91485a13c80"
      },
      "outputs": [
        {
          "name": "stdout",
          "output_type": "stream",
          "text": [
            "<class 'pandas.core.frame.DataFrame'>\n",
            "RangeIndex: 500 entries, 0 to 499\n",
            "Data columns (total 8 columns):\n",
            "user_id       500 non-null int64\n",
            "age           500 non-null int64\n",
            "churn_date    38 non-null object\n",
            "city          500 non-null object\n",
            "first_name    500 non-null object\n",
            "last_name     500 non-null object\n",
            "reg_date      500 non-null object\n",
            "tariff        500 non-null object\n",
            "dtypes: int64(2), object(6)\n",
            "memory usage: 31.4+ KB\n"
          ]
        }
      ],
      "source": [
        "users.info()"
      ]
    },
    {
      "cell_type": "code",
      "execution_count": null,
      "metadata": {
        "id": "VtfgDoAiFFmF",
        "outputId": "16d0c919-4ae2-4041-ca8a-d3527e98a607"
      },
      "outputs": [
        {
          "data": {
            "text/html": [
              "<div>\n",
              "<style scoped>\n",
              "    .dataframe tbody tr th:only-of-type {\n",
              "        vertical-align: middle;\n",
              "    }\n",
              "\n",
              "    .dataframe tbody tr th {\n",
              "        vertical-align: top;\n",
              "    }\n",
              "\n",
              "    .dataframe thead th {\n",
              "        text-align: right;\n",
              "    }\n",
              "</style>\n",
              "<table border=\"1\" class=\"dataframe\">\n",
              "  <thead>\n",
              "    <tr style=\"text-align: right;\">\n",
              "      <th></th>\n",
              "      <th>user_id</th>\n",
              "      <th>age</th>\n",
              "    </tr>\n",
              "  </thead>\n",
              "  <tbody>\n",
              "    <tr>\n",
              "      <td>count</td>\n",
              "      <td>500.0</td>\n",
              "      <td>500.0</td>\n",
              "    </tr>\n",
              "    <tr>\n",
              "      <td>mean</td>\n",
              "      <td>1250.0</td>\n",
              "      <td>47.0</td>\n",
              "    </tr>\n",
              "    <tr>\n",
              "      <td>std</td>\n",
              "      <td>144.0</td>\n",
              "      <td>17.0</td>\n",
              "    </tr>\n",
              "    <tr>\n",
              "      <td>min</td>\n",
              "      <td>1000.0</td>\n",
              "      <td>18.0</td>\n",
              "    </tr>\n",
              "    <tr>\n",
              "      <td>25%</td>\n",
              "      <td>1125.0</td>\n",
              "      <td>32.0</td>\n",
              "    </tr>\n",
              "    <tr>\n",
              "      <td>50%</td>\n",
              "      <td>1250.0</td>\n",
              "      <td>46.0</td>\n",
              "    </tr>\n",
              "    <tr>\n",
              "      <td>75%</td>\n",
              "      <td>1374.0</td>\n",
              "      <td>62.0</td>\n",
              "    </tr>\n",
              "    <tr>\n",
              "      <td>max</td>\n",
              "      <td>1499.0</td>\n",
              "      <td>75.0</td>\n",
              "    </tr>\n",
              "  </tbody>\n",
              "</table>\n",
              "</div>"
            ],
            "text/plain": [
              "       user_id    age\n",
              "count    500.0  500.0\n",
              "mean    1250.0   47.0\n",
              "std      144.0   17.0\n",
              "min     1000.0   18.0\n",
              "25%     1125.0   32.0\n",
              "50%     1250.0   46.0\n",
              "75%     1374.0   62.0\n",
              "max     1499.0   75.0"
            ]
          },
          "execution_count": 12,
          "metadata": {},
          "output_type": "execute_result"
        }
      ],
      "source": [
        "users.describe().round()"
      ]
    },
    {
      "cell_type": "markdown",
      "metadata": {
        "id": "BXOiynu0FFmF"
      },
      "source": [
        "В столбце reg_date — дата подключения тарифа (день, месяц, год) нужно заменить тип данных на date_time.\n",
        "\n",
        "В столбце churn_date — дата прекращения пользования тарифом (если значение пропущено, то тариф ещё действовал на момент выгрузки данных) довольно много пропущенных значений.\n",
        "\n",
        "Посмотрели все датасеты. Теперь заменим типы данных."
      ]
    },
    {
      "cell_type": "markdown",
      "metadata": {
        "id": "ke8tpJ99FFmG"
      },
      "source": [
        "## Преподготовка данных"
      ]
    },
    {
      "cell_type": "markdown",
      "metadata": {
        "id": "dV2qyZ2-FFmG"
      },
      "source": [
        "Посчитаем доли пропусков в таблице пользователи."
      ]
    },
    {
      "cell_type": "code",
      "execution_count": null,
      "metadata": {
        "id": "MLwZhu-MFFmH",
        "outputId": "7fa635e5-d99f-4fd2-9d13-fcfbe3e3b97b"
      },
      "outputs": [
        {
          "data": {
            "text/plain": [
              "user_id        0%\n",
              "age            0%\n",
              "churn_date    92%\n",
              "city           0%\n",
              "first_name     0%\n",
              "last_name      0%\n",
              "reg_date       0%\n",
              "tariff         0%\n",
              "dtype: object"
            ]
          },
          "execution_count": 13,
          "metadata": {},
          "output_type": "execute_result"
        }
      ],
      "source": [
        "users.isna().mean().apply('{:.0%}'.format)"
      ]
    },
    {
      "cell_type": "markdown",
      "metadata": {
        "id": "lal0vJzxFFmH"
      },
      "source": [
        "Мы видим пропуски только в одном столбце churn_date, целых 92%. Но как указано, пропущенные значения означают, что на момент выгрузки данных тариф еще действовал. "
      ]
    },
    {
      "cell_type": "markdown",
      "metadata": {
        "id": "AhwubJAGFFmI"
      },
      "source": [
        "### Замена типа данных"
      ]
    },
    {
      "cell_type": "code",
      "execution_count": null,
      "metadata": {
        "id": "SzFTNfo_FFmI"
      },
      "outputs": [],
      "source": [
        "users['churn_date'] = pd.to_datetime(users['churn_date'], format=\"%Y-%m-%d\")\n",
        "users['reg_date'] = pd.to_datetime(users['reg_date'], format=\"%Y-%m-%d\")"
      ]
    },
    {
      "cell_type": "code",
      "execution_count": null,
      "metadata": {
        "id": "JK-EwSHQFFmJ",
        "outputId": "3708b55f-d3bc-48f2-b1a9-e377f81bfc7b"
      },
      "outputs": [
        {
          "name": "stdout",
          "output_type": "stream",
          "text": [
            "<class 'pandas.core.frame.DataFrame'>\n",
            "RangeIndex: 500 entries, 0 to 499\n",
            "Data columns (total 8 columns):\n",
            "user_id       500 non-null int64\n",
            "age           500 non-null int64\n",
            "churn_date    38 non-null datetime64[ns]\n",
            "city          500 non-null object\n",
            "first_name    500 non-null object\n",
            "last_name     500 non-null object\n",
            "reg_date      500 non-null datetime64[ns]\n",
            "tariff        500 non-null object\n",
            "dtypes: datetime64[ns](2), int64(2), object(4)\n",
            "memory usage: 31.4+ KB\n"
          ]
        }
      ],
      "source": [
        "users.info()"
      ]
    },
    {
      "cell_type": "code",
      "execution_count": null,
      "metadata": {
        "id": "0Fkl7igpFFmK"
      },
      "outputs": [],
      "source": [
        "calls['call_date'] = pd.to_datetime(calls['call_date'], format=\"%Y-%m-%d\")"
      ]
    },
    {
      "cell_type": "code",
      "execution_count": null,
      "metadata": {
        "id": "vyX8DOllFFmK"
      },
      "outputs": [],
      "source": [
        "calls['id'] = calls['id'].astype('int')"
      ]
    },
    {
      "cell_type": "code",
      "execution_count": null,
      "metadata": {
        "id": "QwPMDj1RFFmK"
      },
      "outputs": [],
      "source": [
        "calls['duration'] = calls['duration'].apply(np.ceil).astype('int')"
      ]
    },
    {
      "cell_type": "code",
      "execution_count": null,
      "metadata": {
        "id": "C8KKTLjBFFmM",
        "outputId": "65d8a3d5-9abe-4228-ff90-82e13aa4d730"
      },
      "outputs": [
        {
          "data": {
            "text/html": [
              "<div>\n",
              "<style scoped>\n",
              "    .dataframe tbody tr th:only-of-type {\n",
              "        vertical-align: middle;\n",
              "    }\n",
              "\n",
              "    .dataframe tbody tr th {\n",
              "        vertical-align: top;\n",
              "    }\n",
              "\n",
              "    .dataframe thead th {\n",
              "        text-align: right;\n",
              "    }\n",
              "</style>\n",
              "<table border=\"1\" class=\"dataframe\">\n",
              "  <thead>\n",
              "    <tr style=\"text-align: right;\">\n",
              "      <th></th>\n",
              "      <th>id</th>\n",
              "      <th>call_date</th>\n",
              "      <th>duration</th>\n",
              "      <th>user_id</th>\n",
              "    </tr>\n",
              "  </thead>\n",
              "  <tbody>\n",
              "    <tr>\n",
              "      <td>0</td>\n",
              "      <td>10000</td>\n",
              "      <td>2018-07-25</td>\n",
              "      <td>0</td>\n",
              "      <td>1000</td>\n",
              "    </tr>\n",
              "    <tr>\n",
              "      <td>1</td>\n",
              "      <td>10001</td>\n",
              "      <td>2018-08-17</td>\n",
              "      <td>0</td>\n",
              "      <td>1000</td>\n",
              "    </tr>\n",
              "    <tr>\n",
              "      <td>2</td>\n",
              "      <td>10002</td>\n",
              "      <td>2018-06-11</td>\n",
              "      <td>3</td>\n",
              "      <td>1000</td>\n",
              "    </tr>\n",
              "    <tr>\n",
              "      <td>3</td>\n",
              "      <td>10003</td>\n",
              "      <td>2018-09-21</td>\n",
              "      <td>14</td>\n",
              "      <td>1000</td>\n",
              "    </tr>\n",
              "    <tr>\n",
              "      <td>4</td>\n",
              "      <td>10004</td>\n",
              "      <td>2018-12-15</td>\n",
              "      <td>6</td>\n",
              "      <td>1000</td>\n",
              "    </tr>\n",
              "  </tbody>\n",
              "</table>\n",
              "</div>"
            ],
            "text/plain": [
              "      id  call_date  duration  user_id\n",
              "0  10000 2018-07-25         0     1000\n",
              "1  10001 2018-08-17         0     1000\n",
              "2  10002 2018-06-11         3     1000\n",
              "3  10003 2018-09-21        14     1000\n",
              "4  10004 2018-12-15         6     1000"
            ]
          },
          "execution_count": 19,
          "metadata": {},
          "output_type": "execute_result"
        }
      ],
      "source": [
        "calls.head()"
      ]
    },
    {
      "cell_type": "code",
      "execution_count": null,
      "metadata": {
        "id": "jyRULT9pFFmM"
      },
      "outputs": [],
      "source": [
        "calls = calls.query('duration != 0')"
      ]
    },
    {
      "cell_type": "code",
      "execution_count": null,
      "metadata": {
        "id": "RHHwr-CIFFmN",
        "outputId": "e2119600-c4a4-4f23-f631-50aaa7e91cdd"
      },
      "outputs": [
        {
          "data": {
            "text/html": [
              "<div>\n",
              "<style scoped>\n",
              "    .dataframe tbody tr th:only-of-type {\n",
              "        vertical-align: middle;\n",
              "    }\n",
              "\n",
              "    .dataframe tbody tr th {\n",
              "        vertical-align: top;\n",
              "    }\n",
              "\n",
              "    .dataframe thead th {\n",
              "        text-align: right;\n",
              "    }\n",
              "</style>\n",
              "<table border=\"1\" class=\"dataframe\">\n",
              "  <thead>\n",
              "    <tr style=\"text-align: right;\">\n",
              "      <th></th>\n",
              "      <th>id</th>\n",
              "      <th>duration</th>\n",
              "      <th>user_id</th>\n",
              "    </tr>\n",
              "  </thead>\n",
              "  <tbody>\n",
              "    <tr>\n",
              "      <td>count</td>\n",
              "      <td>1.629940e+05</td>\n",
              "      <td>162994.000000</td>\n",
              "      <td>162994.000000</td>\n",
              "    </tr>\n",
              "    <tr>\n",
              "      <td>mean</td>\n",
              "      <td>1.212660e+06</td>\n",
              "      <td>8.897880</td>\n",
              "      <td>1254.149877</td>\n",
              "    </tr>\n",
              "    <tr>\n",
              "      <td>std</td>\n",
              "      <td>1.728141e+06</td>\n",
              "      <td>5.353761</td>\n",
              "      <td>144.751050</td>\n",
              "    </tr>\n",
              "    <tr>\n",
              "      <td>min</td>\n",
              "      <td>1.000200e+04</td>\n",
              "      <td>1.000000</td>\n",
              "      <td>1000.000000</td>\n",
              "    </tr>\n",
              "    <tr>\n",
              "      <td>25%</td>\n",
              "      <td>1.012247e+06</td>\n",
              "      <td>5.000000</td>\n",
              "      <td>1126.000000</td>\n",
              "    </tr>\n",
              "    <tr>\n",
              "      <td>50%</td>\n",
              "      <td>1.179350e+06</td>\n",
              "      <td>8.000000</td>\n",
              "      <td>1261.000000</td>\n",
              "    </tr>\n",
              "    <tr>\n",
              "      <td>75%</td>\n",
              "      <td>1.358215e+06</td>\n",
              "      <td>12.000000</td>\n",
              "      <td>1379.000000</td>\n",
              "    </tr>\n",
              "    <tr>\n",
              "      <td>max</td>\n",
              "      <td>1.458115e+07</td>\n",
              "      <td>38.000000</td>\n",
              "      <td>1499.000000</td>\n",
              "    </tr>\n",
              "  </tbody>\n",
              "</table>\n",
              "</div>"
            ],
            "text/plain": [
              "                 id       duration        user_id\n",
              "count  1.629940e+05  162994.000000  162994.000000\n",
              "mean   1.212660e+06       8.897880    1254.149877\n",
              "std    1.728141e+06       5.353761     144.751050\n",
              "min    1.000200e+04       1.000000    1000.000000\n",
              "25%    1.012247e+06       5.000000    1126.000000\n",
              "50%    1.179350e+06       8.000000    1261.000000\n",
              "75%    1.358215e+06      12.000000    1379.000000\n",
              "max    1.458115e+07      38.000000    1499.000000"
            ]
          },
          "execution_count": 21,
          "metadata": {},
          "output_type": "execute_result"
        }
      ],
      "source": [
        "calls.describe()"
      ]
    },
    {
      "cell_type": "code",
      "execution_count": null,
      "metadata": {
        "id": "13Yp6Fu5FFmN"
      },
      "outputs": [],
      "source": [
        "messages['message_date'] = pd.to_datetime(messages['message_date'], format=\"%Y-%m-%d\")"
      ]
    },
    {
      "cell_type": "code",
      "execution_count": null,
      "metadata": {
        "id": "oTpBZMDgFFmO",
        "outputId": "3b3c8eb5-ef38-4e7a-b1a1-c944fdc882b2"
      },
      "outputs": [
        {
          "name": "stdout",
          "output_type": "stream",
          "text": [
            "<class 'pandas.core.frame.DataFrame'>\n",
            "RangeIndex: 123036 entries, 0 to 123035\n",
            "Data columns (total 3 columns):\n",
            "id              123036 non-null object\n",
            "message_date    123036 non-null datetime64[ns]\n",
            "user_id         123036 non-null int64\n",
            "dtypes: datetime64[ns](1), int64(1), object(1)\n",
            "memory usage: 2.8+ MB\n"
          ]
        }
      ],
      "source": [
        "messages.info()"
      ]
    },
    {
      "cell_type": "code",
      "execution_count": null,
      "metadata": {
        "id": "dkAvhi2eFFmO"
      },
      "outputs": [],
      "source": [
        "internet['session_date'] = pd.to_datetime(internet['session_date'], format=\"%Y-%m-%d\")"
      ]
    },
    {
      "cell_type": "code",
      "execution_count": null,
      "metadata": {
        "id": "kJtBPsAcFFmO",
        "outputId": "1b4efb9b-90a4-4224-ee6b-b4d010843dcf"
      },
      "outputs": [
        {
          "name": "stdout",
          "output_type": "stream",
          "text": [
            "<class 'pandas.core.frame.DataFrame'>\n",
            "Int64Index: 149396 entries, 0 to 149395\n",
            "Data columns (total 4 columns):\n",
            "id              149396 non-null object\n",
            "mb_used         149396 non-null float64\n",
            "session_date    149396 non-null datetime64[ns]\n",
            "user_id         149396 non-null int64\n",
            "dtypes: datetime64[ns](1), float64(1), int64(1), object(1)\n",
            "memory usage: 5.7+ MB\n"
          ]
        }
      ],
      "source": [
        "internet.info()"
      ]
    },
    {
      "cell_type": "markdown",
      "metadata": {
        "id": "uNm6ZHdfFFmP"
      },
      "source": [
        "**Вывод**"
      ]
    },
    {
      "cell_type": "markdown",
      "metadata": {
        "id": "OBwQ0sieFFmP"
      },
      "source": [
        "Заменили типы данных в таблицах, в таблице \"звонки\" округлили значения в большую сторону, а также видим нулевые значения, нулями обозначены пропущенные звонки, поэтому их не будем удалять."
      ]
    },
    {
      "cell_type": "markdown",
      "metadata": {
        "id": "SXimjD1ZFFmS"
      },
      "source": [
        "### Количество сделанных звонков и израсходованных минут разговора по месяцам для каждого пользователя"
      ]
    },
    {
      "cell_type": "code",
      "execution_count": null,
      "metadata": {
        "id": "vzlRa-WAFFmT"
      },
      "outputs": [],
      "source": [
        "calls['month'] = calls['call_date'].dt.month_name()"
      ]
    },
    {
      "cell_type": "code",
      "execution_count": null,
      "metadata": {
        "id": "E3gLjb5IFFmU"
      },
      "outputs": [],
      "source": [
        "#calls.head()"
      ]
    },
    {
      "cell_type": "markdown",
      "metadata": {
        "id": "fQQrjlYjFFmU"
      },
      "source": [
        "#user_calls = calls.groupby(['user_id', 'month'])\\\n",
        "                  .agg({'duration':'sum', 'id':'count'})\\\n",
        "                  .reset_index()\\\n",
        "                  .rename(columns={'duration':'month_calls_duration','id':'calls_total_in_month'})"
      ]
    },
    {
      "cell_type": "code",
      "execution_count": null,
      "metadata": {
        "id": "lq2Y1l4aFFmU",
        "outputId": "a2ac836e-ad5a-41e4-af8e-a8fafa106133"
      },
      "outputs": [
        {
          "data": {
            "text/html": [
              "<div>\n",
              "<style scoped>\n",
              "    .dataframe tbody tr th:only-of-type {\n",
              "        vertical-align: middle;\n",
              "    }\n",
              "\n",
              "    .dataframe tbody tr th {\n",
              "        vertical-align: top;\n",
              "    }\n",
              "\n",
              "    .dataframe thead th {\n",
              "        text-align: right;\n",
              "    }\n",
              "</style>\n",
              "<table border=\"1\" class=\"dataframe\">\n",
              "  <thead>\n",
              "    <tr style=\"text-align: right;\">\n",
              "      <th></th>\n",
              "      <th>user_id</th>\n",
              "      <th>month</th>\n",
              "      <th>calls_count</th>\n",
              "      <th>mins</th>\n",
              "    </tr>\n",
              "  </thead>\n",
              "  <tbody>\n",
              "    <tr>\n",
              "      <td>0</td>\n",
              "      <td>1000</td>\n",
              "      <td>August</td>\n",
              "      <td>42</td>\n",
              "      <td>408</td>\n",
              "    </tr>\n",
              "    <tr>\n",
              "      <td>1</td>\n",
              "      <td>1000</td>\n",
              "      <td>December</td>\n",
              "      <td>38</td>\n",
              "      <td>333</td>\n",
              "    </tr>\n",
              "    <tr>\n",
              "      <td>2</td>\n",
              "      <td>1000</td>\n",
              "      <td>July</td>\n",
              "      <td>41</td>\n",
              "      <td>340</td>\n",
              "    </tr>\n",
              "    <tr>\n",
              "      <td>3</td>\n",
              "      <td>1000</td>\n",
              "      <td>June</td>\n",
              "      <td>28</td>\n",
              "      <td>172</td>\n",
              "    </tr>\n",
              "    <tr>\n",
              "      <td>4</td>\n",
              "      <td>1000</td>\n",
              "      <td>May</td>\n",
              "      <td>17</td>\n",
              "      <td>159</td>\n",
              "    </tr>\n",
              "    <tr>\n",
              "      <td>...</td>\n",
              "      <td>...</td>\n",
              "      <td>...</td>\n",
              "      <td>...</td>\n",
              "      <td>...</td>\n",
              "    </tr>\n",
              "    <tr>\n",
              "      <td>3163</td>\n",
              "      <td>1498</td>\n",
              "      <td>September</td>\n",
              "      <td>53</td>\n",
              "      <td>471</td>\n",
              "    </tr>\n",
              "    <tr>\n",
              "      <td>3164</td>\n",
              "      <td>1499</td>\n",
              "      <td>December</td>\n",
              "      <td>56</td>\n",
              "      <td>492</td>\n",
              "    </tr>\n",
              "    <tr>\n",
              "      <td>3165</td>\n",
              "      <td>1499</td>\n",
              "      <td>November</td>\n",
              "      <td>62</td>\n",
              "      <td>612</td>\n",
              "    </tr>\n",
              "    <tr>\n",
              "      <td>3166</td>\n",
              "      <td>1499</td>\n",
              "      <td>October</td>\n",
              "      <td>44</td>\n",
              "      <td>449</td>\n",
              "    </tr>\n",
              "    <tr>\n",
              "      <td>3167</td>\n",
              "      <td>1499</td>\n",
              "      <td>September</td>\n",
              "      <td>8</td>\n",
              "      <td>70</td>\n",
              "    </tr>\n",
              "  </tbody>\n",
              "</table>\n",
              "<p>3168 rows × 4 columns</p>\n",
              "</div>"
            ],
            "text/plain": [
              "      user_id      month  calls_count  mins\n",
              "0        1000     August           42   408\n",
              "1        1000   December           38   333\n",
              "2        1000       July           41   340\n",
              "3        1000       June           28   172\n",
              "4        1000        May           17   159\n",
              "...       ...        ...          ...   ...\n",
              "3163     1498  September           53   471\n",
              "3164     1499   December           56   492\n",
              "3165     1499   November           62   612\n",
              "3166     1499    October           44   449\n",
              "3167     1499  September            8    70\n",
              "\n",
              "[3168 rows x 4 columns]"
            ]
          },
          "execution_count": 28,
          "metadata": {},
          "output_type": "execute_result"
        }
      ],
      "source": [
        "calls_pivot = calls.pivot_table(index=['user_id', 'month'],\n",
        "                                values='duration', aggfunc=(\"sum\",'count')).reset_index()\n",
        "\n",
        "calls_pivot.columns = ('user_id', 'month', 'calls_count', 'mins')\n",
        "calls_pivot"
      ]
    },
    {
      "cell_type": "code",
      "execution_count": null,
      "metadata": {
        "id": "0NYl9-ZiFFmV"
      },
      "outputs": [],
      "source": [
        "#user_calls.head()"
      ]
    },
    {
      "cell_type": "markdown",
      "metadata": {
        "id": "B3GHKgX1FFmV"
      },
      "source": [
        "### Количество отправленных сообщений по месяцам"
      ]
    },
    {
      "cell_type": "code",
      "execution_count": null,
      "metadata": {
        "id": "U3udSzi5FFmW"
      },
      "outputs": [],
      "source": [
        "messages['month'] = messages['message_date'].dt.month_name()"
      ]
    },
    {
      "cell_type": "code",
      "execution_count": null,
      "metadata": {
        "id": "TFurHR97FFmW"
      },
      "outputs": [],
      "source": [
        "#messages.head()"
      ]
    },
    {
      "cell_type": "markdown",
      "metadata": {
        "id": "I2lWCW92FFmW"
      },
      "source": [
        "#user_messages = messages.groupby(['user_id', 'month'])\\\n",
        "                        .agg({'id':'count'})\\\n",
        "                        .reset_index()\\\n",
        "                        .rename(columns={'id':'sms_total_in_month'})"
      ]
    },
    {
      "cell_type": "code",
      "execution_count": null,
      "metadata": {
        "id": "aWtyHmUoFFmX"
      },
      "outputs": [],
      "source": [
        "#user_messages.head()"
      ]
    },
    {
      "cell_type": "code",
      "execution_count": null,
      "metadata": {
        "id": "Kxnh9xr_FFmX",
        "outputId": "48000ff8-9b0c-48a4-b780-1e30bdc94bf6"
      },
      "outputs": [
        {
          "data": {
            "text/html": [
              "<div>\n",
              "<style scoped>\n",
              "    .dataframe tbody tr th:only-of-type {\n",
              "        vertical-align: middle;\n",
              "    }\n",
              "\n",
              "    .dataframe tbody tr th {\n",
              "        vertical-align: top;\n",
              "    }\n",
              "\n",
              "    .dataframe thead th {\n",
              "        text-align: right;\n",
              "    }\n",
              "</style>\n",
              "<table border=\"1\" class=\"dataframe\">\n",
              "  <thead>\n",
              "    <tr style=\"text-align: right;\">\n",
              "      <th></th>\n",
              "      <th>user_id</th>\n",
              "      <th>month</th>\n",
              "      <th>messages_count</th>\n",
              "    </tr>\n",
              "  </thead>\n",
              "  <tbody>\n",
              "    <tr>\n",
              "      <td>0</td>\n",
              "      <td>1000</td>\n",
              "      <td>August</td>\n",
              "      <td>81</td>\n",
              "    </tr>\n",
              "    <tr>\n",
              "      <td>1</td>\n",
              "      <td>1000</td>\n",
              "      <td>December</td>\n",
              "      <td>70</td>\n",
              "    </tr>\n",
              "    <tr>\n",
              "      <td>2</td>\n",
              "      <td>1000</td>\n",
              "      <td>July</td>\n",
              "      <td>75</td>\n",
              "    </tr>\n",
              "    <tr>\n",
              "      <td>3</td>\n",
              "      <td>1000</td>\n",
              "      <td>June</td>\n",
              "      <td>60</td>\n",
              "    </tr>\n",
              "    <tr>\n",
              "      <td>4</td>\n",
              "      <td>1000</td>\n",
              "      <td>May</td>\n",
              "      <td>22</td>\n",
              "    </tr>\n",
              "    <tr>\n",
              "      <td>...</td>\n",
              "      <td>...</td>\n",
              "      <td>...</td>\n",
              "      <td>...</td>\n",
              "    </tr>\n",
              "    <tr>\n",
              "      <td>2712</td>\n",
              "      <td>1498</td>\n",
              "      <td>September</td>\n",
              "      <td>44</td>\n",
              "    </tr>\n",
              "    <tr>\n",
              "      <td>2713</td>\n",
              "      <td>1499</td>\n",
              "      <td>December</td>\n",
              "      <td>66</td>\n",
              "    </tr>\n",
              "    <tr>\n",
              "      <td>2714</td>\n",
              "      <td>1499</td>\n",
              "      <td>November</td>\n",
              "      <td>59</td>\n",
              "    </tr>\n",
              "    <tr>\n",
              "      <td>2715</td>\n",
              "      <td>1499</td>\n",
              "      <td>October</td>\n",
              "      <td>48</td>\n",
              "    </tr>\n",
              "    <tr>\n",
              "      <td>2716</td>\n",
              "      <td>1499</td>\n",
              "      <td>September</td>\n",
              "      <td>11</td>\n",
              "    </tr>\n",
              "  </tbody>\n",
              "</table>\n",
              "<p>2717 rows × 3 columns</p>\n",
              "</div>"
            ],
            "text/plain": [
              "      user_id      month  messages_count\n",
              "0        1000     August              81\n",
              "1        1000   December              70\n",
              "2        1000       July              75\n",
              "3        1000       June              60\n",
              "4        1000        May              22\n",
              "...       ...        ...             ...\n",
              "2712     1498  September              44\n",
              "2713     1499   December              66\n",
              "2714     1499   November              59\n",
              "2715     1499    October              48\n",
              "2716     1499  September              11\n",
              "\n",
              "[2717 rows x 3 columns]"
            ]
          },
          "execution_count": 33,
          "metadata": {},
          "output_type": "execute_result"
        }
      ],
      "source": [
        "messages_pivot = messages.pivot_table(index=['user_id','month'],\n",
        "                                      values='message_date', aggfunc=('count')).reset_index()\n",
        "\n",
        "messages_pivot.columns = ('user_id', 'month', 'messages_count')\n",
        "messages_pivot"
      ]
    },
    {
      "cell_type": "markdown",
      "metadata": {
        "id": "_M5UvqtwFFmY"
      },
      "source": [
        "### Oбъем израсходованного интернет-трафика по месяцам"
      ]
    },
    {
      "cell_type": "code",
      "execution_count": null,
      "metadata": {
        "id": "izrgGmGKFFmb"
      },
      "outputs": [],
      "source": [
        "internet['month'] = internet['session_date'].dt.month_name()"
      ]
    },
    {
      "cell_type": "code",
      "execution_count": null,
      "metadata": {
        "id": "uH47Ao2zFFmb"
      },
      "outputs": [],
      "source": [
        "#internet.head()"
      ]
    },
    {
      "cell_type": "markdown",
      "metadata": {
        "id": "iDUmv_RbFFmc"
      },
      "source": [
        "#user_internet = internet.groupby(['user_id', 'month'])\\\n",
        "                        .agg({'mb_used':'sum'})\\\n",
        "                        .reset_index()\\\n",
        "                        .rename(columns={'mb_used':'mb_total_in_month'})"
      ]
    },
    {
      "cell_type": "code",
      "execution_count": null,
      "metadata": {
        "id": "6cEm4_EXFFmc"
      },
      "outputs": [],
      "source": [
        "#user_internet.head()"
      ]
    },
    {
      "cell_type": "code",
      "execution_count": null,
      "metadata": {
        "id": "1XCUFrC9FFmc",
        "outputId": "44ee8a01-087e-4775-c533-254ab94e2165"
      },
      "outputs": [
        {
          "data": {
            "text/html": [
              "<div>\n",
              "<style scoped>\n",
              "    .dataframe tbody tr th:only-of-type {\n",
              "        vertical-align: middle;\n",
              "    }\n",
              "\n",
              "    .dataframe tbody tr th {\n",
              "        vertical-align: top;\n",
              "    }\n",
              "\n",
              "    .dataframe thead th {\n",
              "        text-align: right;\n",
              "    }\n",
              "</style>\n",
              "<table border=\"1\" class=\"dataframe\">\n",
              "  <thead>\n",
              "    <tr style=\"text-align: right;\">\n",
              "      <th></th>\n",
              "      <th>user_id</th>\n",
              "      <th>month</th>\n",
              "      <th>mb_used</th>\n",
              "    </tr>\n",
              "  </thead>\n",
              "  <tbody>\n",
              "    <tr>\n",
              "      <td>0</td>\n",
              "      <td>1000</td>\n",
              "      <td>August</td>\n",
              "      <td>14055.93</td>\n",
              "    </tr>\n",
              "    <tr>\n",
              "      <td>1</td>\n",
              "      <td>1000</td>\n",
              "      <td>December</td>\n",
              "      <td>9817.61</td>\n",
              "    </tr>\n",
              "    <tr>\n",
              "      <td>2</td>\n",
              "      <td>1000</td>\n",
              "      <td>July</td>\n",
              "      <td>14003.64</td>\n",
              "    </tr>\n",
              "    <tr>\n",
              "      <td>3</td>\n",
              "      <td>1000</td>\n",
              "      <td>June</td>\n",
              "      <td>23233.77</td>\n",
              "    </tr>\n",
              "    <tr>\n",
              "      <td>4</td>\n",
              "      <td>1000</td>\n",
              "      <td>May</td>\n",
              "      <td>2253.49</td>\n",
              "    </tr>\n",
              "  </tbody>\n",
              "</table>\n",
              "</div>"
            ],
            "text/plain": [
              "   user_id     month   mb_used\n",
              "0     1000    August  14055.93\n",
              "1     1000  December   9817.61\n",
              "2     1000      July  14003.64\n",
              "3     1000      June  23233.77\n",
              "4     1000       May   2253.49"
            ]
          },
          "execution_count": 37,
          "metadata": {},
          "output_type": "execute_result"
        }
      ],
      "source": [
        "internet_pivot = internet.pivot_table(index=['user_id','month'],\n",
        "                                      values='mb_used', aggfunc=('sum')).reset_index()\n",
        "\n",
        "internet_pivot.head()"
      ]
    },
    {
      "cell_type": "markdown",
      "metadata": {
        "id": "uXGbYq3YFFmd"
      },
      "source": [
        "### Помесячная выручка с каждого пользователя "
      ]
    },
    {
      "cell_type": "code",
      "execution_count": null,
      "metadata": {
        "id": "k5XohKH5FFmd"
      },
      "outputs": [],
      "source": [
        "tariffs.columns = ['messages_included', 'mb_per_month_included', 'minutes_included',\n",
        "       'rub_monthly_fee', 'rub_per_gb', 'rub_per_message', 'rub_per_minute',\n",
        "       'tariff']"
      ]
    },
    {
      "cell_type": "code",
      "execution_count": null,
      "metadata": {
        "id": "68jzDAhcFFme",
        "outputId": "b3794804-d476-4dff-cea0-17833a6440a5"
      },
      "outputs": [
        {
          "name": "stdout",
          "output_type": "stream",
          "text": [
            "<class 'pandas.core.frame.DataFrame'>\n",
            "Int64Index: 3214 entries, 0 to 3213\n",
            "Data columns (total 20 columns):\n",
            "user_id                  3214 non-null int64\n",
            "month                    3214 non-null object\n",
            "calls_count              3168 non-null float64\n",
            "mins                     3168 non-null float64\n",
            "messages_count           2717 non-null float64\n",
            "mb_used                  3203 non-null float64\n",
            "age                      3214 non-null int64\n",
            "churn_date               187 non-null datetime64[ns]\n",
            "city                     3214 non-null object\n",
            "first_name               3214 non-null object\n",
            "last_name                3214 non-null object\n",
            "reg_date                 3214 non-null datetime64[ns]\n",
            "tariff                   3214 non-null object\n",
            "messages_included        3214 non-null int64\n",
            "mb_per_month_included    3214 non-null int64\n",
            "minutes_included         3214 non-null int64\n",
            "rub_monthly_fee          3214 non-null int64\n",
            "rub_per_gb               3214 non-null int64\n",
            "rub_per_message          3214 non-null int64\n",
            "rub_per_minute           3214 non-null int64\n",
            "dtypes: datetime64[ns](2), float64(4), int64(9), object(5)\n",
            "memory usage: 527.3+ KB\n"
          ]
        }
      ],
      "source": [
        "data_merge = calls_pivot.merge(messages_pivot, on=('user_id', 'month'), how='outer')\n",
        "data_merge = data_merge.merge(internet_pivot, on=('user_id', 'month'), how='outer')\n",
        "data_merge = data_merge.merge(users, on=('user_id'), how='left')\n",
        "data_merge = data_merge.merge(tariffs, on=('tariff'), how='left')\n",
        "data_merge.info()"
      ]
    },
    {
      "cell_type": "markdown",
      "metadata": {
        "id": "fpi4lY_NFFme"
      },
      "source": [
        "Появились пропуски, заполним их 0 и заменим тип данных."
      ]
    },
    {
      "cell_type": "code",
      "execution_count": null,
      "metadata": {
        "id": "WmVR37TsFFme",
        "outputId": "542d3abf-1e49-40eb-ffe5-b9252b49aee3"
      },
      "outputs": [
        {
          "name": "stdout",
          "output_type": "stream",
          "text": [
            "<class 'pandas.core.frame.DataFrame'>\n",
            "Int64Index: 3214 entries, 0 to 3213\n",
            "Data columns (total 20 columns):\n",
            "user_id                  3214 non-null int64\n",
            "month                    3214 non-null object\n",
            "calls_count              3214 non-null int64\n",
            "mins                     3214 non-null int64\n",
            "messages_count           3214 non-null int64\n",
            "mb_used                  3214 non-null int64\n",
            "age                      3214 non-null int64\n",
            "churn_date               187 non-null datetime64[ns]\n",
            "city                     3214 non-null object\n",
            "first_name               3214 non-null object\n",
            "last_name                3214 non-null object\n",
            "reg_date                 3214 non-null datetime64[ns]\n",
            "tariff                   3214 non-null object\n",
            "messages_included        3214 non-null int64\n",
            "mb_per_month_included    3214 non-null int64\n",
            "minutes_included         3214 non-null int64\n",
            "rub_monthly_fee          3214 non-null int64\n",
            "rub_per_gb               3214 non-null int64\n",
            "rub_per_message          3214 non-null int64\n",
            "rub_per_minute           3214 non-null int64\n",
            "dtypes: datetime64[ns](2), int64(13), object(5)\n",
            "memory usage: 527.3+ KB\n"
          ]
        }
      ],
      "source": [
        "for col in ['calls_count', 'mins', 'messages_count','mb_used']:\n",
        "    data_merge[col] = data_merge[col].fillna(0).astype(int)\n",
        "data_merge.info()    "
      ]
    },
    {
      "cell_type": "code",
      "execution_count": null,
      "metadata": {
        "id": "MlOspli0FFmf"
      },
      "outputs": [],
      "source": [
        "def profit_calculation(df):\n",
        "    df['profit'] = df['rub_monthly_fee']\n",
        "    if df['mins'] > df['minutes_included']:\n",
        "        df['profit'] += (df['mins'] - df['minutes_included']) * df['rub_per_minute']\n",
        "    if df['messages_count'] > df['messages_included']:\n",
        "        df['profit'] += (df['messages_count'] - df['messages_included']) * df['rub_per_message']\n",
        "    if df['mb_used'] > df['mb_per_month_included']:\n",
        "        df['profit'] += (np.ceil(df['mb_used'] / 1024) - df['mb_per_month_included'] / 1024) * df['rub_per_gb']    \n",
        "    return df   "
      ]
    },
    {
      "cell_type": "code",
      "execution_count": null,
      "metadata": {
        "id": "hlJRbtYXFFmh",
        "outputId": "adcd75ac-f242-458e-c3c7-e415f5fc639c"
      },
      "outputs": [
        {
          "data": {
            "text/plain": [
              "Index(['user_id', 'month', 'calls_count', 'mins', 'messages_count', 'mb_used',\n",
              "       'age', 'churn_date', 'city', 'reg_date', 'tariff', 'profit'],\n",
              "      dtype='object')"
            ]
          },
          "execution_count": 42,
          "metadata": {},
          "output_type": "execute_result"
        }
      ],
      "source": [
        "data_merge = data_merge.apply(profit_calculation, axis=1)\n",
        "data_merge['profit'] = data_merge['profit'].astype(int)\n",
        "data_merge = data_merge.drop(['first_name', 'last_name', 'messages_included', 'mb_per_month_included','minutes_included', 'rub_monthly_fee', 'rub_per_gb', 'rub_per_message', 'rub_per_minute'], axis=1)\n",
        "data_merge.columns"
      ]
    },
    {
      "cell_type": "markdown",
      "metadata": {
        "id": "9Pt7Po2MFFmp"
      },
      "source": [
        "Расчитали количество звонков, сообщений и израсходованного интернет трафика по месяцам для каждого польователя, а также помесячную выручку с каждого пользователя. "
      ]
    },
    {
      "cell_type": "markdown",
      "metadata": {
        "id": "rcE6ENtFFFmq"
      },
      "source": [
        "## Анализ данных"
      ]
    },
    {
      "cell_type": "code",
      "execution_count": null,
      "metadata": {
        "id": "w3uCCXouFFmq",
        "outputId": "69db75f4-d9dd-41bb-f88e-59127c0e100c"
      },
      "outputs": [
        {
          "data": {
            "text/html": [
              "<div>\n",
              "<style scoped>\n",
              "    .dataframe tbody tr th:only-of-type {\n",
              "        vertical-align: middle;\n",
              "    }\n",
              "\n",
              "    .dataframe tbody tr th {\n",
              "        vertical-align: top;\n",
              "    }\n",
              "\n",
              "    .dataframe thead th {\n",
              "        text-align: right;\n",
              "    }\n",
              "</style>\n",
              "<table border=\"1\" class=\"dataframe\">\n",
              "  <thead>\n",
              "    <tr style=\"text-align: right;\">\n",
              "      <th></th>\n",
              "      <th>user_id</th>\n",
              "      <th>month</th>\n",
              "      <th>calls_count</th>\n",
              "      <th>mins</th>\n",
              "      <th>messages_count</th>\n",
              "      <th>mb_used</th>\n",
              "      <th>age</th>\n",
              "      <th>churn_date</th>\n",
              "      <th>city</th>\n",
              "      <th>reg_date</th>\n",
              "      <th>tariff</th>\n",
              "      <th>profit</th>\n",
              "    </tr>\n",
              "  </thead>\n",
              "  <tbody>\n",
              "    <tr>\n",
              "      <td>0</td>\n",
              "      <td>1000</td>\n",
              "      <td>August</td>\n",
              "      <td>42</td>\n",
              "      <td>408</td>\n",
              "      <td>81</td>\n",
              "      <td>14055</td>\n",
              "      <td>52</td>\n",
              "      <td>NaT</td>\n",
              "      <td>Краснодар</td>\n",
              "      <td>2018-05-25</td>\n",
              "      <td>ultra</td>\n",
              "      <td>1950</td>\n",
              "    </tr>\n",
              "    <tr>\n",
              "      <td>1</td>\n",
              "      <td>1000</td>\n",
              "      <td>December</td>\n",
              "      <td>38</td>\n",
              "      <td>333</td>\n",
              "      <td>70</td>\n",
              "      <td>9817</td>\n",
              "      <td>52</td>\n",
              "      <td>NaT</td>\n",
              "      <td>Краснодар</td>\n",
              "      <td>2018-05-25</td>\n",
              "      <td>ultra</td>\n",
              "      <td>1950</td>\n",
              "    </tr>\n",
              "    <tr>\n",
              "      <td>2</td>\n",
              "      <td>1000</td>\n",
              "      <td>July</td>\n",
              "      <td>41</td>\n",
              "      <td>340</td>\n",
              "      <td>75</td>\n",
              "      <td>14003</td>\n",
              "      <td>52</td>\n",
              "      <td>NaT</td>\n",
              "      <td>Краснодар</td>\n",
              "      <td>2018-05-25</td>\n",
              "      <td>ultra</td>\n",
              "      <td>1950</td>\n",
              "    </tr>\n",
              "    <tr>\n",
              "      <td>3</td>\n",
              "      <td>1000</td>\n",
              "      <td>June</td>\n",
              "      <td>28</td>\n",
              "      <td>172</td>\n",
              "      <td>60</td>\n",
              "      <td>23233</td>\n",
              "      <td>52</td>\n",
              "      <td>NaT</td>\n",
              "      <td>Краснодар</td>\n",
              "      <td>2018-05-25</td>\n",
              "      <td>ultra</td>\n",
              "      <td>1950</td>\n",
              "    </tr>\n",
              "    <tr>\n",
              "      <td>4</td>\n",
              "      <td>1000</td>\n",
              "      <td>May</td>\n",
              "      <td>17</td>\n",
              "      <td>159</td>\n",
              "      <td>22</td>\n",
              "      <td>2253</td>\n",
              "      <td>52</td>\n",
              "      <td>NaT</td>\n",
              "      <td>Краснодар</td>\n",
              "      <td>2018-05-25</td>\n",
              "      <td>ultra</td>\n",
              "      <td>1950</td>\n",
              "    </tr>\n",
              "    <tr>\n",
              "      <td>...</td>\n",
              "      <td>...</td>\n",
              "      <td>...</td>\n",
              "      <td>...</td>\n",
              "      <td>...</td>\n",
              "      <td>...</td>\n",
              "      <td>...</td>\n",
              "      <td>...</td>\n",
              "      <td>...</td>\n",
              "      <td>...</td>\n",
              "      <td>...</td>\n",
              "      <td>...</td>\n",
              "      <td>...</td>\n",
              "    </tr>\n",
              "    <tr>\n",
              "      <td>3209</td>\n",
              "      <td>1489</td>\n",
              "      <td>November</td>\n",
              "      <td>0</td>\n",
              "      <td>0</td>\n",
              "      <td>20</td>\n",
              "      <td>17491</td>\n",
              "      <td>35</td>\n",
              "      <td>NaT</td>\n",
              "      <td>Санкт-Петербург</td>\n",
              "      <td>2018-08-15</td>\n",
              "      <td>smart</td>\n",
              "      <td>1150</td>\n",
              "    </tr>\n",
              "    <tr>\n",
              "      <td>3210</td>\n",
              "      <td>1489</td>\n",
              "      <td>October</td>\n",
              "      <td>0</td>\n",
              "      <td>0</td>\n",
              "      <td>21</td>\n",
              "      <td>19559</td>\n",
              "      <td>35</td>\n",
              "      <td>NaT</td>\n",
              "      <td>Санкт-Петербург</td>\n",
              "      <td>2018-08-15</td>\n",
              "      <td>smart</td>\n",
              "      <td>1550</td>\n",
              "    </tr>\n",
              "    <tr>\n",
              "      <td>3211</td>\n",
              "      <td>1489</td>\n",
              "      <td>September</td>\n",
              "      <td>0</td>\n",
              "      <td>0</td>\n",
              "      <td>32</td>\n",
              "      <td>17206</td>\n",
              "      <td>35</td>\n",
              "      <td>NaT</td>\n",
              "      <td>Санкт-Петербург</td>\n",
              "      <td>2018-08-15</td>\n",
              "      <td>smart</td>\n",
              "      <td>950</td>\n",
              "    </tr>\n",
              "    <tr>\n",
              "      <td>3212</td>\n",
              "      <td>1240</td>\n",
              "      <td>February</td>\n",
              "      <td>0</td>\n",
              "      <td>0</td>\n",
              "      <td>0</td>\n",
              "      <td>959</td>\n",
              "      <td>30</td>\n",
              "      <td>NaT</td>\n",
              "      <td>Воронеж</td>\n",
              "      <td>2018-02-27</td>\n",
              "      <td>ultra</td>\n",
              "      <td>1950</td>\n",
              "    </tr>\n",
              "    <tr>\n",
              "      <td>3213</td>\n",
              "      <td>1476</td>\n",
              "      <td>April</td>\n",
              "      <td>0</td>\n",
              "      <td>0</td>\n",
              "      <td>0</td>\n",
              "      <td>530</td>\n",
              "      <td>50</td>\n",
              "      <td>NaT</td>\n",
              "      <td>Москва</td>\n",
              "      <td>2018-04-30</td>\n",
              "      <td>ultra</td>\n",
              "      <td>1950</td>\n",
              "    </tr>\n",
              "  </tbody>\n",
              "</table>\n",
              "<p>3214 rows × 12 columns</p>\n",
              "</div>"
            ],
            "text/plain": [
              "      user_id      month  calls_count  mins  messages_count  mb_used  age  \\\n",
              "0        1000     August           42   408              81    14055   52   \n",
              "1        1000   December           38   333              70     9817   52   \n",
              "2        1000       July           41   340              75    14003   52   \n",
              "3        1000       June           28   172              60    23233   52   \n",
              "4        1000        May           17   159              22     2253   52   \n",
              "...       ...        ...          ...   ...             ...      ...  ...   \n",
              "3209     1489   November            0     0              20    17491   35   \n",
              "3210     1489    October            0     0              21    19559   35   \n",
              "3211     1489  September            0     0              32    17206   35   \n",
              "3212     1240   February            0     0               0      959   30   \n",
              "3213     1476      April            0     0               0      530   50   \n",
              "\n",
              "     churn_date             city   reg_date tariff  profit  \n",
              "0           NaT        Краснодар 2018-05-25  ultra    1950  \n",
              "1           NaT        Краснодар 2018-05-25  ultra    1950  \n",
              "2           NaT        Краснодар 2018-05-25  ultra    1950  \n",
              "3           NaT        Краснодар 2018-05-25  ultra    1950  \n",
              "4           NaT        Краснодар 2018-05-25  ultra    1950  \n",
              "...         ...              ...        ...    ...     ...  \n",
              "3209        NaT  Санкт-Петербург 2018-08-15  smart    1150  \n",
              "3210        NaT  Санкт-Петербург 2018-08-15  smart    1550  \n",
              "3211        NaT  Санкт-Петербург 2018-08-15  smart     950  \n",
              "3212        NaT          Воронеж 2018-02-27  ultra    1950  \n",
              "3213        NaT           Москва 2018-04-30  ultra    1950  \n",
              "\n",
              "[3214 rows x 12 columns]"
            ]
          },
          "execution_count": 43,
          "metadata": {},
          "output_type": "execute_result"
        }
      ],
      "source": [
        "data_merge"
      ]
    },
    {
      "cell_type": "code",
      "execution_count": null,
      "metadata": {
        "id": "kn5iEh0eFFmr"
      },
      "outputs": [],
      "source": [
        "def func_pivot(value):\n",
        "    table = data_merge.pivot_table(index=('tariff'), values=value,\\\n",
        "                       aggfunc=('median','mean','var','std')).astype(int).reset_index()\n",
        "    return table"
      ]
    },
    {
      "cell_type": "code",
      "execution_count": null,
      "metadata": {
        "id": "aMtPunSLFFms",
        "outputId": "4324873f-77bd-4c8a-b107-a7f403b54dea"
      },
      "outputs": [
        {
          "data": {
            "text/html": [
              "<div>\n",
              "<style scoped>\n",
              "    .dataframe tbody tr th:only-of-type {\n",
              "        vertical-align: middle;\n",
              "    }\n",
              "\n",
              "    .dataframe tbody tr th {\n",
              "        vertical-align: top;\n",
              "    }\n",
              "\n",
              "    .dataframe thead th {\n",
              "        text-align: right;\n",
              "    }\n",
              "</style>\n",
              "<table border=\"1\" class=\"dataframe\">\n",
              "  <thead>\n",
              "    <tr style=\"text-align: right;\">\n",
              "      <th></th>\n",
              "      <th>tariff</th>\n",
              "      <th>mean</th>\n",
              "      <th>median</th>\n",
              "      <th>std</th>\n",
              "      <th>var</th>\n",
              "    </tr>\n",
              "  </thead>\n",
              "  <tbody>\n",
              "    <tr>\n",
              "      <td>0</td>\n",
              "      <td>smart</td>\n",
              "      <td>417</td>\n",
              "      <td>422</td>\n",
              "      <td>190</td>\n",
              "      <td>36219</td>\n",
              "    </tr>\n",
              "    <tr>\n",
              "      <td>1</td>\n",
              "      <td>ultra</td>\n",
              "      <td>526</td>\n",
              "      <td>518</td>\n",
              "      <td>317</td>\n",
              "      <td>100873</td>\n",
              "    </tr>\n",
              "  </tbody>\n",
              "</table>\n",
              "</div>"
            ],
            "text/plain": [
              "  tariff  mean  median  std     var\n",
              "0  smart   417     422  190   36219\n",
              "1  ultra   526     518  317  100873"
            ]
          },
          "execution_count": 45,
          "metadata": {},
          "output_type": "execute_result"
        }
      ],
      "source": [
        "mins_pivot = func_pivot('mins')\n",
        "mins_pivot"
      ]
    },
    {
      "cell_type": "code",
      "execution_count": null,
      "metadata": {
        "id": "Kji5gLZfFFms",
        "outputId": "744d294d-a056-4e76-baa5-b4fccce505a1"
      },
      "outputs": [
        {
          "data": {
            "text/html": [
              "<div>\n",
              "<style scoped>\n",
              "    .dataframe tbody tr th:only-of-type {\n",
              "        vertical-align: middle;\n",
              "    }\n",
              "\n",
              "    .dataframe tbody tr th {\n",
              "        vertical-align: top;\n",
              "    }\n",
              "\n",
              "    .dataframe thead th {\n",
              "        text-align: right;\n",
              "    }\n",
              "</style>\n",
              "<table border=\"1\" class=\"dataframe\">\n",
              "  <thead>\n",
              "    <tr style=\"text-align: right;\">\n",
              "      <th></th>\n",
              "      <th>tariff</th>\n",
              "      <th>mean</th>\n",
              "      <th>median</th>\n",
              "      <th>std</th>\n",
              "      <th>var</th>\n",
              "    </tr>\n",
              "  </thead>\n",
              "  <tbody>\n",
              "    <tr>\n",
              "      <td>0</td>\n",
              "      <td>smart</td>\n",
              "      <td>33</td>\n",
              "      <td>28</td>\n",
              "      <td>28</td>\n",
              "      <td>796</td>\n",
              "    </tr>\n",
              "    <tr>\n",
              "      <td>1</td>\n",
              "      <td>ultra</td>\n",
              "      <td>49</td>\n",
              "      <td>38</td>\n",
              "      <td>47</td>\n",
              "      <td>2285</td>\n",
              "    </tr>\n",
              "  </tbody>\n",
              "</table>\n",
              "</div>"
            ],
            "text/plain": [
              "  tariff  mean  median  std   var\n",
              "0  smart    33      28   28   796\n",
              "1  ultra    49      38   47  2285"
            ]
          },
          "execution_count": 46,
          "metadata": {},
          "output_type": "execute_result"
        }
      ],
      "source": [
        "messages_pivot = func_pivot('messages_count')\n",
        "messages_pivot"
      ]
    },
    {
      "cell_type": "code",
      "execution_count": null,
      "metadata": {
        "id": "FMFy4QIqFFmt",
        "outputId": "428b197b-d591-4111-cfde-1732b1dd0771"
      },
      "outputs": [
        {
          "data": {
            "text/html": [
              "<div>\n",
              "<style scoped>\n",
              "    .dataframe tbody tr th:only-of-type {\n",
              "        vertical-align: middle;\n",
              "    }\n",
              "\n",
              "    .dataframe tbody tr th {\n",
              "        vertical-align: top;\n",
              "    }\n",
              "\n",
              "    .dataframe thead th {\n",
              "        text-align: right;\n",
              "    }\n",
              "</style>\n",
              "<table border=\"1\" class=\"dataframe\">\n",
              "  <thead>\n",
              "    <tr style=\"text-align: right;\">\n",
              "      <th></th>\n",
              "      <th>tariff</th>\n",
              "      <th>mean</th>\n",
              "      <th>median</th>\n",
              "      <th>std</th>\n",
              "      <th>var</th>\n",
              "    </tr>\n",
              "  </thead>\n",
              "  <tbody>\n",
              "    <tr>\n",
              "      <td>0</td>\n",
              "      <td>smart</td>\n",
              "      <td>16207</td>\n",
              "      <td>16506</td>\n",
              "      <td>5870</td>\n",
              "      <td>34462537</td>\n",
              "    </tr>\n",
              "    <tr>\n",
              "      <td>1</td>\n",
              "      <td>ultra</td>\n",
              "      <td>19468</td>\n",
              "      <td>19308</td>\n",
              "      <td>10087</td>\n",
              "      <td>101751075</td>\n",
              "    </tr>\n",
              "  </tbody>\n",
              "</table>\n",
              "</div>"
            ],
            "text/plain": [
              "  tariff   mean  median    std        var\n",
              "0  smart  16207   16506   5870   34462537\n",
              "1  ultra  19468   19308  10087  101751075"
            ]
          },
          "execution_count": 47,
          "metadata": {},
          "output_type": "execute_result"
        }
      ],
      "source": [
        "internet_pivot = func_pivot('mb_used')\n",
        "internet_pivot"
      ]
    },
    {
      "cell_type": "code",
      "execution_count": null,
      "metadata": {
        "id": "ACtpVE3RFFmt",
        "outputId": "1af2b517-d1d8-4267-e71a-c04bda7d9bb2"
      },
      "outputs": [
        {
          "data": {
            "text/plain": [
              "<matplotlib.legend.Legend at 0x7fd087fea650>"
            ]
          },
          "execution_count": 48,
          "metadata": {},
          "output_type": "execute_result"
        },
        {
          "data": {
            "image/png": "[encoded data removed]",
            "text/plain": [
              "<Figure size 1152x648 with 1 Axes>"
            ]
          },
          "metadata": {
            "needs_background": "light"
          },
          "output_type": "display_data"
        }
      ],
      "source": [
        "data_merge[(data_merge['tariff'] == 'smart')\n",
        "           & (data_merge['mins'] !=0)]['mins'].plot(kind='hist', bins=100, title='Количество минут в месяц', figsize=(16, 9))\n",
        "\n",
        "data_merge[(data_merge['tariff'] == 'ultra')\n",
        "           & (data_merge['mins'] !=0)]['mins'].plot(kind='hist', bins=100, alpha = 0.5)\n",
        "\n",
        "plt.legend([\"Smart\", \"Ultra\"])"
      ]
    },
    {
      "cell_type": "code",
      "execution_count": null,
      "metadata": {
        "id": "R1ZXylBdFFmu",
        "outputId": "858a8589-9492-4d4f-fd5b-f550368b1017"
      },
      "outputs": [
        {
          "data": {
            "image/png": "[encoded data removed]",
            "text/plain": [
              "<Figure size 720x576 with 1 Axes>"
            ]
          },
          "metadata": {
            "needs_background": "light"
          },
          "output_type": "display_data"
        }
      ],
      "source": [
        "data_merge.groupby('tariff')['mins'].plot.hist(alpha=0.5, legend=True, bins=25, figsize=(10,8))\n",
        "\n",
        "plt.legend(['Смарт', 'Ультра'])\n",
        "plt.title('Заголовок')\n",
        "plt.xlabel('Подпись')\n",
        "plt.ylabel('Подпись')\n",
        "\n",
        "plt.show()"
      ]
    },
    {
      "cell_type": "code",
      "execution_count": null,
      "metadata": {
        "id": "Jz6YU0GqFFmv",
        "outputId": "0c640cae-0e4e-4406-d468-54e2d761c475"
      },
      "outputs": [
        {
          "data": {
            "text/plain": [
              "<matplotlib.legend.Legend at 0x7fd07f6b5490>"
            ]
          },
          "execution_count": 50,
          "metadata": {},
          "output_type": "execute_result"
        },
        {
          "data": {
            "image/png": "[encoded data removed]",
            "text/plain": [
              "<Figure size 1152x648 with 1 Axes>"
            ]
          },
          "metadata": {
            "needs_background": "light"
          },
          "output_type": "display_data"
        }
      ],
      "source": [
        "data_merge[(data_merge['tariff'] == 'smart')\n",
        "           & (data_merge['messages_count'] !=0)]['messages_count'].plot(\n",
        "    kind='hist', bins=100, title='Количество сообщений в месяц', figsize=(16, 9))\n",
        "\n",
        "data_merge[(data_merge['tariff'] == 'ultra')\n",
        "           & (data_merge['messages_count'] !=0)]['messages_count'].plot(\n",
        "    kind='hist', bins=100, alpha = 0.5)\n",
        "\n",
        "plt.axvline(x=50, color='r')\n",
        "plt.axvline(x=1000, color='g')\n",
        "plt.legend(['включенные сообщения \"Smart\"', 'включенные сообщения \"Ultra\"', \"Smart\", \"Ultra\"], loc=1)"
      ]
    },
    {
      "cell_type": "code",
      "execution_count": null,
      "metadata": {
        "id": "T-Ngg_EAFFmw",
        "outputId": "5b041d7d-e957-4768-867f-07fbbbde4c05"
      },
      "outputs": [
        {
          "data": {
            "text/plain": [
              "<matplotlib.legend.Legend at 0x7fd088064510>"
            ]
          },
          "execution_count": 51,
          "metadata": {},
          "output_type": "execute_result"
        },
        {
          "data": {
            "image/png": "[encoded data removed]",
            "text/plain": [
              "<Figure size 1152x648 with 1 Axes>"
            ]
          },
          "metadata": {
            "needs_background": "light"
          },
          "output_type": "display_data"
        }
      ],
      "source": [
        "data_merge[(data_merge['tariff'] == 'smart')\n",
        "           &(data_merge['mb_used'] !=0)]['mb_used'].plot(kind='hist', bins=90, title='Мегабайт в месяц', figsize=(16, 9))\n",
        "\n",
        "data_merge[(data_merge['tariff'] == 'ultra')\n",
        "           &(data_merge['mb_used'] !=0)]['mb_used'].plot(kind='hist', bins=90, alpha = 0.5)\n",
        "\n",
        "plt.axvline(x=15360, color='r')\n",
        "plt.axvline(x=30720, color='g')\n",
        "plt.legend(['включенный трафик \"Smart\"', 'включенный трафик \"Ultra\"', \"Smart\", \"Ultra\"], loc=1)"
      ]
    },
    {
      "cell_type": "markdown",
      "metadata": {
        "id": "0gROItQdFFmx"
      },
      "source": [
        "**Вывод**"
      ]
    },
    {
      "cell_type": "markdown",
      "metadata": {
        "id": "asticCBPFFmx"
      },
      "source": [
        "Исходя из приведенных графиков заметно, что распределение литимов по тарифу \"Смарт\" не укладывается в рамки трафика ни по одному из параметров. По тарифу \"Ультра\" распределения минут разговра и смс находятся в пределах указанных лимитов по тарифу, по трафику - уже выходит чуть дальше рамок."
      ]
    },
    {
      "cell_type": "markdown",
      "metadata": {
        "id": "K1z-e1MmFFmx"
      },
      "source": [
        "## Проверка гипотез"
      ]
    },
    {
      "cell_type": "markdown",
      "metadata": {
        "id": "v0XPu-enFFmy"
      },
      "source": [
        "Н0  - средняя выручка пользователей тарифов «Ультра» и «Смарт» одинаковы\n",
        "\n",
        "Н1 - средняя выручка пользователей тарифов «Ультра» и «Смарт» различается\n",
        "\n",
        "alpha = 0.05"
      ]
    },
    {
      "cell_type": "code",
      "execution_count": null,
      "metadata": {
        "id": "rta1e_I3FFmy",
        "outputId": "04a00de5-0093-4274-9169-8e5887e5cfe9"
      },
      "outputs": [
        {
          "name": "stdout",
          "output_type": "stream",
          "text": [
            "p-значение: 1.4229814360764067e-160\n",
            "Отвергаем нулевую гипотезу\n"
          ]
        }
      ],
      "source": [
        "df_smart = data_merge[data_merge['tariff'] == 'smart']\n",
        "df_ultra = data_merge[data_merge['tariff'] == 'ultra']\n",
        "alpha = 0.05\n",
        "\n",
        "result = st.ttest_ind(df_smart['profit'], df_ultra['profit'])\n",
        "\n",
        "print('p-значение:', result.pvalue)\n",
        "\n",
        "if result.pvalue < alpha:\n",
        "    print('Отвергаем нулевую гипотезу')\n",
        "else:\n",
        "    print('Не получилось отвергнуть нулевую гипотезу')"
      ]
    },
    {
      "cell_type": "markdown",
      "metadata": {
        "id": "sW96zq7pFFmy"
      },
      "source": [
        "Нулевая гипотеза не подтвердилась, а значит с большой вероятностью мы можем говорить о том что пользователи тарифа \"Ultra\" приносят больше денег компании."
      ]
    },
    {
      "cell_type": "markdown",
      "metadata": {
        "id": "rtfSGHKkFFm1"
      },
      "source": [
        "Несмотря на то, что тариф \"Ультра\" стоит дороже, чем \"Смарт\", пользователям \"Смарт\" не всегда хватает имеющегося лимита и им просто приходится переплачивать. Поэтому выручки по этим тарифам существенно отличаются.\n",
        "\n",
        "Перейдем к следующей гипотезе.\n",
        "\n",
        "Н0  - средняя выручка пользователей из Москвы равна средней выручке пользователей из других регионов\n",
        "\n",
        "Н1 - средняя выручка пользователей из Москвы отличается от выручки пользователей из других регионов\n",
        "\n",
        "alpha = 0.05"
      ]
    },
    {
      "cell_type": "code",
      "execution_count": null,
      "metadata": {
        "id": "zPkJXZRiFFm1",
        "outputId": "b37e195a-6258-43b2-d049-7822ec2ad9c5"
      },
      "outputs": [
        {
          "data": {
            "text/plain": [
              "3.330449950696979e-05"
            ]
          },
          "execution_count": 53,
          "metadata": {},
          "output_type": "execute_result"
        }
      ],
      "source": [
        "df_moscow = data_merge[data_merge['city'] == 'Москва']\n",
        "df_another_city = data_merge[data_merge['city'] != 'Москва']\n",
        "\n",
        "abs(np.mean(df_moscow ['profit']) - np.mean(df_another_city['profit'])) / (np.var(df_another_city['profit']))"
      ]
    },
    {
      "cell_type": "code",
      "execution_count": null,
      "metadata": {
        "id": "QfbIPDtNFFm2",
        "outputId": "1cd8ca0f-89e9-4068-ddad-d8e1d9d0f295"
      },
      "outputs": [
        {
          "name": "stdout",
          "output_type": "stream",
          "text": [
            "p-значение: 0.5440152911670224\n",
            "Не получилось отвергнуть нулевую гипотезу\n"
          ]
        }
      ],
      "source": [
        "alpha = 0.05\n",
        "\n",
        "result = st.ttest_ind(df_moscow ['profit'], df_another_city['profit'])\n",
        "\n",
        "print('p-значение:', result.pvalue)\n",
        "\n",
        "if result.pvalue < alpha:\n",
        "    print('Отвергаем нулевую гипотезу')\n",
        "else:\n",
        "    print('Не получилось отвергнуть нулевую гипотезу')"
      ]
    },
    {
      "cell_type": "markdown",
      "metadata": {
        "id": "Sp2EZxr-FFm2"
      },
      "source": [
        "Нулевая гипотеза не отвергнута, а значит пользователи из Москвы тратят столько же сколько пользователи из других городов."
      ]
    },
    {
      "cell_type": "markdown",
      "metadata": {
        "id": "1_Zi7KWLFFm2"
      },
      "source": [
        "## Общий вывод\n"
      ]
    },
    {
      "cell_type": "markdown",
      "metadata": {
        "id": "S20Tzqh4FFm3"
      },
      "source": [
        "Изучили данные 500 клиентов, которые используют тарифы \"Смарт\" и \"Ультра\" и произвели предобработку (изменили тип некоторых данных, округлили значения минут и мегабайтов в большую сторону, обработали нулевые значения)\n",
        "\n",
        "Для каждого пользователя рассчитали количество звонков, сообщений и израсходованного интернет трафика по месяцам, а также помесячную выручку\n",
        "\n",
        "Проанализировав данные о выручках по каждому тарифу и выяснили, что пользователям тарифа «Смарт» не хватает лимита в рамках тарифного пакета, из-за этого клиенты \"Смарта\" в год приносят больше выручки для компании, чем клиенты \"Ультра\"\n",
        "\n",
        "Произвели статистический анализ и проверили 2 гипотезы:\n",
        "\n",
        "средняя выручка пользователей тарифов «Ультра» и «Смарт» различается\n",
        "средняя выручка пользователей из Москвы не отличается от выручки пользователей из других регионов\n",
        "Получили следующее:\n",
        "\n",
        "Несмотря на то, что тариф \"Ультра\" стоит дороже, чем \"Смарт\", пользователям \"Смарт\" не всегда хватает имеющегося лимита и им просто приходится переплачивать. Поэтому выручки по этим тарифам существенно отличаются, по \"Смарту\" она больше.\n",
        "\n",
        "Средняя выручка пользователей из Москвы не отличается от выручки пользователей из других регионов. \n",
        "\n",
        "Можем сделать вывод, что с точки зрения прибыли тариф \"Смарт\" будет лучше, чем тариф \"Ультра\""
      ]
    },
    {
      "cell_type": "code",
      "execution_count": null,
      "metadata": {
        "id": "2YffPbiiFFm4"
      },
      "outputs": [],
      "source": []
    }
  ],
  "metadata": {
    "ExecuteTimeLog": [
      {
        "duration": 115,
        "start_time": "2022-01-13T04:08:54.667Z"
      },
      {
        "duration": 1127,
        "start_time": "2022-01-13T04:29:48.602Z"
      },
      {
        "duration": 1124,
        "start_time": "2022-01-13T04:29:57.209Z"
      },
      {
        "duration": 192,
        "start_time": "2022-01-13T04:32:47.213Z"
      },
      {
        "duration": 166,
        "start_time": "2022-01-13T04:33:17.511Z"
      },
      {
        "duration": 107,
        "start_time": "2022-01-13T04:33:34.583Z"
      },
      {
        "duration": 16,
        "start_time": "2022-01-13T04:33:56.439Z"
      },
      {
        "duration": 32,
        "start_time": "2022-01-13T04:34:11.060Z"
      },
      {
        "duration": 219,
        "start_time": "2022-01-13T04:34:48.159Z"
      },
      {
        "duration": 177,
        "start_time": "2022-01-13T04:35:01.622Z"
      },
      {
        "duration": 127,
        "start_time": "2022-01-13T04:35:12.997Z"
      },
      {
        "duration": 106,
        "start_time": "2022-01-13T04:35:42.567Z"
      },
      {
        "duration": 109,
        "start_time": "2022-01-13T04:35:48.726Z"
      },
      {
        "duration": 25,
        "start_time": "2022-01-13T04:35:55.926Z"
      },
      {
        "duration": 42,
        "start_time": "2022-01-13T04:36:35.433Z"
      },
      {
        "duration": 25,
        "start_time": "2022-01-13T04:37:04.350Z"
      },
      {
        "duration": 1214,
        "start_time": "2022-01-13T04:37:16.418Z"
      },
      {
        "duration": 211,
        "start_time": "2022-01-13T04:37:17.635Z"
      },
      {
        "duration": 175,
        "start_time": "2022-01-13T04:37:17.849Z"
      },
      {
        "duration": 124,
        "start_time": "2022-01-13T04:37:18.027Z"
      },
      {
        "duration": 29,
        "start_time": "2022-01-13T04:37:18.154Z"
      },
      {
        "duration": 51,
        "start_time": "2022-01-13T04:37:18.186Z"
      },
      {
        "duration": 436,
        "start_time": "2022-01-13T04:45:44.467Z"
      },
      {
        "duration": 181,
        "start_time": "2022-01-13T04:46:15.803Z"
      },
      {
        "duration": 240,
        "start_time": "2022-01-13T04:47:28.646Z"
      },
      {
        "duration": 554,
        "start_time": "2022-01-13T04:47:38.080Z"
      },
      {
        "duration": 231,
        "start_time": "2022-01-13T04:47:41.920Z"
      },
      {
        "duration": 123,
        "start_time": "2022-01-13T04:50:48.000Z"
      },
      {
        "duration": 128,
        "start_time": "2022-01-13T04:50:55.590Z"
      },
      {
        "duration": 30,
        "start_time": "2022-01-13T04:51:21.901Z"
      },
      {
        "duration": 54,
        "start_time": "2022-01-13T04:51:32.209Z"
      },
      {
        "duration": 183,
        "start_time": "2022-01-13T04:59:34.568Z"
      },
      {
        "duration": 192,
        "start_time": "2022-01-13T04:59:55.004Z"
      },
      {
        "duration": 242,
        "start_time": "2022-01-13T04:59:57.685Z"
      },
      {
        "duration": 139,
        "start_time": "2022-01-13T05:00:08.089Z"
      },
      {
        "duration": 24,
        "start_time": "2022-01-13T05:00:17.893Z"
      },
      {
        "duration": 41,
        "start_time": "2022-01-13T05:00:31.236Z"
      },
      {
        "duration": 120,
        "start_time": "2022-01-13T05:01:09.142Z"
      },
      {
        "duration": 177,
        "start_time": "2022-01-13T05:01:22.425Z"
      },
      {
        "duration": 200,
        "start_time": "2022-01-13T05:01:32.863Z"
      },
      {
        "duration": 23,
        "start_time": "2022-01-13T05:01:49.710Z"
      },
      {
        "duration": 31,
        "start_time": "2022-01-13T05:01:59.685Z"
      },
      {
        "duration": 207,
        "start_time": "2022-01-13T05:02:29.999Z"
      },
      {
        "duration": 25,
        "start_time": "2022-01-13T05:02:31.372Z"
      },
      {
        "duration": 161,
        "start_time": "2022-01-13T05:02:46.258Z"
      },
      {
        "duration": 21,
        "start_time": "2022-01-13T05:02:46.422Z"
      },
      {
        "duration": 18,
        "start_time": "2022-01-13T05:02:58.053Z"
      },
      {
        "duration": 136,
        "start_time": "2022-01-13T05:03:03.117Z"
      },
      {
        "duration": 18,
        "start_time": "2022-01-13T05:03:04.608Z"
      },
      {
        "duration": 9,
        "start_time": "2022-01-13T05:03:20.340Z"
      },
      {
        "duration": 9,
        "start_time": "2022-01-13T05:03:30.796Z"
      },
      {
        "duration": 34,
        "start_time": "2022-01-13T05:03:35.795Z"
      },
      {
        "duration": 1064,
        "start_time": "2022-01-13T05:03:41.164Z"
      },
      {
        "duration": 199,
        "start_time": "2022-01-13T05:03:42.230Z"
      },
      {
        "duration": 25,
        "start_time": "2022-01-13T05:03:42.432Z"
      },
      {
        "duration": 184,
        "start_time": "2022-01-13T05:03:42.460Z"
      },
      {
        "duration": 22,
        "start_time": "2022-01-13T05:03:42.646Z"
      },
      {
        "duration": 257,
        "start_time": "2022-01-13T05:03:42.670Z"
      },
      {
        "duration": 28,
        "start_time": "2022-01-13T05:03:42.930Z"
      },
      {
        "duration": 75,
        "start_time": "2022-01-13T05:03:42.963Z"
      },
      {
        "duration": 12,
        "start_time": "2022-01-13T05:03:43.041Z"
      },
      {
        "duration": 80,
        "start_time": "2022-01-13T05:03:43.056Z"
      },
      {
        "duration": 8,
        "start_time": "2022-01-13T05:03:43.139Z"
      },
      {
        "duration": 620,
        "start_time": "2022-01-13T05:03:43.151Z"
      },
      {
        "duration": -136,
        "start_time": "2022-01-13T05:03:43.910Z"
      },
      {
        "duration": -142,
        "start_time": "2022-01-13T05:03:43.918Z"
      },
      {
        "duration": 23,
        "start_time": "2022-01-13T05:05:11.407Z"
      },
      {
        "duration": 25,
        "start_time": "2022-01-13T05:06:07.847Z"
      },
      {
        "duration": 1087,
        "start_time": "2022-01-13T05:07:44.240Z"
      },
      {
        "duration": 203,
        "start_time": "2022-01-13T05:07:45.330Z"
      },
      {
        "duration": 26,
        "start_time": "2022-01-13T05:07:45.536Z"
      },
      {
        "duration": 180,
        "start_time": "2022-01-13T05:07:45.565Z"
      },
      {
        "duration": 21,
        "start_time": "2022-01-13T05:07:45.748Z"
      },
      {
        "duration": 131,
        "start_time": "2022-01-13T05:07:45.771Z"
      },
      {
        "duration": 26,
        "start_time": "2022-01-13T05:07:45.905Z"
      },
      {
        "duration": 23,
        "start_time": "2022-01-13T05:07:45.934Z"
      },
      {
        "duration": 8,
        "start_time": "2022-01-13T05:07:45.960Z"
      },
      {
        "duration": 35,
        "start_time": "2022-01-13T05:07:45.970Z"
      },
      {
        "duration": 21,
        "start_time": "2022-01-13T05:07:46.008Z"
      },
      {
        "duration": 24,
        "start_time": "2022-01-13T05:07:46.031Z"
      },
      {
        "duration": 979,
        "start_time": "2022-01-13T17:31:12.328Z"
      },
      {
        "duration": 186,
        "start_time": "2022-01-13T17:31:13.309Z"
      },
      {
        "duration": 21,
        "start_time": "2022-01-13T17:31:13.497Z"
      },
      {
        "duration": 163,
        "start_time": "2022-01-13T17:31:13.520Z"
      },
      {
        "duration": 17,
        "start_time": "2022-01-13T17:31:13.685Z"
      },
      {
        "duration": 108,
        "start_time": "2022-01-13T17:31:13.704Z"
      },
      {
        "duration": 14,
        "start_time": "2022-01-13T17:31:13.814Z"
      },
      {
        "duration": 33,
        "start_time": "2022-01-13T17:31:13.831Z"
      },
      {
        "duration": 18,
        "start_time": "2022-01-13T17:31:13.866Z"
      },
      {
        "duration": 39,
        "start_time": "2022-01-13T17:31:13.886Z"
      },
      {
        "duration": 7,
        "start_time": "2022-01-13T17:31:13.927Z"
      },
      {
        "duration": 18,
        "start_time": "2022-01-13T17:31:13.936Z"
      },
      {
        "duration": 1230,
        "start_time": "2022-01-15T14:57:36.006Z"
      },
      {
        "duration": 207,
        "start_time": "2022-01-15T14:57:37.238Z"
      },
      {
        "duration": 27,
        "start_time": "2022-01-15T14:57:37.449Z"
      },
      {
        "duration": 197,
        "start_time": "2022-01-15T14:57:37.479Z"
      },
      {
        "duration": 21,
        "start_time": "2022-01-15T14:57:37.678Z"
      },
      {
        "duration": 120,
        "start_time": "2022-01-15T14:57:37.722Z"
      },
      {
        "duration": 18,
        "start_time": "2022-01-15T14:57:37.844Z"
      },
      {
        "duration": 26,
        "start_time": "2022-01-15T14:57:37.865Z"
      },
      {
        "duration": 35,
        "start_time": "2022-01-15T14:57:37.894Z"
      },
      {
        "duration": 43,
        "start_time": "2022-01-15T14:57:37.931Z"
      },
      {
        "duration": 8,
        "start_time": "2022-01-15T14:57:37.976Z"
      },
      {
        "duration": 43,
        "start_time": "2022-01-15T14:57:37.986Z"
      },
      {
        "duration": 31,
        "start_time": "2022-01-15T15:39:35.430Z"
      },
      {
        "duration": 23,
        "start_time": "2022-01-15T15:39:48.639Z"
      },
      {
        "duration": 470,
        "start_time": "2022-01-15T15:39:55.857Z"
      },
      {
        "duration": 9,
        "start_time": "2022-01-15T15:40:04.651Z"
      },
      {
        "duration": 20,
        "start_time": "2022-01-15T15:41:00.694Z"
      },
      {
        "duration": 112,
        "start_time": "2022-01-15T15:53:32.790Z"
      },
      {
        "duration": 357,
        "start_time": "2022-01-15T15:53:41.882Z"
      },
      {
        "duration": 1232,
        "start_time": "2022-01-16T08:45:02.701Z"
      },
      {
        "duration": 218,
        "start_time": "2022-01-16T08:45:03.936Z"
      },
      {
        "duration": 27,
        "start_time": "2022-01-16T08:45:04.159Z"
      },
      {
        "duration": 197,
        "start_time": "2022-01-16T08:45:04.189Z"
      },
      {
        "duration": 22,
        "start_time": "2022-01-16T08:45:04.388Z"
      },
      {
        "duration": 141,
        "start_time": "2022-01-16T08:45:04.412Z"
      },
      {
        "duration": 17,
        "start_time": "2022-01-16T08:45:04.559Z"
      },
      {
        "duration": 27,
        "start_time": "2022-01-16T08:45:04.580Z"
      },
      {
        "duration": 16,
        "start_time": "2022-01-16T08:45:04.609Z"
      },
      {
        "duration": 42,
        "start_time": "2022-01-16T08:45:04.627Z"
      },
      {
        "duration": 9,
        "start_time": "2022-01-16T08:45:04.671Z"
      },
      {
        "duration": 23,
        "start_time": "2022-01-16T08:45:04.682Z"
      },
      {
        "duration": 7,
        "start_time": "2022-01-16T08:45:04.708Z"
      },
      {
        "duration": 4,
        "start_time": "2022-01-16T09:24:12.058Z"
      },
      {
        "duration": 9,
        "start_time": "2022-01-16T09:24:29.272Z"
      },
      {
        "duration": 10,
        "start_time": "2022-01-16T09:24:50.592Z"
      },
      {
        "duration": 46,
        "start_time": "2022-01-16T09:25:09.104Z"
      },
      {
        "duration": 64,
        "start_time": "2022-01-16T09:25:17.168Z"
      },
      {
        "duration": 5,
        "start_time": "2022-01-16T09:25:26.575Z"
      },
      {
        "duration": 11,
        "start_time": "2022-01-16T09:25:35.831Z"
      },
      {
        "duration": 34,
        "start_time": "2022-01-16T09:29:28.157Z"
      },
      {
        "duration": 17,
        "start_time": "2022-01-16T09:29:34.444Z"
      },
      {
        "duration": 35,
        "start_time": "2022-01-16T09:30:06.643Z"
      },
      {
        "duration": 440,
        "start_time": "2022-01-16T09:30:21.420Z"
      },
      {
        "duration": 17,
        "start_time": "2022-01-16T09:30:24.460Z"
      },
      {
        "duration": 89,
        "start_time": "2022-01-16T09:33:38.817Z"
      },
      {
        "duration": 12,
        "start_time": "2022-01-16T09:34:17.295Z"
      },
      {
        "duration": 53,
        "start_time": "2022-01-16T09:38:16.837Z"
      },
      {
        "duration": 35,
        "start_time": "2022-01-16T09:38:20.109Z"
      },
      {
        "duration": 10,
        "start_time": "2022-01-16T09:38:29.388Z"
      },
      {
        "duration": 55,
        "start_time": "2022-01-16T09:39:33.820Z"
      },
      {
        "duration": 12,
        "start_time": "2022-01-16T09:39:34.700Z"
      },
      {
        "duration": 37,
        "start_time": "2022-01-16T09:39:46.547Z"
      },
      {
        "duration": 9,
        "start_time": "2022-01-16T09:39:52.492Z"
      },
      {
        "duration": 63,
        "start_time": "2022-01-16T09:40:41.755Z"
      },
      {
        "duration": 13,
        "start_time": "2022-01-16T09:40:42.547Z"
      },
      {
        "duration": 42,
        "start_time": "2022-01-16T09:40:43.465Z"
      },
      {
        "duration": 11,
        "start_time": "2022-01-16T09:40:44.122Z"
      },
      {
        "duration": 13,
        "start_time": "2022-01-16T09:42:39.432Z"
      },
      {
        "duration": 14,
        "start_time": "2022-01-16T09:42:39.912Z"
      },
      {
        "duration": 327,
        "start_time": "2022-01-16T09:55:25.407Z"
      },
      {
        "duration": 13,
        "start_time": "2022-01-16T09:55:26.005Z"
      },
      {
        "duration": 67,
        "start_time": "2022-01-16T09:55:41.542Z"
      },
      {
        "duration": 14,
        "start_time": "2022-01-16T09:55:42.661Z"
      },
      {
        "duration": 1150,
        "start_time": "2022-01-16T09:55:48.115Z"
      },
      {
        "duration": 214,
        "start_time": "2022-01-16T09:55:49.267Z"
      },
      {
        "duration": 26,
        "start_time": "2022-01-16T09:55:49.484Z"
      },
      {
        "duration": 202,
        "start_time": "2022-01-16T09:55:49.512Z"
      },
      {
        "duration": 24,
        "start_time": "2022-01-16T09:55:49.717Z"
      },
      {
        "duration": 140,
        "start_time": "2022-01-16T09:55:49.760Z"
      },
      {
        "duration": 69,
        "start_time": "2022-01-16T09:55:49.903Z"
      },
      {
        "duration": 25,
        "start_time": "2022-01-16T09:55:49.974Z"
      },
      {
        "duration": 59,
        "start_time": "2022-01-16T09:55:50.003Z"
      },
      {
        "duration": 94,
        "start_time": "2022-01-16T09:55:50.065Z"
      },
      {
        "duration": 13,
        "start_time": "2022-01-16T09:55:50.162Z"
      },
      {
        "duration": 83,
        "start_time": "2022-01-16T09:55:50.178Z"
      },
      {
        "duration": 12,
        "start_time": "2022-01-16T09:55:50.265Z"
      },
      {
        "duration": 13,
        "start_time": "2022-01-16T09:55:50.280Z"
      },
      {
        "duration": 64,
        "start_time": "2022-01-16T09:55:50.296Z"
      },
      {
        "duration": 100,
        "start_time": "2022-01-16T09:55:50.363Z"
      },
      {
        "duration": 34,
        "start_time": "2022-01-16T09:55:50.466Z"
      },
      {
        "duration": 59,
        "start_time": "2022-01-16T09:55:50.503Z"
      },
      {
        "duration": 12,
        "start_time": "2022-01-16T09:55:50.565Z"
      },
      {
        "duration": 27,
        "start_time": "2022-01-16T09:55:50.580Z"
      },
      {
        "duration": 14,
        "start_time": "2022-01-16T09:55:50.659Z"
      },
      {
        "duration": 31,
        "start_time": "2022-01-16T09:55:50.676Z"
      },
      {
        "duration": 17,
        "start_time": "2022-01-16T09:55:50.760Z"
      },
      {
        "duration": 194,
        "start_time": "2022-01-16T09:55:50.780Z"
      },
      {
        "duration": 13,
        "start_time": "2022-01-16T09:55:50.976Z"
      },
      {
        "duration": 104,
        "start_time": "2022-01-16T09:55:50.991Z"
      },
      {
        "duration": 11,
        "start_time": "2022-01-16T09:55:51.099Z"
      },
      {
        "duration": 99,
        "start_time": "2022-01-16T09:55:51.113Z"
      },
      {
        "duration": 13,
        "start_time": "2022-01-16T09:55:51.214Z"
      },
      {
        "duration": 68,
        "start_time": "2022-01-16T09:55:51.229Z"
      },
      {
        "duration": 9,
        "start_time": "2022-01-16T09:55:51.300Z"
      },
      {
        "duration": 98,
        "start_time": "2022-01-16T09:55:51.312Z"
      },
      {
        "duration": 15,
        "start_time": "2022-01-16T09:55:51.412Z"
      },
      {
        "duration": 63,
        "start_time": "2022-01-16T09:55:51.429Z"
      },
      {
        "duration": 10,
        "start_time": "2022-01-16T09:55:51.495Z"
      },
      {
        "duration": 14,
        "start_time": "2022-01-16T09:55:51.507Z"
      },
      {
        "duration": 41,
        "start_time": "2022-01-16T09:55:51.524Z"
      },
      {
        "duration": 432,
        "start_time": "2022-01-16T09:57:21.347Z"
      },
      {
        "duration": 23,
        "start_time": "2022-01-16T09:57:40.565Z"
      },
      {
        "duration": 30,
        "start_time": "2022-01-16T09:58:34.674Z"
      },
      {
        "duration": 333,
        "start_time": "2022-01-16T09:58:47.553Z"
      },
      {
        "duration": 307,
        "start_time": "2022-01-16T09:59:19.434Z"
      },
      {
        "duration": 22,
        "start_time": "2022-01-16T10:00:00.729Z"
      },
      {
        "duration": 12,
        "start_time": "2022-01-16T10:00:10.745Z"
      },
      {
        "duration": 15,
        "start_time": "2022-01-16T10:00:23.192Z"
      },
      {
        "duration": 32,
        "start_time": "2022-01-16T10:00:30.858Z"
      },
      {
        "duration": 44,
        "start_time": "2022-01-16T10:00:31.545Z"
      },
      {
        "duration": 326,
        "start_time": "2022-01-16T10:00:35.481Z"
      },
      {
        "duration": 315,
        "start_time": "2022-01-16T10:00:49.152Z"
      },
      {
        "duration": 393,
        "start_time": "2022-01-16T10:01:12.297Z"
      },
      {
        "duration": 14,
        "start_time": "2022-01-16T10:02:09.823Z"
      },
      {
        "duration": 20,
        "start_time": "2022-01-16T10:02:34.592Z"
      },
      {
        "duration": 5,
        "start_time": "2022-01-16T10:03:47.228Z"
      },
      {
        "duration": 60,
        "start_time": "2022-01-16T10:03:57.766Z"
      },
      {
        "duration": 8374,
        "start_time": "2022-01-16T10:05:45.844Z"
      },
      {
        "duration": 1225,
        "start_time": "2022-01-16T10:06:04.189Z"
      },
      {
        "duration": 319,
        "start_time": "2022-01-16T10:06:05.416Z"
      },
      {
        "duration": 40,
        "start_time": "2022-01-16T10:06:05.738Z"
      },
      {
        "duration": 198,
        "start_time": "2022-01-16T10:06:05.780Z"
      },
      {
        "duration": 26,
        "start_time": "2022-01-16T10:06:05.980Z"
      },
      {
        "duration": 153,
        "start_time": "2022-01-16T10:06:06.009Z"
      },
      {
        "duration": 22,
        "start_time": "2022-01-16T10:06:06.164Z"
      },
      {
        "duration": 27,
        "start_time": "2022-01-16T10:06:06.190Z"
      },
      {
        "duration": 40,
        "start_time": "2022-01-16T10:06:06.222Z"
      },
      {
        "duration": 47,
        "start_time": "2022-01-16T10:06:06.265Z"
      },
      {
        "duration": 9,
        "start_time": "2022-01-16T10:06:06.314Z"
      },
      {
        "duration": 46,
        "start_time": "2022-01-16T10:06:06.325Z"
      },
      {
        "duration": 15,
        "start_time": "2022-01-16T10:06:06.373Z"
      },
      {
        "duration": 15,
        "start_time": "2022-01-16T10:06:06.391Z"
      },
      {
        "duration": 14,
        "start_time": "2022-01-16T10:06:06.409Z"
      },
      {
        "duration": 45,
        "start_time": "2022-01-16T10:06:06.460Z"
      },
      {
        "duration": 59,
        "start_time": "2022-01-16T10:06:06.507Z"
      },
      {
        "duration": 6,
        "start_time": "2022-01-16T10:06:06.568Z"
      },
      {
        "duration": 12,
        "start_time": "2022-01-16T10:06:06.576Z"
      },
      {
        "duration": 74,
        "start_time": "2022-01-16T10:06:06.590Z"
      },
      {
        "duration": 18,
        "start_time": "2022-01-16T10:06:06.666Z"
      },
      {
        "duration": 79,
        "start_time": "2022-01-16T10:06:06.686Z"
      },
      {
        "duration": 17,
        "start_time": "2022-01-16T10:06:06.767Z"
      },
      {
        "duration": 191,
        "start_time": "2022-01-16T10:06:06.786Z"
      },
      {
        "duration": 12,
        "start_time": "2022-01-16T10:06:06.980Z"
      },
      {
        "duration": 100,
        "start_time": "2022-01-16T10:06:06.994Z"
      },
      {
        "duration": 67,
        "start_time": "2022-01-16T10:06:07.099Z"
      },
      {
        "duration": 107,
        "start_time": "2022-01-16T10:06:07.168Z"
      },
      {
        "duration": 13,
        "start_time": "2022-01-16T10:06:07.278Z"
      },
      {
        "duration": 100,
        "start_time": "2022-01-16T10:06:07.293Z"
      },
      {
        "duration": 66,
        "start_time": "2022-01-16T10:06:07.395Z"
      },
      {
        "duration": 117,
        "start_time": "2022-01-16T10:06:07.463Z"
      },
      {
        "duration": 14,
        "start_time": "2022-01-16T10:06:07.583Z"
      },
      {
        "duration": 92,
        "start_time": "2022-01-16T10:06:07.599Z"
      },
      {
        "duration": 10,
        "start_time": "2022-01-16T10:06:07.694Z"
      },
      {
        "duration": 63,
        "start_time": "2022-01-16T10:06:07.707Z"
      },
      {
        "duration": 13,
        "start_time": "2022-01-16T10:06:07.772Z"
      },
      {
        "duration": 12,
        "start_time": "2022-01-16T10:06:07.788Z"
      },
      {
        "duration": 83,
        "start_time": "2022-01-16T10:06:07.802Z"
      },
      {
        "duration": 14,
        "start_time": "2022-01-16T10:06:07.888Z"
      },
      {
        "duration": 72,
        "start_time": "2022-01-16T10:06:07.904Z"
      },
      {
        "duration": 81,
        "start_time": "2022-01-16T10:06:07.978Z"
      },
      {
        "duration": 10,
        "start_time": "2022-01-16T10:06:08.061Z"
      },
      {
        "duration": 13,
        "start_time": "2022-01-16T10:06:08.073Z"
      },
      {
        "duration": 7,
        "start_time": "2022-01-16T10:06:08.088Z"
      },
      {
        "duration": 62,
        "start_time": "2022-01-16T10:06:08.097Z"
      },
      {
        "duration": 24,
        "start_time": "2022-01-16T10:06:08.161Z"
      },
      {
        "duration": 8,
        "start_time": "2022-01-16T10:06:30.655Z"
      },
      {
        "duration": 9939,
        "start_time": "2022-01-16T10:11:27.179Z"
      },
      {
        "duration": 7796,
        "start_time": "2022-01-16T10:11:54.314Z"
      },
      {
        "duration": 334,
        "start_time": "2022-01-16T10:12:04.659Z"
      },
      {
        "duration": 21,
        "start_time": "2022-01-16T10:12:59.401Z"
      },
      {
        "duration": 1199,
        "start_time": "2022-01-16T10:14:12.467Z"
      },
      {
        "duration": 223,
        "start_time": "2022-01-16T10:14:13.669Z"
      },
      {
        "duration": 27,
        "start_time": "2022-01-16T10:14:13.896Z"
      },
      {
        "duration": 187,
        "start_time": "2022-01-16T10:14:13.925Z"
      },
      {
        "duration": 65,
        "start_time": "2022-01-16T10:14:14.115Z"
      },
      {
        "duration": 200,
        "start_time": "2022-01-16T10:14:14.182Z"
      },
      {
        "duration": 84,
        "start_time": "2022-01-16T10:14:14.385Z"
      },
      {
        "duration": 27,
        "start_time": "2022-01-16T10:14:14.473Z"
      },
      {
        "duration": 11,
        "start_time": "2022-01-16T10:14:14.504Z"
      },
      {
        "duration": 86,
        "start_time": "2022-01-16T10:14:14.518Z"
      },
      {
        "duration": 10,
        "start_time": "2022-01-16T10:14:14.606Z"
      },
      {
        "duration": 44,
        "start_time": "2022-01-16T10:14:14.618Z"
      },
      {
        "duration": 9,
        "start_time": "2022-01-16T10:14:14.664Z"
      },
      {
        "duration": 13,
        "start_time": "2022-01-16T10:14:14.675Z"
      },
      {
        "duration": 12,
        "start_time": "2022-01-16T10:14:14.690Z"
      },
      {
        "duration": 83,
        "start_time": "2022-01-16T10:14:14.704Z"
      },
      {
        "duration": 72,
        "start_time": "2022-01-16T10:14:14.789Z"
      },
      {
        "duration": 6,
        "start_time": "2022-01-16T10:14:14.863Z"
      },
      {
        "duration": 11,
        "start_time": "2022-01-16T10:14:14.872Z"
      },
      {
        "duration": 78,
        "start_time": "2022-01-16T10:14:14.885Z"
      },
      {
        "duration": 14,
        "start_time": "2022-01-16T10:14:14.965Z"
      },
      {
        "duration": 86,
        "start_time": "2022-01-16T10:14:14.981Z"
      },
      {
        "duration": 17,
        "start_time": "2022-01-16T10:14:15.072Z"
      },
      {
        "duration": 191,
        "start_time": "2022-01-16T10:14:15.092Z"
      },
      {
        "duration": 11,
        "start_time": "2022-01-16T10:14:15.285Z"
      },
      {
        "duration": 94,
        "start_time": "2022-01-16T10:14:15.299Z"
      },
      {
        "duration": 64,
        "start_time": "2022-01-16T10:14:15.395Z"
      },
      {
        "duration": 112,
        "start_time": "2022-01-16T10:14:15.462Z"
      },
      {
        "duration": 12,
        "start_time": "2022-01-16T10:14:15.577Z"
      },
      {
        "duration": 92,
        "start_time": "2022-01-16T10:14:15.591Z"
      },
      {
        "duration": 10,
        "start_time": "2022-01-16T10:14:15.685Z"
      },
      {
        "duration": 169,
        "start_time": "2022-01-16T10:14:15.697Z"
      },
      {
        "duration": 13,
        "start_time": "2022-01-16T10:14:15.868Z"
      },
      {
        "duration": 37,
        "start_time": "2022-01-16T10:14:15.883Z"
      },
      {
        "duration": 38,
        "start_time": "2022-01-16T10:14:15.923Z"
      },
      {
        "duration": 15,
        "start_time": "2022-01-16T10:14:15.963Z"
      },
      {
        "duration": 13,
        "start_time": "2022-01-16T10:14:15.980Z"
      },
      {
        "duration": 13,
        "start_time": "2022-01-16T10:14:15.995Z"
      },
      {
        "duration": 59,
        "start_time": "2022-01-16T10:14:16.010Z"
      },
      {
        "duration": 18,
        "start_time": "2022-01-16T10:14:16.071Z"
      },
      {
        "duration": 68,
        "start_time": "2022-01-16T10:14:16.092Z"
      },
      {
        "duration": 42,
        "start_time": "2022-01-16T10:14:16.163Z"
      },
      {
        "duration": 13,
        "start_time": "2022-01-16T10:14:16.208Z"
      },
      {
        "duration": 52,
        "start_time": "2022-01-16T10:14:16.224Z"
      },
      {
        "duration": 7,
        "start_time": "2022-01-16T10:14:16.278Z"
      },
      {
        "duration": 11,
        "start_time": "2022-01-16T10:14:16.287Z"
      },
      {
        "duration": 23,
        "start_time": "2022-01-16T10:14:16.300Z"
      },
      {
        "duration": 11,
        "start_time": "2022-01-16T10:14:16.360Z"
      },
      {
        "duration": 9993,
        "start_time": "2022-01-16T10:16:07.358Z"
      },
      {
        "duration": 388,
        "start_time": "2022-01-16T10:18:06.588Z"
      },
      {
        "duration": 1556,
        "start_time": "2022-01-19T14:45:25.262Z"
      },
      {
        "duration": 230,
        "start_time": "2022-01-19T14:45:26.821Z"
      },
      {
        "duration": 29,
        "start_time": "2022-01-19T14:45:27.054Z"
      },
      {
        "duration": 211,
        "start_time": "2022-01-19T14:45:27.085Z"
      },
      {
        "duration": 34,
        "start_time": "2022-01-19T14:45:27.298Z"
      },
      {
        "duration": 132,
        "start_time": "2022-01-19T14:45:27.335Z"
      },
      {
        "duration": 22,
        "start_time": "2022-01-19T14:45:27.469Z"
      },
      {
        "duration": 36,
        "start_time": "2022-01-19T14:45:27.496Z"
      },
      {
        "duration": 13,
        "start_time": "2022-01-19T14:45:27.536Z"
      },
      {
        "duration": 48,
        "start_time": "2022-01-19T14:45:27.552Z"
      },
      {
        "duration": 9,
        "start_time": "2022-01-19T14:45:27.602Z"
      },
      {
        "duration": 24,
        "start_time": "2022-01-19T14:45:27.624Z"
      },
      {
        "duration": 9,
        "start_time": "2022-01-19T14:45:27.650Z"
      },
      {
        "duration": 12,
        "start_time": "2022-01-19T14:45:27.662Z"
      },
      {
        "duration": 12,
        "start_time": "2022-01-19T14:45:27.677Z"
      },
      {
        "duration": 42,
        "start_time": "2022-01-19T14:45:27.724Z"
      },
      {
        "duration": 54,
        "start_time": "2022-01-19T14:45:27.769Z"
      },
      {
        "duration": 8,
        "start_time": "2022-01-19T14:45:27.826Z"
      },
      {
        "duration": 18,
        "start_time": "2022-01-19T14:45:27.837Z"
      },
      {
        "duration": 41,
        "start_time": "2022-01-19T14:45:27.858Z"
      },
      {
        "duration": 39,
        "start_time": "2022-01-19T14:45:27.902Z"
      },
      {
        "duration": 48,
        "start_time": "2022-01-19T14:45:27.945Z"
      },
      {
        "duration": 25,
        "start_time": "2022-01-19T14:45:28.027Z"
      },
      {
        "duration": 150,
        "start_time": "2022-01-19T14:45:28.057Z"
      },
      {
        "duration": 24,
        "start_time": "2022-01-19T14:45:28.211Z"
      },
      {
        "duration": 88,
        "start_time": "2022-01-19T14:45:28.239Z"
      },
      {
        "duration": 15,
        "start_time": "2022-01-19T14:45:28.330Z"
      },
      {
        "duration": 80,
        "start_time": "2022-01-19T14:45:28.349Z"
      },
      {
        "duration": 15,
        "start_time": "2022-01-19T14:45:28.432Z"
      },
      {
        "duration": 40,
        "start_time": "2022-01-19T14:45:28.450Z"
      },
      {
        "duration": 36,
        "start_time": "2022-01-19T14:45:28.492Z"
      },
      {
        "duration": 114,
        "start_time": "2022-01-19T14:45:28.530Z"
      },
      {
        "duration": 20,
        "start_time": "2022-01-19T14:45:28.647Z"
      },
      {
        "duration": 75,
        "start_time": "2022-01-19T14:45:28.670Z"
      },
      {
        "duration": 14,
        "start_time": "2022-01-19T14:45:28.748Z"
      },
      {
        "duration": 19,
        "start_time": "2022-01-19T14:45:28.764Z"
      },
      {
        "duration": 39,
        "start_time": "2022-01-19T14:45:28.786Z"
      },
      {
        "duration": 15,
        "start_time": "2022-01-19T14:45:28.828Z"
      },
      {
        "duration": 19,
        "start_time": "2022-01-19T14:45:28.846Z"
      },
      {
        "duration": 22,
        "start_time": "2022-01-19T14:45:28.868Z"
      },
      {
        "duration": 47,
        "start_time": "2022-01-19T14:45:28.892Z"
      },
      {
        "duration": 29,
        "start_time": "2022-01-19T14:45:28.941Z"
      },
      {
        "duration": 575,
        "start_time": "2022-01-19T14:45:28.972Z"
      },
      {
        "duration": -1037,
        "start_time": "2022-01-19T14:45:30.588Z"
      },
      {
        "duration": -1044,
        "start_time": "2022-01-19T14:45:30.597Z"
      },
      {
        "duration": -1051,
        "start_time": "2022-01-19T14:45:30.606Z"
      },
      {
        "duration": -1057,
        "start_time": "2022-01-19T14:45:30.614Z"
      },
      {
        "duration": -1063,
        "start_time": "2022-01-19T14:45:30.622Z"
      },
      {
        "duration": -1068,
        "start_time": "2022-01-19T14:45:30.629Z"
      },
      {
        "duration": -1108,
        "start_time": "2022-01-19T14:45:30.671Z"
      },
      {
        "duration": 1618,
        "start_time": "2022-01-19T14:58:15.110Z"
      },
      {
        "duration": 321,
        "start_time": "2022-01-19T14:58:16.731Z"
      },
      {
        "duration": 46,
        "start_time": "2022-01-19T14:58:17.057Z"
      },
      {
        "duration": 183,
        "start_time": "2022-01-19T14:58:17.123Z"
      },
      {
        "duration": 31,
        "start_time": "2022-01-19T14:58:17.308Z"
      },
      {
        "duration": 183,
        "start_time": "2022-01-19T14:58:17.342Z"
      },
      {
        "duration": 31,
        "start_time": "2022-01-19T14:58:17.529Z"
      },
      {
        "duration": 33,
        "start_time": "2022-01-19T14:58:17.566Z"
      },
      {
        "duration": 30,
        "start_time": "2022-01-19T14:58:17.603Z"
      },
      {
        "duration": 50,
        "start_time": "2022-01-19T14:58:17.637Z"
      },
      {
        "duration": 13,
        "start_time": "2022-01-19T14:58:17.690Z"
      },
      {
        "duration": 38,
        "start_time": "2022-01-19T14:58:17.724Z"
      },
      {
        "duration": 14,
        "start_time": "2022-01-19T14:58:17.765Z"
      },
      {
        "duration": 44,
        "start_time": "2022-01-19T14:58:17.782Z"
      },
      {
        "duration": 20,
        "start_time": "2022-01-19T14:58:17.830Z"
      },
      {
        "duration": 45,
        "start_time": "2022-01-19T14:58:17.853Z"
      },
      {
        "duration": 52,
        "start_time": "2022-01-19T14:58:17.901Z"
      },
      {
        "duration": 11,
        "start_time": "2022-01-19T14:58:17.955Z"
      },
      {
        "duration": 16,
        "start_time": "2022-01-19T14:58:17.971Z"
      },
      {
        "duration": 62,
        "start_time": "2022-01-19T14:58:17.990Z"
      },
      {
        "duration": 21,
        "start_time": "2022-01-19T14:58:18.056Z"
      },
      {
        "duration": 75,
        "start_time": "2022-01-19T14:58:18.080Z"
      },
      {
        "duration": 26,
        "start_time": "2022-01-19T14:58:18.163Z"
      },
      {
        "duration": 259,
        "start_time": "2022-01-19T14:58:18.194Z"
      },
      {
        "duration": 69,
        "start_time": "2022-01-19T14:58:18.456Z"
      },
      {
        "duration": 119,
        "start_time": "2022-01-19T14:58:18.528Z"
      },
      {
        "duration": 10,
        "start_time": "2022-01-19T14:58:18.650Z"
      },
      {
        "duration": 188,
        "start_time": "2022-01-19T14:58:18.664Z"
      },
      {
        "duration": 69,
        "start_time": "2022-01-19T14:58:18.856Z"
      },
      {
        "duration": 97,
        "start_time": "2022-01-19T14:58:18.927Z"
      },
      {
        "duration": 10,
        "start_time": "2022-01-19T14:58:19.027Z"
      },
      {
        "duration": 118,
        "start_time": "2022-01-19T14:58:19.039Z"
      },
      {
        "duration": 68,
        "start_time": "2022-01-19T14:58:19.160Z"
      },
      {
        "duration": 95,
        "start_time": "2022-01-19T14:58:19.231Z"
      },
      {
        "duration": 11,
        "start_time": "2022-01-19T14:58:19.329Z"
      },
      {
        "duration": 18,
        "start_time": "2022-01-19T14:58:19.342Z"
      },
      {
        "duration": 75,
        "start_time": "2022-01-19T14:58:19.364Z"
      },
      {
        "duration": 14,
        "start_time": "2022-01-19T14:58:19.441Z"
      },
      {
        "duration": 67,
        "start_time": "2022-01-19T14:58:19.458Z"
      },
      {
        "duration": 17,
        "start_time": "2022-01-19T14:58:19.527Z"
      },
      {
        "duration": 77,
        "start_time": "2022-01-19T14:58:19.546Z"
      },
      {
        "duration": 29,
        "start_time": "2022-01-19T14:58:19.626Z"
      },
      {
        "duration": 9,
        "start_time": "2022-01-19T14:58:19.658Z"
      },
      {
        "duration": 59,
        "start_time": "2022-01-19T14:58:19.670Z"
      },
      {
        "duration": 8,
        "start_time": "2022-01-19T14:58:19.731Z"
      },
      {
        "duration": 8,
        "start_time": "2022-01-19T14:58:19.742Z"
      },
      {
        "duration": 28,
        "start_time": "2022-01-19T14:58:19.753Z"
      },
      {
        "duration": 46,
        "start_time": "2022-01-19T14:58:19.784Z"
      },
      {
        "duration": 11710,
        "start_time": "2022-01-19T14:58:19.832Z"
      },
      {
        "duration": 12,
        "start_time": "2022-01-19T14:59:41.376Z"
      },
      {
        "duration": 19,
        "start_time": "2022-01-19T14:59:54.824Z"
      },
      {
        "duration": 10570,
        "start_time": "2022-01-19T15:04:46.614Z"
      },
      {
        "duration": 8907,
        "start_time": "2022-01-19T15:05:11.754Z"
      },
      {
        "duration": -590,
        "start_time": "2022-01-19T15:05:21.254Z"
      },
      {
        "duration": 342,
        "start_time": "2022-01-19T15:07:48.011Z"
      },
      {
        "duration": 907,
        "start_time": "2022-01-20T16:38:45.598Z"
      },
      {
        "duration": 157,
        "start_time": "2022-01-20T16:38:46.507Z"
      },
      {
        "duration": 19,
        "start_time": "2022-01-20T16:38:46.671Z"
      },
      {
        "duration": 134,
        "start_time": "2022-01-20T16:38:46.692Z"
      },
      {
        "duration": 18,
        "start_time": "2022-01-20T16:38:46.828Z"
      },
      {
        "duration": 98,
        "start_time": "2022-01-20T16:38:46.848Z"
      },
      {
        "duration": 13,
        "start_time": "2022-01-20T16:38:46.948Z"
      },
      {
        "duration": 21,
        "start_time": "2022-01-20T16:38:46.972Z"
      },
      {
        "duration": 5,
        "start_time": "2022-01-20T16:38:46.995Z"
      },
      {
        "duration": 33,
        "start_time": "2022-01-20T16:38:47.002Z"
      },
      {
        "duration": 6,
        "start_time": "2022-01-20T16:38:47.036Z"
      },
      {
        "duration": 14,
        "start_time": "2022-01-20T16:38:47.043Z"
      },
      {
        "duration": 5,
        "start_time": "2022-01-20T16:38:47.059Z"
      },
      {
        "duration": 6,
        "start_time": "2022-01-20T16:38:47.066Z"
      },
      {
        "duration": 8,
        "start_time": "2022-01-20T16:38:47.073Z"
      },
      {
        "duration": 30,
        "start_time": "2022-01-20T16:38:47.082Z"
      },
      {
        "duration": 20,
        "start_time": "2022-01-20T16:38:47.113Z"
      },
      {
        "duration": 4,
        "start_time": "2022-01-20T16:38:47.135Z"
      },
      {
        "duration": 32,
        "start_time": "2022-01-20T16:38:47.140Z"
      },
      {
        "duration": 19,
        "start_time": "2022-01-20T16:38:47.174Z"
      },
      {
        "duration": 9,
        "start_time": "2022-01-20T16:38:47.194Z"
      },
      {
        "duration": 21,
        "start_time": "2022-01-20T16:38:47.205Z"
      },
      {
        "duration": 11,
        "start_time": "2022-01-20T16:38:47.230Z"
      },
      {
        "duration": 61,
        "start_time": "2022-01-20T16:38:47.271Z"
      },
      {
        "duration": 7,
        "start_time": "2022-01-20T16:38:47.334Z"
      },
      {
        "duration": 46,
        "start_time": "2022-01-20T16:38:47.343Z"
      },
      {
        "duration": 6,
        "start_time": "2022-01-20T16:38:47.391Z"
      },
      {
        "duration": 36,
        "start_time": "2022-01-20T16:38:47.399Z"
      },
      {
        "duration": 8,
        "start_time": "2022-01-20T16:38:47.437Z"
      },
      {
        "duration": 47,
        "start_time": "2022-01-20T16:38:47.446Z"
      },
      {
        "duration": 7,
        "start_time": "2022-01-20T16:38:47.494Z"
      },
      {
        "duration": 44,
        "start_time": "2022-01-20T16:38:47.502Z"
      },
      {
        "duration": 24,
        "start_time": "2022-01-20T16:38:47.548Z"
      },
      {
        "duration": 26,
        "start_time": "2022-01-20T16:38:47.574Z"
      },
      {
        "duration": 7,
        "start_time": "2022-01-20T16:38:47.601Z"
      },
      {
        "duration": 9,
        "start_time": "2022-01-20T16:38:47.610Z"
      },
      {
        "duration": 8,
        "start_time": "2022-01-20T16:38:47.620Z"
      },
      {
        "duration": 10,
        "start_time": "2022-01-20T16:38:47.630Z"
      },
      {
        "duration": 8,
        "start_time": "2022-01-20T16:38:47.672Z"
      },
      {
        "duration": 14,
        "start_time": "2022-01-20T16:38:47.682Z"
      },
      {
        "duration": 21,
        "start_time": "2022-01-20T16:38:47.698Z"
      },
      {
        "duration": 53,
        "start_time": "2022-01-20T16:38:47.720Z"
      },
      {
        "duration": 8,
        "start_time": "2022-01-20T16:38:47.774Z"
      },
      {
        "duration": 10,
        "start_time": "2022-01-20T16:38:47.783Z"
      },
      {
        "duration": 5,
        "start_time": "2022-01-20T16:38:47.794Z"
      },
      {
        "duration": 3,
        "start_time": "2022-01-20T16:38:47.801Z"
      },
      {
        "duration": 16,
        "start_time": "2022-01-20T16:38:47.806Z"
      },
      {
        "duration": 9,
        "start_time": "2022-01-20T16:38:47.824Z"
      },
      {
        "duration": 131,
        "start_time": "2022-01-20T16:39:41.173Z"
      },
      {
        "duration": 969,
        "start_time": "2022-01-20T16:39:52.835Z"
      },
      {
        "duration": 160,
        "start_time": "2022-01-20T16:39:53.806Z"
      },
      {
        "duration": 19,
        "start_time": "2022-01-20T16:39:53.968Z"
      },
      {
        "duration": 173,
        "start_time": "2022-01-20T16:39:53.989Z"
      },
      {
        "duration": 17,
        "start_time": "2022-01-20T16:39:54.164Z"
      },
      {
        "duration": 103,
        "start_time": "2022-01-20T16:39:54.183Z"
      },
      {
        "duration": 14,
        "start_time": "2022-01-20T16:39:54.288Z"
      },
      {
        "duration": 36,
        "start_time": "2022-01-20T16:39:54.304Z"
      },
      {
        "duration": 18,
        "start_time": "2022-01-20T16:39:54.342Z"
      },
      {
        "duration": 40,
        "start_time": "2022-01-20T16:39:54.362Z"
      },
      {
        "duration": 18,
        "start_time": "2022-01-20T16:39:54.403Z"
      },
      {
        "duration": 39,
        "start_time": "2022-01-20T16:39:54.422Z"
      },
      {
        "duration": 11,
        "start_time": "2022-01-20T16:39:54.463Z"
      },
      {
        "duration": 20,
        "start_time": "2022-01-20T16:39:54.476Z"
      },
      {
        "duration": 32,
        "start_time": "2022-01-20T16:39:54.497Z"
      },
      {
        "duration": 45,
        "start_time": "2022-01-20T16:39:54.530Z"
      },
      {
        "duration": 21,
        "start_time": "2022-01-20T16:39:54.577Z"
      },
      {
        "duration": 30,
        "start_time": "2022-01-20T16:39:54.600Z"
      },
      {
        "duration": 12,
        "start_time": "2022-01-20T16:39:54.632Z"
      },
      {
        "duration": 33,
        "start_time": "2022-01-20T16:39:54.646Z"
      },
      {
        "duration": 19,
        "start_time": "2022-01-20T16:39:54.681Z"
      },
      {
        "duration": 37,
        "start_time": "2022-01-20T16:39:54.702Z"
      },
      {
        "duration": 11,
        "start_time": "2022-01-20T16:39:54.743Z"
      },
      {
        "duration": 73,
        "start_time": "2022-01-20T16:39:54.756Z"
      },
      {
        "duration": 16,
        "start_time": "2022-01-20T16:39:54.830Z"
      },
      {
        "duration": 31,
        "start_time": "2022-01-20T16:39:54.847Z"
      },
      {
        "duration": 7,
        "start_time": "2022-01-20T16:39:54.880Z"
      },
      {
        "duration": 36,
        "start_time": "2022-01-20T16:39:54.889Z"
      },
      {
        "duration": 8,
        "start_time": "2022-01-20T16:39:54.927Z"
      },
      {
        "duration": 50,
        "start_time": "2022-01-20T16:39:54.937Z"
      },
      {
        "duration": 6,
        "start_time": "2022-01-20T16:39:54.989Z"
      },
      {
        "duration": 52,
        "start_time": "2022-01-20T16:39:54.997Z"
      },
      {
        "duration": 9,
        "start_time": "2022-01-20T16:39:55.050Z"
      },
      {
        "duration": 34,
        "start_time": "2022-01-20T16:39:55.072Z"
      },
      {
        "duration": 7,
        "start_time": "2022-01-20T16:39:55.107Z"
      },
      {
        "duration": 9,
        "start_time": "2022-01-20T16:39:55.116Z"
      },
      {
        "duration": 16,
        "start_time": "2022-01-20T16:39:55.127Z"
      },
      {
        "duration": 12,
        "start_time": "2022-01-20T16:39:55.144Z"
      },
      {
        "duration": 19,
        "start_time": "2022-01-20T16:39:55.158Z"
      },
      {
        "duration": 15,
        "start_time": "2022-01-20T16:39:55.178Z"
      },
      {
        "duration": 29,
        "start_time": "2022-01-20T16:39:55.195Z"
      },
      {
        "duration": 16,
        "start_time": "2022-01-20T16:39:55.226Z"
      },
      {
        "duration": 11,
        "start_time": "2022-01-20T16:39:55.244Z"
      },
      {
        "duration": 32,
        "start_time": "2022-01-20T16:39:55.256Z"
      },
      {
        "duration": 5,
        "start_time": "2022-01-20T16:39:55.290Z"
      },
      {
        "duration": 6,
        "start_time": "2022-01-20T16:39:55.296Z"
      },
      {
        "duration": 30,
        "start_time": "2022-01-20T16:39:55.304Z"
      },
      {
        "duration": 10,
        "start_time": "2022-01-20T16:39:55.336Z"
      },
      {
        "duration": 338,
        "start_time": "2022-01-20T16:42:11.423Z"
      },
      {
        "duration": 22,
        "start_time": "2022-01-20T16:49:47.211Z"
      },
      {
        "duration": 9,
        "start_time": "2022-01-20T16:51:59.829Z"
      },
      {
        "duration": 7841,
        "start_time": "2022-01-20T16:52:34.691Z"
      },
      {
        "duration": 7948,
        "start_time": "2022-01-20T16:54:47.972Z"
      },
      {
        "duration": 75,
        "start_time": "2022-01-20T16:55:42.344Z"
      },
      {
        "duration": 6272,
        "start_time": "2022-01-20T16:55:52.540Z"
      },
      {
        "duration": 289,
        "start_time": "2022-01-20T16:56:01.023Z"
      },
      {
        "duration": 14,
        "start_time": "2022-01-20T16:56:32.760Z"
      },
      {
        "duration": 7837,
        "start_time": "2022-01-20T16:57:02.170Z"
      },
      {
        "duration": -867,
        "start_time": "2022-01-20T16:57:10.876Z"
      },
      {
        "duration": 22,
        "start_time": "2022-01-20T16:58:14.318Z"
      },
      {
        "duration": 20,
        "start_time": "2022-01-20T16:58:25.505Z"
      },
      {
        "duration": 69,
        "start_time": "2022-01-20T17:00:01.354Z"
      },
      {
        "duration": 10,
        "start_time": "2022-01-20T17:00:04.761Z"
      },
      {
        "duration": 114,
        "start_time": "2022-01-20T17:00:34.018Z"
      },
      {
        "duration": 286,
        "start_time": "2022-01-20T17:00:58.983Z"
      },
      {
        "duration": 289,
        "start_time": "2022-01-20T17:01:50.097Z"
      },
      {
        "duration": 247,
        "start_time": "2022-01-20T17:01:54.747Z"
      },
      {
        "duration": 261,
        "start_time": "2022-01-20T17:01:57.938Z"
      },
      {
        "duration": 327,
        "start_time": "2022-01-20T17:02:01.787Z"
      },
      {
        "duration": 81,
        "start_time": "2022-01-20T17:02:21.954Z"
      },
      {
        "duration": 69,
        "start_time": "2022-01-20T17:02:35.661Z"
      },
      {
        "duration": 95,
        "start_time": "2022-01-20T17:03:55.124Z"
      },
      {
        "duration": 259,
        "start_time": "2022-01-20T17:04:08.434Z"
      },
      {
        "duration": 24,
        "start_time": "2022-01-20T17:04:20.701Z"
      },
      {
        "duration": 7,
        "start_time": "2022-01-20T17:04:42.863Z"
      },
      {
        "duration": 6632,
        "start_time": "2022-01-20T17:04:55.087Z"
      },
      {
        "duration": 12,
        "start_time": "2022-01-20T17:05:26.566Z"
      },
      {
        "duration": 17,
        "start_time": "2022-01-20T17:05:30.305Z"
      },
      {
        "duration": 6,
        "start_time": "2022-01-20T17:06:00.433Z"
      },
      {
        "duration": 7415,
        "start_time": "2022-01-20T17:07:11.930Z"
      },
      {
        "duration": 6,
        "start_time": "2022-01-20T17:09:09.215Z"
      },
      {
        "duration": 18,
        "start_time": "2022-01-20T17:10:06.400Z"
      },
      {
        "duration": 1135,
        "start_time": "2022-01-20T17:10:16.564Z"
      },
      {
        "duration": 38,
        "start_time": "2022-01-20T17:10:29.539Z"
      },
      {
        "duration": 307,
        "start_time": "2022-01-20T17:10:42.997Z"
      },
      {
        "duration": 367,
        "start_time": "2022-01-20T17:10:50.144Z"
      },
      {
        "duration": 262,
        "start_time": "2022-01-20T17:11:29.748Z"
      },
      {
        "duration": 147,
        "start_time": "2022-01-20T17:11:48.913Z"
      },
      {
        "duration": 1138,
        "start_time": "2022-01-20T17:11:54.547Z"
      },
      {
        "duration": 147,
        "start_time": "2022-01-20T17:11:55.687Z"
      },
      {
        "duration": 19,
        "start_time": "2022-01-20T17:11:55.838Z"
      },
      {
        "duration": 133,
        "start_time": "2022-01-20T17:11:55.859Z"
      },
      {
        "duration": 15,
        "start_time": "2022-01-20T17:11:55.994Z"
      },
      {
        "duration": 90,
        "start_time": "2022-01-20T17:11:56.011Z"
      },
      {
        "duration": 14,
        "start_time": "2022-01-20T17:11:56.103Z"
      },
      {
        "duration": 21,
        "start_time": "2022-01-20T17:11:56.119Z"
      },
      {
        "duration": 6,
        "start_time": "2022-01-20T17:11:56.141Z"
      },
      {
        "duration": 35,
        "start_time": "2022-01-20T17:11:56.148Z"
      },
      {
        "duration": 5,
        "start_time": "2022-01-20T17:11:56.185Z"
      },
      {
        "duration": 14,
        "start_time": "2022-01-20T17:11:56.192Z"
      },
      {
        "duration": 5,
        "start_time": "2022-01-20T17:11:56.207Z"
      },
      {
        "duration": 5,
        "start_time": "2022-01-20T17:11:56.214Z"
      },
      {
        "duration": 7,
        "start_time": "2022-01-20T17:11:56.221Z"
      },
      {
        "duration": 55,
        "start_time": "2022-01-20T17:11:56.229Z"
      },
      {
        "duration": 21,
        "start_time": "2022-01-20T17:11:56.286Z"
      },
      {
        "duration": 6,
        "start_time": "2022-01-20T17:11:56.308Z"
      },
      {
        "duration": 8,
        "start_time": "2022-01-20T17:11:56.315Z"
      },
      {
        "duration": 18,
        "start_time": "2022-01-20T17:11:56.325Z"
      },
      {
        "duration": 32,
        "start_time": "2022-01-20T17:11:56.344Z"
      },
      {
        "duration": 22,
        "start_time": "2022-01-20T17:11:56.378Z"
      },
      {
        "duration": 12,
        "start_time": "2022-01-20T17:11:56.402Z"
      },
      {
        "duration": 77,
        "start_time": "2022-01-20T17:11:56.416Z"
      },
      {
        "duration": 8,
        "start_time": "2022-01-20T17:11:56.496Z"
      },
      {
        "duration": 35,
        "start_time": "2022-01-20T17:11:56.505Z"
      },
      {
        "duration": 7,
        "start_time": "2022-01-20T17:11:56.542Z"
      },
      {
        "duration": 52,
        "start_time": "2022-01-20T17:11:56.550Z"
      },
      {
        "duration": 8,
        "start_time": "2022-01-20T17:11:56.603Z"
      },
      {
        "duration": 26,
        "start_time": "2022-01-20T17:11:56.612Z"
      },
      {
        "duration": 6,
        "start_time": "2022-01-20T17:11:56.639Z"
      },
      {
        "duration": 58,
        "start_time": "2022-01-20T17:11:56.646Z"
      },
      {
        "duration": 9,
        "start_time": "2022-01-20T17:11:56.706Z"
      },
      {
        "duration": 25,
        "start_time": "2022-01-20T17:11:56.717Z"
      },
      {
        "duration": 32,
        "start_time": "2022-01-20T17:11:56.743Z"
      },
      {
        "duration": 87,
        "start_time": "2022-01-20T17:11:56.776Z"
      },
      {
        "duration": 100,
        "start_time": "2022-01-20T17:11:56.872Z"
      },
      {
        "duration": 346,
        "start_time": "2022-01-20T17:11:56.974Z"
      },
      {
        "duration": -1530,
        "start_time": "2022-01-20T17:11:58.851Z"
      },
      {
        "duration": -1536,
        "start_time": "2022-01-20T17:11:58.858Z"
      },
      {
        "duration": -1662,
        "start_time": "2022-01-20T17:11:58.985Z"
      },
      {
        "duration": -1668,
        "start_time": "2022-01-20T17:11:58.992Z"
      },
      {
        "duration": -1676,
        "start_time": "2022-01-20T17:11:59.001Z"
      },
      {
        "duration": -1683,
        "start_time": "2022-01-20T17:11:59.009Z"
      },
      {
        "duration": -1714,
        "start_time": "2022-01-20T17:11:59.041Z"
      },
      {
        "duration": -1719,
        "start_time": "2022-01-20T17:11:59.047Z"
      },
      {
        "duration": 107,
        "start_time": "2022-01-20T17:13:19.458Z"
      },
      {
        "duration": 1118,
        "start_time": "2022-01-20T17:13:26.578Z"
      },
      {
        "duration": 157,
        "start_time": "2022-01-20T17:13:27.698Z"
      },
      {
        "duration": 25,
        "start_time": "2022-01-20T17:13:27.857Z"
      },
      {
        "duration": 135,
        "start_time": "2022-01-20T17:13:27.883Z"
      },
      {
        "duration": 15,
        "start_time": "2022-01-20T17:13:28.020Z"
      },
      {
        "duration": 97,
        "start_time": "2022-01-20T17:13:28.037Z"
      },
      {
        "duration": 14,
        "start_time": "2022-01-20T17:13:28.136Z"
      },
      {
        "duration": 23,
        "start_time": "2022-01-20T17:13:28.154Z"
      },
      {
        "duration": 7,
        "start_time": "2022-01-20T17:13:28.179Z"
      },
      {
        "duration": 36,
        "start_time": "2022-01-20T17:13:28.188Z"
      },
      {
        "duration": 6,
        "start_time": "2022-01-20T17:13:28.226Z"
      },
      {
        "duration": 17,
        "start_time": "2022-01-20T17:13:28.234Z"
      },
      {
        "duration": 20,
        "start_time": "2022-01-20T17:13:28.253Z"
      },
      {
        "duration": 7,
        "start_time": "2022-01-20T17:13:28.274Z"
      },
      {
        "duration": 7,
        "start_time": "2022-01-20T17:13:28.283Z"
      },
      {
        "duration": 31,
        "start_time": "2022-01-20T17:13:28.292Z"
      },
      {
        "duration": 48,
        "start_time": "2022-01-20T17:13:28.325Z"
      },
      {
        "duration": 6,
        "start_time": "2022-01-20T17:13:28.375Z"
      },
      {
        "duration": 8,
        "start_time": "2022-01-20T17:13:28.383Z"
      },
      {
        "duration": 17,
        "start_time": "2022-01-20T17:13:28.393Z"
      },
      {
        "duration": 11,
        "start_time": "2022-01-20T17:13:28.412Z"
      },
      {
        "duration": 58,
        "start_time": "2022-01-20T17:13:28.425Z"
      },
      {
        "duration": 11,
        "start_time": "2022-01-20T17:13:28.487Z"
      },
      {
        "duration": 75,
        "start_time": "2022-01-20T17:13:28.501Z"
      },
      {
        "duration": 8,
        "start_time": "2022-01-20T17:13:28.578Z"
      },
      {
        "duration": 34,
        "start_time": "2022-01-20T17:13:28.588Z"
      },
      {
        "duration": 7,
        "start_time": "2022-01-20T17:13:28.623Z"
      },
      {
        "duration": 53,
        "start_time": "2022-01-20T17:13:28.631Z"
      },
      {
        "duration": 8,
        "start_time": "2022-01-20T17:13:28.686Z"
      },
      {
        "duration": 29,
        "start_time": "2022-01-20T17:13:28.695Z"
      },
      {
        "duration": 7,
        "start_time": "2022-01-20T17:13:28.725Z"
      },
      {
        "duration": 68,
        "start_time": "2022-01-20T17:13:28.734Z"
      },
      {
        "duration": 10,
        "start_time": "2022-01-20T17:13:28.804Z"
      },
      {
        "duration": 28,
        "start_time": "2022-01-20T17:13:28.816Z"
      },
      {
        "duration": 29,
        "start_time": "2022-01-20T17:13:28.846Z"
      },
      {
        "duration": 134,
        "start_time": "2022-01-20T17:13:28.877Z"
      },
      {
        "duration": 82,
        "start_time": "2022-01-20T17:13:29.014Z"
      },
      {
        "duration": 102,
        "start_time": "2022-01-20T17:13:29.099Z"
      },
      {
        "duration": 22,
        "start_time": "2022-01-20T17:13:29.203Z"
      },
      {
        "duration": 6,
        "start_time": "2022-01-20T17:13:29.226Z"
      },
      {
        "duration": 12,
        "start_time": "2022-01-20T17:13:29.233Z"
      },
      {
        "duration": 38,
        "start_time": "2022-01-20T17:13:29.246Z"
      },
      {
        "duration": 7,
        "start_time": "2022-01-20T17:13:29.286Z"
      },
      {
        "duration": 6,
        "start_time": "2022-01-20T17:13:29.294Z"
      },
      {
        "duration": 22,
        "start_time": "2022-01-20T17:13:29.302Z"
      },
      {
        "duration": 63,
        "start_time": "2022-01-20T17:13:29.326Z"
      },
      {
        "duration": 1088,
        "start_time": "2022-01-20T17:13:29.390Z"
      },
      {
        "duration": 497,
        "start_time": "2022-01-20T17:14:35.568Z"
      },
      {
        "duration": 6560,
        "start_time": "2022-01-20T17:15:08.131Z"
      },
      {
        "duration": 422,
        "start_time": "2022-01-20T17:15:34.176Z"
      },
      {
        "duration": 447,
        "start_time": "2022-01-20T17:16:04.227Z"
      },
      {
        "duration": 8,
        "start_time": "2022-01-20T17:17:17.915Z"
      },
      {
        "duration": 4,
        "start_time": "2022-01-20T17:17:28.465Z"
      },
      {
        "duration": 4,
        "start_time": "2022-01-20T17:17:38.586Z"
      },
      {
        "duration": 507,
        "start_time": "2022-01-20T17:17:48.620Z"
      },
      {
        "duration": 492,
        "start_time": "2022-01-20T17:18:09.182Z"
      },
      {
        "duration": 491,
        "start_time": "2022-01-20T17:18:43.907Z"
      },
      {
        "duration": 1044,
        "start_time": "2022-01-20T17:18:51.027Z"
      },
      {
        "duration": 153,
        "start_time": "2022-01-20T17:18:52.073Z"
      },
      {
        "duration": 19,
        "start_time": "2022-01-20T17:18:52.227Z"
      },
      {
        "duration": 136,
        "start_time": "2022-01-20T17:18:52.248Z"
      },
      {
        "duration": 14,
        "start_time": "2022-01-20T17:18:52.386Z"
      },
      {
        "duration": 99,
        "start_time": "2022-01-20T17:18:52.401Z"
      },
      {
        "duration": 12,
        "start_time": "2022-01-20T17:18:52.502Z"
      },
      {
        "duration": 34,
        "start_time": "2022-01-20T17:18:52.516Z"
      },
      {
        "duration": 19,
        "start_time": "2022-01-20T17:18:52.552Z"
      },
      {
        "duration": 47,
        "start_time": "2022-01-20T17:18:52.572Z"
      },
      {
        "duration": 5,
        "start_time": "2022-01-20T17:18:52.621Z"
      },
      {
        "duration": 24,
        "start_time": "2022-01-20T17:18:52.628Z"
      },
      {
        "duration": 5,
        "start_time": "2022-01-20T17:18:52.654Z"
      },
      {
        "duration": 21,
        "start_time": "2022-01-20T17:18:52.661Z"
      },
      {
        "duration": 22,
        "start_time": "2022-01-20T17:18:52.683Z"
      },
      {
        "duration": 45,
        "start_time": "2022-01-20T17:18:52.707Z"
      },
      {
        "duration": 21,
        "start_time": "2022-01-20T17:18:52.754Z"
      },
      {
        "duration": 14,
        "start_time": "2022-01-20T17:18:52.777Z"
      },
      {
        "duration": 20,
        "start_time": "2022-01-20T17:18:52.793Z"
      },
      {
        "duration": 28,
        "start_time": "2022-01-20T17:18:52.814Z"
      },
      {
        "duration": 17,
        "start_time": "2022-01-20T17:18:52.844Z"
      },
      {
        "duration": 28,
        "start_time": "2022-01-20T17:18:52.863Z"
      },
      {
        "duration": 11,
        "start_time": "2022-01-20T17:18:52.894Z"
      },
      {
        "duration": 70,
        "start_time": "2022-01-20T17:18:52.907Z"
      },
      {
        "duration": 8,
        "start_time": "2022-01-20T17:18:52.979Z"
      },
      {
        "duration": 47,
        "start_time": "2022-01-20T17:18:52.988Z"
      },
      {
        "duration": 6,
        "start_time": "2022-01-20T17:18:53.037Z"
      },
      {
        "duration": 50,
        "start_time": "2022-01-20T17:18:53.045Z"
      },
      {
        "duration": 7,
        "start_time": "2022-01-20T17:18:53.096Z"
      },
      {
        "duration": 40,
        "start_time": "2022-01-20T17:18:53.105Z"
      },
      {
        "duration": 7,
        "start_time": "2022-01-20T17:18:53.146Z"
      },
      {
        "duration": 58,
        "start_time": "2022-01-20T17:18:53.154Z"
      },
      {
        "duration": 17,
        "start_time": "2022-01-20T17:18:53.213Z"
      },
      {
        "duration": 42,
        "start_time": "2022-01-20T17:18:53.232Z"
      },
      {
        "duration": 6,
        "start_time": "2022-01-20T17:18:53.276Z"
      },
      {
        "duration": 124,
        "start_time": "2022-01-20T17:18:53.284Z"
      },
      {
        "duration": 81,
        "start_time": "2022-01-20T17:18:53.409Z"
      },
      {
        "duration": 99,
        "start_time": "2022-01-20T17:18:53.491Z"
      },
      {
        "duration": 22,
        "start_time": "2022-01-20T17:18:53.591Z"
      },
      {
        "duration": 17,
        "start_time": "2022-01-20T17:18:53.615Z"
      },
      {
        "duration": 21,
        "start_time": "2022-01-20T17:18:53.633Z"
      },
      {
        "duration": 31,
        "start_time": "2022-01-20T17:18:53.655Z"
      },
      {
        "duration": 9,
        "start_time": "2022-01-20T17:18:53.688Z"
      },
      {
        "duration": 20,
        "start_time": "2022-01-20T17:18:53.699Z"
      },
      {
        "duration": 35,
        "start_time": "2022-01-20T17:18:53.721Z"
      },
      {
        "duration": 35,
        "start_time": "2022-01-20T17:18:53.757Z"
      },
      {
        "duration": 877,
        "start_time": "2022-01-20T17:18:53.794Z"
      },
      {
        "duration": 9,
        "start_time": "2022-01-20T17:18:54.673Z"
      },
      {
        "duration": 4,
        "start_time": "2022-01-20T17:18:54.683Z"
      },
      {
        "duration": 590,
        "start_time": "2022-01-20T17:18:54.689Z"
      },
      {
        "duration": -774,
        "start_time": "2022-01-20T17:18:56.055Z"
      },
      {
        "duration": -779,
        "start_time": "2022-01-20T17:18:56.061Z"
      },
      {
        "duration": 470,
        "start_time": "2022-01-20T17:19:30.562Z"
      },
      {
        "duration": 260,
        "start_time": "2022-01-20T17:19:52.769Z"
      },
      {
        "duration": 15672,
        "start_time": "2022-01-20T17:20:00.293Z"
      },
      {
        "duration": -816,
        "start_time": "2022-01-20T17:20:16.783Z"
      },
      {
        "duration": 1831,
        "start_time": "2022-01-20T17:20:16.806Z"
      },
      {
        "duration": 496,
        "start_time": "2022-01-20T17:20:25.565Z"
      },
      {
        "duration": 7,
        "start_time": "2022-01-20T17:20:28.647Z"
      },
      {
        "duration": 3,
        "start_time": "2022-01-20T17:20:29.991Z"
      },
      {
        "duration": 597,
        "start_time": "2022-01-20T17:20:30.767Z"
      },
      {
        "duration": 748,
        "start_time": "2022-01-20T17:20:34.724Z"
      },
      {
        "duration": 406,
        "start_time": "2022-01-20T17:22:01.572Z"
      },
      {
        "duration": 397,
        "start_time": "2022-01-20T17:22:11.136Z"
      },
      {
        "duration": 4,
        "start_time": "2022-01-20T17:23:14.223Z"
      },
      {
        "duration": 685,
        "start_time": "2022-01-20T17:23:24.278Z"
      },
      {
        "duration": 4,
        "start_time": "2022-01-20T17:24:11.842Z"
      },
      {
        "duration": 493,
        "start_time": "2022-01-20T17:24:13.413Z"
      },
      {
        "duration": 4,
        "start_time": "2022-01-20T17:24:36.826Z"
      },
      {
        "duration": 533,
        "start_time": "2022-01-20T17:24:37.639Z"
      },
      {
        "duration": 569,
        "start_time": "2022-01-20T17:24:40.644Z"
      },
      {
        "duration": 1101,
        "start_time": "2022-01-20T17:25:20.276Z"
      },
      {
        "duration": 150,
        "start_time": "2022-01-20T17:25:21.379Z"
      },
      {
        "duration": 20,
        "start_time": "2022-01-20T17:25:21.531Z"
      },
      {
        "duration": 131,
        "start_time": "2022-01-20T17:25:21.553Z"
      },
      {
        "duration": 16,
        "start_time": "2022-01-20T17:25:21.686Z"
      },
      {
        "duration": 83,
        "start_time": "2022-01-20T17:25:21.704Z"
      },
      {
        "duration": 13,
        "start_time": "2022-01-20T17:25:21.789Z"
      },
      {
        "duration": 21,
        "start_time": "2022-01-20T17:25:21.804Z"
      },
      {
        "duration": 5,
        "start_time": "2022-01-20T17:25:21.827Z"
      },
      {
        "duration": 34,
        "start_time": "2022-01-20T17:25:21.834Z"
      },
      {
        "duration": 5,
        "start_time": "2022-01-20T17:25:21.870Z"
      },
      {
        "duration": 16,
        "start_time": "2022-01-20T17:25:21.876Z"
      },
      {
        "duration": 5,
        "start_time": "2022-01-20T17:25:21.893Z"
      },
      {
        "duration": 6,
        "start_time": "2022-01-20T17:25:21.899Z"
      },
      {
        "duration": 6,
        "start_time": "2022-01-20T17:25:21.906Z"
      },
      {
        "duration": 57,
        "start_time": "2022-01-20T17:25:21.914Z"
      },
      {
        "duration": 22,
        "start_time": "2022-01-20T17:25:21.973Z"
      },
      {
        "duration": 6,
        "start_time": "2022-01-20T17:25:21.997Z"
      },
      {
        "duration": 8,
        "start_time": "2022-01-20T17:25:22.005Z"
      },
      {
        "duration": 16,
        "start_time": "2022-01-20T17:25:22.015Z"
      },
      {
        "duration": 10,
        "start_time": "2022-01-20T17:25:22.033Z"
      },
      {
        "duration": 22,
        "start_time": "2022-01-20T17:25:22.071Z"
      },
      {
        "duration": 11,
        "start_time": "2022-01-20T17:25:22.096Z"
      },
      {
        "duration": 72,
        "start_time": "2022-01-20T17:25:22.110Z"
      },
      {
        "duration": 9,
        "start_time": "2022-01-20T17:25:22.183Z"
      },
      {
        "duration": 41,
        "start_time": "2022-01-20T17:25:22.193Z"
      },
      {
        "duration": 7,
        "start_time": "2022-01-20T17:25:22.235Z"
      },
      {
        "duration": 52,
        "start_time": "2022-01-20T17:25:22.243Z"
      },
      {
        "duration": 7,
        "start_time": "2022-01-20T17:25:22.297Z"
      },
      {
        "duration": 27,
        "start_time": "2022-01-20T17:25:22.305Z"
      },
      {
        "duration": 6,
        "start_time": "2022-01-20T17:25:22.334Z"
      },
      {
        "duration": 61,
        "start_time": "2022-01-20T17:25:22.341Z"
      },
      {
        "duration": 8,
        "start_time": "2022-01-20T17:25:22.403Z"
      },
      {
        "duration": 26,
        "start_time": "2022-01-20T17:25:22.413Z"
      },
      {
        "duration": 6,
        "start_time": "2022-01-20T17:25:22.441Z"
      },
      {
        "duration": 133,
        "start_time": "2022-01-20T17:25:22.449Z"
      },
      {
        "duration": 75,
        "start_time": "2022-01-20T17:25:22.584Z"
      },
      {
        "duration": 99,
        "start_time": "2022-01-20T17:25:22.661Z"
      },
      {
        "duration": 31,
        "start_time": "2022-01-20T17:25:22.762Z"
      },
      {
        "duration": 5,
        "start_time": "2022-01-20T17:25:22.795Z"
      },
      {
        "duration": 11,
        "start_time": "2022-01-20T17:25:22.802Z"
      },
      {
        "duration": 15,
        "start_time": "2022-01-20T17:25:22.814Z"
      },
      {
        "duration": 7,
        "start_time": "2022-01-20T17:25:22.830Z"
      },
      {
        "duration": 35,
        "start_time": "2022-01-20T17:25:22.838Z"
      },
      {
        "duration": 20,
        "start_time": "2022-01-20T17:25:22.875Z"
      },
      {
        "duration": 37,
        "start_time": "2022-01-20T17:25:22.896Z"
      },
      {
        "duration": 1198,
        "start_time": "2022-01-20T17:25:22.934Z"
      },
      {
        "duration": 493,
        "start_time": "2022-01-20T17:25:24.134Z"
      },
      {
        "duration": -907,
        "start_time": "2022-01-20T17:25:25.536Z"
      },
      {
        "duration": -914,
        "start_time": "2022-01-20T17:25:25.544Z"
      },
      {
        "duration": -920,
        "start_time": "2022-01-20T17:25:25.551Z"
      },
      {
        "duration": -927,
        "start_time": "2022-01-20T17:25:25.559Z"
      },
      {
        "duration": -932,
        "start_time": "2022-01-20T17:25:25.565Z"
      },
      {
        "duration": -940,
        "start_time": "2022-01-20T17:25:25.573Z"
      },
      {
        "duration": -955,
        "start_time": "2022-01-20T17:25:25.589Z"
      },
      {
        "duration": 269,
        "start_time": "2022-01-20T17:26:29.660Z"
      },
      {
        "duration": 250,
        "start_time": "2022-01-20T17:26:40.580Z"
      },
      {
        "duration": 189,
        "start_time": "2022-01-20T17:27:10.254Z"
      },
      {
        "duration": 186,
        "start_time": "2022-01-20T17:27:28.290Z"
      },
      {
        "duration": 180,
        "start_time": "2022-01-20T17:27:42.969Z"
      },
      {
        "duration": 8,
        "start_time": "2022-01-20T17:27:49.185Z"
      },
      {
        "duration": 3,
        "start_time": "2022-01-20T17:27:55.426Z"
      },
      {
        "duration": 251,
        "start_time": "2022-01-20T17:27:58.230Z"
      },
      {
        "duration": 517,
        "start_time": "2022-01-20T17:28:04.425Z"
      },
      {
        "duration": 3,
        "start_time": "2022-01-20T17:28:27.830Z"
      },
      {
        "duration": 305,
        "start_time": "2022-01-20T17:28:30.329Z"
      },
      {
        "duration": 265,
        "start_time": "2022-01-20T17:28:33.310Z"
      },
      {
        "duration": 196,
        "start_time": "2022-01-20T17:28:37.391Z"
      },
      {
        "duration": 222,
        "start_time": "2022-01-20T17:28:42.631Z"
      },
      {
        "duration": 3,
        "start_time": "2022-01-20T17:31:52.101Z"
      },
      {
        "duration": 491,
        "start_time": "2022-01-20T17:31:53.771Z"
      },
      {
        "duration": 3,
        "start_time": "2022-01-20T17:32:01.909Z"
      },
      {
        "duration": 235,
        "start_time": "2022-01-20T17:32:03.347Z"
      },
      {
        "duration": 198,
        "start_time": "2022-01-20T17:32:04.147Z"
      },
      {
        "duration": 224,
        "start_time": "2022-01-20T17:32:07.533Z"
      },
      {
        "duration": 6464,
        "start_time": "2022-01-20T17:33:22.352Z"
      },
      {
        "duration": 334,
        "start_time": "2022-01-20T17:35:00.599Z"
      },
      {
        "duration": 37298,
        "start_time": "2022-01-20T17:35:16.986Z"
      },
      {
        "duration": 96,
        "start_time": "2022-01-20T17:36:10.501Z"
      },
      {
        "duration": 1188,
        "start_time": "2022-01-20T17:36:23.795Z"
      },
      {
        "duration": 149,
        "start_time": "2022-01-20T17:36:24.985Z"
      },
      {
        "duration": 21,
        "start_time": "2022-01-20T17:36:25.136Z"
      },
      {
        "duration": 146,
        "start_time": "2022-01-20T17:36:25.159Z"
      },
      {
        "duration": 17,
        "start_time": "2022-01-20T17:36:25.307Z"
      },
      {
        "duration": 96,
        "start_time": "2022-01-20T17:36:25.326Z"
      },
      {
        "duration": 14,
        "start_time": "2022-01-20T17:36:25.424Z"
      },
      {
        "duration": 21,
        "start_time": "2022-01-20T17:36:25.442Z"
      },
      {
        "duration": 6,
        "start_time": "2022-01-20T17:36:25.472Z"
      },
      {
        "duration": 34,
        "start_time": "2022-01-20T17:36:25.480Z"
      },
      {
        "duration": 6,
        "start_time": "2022-01-20T17:36:25.516Z"
      },
      {
        "duration": 16,
        "start_time": "2022-01-20T17:36:25.524Z"
      },
      {
        "duration": 5,
        "start_time": "2022-01-20T17:36:25.541Z"
      },
      {
        "duration": 7,
        "start_time": "2022-01-20T17:36:25.547Z"
      },
      {
        "duration": 19,
        "start_time": "2022-01-20T17:36:25.555Z"
      },
      {
        "duration": 30,
        "start_time": "2022-01-20T17:36:25.575Z"
      },
      {
        "duration": 20,
        "start_time": "2022-01-20T17:36:25.607Z"
      },
      {
        "duration": 6,
        "start_time": "2022-01-20T17:36:25.628Z"
      },
      {
        "duration": 8,
        "start_time": "2022-01-20T17:36:25.635Z"
      },
      {
        "duration": 41,
        "start_time": "2022-01-20T17:36:25.645Z"
      },
      {
        "duration": 10,
        "start_time": "2022-01-20T17:36:25.688Z"
      },
      {
        "duration": 22,
        "start_time": "2022-01-20T17:36:25.699Z"
      },
      {
        "duration": 11,
        "start_time": "2022-01-20T17:36:25.724Z"
      },
      {
        "duration": 83,
        "start_time": "2022-01-20T17:36:25.737Z"
      },
      {
        "duration": 8,
        "start_time": "2022-01-20T17:36:25.822Z"
      },
      {
        "duration": 43,
        "start_time": "2022-01-20T17:36:25.831Z"
      },
      {
        "duration": 6,
        "start_time": "2022-01-20T17:36:25.876Z"
      },
      {
        "duration": 38,
        "start_time": "2022-01-20T17:36:25.883Z"
      },
      {
        "duration": 8,
        "start_time": "2022-01-20T17:36:25.922Z"
      },
      {
        "duration": 48,
        "start_time": "2022-01-20T17:36:25.932Z"
      },
      {
        "duration": 6,
        "start_time": "2022-01-20T17:36:25.982Z"
      },
      {
        "duration": 43,
        "start_time": "2022-01-20T17:36:25.990Z"
      },
      {
        "duration": 9,
        "start_time": "2022-01-20T17:36:26.035Z"
      },
      {
        "duration": 49,
        "start_time": "2022-01-20T17:36:26.046Z"
      },
      {
        "duration": 7,
        "start_time": "2022-01-20T17:36:26.096Z"
      },
      {
        "duration": 128,
        "start_time": "2022-01-20T17:36:26.104Z"
      },
      {
        "duration": 80,
        "start_time": "2022-01-20T17:36:26.233Z"
      },
      {
        "duration": 95,
        "start_time": "2022-01-20T17:36:26.315Z"
      },
      {
        "duration": 22,
        "start_time": "2022-01-20T17:36:26.411Z"
      },
      {
        "duration": 6,
        "start_time": "2022-01-20T17:36:26.435Z"
      },
      {
        "duration": 35,
        "start_time": "2022-01-20T17:36:26.443Z"
      },
      {
        "duration": 14,
        "start_time": "2022-01-20T17:36:26.480Z"
      },
      {
        "duration": 8,
        "start_time": "2022-01-20T17:36:26.496Z"
      },
      {
        "duration": 6,
        "start_time": "2022-01-20T17:36:26.506Z"
      },
      {
        "duration": 122,
        "start_time": "2022-01-20T17:36:26.514Z"
      },
      {
        "duration": 17,
        "start_time": "2022-01-20T17:36:26.638Z"
      },
      {
        "duration": 45,
        "start_time": "2022-01-20T17:36:26.656Z"
      },
      {
        "duration": 888,
        "start_time": "2022-01-20T17:36:26.702Z"
      },
      {
        "duration": 185,
        "start_time": "2022-01-20T17:36:27.592Z"
      },
      {
        "duration": 201,
        "start_time": "2022-01-20T17:36:27.778Z"
      },
      {
        "duration": 192,
        "start_time": "2022-01-20T17:36:27.981Z"
      },
      {
        "duration": 7,
        "start_time": "2022-01-20T17:36:28.175Z"
      },
      {
        "duration": 4,
        "start_time": "2022-01-20T17:36:28.184Z"
      },
      {
        "duration": 257,
        "start_time": "2022-01-20T17:36:28.190Z"
      },
      {
        "duration": 429,
        "start_time": "2022-01-20T17:36:28.449Z"
      },
      {
        "duration": 303,
        "start_time": "2022-01-20T17:36:28.880Z"
      },
      {
        "duration": 9,
        "start_time": "2022-01-20T17:36:29.184Z"
      },
      {
        "duration": 11,
        "start_time": "2022-01-20T17:36:54.131Z"
      },
      {
        "duration": 16,
        "start_time": "2022-01-20T17:37:41.390Z"
      },
      {
        "duration": 11,
        "start_time": "2022-01-20T17:37:52.688Z"
      },
      {
        "duration": 10,
        "start_time": "2022-01-20T17:38:42.375Z"
      },
      {
        "duration": 4,
        "start_time": "2022-01-20T17:39:07.598Z"
      },
      {
        "duration": 14,
        "start_time": "2022-01-20T17:39:15.318Z"
      },
      {
        "duration": 21,
        "start_time": "2022-01-20T17:40:34.487Z"
      },
      {
        "duration": 1169,
        "start_time": "2022-01-20T17:40:52.821Z"
      },
      {
        "duration": 153,
        "start_time": "2022-01-20T17:40:53.992Z"
      },
      {
        "duration": 39,
        "start_time": "2022-01-20T17:40:54.147Z"
      },
      {
        "duration": 286,
        "start_time": "2022-01-20T17:40:54.187Z"
      },
      {
        "duration": 15,
        "start_time": "2022-01-20T17:40:54.475Z"
      },
      {
        "duration": 125,
        "start_time": "2022-01-20T17:40:54.491Z"
      },
      {
        "duration": 12,
        "start_time": "2022-01-20T17:40:54.618Z"
      },
      {
        "duration": 19,
        "start_time": "2022-01-20T17:40:54.632Z"
      },
      {
        "duration": 5,
        "start_time": "2022-01-20T17:40:54.654Z"
      },
      {
        "duration": 33,
        "start_time": "2022-01-20T17:40:54.672Z"
      },
      {
        "duration": 5,
        "start_time": "2022-01-20T17:40:54.706Z"
      },
      {
        "duration": 14,
        "start_time": "2022-01-20T17:40:54.713Z"
      },
      {
        "duration": 5,
        "start_time": "2022-01-20T17:40:54.729Z"
      },
      {
        "duration": 5,
        "start_time": "2022-01-20T17:40:54.735Z"
      },
      {
        "duration": 7,
        "start_time": "2022-01-20T17:40:54.742Z"
      },
      {
        "duration": 41,
        "start_time": "2022-01-20T17:40:54.750Z"
      },
      {
        "duration": 21,
        "start_time": "2022-01-20T17:40:54.792Z"
      },
      {
        "duration": 3,
        "start_time": "2022-01-20T17:40:54.815Z"
      },
      {
        "duration": 7,
        "start_time": "2022-01-20T17:40:54.820Z"
      },
      {
        "duration": 19,
        "start_time": "2022-01-20T17:40:54.828Z"
      },
      {
        "duration": 27,
        "start_time": "2022-01-20T17:40:54.849Z"
      },
      {
        "duration": 22,
        "start_time": "2022-01-20T17:40:54.877Z"
      },
      {
        "duration": 11,
        "start_time": "2022-01-20T17:40:54.900Z"
      },
      {
        "duration": 76,
        "start_time": "2022-01-20T17:40:54.913Z"
      },
      {
        "duration": 9,
        "start_time": "2022-01-20T17:40:54.990Z"
      },
      {
        "duration": 35,
        "start_time": "2022-01-20T17:40:55.000Z"
      },
      {
        "duration": 7,
        "start_time": "2022-01-20T17:40:55.039Z"
      },
      {
        "duration": 59,
        "start_time": "2022-01-20T17:40:55.048Z"
      },
      {
        "duration": 7,
        "start_time": "2022-01-20T17:40:55.109Z"
      },
      {
        "duration": 27,
        "start_time": "2022-01-20T17:40:55.118Z"
      },
      {
        "duration": 6,
        "start_time": "2022-01-20T17:40:55.147Z"
      },
      {
        "duration": 59,
        "start_time": "2022-01-20T17:40:55.155Z"
      },
      {
        "duration": 9,
        "start_time": "2022-01-20T17:40:55.215Z"
      },
      {
        "duration": 28,
        "start_time": "2022-01-20T17:40:55.226Z"
      },
      {
        "duration": 7,
        "start_time": "2022-01-20T17:40:55.272Z"
      },
      {
        "duration": 125,
        "start_time": "2022-01-20T17:40:55.281Z"
      },
      {
        "duration": 78,
        "start_time": "2022-01-20T17:40:55.408Z"
      },
      {
        "duration": 101,
        "start_time": "2022-01-20T17:40:55.487Z"
      },
      {
        "duration": 23,
        "start_time": "2022-01-20T17:40:55.589Z"
      },
      {
        "duration": 6,
        "start_time": "2022-01-20T17:40:55.613Z"
      },
      {
        "duration": 12,
        "start_time": "2022-01-20T17:40:55.620Z"
      },
      {
        "duration": 38,
        "start_time": "2022-01-20T17:40:55.634Z"
      },
      {
        "duration": 7,
        "start_time": "2022-01-20T17:40:55.673Z"
      },
      {
        "duration": 6,
        "start_time": "2022-01-20T17:40:55.682Z"
      },
      {
        "duration": 107,
        "start_time": "2022-01-20T17:40:55.689Z"
      },
      {
        "duration": 16,
        "start_time": "2022-01-20T17:40:55.797Z"
      },
      {
        "duration": 33,
        "start_time": "2022-01-20T17:40:55.815Z"
      },
      {
        "duration": 911,
        "start_time": "2022-01-20T17:40:55.849Z"
      },
      {
        "duration": 181,
        "start_time": "2022-01-20T17:40:56.762Z"
      },
      {
        "duration": 192,
        "start_time": "2022-01-20T17:40:56.945Z"
      },
      {
        "duration": 187,
        "start_time": "2022-01-20T17:40:57.139Z"
      },
      {
        "duration": 7,
        "start_time": "2022-01-20T17:40:57.328Z"
      },
      {
        "duration": 4,
        "start_time": "2022-01-20T17:40:57.336Z"
      },
      {
        "duration": 249,
        "start_time": "2022-01-20T17:40:57.341Z"
      },
      {
        "duration": 263,
        "start_time": "2022-01-20T17:40:57.592Z"
      },
      {
        "duration": 238,
        "start_time": "2022-01-20T17:40:57.857Z"
      },
      {
        "duration": 8,
        "start_time": "2022-01-20T17:40:58.097Z"
      },
      {
        "duration": 13,
        "start_time": "2022-01-20T17:40:58.107Z"
      },
      {
        "duration": 17,
        "start_time": "2022-01-20T17:40:58.121Z"
      },
      {
        "duration": 34,
        "start_time": "2022-01-20T17:40:58.139Z"
      },
      {
        "duration": 4,
        "start_time": "2022-01-20T17:40:58.175Z"
      },
      {
        "duration": 13,
        "start_time": "2022-01-20T17:40:58.181Z"
      },
      {
        "duration": 85,
        "start_time": "2022-01-20T17:42:26.504Z"
      },
      {
        "duration": 1111,
        "start_time": "2022-01-20T17:44:56.362Z"
      },
      {
        "duration": 145,
        "start_time": "2022-01-20T17:44:57.475Z"
      },
      {
        "duration": 19,
        "start_time": "2022-01-20T17:44:57.622Z"
      },
      {
        "duration": 138,
        "start_time": "2022-01-20T17:44:57.644Z"
      },
      {
        "duration": 17,
        "start_time": "2022-01-20T17:44:57.784Z"
      },
      {
        "duration": 91,
        "start_time": "2022-01-20T17:44:57.803Z"
      },
      {
        "duration": 13,
        "start_time": "2022-01-20T17:44:57.896Z"
      },
      {
        "duration": 21,
        "start_time": "2022-01-20T17:44:57.912Z"
      },
      {
        "duration": 6,
        "start_time": "2022-01-20T17:44:57.935Z"
      },
      {
        "duration": 36,
        "start_time": "2022-01-20T17:44:57.942Z"
      },
      {
        "duration": 5,
        "start_time": "2022-01-20T17:44:57.980Z"
      },
      {
        "duration": 15,
        "start_time": "2022-01-20T17:44:57.987Z"
      },
      {
        "duration": 5,
        "start_time": "2022-01-20T17:44:58.004Z"
      },
      {
        "duration": 6,
        "start_time": "2022-01-20T17:44:58.010Z"
      },
      {
        "duration": 12,
        "start_time": "2022-01-20T17:44:58.017Z"
      },
      {
        "duration": 52,
        "start_time": "2022-01-20T17:44:58.031Z"
      },
      {
        "duration": 22,
        "start_time": "2022-01-20T17:44:58.085Z"
      },
      {
        "duration": 4,
        "start_time": "2022-01-20T17:44:58.108Z"
      },
      {
        "duration": 7,
        "start_time": "2022-01-20T17:44:58.114Z"
      },
      {
        "duration": 17,
        "start_time": "2022-01-20T17:44:58.122Z"
      },
      {
        "duration": 31,
        "start_time": "2022-01-20T17:44:58.141Z"
      },
      {
        "duration": 21,
        "start_time": "2022-01-20T17:44:58.174Z"
      },
      {
        "duration": 12,
        "start_time": "2022-01-20T17:44:58.199Z"
      },
      {
        "duration": 80,
        "start_time": "2022-01-20T17:44:58.213Z"
      },
      {
        "duration": 7,
        "start_time": "2022-01-20T17:44:58.295Z"
      },
      {
        "duration": 35,
        "start_time": "2022-01-20T17:44:58.304Z"
      },
      {
        "duration": 8,
        "start_time": "2022-01-20T17:44:58.340Z"
      },
      {
        "duration": 56,
        "start_time": "2022-01-20T17:44:58.350Z"
      },
      {
        "duration": 8,
        "start_time": "2022-01-20T17:44:58.408Z"
      },
      {
        "duration": 27,
        "start_time": "2022-01-20T17:44:58.418Z"
      },
      {
        "duration": 25,
        "start_time": "2022-01-20T17:44:58.446Z"
      },
      {
        "duration": 41,
        "start_time": "2022-01-20T17:44:58.473Z"
      },
      {
        "duration": 10,
        "start_time": "2022-01-20T17:44:58.516Z"
      },
      {
        "duration": 49,
        "start_time": "2022-01-20T17:44:58.527Z"
      },
      {
        "duration": 8,
        "start_time": "2022-01-20T17:44:58.578Z"
      },
      {
        "duration": 132,
        "start_time": "2022-01-20T17:44:58.588Z"
      },
      {
        "duration": 85,
        "start_time": "2022-01-20T17:44:58.722Z"
      },
      {
        "duration": 102,
        "start_time": "2022-01-20T17:44:58.809Z"
      },
      {
        "duration": 24,
        "start_time": "2022-01-20T17:44:58.913Z"
      },
      {
        "duration": 8,
        "start_time": "2022-01-20T17:44:58.939Z"
      },
      {
        "duration": 33,
        "start_time": "2022-01-20T17:44:58.949Z"
      },
      {
        "duration": 15,
        "start_time": "2022-01-20T17:44:58.984Z"
      },
      {
        "duration": 7,
        "start_time": "2022-01-20T17:44:59.001Z"
      },
      {
        "duration": 6,
        "start_time": "2022-01-20T17:44:59.010Z"
      },
      {
        "duration": 133,
        "start_time": "2022-01-20T17:44:59.017Z"
      },
      {
        "duration": 25,
        "start_time": "2022-01-20T17:44:59.151Z"
      },
      {
        "duration": 38,
        "start_time": "2022-01-20T17:44:59.178Z"
      },
      {
        "duration": 982,
        "start_time": "2022-01-20T17:44:59.218Z"
      },
      {
        "duration": 207,
        "start_time": "2022-01-20T17:45:00.202Z"
      },
      {
        "duration": 209,
        "start_time": "2022-01-20T17:45:00.411Z"
      },
      {
        "duration": 197,
        "start_time": "2022-01-20T17:45:00.621Z"
      },
      {
        "duration": 8,
        "start_time": "2022-01-20T17:45:00.819Z"
      },
      {
        "duration": 18,
        "start_time": "2022-01-20T17:45:00.828Z"
      },
      {
        "duration": 258,
        "start_time": "2022-01-20T17:45:00.848Z"
      },
      {
        "duration": 276,
        "start_time": "2022-01-20T17:45:01.108Z"
      },
      {
        "duration": 249,
        "start_time": "2022-01-20T17:45:01.386Z"
      },
      {
        "duration": 11,
        "start_time": "2022-01-20T17:45:01.637Z"
      },
      {
        "duration": 30,
        "start_time": "2022-01-20T17:45:01.650Z"
      },
      {
        "duration": 19,
        "start_time": "2022-01-20T17:45:01.682Z"
      },
      {
        "duration": 19,
        "start_time": "2022-01-20T17:45:01.703Z"
      },
      {
        "duration": 6,
        "start_time": "2022-01-20T17:45:01.724Z"
      },
      {
        "duration": 32,
        "start_time": "2022-01-20T17:45:01.732Z"
      },
      {
        "duration": 1509,
        "start_time": "2022-01-25T05:45:31.350Z"
      },
      {
        "duration": 236,
        "start_time": "2022-01-25T05:45:32.863Z"
      },
      {
        "duration": 27,
        "start_time": "2022-01-25T05:45:33.102Z"
      },
      {
        "duration": 213,
        "start_time": "2022-01-25T05:45:33.132Z"
      },
      {
        "duration": 27,
        "start_time": "2022-01-25T05:45:33.348Z"
      },
      {
        "duration": 137,
        "start_time": "2022-01-25T05:45:33.378Z"
      },
      {
        "duration": 19,
        "start_time": "2022-01-25T05:45:33.517Z"
      },
      {
        "duration": 40,
        "start_time": "2022-01-25T05:45:33.539Z"
      },
      {
        "duration": 8,
        "start_time": "2022-01-25T05:45:33.582Z"
      },
      {
        "duration": 50,
        "start_time": "2022-01-25T05:45:33.592Z"
      },
      {
        "duration": 8,
        "start_time": "2022-01-25T05:45:33.644Z"
      },
      {
        "duration": 34,
        "start_time": "2022-01-25T05:45:33.655Z"
      },
      {
        "duration": 9,
        "start_time": "2022-01-25T05:45:33.692Z"
      },
      {
        "duration": 9,
        "start_time": "2022-01-25T05:45:33.704Z"
      },
      {
        "duration": 48,
        "start_time": "2022-01-25T05:45:33.715Z"
      },
      {
        "duration": 54,
        "start_time": "2022-01-25T05:45:33.765Z"
      },
      {
        "duration": 48,
        "start_time": "2022-01-25T05:45:33.822Z"
      },
      {
        "duration": 9,
        "start_time": "2022-01-25T05:45:33.873Z"
      },
      {
        "duration": 11,
        "start_time": "2022-01-25T05:45:33.884Z"
      },
      {
        "duration": 65,
        "start_time": "2022-01-25T05:45:33.898Z"
      },
      {
        "duration": 19,
        "start_time": "2022-01-25T05:45:33.966Z"
      },
      {
        "duration": 31,
        "start_time": "2022-01-25T05:45:33.988Z"
      },
      {
        "duration": 46,
        "start_time": "2022-01-25T05:45:34.025Z"
      },
      {
        "duration": 107,
        "start_time": "2022-01-25T05:45:34.074Z"
      },
      {
        "duration": 11,
        "start_time": "2022-01-25T05:45:34.184Z"
      },
      {
        "duration": 64,
        "start_time": "2022-01-25T05:45:34.197Z"
      },
      {
        "duration": 14,
        "start_time": "2022-01-25T05:45:34.264Z"
      },
      {
        "duration": 79,
        "start_time": "2022-01-25T05:45:34.281Z"
      },
      {
        "duration": 16,
        "start_time": "2022-01-25T05:45:34.368Z"
      },
      {
        "duration": 39,
        "start_time": "2022-01-25T05:45:34.386Z"
      },
      {
        "duration": 9,
        "start_time": "2022-01-25T05:45:34.427Z"
      },
      {
        "duration": 89,
        "start_time": "2022-01-25T05:45:34.438Z"
      },
      {
        "duration": 32,
        "start_time": "2022-01-25T05:45:34.529Z"
      },
      {
        "duration": 42,
        "start_time": "2022-01-25T05:45:34.564Z"
      },
      {
        "duration": 9,
        "start_time": "2022-01-25T05:45:34.608Z"
      },
      {
        "duration": 207,
        "start_time": "2022-01-25T05:45:34.620Z"
      },
      {
        "duration": 132,
        "start_time": "2022-01-25T05:45:34.829Z"
      },
      {
        "duration": 171,
        "start_time": "2022-01-25T05:45:34.964Z"
      },
      {
        "duration": 51,
        "start_time": "2022-01-25T05:45:35.138Z"
      },
      {
        "duration": 10,
        "start_time": "2022-01-25T05:45:35.191Z"
      },
      {
        "duration": 19,
        "start_time": "2022-01-25T05:45:35.203Z"
      },
      {
        "duration": 59,
        "start_time": "2022-01-25T05:45:35.225Z"
      },
      {
        "duration": 12,
        "start_time": "2022-01-25T05:45:35.287Z"
      },
      {
        "duration": 11,
        "start_time": "2022-01-25T05:45:35.302Z"
      },
      {
        "duration": 219,
        "start_time": "2022-01-25T05:45:35.315Z"
      },
      {
        "duration": 46,
        "start_time": "2022-01-25T05:45:35.536Z"
      },
      {
        "duration": 76,
        "start_time": "2022-01-25T05:45:35.584Z"
      },
      {
        "duration": 1381,
        "start_time": "2022-01-25T05:45:35.663Z"
      },
      {
        "duration": 355,
        "start_time": "2022-01-25T05:45:37.046Z"
      },
      {
        "duration": 379,
        "start_time": "2022-01-25T05:45:37.403Z"
      },
      {
        "duration": 349,
        "start_time": "2022-01-25T05:45:37.784Z"
      },
      {
        "duration": 11,
        "start_time": "2022-01-25T05:45:38.135Z"
      },
      {
        "duration": 6,
        "start_time": "2022-01-25T05:45:38.161Z"
      },
      {
        "duration": 458,
        "start_time": "2022-01-25T05:45:38.170Z"
      },
      {
        "duration": 440,
        "start_time": "2022-01-25T05:45:38.630Z"
      },
      {
        "duration": 433,
        "start_time": "2022-01-25T05:45:39.073Z"
      },
      {
        "duration": 15,
        "start_time": "2022-01-25T05:45:39.508Z"
      },
      {
        "duration": 40,
        "start_time": "2022-01-25T05:45:39.525Z"
      },
      {
        "duration": 32,
        "start_time": "2022-01-25T05:45:39.568Z"
      },
      {
        "duration": 15,
        "start_time": "2022-01-25T05:45:39.602Z"
      },
      {
        "duration": 5,
        "start_time": "2022-01-25T05:45:39.620Z"
      },
      {
        "duration": 61,
        "start_time": "2022-01-25T05:45:39.627Z"
      },
      {
        "duration": 1127,
        "start_time": "2022-01-25T06:18:45.477Z"
      },
      {
        "duration": 173,
        "start_time": "2022-01-25T06:18:46.606Z"
      },
      {
        "duration": 28,
        "start_time": "2022-01-25T06:18:46.782Z"
      },
      {
        "duration": 193,
        "start_time": "2022-01-25T06:18:46.813Z"
      },
      {
        "duration": 20,
        "start_time": "2022-01-25T06:18:47.009Z"
      },
      {
        "duration": 121,
        "start_time": "2022-01-25T06:18:47.031Z"
      },
      {
        "duration": 16,
        "start_time": "2022-01-25T06:18:47.154Z"
      },
      {
        "duration": 37,
        "start_time": "2022-01-25T06:18:47.173Z"
      },
      {
        "duration": 44,
        "start_time": "2022-01-25T06:18:47.213Z"
      },
      {
        "duration": 54,
        "start_time": "2022-01-25T06:18:47.259Z"
      },
      {
        "duration": 25,
        "start_time": "2022-01-25T06:18:47.314Z"
      },
      {
        "duration": 53,
        "start_time": "2022-01-25T06:18:47.341Z"
      },
      {
        "duration": 12,
        "start_time": "2022-01-25T06:18:47.396Z"
      },
      {
        "duration": 34,
        "start_time": "2022-01-25T06:18:47.410Z"
      },
      {
        "duration": 31,
        "start_time": "2022-01-25T06:18:47.446Z"
      },
      {
        "duration": 33,
        "start_time": "2022-01-25T06:18:47.479Z"
      },
      {
        "duration": 24,
        "start_time": "2022-01-25T06:18:47.514Z"
      },
      {
        "duration": 5,
        "start_time": "2022-01-25T06:18:47.540Z"
      },
      {
        "duration": 21,
        "start_time": "2022-01-25T06:18:47.547Z"
      },
      {
        "duration": 30,
        "start_time": "2022-01-25T06:18:47.570Z"
      },
      {
        "duration": 19,
        "start_time": "2022-01-25T06:18:47.602Z"
      },
      {
        "duration": 11,
        "start_time": "2022-01-25T06:18:47.622Z"
      },
      {
        "duration": 38,
        "start_time": "2022-01-25T06:18:47.637Z"
      },
      {
        "duration": 13,
        "start_time": "2022-01-25T06:18:47.677Z"
      },
      {
        "duration": 80,
        "start_time": "2022-01-25T06:18:47.691Z"
      },
      {
        "duration": 8,
        "start_time": "2022-01-25T06:18:47.773Z"
      },
      {
        "duration": 45,
        "start_time": "2022-01-25T06:18:47.783Z"
      },
      {
        "duration": 10,
        "start_time": "2022-01-25T06:18:47.830Z"
      },
      {
        "duration": 55,
        "start_time": "2022-01-25T06:18:47.841Z"
      },
      {
        "duration": 10,
        "start_time": "2022-01-25T06:18:47.898Z"
      },
      {
        "duration": 53,
        "start_time": "2022-01-25T06:18:47.910Z"
      },
      {
        "duration": 7,
        "start_time": "2022-01-25T06:18:47.964Z"
      },
      {
        "duration": 51,
        "start_time": "2022-01-25T06:18:47.972Z"
      },
      {
        "duration": 10,
        "start_time": "2022-01-25T06:18:48.025Z"
      },
      {
        "duration": 51,
        "start_time": "2022-01-25T06:18:48.037Z"
      },
      {
        "duration": 7,
        "start_time": "2022-01-25T06:18:48.090Z"
      },
      {
        "duration": 134,
        "start_time": "2022-01-25T06:18:48.098Z"
      },
      {
        "duration": 91,
        "start_time": "2022-01-25T06:18:48.234Z"
      },
      {
        "duration": 104,
        "start_time": "2022-01-25T06:18:48.327Z"
      },
      {
        "duration": 30,
        "start_time": "2022-01-25T06:18:48.433Z"
      },
      {
        "duration": 5,
        "start_time": "2022-01-25T06:18:48.464Z"
      },
      {
        "duration": 48,
        "start_time": "2022-01-25T06:18:48.471Z"
      },
      {
        "duration": 39,
        "start_time": "2022-01-25T06:18:48.520Z"
      },
      {
        "duration": 18,
        "start_time": "2022-01-25T06:18:48.560Z"
      },
      {
        "duration": 28,
        "start_time": "2022-01-25T06:18:48.580Z"
      },
      {
        "duration": 147,
        "start_time": "2022-01-25T06:18:48.609Z"
      },
      {
        "duration": 18,
        "start_time": "2022-01-25T06:18:48.757Z"
      },
      {
        "duration": 63,
        "start_time": "2022-01-25T06:18:48.777Z"
      },
      {
        "duration": 948,
        "start_time": "2022-01-25T06:18:48.842Z"
      },
      {
        "duration": 194,
        "start_time": "2022-01-25T06:18:49.792Z"
      },
      {
        "duration": 213,
        "start_time": "2022-01-25T06:18:49.988Z"
      },
      {
        "duration": 191,
        "start_time": "2022-01-25T06:18:50.203Z"
      },
      {
        "duration": 9,
        "start_time": "2022-01-25T06:18:50.396Z"
      },
      {
        "duration": 4,
        "start_time": "2022-01-25T06:18:50.406Z"
      },
      {
        "duration": 275,
        "start_time": "2022-01-25T06:18:50.412Z"
      },
      {
        "duration": 291,
        "start_time": "2022-01-25T06:18:50.688Z"
      },
      {
        "duration": 243,
        "start_time": "2022-01-25T06:18:50.981Z"
      },
      {
        "duration": 9,
        "start_time": "2022-01-25T06:18:51.226Z"
      },
      {
        "duration": 30,
        "start_time": "2022-01-25T06:18:51.237Z"
      },
      {
        "duration": 38,
        "start_time": "2022-01-25T06:18:51.269Z"
      },
      {
        "duration": 10,
        "start_time": "2022-01-25T06:18:51.309Z"
      },
      {
        "duration": 27,
        "start_time": "2022-01-25T06:18:51.320Z"
      },
      {
        "duration": 23,
        "start_time": "2022-01-25T06:18:51.349Z"
      },
      {
        "duration": 15,
        "start_time": "2022-01-25T06:30:41.201Z"
      },
      {
        "duration": 41,
        "start_time": "2022-01-25T06:30:59.381Z"
      },
      {
        "duration": 1218,
        "start_time": "2022-01-25T06:31:05.010Z"
      },
      {
        "duration": 165,
        "start_time": "2022-01-25T06:31:06.231Z"
      },
      {
        "duration": 21,
        "start_time": "2022-01-25T06:31:06.399Z"
      },
      {
        "duration": 152,
        "start_time": "2022-01-25T06:31:06.422Z"
      },
      {
        "duration": 17,
        "start_time": "2022-01-25T06:31:06.576Z"
      },
      {
        "duration": 113,
        "start_time": "2022-01-25T06:31:06.595Z"
      },
      {
        "duration": 14,
        "start_time": "2022-01-25T06:31:06.710Z"
      },
      {
        "duration": 49,
        "start_time": "2022-01-25T06:31:06.726Z"
      },
      {
        "duration": 17,
        "start_time": "2022-01-25T06:31:06.778Z"
      },
      {
        "duration": 49,
        "start_time": "2022-01-25T06:31:06.797Z"
      },
      {
        "duration": 16,
        "start_time": "2022-01-25T06:31:06.848Z"
      },
      {
        "duration": 24,
        "start_time": "2022-01-25T06:31:06.866Z"
      },
      {
        "duration": 8,
        "start_time": "2022-01-25T06:31:06.892Z"
      },
      {
        "duration": 12,
        "start_time": "2022-01-25T06:31:06.902Z"
      },
      {
        "duration": 13,
        "start_time": "2022-01-25T06:31:06.916Z"
      },
      {
        "duration": 49,
        "start_time": "2022-01-25T06:31:06.931Z"
      },
      {
        "duration": 23,
        "start_time": "2022-01-25T06:31:06.982Z"
      },
      {
        "duration": 34,
        "start_time": "2022-01-25T06:31:07.007Z"
      },
      {
        "duration": 46,
        "start_time": "2022-01-25T06:31:07.043Z"
      },
      {
        "duration": 42,
        "start_time": "2022-01-25T06:31:07.091Z"
      },
      {
        "duration": 33,
        "start_time": "2022-01-25T06:31:07.135Z"
      },
      {
        "duration": 36,
        "start_time": "2022-01-25T06:31:07.170Z"
      },
      {
        "duration": 12,
        "start_time": "2022-01-25T06:31:07.209Z"
      },
      {
        "duration": 55,
        "start_time": "2022-01-25T06:31:07.223Z"
      },
      {
        "duration": 22,
        "start_time": "2022-01-25T06:31:07.279Z"
      },
      {
        "duration": 60,
        "start_time": "2022-01-25T06:31:07.303Z"
      },
      {
        "duration": 35,
        "start_time": "2022-01-25T06:31:07.365Z"
      },
      {
        "duration": 50,
        "start_time": "2022-01-25T06:31:07.403Z"
      },
      {
        "duration": 24,
        "start_time": "2022-01-25T06:31:07.455Z"
      },
      {
        "duration": 65,
        "start_time": "2022-01-25T06:31:07.481Z"
      },
      {
        "duration": 22,
        "start_time": "2022-01-25T06:31:07.547Z"
      },
      {
        "duration": 54,
        "start_time": "2022-01-25T06:31:07.571Z"
      },
      {
        "duration": 7,
        "start_time": "2022-01-25T06:31:07.627Z"
      },
      {
        "duration": 64,
        "start_time": "2022-01-25T06:31:07.636Z"
      },
      {
        "duration": 11,
        "start_time": "2022-01-25T06:31:07.702Z"
      },
      {
        "duration": 62,
        "start_time": "2022-01-25T06:31:07.714Z"
      },
      {
        "duration": 35,
        "start_time": "2022-01-25T06:31:07.778Z"
      },
      {
        "duration": 125,
        "start_time": "2022-01-25T06:31:07.816Z"
      },
      {
        "duration": 108,
        "start_time": "2022-01-25T06:31:07.943Z"
      },
      {
        "duration": 125,
        "start_time": "2022-01-25T06:31:08.053Z"
      },
      {
        "duration": 24,
        "start_time": "2022-01-25T06:31:08.180Z"
      },
      {
        "duration": 11,
        "start_time": "2022-01-25T06:31:08.206Z"
      },
      {
        "duration": 20,
        "start_time": "2022-01-25T06:31:08.218Z"
      },
      {
        "duration": 43,
        "start_time": "2022-01-25T06:31:08.240Z"
      },
      {
        "duration": 16,
        "start_time": "2022-01-25T06:31:08.285Z"
      },
      {
        "duration": 16,
        "start_time": "2022-01-25T06:31:08.302Z"
      },
      {
        "duration": 134,
        "start_time": "2022-01-25T06:31:08.320Z"
      },
      {
        "duration": 22,
        "start_time": "2022-01-25T06:31:08.456Z"
      },
      {
        "duration": 45,
        "start_time": "2022-01-25T06:31:08.480Z"
      },
      {
        "duration": 991,
        "start_time": "2022-01-25T06:31:08.527Z"
      },
      {
        "duration": 214,
        "start_time": "2022-01-25T06:31:09.521Z"
      },
      {
        "duration": 219,
        "start_time": "2022-01-25T06:31:09.737Z"
      },
      {
        "duration": 205,
        "start_time": "2022-01-25T06:31:09.960Z"
      },
      {
        "duration": 8,
        "start_time": "2022-01-25T06:31:10.167Z"
      },
      {
        "duration": 19,
        "start_time": "2022-01-25T06:31:10.176Z"
      },
      {
        "duration": 265,
        "start_time": "2022-01-25T06:31:10.196Z"
      },
      {
        "duration": 300,
        "start_time": "2022-01-25T06:31:10.462Z"
      },
      {
        "duration": 247,
        "start_time": "2022-01-25T06:31:10.764Z"
      },
      {
        "duration": 11,
        "start_time": "2022-01-25T06:31:11.013Z"
      },
      {
        "duration": 68,
        "start_time": "2022-01-25T06:31:11.026Z"
      },
      {
        "duration": 30,
        "start_time": "2022-01-25T06:31:11.096Z"
      },
      {
        "duration": 27,
        "start_time": "2022-01-25T06:31:11.128Z"
      },
      {
        "duration": 34,
        "start_time": "2022-01-25T06:31:11.157Z"
      },
      {
        "duration": 47,
        "start_time": "2022-01-25T06:31:11.193Z"
      },
      {
        "duration": 5,
        "start_time": "2022-01-25T06:36:16.808Z"
      },
      {
        "duration": 574,
        "start_time": "2022-01-25T06:36:31.522Z"
      },
      {
        "duration": 6229,
        "start_time": "2022-01-25T06:38:34.299Z"
      },
      {
        "duration": 1231,
        "start_time": "2022-01-25T06:40:23.383Z"
      },
      {
        "duration": 176,
        "start_time": "2022-01-25T06:40:24.617Z"
      },
      {
        "duration": 24,
        "start_time": "2022-01-25T06:40:24.796Z"
      },
      {
        "duration": 162,
        "start_time": "2022-01-25T06:40:24.823Z"
      },
      {
        "duration": 17,
        "start_time": "2022-01-25T06:40:24.987Z"
      },
      {
        "duration": 107,
        "start_time": "2022-01-25T06:40:25.006Z"
      },
      {
        "duration": 15,
        "start_time": "2022-01-25T06:40:25.115Z"
      },
      {
        "duration": 29,
        "start_time": "2022-01-25T06:40:25.132Z"
      },
      {
        "duration": 19,
        "start_time": "2022-01-25T06:40:25.163Z"
      },
      {
        "duration": 42,
        "start_time": "2022-01-25T06:40:25.184Z"
      },
      {
        "duration": 6,
        "start_time": "2022-01-25T06:40:25.228Z"
      },
      {
        "duration": 28,
        "start_time": "2022-01-25T06:40:25.235Z"
      },
      {
        "duration": 5,
        "start_time": "2022-01-25T06:40:25.265Z"
      },
      {
        "duration": 10,
        "start_time": "2022-01-25T06:40:25.272Z"
      },
      {
        "duration": 8,
        "start_time": "2022-01-25T06:40:25.284Z"
      },
      {
        "duration": 34,
        "start_time": "2022-01-25T06:40:25.294Z"
      },
      {
        "duration": 48,
        "start_time": "2022-01-25T06:40:25.330Z"
      },
      {
        "duration": 11,
        "start_time": "2022-01-25T06:40:25.380Z"
      },
      {
        "duration": 9,
        "start_time": "2022-01-25T06:40:25.392Z"
      },
      {
        "duration": 21,
        "start_time": "2022-01-25T06:40:25.403Z"
      },
      {
        "duration": 53,
        "start_time": "2022-01-25T06:40:25.425Z"
      },
      {
        "duration": 19,
        "start_time": "2022-01-25T06:40:25.480Z"
      },
      {
        "duration": 11,
        "start_time": "2022-01-25T06:40:25.503Z"
      },
      {
        "duration": 46,
        "start_time": "2022-01-25T06:40:25.516Z"
      },
      {
        "duration": 14,
        "start_time": "2022-01-25T06:40:25.564Z"
      },
      {
        "duration": 53,
        "start_time": "2022-01-25T06:40:25.580Z"
      },
      {
        "duration": 28,
        "start_time": "2022-01-25T06:40:25.634Z"
      },
      {
        "duration": 36,
        "start_time": "2022-01-25T06:40:25.664Z"
      },
      {
        "duration": 9,
        "start_time": "2022-01-25T06:40:25.702Z"
      },
      {
        "duration": 75,
        "start_time": "2022-01-25T06:40:25.713Z"
      },
      {
        "duration": 11,
        "start_time": "2022-01-25T06:40:25.790Z"
      },
      {
        "duration": 61,
        "start_time": "2022-01-25T06:40:25.803Z"
      },
      {
        "duration": 8,
        "start_time": "2022-01-25T06:40:25.866Z"
      },
      {
        "duration": 49,
        "start_time": "2022-01-25T06:40:25.877Z"
      },
      {
        "duration": 33,
        "start_time": "2022-01-25T06:40:25.928Z"
      },
      {
        "duration": 36,
        "start_time": "2022-01-25T06:40:25.964Z"
      },
      {
        "duration": 10,
        "start_time": "2022-01-25T06:40:26.002Z"
      },
      {
        "duration": 147,
        "start_time": "2022-01-25T06:40:26.014Z"
      },
      {
        "duration": 101,
        "start_time": "2022-01-25T06:40:26.164Z"
      },
      {
        "duration": 116,
        "start_time": "2022-01-25T06:40:26.267Z"
      },
      {
        "duration": 29,
        "start_time": "2022-01-25T06:40:26.385Z"
      },
      {
        "duration": 10,
        "start_time": "2022-01-25T06:40:26.416Z"
      },
      {
        "duration": 44,
        "start_time": "2022-01-25T06:40:26.428Z"
      },
      {
        "duration": 15,
        "start_time": "2022-01-25T06:40:26.474Z"
      },
      {
        "duration": 7,
        "start_time": "2022-01-25T06:40:26.491Z"
      },
      {
        "duration": 5,
        "start_time": "2022-01-25T06:40:26.500Z"
      },
      {
        "duration": 316,
        "start_time": "2022-01-25T06:40:26.507Z"
      },
      {
        "duration": -2825,
        "start_time": "2022-01-25T06:40:29.650Z"
      },
      {
        "duration": -2832,
        "start_time": "2022-01-25T06:40:29.658Z"
      },
      {
        "duration": -2878,
        "start_time": "2022-01-25T06:40:29.705Z"
      },
      {
        "duration": -2886,
        "start_time": "2022-01-25T06:40:29.714Z"
      },
      {
        "duration": -2893,
        "start_time": "2022-01-25T06:40:29.722Z"
      },
      {
        "duration": -2901,
        "start_time": "2022-01-25T06:40:29.731Z"
      },
      {
        "duration": -2909,
        "start_time": "2022-01-25T06:40:29.740Z"
      },
      {
        "duration": -2916,
        "start_time": "2022-01-25T06:40:29.748Z"
      },
      {
        "duration": -2924,
        "start_time": "2022-01-25T06:40:29.757Z"
      },
      {
        "duration": -2931,
        "start_time": "2022-01-25T06:40:29.765Z"
      },
      {
        "duration": -2938,
        "start_time": "2022-01-25T06:40:29.773Z"
      },
      {
        "duration": -2945,
        "start_time": "2022-01-25T06:40:29.781Z"
      },
      {
        "duration": -2952,
        "start_time": "2022-01-25T06:40:29.789Z"
      },
      {
        "duration": -2959,
        "start_time": "2022-01-25T06:40:29.797Z"
      },
      {
        "duration": -2998,
        "start_time": "2022-01-25T06:40:29.836Z"
      },
      {
        "duration": -3004,
        "start_time": "2022-01-25T06:40:29.843Z"
      },
      {
        "duration": -3011,
        "start_time": "2022-01-25T06:40:29.851Z"
      },
      {
        "duration": 4,
        "start_time": "2022-01-25T06:40:46.480Z"
      },
      {
        "duration": 5800,
        "start_time": "2022-01-25T06:40:52.833Z"
      },
      {
        "duration": 5,
        "start_time": "2022-01-25T06:42:55.558Z"
      },
      {
        "duration": 5837,
        "start_time": "2022-01-25T06:43:02.021Z"
      },
      {
        "duration": 3,
        "start_time": "2022-01-25T06:44:10.695Z"
      },
      {
        "duration": 8,
        "start_time": "2022-01-25T06:51:38.248Z"
      },
      {
        "duration": 445,
        "start_time": "2022-01-25T06:51:49.825Z"
      },
      {
        "duration": 450,
        "start_time": "2022-01-25T06:52:31.929Z"
      },
      {
        "duration": 6,
        "start_time": "2022-01-25T07:12:10.160Z"
      },
      {
        "duration": 6650,
        "start_time": "2022-01-25T07:12:13.333Z"
      },
      {
        "duration": 1195,
        "start_time": "2022-01-25T07:12:40.311Z"
      },
      {
        "duration": 169,
        "start_time": "2022-01-25T07:12:41.508Z"
      },
      {
        "duration": 23,
        "start_time": "2022-01-25T07:12:41.679Z"
      },
      {
        "duration": 159,
        "start_time": "2022-01-25T07:12:41.704Z"
      },
      {
        "duration": 21,
        "start_time": "2022-01-25T07:12:41.865Z"
      },
      {
        "duration": 110,
        "start_time": "2022-01-25T07:12:41.889Z"
      },
      {
        "duration": 17,
        "start_time": "2022-01-25T07:12:42.001Z"
      },
      {
        "duration": 40,
        "start_time": "2022-01-25T07:12:42.022Z"
      },
      {
        "duration": 8,
        "start_time": "2022-01-25T07:12:42.065Z"
      },
      {
        "duration": 46,
        "start_time": "2022-01-25T07:12:42.075Z"
      },
      {
        "duration": 6,
        "start_time": "2022-01-25T07:12:42.123Z"
      },
      {
        "duration": 34,
        "start_time": "2022-01-25T07:12:42.130Z"
      },
      {
        "duration": 18,
        "start_time": "2022-01-25T07:12:42.166Z"
      },
      {
        "duration": 19,
        "start_time": "2022-01-25T07:12:42.186Z"
      },
      {
        "duration": 10,
        "start_time": "2022-01-25T07:12:42.207Z"
      },
      {
        "duration": 48,
        "start_time": "2022-01-25T07:12:42.219Z"
      },
      {
        "duration": 27,
        "start_time": "2022-01-25T07:12:42.270Z"
      },
      {
        "duration": 7,
        "start_time": "2022-01-25T07:12:42.298Z"
      },
      {
        "duration": 12,
        "start_time": "2022-01-25T07:12:42.307Z"
      },
      {
        "duration": 17,
        "start_time": "2022-01-25T07:12:42.320Z"
      },
      {
        "duration": 50,
        "start_time": "2022-01-25T07:12:42.338Z"
      },
      {
        "duration": 17,
        "start_time": "2022-01-25T07:12:42.390Z"
      },
      {
        "duration": 11,
        "start_time": "2022-01-25T07:12:42.411Z"
      },
      {
        "duration": 51,
        "start_time": "2022-01-25T07:12:42.424Z"
      },
      {
        "duration": 12,
        "start_time": "2022-01-25T07:12:42.477Z"
      },
      {
        "duration": 69,
        "start_time": "2022-01-25T07:12:42.491Z"
      },
      {
        "duration": 9,
        "start_time": "2022-01-25T07:12:42.562Z"
      },
      {
        "duration": 49,
        "start_time": "2022-01-25T07:12:42.573Z"
      },
      {
        "duration": 9,
        "start_time": "2022-01-25T07:12:42.624Z"
      },
      {
        "duration": 58,
        "start_time": "2022-01-25T07:12:42.634Z"
      },
      {
        "duration": 8,
        "start_time": "2022-01-25T07:12:42.694Z"
      },
      {
        "duration": 59,
        "start_time": "2022-01-25T07:12:42.703Z"
      },
      {
        "duration": 7,
        "start_time": "2022-01-25T07:12:42.764Z"
      },
      {
        "duration": 55,
        "start_time": "2022-01-25T07:12:42.773Z"
      },
      {
        "duration": 11,
        "start_time": "2022-01-25T07:12:42.830Z"
      },
      {
        "duration": 50,
        "start_time": "2022-01-25T07:12:42.843Z"
      },
      {
        "duration": 9,
        "start_time": "2022-01-25T07:12:42.895Z"
      },
      {
        "duration": 139,
        "start_time": "2022-01-25T07:12:42.906Z"
      },
      {
        "duration": 114,
        "start_time": "2022-01-25T07:12:43.047Z"
      },
      {
        "duration": 117,
        "start_time": "2022-01-25T07:12:43.163Z"
      },
      {
        "duration": 26,
        "start_time": "2022-01-25T07:12:43.281Z"
      },
      {
        "duration": 6,
        "start_time": "2022-01-25T07:12:43.309Z"
      },
      {
        "duration": 25,
        "start_time": "2022-01-25T07:12:43.316Z"
      },
      {
        "duration": 31,
        "start_time": "2022-01-25T07:12:43.343Z"
      },
      {
        "duration": 8,
        "start_time": "2022-01-25T07:12:43.376Z"
      },
      {
        "duration": 6,
        "start_time": "2022-01-25T07:12:43.385Z"
      },
      {
        "duration": 6305,
        "start_time": "2022-01-25T07:12:43.393Z"
      },
      {
        "duration": -1392,
        "start_time": "2022-01-25T07:12:51.091Z"
      },
      {
        "duration": -1398,
        "start_time": "2022-01-25T07:12:51.098Z"
      },
      {
        "duration": -1407,
        "start_time": "2022-01-25T07:12:51.108Z"
      },
      {
        "duration": -1414,
        "start_time": "2022-01-25T07:12:51.116Z"
      },
      {
        "duration": -1422,
        "start_time": "2022-01-25T07:12:51.125Z"
      },
      {
        "duration": -1429,
        "start_time": "2022-01-25T07:12:51.133Z"
      },
      {
        "duration": -1439,
        "start_time": "2022-01-25T07:12:51.143Z"
      },
      {
        "duration": -1446,
        "start_time": "2022-01-25T07:12:51.151Z"
      },
      {
        "duration": -1453,
        "start_time": "2022-01-25T07:12:51.159Z"
      },
      {
        "duration": -1502,
        "start_time": "2022-01-25T07:12:51.209Z"
      },
      {
        "duration": -1510,
        "start_time": "2022-01-25T07:12:51.218Z"
      },
      {
        "duration": -1518,
        "start_time": "2022-01-25T07:12:51.227Z"
      },
      {
        "duration": -1527,
        "start_time": "2022-01-25T07:12:51.237Z"
      },
      {
        "duration": -1534,
        "start_time": "2022-01-25T07:12:51.245Z"
      },
      {
        "duration": -1541,
        "start_time": "2022-01-25T07:12:51.253Z"
      },
      {
        "duration": -1550,
        "start_time": "2022-01-25T07:12:51.262Z"
      },
      {
        "duration": -1556,
        "start_time": "2022-01-25T07:12:51.271Z"
      },
      {
        "duration": 5,
        "start_time": "2022-01-25T07:21:46.176Z"
      },
      {
        "duration": 214,
        "start_time": "2022-01-25T07:22:26.419Z"
      },
      {
        "duration": 217,
        "start_time": "2022-01-25T07:23:14.479Z"
      },
      {
        "duration": 5524,
        "start_time": "2022-01-25T07:23:33.318Z"
      },
      {
        "duration": 5,
        "start_time": "2022-01-25T07:26:28.884Z"
      },
      {
        "duration": 6384,
        "start_time": "2022-01-25T07:26:29.910Z"
      },
      {
        "duration": 4,
        "start_time": "2022-01-25T07:55:43.266Z"
      },
      {
        "duration": 397,
        "start_time": "2022-01-25T07:55:55.162Z"
      },
      {
        "duration": 5,
        "start_time": "2022-01-25T07:56:46.297Z"
      },
      {
        "duration": 212,
        "start_time": "2022-01-25T07:56:48.113Z"
      },
      {
        "duration": 39,
        "start_time": "2022-01-25T08:00:14.829Z"
      },
      {
        "duration": 2,
        "start_time": "2022-01-25T08:00:50.910Z"
      },
      {
        "duration": 25,
        "start_time": "2022-01-25T08:01:34.576Z"
      },
      {
        "duration": 35,
        "start_time": "2022-01-25T08:03:01.613Z"
      },
      {
        "duration": 3,
        "start_time": "2022-01-25T08:03:41.579Z"
      },
      {
        "duration": 26,
        "start_time": "2022-01-25T08:03:56.270Z"
      },
      {
        "duration": 12,
        "start_time": "2022-01-25T08:05:03.247Z"
      },
      {
        "duration": 4,
        "start_time": "2022-01-25T08:05:35.815Z"
      },
      {
        "duration": 2551,
        "start_time": "2022-01-25T08:05:48.496Z"
      },
      {
        "duration": 710,
        "start_time": "2022-01-25T08:06:27.359Z"
      },
      {
        "duration": 18,
        "start_time": "2022-01-25T08:08:02.416Z"
      },
      {
        "duration": 3,
        "start_time": "2022-01-25T08:08:22.074Z"
      },
      {
        "duration": 23,
        "start_time": "2022-01-25T08:08:37.246Z"
      },
      {
        "duration": 22,
        "start_time": "2022-01-25T08:08:57.707Z"
      },
      {
        "duration": 23,
        "start_time": "2022-01-25T08:09:10.128Z"
      },
      {
        "duration": 944,
        "start_time": "2022-01-25T08:10:00.786Z"
      },
      {
        "duration": 1348,
        "start_time": "2022-01-25T08:11:58.889Z"
      },
      {
        "duration": 914,
        "start_time": "2022-01-25T08:12:09.528Z"
      },
      {
        "duration": 858,
        "start_time": "2022-01-25T08:12:20.934Z"
      },
      {
        "duration": 1253,
        "start_time": "2022-01-25T08:12:30.407Z"
      },
      {
        "duration": 926,
        "start_time": "2022-01-25T08:12:44.565Z"
      },
      {
        "duration": 811,
        "start_time": "2022-01-25T08:12:48.445Z"
      },
      {
        "duration": 845,
        "start_time": "2022-01-25T10:14:44.089Z"
      },
      {
        "duration": 4,
        "start_time": "2022-01-25T10:15:31.684Z"
      },
      {
        "duration": 1116,
        "start_time": "2022-01-25T10:15:38.312Z"
      },
      {
        "duration": 161,
        "start_time": "2022-01-25T10:15:39.430Z"
      },
      {
        "duration": 22,
        "start_time": "2022-01-25T10:15:39.593Z"
      },
      {
        "duration": 160,
        "start_time": "2022-01-25T10:15:39.617Z"
      },
      {
        "duration": 17,
        "start_time": "2022-01-25T10:15:39.779Z"
      },
      {
        "duration": 112,
        "start_time": "2022-01-25T10:15:39.798Z"
      },
      {
        "duration": 15,
        "start_time": "2022-01-25T10:15:39.912Z"
      },
      {
        "duration": 35,
        "start_time": "2022-01-25T10:15:39.929Z"
      },
      {
        "duration": 30,
        "start_time": "2022-01-25T10:15:39.966Z"
      },
      {
        "duration": 42,
        "start_time": "2022-01-25T10:15:39.998Z"
      },
      {
        "duration": 7,
        "start_time": "2022-01-25T10:15:40.042Z"
      },
      {
        "duration": 46,
        "start_time": "2022-01-25T10:15:40.051Z"
      },
      {
        "duration": 8,
        "start_time": "2022-01-25T10:15:40.099Z"
      },
      {
        "duration": 27,
        "start_time": "2022-01-25T10:15:40.108Z"
      },
      {
        "duration": 16,
        "start_time": "2022-01-25T10:15:40.137Z"
      },
      {
        "duration": 45,
        "start_time": "2022-01-25T10:15:40.154Z"
      },
      {
        "duration": 22,
        "start_time": "2022-01-25T10:15:40.201Z"
      },
      {
        "duration": 11,
        "start_time": "2022-01-25T10:15:40.225Z"
      },
      {
        "duration": 32,
        "start_time": "2022-01-25T10:15:40.237Z"
      },
      {
        "duration": 46,
        "start_time": "2022-01-25T10:15:40.271Z"
      },
      {
        "duration": 27,
        "start_time": "2022-01-25T10:15:40.320Z"
      },
      {
        "duration": 17,
        "start_time": "2022-01-25T10:15:40.349Z"
      },
      {
        "duration": 16,
        "start_time": "2022-01-25T10:15:40.370Z"
      },
      {
        "duration": 28,
        "start_time": "2022-01-25T10:15:40.388Z"
      },
      {
        "duration": 17,
        "start_time": "2022-01-25T10:15:40.418Z"
      },
      {
        "duration": 65,
        "start_time": "2022-01-25T10:15:40.436Z"
      },
      {
        "duration": 3,
        "start_time": "2022-01-25T10:15:40.503Z"
      },
      {
        "duration": 75,
        "start_time": "2022-01-25T10:15:40.507Z"
      },
      {
        "duration": 2,
        "start_time": "2022-01-25T10:15:40.584Z"
      },
      {
        "duration": 54,
        "start_time": "2022-01-25T10:15:40.588Z"
      },
      {
        "duration": 32,
        "start_time": "2022-01-25T10:15:40.643Z"
      },
      {
        "duration": 77,
        "start_time": "2022-01-25T10:15:40.677Z"
      },
      {
        "duration": -1244,
        "start_time": "2022-01-25T10:15:42.000Z"
      },
      {
        "duration": -1348,
        "start_time": "2022-01-25T10:15:42.105Z"
      },
      {
        "duration": -1358,
        "start_time": "2022-01-25T10:15:42.116Z"
      },
      {
        "duration": -1365,
        "start_time": "2022-01-25T10:15:42.125Z"
      },
      {
        "duration": -1374,
        "start_time": "2022-01-25T10:15:42.135Z"
      },
      {
        "duration": -1384,
        "start_time": "2022-01-25T10:15:42.146Z"
      },
      {
        "duration": -1391,
        "start_time": "2022-01-25T10:15:42.154Z"
      },
      {
        "duration": -1402,
        "start_time": "2022-01-25T10:15:42.166Z"
      },
      {
        "duration": -1409,
        "start_time": "2022-01-25T10:15:42.174Z"
      },
      {
        "duration": -1420,
        "start_time": "2022-01-25T10:15:42.186Z"
      },
      {
        "duration": -1429,
        "start_time": "2022-01-25T10:15:42.196Z"
      },
      {
        "duration": -1487,
        "start_time": "2022-01-25T10:15:42.255Z"
      },
      {
        "duration": -1495,
        "start_time": "2022-01-25T10:15:42.264Z"
      },
      {
        "duration": -1503,
        "start_time": "2022-01-25T10:15:42.273Z"
      },
      {
        "duration": -1512,
        "start_time": "2022-01-25T10:15:42.283Z"
      },
      {
        "duration": -1521,
        "start_time": "2022-01-25T10:15:42.293Z"
      },
      {
        "duration": -1529,
        "start_time": "2022-01-25T10:15:42.301Z"
      },
      {
        "duration": -1535,
        "start_time": "2022-01-25T10:15:42.308Z"
      },
      {
        "duration": -1542,
        "start_time": "2022-01-25T10:15:42.316Z"
      },
      {
        "duration": -1549,
        "start_time": "2022-01-25T10:15:42.324Z"
      },
      {
        "duration": -1573,
        "start_time": "2022-01-25T10:15:42.350Z"
      },
      {
        "duration": -1580,
        "start_time": "2022-01-25T10:15:42.358Z"
      },
      {
        "duration": -1586,
        "start_time": "2022-01-25T10:15:42.365Z"
      },
      {
        "duration": -1595,
        "start_time": "2022-01-25T10:15:42.375Z"
      },
      {
        "duration": -1601,
        "start_time": "2022-01-25T10:15:42.382Z"
      },
      {
        "duration": -1609,
        "start_time": "2022-01-25T10:15:42.391Z"
      },
      {
        "duration": -1616,
        "start_time": "2022-01-25T10:15:42.399Z"
      },
      {
        "duration": -1623,
        "start_time": "2022-01-25T10:15:42.407Z"
      },
      {
        "duration": -1632,
        "start_time": "2022-01-25T10:15:42.416Z"
      },
      {
        "duration": 1239,
        "start_time": "2022-01-25T10:16:45.628Z"
      },
      {
        "duration": 174,
        "start_time": "2022-01-25T10:16:46.869Z"
      },
      {
        "duration": 32,
        "start_time": "2022-01-25T10:16:47.045Z"
      },
      {
        "duration": 166,
        "start_time": "2022-01-25T10:16:47.080Z"
      },
      {
        "duration": 25,
        "start_time": "2022-01-25T10:16:47.248Z"
      },
      {
        "duration": 108,
        "start_time": "2022-01-25T10:16:47.274Z"
      },
      {
        "duration": 15,
        "start_time": "2022-01-25T10:16:47.384Z"
      },
      {
        "duration": 41,
        "start_time": "2022-01-25T10:16:47.401Z"
      },
      {
        "duration": 28,
        "start_time": "2022-01-25T10:16:47.445Z"
      },
      {
        "duration": 56,
        "start_time": "2022-01-25T10:16:47.475Z"
      },
      {
        "duration": 36,
        "start_time": "2022-01-25T10:16:47.533Z"
      },
      {
        "duration": 32,
        "start_time": "2022-01-25T10:16:47.571Z"
      },
      {
        "duration": 7,
        "start_time": "2022-01-25T10:16:47.605Z"
      },
      {
        "duration": 8,
        "start_time": "2022-01-25T10:16:47.614Z"
      },
      {
        "duration": 10,
        "start_time": "2022-01-25T10:16:47.624Z"
      },
      {
        "duration": 52,
        "start_time": "2022-01-25T10:16:47.636Z"
      },
      {
        "duration": 25,
        "start_time": "2022-01-25T10:16:47.689Z"
      },
      {
        "duration": 24,
        "start_time": "2022-01-25T10:16:47.716Z"
      },
      {
        "duration": 21,
        "start_time": "2022-01-25T10:16:47.742Z"
      },
      {
        "duration": 46,
        "start_time": "2022-01-25T10:16:47.765Z"
      },
      {
        "duration": 31,
        "start_time": "2022-01-25T10:16:47.813Z"
      },
      {
        "duration": 38,
        "start_time": "2022-01-25T10:16:47.846Z"
      },
      {
        "duration": 12,
        "start_time": "2022-01-25T10:16:47.888Z"
      },
      {
        "duration": 23,
        "start_time": "2022-01-25T10:16:47.902Z"
      },
      {
        "duration": 14,
        "start_time": "2022-01-25T10:16:47.927Z"
      },
      {
        "duration": 55,
        "start_time": "2022-01-25T10:16:47.960Z"
      },
      {
        "duration": 3,
        "start_time": "2022-01-25T10:16:48.017Z"
      },
      {
        "duration": 84,
        "start_time": "2022-01-25T10:16:48.022Z"
      },
      {
        "duration": 2,
        "start_time": "2022-01-25T10:16:48.108Z"
      },
      {
        "duration": 58,
        "start_time": "2022-01-25T10:16:48.112Z"
      },
      {
        "duration": 2,
        "start_time": "2022-01-25T10:16:48.173Z"
      },
      {
        "duration": 6,
        "start_time": "2022-01-25T10:16:48.177Z"
      },
      {
        "duration": 53,
        "start_time": "2022-01-25T10:16:48.185Z"
      },
      {
        "duration": 51,
        "start_time": "2022-01-25T10:16:48.260Z"
      },
      {
        "duration": 2,
        "start_time": "2022-01-25T10:16:48.313Z"
      },
      {
        "duration": 133,
        "start_time": "2022-01-25T10:16:48.317Z"
      },
      {
        "duration": -1120,
        "start_time": "2022-01-25T10:16:49.572Z"
      },
      {
        "duration": -1128,
        "start_time": "2022-01-25T10:16:49.581Z"
      },
      {
        "duration": -1135,
        "start_time": "2022-01-25T10:16:49.589Z"
      },
      {
        "duration": -1142,
        "start_time": "2022-01-25T10:16:49.597Z"
      },
      {
        "duration": -1150,
        "start_time": "2022-01-25T10:16:49.606Z"
      },
      {
        "duration": -1156,
        "start_time": "2022-01-25T10:16:49.613Z"
      },
      {
        "duration": -1165,
        "start_time": "2022-01-25T10:16:49.622Z"
      },
      {
        "duration": -1171,
        "start_time": "2022-01-25T10:16:49.629Z"
      },
      {
        "duration": -1179,
        "start_time": "2022-01-25T10:16:49.638Z"
      },
      {
        "duration": -1186,
        "start_time": "2022-01-25T10:16:49.646Z"
      },
      {
        "duration": -1193,
        "start_time": "2022-01-25T10:16:49.654Z"
      },
      {
        "duration": -1200,
        "start_time": "2022-01-25T10:16:49.662Z"
      },
      {
        "duration": -1230,
        "start_time": "2022-01-25T10:16:49.693Z"
      },
      {
        "duration": -1238,
        "start_time": "2022-01-25T10:16:49.701Z"
      },
      {
        "duration": -1246,
        "start_time": "2022-01-25T10:16:49.710Z"
      },
      {
        "duration": -1254,
        "start_time": "2022-01-25T10:16:49.719Z"
      },
      {
        "duration": -1263,
        "start_time": "2022-01-25T10:16:49.728Z"
      },
      {
        "duration": -1269,
        "start_time": "2022-01-25T10:16:49.735Z"
      },
      {
        "duration": -1276,
        "start_time": "2022-01-25T10:16:49.743Z"
      },
      {
        "duration": -1283,
        "start_time": "2022-01-25T10:16:49.751Z"
      },
      {
        "duration": -1290,
        "start_time": "2022-01-25T10:16:49.759Z"
      },
      {
        "duration": -1296,
        "start_time": "2022-01-25T10:16:49.766Z"
      },
      {
        "duration": -1303,
        "start_time": "2022-01-25T10:16:49.774Z"
      },
      {
        "duration": -1310,
        "start_time": "2022-01-25T10:16:49.782Z"
      },
      {
        "duration": 48,
        "start_time": "2022-01-25T10:16:58.791Z"
      },
      {
        "duration": 3,
        "start_time": "2022-01-25T10:17:02.493Z"
      },
      {
        "duration": 30,
        "start_time": "2022-01-25T10:17:04.157Z"
      },
      {
        "duration": 13,
        "start_time": "2022-01-25T10:17:11.825Z"
      },
      {
        "duration": 5,
        "start_time": "2022-01-25T10:17:15.138Z"
      },
      {
        "duration": 2566,
        "start_time": "2022-01-25T10:17:16.466Z"
      },
      {
        "duration": 19,
        "start_time": "2022-01-25T10:17:29.787Z"
      },
      {
        "duration": 3,
        "start_time": "2022-01-25T10:17:32.680Z"
      },
      {
        "duration": 24,
        "start_time": "2022-01-25T10:17:35.902Z"
      },
      {
        "duration": 20,
        "start_time": "2022-01-25T10:17:37.713Z"
      },
      {
        "duration": 25,
        "start_time": "2022-01-25T10:17:41.731Z"
      },
      {
        "duration": 792,
        "start_time": "2022-01-25T10:17:43.010Z"
      },
      {
        "duration": 355,
        "start_time": "2022-01-25T10:17:49.659Z"
      },
      {
        "duration": 214,
        "start_time": "2022-01-25T10:18:20.325Z"
      },
      {
        "duration": 2,
        "start_time": "2022-01-25T10:18:26.501Z"
      },
      {
        "duration": 3,
        "start_time": "2022-01-25T10:18:36.899Z"
      },
      {
        "duration": 779,
        "start_time": "2022-01-25T10:19:35.521Z"
      },
      {
        "duration": 920,
        "start_time": "2022-01-25T10:20:01.556Z"
      },
      {
        "duration": 810,
        "start_time": "2022-01-25T15:58:49.931Z"
      },
      {
        "duration": 202,
        "start_time": "2022-01-25T16:00:03.885Z"
      },
      {
        "duration": 10,
        "start_time": "2022-01-25T16:00:30.926Z"
      },
      {
        "duration": 213,
        "start_time": "2022-01-25T16:02:17.277Z"
      },
      {
        "duration": 10,
        "start_time": "2022-01-25T16:02:37.173Z"
      },
      {
        "duration": 6,
        "start_time": "2022-01-25T16:02:57.551Z"
      },
      {
        "duration": 1007,
        "start_time": "2022-01-26T05:11:35.354Z"
      },
      {
        "duration": 153,
        "start_time": "2022-01-26T05:11:36.363Z"
      },
      {
        "duration": 20,
        "start_time": "2022-01-26T05:11:36.518Z"
      },
      {
        "duration": 143,
        "start_time": "2022-01-26T05:11:36.540Z"
      },
      {
        "duration": 21,
        "start_time": "2022-01-26T05:11:36.685Z"
      },
      {
        "duration": 91,
        "start_time": "2022-01-26T05:11:36.708Z"
      },
      {
        "duration": 14,
        "start_time": "2022-01-26T05:11:36.800Z"
      },
      {
        "duration": 20,
        "start_time": "2022-01-26T05:11:36.816Z"
      },
      {
        "duration": 5,
        "start_time": "2022-01-26T05:11:36.839Z"
      },
      {
        "duration": 71,
        "start_time": "2022-01-26T05:11:36.846Z"
      },
      {
        "duration": 6,
        "start_time": "2022-01-26T05:11:36.918Z"
      },
      {
        "duration": 20,
        "start_time": "2022-01-26T05:11:36.926Z"
      },
      {
        "duration": 5,
        "start_time": "2022-01-26T05:11:36.948Z"
      },
      {
        "duration": 7,
        "start_time": "2022-01-26T05:11:36.955Z"
      },
      {
        "duration": 9,
        "start_time": "2022-01-26T05:11:36.963Z"
      },
      {
        "duration": 50,
        "start_time": "2022-01-26T05:11:36.974Z"
      },
      {
        "duration": 23,
        "start_time": "2022-01-26T05:11:37.025Z"
      },
      {
        "duration": 7,
        "start_time": "2022-01-26T05:11:37.049Z"
      },
      {
        "duration": 8,
        "start_time": "2022-01-26T05:11:37.058Z"
      },
      {
        "duration": 37,
        "start_time": "2022-01-26T05:11:37.068Z"
      },
      {
        "duration": 28,
        "start_time": "2022-01-26T05:11:37.106Z"
      },
      {
        "duration": 17,
        "start_time": "2022-01-26T05:11:37.135Z"
      },
      {
        "duration": 10,
        "start_time": "2022-01-26T05:11:37.154Z"
      },
      {
        "duration": 42,
        "start_time": "2022-01-26T05:11:37.165Z"
      },
      {
        "duration": 12,
        "start_time": "2022-01-26T05:11:37.208Z"
      },
      {
        "duration": 46,
        "start_time": "2022-01-26T05:11:37.222Z"
      },
      {
        "duration": 2,
        "start_time": "2022-01-26T05:11:37.271Z"
      },
      {
        "duration": 77,
        "start_time": "2022-01-26T05:11:37.275Z"
      },
      {
        "duration": 2,
        "start_time": "2022-01-26T05:11:37.353Z"
      },
      {
        "duration": 53,
        "start_time": "2022-01-26T05:11:37.357Z"
      },
      {
        "duration": 2,
        "start_time": "2022-01-26T05:11:37.412Z"
      },
      {
        "duration": 5,
        "start_time": "2022-01-26T05:11:37.415Z"
      },
      {
        "duration": 46,
        "start_time": "2022-01-26T05:11:37.422Z"
      },
      {
        "duration": 63,
        "start_time": "2022-01-26T05:11:37.469Z"
      },
      {
        "duration": 2,
        "start_time": "2022-01-26T05:11:37.534Z"
      },
      {
        "duration": 5,
        "start_time": "2022-01-26T05:11:37.537Z"
      },
      {
        "duration": 61,
        "start_time": "2022-01-26T05:11:37.544Z"
      },
      {
        "duration": 2,
        "start_time": "2022-01-26T05:11:37.607Z"
      },
      {
        "duration": 29,
        "start_time": "2022-01-26T05:11:37.611Z"
      },
      {
        "duration": 11,
        "start_time": "2022-01-26T05:11:37.642Z"
      },
      {
        "duration": 4,
        "start_time": "2022-01-26T05:11:37.654Z"
      },
      {
        "duration": 2441,
        "start_time": "2022-01-26T05:11:37.660Z"
      },
      {
        "duration": 18,
        "start_time": "2022-01-26T05:11:40.103Z"
      },
      {
        "duration": 6,
        "start_time": "2022-01-26T05:11:40.122Z"
      },
      {
        "duration": 22,
        "start_time": "2022-01-26T05:11:40.129Z"
      },
      {
        "duration": 19,
        "start_time": "2022-01-26T05:11:40.152Z"
      },
      {
        "duration": 44,
        "start_time": "2022-01-26T05:11:40.172Z"
      },
      {
        "duration": 391,
        "start_time": "2022-01-26T05:12:24.953Z"
      },
      {
        "duration": 8,
        "start_time": "2022-01-26T05:20:12.050Z"
      },
      {
        "duration": 1752,
        "start_time": "2022-01-26T14:33:49.525Z"
      },
      {
        "duration": 237,
        "start_time": "2022-01-26T14:33:51.280Z"
      },
      {
        "duration": 30,
        "start_time": "2022-01-26T14:33:51.521Z"
      },
      {
        "duration": 325,
        "start_time": "2022-01-26T14:33:51.571Z"
      },
      {
        "duration": 38,
        "start_time": "2022-01-26T14:33:51.899Z"
      },
      {
        "duration": 153,
        "start_time": "2022-01-26T14:33:51.940Z"
      },
      {
        "duration": 20,
        "start_time": "2022-01-26T14:33:52.095Z"
      },
      {
        "duration": 49,
        "start_time": "2022-01-26T14:33:52.120Z"
      },
      {
        "duration": 9,
        "start_time": "2022-01-26T14:33:52.173Z"
      },
      {
        "duration": 49,
        "start_time": "2022-01-26T14:33:52.184Z"
      },
      {
        "duration": 10,
        "start_time": "2022-01-26T14:33:52.235Z"
      },
      {
        "duration": 39,
        "start_time": "2022-01-26T14:33:52.247Z"
      },
      {
        "duration": 9,
        "start_time": "2022-01-26T14:33:52.288Z"
      },
      {
        "duration": 13,
        "start_time": "2022-01-26T14:33:52.301Z"
      },
      {
        "duration": 55,
        "start_time": "2022-01-26T14:33:52.316Z"
      },
      {
        "duration": 46,
        "start_time": "2022-01-26T14:33:52.374Z"
      },
      {
        "duration": 54,
        "start_time": "2022-01-26T14:33:52.423Z"
      },
      {
        "duration": 6,
        "start_time": "2022-01-26T14:33:52.480Z"
      },
      {
        "duration": 17,
        "start_time": "2022-01-26T14:33:52.488Z"
      },
      {
        "duration": 29,
        "start_time": "2022-01-26T14:33:52.507Z"
      },
      {
        "duration": 73,
        "start_time": "2022-01-26T14:33:52.539Z"
      },
      {
        "duration": 26,
        "start_time": "2022-01-26T14:33:52.614Z"
      },
      {
        "duration": 24,
        "start_time": "2022-01-26T14:33:52.672Z"
      },
      {
        "duration": 30,
        "start_time": "2022-01-26T14:33:52.700Z"
      },
      {
        "duration": 44,
        "start_time": "2022-01-26T14:33:52.732Z"
      },
      {
        "duration": 91,
        "start_time": "2022-01-26T14:33:52.778Z"
      },
      {
        "duration": 5,
        "start_time": "2022-01-26T14:33:52.872Z"
      },
      {
        "duration": 111,
        "start_time": "2022-01-26T14:33:52.879Z"
      },
      {
        "duration": 3,
        "start_time": "2022-01-26T14:33:52.992Z"
      },
      {
        "duration": 77,
        "start_time": "2022-01-26T14:33:52.998Z"
      },
      {
        "duration": 3,
        "start_time": "2022-01-26T14:33:53.077Z"
      },
      {
        "duration": 4,
        "start_time": "2022-01-26T14:33:53.084Z"
      },
      {
        "duration": 101,
        "start_time": "2022-01-26T14:33:53.091Z"
      },
      {
        "duration": 80,
        "start_time": "2022-01-26T14:33:53.195Z"
      },
      {
        "duration": 4,
        "start_time": "2022-01-26T14:33:53.277Z"
      },
      {
        "duration": 7,
        "start_time": "2022-01-26T14:33:53.283Z"
      },
      {
        "duration": 86,
        "start_time": "2022-01-26T14:33:53.293Z"
      },
      {
        "duration": 4,
        "start_time": "2022-01-26T14:33:53.383Z"
      },
      {
        "duration": 47,
        "start_time": "2022-01-26T14:33:53.390Z"
      },
      {
        "duration": 57,
        "start_time": "2022-01-26T14:33:53.440Z"
      },
      {
        "duration": 8,
        "start_time": "2022-01-26T14:33:53.500Z"
      },
      {
        "duration": 126,
        "start_time": "2022-01-26T14:33:53.512Z"
      },
      {
        "duration": -15538,
        "start_time": "2022-01-26T14:34:09.180Z"
      },
      {
        "duration": -66903,
        "start_time": "2022-01-26T14:35:00.547Z"
      },
      {
        "duration": -66929,
        "start_time": "2022-01-26T14:35:00.576Z"
      },
      {
        "duration": -66958,
        "start_time": "2022-01-26T14:35:00.607Z"
      },
      {
        "duration": -68953,
        "start_time": "2022-01-26T14:35:02.604Z"
      },
      {
        "duration": -68990,
        "start_time": "2022-01-26T14:35:02.644Z"
      },
      {
        "duration": -69012,
        "start_time": "2022-01-26T14:35:02.668Z"
      },
      {
        "duration": -69034,
        "start_time": "2022-01-26T14:35:02.692Z"
      },
      {
        "duration": 1671,
        "start_time": "2022-01-26T14:38:21.158Z"
      },
      {
        "duration": 333,
        "start_time": "2022-01-26T14:38:22.832Z"
      },
      {
        "duration": 31,
        "start_time": "2022-01-26T14:38:23.170Z"
      },
      {
        "duration": 314,
        "start_time": "2022-01-26T14:38:23.205Z"
      },
      {
        "duration": 49,
        "start_time": "2022-01-26T14:38:23.523Z"
      },
      {
        "duration": 188,
        "start_time": "2022-01-26T14:38:23.576Z"
      },
      {
        "duration": 32,
        "start_time": "2022-01-26T14:38:23.770Z"
      },
      {
        "duration": 24,
        "start_time": "2022-01-26T14:38:23.806Z"
      },
      {
        "duration": 8,
        "start_time": "2022-01-26T14:38:23.833Z"
      },
      {
        "duration": 70,
        "start_time": "2022-01-26T14:38:23.845Z"
      },
      {
        "duration": 9,
        "start_time": "2022-01-26T14:38:23.917Z"
      },
      {
        "duration": 28,
        "start_time": "2022-01-26T14:38:23.929Z"
      },
      {
        "duration": 15,
        "start_time": "2022-01-26T14:38:23.959Z"
      },
      {
        "duration": 9,
        "start_time": "2022-01-26T14:38:23.976Z"
      },
      {
        "duration": 17,
        "start_time": "2022-01-26T14:38:23.988Z"
      },
      {
        "duration": 93,
        "start_time": "2022-01-26T14:38:24.009Z"
      },
      {
        "duration": 75,
        "start_time": "2022-01-26T14:38:24.105Z"
      },
      {
        "duration": 9,
        "start_time": "2022-01-26T14:38:24.183Z"
      },
      {
        "duration": 16,
        "start_time": "2022-01-26T14:38:24.195Z"
      },
      {
        "duration": 58,
        "start_time": "2022-01-26T14:38:24.215Z"
      },
      {
        "duration": 38,
        "start_time": "2022-01-26T14:38:24.276Z"
      },
      {
        "duration": 63,
        "start_time": "2022-01-26T14:38:24.318Z"
      },
      {
        "duration": 35,
        "start_time": "2022-01-26T14:38:24.390Z"
      },
      {
        "duration": 56,
        "start_time": "2022-01-26T14:38:24.430Z"
      },
      {
        "duration": 27,
        "start_time": "2022-01-26T14:38:24.489Z"
      },
      {
        "duration": 98,
        "start_time": "2022-01-26T14:38:24.519Z"
      },
      {
        "duration": 3,
        "start_time": "2022-01-26T14:38:24.620Z"
      },
      {
        "duration": 107,
        "start_time": "2022-01-26T14:38:24.626Z"
      },
      {
        "duration": 3,
        "start_time": "2022-01-26T14:38:24.735Z"
      },
      {
        "duration": 69,
        "start_time": "2022-01-26T14:38:24.741Z"
      },
      {
        "duration": 3,
        "start_time": "2022-01-26T14:38:24.813Z"
      },
      {
        "duration": 7,
        "start_time": "2022-01-26T14:38:24.819Z"
      },
      {
        "duration": 83,
        "start_time": "2022-01-26T14:38:24.828Z"
      },
      {
        "duration": 115,
        "start_time": "2022-01-26T14:38:24.914Z"
      },
      {
        "duration": 3,
        "start_time": "2022-01-26T14:38:25.031Z"
      },
      {
        "duration": 7,
        "start_time": "2022-01-26T14:38:25.037Z"
      },
      {
        "duration": 80,
        "start_time": "2022-01-26T14:38:25.047Z"
      },
      {
        "duration": 5,
        "start_time": "2022-01-26T14:38:25.130Z"
      },
      {
        "duration": 77,
        "start_time": "2022-01-26T14:38:25.137Z"
      },
      {
        "duration": 20,
        "start_time": "2022-01-26T14:38:25.217Z"
      },
      {
        "duration": 136,
        "start_time": "2022-01-26T14:38:25.240Z"
      },
      {
        "duration": 262,
        "start_time": "2022-01-26T14:38:25.117Z"
      },
      {
        "duration": 253,
        "start_time": "2022-01-26T14:38:25.128Z"
      },
      {
        "duration": 245,
        "start_time": "2022-01-26T14:38:25.137Z"
      },
      {
        "duration": 236,
        "start_time": "2022-01-26T14:38:25.148Z"
      },
      {
        "duration": 229,
        "start_time": "2022-01-26T14:38:25.157Z"
      },
      {
        "duration": 222,
        "start_time": "2022-01-26T14:38:25.165Z"
      },
      {
        "duration": 216,
        "start_time": "2022-01-26T14:38:25.173Z"
      },
      {
        "duration": 209,
        "start_time": "2022-01-26T14:38:25.182Z"
      },
      {
        "duration": 204,
        "start_time": "2022-01-26T14:38:25.189Z"
      },
      {
        "duration": 158,
        "start_time": "2022-01-26T14:38:25.238Z"
      },
      {
        "duration": 150,
        "start_time": "2022-01-26T14:38:25.248Z"
      },
      {
        "duration": 142,
        "start_time": "2022-01-26T14:38:25.258Z"
      },
      {
        "duration": 135,
        "start_time": "2022-01-26T14:38:25.266Z"
      },
      {
        "duration": 110,
        "start_time": "2022-01-26T14:39:36.006Z"
      },
      {
        "duration": 6,
        "start_time": "2022-01-26T14:40:59.023Z"
      },
      {
        "duration": 4641,
        "start_time": "2022-01-26T14:41:08.915Z"
      },
      {
        "duration": 1532,
        "start_time": "2022-01-26T14:41:22.629Z"
      },
      {
        "duration": 232,
        "start_time": "2022-01-26T14:41:24.164Z"
      },
      {
        "duration": 27,
        "start_time": "2022-01-26T14:41:24.400Z"
      },
      {
        "duration": 219,
        "start_time": "2022-01-26T14:41:24.430Z"
      },
      {
        "duration": 27,
        "start_time": "2022-01-26T14:41:24.651Z"
      },
      {
        "duration": 139,
        "start_time": "2022-01-26T14:41:24.680Z"
      },
      {
        "duration": 18,
        "start_time": "2022-01-26T14:41:24.822Z"
      },
      {
        "duration": 38,
        "start_time": "2022-01-26T14:41:24.842Z"
      },
      {
        "duration": 9,
        "start_time": "2022-01-26T14:41:24.884Z"
      },
      {
        "duration": 49,
        "start_time": "2022-01-26T14:41:24.896Z"
      },
      {
        "duration": 11,
        "start_time": "2022-01-26T14:41:24.947Z"
      },
      {
        "duration": 28,
        "start_time": "2022-01-26T14:41:24.970Z"
      },
      {
        "duration": 11,
        "start_time": "2022-01-26T14:41:25.000Z"
      },
      {
        "duration": 8,
        "start_time": "2022-01-26T14:41:25.014Z"
      },
      {
        "duration": 50,
        "start_time": "2022-01-26T14:41:25.025Z"
      },
      {
        "duration": 51,
        "start_time": "2022-01-26T14:41:25.078Z"
      },
      {
        "duration": 51,
        "start_time": "2022-01-26T14:41:25.131Z"
      },
      {
        "duration": 5,
        "start_time": "2022-01-26T14:41:25.185Z"
      },
      {
        "duration": 19,
        "start_time": "2022-01-26T14:41:25.192Z"
      },
      {
        "duration": 27,
        "start_time": "2022-01-26T14:41:25.214Z"
      },
      {
        "duration": 62,
        "start_time": "2022-01-26T14:41:25.243Z"
      },
      {
        "duration": 27,
        "start_time": "2022-01-26T14:41:25.308Z"
      },
      {
        "duration": 45,
        "start_time": "2022-01-26T14:41:25.338Z"
      },
      {
        "duration": 31,
        "start_time": "2022-01-26T14:41:25.386Z"
      },
      {
        "duration": 52,
        "start_time": "2022-01-26T14:41:25.420Z"
      },
      {
        "duration": 75,
        "start_time": "2022-01-26T14:41:25.475Z"
      },
      {
        "duration": 4,
        "start_time": "2022-01-26T14:41:25.571Z"
      },
      {
        "duration": 99,
        "start_time": "2022-01-26T14:41:25.578Z"
      },
      {
        "duration": 3,
        "start_time": "2022-01-26T14:41:25.679Z"
      },
      {
        "duration": 66,
        "start_time": "2022-01-26T14:41:25.684Z"
      },
      {
        "duration": 16,
        "start_time": "2022-01-26T14:41:25.753Z"
      },
      {
        "duration": 4,
        "start_time": "2022-01-26T14:41:25.771Z"
      },
      {
        "duration": 66,
        "start_time": "2022-01-26T14:41:25.777Z"
      },
      {
        "duration": 85,
        "start_time": "2022-01-26T14:41:25.845Z"
      },
      {
        "duration": 5,
        "start_time": "2022-01-26T14:41:25.933Z"
      },
      {
        "duration": 8,
        "start_time": "2022-01-26T14:41:25.940Z"
      },
      {
        "duration": 83,
        "start_time": "2022-01-26T14:41:25.950Z"
      },
      {
        "duration": 4,
        "start_time": "2022-01-26T14:41:26.036Z"
      },
      {
        "duration": 68,
        "start_time": "2022-01-26T14:41:26.042Z"
      },
      {
        "duration": 17,
        "start_time": "2022-01-26T14:41:26.113Z"
      },
      {
        "duration": 6,
        "start_time": "2022-01-26T14:41:26.132Z"
      },
      {
        "duration": 4730,
        "start_time": "2022-01-26T14:41:26.141Z"
      },
      {
        "duration": 31,
        "start_time": "2022-01-26T14:41:30.874Z"
      },
      {
        "duration": 6,
        "start_time": "2022-01-26T14:41:30.908Z"
      },
      {
        "duration": 74,
        "start_time": "2022-01-26T14:41:30.917Z"
      },
      {
        "duration": 33,
        "start_time": "2022-01-26T14:41:30.994Z"
      },
      {
        "duration": 59,
        "start_time": "2022-01-26T14:41:31.030Z"
      },
      {
        "duration": 1262,
        "start_time": "2022-01-26T14:41:31.091Z"
      },
      {
        "duration": 616,
        "start_time": "2022-01-26T14:41:32.356Z"
      },
      {
        "duration": 1243,
        "start_time": "2022-01-26T14:41:32.975Z"
      },
      {
        "duration": 2148,
        "start_time": "2022-01-26T14:41:34.221Z"
      },
      {
        "duration": 14,
        "start_time": "2022-01-26T14:41:36.372Z"
      },
      {
        "duration": 13,
        "start_time": "2022-01-26T14:41:36.389Z"
      },
      {
        "duration": 8,
        "start_time": "2022-01-26T14:41:36.405Z"
      }
    ],
    "kernelspec": {
      "display_name": "Python 3 (ipykernel)",
      "language": "python",
      "name": "python3"
    },
    "language_info": {
      "codemirror_mode": {
        "name": "ipython",
        "version": 3
      },
      "file_extension": ".py",
      "mimetype": "text/x-python",
      "name": "python",
      "nbconvert_exporter": "python",
      "pygments_lexer": "ipython3",
      "version": "3.9.5"
    },
    "toc": {
      "base_numbering": 1,
      "nav_menu": {},
      "number_sections": true,
      "sideBar": true,
      "skip_h1_title": true,
      "title_cell": "Table of Contents",
      "title_sidebar": "Contents",
      "toc_cell": false,
      "toc_position": {
        "height": "calc(100% - 180px)",
        "left": "10px",
        "top": "150px",
        "width": "250px"
      },
      "toc_section_display": true,
      "toc_window_display": true
    },
    "colab": {
      "provenance": []
    }
  },
  "nbformat": 4,
  "nbformat_minor": 0
}