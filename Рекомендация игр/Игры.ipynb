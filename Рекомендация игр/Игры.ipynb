{
  "cells": [
    {
      "cell_type": "markdown",
      "metadata": {
        "id": "NZYqWiOBDnlV"
      },
      "source": [
        "# Описание данных \n",
        "•\tName — название игры\n",
        "\n",
        "•\tPlatform — платформа\n",
        "\n",
        "•\tYear_of_Release — год выпуска\n",
        "\n",
        "•\tGenre — жанр игры\n",
        "\n",
        "•\tNA_sales — продажи в Северной Америке (миллионы проданных копий)\n",
        "\n",
        "•\tEU_sales — продажи в Европе (миллионы проданных копий)\n",
        "\n",
        "•\tJP_sales — продажи в Японии (миллионы проданных копий)\n",
        "\n",
        "•\tOther_sales — продажи в других странах (миллионы проданных копий)\n",
        "\n",
        "•\tCritic_Score — оценка критиков (максимум 100)\n",
        "\n",
        "•\tUser_Score — оценка пользователей (максимум 10)\n",
        "\n",
        "•\tRating — рейтинг от организации ESRB (англ. Entertainment Software Rating Board). Эта ассоциация определяет рейтинг компьютерных игр и присваивает им подходящую возрастную категорию.\n",
        "\n",
        "Данные за 2016 год могут быть неполными.\n"
      ]
    },
    {
      "cell_type": "markdown",
      "metadata": {
        "id": "J6lI9kwu84_v"
      },
      "source": [
        "**Цель:**\n",
        "\n",
        "выявить определяющие успешность игры закономерности \n",
        "\n",
        "выявить потенциально популярный продукт\n",
        "\n",
        "спланировать рекламные кампании"
      ]
    },
    {
      "cell_type": "code",
      "execution_count": null,
      "metadata": {
        "id": "5Sl_EgS_Dp3h"
      },
      "outputs": [],
      "source": [
        "import pandas as pd\n",
        "import matplotlib.pyplot as plt\n",
        "import plotly.express as px\n",
        "import numpy as np\n",
        "from scipy import stats as st\n",
        "import seaborn as sns\n",
        "import warnings\n",
        "warnings.filterwarnings('ignore')\n",
        "\n",
        "plt.style.use('seaborn')\n",
        "%matplotlib inline"
      ]
    },
    {
      "cell_type": "code",
      "execution_count": null,
      "metadata": {
        "colab": {
          "base_uri": "https://localhost:8080/"
        },
        "id": "93WBxxn3Fkiv",
        "outputId": "8c40bc44-e359-4804-8759-ad12245b933e"
      },
      "outputs": [
        {
          "name": "stdout",
          "output_type": "stream",
          "text": [
            "/bin/bash: gdown: command not found\r\n"
          ]
        }
      ],
      "source": [
        "! gdown --id 1xEFzFmDaHOMbWL6wg-A41VlLchKc77hA"
      ]
    },
    {
      "cell_type": "code",
      "execution_count": null,
      "metadata": {
        "id": "GIPsmJFRFszi"
      },
      "outputs": [],
      "source": [
        "df = pd.read_csv('/datasets/games.csv')"
      ]
    },
    {
      "cell_type": "code",
      "execution_count": null,
      "metadata": {
        "colab": {
          "base_uri": "https://localhost:8080/",
          "height": 336
        },
        "id": "AVc_kYgDG2Rq",
        "outputId": "7e2a8b22-5293-4653-eada-4212a40d274e"
      },
      "outputs": [
        {
          "data": {
            "text/html": [
              "<div>\n",
              "<style scoped>\n",
              "    .dataframe tbody tr th:only-of-type {\n",
              "        vertical-align: middle;\n",
              "    }\n",
              "\n",
              "    .dataframe tbody tr th {\n",
              "        vertical-align: top;\n",
              "    }\n",
              "\n",
              "    .dataframe thead th {\n",
              "        text-align: right;\n",
              "    }\n",
              "</style>\n",
              "<table border=\"1\" class=\"dataframe\">\n",
              "  <thead>\n",
              "    <tr style=\"text-align: right;\">\n",
              "      <th></th>\n",
              "      <th>Name</th>\n",
              "      <th>Platform</th>\n",
              "      <th>Year_of_Release</th>\n",
              "      <th>Genre</th>\n",
              "      <th>NA_sales</th>\n",
              "      <th>EU_sales</th>\n",
              "      <th>JP_sales</th>\n",
              "      <th>Other_sales</th>\n",
              "      <th>Critic_Score</th>\n",
              "      <th>User_Score</th>\n",
              "      <th>Rating</th>\n",
              "    </tr>\n",
              "  </thead>\n",
              "  <tbody>\n",
              "    <tr>\n",
              "      <td>0</td>\n",
              "      <td>Wii Sports</td>\n",
              "      <td>Wii</td>\n",
              "      <td>2006.0</td>\n",
              "      <td>Sports</td>\n",
              "      <td>41.36</td>\n",
              "      <td>28.96</td>\n",
              "      <td>3.77</td>\n",
              "      <td>8.45</td>\n",
              "      <td>76.0</td>\n",
              "      <td>8</td>\n",
              "      <td>E</td>\n",
              "    </tr>\n",
              "    <tr>\n",
              "      <td>1</td>\n",
              "      <td>Super Mario Bros.</td>\n",
              "      <td>NES</td>\n",
              "      <td>1985.0</td>\n",
              "      <td>Platform</td>\n",
              "      <td>29.08</td>\n",
              "      <td>3.58</td>\n",
              "      <td>6.81</td>\n",
              "      <td>0.77</td>\n",
              "      <td>NaN</td>\n",
              "      <td>NaN</td>\n",
              "      <td>NaN</td>\n",
              "    </tr>\n",
              "    <tr>\n",
              "      <td>2</td>\n",
              "      <td>Mario Kart Wii</td>\n",
              "      <td>Wii</td>\n",
              "      <td>2008.0</td>\n",
              "      <td>Racing</td>\n",
              "      <td>15.68</td>\n",
              "      <td>12.76</td>\n",
              "      <td>3.79</td>\n",
              "      <td>3.29</td>\n",
              "      <td>82.0</td>\n",
              "      <td>8.3</td>\n",
              "      <td>E</td>\n",
              "    </tr>\n",
              "    <tr>\n",
              "      <td>3</td>\n",
              "      <td>Wii Sports Resort</td>\n",
              "      <td>Wii</td>\n",
              "      <td>2009.0</td>\n",
              "      <td>Sports</td>\n",
              "      <td>15.61</td>\n",
              "      <td>10.93</td>\n",
              "      <td>3.28</td>\n",
              "      <td>2.95</td>\n",
              "      <td>80.0</td>\n",
              "      <td>8</td>\n",
              "      <td>E</td>\n",
              "    </tr>\n",
              "    <tr>\n",
              "      <td>4</td>\n",
              "      <td>Pokemon Red/Pokemon Blue</td>\n",
              "      <td>GB</td>\n",
              "      <td>1996.0</td>\n",
              "      <td>Role-Playing</td>\n",
              "      <td>11.27</td>\n",
              "      <td>8.89</td>\n",
              "      <td>10.22</td>\n",
              "      <td>1.00</td>\n",
              "      <td>NaN</td>\n",
              "      <td>NaN</td>\n",
              "      <td>NaN</td>\n",
              "    </tr>\n",
              "  </tbody>\n",
              "</table>\n",
              "</div>"
            ],
            "text/plain": [
              "                       Name Platform  Year_of_Release         Genre  NA_sales  \\\n",
              "0                Wii Sports      Wii           2006.0        Sports     41.36   \n",
              "1         Super Mario Bros.      NES           1985.0      Platform     29.08   \n",
              "2            Mario Kart Wii      Wii           2008.0        Racing     15.68   \n",
              "3         Wii Sports Resort      Wii           2009.0        Sports     15.61   \n",
              "4  Pokemon Red/Pokemon Blue       GB           1996.0  Role-Playing     11.27   \n",
              "\n",
              "   EU_sales  JP_sales  Other_sales  Critic_Score User_Score Rating  \n",
              "0     28.96      3.77         8.45          76.0          8      E  \n",
              "1      3.58      6.81         0.77           NaN        NaN    NaN  \n",
              "2     12.76      3.79         3.29          82.0        8.3      E  \n",
              "3     10.93      3.28         2.95          80.0          8      E  \n",
              "4      8.89     10.22         1.00           NaN        NaN    NaN  "
            ]
          },
          "execution_count": 4,
          "metadata": {},
          "output_type": "execute_result"
        }
      ],
      "source": [
        "df.head()"
      ]
    },
    {
      "cell_type": "code",
      "execution_count": null,
      "metadata": {
        "colab": {
          "base_uri": "https://localhost:8080/"
        },
        "id": "6C6IbBF0G4fN",
        "outputId": "65aab0da-e629-4b80-eed0-fbbca17e605b",
        "scrolled": true
      },
      "outputs": [
        {
          "name": "stdout",
          "output_type": "stream",
          "text": [
            "<class 'pandas.core.frame.DataFrame'>\n",
            "RangeIndex: 16715 entries, 0 to 16714\n",
            "Data columns (total 11 columns):\n",
            "Name               16713 non-null object\n",
            "Platform           16715 non-null object\n",
            "Year_of_Release    16446 non-null float64\n",
            "Genre              16713 non-null object\n",
            "NA_sales           16715 non-null float64\n",
            "EU_sales           16715 non-null float64\n",
            "JP_sales           16715 non-null float64\n",
            "Other_sales        16715 non-null float64\n",
            "Critic_Score       8137 non-null float64\n",
            "User_Score         10014 non-null object\n",
            "Rating             9949 non-null object\n",
            "dtypes: float64(6), object(5)\n",
            "memory usage: 1.4+ MB\n"
          ]
        }
      ],
      "source": [
        "df.info()"
      ]
    },
    {
      "cell_type": "markdown",
      "metadata": {
        "id": "vAIT1Hym84_9"
      },
      "source": [
        "**Вывод**\n",
        "\n",
        "**Необходимо обработать пропуски в столбцах:** \n",
        "\n",
        "Name\n",
        "\n",
        "Сritic_Score     \n",
        "\n",
        "User_Score       \n",
        "\n",
        "Rating\n",
        "\n",
        "**А также изменить тип данных в столбцах:**\n",
        "\n",
        "Year_of_Release\n",
        "\n",
        "User_score"
      ]
    },
    {
      "cell_type": "markdown",
      "metadata": {
        "id": "fdFOpY0hIbuz"
      },
      "source": [
        "# Предобработка данных"
      ]
    },
    {
      "cell_type": "code",
      "execution_count": null,
      "metadata": {
        "id": "IvnOl9HdIf-A"
      },
      "outputs": [],
      "source": [
        "df.columns = df.columns.str.lower()"
      ]
    },
    {
      "cell_type": "code",
      "execution_count": null,
      "metadata": {
        "colab": {
          "base_uri": "https://localhost:8080/",
          "height": 336
        },
        "id": "nHOgiaKlIjHA",
        "outputId": "04df7f23-76b6-4623-8746-34ec0cf054c6"
      },
      "outputs": [
        {
          "data": {
            "text/html": [
              "<div>\n",
              "<style scoped>\n",
              "    .dataframe tbody tr th:only-of-type {\n",
              "        vertical-align: middle;\n",
              "    }\n",
              "\n",
              "    .dataframe tbody tr th {\n",
              "        vertical-align: top;\n",
              "    }\n",
              "\n",
              "    .dataframe thead th {\n",
              "        text-align: right;\n",
              "    }\n",
              "</style>\n",
              "<table border=\"1\" class=\"dataframe\">\n",
              "  <thead>\n",
              "    <tr style=\"text-align: right;\">\n",
              "      <th></th>\n",
              "      <th>name</th>\n",
              "      <th>platform</th>\n",
              "      <th>year_of_release</th>\n",
              "      <th>genre</th>\n",
              "      <th>na_sales</th>\n",
              "      <th>eu_sales</th>\n",
              "      <th>jp_sales</th>\n",
              "      <th>other_sales</th>\n",
              "      <th>critic_score</th>\n",
              "      <th>user_score</th>\n",
              "      <th>rating</th>\n",
              "    </tr>\n",
              "  </thead>\n",
              "  <tbody>\n",
              "    <tr>\n",
              "      <td>0</td>\n",
              "      <td>Wii Sports</td>\n",
              "      <td>Wii</td>\n",
              "      <td>2006.0</td>\n",
              "      <td>Sports</td>\n",
              "      <td>41.36</td>\n",
              "      <td>28.96</td>\n",
              "      <td>3.77</td>\n",
              "      <td>8.45</td>\n",
              "      <td>76.0</td>\n",
              "      <td>8</td>\n",
              "      <td>E</td>\n",
              "    </tr>\n",
              "    <tr>\n",
              "      <td>1</td>\n",
              "      <td>Super Mario Bros.</td>\n",
              "      <td>NES</td>\n",
              "      <td>1985.0</td>\n",
              "      <td>Platform</td>\n",
              "      <td>29.08</td>\n",
              "      <td>3.58</td>\n",
              "      <td>6.81</td>\n",
              "      <td>0.77</td>\n",
              "      <td>NaN</td>\n",
              "      <td>NaN</td>\n",
              "      <td>NaN</td>\n",
              "    </tr>\n",
              "    <tr>\n",
              "      <td>2</td>\n",
              "      <td>Mario Kart Wii</td>\n",
              "      <td>Wii</td>\n",
              "      <td>2008.0</td>\n",
              "      <td>Racing</td>\n",
              "      <td>15.68</td>\n",
              "      <td>12.76</td>\n",
              "      <td>3.79</td>\n",
              "      <td>3.29</td>\n",
              "      <td>82.0</td>\n",
              "      <td>8.3</td>\n",
              "      <td>E</td>\n",
              "    </tr>\n",
              "    <tr>\n",
              "      <td>3</td>\n",
              "      <td>Wii Sports Resort</td>\n",
              "      <td>Wii</td>\n",
              "      <td>2009.0</td>\n",
              "      <td>Sports</td>\n",
              "      <td>15.61</td>\n",
              "      <td>10.93</td>\n",
              "      <td>3.28</td>\n",
              "      <td>2.95</td>\n",
              "      <td>80.0</td>\n",
              "      <td>8</td>\n",
              "      <td>E</td>\n",
              "    </tr>\n",
              "    <tr>\n",
              "      <td>4</td>\n",
              "      <td>Pokemon Red/Pokemon Blue</td>\n",
              "      <td>GB</td>\n",
              "      <td>1996.0</td>\n",
              "      <td>Role-Playing</td>\n",
              "      <td>11.27</td>\n",
              "      <td>8.89</td>\n",
              "      <td>10.22</td>\n",
              "      <td>1.00</td>\n",
              "      <td>NaN</td>\n",
              "      <td>NaN</td>\n",
              "      <td>NaN</td>\n",
              "    </tr>\n",
              "  </tbody>\n",
              "</table>\n",
              "</div>"
            ],
            "text/plain": [
              "                       name platform  year_of_release         genre  na_sales  \\\n",
              "0                Wii Sports      Wii           2006.0        Sports     41.36   \n",
              "1         Super Mario Bros.      NES           1985.0      Platform     29.08   \n",
              "2            Mario Kart Wii      Wii           2008.0        Racing     15.68   \n",
              "3         Wii Sports Resort      Wii           2009.0        Sports     15.61   \n",
              "4  Pokemon Red/Pokemon Blue       GB           1996.0  Role-Playing     11.27   \n",
              "\n",
              "   eu_sales  jp_sales  other_sales  critic_score user_score rating  \n",
              "0     28.96      3.77         8.45          76.0          8      E  \n",
              "1      3.58      6.81         0.77           NaN        NaN    NaN  \n",
              "2     12.76      3.79         3.29          82.0        8.3      E  \n",
              "3     10.93      3.28         2.95          80.0          8      E  \n",
              "4      8.89     10.22         1.00           NaN        NaN    NaN  "
            ]
          },
          "execution_count": 7,
          "metadata": {},
          "output_type": "execute_result"
        }
      ],
      "source": [
        "df.head()"
      ]
    },
    {
      "cell_type": "markdown",
      "metadata": {
        "id": "qU-sCgtRJR4F"
      },
      "source": [
        "Заменили названия столбцов, точнее исправили регистр на нижний."
      ]
    },
    {
      "cell_type": "code",
      "execution_count": null,
      "metadata": {
        "colab": {
          "base_uri": "https://localhost:8080/"
        },
        "id": "XsWavEctJY7t",
        "outputId": "07b6c646-4362-4282-b481-0e96b6f7c397"
      },
      "outputs": [
        {
          "data": {
            "text/plain": [
              "name                  2\n",
              "platform              0\n",
              "year_of_release     269\n",
              "genre                 2\n",
              "na_sales              0\n",
              "eu_sales              0\n",
              "jp_sales              0\n",
              "other_sales           0\n",
              "critic_score       8578\n",
              "user_score         6701\n",
              "rating             6766\n",
              "dtype: int64"
            ]
          },
          "execution_count": 8,
          "metadata": {},
          "output_type": "execute_result"
        }
      ],
      "source": [
        "df.isna().sum(axis=0)"
      ]
    },
    {
      "cell_type": "markdown",
      "metadata": {
        "id": "Q70jYSaid-jG"
      },
      "source": [
        "Видим пропуски в столбцах год выпуска, рейтинг, оценка пользователей и оценка критиков. В столбце название и жанр по 2 пропуска, их  можно удалить"
      ]
    },
    {
      "cell_type": "code",
      "execution_count": null,
      "metadata": {
        "id": "V5YoaA3NeeXK"
      },
      "outputs": [],
      "source": [
        "df.dropna(subset = ['name', 'genre'], inplace=True)"
      ]
    },
    {
      "cell_type": "code",
      "execution_count": null,
      "metadata": {
        "colab": {
          "base_uri": "https://localhost:8080/"
        },
        "id": "_gSFlEsVnHY_",
        "outputId": "3329f20a-318c-4954-b8f3-5d6ff25244ac"
      },
      "outputs": [
        {
          "data": {
            "text/plain": [
              "array(['8', nan, '8.3', '8.5', '6.6', '8.4', '8.6', '7.7', '6.3', '7.4',\n",
              "       '8.2', '9', '7.9', '8.1', '8.7', '7.1', '3.4', '5.3', '4.8', '3.2',\n",
              "       '8.9', '6.4', '7.8', '7.5', '2.6', '7.2', '9.2', '7', '7.3', '4.3',\n",
              "       '7.6', '5.7', '5', '9.1', '6.5', 'tbd', '8.8', '6.9', '9.4', '6.8',\n",
              "       '6.1', '6.7', '5.4', '4', '4.9', '4.5', '9.3', '6.2', '4.2', '6',\n",
              "       '3.7', '4.1', '5.8', '5.6', '5.5', '4.4', '4.6', '5.9', '3.9',\n",
              "       '3.1', '2.9', '5.2', '3.3', '4.7', '5.1', '3.5', '2.5', '1.9', '3',\n",
              "       '2.7', '2.2', '2', '9.5', '2.1', '3.6', '2.8', '1.8', '3.8', '0',\n",
              "       '1.6', '9.6', '2.4', '1.7', '1.1', '0.3', '1.5', '0.7', '1.2',\n",
              "       '2.3', '0.5', '1.3', '0.2', '0.6', '1.4', '0.9', '1', '9.7'],\n",
              "      dtype=object)"
            ]
          },
          "execution_count": 10,
          "metadata": {},
          "output_type": "execute_result"
        }
      ],
      "source": [
        "df['user_score'].unique()"
      ]
    },
    {
      "cell_type": "code",
      "execution_count": null,
      "metadata": {
        "id": "hHKL8HgmSGn_"
      },
      "outputs": [],
      "source": [
        "#df['user_score'] = df['user_score'].astype('float')"
      ]
    },
    {
      "cell_type": "code",
      "execution_count": null,
      "metadata": {
        "colab": {
          "base_uri": "https://localhost:8080/"
        },
        "id": "W9dy74HlSGzE",
        "outputId": "d7c700e0-e5b9-48bf-dfea-7a6dafede533"
      },
      "outputs": [
        {
          "data": {
            "text/plain": [
              "2424"
            ]
          },
          "execution_count": 12,
          "metadata": {},
          "output_type": "execute_result"
        }
      ],
      "source": [
        "df.query('user_score ==\"tbd\"').shape[0]"
      ]
    },
    {
      "cell_type": "code",
      "execution_count": null,
      "metadata": {
        "id": "iu8QXANc85AG"
      },
      "outputs": [],
      "source": [
        "df.loc[df['user_score']=='tbd', 'user_score'] = -1\n",
        "df['user_score'] = df['user_score'].fillna(np.nan)\n",
        "\n",
        "df['user_score'] = df['user_score'].astype('float')"
      ]
    },
    {
      "cell_type": "code",
      "execution_count": null,
      "metadata": {
        "id": "QL17MTYf85AG",
        "outputId": "df9b66a1-7f06-4fc2-bcf9-d098124ecb15"
      },
      "outputs": [
        {
          "data": {
            "text/plain": [
              "0"
            ]
          },
          "execution_count": 14,
          "metadata": {},
          "output_type": "execute_result"
        }
      ],
      "source": [
        "df.query('user_score ==\"tbd\"').shape[0]"
      ]
    },
    {
      "cell_type": "markdown",
      "metadata": {
        "id": "Y9JUp_yYcABE"
      },
      "source": [
        "Для 2424 строк нет оценки, а вместо нее tbd. Заменили и удалили пропуски"
      ]
    },
    {
      "cell_type": "code",
      "execution_count": null,
      "metadata": {
        "id": "T11Ij2n685AH"
      },
      "outputs": [],
      "source": [
        "df['critic_score'] = df['critic_score'].fillna(np.nan)"
      ]
    },
    {
      "cell_type": "code",
      "execution_count": null,
      "metadata": {
        "id": "46WHqK9685AI"
      },
      "outputs": [],
      "source": [
        "df['rating'] = df['rating'].fillna(np.nan)"
      ]
    },
    {
      "cell_type": "code",
      "execution_count": null,
      "metadata": {
        "id": "KdmlogKz85AI"
      },
      "outputs": [],
      "source": [
        "df['year_of_release'] = df['year_of_release'].fillna(0).astype(int)"
      ]
    },
    {
      "cell_type": "code",
      "execution_count": null,
      "metadata": {
        "id": "FQWnDvZdo5Yn"
      },
      "outputs": [],
      "source": [
        "df['year_of_release'] = df['year_of_release'].astype(int)"
      ]
    },
    {
      "cell_type": "code",
      "execution_count": null,
      "metadata": {
        "id": "Xuj-VjkphrvF"
      },
      "outputs": [],
      "source": [
        "df['total_sales'] = df['na_sales'] + df['eu_sales'] + df['jp_sales'] + df['other_sales']"
      ]
    },
    {
      "cell_type": "code",
      "execution_count": null,
      "metadata": {
        "colab": {
          "base_uri": "https://localhost:8080/"
        },
        "id": "MLjO3hDR9Ocw",
        "outputId": "127318bd-1c82-407b-882e-e825b011a60d"
      },
      "outputs": [
        {
          "name": "stdout",
          "output_type": "stream",
          "text": [
            "<class 'pandas.core.frame.DataFrame'>\n",
            "Int64Index: 16713 entries, 0 to 16714\n",
            "Data columns (total 12 columns):\n",
            "name               16713 non-null object\n",
            "platform           16713 non-null object\n",
            "year_of_release    16713 non-null int64\n",
            "genre              16713 non-null object\n",
            "na_sales           16713 non-null float64\n",
            "eu_sales           16713 non-null float64\n",
            "jp_sales           16713 non-null float64\n",
            "other_sales        16713 non-null float64\n",
            "critic_score       8137 non-null float64\n",
            "user_score         10014 non-null float64\n",
            "rating             9949 non-null object\n",
            "total_sales        16713 non-null float64\n",
            "dtypes: float64(7), int64(1), object(4)\n",
            "memory usage: 1.7+ MB\n"
          ]
        }
      ],
      "source": [
        "df.info()"
      ]
    },
    {
      "cell_type": "markdown",
      "metadata": {
        "id": "uLtEZf_sgDL8"
      },
      "source": [
        "Заменили типы данных, удалили пропуски. Посчитали суммарные продажи во всех регионах и записали их в отдельный столбец."
      ]
    },
    {
      "cell_type": "markdown",
      "metadata": {
        "id": "nMlxf5jHiWVL"
      },
      "source": [
        "# Анализ данных"
      ]
    },
    {
      "cell_type": "markdown",
      "metadata": {
        "id": "Ww-l6NGDie3d"
      },
      "source": [
        "Посмотрим, сколько игр выпускалось в разные годы. "
      ]
    },
    {
      "cell_type": "code",
      "execution_count": null,
      "metadata": {
        "colab": {
          "base_uri": "https://localhost:8080/",
          "height": 1000
        },
        "id": "RmFc-KCuNUyU",
        "outputId": "362096a2-aa3e-40ee-d9e8-2e555c86aae9"
      },
      "outputs": [
        {
          "data": {
            "text/html": [
              "<div>\n",
              "<style scoped>\n",
              "    .dataframe tbody tr th:only-of-type {\n",
              "        vertical-align: middle;\n",
              "    }\n",
              "\n",
              "    .dataframe tbody tr th {\n",
              "        vertical-align: top;\n",
              "    }\n",
              "\n",
              "    .dataframe thead th {\n",
              "        text-align: right;\n",
              "    }\n",
              "</style>\n",
              "<table border=\"1\" class=\"dataframe\">\n",
              "  <thead>\n",
              "    <tr style=\"text-align: right;\">\n",
              "      <th></th>\n",
              "      <th>games_count</th>\n",
              "    </tr>\n",
              "    <tr>\n",
              "      <th>year_of_release</th>\n",
              "      <th></th>\n",
              "    </tr>\n",
              "  </thead>\n",
              "  <tbody>\n",
              "    <tr>\n",
              "      <td>0</td>\n",
              "      <td>269</td>\n",
              "    </tr>\n",
              "    <tr>\n",
              "      <td>1980</td>\n",
              "      <td>9</td>\n",
              "    </tr>\n",
              "    <tr>\n",
              "      <td>1981</td>\n",
              "      <td>46</td>\n",
              "    </tr>\n",
              "    <tr>\n",
              "      <td>1982</td>\n",
              "      <td>36</td>\n",
              "    </tr>\n",
              "    <tr>\n",
              "      <td>1983</td>\n",
              "      <td>17</td>\n",
              "    </tr>\n",
              "    <tr>\n",
              "      <td>1984</td>\n",
              "      <td>14</td>\n",
              "    </tr>\n",
              "    <tr>\n",
              "      <td>1985</td>\n",
              "      <td>14</td>\n",
              "    </tr>\n",
              "    <tr>\n",
              "      <td>1986</td>\n",
              "      <td>21</td>\n",
              "    </tr>\n",
              "    <tr>\n",
              "      <td>1987</td>\n",
              "      <td>16</td>\n",
              "    </tr>\n",
              "    <tr>\n",
              "      <td>1988</td>\n",
              "      <td>15</td>\n",
              "    </tr>\n",
              "    <tr>\n",
              "      <td>1989</td>\n",
              "      <td>17</td>\n",
              "    </tr>\n",
              "    <tr>\n",
              "      <td>1990</td>\n",
              "      <td>16</td>\n",
              "    </tr>\n",
              "    <tr>\n",
              "      <td>1991</td>\n",
              "      <td>41</td>\n",
              "    </tr>\n",
              "    <tr>\n",
              "      <td>1992</td>\n",
              "      <td>43</td>\n",
              "    </tr>\n",
              "    <tr>\n",
              "      <td>1993</td>\n",
              "      <td>60</td>\n",
              "    </tr>\n",
              "    <tr>\n",
              "      <td>1994</td>\n",
              "      <td>121</td>\n",
              "    </tr>\n",
              "    <tr>\n",
              "      <td>1995</td>\n",
              "      <td>219</td>\n",
              "    </tr>\n",
              "    <tr>\n",
              "      <td>1996</td>\n",
              "      <td>263</td>\n",
              "    </tr>\n",
              "    <tr>\n",
              "      <td>1997</td>\n",
              "      <td>289</td>\n",
              "    </tr>\n",
              "    <tr>\n",
              "      <td>1998</td>\n",
              "      <td>379</td>\n",
              "    </tr>\n",
              "    <tr>\n",
              "      <td>1999</td>\n",
              "      <td>338</td>\n",
              "    </tr>\n",
              "    <tr>\n",
              "      <td>2000</td>\n",
              "      <td>350</td>\n",
              "    </tr>\n",
              "    <tr>\n",
              "      <td>2001</td>\n",
              "      <td>482</td>\n",
              "    </tr>\n",
              "    <tr>\n",
              "      <td>2002</td>\n",
              "      <td>829</td>\n",
              "    </tr>\n",
              "    <tr>\n",
              "      <td>2003</td>\n",
              "      <td>775</td>\n",
              "    </tr>\n",
              "    <tr>\n",
              "      <td>2004</td>\n",
              "      <td>762</td>\n",
              "    </tr>\n",
              "    <tr>\n",
              "      <td>2005</td>\n",
              "      <td>939</td>\n",
              "    </tr>\n",
              "    <tr>\n",
              "      <td>2006</td>\n",
              "      <td>1006</td>\n",
              "    </tr>\n",
              "    <tr>\n",
              "      <td>2007</td>\n",
              "      <td>1197</td>\n",
              "    </tr>\n",
              "    <tr>\n",
              "      <td>2008</td>\n",
              "      <td>1427</td>\n",
              "    </tr>\n",
              "    <tr>\n",
              "      <td>2009</td>\n",
              "      <td>1426</td>\n",
              "    </tr>\n",
              "    <tr>\n",
              "      <td>2010</td>\n",
              "      <td>1255</td>\n",
              "    </tr>\n",
              "    <tr>\n",
              "      <td>2011</td>\n",
              "      <td>1136</td>\n",
              "    </tr>\n",
              "    <tr>\n",
              "      <td>2012</td>\n",
              "      <td>653</td>\n",
              "    </tr>\n",
              "    <tr>\n",
              "      <td>2013</td>\n",
              "      <td>544</td>\n",
              "    </tr>\n",
              "    <tr>\n",
              "      <td>2014</td>\n",
              "      <td>581</td>\n",
              "    </tr>\n",
              "    <tr>\n",
              "      <td>2015</td>\n",
              "      <td>606</td>\n",
              "    </tr>\n",
              "    <tr>\n",
              "      <td>2016</td>\n",
              "      <td>502</td>\n",
              "    </tr>\n",
              "  </tbody>\n",
              "</table>\n",
              "</div>"
            ],
            "text/plain": [
              "                 games_count\n",
              "year_of_release             \n",
              "0                        269\n",
              "1980                       9\n",
              "1981                      46\n",
              "1982                      36\n",
              "1983                      17\n",
              "1984                      14\n",
              "1985                      14\n",
              "1986                      21\n",
              "1987                      16\n",
              "1988                      15\n",
              "1989                      17\n",
              "1990                      16\n",
              "1991                      41\n",
              "1992                      43\n",
              "1993                      60\n",
              "1994                     121\n",
              "1995                     219\n",
              "1996                     263\n",
              "1997                     289\n",
              "1998                     379\n",
              "1999                     338\n",
              "2000                     350\n",
              "2001                     482\n",
              "2002                     829\n",
              "2003                     775\n",
              "2004                     762\n",
              "2005                     939\n",
              "2006                    1006\n",
              "2007                    1197\n",
              "2008                    1427\n",
              "2009                    1426\n",
              "2010                    1255\n",
              "2011                    1136\n",
              "2012                     653\n",
              "2013                     544\n",
              "2014                     581\n",
              "2015                     606\n",
              "2016                     502"
            ]
          },
          "execution_count": 21,
          "metadata": {},
          "output_type": "execute_result"
        }
      ],
      "source": [
        "year_of_release_pivot_table = pd.pivot_table(df, index='year_of_release', values='name', aggfunc='count')\n",
        "year_of_release_pivot_table.columns = ['games_count']\n",
        "year_of_release_pivot_table"
      ]
    },
    {
      "cell_type": "code",
      "execution_count": null,
      "metadata": {
        "colab": {
          "base_uri": "https://localhost:8080/",
          "height": 583
        },
        "id": "7HGbrFWAiarR",
        "outputId": "4d488cb1-9329-4bac-9e21-bdb08cd1d6bd"
      },
      "outputs": [
        {
          "data": {
            "text/plain": [
              "Text(0.5, 0, 'год')"
            ]
          },
          "execution_count": 22,
          "metadata": {},
          "output_type": "execute_result"
        },
        {
          "data": {
            "image/png": "[encoded data removed]",
            "text/plain": [
              "<Figure size 864x648 with 1 Axes>"
            ]
          },
          "metadata": {
            "needs_background": "light"
          },
          "output_type": "display_data"
        }
      ],
      "source": [
        "games_without_trash = df.loc[df['year_of_release'] != 0]\n",
        "games_without_trash.plot(kind='hist', y='year_of_release', bins=40,\n",
        "                                          figsize=(12, 9), title='Продажи игр по годам', label='игры')\n",
        "plt.ylabel('количество')\n",
        "plt.xlabel('год')"
      ]
    },
    {
      "cell_type": "markdown",
      "metadata": {
        "id": "iDRgIxR3lm4A"
      },
      "source": [
        "Видим, что с 1990 года постепенно возрастало количество проданных игр, а в 2008-2009 был самый пик продажи игр, после чего тенденция идет на спад. Информация за все годы нам не важна."
      ]
    },
    {
      "cell_type": "markdown",
      "metadata": {
        "id": "dyWcPlDwmz-U"
      },
      "source": [
        "Посмотрим, как менялись продажи по платформам. Выберем платформы с наибольшими суммарными продажами и построим распределение по годам."
      ]
    },
    {
      "cell_type": "code",
      "execution_count": null,
      "metadata": {
        "colab": {
          "base_uri": "https://localhost:8080/",
          "height": 1000
        },
        "id": "CMMxGhzKOu-i",
        "outputId": "c0f6966a-8852-4d92-91bb-0f09ac0b4aa6"
      },
      "outputs": [
        {
          "data": {
            "text/html": [
              "<div>\n",
              "<style scoped>\n",
              "    .dataframe tbody tr th:only-of-type {\n",
              "        vertical-align: middle;\n",
              "    }\n",
              "\n",
              "    .dataframe tbody tr th {\n",
              "        vertical-align: top;\n",
              "    }\n",
              "\n",
              "    .dataframe thead th {\n",
              "        text-align: right;\n",
              "    }\n",
              "</style>\n",
              "<table border=\"1\" class=\"dataframe\">\n",
              "  <thead>\n",
              "    <tr style=\"text-align: right;\">\n",
              "      <th></th>\n",
              "      <th>total_sales</th>\n",
              "    </tr>\n",
              "    <tr>\n",
              "      <th>platform</th>\n",
              "      <th></th>\n",
              "    </tr>\n",
              "  </thead>\n",
              "  <tbody>\n",
              "    <tr>\n",
              "      <td>PS2</td>\n",
              "      <td>1255.77</td>\n",
              "    </tr>\n",
              "    <tr>\n",
              "      <td>X360</td>\n",
              "      <td>971.42</td>\n",
              "    </tr>\n",
              "    <tr>\n",
              "      <td>PS3</td>\n",
              "      <td>939.65</td>\n",
              "    </tr>\n",
              "    <tr>\n",
              "      <td>Wii</td>\n",
              "      <td>907.51</td>\n",
              "    </tr>\n",
              "    <tr>\n",
              "      <td>DS</td>\n",
              "      <td>806.12</td>\n",
              "    </tr>\n",
              "    <tr>\n",
              "      <td>PS</td>\n",
              "      <td>730.86</td>\n",
              "    </tr>\n",
              "    <tr>\n",
              "      <td>GBA</td>\n",
              "      <td>317.85</td>\n",
              "    </tr>\n",
              "    <tr>\n",
              "      <td>PS4</td>\n",
              "      <td>314.14</td>\n",
              "    </tr>\n",
              "    <tr>\n",
              "      <td>PSP</td>\n",
              "      <td>294.05</td>\n",
              "    </tr>\n",
              "    <tr>\n",
              "      <td>PC</td>\n",
              "      <td>259.52</td>\n",
              "    </tr>\n",
              "    <tr>\n",
              "      <td>3DS</td>\n",
              "      <td>259.00</td>\n",
              "    </tr>\n",
              "    <tr>\n",
              "      <td>XB</td>\n",
              "      <td>257.74</td>\n",
              "    </tr>\n",
              "    <tr>\n",
              "      <td>GB</td>\n",
              "      <td>255.46</td>\n",
              "    </tr>\n",
              "    <tr>\n",
              "      <td>NES</td>\n",
              "      <td>251.05</td>\n",
              "    </tr>\n",
              "    <tr>\n",
              "      <td>N64</td>\n",
              "      <td>218.68</td>\n",
              "    </tr>\n",
              "    <tr>\n",
              "      <td>SNES</td>\n",
              "      <td>200.04</td>\n",
              "    </tr>\n",
              "    <tr>\n",
              "      <td>GC</td>\n",
              "      <td>198.93</td>\n",
              "    </tr>\n",
              "    <tr>\n",
              "      <td>XOne</td>\n",
              "      <td>159.32</td>\n",
              "    </tr>\n",
              "    <tr>\n",
              "      <td>2600</td>\n",
              "      <td>96.98</td>\n",
              "    </tr>\n",
              "    <tr>\n",
              "      <td>WiiU</td>\n",
              "      <td>82.19</td>\n",
              "    </tr>\n",
              "    <tr>\n",
              "      <td>PSV</td>\n",
              "      <td>54.07</td>\n",
              "    </tr>\n",
              "    <tr>\n",
              "      <td>SAT</td>\n",
              "      <td>33.59</td>\n",
              "    </tr>\n",
              "    <tr>\n",
              "      <td>GEN</td>\n",
              "      <td>28.35</td>\n",
              "    </tr>\n",
              "    <tr>\n",
              "      <td>DC</td>\n",
              "      <td>15.95</td>\n",
              "    </tr>\n",
              "    <tr>\n",
              "      <td>SCD</td>\n",
              "      <td>1.86</td>\n",
              "    </tr>\n",
              "    <tr>\n",
              "      <td>NG</td>\n",
              "      <td>1.44</td>\n",
              "    </tr>\n",
              "    <tr>\n",
              "      <td>WS</td>\n",
              "      <td>1.42</td>\n",
              "    </tr>\n",
              "    <tr>\n",
              "      <td>TG16</td>\n",
              "      <td>0.16</td>\n",
              "    </tr>\n",
              "    <tr>\n",
              "      <td>3DO</td>\n",
              "      <td>0.10</td>\n",
              "    </tr>\n",
              "    <tr>\n",
              "      <td>GG</td>\n",
              "      <td>0.04</td>\n",
              "    </tr>\n",
              "    <tr>\n",
              "      <td>PCFX</td>\n",
              "      <td>0.03</td>\n",
              "    </tr>\n",
              "  </tbody>\n",
              "</table>\n",
              "</div>"
            ],
            "text/plain": [
              "          total_sales\n",
              "platform             \n",
              "PS2           1255.77\n",
              "X360           971.42\n",
              "PS3            939.65\n",
              "Wii            907.51\n",
              "DS             806.12\n",
              "PS             730.86\n",
              "GBA            317.85\n",
              "PS4            314.14\n",
              "PSP            294.05\n",
              "PC             259.52\n",
              "3DS            259.00\n",
              "XB             257.74\n",
              "GB             255.46\n",
              "NES            251.05\n",
              "N64            218.68\n",
              "SNES           200.04\n",
              "GC             198.93\n",
              "XOne           159.32\n",
              "2600            96.98\n",
              "WiiU            82.19\n",
              "PSV             54.07\n",
              "SAT             33.59\n",
              "GEN             28.35\n",
              "DC              15.95\n",
              "SCD              1.86\n",
              "NG               1.44\n",
              "WS               1.42\n",
              "TG16             0.16\n",
              "3DO              0.10\n",
              "GG               0.04\n",
              "PCFX             0.03"
            ]
          },
          "execution_count": 23,
          "metadata": {},
          "output_type": "execute_result"
        }
      ],
      "source": [
        "platform_sales_pivot_table = pd.pivot_table(df, index=['platform'], values='total_sales', aggfunc='sum')\n",
        "platform_sales_pivot_table = platform_sales_pivot_table.sort_values('total_sales',ascending=False)\n",
        "platform_sales_pivot_table"
      ]
    },
    {
      "cell_type": "code",
      "execution_count": null,
      "metadata": {
        "colab": {
          "base_uri": "https://localhost:8080/"
        },
        "id": "u3Ma0N6kGT4D",
        "outputId": "a8502f2a-8a62-4ef5-98d4-b5e2c486a35c"
      },
      "outputs": [
        {
          "data": {
            "text/plain": [
              "['PS2', 'X360', 'PS3', 'Wii', 'DS', 'PS', 'GBA', 'PS4', 'PSP', 'PC']"
            ]
          },
          "execution_count": 24,
          "metadata": {},
          "output_type": "execute_result"
        }
      ],
      "source": [
        "best_sales_platform = list(platform_sales_pivot_table.index[:10])\n",
        "best_sales_platform"
      ]
    },
    {
      "cell_type": "code",
      "execution_count": null,
      "metadata": {
        "colab": {
          "base_uri": "https://localhost:8080/"
        },
        "id": "Wse1_WMTGURv",
        "outputId": "49c61ca4-5088-4eb9-87eb-c22c57066083"
      },
      "outputs": [
        {
          "name": "stdout",
          "output_type": "stream",
          "text": [
            "                          total_sales\n",
            "platform year_of_release             \n",
            "PS2      2000                   39.17\n",
            "         2001                  166.43\n",
            "         2002                  205.38\n",
            "         2003                  184.31\n",
            "         2004                  211.81\n",
            "         2005                  160.66\n",
            "         2006                  103.42\n",
            "         2007                   75.99\n",
            "         2008                   53.90\n",
            "         2009                   26.40\n",
            "         2010                    5.64\n",
            "         2011                    0.45\n",
            "\n",
            "                          total_sales\n",
            "platform year_of_release             \n",
            "X360     2005                    8.25\n",
            "         2006                   51.62\n",
            "         2007                   95.41\n",
            "         2008                  135.26\n",
            "         2009                  120.29\n",
            "         2010                  170.03\n",
            "         2011                  143.84\n",
            "         2012                   99.74\n",
            "         2013                   88.58\n",
            "         2014                   34.74\n",
            "         2015                   11.96\n",
            "         2016                    1.52\n",
            "\n",
            "                          total_sales\n",
            "platform year_of_release             \n",
            "PS3      2006                   20.96\n",
            "         2007                   73.19\n",
            "         2008                  118.52\n",
            "         2009                  130.93\n",
            "         2010                  142.17\n",
            "         2011                  156.78\n",
            "         2012                  107.36\n",
            "         2013                  113.25\n",
            "         2014                   47.76\n",
            "         2015                   16.82\n",
            "         2016                    3.60\n",
            "\n",
            "                          total_sales\n",
            "platform year_of_release             \n",
            "Wii      2006                  137.15\n",
            "         2007                  152.77\n",
            "         2008                  171.32\n",
            "         2009                  206.97\n",
            "         2010                  127.95\n",
            "         2011                   59.65\n",
            "         2012                   21.71\n",
            "         2013                    8.59\n",
            "         2014                    3.75\n",
            "         2015                    1.14\n",
            "         2016                    0.18\n",
            "\n",
            "                          total_sales\n",
            "platform year_of_release             \n",
            "DS       1985                    0.02\n",
            "         2004                   17.27\n",
            "         2005                  130.14\n",
            "         2006                  119.81\n",
            "         2007                  146.94\n",
            "         2008                  145.31\n",
            "         2009                  119.54\n",
            "         2010                   85.02\n",
            "         2011                   26.18\n",
            "         2012                   11.01\n",
            "         2013                    1.54\n",
            "\n",
            "                          total_sales\n",
            "platform year_of_release             \n",
            "PS       1994                    6.03\n",
            "         1995                   35.96\n",
            "         1996                   94.70\n",
            "         1997                  136.17\n",
            "         1998                  169.49\n",
            "         1999                  144.53\n",
            "         2000                   96.37\n",
            "         2001                   35.59\n",
            "         2002                    6.67\n",
            "         2003                    2.07\n",
            "\n",
            "                          total_sales\n",
            "platform year_of_release             \n",
            "GBA      2000                    0.07\n",
            "         2001                   61.53\n",
            "         2002                   74.16\n",
            "         2003                   56.67\n",
            "         2004                   77.91\n",
            "         2005                   33.86\n",
            "         2006                    5.28\n",
            "         2007                    3.40\n",
            "\n",
            "                          total_sales\n",
            "platform year_of_release             \n",
            "PS4      2014                  100.00\n",
            "         2015                  118.90\n",
            "         2016                   69.25\n",
            "\n",
            "                          total_sales\n",
            "platform year_of_release             \n",
            "PSP      2004                    7.06\n",
            "         2005                   43.84\n",
            "         2006                   55.32\n",
            "         2007                   46.93\n",
            "         2008                   34.55\n",
            "         2009                   37.78\n",
            "         2010                   35.04\n",
            "         2011                   17.82\n",
            "         2012                    7.69\n",
            "         2013                    3.14\n",
            "         2014                    0.24\n",
            "         2015                    0.12\n",
            "\n",
            "                          total_sales\n",
            "platform year_of_release             \n",
            "PC       1985                    0.04\n",
            "         1988                    0.03\n",
            "         1992                    3.03\n",
            "         1994                   12.87\n",
            "         1995                    4.22\n",
            "         1996                   10.58\n",
            "         1997                   11.27\n",
            "         1998                    3.26\n",
            "         1999                    4.74\n",
            "         2000                    4.66\n",
            "         2001                    5.47\n",
            "         2002                    8.57\n",
            "         2003                    8.84\n",
            "         2004                   10.39\n",
            "         2005                    4.37\n",
            "         2006                    2.85\n",
            "         2007                    9.28\n",
            "         2008                   12.42\n",
            "         2009                   16.91\n",
            "         2010                   24.28\n",
            "         2011                   35.03\n",
            "         2012                   23.22\n",
            "         2013                   12.38\n",
            "         2014                   13.28\n",
            "         2015                    8.52\n",
            "         2016                    5.25\n",
            "\n"
          ]
        }
      ],
      "source": [
        "for platform in best_sales_platform:\n",
        "    platform_sales_pivot_table = pd.pivot_table(df.query('platform == @platform'), index=['platform','year_of_release'], values='total_sales', aggfunc='sum')\n",
        "    print(platform_sales_pivot_table[1:])\n",
        "    print()"
      ]
    },
    {
      "cell_type": "code",
      "execution_count": null,
      "metadata": {
        "id": "DZmQA_EjiaxZ"
      },
      "outputs": [],
      "source": [
        "def plot_builder(df):\n",
        "    df.pivot_table(index='year_of_release', columns='platform', values='total_sales',aggfunc=(\"sum\")).plot(grid=True,figsize=(19, 10), fontsize=(14))\n"
      ]
    },
    {
      "cell_type": "code",
      "execution_count": null,
      "metadata": {
        "colab": {
          "base_uri": "https://localhost:8080/",
          "height": 519
        },
        "id": "_ZkPHj6Dia4o",
        "outputId": "7de99f59-a371-4fea-c995-b664b2de69b9"
      },
      "outputs": [
        {
          "data": {
            "text/plain": [
              "Text(0.5, 0, 'год')"
            ]
          },
          "execution_count": 27,
          "metadata": {},
          "output_type": "execute_result"
        },
        {
          "data": {
            "image/png": "[encoded data removed]",
            "text/plain": [
              "<Figure size 1368x720 with 1 Axes>"
            ]
          },
          "metadata": {
            "needs_background": "light"
          },
          "output_type": "display_data"
        }
      ],
      "source": [
        "plot_builder(games_without_trash)\n",
        "plt.title('Продажи игр на консоли за всю историю')\n",
        "plt.ylabel('объем продаж')\n",
        "plt.xlabel('год')"
      ]
    },
    {
      "cell_type": "code",
      "execution_count": null,
      "metadata": {
        "id": "x2zQawbDia-C"
      },
      "outputs": [],
      "source": [
        "top_10_platform = games_without_trash.groupby(\n",
        "    'platform')['total_sales'].agg(sum).sort_values(ascending=False).head(10).reset_index()\n",
        "top_10_platform = list(top_10_platform['platform'])\n",
        "top_10_platform = games_without_trash.query('platform in @top_10_platform')"
      ]
    },
    {
      "cell_type": "code",
      "execution_count": null,
      "metadata": {
        "colab": {
          "base_uri": "https://localhost:8080/",
          "height": 519
        },
        "id": "xm_NVec_ibDw",
        "outputId": "3da6f877-0b9c-4d59-dc79-b21cae520037"
      },
      "outputs": [
        {
          "data": {
            "text/plain": [
              "Text(0.5, 0, 'год')"
            ]
          },
          "execution_count": 29,
          "metadata": {},
          "output_type": "execute_result"
        },
        {
          "data": {
            "image/png": "[encoded data removed]",
            "text/plain": [
              "<Figure size 1368x720 with 1 Axes>"
            ]
          },
          "metadata": {
            "needs_background": "light"
          },
          "output_type": "display_data"
        }
      ],
      "source": [
        "plot_builder(top_10_platform)\n",
        "plt.title('Топ-10 платформ')\n",
        "plt.ylabel('объемы продаж')\n",
        "plt.xlabel('год')"
      ]
    },
    {
      "cell_type": "markdown",
      "metadata": {
        "id": "7xtackhuKoO4"
      },
      "source": [
        "Из графика видно, что примерно за 7 лет появляются новые и исчезают старые платформы. Проверим."
      ]
    },
    {
      "cell_type": "code",
      "execution_count": null,
      "metadata": {
        "colab": {
          "base_uri": "https://localhost:8080/"
        },
        "id": "mqL9C1d4gSb6",
        "outputId": "906a6e58-3b2f-4543-d864-fa7bbf5ea10a"
      },
      "outputs": [
        {
          "name": "stdout",
          "output_type": "stream",
          "text": [
            "В среднем жизненный цикл консолей составляет: 7 лет\n"
          ]
        }
      ],
      "source": [
        "temp = games_without_trash.pivot_table(index=('platform','year_of_release'), aggfunc=(\n",
        "    'count')).reset_index()\n",
        "temp = temp.groupby('platform')['year_of_release'].agg(\"count\").reset_index()\n",
        "print('В среднем жизненный цикл консолей составляет: {} лет'\n",
        "      .format(round(temp['year_of_release'].median())))"
      ]
    },
    {
      "cell_type": "markdown",
      "metadata": {
        "id": "6LBc-UZRLwhw"
      },
      "source": [
        "•\tВозьмем данные за соответствующий актуальный период. Основной фактор — эти данные помогут построить прогноз на 2017 год.\n",
        "\n",
        "•\tКакие платформы лидируют по продажам, растут или падают? Выберите несколько потенциально прибыльных платформ.\n"
      ]
    },
    {
      "cell_type": "code",
      "execution_count": null,
      "metadata": {
        "colab": {
          "base_uri": "https://localhost:8080/",
          "height": 519
        },
        "id": "HIw1NNTLgShG",
        "outputId": "d3632a2d-4151-458f-e4ae-a81f2ddb7c26"
      },
      "outputs": [
        {
          "data": {
            "text/plain": [
              "Text(0.5, 0, 'год')"
            ]
          },
          "execution_count": 31,
          "metadata": {},
          "output_type": "execute_result"
        },
        {
          "data": {
            "image/png": "[encoded data removed]",
            "text/plain": [
              "<Figure size 1368x720 with 1 Axes>"
            ]
          },
          "metadata": {
            "needs_background": "light"
          },
          "output_type": "display_data"
        }
      ],
      "source": [
        "actual_games = games_without_trash.query('year_of_release > 2012')\n",
        "plot_builder(actual_games)\n",
        "plt.title('Продажи игр за последние 3 года')\n",
        "plt.ylabel('объем продаж')\n",
        "plt.xlabel('год')"
      ]
    },
    {
      "cell_type": "markdown",
      "metadata": {
        "id": "VDa1E_tz85AW"
      },
      "source": [
        "Как раз за 2013-2016 годы мы увидим, какие платформы уже не будут актуальны в 2017 году.\n",
        "Например, для платформы PS4 пик продаж ожидается на 2017 год."
      ]
    },
    {
      "cell_type": "code",
      "execution_count": null,
      "metadata": {
        "colab": {
          "base_uri": "https://localhost:8080/"
        },
        "id": "YlmFPGOugSn9",
        "outputId": "3e7cf31d-3be8-4aa0-b512-6d712700e617"
      },
      "outputs": [
        {
          "name": "stdout",
          "output_type": "stream",
          "text": [
            "<class 'pandas.core.frame.DataFrame'>\n",
            "Int64Index: 2233 entries, 16 to 16714\n",
            "Data columns (total 12 columns):\n",
            "name               2233 non-null object\n",
            "platform           2233 non-null object\n",
            "year_of_release    2233 non-null int64\n",
            "genre              2233 non-null object\n",
            "na_sales           2233 non-null float64\n",
            "eu_sales           2233 non-null float64\n",
            "jp_sales           2233 non-null float64\n",
            "other_sales        2233 non-null float64\n",
            "critic_score       991 non-null float64\n",
            "user_score         1300 non-null float64\n",
            "rating             1256 non-null object\n",
            "total_sales        2233 non-null float64\n",
            "dtypes: float64(7), int64(1), object(4)\n",
            "memory usage: 226.8+ KB\n"
          ]
        }
      ],
      "source": [
        "actual_data_games_sales = df.query('year_of_release > 2012')\n",
        "actual_data_games_sales.info()"
      ]
    },
    {
      "cell_type": "code",
      "execution_count": null,
      "metadata": {
        "colab": {
          "base_uri": "https://localhost:8080/",
          "height": 438
        },
        "id": "sJz7SqaZmeRV",
        "outputId": "f719acfc-f3cb-4ca4-f977-c083a913599a"
      },
      "outputs": [
        {
          "data": {
            "text/html": [
              "<div>\n",
              "<style scoped>\n",
              "    .dataframe tbody tr th:only-of-type {\n",
              "        vertical-align: middle;\n",
              "    }\n",
              "\n",
              "    .dataframe tbody tr th {\n",
              "        vertical-align: top;\n",
              "    }\n",
              "\n",
              "    .dataframe thead th {\n",
              "        text-align: right;\n",
              "    }\n",
              "</style>\n",
              "<table border=\"1\" class=\"dataframe\">\n",
              "  <thead>\n",
              "    <tr style=\"text-align: right;\">\n",
              "      <th></th>\n",
              "      <th>name</th>\n",
              "      <th>platform</th>\n",
              "      <th>year_of_release</th>\n",
              "      <th>genre</th>\n",
              "      <th>na_sales</th>\n",
              "      <th>eu_sales</th>\n",
              "      <th>jp_sales</th>\n",
              "      <th>other_sales</th>\n",
              "      <th>critic_score</th>\n",
              "      <th>user_score</th>\n",
              "      <th>rating</th>\n",
              "      <th>total_sales</th>\n",
              "    </tr>\n",
              "  </thead>\n",
              "  <tbody>\n",
              "    <tr>\n",
              "      <td>16</td>\n",
              "      <td>Grand Theft Auto V</td>\n",
              "      <td>PS3</td>\n",
              "      <td>2013</td>\n",
              "      <td>Action</td>\n",
              "      <td>7.02</td>\n",
              "      <td>9.09</td>\n",
              "      <td>0.98</td>\n",
              "      <td>3.96</td>\n",
              "      <td>97.0</td>\n",
              "      <td>8.2</td>\n",
              "      <td>M</td>\n",
              "      <td>21.05</td>\n",
              "    </tr>\n",
              "    <tr>\n",
              "      <td>23</td>\n",
              "      <td>Grand Theft Auto V</td>\n",
              "      <td>X360</td>\n",
              "      <td>2013</td>\n",
              "      <td>Action</td>\n",
              "      <td>9.66</td>\n",
              "      <td>5.14</td>\n",
              "      <td>0.06</td>\n",
              "      <td>1.41</td>\n",
              "      <td>97.0</td>\n",
              "      <td>8.1</td>\n",
              "      <td>M</td>\n",
              "      <td>16.27</td>\n",
              "    </tr>\n",
              "    <tr>\n",
              "      <td>31</td>\n",
              "      <td>Call of Duty: Black Ops 3</td>\n",
              "      <td>PS4</td>\n",
              "      <td>2015</td>\n",
              "      <td>Shooter</td>\n",
              "      <td>6.03</td>\n",
              "      <td>5.86</td>\n",
              "      <td>0.36</td>\n",
              "      <td>2.38</td>\n",
              "      <td>NaN</td>\n",
              "      <td>NaN</td>\n",
              "      <td>NaN</td>\n",
              "      <td>14.63</td>\n",
              "    </tr>\n",
              "    <tr>\n",
              "      <td>33</td>\n",
              "      <td>Pokemon X/Pokemon Y</td>\n",
              "      <td>3DS</td>\n",
              "      <td>2013</td>\n",
              "      <td>Role-Playing</td>\n",
              "      <td>5.28</td>\n",
              "      <td>4.19</td>\n",
              "      <td>4.35</td>\n",
              "      <td>0.78</td>\n",
              "      <td>NaN</td>\n",
              "      <td>NaN</td>\n",
              "      <td>NaN</td>\n",
              "      <td>14.60</td>\n",
              "    </tr>\n",
              "    <tr>\n",
              "      <td>42</td>\n",
              "      <td>Grand Theft Auto V</td>\n",
              "      <td>PS4</td>\n",
              "      <td>2014</td>\n",
              "      <td>Action</td>\n",
              "      <td>3.96</td>\n",
              "      <td>6.31</td>\n",
              "      <td>0.38</td>\n",
              "      <td>1.97</td>\n",
              "      <td>97.0</td>\n",
              "      <td>8.3</td>\n",
              "      <td>M</td>\n",
              "      <td>12.62</td>\n",
              "    </tr>\n",
              "  </tbody>\n",
              "</table>\n",
              "</div>"
            ],
            "text/plain": [
              "                         name platform  year_of_release         genre  \\\n",
              "16         Grand Theft Auto V      PS3             2013        Action   \n",
              "23         Grand Theft Auto V     X360             2013        Action   \n",
              "31  Call of Duty: Black Ops 3      PS4             2015       Shooter   \n",
              "33        Pokemon X/Pokemon Y      3DS             2013  Role-Playing   \n",
              "42         Grand Theft Auto V      PS4             2014        Action   \n",
              "\n",
              "    na_sales  eu_sales  jp_sales  other_sales  critic_score  user_score  \\\n",
              "16      7.02      9.09      0.98         3.96          97.0         8.2   \n",
              "23      9.66      5.14      0.06         1.41          97.0         8.1   \n",
              "31      6.03      5.86      0.36         2.38           NaN         NaN   \n",
              "33      5.28      4.19      4.35         0.78           NaN         NaN   \n",
              "42      3.96      6.31      0.38         1.97          97.0         8.3   \n",
              "\n",
              "   rating  total_sales  \n",
              "16      M        21.05  \n",
              "23      M        16.27  \n",
              "31    NaN        14.63  \n",
              "33    NaN        14.60  \n",
              "42      M        12.62  "
            ]
          },
          "execution_count": 33,
          "metadata": {},
          "output_type": "execute_result"
        }
      ],
      "source": [
        "actual_data_games_sales.head()"
      ]
    },
    {
      "cell_type": "code",
      "execution_count": null,
      "metadata": {
        "colab": {
          "base_uri": "https://localhost:8080/",
          "height": 1000
        },
        "id": "SdPaZxbmnpbi",
        "outputId": "79929593-b6ce-4e43-abb3-3446f7c112b1"
      },
      "outputs": [
        {
          "data": {
            "text/html": [
              "<div>\n",
              "<style scoped>\n",
              "    .dataframe tbody tr th:only-of-type {\n",
              "        vertical-align: middle;\n",
              "    }\n",
              "\n",
              "    .dataframe tbody tr th {\n",
              "        vertical-align: top;\n",
              "    }\n",
              "\n",
              "    .dataframe thead th {\n",
              "        text-align: right;\n",
              "    }\n",
              "</style>\n",
              "<table border=\"1\" class=\"dataframe\">\n",
              "  <thead>\n",
              "    <tr style=\"text-align: right;\">\n",
              "      <th></th>\n",
              "      <th></th>\n",
              "      <th>total_sales</th>\n",
              "    </tr>\n",
              "    <tr>\n",
              "      <th>platform</th>\n",
              "      <th>year_of_release</th>\n",
              "      <th></th>\n",
              "    </tr>\n",
              "  </thead>\n",
              "  <tbody>\n",
              "    <tr>\n",
              "      <td rowspan=\"4\" valign=\"top\">3DS</td>\n",
              "      <td>2013</td>\n",
              "      <td>56.57</td>\n",
              "    </tr>\n",
              "    <tr>\n",
              "      <td>2014</td>\n",
              "      <td>43.76</td>\n",
              "    </tr>\n",
              "    <tr>\n",
              "      <td>2015</td>\n",
              "      <td>27.78</td>\n",
              "    </tr>\n",
              "    <tr>\n",
              "      <td>2016</td>\n",
              "      <td>15.14</td>\n",
              "    </tr>\n",
              "    <tr>\n",
              "      <td>DS</td>\n",
              "      <td>2013</td>\n",
              "      <td>1.54</td>\n",
              "    </tr>\n",
              "    <tr>\n",
              "      <td rowspan=\"4\" valign=\"top\">PC</td>\n",
              "      <td>2013</td>\n",
              "      <td>12.38</td>\n",
              "    </tr>\n",
              "    <tr>\n",
              "      <td>2014</td>\n",
              "      <td>13.28</td>\n",
              "    </tr>\n",
              "    <tr>\n",
              "      <td>2015</td>\n",
              "      <td>8.52</td>\n",
              "    </tr>\n",
              "    <tr>\n",
              "      <td>2016</td>\n",
              "      <td>5.25</td>\n",
              "    </tr>\n",
              "    <tr>\n",
              "      <td rowspan=\"4\" valign=\"top\">PS3</td>\n",
              "      <td>2013</td>\n",
              "      <td>113.25</td>\n",
              "    </tr>\n",
              "    <tr>\n",
              "      <td>2014</td>\n",
              "      <td>47.76</td>\n",
              "    </tr>\n",
              "    <tr>\n",
              "      <td>2015</td>\n",
              "      <td>16.82</td>\n",
              "    </tr>\n",
              "    <tr>\n",
              "      <td>2016</td>\n",
              "      <td>3.60</td>\n",
              "    </tr>\n",
              "    <tr>\n",
              "      <td rowspan=\"4\" valign=\"top\">PS4</td>\n",
              "      <td>2013</td>\n",
              "      <td>25.99</td>\n",
              "    </tr>\n",
              "    <tr>\n",
              "      <td>2014</td>\n",
              "      <td>100.00</td>\n",
              "    </tr>\n",
              "    <tr>\n",
              "      <td>2015</td>\n",
              "      <td>118.90</td>\n",
              "    </tr>\n",
              "    <tr>\n",
              "      <td>2016</td>\n",
              "      <td>69.25</td>\n",
              "    </tr>\n",
              "    <tr>\n",
              "      <td rowspan=\"3\" valign=\"top\">PSP</td>\n",
              "      <td>2013</td>\n",
              "      <td>3.14</td>\n",
              "    </tr>\n",
              "    <tr>\n",
              "      <td>2014</td>\n",
              "      <td>0.24</td>\n",
              "    </tr>\n",
              "    <tr>\n",
              "      <td>2015</td>\n",
              "      <td>0.12</td>\n",
              "    </tr>\n",
              "    <tr>\n",
              "      <td rowspan=\"4\" valign=\"top\">PSV</td>\n",
              "      <td>2013</td>\n",
              "      <td>10.59</td>\n",
              "    </tr>\n",
              "    <tr>\n",
              "      <td>2014</td>\n",
              "      <td>11.90</td>\n",
              "    </tr>\n",
              "    <tr>\n",
              "      <td>2015</td>\n",
              "      <td>6.25</td>\n",
              "    </tr>\n",
              "    <tr>\n",
              "      <td>2016</td>\n",
              "      <td>4.25</td>\n",
              "    </tr>\n",
              "    <tr>\n",
              "      <td rowspan=\"4\" valign=\"top\">Wii</td>\n",
              "      <td>2013</td>\n",
              "      <td>8.59</td>\n",
              "    </tr>\n",
              "    <tr>\n",
              "      <td>2014</td>\n",
              "      <td>3.75</td>\n",
              "    </tr>\n",
              "    <tr>\n",
              "      <td>2015</td>\n",
              "      <td>1.14</td>\n",
              "    </tr>\n",
              "    <tr>\n",
              "      <td>2016</td>\n",
              "      <td>0.18</td>\n",
              "    </tr>\n",
              "    <tr>\n",
              "      <td rowspan=\"4\" valign=\"top\">WiiU</td>\n",
              "      <td>2013</td>\n",
              "      <td>21.65</td>\n",
              "    </tr>\n",
              "    <tr>\n",
              "      <td>2014</td>\n",
              "      <td>22.03</td>\n",
              "    </tr>\n",
              "    <tr>\n",
              "      <td>2015</td>\n",
              "      <td>16.35</td>\n",
              "    </tr>\n",
              "    <tr>\n",
              "      <td>2016</td>\n",
              "      <td>4.60</td>\n",
              "    </tr>\n",
              "    <tr>\n",
              "      <td rowspan=\"4\" valign=\"top\">X360</td>\n",
              "      <td>2013</td>\n",
              "      <td>88.58</td>\n",
              "    </tr>\n",
              "    <tr>\n",
              "      <td>2014</td>\n",
              "      <td>34.74</td>\n",
              "    </tr>\n",
              "    <tr>\n",
              "      <td>2015</td>\n",
              "      <td>11.96</td>\n",
              "    </tr>\n",
              "    <tr>\n",
              "      <td>2016</td>\n",
              "      <td>1.52</td>\n",
              "    </tr>\n",
              "    <tr>\n",
              "      <td rowspan=\"4\" valign=\"top\">XOne</td>\n",
              "      <td>2013</td>\n",
              "      <td>18.96</td>\n",
              "    </tr>\n",
              "    <tr>\n",
              "      <td>2014</td>\n",
              "      <td>54.07</td>\n",
              "    </tr>\n",
              "    <tr>\n",
              "      <td>2015</td>\n",
              "      <td>60.14</td>\n",
              "    </tr>\n",
              "    <tr>\n",
              "      <td>2016</td>\n",
              "      <td>26.15</td>\n",
              "    </tr>\n",
              "  </tbody>\n",
              "</table>\n",
              "</div>"
            ],
            "text/plain": [
              "                          total_sales\n",
              "platform year_of_release             \n",
              "3DS      2013                   56.57\n",
              "         2014                   43.76\n",
              "         2015                   27.78\n",
              "         2016                   15.14\n",
              "DS       2013                    1.54\n",
              "PC       2013                   12.38\n",
              "         2014                   13.28\n",
              "         2015                    8.52\n",
              "         2016                    5.25\n",
              "PS3      2013                  113.25\n",
              "         2014                   47.76\n",
              "         2015                   16.82\n",
              "         2016                    3.60\n",
              "PS4      2013                   25.99\n",
              "         2014                  100.00\n",
              "         2015                  118.90\n",
              "         2016                   69.25\n",
              "PSP      2013                    3.14\n",
              "         2014                    0.24\n",
              "         2015                    0.12\n",
              "PSV      2013                   10.59\n",
              "         2014                   11.90\n",
              "         2015                    6.25\n",
              "         2016                    4.25\n",
              "Wii      2013                    8.59\n",
              "         2014                    3.75\n",
              "         2015                    1.14\n",
              "         2016                    0.18\n",
              "WiiU     2013                   21.65\n",
              "         2014                   22.03\n",
              "         2015                   16.35\n",
              "         2016                    4.60\n",
              "X360     2013                   88.58\n",
              "         2014                   34.74\n",
              "         2015                   11.96\n",
              "         2016                    1.52\n",
              "XOne     2013                   18.96\n",
              "         2014                   54.07\n",
              "         2015                   60.14\n",
              "         2016                   26.15"
            ]
          },
          "execution_count": 34,
          "metadata": {},
          "output_type": "execute_result"
        }
      ],
      "source": [
        "best_sales_platform = pd.pivot_table(actual_data_games_sales, index=['platform','year_of_release'], \n",
        "                                     values='total_sales', aggfunc = 'sum')\n",
        "best_sales_platform"
      ]
    },
    {
      "cell_type": "code",
      "execution_count": null,
      "metadata": {
        "colab": {
          "base_uri": "https://localhost:8080/",
          "height": 421
        },
        "id": "Y-430yV_nph1",
        "outputId": "e13ae372-d6f9-4acf-d518-ef6358be0216"
      },
      "outputs": [
        {
          "data": {
            "text/html": [
              "<div>\n",
              "<style scoped>\n",
              "    .dataframe tbody tr th:only-of-type {\n",
              "        vertical-align: middle;\n",
              "    }\n",
              "\n",
              "    .dataframe tbody tr th {\n",
              "        vertical-align: top;\n",
              "    }\n",
              "\n",
              "    .dataframe thead th {\n",
              "        text-align: right;\n",
              "    }\n",
              "</style>\n",
              "<table border=\"1\" class=\"dataframe\">\n",
              "  <thead>\n",
              "    <tr style=\"text-align: right;\">\n",
              "      <th></th>\n",
              "      <th>total_sales</th>\n",
              "    </tr>\n",
              "    <tr>\n",
              "      <th>platform</th>\n",
              "      <th></th>\n",
              "    </tr>\n",
              "  </thead>\n",
              "  <tbody>\n",
              "    <tr>\n",
              "      <td>PS4</td>\n",
              "      <td>314.14</td>\n",
              "    </tr>\n",
              "    <tr>\n",
              "      <td>PS3</td>\n",
              "      <td>181.43</td>\n",
              "    </tr>\n",
              "    <tr>\n",
              "      <td>XOne</td>\n",
              "      <td>159.32</td>\n",
              "    </tr>\n",
              "    <tr>\n",
              "      <td>3DS</td>\n",
              "      <td>143.25</td>\n",
              "    </tr>\n",
              "    <tr>\n",
              "      <td>X360</td>\n",
              "      <td>136.80</td>\n",
              "    </tr>\n",
              "    <tr>\n",
              "      <td>WiiU</td>\n",
              "      <td>64.63</td>\n",
              "    </tr>\n",
              "    <tr>\n",
              "      <td>PC</td>\n",
              "      <td>39.43</td>\n",
              "    </tr>\n",
              "    <tr>\n",
              "      <td>PSV</td>\n",
              "      <td>32.99</td>\n",
              "    </tr>\n",
              "    <tr>\n",
              "      <td>Wii</td>\n",
              "      <td>13.66</td>\n",
              "    </tr>\n",
              "    <tr>\n",
              "      <td>PSP</td>\n",
              "      <td>3.50</td>\n",
              "    </tr>\n",
              "    <tr>\n",
              "      <td>DS</td>\n",
              "      <td>1.54</td>\n",
              "    </tr>\n",
              "  </tbody>\n",
              "</table>\n",
              "</div>"
            ],
            "text/plain": [
              "          total_sales\n",
              "platform             \n",
              "PS4            314.14\n",
              "PS3            181.43\n",
              "XOne           159.32\n",
              "3DS            143.25\n",
              "X360           136.80\n",
              "WiiU            64.63\n",
              "PC              39.43\n",
              "PSV             32.99\n",
              "Wii             13.66\n",
              "PSP              3.50\n",
              "DS               1.54"
            ]
          },
          "execution_count": 35,
          "metadata": {},
          "output_type": "execute_result"
        }
      ],
      "source": [
        "best_sales_platform = pd.pivot_table(actual_data_games_sales, index='platform', \n",
        "                                     values='total_sales', aggfunc = 'sum')\n",
        "best_sales_platform.sort_values('total_sales', ascending=False)"
      ]
    },
    {
      "cell_type": "markdown",
      "metadata": {
        "id": "e8hD4EI_nYSZ"
      },
      "source": [
        "Потенциально прибыльные платформы, топ-5: PS4, PS3, XOne,3DS X360."
      ]
    },
    {
      "cell_type": "code",
      "execution_count": null,
      "metadata": {
        "id": "CTdBbb3m85Ab"
      },
      "outputs": [],
      "source": [
        "profit_platforms = ['PS4', 'PS3', 'XOne','3DS', 'X360']"
      ]
    },
    {
      "cell_type": "markdown",
      "metadata": {
        "id": "nhANV7-JoXeJ"
      },
      "source": [
        "Построим график «ящик с усами» по платформам. "
      ]
    },
    {
      "cell_type": "code",
      "execution_count": null,
      "metadata": {
        "id": "8lCRzujM85Ae"
      },
      "outputs": [],
      "source": [
        "#список актуальных платформ в 2016 году\n",
        "platforms_in_2016 = df.query('year_of_release == 2016')['platform'].unique()\n",
        "#срез по списку актульных платформ в 2016 году с 2013 года\n",
        "actual_table = df.query('year_of_release >= 2013 and platform in @platforms_in_2016').reset_index()\n",
        "#сводная таблица\n",
        "actual_platforms = actual_table.pivot_table(index='platform', columns='year_of_release', values='total_sales', aggfunc='sum')"
      ]
    },
    {
      "cell_type": "code",
      "execution_count": null,
      "metadata": {
        "id": "FfYzEAkF85Ae",
        "outputId": "e7fee3c2-1edc-440a-a016-66e51234a9c3"
      },
      "outputs": [
        {
          "data": {
            "text/plain": [
              "Text(0.5, 1.0, 'Cравнение платформ')"
            ]
          },
          "execution_count": 38,
          "metadata": {},
          "output_type": "execute_result"
        },
        {
          "data": {
            "image/png": "[encoded data removed]",
            "text/plain": [
              "<Figure size 432x288 with 1 Axes>"
            ]
          },
          "metadata": {
            "needs_background": "light"
          },
          "output_type": "display_data"
        }
      ],
      "source": [
        "actual_platforms_box = actual_table.pivot_table(index='name', columns='platform', values='total_sales', aggfunc='sum')\n",
        "actual_platforms_box.plot(kind='box', ylim=(0,4))\n",
        "plt.title('Cравнение платформ')"
      ]
    },
    {
      "cell_type": "code",
      "execution_count": null,
      "metadata": {
        "colab": {
          "base_uri": "https://localhost:8080/"
        },
        "id": "6SWr4jgMrQtY",
        "outputId": "937c8348-0126-45e2-82fe-f95780fd4273"
      },
      "outputs": [
        {
          "data": {
            "text/plain": [
              "platform\n",
              "PS4     0.801378\n",
              "X360    0.735484\n",
              "XOne    0.645020\n",
              "Wii     0.593913\n",
              "WiiU    0.562000\n",
              "PS3     0.525884\n",
              "3DS     0.472772\n",
              "PC      0.208624\n",
              "PSV     0.092151\n",
              "Name: total_sales, dtype: float64"
            ]
          },
          "execution_count": 39,
          "metadata": {},
          "output_type": "execute_result"
        }
      ],
      "source": [
        "actual_table.groupby('platform')['total_sales'].mean().sort_values(ascending=False)"
      ]
    },
    {
      "cell_type": "markdown",
      "metadata": {
        "id": "vDHc_Yqcq8rm"
      },
      "source": [
        "Видим, что лидирует PS4. А меньше всего продаж PSV платформ."
      ]
    },
    {
      "cell_type": "markdown",
      "metadata": {
        "id": "xDAC3MczvTT_"
      },
      "source": [
        "Посмотрим, как влияют на продажи внутри одной популярной платформы отзывы пользователей и критиков. Построим диаграмму рассеяния и посчитаем корреляцию между отзывами и продажами. Возьмем платформу PS4."
      ]
    },
    {
      "cell_type": "code",
      "execution_count": null,
      "metadata": {
        "id": "IMzhieJM85Ag"
      },
      "outputs": [],
      "source": [
        "ps4_sales = actual_table.query('platform == \"PS4\"')\n",
        "ps4_score = pd.DataFrame(ps4_sales[['critic_score','user_score', 'total_sales']])"
      ]
    },
    {
      "cell_type": "code",
      "execution_count": null,
      "metadata": {
        "colab": {
          "base_uri": "https://localhost:8080/",
          "height": 204
        },
        "id": "pX_vkM9mp6Fu",
        "outputId": "0c1dffb7-88cd-46a6-ca57-98e795dd8853"
      },
      "outputs": [
        {
          "data": {
            "text/html": [
              "<div>\n",
              "<style scoped>\n",
              "    .dataframe tbody tr th:only-of-type {\n",
              "        vertical-align: middle;\n",
              "    }\n",
              "\n",
              "    .dataframe tbody tr th {\n",
              "        vertical-align: top;\n",
              "    }\n",
              "\n",
              "    .dataframe thead th {\n",
              "        text-align: right;\n",
              "    }\n",
              "</style>\n",
              "<table border=\"1\" class=\"dataframe\">\n",
              "  <thead>\n",
              "    <tr style=\"text-align: right;\">\n",
              "      <th></th>\n",
              "      <th>critic_score</th>\n",
              "      <th>user_score</th>\n",
              "      <th>total_sales</th>\n",
              "    </tr>\n",
              "  </thead>\n",
              "  <tbody>\n",
              "    <tr>\n",
              "      <td>2</td>\n",
              "      <td>NaN</td>\n",
              "      <td>NaN</td>\n",
              "      <td>14.63</td>\n",
              "    </tr>\n",
              "    <tr>\n",
              "      <td>4</td>\n",
              "      <td>97.0</td>\n",
              "      <td>8.3</td>\n",
              "      <td>12.62</td>\n",
              "    </tr>\n",
              "    <tr>\n",
              "      <td>9</td>\n",
              "      <td>82.0</td>\n",
              "      <td>4.3</td>\n",
              "      <td>8.58</td>\n",
              "    </tr>\n",
              "    <tr>\n",
              "      <td>10</td>\n",
              "      <td>NaN</td>\n",
              "      <td>NaN</td>\n",
              "      <td>7.98</td>\n",
              "    </tr>\n",
              "    <tr>\n",
              "      <td>11</td>\n",
              "      <td>83.0</td>\n",
              "      <td>5.7</td>\n",
              "      <td>7.66</td>\n",
              "    </tr>\n",
              "  </tbody>\n",
              "</table>\n",
              "</div>"
            ],
            "text/plain": [
              "    critic_score  user_score  total_sales\n",
              "2            NaN         NaN        14.63\n",
              "4           97.0         8.3        12.62\n",
              "9           82.0         4.3         8.58\n",
              "10           NaN         NaN         7.98\n",
              "11          83.0         5.7         7.66"
            ]
          },
          "execution_count": 41,
          "metadata": {},
          "output_type": "execute_result"
        }
      ],
      "source": [
        "ps4_score.head()"
      ]
    },
    {
      "cell_type": "code",
      "execution_count": null,
      "metadata": {
        "colab": {
          "base_uri": "https://localhost:8080/",
          "height": 142
        },
        "id": "peVhTSfJvdQb",
        "outputId": "44e79fcc-e47c-4026-9bb4-ffc471117c21"
      },
      "outputs": [
        {
          "data": {
            "text/html": [
              "<div>\n",
              "<style scoped>\n",
              "    .dataframe tbody tr th:only-of-type {\n",
              "        vertical-align: middle;\n",
              "    }\n",
              "\n",
              "    .dataframe tbody tr th {\n",
              "        vertical-align: top;\n",
              "    }\n",
              "\n",
              "    .dataframe thead th {\n",
              "        text-align: right;\n",
              "    }\n",
              "</style>\n",
              "<table border=\"1\" class=\"dataframe\">\n",
              "  <thead>\n",
              "    <tr style=\"text-align: right;\">\n",
              "      <th></th>\n",
              "      <th>critic_score</th>\n",
              "      <th>user_score</th>\n",
              "      <th>total_sales</th>\n",
              "    </tr>\n",
              "  </thead>\n",
              "  <tbody>\n",
              "    <tr>\n",
              "      <td>critic_score</td>\n",
              "      <td>1.000000</td>\n",
              "      <td>0.509843</td>\n",
              "      <td>0.406568</td>\n",
              "    </tr>\n",
              "    <tr>\n",
              "      <td>user_score</td>\n",
              "      <td>0.509843</td>\n",
              "      <td>1.000000</td>\n",
              "      <td>0.029110</td>\n",
              "    </tr>\n",
              "    <tr>\n",
              "      <td>total_sales</td>\n",
              "      <td>0.406568</td>\n",
              "      <td>0.029110</td>\n",
              "      <td>1.000000</td>\n",
              "    </tr>\n",
              "  </tbody>\n",
              "</table>\n",
              "</div>"
            ],
            "text/plain": [
              "              critic_score  user_score  total_sales\n",
              "critic_score      1.000000    0.509843     0.406568\n",
              "user_score        0.509843    1.000000     0.029110\n",
              "total_sales       0.406568    0.029110     1.000000"
            ]
          },
          "execution_count": 42,
          "metadata": {},
          "output_type": "execute_result"
        }
      ],
      "source": [
        "ps4_score.corr()"
      ]
    },
    {
      "cell_type": "code",
      "execution_count": null,
      "metadata": {
        "colab": {
          "base_uri": "https://localhost:8080/",
          "height": 1000
        },
        "id": "dOnnqfGnvdWH",
        "outputId": "344adcf3-e140-40ff-b445-f7f16a42c6ea"
      },
      "outputs": [
        {
          "data": {
            "text/plain": [
              "array([[<matplotlib.axes._subplots.AxesSubplot object at 0x7f22eb27a3d0>,\n",
              "        <matplotlib.axes._subplots.AxesSubplot object at 0x7f22eb290c10>,\n",
              "        <matplotlib.axes._subplots.AxesSubplot object at 0x7f22eb24cf90>],\n",
              "       [<matplotlib.axes._subplots.AxesSubplot object at 0x7f22eb1fcc50>,\n",
              "        <matplotlib.axes._subplots.AxesSubplot object at 0x7f22eb1b8fd0>,\n",
              "        <matplotlib.axes._subplots.AxesSubplot object at 0x7f22eb168c50>],\n",
              "       [<matplotlib.axes._subplots.AxesSubplot object at 0x7f22eb0a3490>,\n",
              "        <matplotlib.axes._subplots.AxesSubplot object at 0x7f22eb0d8c90>,\n",
              "        <matplotlib.axes._subplots.AxesSubplot object at 0x7f22eb063810>]],\n",
              "      dtype=object)"
            ]
          },
          "execution_count": 43,
          "metadata": {},
          "output_type": "execute_result"
        },
        {
          "data": {
            "image/png": "[encoded data removed]",
            "text/plain": [
              "<Figure size 360x360 with 9 Axes>"
            ]
          },
          "metadata": {
            "needs_background": "light"
          },
          "output_type": "display_data"
        }
      ],
      "source": [
        "pd.plotting.scatter_matrix(ps4_score, figsize=(5, 5))"
      ]
    },
    {
      "cell_type": "markdown",
      "metadata": {
        "id": "1Pd2RbVqVRWB"
      },
      "source": [
        "Видим зависимость между продажами и оценками критиков.\n",
        "А отзывы пользователей не влияют на покупку."
      ]
    },
    {
      "cell_type": "code",
      "execution_count": null,
      "metadata": {
        "scrolled": true,
        "id": "hXlpOBwv85Aj",
        "outputId": "f5485cd2-37b1-4304-982b-31c3182fdf20"
      },
      "outputs": [
        {
          "data": {
            "image/png": "[encoded data removed]",
            "text/plain": [
              "<Figure size 1152x432 with 2 Axes>"
            ]
          },
          "metadata": {
            "needs_background": "light"
          },
          "output_type": "display_data"
        }
      ],
      "source": [
        "fig, axs = plt.subplots(1, 2)\n",
        "fig.set_size_inches(16, 6)\n",
        "\n",
        "axs[0].scatter(\n",
        "    actual_table.query('platform in @profit_platforms')['total_sales'],\n",
        "    actual_table.query('platform in @profit_platforms')['critic_score'],\n",
        "    color='blue')\n",
        "axs[0].grid(True)\n",
        "axs[0].set_xlabel('Sales', fontsize=10)\n",
        "axs[0].set_ylabel('Critic scores', fontsize=10)\n",
        "\n",
        "\n",
        "\n",
        "axs[1].scatter(\n",
        "    actual_table.query('platform in @profit_platforms')['total_sales'],\n",
        "    actual_table.query('platform in @profit_platforms')['user_score'],\n",
        "    color='green')\n",
        "axs[1].grid(True)\n",
        "axs[1].set_xlabel('Sales', fontsize=11)\n",
        "axs[1].set_ylabel('User scores', fontsize=11)\n",
        "\n",
        "plt.show()"
      ]
    },
    {
      "cell_type": "code",
      "execution_count": null,
      "metadata": {
        "id": "uyypaQmm85Ak",
        "outputId": "54fa2dce-e660-4a7c-fbee-1837d3057147"
      },
      "outputs": [
        {
          "data": {
            "text/html": [
              "<div>\n",
              "<style scoped>\n",
              "    .dataframe tbody tr th:only-of-type {\n",
              "        vertical-align: middle;\n",
              "    }\n",
              "\n",
              "    .dataframe tbody tr th {\n",
              "        vertical-align: top;\n",
              "    }\n",
              "\n",
              "    .dataframe thead th {\n",
              "        text-align: right;\n",
              "    }\n",
              "</style>\n",
              "<table border=\"1\" class=\"dataframe\">\n",
              "  <thead>\n",
              "    <tr style=\"text-align: right;\">\n",
              "      <th></th>\n",
              "      <th>user_score</th>\n",
              "      <th>critic_score</th>\n",
              "      <th>total_sales</th>\n",
              "    </tr>\n",
              "  </thead>\n",
              "  <tbody>\n",
              "    <tr>\n",
              "      <td>user_score</td>\n",
              "      <td>1.000000</td>\n",
              "      <td>0.521915</td>\n",
              "      <td>0.105671</td>\n",
              "    </tr>\n",
              "    <tr>\n",
              "      <td>critic_score</td>\n",
              "      <td>0.521915</td>\n",
              "      <td>1.000000</td>\n",
              "      <td>0.360374</td>\n",
              "    </tr>\n",
              "    <tr>\n",
              "      <td>total_sales</td>\n",
              "      <td>0.105671</td>\n",
              "      <td>0.360374</td>\n",
              "      <td>1.000000</td>\n",
              "    </tr>\n",
              "  </tbody>\n",
              "</table>\n",
              "</div>"
            ],
            "text/plain": [
              "              user_score  critic_score  total_sales\n",
              "user_score      1.000000      0.521915     0.105671\n",
              "critic_score    0.521915      1.000000     0.360374\n",
              "total_sales     0.105671      0.360374     1.000000"
            ]
          },
          "execution_count": 45,
          "metadata": {},
          "output_type": "execute_result"
        }
      ],
      "source": [
        "actual_table.query('platform in @profit_platforms')[['user_score', 'critic_score', 'total_sales']].corr()"
      ]
    },
    {
      "cell_type": "markdown",
      "metadata": {
        "id": "x0G8QWkqfmrW"
      },
      "source": [
        "**Вывод**\n",
        "\n",
        "Из пяти выбранных платформ мы видим примерно одинаковую корреляцию между продажей и оценкой критиков."
      ]
    },
    {
      "cell_type": "code",
      "execution_count": null,
      "metadata": {
        "id": "52Eu43-m85Al",
        "outputId": "e4a16978-4492-4555-de14-fcd5dd3eae82"
      },
      "outputs": [
        {
          "data": {
            "image/png": "[encoded data removed]",
            "text/plain": [
              "<Figure size 1008x432 with 2 Axes>"
            ]
          },
          "metadata": {
            "needs_background": "light"
          },
          "output_type": "display_data"
        }
      ],
      "source": [
        "sum_count_genres = df.pivot_table(index='genre', values='total_sales', aggfunc=['sum', 'count'])\n",
        "sum_count_genres.columns = ['sales', 'count_games']\n",
        "sum_count_genres = sum_count_genres.sort_values(by='sales', ascending=False)\n",
        "\n",
        "fig, ax1 = plt.subplots()\n",
        "fig.set_size_inches([14,6])\n",
        "\n",
        "# Plot first\n",
        "ax1.set_title('Sales by platform', fontsize=18)\n",
        "ax1.set_xlabel('Gengre', fontsize=14)\n",
        "ax1.set_ylabel('Sales (Million$)', fontsize=14)\n",
        "ax1.bar(sum_count_genres.index, sum_count_genres['sales'], width=0.8, color='blue')\n",
        "\n",
        "# Plot second\n",
        "ax2 = ax1.twinx()\n",
        "ax2.set_ylabel('Count of games', color='r', fontsize=14)\n",
        "ax2.plot(sum_count_genres.index, sum_count_genres['count_games'], color='red')\n",
        "ax2.tick_params(axis='y', labelcolor='r')\n",
        "\n",
        "\n",
        "plt.show()"
      ]
    },
    {
      "cell_type": "markdown",
      "metadata": {
        "id": "vfUSW7Mq85Am"
      },
      "source": [
        "Cредние продажи на одну игру из жанра:"
      ]
    },
    {
      "cell_type": "code",
      "execution_count": null,
      "metadata": {
        "id": "2N-qEGw-85Am",
        "outputId": "f9931c0c-d00f-4a40-887f-75138fd930e0"
      },
      "outputs": [
        {
          "data": {
            "text/plain": [
              "genre\n",
              "Platform        0.932173\n",
              "Shooter         0.795503\n",
              "Role-Playing    0.623872\n",
              "Racing          0.583403\n",
              "Sports          0.566980\n",
              "Fighting        0.527126\n",
              "Action          0.517711\n",
              "Misc            0.458577\n",
              "Simulation      0.446701\n",
              "Puzzle          0.418224\n",
              "Strategy        0.255095\n",
              "Adventure       0.182341\n",
              "dtype: float64"
            ]
          },
          "execution_count": 47,
          "metadata": {},
          "output_type": "execute_result"
        }
      ],
      "source": [
        "(sum_count_genres['sales'] / sum_count_genres['count_games']).sort_values(ascending=False)"
      ]
    },
    {
      "cell_type": "code",
      "execution_count": null,
      "metadata": {
        "id": "ret-8nQb85Am",
        "outputId": "0dcef8a4-9beb-490f-90d8-3e584f09ce03"
      },
      "outputs": [
        {
          "data": {
            "text/plain": [
              "genre\n",
              "Shooter         1.245882\n",
              "Sports          0.720817\n",
              "Platform        0.582500\n",
              "Role-Playing    0.508281\n",
              "Racing          0.469294\n",
              "Fighting        0.446709\n",
              "Misc            0.428562\n",
              "Action          0.426210\n",
              "Simulation      0.353279\n",
              "Puzzle          0.186471\n",
              "Strategy        0.182909\n",
              "Adventure       0.108531\n",
              "Name: total_sales, dtype: float64"
            ]
          },
          "execution_count": 48,
          "metadata": {},
          "output_type": "execute_result"
        }
      ],
      "source": [
        "actual_table.groupby('genre')['total_sales'].mean().sort_values(ascending=False)"
      ]
    },
    {
      "cell_type": "markdown",
      "metadata": {
        "id": "0V7sVK1f85An"
      },
      "source": [
        "**Вывод**\n",
        "\n",
        "**Самые прибыльные жанры:**\n",
        "\n",
        "Sports\n",
        "\n",
        "Shooter \n",
        "\n",
        "Role-Playing\n",
        "\n",
        "Misc\n",
        "\n",
        "**Игры с низкими продажами:**\n",
        "\n",
        "Strategy \n",
        "\n",
        "Adventure \n",
        "\n",
        "Puzzle"
      ]
    },
    {
      "cell_type": "markdown",
      "metadata": {
        "id": "bTWO_lZAh-8J"
      },
      "source": [
        "# Портрет пользователя каждого региона"
      ]
    },
    {
      "cell_type": "code",
      "execution_count": null,
      "metadata": {
        "id": "Wau5DM1ViIqe"
      },
      "outputs": [],
      "source": [
        "region_list = ['na_sales', 'eu_sales', 'jp_sales']"
      ]
    },
    {
      "cell_type": "code",
      "execution_count": null,
      "metadata": {
        "colab": {
          "base_uri": "https://localhost:8080/",
          "height": 235
        },
        "id": "1BsYQRaSiJAd",
        "outputId": "ca2017e1-d4ed-4935-c65a-18a67035beaa"
      },
      "outputs": [
        {
          "data": {
            "text/html": [
              "<div>\n",
              "<style scoped>\n",
              "    .dataframe tbody tr th:only-of-type {\n",
              "        vertical-align: middle;\n",
              "    }\n",
              "\n",
              "    .dataframe tbody tr th {\n",
              "        vertical-align: top;\n",
              "    }\n",
              "\n",
              "    .dataframe thead th {\n",
              "        text-align: right;\n",
              "    }\n",
              "</style>\n",
              "<table border=\"1\" class=\"dataframe\">\n",
              "  <thead>\n",
              "    <tr style=\"text-align: right;\">\n",
              "      <th></th>\n",
              "      <th>na_sales</th>\n",
              "      <th>%</th>\n",
              "    </tr>\n",
              "    <tr>\n",
              "      <th>platform</th>\n",
              "      <th></th>\n",
              "      <th></th>\n",
              "    </tr>\n",
              "  </thead>\n",
              "  <tbody>\n",
              "    <tr>\n",
              "      <td>PS4</td>\n",
              "      <td>108.74</td>\n",
              "      <td>24.875326</td>\n",
              "    </tr>\n",
              "    <tr>\n",
              "      <td>XOne</td>\n",
              "      <td>93.12</td>\n",
              "      <td>21.302100</td>\n",
              "    </tr>\n",
              "    <tr>\n",
              "      <td>X360</td>\n",
              "      <td>81.66</td>\n",
              "      <td>18.680514</td>\n",
              "    </tr>\n",
              "    <tr>\n",
              "      <td>PS3</td>\n",
              "      <td>63.50</td>\n",
              "      <td>14.526239</td>\n",
              "    </tr>\n",
              "    <tr>\n",
              "      <td>3DS</td>\n",
              "      <td>38.20</td>\n",
              "      <td>8.738619</td>\n",
              "    </tr>\n",
              "    <tr>\n",
              "      <td>WiiU</td>\n",
              "      <td>29.21</td>\n",
              "      <td>6.682070</td>\n",
              "    </tr>\n",
              "    <tr>\n",
              "      <td>PC</td>\n",
              "      <td>11.11</td>\n",
              "      <td>2.541520</td>\n",
              "    </tr>\n",
              "    <tr>\n",
              "      <td>Wii</td>\n",
              "      <td>6.56</td>\n",
              "      <td>1.500663</td>\n",
              "    </tr>\n",
              "    <tr>\n",
              "      <td>PSV</td>\n",
              "      <td>5.04</td>\n",
              "      <td>1.152949</td>\n",
              "    </tr>\n",
              "  </tbody>\n",
              "</table>\n",
              "</div>"
            ],
            "text/plain": [
              "          na_sales          %\n",
              "platform                     \n",
              "PS4         108.74  24.875326\n",
              "XOne         93.12  21.302100\n",
              "X360         81.66  18.680514\n",
              "PS3          63.50  14.526239\n",
              "3DS          38.20   8.738619\n",
              "WiiU         29.21   6.682070\n",
              "PC           11.11   2.541520\n",
              "Wii           6.56   1.500663\n",
              "PSV           5.04   1.152949"
            ]
          },
          "execution_count": 50,
          "metadata": {},
          "output_type": "execute_result"
        }
      ],
      "source": [
        "na_platforms = actual_table.pivot_table(index = 'platform', values = 'na_sales', aggfunc = 'sum').sort_values('na_sales', ascending = False)\n",
        "na_platforms['%'] = na_platforms['na_sales'] / na_platforms['na_sales'].sum() * 100\n",
        "na_platforms"
      ]
    },
    {
      "cell_type": "code",
      "execution_count": null,
      "metadata": {
        "colab": {
          "base_uri": "https://localhost:8080/",
          "height": 235
        },
        "id": "74LmElNYiJHP",
        "outputId": "24bc8a5f-bcb3-44c6-c3a4-1fedcefe6e2f"
      },
      "outputs": [
        {
          "data": {
            "text/html": [
              "<div>\n",
              "<style scoped>\n",
              "    .dataframe tbody tr th:only-of-type {\n",
              "        vertical-align: middle;\n",
              "    }\n",
              "\n",
              "    .dataframe tbody tr th {\n",
              "        vertical-align: top;\n",
              "    }\n",
              "\n",
              "    .dataframe thead th {\n",
              "        text-align: right;\n",
              "    }\n",
              "</style>\n",
              "<table border=\"1\" class=\"dataframe\">\n",
              "  <thead>\n",
              "    <tr style=\"text-align: right;\">\n",
              "      <th></th>\n",
              "      <th>eu_sales</th>\n",
              "      <th>%</th>\n",
              "    </tr>\n",
              "    <tr>\n",
              "      <th>platform</th>\n",
              "      <th></th>\n",
              "      <th></th>\n",
              "    </tr>\n",
              "  </thead>\n",
              "  <tbody>\n",
              "    <tr>\n",
              "      <td>PS4</td>\n",
              "      <td>141.09</td>\n",
              "      <td>36.065029</td>\n",
              "    </tr>\n",
              "    <tr>\n",
              "      <td>PS3</td>\n",
              "      <td>67.81</td>\n",
              "      <td>17.333401</td>\n",
              "    </tr>\n",
              "    <tr>\n",
              "      <td>XOne</td>\n",
              "      <td>51.59</td>\n",
              "      <td>13.187291</td>\n",
              "    </tr>\n",
              "    <tr>\n",
              "      <td>X360</td>\n",
              "      <td>42.52</td>\n",
              "      <td>10.868843</td>\n",
              "    </tr>\n",
              "    <tr>\n",
              "      <td>3DS</td>\n",
              "      <td>30.96</td>\n",
              "      <td>7.913908</td>\n",
              "    </tr>\n",
              "    <tr>\n",
              "      <td>PC</td>\n",
              "      <td>25.36</td>\n",
              "      <td>6.482452</td>\n",
              "    </tr>\n",
              "    <tr>\n",
              "      <td>WiiU</td>\n",
              "      <td>19.85</td>\n",
              "      <td>5.074001</td>\n",
              "    </tr>\n",
              "    <tr>\n",
              "      <td>PSV</td>\n",
              "      <td>6.10</td>\n",
              "      <td>1.559265</td>\n",
              "    </tr>\n",
              "    <tr>\n",
              "      <td>Wii</td>\n",
              "      <td>5.93</td>\n",
              "      <td>1.515810</td>\n",
              "    </tr>\n",
              "  </tbody>\n",
              "</table>\n",
              "</div>"
            ],
            "text/plain": [
              "          eu_sales          %\n",
              "platform                     \n",
              "PS4         141.09  36.065029\n",
              "PS3          67.81  17.333401\n",
              "XOne         51.59  13.187291\n",
              "X360         42.52  10.868843\n",
              "3DS          30.96   7.913908\n",
              "PC           25.36   6.482452\n",
              "WiiU         19.85   5.074001\n",
              "PSV           6.10   1.559265\n",
              "Wii           5.93   1.515810"
            ]
          },
          "execution_count": 51,
          "metadata": {},
          "output_type": "execute_result"
        }
      ],
      "source": [
        "eu_platforms = actual_table.pivot_table(index = 'platform', values = 'eu_sales', aggfunc = 'sum').sort_values('eu_sales', ascending = False)\n",
        "eu_platforms['%'] = eu_platforms['eu_sales'] / eu_platforms['eu_sales'].sum() * 100\n",
        "eu_platforms"
      ]
    },
    {
      "cell_type": "code",
      "execution_count": null,
      "metadata": {
        "colab": {
          "base_uri": "https://localhost:8080/",
          "height": 235
        },
        "id": "V7UZ0zMTjGWr",
        "outputId": "497f93d2-aef9-45ae-915f-eb56b2971234"
      },
      "outputs": [
        {
          "data": {
            "text/html": [
              "<div>\n",
              "<style scoped>\n",
              "    .dataframe tbody tr th:only-of-type {\n",
              "        vertical-align: middle;\n",
              "    }\n",
              "\n",
              "    .dataframe tbody tr th {\n",
              "        vertical-align: top;\n",
              "    }\n",
              "\n",
              "    .dataframe thead th {\n",
              "        text-align: right;\n",
              "    }\n",
              "</style>\n",
              "<table border=\"1\" class=\"dataframe\">\n",
              "  <thead>\n",
              "    <tr style=\"text-align: right;\">\n",
              "      <th></th>\n",
              "      <th>jp_sales</th>\n",
              "      <th>%</th>\n",
              "    </tr>\n",
              "    <tr>\n",
              "      <th>platform</th>\n",
              "      <th></th>\n",
              "      <th></th>\n",
              "    </tr>\n",
              "  </thead>\n",
              "  <tbody>\n",
              "    <tr>\n",
              "      <td>3DS</td>\n",
              "      <td>67.81</td>\n",
              "      <td>49.319951</td>\n",
              "    </tr>\n",
              "    <tr>\n",
              "      <td>PS3</td>\n",
              "      <td>23.35</td>\n",
              "      <td>16.983053</td>\n",
              "    </tr>\n",
              "    <tr>\n",
              "      <td>PSV</td>\n",
              "      <td>18.59</td>\n",
              "      <td>13.520983</td>\n",
              "    </tr>\n",
              "    <tr>\n",
              "      <td>PS4</td>\n",
              "      <td>15.96</td>\n",
              "      <td>11.608117</td>\n",
              "    </tr>\n",
              "    <tr>\n",
              "      <td>WiiU</td>\n",
              "      <td>10.88</td>\n",
              "      <td>7.913303</td>\n",
              "    </tr>\n",
              "    <tr>\n",
              "      <td>X360</td>\n",
              "      <td>0.51</td>\n",
              "      <td>0.370936</td>\n",
              "    </tr>\n",
              "    <tr>\n",
              "      <td>XOne</td>\n",
              "      <td>0.34</td>\n",
              "      <td>0.247291</td>\n",
              "    </tr>\n",
              "    <tr>\n",
              "      <td>Wii</td>\n",
              "      <td>0.05</td>\n",
              "      <td>0.036366</td>\n",
              "    </tr>\n",
              "    <tr>\n",
              "      <td>PC</td>\n",
              "      <td>0.00</td>\n",
              "      <td>0.000000</td>\n",
              "    </tr>\n",
              "  </tbody>\n",
              "</table>\n",
              "</div>"
            ],
            "text/plain": [
              "          jp_sales          %\n",
              "platform                     \n",
              "3DS          67.81  49.319951\n",
              "PS3          23.35  16.983053\n",
              "PSV          18.59  13.520983\n",
              "PS4          15.96  11.608117\n",
              "WiiU         10.88   7.913303\n",
              "X360          0.51   0.370936\n",
              "XOne          0.34   0.247291\n",
              "Wii           0.05   0.036366\n",
              "PC            0.00   0.000000"
            ]
          },
          "execution_count": 52,
          "metadata": {},
          "output_type": "execute_result"
        }
      ],
      "source": [
        "jp_platforms = actual_table.pivot_table(index = 'platform', values = 'jp_sales', aggfunc = 'sum').sort_values('jp_sales', ascending = False)\n",
        "jp_platforms['%'] = jp_platforms['jp_sales'] / jp_platforms['jp_sales'].sum() * 100\n",
        "jp_platforms"
      ]
    },
    {
      "cell_type": "markdown",
      "metadata": {
        "id": "kzl0-AATjqBp"
      },
      "source": [
        "Вывод:\n",
        "В США топ-5: \n",
        "\n",
        "PS4\t\n",
        "XOne\t\n",
        "X360\t\n",
        "PS3\t\n",
        "3DS\n",
        "\n",
        "В Европе все те же, но немного в другом порядке:\n",
        "\n",
        "PS4\t\n",
        "PS3\t\n",
        "XOne\t\n",
        "X360\t\n",
        "3DS\n",
        "\n",
        "В Японии:\n",
        "\n",
        "3DS\t\n",
        "PS3\t\n",
        "PSV\t\n",
        "PS4\t\n",
        "WiiU\n",
        "\n",
        "Популярные платформы в Японии отличаются от Европы и США."
      ]
    },
    {
      "cell_type": "markdown",
      "metadata": {
        "id": "2ji2o6fvkX5T"
      },
      "source": [
        "Найдем самые популярные жанры в регионах."
      ]
    },
    {
      "cell_type": "code",
      "execution_count": null,
      "metadata": {
        "colab": {
          "base_uri": "https://localhost:8080/",
          "height": 452
        },
        "id": "L8xS-xXfkUmv",
        "outputId": "1c0a44e6-3fb7-46f6-d27e-52a5fcbb6c2c"
      },
      "outputs": [
        {
          "data": {
            "text/html": [
              "<div>\n",
              "<style scoped>\n",
              "    .dataframe tbody tr th:only-of-type {\n",
              "        vertical-align: middle;\n",
              "    }\n",
              "\n",
              "    .dataframe tbody tr th {\n",
              "        vertical-align: top;\n",
              "    }\n",
              "\n",
              "    .dataframe thead th {\n",
              "        text-align: right;\n",
              "    }\n",
              "</style>\n",
              "<table border=\"1\" class=\"dataframe\">\n",
              "  <thead>\n",
              "    <tr style=\"text-align: right;\">\n",
              "      <th></th>\n",
              "      <th>na_sales</th>\n",
              "    </tr>\n",
              "    <tr>\n",
              "      <th>genre</th>\n",
              "      <th></th>\n",
              "    </tr>\n",
              "  </thead>\n",
              "  <tbody>\n",
              "    <tr>\n",
              "      <td>Action</td>\n",
              "      <td>126.05</td>\n",
              "    </tr>\n",
              "    <tr>\n",
              "      <td>Shooter</td>\n",
              "      <td>109.74</td>\n",
              "    </tr>\n",
              "    <tr>\n",
              "      <td>Sports</td>\n",
              "      <td>65.27</td>\n",
              "    </tr>\n",
              "    <tr>\n",
              "      <td>Role-Playing</td>\n",
              "      <td>46.40</td>\n",
              "    </tr>\n",
              "    <tr>\n",
              "      <td>Misc</td>\n",
              "      <td>27.49</td>\n",
              "    </tr>\n",
              "    <tr>\n",
              "      <td>Platform</td>\n",
              "      <td>18.14</td>\n",
              "    </tr>\n",
              "    <tr>\n",
              "      <td>Fighting</td>\n",
              "      <td>15.55</td>\n",
              "    </tr>\n",
              "    <tr>\n",
              "      <td>Racing</td>\n",
              "      <td>12.96</td>\n",
              "    </tr>\n",
              "    <tr>\n",
              "      <td>Adventure</td>\n",
              "      <td>7.14</td>\n",
              "    </tr>\n",
              "    <tr>\n",
              "      <td>Simulation</td>\n",
              "      <td>4.86</td>\n",
              "    </tr>\n",
              "    <tr>\n",
              "      <td>Strategy</td>\n",
              "      <td>3.28</td>\n",
              "    </tr>\n",
              "    <tr>\n",
              "      <td>Puzzle</td>\n",
              "      <td>0.83</td>\n",
              "    </tr>\n",
              "  </tbody>\n",
              "</table>\n",
              "</div>"
            ],
            "text/plain": [
              "              na_sales\n",
              "genre                 \n",
              "Action          126.05\n",
              "Shooter         109.74\n",
              "Sports           65.27\n",
              "Role-Playing     46.40\n",
              "Misc             27.49\n",
              "Platform         18.14\n",
              "Fighting         15.55\n",
              "Racing           12.96\n",
              "Adventure         7.14\n",
              "Simulation        4.86\n",
              "Strategy          3.28\n",
              "Puzzle            0.83"
            ]
          },
          "execution_count": 53,
          "metadata": {},
          "output_type": "execute_result"
        }
      ],
      "source": [
        "na_genre_pivot_table = pd.pivot_table(actual_data_games_sales, index='genre', values='na_sales',\n",
        "                                        aggfunc='sum').sort_values('na_sales', ascending=False)\n",
        "na_genre_pivot_table"
      ]
    },
    {
      "cell_type": "code",
      "execution_count": null,
      "metadata": {
        "colab": {
          "base_uri": "https://localhost:8080/",
          "height": 452
        },
        "id": "1OWgNjyukUr9",
        "outputId": "9710b214-e84d-4413-c2b5-23d72522bbb1"
      },
      "outputs": [
        {
          "data": {
            "text/html": [
              "<div>\n",
              "<style scoped>\n",
              "    .dataframe tbody tr th:only-of-type {\n",
              "        vertical-align: middle;\n",
              "    }\n",
              "\n",
              "    .dataframe tbody tr th {\n",
              "        vertical-align: top;\n",
              "    }\n",
              "\n",
              "    .dataframe thead th {\n",
              "        text-align: right;\n",
              "    }\n",
              "</style>\n",
              "<table border=\"1\" class=\"dataframe\">\n",
              "  <thead>\n",
              "    <tr style=\"text-align: right;\">\n",
              "      <th></th>\n",
              "      <th>eu_sales</th>\n",
              "    </tr>\n",
              "    <tr>\n",
              "      <th>genre</th>\n",
              "      <th></th>\n",
              "    </tr>\n",
              "  </thead>\n",
              "  <tbody>\n",
              "    <tr>\n",
              "      <td>Action</td>\n",
              "      <td>118.13</td>\n",
              "    </tr>\n",
              "    <tr>\n",
              "      <td>Shooter</td>\n",
              "      <td>87.86</td>\n",
              "    </tr>\n",
              "    <tr>\n",
              "      <td>Sports</td>\n",
              "      <td>60.52</td>\n",
              "    </tr>\n",
              "    <tr>\n",
              "      <td>Role-Playing</td>\n",
              "      <td>36.97</td>\n",
              "    </tr>\n",
              "    <tr>\n",
              "      <td>Racing</td>\n",
              "      <td>20.19</td>\n",
              "    </tr>\n",
              "    <tr>\n",
              "      <td>Misc</td>\n",
              "      <td>20.04</td>\n",
              "    </tr>\n",
              "    <tr>\n",
              "      <td>Platform</td>\n",
              "      <td>15.58</td>\n",
              "    </tr>\n",
              "    <tr>\n",
              "      <td>Simulation</td>\n",
              "      <td>10.92</td>\n",
              "    </tr>\n",
              "    <tr>\n",
              "      <td>Fighting</td>\n",
              "      <td>8.55</td>\n",
              "    </tr>\n",
              "    <tr>\n",
              "      <td>Adventure</td>\n",
              "      <td>8.25</td>\n",
              "    </tr>\n",
              "    <tr>\n",
              "      <td>Strategy</td>\n",
              "      <td>4.22</td>\n",
              "    </tr>\n",
              "    <tr>\n",
              "      <td>Puzzle</td>\n",
              "      <td>1.00</td>\n",
              "    </tr>\n",
              "  </tbody>\n",
              "</table>\n",
              "</div>"
            ],
            "text/plain": [
              "              eu_sales\n",
              "genre                 \n",
              "Action          118.13\n",
              "Shooter          87.86\n",
              "Sports           60.52\n",
              "Role-Playing     36.97\n",
              "Racing           20.19\n",
              "Misc             20.04\n",
              "Platform         15.58\n",
              "Simulation       10.92\n",
              "Fighting          8.55\n",
              "Adventure         8.25\n",
              "Strategy          4.22\n",
              "Puzzle            1.00"
            ]
          },
          "execution_count": 54,
          "metadata": {},
          "output_type": "execute_result"
        }
      ],
      "source": [
        "eu_genre_pivot_table = pd.pivot_table(actual_data_games_sales, index='genre', values='eu_sales',\n",
        "                                        aggfunc='sum').sort_values('eu_sales', ascending=False)\n",
        "eu_genre_pivot_table"
      ]
    },
    {
      "cell_type": "code",
      "execution_count": null,
      "metadata": {
        "colab": {
          "base_uri": "https://localhost:8080/",
          "height": 452
        },
        "id": "x0G6c8XDkUy7",
        "outputId": "411ca590-1fd6-4374-bfde-95d90abad8ca"
      },
      "outputs": [
        {
          "data": {
            "text/html": [
              "<div>\n",
              "<style scoped>\n",
              "    .dataframe tbody tr th:only-of-type {\n",
              "        vertical-align: middle;\n",
              "    }\n",
              "\n",
              "    .dataframe tbody tr th {\n",
              "        vertical-align: top;\n",
              "    }\n",
              "\n",
              "    .dataframe thead th {\n",
              "        text-align: right;\n",
              "    }\n",
              "</style>\n",
              "<table border=\"1\" class=\"dataframe\">\n",
              "  <thead>\n",
              "    <tr style=\"text-align: right;\">\n",
              "      <th></th>\n",
              "      <th>jp_sales</th>\n",
              "    </tr>\n",
              "    <tr>\n",
              "      <th>genre</th>\n",
              "      <th></th>\n",
              "    </tr>\n",
              "  </thead>\n",
              "  <tbody>\n",
              "    <tr>\n",
              "      <td>Role-Playing</td>\n",
              "      <td>51.04</td>\n",
              "    </tr>\n",
              "    <tr>\n",
              "      <td>Action</td>\n",
              "      <td>40.49</td>\n",
              "    </tr>\n",
              "    <tr>\n",
              "      <td>Misc</td>\n",
              "      <td>9.20</td>\n",
              "    </tr>\n",
              "    <tr>\n",
              "      <td>Fighting</td>\n",
              "      <td>7.65</td>\n",
              "    </tr>\n",
              "    <tr>\n",
              "      <td>Shooter</td>\n",
              "      <td>6.61</td>\n",
              "    </tr>\n",
              "    <tr>\n",
              "      <td>Adventure</td>\n",
              "      <td>5.82</td>\n",
              "    </tr>\n",
              "    <tr>\n",
              "      <td>Sports</td>\n",
              "      <td>5.41</td>\n",
              "    </tr>\n",
              "    <tr>\n",
              "      <td>Platform</td>\n",
              "      <td>4.79</td>\n",
              "    </tr>\n",
              "    <tr>\n",
              "      <td>Simulation</td>\n",
              "      <td>4.52</td>\n",
              "    </tr>\n",
              "    <tr>\n",
              "      <td>Racing</td>\n",
              "      <td>2.30</td>\n",
              "    </tr>\n",
              "    <tr>\n",
              "      <td>Strategy</td>\n",
              "      <td>1.77</td>\n",
              "    </tr>\n",
              "    <tr>\n",
              "      <td>Puzzle</td>\n",
              "      <td>1.18</td>\n",
              "    </tr>\n",
              "  </tbody>\n",
              "</table>\n",
              "</div>"
            ],
            "text/plain": [
              "              jp_sales\n",
              "genre                 \n",
              "Role-Playing     51.04\n",
              "Action           40.49\n",
              "Misc              9.20\n",
              "Fighting          7.65\n",
              "Shooter           6.61\n",
              "Adventure         5.82\n",
              "Sports            5.41\n",
              "Platform          4.79\n",
              "Simulation        4.52\n",
              "Racing            2.30\n",
              "Strategy          1.77\n",
              "Puzzle            1.18"
            ]
          },
          "execution_count": 55,
          "metadata": {},
          "output_type": "execute_result"
        }
      ],
      "source": [
        "jp_genre_pivot_table = pd.pivot_table(actual_data_games_sales, index='genre', values='jp_sales',\n",
        "                                        aggfunc='sum').sort_values('jp_sales', ascending=False)\n",
        "jp_genre_pivot_table"
      ]
    },
    {
      "cell_type": "markdown",
      "metadata": {
        "id": "aS5OcT5ZlypR"
      },
      "source": [
        "Топ-5 жанров:\n",
        "\n",
        "США:\n",
        "\n",
        "Action\t\n",
        "Shooter\t\n",
        "Sports\n",
        "Role-Playing\t\n",
        "Misc\n",
        "\n",
        "Европа:\n",
        "\n",
        "Action\t\n",
        "Shooter\t\n",
        "Sports\t\n",
        "Role-Playing\n",
        "Racing\n",
        "\n",
        "Япония:\n",
        "\n",
        "Role-Playing\t\n",
        "Action\t\n",
        "Misc\n",
        "Fighting\t\n",
        "Shooter\n",
        "\n",
        "Снова Япония отличается от США и Европы. Возможно это связано с большим отличием культуры и менталитета."
      ]
    },
    {
      "cell_type": "markdown",
      "metadata": {
        "id": "wAjSVmRinJX7"
      },
      "source": [
        "Выясним влияние рейтинга ESRB на продажи в отдельном регионе"
      ]
    },
    {
      "cell_type": "code",
      "execution_count": null,
      "metadata": {
        "colab": {
          "base_uri": "https://localhost:8080/",
          "height": 235
        },
        "id": "HcymZJabkU4P",
        "outputId": "d641f78d-78bf-4930-c2dd-86de5a6f5354"
      },
      "outputs": [
        {
          "data": {
            "text/html": [
              "<div>\n",
              "<style scoped>\n",
              "    .dataframe tbody tr th:only-of-type {\n",
              "        vertical-align: middle;\n",
              "    }\n",
              "\n",
              "    .dataframe tbody tr th {\n",
              "        vertical-align: top;\n",
              "    }\n",
              "\n",
              "    .dataframe thead th {\n",
              "        text-align: right;\n",
              "    }\n",
              "</style>\n",
              "<table border=\"1\" class=\"dataframe\">\n",
              "  <thead>\n",
              "    <tr style=\"text-align: right;\">\n",
              "      <th></th>\n",
              "      <th>na_sales</th>\n",
              "    </tr>\n",
              "    <tr>\n",
              "      <th>rating</th>\n",
              "      <th></th>\n",
              "    </tr>\n",
              "  </thead>\n",
              "  <tbody>\n",
              "    <tr>\n",
              "      <td>M</td>\n",
              "      <td>165.21</td>\n",
              "    </tr>\n",
              "    <tr>\n",
              "      <td>E</td>\n",
              "      <td>79.05</td>\n",
              "    </tr>\n",
              "    <tr>\n",
              "      <td>E10+</td>\n",
              "      <td>54.24</td>\n",
              "    </tr>\n",
              "    <tr>\n",
              "      <td>T</td>\n",
              "      <td>49.79</td>\n",
              "    </tr>\n",
              "  </tbody>\n",
              "</table>\n",
              "</div>"
            ],
            "text/plain": [
              "        na_sales\n",
              "rating          \n",
              "M         165.21\n",
              "E          79.05\n",
              "E10+       54.24\n",
              "T          49.79"
            ]
          },
          "execution_count": 56,
          "metadata": {},
          "output_type": "execute_result"
        }
      ],
      "source": [
        "na_rating_pivot_table = pd.pivot_table(actual_data_games_sales, index='rating', values='na_sales',\n",
        "                                        aggfunc='sum').sort_values('na_sales', ascending=False)\n",
        "na_rating_pivot_table"
      ]
    },
    {
      "cell_type": "code",
      "execution_count": null,
      "metadata": {
        "colab": {
          "base_uri": "https://localhost:8080/",
          "height": 235
        },
        "id": "UQYieGaPnQGY",
        "outputId": "363e292b-db33-4e08-fbd9-f48d7409fcd4"
      },
      "outputs": [
        {
          "data": {
            "text/html": [
              "<div>\n",
              "<style scoped>\n",
              "    .dataframe tbody tr th:only-of-type {\n",
              "        vertical-align: middle;\n",
              "    }\n",
              "\n",
              "    .dataframe tbody tr th {\n",
              "        vertical-align: top;\n",
              "    }\n",
              "\n",
              "    .dataframe thead th {\n",
              "        text-align: right;\n",
              "    }\n",
              "</style>\n",
              "<table border=\"1\" class=\"dataframe\">\n",
              "  <thead>\n",
              "    <tr style=\"text-align: right;\">\n",
              "      <th></th>\n",
              "      <th>eu_sales</th>\n",
              "    </tr>\n",
              "    <tr>\n",
              "      <th>rating</th>\n",
              "      <th></th>\n",
              "    </tr>\n",
              "  </thead>\n",
              "  <tbody>\n",
              "    <tr>\n",
              "      <td>M</td>\n",
              "      <td>145.32</td>\n",
              "    </tr>\n",
              "    <tr>\n",
              "      <td>E</td>\n",
              "      <td>83.36</td>\n",
              "    </tr>\n",
              "    <tr>\n",
              "      <td>E10+</td>\n",
              "      <td>42.69</td>\n",
              "    </tr>\n",
              "    <tr>\n",
              "      <td>T</td>\n",
              "      <td>41.95</td>\n",
              "    </tr>\n",
              "  </tbody>\n",
              "</table>\n",
              "</div>"
            ],
            "text/plain": [
              "        eu_sales\n",
              "rating          \n",
              "M         145.32\n",
              "E          83.36\n",
              "E10+       42.69\n",
              "T          41.95"
            ]
          },
          "execution_count": 57,
          "metadata": {},
          "output_type": "execute_result"
        }
      ],
      "source": [
        "eu_rating_pivot_table = pd.pivot_table(actual_data_games_sales, index='rating', values='eu_sales',\n",
        "                                        aggfunc='sum').sort_values('eu_sales', ascending=False)\n",
        "eu_rating_pivot_table"
      ]
    },
    {
      "cell_type": "code",
      "execution_count": null,
      "metadata": {
        "colab": {
          "base_uri": "https://localhost:8080/",
          "height": 235
        },
        "id": "_uBmrECEnQMm",
        "outputId": "b6616c23-36d4-4c7e-9b8e-d0cadd2f20fa"
      },
      "outputs": [
        {
          "data": {
            "text/html": [
              "<div>\n",
              "<style scoped>\n",
              "    .dataframe tbody tr th:only-of-type {\n",
              "        vertical-align: middle;\n",
              "    }\n",
              "\n",
              "    .dataframe tbody tr th {\n",
              "        vertical-align: top;\n",
              "    }\n",
              "\n",
              "    .dataframe thead th {\n",
              "        text-align: right;\n",
              "    }\n",
              "</style>\n",
              "<table border=\"1\" class=\"dataframe\">\n",
              "  <thead>\n",
              "    <tr style=\"text-align: right;\">\n",
              "      <th></th>\n",
              "      <th>jp_sales</th>\n",
              "    </tr>\n",
              "    <tr>\n",
              "      <th>rating</th>\n",
              "      <th></th>\n",
              "    </tr>\n",
              "  </thead>\n",
              "  <tbody>\n",
              "    <tr>\n",
              "      <td>T</td>\n",
              "      <td>20.59</td>\n",
              "    </tr>\n",
              "    <tr>\n",
              "      <td>E</td>\n",
              "      <td>15.14</td>\n",
              "    </tr>\n",
              "    <tr>\n",
              "      <td>M</td>\n",
              "      <td>14.11</td>\n",
              "    </tr>\n",
              "    <tr>\n",
              "      <td>E10+</td>\n",
              "      <td>5.89</td>\n",
              "    </tr>\n",
              "  </tbody>\n",
              "</table>\n",
              "</div>"
            ],
            "text/plain": [
              "        jp_sales\n",
              "rating          \n",
              "T          20.59\n",
              "E          15.14\n",
              "M          14.11\n",
              "E10+        5.89"
            ]
          },
          "execution_count": 58,
          "metadata": {},
          "output_type": "execute_result"
        }
      ],
      "source": [
        "jp_rating_pivot_table = pd.pivot_table(actual_data_games_sales, index='rating', values='jp_sales',\n",
        "                                        aggfunc='sum').sort_values('jp_sales', ascending=False)\n",
        "jp_rating_pivot_table"
      ]
    },
    {
      "cell_type": "markdown",
      "metadata": {
        "id": "uF73hbwYnqI2"
      },
      "source": [
        "«EC» («Early childhood») — Для детей младшего возраста\n",
        "«E» («Everyone») — Для всех\n",
        "«E10+» («Everyone 10 and older») — Для всех от 10 лет и старше\n",
        "«T» («Teen») — Подросткам\n",
        "«M» («Mature») — Для взрослых\n",
        "«AO» («Adults Only 18+») — Только для взрослых\n",
        "«RP» («Rating Pending») — Рейтинг ожидается\n",
        "\n",
        "Снова видны отличия между Японией и другими регионами. Если в США и Европе категории распределены так: \n",
        "Для взрослых, Для всех, Для всех старше 10 лет и  Подросткам\n",
        "То в Японии: Подросткам, Для всех, Для взрослых и для всех старше 10 лет."
      ]
    },
    {
      "cell_type": "markdown",
      "metadata": {
        "id": "UBIE30eK85A2"
      },
      "source": [
        "<div class=\"alert alert-info\">\n",
        "\n",
        "(CERO) — японская некоммерческая организация, занимающаяся присуждением рейтингов компьютерным играм и программному обеспечению для их последующей продажи на территории Японии. Рейтинг, в частности, указывает потребителю на возрастную группу, категорию людей, которые могут использовать данный продукт. Работает с июля 2002 года как ответвление Computer Entertainment Supplier's Association.\n",
        "\n",
        "В Японии свои рейтинги:\n",
        "  \n",
        "Последнее обновление системы рейтингов организация провела в марте 2006 года, соответствующая буква помещается прямо на обложку. Продажа игр категории Z контролируется государством[1].\n",
        "\n",
        "A — продукт подходит для всех возрастов. Наиболее известные представители: Pokemon, Dance Dance Revolution series, Disgaea, Armored Core, Ace Combat, Sonic Unleashed, Super Smash Bros. Brawl, Dragon Ball: Raging Blast, Need for Speed: Shift, Super Mario Galaxy 2, Sonic the Hedgehog (игра, 2006), Naruto: Ultimate Ninja, Split Second: Velocity, Final Fantasy IX.\n",
        "\n",
        "B — продукт пригоден для людей от 12 лет и старше. Еще известные представители: Sengoku Basara series, Tekken, Burnout, Trauma Center, Street Fighter IV, Halo Wars, Tales of Vesperia, Valkyria Chronicles, Shin Megami Tensei: Persona 4, The Legend of Zelda: Twilight Princess, Alan Wake, Metroid: Other M, Parasite Eve.\n",
        "\n",
        "C — продукт пригоден для людей от 15 лет и старше. Наиболее известные представители: Devil May Cry, WWE SmackDown vs. Raw, Lost Planet, Perfect Dark Zero, Soulcalibur IV, Dissidia: Final Fantasy, Midnight Club: Los Angeles, Silent Hill: Shattered Memories, Tekken, Metal Gear Solid: Peace Walker, Front Mission Evolved.\n",
        "\n",
        "D — продукт пригоден для людей от 17 лет и старше. Наиболее известные представители: Yakuza, Ninja Gaiden, Bully, Resistance 2, Bayonetta, Resident Evil: The Darkside Chronicles, Dante's Inferno, Nier, Dead to Rights: Retribution, Halo: Reach, Vanquish, Metal Gear Solid V: The Phantom Pain.\n",
        "\n",
        "Z — продукт пригоден для людей от 18 лет и старше. Наиболее известные представители: Grand Theft Auto, Assassin's Creed, Gears of War, InFamous, Left 4 Dead 2, MadWorld, God of War III, Dead Rising 2, Fallout: New Vegas, Call of Duty.\n",
        "    \n",
        "</div>"
      ]
    },
    {
      "cell_type": "markdown",
      "metadata": {
        "id": "-EsJ6Gn0iEc9"
      },
      "source": [
        "# Гипотезы"
      ]
    },
    {
      "cell_type": "markdown",
      "metadata": {
        "id": "32ey59OUq1PA"
      },
      "source": [
        "H₀: Средние пользовательские рейтинги платформ XboxOne и PC одинаковые\n",
        "\n",
        "H₁: Средние пользовательские рейтинги платформ XboxOne и PC разные"
      ]
    },
    {
      "cell_type": "markdown",
      "metadata": {
        "id": "Ng6YU0Ox85A4"
      },
      "source": [
        "<div class=\"alert alert-success\">\n",
        "<font size=\"5\"<b>Комментарий ревьюера</b> </font>\n",
        "    \n",
        "**Успех**\n",
        "\n",
        "Гипотезы сформированы верно\n",
        "    \n",
        "</div>"
      ]
    },
    {
      "cell_type": "code",
      "execution_count": null,
      "metadata": {
        "id": "8IT-XpiHrBtn"
      },
      "outputs": [],
      "source": [
        "# Создадим выборку по условиям для платформы XOne\n",
        "games_XOne = actual_data_games_sales.query('user_score > 0 and platform==\"XOne\"')\n",
        "games_XOne_final = games_XOne['user_score']\n",
        "# Создадим выборку по условиям для платформы PC\n",
        "games_PC = actual_data_games_sales.query('user_score > 0 and platform==\"PC\"')\n",
        "games_PC_final = games_PC['user_score']\n",
        "\n",
        "# Функция для проверки p-value\n",
        "\n",
        "def ttest_independent(df1, df2):\n",
        "    alpha = 0.05\n",
        "    results = st.ttest_ind(df1, df2)\n",
        "    if results.pvalue < alpha:\n",
        "        print(\"Отвергаем нулевую гипотезу, p-value:\", results.pvalue)\n",
        "    else:\n",
        "        print(\"Не получилось отвергнуть нулевую гипотезу,  p-value:\", results.pvalue)"
      ]
    },
    {
      "cell_type": "code",
      "execution_count": null,
      "metadata": {
        "colab": {
          "base_uri": "https://localhost:8080/"
        },
        "id": "Th524vN9sRyz",
        "outputId": "6973f750-7c87-4cf2-d8cb-46c9746d2314"
      },
      "outputs": [
        {
          "name": "stdout",
          "output_type": "stream",
          "text": [
            "Не получилось отвергнуть нулевую гипотезу,  p-value: 0.14012658403611647\n"
          ]
        }
      ],
      "source": [
        "ttest_independent(games_XOne_final, games_PC_final)"
      ]
    },
    {
      "cell_type": "code",
      "execution_count": null,
      "metadata": {
        "colab": {
          "base_uri": "https://localhost:8080/"
        },
        "id": "XoydWlC_s0pI",
        "outputId": "474ad7eb-1de2-4e29-d62c-3612356edc96"
      },
      "outputs": [
        {
          "name": "stdout",
          "output_type": "stream",
          "text": [
            "Средний пользовательский рейтинг \"XOne\": 6.521428571428572\n",
            "Средний пользовательский рейтинг \"PC\": 6.2696774193548395\n"
          ]
        }
      ],
      "source": [
        "print('Средний пользовательский рейтинг \"XOne\":', games_XOne_final.mean())\n",
        "print('Средний пользовательский рейтинг \"PC\":', games_PC_final.mean())"
      ]
    },
    {
      "cell_type": "markdown",
      "metadata": {
        "id": "2DCZGkJf85A8"
      },
      "source": [
        "**Вывод**\n",
        "\n",
        "Средние пользовательские рейтинги этих платформ почти одинаковы."
      ]
    },
    {
      "cell_type": "markdown",
      "metadata": {
        "id": "IhNOhsAksvHh"
      },
      "source": [
        "**Гипотезы для жанров**\n",
        "\n",
        "H₀: Средние пользовательские рейтинги жанров Action (англ. «действие», экшен-игры) и Sports (англ. «спортивные соревнования») одинаковые\n",
        "\n",
        "H₁: Средние пользовательские рейтинги жанров Action (англ. «действие», экшен-игры) и Sports (англ. «спортивные соревнования») разные"
      ]
    },
    {
      "cell_type": "code",
      "execution_count": null,
      "metadata": {
        "colab": {
          "base_uri": "https://localhost:8080/"
        },
        "id": "z0yt78M8BhUP",
        "outputId": "42b99afd-1930-4ee5-e0bf-db021c8a0314"
      },
      "outputs": [
        {
          "data": {
            "text/plain": [
              "count    432.000000\n",
              "mean       6.057407\n",
              "std        2.666696\n",
              "min       -1.000000\n",
              "25%        5.600000\n",
              "50%        7.000000\n",
              "75%        7.700000\n",
              "max        9.100000\n",
              "Name: user_score, dtype: float64"
            ]
          },
          "execution_count": 62,
          "metadata": {},
          "output_type": "execute_result"
        }
      ],
      "source": [
        "user_rating_action = actual_data_games_sales.query('genre == \"Action\"')['user_score'].dropna()\n",
        "user_rating_action.describe()"
      ]
    },
    {
      "cell_type": "code",
      "execution_count": null,
      "metadata": {
        "colab": {
          "base_uri": "https://localhost:8080/"
        },
        "id": "CfyaHVBqBhb0",
        "outputId": "eeb717c4-a20c-4554-81c8-27ffc4e224ef"
      },
      "outputs": [
        {
          "data": {
            "text/plain": [
              "count    173.000000\n",
              "mean       4.769364\n",
              "std        2.379158\n",
              "min       -1.000000\n",
              "25%        3.400000\n",
              "50%        5.400000\n",
              "75%        6.300000\n",
              "max        8.800000\n",
              "Name: user_score, dtype: float64"
            ]
          },
          "execution_count": 63,
          "metadata": {},
          "output_type": "execute_result"
        }
      ],
      "source": [
        "user_rating_Sports = actual_data_games_sales.query('genre == \"Sports\"')['user_score'].dropna()\n",
        "user_rating_Sports.describe()"
      ]
    },
    {
      "cell_type": "code",
      "execution_count": null,
      "metadata": {
        "colab": {
          "base_uri": "https://localhost:8080/"
        },
        "id": "itYJxh1-Bhvd",
        "outputId": "6d141e1a-2de2-4937-e04d-5048d984b0cb"
      },
      "outputs": [
        {
          "name": "stdout",
          "output_type": "stream",
          "text": [
            "p-значение: 4.7293269187498533e-08\n",
            "Отвергаем нулевую гипотезу\n"
          ]
        }
      ],
      "source": [
        "alpha = .05\n",
        "\n",
        "results = st.ttest_ind(user_rating_action, user_rating_Sports)\n",
        "\n",
        "print('p-значение:', results.pvalue)\n",
        "\n",
        "if (results.pvalue < alpha):\n",
        "    print(\"Отвергаем нулевую гипотезу\")\n",
        "else:\n",
        "    print(\"Не получилось отвергнуть нулевую гипотезу\")"
      ]
    },
    {
      "cell_type": "markdown",
      "metadata": {
        "id": "XH_HGjo8C6AC"
      },
      "source": [
        "Это значит что средние пользовательские рейтинги жанров Action и Sports разные. Проверим."
      ]
    },
    {
      "cell_type": "code",
      "execution_count": null,
      "metadata": {
        "colab": {
          "base_uri": "https://localhost:8080/"
        },
        "id": "9cqSiSJkEtUP",
        "outputId": "11c80902-7fd8-4aac-a048-f318841b179a",
        "scrolled": true
      },
      "outputs": [
        {
          "name": "stdout",
          "output_type": "stream",
          "text": [
            "Средний пользовательский рейтинг \"Action\": 6.057407407407408\n",
            "Средний пользовательский рейтинг \"Sports\": 4.76936416184971\n"
          ]
        }
      ],
      "source": [
        "print('Средний пользовательский рейтинг \"Action\":', user_rating_action.mean())\n",
        "print('Средний пользовательский рейтинг \"Sports\":', user_rating_Sports.mean())"
      ]
    },
    {
      "cell_type": "markdown",
      "metadata": {
        "id": "B50fjE4cBR7P"
      },
      "source": [
        "# Общий вывод"
      ]
    },
    {
      "cell_type": "markdown",
      "metadata": {
        "id": "a2JG6Gz2BVKr"
      },
      "source": [
        "Видим, что с 1990 года постепенно возрастало количество проданных игр, а в 2008-2009 был самый пик продажи игр, после чего тенденция идет на спад. \n",
        "\n",
        "В среднем жизненный цикл консолей составляет: 7 лет\n",
        "\n",
        "Потенциально прибыльные платформы: PS4, PS3, XOne,3DS X360.\n",
        "\n",
        "Объемы продаж отличаются на разных платформах. На PS3 был рекорд по продажам, на XOne видим из этих пяти платформ самый маленький рекорд в 7 млн.\n",
        "\n",
        "Существует прямая зависимость между продажами и оценками критиков и пользователей.\n",
        "\n",
        "Самые прибыльные жанры:\n",
        "\n",
        "Action\n",
        "Shooter\n",
        "Sports\n",
        "Role-Playing\n",
        "Misc\n",
        "\n",
        "По регионам:\n",
        "В США топ-5 платформ:\n",
        "\n",
        "PS4\n",
        "XOne\n",
        "X360\n",
        "PS3\n",
        "3DS\n",
        "\n",
        "В Европе все те же, но немного в другом порядке:\n",
        "\n",
        "PS4\n",
        "PS3\n",
        "XOne\n",
        "X360\n",
        "3DS\n",
        "\n",
        "В Японии:\n",
        "\n",
        "3DS\n",
        "PS3\n",
        "PSV\n",
        "PS4\n",
        "WiiU\n",
        "\n",
        "\n",
        "Топ-5 жанров:\n",
        "\n",
        "США:\n",
        "\n",
        "Action\n",
        "Shooter\n",
        "Sports Role-Playing\n",
        "Misc\n",
        "\n",
        "Европа:\n",
        "\n",
        "Action\n",
        "Shooter\n",
        "Sports\n",
        "Role-Playing Racing\n",
        "\n",
        "Япония:\n",
        "\n",
        "Role-Playing\n",
        "Action\n",
        "Misc Fighting\n",
        "Shooter\n",
        "\n",
        "Снова Япония отличается от США и Европы. Возможно это связано с большим отличием культуры и менталитета.\n",
        "\n",
        "Также видны отличия между Японией и другими регионами по категориям. Если в США и Европе категории распределены так: Для взрослых, Для всех, Для всех старше 10 лет и Подросткам То в Японии: Подросткам, Для всех, Для взрослых и для всех старше 10 лет.\n",
        "\n",
        "Средний пользовательский рейтинг \"XOne\" и \"PC\" практически одинаковый.\n",
        "\n",
        "Средние пользовательские рейтинги жанров Action и Sports разные. Рейтинг Sports выше."
      ]
    }
  ],
  "metadata": {
    "ExecuteTimeLog": [
      {
        "duration": 1099,
        "start_time": "2022-02-09T07:18:53.766Z"
      },
      {
        "duration": 604,
        "start_time": "2022-02-09T07:18:54.867Z"
      },
      {
        "duration": 2072,
        "start_time": "2022-02-09T07:18:55.473Z"
      },
      {
        "duration": 5286,
        "start_time": "2022-02-09T07:18:52.264Z"
      },
      {
        "duration": 5276,
        "start_time": "2022-02-09T07:18:52.275Z"
      },
      {
        "duration": 5264,
        "start_time": "2022-02-09T07:18:52.289Z"
      },
      {
        "duration": 5255,
        "start_time": "2022-02-09T07:18:52.299Z"
      },
      {
        "duration": 5245,
        "start_time": "2022-02-09T07:18:52.311Z"
      },
      {
        "duration": 5236,
        "start_time": "2022-02-09T07:18:52.321Z"
      },
      {
        "duration": 5223,
        "start_time": "2022-02-09T07:18:52.336Z"
      },
      {
        "duration": 5215,
        "start_time": "2022-02-09T07:18:52.345Z"
      },
      {
        "duration": 5190,
        "start_time": "2022-02-09T07:18:52.372Z"
      },
      {
        "duration": 5182,
        "start_time": "2022-02-09T07:18:52.382Z"
      },
      {
        "duration": 5171,
        "start_time": "2022-02-09T07:18:52.394Z"
      },
      {
        "duration": 5164,
        "start_time": "2022-02-09T07:18:52.402Z"
      },
      {
        "duration": 5155,
        "start_time": "2022-02-09T07:18:52.413Z"
      },
      {
        "duration": 5148,
        "start_time": "2022-02-09T07:18:52.421Z"
      },
      {
        "duration": 5134,
        "start_time": "2022-02-09T07:18:52.437Z"
      },
      {
        "duration": 5118,
        "start_time": "2022-02-09T07:18:52.454Z"
      },
      {
        "duration": 5101,
        "start_time": "2022-02-09T07:18:52.473Z"
      },
      {
        "duration": 5069,
        "start_time": "2022-02-09T07:18:52.507Z"
      },
      {
        "duration": 5056,
        "start_time": "2022-02-09T07:18:52.521Z"
      },
      {
        "duration": 5046,
        "start_time": "2022-02-09T07:18:52.532Z"
      },
      {
        "duration": 5035,
        "start_time": "2022-02-09T07:18:52.545Z"
      },
      {
        "duration": 5026,
        "start_time": "2022-02-09T07:18:52.555Z"
      },
      {
        "duration": 5014,
        "start_time": "2022-02-09T07:18:52.569Z"
      },
      {
        "duration": 5004,
        "start_time": "2022-02-09T07:18:52.580Z"
      },
      {
        "duration": 4994,
        "start_time": "2022-02-09T07:18:52.592Z"
      },
      {
        "duration": 4962,
        "start_time": "2022-02-09T07:18:52.625Z"
      },
      {
        "duration": 4947,
        "start_time": "2022-02-09T07:18:52.640Z"
      },
      {
        "duration": 4938,
        "start_time": "2022-02-09T07:18:52.650Z"
      },
      {
        "duration": 4926,
        "start_time": "2022-02-09T07:18:52.663Z"
      },
      {
        "duration": 4917,
        "start_time": "2022-02-09T07:18:52.673Z"
      },
      {
        "duration": 4905,
        "start_time": "2022-02-09T07:18:52.685Z"
      },
      {
        "duration": 4892,
        "start_time": "2022-02-09T07:18:52.699Z"
      },
      {
        "duration": 4879,
        "start_time": "2022-02-09T07:18:52.712Z"
      },
      {
        "duration": 4849,
        "start_time": "2022-02-09T07:18:52.743Z"
      },
      {
        "duration": 4838,
        "start_time": "2022-02-09T07:18:52.755Z"
      },
      {
        "duration": 4826,
        "start_time": "2022-02-09T07:18:52.767Z"
      },
      {
        "duration": 4814,
        "start_time": "2022-02-09T07:18:52.780Z"
      },
      {
        "duration": 4840,
        "start_time": "2022-02-09T07:18:52.788Z"
      },
      {
        "duration": 4831,
        "start_time": "2022-02-09T07:18:52.798Z"
      },
      {
        "duration": 4823,
        "start_time": "2022-02-09T07:18:52.807Z"
      },
      {
        "duration": 4813,
        "start_time": "2022-02-09T07:18:52.819Z"
      },
      {
        "duration": 4806,
        "start_time": "2022-02-09T07:18:52.827Z"
      },
      {
        "duration": 4797,
        "start_time": "2022-02-09T07:18:52.837Z"
      },
      {
        "duration": 4771,
        "start_time": "2022-02-09T07:18:52.865Z"
      },
      {
        "duration": 4763,
        "start_time": "2022-02-09T07:18:52.874Z"
      },
      {
        "duration": 4753,
        "start_time": "2022-02-09T07:18:52.885Z"
      },
      {
        "duration": 4742,
        "start_time": "2022-02-09T07:18:52.897Z"
      },
      {
        "duration": 4736,
        "start_time": "2022-02-09T07:18:52.905Z"
      },
      {
        "duration": 4727,
        "start_time": "2022-02-09T07:18:52.915Z"
      },
      {
        "duration": 4720,
        "start_time": "2022-02-09T07:18:52.923Z"
      },
      {
        "duration": 4712,
        "start_time": "2022-02-09T07:18:52.933Z"
      },
      {
        "duration": 4705,
        "start_time": "2022-02-09T07:18:52.941Z"
      },
      {
        "duration": 4696,
        "start_time": "2022-02-09T07:18:52.951Z"
      },
      {
        "duration": 4689,
        "start_time": "2022-02-09T07:18:52.960Z"
      },
      {
        "duration": 4665,
        "start_time": "2022-02-09T07:18:52.985Z"
      },
      {
        "duration": 4657,
        "start_time": "2022-02-09T07:18:52.994Z"
      },
      {
        "duration": 4638,
        "start_time": "2022-02-09T07:18:53.014Z"
      },
      {
        "duration": 4629,
        "start_time": "2022-02-09T07:18:53.025Z"
      },
      {
        "duration": 4617,
        "start_time": "2022-02-09T07:18:53.038Z"
      },
      {
        "duration": 4604,
        "start_time": "2022-02-09T07:18:53.053Z"
      },
      {
        "duration": 4550,
        "start_time": "2022-02-09T07:18:53.108Z"
      },
      {
        "duration": 4514,
        "start_time": "2022-02-09T07:18:53.145Z"
      },
      {
        "duration": 4503,
        "start_time": "2022-02-09T07:18:53.158Z"
      },
      {
        "duration": 4494,
        "start_time": "2022-02-09T07:18:53.168Z"
      },
      {
        "duration": 4482,
        "start_time": "2022-02-09T07:18:53.181Z"
      },
      {
        "duration": 4538,
        "start_time": "2022-02-09T07:18:53.192Z"
      },
      {
        "duration": 4527,
        "start_time": "2022-02-09T07:18:53.205Z"
      },
      {
        "duration": 4492,
        "start_time": "2022-02-09T07:18:53.241Z"
      },
      {
        "duration": 4481,
        "start_time": "2022-02-09T07:18:53.254Z"
      },
      {
        "duration": 4473,
        "start_time": "2022-02-09T07:18:53.263Z"
      },
      {
        "duration": 1384,
        "start_time": "2022-02-09T07:19:49.882Z"
      },
      {
        "duration": 598,
        "start_time": "2022-02-09T07:19:51.268Z"
      },
      {
        "duration": 2064,
        "start_time": "2022-02-09T07:19:51.869Z"
      },
      {
        "duration": 5054,
        "start_time": "2022-02-09T07:19:48.883Z"
      },
      {
        "duration": 5016,
        "start_time": "2022-02-09T07:19:48.921Z"
      },
      {
        "duration": 4946,
        "start_time": "2022-02-09T07:19:48.992Z"
      },
      {
        "duration": 4901,
        "start_time": "2022-02-09T07:19:49.038Z"
      },
      {
        "duration": 4893,
        "start_time": "2022-02-09T07:19:49.047Z"
      },
      {
        "duration": 4881,
        "start_time": "2022-02-09T07:19:49.059Z"
      },
      {
        "duration": 4469,
        "start_time": "2022-02-09T07:19:49.472Z"
      },
      {
        "duration": 4460,
        "start_time": "2022-02-09T07:19:49.482Z"
      },
      {
        "duration": 4451,
        "start_time": "2022-02-09T07:19:49.491Z"
      },
      {
        "duration": 4430,
        "start_time": "2022-02-09T07:19:49.513Z"
      },
      {
        "duration": 4369,
        "start_time": "2022-02-09T07:19:49.575Z"
      },
      {
        "duration": 4361,
        "start_time": "2022-02-09T07:19:49.583Z"
      },
      {
        "duration": 4328,
        "start_time": "2022-02-09T07:19:49.617Z"
      },
      {
        "duration": 4320,
        "start_time": "2022-02-09T07:19:49.626Z"
      },
      {
        "duration": 4309,
        "start_time": "2022-02-09T07:19:49.638Z"
      },
      {
        "duration": 4220,
        "start_time": "2022-02-09T07:19:49.728Z"
      },
      {
        "duration": 4204,
        "start_time": "2022-02-09T07:19:49.744Z"
      },
      {
        "duration": 4152,
        "start_time": "2022-02-09T07:19:49.797Z"
      },
      {
        "duration": 4141,
        "start_time": "2022-02-09T07:19:49.809Z"
      },
      {
        "duration": 4132,
        "start_time": "2022-02-09T07:19:49.819Z"
      },
      {
        "duration": 4058,
        "start_time": "2022-02-09T07:19:49.894Z"
      },
      {
        "duration": 4048,
        "start_time": "2022-02-09T07:19:49.905Z"
      },
      {
        "duration": 4015,
        "start_time": "2022-02-09T07:19:49.939Z"
      },
      {
        "duration": 4007,
        "start_time": "2022-02-09T07:19:49.948Z"
      },
      {
        "duration": 3998,
        "start_time": "2022-02-09T07:19:49.958Z"
      },
      {
        "duration": 3991,
        "start_time": "2022-02-09T07:19:49.966Z"
      },
      {
        "duration": 3920,
        "start_time": "2022-02-09T07:19:50.038Z"
      },
      {
        "duration": 3896,
        "start_time": "2022-02-09T07:19:50.063Z"
      },
      {
        "duration": 3819,
        "start_time": "2022-02-09T07:19:50.141Z"
      },
      {
        "duration": 3811,
        "start_time": "2022-02-09T07:19:50.150Z"
      },
      {
        "duration": 3707,
        "start_time": "2022-02-09T07:19:50.255Z"
      },
      {
        "duration": 3696,
        "start_time": "2022-02-09T07:19:50.266Z"
      },
      {
        "duration": 3618,
        "start_time": "2022-02-09T07:19:50.345Z"
      },
      {
        "duration": 3607,
        "start_time": "2022-02-09T07:19:50.357Z"
      },
      {
        "duration": 3561,
        "start_time": "2022-02-09T07:19:50.404Z"
      },
      {
        "duration": 3533,
        "start_time": "2022-02-09T07:19:50.433Z"
      },
      {
        "duration": 3469,
        "start_time": "2022-02-09T07:19:50.498Z"
      },
      {
        "duration": 3459,
        "start_time": "2022-02-09T07:19:50.509Z"
      },
      {
        "duration": 3426,
        "start_time": "2022-02-09T07:19:50.543Z"
      },
      {
        "duration": 3417,
        "start_time": "2022-02-09T07:19:50.552Z"
      },
      {
        "duration": 3407,
        "start_time": "2022-02-09T07:19:50.563Z"
      },
      {
        "duration": 3292,
        "start_time": "2022-02-09T07:19:50.679Z"
      },
      {
        "duration": 3197,
        "start_time": "2022-02-09T07:19:50.775Z"
      },
      {
        "duration": 3186,
        "start_time": "2022-02-09T07:19:50.787Z"
      },
      {
        "duration": 3174,
        "start_time": "2022-02-09T07:19:50.800Z"
      },
      {
        "duration": 3154,
        "start_time": "2022-02-09T07:19:50.874Z"
      },
      {
        "duration": 3108,
        "start_time": "2022-02-09T07:19:50.921Z"
      },
      {
        "duration": 3100,
        "start_time": "2022-02-09T07:19:50.930Z"
      },
      {
        "duration": 3090,
        "start_time": "2022-02-09T07:19:50.941Z"
      },
      {
        "duration": 3029,
        "start_time": "2022-02-09T07:19:51.003Z"
      },
      {
        "duration": 2989,
        "start_time": "2022-02-09T07:19:51.044Z"
      },
      {
        "duration": 2920,
        "start_time": "2022-02-09T07:19:51.114Z"
      },
      {
        "duration": 2882,
        "start_time": "2022-02-09T07:19:51.153Z"
      },
      {
        "duration": 2837,
        "start_time": "2022-02-09T07:19:51.199Z"
      },
      {
        "duration": 2821,
        "start_time": "2022-02-09T07:19:51.215Z"
      },
      {
        "duration": 2811,
        "start_time": "2022-02-09T07:19:51.227Z"
      },
      {
        "duration": 2759,
        "start_time": "2022-02-09T07:19:51.280Z"
      },
      {
        "duration": 2734,
        "start_time": "2022-02-09T07:19:51.306Z"
      },
      {
        "duration": 2714,
        "start_time": "2022-02-09T07:19:51.327Z"
      },
      {
        "duration": 2625,
        "start_time": "2022-02-09T07:19:51.416Z"
      },
      {
        "duration": 2575,
        "start_time": "2022-02-09T07:19:51.467Z"
      },
      {
        "duration": 2566,
        "start_time": "2022-02-09T07:19:51.477Z"
      },
      {
        "duration": 2552,
        "start_time": "2022-02-09T07:19:51.492Z"
      },
      {
        "duration": 2529,
        "start_time": "2022-02-09T07:19:51.517Z"
      },
      {
        "duration": 2445,
        "start_time": "2022-02-09T07:19:51.602Z"
      },
      {
        "duration": 2435,
        "start_time": "2022-02-09T07:19:51.613Z"
      },
      {
        "duration": 2423,
        "start_time": "2022-02-09T07:19:51.625Z"
      },
      {
        "duration": 2364,
        "start_time": "2022-02-09T07:19:51.685Z"
      },
      {
        "duration": 2335,
        "start_time": "2022-02-09T07:19:51.714Z"
      },
      {
        "duration": 2285,
        "start_time": "2022-02-09T07:19:51.765Z"
      },
      {
        "duration": 36,
        "start_time": "2022-02-09T07:20:52.448Z"
      },
      {
        "duration": 15,
        "start_time": "2022-02-09T07:20:54.095Z"
      },
      {
        "duration": 10,
        "start_time": "2022-02-09T07:20:54.803Z"
      },
      {
        "duration": 1104,
        "start_time": "2022-02-09T07:21:02.897Z"
      },
      {
        "duration": 579,
        "start_time": "2022-02-09T07:21:04.003Z"
      },
      {
        "duration": 38,
        "start_time": "2022-02-09T07:21:04.585Z"
      },
      {
        "duration": 15,
        "start_time": "2022-02-09T07:21:04.625Z"
      },
      {
        "duration": 10,
        "start_time": "2022-02-09T07:21:04.642Z"
      },
      {
        "duration": 8,
        "start_time": "2022-02-09T07:21:04.654Z"
      },
      {
        "duration": 12,
        "start_time": "2022-02-09T07:21:04.664Z"
      },
      {
        "duration": 9,
        "start_time": "2022-02-09T07:21:04.678Z"
      },
      {
        "duration": 7,
        "start_time": "2022-02-09T07:21:04.690Z"
      },
      {
        "duration": 5,
        "start_time": "2022-02-09T07:21:04.698Z"
      },
      {
        "duration": 2,
        "start_time": "2022-02-09T07:21:04.726Z"
      },
      {
        "duration": 10,
        "start_time": "2022-02-09T07:21:04.730Z"
      },
      {
        "duration": 9,
        "start_time": "2022-02-09T07:21:04.742Z"
      },
      {
        "duration": 3,
        "start_time": "2022-02-09T07:21:04.753Z"
      },
      {
        "duration": 6,
        "start_time": "2022-02-09T07:21:04.758Z"
      },
      {
        "duration": 5,
        "start_time": "2022-02-09T07:21:04.765Z"
      },
      {
        "duration": 6,
        "start_time": "2022-02-09T07:21:04.772Z"
      },
      {
        "duration": 17,
        "start_time": "2022-02-09T07:21:04.780Z"
      },
      {
        "duration": 36,
        "start_time": "2022-02-09T07:21:04.799Z"
      },
      {
        "duration": 367,
        "start_time": "2022-02-09T07:21:04.837Z"
      },
      {
        "duration": 22,
        "start_time": "2022-02-09T07:21:05.206Z"
      },
      {
        "duration": 3,
        "start_time": "2022-02-09T07:21:05.229Z"
      },
      {
        "duration": 98,
        "start_time": "2022-02-09T07:21:05.233Z"
      },
      {
        "duration": 3,
        "start_time": "2022-02-09T07:21:05.333Z"
      },
      {
        "duration": 648,
        "start_time": "2022-02-09T07:21:05.337Z"
      },
      {
        "duration": 15,
        "start_time": "2022-02-09T07:21:05.987Z"
      },
      {
        "duration": 541,
        "start_time": "2022-02-09T07:21:06.008Z"
      },
      {
        "duration": 17,
        "start_time": "2022-02-09T07:21:06.551Z"
      },
      {
        "duration": 460,
        "start_time": "2022-02-09T07:21:06.570Z"
      },
      {
        "duration": 8,
        "start_time": "2022-02-09T07:21:07.032Z"
      },
      {
        "duration": 11,
        "start_time": "2022-02-09T07:21:07.042Z"
      },
      {
        "duration": 21,
        "start_time": "2022-02-09T07:21:07.055Z"
      },
      {
        "duration": 12,
        "start_time": "2022-02-09T07:21:07.077Z"
      },
      {
        "duration": 145,
        "start_time": "2022-02-09T07:21:07.090Z"
      },
      {
        "duration": 202,
        "start_time": "2022-02-09T07:21:07.237Z"
      },
      {
        "duration": 6,
        "start_time": "2022-02-09T07:21:07.441Z"
      },
      {
        "duration": 132,
        "start_time": "2022-02-09T07:21:07.448Z"
      },
      {
        "duration": 7,
        "start_time": "2022-02-09T07:21:07.581Z"
      },
      {
        "duration": 139,
        "start_time": "2022-02-09T07:21:07.589Z"
      },
      {
        "duration": 6,
        "start_time": "2022-02-09T07:21:07.730Z"
      },
      {
        "duration": 142,
        "start_time": "2022-02-09T07:21:07.738Z"
      },
      {
        "duration": 6,
        "start_time": "2022-02-09T07:21:07.882Z"
      },
      {
        "duration": 139,
        "start_time": "2022-02-09T07:21:07.889Z"
      },
      {
        "duration": 6,
        "start_time": "2022-02-09T07:21:08.030Z"
      },
      {
        "duration": 18,
        "start_time": "2022-02-09T07:21:08.037Z"
      },
      {
        "duration": 7,
        "start_time": "2022-02-09T07:21:08.057Z"
      },
      {
        "duration": 1224,
        "start_time": "2022-02-09T07:21:08.066Z"
      },
      {
        "duration": 8,
        "start_time": "2022-02-09T07:21:09.292Z"
      },
      {
        "duration": 10,
        "start_time": "2022-02-09T07:21:09.301Z"
      },
      {
        "duration": 18,
        "start_time": "2022-02-09T07:21:09.312Z"
      },
      {
        "duration": 8,
        "start_time": "2022-02-09T07:21:09.331Z"
      },
      {
        "duration": 7,
        "start_time": "2022-02-09T07:21:09.341Z"
      },
      {
        "duration": 7,
        "start_time": "2022-02-09T07:21:09.349Z"
      },
      {
        "duration": 8,
        "start_time": "2022-02-09T07:21:09.358Z"
      },
      {
        "duration": 8,
        "start_time": "2022-02-09T07:21:09.367Z"
      },
      {
        "duration": 13,
        "start_time": "2022-02-09T07:21:09.376Z"
      },
      {
        "duration": 3,
        "start_time": "2022-02-09T07:21:09.390Z"
      },
      {
        "duration": 13,
        "start_time": "2022-02-09T07:21:09.428Z"
      },
      {
        "duration": 15,
        "start_time": "2022-02-09T07:21:09.443Z"
      },
      {
        "duration": 12,
        "start_time": "2022-02-09T07:21:09.460Z"
      },
      {
        "duration": 11,
        "start_time": "2022-02-09T07:21:09.473Z"
      },
      {
        "duration": 42,
        "start_time": "2022-02-09T07:21:09.486Z"
      },
      {
        "duration": 11,
        "start_time": "2022-02-09T07:21:09.529Z"
      },
      {
        "duration": 11,
        "start_time": "2022-02-09T07:21:09.542Z"
      },
      {
        "duration": 10,
        "start_time": "2022-02-09T07:21:09.554Z"
      },
      {
        "duration": 10,
        "start_time": "2022-02-09T07:21:09.566Z"
      },
      {
        "duration": 8,
        "start_time": "2022-02-09T07:21:09.578Z"
      },
      {
        "duration": 3,
        "start_time": "2022-02-09T07:21:09.588Z"
      },
      {
        "duration": 35,
        "start_time": "2022-02-09T07:21:09.592Z"
      },
      {
        "duration": 9,
        "start_time": "2022-02-09T07:21:09.628Z"
      },
      {
        "duration": 9,
        "start_time": "2022-02-09T07:21:09.638Z"
      },
      {
        "duration": 5,
        "start_time": "2022-02-09T07:21:09.649Z"
      },
      {
        "duration": 5,
        "start_time": "2022-02-09T07:21:09.656Z"
      },
      {
        "duration": 6,
        "start_time": "2022-02-09T07:23:00.123Z"
      },
      {
        "duration": 4,
        "start_time": "2022-02-09T07:23:02.418Z"
      },
      {
        "duration": 4,
        "start_time": "2022-02-09T07:23:15.915Z"
      },
      {
        "duration": 4,
        "start_time": "2022-02-09T07:23:16.631Z"
      },
      {
        "duration": 1106,
        "start_time": "2022-02-09T07:23:34.209Z"
      },
      {
        "duration": 586,
        "start_time": "2022-02-09T07:23:35.317Z"
      },
      {
        "duration": 36,
        "start_time": "2022-02-09T07:23:35.905Z"
      },
      {
        "duration": 14,
        "start_time": "2022-02-09T07:23:35.943Z"
      },
      {
        "duration": 9,
        "start_time": "2022-02-09T07:23:35.958Z"
      },
      {
        "duration": 2,
        "start_time": "2022-02-09T07:23:35.968Z"
      },
      {
        "duration": 12,
        "start_time": "2022-02-09T07:23:35.972Z"
      },
      {
        "duration": 8,
        "start_time": "2022-02-09T07:23:35.985Z"
      },
      {
        "duration": 32,
        "start_time": "2022-02-09T07:23:35.995Z"
      },
      {
        "duration": 5,
        "start_time": "2022-02-09T07:23:36.029Z"
      },
      {
        "duration": 4,
        "start_time": "2022-02-09T07:23:36.035Z"
      },
      {
        "duration": 10,
        "start_time": "2022-02-09T07:23:36.040Z"
      },
      {
        "duration": 9,
        "start_time": "2022-02-09T07:23:36.052Z"
      },
      {
        "duration": 6,
        "start_time": "2022-02-09T07:23:36.063Z"
      },
      {
        "duration": 5,
        "start_time": "2022-02-09T07:23:36.071Z"
      },
      {
        "duration": 5,
        "start_time": "2022-02-09T07:23:36.077Z"
      },
      {
        "duration": 7,
        "start_time": "2022-02-09T07:23:36.083Z"
      },
      {
        "duration": 36,
        "start_time": "2022-02-09T07:23:36.091Z"
      },
      {
        "duration": 13,
        "start_time": "2022-02-09T07:23:36.129Z"
      },
      {
        "duration": 369,
        "start_time": "2022-02-09T07:23:36.144Z"
      },
      {
        "duration": 13,
        "start_time": "2022-02-09T07:23:36.515Z"
      },
      {
        "duration": 3,
        "start_time": "2022-02-09T07:23:36.529Z"
      },
      {
        "duration": 103,
        "start_time": "2022-02-09T07:23:36.534Z"
      },
      {
        "duration": 3,
        "start_time": "2022-02-09T07:23:36.639Z"
      },
      {
        "duration": 606,
        "start_time": "2022-02-09T07:23:36.643Z"
      },
      {
        "duration": 9,
        "start_time": "2022-02-09T07:23:37.250Z"
      },
      {
        "duration": 446,
        "start_time": "2022-02-09T07:23:37.263Z"
      },
      {
        "duration": 26,
        "start_time": "2022-02-09T07:23:37.711Z"
      },
      {
        "duration": 435,
        "start_time": "2022-02-09T07:23:37.738Z"
      },
      {
        "duration": 8,
        "start_time": "2022-02-09T07:23:38.175Z"
      },
      {
        "duration": 11,
        "start_time": "2022-02-09T07:23:38.185Z"
      },
      {
        "duration": 35,
        "start_time": "2022-02-09T07:23:38.198Z"
      },
      {
        "duration": 12,
        "start_time": "2022-02-09T07:23:38.235Z"
      },
      {
        "duration": 132,
        "start_time": "2022-02-09T07:23:38.248Z"
      },
      {
        "duration": 205,
        "start_time": "2022-02-09T07:23:38.381Z"
      },
      {
        "duration": 7,
        "start_time": "2022-02-09T07:23:38.587Z"
      },
      {
        "duration": 132,
        "start_time": "2022-02-09T07:23:38.595Z"
      },
      {
        "duration": 7,
        "start_time": "2022-02-09T07:23:38.728Z"
      },
      {
        "duration": 138,
        "start_time": "2022-02-09T07:23:38.737Z"
      },
      {
        "duration": 7,
        "start_time": "2022-02-09T07:23:38.876Z"
      },
      {
        "duration": 140,
        "start_time": "2022-02-09T07:23:38.884Z"
      },
      {
        "duration": 7,
        "start_time": "2022-02-09T07:23:39.026Z"
      },
      {
        "duration": 145,
        "start_time": "2022-02-09T07:23:39.034Z"
      },
      {
        "duration": 7,
        "start_time": "2022-02-09T07:23:39.180Z"
      },
      {
        "duration": 8,
        "start_time": "2022-02-09T07:23:39.188Z"
      },
      {
        "duration": 9,
        "start_time": "2022-02-09T07:23:39.198Z"
      },
      {
        "duration": 1231,
        "start_time": "2022-02-09T07:23:39.209Z"
      },
      {
        "duration": 9,
        "start_time": "2022-02-09T07:23:40.441Z"
      },
      {
        "duration": 9,
        "start_time": "2022-02-09T07:23:40.452Z"
      },
      {
        "duration": 9,
        "start_time": "2022-02-09T07:23:40.462Z"
      },
      {
        "duration": 10,
        "start_time": "2022-02-09T07:23:40.472Z"
      },
      {
        "duration": 10,
        "start_time": "2022-02-09T07:23:40.484Z"
      },
      {
        "duration": 34,
        "start_time": "2022-02-09T07:23:40.496Z"
      },
      {
        "duration": 8,
        "start_time": "2022-02-09T07:23:40.531Z"
      },
      {
        "duration": 7,
        "start_time": "2022-02-09T07:23:40.541Z"
      },
      {
        "duration": 12,
        "start_time": "2022-02-09T07:23:40.550Z"
      },
      {
        "duration": 3,
        "start_time": "2022-02-09T07:23:40.564Z"
      },
      {
        "duration": 14,
        "start_time": "2022-02-09T07:23:40.569Z"
      },
      {
        "duration": 44,
        "start_time": "2022-02-09T07:23:40.584Z"
      },
      {
        "duration": 13,
        "start_time": "2022-02-09T07:23:40.630Z"
      },
      {
        "duration": 14,
        "start_time": "2022-02-09T07:23:40.644Z"
      },
      {
        "duration": 10,
        "start_time": "2022-02-09T07:23:40.660Z"
      },
      {
        "duration": 31,
        "start_time": "2022-02-09T07:23:40.672Z"
      },
      {
        "duration": 11,
        "start_time": "2022-02-09T07:23:40.704Z"
      },
      {
        "duration": 21,
        "start_time": "2022-02-09T07:23:40.717Z"
      },
      {
        "duration": 25,
        "start_time": "2022-02-09T07:23:40.739Z"
      },
      {
        "duration": 21,
        "start_time": "2022-02-09T07:23:40.765Z"
      },
      {
        "duration": 10,
        "start_time": "2022-02-09T07:23:40.787Z"
      },
      {
        "duration": 15,
        "start_time": "2022-02-09T07:23:40.798Z"
      },
      {
        "duration": 36,
        "start_time": "2022-02-09T07:23:40.814Z"
      },
      {
        "duration": 18,
        "start_time": "2022-02-09T07:23:40.852Z"
      },
      {
        "duration": 15,
        "start_time": "2022-02-09T07:23:40.872Z"
      },
      {
        "duration": 18,
        "start_time": "2022-02-09T07:23:40.888Z"
      },
      {
        "duration": 90,
        "start_time": "2022-02-09T07:27:10.006Z"
      },
      {
        "duration": 5,
        "start_time": "2022-02-09T07:27:16.363Z"
      },
      {
        "duration": 8,
        "start_time": "2022-02-09T07:29:02.664Z"
      },
      {
        "duration": 5,
        "start_time": "2022-02-09T07:29:03.459Z"
      },
      {
        "duration": 1054,
        "start_time": "2022-02-09T07:31:40.808Z"
      },
      {
        "duration": 580,
        "start_time": "2022-02-09T07:31:41.865Z"
      },
      {
        "duration": 38,
        "start_time": "2022-02-09T07:31:42.448Z"
      },
      {
        "duration": 15,
        "start_time": "2022-02-09T07:31:42.488Z"
      },
      {
        "duration": 10,
        "start_time": "2022-02-09T07:31:42.505Z"
      },
      {
        "duration": 3,
        "start_time": "2022-02-09T07:31:42.516Z"
      },
      {
        "duration": 12,
        "start_time": "2022-02-09T07:31:42.521Z"
      },
      {
        "duration": 9,
        "start_time": "2022-02-09T07:31:42.535Z"
      },
      {
        "duration": 9,
        "start_time": "2022-02-09T07:31:42.545Z"
      },
      {
        "duration": 4,
        "start_time": "2022-02-09T07:31:42.556Z"
      },
      {
        "duration": 4,
        "start_time": "2022-02-09T07:31:42.561Z"
      },
      {
        "duration": 8,
        "start_time": "2022-02-09T07:31:42.566Z"
      },
      {
        "duration": 4,
        "start_time": "2022-02-09T07:31:42.575Z"
      },
      {
        "duration": 6,
        "start_time": "2022-02-09T07:31:42.580Z"
      },
      {
        "duration": 4,
        "start_time": "2022-02-09T07:31:42.587Z"
      },
      {
        "duration": 39,
        "start_time": "2022-02-09T07:31:42.592Z"
      },
      {
        "duration": 12,
        "start_time": "2022-02-09T07:31:42.632Z"
      },
      {
        "duration": 468,
        "start_time": "2022-02-09T07:31:42.645Z"
      },
      {
        "duration": 17,
        "start_time": "2022-02-09T07:31:43.115Z"
      },
      {
        "duration": 3,
        "start_time": "2022-02-09T07:31:43.134Z"
      },
      {
        "duration": 105,
        "start_time": "2022-02-09T07:31:43.139Z"
      },
      {
        "duration": 3,
        "start_time": "2022-02-09T07:31:43.245Z"
      },
      {
        "duration": 495,
        "start_time": "2022-02-09T07:31:43.252Z"
      },
      {
        "duration": 10,
        "start_time": "2022-02-09T07:31:43.750Z"
      },
      {
        "duration": 465,
        "start_time": "2022-02-09T07:31:43.762Z"
      },
      {
        "duration": 17,
        "start_time": "2022-02-09T07:31:44.229Z"
      },
      {
        "duration": 427,
        "start_time": "2022-02-09T07:31:44.247Z"
      },
      {
        "duration": 9,
        "start_time": "2022-02-09T07:31:44.675Z"
      },
      {
        "duration": 13,
        "start_time": "2022-02-09T07:31:44.685Z"
      },
      {
        "duration": 31,
        "start_time": "2022-02-09T07:31:44.700Z"
      },
      {
        "duration": 11,
        "start_time": "2022-02-09T07:31:44.733Z"
      },
      {
        "duration": 136,
        "start_time": "2022-02-09T07:31:44.746Z"
      },
      {
        "duration": 214,
        "start_time": "2022-02-09T07:31:44.883Z"
      },
      {
        "duration": 6,
        "start_time": "2022-02-09T07:31:45.099Z"
      },
      {
        "duration": 141,
        "start_time": "2022-02-09T07:31:45.106Z"
      },
      {
        "duration": 8,
        "start_time": "2022-02-09T07:31:45.249Z"
      },
      {
        "duration": 136,
        "start_time": "2022-02-09T07:31:45.258Z"
      },
      {
        "duration": 8,
        "start_time": "2022-02-09T07:31:45.396Z"
      },
      {
        "duration": 145,
        "start_time": "2022-02-09T07:31:45.405Z"
      },
      {
        "duration": 7,
        "start_time": "2022-02-09T07:31:45.551Z"
      },
      {
        "duration": 132,
        "start_time": "2022-02-09T07:31:45.559Z"
      },
      {
        "duration": 7,
        "start_time": "2022-02-09T07:31:45.693Z"
      },
      {
        "duration": 25,
        "start_time": "2022-02-09T07:31:45.702Z"
      },
      {
        "duration": 7,
        "start_time": "2022-02-09T07:31:45.728Z"
      },
      {
        "duration": 770,
        "start_time": "2022-02-09T07:31:45.737Z"
      },
      {
        "duration": 19,
        "start_time": "2022-02-09T07:31:46.509Z"
      },
      {
        "duration": 10,
        "start_time": "2022-02-09T07:31:46.529Z"
      },
      {
        "duration": 9,
        "start_time": "2022-02-09T07:31:46.540Z"
      },
      {
        "duration": 8,
        "start_time": "2022-02-09T07:31:46.550Z"
      },
      {
        "duration": 7,
        "start_time": "2022-02-09T07:31:46.559Z"
      },
      {
        "duration": 9,
        "start_time": "2022-02-09T07:31:46.567Z"
      },
      {
        "duration": 10,
        "start_time": "2022-02-09T07:31:46.577Z"
      },
      {
        "duration": 9,
        "start_time": "2022-02-09T07:31:46.588Z"
      },
      {
        "duration": 40,
        "start_time": "2022-02-09T07:31:46.598Z"
      },
      {
        "duration": 2,
        "start_time": "2022-02-09T07:31:46.640Z"
      },
      {
        "duration": 15,
        "start_time": "2022-02-09T07:31:46.644Z"
      },
      {
        "duration": 13,
        "start_time": "2022-02-09T07:31:46.661Z"
      },
      {
        "duration": 13,
        "start_time": "2022-02-09T07:31:46.675Z"
      },
      {
        "duration": 37,
        "start_time": "2022-02-09T07:31:46.690Z"
      },
      {
        "duration": 11,
        "start_time": "2022-02-09T07:31:46.728Z"
      },
      {
        "duration": 13,
        "start_time": "2022-02-09T07:31:46.740Z"
      },
      {
        "duration": 11,
        "start_time": "2022-02-09T07:31:46.755Z"
      },
      {
        "duration": 12,
        "start_time": "2022-02-09T07:31:46.767Z"
      },
      {
        "duration": 11,
        "start_time": "2022-02-09T07:31:46.780Z"
      },
      {
        "duration": 1150,
        "start_time": "2022-02-09T07:31:46.827Z"
      },
      {
        "duration": 5296,
        "start_time": "2022-02-09T07:31:42.683Z"
      },
      {
        "duration": 5288,
        "start_time": "2022-02-09T07:31:42.692Z"
      },
      {
        "duration": 5277,
        "start_time": "2022-02-09T07:31:42.704Z"
      },
      {
        "duration": 5270,
        "start_time": "2022-02-09T07:31:42.712Z"
      },
      {
        "duration": 5262,
        "start_time": "2022-02-09T07:31:42.721Z"
      },
      {
        "duration": 5256,
        "start_time": "2022-02-09T07:31:42.728Z"
      },
      {
        "duration": 7,
        "start_time": "2022-02-09T07:35:11.598Z"
      },
      {
        "duration": 8,
        "start_time": "2022-02-09T07:35:39.651Z"
      },
      {
        "duration": 1185,
        "start_time": "2022-02-09T07:36:04.230Z"
      },
      {
        "duration": 580,
        "start_time": "2022-02-09T07:36:05.417Z"
      },
      {
        "duration": 36,
        "start_time": "2022-02-09T07:36:06.000Z"
      },
      {
        "duration": 15,
        "start_time": "2022-02-09T07:36:06.037Z"
      },
      {
        "duration": 9,
        "start_time": "2022-02-09T07:36:06.054Z"
      },
      {
        "duration": 6,
        "start_time": "2022-02-09T07:36:06.065Z"
      },
      {
        "duration": 14,
        "start_time": "2022-02-09T07:36:06.072Z"
      },
      {
        "duration": 12,
        "start_time": "2022-02-09T07:36:06.088Z"
      },
      {
        "duration": 29,
        "start_time": "2022-02-09T07:36:06.102Z"
      },
      {
        "duration": 4,
        "start_time": "2022-02-09T07:36:06.133Z"
      },
      {
        "duration": 5,
        "start_time": "2022-02-09T07:36:06.138Z"
      },
      {
        "duration": 11,
        "start_time": "2022-02-09T07:36:06.144Z"
      },
      {
        "duration": 20,
        "start_time": "2022-02-09T07:36:06.156Z"
      },
      {
        "duration": 15,
        "start_time": "2022-02-09T07:36:06.177Z"
      },
      {
        "duration": 8,
        "start_time": "2022-02-09T07:36:06.193Z"
      },
      {
        "duration": 7,
        "start_time": "2022-02-09T07:36:06.203Z"
      },
      {
        "duration": 11,
        "start_time": "2022-02-09T07:36:06.211Z"
      },
      {
        "duration": 12,
        "start_time": "2022-02-09T07:36:06.224Z"
      },
      {
        "duration": 358,
        "start_time": "2022-02-09T07:36:06.237Z"
      },
      {
        "duration": 13,
        "start_time": "2022-02-09T07:36:06.596Z"
      },
      {
        "duration": 17,
        "start_time": "2022-02-09T07:36:06.610Z"
      },
      {
        "duration": 88,
        "start_time": "2022-02-09T07:36:06.628Z"
      },
      {
        "duration": 2,
        "start_time": "2022-02-09T07:36:06.727Z"
      },
      {
        "duration": 497,
        "start_time": "2022-02-09T07:36:06.731Z"
      },
      {
        "duration": 9,
        "start_time": "2022-02-09T07:36:07.230Z"
      },
      {
        "duration": 450,
        "start_time": "2022-02-09T07:36:07.240Z"
      },
      {
        "duration": 15,
        "start_time": "2022-02-09T07:36:07.694Z"
      },
      {
        "duration": 432,
        "start_time": "2022-02-09T07:36:07.712Z"
      },
      {
        "duration": 10,
        "start_time": "2022-02-09T07:36:08.146Z"
      },
      {
        "duration": 24,
        "start_time": "2022-02-09T07:36:08.157Z"
      },
      {
        "duration": 25,
        "start_time": "2022-02-09T07:36:08.182Z"
      },
      {
        "duration": 18,
        "start_time": "2022-02-09T07:36:08.209Z"
      },
      {
        "duration": 137,
        "start_time": "2022-02-09T07:36:08.229Z"
      },
      {
        "duration": 198,
        "start_time": "2022-02-09T07:36:08.368Z"
      },
      {
        "duration": 6,
        "start_time": "2022-02-09T07:36:08.568Z"
      },
      {
        "duration": 133,
        "start_time": "2022-02-09T07:36:08.576Z"
      },
      {
        "duration": 7,
        "start_time": "2022-02-09T07:36:08.710Z"
      },
      {
        "duration": 140,
        "start_time": "2022-02-09T07:36:08.718Z"
      },
      {
        "duration": 6,
        "start_time": "2022-02-09T07:36:08.859Z"
      },
      {
        "duration": 142,
        "start_time": "2022-02-09T07:36:08.867Z"
      },
      {
        "duration": 6,
        "start_time": "2022-02-09T07:36:09.010Z"
      },
      {
        "duration": 127,
        "start_time": "2022-02-09T07:36:09.027Z"
      },
      {
        "duration": 7,
        "start_time": "2022-02-09T07:36:09.155Z"
      },
      {
        "duration": 13,
        "start_time": "2022-02-09T07:36:09.163Z"
      },
      {
        "duration": 10,
        "start_time": "2022-02-09T07:36:09.177Z"
      },
      {
        "duration": 1156,
        "start_time": "2022-02-09T07:36:09.188Z"
      },
      {
        "duration": 8,
        "start_time": "2022-02-09T07:36:10.345Z"
      },
      {
        "duration": 9,
        "start_time": "2022-02-09T07:36:10.354Z"
      },
      {
        "duration": 8,
        "start_time": "2022-02-09T07:36:10.364Z"
      },
      {
        "duration": 6,
        "start_time": "2022-02-09T07:36:10.374Z"
      },
      {
        "duration": 7,
        "start_time": "2022-02-09T07:36:10.381Z"
      },
      {
        "duration": 37,
        "start_time": "2022-02-09T07:36:10.390Z"
      },
      {
        "duration": 9,
        "start_time": "2022-02-09T07:36:10.428Z"
      },
      {
        "duration": 8,
        "start_time": "2022-02-09T07:36:10.439Z"
      },
      {
        "duration": 14,
        "start_time": "2022-02-09T07:36:10.448Z"
      },
      {
        "duration": 5,
        "start_time": "2022-02-09T07:36:10.463Z"
      },
      {
        "duration": 13,
        "start_time": "2022-02-09T07:36:10.470Z"
      },
      {
        "duration": 12,
        "start_time": "2022-02-09T07:36:10.485Z"
      },
      {
        "duration": 37,
        "start_time": "2022-02-09T07:36:10.498Z"
      },
      {
        "duration": 10,
        "start_time": "2022-02-09T07:36:10.537Z"
      },
      {
        "duration": 11,
        "start_time": "2022-02-09T07:36:10.549Z"
      },
      {
        "duration": 13,
        "start_time": "2022-02-09T07:36:10.562Z"
      },
      {
        "duration": 11,
        "start_time": "2022-02-09T07:36:10.576Z"
      },
      {
        "duration": 11,
        "start_time": "2022-02-09T07:36:10.588Z"
      },
      {
        "duration": 11,
        "start_time": "2022-02-09T07:36:10.627Z"
      },
      {
        "duration": 10,
        "start_time": "2022-02-09T07:36:10.639Z"
      },
      {
        "duration": 4,
        "start_time": "2022-02-09T07:36:10.650Z"
      },
      {
        "duration": 6,
        "start_time": "2022-02-09T07:36:10.655Z"
      },
      {
        "duration": 13,
        "start_time": "2022-02-09T07:36:10.662Z"
      },
      {
        "duration": 9,
        "start_time": "2022-02-09T07:36:10.676Z"
      },
      {
        "duration": 4,
        "start_time": "2022-02-09T07:36:10.686Z"
      },
      {
        "duration": 36,
        "start_time": "2022-02-09T07:36:10.692Z"
      },
      {
        "duration": 9,
        "start_time": "2022-02-09T07:37:16.007Z"
      },
      {
        "duration": 6,
        "start_time": "2022-02-09T07:37:16.826Z"
      },
      {
        "duration": 3,
        "start_time": "2022-02-09T07:37:43.758Z"
      },
      {
        "duration": 1122,
        "start_time": "2022-02-09T07:37:52.056Z"
      },
      {
        "duration": 599,
        "start_time": "2022-02-09T07:37:53.180Z"
      },
      {
        "duration": 36,
        "start_time": "2022-02-09T07:37:53.782Z"
      },
      {
        "duration": 15,
        "start_time": "2022-02-09T07:37:53.820Z"
      },
      {
        "duration": 10,
        "start_time": "2022-02-09T07:37:53.836Z"
      },
      {
        "duration": 2,
        "start_time": "2022-02-09T07:37:53.847Z"
      },
      {
        "duration": 12,
        "start_time": "2022-02-09T07:37:53.851Z"
      },
      {
        "duration": 8,
        "start_time": "2022-02-09T07:37:53.865Z"
      },
      {
        "duration": 9,
        "start_time": "2022-02-09T07:37:53.875Z"
      },
      {
        "duration": 5,
        "start_time": "2022-02-09T07:37:53.886Z"
      },
      {
        "duration": 6,
        "start_time": "2022-02-09T07:37:53.892Z"
      },
      {
        "duration": 31,
        "start_time": "2022-02-09T07:37:53.899Z"
      },
      {
        "duration": 7,
        "start_time": "2022-02-09T07:37:53.932Z"
      },
      {
        "duration": 12,
        "start_time": "2022-02-09T07:37:53.940Z"
      },
      {
        "duration": 4,
        "start_time": "2022-02-09T07:37:53.954Z"
      },
      {
        "duration": 7,
        "start_time": "2022-02-09T07:37:53.959Z"
      },
      {
        "duration": 8,
        "start_time": "2022-02-09T07:37:53.968Z"
      },
      {
        "duration": 14,
        "start_time": "2022-02-09T07:37:53.977Z"
      },
      {
        "duration": 392,
        "start_time": "2022-02-09T07:37:53.992Z"
      },
      {
        "duration": 14,
        "start_time": "2022-02-09T07:37:54.386Z"
      },
      {
        "duration": 4,
        "start_time": "2022-02-09T07:37:54.402Z"
      },
      {
        "duration": 91,
        "start_time": "2022-02-09T07:37:54.427Z"
      },
      {
        "duration": 3,
        "start_time": "2022-02-09T07:37:54.527Z"
      },
      {
        "duration": 500,
        "start_time": "2022-02-09T07:37:54.531Z"
      },
      {
        "duration": 9,
        "start_time": "2022-02-09T07:37:55.033Z"
      },
      {
        "duration": 457,
        "start_time": "2022-02-09T07:37:55.043Z"
      },
      {
        "duration": 29,
        "start_time": "2022-02-09T07:37:55.505Z"
      },
      {
        "duration": 425,
        "start_time": "2022-02-09T07:37:55.537Z"
      },
      {
        "duration": 9,
        "start_time": "2022-02-09T07:37:55.964Z"
      },
      {
        "duration": 14,
        "start_time": "2022-02-09T07:37:55.975Z"
      },
      {
        "duration": 37,
        "start_time": "2022-02-09T07:37:55.990Z"
      },
      {
        "duration": 12,
        "start_time": "2022-02-09T07:37:56.029Z"
      },
      {
        "duration": 135,
        "start_time": "2022-02-09T07:37:56.042Z"
      },
      {
        "duration": 200,
        "start_time": "2022-02-09T07:37:56.178Z"
      },
      {
        "duration": 6,
        "start_time": "2022-02-09T07:37:56.379Z"
      },
      {
        "duration": 140,
        "start_time": "2022-02-09T07:37:56.387Z"
      },
      {
        "duration": 6,
        "start_time": "2022-02-09T07:37:56.529Z"
      },
      {
        "duration": 132,
        "start_time": "2022-02-09T07:37:56.536Z"
      },
      {
        "duration": 7,
        "start_time": "2022-02-09T07:37:56.670Z"
      },
      {
        "duration": 149,
        "start_time": "2022-02-09T07:37:56.679Z"
      },
      {
        "duration": 7,
        "start_time": "2022-02-09T07:37:56.830Z"
      },
      {
        "duration": 139,
        "start_time": "2022-02-09T07:37:56.838Z"
      },
      {
        "duration": 7,
        "start_time": "2022-02-09T07:37:56.979Z"
      },
      {
        "duration": 9,
        "start_time": "2022-02-09T07:37:56.988Z"
      },
      {
        "duration": 8,
        "start_time": "2022-02-09T07:37:56.998Z"
      },
      {
        "duration": 1245,
        "start_time": "2022-02-09T07:37:57.008Z"
      },
      {
        "duration": 8,
        "start_time": "2022-02-09T07:37:58.255Z"
      },
      {
        "duration": 9,
        "start_time": "2022-02-09T07:37:58.264Z"
      },
      {
        "duration": 9,
        "start_time": "2022-02-09T07:37:58.275Z"
      },
      {
        "duration": 8,
        "start_time": "2022-02-09T07:37:58.285Z"
      },
      {
        "duration": 9,
        "start_time": "2022-02-09T07:37:58.295Z"
      },
      {
        "duration": 8,
        "start_time": "2022-02-09T07:37:58.328Z"
      },
      {
        "duration": 12,
        "start_time": "2022-02-09T07:37:58.337Z"
      },
      {
        "duration": 11,
        "start_time": "2022-02-09T07:37:58.351Z"
      },
      {
        "duration": 17,
        "start_time": "2022-02-09T07:37:58.363Z"
      },
      {
        "duration": 6,
        "start_time": "2022-02-09T07:37:58.381Z"
      },
      {
        "duration": 18,
        "start_time": "2022-02-09T07:37:58.389Z"
      },
      {
        "duration": 35,
        "start_time": "2022-02-09T07:37:58.408Z"
      },
      {
        "duration": 14,
        "start_time": "2022-02-09T07:37:58.444Z"
      },
      {
        "duration": 14,
        "start_time": "2022-02-09T07:37:58.460Z"
      },
      {
        "duration": 12,
        "start_time": "2022-02-09T07:37:58.475Z"
      },
      {
        "duration": 12,
        "start_time": "2022-02-09T07:37:58.489Z"
      },
      {
        "duration": 35,
        "start_time": "2022-02-09T07:37:58.502Z"
      },
      {
        "duration": 11,
        "start_time": "2022-02-09T07:37:58.539Z"
      },
      {
        "duration": 11,
        "start_time": "2022-02-09T07:37:58.552Z"
      },
      {
        "duration": 9,
        "start_time": "2022-02-09T07:37:58.564Z"
      },
      {
        "duration": 4,
        "start_time": "2022-02-09T07:37:58.574Z"
      },
      {
        "duration": 5,
        "start_time": "2022-02-09T07:37:58.579Z"
      },
      {
        "duration": 43,
        "start_time": "2022-02-09T07:37:58.585Z"
      },
      {
        "duration": 9,
        "start_time": "2022-02-09T07:37:58.629Z"
      },
      {
        "duration": 4,
        "start_time": "2022-02-09T07:37:58.640Z"
      },
      {
        "duration": 5,
        "start_time": "2022-02-09T07:37:58.645Z"
      },
      {
        "duration": 363,
        "start_time": "2022-02-09T07:41:51.906Z"
      },
      {
        "duration": 287,
        "start_time": "2022-02-09T07:47:14.132Z"
      },
      {
        "duration": 139,
        "start_time": "2022-02-09T07:48:41.888Z"
      },
      {
        "duration": 263,
        "start_time": "2022-02-09T08:01:23.751Z"
      },
      {
        "duration": 17,
        "start_time": "2022-02-09T08:01:44.641Z"
      },
      {
        "duration": 132,
        "start_time": "2022-02-09T08:01:46.689Z"
      },
      {
        "duration": 294,
        "start_time": "2022-02-09T08:02:07.374Z"
      },
      {
        "duration": 17,
        "start_time": "2022-02-09T08:02:37.202Z"
      },
      {
        "duration": 213,
        "start_time": "2022-02-09T08:02:38.101Z"
      },
      {
        "duration": 229,
        "start_time": "2022-02-09T08:03:55.100Z"
      },
      {
        "duration": 215,
        "start_time": "2022-02-09T08:04:14.556Z"
      },
      {
        "duration": 273,
        "start_time": "2022-02-09T08:04:18.958Z"
      },
      {
        "duration": 220,
        "start_time": "2022-02-09T08:04:27.048Z"
      },
      {
        "duration": 217,
        "start_time": "2022-02-09T08:04:31.963Z"
      },
      {
        "duration": 493,
        "start_time": "2022-02-09T08:05:14.637Z"
      },
      {
        "duration": 220,
        "start_time": "2022-02-09T08:06:40.375Z"
      },
      {
        "duration": 220,
        "start_time": "2022-02-09T08:06:57.987Z"
      },
      {
        "duration": 222,
        "start_time": "2022-02-09T08:07:08.944Z"
      },
      {
        "duration": 1029,
        "start_time": "2022-02-09T08:07:32.821Z"
      },
      {
        "duration": 576,
        "start_time": "2022-02-09T08:07:33.852Z"
      },
      {
        "duration": 37,
        "start_time": "2022-02-09T08:07:34.430Z"
      },
      {
        "duration": 14,
        "start_time": "2022-02-09T08:07:34.468Z"
      },
      {
        "duration": 8,
        "start_time": "2022-02-09T08:07:34.484Z"
      },
      {
        "duration": 4,
        "start_time": "2022-02-09T08:07:34.494Z"
      },
      {
        "duration": 14,
        "start_time": "2022-02-09T08:07:34.500Z"
      },
      {
        "duration": 13,
        "start_time": "2022-02-09T08:07:34.516Z"
      },
      {
        "duration": 8,
        "start_time": "2022-02-09T08:07:34.531Z"
      },
      {
        "duration": 5,
        "start_time": "2022-02-09T08:07:34.540Z"
      },
      {
        "duration": 6,
        "start_time": "2022-02-09T08:07:34.546Z"
      },
      {
        "duration": 8,
        "start_time": "2022-02-09T08:07:34.553Z"
      },
      {
        "duration": 6,
        "start_time": "2022-02-09T08:07:34.563Z"
      },
      {
        "duration": 8,
        "start_time": "2022-02-09T08:07:34.571Z"
      },
      {
        "duration": 5,
        "start_time": "2022-02-09T08:07:34.580Z"
      },
      {
        "duration": 5,
        "start_time": "2022-02-09T08:07:34.586Z"
      },
      {
        "duration": 36,
        "start_time": "2022-02-09T08:07:34.593Z"
      },
      {
        "duration": 12,
        "start_time": "2022-02-09T08:07:34.630Z"
      },
      {
        "duration": 372,
        "start_time": "2022-02-09T08:07:34.643Z"
      },
      {
        "duration": 20,
        "start_time": "2022-02-09T08:07:35.017Z"
      },
      {
        "duration": 4,
        "start_time": "2022-02-09T08:07:35.039Z"
      },
      {
        "duration": 99,
        "start_time": "2022-02-09T08:07:35.045Z"
      },
      {
        "duration": 3,
        "start_time": "2022-02-09T08:07:35.148Z"
      },
      {
        "duration": 502,
        "start_time": "2022-02-09T08:07:35.153Z"
      },
      {
        "duration": 11,
        "start_time": "2022-02-09T08:07:35.657Z"
      },
      {
        "duration": 446,
        "start_time": "2022-02-09T08:07:35.670Z"
      },
      {
        "duration": 21,
        "start_time": "2022-02-09T08:07:36.118Z"
      },
      {
        "duration": 416,
        "start_time": "2022-02-09T08:07:36.141Z"
      },
      {
        "duration": 8,
        "start_time": "2022-02-09T08:07:36.558Z"
      },
      {
        "duration": 10,
        "start_time": "2022-02-09T08:07:36.568Z"
      },
      {
        "duration": 17,
        "start_time": "2022-02-09T08:07:36.580Z"
      },
      {
        "duration": 32,
        "start_time": "2022-02-09T08:07:36.598Z"
      },
      {
        "duration": 17,
        "start_time": "2022-02-09T08:07:36.632Z"
      },
      {
        "duration": 233,
        "start_time": "2022-02-09T08:07:36.650Z"
      },
      {
        "duration": 438,
        "start_time": "2022-02-09T08:07:36.885Z"
      },
      {
        "duration": 5294,
        "start_time": "2022-02-09T08:07:32.030Z"
      },
      {
        "duration": 5286,
        "start_time": "2022-02-09T08:07:32.039Z"
      },
      {
        "duration": 5279,
        "start_time": "2022-02-09T08:07:32.047Z"
      },
      {
        "duration": 5273,
        "start_time": "2022-02-09T08:07:32.054Z"
      },
      {
        "duration": 5265,
        "start_time": "2022-02-09T08:07:32.063Z"
      },
      {
        "duration": 5256,
        "start_time": "2022-02-09T08:07:32.073Z"
      },
      {
        "duration": 5238,
        "start_time": "2022-02-09T08:07:32.092Z"
      },
      {
        "duration": 5203,
        "start_time": "2022-02-09T08:07:32.128Z"
      },
      {
        "duration": 5195,
        "start_time": "2022-02-09T08:07:32.137Z"
      },
      {
        "duration": 5190,
        "start_time": "2022-02-09T08:07:32.143Z"
      },
      {
        "duration": 5181,
        "start_time": "2022-02-09T08:07:32.153Z"
      },
      {
        "duration": 5174,
        "start_time": "2022-02-09T08:07:32.161Z"
      },
      {
        "duration": 5166,
        "start_time": "2022-02-09T08:07:32.169Z"
      },
      {
        "duration": 5160,
        "start_time": "2022-02-09T08:07:32.176Z"
      },
      {
        "duration": 5147,
        "start_time": "2022-02-09T08:07:32.190Z"
      },
      {
        "duration": 5140,
        "start_time": "2022-02-09T08:07:32.198Z"
      },
      {
        "duration": 5133,
        "start_time": "2022-02-09T08:07:32.206Z"
      },
      {
        "duration": 5127,
        "start_time": "2022-02-09T08:07:32.213Z"
      },
      {
        "duration": 5091,
        "start_time": "2022-02-09T08:07:32.249Z"
      },
      {
        "duration": 5085,
        "start_time": "2022-02-09T08:07:32.256Z"
      },
      {
        "duration": 5077,
        "start_time": "2022-02-09T08:07:32.265Z"
      },
      {
        "duration": 5070,
        "start_time": "2022-02-09T08:07:32.273Z"
      },
      {
        "duration": 5063,
        "start_time": "2022-02-09T08:07:32.281Z"
      },
      {
        "duration": 5057,
        "start_time": "2022-02-09T08:07:32.288Z"
      },
      {
        "duration": 5049,
        "start_time": "2022-02-09T08:07:32.297Z"
      },
      {
        "duration": 5043,
        "start_time": "2022-02-09T08:07:32.304Z"
      },
      {
        "duration": 5036,
        "start_time": "2022-02-09T08:07:32.312Z"
      },
      {
        "duration": 5030,
        "start_time": "2022-02-09T08:07:32.319Z"
      },
      {
        "duration": 5023,
        "start_time": "2022-02-09T08:07:32.327Z"
      },
      {
        "duration": 6,
        "start_time": "2022-02-09T08:09:14.593Z"
      },
      {
        "duration": 7,
        "start_time": "2022-02-09T08:09:26.471Z"
      },
      {
        "duration": 265,
        "start_time": "2022-02-09T08:11:50.344Z"
      },
      {
        "duration": 6,
        "start_time": "2022-02-09T08:12:57.832Z"
      },
      {
        "duration": 8,
        "start_time": "2022-02-09T08:13:59.778Z"
      },
      {
        "duration": 14,
        "start_time": "2022-02-09T08:14:13.296Z"
      },
      {
        "duration": 5322,
        "start_time": "2022-02-09T08:15:23.952Z"
      },
      {
        "duration": 967,
        "start_time": "2022-02-09T08:16:15.767Z"
      },
      {
        "duration": 720,
        "start_time": "2022-02-09T08:16:42.186Z"
      },
      {
        "duration": 4,
        "start_time": "2022-02-09T08:27:17.495Z"
      },
      {
        "duration": 774,
        "start_time": "2022-02-09T08:27:56.904Z"
      },
      {
        "duration": 4,
        "start_time": "2022-02-09T08:29:32.137Z"
      },
      {
        "duration": 582,
        "start_time": "2022-02-09T08:29:33.161Z"
      },
      {
        "duration": 1375,
        "start_time": "2022-02-09T08:31:58.363Z"
      },
      {
        "duration": 581,
        "start_time": "2022-02-09T08:31:59.739Z"
      },
      {
        "duration": 38,
        "start_time": "2022-02-09T08:32:00.322Z"
      },
      {
        "duration": 15,
        "start_time": "2022-02-09T08:32:00.362Z"
      },
      {
        "duration": 11,
        "start_time": "2022-02-09T08:32:00.379Z"
      },
      {
        "duration": 8,
        "start_time": "2022-02-09T08:32:00.392Z"
      },
      {
        "duration": 23,
        "start_time": "2022-02-09T08:32:00.402Z"
      },
      {
        "duration": 12,
        "start_time": "2022-02-09T08:32:00.427Z"
      },
      {
        "duration": 15,
        "start_time": "2022-02-09T08:32:00.441Z"
      },
      {
        "duration": 6,
        "start_time": "2022-02-09T08:32:00.458Z"
      },
      {
        "duration": 22,
        "start_time": "2022-02-09T08:32:00.466Z"
      },
      {
        "duration": 16,
        "start_time": "2022-02-09T08:32:00.489Z"
      },
      {
        "duration": 10,
        "start_time": "2022-02-09T08:32:00.506Z"
      },
      {
        "duration": 15,
        "start_time": "2022-02-09T08:32:00.518Z"
      },
      {
        "duration": 15,
        "start_time": "2022-02-09T08:32:00.535Z"
      },
      {
        "duration": 26,
        "start_time": "2022-02-09T08:32:00.551Z"
      },
      {
        "duration": 18,
        "start_time": "2022-02-09T08:32:00.578Z"
      },
      {
        "duration": 21,
        "start_time": "2022-02-09T08:32:00.598Z"
      },
      {
        "duration": 387,
        "start_time": "2022-02-09T08:32:00.621Z"
      },
      {
        "duration": 22,
        "start_time": "2022-02-09T08:32:01.010Z"
      },
      {
        "duration": 4,
        "start_time": "2022-02-09T08:32:01.034Z"
      },
      {
        "duration": 104,
        "start_time": "2022-02-09T08:32:01.040Z"
      },
      {
        "duration": 3,
        "start_time": "2022-02-09T08:32:01.146Z"
      },
      {
        "duration": 508,
        "start_time": "2022-02-09T08:32:01.151Z"
      },
      {
        "duration": 11,
        "start_time": "2022-02-09T08:32:01.661Z"
      },
      {
        "duration": 475,
        "start_time": "2022-02-09T08:32:01.673Z"
      },
      {
        "duration": 15,
        "start_time": "2022-02-09T08:32:02.152Z"
      },
      {
        "duration": 426,
        "start_time": "2022-02-09T08:32:02.169Z"
      },
      {
        "duration": 8,
        "start_time": "2022-02-09T08:32:02.597Z"
      },
      {
        "duration": 24,
        "start_time": "2022-02-09T08:32:02.606Z"
      },
      {
        "duration": 16,
        "start_time": "2022-02-09T08:32:02.631Z"
      },
      {
        "duration": 14,
        "start_time": "2022-02-09T08:32:02.649Z"
      },
      {
        "duration": 21,
        "start_time": "2022-02-09T08:32:02.665Z"
      },
      {
        "duration": 252,
        "start_time": "2022-02-09T08:32:02.687Z"
      },
      {
        "duration": 7,
        "start_time": "2022-02-09T08:32:02.941Z"
      },
      {
        "duration": 9,
        "start_time": "2022-02-09T08:32:02.949Z"
      },
      {
        "duration": 11,
        "start_time": "2022-02-09T08:32:02.960Z"
      },
      {
        "duration": 9,
        "start_time": "2022-02-09T08:32:02.972Z"
      },
      {
        "duration": 977,
        "start_time": "2022-02-09T08:32:02.982Z"
      },
      {
        "duration": 4,
        "start_time": "2022-02-09T08:32:03.960Z"
      },
      {
        "duration": 1002,
        "start_time": "2022-02-09T08:32:03.965Z"
      },
      {
        "duration": 12,
        "start_time": "2022-02-09T08:32:04.969Z"
      },
      {
        "duration": 5,
        "start_time": "2022-02-09T08:32:04.982Z"
      },
      {
        "duration": 15,
        "start_time": "2022-02-09T08:32:04.988Z"
      },
      {
        "duration": 32,
        "start_time": "2022-02-09T08:32:05.004Z"
      },
      {
        "duration": 14,
        "start_time": "2022-02-09T08:32:05.038Z"
      },
      {
        "duration": 13,
        "start_time": "2022-02-09T08:32:05.053Z"
      },
      {
        "duration": 15,
        "start_time": "2022-02-09T08:32:05.067Z"
      },
      {
        "duration": 13,
        "start_time": "2022-02-09T08:32:05.083Z"
      },
      {
        "duration": 35,
        "start_time": "2022-02-09T08:32:05.097Z"
      },
      {
        "duration": 11,
        "start_time": "2022-02-09T08:32:05.134Z"
      },
      {
        "duration": 12,
        "start_time": "2022-02-09T08:32:05.146Z"
      },
      {
        "duration": 9,
        "start_time": "2022-02-09T08:32:05.159Z"
      },
      {
        "duration": 12,
        "start_time": "2022-02-09T08:32:05.170Z"
      },
      {
        "duration": 6,
        "start_time": "2022-02-09T08:32:05.183Z"
      },
      {
        "duration": 38,
        "start_time": "2022-02-09T08:32:05.190Z"
      },
      {
        "duration": 9,
        "start_time": "2022-02-09T08:32:05.229Z"
      },
      {
        "duration": 6,
        "start_time": "2022-02-09T08:32:05.239Z"
      },
      {
        "duration": 6,
        "start_time": "2022-02-09T08:32:05.246Z"
      },
      {
        "duration": 4,
        "start_time": "2022-02-09T08:34:40.613Z"
      },
      {
        "duration": 397,
        "start_time": "2022-02-09T08:34:46.412Z"
      },
      {
        "duration": 6,
        "start_time": "2022-02-09T08:35:30.843Z"
      },
      {
        "duration": 6,
        "start_time": "2022-02-09T08:35:56.992Z"
      },
      {
        "duration": 8,
        "start_time": "2022-02-09T08:36:10.779Z"
      },
      {
        "duration": 7,
        "start_time": "2022-02-09T08:37:21.231Z"
      },
      {
        "duration": 1344,
        "start_time": "2022-02-09T08:37:37.206Z"
      },
      {
        "duration": 579,
        "start_time": "2022-02-09T08:37:38.552Z"
      },
      {
        "duration": 37,
        "start_time": "2022-02-09T08:37:39.133Z"
      },
      {
        "duration": 15,
        "start_time": "2022-02-09T08:37:39.172Z"
      },
      {
        "duration": 9,
        "start_time": "2022-02-09T08:37:39.189Z"
      },
      {
        "duration": 3,
        "start_time": "2022-02-09T08:37:39.199Z"
      },
      {
        "duration": 25,
        "start_time": "2022-02-09T08:37:39.204Z"
      },
      {
        "duration": 9,
        "start_time": "2022-02-09T08:37:39.231Z"
      },
      {
        "duration": 8,
        "start_time": "2022-02-09T08:37:39.242Z"
      },
      {
        "duration": 8,
        "start_time": "2022-02-09T08:37:39.252Z"
      },
      {
        "duration": 5,
        "start_time": "2022-02-09T08:37:39.262Z"
      },
      {
        "duration": 12,
        "start_time": "2022-02-09T08:37:39.269Z"
      },
      {
        "duration": 9,
        "start_time": "2022-02-09T08:37:39.282Z"
      },
      {
        "duration": 35,
        "start_time": "2022-02-09T08:37:39.293Z"
      },
      {
        "duration": 375,
        "start_time": "2022-02-09T08:37:39.329Z"
      },
      {
        "duration": 5124,
        "start_time": "2022-02-09T08:37:34.583Z"
      },
      {
        "duration": 5105,
        "start_time": "2022-02-09T08:37:34.603Z"
      },
      {
        "duration": 5094,
        "start_time": "2022-02-09T08:37:34.615Z"
      },
      {
        "duration": 5086,
        "start_time": "2022-02-09T08:37:34.624Z"
      },
      {
        "duration": 5074,
        "start_time": "2022-02-09T08:37:34.637Z"
      },
      {
        "duration": 5068,
        "start_time": "2022-02-09T08:37:34.644Z"
      },
      {
        "duration": 5001,
        "start_time": "2022-02-09T08:37:34.712Z"
      },
      {
        "duration": 4934,
        "start_time": "2022-02-09T08:37:34.780Z"
      },
      {
        "duration": 4919,
        "start_time": "2022-02-09T08:37:34.796Z"
      },
      {
        "duration": 4909,
        "start_time": "2022-02-09T08:37:34.806Z"
      },
      {
        "duration": 4898,
        "start_time": "2022-02-09T08:37:34.818Z"
      },
      {
        "duration": 4891,
        "start_time": "2022-02-09T08:37:34.826Z"
      },
      {
        "duration": 4882,
        "start_time": "2022-02-09T08:37:34.836Z"
      },
      {
        "duration": 4876,
        "start_time": "2022-02-09T08:37:34.843Z"
      },
      {
        "duration": 4815,
        "start_time": "2022-02-09T08:37:34.905Z"
      },
      {
        "duration": 4786,
        "start_time": "2022-02-09T08:37:34.935Z"
      },
      {
        "duration": 4731,
        "start_time": "2022-02-09T08:37:34.991Z"
      },
      {
        "duration": 4720,
        "start_time": "2022-02-09T08:37:35.003Z"
      },
      {
        "duration": 4701,
        "start_time": "2022-02-09T08:37:35.023Z"
      },
      {
        "duration": 4658,
        "start_time": "2022-02-09T08:37:35.067Z"
      },
      {
        "duration": 4596,
        "start_time": "2022-02-09T08:37:35.130Z"
      },
      {
        "duration": 4537,
        "start_time": "2022-02-09T08:37:35.190Z"
      },
      {
        "duration": 4528,
        "start_time": "2022-02-09T08:37:35.200Z"
      },
      {
        "duration": 4519,
        "start_time": "2022-02-09T08:37:35.210Z"
      },
      {
        "duration": 4505,
        "start_time": "2022-02-09T08:37:35.224Z"
      },
      {
        "duration": 4437,
        "start_time": "2022-02-09T08:37:35.293Z"
      },
      {
        "duration": 4406,
        "start_time": "2022-02-09T08:37:35.325Z"
      },
      {
        "duration": 4359,
        "start_time": "2022-02-09T08:37:35.373Z"
      },
      {
        "duration": 4347,
        "start_time": "2022-02-09T08:37:35.386Z"
      },
      {
        "duration": 4338,
        "start_time": "2022-02-09T08:37:35.396Z"
      },
      {
        "duration": 4325,
        "start_time": "2022-02-09T08:37:35.410Z"
      },
      {
        "duration": 4263,
        "start_time": "2022-02-09T08:37:35.473Z"
      },
      {
        "duration": 4193,
        "start_time": "2022-02-09T08:37:35.544Z"
      },
      {
        "duration": 4179,
        "start_time": "2022-02-09T08:37:35.558Z"
      },
      {
        "duration": 4168,
        "start_time": "2022-02-09T08:37:35.570Z"
      },
      {
        "duration": 4161,
        "start_time": "2022-02-09T08:37:35.578Z"
      },
      {
        "duration": 4151,
        "start_time": "2022-02-09T08:37:35.589Z"
      },
      {
        "duration": 4141,
        "start_time": "2022-02-09T08:37:35.600Z"
      },
      {
        "duration": 4077,
        "start_time": "2022-02-09T08:37:35.665Z"
      },
      {
        "duration": 4049,
        "start_time": "2022-02-09T08:37:35.694Z"
      },
      {
        "duration": 4018,
        "start_time": "2022-02-09T08:37:35.726Z"
      },
      {
        "duration": 4011,
        "start_time": "2022-02-09T08:37:35.734Z"
      },
      {
        "duration": 3990,
        "start_time": "2022-02-09T08:37:35.756Z"
      },
      {
        "duration": 3980,
        "start_time": "2022-02-09T08:37:35.767Z"
      },
      {
        "duration": 4,
        "start_time": "2022-02-09T08:39:31.720Z"
      },
      {
        "duration": 4,
        "start_time": "2022-02-09T08:39:55.344Z"
      },
      {
        "duration": 4,
        "start_time": "2022-02-09T08:40:09.306Z"
      },
      {
        "duration": 3,
        "start_time": "2022-02-09T08:40:20.841Z"
      },
      {
        "duration": 5,
        "start_time": "2022-02-09T08:40:23.914Z"
      },
      {
        "duration": 9,
        "start_time": "2022-02-09T08:40:25.245Z"
      },
      {
        "duration": 2064,
        "start_time": "2022-02-09T08:40:39.979Z"
      },
      {
        "duration": 593,
        "start_time": "2022-02-09T08:40:42.045Z"
      },
      {
        "duration": 35,
        "start_time": "2022-02-09T08:40:42.640Z"
      },
      {
        "duration": 15,
        "start_time": "2022-02-09T08:40:42.676Z"
      },
      {
        "duration": 12,
        "start_time": "2022-02-09T08:40:42.692Z"
      },
      {
        "duration": 3,
        "start_time": "2022-02-09T08:40:42.705Z"
      },
      {
        "duration": 12,
        "start_time": "2022-02-09T08:40:42.709Z"
      },
      {
        "duration": 10,
        "start_time": "2022-02-09T08:40:42.723Z"
      },
      {
        "duration": 7,
        "start_time": "2022-02-09T08:40:42.734Z"
      },
      {
        "duration": 5,
        "start_time": "2022-02-09T08:40:42.742Z"
      },
      {
        "duration": 3,
        "start_time": "2022-02-09T08:40:42.749Z"
      },
      {
        "duration": 12,
        "start_time": "2022-02-09T08:40:42.753Z"
      },
      {
        "duration": 8,
        "start_time": "2022-02-09T08:40:42.767Z"
      },
      {
        "duration": 8,
        "start_time": "2022-02-09T08:40:42.776Z"
      },
      {
        "duration": 3,
        "start_time": "2022-02-09T08:40:42.785Z"
      },
      {
        "duration": 6,
        "start_time": "2022-02-09T08:40:42.789Z"
      },
      {
        "duration": 31,
        "start_time": "2022-02-09T08:40:42.796Z"
      },
      {
        "duration": 5,
        "start_time": "2022-02-09T08:40:42.829Z"
      },
      {
        "duration": 6,
        "start_time": "2022-02-09T08:40:42.835Z"
      },
      {
        "duration": 9,
        "start_time": "2022-02-09T08:40:42.842Z"
      },
      {
        "duration": 12,
        "start_time": "2022-02-09T08:40:42.853Z"
      },
      {
        "duration": 380,
        "start_time": "2022-02-09T08:40:42.866Z"
      },
      {
        "duration": 13,
        "start_time": "2022-02-09T08:40:43.248Z"
      },
      {
        "duration": 4,
        "start_time": "2022-02-09T08:40:43.262Z"
      },
      {
        "duration": 105,
        "start_time": "2022-02-09T08:40:43.267Z"
      },
      {
        "duration": 4,
        "start_time": "2022-02-09T08:40:43.376Z"
      },
      {
        "duration": 612,
        "start_time": "2022-02-09T08:40:43.382Z"
      },
      {
        "duration": 12,
        "start_time": "2022-02-09T08:40:43.995Z"
      },
      {
        "duration": 456,
        "start_time": "2022-02-09T08:40:44.009Z"
      },
      {
        "duration": 19,
        "start_time": "2022-02-09T08:40:44.467Z"
      },
      {
        "duration": 453,
        "start_time": "2022-02-09T08:40:44.488Z"
      },
      {
        "duration": 10,
        "start_time": "2022-02-09T08:40:44.943Z"
      },
      {
        "duration": 12,
        "start_time": "2022-02-09T08:40:44.955Z"
      },
      {
        "duration": 18,
        "start_time": "2022-02-09T08:40:44.969Z"
      },
      {
        "duration": 39,
        "start_time": "2022-02-09T08:40:44.988Z"
      },
      {
        "duration": 19,
        "start_time": "2022-02-09T08:40:45.029Z"
      },
      {
        "duration": 373,
        "start_time": "2022-02-09T08:40:45.049Z"
      },
      {
        "duration": 6,
        "start_time": "2022-02-09T08:40:45.427Z"
      },
      {
        "duration": 9,
        "start_time": "2022-02-09T08:40:45.435Z"
      },
      {
        "duration": 11,
        "start_time": "2022-02-09T08:40:45.446Z"
      },
      {
        "duration": 10,
        "start_time": "2022-02-09T08:40:45.459Z"
      },
      {
        "duration": 857,
        "start_time": "2022-02-09T08:40:45.470Z"
      },
      {
        "duration": 4,
        "start_time": "2022-02-09T08:40:46.329Z"
      },
      {
        "duration": 1125,
        "start_time": "2022-02-09T08:40:46.334Z"
      },
      {
        "duration": 13,
        "start_time": "2022-02-09T08:40:47.460Z"
      },
      {
        "duration": 4,
        "start_time": "2022-02-09T08:40:47.475Z"
      },
      {
        "duration": 16,
        "start_time": "2022-02-09T08:40:47.480Z"
      },
      {
        "duration": 33,
        "start_time": "2022-02-09T08:40:47.497Z"
      },
      {
        "duration": 13,
        "start_time": "2022-02-09T08:40:47.532Z"
      },
      {
        "duration": 14,
        "start_time": "2022-02-09T08:40:47.547Z"
      },
      {
        "duration": 11,
        "start_time": "2022-02-09T08:40:47.563Z"
      },
      {
        "duration": 10,
        "start_time": "2022-02-09T08:40:47.576Z"
      },
      {
        "duration": 10,
        "start_time": "2022-02-09T08:40:47.588Z"
      },
      {
        "duration": 11,
        "start_time": "2022-02-09T08:40:47.627Z"
      },
      {
        "duration": 11,
        "start_time": "2022-02-09T08:40:47.639Z"
      },
      {
        "duration": 13,
        "start_time": "2022-02-09T08:40:47.651Z"
      },
      {
        "duration": 3,
        "start_time": "2022-02-09T08:40:47.665Z"
      },
      {
        "duration": 6,
        "start_time": "2022-02-09T08:40:47.670Z"
      },
      {
        "duration": 12,
        "start_time": "2022-02-09T08:40:47.677Z"
      },
      {
        "duration": 37,
        "start_time": "2022-02-09T08:40:47.691Z"
      },
      {
        "duration": 4,
        "start_time": "2022-02-09T08:40:47.729Z"
      },
      {
        "duration": 6,
        "start_time": "2022-02-09T08:40:47.735Z"
      },
      {
        "duration": 695,
        "start_time": "2022-02-09T08:41:55.667Z"
      },
      {
        "duration": 4,
        "start_time": "2022-02-09T08:42:57.173Z"
      },
      {
        "duration": 2340,
        "start_time": "2022-02-09T08:42:59.258Z"
      },
      {
        "duration": 4,
        "start_time": "2022-02-09T08:44:03.361Z"
      },
      {
        "duration": 1337,
        "start_time": "2022-02-09T08:44:05.408Z"
      },
      {
        "duration": 5,
        "start_time": "2022-02-09T08:44:52.820Z"
      },
      {
        "duration": 272,
        "start_time": "2022-02-09T08:52:41.304Z"
      },
      {
        "duration": 1505,
        "start_time": "2022-02-09T08:54:43.878Z"
      },
      {
        "duration": 95,
        "start_time": "2022-02-09T08:55:11.935Z"
      },
      {
        "duration": 9459,
        "start_time": "2022-02-09T08:55:21.338Z"
      },
      {
        "duration": 1014,
        "start_time": "2022-02-09T08:58:16.563Z"
      },
      {
        "duration": 747,
        "start_time": "2022-02-09T08:58:25.882Z"
      },
      {
        "duration": 744,
        "start_time": "2022-02-09T09:00:02.484Z"
      },
      {
        "duration": 3,
        "start_time": "2022-02-09T09:06:42.320Z"
      },
      {
        "duration": 608,
        "start_time": "2022-02-09T09:08:57.080Z"
      },
      {
        "duration": 445,
        "start_time": "2022-02-09T09:10:59.685Z"
      },
      {
        "duration": 410,
        "start_time": "2022-02-09T09:11:16.959Z"
      },
      {
        "duration": 467,
        "start_time": "2022-02-09T09:43:14.807Z"
      },
      {
        "duration": 438,
        "start_time": "2022-02-09T09:44:13.487Z"
      },
      {
        "duration": 426,
        "start_time": "2022-02-09T09:44:29.378Z"
      },
      {
        "duration": 10,
        "start_time": "2022-02-09T09:47:27.896Z"
      },
      {
        "duration": 8,
        "start_time": "2022-02-09T09:48:28.470Z"
      },
      {
        "duration": 1435,
        "start_time": "2022-02-09T09:50:22.107Z"
      },
      {
        "duration": 589,
        "start_time": "2022-02-09T09:50:23.543Z"
      },
      {
        "duration": 45,
        "start_time": "2022-02-09T09:50:24.135Z"
      },
      {
        "duration": 19,
        "start_time": "2022-02-09T09:50:24.183Z"
      },
      {
        "duration": 12,
        "start_time": "2022-02-09T09:50:24.204Z"
      },
      {
        "duration": 9,
        "start_time": "2022-02-09T09:50:24.218Z"
      },
      {
        "duration": 14,
        "start_time": "2022-02-09T09:50:24.229Z"
      },
      {
        "duration": 10,
        "start_time": "2022-02-09T09:50:24.246Z"
      },
      {
        "duration": 9,
        "start_time": "2022-02-09T09:50:24.259Z"
      },
      {
        "duration": 5,
        "start_time": "2022-02-09T09:50:24.270Z"
      },
      {
        "duration": 11,
        "start_time": "2022-02-09T09:50:24.277Z"
      },
      {
        "duration": 21,
        "start_time": "2022-02-09T09:50:24.290Z"
      },
      {
        "duration": 20,
        "start_time": "2022-02-09T09:50:24.313Z"
      },
      {
        "duration": 8,
        "start_time": "2022-02-09T09:50:24.334Z"
      },
      {
        "duration": 3,
        "start_time": "2022-02-09T09:50:24.343Z"
      },
      {
        "duration": 6,
        "start_time": "2022-02-09T09:50:24.348Z"
      },
      {
        "duration": 5,
        "start_time": "2022-02-09T09:50:24.357Z"
      },
      {
        "duration": 4,
        "start_time": "2022-02-09T09:50:24.364Z"
      },
      {
        "duration": 7,
        "start_time": "2022-02-09T09:50:24.369Z"
      },
      {
        "duration": 9,
        "start_time": "2022-02-09T09:50:24.377Z"
      },
      {
        "duration": 44,
        "start_time": "2022-02-09T09:50:24.387Z"
      },
      {
        "duration": 363,
        "start_time": "2022-02-09T09:50:24.433Z"
      },
      {
        "duration": 14,
        "start_time": "2022-02-09T09:50:24.799Z"
      },
      {
        "duration": 13,
        "start_time": "2022-02-09T09:50:24.815Z"
      },
      {
        "duration": 103,
        "start_time": "2022-02-09T09:50:24.829Z"
      },
      {
        "duration": 3,
        "start_time": "2022-02-09T09:50:24.933Z"
      },
      {
        "duration": 594,
        "start_time": "2022-02-09T09:50:24.937Z"
      },
      {
        "duration": 9,
        "start_time": "2022-02-09T09:50:25.533Z"
      },
      {
        "duration": 436,
        "start_time": "2022-02-09T09:50:25.544Z"
      },
      {
        "duration": 18,
        "start_time": "2022-02-09T09:50:25.981Z"
      },
      {
        "duration": 441,
        "start_time": "2022-02-09T09:50:26.000Z"
      },
      {
        "duration": 9,
        "start_time": "2022-02-09T09:50:26.442Z"
      },
      {
        "duration": 10,
        "start_time": "2022-02-09T09:50:26.453Z"
      },
      {
        "duration": 16,
        "start_time": "2022-02-09T09:50:26.465Z"
      },
      {
        "duration": 11,
        "start_time": "2022-02-09T09:50:26.482Z"
      },
      {
        "duration": 2,
        "start_time": "2022-02-09T09:50:26.494Z"
      },
      {
        "duration": 42,
        "start_time": "2022-02-09T09:50:26.498Z"
      },
      {
        "duration": 353,
        "start_time": "2022-02-09T09:50:26.541Z"
      },
      {
        "duration": 6,
        "start_time": "2022-02-09T09:50:26.895Z"
      },
      {
        "duration": 9,
        "start_time": "2022-02-09T09:50:26.903Z"
      },
      {
        "duration": 19,
        "start_time": "2022-02-09T09:50:26.913Z"
      },
      {
        "duration": 7,
        "start_time": "2022-02-09T09:50:26.934Z"
      },
      {
        "duration": 872,
        "start_time": "2022-02-09T09:50:26.942Z"
      },
      {
        "duration": 443,
        "start_time": "2022-02-09T09:50:27.816Z"
      },
      {
        "duration": 10,
        "start_time": "2022-02-09T09:50:28.260Z"
      },
      {
        "duration": 11,
        "start_time": "2022-02-09T09:50:28.272Z"
      },
      {
        "duration": 3,
        "start_time": "2022-02-09T09:50:28.285Z"
      },
      {
        "duration": 15,
        "start_time": "2022-02-09T09:50:28.290Z"
      },
      {
        "duration": 31,
        "start_time": "2022-02-09T09:50:28.306Z"
      },
      {
        "duration": 12,
        "start_time": "2022-02-09T09:50:28.339Z"
      },
      {
        "duration": 11,
        "start_time": "2022-02-09T09:50:28.352Z"
      },
      {
        "duration": 12,
        "start_time": "2022-02-09T09:50:28.364Z"
      },
      {
        "duration": 10,
        "start_time": "2022-02-09T09:50:28.378Z"
      },
      {
        "duration": 39,
        "start_time": "2022-02-09T09:50:28.389Z"
      },
      {
        "duration": 12,
        "start_time": "2022-02-09T09:50:28.430Z"
      },
      {
        "duration": 14,
        "start_time": "2022-02-09T09:50:28.444Z"
      },
      {
        "duration": 10,
        "start_time": "2022-02-09T09:50:28.460Z"
      },
      {
        "duration": 4,
        "start_time": "2022-02-09T09:50:28.472Z"
      },
      {
        "duration": 5,
        "start_time": "2022-02-09T09:50:28.477Z"
      },
      {
        "duration": 44,
        "start_time": "2022-02-09T09:50:28.484Z"
      },
      {
        "duration": 10,
        "start_time": "2022-02-09T09:50:28.529Z"
      },
      {
        "duration": 4,
        "start_time": "2022-02-09T09:50:28.541Z"
      },
      {
        "duration": 5,
        "start_time": "2022-02-09T09:50:28.547Z"
      },
      {
        "duration": 847,
        "start_time": "2022-02-09T09:51:39.403Z"
      },
      {
        "duration": 494,
        "start_time": "2022-02-09T09:51:48.551Z"
      },
      {
        "duration": 13,
        "start_time": "2022-02-09T09:52:00.973Z"
      },
      {
        "duration": 339,
        "start_time": "2022-02-09T09:53:01.423Z"
      },
      {
        "duration": 1423,
        "start_time": "2022-02-09T09:53:48.152Z"
      },
      {
        "duration": 594,
        "start_time": "2022-02-09T09:53:49.576Z"
      },
      {
        "duration": 35,
        "start_time": "2022-02-09T09:53:50.172Z"
      },
      {
        "duration": 14,
        "start_time": "2022-02-09T09:53:50.209Z"
      },
      {
        "duration": 10,
        "start_time": "2022-02-09T09:53:50.225Z"
      },
      {
        "duration": 3,
        "start_time": "2022-02-09T09:53:50.236Z"
      },
      {
        "duration": 14,
        "start_time": "2022-02-09T09:53:50.240Z"
      },
      {
        "duration": 8,
        "start_time": "2022-02-09T09:53:50.256Z"
      },
      {
        "duration": 7,
        "start_time": "2022-02-09T09:53:50.266Z"
      },
      {
        "duration": 6,
        "start_time": "2022-02-09T09:53:50.274Z"
      },
      {
        "duration": 5,
        "start_time": "2022-02-09T09:53:50.281Z"
      },
      {
        "duration": 12,
        "start_time": "2022-02-09T09:53:50.287Z"
      },
      {
        "duration": 8,
        "start_time": "2022-02-09T09:53:50.300Z"
      },
      {
        "duration": 24,
        "start_time": "2022-02-09T09:53:50.309Z"
      },
      {
        "duration": 3,
        "start_time": "2022-02-09T09:53:50.334Z"
      },
      {
        "duration": 5,
        "start_time": "2022-02-09T09:53:50.338Z"
      },
      {
        "duration": 5,
        "start_time": "2022-02-09T09:53:50.345Z"
      },
      {
        "duration": 5,
        "start_time": "2022-02-09T09:53:50.351Z"
      },
      {
        "duration": 5,
        "start_time": "2022-02-09T09:53:50.358Z"
      },
      {
        "duration": 13,
        "start_time": "2022-02-09T09:53:50.364Z"
      },
      {
        "duration": 11,
        "start_time": "2022-02-09T09:53:50.378Z"
      },
      {
        "duration": 373,
        "start_time": "2022-02-09T09:53:50.391Z"
      },
      {
        "duration": 13,
        "start_time": "2022-02-09T09:53:50.767Z"
      },
      {
        "duration": 3,
        "start_time": "2022-02-09T09:53:50.782Z"
      },
      {
        "duration": 108,
        "start_time": "2022-02-09T09:53:50.786Z"
      },
      {
        "duration": 3,
        "start_time": "2022-02-09T09:53:50.895Z"
      },
      {
        "duration": 606,
        "start_time": "2022-02-09T09:53:50.899Z"
      },
      {
        "duration": 22,
        "start_time": "2022-02-09T09:53:51.507Z"
      },
      {
        "duration": 532,
        "start_time": "2022-02-09T09:53:51.530Z"
      },
      {
        "duration": 17,
        "start_time": "2022-02-09T09:53:52.063Z"
      },
      {
        "duration": 443,
        "start_time": "2022-02-09T09:53:52.082Z"
      },
      {
        "duration": 8,
        "start_time": "2022-02-09T09:53:52.527Z"
      },
      {
        "duration": 11,
        "start_time": "2022-02-09T09:53:52.536Z"
      },
      {
        "duration": 17,
        "start_time": "2022-02-09T09:53:52.548Z"
      },
      {
        "duration": 10,
        "start_time": "2022-02-09T09:53:52.566Z"
      },
      {
        "duration": 2,
        "start_time": "2022-02-09T09:53:52.578Z"
      },
      {
        "duration": 47,
        "start_time": "2022-02-09T09:53:52.581Z"
      },
      {
        "duration": 354,
        "start_time": "2022-02-09T09:53:52.629Z"
      },
      {
        "duration": 6,
        "start_time": "2022-02-09T09:53:52.984Z"
      },
      {
        "duration": 6,
        "start_time": "2022-02-09T09:53:52.992Z"
      },
      {
        "duration": 7,
        "start_time": "2022-02-09T09:53:53.000Z"
      },
      {
        "duration": 20,
        "start_time": "2022-02-09T09:53:53.008Z"
      },
      {
        "duration": 974,
        "start_time": "2022-02-09T09:53:53.030Z"
      },
      {
        "duration": 460,
        "start_time": "2022-02-09T09:53:54.006Z"
      },
      {
        "duration": 10,
        "start_time": "2022-02-09T09:53:54.468Z"
      },
      {
        "duration": 14,
        "start_time": "2022-02-09T09:53:54.480Z"
      },
      {
        "duration": 2,
        "start_time": "2022-02-09T09:53:54.495Z"
      },
      {
        "duration": 38,
        "start_time": "2022-02-09T09:53:54.499Z"
      },
      {
        "duration": 14,
        "start_time": "2022-02-09T09:53:54.539Z"
      },
      {
        "duration": 17,
        "start_time": "2022-02-09T09:53:54.554Z"
      },
      {
        "duration": 14,
        "start_time": "2022-02-09T09:53:54.572Z"
      },
      {
        "duration": 41,
        "start_time": "2022-02-09T09:53:54.587Z"
      },
      {
        "duration": 16,
        "start_time": "2022-02-09T09:53:54.630Z"
      },
      {
        "duration": 14,
        "start_time": "2022-02-09T09:53:54.647Z"
      },
      {
        "duration": 23,
        "start_time": "2022-02-09T09:53:54.662Z"
      },
      {
        "duration": 16,
        "start_time": "2022-02-09T09:53:54.687Z"
      },
      {
        "duration": 29,
        "start_time": "2022-02-09T09:53:54.704Z"
      },
      {
        "duration": 6,
        "start_time": "2022-02-09T09:53:54.735Z"
      },
      {
        "duration": 8,
        "start_time": "2022-02-09T09:53:54.743Z"
      },
      {
        "duration": 14,
        "start_time": "2022-02-09T09:53:54.753Z"
      },
      {
        "duration": 11,
        "start_time": "2022-02-09T09:53:54.770Z"
      },
      {
        "duration": 6,
        "start_time": "2022-02-09T09:53:54.783Z"
      },
      {
        "duration": 39,
        "start_time": "2022-02-09T09:53:54.791Z"
      },
      {
        "duration": 508,
        "start_time": "2022-02-09T09:54:39.416Z"
      },
      {
        "duration": 277,
        "start_time": "2022-02-09T09:54:55.318Z"
      },
      {
        "duration": 280,
        "start_time": "2022-02-09T09:55:12.190Z"
      },
      {
        "duration": 358,
        "start_time": "2022-02-09T09:55:30.694Z"
      },
      {
        "duration": 15,
        "start_time": "2022-02-09T09:56:16.905Z"
      },
      {
        "duration": 287,
        "start_time": "2022-02-09T09:56:28.525Z"
      },
      {
        "duration": 19,
        "start_time": "2022-02-09T09:57:23.527Z"
      },
      {
        "duration": 279,
        "start_time": "2022-02-09T09:58:18.567Z"
      },
      {
        "duration": 7289,
        "start_time": "2022-02-09T09:59:00.245Z"
      },
      {
        "duration": 314,
        "start_time": "2022-02-09T10:00:22.475Z"
      },
      {
        "duration": 308,
        "start_time": "2022-02-09T10:00:42.428Z"
      },
      {
        "duration": 5,
        "start_time": "2022-02-09T10:01:08.628Z"
      },
      {
        "duration": 6,
        "start_time": "2022-02-09T10:03:26.801Z"
      },
      {
        "duration": 14,
        "start_time": "2022-02-09T10:07:16.991Z"
      },
      {
        "duration": 14,
        "start_time": "2022-02-09T10:07:36.712Z"
      },
      {
        "duration": 14,
        "start_time": "2022-02-09T10:07:46.413Z"
      },
      {
        "duration": 15,
        "start_time": "2022-02-09T10:08:55.986Z"
      },
      {
        "duration": 15,
        "start_time": "2022-02-09T10:14:37.452Z"
      },
      {
        "duration": 307,
        "start_time": "2022-02-09T10:18:24.204Z"
      },
      {
        "duration": 675,
        "start_time": "2022-02-09T10:18:51.345Z"
      },
      {
        "duration": 286,
        "start_time": "2022-02-09T10:18:57.806Z"
      },
      {
        "duration": 1010,
        "start_time": "2022-02-09T10:20:20.453Z"
      },
      {
        "duration": 474,
        "start_time": "2022-02-09T10:20:28.260Z"
      },
      {
        "duration": 504,
        "start_time": "2022-02-09T10:21:10.626Z"
      },
      {
        "duration": 21,
        "start_time": "2022-02-09T10:22:45.343Z"
      },
      {
        "duration": 15,
        "start_time": "2022-02-09T10:23:34.792Z"
      },
      {
        "duration": 20,
        "start_time": "2022-02-09T10:23:40.265Z"
      },
      {
        "duration": 10,
        "start_time": "2022-02-09T10:29:43.682Z"
      },
      {
        "duration": 4,
        "start_time": "2022-02-09T10:29:51.342Z"
      },
      {
        "duration": 4,
        "start_time": "2022-02-09T10:29:56.525Z"
      },
      {
        "duration": 1424,
        "start_time": "2022-02-09T10:37:20.527Z"
      },
      {
        "duration": 634,
        "start_time": "2022-02-09T10:37:21.952Z"
      },
      {
        "duration": 36,
        "start_time": "2022-02-09T10:37:22.588Z"
      },
      {
        "duration": 16,
        "start_time": "2022-02-09T10:37:22.625Z"
      },
      {
        "duration": 11,
        "start_time": "2022-02-09T10:37:22.643Z"
      },
      {
        "duration": 3,
        "start_time": "2022-02-09T10:37:22.656Z"
      },
      {
        "duration": 14,
        "start_time": "2022-02-09T10:37:22.660Z"
      },
      {
        "duration": 12,
        "start_time": "2022-02-09T10:37:22.677Z"
      },
      {
        "duration": 36,
        "start_time": "2022-02-09T10:37:22.691Z"
      },
      {
        "duration": 5,
        "start_time": "2022-02-09T10:37:22.729Z"
      },
      {
        "duration": 5,
        "start_time": "2022-02-09T10:37:22.735Z"
      },
      {
        "duration": 14,
        "start_time": "2022-02-09T10:37:22.742Z"
      },
      {
        "duration": 8,
        "start_time": "2022-02-09T10:37:22.758Z"
      },
      {
        "duration": 8,
        "start_time": "2022-02-09T10:37:22.768Z"
      },
      {
        "duration": 6,
        "start_time": "2022-02-09T10:37:22.778Z"
      },
      {
        "duration": 7,
        "start_time": "2022-02-09T10:37:22.786Z"
      },
      {
        "duration": 14,
        "start_time": "2022-02-09T10:37:22.794Z"
      },
      {
        "duration": 6,
        "start_time": "2022-02-09T10:37:22.809Z"
      },
      {
        "duration": 13,
        "start_time": "2022-02-09T10:37:22.816Z"
      },
      {
        "duration": 8,
        "start_time": "2022-02-09T10:37:22.831Z"
      },
      {
        "duration": 12,
        "start_time": "2022-02-09T10:37:22.841Z"
      },
      {
        "duration": 475,
        "start_time": "2022-02-09T10:37:22.855Z"
      },
      {
        "duration": 14,
        "start_time": "2022-02-09T10:37:23.333Z"
      },
      {
        "duration": 3,
        "start_time": "2022-02-09T10:37:23.350Z"
      },
      {
        "duration": 114,
        "start_time": "2022-02-09T10:37:23.355Z"
      },
      {
        "duration": 3,
        "start_time": "2022-02-09T10:37:23.471Z"
      },
      {
        "duration": 617,
        "start_time": "2022-02-09T10:37:23.476Z"
      },
      {
        "duration": 12,
        "start_time": "2022-02-09T10:37:24.095Z"
      },
      {
        "duration": 561,
        "start_time": "2022-02-09T10:37:24.108Z"
      },
      {
        "duration": 20,
        "start_time": "2022-02-09T10:37:24.671Z"
      },
      {
        "duration": 477,
        "start_time": "2022-02-09T10:37:24.693Z"
      },
      {
        "duration": 9,
        "start_time": "2022-02-09T10:37:25.172Z"
      },
      {
        "duration": 11,
        "start_time": "2022-02-09T10:37:25.183Z"
      },
      {
        "duration": 38,
        "start_time": "2022-02-09T10:37:25.195Z"
      },
      {
        "duration": 12,
        "start_time": "2022-02-09T10:37:25.234Z"
      },
      {
        "duration": 5,
        "start_time": "2022-02-09T10:37:25.247Z"
      },
      {
        "duration": 18,
        "start_time": "2022-02-09T10:37:25.254Z"
      },
      {
        "duration": 372,
        "start_time": "2022-02-09T10:37:25.273Z"
      },
      {
        "duration": 6,
        "start_time": "2022-02-09T10:37:25.646Z"
      },
      {
        "duration": 7,
        "start_time": "2022-02-09T10:37:25.654Z"
      },
      {
        "duration": 7,
        "start_time": "2022-02-09T10:37:25.663Z"
      },
      {
        "duration": 8,
        "start_time": "2022-02-09T10:37:25.671Z"
      },
      {
        "duration": 848,
        "start_time": "2022-02-09T10:37:25.680Z"
      },
      {
        "duration": 438,
        "start_time": "2022-02-09T10:37:26.530Z"
      },
      {
        "duration": 10,
        "start_time": "2022-02-09T10:37:26.969Z"
      },
      {
        "duration": 319,
        "start_time": "2022-02-09T10:37:26.981Z"
      },
      {
        "duration": 6,
        "start_time": "2022-02-09T10:37:27.301Z"
      },
      {
        "duration": 20,
        "start_time": "2022-02-09T10:37:27.308Z"
      },
      {
        "duration": 3,
        "start_time": "2022-02-09T10:37:27.329Z"
      },
      {
        "duration": 16,
        "start_time": "2022-02-09T10:37:27.333Z"
      },
      {
        "duration": 12,
        "start_time": "2022-02-09T10:37:27.351Z"
      },
      {
        "duration": 12,
        "start_time": "2022-02-09T10:37:27.365Z"
      },
      {
        "duration": 11,
        "start_time": "2022-02-09T10:37:27.378Z"
      },
      {
        "duration": 41,
        "start_time": "2022-02-09T10:37:27.391Z"
      },
      {
        "duration": 14,
        "start_time": "2022-02-09T10:37:27.433Z"
      },
      {
        "duration": 11,
        "start_time": "2022-02-09T10:37:27.449Z"
      },
      {
        "duration": 12,
        "start_time": "2022-02-09T10:37:27.461Z"
      },
      {
        "duration": 12,
        "start_time": "2022-02-09T10:37:27.475Z"
      },
      {
        "duration": 38,
        "start_time": "2022-02-09T10:37:27.489Z"
      },
      {
        "duration": 4,
        "start_time": "2022-02-09T10:37:27.529Z"
      },
      {
        "duration": 6,
        "start_time": "2022-02-09T10:37:27.535Z"
      },
      {
        "duration": 16,
        "start_time": "2022-02-09T10:37:27.542Z"
      },
      {
        "duration": 8,
        "start_time": "2022-02-09T10:37:27.560Z"
      },
      {
        "duration": 4,
        "start_time": "2022-02-09T10:37:27.569Z"
      },
      {
        "duration": 5,
        "start_time": "2022-02-09T10:37:27.575Z"
      },
      {
        "duration": 306,
        "start_time": "2022-02-10T04:59:37.058Z"
      },
      {
        "duration": 1868,
        "start_time": "2022-02-10T04:59:44.644Z"
      },
      {
        "duration": 803,
        "start_time": "2022-02-10T04:59:46.515Z"
      },
      {
        "duration": 44,
        "start_time": "2022-02-10T04:59:47.322Z"
      },
      {
        "duration": 29,
        "start_time": "2022-02-10T04:59:47.369Z"
      },
      {
        "duration": 17,
        "start_time": "2022-02-10T04:59:47.401Z"
      },
      {
        "duration": 4,
        "start_time": "2022-02-10T04:59:47.420Z"
      },
      {
        "duration": 18,
        "start_time": "2022-02-10T04:59:47.449Z"
      },
      {
        "duration": 14,
        "start_time": "2022-02-10T04:59:47.470Z"
      },
      {
        "duration": 12,
        "start_time": "2022-02-10T04:59:47.487Z"
      },
      {
        "duration": 8,
        "start_time": "2022-02-10T04:59:47.501Z"
      },
      {
        "duration": 39,
        "start_time": "2022-02-10T04:59:47.511Z"
      },
      {
        "duration": 14,
        "start_time": "2022-02-10T04:59:47.552Z"
      },
      {
        "duration": 13,
        "start_time": "2022-02-10T04:59:47.568Z"
      },
      {
        "duration": 16,
        "start_time": "2022-02-10T04:59:47.584Z"
      },
      {
        "duration": 4,
        "start_time": "2022-02-10T04:59:47.603Z"
      },
      {
        "duration": 39,
        "start_time": "2022-02-10T04:59:47.609Z"
      },
      {
        "duration": 5,
        "start_time": "2022-02-10T04:59:47.651Z"
      },
      {
        "duration": 4,
        "start_time": "2022-02-10T04:59:47.659Z"
      },
      {
        "duration": 8,
        "start_time": "2022-02-10T04:59:47.666Z"
      },
      {
        "duration": 18,
        "start_time": "2022-02-10T04:59:47.676Z"
      },
      {
        "duration": 57,
        "start_time": "2022-02-10T04:59:47.696Z"
      },
      {
        "duration": 650,
        "start_time": "2022-02-10T04:59:47.755Z"
      },
      {
        "duration": 21,
        "start_time": "2022-02-10T04:59:48.411Z"
      },
      {
        "duration": 5,
        "start_time": "2022-02-10T04:59:48.450Z"
      },
      {
        "duration": 166,
        "start_time": "2022-02-10T04:59:48.457Z"
      },
      {
        "duration": 4,
        "start_time": "2022-02-10T04:59:48.626Z"
      },
      {
        "duration": 1075,
        "start_time": "2022-02-10T04:59:48.632Z"
      },
      {
        "duration": 15,
        "start_time": "2022-02-10T04:59:49.709Z"
      },
      {
        "duration": 772,
        "start_time": "2022-02-10T04:59:49.726Z"
      },
      {
        "duration": 26,
        "start_time": "2022-02-10T04:59:50.500Z"
      },
      {
        "duration": 772,
        "start_time": "2022-02-10T04:59:50.528Z"
      },
      {
        "duration": 14,
        "start_time": "2022-02-10T04:59:51.303Z"
      },
      {
        "duration": 49,
        "start_time": "2022-02-10T04:59:51.319Z"
      },
      {
        "duration": 33,
        "start_time": "2022-02-10T04:59:51.371Z"
      },
      {
        "duration": 18,
        "start_time": "2022-02-10T04:59:51.407Z"
      },
      {
        "duration": 20,
        "start_time": "2022-02-10T04:59:51.428Z"
      },
      {
        "duration": 33,
        "start_time": "2022-02-10T04:59:51.451Z"
      },
      {
        "duration": 630,
        "start_time": "2022-02-10T04:59:51.486Z"
      },
      {
        "duration": 13,
        "start_time": "2022-02-10T04:59:52.119Z"
      },
      {
        "duration": 10,
        "start_time": "2022-02-10T04:59:52.150Z"
      },
      {
        "duration": 19,
        "start_time": "2022-02-10T04:59:52.163Z"
      },
      {
        "duration": 16,
        "start_time": "2022-02-10T04:59:52.185Z"
      },
      {
        "duration": 1384,
        "start_time": "2022-02-10T04:59:52.203Z"
      },
      {
        "duration": 729,
        "start_time": "2022-02-10T04:59:53.590Z"
      },
      {
        "duration": 30,
        "start_time": "2022-02-10T04:59:54.321Z"
      },
      {
        "duration": 723,
        "start_time": "2022-02-10T04:59:54.353Z"
      },
      {
        "duration": 9,
        "start_time": "2022-02-10T04:59:55.078Z"
      },
      {
        "duration": 12,
        "start_time": "2022-02-10T04:59:55.090Z"
      },
      {
        "duration": 7,
        "start_time": "2022-02-10T04:59:55.104Z"
      },
      {
        "duration": 56,
        "start_time": "2022-02-10T04:59:55.113Z"
      },
      {
        "duration": 23,
        "start_time": "2022-02-10T04:59:55.172Z"
      },
      {
        "duration": 22,
        "start_time": "2022-02-10T04:59:55.198Z"
      },
      {
        "duration": 20,
        "start_time": "2022-02-10T04:59:55.249Z"
      },
      {
        "duration": 19,
        "start_time": "2022-02-10T04:59:55.271Z"
      },
      {
        "duration": 18,
        "start_time": "2022-02-10T04:59:55.293Z"
      },
      {
        "duration": 19,
        "start_time": "2022-02-10T04:59:55.349Z"
      },
      {
        "duration": 18,
        "start_time": "2022-02-10T04:59:55.371Z"
      },
      {
        "duration": 18,
        "start_time": "2022-02-10T04:59:55.391Z"
      },
      {
        "duration": 47,
        "start_time": "2022-02-10T04:59:55.411Z"
      },
      {
        "duration": 13,
        "start_time": "2022-02-10T04:59:55.460Z"
      },
      {
        "duration": 10,
        "start_time": "2022-02-10T04:59:55.476Z"
      },
      {
        "duration": 14,
        "start_time": "2022-02-10T04:59:55.489Z"
      },
      {
        "duration": 13,
        "start_time": "2022-02-10T04:59:55.506Z"
      },
      {
        "duration": 30,
        "start_time": "2022-02-10T04:59:55.521Z"
      },
      {
        "duration": 8,
        "start_time": "2022-02-10T04:59:55.554Z"
      },
      {
        "duration": 25,
        "start_time": "2022-02-10T05:00:32.688Z"
      },
      {
        "duration": 1872,
        "start_time": "2022-02-10T05:00:42.002Z"
      },
      {
        "duration": 795,
        "start_time": "2022-02-10T05:00:43.877Z"
      },
      {
        "duration": 43,
        "start_time": "2022-02-10T05:00:44.675Z"
      },
      {
        "duration": 25,
        "start_time": "2022-02-10T05:00:44.721Z"
      },
      {
        "duration": 14,
        "start_time": "2022-02-10T05:00:44.749Z"
      },
      {
        "duration": 4,
        "start_time": "2022-02-10T05:00:44.765Z"
      },
      {
        "duration": 21,
        "start_time": "2022-02-10T05:00:44.771Z"
      },
      {
        "duration": 12,
        "start_time": "2022-02-10T05:00:44.796Z"
      },
      {
        "duration": 46,
        "start_time": "2022-02-10T05:00:44.811Z"
      },
      {
        "duration": 8,
        "start_time": "2022-02-10T05:00:44.860Z"
      },
      {
        "duration": 4,
        "start_time": "2022-02-10T05:00:44.871Z"
      },
      {
        "duration": 14,
        "start_time": "2022-02-10T05:00:44.878Z"
      },
      {
        "duration": 54,
        "start_time": "2022-02-10T05:00:44.895Z"
      },
      {
        "duration": 14,
        "start_time": "2022-02-10T05:00:44.952Z"
      },
      {
        "duration": 5,
        "start_time": "2022-02-10T05:00:44.969Z"
      },
      {
        "duration": 8,
        "start_time": "2022-02-10T05:00:44.977Z"
      },
      {
        "duration": 7,
        "start_time": "2022-02-10T05:00:44.988Z"
      },
      {
        "duration": 50,
        "start_time": "2022-02-10T05:00:44.998Z"
      },
      {
        "duration": 14,
        "start_time": "2022-02-10T05:00:45.051Z"
      },
      {
        "duration": 19,
        "start_time": "2022-02-10T05:00:45.067Z"
      },
      {
        "duration": 22,
        "start_time": "2022-02-10T05:00:45.089Z"
      },
      {
        "duration": 688,
        "start_time": "2022-02-10T05:00:45.113Z"
      },
      {
        "duration": 22,
        "start_time": "2022-02-10T05:00:45.807Z"
      },
      {
        "duration": 18,
        "start_time": "2022-02-10T05:00:45.833Z"
      },
      {
        "duration": 175,
        "start_time": "2022-02-10T05:00:45.853Z"
      },
      {
        "duration": 5,
        "start_time": "2022-02-10T05:00:46.030Z"
      },
      {
        "duration": 1109,
        "start_time": "2022-02-10T05:00:46.049Z"
      },
      {
        "duration": 16,
        "start_time": "2022-02-10T05:00:47.161Z"
      },
      {
        "duration": 799,
        "start_time": "2022-02-10T05:00:47.180Z"
      },
      {
        "duration": 31,
        "start_time": "2022-02-10T05:00:47.982Z"
      },
      {
        "duration": 791,
        "start_time": "2022-02-10T05:00:48.016Z"
      },
      {
        "duration": 15,
        "start_time": "2022-02-10T05:00:48.809Z"
      },
      {
        "duration": 37,
        "start_time": "2022-02-10T05:00:48.826Z"
      },
      {
        "duration": 36,
        "start_time": "2022-02-10T05:00:48.871Z"
      },
      {
        "duration": 46,
        "start_time": "2022-02-10T05:00:48.909Z"
      },
      {
        "duration": 8,
        "start_time": "2022-02-10T05:00:48.958Z"
      },
      {
        "duration": 43,
        "start_time": "2022-02-10T05:00:48.968Z"
      },
      {
        "duration": 609,
        "start_time": "2022-02-10T05:00:49.014Z"
      },
      {
        "duration": 24,
        "start_time": "2022-02-10T05:00:49.626Z"
      },
      {
        "duration": 8,
        "start_time": "2022-02-10T05:00:49.652Z"
      },
      {
        "duration": 15,
        "start_time": "2022-02-10T05:00:49.662Z"
      },
      {
        "duration": 11,
        "start_time": "2022-02-10T05:00:49.679Z"
      },
      {
        "duration": 1415,
        "start_time": "2022-02-10T05:00:49.693Z"
      },
      {
        "duration": 715,
        "start_time": "2022-02-10T05:00:51.111Z"
      },
      {
        "duration": 30,
        "start_time": "2022-02-10T05:00:51.829Z"
      },
      {
        "duration": 612,
        "start_time": "2022-02-10T05:00:51.862Z"
      },
      {
        "duration": 10,
        "start_time": "2022-02-10T05:00:52.477Z"
      },
      {
        "duration": 12,
        "start_time": "2022-02-10T05:00:52.490Z"
      },
      {
        "duration": 5,
        "start_time": "2022-02-10T05:00:52.504Z"
      },
      {
        "duration": 62,
        "start_time": "2022-02-10T05:00:52.511Z"
      },
      {
        "duration": 23,
        "start_time": "2022-02-10T05:00:52.575Z"
      },
      {
        "duration": 56,
        "start_time": "2022-02-10T05:00:52.601Z"
      },
      {
        "duration": 19,
        "start_time": "2022-02-10T05:00:52.660Z"
      },
      {
        "duration": 20,
        "start_time": "2022-02-10T05:00:52.682Z"
      },
      {
        "duration": 53,
        "start_time": "2022-02-10T05:00:52.704Z"
      },
      {
        "duration": 18,
        "start_time": "2022-02-10T05:00:52.760Z"
      },
      {
        "duration": 20,
        "start_time": "2022-02-10T05:00:52.781Z"
      },
      {
        "duration": 46,
        "start_time": "2022-02-10T05:00:52.803Z"
      },
      {
        "duration": 14,
        "start_time": "2022-02-10T05:00:52.852Z"
      },
      {
        "duration": 12,
        "start_time": "2022-02-10T05:00:52.869Z"
      },
      {
        "duration": 7,
        "start_time": "2022-02-10T05:00:52.883Z"
      },
      {
        "duration": 17,
        "start_time": "2022-02-10T05:00:52.893Z"
      },
      {
        "duration": 47,
        "start_time": "2022-02-10T05:00:52.912Z"
      },
      {
        "duration": 8,
        "start_time": "2022-02-10T05:00:52.962Z"
      },
      {
        "duration": 16,
        "start_time": "2022-02-10T05:00:52.972Z"
      },
      {
        "duration": 98,
        "start_time": "2022-02-10T17:11:11.259Z"
      },
      {
        "duration": 1530,
        "start_time": "2022-02-11T03:48:39.156Z"
      },
      {
        "duration": 657,
        "start_time": "2022-02-11T03:48:40.688Z"
      },
      {
        "duration": 36,
        "start_time": "2022-02-11T03:48:41.348Z"
      },
      {
        "duration": 18,
        "start_time": "2022-02-11T03:48:41.386Z"
      },
      {
        "duration": 11,
        "start_time": "2022-02-11T03:48:41.406Z"
      },
      {
        "duration": 4,
        "start_time": "2022-02-11T03:48:41.419Z"
      },
      {
        "duration": 17,
        "start_time": "2022-02-11T03:48:41.424Z"
      },
      {
        "duration": 11,
        "start_time": "2022-02-11T03:48:41.444Z"
      },
      {
        "duration": 10,
        "start_time": "2022-02-11T03:48:41.458Z"
      },
      {
        "duration": 40,
        "start_time": "2022-02-11T03:48:41.470Z"
      },
      {
        "duration": 4,
        "start_time": "2022-02-11T03:48:41.512Z"
      },
      {
        "duration": 11,
        "start_time": "2022-02-11T03:48:41.518Z"
      },
      {
        "duration": 10,
        "start_time": "2022-02-11T03:48:41.531Z"
      },
      {
        "duration": 10,
        "start_time": "2022-02-11T03:48:41.543Z"
      },
      {
        "duration": 5,
        "start_time": "2022-02-11T03:48:41.554Z"
      },
      {
        "duration": 6,
        "start_time": "2022-02-11T03:48:41.560Z"
      },
      {
        "duration": 39,
        "start_time": "2022-02-11T03:48:41.568Z"
      },
      {
        "duration": 3,
        "start_time": "2022-02-11T03:48:41.610Z"
      },
      {
        "duration": 11,
        "start_time": "2022-02-11T03:48:41.615Z"
      },
      {
        "duration": 12,
        "start_time": "2022-02-11T03:48:41.628Z"
      },
      {
        "duration": 15,
        "start_time": "2022-02-11T03:48:41.642Z"
      },
      {
        "duration": 466,
        "start_time": "2022-02-11T03:48:41.659Z"
      },
      {
        "duration": 18,
        "start_time": "2022-02-11T03:48:42.129Z"
      },
      {
        "duration": 5,
        "start_time": "2022-02-11T03:48:42.149Z"
      },
      {
        "duration": 141,
        "start_time": "2022-02-11T03:48:42.155Z"
      },
      {
        "duration": 9,
        "start_time": "2022-02-11T03:48:42.298Z"
      },
      {
        "duration": 727,
        "start_time": "2022-02-11T03:48:42.310Z"
      },
      {
        "duration": 11,
        "start_time": "2022-02-11T03:48:43.039Z"
      },
      {
        "duration": 533,
        "start_time": "2022-02-11T03:48:43.052Z"
      },
      {
        "duration": 32,
        "start_time": "2022-02-11T03:48:43.587Z"
      },
      {
        "duration": 543,
        "start_time": "2022-02-11T03:48:43.621Z"
      },
      {
        "duration": 10,
        "start_time": "2022-02-11T03:48:44.166Z"
      },
      {
        "duration": 31,
        "start_time": "2022-02-11T03:48:44.178Z"
      },
      {
        "duration": 19,
        "start_time": "2022-02-11T03:48:44.211Z"
      },
      {
        "duration": 15,
        "start_time": "2022-02-11T03:48:44.231Z"
      },
      {
        "duration": 8,
        "start_time": "2022-02-11T03:48:44.248Z"
      },
      {
        "duration": 50,
        "start_time": "2022-02-11T03:48:44.257Z"
      },
      {
        "duration": 445,
        "start_time": "2022-02-11T03:48:44.309Z"
      },
      {
        "duration": 9,
        "start_time": "2022-02-11T03:48:44.756Z"
      },
      {
        "duration": 8,
        "start_time": "2022-02-11T03:48:44.767Z"
      },
      {
        "duration": 32,
        "start_time": "2022-02-11T03:48:44.777Z"
      },
      {
        "duration": 9,
        "start_time": "2022-02-11T03:48:44.811Z"
      },
      {
        "duration": 996,
        "start_time": "2022-02-11T03:48:44.821Z"
      },
      {
        "duration": 505,
        "start_time": "2022-02-11T03:48:45.819Z"
      },
      {
        "duration": 13,
        "start_time": "2022-02-11T03:48:46.326Z"
      },
      {
        "duration": 404,
        "start_time": "2022-02-11T03:48:46.341Z"
      },
      {
        "duration": 7,
        "start_time": "2022-02-11T03:48:46.747Z"
      },
      {
        "duration": 13,
        "start_time": "2022-02-11T03:48:46.755Z"
      },
      {
        "duration": 15,
        "start_time": "2022-02-11T03:48:46.770Z"
      },
      {
        "duration": 29,
        "start_time": "2022-02-11T03:48:46.787Z"
      },
      {
        "duration": 23,
        "start_time": "2022-02-11T03:48:46.817Z"
      },
      {
        "duration": 17,
        "start_time": "2022-02-11T03:48:46.842Z"
      },
      {
        "duration": 22,
        "start_time": "2022-02-11T03:48:46.861Z"
      },
      {
        "duration": 32,
        "start_time": "2022-02-11T03:48:46.885Z"
      },
      {
        "duration": 15,
        "start_time": "2022-02-11T03:48:46.919Z"
      },
      {
        "duration": 16,
        "start_time": "2022-02-11T03:48:46.936Z"
      },
      {
        "duration": 17,
        "start_time": "2022-02-11T03:48:46.954Z"
      },
      {
        "duration": 40,
        "start_time": "2022-02-11T03:48:46.973Z"
      },
      {
        "duration": 11,
        "start_time": "2022-02-11T03:48:47.015Z"
      },
      {
        "duration": 10,
        "start_time": "2022-02-11T03:48:47.028Z"
      },
      {
        "duration": 7,
        "start_time": "2022-02-11T03:48:47.040Z"
      },
      {
        "duration": 18,
        "start_time": "2022-02-11T03:48:47.049Z"
      },
      {
        "duration": 41,
        "start_time": "2022-02-11T03:48:47.069Z"
      },
      {
        "duration": 7,
        "start_time": "2022-02-11T03:48:47.112Z"
      },
      {
        "duration": 9,
        "start_time": "2022-02-11T03:48:47.121Z"
      },
      {
        "duration": 1588,
        "start_time": "2022-02-11T03:50:07.186Z"
      },
      {
        "duration": 772,
        "start_time": "2022-02-11T03:50:08.776Z"
      },
      {
        "duration": 37,
        "start_time": "2022-02-11T03:50:09.551Z"
      },
      {
        "duration": 19,
        "start_time": "2022-02-11T03:50:09.591Z"
      },
      {
        "duration": 16,
        "start_time": "2022-02-11T03:50:09.612Z"
      },
      {
        "duration": 4,
        "start_time": "2022-02-11T03:50:09.630Z"
      },
      {
        "duration": 20,
        "start_time": "2022-02-11T03:50:09.636Z"
      },
      {
        "duration": 19,
        "start_time": "2022-02-11T03:50:09.660Z"
      },
      {
        "duration": 33,
        "start_time": "2022-02-11T03:50:09.682Z"
      },
      {
        "duration": 13,
        "start_time": "2022-02-11T03:50:09.717Z"
      },
      {
        "duration": 6,
        "start_time": "2022-02-11T03:50:09.733Z"
      },
      {
        "duration": 15,
        "start_time": "2022-02-11T03:50:09.741Z"
      },
      {
        "duration": 12,
        "start_time": "2022-02-11T03:50:09.759Z"
      },
      {
        "duration": 36,
        "start_time": "2022-02-11T03:50:09.773Z"
      },
      {
        "duration": 4,
        "start_time": "2022-02-11T03:50:09.811Z"
      },
      {
        "duration": 12,
        "start_time": "2022-02-11T03:50:09.817Z"
      },
      {
        "duration": 13,
        "start_time": "2022-02-11T03:50:09.831Z"
      },
      {
        "duration": 7,
        "start_time": "2022-02-11T03:50:09.846Z"
      },
      {
        "duration": 12,
        "start_time": "2022-02-11T03:50:09.855Z"
      },
      {
        "duration": 18,
        "start_time": "2022-02-11T03:50:09.869Z"
      },
      {
        "duration": 29,
        "start_time": "2022-02-11T03:50:09.889Z"
      },
      {
        "duration": 464,
        "start_time": "2022-02-11T03:50:09.920Z"
      },
      {
        "duration": 26,
        "start_time": "2022-02-11T03:50:10.388Z"
      },
      {
        "duration": 4,
        "start_time": "2022-02-11T03:50:10.417Z"
      },
      {
        "duration": 141,
        "start_time": "2022-02-11T03:50:10.423Z"
      },
      {
        "duration": 4,
        "start_time": "2022-02-11T03:50:10.566Z"
      },
      {
        "duration": 781,
        "start_time": "2022-02-11T03:50:10.572Z"
      },
      {
        "duration": 11,
        "start_time": "2022-02-11T03:50:11.356Z"
      },
      {
        "duration": 538,
        "start_time": "2022-02-11T03:50:11.369Z"
      },
      {
        "duration": 21,
        "start_time": "2022-02-11T03:50:11.909Z"
      },
      {
        "duration": 528,
        "start_time": "2022-02-11T03:50:11.932Z"
      },
      {
        "duration": 13,
        "start_time": "2022-02-11T03:50:12.462Z"
      },
      {
        "duration": 32,
        "start_time": "2022-02-11T03:50:12.477Z"
      },
      {
        "duration": 20,
        "start_time": "2022-02-11T03:50:12.511Z"
      },
      {
        "duration": 15,
        "start_time": "2022-02-11T03:50:12.533Z"
      },
      {
        "duration": 9,
        "start_time": "2022-02-11T03:50:12.550Z"
      },
      {
        "duration": 24,
        "start_time": "2022-02-11T03:50:12.561Z"
      },
      {
        "duration": 424,
        "start_time": "2022-02-11T03:50:12.608Z"
      },
      {
        "duration": 7,
        "start_time": "2022-02-11T03:50:13.034Z"
      },
      {
        "duration": 11,
        "start_time": "2022-02-11T03:50:13.043Z"
      },
      {
        "duration": 12,
        "start_time": "2022-02-11T03:50:13.056Z"
      },
      {
        "duration": 13,
        "start_time": "2022-02-11T03:50:13.069Z"
      },
      {
        "duration": 1019,
        "start_time": "2022-02-11T03:50:13.109Z"
      },
      {
        "duration": 603,
        "start_time": "2022-02-11T03:50:14.130Z"
      },
      {
        "duration": 13,
        "start_time": "2022-02-11T03:50:14.735Z"
      },
      {
        "duration": 399,
        "start_time": "2022-02-11T03:50:14.749Z"
      },
      {
        "duration": 7,
        "start_time": "2022-02-11T03:50:15.149Z"
      },
      {
        "duration": 16,
        "start_time": "2022-02-11T03:50:15.158Z"
      },
      {
        "duration": 9,
        "start_time": "2022-02-11T03:50:15.176Z"
      },
      {
        "duration": 35,
        "start_time": "2022-02-11T03:50:15.188Z"
      },
      {
        "duration": 19,
        "start_time": "2022-02-11T03:50:15.225Z"
      },
      {
        "duration": 21,
        "start_time": "2022-02-11T03:50:15.246Z"
      },
      {
        "duration": 38,
        "start_time": "2022-02-11T03:50:15.269Z"
      },
      {
        "duration": 14,
        "start_time": "2022-02-11T03:50:15.310Z"
      },
      {
        "duration": 15,
        "start_time": "2022-02-11T03:50:15.326Z"
      },
      {
        "duration": 16,
        "start_time": "2022-02-11T03:50:15.343Z"
      },
      {
        "duration": 14,
        "start_time": "2022-02-11T03:50:15.361Z"
      },
      {
        "duration": 15,
        "start_time": "2022-02-11T03:50:15.408Z"
      },
      {
        "duration": 11,
        "start_time": "2022-02-11T03:50:15.425Z"
      },
      {
        "duration": 11,
        "start_time": "2022-02-11T03:50:15.438Z"
      },
      {
        "duration": 7,
        "start_time": "2022-02-11T03:50:15.451Z"
      },
      {
        "duration": 15,
        "start_time": "2022-02-11T03:50:15.460Z"
      },
      {
        "duration": 40,
        "start_time": "2022-02-11T03:50:15.476Z"
      },
      {
        "duration": 9,
        "start_time": "2022-02-11T03:50:15.518Z"
      },
      {
        "duration": 10,
        "start_time": "2022-02-11T03:50:15.529Z"
      },
      {
        "duration": 1501,
        "start_time": "2022-02-11T03:50:55.865Z"
      },
      {
        "duration": 678,
        "start_time": "2022-02-11T03:50:57.367Z"
      },
      {
        "duration": 37,
        "start_time": "2022-02-11T03:50:58.048Z"
      },
      {
        "duration": 19,
        "start_time": "2022-02-11T03:50:58.087Z"
      },
      {
        "duration": 15,
        "start_time": "2022-02-11T03:50:58.108Z"
      },
      {
        "duration": 3,
        "start_time": "2022-02-11T03:50:58.125Z"
      },
      {
        "duration": 16,
        "start_time": "2022-02-11T03:50:58.131Z"
      },
      {
        "duration": 10,
        "start_time": "2022-02-11T03:50:58.151Z"
      },
      {
        "duration": 10,
        "start_time": "2022-02-11T03:50:58.164Z"
      },
      {
        "duration": 7,
        "start_time": "2022-02-11T03:50:58.207Z"
      },
      {
        "duration": 8,
        "start_time": "2022-02-11T03:50:58.217Z"
      },
      {
        "duration": 17,
        "start_time": "2022-02-11T03:50:58.227Z"
      },
      {
        "duration": 14,
        "start_time": "2022-02-11T03:50:58.246Z"
      },
      {
        "duration": 13,
        "start_time": "2022-02-11T03:50:58.262Z"
      },
      {
        "duration": 30,
        "start_time": "2022-02-11T03:50:58.277Z"
      },
      {
        "duration": 14,
        "start_time": "2022-02-11T03:50:58.310Z"
      },
      {
        "duration": 9,
        "start_time": "2022-02-11T03:50:58.326Z"
      },
      {
        "duration": 13,
        "start_time": "2022-02-11T03:50:58.337Z"
      },
      {
        "duration": 13,
        "start_time": "2022-02-11T03:50:58.352Z"
      },
      {
        "duration": 13,
        "start_time": "2022-02-11T03:50:58.367Z"
      },
      {
        "duration": 25,
        "start_time": "2022-02-11T03:50:58.383Z"
      },
      {
        "duration": 434,
        "start_time": "2022-02-11T03:50:58.411Z"
      },
      {
        "duration": 17,
        "start_time": "2022-02-11T03:50:58.850Z"
      },
      {
        "duration": 4,
        "start_time": "2022-02-11T03:50:58.870Z"
      },
      {
        "duration": 145,
        "start_time": "2022-02-11T03:50:58.876Z"
      },
      {
        "duration": 3,
        "start_time": "2022-02-11T03:50:59.023Z"
      },
      {
        "duration": 708,
        "start_time": "2022-02-11T03:50:59.028Z"
      },
      {
        "duration": 12,
        "start_time": "2022-02-11T03:50:59.738Z"
      },
      {
        "duration": 542,
        "start_time": "2022-02-11T03:50:59.752Z"
      },
      {
        "duration": 21,
        "start_time": "2022-02-11T03:51:00.296Z"
      },
      {
        "duration": 522,
        "start_time": "2022-02-11T03:51:00.319Z"
      },
      {
        "duration": 12,
        "start_time": "2022-02-11T03:51:00.843Z"
      },
      {
        "duration": 35,
        "start_time": "2022-02-11T03:51:00.856Z"
      },
      {
        "duration": 33,
        "start_time": "2022-02-11T03:51:00.893Z"
      },
      {
        "duration": 16,
        "start_time": "2022-02-11T03:51:00.928Z"
      },
      {
        "duration": 11,
        "start_time": "2022-02-11T03:51:00.946Z"
      },
      {
        "duration": 36,
        "start_time": "2022-02-11T03:51:00.959Z"
      },
      {
        "duration": 458,
        "start_time": "2022-02-11T03:51:00.997Z"
      },
      {
        "duration": 9,
        "start_time": "2022-02-11T03:51:01.457Z"
      },
      {
        "duration": 27,
        "start_time": "2022-02-11T03:51:01.468Z"
      },
      {
        "duration": 30,
        "start_time": "2022-02-11T03:51:01.497Z"
      },
      {
        "duration": 21,
        "start_time": "2022-02-11T03:51:01.529Z"
      },
      {
        "duration": 1063,
        "start_time": "2022-02-11T03:51:01.552Z"
      },
      {
        "duration": 504,
        "start_time": "2022-02-11T03:51:02.616Z"
      },
      {
        "duration": 14,
        "start_time": "2022-02-11T03:51:03.122Z"
      },
      {
        "duration": 381,
        "start_time": "2022-02-11T03:51:03.137Z"
      },
      {
        "duration": 7,
        "start_time": "2022-02-11T03:51:03.520Z"
      },
      {
        "duration": 12,
        "start_time": "2022-02-11T03:51:03.529Z"
      },
      {
        "duration": 10,
        "start_time": "2022-02-11T03:51:03.542Z"
      },
      {
        "duration": 29,
        "start_time": "2022-02-11T03:51:03.554Z"
      },
      {
        "duration": 31,
        "start_time": "2022-02-11T03:51:03.584Z"
      },
      {
        "duration": 38,
        "start_time": "2022-02-11T03:51:03.616Z"
      },
      {
        "duration": 20,
        "start_time": "2022-02-11T03:51:03.656Z"
      },
      {
        "duration": 15,
        "start_time": "2022-02-11T03:51:03.677Z"
      },
      {
        "duration": 19,
        "start_time": "2022-02-11T03:51:03.694Z"
      },
      {
        "duration": 14,
        "start_time": "2022-02-11T03:51:03.715Z"
      },
      {
        "duration": 22,
        "start_time": "2022-02-11T03:51:03.731Z"
      },
      {
        "duration": 19,
        "start_time": "2022-02-11T03:51:03.755Z"
      },
      {
        "duration": 31,
        "start_time": "2022-02-11T03:51:03.776Z"
      },
      {
        "duration": 5,
        "start_time": "2022-02-11T03:51:03.809Z"
      },
      {
        "duration": 8,
        "start_time": "2022-02-11T03:51:03.815Z"
      },
      {
        "duration": 17,
        "start_time": "2022-02-11T03:51:03.825Z"
      },
      {
        "duration": 10,
        "start_time": "2022-02-11T03:51:03.844Z"
      },
      {
        "duration": 9,
        "start_time": "2022-02-11T03:51:03.857Z"
      },
      {
        "duration": 40,
        "start_time": "2022-02-11T03:51:03.868Z"
      }
    ],
    "colab": {
      "provenance": [],
      "toc_visible": true
    },
    "kernelspec": {
      "display_name": "Python 3 (ipykernel)",
      "language": "python",
      "name": "python3"
    },
    "language_info": {
      "codemirror_mode": {
        "name": "ipython",
        "version": 3
      },
      "file_extension": ".py",
      "mimetype": "text/x-python",
      "name": "python",
      "nbconvert_exporter": "python",
      "pygments_lexer": "ipython3",
      "version": "3.9.5"
    },
    "toc": {
      "base_numbering": 1,
      "nav_menu": {},
      "number_sections": true,
      "sideBar": true,
      "skip_h1_title": true,
      "title_cell": "Table of Contents",
      "title_sidebar": "Contents",
      "toc_cell": false,
      "toc_position": {},
      "toc_section_display": true,
      "toc_window_display": false
    }
  },
  "nbformat": 4,
  "nbformat_minor": 0
}