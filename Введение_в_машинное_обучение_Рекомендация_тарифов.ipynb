{
  "cells": [
    {
      "cell_type": "markdown",
      "metadata": {
        "id": "sNfRFRQa-mds"
      },
      "source": [
        "# Рекомендация тарифов"
      ]
    },
    {
      "cell_type": "markdown",
      "metadata": {
        "id": "jvpPXIBF-mdy"
      },
      "source": [
        "**Описание данных**\n",
        "\n",
        "Каждый объект в наборе данных — это информация о поведении одного пользователя за месяц. \n",
        "\n",
        "сalls — количество звонков,\n",
        "\n",
        "minutes — суммарная длительность звонков в минутах,\n",
        "\n",
        "messages — количество sms-сообщений,\n",
        "\n",
        "mb_used — израсходованный интернет-трафик в Мб,\n",
        "\n",
        "is_ultra — каким тарифом пользовался в течение месяца («Ультра» — 1, «Смарт» — 0)."
      ]
    },
    {
      "cell_type": "markdown",
      "metadata": {
        "id": "uMaWViVr-mdz"
      },
      "source": [
        "**Цель исследования**\n",
        "\n",
        "Построить модель с максимально большим значением *accuracy*. \n",
        "\n",
        "Нужно довести долю правильных ответов по крайней мере до 0.75. \n",
        "\n",
        "Проверить *accuracy* на тестовой выборке самостоятельно."
      ]
    },
    {
      "cell_type": "markdown",
      "metadata": {
        "id": "bEg-OkEA-md0"
      },
      "source": [
        "## Откройте и изучите файл"
      ]
    },
    {
      "cell_type": "code",
      "execution_count": null,
      "metadata": {
        "id": "4hi1kAao-md1"
      },
      "outputs": [],
      "source": [
        "import pandas as pd\n",
        "from sklearn.tree import DecisionTreeClassifier\n",
        "from sklearn.ensemble import RandomForestClassifier\n",
        "from sklearn.linear_model import LogisticRegression\n",
        "from sklearn.model_selection import train_test_split\n",
        "from sklearn.metrics import mean_squared_error\n",
        "from sklearn.metrics import accuracy_score\n",
        "import warnings\n",
        "warnings.filterwarnings('ignore')"
      ]
    },
    {
      "cell_type": "code",
      "execution_count": null,
      "metadata": {
        "id": "p62v6kX5-meG"
      },
      "outputs": [],
      "source": [
        "df = pd.read_csv('/datasets/users_behavior.csv')"
      ]
    },
    {
      "cell_type": "code",
      "execution_count": null,
      "metadata": {
        "id": "BPFWdj-c-meM",
        "outputId": "e149fdf3-c849-4a71-d329-ca8c9e142838"
      },
      "outputs": [
        {
          "data": {
            "text/html": [
              "<div>\n",
              "<style scoped>\n",
              "    .dataframe tbody tr th:only-of-type {\n",
              "        vertical-align: middle;\n",
              "    }\n",
              "\n",
              "    .dataframe tbody tr th {\n",
              "        vertical-align: top;\n",
              "    }\n",
              "\n",
              "    .dataframe thead th {\n",
              "        text-align: right;\n",
              "    }\n",
              "</style>\n",
              "<table border=\"1\" class=\"dataframe\">\n",
              "  <thead>\n",
              "    <tr style=\"text-align: right;\">\n",
              "      <th></th>\n",
              "      <th>calls</th>\n",
              "      <th>minutes</th>\n",
              "      <th>messages</th>\n",
              "      <th>mb_used</th>\n",
              "      <th>is_ultra</th>\n",
              "    </tr>\n",
              "  </thead>\n",
              "  <tbody>\n",
              "    <tr>\n",
              "      <td>0</td>\n",
              "      <td>40.0</td>\n",
              "      <td>311.90</td>\n",
              "      <td>83.0</td>\n",
              "      <td>19915.42</td>\n",
              "      <td>0</td>\n",
              "    </tr>\n",
              "    <tr>\n",
              "      <td>1</td>\n",
              "      <td>85.0</td>\n",
              "      <td>516.75</td>\n",
              "      <td>56.0</td>\n",
              "      <td>22696.96</td>\n",
              "      <td>0</td>\n",
              "    </tr>\n",
              "    <tr>\n",
              "      <td>2</td>\n",
              "      <td>77.0</td>\n",
              "      <td>467.66</td>\n",
              "      <td>86.0</td>\n",
              "      <td>21060.45</td>\n",
              "      <td>0</td>\n",
              "    </tr>\n",
              "    <tr>\n",
              "      <td>3</td>\n",
              "      <td>106.0</td>\n",
              "      <td>745.53</td>\n",
              "      <td>81.0</td>\n",
              "      <td>8437.39</td>\n",
              "      <td>1</td>\n",
              "    </tr>\n",
              "    <tr>\n",
              "      <td>4</td>\n",
              "      <td>66.0</td>\n",
              "      <td>418.74</td>\n",
              "      <td>1.0</td>\n",
              "      <td>14502.75</td>\n",
              "      <td>0</td>\n",
              "    </tr>\n",
              "  </tbody>\n",
              "</table>\n",
              "</div>"
            ],
            "text/plain": [
              "   calls  minutes  messages   mb_used  is_ultra\n",
              "0   40.0   311.90      83.0  19915.42         0\n",
              "1   85.0   516.75      56.0  22696.96         0\n",
              "2   77.0   467.66      86.0  21060.45         0\n",
              "3  106.0   745.53      81.0   8437.39         1\n",
              "4   66.0   418.74       1.0  14502.75         0"
            ]
          },
          "execution_count": 3,
          "metadata": {},
          "output_type": "execute_result"
        }
      ],
      "source": [
        "df.head()"
      ]
    },
    {
      "cell_type": "code",
      "execution_count": null,
      "metadata": {
        "id": "VcwZQhEt-meO",
        "outputId": "40ae445a-84c2-4eb0-dd90-7593468cdf2e"
      },
      "outputs": [
        {
          "name": "stdout",
          "output_type": "stream",
          "text": [
            "<class 'pandas.core.frame.DataFrame'>\n",
            "RangeIndex: 3214 entries, 0 to 3213\n",
            "Data columns (total 5 columns):\n",
            "calls       3214 non-null float64\n",
            "minutes     3214 non-null float64\n",
            "messages    3214 non-null float64\n",
            "mb_used     3214 non-null float64\n",
            "is_ultra    3214 non-null int64\n",
            "dtypes: float64(4), int64(1)\n",
            "memory usage: 125.7 KB\n"
          ]
        }
      ],
      "source": [
        "df.info()"
      ]
    },
    {
      "cell_type": "code",
      "execution_count": null,
      "metadata": {
        "id": "IyLdhkD6-meP",
        "outputId": "cf20f62f-1bea-44a3-e147-d1e65808c557"
      },
      "outputs": [
        {
          "data": {
            "text/html": [
              "<div>\n",
              "<style scoped>\n",
              "    .dataframe tbody tr th:only-of-type {\n",
              "        vertical-align: middle;\n",
              "    }\n",
              "\n",
              "    .dataframe tbody tr th {\n",
              "        vertical-align: top;\n",
              "    }\n",
              "\n",
              "    .dataframe thead th {\n",
              "        text-align: right;\n",
              "    }\n",
              "</style>\n",
              "<table border=\"1\" class=\"dataframe\">\n",
              "  <thead>\n",
              "    <tr style=\"text-align: right;\">\n",
              "      <th></th>\n",
              "      <th>calls</th>\n",
              "      <th>minutes</th>\n",
              "      <th>messages</th>\n",
              "      <th>mb_used</th>\n",
              "      <th>is_ultra</th>\n",
              "    </tr>\n",
              "  </thead>\n",
              "  <tbody>\n",
              "    <tr>\n",
              "      <td>count</td>\n",
              "      <td>3214.000000</td>\n",
              "      <td>3214.000000</td>\n",
              "      <td>3214.000000</td>\n",
              "      <td>3214.000000</td>\n",
              "      <td>3214.000000</td>\n",
              "    </tr>\n",
              "    <tr>\n",
              "      <td>mean</td>\n",
              "      <td>63.038892</td>\n",
              "      <td>438.208787</td>\n",
              "      <td>38.281269</td>\n",
              "      <td>17207.673836</td>\n",
              "      <td>0.306472</td>\n",
              "    </tr>\n",
              "    <tr>\n",
              "      <td>std</td>\n",
              "      <td>33.236368</td>\n",
              "      <td>234.569872</td>\n",
              "      <td>36.148326</td>\n",
              "      <td>7570.968246</td>\n",
              "      <td>0.461100</td>\n",
              "    </tr>\n",
              "    <tr>\n",
              "      <td>min</td>\n",
              "      <td>0.000000</td>\n",
              "      <td>0.000000</td>\n",
              "      <td>0.000000</td>\n",
              "      <td>0.000000</td>\n",
              "      <td>0.000000</td>\n",
              "    </tr>\n",
              "    <tr>\n",
              "      <td>25%</td>\n",
              "      <td>40.000000</td>\n",
              "      <td>274.575000</td>\n",
              "      <td>9.000000</td>\n",
              "      <td>12491.902500</td>\n",
              "      <td>0.000000</td>\n",
              "    </tr>\n",
              "    <tr>\n",
              "      <td>50%</td>\n",
              "      <td>62.000000</td>\n",
              "      <td>430.600000</td>\n",
              "      <td>30.000000</td>\n",
              "      <td>16943.235000</td>\n",
              "      <td>0.000000</td>\n",
              "    </tr>\n",
              "    <tr>\n",
              "      <td>75%</td>\n",
              "      <td>82.000000</td>\n",
              "      <td>571.927500</td>\n",
              "      <td>57.000000</td>\n",
              "      <td>21424.700000</td>\n",
              "      <td>1.000000</td>\n",
              "    </tr>\n",
              "    <tr>\n",
              "      <td>max</td>\n",
              "      <td>244.000000</td>\n",
              "      <td>1632.060000</td>\n",
              "      <td>224.000000</td>\n",
              "      <td>49745.730000</td>\n",
              "      <td>1.000000</td>\n",
              "    </tr>\n",
              "  </tbody>\n",
              "</table>\n",
              "</div>"
            ],
            "text/plain": [
              "             calls      minutes     messages       mb_used     is_ultra\n",
              "count  3214.000000  3214.000000  3214.000000   3214.000000  3214.000000\n",
              "mean     63.038892   438.208787    38.281269  17207.673836     0.306472\n",
              "std      33.236368   234.569872    36.148326   7570.968246     0.461100\n",
              "min       0.000000     0.000000     0.000000      0.000000     0.000000\n",
              "25%      40.000000   274.575000     9.000000  12491.902500     0.000000\n",
              "50%      62.000000   430.600000    30.000000  16943.235000     0.000000\n",
              "75%      82.000000   571.927500    57.000000  21424.700000     1.000000\n",
              "max     244.000000  1632.060000   224.000000  49745.730000     1.000000"
            ]
          },
          "execution_count": 5,
          "metadata": {},
          "output_type": "execute_result"
        }
      ],
      "source": [
        "df.describe()"
      ]
    },
    {
      "cell_type": "markdown",
      "metadata": {
        "id": "fnX6EpMm-meS"
      },
      "source": [
        "**Вывод**\n",
        "\n",
        "Пропусков нет, типы данных менять не нужно, названия колонок тоже в \"змеином\" регистре и с нижним подчеркиванием."
      ]
    },
    {
      "cell_type": "markdown",
      "metadata": {
        "id": "WCBtRzVA-meT"
      },
      "source": [
        "## Разбейте данные на выборки"
      ]
    },
    {
      "cell_type": "markdown",
      "metadata": {
        "id": "qbU9LEE9-meU"
      },
      "source": [
        "Объявим две переменные:\n",
        "features (англ. «признаки») — запишем в неё признаки;\n",
        "target (англ. «цель») — целевой признак."
      ]
    },
    {
      "cell_type": "code",
      "execution_count": null,
      "metadata": {
        "id": "2dVprb6V-meV"
      },
      "outputs": [],
      "source": [
        "features = df.drop(['is_ultra'], axis = 1)\n",
        "target = df['is_ultra']"
      ]
    },
    {
      "cell_type": "markdown",
      "metadata": {
        "id": "TbCd2b4a-meZ"
      },
      "source": [
        "Разделим исходные данные на обучающую, валидационную и тестовую выборки.\n"
      ]
    },
    {
      "cell_type": "markdown",
      "metadata": {
        "id": "hP1_9uqx-meZ"
      },
      "source": [
        "train, valid_test = train_test_split(\n",
        "    df, test_size=2/5, random_state=12345)\n",
        "valid, test = train_test_split(\n",
        "    valid_test, train_size=0.5, random_state=12345)"
      ]
    },
    {
      "cell_type": "markdown",
      "metadata": {
        "id": "Mw8ygEWn-mec"
      },
      "source": [
        "features_train = train.drop(['is_ultra'], axis = 1)\n",
        "features_valid = valid_test.drop(['is_ultra'], axis = 1)\n",
        "features_test = test.drop(['is_ultra'], axis = 1)\n",
        "target_train = df['is_ultra']\n",
        "target_valid = df['is_ultra']\n",
        "target_test = df['is_ultra']"
      ]
    },
    {
      "cell_type": "code",
      "execution_count": null,
      "metadata": {
        "id": "uUhuQ11q-med"
      },
      "outputs": [],
      "source": [
        "features, features_test, target, target_test = train_test_split(features, target, test_size=0.2, random_state=12345, stratify=target)\n",
        "features_train, features_valid, target_train, target_valid = train_test_split(features, target, test_size=0.6, random_state=12345, stratify=target)"
      ]
    },
    {
      "cell_type": "code",
      "execution_count": null,
      "metadata": {
        "id": "S4mu3_oD-med",
        "outputId": "e21fbfaf-c4f8-49a2-b040-c252f39838cc"
      },
      "outputs": [
        {
          "name": "stdout",
          "output_type": "stream",
          "text": [
            "(1028, 4) (1543, 4) (643, 4) (1028,) (1543,) (643,)\n"
          ]
        }
      ],
      "source": [
        "print(features_train.shape, features_valid.shape, features_test.shape, target_train.shape, target_valid.shape, target_test.shape)"
      ]
    },
    {
      "cell_type": "markdown",
      "metadata": {
        "id": "kvLmwtWB-mee"
      },
      "source": [
        "**Вывод**\n",
        "\n",
        "Разделили данные на обучающую, валидационную и тестовую выборки. "
      ]
    },
    {
      "cell_type": "markdown",
      "metadata": {
        "id": "TYRwEsOu-mef"
      },
      "source": [
        "## Исследуйте модели"
      ]
    },
    {
      "cell_type": "markdown",
      "metadata": {
        "id": "IzKa1yTd-mef"
      },
      "source": [
        "### Дерево решений"
      ]
    },
    {
      "cell_type": "code",
      "execution_count": 1,
      "metadata": {
        "colab": {
          "base_uri": "https://localhost:8080/",
          "height": 235
        },
        "id": "7cLyU4WS-meg",
        "outputId": "c33f2392-1a13-4b4d-c84d-9dbe95d1e246"
      },
      "outputs": [
        {
          "output_type": "error",
          "ename": "NameError",
          "evalue": "ignored",
          "traceback": [
            "\u001b[0;31m---------------------------------------------------------------------------\u001b[0m",
            "\u001b[0;31mNameError\u001b[0m                                 Traceback (most recent call last)",
            "\u001b[0;32m<ipython-input-1-bb84c5dbaf72>\u001b[0m in \u001b[0;36m<module>\u001b[0;34m\u001b[0m\n\u001b[1;32m      3\u001b[0m \u001b[0mdd\u001b[0m \u001b[0;34m=\u001b[0m \u001b[0mdict\u001b[0m\u001b[0;34m(\u001b[0m\u001b[0;34m)\u001b[0m \u001b[0;31m#словарь для пары: глубина, погрешность\u001b[0m\u001b[0;34m\u001b[0m\u001b[0;34m\u001b[0m\u001b[0m\n\u001b[1;32m      4\u001b[0m \u001b[0;32mfor\u001b[0m \u001b[0mdepth\u001b[0m \u001b[0;32min\u001b[0m \u001b[0mrange\u001b[0m\u001b[0;34m(\u001b[0m\u001b[0;36m1\u001b[0m\u001b[0;34m,\u001b[0m \u001b[0;36m8\u001b[0m\u001b[0;34m)\u001b[0m\u001b[0;34m:\u001b[0m\u001b[0;34m\u001b[0m\u001b[0;34m\u001b[0m\u001b[0m\n\u001b[0;32m----> 5\u001b[0;31m     \u001b[0mmodel\u001b[0m \u001b[0;34m=\u001b[0m \u001b[0mDecisionTreeClassifier\u001b[0m\u001b[0;34m(\u001b[0m\u001b[0mrandom_state\u001b[0m\u001b[0;34m=\u001b[0m\u001b[0;36m12345\u001b[0m\u001b[0;34m,\u001b[0m \u001b[0mmax_depth\u001b[0m\u001b[0;34m=\u001b[0m\u001b[0mdepth\u001b[0m\u001b[0;34m)\u001b[0m\u001b[0;34m\u001b[0m\u001b[0;34m\u001b[0m\u001b[0m\n\u001b[0m\u001b[1;32m      6\u001b[0m     \u001b[0mmodel\u001b[0m\u001b[0;34m.\u001b[0m\u001b[0mfit\u001b[0m\u001b[0;34m(\u001b[0m\u001b[0mfeatures_train\u001b[0m\u001b[0;34m,\u001b[0m \u001b[0mtarget_train\u001b[0m\u001b[0;34m)\u001b[0m\u001b[0;34m\u001b[0m\u001b[0;34m\u001b[0m\u001b[0m\n\u001b[1;32m      7\u001b[0m     \u001b[0mpredictions\u001b[0m \u001b[0;34m=\u001b[0m \u001b[0mmodel\u001b[0m\u001b[0;34m.\u001b[0m\u001b[0mpredict\u001b[0m\u001b[0;34m(\u001b[0m\u001b[0mfeatures_valid\u001b[0m\u001b[0;34m)\u001b[0m\u001b[0;34m\u001b[0m\u001b[0;34m\u001b[0m\u001b[0m\n",
            "\u001b[0;31mNameError\u001b[0m: name 'DecisionTreeClassifier' is not defined"
          ]
        }
      ],
      "source": [
        "best_model = None\n",
        "best_result = 0\n",
        "dd = dict() #словарь для пары: глубина, погрешность\n",
        "for depth in range(1, 8): \n",
        "    model = DecisionTreeClassifier(random_state=12345, max_depth=depth)\n",
        "    model.fit(features_train, target_train)\n",
        "    predictions = model.predict(features_valid)\n",
        "    accuracy = accuracy_score(target_valid, predictions)\n",
        "    dd[depth] = accuracy\n",
        "    print('depth:', depth, ',' , 'accuracy:' , '{:>1.3f}'.format(accuracy))\n",
        "print('Лучшая модель глубиной', [key for key in dd if dd[key] == max(dd.values())])"
      ]
    },
    {
      "cell_type": "markdown",
      "metadata": {
        "id": "CBk8y13R-meg"
      },
      "source": [
        "<div class=\"alert alert-block alert-success\">\n",
        "<b>Успех:</b> Подбор парамтеров был сделан верно.\n",
        "</div>"
      ]
    },
    {
      "cell_type": "markdown",
      "metadata": {
        "id": "yUaMneyc-mej"
      },
      "source": [
        "### Случайный лес "
      ]
    },
    {
      "cell_type": "code",
      "execution_count": null,
      "metadata": {
        "id": "zjBvE0sD-mel"
      },
      "outputs": [],
      "source": [
        "best_est = 0\n",
        "best_depth = 0\n",
        "best_result = 0\n",
        "for est in range(1, 110, 10):\n",
        "    for depth in range (1, 11):\n",
        "        model = RandomForestClassifier(random_state=12345, n_estimators=est, max_depth=depth) \n",
        "        model.fit(features_train, target_train) \n",
        "        predictions_valid = model.predict(features_valid)\n",
        "        result = model.score(features_valid, target_valid)\n",
        "        if result > best_result:\n",
        "            best_result = result\n",
        "            best_est = est\n",
        "            best_depth = depth\n",
        "            \n",
        "\n",
        "print(\"Количество деревьев:\", best_est, \"Максимальная глубина:\", depth, 'Лучший показатель accuracy:' , '{:>1.3f}'.format(best_result))"
      ]
    },
    {
      "cell_type": "markdown",
      "metadata": {
        "id": "I9ADU_Dn-men"
      },
      "source": [
        "<div class=\"alert alert-block alert-success\">\n",
        "<b>Успех:</b> Хорошо, что в данном случае настраивается сразу несколько параметров.\n",
        "</div>"
      ]
    },
    {
      "cell_type": "markdown",
      "metadata": {
        "id": "XTilfEGP-men"
      },
      "source": [
        "### Логистическая регрессия"
      ]
    },
    {
      "cell_type": "code",
      "execution_count": null,
      "metadata": {
        "id": "PgfKVWl4-men"
      },
      "outputs": [],
      "source": [
        "model =  LogisticRegression(random_state = 12345)\n",
        "model.fit(features_train, target_train)\n",
        "predictions = model.predict(features_valid)\n",
        "result = model.score(features_valid, target_valid)\n",
        "print('Лучший показатель accuracy:', '{:>1.3f}'.format(result))"
      ]
    },
    {
      "cell_type": "markdown",
      "metadata": {
        "id": "1UCXYzjS-meo"
      },
      "source": [
        "**Вывод**\n",
        "\n",
        "Выяснили, что для дерева решений лучшая модель глубиной 6 и 7 со значением accuracy: 0.799\n",
        "\n",
        "Для модели случайный лес лучшие параметры следующие: Количество деревьев: 71 Максимальная глубина: 10 Лучший показатель accuracy: 0.813\n",
        "\n",
        "Для логистической регрессии Лучший показатель accuracy: 0.713"
      ]
    },
    {
      "cell_type": "markdown",
      "metadata": {
        "id": "ukEOH_a9-meo"
      },
      "source": [
        "<div class=\"alert alert-block alert-success\">\n",
        "<b>Успех:</b> Молодец, что попробовала несколько разных моделей.\n",
        "</div>"
      ]
    },
    {
      "cell_type": "markdown",
      "metadata": {
        "id": "yMxg-jhC-meo"
      },
      "source": [
        "## Проверьте модель на тестовой выборке"
      ]
    },
    {
      "cell_type": "code",
      "execution_count": null,
      "metadata": {
        "id": "t0OG_h8D-mep",
        "outputId": "77e56f4c-b3d1-4843-a411-dc04b3a03e96"
      },
      "outputs": [
        {
          "name": "stdout",
          "output_type": "stream",
          "text": [
            "Лучший показатель accuracy: 0.810\n"
          ]
        }
      ],
      "source": [
        "model = RandomForestClassifier(random_state=12345, n_estimators=71, max_depth=10)\n",
        "model.fit(features_train, target_train) \n",
        "predictions = model.predict(features_test) \n",
        "result =  model.score(features_test, target_test)\n",
        "       \n",
        "print('Лучший показатель accuracy:' , '{:>1.3f}'.format(best_result))"
      ]
    },
    {
      "cell_type": "markdown",
      "metadata": {
        "id": "Y-4CTa1X-meq"
      },
      "source": [
        "## (бонус) Проверьте модели на адекватность"
      ]
    },
    {
      "cell_type": "code",
      "execution_count": null,
      "metadata": {
        "id": "izABYNow-meq",
        "outputId": "6487fed3-180d-4fff-dad2-5f495598ed3e"
      },
      "outputs": [
        {
          "name": "stdout",
          "output_type": "stream",
          "text": [
            " 0.6936236391912908\n"
          ]
        }
      ],
      "source": [
        "from sklearn.dummy import DummyClassifier\n",
        "dummy = DummyClassifier(strategy=\"most_frequent\", random_state=12345)\n",
        "dummy.fit(features_train, target_train)\n",
        "result = dummy.score(features_test, target_test)\n",
        "print('', result)"
      ]
    },
    {
      "cell_type": "markdown",
      "metadata": {
        "id": "4_by9zss-mer"
      },
      "source": [
        "**Вывод**\n",
        "\n",
        "Наша модель по качеству лучше константной модели, а значит она не бесполезна."
      ]
    },
    {
      "cell_type": "markdown",
      "metadata": {
        "id": "Dq-LKprr-mes"
      },
      "source": [
        "## Общий вывод"
      ]
    },
    {
      "cell_type": "markdown",
      "metadata": {
        "id": "uXnmbAqb-met"
      },
      "source": [
        "-Разделили данные на выборки.\n",
        "\n",
        "-Сравнили три модели и выяснили, что для дерева решений лучшая модель глубиной 6 и 7 со значением accuracy: 0.799\n",
        "\n",
        "-Для модели случайный лес лучшие параметры следующие: Количество деревьев: 71 Максимальная глубина: 10 Лучший показатель accuracy: 0.813\n",
        "\n",
        "-Для логистической регрессии Лучший показатель accuracy: 0.713\n",
        "\n",
        "-Проверили модель на тестовой выборке\n",
        "\n",
        "-Узнали, что наша модель лучше, чем случайная, а значит, что наша модель с высокой вероятностью сможет порекомендовать подходящий тариф для каждого конкретного пользователя."
      ]
    },
    {
      "cell_type": "code",
      "execution_count": null,
      "metadata": {
        "id": "FjVEa-aM-mev"
      },
      "outputs": [],
      "source": []
    }
  ],
  "metadata": {
    "ExecuteTimeLog": [
      {
        "duration": 1034,
        "start_time": "2022-02-13T06:56:15.547Z"
      },
      {
        "duration": 17,
        "start_time": "2022-02-13T06:56:18.525Z"
      },
      {
        "duration": 13,
        "start_time": "2022-02-13T06:56:28.315Z"
      },
      {
        "duration": 91,
        "start_time": "2022-02-13T07:27:13.815Z"
      },
      {
        "duration": 18,
        "start_time": "2022-02-13T07:27:13.908Z"
      },
      {
        "duration": 8,
        "start_time": "2022-02-13T07:27:13.928Z"
      },
      {
        "duration": 1109,
        "start_time": "2022-02-13T07:27:24.438Z"
      },
      {
        "duration": 17,
        "start_time": "2022-02-13T07:27:25.548Z"
      },
      {
        "duration": 9,
        "start_time": "2022-02-13T07:27:25.567Z"
      },
      {
        "duration": 8,
        "start_time": "2022-02-13T07:33:41.699Z"
      },
      {
        "duration": 4,
        "start_time": "2022-02-13T07:34:49.207Z"
      },
      {
        "duration": 1416,
        "start_time": "2022-02-13T07:34:55.779Z"
      },
      {
        "duration": 20,
        "start_time": "2022-02-13T07:34:57.197Z"
      },
      {
        "duration": 12,
        "start_time": "2022-02-13T07:34:57.219Z"
      },
      {
        "duration": 10,
        "start_time": "2022-02-13T07:34:57.233Z"
      },
      {
        "duration": 86,
        "start_time": "2022-02-13T07:54:28.201Z"
      },
      {
        "duration": 18,
        "start_time": "2022-02-13T07:54:36.218Z"
      },
      {
        "duration": 7,
        "start_time": "2022-02-13T07:54:37.305Z"
      },
      {
        "duration": 7,
        "start_time": "2022-02-13T07:54:46.136Z"
      },
      {
        "duration": 18,
        "start_time": "2022-02-13T10:51:21.665Z"
      },
      {
        "duration": 8,
        "start_time": "2022-02-13T10:51:22.876Z"
      },
      {
        "duration": 16,
        "start_time": "2022-02-13T10:52:12.046Z"
      },
      {
        "duration": 7,
        "start_time": "2022-02-13T10:52:13.104Z"
      },
      {
        "duration": 17,
        "start_time": "2022-02-13T10:52:35.256Z"
      },
      {
        "duration": 6,
        "start_time": "2022-02-13T10:52:36.008Z"
      },
      {
        "duration": 17,
        "start_time": "2022-02-13T10:52:45.531Z"
      },
      {
        "duration": 7,
        "start_time": "2022-02-13T10:52:46.453Z"
      },
      {
        "duration": 18,
        "start_time": "2022-02-13T10:53:00.256Z"
      },
      {
        "duration": 7,
        "start_time": "2022-02-13T10:53:01.118Z"
      },
      {
        "duration": 16,
        "start_time": "2022-02-13T10:53:30.076Z"
      },
      {
        "duration": 8,
        "start_time": "2022-02-13T10:53:31.064Z"
      },
      {
        "duration": 13,
        "start_time": "2022-02-13T10:54:22.827Z"
      },
      {
        "duration": 1095,
        "start_time": "2022-02-13T10:55:12.260Z"
      },
      {
        "duration": 17,
        "start_time": "2022-02-13T10:55:13.357Z"
      },
      {
        "duration": 12,
        "start_time": "2022-02-13T10:55:13.376Z"
      },
      {
        "duration": 6,
        "start_time": "2022-02-13T10:55:13.390Z"
      },
      {
        "duration": 395,
        "start_time": "2022-02-13T10:56:19.113Z"
      },
      {
        "duration": 20,
        "start_time": "2022-02-13T10:56:35.319Z"
      },
      {
        "duration": 1080,
        "start_time": "2022-02-14T09:56:57.317Z"
      },
      {
        "duration": 16,
        "start_time": "2022-02-14T09:56:58.399Z"
      },
      {
        "duration": 10,
        "start_time": "2022-02-14T09:56:58.417Z"
      },
      {
        "duration": 6,
        "start_time": "2022-02-14T09:56:58.428Z"
      },
      {
        "duration": 18,
        "start_time": "2022-02-14T09:56:58.436Z"
      },
      {
        "duration": 3,
        "start_time": "2022-02-14T10:10:35.990Z"
      },
      {
        "duration": 373,
        "start_time": "2022-02-14T11:48:42.619Z"
      },
      {
        "duration": 10,
        "start_time": "2022-02-14T11:49:31.119Z"
      },
      {
        "duration": 3,
        "start_time": "2022-02-14T11:52:28.100Z"
      },
      {
        "duration": 3,
        "start_time": "2022-02-14T11:57:36.846Z"
      },
      {
        "duration": 10,
        "start_time": "2022-02-14T12:01:01.940Z"
      },
      {
        "duration": 4,
        "start_time": "2022-02-14T12:01:02.746Z"
      },
      {
        "duration": 9,
        "start_time": "2022-02-14T12:01:25.517Z"
      },
      {
        "duration": 4,
        "start_time": "2022-02-14T12:01:26.221Z"
      },
      {
        "duration": 1068,
        "start_time": "2022-02-14T12:04:41.676Z"
      },
      {
        "duration": 18,
        "start_time": "2022-02-14T12:04:42.746Z"
      },
      {
        "duration": 24,
        "start_time": "2022-02-14T12:04:42.766Z"
      },
      {
        "duration": 15,
        "start_time": "2022-02-14T12:04:42.792Z"
      },
      {
        "duration": 33,
        "start_time": "2022-02-14T12:04:42.809Z"
      },
      {
        "duration": 4,
        "start_time": "2022-02-14T12:04:42.843Z"
      },
      {
        "duration": 21,
        "start_time": "2022-02-14T12:04:42.848Z"
      },
      {
        "duration": 14,
        "start_time": "2022-02-14T12:04:42.871Z"
      },
      {
        "duration": 9,
        "start_time": "2022-02-14T12:56:34.535Z"
      },
      {
        "duration": 4,
        "start_time": "2022-02-14T12:56:35.361Z"
      },
      {
        "duration": 1012,
        "start_time": "2022-02-14T12:57:17.129Z"
      },
      {
        "duration": 17,
        "start_time": "2022-02-14T12:57:18.143Z"
      },
      {
        "duration": 9,
        "start_time": "2022-02-14T12:57:18.162Z"
      },
      {
        "duration": 5,
        "start_time": "2022-02-14T12:57:18.173Z"
      },
      {
        "duration": 22,
        "start_time": "2022-02-14T12:57:18.179Z"
      },
      {
        "duration": 3,
        "start_time": "2022-02-14T12:57:18.202Z"
      },
      {
        "duration": 9,
        "start_time": "2022-02-14T12:57:18.207Z"
      },
      {
        "duration": 3,
        "start_time": "2022-02-14T12:57:18.218Z"
      },
      {
        "duration": 7,
        "start_time": "2022-02-14T16:02:17.663Z"
      },
      {
        "duration": 4,
        "start_time": "2022-02-14T16:02:18.837Z"
      },
      {
        "duration": 18,
        "start_time": "2022-02-14T16:02:58.478Z"
      },
      {
        "duration": 2748,
        "start_time": "2022-02-14T16:05:59.909Z"
      },
      {
        "duration": 5007,
        "start_time": "2022-02-14T16:06:47.511Z"
      },
      {
        "duration": 5028,
        "start_time": "2022-02-14T16:07:15.129Z"
      },
      {
        "duration": 386,
        "start_time": "2022-02-14T16:14:24.221Z"
      },
      {
        "duration": 355,
        "start_time": "2022-02-14T16:14:33.672Z"
      },
      {
        "duration": 292,
        "start_time": "2022-02-14T16:15:14.559Z"
      },
      {
        "duration": 281,
        "start_time": "2022-02-14T16:19:18.653Z"
      },
      {
        "duration": 306,
        "start_time": "2022-02-14T16:19:53.069Z"
      },
      {
        "duration": 1560,
        "start_time": "2022-02-14T16:20:07.093Z"
      },
      {
        "duration": 26,
        "start_time": "2022-02-14T16:20:08.655Z"
      },
      {
        "duration": 10,
        "start_time": "2022-02-14T16:20:08.682Z"
      },
      {
        "duration": 6,
        "start_time": "2022-02-14T16:20:08.693Z"
      },
      {
        "duration": 19,
        "start_time": "2022-02-14T16:20:08.701Z"
      },
      {
        "duration": 3,
        "start_time": "2022-02-14T16:20:08.722Z"
      },
      {
        "duration": 8,
        "start_time": "2022-02-14T16:20:08.727Z"
      },
      {
        "duration": 3,
        "start_time": "2022-02-14T16:20:08.737Z"
      },
      {
        "duration": 35,
        "start_time": "2022-02-14T16:20:08.742Z"
      },
      {
        "duration": 5,
        "start_time": "2022-02-14T16:20:08.778Z"
      },
      {
        "duration": 1333,
        "start_time": "2022-02-14T16:20:08.785Z"
      },
      {
        "duration": 321,
        "start_time": "2022-02-14T16:20:09.798Z"
      },
      {
        "duration": 317,
        "start_time": "2022-02-14T16:20:09.803Z"
      },
      {
        "duration": 275,
        "start_time": "2022-02-14T16:21:57.472Z"
      },
      {
        "duration": 377,
        "start_time": "2022-02-14T16:22:21.888Z"
      },
      {
        "duration": 1095,
        "start_time": "2022-02-15T05:34:53.863Z"
      },
      {
        "duration": 14,
        "start_time": "2022-02-15T05:34:54.960Z"
      },
      {
        "duration": 26,
        "start_time": "2022-02-15T05:34:54.976Z"
      },
      {
        "duration": 14,
        "start_time": "2022-02-15T05:34:55.004Z"
      },
      {
        "duration": 43,
        "start_time": "2022-02-15T05:34:55.020Z"
      },
      {
        "duration": 8,
        "start_time": "2022-02-15T05:34:55.065Z"
      },
      {
        "duration": 31,
        "start_time": "2022-02-15T05:34:55.075Z"
      },
      {
        "duration": 4,
        "start_time": "2022-02-15T05:34:55.108Z"
      },
      {
        "duration": 40,
        "start_time": "2022-02-15T05:34:55.115Z"
      },
      {
        "duration": 16,
        "start_time": "2022-02-15T05:34:55.157Z"
      },
      {
        "duration": 3551,
        "start_time": "2022-02-15T05:34:55.175Z"
      },
      {
        "duration": 5491,
        "start_time": "2022-02-15T05:34:58.735Z"
      },
      {
        "duration": 308,
        "start_time": "2022-02-15T05:36:02.382Z"
      },
      {
        "duration": 1147,
        "start_time": "2022-02-15T05:37:03.288Z"
      },
      {
        "duration": 19,
        "start_time": "2022-02-15T05:37:04.437Z"
      },
      {
        "duration": 12,
        "start_time": "2022-02-15T05:37:04.459Z"
      },
      {
        "duration": 7,
        "start_time": "2022-02-15T05:37:04.474Z"
      },
      {
        "duration": 36,
        "start_time": "2022-02-15T05:37:04.483Z"
      },
      {
        "duration": 5,
        "start_time": "2022-02-15T05:37:04.521Z"
      },
      {
        "duration": 12,
        "start_time": "2022-02-15T05:37:04.527Z"
      },
      {
        "duration": 4,
        "start_time": "2022-02-15T05:37:04.541Z"
      },
      {
        "duration": 7,
        "start_time": "2022-02-15T05:37:04.547Z"
      },
      {
        "duration": 7,
        "start_time": "2022-02-15T05:37:04.556Z"
      },
      {
        "duration": 58,
        "start_time": "2022-02-15T05:37:04.565Z"
      },
      {
        "duration": 2993,
        "start_time": "2022-02-15T05:37:04.625Z"
      },
      {
        "duration": 5611,
        "start_time": "2022-02-15T05:37:07.620Z"
      },
      {
        "duration": 327,
        "start_time": "2022-02-15T05:41:52.823Z"
      },
      {
        "duration": 217,
        "start_time": "2022-02-15T05:42:04.342Z"
      },
      {
        "duration": 202,
        "start_time": "2022-02-15T05:42:37.190Z"
      },
      {
        "duration": 1192,
        "start_time": "2022-02-15T05:43:27.303Z"
      },
      {
        "duration": 19,
        "start_time": "2022-02-15T05:43:28.497Z"
      },
      {
        "duration": 12,
        "start_time": "2022-02-15T05:43:28.517Z"
      },
      {
        "duration": 6,
        "start_time": "2022-02-15T05:43:28.530Z"
      },
      {
        "duration": 21,
        "start_time": "2022-02-15T05:43:28.538Z"
      },
      {
        "duration": 4,
        "start_time": "2022-02-15T05:43:28.560Z"
      },
      {
        "duration": 10,
        "start_time": "2022-02-15T05:43:28.566Z"
      },
      {
        "duration": 4,
        "start_time": "2022-02-15T05:43:28.578Z"
      },
      {
        "duration": 371,
        "start_time": "2022-02-15T05:43:28.618Z"
      },
      {
        "duration": 275,
        "start_time": "2022-02-15T05:43:28.716Z"
      },
      {
        "duration": 269,
        "start_time": "2022-02-15T05:43:28.723Z"
      },
      {
        "duration": 266,
        "start_time": "2022-02-15T05:43:28.727Z"
      },
      {
        "duration": 250,
        "start_time": "2022-02-15T05:43:28.744Z"
      },
      {
        "duration": 28,
        "start_time": "2022-02-15T05:49:06.056Z"
      },
      {
        "duration": 3043,
        "start_time": "2022-02-15T05:49:11.620Z"
      },
      {
        "duration": 25,
        "start_time": "2022-02-15T05:51:30.114Z"
      },
      {
        "duration": 213,
        "start_time": "2022-02-15T05:52:29.647Z"
      },
      {
        "duration": 207,
        "start_time": "2022-02-15T05:52:41.720Z"
      },
      {
        "duration": 24,
        "start_time": "2022-02-15T05:52:47.715Z"
      },
      {
        "duration": 24,
        "start_time": "2022-02-15T05:52:57.219Z"
      },
      {
        "duration": 207,
        "start_time": "2022-02-15T05:58:40.868Z"
      },
      {
        "duration": 213,
        "start_time": "2022-02-15T05:58:54.700Z"
      },
      {
        "duration": 211,
        "start_time": "2022-02-15T06:03:08.674Z"
      },
      {
        "duration": 25,
        "start_time": "2022-02-15T06:06:15.596Z"
      },
      {
        "duration": 24,
        "start_time": "2022-02-15T06:06:23.061Z"
      },
      {
        "duration": 298,
        "start_time": "2022-02-15T06:07:38.345Z"
      },
      {
        "duration": 207,
        "start_time": "2022-02-15T06:07:50.537Z"
      },
      {
        "duration": 318,
        "start_time": "2022-02-15T06:07:54.128Z"
      },
      {
        "duration": 26,
        "start_time": "2022-02-15T06:08:31.703Z"
      },
      {
        "duration": 75,
        "start_time": "2022-02-15T06:09:32.886Z"
      },
      {
        "duration": 25,
        "start_time": "2022-02-15T06:09:42.493Z"
      },
      {
        "duration": 219,
        "start_time": "2022-02-15T06:10:01.611Z"
      },
      {
        "duration": 312,
        "start_time": "2022-02-15T06:10:05.926Z"
      },
      {
        "duration": 24,
        "start_time": "2022-02-15T06:10:54.248Z"
      },
      {
        "duration": 24,
        "start_time": "2022-02-15T06:10:59.492Z"
      },
      {
        "duration": 22,
        "start_time": "2022-02-15T06:11:04.351Z"
      },
      {
        "duration": 23,
        "start_time": "2022-02-15T06:11:19.169Z"
      },
      {
        "duration": 23,
        "start_time": "2022-02-15T06:11:41.801Z"
      },
      {
        "duration": 24,
        "start_time": "2022-02-15T06:11:57.814Z"
      },
      {
        "duration": 25,
        "start_time": "2022-02-15T06:12:46.782Z"
      },
      {
        "duration": 95,
        "start_time": "2022-02-15T06:12:57.892Z"
      },
      {
        "duration": 122,
        "start_time": "2022-02-15T06:13:01.514Z"
      },
      {
        "duration": 25,
        "start_time": "2022-02-15T06:13:04.561Z"
      },
      {
        "duration": 25,
        "start_time": "2022-02-15T06:13:10.997Z"
      },
      {
        "duration": 26,
        "start_time": "2022-02-15T06:13:14.278Z"
      },
      {
        "duration": 1160,
        "start_time": "2022-02-15T06:13:33.784Z"
      },
      {
        "duration": 14,
        "start_time": "2022-02-15T06:13:34.946Z"
      },
      {
        "duration": 11,
        "start_time": "2022-02-15T06:13:34.962Z"
      },
      {
        "duration": 7,
        "start_time": "2022-02-15T06:13:34.975Z"
      },
      {
        "duration": 41,
        "start_time": "2022-02-15T06:13:34.983Z"
      },
      {
        "duration": 4,
        "start_time": "2022-02-15T06:13:35.026Z"
      },
      {
        "duration": 11,
        "start_time": "2022-02-15T06:13:35.032Z"
      },
      {
        "duration": 4,
        "start_time": "2022-02-15T06:13:35.045Z"
      },
      {
        "duration": 27,
        "start_time": "2022-02-15T06:13:35.050Z"
      },
      {
        "duration": 3157,
        "start_time": "2022-02-15T06:13:35.079Z"
      },
      {
        "duration": 5388,
        "start_time": "2022-02-15T06:13:38.238Z"
      },
      {
        "duration": 293,
        "start_time": "2022-02-15T06:14:31.493Z"
      },
      {
        "duration": 250,
        "start_time": "2022-02-15T06:14:54.552Z"
      },
      {
        "duration": 219,
        "start_time": "2022-02-15T06:15:48.218Z"
      },
      {
        "duration": 233,
        "start_time": "2022-02-15T06:16:44.789Z"
      },
      {
        "duration": 309,
        "start_time": "2022-02-15T06:17:00.768Z"
      },
      {
        "duration": 337,
        "start_time": "2022-02-15T06:25:34.376Z"
      },
      {
        "duration": 334,
        "start_time": "2022-02-15T06:29:17.903Z"
      },
      {
        "duration": 3231,
        "start_time": "2022-02-15T06:41:28.482Z"
      },
      {
        "duration": 92886,
        "start_time": "2022-02-15T06:41:49.748Z"
      },
      {
        "duration": 11039,
        "start_time": "2022-02-15T08:46:50.564Z"
      },
      {
        "duration": 104443,
        "start_time": "2022-02-15T08:48:10.792Z"
      },
      {
        "duration": 12377,
        "start_time": "2022-02-15T08:50:28.572Z"
      },
      {
        "duration": 11523,
        "start_time": "2022-02-15T08:54:59.179Z"
      },
      {
        "duration": 32730,
        "start_time": "2022-02-15T08:56:51.767Z"
      },
      {
        "duration": 299,
        "start_time": "2022-02-15T09:02:08.977Z"
      },
      {
        "duration": 12281,
        "start_time": "2022-02-15T09:02:37.375Z"
      },
      {
        "duration": 320,
        "start_time": "2022-02-15T09:03:03.662Z"
      },
      {
        "duration": 8,
        "start_time": "2022-02-15T09:06:26.656Z"
      },
      {
        "duration": 1164,
        "start_time": "2022-02-15T09:06:33.488Z"
      },
      {
        "duration": 18,
        "start_time": "2022-02-15T09:06:34.654Z"
      },
      {
        "duration": 25,
        "start_time": "2022-02-15T09:06:34.674Z"
      },
      {
        "duration": 26,
        "start_time": "2022-02-15T09:06:34.701Z"
      },
      {
        "duration": 40,
        "start_time": "2022-02-15T09:06:34.729Z"
      },
      {
        "duration": 4,
        "start_time": "2022-02-15T09:06:34.771Z"
      },
      {
        "duration": 17,
        "start_time": "2022-02-15T09:06:34.777Z"
      },
      {
        "duration": 4,
        "start_time": "2022-02-15T09:06:34.797Z"
      },
      {
        "duration": 40,
        "start_time": "2022-02-15T09:06:34.803Z"
      },
      {
        "duration": 14593,
        "start_time": "2022-02-15T09:06:34.845Z"
      },
      {
        "duration": 353,
        "start_time": "2022-02-15T09:06:49.440Z"
      },
      {
        "duration": 59,
        "start_time": "2022-02-15T09:08:10.775Z"
      },
      {
        "duration": 44,
        "start_time": "2022-02-15T09:14:42.068Z"
      },
      {
        "duration": 51,
        "start_time": "2022-02-15T09:14:59.055Z"
      },
      {
        "duration": 778,
        "start_time": "2022-02-15T09:15:12.046Z"
      },
      {
        "duration": 35,
        "start_time": "2022-02-15T09:15:28.229Z"
      },
      {
        "duration": 299,
        "start_time": "2022-02-15T09:18:57.372Z"
      },
      {
        "duration": 1302,
        "start_time": "2022-02-15T09:19:30.528Z"
      },
      {
        "duration": 14,
        "start_time": "2022-02-15T09:19:31.833Z"
      },
      {
        "duration": 30,
        "start_time": "2022-02-15T09:19:31.850Z"
      },
      {
        "duration": 9,
        "start_time": "2022-02-15T09:19:31.883Z"
      },
      {
        "duration": 42,
        "start_time": "2022-02-15T09:19:31.894Z"
      },
      {
        "duration": 4,
        "start_time": "2022-02-15T09:19:31.939Z"
      },
      {
        "duration": 18,
        "start_time": "2022-02-15T09:19:31.946Z"
      },
      {
        "duration": 4,
        "start_time": "2022-02-15T09:19:31.968Z"
      },
      {
        "duration": 74,
        "start_time": "2022-02-15T09:19:31.975Z"
      },
      {
        "duration": 37,
        "start_time": "2022-02-15T09:19:32.051Z"
      },
      {
        "duration": 12740,
        "start_time": "2022-02-15T09:19:32.089Z"
      },
      {
        "duration": 307,
        "start_time": "2022-02-15T09:19:44.831Z"
      },
      {
        "duration": 1093,
        "start_time": "2022-02-15T09:23:37.070Z"
      },
      {
        "duration": 13,
        "start_time": "2022-02-15T09:23:38.165Z"
      },
      {
        "duration": 31,
        "start_time": "2022-02-15T09:23:38.180Z"
      },
      {
        "duration": 26,
        "start_time": "2022-02-15T09:23:38.213Z"
      },
      {
        "duration": 27,
        "start_time": "2022-02-15T09:23:38.240Z"
      },
      {
        "duration": 4,
        "start_time": "2022-02-15T09:23:38.268Z"
      },
      {
        "duration": 11,
        "start_time": "2022-02-15T09:23:38.274Z"
      },
      {
        "duration": 4,
        "start_time": "2022-02-15T09:23:38.287Z"
      },
      {
        "duration": 47,
        "start_time": "2022-02-15T09:23:38.293Z"
      },
      {
        "duration": 11659,
        "start_time": "2022-02-15T09:23:38.342Z"
      },
      {
        "duration": 382,
        "start_time": "2022-02-15T09:23:50.003Z"
      },
      {
        "duration": 11,
        "start_time": "2022-02-15T09:30:51.294Z"
      },
      {
        "duration": 10,
        "start_time": "2022-02-15T09:31:22.329Z"
      },
      {
        "duration": 10,
        "start_time": "2022-02-15T09:32:25.550Z"
      },
      {
        "duration": 11,
        "start_time": "2022-02-15T09:36:11.701Z"
      },
      {
        "duration": 11,
        "start_time": "2022-02-15T09:36:28.302Z"
      },
      {
        "duration": 205,
        "start_time": "2022-02-15T09:37:46.648Z"
      },
      {
        "duration": 198,
        "start_time": "2022-02-15T09:38:01.909Z"
      },
      {
        "duration": 6,
        "start_time": "2022-02-15T09:41:19.307Z"
      },
      {
        "duration": 1478,
        "start_time": "2022-02-15T11:56:42.176Z"
      },
      {
        "duration": 34,
        "start_time": "2022-02-15T11:56:43.656Z"
      },
      {
        "duration": 15,
        "start_time": "2022-02-15T11:56:43.693Z"
      },
      {
        "duration": 12,
        "start_time": "2022-02-15T11:56:43.711Z"
      },
      {
        "duration": 33,
        "start_time": "2022-02-15T11:56:43.725Z"
      },
      {
        "duration": 4,
        "start_time": "2022-02-15T11:56:43.761Z"
      },
      {
        "duration": 14,
        "start_time": "2022-02-15T11:56:43.767Z"
      },
      {
        "duration": 29,
        "start_time": "2022-02-15T11:56:43.784Z"
      },
      {
        "duration": 52,
        "start_time": "2022-02-15T11:56:43.815Z"
      },
      {
        "duration": 18444,
        "start_time": "2022-02-15T11:56:43.869Z"
      },
      {
        "duration": 19,
        "start_time": "2022-02-15T11:57:02.315Z"
      },
      {
        "duration": 312,
        "start_time": "2022-02-15T11:57:02.337Z"
      },
      {
        "duration": 11,
        "start_time": "2022-02-15T11:57:02.652Z"
      },
      {
        "duration": 5,
        "start_time": "2022-02-15T11:58:05.006Z"
      },
      {
        "duration": 1303,
        "start_time": "2022-02-15T11:58:11.332Z"
      },
      {
        "duration": 33,
        "start_time": "2022-02-15T11:58:12.638Z"
      },
      {
        "duration": 21,
        "start_time": "2022-02-15T11:58:12.673Z"
      },
      {
        "duration": 8,
        "start_time": "2022-02-15T11:58:12.697Z"
      },
      {
        "duration": 35,
        "start_time": "2022-02-15T11:58:12.711Z"
      },
      {
        "duration": 4,
        "start_time": "2022-02-15T11:58:12.749Z"
      },
      {
        "duration": 15,
        "start_time": "2022-02-15T11:58:12.756Z"
      },
      {
        "duration": 41,
        "start_time": "2022-02-15T11:58:12.774Z"
      },
      {
        "duration": 57,
        "start_time": "2022-02-15T11:58:12.817Z"
      },
      {
        "duration": 18210,
        "start_time": "2022-02-15T11:58:12.876Z"
      },
      {
        "duration": 27,
        "start_time": "2022-02-15T11:58:31.089Z"
      },
      {
        "duration": 296,
        "start_time": "2022-02-15T11:58:31.119Z"
      },
      {
        "duration": 8,
        "start_time": "2022-02-15T11:58:31.417Z"
      },
      {
        "duration": 9,
        "start_time": "2022-02-15T12:42:47.579Z"
      },
      {
        "duration": 10,
        "start_time": "2022-02-15T12:44:28.648Z"
      },
      {
        "duration": 1041,
        "start_time": "2022-02-15T13:45:20.012Z"
      },
      {
        "duration": 28,
        "start_time": "2022-02-15T13:45:21.054Z"
      },
      {
        "duration": 26,
        "start_time": "2022-02-15T13:45:21.084Z"
      },
      {
        "duration": 25,
        "start_time": "2022-02-15T13:45:21.112Z"
      },
      {
        "duration": 33,
        "start_time": "2022-02-15T13:45:21.139Z"
      },
      {
        "duration": 7,
        "start_time": "2022-02-15T13:45:21.174Z"
      },
      {
        "duration": 28,
        "start_time": "2022-02-15T13:45:21.182Z"
      },
      {
        "duration": 15,
        "start_time": "2022-02-15T13:45:21.212Z"
      },
      {
        "duration": 55,
        "start_time": "2022-02-15T13:45:21.229Z"
      },
      {
        "duration": 10912,
        "start_time": "2022-02-15T13:45:21.285Z"
      },
      {
        "duration": 8,
        "start_time": "2022-02-15T13:45:32.198Z"
      },
      {
        "duration": 186,
        "start_time": "2022-02-15T13:45:32.208Z"
      },
      {
        "duration": 5,
        "start_time": "2022-02-15T13:45:32.395Z"
      },
      {
        "duration": 993,
        "start_time": "2022-02-15T14:01:42.355Z"
      },
      {
        "duration": 27,
        "start_time": "2022-02-15T14:01:43.349Z"
      },
      {
        "duration": 13,
        "start_time": "2022-02-15T14:01:43.378Z"
      },
      {
        "duration": 16,
        "start_time": "2022-02-15T14:01:43.393Z"
      },
      {
        "duration": 30,
        "start_time": "2022-02-15T14:01:43.410Z"
      },
      {
        "duration": 3,
        "start_time": "2022-02-15T14:01:43.441Z"
      },
      {
        "duration": 20,
        "start_time": "2022-02-15T14:01:43.446Z"
      },
      {
        "duration": 10,
        "start_time": "2022-02-15T14:01:43.468Z"
      },
      {
        "duration": 41,
        "start_time": "2022-02-15T14:01:43.479Z"
      },
      {
        "duration": 10820,
        "start_time": "2022-02-15T14:01:43.521Z"
      },
      {
        "duration": 9,
        "start_time": "2022-02-15T14:01:54.342Z"
      },
      {
        "duration": 189,
        "start_time": "2022-02-15T14:01:54.353Z"
      },
      {
        "duration": 5,
        "start_time": "2022-02-15T14:01:54.543Z"
      },
      {
        "duration": 1081,
        "start_time": "2022-02-16T06:29:25.679Z"
      },
      {
        "duration": 28,
        "start_time": "2022-02-16T06:29:26.762Z"
      },
      {
        "duration": 19,
        "start_time": "2022-02-16T06:29:26.792Z"
      },
      {
        "duration": 21,
        "start_time": "2022-02-16T06:29:26.813Z"
      },
      {
        "duration": 35,
        "start_time": "2022-02-16T06:29:26.836Z"
      },
      {
        "duration": 4,
        "start_time": "2022-02-16T06:29:26.872Z"
      },
      {
        "duration": 36,
        "start_time": "2022-02-16T06:29:26.878Z"
      },
      {
        "duration": 11,
        "start_time": "2022-02-16T06:29:26.917Z"
      },
      {
        "duration": 48,
        "start_time": "2022-02-16T06:29:26.930Z"
      },
      {
        "duration": 9552,
        "start_time": "2022-02-16T06:29:26.979Z"
      },
      {
        "duration": 11,
        "start_time": "2022-02-16T06:29:36.532Z"
      },
      {
        "duration": 148,
        "start_time": "2022-02-16T06:29:36.544Z"
      },
      {
        "duration": 5,
        "start_time": "2022-02-16T06:29:36.695Z"
      },
      {
        "duration": 1038,
        "start_time": "2022-02-16T06:41:55.185Z"
      },
      {
        "duration": 28,
        "start_time": "2022-02-16T06:41:56.225Z"
      },
      {
        "duration": 16,
        "start_time": "2022-02-16T06:41:56.255Z"
      },
      {
        "duration": 6,
        "start_time": "2022-02-16T06:41:56.273Z"
      },
      {
        "duration": 25,
        "start_time": "2022-02-16T06:41:56.281Z"
      },
      {
        "duration": 3,
        "start_time": "2022-02-16T06:41:56.308Z"
      },
      {
        "duration": 14,
        "start_time": "2022-02-16T06:41:56.313Z"
      },
      {
        "duration": 4,
        "start_time": "2022-02-16T06:41:56.329Z"
      },
      {
        "duration": 54,
        "start_time": "2022-02-16T06:41:56.334Z"
      },
      {
        "duration": 9587,
        "start_time": "2022-02-16T06:41:56.390Z"
      },
      {
        "duration": 10,
        "start_time": "2022-02-16T06:42:05.978Z"
      },
      {
        "duration": 161,
        "start_time": "2022-02-16T06:42:05.989Z"
      },
      {
        "duration": 17,
        "start_time": "2022-02-16T06:42:06.151Z"
      },
      {
        "duration": 321,
        "start_time": "2022-02-16T10:50:05.963Z"
      },
      {
        "duration": 1085,
        "start_time": "2022-02-16T10:50:17.630Z"
      },
      {
        "duration": 28,
        "start_time": "2022-02-16T10:50:18.717Z"
      },
      {
        "duration": 16,
        "start_time": "2022-02-16T10:50:18.747Z"
      },
      {
        "duration": 8,
        "start_time": "2022-02-16T10:50:18.765Z"
      },
      {
        "duration": 26,
        "start_time": "2022-02-16T10:50:18.775Z"
      },
      {
        "duration": 3,
        "start_time": "2022-02-16T10:50:18.803Z"
      },
      {
        "duration": 315,
        "start_time": "2022-02-16T10:50:18.808Z"
      },
      {
        "duration": 533,
        "start_time": "2022-02-16T10:50:18.592Z"
      },
      {
        "duration": 505,
        "start_time": "2022-02-16T10:50:18.622Z"
      },
      {
        "duration": 496,
        "start_time": "2022-02-16T10:50:18.632Z"
      },
      {
        "duration": 481,
        "start_time": "2022-02-16T10:50:18.649Z"
      },
      {
        "duration": 429,
        "start_time": "2022-02-16T10:50:18.703Z"
      },
      {
        "duration": 422,
        "start_time": "2022-02-16T10:50:18.711Z"
      },
      {
        "duration": 225,
        "start_time": "2022-02-16T10:51:43.857Z"
      },
      {
        "duration": 8,
        "start_time": "2022-02-16T10:53:15.377Z"
      },
      {
        "duration": 258,
        "start_time": "2022-02-16T10:53:18.035Z"
      },
      {
        "duration": 6,
        "start_time": "2022-02-16T10:57:53.012Z"
      },
      {
        "duration": 4,
        "start_time": "2022-02-16T10:57:53.904Z"
      },
      {
        "duration": 1180,
        "start_time": "2022-02-16T10:58:06.855Z"
      },
      {
        "duration": 19,
        "start_time": "2022-02-16T10:58:08.037Z"
      },
      {
        "duration": 26,
        "start_time": "2022-02-16T10:58:08.058Z"
      },
      {
        "duration": 26,
        "start_time": "2022-02-16T10:58:08.086Z"
      },
      {
        "duration": 43,
        "start_time": "2022-02-16T10:58:08.114Z"
      },
      {
        "duration": 10,
        "start_time": "2022-02-16T10:58:08.158Z"
      },
      {
        "duration": 26,
        "start_time": "2022-02-16T10:58:08.169Z"
      },
      {
        "duration": 8,
        "start_time": "2022-02-16T10:58:08.197Z"
      },
      {
        "duration": 8,
        "start_time": "2022-02-16T10:58:08.207Z"
      },
      {
        "duration": 327,
        "start_time": "2022-02-16T10:58:08.216Z"
      },
      {
        "duration": 499,
        "start_time": "2022-02-16T10:58:08.046Z"
      },
      {
        "duration": 480,
        "start_time": "2022-02-16T10:58:08.067Z"
      },
      {
        "duration": 467,
        "start_time": "2022-02-16T10:58:08.081Z"
      },
      {
        "duration": 463,
        "start_time": "2022-02-16T10:58:08.086Z"
      },
      {
        "duration": 11,
        "start_time": "2022-02-16T11:05:18.220Z"
      },
      {
        "duration": 5,
        "start_time": "2022-02-16T11:05:19.017Z"
      },
      {
        "duration": 1121,
        "start_time": "2022-02-16T11:05:34.412Z"
      },
      {
        "duration": 21,
        "start_time": "2022-02-16T11:05:35.535Z"
      },
      {
        "duration": 22,
        "start_time": "2022-02-16T11:05:35.558Z"
      },
      {
        "duration": 13,
        "start_time": "2022-02-16T11:05:35.582Z"
      },
      {
        "duration": 34,
        "start_time": "2022-02-16T11:05:35.597Z"
      },
      {
        "duration": 4,
        "start_time": "2022-02-16T11:05:35.633Z"
      },
      {
        "duration": 32,
        "start_time": "2022-02-16T11:05:35.639Z"
      },
      {
        "duration": 5,
        "start_time": "2022-02-16T11:05:35.674Z"
      },
      {
        "duration": 62,
        "start_time": "2022-02-16T11:05:35.682Z"
      },
      {
        "duration": 15052,
        "start_time": "2022-02-16T11:05:35.746Z"
      },
      {
        "duration": 12,
        "start_time": "2022-02-16T11:05:50.800Z"
      },
      {
        "duration": 290,
        "start_time": "2022-02-16T11:05:50.814Z"
      },
      {
        "duration": 6,
        "start_time": "2022-02-16T11:05:51.106Z"
      },
      {
        "duration": 1136,
        "start_time": "2022-02-16T11:06:06.398Z"
      },
      {
        "duration": 24,
        "start_time": "2022-02-16T11:06:07.537Z"
      },
      {
        "duration": 25,
        "start_time": "2022-02-16T11:06:07.564Z"
      },
      {
        "duration": 7,
        "start_time": "2022-02-16T11:06:07.591Z"
      },
      {
        "duration": 27,
        "start_time": "2022-02-16T11:06:07.600Z"
      },
      {
        "duration": 4,
        "start_time": "2022-02-16T11:06:07.629Z"
      },
      {
        "duration": 41,
        "start_time": "2022-02-16T11:06:07.635Z"
      },
      {
        "duration": 5,
        "start_time": "2022-02-16T11:06:07.679Z"
      },
      {
        "duration": 38,
        "start_time": "2022-02-16T11:06:07.686Z"
      },
      {
        "duration": 11973,
        "start_time": "2022-02-16T11:06:07.727Z"
      },
      {
        "duration": 12,
        "start_time": "2022-02-16T11:06:19.702Z"
      },
      {
        "duration": 197,
        "start_time": "2022-02-16T11:06:19.716Z"
      },
      {
        "duration": 6,
        "start_time": "2022-02-16T11:06:19.914Z"
      }
    ],
    "kernelspec": {
      "display_name": "Python 3 (ipykernel)",
      "language": "python",
      "name": "python3"
    },
    "language_info": {
      "codemirror_mode": {
        "name": "ipython",
        "version": 3
      },
      "file_extension": ".py",
      "mimetype": "text/x-python",
      "name": "python",
      "nbconvert_exporter": "python",
      "pygments_lexer": "ipython3",
      "version": "3.9.5"
    },
    "toc": {
      "base_numbering": 1,
      "nav_menu": {},
      "number_sections": true,
      "sideBar": true,
      "skip_h1_title": true,
      "title_cell": "Table of Contents",
      "title_sidebar": "Contents",
      "toc_cell": false,
      "toc_position": {},
      "toc_section_display": true,
      "toc_window_display": false
    },
    "colab": {
      "provenance": []
    }
  },
  "nbformat": 4,
  "nbformat_minor": 0
}